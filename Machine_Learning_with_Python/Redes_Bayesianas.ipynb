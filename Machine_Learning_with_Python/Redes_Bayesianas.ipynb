{
  "nbformat": 4,
  "nbformat_minor": 0,
  "metadata": {
    "colab": {
      "name": "Redes Bayesianas.ipynb",
      "provenance": [],
      "collapsed_sections": [],
      "authorship_tag": "ABX9TyNRg5kJtSn2iL+rjvwzXnKS",
      "include_colab_link": true
    },
    "kernelspec": {
      "name": "python3",
      "display_name": "Python 3"
    }
  },
  "cells": [
    {
      "cell_type": "markdown",
      "metadata": {
        "id": "view-in-github",
        "colab_type": "text"
      },
      "source": [
        "<a href=\"https://colab.research.google.com/github/IonaSantana/Artificial-Intelligence/blob/main/Redes_Bayesianas.ipynb\" target=\"_parent\"><img src=\"https://colab.research.google.com/assets/colab-badge.svg\" alt=\"Open In Colab\"/></a>"
      ]
    },
    {
      "cell_type": "markdown",
      "metadata": {
        "id": "NyBSahuuIUeE"
      },
      "source": [
        "## REDES BAYESIANAS "
      ]
    },
    {
      "cell_type": "code",
      "metadata": {
        "id": "GnDst0RgIuHc"
      },
      "source": [
        "pip install matplotlib"
      ],
      "execution_count": null,
      "outputs": []
    },
    {
      "cell_type": "code",
      "metadata": {
        "id": "hYV0JAwVI1cy"
      },
      "source": [
        "pip install pomegranate"
      ],
      "execution_count": null,
      "outputs": []
    },
    {
      "cell_type": "code",
      "metadata": {
        "id": "LJheHhOi8kNg"
      },
      "source": [
        "import pomegranate as po\n",
        "from matplotlib import *\n",
        "#from graphviz import * #se não der certo apaga esse"
      ],
      "execution_count": null,
      "outputs": []
    },
    {
      "cell_type": "code",
      "metadata": {
        "id": "iYTbKjDb-knB"
      },
      "source": [
        "from graphviz import Source\n",
        "from IPython.core.magic import register_cell_magic\n",
        "\n",
        "@register_cell_magic\n",
        "def graph(line, cell):\n",
        "  src = \"digraph {%s}\" % cell\n",
        "  g = Source(src)\n",
        "  if line:\n",
        "    name = line.split()[0]\n",
        "    globals()[name] = g\n",
        "  else:\n",
        "    return g"
      ],
      "execution_count": null,
      "outputs": []
    },
    {
      "cell_type": "markdown",
      "metadata": {
        "id": "qQDGuHhpR28V"
      },
      "source": [
        "## **VIDA NA FACULDADE**"
      ]
    },
    {
      "cell_type": "code",
      "metadata": {
        "id": "hTHUyCiAKizL",
        "colab": {
          "base_uri": "https://localhost:8080/"
        },
        "outputId": "6c784dab-3f75-44ac-b1e7-e2f38ad51ad0"
      },
      "source": [
        "'''\n",
        "C= que você ingressará em uma faculdade\n",
        "S= que você estudará\n",
        "P= que você frequentará festas\n",
        "E= que você será bem sucedido nos seus exames\n",
        "F= que você se divertirá\n",
        "'''\n",
        "\n",
        "C = po.DiscreteDistribution({\"V\":0.2, \"F\": 0.8})\n",
        "\n",
        "S = po.ConditionalProbabilityTable([\n",
        "    [\"V\", \"V\", 0.8],\n",
        "    [\"V\", \"F\", 0.2],\n",
        "    [\"F\", \"V\", 0.2],     \n",
        "    [\"F\", \"F\", 0.8]                                \n",
        "], [C])\n",
        "\n",
        "P = po.ConditionalProbabilityTable ([\n",
        "    [\"V\", \"V\", 0.6],\n",
        "    [\"V\", \"F\", 0.4],\n",
        "    [\"F\", \"V\", 0.5],     \n",
        "    [\"F\", \"F\", 0.5]                                  \n",
        "                                  \n",
        "], [C])\n",
        "\n",
        "F = po.ConditionalProbabilityTable ([\n",
        "    [\"V\", \"V\", 0.9],\n",
        "    [\"V\", \"F\", 0.1],\n",
        "    [\"F\", \"V\", 0.7],     \n",
        "    [\"F\", \"F\", 0.3]                                  \n",
        "                                  \n",
        "], [P])\n",
        "\n",
        "E = po.ConditionalProbabilityTable ([\n",
        "    [\"V\", \"V\", \"V\", 0.6],\n",
        "    [\"V\", \"V\", \"F\", 0.4],\n",
        "    [\"V\", \"F\", \"V\", 0.9],     \n",
        "    [\"V\", \"F\", \"F\", 0.1],    \n",
        "    [\"F\", \"V\", \"V\", 0.1],\n",
        "    [\"F\", \"V\", \"F\", 0.9],\n",
        "    [\"F\", \"F\", \"V\", 0.2],     \n",
        "    [\"F\", \"F\", \"F\", 0.8]                                \n",
        "                                  \n",
        "], [S,P])\n",
        "\n",
        "noC = po.State (C, name = \"C\")\n",
        "noS = po.State (S, name = \"S\")\n",
        "noP = po.State (P, name = \"P\")\n",
        "noE = po.State (E, name = \"E\")\n",
        "noF = po.State (F, name = \"F\")\n",
        "\n",
        "network = po.BayesianNetwork (\"Vida na Faculdade\")\n",
        "network.add_states(noC, noS, noP, noE, noF)\n",
        "\n",
        "network.add_edge(noC,noP)\n",
        "network.add_edge(noC,noS)\n",
        "network.add_edge(noS,noE)\n",
        "network.add_edge(noP,noE)\n",
        "network.add_edge(noP,noF)\n",
        "\n",
        "network.bake()\n",
        "# P(C^S^-P^E^-F)\n",
        "print (network.probability([\n",
        "      ['V','V','F','V','F']                        \n",
        "]))\n",
        "\n",
        "# P(C^S^P^E^F)\n",
        "print (network.probability([\n",
        "      ['V','V','V','V','V']                        \n",
        "]))\n",
        "\n",
        "# P(C^S^-P^E^F)\n",
        "print (network.probability([\n",
        "      ['V','V','F','V','V']                        \n",
        "]))\n",
        "\n",
        "\n",
        "#network.plot()"
      ],
      "execution_count": null,
      "outputs": [
        {
          "output_type": "stream",
          "text": [
            "0.017280000000000007\n",
            "0.05184000000000001\n",
            "0.04032000000000001\n"
          ],
          "name": "stdout"
        }
      ]
    },
    {
      "cell_type": "code",
      "metadata": {
        "id": "3sMGIa83H1np"
      },
      "source": [
        "%%graph g\n",
        "C -> P\n",
        "C -> S\n",
        "S -> E\n",
        "P -> E\n",
        "P -> F\n"
      ],
      "execution_count": null,
      "outputs": []
    },
    {
      "cell_type": "code",
      "metadata": {
        "colab": {
          "base_uri": "https://localhost:8080/",
          "height": 272
        },
        "id": "sYe_AYmuIBAP",
        "outputId": "7895ccd8-b40e-4833-cb6a-733fbf98a940"
      },
      "source": [
        "g"
      ],
      "execution_count": null,
      "outputs": [
        {
          "output_type": "execute_result",
          "data": {
            "text/plain": [
              "<graphviz.files.Source at 0x7ff781902cf8>"
            ],
            "image/svg+xml": "<?xml version=\"1.0\" encoding=\"UTF-8\" standalone=\"no\"?>\n<!DOCTYPE svg PUBLIC \"-//W3C//DTD SVG 1.1//EN\"\n \"http://www.w3.org/Graphics/SVG/1.1/DTD/svg11.dtd\">\n<!-- Generated by graphviz version 2.40.1 (20161225.0304)\n -->\n<!-- Title: %3 Pages: 1 -->\n<svg width=\"134pt\" height=\"188pt\"\n viewBox=\"0.00 0.00 134.00 188.00\" xmlns=\"http://www.w3.org/2000/svg\" xmlns:xlink=\"http://www.w3.org/1999/xlink\">\n<g id=\"graph0\" class=\"graph\" transform=\"scale(1 1) rotate(0) translate(4 184)\">\n<title>%3</title>\n<polygon fill=\"#ffffff\" stroke=\"transparent\" points=\"-4,4 -4,-184 130,-184 130,4 -4,4\"/>\n<!-- C -->\n<g id=\"node1\" class=\"node\">\n<title>C</title>\n<ellipse fill=\"none\" stroke=\"#000000\" cx=\"63\" cy=\"-162\" rx=\"27\" ry=\"18\"/>\n<text text-anchor=\"middle\" x=\"63\" y=\"-158.3\" font-family=\"Times,serif\" font-size=\"14.00\" fill=\"#000000\">C</text>\n</g>\n<!-- P -->\n<g id=\"node2\" class=\"node\">\n<title>P</title>\n<ellipse fill=\"none\" stroke=\"#000000\" cx=\"99\" cy=\"-90\" rx=\"27\" ry=\"18\"/>\n<text text-anchor=\"middle\" x=\"99\" y=\"-86.3\" font-family=\"Times,serif\" font-size=\"14.00\" fill=\"#000000\">P</text>\n</g>\n<!-- C&#45;&gt;P -->\n<g id=\"edge1\" class=\"edge\">\n<title>C&#45;&gt;P</title>\n<path fill=\"none\" stroke=\"#000000\" d=\"M71.7146,-144.5708C75.9597,-136.0807 81.1536,-125.6929 85.8663,-116.2674\"/>\n<polygon fill=\"#000000\" stroke=\"#000000\" points=\"89.024,-117.7782 90.3657,-107.2687 82.763,-114.6477 89.024,-117.7782\"/>\n</g>\n<!-- S -->\n<g id=\"node3\" class=\"node\">\n<title>S</title>\n<ellipse fill=\"none\" stroke=\"#000000\" cx=\"27\" cy=\"-90\" rx=\"27\" ry=\"18\"/>\n<text text-anchor=\"middle\" x=\"27\" y=\"-86.3\" font-family=\"Times,serif\" font-size=\"14.00\" fill=\"#000000\">S</text>\n</g>\n<!-- C&#45;&gt;S -->\n<g id=\"edge2\" class=\"edge\">\n<title>C&#45;&gt;S</title>\n<path fill=\"none\" stroke=\"#000000\" d=\"M54.2854,-144.5708C50.0403,-136.0807 44.8464,-125.6929 40.1337,-116.2674\"/>\n<polygon fill=\"#000000\" stroke=\"#000000\" points=\"43.237,-114.6477 35.6343,-107.2687 36.976,-117.7782 43.237,-114.6477\"/>\n</g>\n<!-- E -->\n<g id=\"node4\" class=\"node\">\n<title>E</title>\n<ellipse fill=\"none\" stroke=\"#000000\" cx=\"27\" cy=\"-18\" rx=\"27\" ry=\"18\"/>\n<text text-anchor=\"middle\" x=\"27\" y=\"-14.3\" font-family=\"Times,serif\" font-size=\"14.00\" fill=\"#000000\">E</text>\n</g>\n<!-- P&#45;&gt;E -->\n<g id=\"edge4\" class=\"edge\">\n<title>P&#45;&gt;E</title>\n<path fill=\"none\" stroke=\"#000000\" d=\"M83.7307,-74.7307C73.803,-64.803 60.6847,-51.6847 49.5637,-40.5637\"/>\n<polygon fill=\"#000000\" stroke=\"#000000\" points=\"51.7933,-37.8436 42.2473,-33.2473 46.8436,-42.7933 51.7933,-37.8436\"/>\n</g>\n<!-- F -->\n<g id=\"node5\" class=\"node\">\n<title>F</title>\n<ellipse fill=\"none\" stroke=\"#000000\" cx=\"99\" cy=\"-18\" rx=\"27\" ry=\"18\"/>\n<text text-anchor=\"middle\" x=\"99\" y=\"-14.3\" font-family=\"Times,serif\" font-size=\"14.00\" fill=\"#000000\">F</text>\n</g>\n<!-- P&#45;&gt;F -->\n<g id=\"edge5\" class=\"edge\">\n<title>P&#45;&gt;F</title>\n<path fill=\"none\" stroke=\"#000000\" d=\"M99,-71.8314C99,-64.131 99,-54.9743 99,-46.4166\"/>\n<polygon fill=\"#000000\" stroke=\"#000000\" points=\"102.5001,-46.4132 99,-36.4133 95.5001,-46.4133 102.5001,-46.4132\"/>\n</g>\n<!-- S&#45;&gt;E -->\n<g id=\"edge3\" class=\"edge\">\n<title>S&#45;&gt;E</title>\n<path fill=\"none\" stroke=\"#000000\" d=\"M27,-71.8314C27,-64.131 27,-54.9743 27,-46.4166\"/>\n<polygon fill=\"#000000\" stroke=\"#000000\" points=\"30.5001,-46.4132 27,-36.4133 23.5001,-46.4133 30.5001,-46.4132\"/>\n</g>\n</g>\n</svg>\n"
          },
          "metadata": {
            "tags": []
          },
          "execution_count": 57
        }
      ]
    },
    {
      "cell_type": "markdown",
      "metadata": {
        "id": "t1vjpEXsXgAw"
      },
      "source": [
        "## **Suposições - Roubou ou não roubou?**\n",
        "\n",
        "---\n",
        "\n"
      ]
    },
    {
      "cell_type": "code",
      "metadata": {
        "id": "Ze-JBTr-R19m",
        "colab": {
          "base_uri": "https://localhost:8080/"
        },
        "outputId": "6dcc638e-81e9-40f4-877b-9d81ce04a32f"
      },
      "source": [
        "'''\n",
        "R = Roubo\n",
        "T = Terremoto\n",
        "A = Alarme\n",
        "J = JoaoLiga\n",
        "M = MariaLiga\n",
        "'''\n",
        "\n",
        "R = po.DiscreteDistribution({\"V\":0.001, \"F\": 0.999})\n",
        "\n",
        "T = po.DiscreteDistribution({\"V\":0.002, \"F\": 0.998})\n",
        "\n",
        "A = po.ConditionalProbabilityTable ([\n",
        "    [\"V\", \"V\", \"V\", 0.95],\n",
        "    [\"V\", \"V\", \"F\", 0.05],\n",
        "    [\"V\", \"F\", \"V\", 0.94],     \n",
        "    [\"V\", \"F\", \"F\", 0.06],    \n",
        "    [\"F\", \"V\", \"V\", 0.29],\n",
        "    [\"F\", \"V\", \"F\", 0.71],\n",
        "    [\"F\", \"F\", \"V\", 0.001],     \n",
        "    [\"F\", \"F\", \"F\", 0.999]                                \n",
        "                                  \n",
        "], [R,T])\n",
        "\n",
        "J = po.ConditionalProbabilityTable ([\n",
        "    [\"V\", \"V\", 0.9],\n",
        "    [\"V\", \"F\", 0.1],\n",
        "    [\"F\", \"V\", 0.05],     \n",
        "    [\"F\", \"F\", 0.95]                                  \n",
        "                                  \n",
        "], [A])\n",
        "\n",
        "M = po.ConditionalProbabilityTable ([\n",
        "    [\"V\", \"V\", 0.70],\n",
        "    [\"V\", \"F\", 0.30],\n",
        "    [\"F\", \"V\", 0.01],     \n",
        "    [\"F\", \"F\", 0.99]                                  \n",
        "                                  \n",
        "], [A])\n",
        "\n",
        "noR = po.State (R, name = \"R\")\n",
        "noT = po.State (T, name = \"T\")\n",
        "noA = po.State (A, name = \"A\")\n",
        "noJ = po.State (J, name = \"J\")\n",
        "noM = po.State (M, name = \"M\")\n",
        "\n",
        "network = po.BayesianNetwork (\"Suposições\")\n",
        "network.add_states(noR, noT, noA, noJ, noM)\n",
        "\n",
        "network.add_edge(noR,noA)\n",
        "network.add_edge(noT,noA)\n",
        "network.add_edge(noA,noJ)\n",
        "network.add_edge(noA,noM)\n",
        "\n",
        "network.bake()\n",
        "\n",
        "# P(R^T^-A^J^-M)\n",
        "print (network.probability([\n",
        "      ['V','V','F','V','F']                        \n",
        "]))\n",
        "\n",
        "# P(R^T^A^J^M)\n",
        "print (network.probability([\n",
        "      ['V','V','V','V','V']                        \n",
        "]))\n",
        "\n",
        "# P(R^T^-A^J^M)\n",
        "print (network.probability([\n",
        "      ['V','V','F','V','V']                        \n",
        "]))\n",
        "\n"
      ],
      "execution_count": null,
      "outputs": [
        {
          "output_type": "stream",
          "text": [
            "4.949999999999992e-09\n",
            "1.1969999999999995e-06\n",
            "5.0000000000000066e-11\n"
          ],
          "name": "stdout"
        }
      ]
    },
    {
      "cell_type": "code",
      "metadata": {
        "id": "qddg4lvTzDsi"
      },
      "source": [
        "%%graph g1\n",
        "R -> A\n",
        "T -> A\n",
        "A -> J\n",
        "A -> M\n"
      ],
      "execution_count": null,
      "outputs": []
    },
    {
      "cell_type": "code",
      "metadata": {
        "colab": {
          "base_uri": "https://localhost:8080/",
          "height": 272
        },
        "id": "jFllvn11zbft",
        "outputId": "73d08344-b8b8-43de-c065-f8a77a310423"
      },
      "source": [
        "g1"
      ],
      "execution_count": null,
      "outputs": [
        {
          "output_type": "execute_result",
          "data": {
            "text/plain": [
              "<graphviz.files.Source at 0x7fe723d7c668>"
            ],
            "image/svg+xml": "<?xml version=\"1.0\" encoding=\"UTF-8\" standalone=\"no\"?>\n<!DOCTYPE svg PUBLIC \"-//W3C//DTD SVG 1.1//EN\"\n \"http://www.w3.org/Graphics/SVG/1.1/DTD/svg11.dtd\">\n<!-- Generated by graphviz version 2.40.1 (20161225.0304)\n -->\n<!-- Title: %3 Pages: 1 -->\n<svg width=\"134pt\" height=\"188pt\"\n viewBox=\"0.00 0.00 134.00 188.00\" xmlns=\"http://www.w3.org/2000/svg\" xmlns:xlink=\"http://www.w3.org/1999/xlink\">\n<g id=\"graph0\" class=\"graph\" transform=\"scale(1 1) rotate(0) translate(4 184)\">\n<title>%3</title>\n<polygon fill=\"#ffffff\" stroke=\"transparent\" points=\"-4,4 -4,-184 130,-184 130,4 -4,4\"/>\n<!-- R -->\n<g id=\"node1\" class=\"node\">\n<title>R</title>\n<ellipse fill=\"none\" stroke=\"#000000\" cx=\"27\" cy=\"-162\" rx=\"27\" ry=\"18\"/>\n<text text-anchor=\"middle\" x=\"27\" y=\"-158.3\" font-family=\"Times,serif\" font-size=\"14.00\" fill=\"#000000\">R</text>\n</g>\n<!-- A -->\n<g id=\"node2\" class=\"node\">\n<title>A</title>\n<ellipse fill=\"none\" stroke=\"#000000\" cx=\"63\" cy=\"-90\" rx=\"27\" ry=\"18\"/>\n<text text-anchor=\"middle\" x=\"63\" y=\"-86.3\" font-family=\"Times,serif\" font-size=\"14.00\" fill=\"#000000\">A</text>\n</g>\n<!-- R&#45;&gt;A -->\n<g id=\"edge1\" class=\"edge\">\n<title>R&#45;&gt;A</title>\n<path fill=\"none\" stroke=\"#000000\" d=\"M35.7146,-144.5708C39.9597,-136.0807 45.1536,-125.6929 49.8663,-116.2674\"/>\n<polygon fill=\"#000000\" stroke=\"#000000\" points=\"53.024,-117.7782 54.3657,-107.2687 46.763,-114.6477 53.024,-117.7782\"/>\n</g>\n<!-- J -->\n<g id=\"node4\" class=\"node\">\n<title>J</title>\n<ellipse fill=\"none\" stroke=\"#000000\" cx=\"27\" cy=\"-18\" rx=\"27\" ry=\"18\"/>\n<text text-anchor=\"middle\" x=\"27\" y=\"-14.3\" font-family=\"Times,serif\" font-size=\"14.00\" fill=\"#000000\">J</text>\n</g>\n<!-- A&#45;&gt;J -->\n<g id=\"edge3\" class=\"edge\">\n<title>A&#45;&gt;J</title>\n<path fill=\"none\" stroke=\"#000000\" d=\"M54.2854,-72.5708C50.0403,-64.0807 44.8464,-53.6929 40.1337,-44.2674\"/>\n<polygon fill=\"#000000\" stroke=\"#000000\" points=\"43.237,-42.6477 35.6343,-35.2687 36.976,-45.7782 43.237,-42.6477\"/>\n</g>\n<!-- M -->\n<g id=\"node5\" class=\"node\">\n<title>M</title>\n<ellipse fill=\"none\" stroke=\"#000000\" cx=\"99\" cy=\"-18\" rx=\"27\" ry=\"18\"/>\n<text text-anchor=\"middle\" x=\"99\" y=\"-14.3\" font-family=\"Times,serif\" font-size=\"14.00\" fill=\"#000000\">M</text>\n</g>\n<!-- A&#45;&gt;M -->\n<g id=\"edge4\" class=\"edge\">\n<title>A&#45;&gt;M</title>\n<path fill=\"none\" stroke=\"#000000\" d=\"M71.7146,-72.5708C75.9597,-64.0807 81.1536,-53.6929 85.8663,-44.2674\"/>\n<polygon fill=\"#000000\" stroke=\"#000000\" points=\"89.024,-45.7782 90.3657,-35.2687 82.763,-42.6477 89.024,-45.7782\"/>\n</g>\n<!-- T -->\n<g id=\"node3\" class=\"node\">\n<title>T</title>\n<ellipse fill=\"none\" stroke=\"#000000\" cx=\"99\" cy=\"-162\" rx=\"27\" ry=\"18\"/>\n<text text-anchor=\"middle\" x=\"99\" y=\"-158.3\" font-family=\"Times,serif\" font-size=\"14.00\" fill=\"#000000\">T</text>\n</g>\n<!-- T&#45;&gt;A -->\n<g id=\"edge2\" class=\"edge\">\n<title>T&#45;&gt;A</title>\n<path fill=\"none\" stroke=\"#000000\" d=\"M90.2854,-144.5708C86.0403,-136.0807 80.8464,-125.6929 76.1337,-116.2674\"/>\n<polygon fill=\"#000000\" stroke=\"#000000\" points=\"79.237,-114.6477 71.6343,-107.2687 72.976,-117.7782 79.237,-114.6477\"/>\n</g>\n</g>\n</svg>\n"
          },
          "metadata": {
            "tags": []
          },
          "execution_count": 12
        }
      ]
    }
  ]
}