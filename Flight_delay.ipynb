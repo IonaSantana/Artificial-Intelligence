{
  "cells": [
    {
      "cell_type": "markdown",
      "metadata": {
        "id": "view-in-github",
        "colab_type": "text"
      },
      "source": [
        "<a href=\"https://colab.research.google.com/github/IonaSantana/Artificial-Intelligence/blob/main/Flight_delay.ipynb\" target=\"_parent\"><img src=\"https://colab.research.google.com/assets/colab-badge.svg\" alt=\"Open In Colab\"/></a>"
      ]
    },
    {
      "cell_type": "markdown",
      "id": "aa728fdc",
      "metadata": {
        "id": "aa728fdc"
      },
      "source": [
        "Fligh-Delay, qual compania eu devo ir?\n",
        "O que é um atraso?\n",
        "E quanto um atraso pode ser tolerado?\n",
        "\n",
        "Quais voos atrasam mais?"
      ]
    },
    {
      "cell_type": "code",
      "execution_count": 1,
      "id": "b0b14f9c",
      "metadata": {
        "id": "b0b14f9c"
      },
      "outputs": [],
      "source": [
        "import pandas as pd\n",
        "import numpy as np\n",
        "import seaborn as sn #correlacionar\n"
      ]
    },
    {
      "cell_type": "code",
      "execution_count": 2,
      "id": "aba1e984",
      "metadata": {
        "id": "aba1e984"
      },
      "outputs": [],
      "source": [
        "import matplotlib.pyplot as plt\n",
        "%matplotlib inline"
      ]
    },
    {
      "cell_type": "code",
      "source": [
        "from google.colab import drive\n",
        "drive.mount('/content/drive')"
      ],
      "metadata": {
        "colab": {
          "base_uri": "https://localhost:8080/"
        },
        "id": "dspchgOZqOlx",
        "outputId": "1f566d8c-a04d-40bc-9023-9d4fd9d0287e"
      },
      "id": "dspchgOZqOlx",
      "execution_count": null,
      "outputs": [
        {
          "output_type": "stream",
          "name": "stdout",
          "text": [
            "Drive already mounted at /content/drive; to attempt to forcibly remount, call drive.mount(\"/content/drive\", force_remount=True).\n"
          ]
        }
      ]
    },
    {
      "cell_type": "code",
      "execution_count": null,
      "id": "0658287d",
      "metadata": {
        "id": "0658287d"
      },
      "outputs": [],
      "source": [
        "airline = pd.read_csv(\"/content/drive/MyDrive/Flight Delays and Cancellations/airlines.csv\")\n",
        "airports = pd.read_csv(\"/content/drive/MyDrive/Flight Delays and Cancellations/airports.csv\")\n",
        "flights = pd.read_csv(\"/content/drive/MyDrive/Flight Delays and Cancellations/flights.csv\")"
      ]
    },
    {
      "cell_type": "markdown",
      "source": [
        "Funções"
      ],
      "metadata": {
        "id": "3lxolpJap97S"
      },
      "id": "3lxolpJap97S"
    },
    {
      "cell_type": "markdown",
      "source": [
        "Coeficiente de Pearson -1 a 1, quanto mais próximo de um desse valores, maior a correlação \n",
        "\n",
        "Links: \n",
        "\n",
        "https://medium.com/omixdata/estat%C3%ADstica-an%C3%A1lise-de-correla%C3%A7%C3%A3o-usando-python-e-r-d68611511b5a\n",
        "\n",
        "https://seaborn.pydata.org/generated/seaborn.heatmap.html"
      ],
      "metadata": {
        "id": "y8N_WAEbdJl-"
      },
      "id": "y8N_WAEbdJl-"
    },
    {
      "cell_type": "code",
      "source": [
        "def pearson(data):\n",
        "  correlacao = data.corr()\n",
        "  mask = np.zeros_like(correlacao)\n",
        "  mask[np.triu_indices_from(mask)] = True\n",
        "  with sn.axes_style(\"white\"):\n",
        "      f, ax = plt.subplots(figsize=(10, 7))\n",
        "  plot = sn.heatmap(correlacao, mask = mask,annot = True, fmt = \".1f\", linewidths = .6)"
      ],
      "metadata": {
        "id": "sep7S4-Lp9Yq"
      },
      "id": "sep7S4-Lp9Yq",
      "execution_count": null,
      "outputs": []
    },
    {
      "cell_type": "code",
      "execution_count": null,
      "id": "92a1bb8a",
      "metadata": {
        "id": "92a1bb8a"
      },
      "outputs": [],
      "source": [
        "airline.head()"
      ]
    },
    {
      "cell_type": "code",
      "execution_count": null,
      "id": "c3c2361e",
      "metadata": {
        "id": "c3c2361e"
      },
      "outputs": [],
      "source": [
        "airports.head()"
      ]
    },
    {
      "cell_type": "code",
      "execution_count": null,
      "id": "e7212865",
      "metadata": {
        "id": "e7212865"
      },
      "outputs": [],
      "source": [
        "flights.head()"
      ]
    },
    {
      "cell_type": "code",
      "execution_count": null,
      "id": "ec9bf838",
      "metadata": {
        "id": "ec9bf838"
      },
      "outputs": [],
      "source": [
        "flights.columns"
      ]
    },
    {
      "cell_type": "code",
      "execution_count": null,
      "id": "3f3c0c9b",
      "metadata": {
        "id": "3f3c0c9b"
      },
      "outputs": [],
      "source": [
        "flights.shape #5819079 de informações em 31 colunas"
      ]
    },
    {
      "cell_type": "markdown",
      "source": [
        "Antes de retirar os valores nulos"
      ],
      "metadata": {
        "id": "nIiwKiOGqdnx"
      },
      "id": "nIiwKiOGqdnx"
    },
    {
      "cell_type": "code",
      "source": [
        "pearson(flights)"
      ],
      "metadata": {
        "id": "TMCgB4H3qGXY"
      },
      "id": "TMCgB4H3qGXY",
      "execution_count": null,
      "outputs": []
    },
    {
      "cell_type": "code",
      "execution_count": null,
      "id": "2bfee50f",
      "metadata": {
        "id": "2bfee50f"
      },
      "outputs": [],
      "source": [
        "flights.isna().sum()"
      ]
    },
    {
      "cell_type": "code",
      "source": [
        "flights = flights.drop(['CANCELLATION_REASON'], axis=1)"
      ],
      "metadata": {
        "id": "4xc2rN3Uodll"
      },
      "id": "4xc2rN3Uodll",
      "execution_count": null,
      "outputs": []
    },
    {
      "cell_type": "code",
      "source": [
        "flights = flights.dropna()"
      ],
      "metadata": {
        "id": "JM4iJbsNox2g"
      },
      "id": "JM4iJbsNox2g",
      "execution_count": null,
      "outputs": []
    },
    {
      "cell_type": "markdown",
      "source": [
        "Após retirar os valores nulos"
      ],
      "metadata": {
        "id": "p4aTPkzsqh5Y"
      },
      "id": "p4aTPkzsqh5Y"
    },
    {
      "cell_type": "code",
      "source": [
        "pearson(flights)"
      ],
      "metadata": {
        "id": "rM0741jNcUiJ"
      },
      "execution_count": null,
      "outputs": [],
      "id": "rM0741jNcUiJ"
    },
    {
      "cell_type": "markdown",
      "source": [
        "Retirar as colunas com menos de +-0.6 de correlação"
      ],
      "metadata": {
        "id": "GSPaBTIShqJU"
      },
      "id": "GSPaBTIShqJU"
    },
    {
      "cell_type": "code",
      "source": [
        "columns_corr = ['DEPARTURE_DELAY', 'AIRLINE_DELAY', 'LATE_AIRCRAFT_DELAY','ARRIVAL_DELAY']"
      ],
      "metadata": {
        "id": "CyGcbnY3AtoA"
      },
      "id": "CyGcbnY3AtoA",
      "execution_count": null,
      "outputs": []
    },
    {
      "cell_type": "code",
      "source": [
        "# columns_corr = ['SCHEDULED_DEPARTURE', 'DEPARTURE_TIME', 'DEPARTURE_DELAY', \n",
        "      #  'WHEELS_OFF', 'SCHEDULED_TIME', 'ELAPSED_TIME', 'DISTANCE',\n",
        "      #  'WHEELS_ON', 'SCHEDULED_ARRIVAL', 'ARRIVAL_TIME', 'ARRIVAL_DELAY']\n",
        "  \n",
        "#todas que estao relacionada com tempo, air_time só relaciona com distance, por isso foi retirada\n",
        "y = flights['AIRLINE']\n",
        "flights_time = flights[columns_corr]\n",
        "flights_time .columns"
      ],
      "metadata": {
        "id": "Nx-hqMBwkPSI"
      },
      "id": "Nx-hqMBwkPSI",
      "execution_count": null,
      "outputs": []
    },
    {
      "cell_type": "code",
      "execution_count": null,
      "id": "e5ddb14c",
      "metadata": {
        "id": "e5ddb14c"
      },
      "outputs": [],
      "source": [
        "flights_time.shape"
      ]
    },
    {
      "cell_type": "code",
      "execution_count": null,
      "id": "96d231b9",
      "metadata": {
        "id": "96d231b9"
      },
      "outputs": [],
      "source": [
        "flights_time.head()"
      ]
    },
    {
      "cell_type": "code",
      "execution_count": null,
      "id": "b443267a",
      "metadata": {
        "id": "b443267a"
      },
      "outputs": [],
      "source": [
        "y.head()"
      ]
    },
    {
      "cell_type": "code",
      "execution_count": null,
      "id": "571f1e10",
      "metadata": {
        "id": "571f1e10"
      },
      "outputs": [],
      "source": [
        "flights_time.shape"
      ]
    },
    {
      "cell_type": "code",
      "execution_count": null,
      "id": "e656671c",
      "metadata": {
        "scrolled": true,
        "id": "e656671c"
      },
      "outputs": [],
      "source": [
        "flights_time.sort_values(['DEPARTURE_DELAY'], ascending=False).head()"
      ]
    },
    {
      "cell_type": "code",
      "execution_count": null,
      "id": "f6911357",
      "metadata": {
        "id": "f6911357"
      },
      "outputs": [],
      "source": [
        "flights_time = flights_time.sort_values(['DEPARTURE_DELAY'], ascending=True)\n"
      ]
    },
    {
      "cell_type": "code",
      "execution_count": null,
      "id": "7a7f202c",
      "metadata": {
        "scrolled": true,
        "id": "7a7f202c"
      },
      "outputs": [],
      "source": [
        "flights_time.head()"
      ]
    },
    {
      "cell_type": "markdown",
      "source": [
        "Filtro depois a AIRLINE do df airline, o iata_code -> AA, US, UA... e mostro as melhores"
      ],
      "metadata": {
        "id": "JRuAoJxx-XUN"
      },
      "id": "JRuAoJxx-XUN"
    },
    {
      "cell_type": "markdown",
      "source": [
        "Opções de modelos: regressão linear (mostrar o atraso de cada companhia), árvores de decisão (companhia boa ou não), SVM - separar o valores de atraso positivo dos negativos?"
      ],
      "metadata": {
        "id": "XChqP21r-3xk"
      },
      "id": "XChqP21r-3xk"
    },
    {
      "cell_type": "markdown",
      "source": [
        "Opções:\n",
        "*melhores companhias para viajar\n",
        "*melhores companhias para uma determinada linha (aeroporto de destino)\n",
        "*separar por mês de cada companhia\n",
        "*separar por ano de cada companhia\n",
        "*separar por ano de cada companhia e por linha\n",
        "*cluster de melhores companhias"
      ],
      "metadata": {
        "id": "SoQOViFeXiIe"
      },
      "id": "SoQOViFeXiIe"
    },
    {
      "cell_type": "markdown",
      "source": [
        "## **Regressão** **Linear**"
      ],
      "metadata": {
        "id": "bgM_gP-8qfnJ"
      },
      "id": "bgM_gP-8qfnJ"
    },
    {
      "cell_type": "markdown",
      "source": [
        "Companhia por atraso?"
      ],
      "metadata": {
        "id": "kSNrhp2DrFEB"
      },
      "id": "kSNrhp2DrFEB"
    },
    {
      "cell_type": "code",
      "source": [
        "flights_time.hist(figsize=[15,15])\n",
        "plt.show()"
      ],
      "metadata": {
        "id": "YoKjLnnwrXSE"
      },
      "id": "YoKjLnnwrXSE",
      "execution_count": null,
      "outputs": []
    },
    {
      "cell_type": "code",
      "source": [
        "#arrival_delay vai é a resposta"
      ],
      "metadata": {
        "id": "f6kd5PgpvRjf"
      },
      "id": "f6kd5PgpvRjf",
      "execution_count": null,
      "outputs": []
    },
    {
      "cell_type": "code",
      "source": [
        "flights_time.columns"
      ],
      "metadata": {
        "id": "dRw8R__7-UIv"
      },
      "id": "dRw8R__7-UIv",
      "execution_count": null,
      "outputs": []
    },
    {
      "cell_type": "code",
      "source": [
        "plt.scatter(flights_time.DEPARTURE_DELAY, flights_time.ARRIVAL_DELAY,  color='blue')\n",
        "plt.xlabel(\"Departamento Delay\") #correlação do atraso do departamento e atraso de chegada igual a 1\n",
        "plt.ylabel(\"Atraso de chegada\")\n",
        "plt.show()"
      ],
      "metadata": {
        "id": "SVCTguitvpfC"
      },
      "id": "SVCTguitvpfC",
      "execution_count": null,
      "outputs": []
    },
    {
      "cell_type": "markdown",
      "source": [
        "O atraso do departamento está muito relacionada com o atraso da chegada, e tem duas variáveis que são \"AIRLINE_DELAY E LATE_AIRCRAFT_DELAY\", seria bom olhar para elas"
      ],
      "metadata": {
        "id": "WCpd_0zN_u4W"
      },
      "id": "WCpd_0zN_u4W"
    },
    {
      "cell_type": "markdown",
      "source": [
        "Consegue prever o atraso dados as variáveis"
      ],
      "metadata": {
        "id": "BSuLHDEnAWPu"
      },
      "id": "BSuLHDEnAWPu"
    },
    {
      "cell_type": "code",
      "source": [
        "plt.scatter(flights_time.AIRLINE_DELAY, flights_time.ARRIVAL_DELAY,  color='blue')\n",
        "plt.xlabel(\"Atraso da linha área\") #correlação do atraso do departamento e atraso de chegada igual a 1\n",
        "plt.ylabel(\"Atraso de chegada\")\n",
        "plt.show()"
      ],
      "metadata": {
        "id": "OJ0MvNZfASki"
      },
      "id": "OJ0MvNZfASki",
      "execution_count": null,
      "outputs": []
    },
    {
      "cell_type": "code",
      "source": [
        "plt.scatter(flights_time.LATE_AIRCRAFT_DELAY, flights_time.ARRIVAL_DELAY,  color='blue')\n",
        "plt.xlabel(\"Atraso de Aeronaves\") #correlação do atraso do departamento e atraso de chegada igual a 1\n",
        "plt.ylabel(\"Atraso de chegada\")\n",
        "plt.show()"
      ],
      "metadata": {
        "id": "eerQUVX5C_IZ"
      },
      "id": "eerQUVX5C_IZ",
      "execution_count": null,
      "outputs": []
    }
  ],
  "metadata": {
    "kernelspec": {
      "display_name": "Python 3 (ipykernel)",
      "language": "python",
      "name": "python3"
    },
    "language_info": {
      "codemirror_mode": {
        "name": "ipython",
        "version": 3
      },
      "file_extension": ".py",
      "mimetype": "text/x-python",
      "name": "python",
      "nbconvert_exporter": "python",
      "pygments_lexer": "ipython3",
      "version": "3.7.11"
    },
    "colab": {
      "name": "Flight-delay.ipynb",
      "provenance": [],
      "collapsed_sections": [],
      "include_colab_link": true
    }
  },
  "nbformat": 4,
  "nbformat_minor": 5
}