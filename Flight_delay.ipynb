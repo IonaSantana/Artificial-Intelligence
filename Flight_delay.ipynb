{
  "cells": [
    {
      "cell_type": "markdown",
      "metadata": {
        "id": "view-in-github",
        "colab_type": "text"
      },
      "source": [
        "<a href=\"https://colab.research.google.com/github/IonaSantana/Artificial-Intelligence/blob/main/Flight_delay.ipynb\" target=\"_parent\"><img src=\"https://colab.research.google.com/assets/colab-badge.svg\" alt=\"Open In Colab\"/></a>"
      ]
    },
    {
      "cell_type": "markdown",
      "id": "aa728fdc",
      "metadata": {
        "id": "aa728fdc"
      },
      "source": [
        "Fligh-Delay, qual compania eu devo ir?\n",
        "O que é um atraso?\n",
        "E quanto um atraso pode ser tolerado?\n",
        "\n",
        "Quais voos atrasam mais?"
      ]
    },
    {
      "cell_type": "code",
      "execution_count": null,
      "id": "b0b14f9c",
      "metadata": {
        "id": "b0b14f9c"
      },
      "outputs": [],
      "source": [
        "import pandas as pd\n",
        "import numpy as np"
      ]
    },
    {
      "cell_type": "code",
      "source": [
        "from google.colab import drive\n",
        "drive.mount('/content/drive')"
      ],
      "metadata": {
        "id": "dspchgOZqOlx"
      },
      "id": "dspchgOZqOlx",
      "execution_count": null,
      "outputs": []
    },
    {
      "cell_type": "code",
      "execution_count": null,
      "id": "0658287d",
      "metadata": {
        "id": "0658287d"
      },
      "outputs": [],
      "source": [
        "airline = pd.read_csv(\"/content/drive/MyDrive/Flight Delays and Cancellations/airlines.csv\")\n",
        "airports = pd.read_csv(\"/content/drive/MyDrive/Flight Delays and Cancellations/airports.csv\")\n",
        "flights = pd.read_csv(\"/content/drive/MyDrive/Flight Delays and Cancellations/flights.csv\")"
      ]
    },
    {
      "cell_type": "code",
      "execution_count": null,
      "id": "92a1bb8a",
      "metadata": {
        "id": "92a1bb8a"
      },
      "outputs": [],
      "source": [
        "airline.head()"
      ]
    },
    {
      "cell_type": "code",
      "execution_count": null,
      "id": "c3c2361e",
      "metadata": {
        "id": "c3c2361e"
      },
      "outputs": [],
      "source": [
        "airports.head()"
      ]
    },
    {
      "cell_type": "code",
      "execution_count": null,
      "id": "e7212865",
      "metadata": {
        "id": "e7212865"
      },
      "outputs": [],
      "source": [
        "flights.head()"
      ]
    },
    {
      "cell_type": "code",
      "execution_count": null,
      "id": "ec9bf838",
      "metadata": {
        "id": "ec9bf838"
      },
      "outputs": [],
      "source": [
        "flights.columns"
      ]
    },
    {
      "cell_type": "code",
      "execution_count": null,
      "id": "3f3c0c9b",
      "metadata": {
        "id": "3f3c0c9b"
      },
      "outputs": [],
      "source": [
        "flights.shape #5819079 de informações em 31 colunas"
      ]
    },
    {
      "cell_type": "code",
      "execution_count": null,
      "id": "2bfee50f",
      "metadata": {
        "id": "2bfee50f"
      },
      "outputs": [],
      "source": [
        "flights.isna().sum()"
      ]
    },
    {
      "cell_type": "code",
      "execution_count": null,
      "id": "e5ddb14c",
      "metadata": {
        "id": "e5ddb14c"
      },
      "outputs": [],
      "source": [
        "flights.shape"
      ]
    },
    {
      "cell_type": "code",
      "execution_count": null,
      "id": "2cc0e1ee",
      "metadata": {
        "id": "2cc0e1ee"
      },
      "outputs": [],
      "source": [
        "fli_aux = flights[(flights['CANCELLATION_REASON'].isna() == False)]"
      ]
    },
    {
      "cell_type": "code",
      "execution_count": null,
      "id": "f96ed5ae",
      "metadata": {
        "id": "f96ed5ae"
      },
      "outputs": [],
      "source": [
        "#como não há informações sobre o que A,B,C... significam, não consideraremos essa coluna\n",
        "fli_aux['CANCELLATION_REASON'].unique()"
      ]
    },
    {
      "cell_type": "code",
      "execution_count": null,
      "id": "c63b7ddc",
      "metadata": {
        "id": "c63b7ddc"
      },
      "outputs": [],
      "source": [
        "fli_aux = flights[(flights['WEATHER_DELAY'].isna() == False)]\n",
        "fli_aux.shape"
      ]
    },
    {
      "cell_type": "code",
      "execution_count": null,
      "id": "82279b05",
      "metadata": {
        "id": "82279b05"
      },
      "outputs": [],
      "source": [
        "columns = ['AIRLINE', 'ORIGIN_AIRPORT', 'DESTINATION_AIRPORT',\n",
        "       'SCHEDULED_DEPARTURE', 'DEPARTURE_TIME', 'DEPARTURE_DELAY', 'TAXI_OUT',\n",
        "       'WHEELS_OFF', 'SCHEDULED_TIME', 'ELAPSED_TIME', 'AIR_TIME', 'DISTANCE',\n",
        "       'WHEELS_ON', 'TAXI_IN', 'SCHEDULED_ARRIVAL', 'ARRIVAL_TIME',\n",
        "       'ARRIVAL_DELAY']\n",
        "data = flights[columns]"
      ]
    },
    {
      "cell_type": "code",
      "execution_count": null,
      "id": "96d231b9",
      "metadata": {
        "id": "96d231b9"
      },
      "outputs": [],
      "source": [
        "data.head()"
      ]
    },
    {
      "cell_type": "code",
      "execution_count": null,
      "id": "b443267a",
      "metadata": {
        "id": "b443267a"
      },
      "outputs": [],
      "source": [
        "data.shape"
      ]
    },
    {
      "cell_type": "code",
      "execution_count": null,
      "id": "f4cde95e",
      "metadata": {
        "id": "f4cde95e"
      },
      "outputs": [],
      "source": [
        "data.isna().sum()"
      ]
    },
    {
      "cell_type": "code",
      "execution_count": null,
      "id": "16e7cc76",
      "metadata": {
        "id": "16e7cc76"
      },
      "outputs": [],
      "source": [
        "#apesar de retirar os valores NaN, ainda se tem muitos registro. E assim, podemos evitar cometer erros no modelo por falta de informação \n",
        "data = data.dropna()"
      ]
    },
    {
      "cell_type": "code",
      "execution_count": null,
      "id": "156946dd",
      "metadata": {
        "id": "156946dd"
      },
      "outputs": [],
      "source": [
        "data.isna().sum()"
      ]
    },
    {
      "cell_type": "code",
      "execution_count": null,
      "id": "571f1e10",
      "metadata": {
        "id": "571f1e10"
      },
      "outputs": [],
      "source": [
        "data.shape"
      ]
    },
    {
      "cell_type": "code",
      "execution_count": null,
      "id": "368c5651",
      "metadata": {
        "id": "368c5651"
      },
      "outputs": [],
      "source": [
        "data['ARRIVAL_TIME'].head()"
      ]
    },
    {
      "cell_type": "code",
      "execution_count": null,
      "id": "801e72fa",
      "metadata": {
        "id": "801e72fa"
      },
      "outputs": [],
      "source": [
        "data.dtypes"
      ]
    },
    {
      "cell_type": "code",
      "execution_count": null,
      "id": "cc761e3c",
      "metadata": {
        "id": "cc761e3c"
      },
      "outputs": [],
      "source": [
        "data['SCHEDULED_ARRIVAL'].head()"
      ]
    },
    {
      "cell_type": "code",
      "execution_count": null,
      "id": "e656671c",
      "metadata": {
        "scrolled": true,
        "id": "e656671c"
      },
      "outputs": [],
      "source": [
        "data.sort_values(['DEPARTURE_DELAY'], ascending=False).head()"
      ]
    },
    {
      "cell_type": "code",
      "execution_count": null,
      "id": "f6911357",
      "metadata": {
        "id": "f6911357"
      },
      "outputs": [],
      "source": [
        "atrasados = []\n",
        "atrasados = data.sort_values(['DEPARTURE_DELAY'], ascending=False)\n",
        "atrasados = atrasados[atrasados['DEPARTURE_DELAY'] > 0]"
      ]
    },
    {
      "cell_type": "code",
      "execution_count": null,
      "id": "7a7f202c",
      "metadata": {
        "scrolled": true,
        "id": "7a7f202c"
      },
      "outputs": [],
      "source": [
        "atrasados.head()"
      ]
    },
    {
      "cell_type": "code",
      "execution_count": null,
      "id": "ee306dd4",
      "metadata": {
        "id": "ee306dd4"
      },
      "outputs": [],
      "source": [
        "atrasados['AIRLINE'].values.sum()\n"
      ]
    },
    {
      "cell_type": "code",
      "execution_count": null,
      "id": "5fa5d5be",
      "metadata": {
        "id": "5fa5d5be"
      },
      "outputs": [],
      "source": [
        "for t in teste:\n",
        "    s = np.str(t)\n",
        "    print(t)\n",
        "    #print(atrasados[atrasados['AIRLINE'] == s])"
      ]
    },
    {
      "cell_type": "code",
      "execution_count": null,
      "id": "aba1e984",
      "metadata": {
        "id": "aba1e984"
      },
      "outputs": [],
      "source": [
        ""
      ]
    }
  ],
  "metadata": {
    "kernelspec": {
      "display_name": "Python 3 (ipykernel)",
      "language": "python",
      "name": "python3"
    },
    "language_info": {
      "codemirror_mode": {
        "name": "ipython",
        "version": 3
      },
      "file_extension": ".py",
      "mimetype": "text/x-python",
      "name": "python",
      "nbconvert_exporter": "python",
      "pygments_lexer": "ipython3",
      "version": "3.7.11"
    },
    "colab": {
      "name": "Flight-delay.ipynb",
      "provenance": [],
      "include_colab_link": true
    }
  },
  "nbformat": 4,
  "nbformat_minor": 5
}