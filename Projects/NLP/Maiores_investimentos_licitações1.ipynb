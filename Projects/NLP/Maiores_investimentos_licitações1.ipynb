{
  "cells": [
    {
      "cell_type": "markdown",
      "metadata": {
        "id": "uu7G0Zsyq9Kk"
      },
      "source": [
        "### Situação:"
      ]
    },
    {
      "cell_type": "markdown",
      "metadata": {
        "id": "SfinOPAFqUe2"
      },
      "source": [
        "Usando os dados das licitações do ano de 2021, no Rio Grande do Sul, fazer uma análise dos principais itens licitados e das áreas que receberam maior investimento por meio de licitações\n",
        "\n",
        "Link: http://dados.tce.rs.gov.br/dataset?groups=licitacoes&q=consolidado"
      ]
    },
    {
      "cell_type": "markdown",
      "metadata": {
        "id": "JTFTbZhEuQPx"
      },
      "source": [
        "### Imports"
      ]
    },
    {
      "cell_type": "code",
      "execution_count": 1,
      "metadata": {
        "id": "cJ4hoz1kuPFM"
      },
      "outputs": [],
      "source": [
        "import pandas as pd\n",
        "import numpy as np\n",
        "import os\n",
        "import matplotlib.pyplot as plt\n",
        "%matplotlib inline"
      ]
    },
    {
      "cell_type": "code",
      "execution_count": 2,
      "metadata": {
        "id": "a0tMrmZBIZet"
      },
      "outputs": [
        {
          "name": "stderr",
          "output_type": "stream",
          "text": [
            "/Users/ionasantana/opt/anaconda3/envs/nlp_course/lib/python3.7/site-packages/sklearn/feature_extraction/image.py:167: DeprecationWarning: `np.int` is a deprecated alias for the builtin `int`. To silence this warning, use `int` by itself. Doing this will not modify any behavior and is safe. When replacing `np.int`, you may wish to use e.g. `np.int64` or `np.int32` to specify the precision. If you wish to review your current use, check the release note link for additional information.\n",
            "Deprecated in NumPy 1.20; for more details and guidance: https://numpy.org/devdocs/release/1.20.0-notes.html#deprecations\n",
            "  dtype=np.int):\n",
            "/Users/ionasantana/opt/anaconda3/envs/nlp_course/lib/python3.7/site-packages/sklearn/linear_model/least_angle.py:35: DeprecationWarning: `np.float` is a deprecated alias for the builtin `float`. To silence this warning, use `float` by itself. Doing this will not modify any behavior and is safe. If you specifically wanted the numpy scalar type, use `np.float64` here.\n",
            "Deprecated in NumPy 1.20; for more details and guidance: https://numpy.org/devdocs/release/1.20.0-notes.html#deprecations\n",
            "  eps=np.finfo(np.float).eps,\n",
            "/Users/ionasantana/opt/anaconda3/envs/nlp_course/lib/python3.7/site-packages/sklearn/linear_model/least_angle.py:597: DeprecationWarning: `np.float` is a deprecated alias for the builtin `float`. To silence this warning, use `float` by itself. Doing this will not modify any behavior and is safe. If you specifically wanted the numpy scalar type, use `np.float64` here.\n",
            "Deprecated in NumPy 1.20; for more details and guidance: https://numpy.org/devdocs/release/1.20.0-notes.html#deprecations\n",
            "  eps=np.finfo(np.float).eps, copy_X=True, fit_path=True,\n",
            "/Users/ionasantana/opt/anaconda3/envs/nlp_course/lib/python3.7/site-packages/sklearn/linear_model/least_angle.py:836: DeprecationWarning: `np.float` is a deprecated alias for the builtin `float`. To silence this warning, use `float` by itself. Doing this will not modify any behavior and is safe. If you specifically wanted the numpy scalar type, use `np.float64` here.\n",
            "Deprecated in NumPy 1.20; for more details and guidance: https://numpy.org/devdocs/release/1.20.0-notes.html#deprecations\n",
            "  eps=np.finfo(np.float).eps, copy_X=True, fit_path=True,\n",
            "/Users/ionasantana/opt/anaconda3/envs/nlp_course/lib/python3.7/site-packages/sklearn/linear_model/least_angle.py:862: DeprecationWarning: `np.float` is a deprecated alias for the builtin `float`. To silence this warning, use `float` by itself. Doing this will not modify any behavior and is safe. If you specifically wanted the numpy scalar type, use `np.float64` here.\n",
            "Deprecated in NumPy 1.20; for more details and guidance: https://numpy.org/devdocs/release/1.20.0-notes.html#deprecations\n",
            "  eps=np.finfo(np.float).eps, positive=False):\n",
            "/Users/ionasantana/opt/anaconda3/envs/nlp_course/lib/python3.7/site-packages/sklearn/linear_model/least_angle.py:1097: DeprecationWarning: `np.float` is a deprecated alias for the builtin `float`. To silence this warning, use `float` by itself. Doing this will not modify any behavior and is safe. If you specifically wanted the numpy scalar type, use `np.float64` here.\n",
            "Deprecated in NumPy 1.20; for more details and guidance: https://numpy.org/devdocs/release/1.20.0-notes.html#deprecations\n",
            "  max_n_alphas=1000, n_jobs=None, eps=np.finfo(np.float).eps,\n",
            "/Users/ionasantana/opt/anaconda3/envs/nlp_course/lib/python3.7/site-packages/sklearn/linear_model/least_angle.py:1344: DeprecationWarning: `np.float` is a deprecated alias for the builtin `float`. To silence this warning, use `float` by itself. Doing this will not modify any behavior and is safe. If you specifically wanted the numpy scalar type, use `np.float64` here.\n",
            "Deprecated in NumPy 1.20; for more details and guidance: https://numpy.org/devdocs/release/1.20.0-notes.html#deprecations\n",
            "  max_n_alphas=1000, n_jobs=None, eps=np.finfo(np.float).eps,\n",
            "/Users/ionasantana/opt/anaconda3/envs/nlp_course/lib/python3.7/site-packages/sklearn/linear_model/least_angle.py:1480: DeprecationWarning: `np.float` is a deprecated alias for the builtin `float`. To silence this warning, use `float` by itself. Doing this will not modify any behavior and is safe. If you specifically wanted the numpy scalar type, use `np.float64` here.\n",
            "Deprecated in NumPy 1.20; for more details and guidance: https://numpy.org/devdocs/release/1.20.0-notes.html#deprecations\n",
            "  eps=np.finfo(np.float).eps, copy_X=True, positive=False):\n",
            "/Users/ionasantana/opt/anaconda3/envs/nlp_course/lib/python3.7/site-packages/sklearn/linear_model/randomized_l1.py:152: DeprecationWarning: `np.float` is a deprecated alias for the builtin `float`. To silence this warning, use `float` by itself. Doing this will not modify any behavior and is safe. If you specifically wanted the numpy scalar type, use `np.float64` here.\n",
            "Deprecated in NumPy 1.20; for more details and guidance: https://numpy.org/devdocs/release/1.20.0-notes.html#deprecations\n",
            "  precompute=False, eps=np.finfo(np.float).eps,\n",
            "/Users/ionasantana/opt/anaconda3/envs/nlp_course/lib/python3.7/site-packages/sklearn/linear_model/randomized_l1.py:320: DeprecationWarning: `np.float` is a deprecated alias for the builtin `float`. To silence this warning, use `float` by itself. Doing this will not modify any behavior and is safe. If you specifically wanted the numpy scalar type, use `np.float64` here.\n",
            "Deprecated in NumPy 1.20; for more details and guidance: https://numpy.org/devdocs/release/1.20.0-notes.html#deprecations\n",
            "  eps=np.finfo(np.float).eps, random_state=None,\n",
            "/Users/ionasantana/opt/anaconda3/envs/nlp_course/lib/python3.7/site-packages/sklearn/linear_model/randomized_l1.py:580: DeprecationWarning: `np.float` is a deprecated alias for the builtin `float`. To silence this warning, use `float` by itself. Doing this will not modify any behavior and is safe. If you specifically wanted the numpy scalar type, use `np.float64` here.\n",
            "Deprecated in NumPy 1.20; for more details and guidance: https://numpy.org/devdocs/release/1.20.0-notes.html#deprecations\n",
            "  eps=4 * np.finfo(np.float).eps, n_jobs=None,\n"
          ]
        }
      ],
      "source": [
        "import spacy \n",
        "import nltk"
      ]
    },
    {
      "cell_type": "code",
      "execution_count": 4,
      "metadata": {
        "id": "tYzY7cd_5jV5"
      },
      "outputs": [],
      "source": [
        "files = os.listdir('/2021')"
      ]
    },
    {
      "cell_type": "code",
      "execution_count": 5,
      "metadata": {
        "colab": {
          "base_uri": "https://localhost:8080/"
        },
        "id": "Whx_M0EU5tlG",
        "outputId": "c76f7077-6706-464f-c821-0a3b54bfacfd"
      },
      "outputs": [
        {
          "data": {
            "text/plain": [
              "['memcomissao.csv',\n",
              " 'evento_lic.csv',\n",
              " 'documento_lic.csv',\n",
              " 'licitante.csv',\n",
              " 'licitacao.csv',\n",
              " 'item.csv',\n",
              " 'pessoas.csv',\n",
              " 'dotacao_lic.csv',\n",
              " 'comissao.csv',\n",
              " 'membrocons.csv',\n",
              " 'proposta.csv',\n",
              " 'item_prop.csv',\n",
              " 'lote_prop.csv',\n",
              " 'lote.csv']"
            ]
          },
          "execution_count": 5,
          "metadata": {},
          "output_type": "execute_result"
        }
      ],
      "source": [
        "files"
      ]
    },
    {
      "cell_type": "code",
      "execution_count": 7,
      "metadata": {
        "colab": {
          "base_uri": "https://localhost:8080/"
        },
        "id": "yOtGZh0fvKIE",
        "outputId": "9d363d41-9b09-4b5e-edbc-83270e61ff54"
      },
      "outputs": [
        {
          "name": "stderr",
          "output_type": "stream",
          "text": [
            "/Users/ionasantana/opt/anaconda3/envs/nlp_course/lib/python3.7/site-packages/IPython/core/interactiveshell.py:3173: DtypeWarning: Columns (52,53) have mixed types. Specify dtype option on import or set low_memory=False.\n",
            "  interactivity=interactivity, compiler=compiler, result=result)\n",
            "/Users/ionasantana/opt/anaconda3/envs/nlp_course/lib/python3.7/site-packages/IPython/core/interactiveshell.py:3173: DtypeWarning: Columns (8,19) have mixed types. Specify dtype option on import or set low_memory=False.\n",
            "  interactivity=interactivity, compiler=compiler, result=result)\n"
          ]
        }
      ],
      "source": [
        "licitacao = pd.read_csv('/NLP/2021/' + files[4])\n",
        "item = pd.read_csv('/NLP/2021/' + files[5])"
      ]
    },
    {
      "cell_type": "markdown",
      "metadata": {
        "id": "RBGu3lHxumUV"
      },
      "source": [
        "### Pré-processamento Dados"
      ]
    },
    {
      "cell_type": "code",
      "execution_count": 8,
      "metadata": {
        "id": "UIIZNLXs9M-a"
      },
      "outputs": [],
      "source": [
        "cols = ['CD_ORGAO', 'NM_ORGAO', 'NR_LICITACAO', 'CD_TIPO_MODALIDADE','DS_OBJETO', 'VL_LICITACAO', 'BL_COVID19']\n",
        "licitacao_21 = licitacao[cols]"
      ]
    },
    {
      "cell_type": "code",
      "execution_count": 9,
      "metadata": {
        "id": "pfVB-X1dxzRf"
      },
      "outputs": [],
      "source": [
        "licitacao_21 = licitacao_21.dropna()"
      ]
    },
    {
      "cell_type": "code",
      "execution_count": 10,
      "metadata": {
        "colab": {
          "base_uri": "https://localhost:8080/",
          "height": 143
        },
        "id": "LBRRVx8JHc77",
        "outputId": "7b9129f4-9450-4620-873b-51ba93be3293"
      },
      "outputs": [
        {
          "data": {
            "text/html": [
              "<div>\n",
              "<style scoped>\n",
              "    .dataframe tbody tr th:only-of-type {\n",
              "        vertical-align: middle;\n",
              "    }\n",
              "\n",
              "    .dataframe tbody tr th {\n",
              "        vertical-align: top;\n",
              "    }\n",
              "\n",
              "    .dataframe thead th {\n",
              "        text-align: right;\n",
              "    }\n",
              "</style>\n",
              "<table border=\"1\" class=\"dataframe\">\n",
              "  <thead>\n",
              "    <tr style=\"text-align: right;\">\n",
              "      <th></th>\n",
              "      <th>CD_ORGAO</th>\n",
              "      <th>NM_ORGAO</th>\n",
              "      <th>NR_LICITACAO</th>\n",
              "      <th>CD_TIPO_MODALIDADE</th>\n",
              "      <th>DS_OBJETO</th>\n",
              "      <th>VL_LICITACAO</th>\n",
              "      <th>BL_COVID19</th>\n",
              "    </tr>\n",
              "  </thead>\n",
              "  <tbody>\n",
              "    <tr>\n",
              "      <th>0</th>\n",
              "      <td>53100</td>\n",
              "      <td>PM DE NOVA PALMA</td>\n",
              "      <td>1.0</td>\n",
              "      <td>TMP</td>\n",
              "      <td>CONTRATAÇÃO GLOBAL DE EMPRESA PARA CONSTRUÇÃO ...</td>\n",
              "      <td>259765.0</td>\n",
              "      <td>N</td>\n",
              "    </tr>\n",
              "    <tr>\n",
              "      <th>1</th>\n",
              "      <td>86800</td>\n",
              "      <td>PM DE BOA VISTA DO SUL</td>\n",
              "      <td>2.0</td>\n",
              "      <td>PRP</td>\n",
              "      <td>Contratação de empresa para prestação de servi...</td>\n",
              "      <td>390625.0</td>\n",
              "      <td>N</td>\n",
              "    </tr>\n",
              "    <tr>\n",
              "      <th>2</th>\n",
              "      <td>45003</td>\n",
              "      <td>SERVIÇO AUTÔN. MUN. DE ÁGUA E ESGOTO - CX.SUL</td>\n",
              "      <td>46.0</td>\n",
              "      <td>PRP</td>\n",
              "      <td>Aquisição de 80.000 (oitenta mil) quilogramas ...</td>\n",
              "      <td>833800.0</td>\n",
              "      <td>N</td>\n",
              "    </tr>\n",
              "  </tbody>\n",
              "</table>\n",
              "</div>"
            ],
            "text/plain": [
              "   CD_ORGAO                                       NM_ORGAO  NR_LICITACAO  \\\n",
              "0     53100                               PM DE NOVA PALMA           1.0   \n",
              "1     86800                         PM DE BOA VISTA DO SUL           2.0   \n",
              "2     45003  SERVIÇO AUTÔN. MUN. DE ÁGUA E ESGOTO - CX.SUL          46.0   \n",
              "\n",
              "  CD_TIPO_MODALIDADE                                          DS_OBJETO  \\\n",
              "0                TMP  CONTRATAÇÃO GLOBAL DE EMPRESA PARA CONSTRUÇÃO ...   \n",
              "1                PRP  Contratação de empresa para prestação de servi...   \n",
              "2                PRP  Aquisição de 80.000 (oitenta mil) quilogramas ...   \n",
              "\n",
              "   VL_LICITACAO BL_COVID19  \n",
              "0      259765.0          N  \n",
              "1      390625.0          N  \n",
              "2      833800.0          N  "
            ]
          },
          "execution_count": 10,
          "metadata": {},
          "output_type": "execute_result"
        }
      ],
      "source": [
        "licitacao_21.head(3)"
      ]
    },
    {
      "cell_type": "code",
      "execution_count": 11,
      "metadata": {
        "id": "x8R4Y7eD9UTI"
      },
      "outputs": [],
      "source": [
        "item_licitacao = item.iloc[:, 0:12]\n",
        "item_licitacao['BL_COVID19'] = item['BL_COVID19'] "
      ]
    },
    {
      "cell_type": "code",
      "execution_count": 12,
      "metadata": {
        "colab": {
          "base_uri": "https://localhost:8080/"
        },
        "id": "Ap2LJwwzyBAv",
        "outputId": "00aa6cc2-5fe6-4919-d3f5-de4742c0809e"
      },
      "outputs": [
        {
          "data": {
            "text/plain": [
              "CD_ORGAO                    0\n",
              "NR_LICITACAO                0\n",
              "ANO_LICITACAO               0\n",
              "CD_TIPO_MODALIDADE          0\n",
              "NR_LOTE                     0\n",
              "NR_ITEM                     0\n",
              "NR_ITEM_ORIGINAL            0\n",
              "DS_ITEM                     1\n",
              "QT_ITENS                    0\n",
              "SG_UNIDADE_MEDIDA           0\n",
              "VL_UNITARIO_ESTIMADO    39446\n",
              "VL_TOTAL_ESTIMADO       39446\n",
              "BL_COVID19                  0\n",
              "dtype: int64"
            ]
          },
          "execution_count": 12,
          "metadata": {},
          "output_type": "execute_result"
        }
      ],
      "source": [
        "item_licitacao.isna().sum()"
      ]
    },
    {
      "cell_type": "code",
      "execution_count": 13,
      "metadata": {
        "id": "O2q1xeSWxKem"
      },
      "outputs": [],
      "source": [
        "item_licitacao = item_licitacao.dropna()"
      ]
    },
    {
      "cell_type": "code",
      "execution_count": 14,
      "metadata": {
        "colab": {
          "base_uri": "https://localhost:8080/"
        },
        "id": "qAmKnZLfx-Pw",
        "outputId": "39f6a6db-7540-4fc7-f283-f997f3feb4e1"
      },
      "outputs": [
        {
          "data": {
            "text/plain": [
              "(87469, 932800)"
            ]
          },
          "execution_count": 14,
          "metadata": {},
          "output_type": "execute_result"
        }
      ],
      "source": [
        "len(licitacao_21), len(item_licitacao)"
      ]
    },
    {
      "cell_type": "code",
      "execution_count": 15,
      "metadata": {
        "id": "VbNGsWkByJ4T"
      },
      "outputs": [],
      "source": [
        "licitacao_21['covid'] = np.where((licitacao_21['BL_COVID19'] == 'S'), ' covid19', '')\n",
        "licitacao_21['DS_OBJETO'] = licitacao_21['DS_OBJETO'] + licitacao_21['covid']"
      ]
    },
    {
      "cell_type": "code",
      "execution_count": 16,
      "metadata": {
        "id": "SPpubdTYGwtT"
      },
      "outputs": [],
      "source": [
        "licitacao_21 = licitacao_21.drop(['BL_COVID19', 'covid'], axis = 1)"
      ]
    },
    {
      "cell_type": "code",
      "execution_count": 18,
      "metadata": {
        "id": "jxrbDs0exJtm"
      },
      "outputs": [],
      "source": [
        "item_licitacao['covid'] = np.where((item_licitacao['BL_COVID19'] == 'S'), ' covid19', '')\n",
        "item_licitacao['DS_ITEM'] = item_licitacao['DS_ITEM'] + item_licitacao['covid']"
      ]
    },
    {
      "cell_type": "code",
      "execution_count": 19,
      "metadata": {
        "id": "evpu74VeEj2O"
      },
      "outputs": [],
      "source": [
        "item_licitacao = item_licitacao.drop(['BL_COVID19', 'covid'], axis = 1)"
      ]
    },
    {
      "cell_type": "code",
      "execution_count": 20,
      "metadata": {
        "colab": {
          "base_uri": "https://localhost:8080/",
          "height": 187
        },
        "id": "f4FM6DJGEeaZ",
        "outputId": "7399bdc8-b4b4-4927-d3db-06aa031db99d"
      },
      "outputs": [
        {
          "data": {
            "text/html": [
              "<div>\n",
              "<style scoped>\n",
              "    .dataframe tbody tr th:only-of-type {\n",
              "        vertical-align: middle;\n",
              "    }\n",
              "\n",
              "    .dataframe tbody tr th {\n",
              "        vertical-align: top;\n",
              "    }\n",
              "\n",
              "    .dataframe thead th {\n",
              "        text-align: right;\n",
              "    }\n",
              "</style>\n",
              "<table border=\"1\" class=\"dataframe\">\n",
              "  <thead>\n",
              "    <tr style=\"text-align: right;\">\n",
              "      <th></th>\n",
              "      <th>CD_ORGAO</th>\n",
              "      <th>NR_LICITACAO</th>\n",
              "      <th>CD_TIPO_MODALIDADE</th>\n",
              "      <th>NR_LOTE</th>\n",
              "      <th>NR_ITEM</th>\n",
              "      <th>NR_ITEM_ORIGINAL</th>\n",
              "      <th>DS_ITEM</th>\n",
              "      <th>QT_ITENS</th>\n",
              "      <th>SG_UNIDADE_MEDIDA</th>\n",
              "      <th>VL_UNITARIO_ESTIMADO</th>\n",
              "      <th>VL_TOTAL_ESTIMADO</th>\n",
              "    </tr>\n",
              "  </thead>\n",
              "  <tbody>\n",
              "    <tr>\n",
              "      <th>0</th>\n",
              "      <td>44500</td>\n",
              "      <td>274.0</td>\n",
              "      <td>CPC</td>\n",
              "      <td>1</td>\n",
              "      <td>1</td>\n",
              "      <td>1</td>\n",
              "      <td>Credenciamento de academias de ginástica e mus...</td>\n",
              "      <td>1</td>\n",
              "      <td>UN</td>\n",
              "      <td>50.00</td>\n",
              "      <td>50.00</td>\n",
              "    </tr>\n",
              "    <tr>\n",
              "      <th>1</th>\n",
              "      <td>56900</td>\n",
              "      <td>25.0</td>\n",
              "      <td>TMP</td>\n",
              "      <td>1</td>\n",
              "      <td>1</td>\n",
              "      <td>1.1</td>\n",
              "      <td>PLACA DE OBRA (PARA CONSTRUCAO CIVIL) EM CHAPA...</td>\n",
              "      <td>6</td>\n",
              "      <td>M2</td>\n",
              "      <td>272.49</td>\n",
              "      <td>1634.94</td>\n",
              "    </tr>\n",
              "    <tr>\n",
              "      <th>2</th>\n",
              "      <td>56900</td>\n",
              "      <td>25.0</td>\n",
              "      <td>TMP</td>\n",
              "      <td>1</td>\n",
              "      <td>2</td>\n",
              "      <td>1.2</td>\n",
              "      <td>TAPUME COM COMPENSADO DE MADEIRA. AF_05/2018</td>\n",
              "      <td>71</td>\n",
              "      <td>M2</td>\n",
              "      <td>128.69</td>\n",
              "      <td>9136.99</td>\n",
              "    </tr>\n",
              "  </tbody>\n",
              "</table>\n",
              "</div>"
            ],
            "text/plain": [
              "   CD_ORGAO  NR_LICITACAO CD_TIPO_MODALIDADE  NR_LOTE  NR_ITEM  \\\n",
              "0     44500         274.0                CPC        1        1   \n",
              "1     56900          25.0                TMP        1        1   \n",
              "2     56900          25.0                TMP        1        2   \n",
              "\n",
              "  NR_ITEM_ORIGINAL                                            DS_ITEM  \\\n",
              "0                1  Credenciamento de academias de ginástica e mus...   \n",
              "1             1.1   PLACA DE OBRA (PARA CONSTRUCAO CIVIL) EM CHAPA...   \n",
              "2             1.2        TAPUME COM COMPENSADO DE MADEIRA. AF_05/2018   \n",
              "\n",
              "  QT_ITENS SG_UNIDADE_MEDIDA  VL_UNITARIO_ESTIMADO  VL_TOTAL_ESTIMADO  \n",
              "0        1                UN                 50.00              50.00  \n",
              "1        6                M2                272.49            1634.94  \n",
              "2       71                M2                128.69            9136.99  "
            ]
          },
          "execution_count": 20,
          "metadata": {},
          "output_type": "execute_result"
        }
      ],
      "source": [
        "item_licitacao['ANO_LICITACAO'].unique()\n",
        "item_licitacao.drop(['ANO_LICITACAO'], axis = 1).head(3)"
      ]
    },
    {
      "cell_type": "markdown",
      "metadata": {
        "id": "wmZpI_COxX7Y"
      },
      "source": [
        "### Pré-processamento Texto"
      ]
    },
    {
      "cell_type": "code",
      "execution_count": 33,
      "metadata": {
        "id": "hBHXG3jEJQYd"
      },
      "outputs": [],
      "source": [
        "# Libs adicionais de NLP\n",
        "import spacy \n",
        "# import pt_core_news_lg\n",
        "import nltk\n",
        "from sklearn.feature_extraction.text import CountVectorizer, TfidfVectorizer\n",
        "import re"
      ]
    },
    {
      "cell_type": "code",
      "execution_count": 39,
      "metadata": {
        "colab": {
          "base_uri": "https://localhost:8080/",
          "height": 201
        },
        "id": "CmrMGEJoJSSW",
        "outputId": "f80775f6-e819-4c3f-b029-2d8303c3270b"
      },
      "outputs": [
        {
          "name": "stdout",
          "output_type": "stream",
          "text": [
            "[nltk_data] Downloading package stopwords to\n",
            "[nltk_data]     /Users/ionasantana/nltk_data...\n",
            "[nltk_data]   Package stopwords is already up-to-date!\n"
          ]
        },
        {
          "data": {
            "text/plain": [
              "True"
            ]
          },
          "execution_count": 39,
          "metadata": {},
          "output_type": "execute_result"
        }
      ],
      "source": [
        "nlp=spacy.load(\"pt_core_news_sm\")\n",
        "nltk.download('stopwords')"
      ]
    },
    {
      "cell_type": "code",
      "execution_count": 24,
      "metadata": {},
      "outputs": [],
      "source": [
        "stopwords = nltk.corpus.stopwords.words('portuguese')\n",
        "\n",
        "filter_out = stopwords + ['kg', 'm', 'cm', 'mm', 'mg', 'ml', 'm²', '-', '+', '=', 'mcg', 'nº', 'g', 'ª', 'º']"
      ]
    },
    {
      "cell_type": "markdown",
      "metadata": {},
      "source": [
        "<table ><tr><th>Character</th><th>Description</th><th>Example Pattern Code</th><th >Exammple Match</th></tr>\n",
        "\n",
        "<tr ><td><span >\\d</span></td><td>A digit</td><td>file_\\d\\d</td><td>file_25</td></tr>\n",
        "\n",
        "<tr ><td><span >\\w</span></td><td>Alphanumeric</td><td>\\w-\\w\\w\\w</td><td>A-b_1</td></tr>\n",
        "\n",
        "\n",
        "\n",
        "<tr ><td><span >\\s</span></td><td>White space</td><td>a\\sb\\sc</td><td>a b c</td></tr>\n",
        "\n",
        "\n",
        "\n",
        "<tr ><td><span >\\D</span></td><td>A non digit</td><td>\\D\\D\\D</td><td>ABC</td></tr>\n",
        "\n",
        "<tr ><td><span >\\W</span></td><td>Non-alphanumeric</td><td>\\W\\W\\W\\W\\W</td><td>*-+=)</td></tr>\n",
        "\n",
        "<tr ><td><span >\\S</span></td><td>Non-whitespace</td><td>\\S\\S\\S\\S</td><td>Yoyo</td></tr></table>"
      ]
    },
    {
      "cell_type": "markdown",
      "metadata": {},
      "source": [
        "<table ><tr><th>Character</th><th>Description</th><th>Example Pattern Code</th><th >Exammple Match</th></tr>\n",
        "\n",
        "<tr ><td><span >+</span></td><td>Occurs one or more times</td><td>\tVersion \\w-\\w+</td><td>Version A-b1_1</td></tr>\n",
        "\n",
        "<tr ><td><span >{3}</span></td><td>Occurs exactly 3 times</td><td>\\D{3}</td><td>abc</td></tr>\n",
        "\n",
        "\n",
        "\n",
        "<tr ><td><span >{2,4}</span></td><td>Occurs 2 to 4 times</td><td>\\d{2,4}</td><td>123</td></tr>\n",
        "\n",
        "\n",
        "\n",
        "<tr ><td><span >{3,}</span></td><td>Occurs 3 or more</td><td>\\w{3,}</td><td>anycharacters</td></tr>\n",
        "\n",
        "<tr ><td><span >\\*</span></td><td>Occurs zero or more times</td><td>A\\*B\\*C*</td><td>AAACC</td></tr>\n",
        "\n",
        "<tr ><td><span >?</span></td><td>Once or none</td><td>plurals?</td><td>plural</td></tr></table>"
      ]
    },
    {
      "cell_type": "code",
      "execution_count": 72,
      "metadata": {},
      "outputs": [],
      "source": [
        "def pre_processing(sentence):\n",
        "    sentence = sentence.lower()\n",
        "    sentence = re.sub(r\"[^\\w\\s]\", \"\", sentence)\n",
        "    sentence = re.sub(r\"[0-9]+\", \"\", sentence)\n",
        "    sentence = re.sub(r\"/+\", \"\", sentence)\n",
        "    sentence = re.sub(r\" {2,}\", \" \", sentence)\n",
        "\n",
        "    #Tokenização\n",
        "    doc = nlp(sentence)\n",
        "\n",
        "    tokens=[token.text for token in doc]\n",
        "    tokens=[token for token in tokens if token not in filter_out]\n",
        "\n",
        "    return tokens\n"
      ]
    },
    {
      "cell_type": "code",
      "execution_count": 75,
      "metadata": {},
      "outputs": [
        {
          "name": "stdout",
          "output_type": "stream",
          "text": [
            "['testando', 'aa']\n"
          ]
        }
      ],
      "source": [
        "print(pre_processing('testando 1 2 3 aa'))"
      ]
    },
    {
      "cell_type": "code",
      "execution_count": 76,
      "metadata": {},
      "outputs": [],
      "source": [
        "item_licitacao['DS_ITEM_TOKEN'] = item_licitacao['DS_ITEM'].apply(lambda sentece: pre_processing(sentece))\n"
      ]
    },
    {
      "cell_type": "code",
      "execution_count": 77,
      "metadata": {},
      "outputs": [],
      "source": [
        "item_licitacao.to_csv('item_licitacao_token.csv')"
      ]
    },
    {
      "cell_type": "code",
      "execution_count": 78,
      "metadata": {},
      "outputs": [],
      "source": [
        "licitacao_21['DS_OBJETO_TOKEN'] = licitacao_21['DS_OBJETO'].apply(lambda sentece: pre_processing(sentece))\n"
      ]
    },
    {
      "cell_type": "code",
      "execution_count": 79,
      "metadata": {},
      "outputs": [],
      "source": [
        "licitacao_21.to_csv('licitacao_21_token.csv')"
      ]
    },
    {
      "cell_type": "markdown",
      "metadata": {
        "id": "9SaqqMLSz83K"
      },
      "source": [
        "### Construção dos modelos"
      ]
    },
    {
      "cell_type": "markdown",
      "metadata": {
        "id": "kWWO7591yuQl"
      },
      "source": []
    },
    {
      "cell_type": "code",
      "execution_count": 80,
      "metadata": {
        "id": "Kfc14x1Mz_6k"
      },
      "outputs": [
        {
          "data": {
            "text/html": [
              "<div>\n",
              "<style scoped>\n",
              "    .dataframe tbody tr th:only-of-type {\n",
              "        vertical-align: middle;\n",
              "    }\n",
              "\n",
              "    .dataframe tbody tr th {\n",
              "        vertical-align: top;\n",
              "    }\n",
              "\n",
              "    .dataframe thead th {\n",
              "        text-align: right;\n",
              "    }\n",
              "</style>\n",
              "<table border=\"1\" class=\"dataframe\">\n",
              "  <thead>\n",
              "    <tr style=\"text-align: right;\">\n",
              "      <th></th>\n",
              "      <th>CD_ORGAO</th>\n",
              "      <th>NM_ORGAO</th>\n",
              "      <th>NR_LICITACAO</th>\n",
              "      <th>CD_TIPO_MODALIDADE</th>\n",
              "      <th>DS_OBJETO</th>\n",
              "      <th>VL_LICITACAO</th>\n",
              "      <th>DS_OBJETO_TOKEN</th>\n",
              "    </tr>\n",
              "  </thead>\n",
              "  <tbody>\n",
              "    <tr>\n",
              "      <th>0</th>\n",
              "      <td>53100</td>\n",
              "      <td>PM DE NOVA PALMA</td>\n",
              "      <td>1.0</td>\n",
              "      <td>TMP</td>\n",
              "      <td>CONTRATAÇÃO GLOBAL DE EMPRESA PARA CONSTRUÇÃO ...</td>\n",
              "      <td>259765.0</td>\n",
              "      <td>[contratação, global, empresa, construção, par...</td>\n",
              "    </tr>\n",
              "    <tr>\n",
              "      <th>1</th>\n",
              "      <td>86800</td>\n",
              "      <td>PM DE BOA VISTA DO SUL</td>\n",
              "      <td>2.0</td>\n",
              "      <td>PRP</td>\n",
              "      <td>Contratação de empresa para prestação de servi...</td>\n",
              "      <td>390625.0</td>\n",
              "      <td>[contratação, empresa, prestação, serviços, tr...</td>\n",
              "    </tr>\n",
              "    <tr>\n",
              "      <th>2</th>\n",
              "      <td>45003</td>\n",
              "      <td>SERVIÇO AUTÔN. MUN. DE ÁGUA E ESGOTO - CX.SUL</td>\n",
              "      <td>46.0</td>\n",
              "      <td>PRP</td>\n",
              "      <td>Aquisição de 80.000 (oitenta mil) quilogramas ...</td>\n",
              "      <td>833800.0</td>\n",
              "      <td>[aquisição, oitenta, mil, quilogramas, ortopol...</td>\n",
              "    </tr>\n",
              "  </tbody>\n",
              "</table>\n",
              "</div>"
            ],
            "text/plain": [
              "   CD_ORGAO                                       NM_ORGAO  NR_LICITACAO  \\\n",
              "0     53100                               PM DE NOVA PALMA           1.0   \n",
              "1     86800                         PM DE BOA VISTA DO SUL           2.0   \n",
              "2     45003  SERVIÇO AUTÔN. MUN. DE ÁGUA E ESGOTO - CX.SUL          46.0   \n",
              "\n",
              "  CD_TIPO_MODALIDADE                                          DS_OBJETO  \\\n",
              "0                TMP  CONTRATAÇÃO GLOBAL DE EMPRESA PARA CONSTRUÇÃO ...   \n",
              "1                PRP  Contratação de empresa para prestação de servi...   \n",
              "2                PRP  Aquisição de 80.000 (oitenta mil) quilogramas ...   \n",
              "\n",
              "   VL_LICITACAO                                    DS_OBJETO_TOKEN  \n",
              "0      259765.0  [contratação, global, empresa, construção, par...  \n",
              "1      390625.0  [contratação, empresa, prestação, serviços, tr...  \n",
              "2      833800.0  [aquisição, oitenta, mil, quilogramas, ortopol...  "
            ]
          },
          "execution_count": 80,
          "metadata": {},
          "output_type": "execute_result"
        }
      ],
      "source": [
        "licitacao_21.head(3) #retirar os (), depois?"
      ]
    },
    {
      "cell_type": "markdown",
      "metadata": {},
      "source": []
    },
    {
      "cell_type": "code",
      "execution_count": 81,
      "metadata": {},
      "outputs": [
        {
          "data": {
            "text/html": [
              "<div>\n",
              "<style scoped>\n",
              "    .dataframe tbody tr th:only-of-type {\n",
              "        vertical-align: middle;\n",
              "    }\n",
              "\n",
              "    .dataframe tbody tr th {\n",
              "        vertical-align: top;\n",
              "    }\n",
              "\n",
              "    .dataframe thead th {\n",
              "        text-align: right;\n",
              "    }\n",
              "</style>\n",
              "<table border=\"1\" class=\"dataframe\">\n",
              "  <thead>\n",
              "    <tr style=\"text-align: right;\">\n",
              "      <th></th>\n",
              "      <th>CD_ORGAO</th>\n",
              "      <th>NR_LICITACAO</th>\n",
              "      <th>ANO_LICITACAO</th>\n",
              "      <th>CD_TIPO_MODALIDADE</th>\n",
              "      <th>NR_LOTE</th>\n",
              "      <th>NR_ITEM</th>\n",
              "      <th>NR_ITEM_ORIGINAL</th>\n",
              "      <th>DS_ITEM</th>\n",
              "      <th>QT_ITENS</th>\n",
              "      <th>SG_UNIDADE_MEDIDA</th>\n",
              "      <th>VL_UNITARIO_ESTIMADO</th>\n",
              "      <th>VL_TOTAL_ESTIMADO</th>\n",
              "      <th>DS_ITEM_TOKEN</th>\n",
              "    </tr>\n",
              "  </thead>\n",
              "  <tbody>\n",
              "    <tr>\n",
              "      <th>0</th>\n",
              "      <td>44500</td>\n",
              "      <td>274.0</td>\n",
              "      <td>2021</td>\n",
              "      <td>CPC</td>\n",
              "      <td>1</td>\n",
              "      <td>1</td>\n",
              "      <td>1</td>\n",
              "      <td>Credenciamento de academias de ginástica e mus...</td>\n",
              "      <td>1</td>\n",
              "      <td>UN</td>\n",
              "      <td>50.00</td>\n",
              "      <td>50.00</td>\n",
              "      <td>[credenciamento, academias, ginástica, muscula...</td>\n",
              "    </tr>\n",
              "    <tr>\n",
              "      <th>1</th>\n",
              "      <td>56900</td>\n",
              "      <td>25.0</td>\n",
              "      <td>2021</td>\n",
              "      <td>TMP</td>\n",
              "      <td>1</td>\n",
              "      <td>1</td>\n",
              "      <td>1.1</td>\n",
              "      <td>PLACA DE OBRA (PARA CONSTRUCAO CIVIL) EM CHAPA...</td>\n",
              "      <td>6</td>\n",
              "      <td>M2</td>\n",
              "      <td>272.49</td>\n",
              "      <td>1634.94</td>\n",
              "      <td>[placa, obra, construcao, civil, chapa, galvan...</td>\n",
              "    </tr>\n",
              "    <tr>\n",
              "      <th>2</th>\n",
              "      <td>56900</td>\n",
              "      <td>25.0</td>\n",
              "      <td>2021</td>\n",
              "      <td>TMP</td>\n",
              "      <td>1</td>\n",
              "      <td>2</td>\n",
              "      <td>1.2</td>\n",
              "      <td>TAPUME COM COMPENSADO DE MADEIRA. AF_05/2018</td>\n",
              "      <td>71</td>\n",
              "      <td>M2</td>\n",
              "      <td>128.69</td>\n",
              "      <td>9136.99</td>\n",
              "      <td>[tapume, compensado, madeira, af, _]</td>\n",
              "    </tr>\n",
              "  </tbody>\n",
              "</table>\n",
              "</div>"
            ],
            "text/plain": [
              "   CD_ORGAO  NR_LICITACAO  ANO_LICITACAO CD_TIPO_MODALIDADE  NR_LOTE  NR_ITEM  \\\n",
              "0     44500         274.0           2021                CPC        1        1   \n",
              "1     56900          25.0           2021                TMP        1        1   \n",
              "2     56900          25.0           2021                TMP        1        2   \n",
              "\n",
              "  NR_ITEM_ORIGINAL                                            DS_ITEM  \\\n",
              "0                1  Credenciamento de academias de ginástica e mus...   \n",
              "1             1.1   PLACA DE OBRA (PARA CONSTRUCAO CIVIL) EM CHAPA...   \n",
              "2             1.2        TAPUME COM COMPENSADO DE MADEIRA. AF_05/2018   \n",
              "\n",
              "  QT_ITENS SG_UNIDADE_MEDIDA  VL_UNITARIO_ESTIMADO  VL_TOTAL_ESTIMADO  \\\n",
              "0        1                UN                 50.00              50.00   \n",
              "1        6                M2                272.49            1634.94   \n",
              "2       71                M2                128.69            9136.99   \n",
              "\n",
              "                                       DS_ITEM_TOKEN  \n",
              "0  [credenciamento, academias, ginástica, muscula...  \n",
              "1  [placa, obra, construcao, civil, chapa, galvan...  \n",
              "2               [tapume, compensado, madeira, af, _]  "
            ]
          },
          "execution_count": 81,
          "metadata": {},
          "output_type": "execute_result"
        }
      ],
      "source": [
        "item_licitacao.head(3)"
      ]
    },
    {
      "cell_type": "code",
      "execution_count": 93,
      "metadata": {},
      "outputs": [
        {
          "name": "stderr",
          "output_type": "stream",
          "text": [
            "/Users/ionasantana/opt/anaconda3/envs/nlp_course/lib/python3.7/site-packages/IPython/core/interactiveshell.py:3173: DtypeWarning: Columns (9) have mixed types. Specify dtype option on import or set low_memory=False.\n",
            "  interactivity=interactivity, compiler=compiler, result=result)\n"
          ]
        }
      ],
      "source": [
        "licitacao_21 = pd.read_csv('licitacao_21_token.csv')\n",
        "item_licitacao = pd.read_csv('item_licitacao_token.csv')"
      ]
    },
    {
      "cell_type": "code",
      "execution_count": 94,
      "metadata": {},
      "outputs": [],
      "source": [
        "from sklearn.feature_extraction.text import CountVectorizer"
      ]
    },
    {
      "cell_type": "code",
      "execution_count": 95,
      "metadata": {},
      "outputs": [],
      "source": [
        "import gensim\n",
        "import gensim.corpora as corpora\n",
        "from gensim.utils import simple_preprocess\n",
        "from gensim.models import CoherenceModel\n",
        "from gensim.models.doc2vec import Doc2Vec, TaggedDocument"
      ]
    },
    {
      "cell_type": "code",
      "execution_count": 96,
      "metadata": {},
      "outputs": [
        {
          "data": {
            "text/plain": [
              "Index(['Unnamed: 0', 'CD_ORGAO', 'NR_LICITACAO', 'ANO_LICITACAO',\n",
              "       'CD_TIPO_MODALIDADE', 'NR_LOTE', 'NR_ITEM', 'NR_ITEM_ORIGINAL',\n",
              "       'DS_ITEM', 'QT_ITENS', 'SG_UNIDADE_MEDIDA', 'VL_UNITARIO_ESTIMADO',\n",
              "       'VL_TOTAL_ESTIMADO', 'DS_ITEM_TOKEN'],\n",
              "      dtype='object')"
            ]
          },
          "execution_count": 96,
          "metadata": {},
          "output_type": "execute_result"
        }
      ],
      "source": [
        "item_licitacao.columns"
      ]
    },
    {
      "cell_type": "code",
      "execution_count": 97,
      "metadata": {},
      "outputs": [],
      "source": [
        "lic= [d.split() for d in item_licitacao['DS_ITEM_TOKEN']]\n"
      ]
    },
    {
      "cell_type": "code",
      "execution_count": 98,
      "metadata": {},
      "outputs": [],
      "source": [
        "id2word = corpora.Dictionary(lic)"
      ]
    },
    {
      "cell_type": "code",
      "execution_count": 99,
      "metadata": {},
      "outputs": [],
      "source": [
        "texts = item_licitacao['DS_ITEM_TOKEN']"
      ]
    },
    {
      "cell_type": "code",
      "execution_count": 100,
      "metadata": {},
      "outputs": [
        {
          "name": "stdout",
          "output_type": "stream",
          "text": [
            "[[(0, 1), (1, 1), (2, 1), (3, 1), (4, 1), (5, 1), (6, 2), (7, 1), (8, 1), (9, 1), (10, 1), (11, 1), (12, 3), (13, 1), (14, 1), (15, 1), (16, 1), (17, 1), (18, 1), (19, 1), (20, 1)]]\n"
          ]
        }
      ],
      "source": [
        "corpus = [id2word.doc2bow(text.split()) for text in texts]\n",
        "\n",
        "# Visualização\n",
        "print(corpus[:1])"
      ]
    },
    {
      "cell_type": "code",
      "execution_count": 101,
      "metadata": {},
      "outputs": [
        {
          "data": {
            "text/plain": [
              "[[(\"'academias',\", 1),\n",
              "  (\"'cada',\", 1),\n",
              "  (\"'canoas',\", 1),\n",
              "  (\"'credenciado',\", 1),\n",
              "  (\"'desembolsado',\", 1),\n",
              "  (\"'escolhido',\", 1),\n",
              "  (\"'estabelecimento',\", 2),\n",
              "  (\"'exercícios',\", 1),\n",
              "  (\"'físicos',\", 1),\n",
              "  (\"'ginástica',\", 1),\n",
              "  (\"'matriculado',\", 1),\n",
              "  (\"'ministrem',\", 1),\n",
              "  (\"'município',\", 3),\n",
              "  (\"'musculação',\", 1),\n",
              "  (\"'outro',\", 1),\n",
              "  (\"'r',\", 1),\n",
              "  (\"'servidor',\", 1),\n",
              "  (\"'servidor']\", 1),\n",
              "  (\"'valor',\", 1),\n",
              "  (\"'âmbito',\", 1),\n",
              "  (\"['credenciamento',\", 1)]]"
            ]
          },
          "execution_count": 101,
          "metadata": {},
          "output_type": "execute_result"
        }
      ],
      "source": [
        "# Corpus num formado simplificado (term-frequency)\n",
        "[[(id2word[id], freq) for id, freq in cp] for cp in corpus[:1]]"
      ]
    },
    {
      "cell_type": "code",
      "execution_count": 102,
      "metadata": {},
      "outputs": [],
      "source": [
        "from sklearn.decomposition import LatentDirichletAllocation"
      ]
    },
    {
      "cell_type": "code",
      "execution_count": 103,
      "metadata": {},
      "outputs": [],
      "source": [
        "filter_out = filter_out + ['cor', 'cores', 'un', 'branco', 'unidades', \n",
        "'litros', 'af', 'mgml', 'nbr', 'dn', 'eou', 'referência', 'conforme',\n",
        "'demais', 'deverá', 'tipo', 'r', 'gb']\n"
      ]
    },
    {
      "cell_type": "code",
      "execution_count": 104,
      "metadata": {},
      "outputs": [],
      "source": [
        "cv = CountVectorizer(max_df=0.95, min_df=2, stop_words=filter_out)"
      ]
    },
    {
      "cell_type": "code",
      "execution_count": 105,
      "metadata": {},
      "outputs": [],
      "source": [
        "dtm = cv.fit_transform(item_licitacao['DS_ITEM_TOKEN'])"
      ]
    },
    {
      "cell_type": "code",
      "execution_count": 106,
      "metadata": {},
      "outputs": [],
      "source": [
        "LDA = LatentDirichletAllocation(n_components=10,random_state=42)"
      ]
    },
    {
      "cell_type": "code",
      "execution_count": 107,
      "metadata": {},
      "outputs": [
        {
          "data": {
            "text/plain": [
              "LatentDirichletAllocation(batch_size=128, doc_topic_prior=None,\n",
              "             evaluate_every=-1, learning_decay=0.7,\n",
              "             learning_method='batch', learning_offset=10.0,\n",
              "             max_doc_update_iter=100, max_iter=10, mean_change_tol=0.001,\n",
              "             n_components=10, n_jobs=None, n_topics=None, perp_tol=0.1,\n",
              "             random_state=42, topic_word_prior=None,\n",
              "             total_samples=1000000.0, verbose=0)"
            ]
          },
          "execution_count": 107,
          "metadata": {},
          "output_type": "execute_result"
        }
      ],
      "source": [
        "LDA.fit(dtm)"
      ]
    },
    {
      "cell_type": "code",
      "execution_count": 108,
      "metadata": {},
      "outputs": [
        {
          "data": {
            "text/plain": [
              "array([[8.81523650e+02, 1.00000000e-01, 6.93099963e+02, ...,\n",
              "        1.50995543e+01, 1.00000000e-01, 1.00002658e-01],\n",
              "       [1.00008775e-01, 4.10000000e+00, 1.00001261e-01, ...,\n",
              "        1.00000001e-01, 2.09999727e+00, 1.00000000e-01],\n",
              "       [4.62857095e+00, 1.00000000e-01, 1.00014331e-01, ...,\n",
              "        1.00000001e-01, 1.00000000e-01, 1.00000000e-01],\n",
              "       ...,\n",
              "       [1.00003368e-01, 1.00000000e-01, 1.00008509e-01, ...,\n",
              "        1.00014090e-01, 1.00000000e-01, 1.00000000e-01],\n",
              "       [1.00003016e-01, 1.00000000e-01, 1.00000342e-01, ...,\n",
              "        1.00000001e-01, 1.00000000e-01, 1.00005586e-01],\n",
              "       [3.21476870e+01, 1.00000000e-01, 1.00001201e-01, ...,\n",
              "        1.00431556e-01, 1.00000000e-01, 1.00000777e-01]])"
            ]
          },
          "execution_count": 108,
          "metadata": {},
          "output_type": "execute_result"
        }
      ],
      "source": [
        "LDA.components_"
      ]
    },
    {
      "cell_type": "code",
      "execution_count": 109,
      "metadata": {},
      "outputs": [
        {
          "data": {
            "text/plain": [
              "array([12952, 26683, 45820, ..., 75142,  7650, 76573])"
            ]
          },
          "execution_count": 109,
          "metadata": {},
          "output_type": "execute_result"
        }
      ],
      "source": [
        "single_topic = LDA.components_[0]\n",
        "# Returns the indices that would sort this array.\n",
        "single_topic.argsort()"
      ]
    },
    {
      "cell_type": "code",
      "execution_count": 110,
      "metadata": {},
      "outputs": [],
      "source": [
        "top_word_indices = single_topic.argsort()[-10:]"
      ]
    },
    {
      "cell_type": "code",
      "execution_count": 111,
      "metadata": {},
      "outputs": [
        {
          "name": "stdout",
          "output_type": "stream",
          "text": [
            "impressão\n",
            "branca\n",
            "preta\n",
            "broca\n",
            "caneta\n",
            "ponta\n",
            "tecido\n",
            "tamanho\n",
            "azul\n",
            "tinta\n"
          ]
        }
      ],
      "source": [
        "for index in top_word_indices:\n",
        "    print(cv.get_feature_names()[index])"
      ]
    },
    {
      "cell_type": "markdown",
      "metadata": {},
      "source": [
        "Após o processamento, se encontrou palavras como cor, un, af, tipo - então elas foram adicionadas no filtro e foi se processado novamente"
      ]
    },
    {
      "cell_type": "code",
      "execution_count": 112,
      "metadata": {},
      "outputs": [
        {
          "name": "stdout",
          "output_type": "stream",
          "text": [
            "Top 10 tópicos dos itens#0\n",
            "['impressão', 'branca', 'preta', 'broca', 'caneta', 'ponta', 'tecido', 'tamanho', 'azul', 'tinta']\n",
            "\n",
            "\n",
            "Top 10 tópicos dos itens#1\n",
            "['galvanizado', 'soldável', 'livro', 'tubo', 'mão', 'concreto', 'fornecimento', 'obra', 'instalação', 'pvc']\n",
            "\n",
            "\n",
            "Top 10 tópicos dos itens#2\n",
            "['serviço', 'cp', 'placa', 'comprimido', 'veículo', 'mínimo', 'motor', 'ano', 'ar', 'filtro']\n",
            "\n",
            "\n",
            "Top 10 tópicos dos itens#3\n",
            "['contendo', 'mínimo', 'mínima', 'fabricação', 'entrega', 'meses', 'produto', 'data', 'validade', 'embalagem']\n",
            "\n",
            "\n",
            "Top 10 tópicos dos itens#4\n",
            "['bovina', 'portas', 'integral', 'trigo', 'ferro', 'farinha', 'leite', 'embalagem', 'carne', 'pó']\n",
            "\n",
            "\n",
            "Top 10 tópicos dos itens#5\n",
            "['base', 'espessura', 'luva', 'material', 'descartável', 'fita', 'comprimento', 'largura', 'tamanho', 'altura']\n",
            "\n",
            "\n",
            "Top 10 tópicos dos itens#6\n",
            "['madeira', 'mínima', 'mínimo', 'material', 'inox', 'plástico', 'cabo', 'capacidade', 'aço', 'covid']\n",
            "\n",
            "\n",
            "Top 10 tópicos dos itens#7\n",
            "['folha', 'documentação', 'cotação', 'pacote', 'reforma', 'folhas', 'especificações', 'construção', 'papel', 'termo']\n",
            "\n",
            "\n",
            "Top 10 tópicos dos itens#8\n",
            "['município', 'municipal', 'prestação', 'empresa', 'tamanho', 'contratação', 'médio', 'serviço', 'qualidade', 'serviços']\n",
            "\n",
            "\n",
            "Top 10 tópicos dos itens#9\n",
            "['cloridrato', 'óleo', 'injetável', 'oral', 'radial', 'cabo', 'lonas', 'solução', 'frasco', 'pneu']\n",
            "\n",
            "\n"
          ]
        }
      ],
      "source": [
        "for index,topic in enumerate(LDA.components_):\n",
        "    print(f'Top 10 tópicos dos itens#{index}')\n",
        "    print([cv.get_feature_names()[i] for i in topic.argsort()[-10:]])\n",
        "    print('\\n')"
      ]
    },
    {
      "cell_type": "code",
      "execution_count": 113,
      "metadata": {},
      "outputs": [
        {
          "data": {
            "text/plain": [
              "<932800x84244 sparse matrix of type '<class 'numpy.longlong'>'\n",
              "\twith 7503894 stored elements in Compressed Sparse Row format>"
            ]
          },
          "execution_count": 113,
          "metadata": {},
          "output_type": "execute_result"
        }
      ],
      "source": [
        "dtm"
      ]
    },
    {
      "cell_type": "code",
      "execution_count": 114,
      "metadata": {},
      "outputs": [
        {
          "data": {
            "text/plain": [
              "(932800, 84244)"
            ]
          },
          "execution_count": 114,
          "metadata": {},
          "output_type": "execute_result"
        }
      ],
      "source": [
        "dtm.shape"
      ]
    },
    {
      "cell_type": "code",
      "execution_count": 115,
      "metadata": {},
      "outputs": [],
      "source": [
        "topic_results = LDA.transform(dtm)"
      ]
    },
    {
      "cell_type": "code",
      "execution_count": 116,
      "metadata": {},
      "outputs": [
        {
          "data": {
            "text/plain": [
              "(932800, 10)"
            ]
          },
          "execution_count": 116,
          "metadata": {},
          "output_type": "execute_result"
        }
      ],
      "source": [
        "topic_results.shape"
      ]
    },
    {
      "cell_type": "code",
      "execution_count": 117,
      "metadata": {},
      "outputs": [],
      "source": [
        "item_licitacao['Topic'] = topic_results.argmax(axis=1)"
      ]
    },
    {
      "cell_type": "code",
      "execution_count": 118,
      "metadata": {},
      "outputs": [
        {
          "data": {
            "text/html": [
              "<div>\n",
              "<style scoped>\n",
              "    .dataframe tbody tr th:only-of-type {\n",
              "        vertical-align: middle;\n",
              "    }\n",
              "\n",
              "    .dataframe tbody tr th {\n",
              "        vertical-align: top;\n",
              "    }\n",
              "\n",
              "    .dataframe thead th {\n",
              "        text-align: right;\n",
              "    }\n",
              "</style>\n",
              "<table border=\"1\" class=\"dataframe\">\n",
              "  <thead>\n",
              "    <tr style=\"text-align: right;\">\n",
              "      <th></th>\n",
              "      <th>DS_ITEM</th>\n",
              "      <th>Topic</th>\n",
              "    </tr>\n",
              "  </thead>\n",
              "  <tbody>\n",
              "    <tr>\n",
              "      <th>0</th>\n",
              "      <td>Credenciamento de academias de ginástica e mus...</td>\n",
              "      <td>8</td>\n",
              "    </tr>\n",
              "    <tr>\n",
              "      <th>1</th>\n",
              "      <td>PLACA DE OBRA (PARA CONSTRUCAO CIVIL) EM CHAPA...</td>\n",
              "      <td>1</td>\n",
              "    </tr>\n",
              "    <tr>\n",
              "      <th>2</th>\n",
              "      <td>TAPUME COM COMPENSADO DE MADEIRA. AF_05/2018</td>\n",
              "      <td>5</td>\n",
              "    </tr>\n",
              "    <tr>\n",
              "      <th>3</th>\n",
              "      <td>PODA EM ALTURA DE ÁRVORE COM DIÂMETRO DE TRONC...</td>\n",
              "      <td>5</td>\n",
              "    </tr>\n",
              "    <tr>\n",
              "      <th>4</th>\n",
              "      <td>LOCACAO DE CONTAINER 2,30  X  6,00 M, ALT. 2,5...</td>\n",
              "      <td>0</td>\n",
              "    </tr>\n",
              "    <tr>\n",
              "      <th>5</th>\n",
              "      <td>LOCACAO CONVENCIONAL DE OBRA, UTILIZANDO GABAR...</td>\n",
              "      <td>7</td>\n",
              "    </tr>\n",
              "    <tr>\n",
              "      <th>6</th>\n",
              "      <td>RECOMPOSIÇÃO PARCIAL DE ARAME FARPADO Nº 14 CL...</td>\n",
              "      <td>1</td>\n",
              "    </tr>\n",
              "    <tr>\n",
              "      <th>7</th>\n",
              "      <td>LIMPEZA MECANIZADA DE CAMADA VEGETAL, VEGETAÇÃ...</td>\n",
              "      <td>8</td>\n",
              "    </tr>\n",
              "    <tr>\n",
              "      <th>8</th>\n",
              "      <td>ARQUITETO PLENO</td>\n",
              "      <td>6</td>\n",
              "    </tr>\n",
              "    <tr>\n",
              "      <th>9</th>\n",
              "      <td>ENCARREGADO GERAL DE OBRAS</td>\n",
              "      <td>8</td>\n",
              "    </tr>\n",
              "  </tbody>\n",
              "</table>\n",
              "</div>"
            ],
            "text/plain": [
              "                                             DS_ITEM  Topic\n",
              "0  Credenciamento de academias de ginástica e mus...      8\n",
              "1  PLACA DE OBRA (PARA CONSTRUCAO CIVIL) EM CHAPA...      1\n",
              "2       TAPUME COM COMPENSADO DE MADEIRA. AF_05/2018      5\n",
              "3  PODA EM ALTURA DE ÁRVORE COM DIÂMETRO DE TRONC...      5\n",
              "4  LOCACAO DE CONTAINER 2,30  X  6,00 M, ALT. 2,5...      0\n",
              "5  LOCACAO CONVENCIONAL DE OBRA, UTILIZANDO GABAR...      7\n",
              "6  RECOMPOSIÇÃO PARCIAL DE ARAME FARPADO Nº 14 CL...      1\n",
              "7  LIMPEZA MECANIZADA DE CAMADA VEGETAL, VEGETAÇÃ...      8\n",
              "8                                    ARQUITETO PLENO      6\n",
              "9                         ENCARREGADO GERAL DE OBRAS      8"
            ]
          },
          "execution_count": 118,
          "metadata": {},
          "output_type": "execute_result"
        }
      ],
      "source": [
        "item_licitacao[['DS_ITEM','Topic']].head(10)"
      ]
    },
    {
      "cell_type": "code",
      "execution_count": 119,
      "metadata": {},
      "outputs": [
        {
          "data": {
            "text/html": [
              "<div>\n",
              "<style scoped>\n",
              "    .dataframe tbody tr th:only-of-type {\n",
              "        vertical-align: middle;\n",
              "    }\n",
              "\n",
              "    .dataframe tbody tr th {\n",
              "        vertical-align: top;\n",
              "    }\n",
              "\n",
              "    .dataframe thead th {\n",
              "        text-align: right;\n",
              "    }\n",
              "</style>\n",
              "<table border=\"1\" class=\"dataframe\">\n",
              "  <thead>\n",
              "    <tr style=\"text-align: right;\">\n",
              "      <th></th>\n",
              "      <th>DS_ITEM_TOKEN</th>\n",
              "      <th>Topic</th>\n",
              "    </tr>\n",
              "  </thead>\n",
              "  <tbody>\n",
              "    <tr>\n",
              "      <th>0</th>\n",
              "      <td>['credenciamento', 'academias', 'ginástica', '...</td>\n",
              "      <td>8</td>\n",
              "    </tr>\n",
              "    <tr>\n",
              "      <th>1</th>\n",
              "      <td>['placa', 'obra', 'construcao', 'civil', 'chap...</td>\n",
              "      <td>1</td>\n",
              "    </tr>\n",
              "    <tr>\n",
              "      <th>2</th>\n",
              "      <td>['tapume', 'compensado', 'madeira', 'af', '_']</td>\n",
              "      <td>5</td>\n",
              "    </tr>\n",
              "    <tr>\n",
              "      <th>3</th>\n",
              "      <td>['poda', 'altura', 'árvore', 'diâmetro', 'tron...</td>\n",
              "      <td>5</td>\n",
              "    </tr>\n",
              "    <tr>\n",
              "      <th>4</th>\n",
              "      <td>['locacao', 'container', 'x', 'alt', 'escritor...</td>\n",
              "      <td>0</td>\n",
              "    </tr>\n",
              "    <tr>\n",
              "      <th>5</th>\n",
              "      <td>['locacao', 'convencional', 'obra', 'utilizand...</td>\n",
              "      <td>7</td>\n",
              "    </tr>\n",
              "    <tr>\n",
              "      <th>6</th>\n",
              "      <td>['recomposição', 'parcial', 'arame', 'farpado'...</td>\n",
              "      <td>1</td>\n",
              "    </tr>\n",
              "    <tr>\n",
              "      <th>7</th>\n",
              "      <td>['limpeza', 'mecanizada', 'camada', 'vegetal',...</td>\n",
              "      <td>8</td>\n",
              "    </tr>\n",
              "    <tr>\n",
              "      <th>8</th>\n",
              "      <td>['arquiteto', 'pleno']</td>\n",
              "      <td>6</td>\n",
              "    </tr>\n",
              "    <tr>\n",
              "      <th>9</th>\n",
              "      <td>['encarregado', 'geral', 'obras']</td>\n",
              "      <td>8</td>\n",
              "    </tr>\n",
              "  </tbody>\n",
              "</table>\n",
              "</div>"
            ],
            "text/plain": [
              "                                       DS_ITEM_TOKEN  Topic\n",
              "0  ['credenciamento', 'academias', 'ginástica', '...      8\n",
              "1  ['placa', 'obra', 'construcao', 'civil', 'chap...      1\n",
              "2     ['tapume', 'compensado', 'madeira', 'af', '_']      5\n",
              "3  ['poda', 'altura', 'árvore', 'diâmetro', 'tron...      5\n",
              "4  ['locacao', 'container', 'x', 'alt', 'escritor...      0\n",
              "5  ['locacao', 'convencional', 'obra', 'utilizand...      7\n",
              "6  ['recomposição', 'parcial', 'arame', 'farpado'...      1\n",
              "7  ['limpeza', 'mecanizada', 'camada', 'vegetal',...      8\n",
              "8                             ['arquiteto', 'pleno']      6\n",
              "9                  ['encarregado', 'geral', 'obras']      8"
            ]
          },
          "execution_count": 119,
          "metadata": {},
          "output_type": "execute_result"
        }
      ],
      "source": [
        "item_licitacao[['DS_ITEM_TOKEN','Topic']].head(10)"
      ]
    },
    {
      "cell_type": "code",
      "execution_count": 120,
      "metadata": {},
      "outputs": [],
      "source": [
        "item_licitacao.to_csv('lda.csv')"
      ]
    },
    {
      "cell_type": "markdown",
      "metadata": {},
      "source": [
        "Qual a diferença entre LDA e NMF?\n"
      ]
    },
    {
      "cell_type": "markdown",
      "metadata": {},
      "source": [
        "Desvendando o latent Dirichlet Allocation - https://web.icmc.usp.br"
      ]
    },
    {
      "cell_type": "markdown",
      "metadata": {},
      "source": [
        "O objetivo é esclarecer essa relação em termos de formulação matemática, demonstrando que o NMF com divergência KL aproxima a solução obtida pelo algoritmo de inferência variacional do LDA.\n",
        "\n",
        "As correspondências entre NMF com divergência KL e o algoritmo de inferência variacio- nal para o LDA seguem do fato de que ambos tentam minimizar a divergência entre as estatísticas que relacionam a frequência de palavras, documentos por tópicos e tópicos por palavras. "
      ]
    },
    {
      "cell_type": "markdown",
      "metadata": {},
      "source": [
        "NMF"
      ]
    },
    {
      "cell_type": "code",
      "execution_count": 121,
      "metadata": {},
      "outputs": [],
      "source": [
        "from sklearn.decomposition import NMF"
      ]
    },
    {
      "cell_type": "code",
      "execution_count": 122,
      "metadata": {},
      "outputs": [],
      "source": [
        "nmf_model = NMF(n_components=20,random_state=42)"
      ]
    },
    {
      "cell_type": "code",
      "execution_count": 123,
      "metadata": {},
      "outputs": [
        {
          "data": {
            "text/plain": [
              "NMF(alpha=0.0, beta_loss='frobenius', init=None, l1_ratio=0.0, max_iter=200,\n",
              "  n_components=20, random_state=42, shuffle=False, solver='cd', tol=0.0001,\n",
              "  verbose=0)"
            ]
          },
          "execution_count": 123,
          "metadata": {},
          "output_type": "execute_result"
        }
      ],
      "source": [
        "nmf_model.fit(dtm)"
      ]
    },
    {
      "cell_type": "code",
      "execution_count": 125,
      "metadata": {},
      "outputs": [
        {
          "name": "stdout",
          "output_type": "stream",
          "text": [
            "The top 10 words for topic # 0\n",
            "['partir', 'ingredientes', 'prazo', 'contar', 'mínima', 'fabricação', 'entrega', 'meses', 'validade', 'data']\n",
            "\n",
            "\n",
            "The top 10 words for topic # 1\n",
            "['ré', 'cabine', 'índice', 'caçamba', 'operacional', 'potência', 'comprimento', 'peso', 'prazo', 'mínimo']\n",
            "\n",
            "\n",
            "The top 10 words for topic # 2\n",
            "['tampo', 'mesa', 'acabamento', 'inox', 'pintura', 'chapa', 'tubo', 'espessura', 'estrutura', 'aço']\n",
            "\n",
            "\n",
            "The top 10 words for topic # 3\n",
            "['instalação', 'novaampliação', 'memorial', 'obra', 'documentação', 'cotação', 'reforma', 'construção', 'especificações', 'termo']\n",
            "\n",
            "\n",
            "The top 10 words for topic # 4\n",
            "['maturação', 'coloração', 'sujidades', 'primeira', 'boa', 'casca', 'grau', 'médio', 'qualidade', 'tamanho']\n",
            "\n",
            "\n",
            "The top 10 words for topic # 5\n",
            "['obra', 'saúde', 'horas', 'municipal', 'município', 'empresa', 'serviço', 'prestação', 'contratação', 'serviços']\n",
            "\n",
            "\n",
            "The top 10 words for topic # 6\n",
            "['litro', 'gramas', 'validade', 'leite', 'transparente', 'pó', 'registro', 'resistente', 'plástica', 'embalagem']\n",
            "\n",
            "\n",
            "The top 10 words for topic # 7\n",
            "['registro', 'kit', 'procedimento', 'antígeno', 'estéril', 'rápido', 'luva', 'descartável', 'teste', 'covid']\n",
            "\n",
            "\n",
            "The top 10 words for topic # 8\n",
            "['sabor', 'conter', 'ter', 'deverão', 'devem', 'apresentar', 'estar', 'possuir', 'deve', 'ser']\n",
            "\n",
            "\n",
            "The top 10 words for topic # 9\n",
            "['azul', 'espessura', 'manga', 'lado', 'parte', 'comprimento', 'medindo', 'tecido', 'largura', 'altura']\n",
            "\n",
            "\n",
            "The top 10 words for topic # 10\n",
            "['portas', 'suporte', 'padrão', 'processador', 'superior', 'placa', 'sistema', 'memória', 'possuir', 'usb']\n",
            "\n",
            "\n",
            "The top 10 words for topic # 11\n",
            "['flexível', 'ramal', 'instalado', 'esgoto', 'água', 'soldável', 'fornecimento', 'instalação', 'tubo', 'pvc']\n",
            "\n",
            "\n",
            "The top 10 words for topic # 12\n",
            "['capa', 'folha', 'páginas', 'formato', 'xcm', 'tinta', 'impressão', 'pacote', 'folhas', 'papel']\n",
            "\n",
            "\n",
            "The top 10 words for topic # 13\n",
            "['parasitas', 'açúcar', 'parafuso', 'total', 'ma', 'número', 'sext', 'sabor', 'mín', 'xa0']\n",
            "\n",
            "\n",
            "The top 10 words for topic # 14\n",
            "['carne', 'rótulo', 'validade', 'lote', 'peso', 'fabricante', 'identificação', 'registro', 'contendo', 'produto']\n",
            "\n",
            "\n",
            "The top 10 words for topic # 15\n",
            "['tampa', 'ponta', 'madeira', 'descartável', 'transparente', 'resistente', 'uso', 'cabo', 'plástico', 'material']\n",
            "\n",
            "\n",
            "The top 10 words for topic # 16\n",
            "['índice', 'uso', 'recapagem', 'carga', 'borrachudo', 'inmetro', 'novo', 'radial', 'lonas', 'pneu']\n",
            "\n",
            "\n",
            "The top 10 words for topic # 17\n",
            "['estéril', 'látex', 'procedimento', 'pó', 'fio', 'tampa', 'descartável', 'agulha', 'luva', 'caixa']\n",
            "\n",
            "\n",
            "The top 10 words for topic # 18\n",
            "['filtro', 'condicionado', 'garantia', 'potência', 'motor', 'veículo', 'ano', 'ar', 'capacidade', 'mínima']\n",
            "\n",
            "\n",
            "The top 10 words for topic # 19\n",
            "['seguindo', 'municipal', 'transporte', 'rua', 'alunos', 'km', 'segue', 'retorna', 'escola', 'linha']\n",
            "\n",
            "\n"
          ]
        }
      ],
      "source": [
        "for index,topic in enumerate(nmf_model.components_):\n",
        "    print(f\"The top 10 words for topic # {index}\")\n",
        "    print([cv.get_feature_names()[i] for i in topic.argsort()[-10:]])\n",
        "    print('\\n')"
      ]
    },
    {
      "cell_type": "code",
      "execution_count": 126,
      "metadata": {},
      "outputs": [],
      "source": [
        "topic_results_nfm = nmf_model.transform(dtm)"
      ]
    },
    {
      "cell_type": "code",
      "execution_count": 127,
      "metadata": {},
      "outputs": [],
      "source": [
        "topic_results_nfm.argmax(axis=1)\n",
        "\n",
        "item_licitacao['Topic_nfm'] = topic_results.argmax(axis=1)"
      ]
    },
    {
      "cell_type": "code",
      "execution_count": 128,
      "metadata": {},
      "outputs": [
        {
          "data": {
            "text/html": [
              "<div>\n",
              "<style scoped>\n",
              "    .dataframe tbody tr th:only-of-type {\n",
              "        vertical-align: middle;\n",
              "    }\n",
              "\n",
              "    .dataframe tbody tr th {\n",
              "        vertical-align: top;\n",
              "    }\n",
              "\n",
              "    .dataframe thead th {\n",
              "        text-align: right;\n",
              "    }\n",
              "</style>\n",
              "<table border=\"1\" class=\"dataframe\">\n",
              "  <thead>\n",
              "    <tr style=\"text-align: right;\">\n",
              "      <th></th>\n",
              "      <th>DS_ITEM</th>\n",
              "      <th>Topic_nfm</th>\n",
              "    </tr>\n",
              "  </thead>\n",
              "  <tbody>\n",
              "    <tr>\n",
              "      <th>0</th>\n",
              "      <td>Credenciamento de academias de ginástica e mus...</td>\n",
              "      <td>8</td>\n",
              "    </tr>\n",
              "    <tr>\n",
              "      <th>1</th>\n",
              "      <td>PLACA DE OBRA (PARA CONSTRUCAO CIVIL) EM CHAPA...</td>\n",
              "      <td>1</td>\n",
              "    </tr>\n",
              "    <tr>\n",
              "      <th>2</th>\n",
              "      <td>TAPUME COM COMPENSADO DE MADEIRA. AF_05/2018</td>\n",
              "      <td>5</td>\n",
              "    </tr>\n",
              "    <tr>\n",
              "      <th>3</th>\n",
              "      <td>PODA EM ALTURA DE ÁRVORE COM DIÂMETRO DE TRONC...</td>\n",
              "      <td>5</td>\n",
              "    </tr>\n",
              "    <tr>\n",
              "      <th>4</th>\n",
              "      <td>LOCACAO DE CONTAINER 2,30  X  6,00 M, ALT. 2,5...</td>\n",
              "      <td>0</td>\n",
              "    </tr>\n",
              "    <tr>\n",
              "      <th>5</th>\n",
              "      <td>LOCACAO CONVENCIONAL DE OBRA, UTILIZANDO GABAR...</td>\n",
              "      <td>7</td>\n",
              "    </tr>\n",
              "    <tr>\n",
              "      <th>6</th>\n",
              "      <td>RECOMPOSIÇÃO PARCIAL DE ARAME FARPADO Nº 14 CL...</td>\n",
              "      <td>1</td>\n",
              "    </tr>\n",
              "    <tr>\n",
              "      <th>7</th>\n",
              "      <td>LIMPEZA MECANIZADA DE CAMADA VEGETAL, VEGETAÇÃ...</td>\n",
              "      <td>8</td>\n",
              "    </tr>\n",
              "    <tr>\n",
              "      <th>8</th>\n",
              "      <td>ARQUITETO PLENO</td>\n",
              "      <td>6</td>\n",
              "    </tr>\n",
              "    <tr>\n",
              "      <th>9</th>\n",
              "      <td>ENCARREGADO GERAL DE OBRAS</td>\n",
              "      <td>8</td>\n",
              "    </tr>\n",
              "  </tbody>\n",
              "</table>\n",
              "</div>"
            ],
            "text/plain": [
              "                                             DS_ITEM  Topic_nfm\n",
              "0  Credenciamento de academias de ginástica e mus...          8\n",
              "1  PLACA DE OBRA (PARA CONSTRUCAO CIVIL) EM CHAPA...          1\n",
              "2       TAPUME COM COMPENSADO DE MADEIRA. AF_05/2018          5\n",
              "3  PODA EM ALTURA DE ÁRVORE COM DIÂMETRO DE TRONC...          5\n",
              "4  LOCACAO DE CONTAINER 2,30  X  6,00 M, ALT. 2,5...          0\n",
              "5  LOCACAO CONVENCIONAL DE OBRA, UTILIZANDO GABAR...          7\n",
              "6  RECOMPOSIÇÃO PARCIAL DE ARAME FARPADO Nº 14 CL...          1\n",
              "7  LIMPEZA MECANIZADA DE CAMADA VEGETAL, VEGETAÇÃ...          8\n",
              "8                                    ARQUITETO PLENO          6\n",
              "9                         ENCARREGADO GERAL DE OBRAS          8"
            ]
          },
          "execution_count": 128,
          "metadata": {},
          "output_type": "execute_result"
        }
      ],
      "source": [
        "item_licitacao[['DS_ITEM','Topic_nfm']].head(10)"
      ]
    },
    {
      "cell_type": "code",
      "execution_count": 131,
      "metadata": {},
      "outputs": [
        {
          "data": {
            "text/html": [
              "<div>\n",
              "<style scoped>\n",
              "    .dataframe tbody tr th:only-of-type {\n",
              "        vertical-align: middle;\n",
              "    }\n",
              "\n",
              "    .dataframe tbody tr th {\n",
              "        vertical-align: top;\n",
              "    }\n",
              "\n",
              "    .dataframe thead th {\n",
              "        text-align: right;\n",
              "    }\n",
              "</style>\n",
              "<table border=\"1\" class=\"dataframe\">\n",
              "  <thead>\n",
              "    <tr style=\"text-align: right;\">\n",
              "      <th></th>\n",
              "      <th>DS_ITEM_TOKEN</th>\n",
              "      <th>Topic_nfm</th>\n",
              "    </tr>\n",
              "  </thead>\n",
              "  <tbody>\n",
              "    <tr>\n",
              "      <th>0</th>\n",
              "      <td>['credenciamento', 'academias', 'ginástica', '...</td>\n",
              "      <td>8</td>\n",
              "    </tr>\n",
              "    <tr>\n",
              "      <th>1</th>\n",
              "      <td>['placa', 'obra', 'construcao', 'civil', 'chap...</td>\n",
              "      <td>1</td>\n",
              "    </tr>\n",
              "    <tr>\n",
              "      <th>2</th>\n",
              "      <td>['tapume', 'compensado', 'madeira', 'af', '_']</td>\n",
              "      <td>5</td>\n",
              "    </tr>\n",
              "    <tr>\n",
              "      <th>3</th>\n",
              "      <td>['poda', 'altura', 'árvore', 'diâmetro', 'tron...</td>\n",
              "      <td>5</td>\n",
              "    </tr>\n",
              "    <tr>\n",
              "      <th>4</th>\n",
              "      <td>['locacao', 'container', 'x', 'alt', 'escritor...</td>\n",
              "      <td>0</td>\n",
              "    </tr>\n",
              "    <tr>\n",
              "      <th>5</th>\n",
              "      <td>['locacao', 'convencional', 'obra', 'utilizand...</td>\n",
              "      <td>7</td>\n",
              "    </tr>\n",
              "    <tr>\n",
              "      <th>6</th>\n",
              "      <td>['recomposição', 'parcial', 'arame', 'farpado'...</td>\n",
              "      <td>1</td>\n",
              "    </tr>\n",
              "    <tr>\n",
              "      <th>7</th>\n",
              "      <td>['limpeza', 'mecanizada', 'camada', 'vegetal',...</td>\n",
              "      <td>8</td>\n",
              "    </tr>\n",
              "    <tr>\n",
              "      <th>8</th>\n",
              "      <td>['arquiteto', 'pleno']</td>\n",
              "      <td>6</td>\n",
              "    </tr>\n",
              "    <tr>\n",
              "      <th>9</th>\n",
              "      <td>['encarregado', 'geral', 'obras']</td>\n",
              "      <td>8</td>\n",
              "    </tr>\n",
              "  </tbody>\n",
              "</table>\n",
              "</div>"
            ],
            "text/plain": [
              "                                       DS_ITEM_TOKEN  Topic_nfm\n",
              "0  ['credenciamento', 'academias', 'ginástica', '...          8\n",
              "1  ['placa', 'obra', 'construcao', 'civil', 'chap...          1\n",
              "2     ['tapume', 'compensado', 'madeira', 'af', '_']          5\n",
              "3  ['poda', 'altura', 'árvore', 'diâmetro', 'tron...          5\n",
              "4  ['locacao', 'container', 'x', 'alt', 'escritor...          0\n",
              "5  ['locacao', 'convencional', 'obra', 'utilizand...          7\n",
              "6  ['recomposição', 'parcial', 'arame', 'farpado'...          1\n",
              "7  ['limpeza', 'mecanizada', 'camada', 'vegetal',...          8\n",
              "8                             ['arquiteto', 'pleno']          6\n",
              "9                  ['encarregado', 'geral', 'obras']          8"
            ]
          },
          "execution_count": 131,
          "metadata": {},
          "output_type": "execute_result"
        }
      ],
      "source": [
        "item_licitacao[['DS_ITEM_TOKEN','Topic_nfm']].head(10)"
      ]
    },
    {
      "cell_type": "code",
      "execution_count": 129,
      "metadata": {},
      "outputs": [],
      "source": [
        "item_licitacao.to_csv('nfm.csv')"
      ]
    },
    {
      "cell_type": "markdown",
      "metadata": {},
      "source": [
        "Comparar os tópicos entre os dois"
      ]
    },
    {
      "cell_type": "code",
      "execution_count": null,
      "metadata": {},
      "outputs": [],
      "source": []
    },
    {
      "cell_type": "markdown",
      "metadata": {
        "id": "FOSSM37b0A7l"
      },
      "source": [
        "### Análise dos dados"
      ]
    },
    {
      "cell_type": "code",
      "execution_count": null,
      "metadata": {
        "id": "Xg3Nzylk0NLC"
      },
      "outputs": [],
      "source": []
    },
    {
      "cell_type": "markdown",
      "metadata": {
        "id": "I4aiEJg60NcS"
      },
      "source": [
        "### Conclusão"
      ]
    },
    {
      "cell_type": "markdown",
      "metadata": {
        "id": "LQmt32LkNuEB"
      },
      "source": [
        "Quais foram as áreas com maiores investimentos?"
      ]
    },
    {
      "cell_type": "markdown",
      "metadata": {
        "id": "eLjYwovDN6Qm"
      },
      "source": [
        "E quais foram os principais itens licitados nelas?"
      ]
    },
    {
      "cell_type": "code",
      "execution_count": null,
      "metadata": {
        "id": "SIob_MW7NtkJ"
      },
      "outputs": [],
      "source": []
    }
  ],
  "metadata": {
    "colab": {
      "collapsed_sections": [],
      "name": "Maiores_investimentos_licitações.ipynb",
      "provenance": []
    },
    "kernelspec": {
      "display_name": "Python 3",
      "name": "python3"
    },
    "language_info": {
      "codemirror_mode": {
        "name": "ipython",
        "version": 3
      },
      "file_extension": ".py",
      "mimetype": "text/x-python",
      "name": "python",
      "nbconvert_exporter": "python",
      "pygments_lexer": "ipython3",
      "version": "3.7.11"
    }
  },
  "nbformat": 4,
  "nbformat_minor": 0
}
