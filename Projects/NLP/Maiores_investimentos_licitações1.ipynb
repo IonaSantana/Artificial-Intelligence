{
  "cells": [
    {
      "cell_type": "markdown",
      "metadata": {
        "id": "uu7G0Zsyq9Kk"
      },
      "source": [
        "### Situação:"
      ]
    },
    {
      "cell_type": "markdown",
      "metadata": {
        "id": "SfinOPAFqUe2"
      },
      "source": [
        "Usando os dados das licitações do ano de 2021, no Rio Grande do Sul, fazer uma análise dos principais itens licitados e das áreas que receberam maior investimento por meio de licitações\n",
        "\n",
        "Link: http://dados.tce.rs.gov.br/dataset?groups=licitacoes&q=consolidado"
      ]
    },
    {
      "cell_type": "markdown",
      "metadata": {},
      "source": [
        "Referências:\n",
        "\n",
        "https://github.com/PatrickLdA/licitacoes-RS/blob/main/notebook.ipynb\n",
        "\n",
        "https://medium.com/somos-tera/como-modelar-t%C3%B3picos-atrav%C3%A9s-de-latent-dirichlet-allocation-lda-atrav%C3%A9s-da-biblioteca-gensim-1fa17357ad4b"
      ]
    },
    {
      "cell_type": "markdown",
      "metadata": {
        "id": "JTFTbZhEuQPx"
      },
      "source": [
        "### Imports"
      ]
    },
    {
      "cell_type": "code",
      "execution_count": 5,
      "metadata": {
        "id": "cJ4hoz1kuPFM"
      },
      "outputs": [],
      "source": [
        "import pandas as pd\n",
        "import numpy as np\n",
        "import os\n",
        "import matplotlib.pyplot as plt\n",
        "%matplotlib inline\n",
        "import warnings\n",
        "warnings.filterwarnings(\"ignore\",category=DeprecationWarning)\n",
        "#\n",
        "import spacy \n",
        "import nltk"
      ]
    },
    {
      "cell_type": "code",
      "execution_count": 4,
      "metadata": {
        "id": "tYzY7cd_5jV5"
      },
      "outputs": [],
      "source": [
        "files = os.listdir('/2021')"
      ]
    },
    {
      "cell_type": "code",
      "execution_count": 5,
      "metadata": {
        "colab": {
          "base_uri": "https://localhost:8080/"
        },
        "id": "Whx_M0EU5tlG",
        "outputId": "c76f7077-6706-464f-c821-0a3b54bfacfd"
      },
      "outputs": [
        {
          "data": {
            "text/plain": [
              "['memcomissao.csv',\n",
              " 'evento_lic.csv',\n",
              " 'documento_lic.csv',\n",
              " 'licitante.csv',\n",
              " 'licitacao.csv',\n",
              " 'item.csv',\n",
              " 'pessoas.csv',\n",
              " 'dotacao_lic.csv',\n",
              " 'comissao.csv',\n",
              " 'membrocons.csv',\n",
              " 'proposta.csv',\n",
              " 'item_prop.csv',\n",
              " 'lote_prop.csv',\n",
              " 'lote.csv']"
            ]
          },
          "execution_count": 5,
          "metadata": {},
          "output_type": "execute_result"
        }
      ],
      "source": [
        "files"
      ]
    },
    {
      "cell_type": "code",
      "execution_count": 7,
      "metadata": {
        "colab": {
          "base_uri": "https://localhost:8080/"
        },
        "id": "yOtGZh0fvKIE",
        "outputId": "9d363d41-9b09-4b5e-edbc-83270e61ff54"
      },
      "outputs": [
        {
          "name": "stderr",
          "output_type": "stream",
          "text": [
            "/Users/ionasantana/opt/anaconda3/envs/nlp_course/lib/python3.7/site-packages/IPython/core/interactiveshell.py:3173: DtypeWarning: Columns (52,53) have mixed types. Specify dtype option on import or set low_memory=False.\n",
            "  interactivity=interactivity, compiler=compiler, result=result)\n",
            "/Users/ionasantana/opt/anaconda3/envs/nlp_course/lib/python3.7/site-packages/IPython/core/interactiveshell.py:3173: DtypeWarning: Columns (8,19) have mixed types. Specify dtype option on import or set low_memory=False.\n",
            "  interactivity=interactivity, compiler=compiler, result=result)\n"
          ]
        }
      ],
      "source": [
        "licitacao = pd.read_csv('/NLP/2021/' + files[4])\n",
        "item = pd.read_csv('/NLP/2021/' + files[5])"
      ]
    },
    {
      "cell_type": "markdown",
      "metadata": {
        "id": "RBGu3lHxumUV"
      },
      "source": [
        "### Pré-processamento Dados"
      ]
    },
    {
      "cell_type": "code",
      "execution_count": 8,
      "metadata": {
        "id": "UIIZNLXs9M-a"
      },
      "outputs": [],
      "source": [
        "cols = ['CD_ORGAO', 'NM_ORGAO', 'NR_LICITACAO', 'CD_TIPO_MODALIDADE','DS_OBJETO', 'VL_LICITACAO', 'BL_COVID19']\n",
        "licitacao_21 = licitacao[cols]"
      ]
    },
    {
      "cell_type": "code",
      "execution_count": 9,
      "metadata": {
        "id": "pfVB-X1dxzRf"
      },
      "outputs": [],
      "source": [
        "licitacao_21 = licitacao_21.dropna()"
      ]
    },
    {
      "cell_type": "code",
      "execution_count": 10,
      "metadata": {
        "colab": {
          "base_uri": "https://localhost:8080/",
          "height": 143
        },
        "id": "LBRRVx8JHc77",
        "outputId": "7b9129f4-9450-4620-873b-51ba93be3293"
      },
      "outputs": [
        {
          "data": {
            "text/html": [
              "<div>\n",
              "<style scoped>\n",
              "    .dataframe tbody tr th:only-of-type {\n",
              "        vertical-align: middle;\n",
              "    }\n",
              "\n",
              "    .dataframe tbody tr th {\n",
              "        vertical-align: top;\n",
              "    }\n",
              "\n",
              "    .dataframe thead th {\n",
              "        text-align: right;\n",
              "    }\n",
              "</style>\n",
              "<table border=\"1\" class=\"dataframe\">\n",
              "  <thead>\n",
              "    <tr style=\"text-align: right;\">\n",
              "      <th></th>\n",
              "      <th>CD_ORGAO</th>\n",
              "      <th>NM_ORGAO</th>\n",
              "      <th>NR_LICITACAO</th>\n",
              "      <th>CD_TIPO_MODALIDADE</th>\n",
              "      <th>DS_OBJETO</th>\n",
              "      <th>VL_LICITACAO</th>\n",
              "      <th>BL_COVID19</th>\n",
              "    </tr>\n",
              "  </thead>\n",
              "  <tbody>\n",
              "    <tr>\n",
              "      <th>0</th>\n",
              "      <td>53100</td>\n",
              "      <td>PM DE NOVA PALMA</td>\n",
              "      <td>1.0</td>\n",
              "      <td>TMP</td>\n",
              "      <td>CONTRATAÇÃO GLOBAL DE EMPRESA PARA CONSTRUÇÃO ...</td>\n",
              "      <td>259765.0</td>\n",
              "      <td>N</td>\n",
              "    </tr>\n",
              "    <tr>\n",
              "      <th>1</th>\n",
              "      <td>86800</td>\n",
              "      <td>PM DE BOA VISTA DO SUL</td>\n",
              "      <td>2.0</td>\n",
              "      <td>PRP</td>\n",
              "      <td>Contratação de empresa para prestação de servi...</td>\n",
              "      <td>390625.0</td>\n",
              "      <td>N</td>\n",
              "    </tr>\n",
              "    <tr>\n",
              "      <th>2</th>\n",
              "      <td>45003</td>\n",
              "      <td>SERVIÇO AUTÔN. MUN. DE ÁGUA E ESGOTO - CX.SUL</td>\n",
              "      <td>46.0</td>\n",
              "      <td>PRP</td>\n",
              "      <td>Aquisição de 80.000 (oitenta mil) quilogramas ...</td>\n",
              "      <td>833800.0</td>\n",
              "      <td>N</td>\n",
              "    </tr>\n",
              "  </tbody>\n",
              "</table>\n",
              "</div>"
            ],
            "text/plain": [
              "   CD_ORGAO                                       NM_ORGAO  NR_LICITACAO  \\\n",
              "0     53100                               PM DE NOVA PALMA           1.0   \n",
              "1     86800                         PM DE BOA VISTA DO SUL           2.0   \n",
              "2     45003  SERVIÇO AUTÔN. MUN. DE ÁGUA E ESGOTO - CX.SUL          46.0   \n",
              "\n",
              "  CD_TIPO_MODALIDADE                                          DS_OBJETO  \\\n",
              "0                TMP  CONTRATAÇÃO GLOBAL DE EMPRESA PARA CONSTRUÇÃO ...   \n",
              "1                PRP  Contratação de empresa para prestação de servi...   \n",
              "2                PRP  Aquisição de 80.000 (oitenta mil) quilogramas ...   \n",
              "\n",
              "   VL_LICITACAO BL_COVID19  \n",
              "0      259765.0          N  \n",
              "1      390625.0          N  \n",
              "2      833800.0          N  "
            ]
          },
          "execution_count": 10,
          "metadata": {},
          "output_type": "execute_result"
        }
      ],
      "source": [
        "licitacao_21.head(3)"
      ]
    },
    {
      "cell_type": "code",
      "execution_count": 11,
      "metadata": {
        "id": "x8R4Y7eD9UTI"
      },
      "outputs": [],
      "source": [
        "item_licitacao = item.iloc[:, 0:12]\n",
        "item_licitacao['BL_COVID19'] = item['BL_COVID19'] "
      ]
    },
    {
      "cell_type": "code",
      "execution_count": 12,
      "metadata": {
        "colab": {
          "base_uri": "https://localhost:8080/"
        },
        "id": "Ap2LJwwzyBAv",
        "outputId": "00aa6cc2-5fe6-4919-d3f5-de4742c0809e"
      },
      "outputs": [
        {
          "data": {
            "text/plain": [
              "CD_ORGAO                    0\n",
              "NR_LICITACAO                0\n",
              "ANO_LICITACAO               0\n",
              "CD_TIPO_MODALIDADE          0\n",
              "NR_LOTE                     0\n",
              "NR_ITEM                     0\n",
              "NR_ITEM_ORIGINAL            0\n",
              "DS_ITEM                     1\n",
              "QT_ITENS                    0\n",
              "SG_UNIDADE_MEDIDA           0\n",
              "VL_UNITARIO_ESTIMADO    39446\n",
              "VL_TOTAL_ESTIMADO       39446\n",
              "BL_COVID19                  0\n",
              "dtype: int64"
            ]
          },
          "execution_count": 12,
          "metadata": {},
          "output_type": "execute_result"
        }
      ],
      "source": [
        "item_licitacao.isna().sum()"
      ]
    },
    {
      "cell_type": "code",
      "execution_count": 13,
      "metadata": {
        "id": "O2q1xeSWxKem"
      },
      "outputs": [],
      "source": [
        "item_licitacao = item_licitacao.dropna()"
      ]
    },
    {
      "cell_type": "code",
      "execution_count": 14,
      "metadata": {
        "colab": {
          "base_uri": "https://localhost:8080/"
        },
        "id": "qAmKnZLfx-Pw",
        "outputId": "39f6a6db-7540-4fc7-f283-f997f3feb4e1"
      },
      "outputs": [
        {
          "data": {
            "text/plain": [
              "(87469, 932800)"
            ]
          },
          "execution_count": 14,
          "metadata": {},
          "output_type": "execute_result"
        }
      ],
      "source": [
        "len(licitacao_21), len(item_licitacao)"
      ]
    },
    {
      "cell_type": "code",
      "execution_count": 15,
      "metadata": {
        "id": "VbNGsWkByJ4T"
      },
      "outputs": [],
      "source": [
        "licitacao_21['covid'] = np.where((licitacao_21['BL_COVID19'] == 'S'), ' covid19', '')\n",
        "licitacao_21['DS_OBJETO'] = licitacao_21['DS_OBJETO'] + licitacao_21['covid']"
      ]
    },
    {
      "cell_type": "code",
      "execution_count": 16,
      "metadata": {
        "id": "SPpubdTYGwtT"
      },
      "outputs": [],
      "source": [
        "licitacao_21 = licitacao_21.drop(['BL_COVID19', 'covid'], axis = 1)"
      ]
    },
    {
      "cell_type": "code",
      "execution_count": 18,
      "metadata": {
        "id": "jxrbDs0exJtm"
      },
      "outputs": [],
      "source": [
        "item_licitacao['covid'] = np.where((item_licitacao['BL_COVID19'] == 'S'), ' covid19', '')\n",
        "item_licitacao['DS_ITEM'] = item_licitacao['DS_ITEM'] + item_licitacao['covid']"
      ]
    },
    {
      "cell_type": "code",
      "execution_count": 19,
      "metadata": {
        "id": "evpu74VeEj2O"
      },
      "outputs": [],
      "source": [
        "item_licitacao = item_licitacao.drop(['BL_COVID19', 'covid'], axis = 1)"
      ]
    },
    {
      "cell_type": "code",
      "execution_count": 20,
      "metadata": {
        "colab": {
          "base_uri": "https://localhost:8080/",
          "height": 187
        },
        "id": "f4FM6DJGEeaZ",
        "outputId": "7399bdc8-b4b4-4927-d3db-06aa031db99d"
      },
      "outputs": [
        {
          "data": {
            "text/html": [
              "<div>\n",
              "<style scoped>\n",
              "    .dataframe tbody tr th:only-of-type {\n",
              "        vertical-align: middle;\n",
              "    }\n",
              "\n",
              "    .dataframe tbody tr th {\n",
              "        vertical-align: top;\n",
              "    }\n",
              "\n",
              "    .dataframe thead th {\n",
              "        text-align: right;\n",
              "    }\n",
              "</style>\n",
              "<table border=\"1\" class=\"dataframe\">\n",
              "  <thead>\n",
              "    <tr style=\"text-align: right;\">\n",
              "      <th></th>\n",
              "      <th>CD_ORGAO</th>\n",
              "      <th>NR_LICITACAO</th>\n",
              "      <th>CD_TIPO_MODALIDADE</th>\n",
              "      <th>NR_LOTE</th>\n",
              "      <th>NR_ITEM</th>\n",
              "      <th>NR_ITEM_ORIGINAL</th>\n",
              "      <th>DS_ITEM</th>\n",
              "      <th>QT_ITENS</th>\n",
              "      <th>SG_UNIDADE_MEDIDA</th>\n",
              "      <th>VL_UNITARIO_ESTIMADO</th>\n",
              "      <th>VL_TOTAL_ESTIMADO</th>\n",
              "    </tr>\n",
              "  </thead>\n",
              "  <tbody>\n",
              "    <tr>\n",
              "      <th>0</th>\n",
              "      <td>44500</td>\n",
              "      <td>274.0</td>\n",
              "      <td>CPC</td>\n",
              "      <td>1</td>\n",
              "      <td>1</td>\n",
              "      <td>1</td>\n",
              "      <td>Credenciamento de academias de ginástica e mus...</td>\n",
              "      <td>1</td>\n",
              "      <td>UN</td>\n",
              "      <td>50.00</td>\n",
              "      <td>50.00</td>\n",
              "    </tr>\n",
              "    <tr>\n",
              "      <th>1</th>\n",
              "      <td>56900</td>\n",
              "      <td>25.0</td>\n",
              "      <td>TMP</td>\n",
              "      <td>1</td>\n",
              "      <td>1</td>\n",
              "      <td>1.1</td>\n",
              "      <td>PLACA DE OBRA (PARA CONSTRUCAO CIVIL) EM CHAPA...</td>\n",
              "      <td>6</td>\n",
              "      <td>M2</td>\n",
              "      <td>272.49</td>\n",
              "      <td>1634.94</td>\n",
              "    </tr>\n",
              "    <tr>\n",
              "      <th>2</th>\n",
              "      <td>56900</td>\n",
              "      <td>25.0</td>\n",
              "      <td>TMP</td>\n",
              "      <td>1</td>\n",
              "      <td>2</td>\n",
              "      <td>1.2</td>\n",
              "      <td>TAPUME COM COMPENSADO DE MADEIRA. AF_05/2018</td>\n",
              "      <td>71</td>\n",
              "      <td>M2</td>\n",
              "      <td>128.69</td>\n",
              "      <td>9136.99</td>\n",
              "    </tr>\n",
              "  </tbody>\n",
              "</table>\n",
              "</div>"
            ],
            "text/plain": [
              "   CD_ORGAO  NR_LICITACAO CD_TIPO_MODALIDADE  NR_LOTE  NR_ITEM  \\\n",
              "0     44500         274.0                CPC        1        1   \n",
              "1     56900          25.0                TMP        1        1   \n",
              "2     56900          25.0                TMP        1        2   \n",
              "\n",
              "  NR_ITEM_ORIGINAL                                            DS_ITEM  \\\n",
              "0                1  Credenciamento de academias de ginástica e mus...   \n",
              "1             1.1   PLACA DE OBRA (PARA CONSTRUCAO CIVIL) EM CHAPA...   \n",
              "2             1.2        TAPUME COM COMPENSADO DE MADEIRA. AF_05/2018   \n",
              "\n",
              "  QT_ITENS SG_UNIDADE_MEDIDA  VL_UNITARIO_ESTIMADO  VL_TOTAL_ESTIMADO  \n",
              "0        1                UN                 50.00              50.00  \n",
              "1        6                M2                272.49            1634.94  \n",
              "2       71                M2                128.69            9136.99  "
            ]
          },
          "execution_count": 20,
          "metadata": {},
          "output_type": "execute_result"
        }
      ],
      "source": [
        "item_licitacao['ANO_LICITACAO'].unique()\n",
        "item_licitacao.drop(['ANO_LICITACAO'], axis = 1).head(3)"
      ]
    },
    {
      "cell_type": "markdown",
      "metadata": {
        "id": "wmZpI_COxX7Y"
      },
      "source": [
        "### Pré-processamento Texto"
      ]
    },
    {
      "cell_type": "code",
      "execution_count": 11,
      "metadata": {
        "id": "hBHXG3jEJQYd"
      },
      "outputs": [],
      "source": [
        "# Libs adicionais de NLP\n",
        "import spacy \n",
        "import nltk\n",
        "from sklearn.feature_extraction.text import CountVectorizer, TfidfVectorizer\n",
        "import re"
      ]
    },
    {
      "cell_type": "code",
      "execution_count": 39,
      "metadata": {
        "colab": {
          "base_uri": "https://localhost:8080/",
          "height": 201
        },
        "id": "CmrMGEJoJSSW",
        "outputId": "f80775f6-e819-4c3f-b029-2d8303c3270b"
      },
      "outputs": [
        {
          "name": "stdout",
          "output_type": "stream",
          "text": [
            "[nltk_data] Downloading package stopwords to\n",
            "[nltk_data]     /Users/ionasantana/nltk_data...\n",
            "[nltk_data]   Package stopwords is already up-to-date!\n"
          ]
        },
        {
          "data": {
            "text/plain": [
              "True"
            ]
          },
          "execution_count": 39,
          "metadata": {},
          "output_type": "execute_result"
        }
      ],
      "source": [
        "nlp=spacy.load(\"pt_core_news_sm\")\n",
        "nltk.download('stopwords')"
      ]
    },
    {
      "cell_type": "code",
      "execution_count": 10,
      "metadata": {},
      "outputs": [],
      "source": [
        "stopwords = nltk.corpus.stopwords.words('portuguese')\n",
        "\n",
        "filter_out = stopwords + ['kg', 'm', 'cm', 'mm', 'mg', 'ml', 'm²', '-', '+', '=', 'mcg', 'nº', 'g', 'ª', 'º']"
      ]
    },
    {
      "cell_type": "markdown",
      "metadata": {},
      "source": [
        "Para o pré-processamento do texto foi usado linguagem regular, a tabela abaixo contém algumas informações utéis para entender a função de pre_processing"
      ]
    },
    {
      "cell_type": "markdown",
      "metadata": {},
      "source": [
        "<table ><tr><th>Character</th><th>Description</th><th>Example Pattern Code</th><th >Exammple Match</th></tr>\n",
        "\n",
        "<tr ><td><span >\\d</span></td><td>A digit</td><td>file_\\d\\d</td><td>file_25</td></tr>\n",
        "\n",
        "<tr ><td><span >\\w</span></td><td>Alphanumeric</td><td>\\w-\\w\\w\\w</td><td>A-b_1</td></tr>\n",
        "\n",
        "\n",
        "\n",
        "<tr ><td><span >\\s</span></td><td>White space</td><td>a\\sb\\sc</td><td>a b c</td></tr>\n",
        "\n",
        "\n",
        "\n",
        "<tr ><td><span >\\D</span></td><td>A non digit</td><td>\\D\\D\\D</td><td>ABC</td></tr>\n",
        "\n",
        "<tr ><td><span >\\W</span></td><td>Non-alphanumeric</td><td>\\W\\W\\W\\W\\W</td><td>*-+=)</td></tr>\n",
        "\n",
        "<tr ><td><span >\\S</span></td><td>Non-whitespace</td><td>\\S\\S\\S\\S</td><td>Yoyo</td></tr></table>\n",
        "<table ><tr><th>Character</th><th>Description</th><th>Example Pattern Code</th><th >Exammple Match</th></tr>\n",
        "</br>\n",
        "<tr ><td><span >+</span></td><td>Occurs one or more times</td><td>\tVersion \\w-\\w+</td><td>Version A-b1_1</td></tr>\n",
        "\n",
        "<tr ><td><span >{3}</span></td><td>Occurs exactly 3 times</td><td>\\D{3}</td><td>abc</td></tr>\n",
        "\n",
        "\n",
        "\n",
        "<tr ><td><span >{2,4}</span></td><td>Occurs 2 to 4 times</td><td>\\d{2,4}</td><td>123</td></tr>\n",
        "\n",
        "\n",
        "\n",
        "<tr ><td><span >{3,}</span></td><td>Occurs 3 or more</td><td>\\w{3,}</td><td>anycharacters</td></tr>\n",
        "\n",
        "<tr ><td><span >\\*</span></td><td>Occurs zero or more times</td><td>A\\*B\\*C*</td><td>AAACC</td></tr>\n",
        "\n",
        "<tr ><td><span >?</span></td><td>Once or none</td><td>plurals?</td><td>plural</td></tr></table>"
      ]
    },
    {
      "cell_type": "markdown",
      "metadata": {},
      "source": [
        "Fonte: adaptado do curso - NLP - Natural Language Processing with Python - Udemy\n",
        "\n",
        "Instrutor: Jose Portilla\n"
      ]
    },
    {
      "cell_type": "code",
      "execution_count": 72,
      "metadata": {},
      "outputs": [],
      "source": [
        "def pre_processing(sentence):\n",
        "    sentence = sentence.lower()\n",
        "    sentence = re.sub(r\"[^\\w\\s]\", \"\", sentence)\n",
        "    sentence = re.sub(r\"[0-9]+\", \"\", sentence)\n",
        "    sentence = re.sub(r\"/+\", \"\", sentence)\n",
        "    sentence = re.sub(r\" {2,}\", \" \", sentence)\n",
        "\n",
        "    #Tokenização\n",
        "    doc = nlp(sentence)\n",
        "\n",
        "    tokens=[token.text for token in doc]\n",
        "    tokens=[token for token in tokens if token not in filter_out]\n",
        "\n",
        "    return tokens\n"
      ]
    },
    {
      "cell_type": "code",
      "execution_count": 75,
      "metadata": {},
      "outputs": [
        {
          "name": "stdout",
          "output_type": "stream",
          "text": [
            "['testando', 'aa']\n"
          ]
        }
      ],
      "source": [
        "print(pre_processing('testando 1 2 3 aa'))"
      ]
    },
    {
      "cell_type": "code",
      "execution_count": 76,
      "metadata": {},
      "outputs": [],
      "source": [
        "item_licitacao['DS_ITEM_TOKEN'] = item_licitacao['DS_ITEM'].apply(lambda sentece: pre_processing(sentece))\n"
      ]
    },
    {
      "cell_type": "code",
      "execution_count": 77,
      "metadata": {},
      "outputs": [],
      "source": [
        "item_licitacao.to_csv('item_licitacao_token.csv')"
      ]
    },
    {
      "cell_type": "code",
      "execution_count": 78,
      "metadata": {},
      "outputs": [],
      "source": [
        "licitacao_21['DS_OBJETO_TOKEN'] = licitacao_21['DS_OBJETO'].apply(lambda sentece: pre_processing(sentece))\n"
      ]
    },
    {
      "cell_type": "code",
      "execution_count": 79,
      "metadata": {},
      "outputs": [],
      "source": [
        "licitacao_21.to_csv('licitacao_21_token.csv')"
      ]
    },
    {
      "cell_type": "markdown",
      "metadata": {
        "id": "9SaqqMLSz83K"
      },
      "source": [
        "### Construção dos modelos"
      ]
    },
    {
      "cell_type": "markdown",
      "metadata": {},
      "source": [
        "Counter Vectorizarion -> contar a ocorrência de cada palavra para mapear o texto para um número\n",
        "\n",
        "CounterVectorizer\n",
        "\n",
        "TfidfVectorizer -> cria a mais uma matriz de termos de documento a partir de nossas mensagens.\n",
        "No entanto, em vez de preencher o DTM com contagens de token, ele calcula o valor da frequência do documento inverso da frequência do termo para cada palavra (TF-IDF).\n",
        "Um fator de frequência de documento inverso é incorporado, o que diminui o peso dos termos que ocorrem com muita frequência no conjunto de documentos e aumenta o peso dos termos que ocorrem raramente.\n"
      ]
    },
    {
      "cell_type": "code",
      "execution_count": 80,
      "metadata": {
        "id": "Kfc14x1Mz_6k"
      },
      "outputs": [
        {
          "data": {
            "text/html": [
              "<div>\n",
              "<style scoped>\n",
              "    .dataframe tbody tr th:only-of-type {\n",
              "        vertical-align: middle;\n",
              "    }\n",
              "\n",
              "    .dataframe tbody tr th {\n",
              "        vertical-align: top;\n",
              "    }\n",
              "\n",
              "    .dataframe thead th {\n",
              "        text-align: right;\n",
              "    }\n",
              "</style>\n",
              "<table border=\"1\" class=\"dataframe\">\n",
              "  <thead>\n",
              "    <tr style=\"text-align: right;\">\n",
              "      <th></th>\n",
              "      <th>CD_ORGAO</th>\n",
              "      <th>NM_ORGAO</th>\n",
              "      <th>NR_LICITACAO</th>\n",
              "      <th>CD_TIPO_MODALIDADE</th>\n",
              "      <th>DS_OBJETO</th>\n",
              "      <th>VL_LICITACAO</th>\n",
              "      <th>DS_OBJETO_TOKEN</th>\n",
              "    </tr>\n",
              "  </thead>\n",
              "  <tbody>\n",
              "    <tr>\n",
              "      <th>0</th>\n",
              "      <td>53100</td>\n",
              "      <td>PM DE NOVA PALMA</td>\n",
              "      <td>1.0</td>\n",
              "      <td>TMP</td>\n",
              "      <td>CONTRATAÇÃO GLOBAL DE EMPRESA PARA CONSTRUÇÃO ...</td>\n",
              "      <td>259765.0</td>\n",
              "      <td>[contratação, global, empresa, construção, par...</td>\n",
              "    </tr>\n",
              "    <tr>\n",
              "      <th>1</th>\n",
              "      <td>86800</td>\n",
              "      <td>PM DE BOA VISTA DO SUL</td>\n",
              "      <td>2.0</td>\n",
              "      <td>PRP</td>\n",
              "      <td>Contratação de empresa para prestação de servi...</td>\n",
              "      <td>390625.0</td>\n",
              "      <td>[contratação, empresa, prestação, serviços, tr...</td>\n",
              "    </tr>\n",
              "    <tr>\n",
              "      <th>2</th>\n",
              "      <td>45003</td>\n",
              "      <td>SERVIÇO AUTÔN. MUN. DE ÁGUA E ESGOTO - CX.SUL</td>\n",
              "      <td>46.0</td>\n",
              "      <td>PRP</td>\n",
              "      <td>Aquisição de 80.000 (oitenta mil) quilogramas ...</td>\n",
              "      <td>833800.0</td>\n",
              "      <td>[aquisição, oitenta, mil, quilogramas, ortopol...</td>\n",
              "    </tr>\n",
              "  </tbody>\n",
              "</table>\n",
              "</div>"
            ],
            "text/plain": [
              "   CD_ORGAO                                       NM_ORGAO  NR_LICITACAO  \\\n",
              "0     53100                               PM DE NOVA PALMA           1.0   \n",
              "1     86800                         PM DE BOA VISTA DO SUL           2.0   \n",
              "2     45003  SERVIÇO AUTÔN. MUN. DE ÁGUA E ESGOTO - CX.SUL          46.0   \n",
              "\n",
              "  CD_TIPO_MODALIDADE                                          DS_OBJETO  \\\n",
              "0                TMP  CONTRATAÇÃO GLOBAL DE EMPRESA PARA CONSTRUÇÃO ...   \n",
              "1                PRP  Contratação de empresa para prestação de servi...   \n",
              "2                PRP  Aquisição de 80.000 (oitenta mil) quilogramas ...   \n",
              "\n",
              "   VL_LICITACAO                                    DS_OBJETO_TOKEN  \n",
              "0      259765.0  [contratação, global, empresa, construção, par...  \n",
              "1      390625.0  [contratação, empresa, prestação, serviços, tr...  \n",
              "2      833800.0  [aquisição, oitenta, mil, quilogramas, ortopol...  "
            ]
          },
          "execution_count": 80,
          "metadata": {},
          "output_type": "execute_result"
        }
      ],
      "source": [
        "licitacao_21.head(3)"
      ]
    },
    {
      "cell_type": "code",
      "execution_count": 81,
      "metadata": {},
      "outputs": [
        {
          "data": {
            "text/html": [
              "<div>\n",
              "<style scoped>\n",
              "    .dataframe tbody tr th:only-of-type {\n",
              "        vertical-align: middle;\n",
              "    }\n",
              "\n",
              "    .dataframe tbody tr th {\n",
              "        vertical-align: top;\n",
              "    }\n",
              "\n",
              "    .dataframe thead th {\n",
              "        text-align: right;\n",
              "    }\n",
              "</style>\n",
              "<table border=\"1\" class=\"dataframe\">\n",
              "  <thead>\n",
              "    <tr style=\"text-align: right;\">\n",
              "      <th></th>\n",
              "      <th>CD_ORGAO</th>\n",
              "      <th>NR_LICITACAO</th>\n",
              "      <th>ANO_LICITACAO</th>\n",
              "      <th>CD_TIPO_MODALIDADE</th>\n",
              "      <th>NR_LOTE</th>\n",
              "      <th>NR_ITEM</th>\n",
              "      <th>NR_ITEM_ORIGINAL</th>\n",
              "      <th>DS_ITEM</th>\n",
              "      <th>QT_ITENS</th>\n",
              "      <th>SG_UNIDADE_MEDIDA</th>\n",
              "      <th>VL_UNITARIO_ESTIMADO</th>\n",
              "      <th>VL_TOTAL_ESTIMADO</th>\n",
              "      <th>DS_ITEM_TOKEN</th>\n",
              "    </tr>\n",
              "  </thead>\n",
              "  <tbody>\n",
              "    <tr>\n",
              "      <th>0</th>\n",
              "      <td>44500</td>\n",
              "      <td>274.0</td>\n",
              "      <td>2021</td>\n",
              "      <td>CPC</td>\n",
              "      <td>1</td>\n",
              "      <td>1</td>\n",
              "      <td>1</td>\n",
              "      <td>Credenciamento de academias de ginástica e mus...</td>\n",
              "      <td>1</td>\n",
              "      <td>UN</td>\n",
              "      <td>50.00</td>\n",
              "      <td>50.00</td>\n",
              "      <td>[credenciamento, academias, ginástica, muscula...</td>\n",
              "    </tr>\n",
              "    <tr>\n",
              "      <th>1</th>\n",
              "      <td>56900</td>\n",
              "      <td>25.0</td>\n",
              "      <td>2021</td>\n",
              "      <td>TMP</td>\n",
              "      <td>1</td>\n",
              "      <td>1</td>\n",
              "      <td>1.1</td>\n",
              "      <td>PLACA DE OBRA (PARA CONSTRUCAO CIVIL) EM CHAPA...</td>\n",
              "      <td>6</td>\n",
              "      <td>M2</td>\n",
              "      <td>272.49</td>\n",
              "      <td>1634.94</td>\n",
              "      <td>[placa, obra, construcao, civil, chapa, galvan...</td>\n",
              "    </tr>\n",
              "    <tr>\n",
              "      <th>2</th>\n",
              "      <td>56900</td>\n",
              "      <td>25.0</td>\n",
              "      <td>2021</td>\n",
              "      <td>TMP</td>\n",
              "      <td>1</td>\n",
              "      <td>2</td>\n",
              "      <td>1.2</td>\n",
              "      <td>TAPUME COM COMPENSADO DE MADEIRA. AF_05/2018</td>\n",
              "      <td>71</td>\n",
              "      <td>M2</td>\n",
              "      <td>128.69</td>\n",
              "      <td>9136.99</td>\n",
              "      <td>[tapume, compensado, madeira, af, _]</td>\n",
              "    </tr>\n",
              "  </tbody>\n",
              "</table>\n",
              "</div>"
            ],
            "text/plain": [
              "   CD_ORGAO  NR_LICITACAO  ANO_LICITACAO CD_TIPO_MODALIDADE  NR_LOTE  NR_ITEM  \\\n",
              "0     44500         274.0           2021                CPC        1        1   \n",
              "1     56900          25.0           2021                TMP        1        1   \n",
              "2     56900          25.0           2021                TMP        1        2   \n",
              "\n",
              "  NR_ITEM_ORIGINAL                                            DS_ITEM  \\\n",
              "0                1  Credenciamento de academias de ginástica e mus...   \n",
              "1             1.1   PLACA DE OBRA (PARA CONSTRUCAO CIVIL) EM CHAPA...   \n",
              "2             1.2        TAPUME COM COMPENSADO DE MADEIRA. AF_05/2018   \n",
              "\n",
              "  QT_ITENS SG_UNIDADE_MEDIDA  VL_UNITARIO_ESTIMADO  VL_TOTAL_ESTIMADO  \\\n",
              "0        1                UN                 50.00              50.00   \n",
              "1        6                M2                272.49            1634.94   \n",
              "2       71                M2                128.69            9136.99   \n",
              "\n",
              "                                       DS_ITEM_TOKEN  \n",
              "0  [credenciamento, academias, ginástica, muscula...  \n",
              "1  [placa, obra, construcao, civil, chapa, galvan...  \n",
              "2               [tapume, compensado, madeira, af, _]  "
            ]
          },
          "execution_count": 81,
          "metadata": {},
          "output_type": "execute_result"
        }
      ],
      "source": [
        "item_licitacao.head(3)"
      ]
    },
    {
      "cell_type": "code",
      "execution_count": 6,
      "metadata": {},
      "outputs": [
        {
          "name": "stderr",
          "output_type": "stream",
          "text": [
            "/Users/ionasantana/opt/anaconda3/envs/nlp_course/lib/python3.7/site-packages/IPython/core/interactiveshell.py:3444: DtypeWarning: Columns (9) have mixed types.Specify dtype option on import or set low_memory=False.\n",
            "  exec(code_obj, self.user_global_ns, self.user_ns)\n"
          ]
        }
      ],
      "source": [
        "licitacao_21 = pd.read_csv('licitacao_21_token.csv')\n",
        "item_licitacao = pd.read_csv('item_licitacao_token.csv')"
      ]
    },
    {
      "cell_type": "code",
      "execution_count": 7,
      "metadata": {},
      "outputs": [],
      "source": [
        "from sklearn.feature_extraction.text import CountVectorizer\n",
        "import gensim\n",
        "import gensim.corpora as corpora\n",
        "from gensim.utils import simple_preprocess\n",
        "from gensim.models import CoherenceModel\n",
        "from gensim.models.doc2vec import Doc2Vec, TaggedDocument\n",
        "from gensim.models.ldamulticore import LdaMulticore\n",
        "from tqdm import tqdm"
      ]
    },
    {
      "cell_type": "code",
      "execution_count": 12,
      "metadata": {},
      "outputs": [
        {
          "data": {
            "text/plain": [
              "Index(['Unnamed: 0', 'CD_ORGAO', 'NR_LICITACAO', 'ANO_LICITACAO',\n",
              "       'CD_TIPO_MODALIDADE', 'NR_LOTE', 'NR_ITEM', 'NR_ITEM_ORIGINAL',\n",
              "       'DS_ITEM', 'QT_ITENS', 'SG_UNIDADE_MEDIDA', 'VL_UNITARIO_ESTIMADO',\n",
              "       'VL_TOTAL_ESTIMADO', 'DS_ITEM_TOKEN'],\n",
              "      dtype='object')"
            ]
          },
          "execution_count": 12,
          "metadata": {},
          "output_type": "execute_result"
        }
      ],
      "source": [
        "item_licitacao.columns"
      ]
    },
    {
      "cell_type": "code",
      "execution_count": 13,
      "metadata": {},
      "outputs": [],
      "source": [
        "lic= [d.split() for d in item_licitacao['DS_ITEM_TOKEN']]\n"
      ]
    },
    {
      "cell_type": "code",
      "execution_count": 15,
      "metadata": {},
      "outputs": [],
      "source": [
        "id2word = corpora.Dictionary(lic)"
      ]
    },
    {
      "cell_type": "code",
      "execution_count": 16,
      "metadata": {},
      "outputs": [],
      "source": [
        "texts = item_licitacao['DS_ITEM_TOKEN']"
      ]
    },
    {
      "cell_type": "code",
      "execution_count": 17,
      "metadata": {},
      "outputs": [
        {
          "name": "stdout",
          "output_type": "stream",
          "text": [
            "[[(0, 1), (1, 1), (2, 1), (3, 1), (4, 1), (5, 1), (6, 2), (7, 1), (8, 1), (9, 1), (10, 1), (11, 1), (12, 3), (13, 1), (14, 1), (15, 1), (16, 1), (17, 1), (18, 1), (19, 1), (20, 1)]]\n"
          ]
        }
      ],
      "source": [
        "corpus = [id2word.doc2bow(text.split()) for text in texts]\n",
        "\n",
        "# Visualização\n",
        "print(corpus[:1])"
      ]
    },
    {
      "cell_type": "code",
      "execution_count": 18,
      "metadata": {},
      "outputs": [
        {
          "data": {
            "text/plain": [
              "[[(\"'academias',\", 1),\n",
              "  (\"'cada',\", 1),\n",
              "  (\"'canoas',\", 1),\n",
              "  (\"'credenciado',\", 1),\n",
              "  (\"'desembolsado',\", 1),\n",
              "  (\"'escolhido',\", 1),\n",
              "  (\"'estabelecimento',\", 2),\n",
              "  (\"'exercícios',\", 1),\n",
              "  (\"'físicos',\", 1),\n",
              "  (\"'ginástica',\", 1),\n",
              "  (\"'matriculado',\", 1),\n",
              "  (\"'ministrem',\", 1),\n",
              "  (\"'município',\", 3),\n",
              "  (\"'musculação',\", 1),\n",
              "  (\"'outro',\", 1),\n",
              "  (\"'r',\", 1),\n",
              "  (\"'servidor',\", 1),\n",
              "  (\"'servidor']\", 1),\n",
              "  (\"'valor',\", 1),\n",
              "  (\"'âmbito',\", 1),\n",
              "  (\"['credenciamento',\", 1)]]"
            ]
          },
          "execution_count": 18,
          "metadata": {},
          "output_type": "execute_result"
        }
      ],
      "source": [
        "# Corpus num formado simplificado (term-frequency)\n",
        "[[(id2word[id], freq) for id, freq in cp] for cp in corpus[:1]]"
      ]
    },
    {
      "cell_type": "markdown",
      "metadata": {},
      "source": [
        "LDA"
      ]
    },
    {
      "cell_type": "code",
      "execution_count": 19,
      "metadata": {},
      "outputs": [],
      "source": [
        "from sklearn.decomposition import LatentDirichletAllocation\n",
        "\n",
        "#gráficos \n",
        "import pyLDAvis\n",
        "import pyLDAvis.sklearn\n",
        "import pyLDAvis.gensim_models"
      ]
    },
    {
      "cell_type": "code",
      "execution_count": 20,
      "metadata": {},
      "outputs": [],
      "source": [
        "filter_out = filter_out + ['cor', 'cores', 'un', 'branco', 'unidades', \n",
        "'litros', 'af', 'mgml', 'nbr', 'dn', 'eou', 'referência', 'conforme',\n",
        "'demais', 'deverá', 'tipo', 'r', 'gb', 'km']\n"
      ]
    },
    {
      "cell_type": "markdown",
      "metadata": {},
      "source": [
        "Comparar TfidfVectorizer e CountVectorizer"
      ]
    },
    {
      "cell_type": "code",
      "execution_count": 21,
      "metadata": {},
      "outputs": [],
      "source": [
        "cv = CountVectorizer(max_df=0.95, min_df=2, stop_words=filter_out)"
      ]
    },
    {
      "cell_type": "code",
      "execution_count": 22,
      "metadata": {},
      "outputs": [
        {
          "ename": "NameError",
          "evalue": "name 'TfidfVectorizer' is not defined",
          "output_type": "error",
          "traceback": [
            "\u001b[0;31m---------------------------------------------------------------------------\u001b[0m",
            "\u001b[0;31mNameError\u001b[0m                                 Traceback (most recent call last)",
            "\u001b[0;32m/var/folders/dv/s6yv5r4j7c128qsmv_bmh2200000gn/T/ipykernel_92496/3402072976.py\u001b[0m in \u001b[0;36m<module>\u001b[0;34m\u001b[0m\n\u001b[0;32m----> 1\u001b[0;31m \u001b[0mtv\u001b[0m \u001b[0;34m=\u001b[0m \u001b[0mTfidfVectorizer\u001b[0m\u001b[0;34m(\u001b[0m\u001b[0mstop_words\u001b[0m\u001b[0;34m=\u001b[0m\u001b[0mfilter_out\u001b[0m\u001b[0;34m)\u001b[0m \u001b[0;31m#acrescentar outras informações\u001b[0m\u001b[0;34m\u001b[0m\u001b[0;34m\u001b[0m\u001b[0m\n\u001b[0m",
            "\u001b[0;31mNameError\u001b[0m: name 'TfidfVectorizer' is not defined"
          ]
        }
      ],
      "source": [
        "tv = TfidfVectorizer(stop_words=filter_out) #acrescentar outras informações"
      ]
    },
    {
      "cell_type": "code",
      "execution_count": 23,
      "metadata": {},
      "outputs": [],
      "source": [
        "dtm = cv.fit_transform(item_licitacao['DS_ITEM_TOKEN'])"
      ]
    },
    {
      "cell_type": "markdown",
      "metadata": {},
      "source": [
        "Função de coerência"
      ]
    },
    {
      "cell_type": "code",
      "execution_count": 25,
      "metadata": {},
      "outputs": [],
      "source": [
        "def compute_coherence_values(dictionary, corpus, texts, limit, start=2, step=5):\n",
        "    coherence_values = []\n",
        "    model_list = []\n",
        "    for num_topics in tqdm(range(start, limit, step)):\n",
        "        model = LdaMulticore(corpus, id2word=id2word, num_topics=10)\n",
        "        model_list.append(model)\n",
        "        coherencemodel = CoherenceModel(model=model, texts=texts, dictionary=dictionary, coherence='c_v')\n",
        "        coherence_values.append(coherencemodel.get_coherence())\n",
        "    return model_list, coherence_values"
      ]
    },
    {
      "cell_type": "code",
      "execution_count": 33,
      "metadata": {},
      "outputs": [
        {
          "name": "stderr",
          "output_type": "stream",
          "text": [
            "100%|██████████| 14/14 [17:08<00:00, 73.48s/it]\n"
          ]
        }
      ],
      "source": [
        "model_list, coherence_values = compute_coherence_values(dictionary=id2word, corpus=corpus, texts=lic, start=2, limit=30, step=2)"
      ]
    },
    {
      "cell_type": "code",
      "execution_count": 34,
      "metadata": {},
      "outputs": [
        {
          "data": {
            "image/png": "[encoded data removed]",
            "text/plain": [
              "<Figure size 432x288 with 1 Axes>"
            ]
          },
          "metadata": {
            "needs_background": "light"
          },
          "output_type": "display_data"
        }
      ],
      "source": [
        "limit=30; start=2; step=2;\n",
        "x = range(start, limit, step)\n",
        "plt.plot(x, coherence_values)\n",
        "plt.xlabel(\"Num Tópicos\")\n",
        "plt.ylabel(\"Score de Coerência\")\n",
        "plt.legend((\"Valores de Coerência\"), loc='best')\n",
        "plt.show()"
      ]
    },
    {
      "cell_type": "code",
      "execution_count": 35,
      "metadata": {},
      "outputs": [
        {
          "name": "stdout",
          "output_type": "stream",
          "text": [
            "A quantidade de tópicos = 2  tem um valor de coerência de  0.4542\n",
            "A quantidade de tópicos = 4  tem um valor de coerência de  0.4484\n",
            "A quantidade de tópicos = 6  tem um valor de coerência de  0.5031\n",
            "A quantidade de tópicos = 8  tem um valor de coerência de  0.4828\n",
            "A quantidade de tópicos = 10  tem um valor de coerência de  0.4405\n",
            "A quantidade de tópicos = 12  tem um valor de coerência de  0.447\n",
            "A quantidade de tópicos = 14  tem um valor de coerência de  0.4873\n",
            "A quantidade de tópicos = 16  tem um valor de coerência de  0.5104\n",
            "A quantidade de tópicos = 18  tem um valor de coerência de  0.517\n",
            "A quantidade de tópicos = 20  tem um valor de coerência de  0.4448\n",
            "A quantidade de tópicos = 22  tem um valor de coerência de  0.4684\n",
            "A quantidade de tópicos = 24  tem um valor de coerência de  0.4536\n",
            "A quantidade de tópicos = 26  tem um valor de coerência de  0.4475\n",
            "A quantidade de tópicos = 28  tem um valor de coerência de  0.4605\n"
          ]
        }
      ],
      "source": [
        "for m, c in zip(x, coherence_values):\n",
        "    print(\"A quantidade de tópicos =\", m, \" tem um valor de coerência de \", round(c, 4))"
      ]
    },
    {
      "cell_type": "markdown",
      "metadata": {},
      "source": [
        "16 ou 18 tópicos"
      ]
    },
    {
      "cell_type": "code",
      "execution_count": 28,
      "metadata": {},
      "outputs": [],
      "source": [
        "LDA = LatentDirichletAllocation(n_components=10,random_state=42)\n",
        "LDA.fit(dtm)\n",
        "LDA.components_\n",
        "single_topic = LDA.components_[0]\n",
        "# Returns the indices that would sort this array.\n",
        "single_topic.argsort()\n",
        "top_word_indices = single_topic.argsort()[-10:]\n",
        "for index in top_word_indices:\n",
        "    print(cv.get_feature_names()[index])\n"
      ]
    },
    {
      "cell_type": "code",
      "execution_count": null,
      "metadata": {},
      "outputs": [
        {
          "name": "stdout",
          "output_type": "stream",
          "text": [
            "Top 10 tópicos dos itens#0\n",
            "['tamanho', 'azul', 'pacote', 'branca', 'rolo', 'tinta', 'fita', 'folhas', 'pvc', 'papel']\n",
            "\n",
            "\n",
            "Top 10 tópicos dos itens#1\n",
            "['portas', 'ar', 'led', 'altura', 'porta', 'garantia', 'mínima', 'pintura', 'capacidade', 'mínimo']\n",
            "\n",
            "\n",
            "Top 10 tópicos dos itens#2\n",
            "['caixa', 'medindo', 'borracha', 'madeira', 'algodão', 'altura', 'luva', 'largura', 'tecido', 'tamanho']\n",
            "\n",
            "\n",
            "Top 10 tópicos dos itens#3\n",
            "['diâmetro', 'pvc', 'instalação', 'inox', 'concreto', 'agulha', 'fio', 'tubo', 'cabo', 'aço']\n",
            "\n",
            "\n",
            "Top 10 tópicos dos itens#4\n",
            "['mão', 'transporte', 'município', 'municipal', 'obra', 'prestação', 'empresa', 'contratação', 'serviço', 'serviços']\n",
            "\n",
            "\n",
            "Top 10 tópicos dos itens#5\n",
            "['caneta', 'sonda', 'documentação', 'cotação', 'reforma', 'construção', 'caixa', 'especificações', 'covid', 'termo']\n",
            "\n",
            "\n",
            "Top 10 tópicos dos itens#6\n",
            "['contendo', 'mínimo', 'fabricação', 'mínima', 'entrega', 'meses', 'produto', 'data', 'validade', 'embalagem']\n",
            "\n",
            "\n",
            "Top 10 tópicos dos itens#7\n",
            "['comprimido', 'novo', 'lonas', 'veículo', 'mínimo', 'motor', 'ar', 'ano', 'filtro', 'pneu']\n",
            "\n",
            "\n",
            "Top 10 tópicos dos itens#8\n",
            "['verde', 'casca', 'boa', 'carne', 'grau', 'primeira', 'livro', 'tamanho', 'médio', 'qualidade']\n",
            "\n",
            "\n",
            "Top 10 tópicos dos itens#9\n",
            "['brita', 'álcool', 'piso', 'embalagem', 'sódio', 'água', 'parafuso', 'base', 'concreto', 'frasco']\n",
            "\n",
            "\n"
          ]
        }
      ],
      "source": [
        "for index,topic in enumerate(LDA.components_):\n",
        "    print(f'Top 10 tópicos dos itens#{index}')\n",
        "    print([cv.get_feature_names()[i] for i in topic.argsort()[-10:]])\n",
        "    print('\\n')"
      ]
    },
    {
      "cell_type": "markdown",
      "metadata": {},
      "source": [
        "porque o multicore nao esse de cima?"
      ]
    },
    {
      "cell_type": "code",
      "execution_count": null,
      "metadata": {},
      "outputs": [],
      "source": [
        "lda_model = LdaMulticore(corpus=corpus,\n",
        "                        id2word=id2word,\n",
        "                        num_topics=5, \n",
        "                        random_state=42,\n",
        "                        chunksize=100,\n",
        "                        passes=10,\n",
        "                        per_word_topics=True,\n",
        "                        alpha = 0.9,\n",
        "                        eta = 0.3)"
      ]
    },
    {
      "cell_type": "markdown",
      "metadata": {},
      "source": [
        "Após o processamento, se encontrou palavras como cor, un, af, tipo - então elas foram adicionadas no filtro e foi se processado novamente"
      ]
    },
    {
      "cell_type": "code",
      "execution_count": 35,
      "metadata": {},
      "outputs": [
        {
          "data": {
            "text/plain": [
              "<932800x84243 sparse matrix of type '<class 'numpy.longlong'>'\n",
              "\twith 7499172 stored elements in Compressed Sparse Row format>"
            ]
          },
          "execution_count": 35,
          "metadata": {},
          "output_type": "execute_result"
        }
      ],
      "source": [
        "#LDA Antes\n",
        "# dtm\n",
        "# dtm.shape\n",
        "# topic_results = LDA.transform(dtm)\n",
        "# topic_results.shape\n",
        "# item_licitacao['Topic'] = topic_results.argmax(axis=1)\n",
        "# item_licitacao[['DS_ITEM','Topic']].head(10)\n",
        "# item_licitacao[['DS_ITEM_TOKEN','Topic']].head(10)"
      ]
    },
    {
      "cell_type": "code",
      "execution_count": 42,
      "metadata": {},
      "outputs": [],
      "source": [
        "item_licitacao.to_csv('lda.csv') #lda1, LatentDirichletAllocation"
      ]
    },
    {
      "cell_type": "code",
      "execution_count": null,
      "metadata": {},
      "outputs": [],
      "source": [
        "pyLDAvis.enable_notebook()"
      ]
    },
    {
      "cell_type": "code",
      "execution_count": null,
      "metadata": {},
      "outputs": [],
      "source": [
        "display_data = pyLDAvis.sklearn.prepare(LDA, cv.fit_transform(item_licitacao['DS_ITEM_TOKEN']), cv) #LDA -> lda_model"
      ]
    },
    {
      "cell_type": "code",
      "execution_count": null,
      "metadata": {},
      "outputs": [
        {
          "data": {
            "text/html": [
              "\n",
              "<link rel=\"stylesheet\" type=\"text/css\" href=\"https://cdn.jsdelivr.net/gh/bmabey/pyLDAvis@3.3.1/pyLDAvis/js/ldavis.v1.0.0.css\">\n",
              "\n",
              "\n",
              "<div id=\"ldavis_el847891402976110720808842095343\"></div>\n",
              "<script type=\"text/javascript\">\n",
              "\n",
              "var ldavis_el847891402976110720808842095343_data = {\"mdsDat\": {\"x\": [-0.24377306952373437, 0.07328018821057768, -0.12197102232273895, 0.08976711274361693, 0.18437552245926225, 0.030924372350420885, -0.32763560550321397, 0.08555520634807436, 0.10985563441137568, 0.1196216608263593], \"y\": [-0.044219455082182134, 0.05960725045937328, 0.11692981649600369, -0.10168865559132567, -0.08381009099280823, 0.31972729930292326, -0.09005741130235936, -0.19782869313692175, 0.13572481894005267, -0.11438487909275627], \"topics\": [1, 2, 3, 4, 5, 6, 7, 8, 9, 10], \"cluster\": [1, 1, 1, 1, 1, 1, 1, 1, 1, 1], \"Freq\": [14.093916652684937, 12.956392296282381, 12.28270142938533, 11.141575655121242, 10.624700103549861, 9.437537354126292, 8.26948819539675, 7.649984010197403, 7.15220467221244, 6.391499631043371]}, \"tinfo\": {\"Term\": [\"embalagem\", \"validade\", \"termo\", \"covid\", \"data\", \"a\\u00e7o\", \"papel\", \"pneu\", \"servi\\u00e7os\", \"pvc\", \"qualidade\", \"servi\\u00e7o\", \"tamanho\", \"produto\", \"cabo\", \"filtro\", \"m\\u00e9dio\", \"entrega\", \"especifica\\u00e7\\u00f5es\", \"meses\", \"constru\\u00e7\\u00e3o\", \"caixa\", \"concreto\", \"contrata\\u00e7\\u00e3o\", \"folhas\", \"tubo\", \"ar\", \"pacote\", \"frasco\", \"tinta\", \"validade\", \"data\", \"r\\u00f3tulo\", \"farinha\", \"ingredientes\", \"nutricional\", \"a\\u00e7\\u00facar\", \"biscoito\", \"sal\", \"ovos\", \"p\\u00e3o\", \"trigo\", \"arroz\", \"soja\", \"milho\", \"sabores\", \"suco\", \"fermento\", \"fatiado\", \"feij\\u00e3o\", \"uva\", \"nutricionais\", \"lactose\", \"refinado\", \"proced\\u00eancia\", \"f\\u00f3lico\", \"bolacha\", \"ch\\u00e1\", \"enriquecida\", \"canela\", \"leite\", \"entrega\", \"chocolate\", \"sif\", \"prazo\", \"embalagem\", \"doce\", \"contar\", \"identifica\\u00e7\\u00e3o\", \"prim\\u00e1ria\", \"produto\", \"integral\", \"meses\", \"gramas\", \"partir\", \"contendo\", \"lote\", \"fabrica\\u00e7\\u00e3o\", \"gr\", \"registro\", \"pl\\u00e1stica\", \"m\\u00ednima\", \"peso\", \"p\\u00f3\", \"deve\", \"m\\u00ednimo\", \"fabricante\", \"pacote\", \"resistente\", \"ser\", \"split\", \"mem\\u00f3ria\", \"hd\", \"tampo\", \"processador\", \"reator\", \"gavetas\", \"arm\\u00e1rio\", \"hdmi\", \"ghz\", \"prateleiras\", \"ddr\", \"notebook\", \"ssd\", \"voltagem\", \"mouse\", \"display\", \"ram\", \"mdp\", \"mhz\", \"melam\\u00ednico\", \"bateria\", \"microfone\", \"dobradi\\u00e7as\", \"windows\", \"inverter\", \"balc\\u00e3o\", \"interface\", \"core\", \"esmaltada\", \"usb\", \"lixo\", \"vapor\", \"bivolt\", \"painel\", \"computador\", \"condicionador\", \"btus\", \"watts\", \"teclado\", \"l\\u00e2mpada\", \"hz\", \"frequ\\u00eancia\", \"mesa\", \"portas\", \"garantia\", \"led\", \"pintura\", \"porta\", \"tens\\u00e3o\", \"fechadura\", \"mdf\", \"pot\\u00eancia\", \"capacidade\", \"entrada\", \"possuir\", \"digital\", \"m\\u00ednimo\", \"temperatura\", \"dimens\\u00f5es\", \"m\\u00ednima\", \"altura\", \"duas\", \"ar\", \"sistema\", \"estrutura\", \"superior\", \"interna\", \"saco\", \"base\", \"ser\", \"espessura\", \"tinta\", \"deve\", \"padr\\u00e3o\", \"placa\", \"meses\", \"servi\\u00e7os\", \"contrata\\u00e7\\u00e3o\", \"presta\\u00e7\\u00e3o\", \"especializada\", \"elabora\\u00e7\\u00e3o\", \"assessoria\", \"dmt\", \"implanta\\u00e7\\u00e3o\", \"contrato\", \"consultoria\", \"p\\u00fablico\", \"projetos\", \"semanais\", \"pessoa\", \"pr\\u00e9dio\", \"jur\\u00eddica\", \"acompanhamento\", \"urbana\", \"objeto\", \"treinamento\", \"im\\u00f3vel\", \"contratada\", \"municipais\", \"servidores\", \"usinado\", \"pavimentada\", \"rural\", \"vereadores\", \"loco\", \"pedreiro\", \"loca\\u00e7\\u00e3o\", \"realiza\\u00e7\\u00e3o\", \"obras\", \"servicos\", \"monitoramento\", \"municipal\", \"servi\\u00e7o\", \"empresa\", \"atendimento\", \"educa\\u00e7\\u00e3o\", \"projeto\", \"munic\\u00edpio\", \"manuten\\u00e7\\u00e3o\", \"t\\u00e9cnicos\", \"internet\", \"secretaria\", \"m\\u00e3o\", \"rua\", \"horas\", \"obra\", \"\\u00e1rea\", \"social\", \"t\\u00e9cnico\", \"transporte\", \"execu\\u00e7\\u00e3o\", \"sa\\u00fade\", \"centro\", \"aquisi\\u00e7\\u00e3o\", \"equipamentos\", \"limpeza\", \"sistema\", \"fornecimento\", \"valor\", \"via\", \"instala\\u00e7\\u00e3o\", \"anexo\", \"ser\", \"esquerdo\", \"luvas\", \"bola\", \"camiseta\", \"bolso\", \"bolsos\", \"api\", \"bras\\u00e3o\", \"gola\", \"cal\\u00e7a\", \"punho\", \"pinus\", \"bordado\", \"velcro\", \"z\\u00edper\", \"atadura\", \"rodo\", \"costas\", \"gaze\", \"ambidestra\", \"avental\", \"jaqueta\", \"compressa\", \"solado\", \"mangas\", \"costuras\", \"jaleco\", \"viscose\", \"touca\", \"macac\\u00e3o\", \"algod\\u00e3o\", \"poli\\u00e9ster\", \"pano\", \"brinquedo\", \"tecido\", \"l\\u00e1pis\", \"procedimento\", \"lado\", \"espuma\", \"sae\", \"manga\", \"assento\", \"luva\", \"borracha\", \"el\\u00e1stico\", \"encosto\", \"largura\", \"l\\u00e1tex\", \"balde\", \"confeccionada\", \"altura\", \"tomada\", \"tamanho\", \"medindo\", \"madeira\", \"fechamento\", \"fios\", \"parte\", \"comprimento\", \"acabamento\", \"caixa\", \"confeccionado\", \"material\", \"\\u00f3leo\", \"branca\", \"ser\", \"azul\", \"alta\", \"espessura\", \"uso\", \"agulha\", \"broca\", \"inoxid\\u00e1vel\", \"escova\", \"cerdas\", \"diamantada\", \"vassoura\", \"cera\", \"abra\\u00e7adeira\", \"sutura\", \"poste\", \"equipo\", \"pilar\", \"eletroduto\", \"luer\", \"bisturi\", \"autoclav\\u00e1vel\", \"intravenoso\", \"cateter\", \"\\u00f3culos\", \"sobrado\", \"t\\u00e9rrea\", \"refletor\", \"chato\", \"c\\u00e2nula\", \"giz\", \"bisel\", \"alicate\", \"esf\\u00e9rica\", \"hipod\\u00e9rmica\", \"endotraqueal\", \"arma\\u00e7\\u00e3o\", \"corrugado\", \"inox\", \"haste\", \"tesoura\", \"lumin\\u00e1ria\", \"mangueira\", \"cabo\", \"a\\u00e7o\", \"flex\\u00edvel\", \"rota\\u00e7\\u00e3o\", \"mm\\u00b2\", \"seringa\", \"fio\", \"l\\u00e2mina\", \"carbono\", \"di\\u00e2metro\", \"galvanizado\", \"tubo\", \"ca\", \"ferro\", \"cobre\", \"concreto\", \"instala\\u00e7\\u00e3o\", \"alum\\u00ednio\", \"fornecimento\", \"comprimento\", \"nylon\", \"ponta\", \"conector\", \"pvc\", \"material\", \"pl\\u00e1stico\", \"alta\", \"descart\\u00e1vel\", \"caixa\", \"metros\", \"est\\u00e9ril\", \"pneu\", \"lonas\", \"radial\", \"hp\", \"pneus\", \"recapagem\", \"borrachudo\", \"motor\", \"trator\", \"retroescavadeira\", \"correia\", \"ford\", \"cv\", \"dipirona\", \"sulco\", \"cabine\", \"escavadeira\", \"agr\\u00edcola\", \"amoxicilina\", \"dexametasona\", \"retro\", \"combustivel\", \"motoniveladora\", \"haloperidol\", \"renault\", \"fiat\", \"metoprolol\", \"succinato\", \"carregadeira\", \"r\\u00e9\", \"combust\\u00edvel\", \"diesel\", \"suspens\\u00e3o\", \"aro\", \"vw\", \"embreagem\", \"dianteiro\", \"recarga\", \"filtro\", \"toner\", \"ca\\u00e7amba\", \"traseiro\", \"hidr\\u00e1ulica\", \"rolamento\", \"ve\\u00edculo\", \"roda\", \"bomba\", \"ano\", \"oral\", \"ar\", \"comprimido\", \"cloridrato\", \"novo\", \"ampola\", \"cp\", \"conserto\", \"carga\", \"\\u00f3leo\", \"m\\u00ednimo\", \"placa\", \"solu\\u00e7\\u00e3o\", \"caminh\\u00e3o\", \"m\\u00ednima\", \"capacidade\", \"livro\", \"editora\", \"autor\", \"matura\\u00e7\\u00e3o\", \"amadurecimento\", \"brochura\", \"assunto\", \"repolho\", \"banana\", \"couve\", \"firmes\", \"companhia\", \"coxim\", \"les\\u00f5es\", \"fic\\u00e7\\u00e3o\", \"br\\u00f3colis\", \"rupturas\", \"retorna\", \"brotos\", \"chuchu\", \"narrativa\", \"laboratorial\", \"bovina\", \"igg\", \"igm\", \"colheita\", \"piment\\u00e3o\", \"trajeto\", \"formosa\", \"anormal\", \"machucados\", \"alface\", \"beterraba\", \"anticorpos\", \"alterar\", \"m\\u00e9dio\", \"manchas\", \"inglesa\", \"firme\", \"natura\", \"cebola\", \"cenoura\", \"alho\", \"xa0\", \"casca\", \"amortecedor\", \"rachaduras\", \"exame\", \"qualidade\", \"colora\\u00e7\\u00e3o\", \"carne\", \"primeira\", \"boa\", \"grau\", \"in\", \"uniforme\", \"tamanho\", \"sujidades\", \"livre\", \"larvas\", \"verde\", \"limpa\", \"estar\", \"consumo\", \"linha\", \"folhas\", \"transporte\", \"apresentar\", \"sold\\u00e1vel\", \"esgoto\", \"toalha\", \"ramal\", \"soldavel\", \"caderno\", \"epson\", \"cartolina\", \"sulfite\", \"adesiva\", \"mmxm\", \"fls\", \"serie\", \"guache\", \"offset\", \"oficio\", \"kraft\", \"couch\\u00ea\", \"perfurador\", \"prendedor\", \"gliter\", \"monopolar\", \"glitter\", \"beneficente\", \"cesar\", \"cetim\", \"pen\", \"set\", \"rolos\", \"espironolactona\", \"papel\", \"cola\", \"rolo\", \"impress\\u00e3o\", \"espiral\", \"joelho\", \"bast\\u00e3o\", \"pilha\", \"folha\", \"fita\", \"higi\\u00eanico\", \"bucha\", \"bobina\", \"pardo\", \"amarelo\", \"rosa\", \"vaso\", \"marrom\", \"pasta\", \"envelope\", \"esponja\", \"pvc\", \"folhas\", \"dura\", \"eva\", \"tinta\", \"disjuntor\", \"vermelho\", \"azul\", \"sanit\\u00e1rio\", \"branca\", \"pacote\", \"verde\", \"xcm\", \"impressora\", \"tamanho\", \"tubo\", \"metros\", \"barra\", \"preto\", \"\\u00e1gua\", \"transparente\", \"argamassa\", \"telha\", \"sulfato\", \"prego\", \"fibrocimento\", \"lixeira\", \"grampeador\", \"betoneira\", \"lixa\", \"desinfetante\", \"tijolo\", \"cloro\", \"xarope\", \"cimento\", \"f\\u00f4rma\", \"pomada\", \"hidr\\u00f3xido\", \"ondulada\", \"clorpromazina\", \"carvedilol\", \"hipoclorito\", \"medicinal\", \"cer\\u00e2micos\", \"serrada\", \"ferroso\", \"tijolos\", \"calcio\", \"intertravado\", \"tensoativo\", \"enalapril\", \"brita\", \"areia\", \"pedal\", \"pn\", \"et\\u00edlico\", \"hidratado\", \"demoli\\u00e7\\u00e3o\", \"sabonete\", \"carbonato\", \"pedra\", \"terminal\", \"spray\", \"detergente\", \"\\u00e1lcool\", \"desmontagem\", \"ui\", \"alvenaria\", \"tra\\u00e7o\", \"preparo\", \"frasco\", \"parafuso\", \"piso\", \"s\\u00f3dio\", \"concreto\", \"pead\", \"gel\", \"cloreto\", \"l\\u00edquido\", \"base\", \"forma\", \"litro\", \"\\u00e1gua\", \"espessura\", \"solu\\u00e7\\u00e3o\", \"manual\", \"uso\", \"embalagem\", \"madeira\", \"limpeza\", \"covid\", \"documenta\\u00e7\\u00e3o\", \"fralda\", \"sonda\", \"retentor\", \"clips\", \"novaamplia\\u00e7\\u00e3o\", \"uretral\", \"marcador\", \"esferogr\\u00e1fica\", \"adesivas\", \"foley\", \"mascara\", \"barreiras\", \"geri\\u00e1trica\", \"morto\", \"m\\u00e1scara\", \"antivazamento\", \"at\\u00f4mico\", \"destilada\", \"fisiol\\u00f3gico\", \"t\\u00e9cnicaremo\\u00e7\\u00e3o\", \"fraldas\", \"organizadora\", \"pinh\\u00e3o\", \"nasog\\u00e1strica\", \"epinefrina\", \"chanfrada\", \"esp\\u00e9culo\", \"reposicion\\u00e1veis\", \"termo\", \"caneta\", \"cubo\", \"cota\\u00e7\\u00e3o\", \"facial\", \"reforma\", \"constru\\u00e7\\u00e3o\", \"anel\", \"especifica\\u00e7\\u00f5es\", \"referencia\", \"arruela\", \"anest\\u00e9sico\", \"curativo\", \"fitas\", \"soro\", \"adulto\", \"fechado\", \"caixa\", \"ponta\", \"pincel\", \"tampa\", \"descart\\u00e1vel\", \"quadro\", \"teste\", \"memorial\", \"infantil\", \"vias\", \"tamanho\", \"cx\", \"obra\", \"sistema\", \"\\u00e1gua\", \"placa\", \"gel\"], \"Freq\": [63036.0, 38152.0, 26617.0, 24356.0, 29724.0, 29676.0, 21097.0, 20816.0, 22462.0, 25837.0, 24102.0, 23460.0, 38493.0, 26604.0, 17804.0, 15062.0, 14256.0, 17482.0, 13673.0, 24141.0, 11679.0, 29605.0, 16555.0, 12553.0, 12888.0, 17910.0, 15166.0, 16792.0, 12393.0, 13979.0, 38151.19835885118, 29723.995817054718, 6405.741384376121, 6232.684677802914, 5969.614567892596, 4767.0083643130265, 4721.515034621416, 4625.583456213716, 4584.04603297568, 4246.802048955211, 3932.3047056897935, 3930.326741307794, 3065.953525394103, 2935.407453226986, 6071.4958263406525, 2593.218457831174, 2571.4607804301972, 2466.628401977226, 2390.4765273239595, 2231.2498654203123, 2217.3784765600344, 2060.1554136037576, 1807.96414034529, 1806.9751550191615, 3689.996532237108, 1668.5171899801394, 1535.00417373841, 1477.6426366576652, 1393.579276745824, 1360.9427323950354, 8178.748483403259, 17224.774268844452, 2179.2930158011113, 2156.4566264746454, 10253.09986270454, 57389.881579455556, 6105.573567633826, 6823.944042768828, 10291.091359573484, 2700.225974779685, 23388.855619128502, 6119.3337241050585, 19065.86565310972, 8049.322282479148, 6264.830276440636, 12262.911877478426, 8183.045951533221, 13266.109768659422, 9093.71049247386, 10427.88654079167, 8049.4209702392, 13495.595071176924, 9231.603527966174, 7721.96853252138, 8474.397915280033, 13231.799893323468, 6314.3456177844855, 8194.984215587168, 6588.302618745552, 6815.156808815149, 2567.8856373368894, 2820.4450986660286, 2086.8551803009614, 2065.715846443267, 2015.3841118256194, 1852.3092099386488, 1696.2807771808239, 1631.85613968173, 1563.4049536927391, 1479.8542425096948, 1362.0779303531199, 1201.0163253368503, 1131.5584910861212, 1115.452343452784, 1473.509745333502, 1060.0874083257324, 1060.0873844215057, 1004.7224822121796, 940.297823587046, 931.2381078108332, 926.1994924664549, 3974.161650404998, 887.9527965498332, 862.7869210013064, 1246.8251042482182, 780.2428546131282, 777.2229324492386, 780.1993015391922, 732.9309976338506, 729.9110767967842, 4462.141458844745, 4440.53136623033, 2747.840223877361, 2714.287293304732, 1934.847863810896, 1630.2232631895906, 1186.470194899037, 3085.1024343437634, 1024.7367596995605, 1454.7498315210144, 4457.240118602675, 2215.963952138242, 1746.4880564648993, 5281.152324647667, 5452.2942532112065, 6956.878568330948, 5573.865539189817, 8692.481416111577, 6233.176954813549, 2909.33295918395, 1792.6580133714592, 3275.0306073848933, 4263.920155580256, 8986.025998680196, 2966.4553315157304, 3648.1604258737266, 3113.1161608652324, 12055.878918440087, 3179.3334904768294, 4775.69449532398, 8678.538967026716, 5987.649473684406, 3702.225390142526, 5454.70030724041, 5310.414640038035, 3701.5185338153856, 3721.583769500989, 3244.7239175920863, 3460.3516145334, 3874.757153999288, 4100.057591412469, 3725.939311094356, 3668.9048793334946, 3479.9375184067003, 3288.9109818866646, 3338.098604108102, 3373.2967429720766, 22462.03268397373, 12552.307880516571, 10790.00314389649, 3189.692273333698, 2213.3873379143447, 2140.040576760883, 1711.8540095182295, 1625.6220138318367, 1831.5647934436788, 1419.4581622966032, 1369.8995177003412, 1443.1714612834278, 1331.2438079929736, 1318.3584870623426, 1277.7204410820439, 1271.7734533431792, 1246.0016327879243, 1710.5178255852147, 1225.1850839590854, 1234.0767381339, 1092.371228941209, 1079.485959900834, 1086.414149717438, 1062.6360352517074, 1024.9714300347302, 943.6953444460262, 913.960151928569, 898.1014078315776, 854.4897491572361, 823.7633124908714, 5945.471745125833, 2718.9613238260913, 2224.2196399671616, 973.807495447717, 1493.5270477804752, 9190.7231502107, 21381.422345119907, 11391.836921177619, 2993.506557245736, 3070.425813363195, 4026.832910397636, 7911.012189116282, 5751.638054847552, 1873.15167823033, 1668.844033091377, 4613.014999487979, 6733.527115738532, 3275.6168105643287, 5219.344591258814, 9451.279358531698, 4703.996448711279, 1935.5858765541855, 2618.3393027857896, 7170.422573220541, 4247.57419015058, 5024.409772457327, 2296.8431271699396, 2621.076344439494, 2553.9528084523004, 4122.962992145907, 4798.948930471477, 4469.118640130649, 2950.2038189119226, 2707.703822602239, 3831.562314722113, 2687.18624630213, 2748.799877434115, 2823.6858737060525, 2163.075288526006, 2143.996130176234, 1877.89199294154, 1681.039370234574, 1581.6628437446536, 1547.5211623455436, 1487.2707734510004, 1456.1420088192942, 1439.071174494631, 1385.8503341019446, 1353.7169988244016, 1336.6461834938764, 1238.2378472146727, 1215.1420232521737, 2052.9809074942464, 1183.008668463893, 1122.7586902402795, 1107.6961874488336, 997.2378606718004, 958.0753569815669, 947.0295357835863, 899.833697813148, 888.7698269086941, 815.4837029855343, 766.2795278907674, 765.2753763152341, 731.1090564904136, 737.1200056275577, 677.9128736827888, 6838.774845532809, 3924.759667107817, 2396.856118938574, 797.0938694427616, 9154.098753934808, 1709.6724267312275, 3361.8729827677826, 4223.0361793979, 2905.0018202331835, 2407.2877542464535, 3684.393190051947, 2785.148672979726, 8518.250486594421, 5584.075642067917, 3236.729776875203, 2081.117664279251, 8706.48240181798, 3829.559409338888, 2704.899993663488, 3657.1124727892548, 8202.895792100586, 2811.4541259286357, 13338.73255274588, 5051.053839383622, 6350.814049148083, 2619.889107762327, 2488.6828648246587, 3395.528515491128, 4793.358425472417, 3498.9506746790494, 4852.612438899026, 2637.9310544872455, 4009.8382808707347, 3387.8166698210293, 3714.5979954023824, 3791.0479772732156, 3359.410566282245, 3259.9689439111144, 3263.862833038577, 3221.306585450376, 7809.877462440195, 4661.229898747001, 3710.686694717035, 2451.4284460289105, 2195.290169853283, 1879.7433842469366, 1728.7873430914613, 1904.946103605976, 1656.703938718841, 1530.109745311822, 2196.7717480939, 1326.5625801443873, 1299.2931086428632, 2716.1849236643275, 1198.0064897285124, 1162.9457381787947, 1144.4410232464213, 1268.9080058948248, 2427.8074456560125, 891.1655503284201, 828.8946659143497, 828.8946519682612, 828.8945965035787, 788.9643408400307, 782.1469779078651, 774.355678909066, 766.5644297295175, 858.9698226094055, 685.7298968974401, 676.9647254457592, 1159.3537242799655, 2927.4780513024043, 848.1215214235477, 7732.584326996366, 2696.32510648958, 2303.389435390109, 2249.620934420877, 3051.5951652478147, 16507.026336486248, 26562.811567720204, 5921.816542918559, 2695.778838714707, 2661.6434870517355, 3559.2820759602105, 8912.911876401737, 3055.302226657908, 2596.9072352307176, 6471.491925617466, 5248.342503171315, 11633.786835089837, 4152.082326333138, 5524.795696362492, 2917.6478715232865, 7782.740666089617, 6623.926792375786, 4162.324234936053, 6072.761583699378, 5657.228922579429, 3450.368534755921, 4315.139301244063, 3021.0019621123156, 6539.301865324329, 5825.854222498921, 5389.3629398533085, 4551.239444033568, 4251.633897341143, 5241.241667761373, 3297.1455827393147, 3161.3259941546103, 20815.54448072013, 7278.389864892718, 4845.021125909935, 4738.8101539652735, 4225.773339917057, 3605.5772698307533, 3141.852671728262, 9248.04111060056, 2856.410734627162, 2398.350339609336, 1861.631382265991, 1776.2832145932753, 2381.9417643419765, 1584.724273424839, 1286.954289148222, 1192.122916092067, 1973.9135945553423, 1327.6095008845978, 1149.449033485607, 1129.534220920737, 1124.7928931592146, 1112.464860126972, 1520.8575412127416, 1045.1347101556732, 1077.3504477141012, 2603.813000715182, 901.9395940646945, 900.991282129425, 890.5598399112423, 880.1284070990354, 3682.8101070644157, 4828.635090384951, 2387.7865577756315, 2248.404036976128, 1461.69314543629, 1170.9515678608218, 3995.551750545407, 1337.3734282869634, 14247.74368752875, 2433.2892439834804, 2147.6361553634447, 3840.10814776048, 3013.5189184205387, 3084.61494080688, 7888.419742760626, 2007.8747772446948, 3766.882574477594, 9871.296773322569, 3963.474730366698, 9682.432054440373, 5572.511829162628, 4839.964569113411, 6056.496977780324, 3618.2712053146975, 3845.9971667790273, 3368.787955204705, 4803.299014683851, 5535.748972789343, 9072.979692345352, 4787.241251394743, 3827.5585722035084, 3432.559410650716, 4161.910639638571, 3660.680545051724, 8726.754278782888, 4606.995358998007, 3685.0457645462093, 3667.825098923173, 2528.974937262305, 2260.514881841304, 1987.9683979098154, 1887.6631843685043, 1917.0026142191884, 1755.9492567294649, 1932.9048121297092, 1268.6077159997585, 1168.3021839386765, 1339.3652023661157, 1121.6960480256955, 1052.7995031409307, 1377.7480049669102, 1013.2853493196621, 1076.0358879696137, 947.42794053542, 937.2965543971964, 842.0571976376697, 2704.2298402252363, 794.4374307730778, 782.2775002067028, 787.3367216517375, 751.8838703650094, 696.1587001957961, 818.5898942613605, 711.2794783327198, 1995.7074157010654, 1653.418312639816, 1666.2476684067026, 1079.0854146340755, 1110.2250262730608, 13649.689836184762, 3670.207921436141, 1402.4027150591762, 3993.2412572899293, 3471.0352407311184, 1739.7969946928185, 1874.994660544851, 1434.5331109292401, 2298.83556694852, 4694.9961392637615, 2212.84295472575, 2378.9565409210295, 4487.128923531748, 18474.391493328803, 3604.020411031199, 5590.0375029376955, 6683.6634529771345, 5456.506756729224, 5684.829235189599, 3661.516896554715, 3270.4223805306196, 12525.747444644298, 3786.7416327154106, 4081.8554723846396, 2371.6088835018218, 4661.619384956983, 2702.9799139065103, 3520.3923785553416, 3035.980534920605, 3309.4690990619283, 3391.8816184969487, 2808.9750184775035, 2660.3666954325467, 6200.036239058795, 5555.671557157526, 2594.1284703450533, 2391.335204189217, 2185.673392840571, 1630.01849330804, 1353.1658823665855, 1239.1104038110973, 1204.0164141706616, 3317.833433677749, 1139.6774176500883, 1086.0434340077175, 1244.705529225218, 925.2141306565568, 714.6501564662012, 724.3860209373694, 711.7251771303125, 702.952162439597, 702.9521177520481, 811.0155983439408, 678.5813491815605, 641.5376755472447, 633.7390200930383, 600.594654607416, 594.7456687411017, 600.5358364804164, 538.2052995945214, 525.526991448182, 2005.690154777995, 487.51403740659225, 20890.203255739405, 5520.958474838201, 8836.109191347397, 4419.242693724991, 1531.7551385590573, 3753.832886859257, 1149.3978395852384, 1488.904563425864, 6155.457864950798, 9019.71540589786, 1182.7588500599409, 4416.279192426686, 2110.60641228101, 941.3333295470969, 3890.4506955933034, 3294.53691098184, 1828.377884574946, 2170.0592042302615, 4399.518337364371, 2183.4425413699328, 1633.9263330979823, 17576.623596112164, 9491.695806206544, 1551.9939719187912, 3174.137620640194, 9007.58073441245, 2272.0084339428777, 3514.731356202921, 6688.281272751511, 2393.378597515626, 7189.589243265872, 7103.215661146728, 5381.107192224041, 4409.950663297267, 2774.4725578165367, 6454.870893584165, 4680.822325595631, 3827.9652284130307, 3167.882724819366, 3800.48640968134, 3592.275894631073, 3376.9544353749206, 3382.5713460919555, 2711.3016891027846, 2452.9053650033575, 2299.2378583083682, 1786.3603141628741, 1626.8201275037566, 1622.9050445767125, 1713.8565435423702, 1435.9592216172691, 1361.5724163149146, 1292.0794672966176, 1214.7558938195539, 1151.1359942234665, 3033.6409029355154, 1012.1501313194215, 1001.3822952832941, 917.1971132380488, 879.0368601587916, 865.3340296114017, 816.3953408336715, 798.777401439254, 783.1169942260343, 782.1382496732622, 702.8575638292047, 675.4518774749503, 666.6429032078238, 667.6188498400155, 631.4070571233536, 628.4706474227539, 626.513194990283, 3398.244229303754, 2917.54975622569, 1415.1602262759484, 1503.9935492046625, 1040.3877174691086, 835.5701788505404, 826.4167787846163, 1813.73358726881, 1247.536039348685, 2896.2760644935, 1522.8834501096583, 2226.323771806775, 1838.2235347266615, 3442.4473753311595, 2028.9048202316171, 1721.2954527339145, 2969.5743439923585, 2314.0211016354833, 2881.0995305369815, 8711.963389447776, 4479.753777407753, 3984.698717633228, 4301.941999850517, 8171.373209222425, 2002.2856908520007, 3247.6818303304426, 2172.7737742095146, 3199.2357960390677, 4830.863738763278, 3265.3522298713337, 3011.919152876547, 4458.753909204187, 3325.662881115307, 2748.120218963899, 2630.3419606039442, 3145.153313115322, 4079.24597207787, 2794.605527112361, 2415.110169900368, 24353.411341418967, 7852.257173996112, 3076.2647727427293, 5766.439124042933, 1946.76837380777, 1784.972888821644, 1562.760114968582, 1330.307095431534, 1397.7603881508364, 1254.4946492150887, 1212.5020990627334, 1069.1814674770021, 1027.1965504748096, 943.2267407996367, 917.6261950926264, 705.6534425240344, 2475.892217555349, 654.4525135165941, 645.2363162056705, 645.2362808169115, 632.948039878859, 631.9240336674991, 560.2424622310448, 555.1223466187753, 553.074270661416, 545.9061676117632, 537.7139804793021, 545.890855806851, 532.5938668818344, 516.2095296266987, 26508.747542918038, 4960.9572580125205, 1020.0808806253324, 7984.962882076982, 675.2466156277728, 8264.87298981603, 10645.188769887152, 3728.4511287950636, 11241.522801767867, 1256.3300206103484, 1798.3103112002243, 819.571500119353, 1026.3739439228489, 1437.1352529160633, 2086.5737454555015, 3503.34428796658, 1947.0227078147432, 10774.154629361241, 4324.588045213759, 2444.8416158756518, 4363.76784443178, 4379.639624905888, 2118.5131783508555, 1947.4055513929047, 1958.8130131126973, 2604.4265291345932, 1892.7815173232839, 4286.350515402438, 2178.785563662823, 2475.585133071295, 2445.2254381551966, 2219.7855170805296, 2063.3019065891754, 1954.3374787626822], \"Total\": [63036.0, 38152.0, 26617.0, 24356.0, 29724.0, 29676.0, 21097.0, 20816.0, 22462.0, 25837.0, 24102.0, 23460.0, 38493.0, 26604.0, 17804.0, 15062.0, 14256.0, 17482.0, 13673.0, 24141.0, 11679.0, 29605.0, 16555.0, 12553.0, 12888.0, 17910.0, 15166.0, 16792.0, 12393.0, 13979.0, 38152.08991918581, 29724.94651709794, 6406.649006605176, 6233.576182589713, 5970.506074910703, 4767.89986862156, 4722.406541786876, 4626.474961152803, 4584.937574693666, 4247.693565802505, 3933.1962188848597, 3931.2182481441664, 3066.845037397043, 2936.2989687284785, 6073.384365730196, 2594.1100334975026, 2572.352355359423, 2467.519904877832, 2391.3680316535424, 2232.141387774492, 2218.2962235286636, 2061.0469190868375, 1808.8556504874318, 1807.8666651384262, 3691.8690829986285, 1669.4087133940977, 1535.895689328442, 1478.5345471107428, 1394.4707816423681, 1361.8342647973031, 8213.982275807057, 17482.823936383873, 2180.7270956524894, 2161.02219163357, 10498.767596577034, 63036.35361463351, 6270.1214743531755, 7034.068667736502, 10906.801357706716, 2729.6779856420562, 26604.440741064504, 6485.665611810046, 24141.143658980298, 9252.784900811437, 7045.509647808986, 15315.101791199304, 9780.65432883172, 17717.924499692457, 11925.52284993073, 16157.830487762712, 11470.025250415125, 28971.837552599725, 15936.221264491493, 13147.684833665622, 16123.662179131827, 41304.12736341152, 8771.811258673779, 16792.04970236173, 12228.136669428879, 20650.290994249885, 2568.9143527231818, 2821.581321843405, 2087.7449453984254, 2066.605609142699, 2016.2738546765752, 1853.1989692722584, 1697.170530256473, 1632.7458844527619, 1564.2946981313312, 1480.7439854944228, 1362.96767953777, 1201.906064872881, 1132.448243388207, 1116.3420820299, 1474.6942697180457, 1060.9771518977757, 1060.9771512534844, 1005.6122218072152, 941.187575801974, 932.127859831254, 927.0946711671605, 3978.1060186103105, 888.8425509206633, 863.6766735825341, 1248.1956194504392, 781.1325961701704, 778.1126906903435, 781.1318941114677, 733.820746704546, 730.8008409806351, 4468.1620369726115, 4449.162136330353, 2753.037956651682, 2737.3053686122157, 1945.5419372737185, 1638.3560609410747, 1188.8245598631288, 3124.9775438405595, 1027.6889082526488, 1469.4554675843776, 4667.7558630592375, 2271.643015569539, 1777.3727791644826, 5711.451620750414, 6095.959149700599, 8222.135891731594, 6660.276631300914, 11206.8617581688, 8099.473749681094, 3353.4377912845566, 1911.685750058884, 4194.387663052527, 6192.619634357144, 17742.458781067653, 3851.71019835582, 5752.818611866045, 4490.625641352214, 41304.12736341152, 4693.848879313772, 9786.001869704369, 28971.837552599725, 15222.394534314059, 6547.071719213125, 15166.691733357815, 15312.644204093573, 7219.578276432693, 9471.726894635147, 5886.979053591072, 8058.390491126549, 14574.686135593067, 20650.290994249885, 12684.220639419758, 13979.356133026135, 16123.662179131827, 7486.667384433696, 13757.924567770971, 24141.143658980298, 22462.941237266397, 12553.199175417636, 10790.894437300905, 3190.5835643968703, 2214.2786335295323, 2140.931867277098, 1712.7453388376416, 1626.5133301081048, 1832.6821243267166, 1420.3494461904186, 1370.7908203198194, 1444.1363532899234, 1332.135092016705, 1319.2498513110459, 1278.6117768432066, 1272.6647409132486, 1246.8942846691773, 1711.765601787547, 1226.0796753299978, 1234.9996260686287, 1093.2625150332321, 1080.3772723061668, 1087.3157027980478, 1063.5273395046497, 1025.8627831241542, 944.5866370732306, 914.8514614647856, 898.9927014387059, 855.3811097091178, 824.6547607033187, 5976.789585520566, 2729.906998272498, 2228.998534003153, 975.3179582627938, 1503.2664295092213, 9738.702486841936, 23460.787344728004, 12335.146843946879, 3100.1520404438106, 3216.494676449242, 4282.809264356496, 8894.946181125002, 6343.647545073439, 1925.5231356398956, 1710.3964024312218, 5316.971258257185, 8341.212331699324, 3706.412434705686, 7076.118349861332, 14836.117120355673, 6304.10773973225, 2102.3835636383556, 3148.875713754446, 12677.372275269403, 6715.00236537706, 8713.295455717845, 2730.1669697804446, 3432.5114085444716, 3551.4718373420133, 9965.679433552334, 15312.644204093573, 14018.233186436622, 5384.6642755618905, 4314.482528957042, 15425.773345644928, 4616.112881771674, 20650.290994249885, 2824.699657130843, 2163.9653032438164, 2144.8861373561076, 1878.7819827985147, 1681.9655764614104, 1582.552829290912, 1548.411163496274, 1488.161155010739, 1457.0320014925396, 1439.9611689330081, 1386.740337743609, 1354.607005742662, 1337.5361733867667, 1239.1278443983858, 1216.0320121661084, 2054.4949516173624, 1183.8986795854523, 1123.648682967423, 1108.5861835106, 998.1278551643193, 958.9653570385996, 947.919524103036, 900.7236928455101, 889.6773162260688, 816.3736965515136, 767.169531856974, 766.1653655630871, 732.0229801651874, 738.0494653439596, 678.802869496699, 6866.669194306105, 3932.2133287966285, 2422.4006700051177, 798.2994708735016, 9535.738181805762, 1727.6549902991005, 3461.0628804139087, 4381.69059630549, 3082.2662115859052, 2574.232258008, 4136.1461772512375, 3203.355559708854, 11576.406894447715, 7833.108754848044, 4064.7697784114307, 2369.1134028492643, 14410.01484048069, 5096.663614468924, 3371.3505461519217, 5098.3897764312605, 15222.394534314059, 3820.0956190785864, 38493.520518080084, 9552.908840974731, 14227.708736734226, 3671.952751564994, 3386.2218459212036, 6041.07193459236, 13230.453340442957, 8498.244994614239, 29605.942226103143, 4275.441982030124, 20507.61060602196, 11170.22788066814, 16304.658819012142, 20650.290994249885, 11786.949191268632, 11733.308221091314, 12684.220639419758, 17151.970280722395, 7810.773537159103, 4662.122916805818, 3711.5871500072117, 2452.32147913164, 2196.183189819397, 1880.6364001002685, 1729.6803741984909, 1905.9586507783886, 1657.6111160474115, 1531.002765915837, 2198.145494450942, 1327.455608450718, 1300.1861326657024, 2718.2001773914194, 1198.8995089001187, 1163.8387543475733, 1145.334488517616, 1269.9951249055964, 2429.9801320652173, 892.1199015182773, 829.7876774388211, 829.7876777139807, 829.7876796365387, 789.8573743487402, 783.0400053031289, 775.2487269407445, 767.4574475506726, 859.9790115267901, 686.6229306458208, 677.8577418696792, 1161.9461828819885, 2963.715199682754, 849.2662175501196, 7940.018382271519, 2736.050779113685, 2345.395712058382, 2292.0011720033463, 3130.324139421232, 17804.897067672508, 29676.846968635346, 6531.279396388795, 2873.939850815707, 2853.2022335277893, 3914.2457179236017, 10656.099893124692, 3336.0300623139806, 2801.2582013175524, 8585.054474004422, 6798.083561796502, 17910.963624524666, 5625.8740625039545, 8873.853238899483, 3633.9783425348737, 16555.554481890256, 15425.773345644928, 6877.004970165282, 14018.233186436622, 13230.453340442957, 5111.449459930125, 8782.2775256395, 3994.964044316037, 25837.643580891858, 20507.61060602196, 17186.253848745273, 11733.308221091314, 11013.336895521108, 29605.942226103143, 10476.265973919804, 7375.962107711113, 20816.440055745144, 7279.285438898064, 4845.916700090955, 4739.70575068094, 4226.668927342382, 3606.4728411756414, 3142.7482453048037, 9250.93760454782, 2857.306316434045, 2399.272753036599, 1862.526968784704, 1777.1788886664644, 2383.1695342861694, 1585.6198473662967, 1287.849861289876, 1193.018665603128, 1975.401726360615, 1328.6328031559365, 1150.3446132666343, 1130.430068432049, 1125.6885015232974, 1113.3604432431964, 1522.0930653849223, 1046.0302868651954, 1078.2745495826432, 2606.0773822665606, 902.8351660758346, 901.8868539905503, 891.4554218358505, 881.0239892998374, 3687.2325481613348, 4853.909919714884, 2392.807734042055, 2253.4733561875933, 1464.3376707441537, 1172.1671099826592, 4089.1460126372235, 1342.00532272831, 15062.44932678228, 2494.8036691374346, 2191.956138757675, 4099.121307481692, 3175.275855104168, 3270.346280147096, 9128.45442936674, 2083.2662687844513, 4214.08547535982, 14193.898636412086, 4836.061184053696, 15166.691733357815, 7557.971508644097, 6325.492560653291, 8780.350375906666, 4495.489933333398, 5215.6845749310305, 4217.837636822924, 8252.192359003728, 11170.22788066814, 41304.12736341152, 13757.924567770971, 7753.789114161611, 5549.06296083973, 28971.837552599725, 17742.458781067653, 8728.526688536025, 4607.937754888343, 3685.9407037843393, 3668.7166533557584, 2529.8981266975584, 2261.4039937724842, 1988.8574877293681, 1888.552267786467, 1917.933580202859, 1756.8383423808577, 1934.1415083709765, 1269.4968183125297, 1169.1915932182435, 1340.4182852567574, 1122.585132771873, 1053.6886173045664, 1378.9237146916726, 1014.1744401785974, 1076.9917670359282, 948.3174670633281, 938.1856373480381, 842.9463367537134, 2707.155150124195, 795.3266864286364, 783.1684668183029, 788.2344084156857, 752.7729577141429, 697.047834736924, 819.6448602047278, 712.2437563352993, 2000.91950852159, 1657.4689489881875, 1673.5993130736888, 1081.0334223945017, 1113.413084100787, 14256.306205332869, 3772.8377903324863, 1415.5247582227212, 4142.878812176798, 3595.776492963764, 1770.140246303, 1926.8201251279054, 1454.4440675634548, 2389.398593543496, 5088.720931914327, 2315.105151968599, 2511.5078794878705, 5081.274074822837, 24102.830052015084, 4039.0512495168737, 6671.692532469077, 8298.287418405178, 7657.132419816808, 8401.603118236673, 4761.185521832697, 4541.79873556679, 38493.520518080084, 6054.022495969838, 6989.155179970544, 2908.8757991855573, 11823.898703652869, 4045.4478122323458, 7771.710959532962, 5513.7964555422695, 8626.708711874086, 12888.013666195238, 12677.372275269403, 8532.421445070724, 6200.929211717859, 5556.564500444055, 2595.021402097334, 2392.2572076613774, 2186.566313523041, 1630.9114202728883, 1354.0588066057896, 1240.0033286141252, 1204.9093352390787, 3320.3662117951108, 1140.5703478209687, 1086.954598208077, 1245.845421290666, 926.1070554365886, 715.5430963173877, 725.291834473793, 712.6186213576925, 703.8450985847135, 703.8450985369292, 812.0562316586356, 679.4742693528606, 642.4306101462081, 634.631944728881, 601.4876183551917, 595.6386193252439, 601.4893888386566, 539.0982984649112, 526.4256323626313, 2009.1504679183772, 488.40697248631477, 21097.398034720503, 5532.3234717701525, 8927.140881896088, 4455.048211524034, 1538.3365868161836, 3808.3041193171807, 1152.3275992991905, 1502.7202918181797, 6329.62794015944, 9554.396367931182, 1203.0378192926041, 4683.836027222655, 2187.6437910516315, 952.5975501331659, 4200.574252215219, 3563.46828030023, 1918.849672754248, 2308.4000491758516, 5054.784609076429, 2380.6319213996517, 1713.5631456959825, 25837.643580891858, 12888.013666195238, 1618.7828742552674, 3817.714260880291, 13979.356133026135, 2578.530383078505, 4641.618584284801, 11786.949191268632, 2911.5975225810407, 16304.658819012142, 16792.04970236173, 11823.898703652869, 8584.482351593453, 4192.14374699836, 38493.520518080084, 17910.963624524666, 10476.265973919804, 6211.830897368933, 11031.275247985915, 14282.013456349367, 12320.694266508986, 3383.6379635480444, 2712.194220763169, 2453.797899805271, 2300.1303908126074, 1787.2528449978395, 1627.7126929291614, 1623.7975967082507, 1714.824516749672, 1436.8517736794515, 1362.4649539024376, 1292.9720040919606, 1215.648867133185, 1152.0285565002505, 3036.161813088268, 1013.0426562323894, 1002.2761374347149, 918.1015239202251, 879.9294002407506, 866.2265645039943, 817.287867670245, 799.6699368789248, 784.0095540335183, 783.0307798380269, 703.7500904006735, 676.3444198021577, 667.5354550757382, 668.5142586374434, 632.2995928068674, 629.3632722535993, 627.4057227216717, 3405.240169594448, 2922.726365101405, 1418.3173304955462, 1513.1548418141963, 1043.406603516135, 836.8675264599302, 828.0638193079664, 1843.3394290537783, 1258.8222320263556, 2998.727861349341, 1548.8812832844872, 2300.7725818932186, 1891.344833827108, 3749.423858550251, 2148.5890969782804, 1819.068506743177, 3406.147484623237, 2569.7861658334527, 3383.9367055218086, 12393.206759573468, 6449.2873170204675, 5656.464377057364, 6678.253250232007, 16555.554481890256, 2381.412111860758, 5203.383061546901, 2871.713694424671, 6134.22702352748, 14574.686135593067, 6826.078579960854, 5791.881321122281, 14282.013456349367, 12684.220639419758, 7753.789114161611, 7738.313858276905, 17151.970280722395, 63036.35361463351, 14227.708736734226, 9965.679433552334, 24356.254785786565, 7853.190336983311, 3077.152776544427, 5768.236075924698, 1947.6564024060515, 1785.860912307253, 1563.6481181596134, 1331.1951021433204, 1398.7742120581702, 1255.4159019029737, 1213.430522323398, 1070.0694678840766, 1028.0845616134795, 944.1147498095396, 918.5141975704466, 706.5416153958747, 2479.0784294145797, 655.3405187343441, 646.1243198501716, 646.1243183896603, 633.8360544272106, 632.8120328109964, 561.1304853747758, 556.0103747128343, 553.9623290323547, 546.7941763024703, 538.6019987500993, 546.7934273110965, 533.4818886068155, 517.0975356825907, 26617.881318330987, 5003.852651778796, 1027.9480505456818, 8228.131000828744, 677.8353753785474, 8977.076856695829, 11679.742722675484, 4184.265263787134, 13673.330147157503, 1329.1490107195214, 2006.6188985037043, 840.767872388332, 1084.2921770359007, 1621.4912207049683, 2507.9415549484224, 5208.277749482251, 2525.3519658098867, 29605.942226103143, 8782.2775256395, 3912.059285624794, 10372.116568036283, 11013.336895521108, 3546.6018783526088, 3062.6892903579173, 3149.3488714422356, 6980.869153307896, 3292.9280102459534, 38493.520518080084, 6199.460835038586, 14836.117120355673, 15312.644204093573, 14282.013456349367, 13757.924567770971, 5203.383061546901], \"Category\": [\"Default\", \"Default\", \"Default\", \"Default\", \"Default\", \"Default\", \"Default\", \"Default\", \"Default\", \"Default\", \"Default\", \"Default\", \"Default\", \"Default\", \"Default\", \"Default\", \"Default\", \"Default\", \"Default\", \"Default\", \"Default\", \"Default\", \"Default\", \"Default\", \"Default\", \"Default\", \"Default\", \"Default\", \"Default\", \"Default\", \"Topic1\", \"Topic1\", \"Topic1\", \"Topic1\", \"Topic1\", \"Topic1\", \"Topic1\", \"Topic1\", \"Topic1\", \"Topic1\", \"Topic1\", \"Topic1\", \"Topic1\", \"Topic1\", \"Topic1\", \"Topic1\", \"Topic1\", \"Topic1\", \"Topic1\", \"Topic1\", \"Topic1\", \"Topic1\", \"Topic1\", \"Topic1\", \"Topic1\", \"Topic1\", \"Topic1\", \"Topic1\", \"Topic1\", \"Topic1\", \"Topic1\", \"Topic1\", \"Topic1\", \"Topic1\", \"Topic1\", \"Topic1\", \"Topic1\", \"Topic1\", \"Topic1\", \"Topic1\", \"Topic1\", \"Topic1\", \"Topic1\", \"Topic1\", \"Topic1\", \"Topic1\", \"Topic1\", \"Topic1\", \"Topic1\", \"Topic1\", \"Topic1\", \"Topic1\", \"Topic1\", \"Topic1\", \"Topic1\", \"Topic1\", \"Topic1\", \"Topic1\", \"Topic1\", \"Topic1\", \"Topic2\", \"Topic2\", \"Topic2\", \"Topic2\", \"Topic2\", \"Topic2\", \"Topic2\", \"Topic2\", \"Topic2\", \"Topic2\", \"Topic2\", \"Topic2\", \"Topic2\", \"Topic2\", \"Topic2\", \"Topic2\", \"Topic2\", \"Topic2\", \"Topic2\", \"Topic2\", \"Topic2\", \"Topic2\", \"Topic2\", \"Topic2\", \"Topic2\", \"Topic2\", \"Topic2\", \"Topic2\", \"Topic2\", \"Topic2\", \"Topic2\", \"Topic2\", \"Topic2\", \"Topic2\", \"Topic2\", \"Topic2\", \"Topic2\", \"Topic2\", \"Topic2\", \"Topic2\", \"Topic2\", \"Topic2\", \"Topic2\", \"Topic2\", \"Topic2\", \"Topic2\", \"Topic2\", \"Topic2\", \"Topic2\", \"Topic2\", \"Topic2\", \"Topic2\", \"Topic2\", \"Topic2\", \"Topic2\", \"Topic2\", \"Topic2\", \"Topic2\", \"Topic2\", \"Topic2\", \"Topic2\", \"Topic2\", \"Topic2\", \"Topic2\", \"Topic2\", \"Topic2\", \"Topic2\", \"Topic2\", \"Topic2\", \"Topic2\", \"Topic2\", \"Topic2\", \"Topic2\", \"Topic2\", \"Topic2\", \"Topic2\", \"Topic2\", \"Topic3\", \"Topic3\", \"Topic3\", \"Topic3\", \"Topic3\", \"Topic3\", \"Topic3\", \"Topic3\", \"Topic3\", \"Topic3\", \"Topic3\", \"Topic3\", \"Topic3\", \"Topic3\", \"Topic3\", \"Topic3\", \"Topic3\", \"Topic3\", \"Topic3\", \"Topic3\", \"Topic3\", \"Topic3\", \"Topic3\", \"Topic3\", \"Topic3\", \"Topic3\", \"Topic3\", \"Topic3\", \"Topic3\", \"Topic3\", \"Topic3\", \"Topic3\", \"Topic3\", \"Topic3\", \"Topic3\", \"Topic3\", \"Topic3\", \"Topic3\", \"Topic3\", \"Topic3\", \"Topic3\", \"Topic3\", \"Topic3\", \"Topic3\", \"Topic3\", \"Topic3\", \"Topic3\", \"Topic3\", \"Topic3\", \"Topic3\", \"Topic3\", \"Topic3\", \"Topic3\", \"Topic3\", \"Topic3\", \"Topic3\", \"Topic3\", \"Topic3\", \"Topic3\", \"Topic3\", \"Topic3\", \"Topic3\", \"Topic3\", \"Topic3\", \"Topic3\", \"Topic3\", \"Topic3\", \"Topic4\", \"Topic4\", \"Topic4\", \"Topic4\", \"Topic4\", \"Topic4\", \"Topic4\", \"Topic4\", \"Topic4\", \"Topic4\", \"Topic4\", \"Topic4\", \"Topic4\", \"Topic4\", \"Topic4\", \"Topic4\", \"Topic4\", \"Topic4\", \"Topic4\", \"Topic4\", \"Topic4\", \"Topic4\", \"Topic4\", \"Topic4\", \"Topic4\", \"Topic4\", \"Topic4\", \"Topic4\", \"Topic4\", \"Topic4\", \"Topic4\", \"Topic4\", \"Topic4\", \"Topic4\", \"Topic4\", \"Topic4\", \"Topic4\", \"Topic4\", \"Topic4\", \"Topic4\", \"Topic4\", \"Topic4\", \"Topic4\", \"Topic4\", \"Topic4\", \"Topic4\", \"Topic4\", \"Topic4\", \"Topic4\", \"Topic4\", \"Topic4\", \"Topic4\", \"Topic4\", \"Topic4\", \"Topic4\", \"Topic4\", \"Topic4\", \"Topic4\", \"Topic4\", \"Topic4\", \"Topic4\", \"Topic4\", \"Topic4\", \"Topic4\", \"Topic4\", \"Topic4\", \"Topic4\", \"Topic4\", \"Topic4\", \"Topic4\", \"Topic5\", \"Topic5\", \"Topic5\", \"Topic5\", \"Topic5\", \"Topic5\", \"Topic5\", \"Topic5\", \"Topic5\", \"Topic5\", \"Topic5\", \"Topic5\", \"Topic5\", \"Topic5\", \"Topic5\", \"Topic5\", \"Topic5\", \"Topic5\", \"Topic5\", \"Topic5\", \"Topic5\", \"Topic5\", \"Topic5\", \"Topic5\", \"Topic5\", \"Topic5\", \"Topic5\", \"Topic5\", \"Topic5\", \"Topic5\", \"Topic5\", \"Topic5\", \"Topic5\", \"Topic5\", \"Topic5\", \"Topic5\", \"Topic5\", \"Topic5\", \"Topic5\", \"Topic5\", \"Topic5\", \"Topic5\", \"Topic5\", \"Topic5\", \"Topic5\", \"Topic5\", \"Topic5\", \"Topic5\", \"Topic5\", \"Topic5\", \"Topic5\", \"Topic5\", \"Topic5\", \"Topic5\", \"Topic5\", \"Topic5\", \"Topic5\", \"Topic5\", \"Topic5\", \"Topic5\", \"Topic5\", \"Topic5\", \"Topic5\", \"Topic5\", \"Topic5\", \"Topic5\", \"Topic5\", \"Topic5\", \"Topic5\", \"Topic6\", \"Topic6\", \"Topic6\", \"Topic6\", \"Topic6\", \"Topic6\", \"Topic6\", \"Topic6\", \"Topic6\", \"Topic6\", \"Topic6\", \"Topic6\", \"Topic6\", \"Topic6\", \"Topic6\", \"Topic6\", \"Topic6\", \"Topic6\", \"Topic6\", \"Topic6\", \"Topic6\", \"Topic6\", \"Topic6\", \"Topic6\", \"Topic6\", \"Topic6\", \"Topic6\", \"Topic6\", \"Topic6\", \"Topic6\", \"Topic6\", \"Topic6\", \"Topic6\", \"Topic6\", \"Topic6\", \"Topic6\", \"Topic6\", \"Topic6\", \"Topic6\", \"Topic6\", \"Topic6\", \"Topic6\", \"Topic6\", \"Topic6\", \"Topic6\", \"Topic6\", \"Topic6\", \"Topic6\", \"Topic6\", \"Topic6\", \"Topic6\", \"Topic6\", \"Topic6\", \"Topic6\", \"Topic6\", \"Topic6\", \"Topic6\", \"Topic6\", \"Topic6\", \"Topic6\", \"Topic6\", \"Topic6\", \"Topic6\", \"Topic6\", \"Topic7\", \"Topic7\", \"Topic7\", \"Topic7\", \"Topic7\", \"Topic7\", \"Topic7\", \"Topic7\", \"Topic7\", \"Topic7\", \"Topic7\", \"Topic7\", \"Topic7\", \"Topic7\", \"Topic7\", \"Topic7\", \"Topic7\", \"Topic7\", \"Topic7\", \"Topic7\", \"Topic7\", \"Topic7\", \"Topic7\", \"Topic7\", \"Topic7\", \"Topic7\", \"Topic7\", \"Topic7\", \"Topic7\", \"Topic7\", \"Topic7\", \"Topic7\", \"Topic7\", \"Topic7\", \"Topic7\", \"Topic7\", \"Topic7\", \"Topic7\", \"Topic7\", \"Topic7\", \"Topic7\", \"Topic7\", \"Topic7\", \"Topic7\", \"Topic7\", \"Topic7\", \"Topic7\", \"Topic7\", \"Topic7\", \"Topic7\", \"Topic7\", \"Topic7\", \"Topic7\", \"Topic7\", \"Topic7\", \"Topic7\", \"Topic7\", \"Topic7\", \"Topic7\", \"Topic7\", \"Topic7\", \"Topic7\", \"Topic7\", \"Topic7\", \"Topic7\", \"Topic7\", \"Topic7\", \"Topic7\", \"Topic8\", \"Topic8\", \"Topic8\", \"Topic8\", \"Topic8\", \"Topic8\", \"Topic8\", \"Topic8\", \"Topic8\", \"Topic8\", \"Topic8\", \"Topic8\", \"Topic8\", \"Topic8\", \"Topic8\", \"Topic8\", \"Topic8\", \"Topic8\", \"Topic8\", \"Topic8\", \"Topic8\", \"Topic8\", \"Topic8\", \"Topic8\", \"Topic8\", \"Topic8\", \"Topic8\", \"Topic8\", \"Topic8\", \"Topic8\", \"Topic8\", \"Topic8\", \"Topic8\", \"Topic8\", \"Topic8\", \"Topic8\", \"Topic8\", \"Topic8\", \"Topic8\", \"Topic8\", \"Topic8\", \"Topic8\", \"Topic8\", \"Topic8\", \"Topic8\", \"Topic8\", \"Topic8\", \"Topic8\", \"Topic8\", \"Topic8\", \"Topic8\", \"Topic8\", \"Topic8\", \"Topic8\", \"Topic8\", \"Topic8\", \"Topic8\", \"Topic8\", \"Topic8\", \"Topic8\", \"Topic8\", \"Topic8\", \"Topic8\", \"Topic8\", \"Topic8\", \"Topic8\", \"Topic8\", \"Topic8\", \"Topic8\", \"Topic8\", \"Topic8\", \"Topic8\", \"Topic9\", \"Topic9\", \"Topic9\", \"Topic9\", \"Topic9\", \"Topic9\", \"Topic9\", \"Topic9\", \"Topic9\", \"Topic9\", \"Topic9\", \"Topic9\", \"Topic9\", \"Topic9\", \"Topic9\", \"Topic9\", \"Topic9\", \"Topic9\", \"Topic9\", \"Topic9\", \"Topic9\", \"Topic9\", \"Topic9\", \"Topic9\", \"Topic9\", \"Topic9\", \"Topic9\", \"Topic9\", \"Topic9\", \"Topic9\", \"Topic9\", \"Topic9\", \"Topic9\", \"Topic9\", \"Topic9\", \"Topic9\", \"Topic9\", \"Topic9\", \"Topic9\", \"Topic9\", \"Topic9\", \"Topic9\", \"Topic9\", \"Topic9\", \"Topic9\", \"Topic9\", \"Topic9\", \"Topic9\", \"Topic9\", \"Topic9\", \"Topic9\", \"Topic9\", \"Topic9\", \"Topic9\", \"Topic9\", \"Topic9\", \"Topic9\", \"Topic9\", \"Topic9\", \"Topic9\", \"Topic9\", \"Topic9\", \"Topic9\", \"Topic9\", \"Topic9\", \"Topic9\", \"Topic9\", \"Topic9\", \"Topic9\", \"Topic10\", \"Topic10\", \"Topic10\", \"Topic10\", \"Topic10\", \"Topic10\", \"Topic10\", \"Topic10\", \"Topic10\", \"Topic10\", \"Topic10\", \"Topic10\", \"Topic10\", \"Topic10\", \"Topic10\", \"Topic10\", \"Topic10\", \"Topic10\", \"Topic10\", \"Topic10\", \"Topic10\", \"Topic10\", \"Topic10\", \"Topic10\", \"Topic10\", \"Topic10\", \"Topic10\", \"Topic10\", \"Topic10\", \"Topic10\", \"Topic10\", \"Topic10\", \"Topic10\", \"Topic10\", \"Topic10\", \"Topic10\", \"Topic10\", \"Topic10\", \"Topic10\", \"Topic10\", \"Topic10\", \"Topic10\", \"Topic10\", \"Topic10\", \"Topic10\", \"Topic10\", \"Topic10\", \"Topic10\", \"Topic10\", \"Topic10\", \"Topic10\", \"Topic10\", \"Topic10\", \"Topic10\", \"Topic10\", \"Topic10\", \"Topic10\", \"Topic10\", \"Topic10\", \"Topic10\", \"Topic10\", \"Topic10\", \"Topic10\", \"Topic10\"], \"logprob\": [30.0, 29.0, 28.0, 27.0, 26.0, 25.0, 24.0, 23.0, 22.0, 21.0, 20.0, 19.0, 18.0, 17.0, 16.0, 15.0, 14.0, 13.0, 12.0, 11.0, 10.0, 9.0, 8.0, 7.0, 6.0, 5.0, 4.0, 3.0, 2.0, 1.0, -3.4095, -3.6591, -5.1939, -5.2212, -5.2644, -5.4893, -5.4989, -5.5194, -5.5285, -5.6049, -5.6818, -5.6823, -5.9307, -5.9742, -5.2474, -6.0981, -6.1066, -6.1482, -6.1796, -6.2485, -6.2547, -6.3283, -6.4588, -6.4594, -5.7454, -6.5391, -6.6225, -6.6606, -6.7192, -6.7429, -4.9495, -4.2047, -6.272, -6.2826, -4.7235, -3.0012, -5.2418, -5.1306, -4.7198, -6.0577, -3.8988, -5.2396, -4.1031, -4.9655, -5.2161, -4.5445, -4.949, -4.4658, -4.8435, -4.7066, -4.9654, -4.4487, -4.8284, -5.007, -4.914, -4.4684, -5.2082, -4.9475, -5.1658, -5.1319, -6.0238, -5.93, -6.2312, -6.2414, -6.2661, -6.3505, -6.4385, -6.4772, -6.52, -6.5749, -6.6579, -6.7837, -6.8433, -6.8576, -6.5792, -6.9085, -6.9085, -6.9622, -7.0285, -7.0381, -7.0436, -5.5871, -7.0857, -7.1145, -6.7463, -7.215, -7.2189, -7.2151, -7.2776, -7.2817, -5.4713, -5.4761, -5.9561, -5.9684, -6.3069, -6.4782, -6.7959, -5.8403, -6.9425, -6.5921, -5.4724, -6.1712, -6.4093, -5.3027, -5.2709, -5.0272, -5.2488, -4.8044, -5.137, -5.899, -6.3832, -5.7806, -5.5167, -4.7712, -5.8795, -5.6727, -5.8313, -4.4773, -5.8102, -5.4034, -4.806, -5.1772, -5.658, -5.2704, -5.2972, -5.6581, -5.6527, -5.7899, -5.7255, -5.6124, -5.5559, -5.6516, -5.667, -5.7199, -5.7763, -5.7615, -5.751, -3.8017, -4.3836, -4.5349, -5.7536, -6.119, -6.1527, -6.3759, -6.4276, -6.3083, -6.5632, -6.5988, -6.5467, -6.6274, -6.6371, -6.6684, -6.6731, -6.6936, -6.3767, -6.7104, -6.7032, -6.8251, -6.837, -6.8306, -6.8527, -6.8888, -6.9714, -7.0035, -7.021, -7.0707, -7.1074, -5.1309, -5.9132, -6.1141, -6.94, -6.5124, -4.6953, -3.851, -4.4806, -5.817, -5.7917, -5.5205, -4.8452, -5.164, -6.2859, -6.4014, -5.3846, -5.0064, -5.727, -5.2611, -4.6673, -5.3651, -6.2531, -5.951, -4.9435, -5.4671, -5.2992, -6.082, -5.9499, -5.9759, -5.4969, -5.3451, -5.4163, -5.8316, -5.9174, -5.5702, -5.925, -5.9023, -5.7779, -6.0445, -6.0533, -6.1858, -6.2966, -6.3575, -6.3793, -6.419, -6.4402, -6.452, -6.4897, -6.5131, -6.5258, -6.6023, -6.6211, -6.0967, -6.6479, -6.7002, -6.7137, -6.8188, -6.8588, -6.8704, -6.9215, -6.9339, -7.02, -7.0822, -7.0835, -7.1292, -7.121, -7.2047, -4.8934, -5.4487, -5.9418, -7.0428, -4.6018, -6.2797, -5.6035, -5.3754, -5.7496, -5.9375, -5.5119, -5.7917, -4.6738, -5.0961, -5.6414, -6.0831, -4.6519, -5.4732, -5.8209, -5.5193, -4.7115, -5.7823, -4.2253, -5.1964, -4.9674, -5.8529, -5.9042, -5.5935, -5.2488, -5.5635, -5.2365, -5.846, -5.4272, -5.5958, -5.5037, -5.4833, -5.6042, -5.6343, -5.6331, -5.6462, -4.7131, -5.2292, -5.4573, -5.8718, -5.9822, -6.1373, -6.2211, -6.124, -6.2637, -6.3431, -5.9815, -6.4859, -6.5067, -5.7693, -6.5878, -6.6175, -6.6336, -6.5303, -5.8815, -6.8837, -6.9561, -6.9561, -6.9561, -7.0055, -7.0142, -7.0242, -7.0343, -6.9205, -7.1458, -7.1586, -6.6206, -5.6943, -6.9332, -4.723, -5.7766, -5.9341, -5.9577, -5.6528, -3.9647, -3.489, -4.9898, -5.7768, -5.7895, -5.4989, -4.581, -5.6516, -5.8142, -4.9011, -5.1106, -4.3146, -5.3449, -5.0592, -5.6977, -4.7166, -4.8778, -5.3424, -4.9647, -5.0356, -5.53, -5.3064, -5.6629, -4.8907, -5.0062, -5.0841, -5.2531, -5.3212, -5.1119, -5.5754, -5.6175, -3.6143, -4.6651, -5.072, -5.0942, -5.2088, -5.3675, -5.5052, -4.4256, -5.6004, -5.7752, -6.0285, -6.0755, -5.7821, -6.1896, -6.3977, -6.4743, -5.97, -6.3666, -6.5107, -6.5282, -6.5324, -6.5434, -6.2307, -6.6059, -6.5755, -5.693, -6.7532, -6.7543, -6.7659, -6.7777, -5.3463, -5.0754, -5.7796, -5.8398, -6.2704, -6.4922, -5.2648, -6.3593, -3.9934, -5.7608, -5.8856, -5.3045, -5.5469, -5.5236, -4.5846, -5.9529, -5.3238, -4.3604, -5.2729, -4.3797, -4.9322, -5.0731, -4.8489, -5.364, -5.303, -5.4354, -5.0807, -4.9388, -4.4447, -5.084, -5.3078, -5.4167, -5.224, -5.3523, -4.3515, -4.9903, -5.2136, -5.2183, -5.5901, -5.7023, -5.8308, -5.8825, -5.8671, -5.9549, -5.8589, -6.28, -6.3623, -6.2257, -6.403, -6.4664, -6.1974, -6.5047, -6.4446, -6.5719, -6.5826, -6.6898, -5.5231, -6.748, -6.7634, -6.757, -6.803, -6.8801, -6.718, -6.8586, -5.8269, -6.015, -6.0073, -6.4418, -6.4133, -3.9042, -5.2176, -6.1797, -5.1333, -5.2734, -5.9641, -5.8893, -6.157, -5.6855, -4.9714, -5.7236, -5.6512, -5.0167, -3.6015, -5.2358, -4.7969, -4.6182, -4.8211, -4.7801, -5.22, -5.333, -3.9901, -5.1864, -5.1113, -5.6543, -4.9785, -5.5235, -5.2593, -5.4073, -5.3211, -5.2965, -5.4851, -5.5394, -4.6155, -4.7252, -5.4868, -5.5682, -5.6581, -5.9514, -6.1376, -6.2256, -6.2543, -5.2407, -6.3093, -6.3575, -6.2211, -6.5177, -6.776, -6.7624, -6.7801, -6.7925, -6.7925, -6.6495, -6.8278, -6.8839, -6.8961, -6.9498, -6.9596, -6.9499, -7.0595, -7.0834, -5.744, -7.1584, -3.4007, -4.7315, -4.2612, -4.954, -6.0136, -5.1172, -6.3008, -6.042, -4.6227, -4.2406, -6.2722, -4.9547, -5.693, -6.5005, -5.0815, -5.2477, -5.8366, -5.6653, -4.9585, -5.6591, -5.949, -3.5734, -4.1896, -6.0005, -5.285, -4.2419, -5.6193, -5.183, -4.5396, -5.5673, -4.4674, -4.4795, -4.7571, -4.9561, -5.4195, -4.5752, -4.8965, -5.0977, -5.2869, -5.1049, -5.1612, -5.223, -5.1541, -5.3753, -5.4755, -5.5401, -5.7925, -5.8861, -5.8885, -5.834, -6.0109, -6.0641, -6.1165, -6.1782, -6.232, -5.263, -6.3606, -6.3713, -6.4592, -6.5017, -6.5174, -6.5756, -6.5974, -6.6172, -6.6184, -6.7253, -6.7651, -6.7782, -6.7768, -6.8325, -6.8372, -6.8403, -5.1495, -5.302, -6.0255, -5.9646, -6.3331, -6.5524, -6.5634, -5.7773, -6.1516, -5.3093, -5.9521, -5.5724, -5.7639, -5.1365, -5.6652, -5.8296, -5.2843, -5.5337, -5.3146, -4.208, -4.8732, -4.9903, -4.9137, -4.2721, -5.6784, -5.1948, -5.5967, -5.2098, -4.7977, -5.1894, -5.2701, -4.8779, -5.1711, -5.3618, -5.4056, -5.2269, -4.9668, -5.345, -5.491, -3.0676, -4.1995, -5.1366, -4.5082, -5.5941, -5.6809, -5.8138, -5.9749, -5.9254, -6.0335, -6.0676, -6.1934, -6.2334, -6.3187, -6.3462, -6.6089, -5.3537, -6.6842, -6.6984, -6.6984, -6.7176, -6.7193, -6.8397, -6.8488, -6.8525, -6.8656, -6.8807, -6.8656, -6.8903, -6.9215, -2.9828, -4.6587, -6.2404, -4.1827, -6.6529, -4.1483, -3.8952, -4.9443, -3.8407, -6.0321, -5.6734, -6.4592, -6.2342, -5.8976, -5.5247, -5.0066, -5.594, -3.8831, -4.796, -5.3663, -4.7869, -4.7833, -5.5096, -5.5938, -5.5879, -5.3031, -5.6222, -4.8048, -5.4815, -5.3538, -5.3661, -5.4629, -5.536, -5.5902], \"loglift\": [30.0, 29.0, 28.0, 27.0, 26.0, 25.0, 24.0, 23.0, 22.0, 21.0, 20.0, 19.0, 18.0, 17.0, 16.0, 15.0, 14.0, 13.0, 12.0, 11.0, 10.0, 9.0, 8.0, 7.0, 6.0, 5.0, 4.0, 3.0, 2.0, 1.0, 1.9594, 1.9594, 1.9593, 1.9593, 1.9593, 1.9592, 1.9592, 1.9592, 1.9592, 1.9592, 1.9592, 1.9592, 1.9591, 1.9591, 1.9591, 1.9591, 1.9591, 1.9591, 1.9591, 1.959, 1.959, 1.959, 1.9589, 1.9589, 1.9589, 1.9589, 1.9588, 1.9588, 1.9588, 1.9588, 1.9551, 1.9446, 1.9588, 1.9573, 1.9357, 1.8656, 1.9328, 1.9291, 1.9013, 1.9486, 1.8306, 1.9013, 1.7234, 1.8201, 1.842, 1.7372, 1.7811, 1.6701, 1.6883, 1.5215, 1.6053, 1.1955, 1.4135, 1.4273, 1.3162, 0.8211, 1.6307, 1.242, 1.341, 0.8508, 2.0432, 2.0432, 2.0432, 2.0432, 2.0431, 2.0431, 2.0431, 2.043, 2.043, 2.043, 2.0429, 2.0428, 2.0428, 2.0428, 2.0428, 2.0427, 2.0427, 2.0427, 2.0426, 2.0426, 2.0426, 2.0426, 2.0426, 2.0426, 2.0425, 2.0424, 2.0424, 2.0424, 2.0424, 2.0424, 2.0422, 2.0416, 2.0417, 2.0351, 2.0381, 2.0386, 2.0416, 2.0307, 2.0407, 2.0335, 1.9974, 2.0188, 2.0261, 1.9653, 1.932, 1.8765, 1.8655, 1.7895, 1.7817, 1.9015, 1.9793, 1.7962, 1.6704, 1.3633, 1.7824, 1.5881, 1.6772, 0.8122, 1.654, 1.3262, 0.8381, 1.1105, 1.4735, 1.021, 0.9846, 1.3755, 1.1094, 1.4479, 1.1982, 0.7188, 0.4269, 0.8185, 0.7059, 0.5103, 1.221, 0.6274, 0.0756, 2.0969, 2.0969, 2.0969, 2.0967, 2.0966, 2.0966, 2.0965, 2.0964, 2.0964, 2.0964, 2.0963, 2.0963, 2.0963, 2.0963, 2.0963, 2.0963, 2.0963, 2.0962, 2.0962, 2.0962, 2.0962, 2.0962, 2.0961, 2.0961, 2.0961, 2.096, 2.096, 2.096, 2.0959, 2.0959, 2.0917, 2.093, 2.0948, 2.0954, 2.0905, 2.0391, 2.0042, 2.0174, 2.062, 2.0505, 2.0353, 1.9798, 1.999, 2.0694, 2.0724, 1.955, 1.8829, 1.9734, 1.7926, 1.6461, 1.8042, 2.0143, 1.9125, 1.5271, 1.639, 1.5464, 1.9242, 1.8273, 1.7673, 1.2144, 0.9367, 0.9538, 1.4953, 1.6311, 0.7042, 1.5559, 0.0804, 2.1941, 2.1941, 2.1941, 2.194, 2.1939, 2.1939, 2.1939, 2.1939, 2.1939, 2.1939, 2.1938, 2.1938, 2.1938, 2.1938, 2.1938, 2.1937, 2.1937, 2.1937, 2.1937, 2.1936, 2.1936, 2.1935, 2.1935, 2.1935, 2.1934, 2.1933, 2.1933, 2.1932, 2.1932, 2.1932, 2.1904, 2.1926, 2.1839, 2.193, 2.1536, 2.184, 2.1654, 2.1576, 2.1353, 2.1274, 2.0788, 2.0546, 1.8877, 1.856, 1.9667, 2.0649, 1.6906, 1.9087, 1.9742, 1.8622, 1.5762, 1.8879, 1.1347, 1.5572, 1.3879, 1.8569, 1.8865, 1.6184, 1.1792, 1.3071, 0.386, 1.7116, 0.5624, 1.0014, 0.7153, 0.4994, 0.9393, 0.9138, 0.837, 0.5222, 2.2419, 2.2418, 2.2417, 2.2416, 2.2416, 2.2415, 2.2415, 2.2415, 2.2414, 2.2414, 2.2414, 2.2413, 2.2413, 2.2412, 2.2412, 2.2412, 2.2412, 2.2411, 2.2411, 2.2409, 2.2409, 2.2409, 2.2409, 2.2409, 2.2408, 2.2408, 2.2408, 2.2408, 2.2407, 2.2407, 2.2398, 2.2297, 2.2406, 2.2155, 2.2274, 2.2239, 2.2233, 2.2165, 2.1663, 2.1311, 2.144, 2.178, 2.1725, 2.1469, 2.0634, 2.1541, 2.1662, 1.9594, 1.9833, 1.8105, 1.9382, 1.7681, 2.0224, 1.4872, 1.3966, 1.7399, 1.4054, 1.3924, 1.849, 1.5314, 1.9625, 0.868, 0.9835, 1.0823, 1.295, 1.2902, 0.5106, 1.0859, 1.3948, 2.3604, 2.3604, 2.3603, 2.3603, 2.3603, 2.3602, 2.3602, 2.3602, 2.3602, 2.3601, 2.36, 2.36, 2.36, 2.3599, 2.3598, 2.3597, 2.3597, 2.3597, 2.3597, 2.3597, 2.3597, 2.3597, 2.3597, 2.3596, 2.3596, 2.3596, 2.3595, 2.3595, 2.3595, 2.3595, 2.3593, 2.3553, 2.3584, 2.3582, 2.3587, 2.3594, 2.3373, 2.357, 2.3049, 2.3355, 2.34, 2.2952, 2.3082, 2.302, 2.2145, 2.3236, 2.2483, 1.9973, 2.1615, 1.9117, 2.0557, 2.0928, 1.9891, 2.1434, 2.0558, 2.1357, 1.8193, 1.6584, 0.8448, 1.3048, 1.6545, 1.8802, 0.4201, 0.7822, 2.4924, 2.4924, 2.4924, 2.4924, 2.4922, 2.4922, 2.4922, 2.4921, 2.4921, 2.4921, 2.492, 2.4919, 2.4918, 2.4918, 2.4918, 2.4918, 2.4917, 2.4917, 2.4917, 2.4917, 2.4916, 2.4915, 2.4915, 2.4915, 2.4915, 2.4915, 2.4914, 2.4913, 2.4913, 2.4912, 2.49, 2.4902, 2.4882, 2.4908, 2.4897, 2.4491, 2.465, 2.4833, 2.4558, 2.4573, 2.4753, 2.4653, 2.4788, 2.454, 2.4121, 2.4474, 2.4384, 2.3682, 2.2267, 2.3786, 2.3157, 2.2762, 2.1538, 2.102, 2.23, 2.1642, 1.3699, 2.0234, 1.9548, 2.2884, 1.5618, 2.0894, 1.7007, 1.8959, 1.5345, 1.1577, 0.9856, 1.3272, 2.5703, 2.5703, 2.5701, 2.5701, 2.5701, 2.5699, 2.5698, 2.5697, 2.5697, 2.5697, 2.5697, 2.5696, 2.5696, 2.5695, 2.5692, 2.5692, 2.5692, 2.5692, 2.5692, 2.5692, 2.5692, 2.5691, 2.5691, 2.569, 2.569, 2.5689, 2.5688, 2.5688, 2.5687, 2.5686, 2.5606, 2.5684, 2.5602, 2.5624, 2.5662, 2.5561, 2.5679, 2.5612, 2.5426, 2.5129, 2.5535, 2.5116, 2.5346, 2.5586, 2.4938, 2.492, 2.5222, 2.5087, 2.4316, 2.484, 2.5229, 2.1852, 2.2646, 2.5283, 2.3859, 2.131, 2.4439, 2.2924, 2.0038, 2.3745, 1.7516, 1.7101, 1.7832, 1.9044, 2.1577, 0.7848, 1.2285, 1.5637, 1.8971, 1.5049, 1.1903, 1.2762, 2.6374, 2.6374, 2.6374, 2.6374, 2.6373, 2.6372, 2.6372, 2.6372, 2.6371, 2.6371, 2.6371, 2.637, 2.637, 2.6369, 2.6369, 2.6369, 2.6368, 2.6367, 2.6367, 2.6367, 2.6366, 2.6366, 2.6366, 2.6365, 2.6364, 2.6364, 2.6364, 2.6363, 2.6363, 2.6363, 2.6357, 2.636, 2.6355, 2.6317, 2.6349, 2.6362, 2.6358, 2.6216, 2.6287, 2.603, 2.6208, 2.6049, 2.6093, 2.5523, 2.5804, 2.5825, 2.5006, 2.5329, 2.4769, 2.2853, 2.2733, 2.2874, 2.198, 1.9317, 2.4643, 2.1664, 2.3588, 1.9868, 1.5335, 1.9004, 1.9839, 1.4736, 1.2991, 1.6005, 1.5587, 0.9415, -0.1, 1.0102, 1.2203, 2.7501, 2.7501, 2.7499, 2.7499, 2.7497, 2.7497, 2.7496, 2.7495, 2.7495, 2.7495, 2.7494, 2.7494, 2.7493, 2.7493, 2.7492, 2.7489, 2.7489, 2.7488, 2.7488, 2.7488, 2.7488, 2.7488, 2.7486, 2.7486, 2.7486, 2.7486, 2.7486, 2.7485, 2.7485, 2.7485, 2.7461, 2.7416, 2.7425, 2.7202, 2.7464, 2.6675, 2.6575, 2.6349, 2.5544, 2.6939, 2.6406, 2.7247, 2.6953, 2.6295, 2.5663, 2.3537, 2.4901, 1.7394, 2.0418, 2.2801, 1.8844, 1.8281, 2.2349, 2.2974, 2.2753, 1.7642, 2.1965, 0.5551, 1.7045, 0.9596, 0.9157, 0.8886, 0.8529, 1.7709]}, \"token.table\": {\"Topic\": [5, 2, 3, 4, 5, 6, 7, 8, 9, 3, 4, 8, 10, 10, 2, 4, 5, 9, 10, 6, 5, 1, 7, 4, 8, 1, 7, 5, 1, 2, 3, 4, 5, 6, 7, 8, 9, 10, 1, 7, 2, 3, 4, 5, 6, 9, 2, 4, 5, 6, 9, 10, 3, 9, 10, 7, 1, 2, 4, 7, 8, 4, 2, 4, 6, 7, 6, 6, 9, 10, 5, 10, 9, 10, 2, 3, 4, 7, 8, 10, 1, 2, 3, 4, 6, 7, 8, 10, 7, 2, 7, 10, 4, 1, 2, 3, 4, 5, 7, 10, 2, 3, 4, 5, 6, 1, 2, 3, 5, 6, 3, 4, 9, 9, 4, 5, 2, 2, 6, 1, 5, 10, 2, 4, 6, 9, 10, 3, 7, 4, 9, 2, 3, 8, 10, 5, 7, 4, 2, 4, 5, 8, 10, 2, 4, 5, 6, 9, 10, 1, 2, 2, 4, 5, 9, 7, 1, 2, 3, 4, 5, 6, 7, 8, 10, 1, 2, 3, 4, 5, 7, 8, 9, 10, 4, 8, 2, 8, 8, 1, 7, 9, 1, 5, 5, 2, 5, 8, 1, 3, 4, 5, 7, 10, 2, 8, 9, 4, 1, 4, 4, 4, 5, 6, 4, 2, 4, 5, 6, 8, 10, 6, 1, 7, 1, 2, 4, 5, 6, 7, 8, 9, 10, 4, 4, 3, 9, 5, 7, 7, 7, 2, 3, 5, 8, 4, 5, 6, 2, 3, 4, 5, 8, 8, 1, 2, 3, 4, 5, 6, 7, 8, 9, 10, 9, 4, 3, 6, 4, 1, 2, 4, 5, 8, 10, 1, 2, 3, 4, 5, 6, 7, 8, 9, 10, 1, 9, 2, 4, 5, 9, 2, 3, 4, 5, 6, 7, 9, 10, 1, 7, 6, 8, 9, 1, 7, 5, 10, 6, 10, 1, 7, 10, 1, 7, 2, 3, 4, 5, 7, 8, 5, 5, 9, 8, 8, 10, 5, 1, 7, 7, 1, 8, 9, 10, 1, 4, 5, 9, 10, 6, 8, 9, 10, 9, 9, 2, 3, 5, 9, 10, 4, 5, 8, 7, 1, 7, 6, 3, 6, 7, 4, 2, 3, 4, 5, 6, 7, 8, 9, 10, 1, 6, 7, 9, 2, 6, 3, 4, 5, 6, 9, 2, 3, 10, 2, 5, 10, 2, 4, 5, 9, 10, 2, 4, 5, 8, 2, 3, 6, 3, 4, 6, 10, 3, 1, 2, 3, 7, 10, 1, 2, 3, 1, 2, 3, 4, 5, 7, 8, 9, 10, 3, 3, 3, 2, 6, 5, 4, 4, 1, 7, 10, 8, 7, 3, 9, 10, 7, 6, 9, 2, 4, 10, 2, 3, 4, 10, 6, 1, 4, 5, 6, 8, 9, 10, 5, 1, 2, 3, 9, 1, 4, 5, 10, 9, 2, 3, 6, 9, 10, 4, 9, 1, 2, 3, 4, 5, 6, 7, 10, 6, 5, 4, 6, 7, 4, 6, 2, 3, 4, 8, 10, 2, 4, 5, 8, 9, 10, 6, 2, 5, 8, 2, 2, 4, 5, 6, 8, 3, 2, 1, 7, 10, 1, 2, 3, 4, 5, 6, 7, 8, 9, 10, 7, 8, 7, 2, 3, 4, 7, 3, 5, 8, 2, 4, 5, 10, 1, 4, 5, 7, 8, 9, 10, 6, 1, 2, 3, 5, 10, 9, 2, 4, 6, 2, 5, 1, 2, 3, 5, 6, 7, 8, 10, 1, 2, 3, 7, 1, 4, 5, 8, 10, 8, 2, 3, 6, 10, 5, 3, 6, 5, 10, 5, 8, 2, 3, 1, 2, 3, 4, 5, 6, 10, 2, 3, 4, 5, 6, 8, 9, 10, 2, 5, 7, 8, 8, 4, 5, 8, 2, 4, 9, 10, 4, 1, 2, 3, 4, 5, 6, 7, 2, 3, 4, 5, 6, 9, 1, 4, 5, 10, 1, 9, 4, 8, 7, 10, 2, 3, 5, 6, 9, 1, 2, 4, 6, 8, 10, 1, 2, 5, 6, 7, 9, 4, 10, 1, 1, 1, 2, 3, 4, 5, 8, 10, 2, 4, 6, 1, 2, 3, 4, 5, 9, 10, 1, 1, 1, 2, 4, 5, 6, 8, 9, 10, 9, 2, 6, 9, 7, 2, 5, 6, 2, 3, 4, 5, 9, 3, 4, 5, 10, 1, 5, 7, 10, 7, 10, 2, 4, 8, 10, 2, 4, 10, 1, 3, 5, 7, 8, 10, 8, 10, 3, 7, 8, 1, 7, 8, 9, 6, 1, 2, 3, 4, 5, 7, 9, 10, 7, 2, 3, 4, 5, 6, 7, 8, 9, 10, 10, 10, 1, 6, 8, 9, 10, 2, 3, 4, 1, 9, 2, 5, 9, 10, 1, 2, 3, 4, 5, 6, 2, 4, 9, 10, 10, 2, 5, 8, 8, 4, 1, 4, 7, 8, 9, 1, 4, 7, 8, 9, 9, 1, 2, 4, 5, 7, 10, 8, 6, 2, 4, 5, 10, 2, 2, 1, 9, 3, 6, 9, 9, 8, 9, 9, 5, 2, 3, 5, 6, 7, 10, 6, 2, 5, 6, 1, 2, 3, 4, 5, 10, 7, 7, 3, 6, 8, 4, 8, 3, 1, 2, 3, 7, 10, 1, 2, 3, 4, 5, 7, 8, 9, 10, 7, 10, 1, 2, 5, 9, 5, 2, 3, 4, 5, 6, 8, 9, 10, 1, 3, 4, 2, 1, 2, 3, 4, 5, 6, 7, 8, 9, 10, 2, 3, 9, 5, 2, 4, 4, 4, 8, 3, 8, 7, 1, 2, 3, 4, 6, 8, 2, 4, 5, 6, 8, 9, 1, 7, 2, 4, 5, 10, 1, 5, 7, 1, 7, 9, 10, 2, 3, 4, 5, 6, 8, 9, 10, 1, 2, 3, 4, 5, 6, 7, 8, 10, 1, 4, 9, 1, 2, 3, 4, 5, 6, 7, 10, 7, 8, 9, 9, 2, 3, 8, 2, 3, 6, 3, 6, 1, 2, 3, 5, 2, 5, 4, 8, 4, 4, 8, 2, 4, 5, 10, 2, 4, 5, 6, 2, 4, 5, 1, 2, 5, 6, 7, 9, 10, 4, 1, 7, 2, 4, 5, 9, 10, 1, 4, 7, 4, 7, 4, 5, 6, 9, 2, 3, 4, 5, 6, 8, 9, 10, 2, 3, 6, 10, 1, 2, 4, 8, 10, 1, 2, 3, 4, 5, 6, 7, 8, 9, 10, 7, 2, 4, 2, 9, 2, 4, 5, 8, 9, 2, 3, 10, 2, 2, 4, 5, 9, 1, 2, 3, 5, 6, 6, 2, 3, 4, 5, 6, 8, 9, 2, 2, 1, 7, 8, 3, 5, 10, 2, 3, 6, 8, 10, 6, 4, 6, 2, 3, 1, 3, 4, 7, 3, 4, 6, 4, 10, 2, 3, 4, 5, 1, 2, 4, 7, 10, 1, 2, 3, 4, 5, 6, 7, 8, 9, 10, 1, 2, 3, 4, 5, 6, 7, 8, 9, 10, 7, 10, 1, 7, 2, 10, 1, 2, 3, 6, 7, 1, 1, 4, 5, 3, 3, 5, 7, 10, 3, 6, 8, 8, 9, 6, 9, 10, 1, 1, 2, 4, 8, 9, 10, 1, 2, 3, 4, 5, 6, 7, 8, 9, 10, 2, 4, 6, 4, 9, 1, 5, 7, 8, 10, 1, 2, 4, 5, 9, 3, 8, 1, 2, 3, 4, 5, 6, 7, 10, 1, 2, 3, 4, 5, 8, 1, 2, 4, 5, 8, 3, 2, 5, 9, 2, 9, 3, 6, 7, 9, 3, 8, 8, 1, 2, 3, 4, 5, 6, 7, 9, 10, 3, 5, 7, 8, 7, 5, 8, 10, 10, 2, 3, 4, 5, 6, 8, 4, 2, 3, 5, 6, 9, 10, 2, 3, 4, 5, 6, 8, 10, 1, 2, 4, 5, 7, 8, 9, 10, 1, 2, 4, 5, 7, 8, 9, 10, 5, 9, 6, 6, 1, 4, 10, 9, 4, 5, 8, 10, 2, 4, 5, 6, 8, 10, 2, 3, 6, 9, 1, 2, 3, 4, 5, 6, 7, 9, 10, 4, 5, 2, 5, 6, 2, 1, 2, 3, 9, 8, 1, 3, 9, 3, 1, 2, 4, 5, 6, 8, 10, 1, 2, 4, 6, 7, 8, 10, 1, 3, 7, 3, 4, 1, 5, 2, 1, 2, 4, 5, 6, 7, 9, 10, 2, 3, 3, 3, 4, 2, 4, 5, 8, 10, 1, 1, 2, 4, 5, 6, 9, 3, 2, 3, 4, 5, 6, 10, 1, 2, 3, 4, 5, 6, 7, 8, 10, 1, 7, 10, 6, 2, 8, 3, 7, 2, 6, 6, 8, 2, 3, 8, 10, 1, 5, 2, 3, 10, 1, 2, 3, 4, 5, 7, 8, 9, 10, 6, 7, 10, 1, 2, 4, 5, 7, 8, 9, 10, 10, 7, 6, 6, 4, 6, 9, 10, 4, 4, 6, 8, 10, 2, 3, 4, 5, 6, 8, 9, 5, 8, 9, 4, 7, 8, 10, 2, 5, 3, 7, 7, 3, 6, 1, 1, 9, 1, 1, 2, 4, 7, 8, 9, 2, 4, 5, 9, 1, 1, 3, 5, 7, 8, 9, 10, 1, 2, 3, 4, 5, 10, 1, 2, 3, 4, 7, 3, 1, 2, 3, 4, 5, 6, 7, 8, 9, 10, 8, 5, 7, 10, 9, 3, 7, 3, 2, 3, 5, 6, 7, 8, 3, 8, 1, 7, 2, 3, 4, 5, 6, 7, 8, 9, 10, 5, 1, 3, 4, 1, 4, 8, 8, 2, 3, 6, 9, 10, 5, 10, 1, 2, 4, 5, 7, 10, 2, 4, 5, 9, 2, 6, 1, 1, 7, 6, 9, 8, 1, 2, 3, 4, 5, 6, 8, 9, 4, 6, 9, 5, 1, 2, 9, 10, 1, 2, 4, 5, 7, 8, 9, 10, 1, 2, 4, 5, 6, 8, 9, 10, 2, 4, 8, 10, 2, 3, 9, 1, 2, 4, 5, 7, 8, 10, 9, 2, 3, 4, 5, 8, 3, 4, 6, 9, 3, 10, 5, 9, 1, 2, 3, 6, 7, 8, 10, 9, 9, 2, 4, 5, 8, 10, 8, 2, 3, 4, 5, 6, 8, 10, 6, 8, 4, 7, 1, 2, 4, 5, 7, 8, 9, 10, 1, 2, 3, 4, 5, 6, 7, 9, 10, 2, 4, 6, 7, 10, 6, 9, 10, 3, 1, 2, 4, 5, 6, 8, 9, 10, 10, 1, 2, 3, 4, 7, 10, 3, 4, 5, 5, 9, 1, 4, 5, 7, 10, 3, 10, 2, 6, 8, 3, 1, 2, 3, 4, 5, 6, 7, 8, 9, 10, 1, 1, 1, 2, 3, 2, 4, 8, 10, 5, 8, 10, 5, 4, 1, 2, 4, 5, 7, 8, 10, 3, 1, 2, 4, 5, 7, 8, 10, 1, 2, 3, 6, 7, 9, 2, 3, 5, 8, 9, 10, 2, 3, 5, 8, 9, 10, 4, 2, 2, 6, 2, 5, 2, 8, 2, 4, 5, 7, 9, 2, 4, 5, 8, 9, 10, 4, 1, 2, 3, 4, 5, 6, 7, 8, 9, 10, 1, 6, 9, 10, 2, 3, 4, 9, 5, 1, 4, 6, 9], \"Freq\": [0.9996313272507071, 0.24381504667294596, 0.0017650703185782767, 0.411732069647026, 0.21298515177511207, 0.00047068541828754044, 0.00011767135457188511, 0.06530760178739624, 0.06377787417796173, 0.9992827903053428, 0.000301171598616938, 0.9992873642110003, 0.000301171598616938, 0.9996452023288703, 0.0009600102453247706, 0.17740989333601762, 0.14822558187814458, 0.0005760061471948623, 0.6725831778745343, 0.9995237185515566, 0.9999009653582422, 0.0018099886588109956, 0.9973037510048586, 0.9959705071668447, 0.003932037387557363, 0.013063410566093194, 0.9866312717023018, 0.998861586720527, 0.004772737487568655, 0.22661980320437594, 0.013039800635678646, 0.27784150374060385, 0.3878701483200883, 0.0002556823654054636, 0.003323870750271027, 0.052329657452984894, 0.0031534158400007184, 0.030852338758925946, 0.001796278513841282, 0.9969345751819114, 0.39336780993962245, 0.00013138537406133015, 0.5388771117125456, 0.023517981956978094, 0.009853903054599761, 0.034225889942976505, 0.22524340271965387, 0.06674417162577219, 0.6052053209291152, 0.0072706069309120035, 0.04260575661514434, 0.05263919417980291, 0.05137769306526585, 0.8719528480219405, 0.07662615937162508, 0.9996449949157713, 0.004523191082738305, 0.00023806268856517394, 0.06832399161820492, 0.0004761253771303479, 0.9260638585185266, 0.9988700293669956, 0.01900561620822517, 0.00863891645828417, 0.01641394127073992, 0.9558961061091432, 0.998831121343007, 0.8048066069891651, 0.17662146101420595, 0.018240503530434368, 0.10874071582837086, 0.8909568980399265, 0.02378777859718508, 0.9752989224845883, 0.12153082352368448, 0.5820914845064888, 0.19561913305149214, 0.004549282163988189, 0.04852567641587402, 0.04765914647987627, 0.10849732264885886, 0.12223561999725333, 0.043962551514862294, 0.001338603331382025, 0.6954396570564194, 0.026067538558492063, 0.0007045280691484342, 0.001690867365956242, 0.9982537490511693, 0.0009250407797614511, 0.9981190013626058, 0.9979544699342977, 0.9997344610359528, 0.5363073108213152, 0.09739322012511209, 0.010665202203832972, 0.016408003390512266, 0.004570800944499845, 0.311752064419733, 0.022854004722499228, 0.04806976011478631, 0.7635808561263934, 0.00029133187948355335, 0.009613952022957261, 0.17829511024393466, 0.0002637358278471731, 0.3596697352265823, 0.000725273526579726, 0.0009230753974651058, 0.6383725713040824, 0.0003421462959859756, 0.001026438887957927, 0.998382891687077, 0.9998114563215932, 0.01180950180494621, 0.9876117652307874, 0.9995431717453008, 0.0017750376275880028, 0.9975711467044576, 0.9997244603536407, 0.10315860184231085, 0.896034618900845, 0.09895873064706294, 0.8694008354954899, 0.0009365179556504379, 0.016545150549824403, 0.014047769334756568, 0.9995647375372655, 0.9995688541111374, 0.9992723507954179, 0.0004867376282491076, 0.005483602022811216, 0.9657590856645166, 0.028708269413541074, 0.9982599016696473, 0.9988348482203281, 0.99974478596919, 0.9989933348149502, 0.003139065028583336, 0.2849762008381467, 0.004157140172988742, 0.5674072138152798, 0.14023985114184473, 0.09724752777982563, 0.004751178592153643, 0.8950748719388456, 0.0003706593227921282, 0.002527222655400874, 6.739260414402331e-05, 0.9999139121582865, 0.9985700134393692, 0.02728876713962875, 0.8023490773119105, 0.0014830851706319973, 0.1684784753837949, 0.9995132364266961, 0.009015055452285287, 0.0019317975969182757, 0.016420279573805343, 0.07791583640903711, 0.36559269521678367, 0.011107836182280085, 0.008210139786902671, 0.5099945655864248, 0.9988192644911389, 0.04418620023845849, 0.26587193466463765, 0.009537083591841196, 0.15712173687277942, 0.11787560871067032, 0.00027444844868607755, 0.029777656682439417, 0.3314651139006102, 0.04384313967760089, 0.0017356175459273364, 0.9971122801352547, 0.9989678458565202, 0.0007541277145368799, 0.9991893127301189, 0.0041826020991511895, 0.9954592995979832, 0.9995191830174933, 0.9998973384365437, 0.9994039440855874, 0.9992793208299345, 0.9914860180090059, 0.001461291109814305, 0.0065758099941643725, 0.2538809430758818, 0.00039179157882080525, 0.027556007710396634, 0.00013059719294026843, 0.7126688818750447, 0.005354484910551005, 0.01279915867223521, 0.9649651413245902, 0.021941414866688932, 0.999586860420852, 0.9994168293233289, 0.999425923767452, 0.9996506724573866, 0.0949197642854755, 0.01115307230354337, 0.8939068801584654, 0.9995991335431258, 0.00012766323452117055, 0.7128715015662164, 0.12076941985702734, 0.12153539926415435, 0.0002553264690423411, 0.04455446884788852, 0.9997619136989666, 0.0007387829249122448, 0.998834514481355, 0.03655396942774606, 0.1909883570436262, 0.22784898728871913, 0.019871620964076717, 0.033119368273461194, 0.036247308610399195, 0.44097825534478885, 0.0015333040867343145, 0.012879754328568242, 0.9992197383953818, 0.9983722012591594, 0.001761990256538815, 0.9978738152864823, 0.9997591404547121, 0.9998213526757728, 0.9990791322029715, 0.9993464698267995, 0.9872070940415695, 0.01248008968156279, 0.05700455747130869, 0.9428169505367011, 0.26182598181808564, 0.7380186534342781, 0.9991461444548203, 0.06397116454371575, 0.008536977182304471, 0.00016849297070337774, 0.9271044891335521, 0.00011232864713558516, 0.9994411589363107, 0.1071406535814723, 0.007599825679644158, 0.001351080120825628, 0.16391979565916934, 0.17702527283117792, 0.00955889185484132, 3.37770030206407e-05, 0.10707309957543103, 0.06241990158214402, 0.3639134305443829, 0.9992307439507849, 0.9993325035745788, 0.38132564271352026, 0.6186630110753852, 0.9995837820430075, 0.9993873962354536, 0.00019984601258082904, 0.0035972282264549226, 0.0019984601258082905, 0.0025979981635507773, 0.9914360684134929, 0.0014654113232458895, 0.5064686981033678, 0.01640133442555976, 0.000676343687651949, 0.14890833523137076, 0.20634118670781543, 0.008003400303881397, 0.011103308872286163, 0.06397084045708018, 0.03657892110717624, 0.007943933420926929, 0.9914028909316809, 0.06033003309745314, 0.006782666442908933, 0.9270834080123421, 0.005711719109818049, 0.13584268897669471, 0.12093755896408681, 0.002423598376033804, 0.012966251311780851, 0.582027150004518, 0.03174913872604283, 0.07028435290498031, 0.04374595068741016, 0.1620278504650964, 0.8378683479184911, 0.9994891255079108, 0.9991908661928782, 0.998424217804779, 0.07722962317215483, 0.9226287043085672, 0.999185124174849, 0.00041152599842456713, 0.9799466157280922, 0.020073394363145276, 0.002824634946548826, 0.9829729613989915, 0.013558247743434365, 0.02646848002826135, 0.9731058833919615, 0.006959281322463567, 0.8413404840894112, 0.1281972875190657, 0.01574995246662807, 0.006959281322463567, 0.0003662779643401877, 0.9994970243567471, 0.9994612517640233, 0.9986836024016321, 0.9989278409684594, 0.9991863716172923, 0.9985489450467643, 0.9989145200430051, 0.9992080184375511, 0.000458562651875884, 0.998610732050093, 0.9996384615349114, 0.000658726419447874, 0.9992879783024249, 0.9995179286912435, 0.03830465419082726, 0.011143172128240657, 0.0424833437389175, 0.7566910323333421, 0.1511292719892639, 0.7651578044856842, 0.00031618091094449757, 0.2290730699792885, 0.00521698503058421, 0.9994662380307933, 0.9985840142126136, 0.04595514454373702, 0.04375370049373764, 0.8029767172372732, 0.016235649868745414, 0.09080956706247435, 0.0009037794021831071, 0.0010845352826197286, 0.9979532158905868, 0.9984339577129514, 0.1074509762786279, 0.8922887523229838, 0.9987780747452878, 0.0010848244442826448, 0.9988521070732451, 0.9996086494228554, 0.9991965429007159, 0.11269455109616684, 7.558319993036005e-05, 0.36227027726621575, 0.4275741620060468, 0.0022674959979108017, 7.558319993036005e-05, 0.05691414954756112, 0.035977603166851384, 0.0021919127979804416, 0.006880152953808742, 0.7373671617610792, 0.0007938638023625472, 0.25496259119210474, 0.9948997283677915, 0.004272575520597877, 0.03557718351531467, 0.00012080537696201926, 0.47011412444769796, 0.0005436241963290867, 0.4935503675783297, 0.9976240734263986, 0.0008411670096344001, 0.0008411670096344001, 0.1474356198119026, 0.7562020500029842, 0.09637133043732173, 0.010199298657074947, 0.7172852920946747, 0.18535263905645818, 0.0486428089798959, 0.03824736996403105, 0.13519070131915253, 0.6170122319721876, 0.22968385587440796, 0.018009833912759076, 0.00023708831067125846, 0.20081379913855593, 0.7987505186514697, 0.061473956836912876, 0.0009418015671393338, 0.026113588907045165, 0.9114070620180189, 0.9990499195856076, 0.11280793642188007, 0.15016876424005898, 0.04116945589673115, 0.5506188022135496, 0.14527195671049184, 0.9701355392363407, 0.008672079116854746, 0.021182619482153393, 0.8007129281404339, 0.04329060355191289, 0.00208944089541661, 0.07567693743087034, 0.0060071425743227535, 0.014364906155989192, 0.04374766874778527, 0.012079580176627277, 0.001958850839453072, 0.9987251931880917, 0.9999044725252202, 0.9996277999781511, 0.99888154333571, 0.9997170678365813, 0.9985090451922458, 0.9994226994813807, 0.9984755235858453, 0.026859076499601273, 0.0026737542216797644, 0.9704512481869509, 0.9987993116860332, 0.9995228118827817, 4.105721543788268e-05, 4.105721543788268e-05, 0.9998663675587569, 0.9989808400734702, 0.7373912177292389, 0.26247752913971084, 0.0009728118064615759, 0.005836870838769455, 0.9922680425908074, 0.0018445212852751037, 0.0009222606426375518, 0.0498020747024278, 0.9462394193461282, 0.9995092525859601, 0.09791174041608765, 0.13452782785340542, 0.18614521983552743, 0.03322869608849103, 0.10775130576267965, 0.0888786968192163, 0.3514821785282619, 0.998671836309658, 0.999968157483567, 0.9992461433556566, 0.001207636388262592, 0.9975076567049009, 0.0022699750527169446, 0.21401324797015356, 0.38607735696609796, 0.3976996292360087, 0.9996587406515626, 0.021874820116186744, 0.032579519321980256, 0.0009308434091994359, 0.9443406386328278, 0.9982599039261323, 0.027493664333425004, 0.971795289323753, 0.5255629835117446, 0.21583186011575067, 0.017241740549476633, 0.09972920432934686, 0.02257551640291185, 0.0004961651956683923, 0.11746711007449188, 0.0011163716902538828, 0.9996195532620205, 0.9996616038590795, 0.007581045016293534, 0.9772211575841601, 0.015162090032587068, 0.0049444675317356825, 0.9948680712813172, 0.6932218912513526, 0.12136393534596439, 0.0017814889592068167, 0.18260261831869873, 0.0008907444796034084, 0.4880440514512472, 0.1941548780899015, 0.07224605200503177, 0.10913547884211307, 0.13621497499675722, 0.0003065603338261603, 0.9996090819830956, 0.004265995883619223, 0.11401843543491377, 0.8811220588711703, 0.9990790082026461, 0.04228278353959959, 0.15177539105261229, 0.7537517693794736, 0.04403000599991362, 0.00803722331744455, 0.9995648279865427, 0.9992165197889075, 0.9738248333745231, 0.02615579310078968, 0.9998484263169193, 0.0003054800811377662, 0.5654436301860053, 0.06002683594357106, 0.18389900884493526, 0.06140149630869101, 0.0009164402434132987, 0.0006109601622755324, 0.04673845241407823, 0.0009164402434132987, 0.07973030117695698, 0.0407713727700287, 0.9587450081679476, 0.9997964914158513, 0.00124358980889584, 0.9544551783275573, 0.035753207005755405, 0.008394231210046921, 0.9994225507530214, 0.9991905756574813, 0.00036789049177374125, 0.0002460163931820055, 0.7963550647301518, 0.0002460163931820055, 0.20320954076833656, 0.9104270267732818, 0.007281512550774287, 0.010850881448212663, 0.0026492649149875945, 0.0015387945913401, 0.06470869214511615, 0.0025223540208564525, 0.9990043143398927, 0.06680098829989645, 0.002918489780092563, 0.92353987707818, 0.003891319706790084, 0.002837420619534436, 0.9993533327686083, 0.11143409162368285, 0.8783876692003183, 0.009708273133881461, 0.0017212501142173185, 0.9974644411889361, 0.9996623940432702, 0.7700475495965654, 0.027779867770341367, 0.14928433614903072, 0.00415399891892955, 0.04751136263525673, 0.0002596249324330969, 0.0005192498648661938, 0.9852527293461264, 0.0027455518727787557, 0.0009723829549424759, 0.01103940648846458, 0.028983901030543453, 0.01638220493030717, 0.03738503176403431, 0.9169834195605269, 0.9988822938802747, 0.9992180497622228, 0.18245956315536352, 0.7191384634240716, 0.0732090839820903, 0.02534160599380049, 0.9996567806502774, 0.000506226144614317, 0.9992904094686617, 0.9994611313635323, 0.998872165072286, 0.9990927616628898, 0.9998984083701341, 0.9989041597440411, 0.9998170979116854, 0.004241834240509244, 0.11650417146777976, 0.03349586348540058, 0.00797172296923289, 7.313507311222835e-05, 0.01550463549979241, 0.8221844919276711, 0.29375080313727864, 7.883811141633888e-05, 0.25732759566293006, 0.13063475061687352, 0.001182571671245083, 0.05100825808637125, 0.2622155585707431, 0.0038630674594006048, 0.0006500527963582071, 0.0032502639817910354, 0.0006500527963582071, 0.9958808840207732, 0.9991667348968362, 0.016340220709303067, 0.02976254486337344, 0.9535685942500433, 0.0006488732194779985, 0.9424883512917928, 0.056776406704324864, 0.9990967104655157, 0.999752307425295, 0.4331092622366746, 0.06176246163802847, 0.02727842055679591, 0.018786082081566992, 0.00012867179507922597, 0.005918902573644395, 0.45292471867887546, 0.5127723335426202, 0.015928908254295333, 0.10693145367231302, 0.3498819326117392, 0.0002770244913790493, 0.014266761306021038, 0.0012201798041493537, 0.308163188314609, 0.4285542623240119, 0.2619319312907279, 0.0019167982963307674, 0.996735114091999, 0.1684253865169408, 0.8313875222469209, 0.8830462466554597, 0.11670301409999724, 0.021891280449570723, 0.6326133289100437, 0.03395382273810969, 0.0029784055033429554, 0.3085628101463302, 0.7198057292621937, 0.21876895699305504, 0.0001140015409031032, 0.05996481051503229, 0.0002280030818062064, 0.0010260138681279288, 0.7487332954957714, 0.046111495734964966, 0.0012981204429671899, 0.14313188884194755, 0.0007337202503727595, 0.05993930045352851, 0.0029505689325864263, 0.9958170147479188, 0.9999075678915543, 0.9994279292708464, 0.05939766101153929, 0.057021754571077714, 0.004751812880923143, 0.034450643386692785, 0.018611267116948976, 0.05504183253735974, 0.77098163992978, 0.9379156589647497, 0.003138591162179865, 0.05911013355438746, 0.012255059649343501, 0.17647285895054643, 0.0182464221445781, 0.7135168062506662, 0.025327123275309903, 0.0016340079532458003, 0.05256058916273991, 0.9994886579404227, 0.9997893006346964, 0.21535176980648357, 0.051950374610564586, 0.009466011859625652, 0.6226156610051395, 0.0011269061737649584, 0.0011269061737649584, 0.08722253784940778, 0.011156371120273088, 0.9980122260747697, 0.0003837184600904977, 0.9992028700756561, 0.9992990107687639, 0.9994787631202381, 0.05331138266949716, 0.0006639026484370755, 0.9459284934931451, 0.12650031564266104, 0.0036598756009375223, 0.02927900480750018, 0.8364223392604138, 0.004129090421570538, 0.0038390869209171436, 0.7350374881663669, 0.15681193500053872, 0.10395066124329497, 0.012551658486162083, 0.022930914542026882, 0.9638225449085615, 0.00048275609562161857, 0.9994098113472898, 0.9986809610760213, 0.038202308753392616, 0.016850881395332085, 0.9440680135769901, 0.0008373108767866875, 0.007400595110704833, 0.10607519658676927, 0.8862212645069037, 0.05955954054194676, 0.0006124374348786299, 0.9067136223378116, 0.002296640380794862, 0.0018373123046358897, 0.028784559439295605, 0.9991217680944073, 0.9990005621913581, 0.026699831585321108, 0.0006319486765756475, 0.9724110260807776, 7.759147576192918e-05, 0.2631902857844638, 0.7364982879322318, 0.00023277442728578758, 0.9993366516595585, 0.13726768437016346, 0.09771349570426789, 0.10826127934850671, 0.1333122655035739, 0.013770717535534006, 0.025343980145184925, 0.4783126888672184, 0.006299370787531513, 0.9992132443744395, 0.03638118964189095, 0.318799091195315, 7.133566596449206e-05, 0.43322149940236027, 0.009416307907312951, 0.0014267133192898411, 0.15579709446645065, 0.017619909493229537, 0.02739289573036495, 0.9996253755896639, 0.9979853431523671, 0.00814962599748284, 0.2615142362162563, 8.068936631171128e-05, 0.7029657593076287, 0.027273005813358415, 0.982348790567598, 0.01125256346583732, 0.00562628173291866, 0.9997551747568953, 0.9989707676908027, 0.006031111507721022, 0.7719822729882908, 0.1660762168833423, 0.055751006376250425, 0.008878471599260578, 0.8461305056993951, 0.023716465230901543, 0.0019459663779201265, 0.0053514075392803485, 0.11396065600694742, 0.9993103048658898, 0.9994712332524804, 0.6242092810738423, 0.3755249184785369, 0.9994401854954373, 0.9994975596715496, 0.998389256380114, 0.9993020054264714, 0.9990042342902374, 0.9992917097967083, 0.7625661461084553, 0.00025156129737468285, 0.003773419460620243, 0.2316879548820829, 0.00176092908162278, 0.8699002609791707, 0.003890720511274711, 0.03696184485710975, 0.08527162453877074, 0.003998796081032342, 0.9995088078034678, 0.0005951245172658667, 0.047728986284722504, 0.06820126967866831, 0.06891541909938735, 0.6766565761312904, 0.1379498631022279, 0.998804613969746, 0.9990150506365518, 0.012792160243216642, 0.0007309805853266652, 0.9853618290203447, 0.0007309805853266652, 0.9996431817976293, 0.9991723438474363, 0.001194932254367837, 0.9989633646515118, 0.0006298665348350933, 0.9492088679964856, 0.05007438951938992, 0.998800215562739, 0.9833439822329222, 0.0157933522083056, 0.9991622332564614, 0.9987346284969566, 0.24632148783014024, 0.7375512593146883, 0.0001413204175732302, 0.006076777955648899, 0.0015545245933055321, 0.008196584219247351, 0.9998510982077656, 0.9755053874274395, 0.0004402100123770034, 0.023771340668358183, 0.9435396925725074, 0.017420322766376093, 0.0018337181859343257, 0.03007297824932294, 0.006968129106550438, 9.168590929671629e-05, 0.9983318975066788, 0.9985080262193778, 0.9996843984622796, 0.3380132184194766, 0.661713950526202, 0.007856256170127236, 0.9919084575940645, 0.9988451858397489, 0.028774346089178508, 0.008401268931147008, 0.1934392171396599, 0.7691361706465087, 0.00021003172327867524, 0.08738166933138268, 0.030511959946859856, 0.1207586020432059, 0.19753987214422414, 0.07892999967474075, 0.09526034443503194, 0.016187096122043023, 0.00028649727649633665, 0.37301945399823033, 0.9904454103369394, 0.008477421486478797, 0.9999152375185029, 0.025188858560650212, 0.9739272162475404, 0.0008816100496227574, 0.9998418062183423, 0.12381875172172419, 0.24841542230243302, 6.482657158205455e-05, 0.4294112101595293, 0.0003889594294923273, 0.13101450116733224, 0.005639911727638746, 0.06119628357345949, 0.9434652302853282, 0.04363468870252458, 0.012797452870351732, 0.9985509564773882, 0.019364770786887666, 0.5512165017846533, 0.05962311005436466, 0.17207467374664215, 0.06336017108341316, 0.0433159346548803, 0.00016986641041129532, 0.0006794656416451813, 0.010361851035089015, 0.08017694571413139, 0.02397105135494968, 0.9757971880831956, 0.9979446565810705, 0.9992164340743667, 0.9985500590095415, 0.9984789633994606, 0.9990299555187387, 0.014179539844544259, 0.9857406032670213, 0.9994776779053598, 0.9991319040239028, 0.9988773463832137, 0.9995269658542398, 0.014378012005941203, 0.0002282224127927175, 0.963783249223646, 0.006618449970988808, 0.014834456831526639, 0.20916008993502597, 0.6041631529443716, 0.022623155049375735, 0.06162380884615231, 0.0984731810278042, 0.0038861861434510464, 0.18426362519502282, 0.815435296572004, 0.8369021751745561, 0.0007507195686890528, 0.15179549678892648, 0.010359930047908928, 0.9957411308385591, 0.004139283341302239, 0.9989419084532365, 0.1908317782930433, 0.6681584154483109, 0.13941596237989173, 0.0012359571132969124, 0.024684719355086825, 0.4137199101667601, 0.19838085432929534, 0.09893956619559191, 0.021072321400683876, 0.0007024107133561292, 0.24233169610786456, 0.00010034438762230417, 0.00011591906408333541, 0.11800560723683545, 0.0913442224976683, 0.129945270837419, 0.024690760649750444, 0.13098854241416902, 0.3835761830517569, 0.10583410550808522, 0.01564907365125028, 0.4780830004064131, 0.0017265547143604661, 0.5200382799653724, 0.25124638883857214, 0.10129979686657693, 0.007297019265812744, 0.023608003507041234, 0.00887088616628216, 0.015595590195560572, 0.5840476988832868, 0.00801241331148066, 0.9998250920698873, 0.00011456687201442504, 0.9994071944684522, 0.9995621506594761, 0.9981654666473708, 0.001348568520577398, 0.00044952284019246605, 0.0011711973292414834, 0.9946811603343741, 0.004015533700256515, 0.9983853867084024, 0.9998234113899154, 0.8366515904644432, 0.0661509934046798, 0.09713051581830881, 0.9992497211872712, 0.01832459795964654, 0.9816748906953504, 0.7358068939409351, 0.26407157487408295, 0.9995539192599949, 0.9897809514062504, 0.009839927587079682, 0.1714847331730508, 0.7514720000603942, 0.0007848271541100722, 0.07632444073720453, 0.0005995149811727818, 0.0002997574905863909, 0.9157591337414241, 0.08333258238301666, 0.9548485676538557, 0.0070697784905939505, 0.03791972099500392, 0.44667404539983363, 0.01728009080743882, 0.00016301972459847942, 0.00032603944919695884, 0.0068468284331361364, 0.5215000989905357, 0.007172867882333095, 0.9988172273088735, 0.0019990809140321, 0.9975413761020179, 0.16699807705969233, 0.4463824862820311, 0.17508089644599897, 0.1964476537802357, 0.015111357983095054, 0.023059565461024768, 0.003710734671889043, 0.9727425889880562, 0.8906841881609414, 0.10903869947355717, 0.9983173189468055, 0.9749789044415977, 0.0022361901478018297, 0.02268135721341856, 0.364549700576264, 0.006978264385366273, 0.005556766084643514, 0.060478291339841034, 0.16657375542105787, 0.0006461355912376178, 0.339867320990987, 0.055179979491692566, 0.04161643567430317, 0.9067338560552721, 0.05170526856504334, 0.9994465067689295, 0.033789637124573654, 0.008230809043165376, 0.01776121951419897, 0.9400450328246772, 0.9989450657523955, 0.03159802535989824, 0.10708219705298848, 0.1314146270755027, 0.19553716310677768, 0.2840896539301962, 0.049493820586877645, 0.029501242812867954, 0.05003020681983888, 0.06441511034016292, 0.05685694069389097, 0.9998046582978539, 0.7808052719706339, 0.21910230379878246, 0.9987382155985621, 0.9987123192206978, 0.13870120840227798, 0.5287394744452122, 0.08332540519865153, 0.24903409418039194, 0.0002093603145694762, 0.9988192455407144, 0.3775383574622842, 0.6220333408482882, 0.9994395618403187, 0.9246335871625824, 0.00035017367436568163, 0.002626302557742612, 0.07231086375651326, 0.7897720285885301, 0.13971997547619386, 0.03719790630821882, 8.284611649937376e-05, 0.03322129271624888, 0.9990749517661516, 0.11215828262905027, 0.11798096794000522, 0.08772209509455081, 0.31471136836423724, 0.0019090771511327705, 0.3653973667268123, 0.00019090771511327706, 0.9987900159625546, 0.9990520807990227, 0.999607407404733, 0.00016465284259672757, 0.99949994507392, 0.010514501792923053, 0.9329867924253722, 0.056427826288687054, 0.0006652180747004873, 0.993835803602528, 0.0053217445976038984, 0.9993297172653244, 0.9992334274668715, 0.9992818669174832, 0.00021619430218800602, 0.9996824533173398, 0.9990790075959431, 0.9987899532815887, 0.0007187815840413828, 0.9437602198463355, 0.050930809383503695, 0.004620738754551746, 0.8893814351330279, 0.10545313944568072, 0.005171475921643191, 0.0008067514025654641, 0.9987582363760446, 0.00011988664959404932, 0.8073166983663281, 0.03560633492943265, 0.15681173766901652, 0.007014439684424912, 0.0019640431116389754, 0.005751840541228428, 0.9574710169240005, 0.02777718115032265, 0.4658316882903054, 0.2995667770207143, 0.005557120762799287, 0.036242091931299694, 0.025403980629939597, 0.14365674916006602, 0.002347106906027028, 0.019984924979259546, 0.00027613022423847385, 0.001173553453013514, 0.3203553941130183, 0.29188366319729053, 0.010676899093397904, 0.05602345692091326, 0.04445076357251372, 0.21966327771972602, 0.012250591703535917, 0.04302233489561921, 0.00065368769959579, 0.0009926368771639774, 0.9987362444053295, 0.9985475772477302, 0.0344849020072977, 0.9652991521558897, 0.9996041820093554, 0.9995855089440607, 0.05671755438900422, 0.058653695803889905, 0.03450887345355076, 0.6897219063851597, 0.1602441747496565, 0.9994920450004596, 0.9998112652013768, 0.32476110993821555, 0.6749553188474963, 0.9991194085084991, 0.6370265159900158, 0.065380988309207, 0.1306271704569517, 0.1668900278903057, 0.9977574978507608, 0.0017945278738323036, 0.9992410012476078, 0.9982188763027641, 0.998943778625312, 0.8194685404451653, 0.18031202807675603, 0.9981828132013614, 0.9998367194356748, 0.48802856978486714, 0.0005359679228875905, 0.08623128359347013, 0.4229977951411728, 0.00029775995715977254, 0.0019056637258225441, 0.0004007123391427286, 0.4393142944801448, 0.011887799394567616, 0.1068566237713943, 0.2635351483762012, 0.04287622028827196, 0.03793410143884497, 0.06398040348312234, 0.0009349954579997001, 0.032324128690846776, 0.9945814906007676, 0.003083973614265946, 0.0020559824095106307, 0.9895142573564991, 0.01032034060655506, 0.003602339960355535, 0.00018959684001871238, 0.005924901250584762, 0.9901694969977254, 9.479842000935619e-05, 0.12947167011715102, 0.000310111784711739, 0.0001550558923558695, 0.17521315836213253, 0.6946503977542954, 0.010497612552753338, 0.9878253412140892, 0.002979603652280397, 0.17430681365840323, 0.17513448133959222, 0.5621518890635683, 0.0034762042609937966, 0.0006621341449511994, 0.08078036568404633, 0.0006621341449511994, 0.8892188518893436, 0.007664456185478779, 0.05450279954118243, 0.04839962146756044, 0.00028386874761032516, 0.00014193437380516258, 0.026905201807372138, 0.06172369826397138, 0.0023739883947681297, 0.03857731141498211, 0.8704624114149809, 0.9993789483672474, 0.024775216228282014, 0.13395413520037225, 0.8406776760850948, 0.001410121668118671, 0.9976610801939597, 0.0003334747420361209, 0.02834535307307028, 0.005335595872577935, 0.9657428529366061, 0.9992060184036768, 0.9979627120544832, 0.9987993117538421, 0.5793092256173932, 0.06450713647472706, 0.00012550026551503318, 0.09939621028790627, 0.0031375066378758294, 0.09588220285348534, 0.1415015493681999, 6.275013275751659e-05, 0.016064033985924247, 0.9990526045465885, 0.9990877208763406, 0.008650977877107767, 0.9908696968471896, 0.9989731861297328, 0.3747386971835897, 0.00025561984801063416, 0.6249905283860006, 0.998262825860315, 0.7755962541131829, 0.005532324868271668, 0.0370308841989152, 0.1813174860052908, 0.00017846209252489253, 0.00026769313878733877, 0.9995518953171741, 0.19782675632832894, 0.015557421409198342, 0.009369810621449003, 0.024750443150997364, 0.7045036854051749, 0.0479097863851449, 0.24262380445227397, 0.0037796398536603494, 0.18084122992128748, 0.06243674296719692, 0.3479449226821556, 0.012429200287998456, 0.14994994265579425, 0.7017421343260504, 0.05117687077269121, 0.030252766879256987, 0.10732321622007306, 0.0027898805191245634, 0.005492577272026484, 0.09782018570180501, 0.0033129831164604192, 0.22035052160459503, 0.07651463847637774, 0.14150844165365067, 0.3135645526609883, 0.01355734658935058, 0.15867332252857952, 0.043988643869309174, 0.031769576127834404, 0.00528696718863775, 0.9939498314638969, 0.9999788601824343, 0.9998417365178393, 0.0015258582122339162, 0.9981655805030202, 0.000254309702038986, 0.9987267606330715, 0.015599598122472686, 0.4913304080180265, 0.00056932839863039, 0.49246906481528735, 0.7695561702691383, 0.03913834525514469, 0.09432711600924461, 0.06753525190714241, 0.0006173240576521244, 0.028767301086589, 0.8943629486539084, 0.00016404309403043074, 0.10515162327350612, 0.00016404309403043074, 0.10168928302264743, 0.6341239392591758, 0.0008691391711337388, 0.1616598858308754, 0.05736318529482676, 0.00017382783422674775, 0.005736318529482675, 0.000695311336906991, 0.037546812192977515, 0.00045492894011084665, 0.9994788814235301, 0.6885615864961236, 0.0035526160654115197, 0.3077857373033798, 0.9992900201873472, 0.9765908146536015, 0.007048446336132499, 0.01628762599295483, 0.9995085535945604, 0.9986993121689637, 0.14627933175944854, 0.0020685966107396765, 0.851375262220144, 0.9999171118477618, 0.18266247144616374, 0.09862866944586905, 0.12827166108998594, 0.14866821497355262, 0.04577893204978297, 0.3444751322557926, 0.051308664435994376, 0.11821716343834898, 0.0009640543399661488, 0.0062663532097799665, 0.061819984550329284, 0.8054674010417172, 0.0061458464172841985, 0.001205067924957686, 0.9891276605525777, 0.010257620183508214, 0.0003663435779824362, 0.02831500131204787, 0.971377902154132, 0.9994937298813666, 0.0002708655094529449, 0.9993682134628584, 0.879138946299991, 0.048149856351716126, 0.022928503024626727, 0.009584866018491501, 7.517541975287452e-05, 0.039767797049270616, 7.517541975287452e-05, 0.0002631139691350608, 0.0595403587365487, 0.9402706848316926, 0.99921312604081, 0.9995215304173742, 0.9994661309522347, 0.0023221931911922805, 0.0356069622649483, 0.25308035462010536, 0.6802864953597785, 0.02867908591122466, 0.9996958659527038, 0.5873277385100718, 0.02152470214948852, 0.16002817428453653, 0.0014451213457253775, 0.08092679536062114, 0.14869538057332174, 0.9994230919057111, 0.0016917602273382292, 0.017763482387051405, 0.20131946705324927, 0.17904462405996258, 0.0025376403410073438, 0.5974733202882846, 0.1783193090074778, 0.005227601892727362, 0.0004978668469264154, 0.03551450174741764, 0.0024893342346320774, 0.003609534640216512, 0.7664660108432165, 0.002613800946363681, 0.005269090796637897, 0.052159900062393044, 0.9472397118200997, 0.0003981671760488019, 0.9998108304067758, 0.9993911949418087, 0.9994744680223552, 0.9960046264288857, 0.003663128453213996, 0.9993530272290572, 0.9998688909645338, 0.9962702661133012, 0.0029806141095386723, 0.018056666187493787, 0.033856249101550856, 0.001504722182291149, 0.9449655304788416, 0.9995206144594961, 0.9990507455631498, 0.0038988192435819658, 0.0753029088188974, 0.9206783156629984, 0.6453836737486351, 0.006374618181445092, 0.05242040388042711, 0.02128998693608846, 0.16419283529489154, 0.01980463901031485, 0.022280218886604204, 0.008602640070105512, 0.05966147501857348, 0.9988179730448645, 0.9997075708224299, 0.9978775074200618, 0.538757472057899, 0.05135696606745, 0.21671331222729698, 0.17018128405471886, 0.0013084577342025478, 0.0016355721677531847, 0.011367226565884634, 0.008504975272316561, 0.9996629783337345, 0.9988419741889861, 0.9993883729625329, 0.9994695254905936, 0.00048001545216948293, 0.9638710279563217, 0.00048001545216948293, 0.03552114346054174, 0.9992409151214131, 0.008256006455311996, 0.9433251820236115, 0.002140446118043851, 0.0461724805463745, 0.0006721076859185429, 0.00011201794765309049, 0.0008961435812247239, 0.0008961435812247239, 0.007169148649797791, 0.9897905854627075, 0.00044807179061236196, 0.0004977228017352384, 0.9984319402808883, 0.0004977228017352384, 0.00028062548094738414, 0.07380450148916202, 0.9246609597216308, 0.0014031274047369207, 0.06158792778831551, 0.9380850469903876, 0.8838735725480957, 0.11601515146388314, 0.9993301190763267, 0.9990692899332287, 0.9988377282431876, 0.999898697961367, 0.015732316871714863, 0.9840835450100263, 0.9995720946747945, 0.2527800064098446, 0.4293661375444587, 0.0004963770376236517, 0.0012409425940591292, 0.2599774734553876, 0.05609060525147264, 0.026804108209487587, 0.9350360646411104, 0.007769306727387707, 0.02991183090044267, 0.999795509823549, 0.07487298581252734, 0.05770028264451648, 0.0017172703168010857, 0.0003434540633602171, 0.8218855736209996, 0.0037779946969623886, 0.039153763223064755, 0.36209032690721205, 0.00011476714006567735, 0.5765901116899631, 0.060826584234809, 0.00011476714006567735, 0.00011476714006567735, 0.036486937878161485, 0.005078078983043093, 0.8675991981028811, 0.08952465170105602, 0.0011284619962317985, 0.9991479152350934, 0.330019562528085, 0.19854441766179728, 0.13312161076884896, 0.1835809481355789, 0.022420991555466376, 0.0030508044665105436, 0.12203217866042174, 0.0014527640316716875, 4.842546772238958e-05, 0.00576263065896436, 0.9993214075548873, 0.9092428673302478, 0.09018340325023251, 0.0002554770630318201, 0.998934152320682, 0.9986486886131561, 0.001025306661820489, 0.999504159897859, 0.002045967140603503, 0.9113504881925728, 0.00017049726171695857, 0.07996321574525357, 0.00012787294628771893, 0.006265774368098227, 0.9999580982180181, 0.9991914672529888, 0.997676011077992, 0.0018509759018144564, 0.34677224450761174, 0.31340113020565513, 0.07209728021401193, 0.05054646275873662, 0.05217910044474233, 0.00470199653569643, 0.0002612220297609128, 0.000326527537201141, 0.15967196569135794, 0.9990507482091656, 0.0019026023933889856, 0.920859558400269, 0.07705539693225391, 0.9995576170061998, 0.9992386945089913, 0.9997410032709556, 0.9998501496007883, 0.0005158768108219959, 0.0021924764459934822, 0.49369410795665003, 0.35440736903471115, 0.1492173675302623, 0.00017336322349457436, 0.9996123466697158, 0.15072121567353425, 0.001196200124393129, 0.00039873337479770965, 0.003189866998381677, 0.012360734618728999, 0.83215655320282, 0.9996440703746263, 0.00043463661201018745, 0.03172847267674368, 0.9675010983346772, 0.9987977860447045, 0.9990166682365684, 0.9994742728939892, 0.3742965939602101, 0.6255345107357968, 0.9993400928823918, 0.9996748306756094, 0.9992453081634576, 0.0431811436868667, 0.3929589652873297, 0.017525843158972793, 0.19732410159108524, 0.05109944631893272, 0.23892158475153874, 0.0027450115791162206, 0.05627273737188252, 0.0008358381542931142, 0.9979907562259783, 0.0008358381542931142, 0.9993450267117988, 0.136562655806489, 0.20080101034704137, 0.6441804224556092, 0.01841798976337516, 0.0019483798569365233, 0.012183868705376393, 0.3465258521556838, 0.03486301024011752, 0.3254054145064919, 0.16769055968700344, 2.597839809248698e-05, 0.11134341422439918, 0.046181509517173445, 0.042710665378095695, 0.022367662229612194, 0.27487157334751877, 0.0028923701158981283, 0.00019282467439320856, 0.19002871661450702, 0.4207434395259811, 0.9997069546603281, 0.9599676318154245, 0.004614220646698567, 0.03534073540766857, 0.9901627045505905, 0.009527338737943827, 0.9995596846442534, 0.24436236220874846, 0.6772693543693211, 0.0027695821348855537, 0.04111764246407014, 0.03238280650020032, 0.0017043582368526484, 0.00021304477960658105, 0.9978338865426357, 0.8674680077741023, 0.002683813018207948, 0.03846798659431392, 0.08946043394026493, 0.0017892086788052985, 0.0019368818206895344, 0.012912545471263562, 0.0019368818206895344, 0.9832903376367204, 0.004057422854523866, 0.9959094671349368, 0.9819238553901959, 0.017481058650020857, 0.007509739911394059, 0.27720735585971984, 0.018284584132089884, 0.001306041723720706, 0.04277286645185312, 0.016652031977439, 0.6357158090210536, 0.9992482404190621, 0.9991978627177526, 0.2624584397940912, 0.00679573501783556, 0.0014306810563864336, 0.6443787477964497, 0.08498245474935416, 0.9996063993551234, 0.07957915987279013, 0.01937124286377128, 0.7358454552710956, 0.003141282626557505, 0.019633016415984406, 0.0010470942088525016, 0.1410959446428746, 0.9752270409483553, 0.024450821824023704, 0.9985780555460866, 0.998496753472709, 0.4787879540226149, 0.01412258077639176, 0.0004058212866779242, 0.134894995691742, 0.002110270690725206, 0.27409169702227, 8.116425733558483e-05, 0.09561149514131893, 0.03691616762828357, 0.036442883427920965, 0.5655746194333189, 0.0038651543029613144, 0.0029185859022360944, 0.03100011512375095, 0.22157588646976187, 0.10159834167784026, 7.888070006043499e-05, 0.03366575166929634, 0.028786657224470786, 0.936786133406507, 0.0004879094444825557, 0.00024395472224127785, 0.9995428154039587, 0.9004640272275362, 0.09923004621565329, 0.9991905859341749, 0.99969010925691, 0.060465758442895694, 5.5831725247364444e-05, 0.6495462915278379, 0.0027357545371208577, 0.26134830588291297, 0.025794257064282376, 5.5831725247364444e-05, 0.9987167867093342, 0.08638003678960413, 0.06827833790354737, 0.8314078540999397, 0.0006351473293353244, 0.004128457640679609, 0.00857448894602688, 0.9727226670675961, 0.026486308606752485, 0.9990507478778781, 0.05332399502296195, 0.9460886127269847, 0.06583294800329512, 0.20608575027118473, 0.0006605312508691818, 0.7199790634474081, 0.007265843759560999, 0.9995527414578564, 0.9991022336685312, 0.9986209011845089, 0.0008952226814742347, 0.00044761134073711733, 0.9991589682963966, 0.03498140389587531, 0.1326378231051939, 0.09590734901452481, 0.18779183658102397, 0.1544428982002895, 0.12255151831521652, 0.007987420556224863, 0.01947298150203726, 0.1833608587542131, 0.06086764277882305, 0.99941566707146, 0.9999714322547436, 0.3149685687364459, 0.13687018582474095, 0.5478521684979454, 0.9981700373438332, 0.00036323509364768314, 0.0010897052809430495, 0.00036323509364768314, 0.0005211455666376594, 0.9526540958136415, 0.04638195543075169, 0.9996066474427068, 0.9990898078810153, 0.024442022656259436, 8.457447285902919e-05, 0.07704734477457559, 0.005074468371541752, 0.3942861924687941, 0.45509523845443606, 0.04397872588669518, 0.9988957625160725, 0.018958903753518858, 0.00043088417621633767, 0.13120423165787481, 0.003231631321622533, 0.009910336052975767, 0.7572789397002135, 0.07906724633569796, 0.03647934078837275, 0.02563413136480247, 0.027496440053698376, 0.8641112316477004, 0.03133060500142524, 0.01467937437129714, 0.028045078219206473, 0.6276534860959598, 0.002781330071326262, 0.1256234082215695, 0.17846867957676849, 0.037547955962904535, 0.001518405499434694, 0.15457367984245185, 0.05861045227817919, 0.129064467451949, 0.08138653476969959, 0.5748683220859752, 0.9986025299848421, 0.9995292110830685, 0.0013658051964091254, 0.9984035985750707, 0.9973835387041194, 0.0019461142218616964, 0.999042121738125, 0.0008011564729255213, 0.03599232050792386, 0.00041851535474330065, 0.001255546064229902, 0.9621668005548483, 0.9991071779475891, 0.09307491905457636, 0.23647319859923657, 0.00046595704157485036, 0.5137176383362726, 0.08189195005677996, 0.07443663739158235, 0.9991513281264116, 0.12190157958617538, 0.005741487378556221, 0.07330899128473614, 0.01589411749917393, 0.03206830755339938, 0.025976729481028756, 0.005951541794844863, 0.25150515443626764, 0.31221088074368525, 0.15544026805359526, 0.030404671304374516, 0.024537103157916275, 0.9180077072776938, 0.02667076430208291, 0.14276405752516932, 0.7461801406648849, 0.0076140830680090305, 0.10326600160987247, 0.9987446737637269, 0.20035401460996294, 0.3033062562549394, 0.4956031389100781, 0.0007161895070954886], \"Term\": [\"abra\\u00e7adeira\", \"acabamento\", \"acabamento\", \"acabamento\", \"acabamento\", \"acabamento\", \"acabamento\", \"acabamento\", \"acabamento\", \"acompanhamento\", \"adesiva\", \"adesiva\", \"adesiva\", \"adesivas\", \"adulto\", \"adulto\", \"adulto\", \"adulto\", \"adulto\", \"agr\\u00edcola\", \"agulha\", \"alface\", \"alface\", \"algod\\u00e3o\", \"algod\\u00e3o\", \"alho\", \"alho\", \"alicate\", \"alta\", \"alta\", \"alta\", \"alta\", \"alta\", \"alta\", \"alta\", \"alta\", \"alta\", \"alta\", \"alterar\", \"alterar\", \"altura\", \"altura\", \"altura\", \"altura\", \"altura\", \"altura\", \"alum\\u00ednio\", \"alum\\u00ednio\", \"alum\\u00ednio\", \"alum\\u00ednio\", \"alum\\u00ednio\", \"alum\\u00ednio\", \"alvenaria\", \"alvenaria\", \"alvenaria\", \"amadurecimento\", \"amarelo\", \"amarelo\", \"amarelo\", \"amarelo\", \"amarelo\", \"ambidestra\", \"amortecedor\", \"amortecedor\", \"amortecedor\", \"amortecedor\", \"amoxicilina\", \"ampola\", \"ampola\", \"ampola\", \"anel\", \"anel\", \"anest\\u00e9sico\", \"anest\\u00e9sico\", \"anexo\", \"anexo\", \"anexo\", \"anexo\", \"anexo\", \"anexo\", \"ano\", \"ano\", \"ano\", \"ano\", \"ano\", \"ano\", \"ano\", \"ano\", \"anormal\", \"anticorpos\", \"anticorpos\", \"antivazamento\", \"api\", \"apresentar\", \"apresentar\", \"apresentar\", \"apresentar\", \"apresentar\", \"apresentar\", \"apresentar\", \"aquisi\\u00e7\\u00e3o\", \"aquisi\\u00e7\\u00e3o\", \"aquisi\\u00e7\\u00e3o\", \"aquisi\\u00e7\\u00e3o\", \"aquisi\\u00e7\\u00e3o\", \"ar\", \"ar\", \"ar\", \"ar\", \"ar\", \"areia\", \"areia\", \"areia\", \"argamassa\", \"arma\\u00e7\\u00e3o\", \"arma\\u00e7\\u00e3o\", \"arm\\u00e1rio\", \"aro\", \"aro\", \"arroz\", \"arruela\", \"arruela\", \"assento\", \"assento\", \"assento\", \"assento\", \"assento\", \"assessoria\", \"assunto\", \"atadura\", \"atadura\", \"atendimento\", \"atendimento\", \"atendimento\", \"at\\u00f4mico\", \"autoclav\\u00e1vel\", \"autor\", \"avental\", \"azul\", \"azul\", \"azul\", \"azul\", \"azul\", \"a\\u00e7o\", \"a\\u00e7o\", \"a\\u00e7o\", \"a\\u00e7o\", \"a\\u00e7o\", \"a\\u00e7o\", \"a\\u00e7\\u00facar\", \"balc\\u00e3o\", \"balde\", \"balde\", \"balde\", \"balde\", \"banana\", \"barra\", \"barra\", \"barra\", \"barra\", \"barra\", \"barra\", \"barra\", \"barra\", \"barreiras\", \"base\", \"base\", \"base\", \"base\", \"base\", \"base\", \"base\", \"base\", \"base\", \"bast\\u00e3o\", \"bast\\u00e3o\", \"bateria\", \"bateria\", \"beneficente\", \"beterraba\", \"beterraba\", \"betoneira\", \"biscoito\", \"bisel\", \"bisturi\", \"bivolt\", \"bivolt\", \"bivolt\", \"boa\", \"boa\", \"boa\", \"boa\", \"boa\", \"boa\", \"bobina\", \"bobina\", \"bobina\", \"bola\", \"bolacha\", \"bolso\", \"bolsos\", \"bomba\", \"bomba\", \"bomba\", \"bordado\", \"borracha\", \"borracha\", \"borracha\", \"borracha\", \"borracha\", \"borracha\", \"borrachudo\", \"bovina\", \"bovina\", \"branca\", \"branca\", \"branca\", \"branca\", \"branca\", \"branca\", \"branca\", \"branca\", \"branca\", \"bras\\u00e3o\", \"brinquedo\", \"brita\", \"brita\", \"broca\", \"brochura\", \"brotos\", \"br\\u00f3colis\", \"btus\", \"btus\", \"bucha\", \"bucha\", \"ca\", \"ca\", \"cabine\", \"cabo\", \"cabo\", \"cabo\", \"cabo\", \"cabo\", \"caderno\", \"caixa\", \"caixa\", \"caixa\", \"caixa\", \"caixa\", \"caixa\", \"caixa\", \"caixa\", \"caixa\", \"caixa\", \"calcio\", \"cal\\u00e7a\", \"caminh\\u00e3o\", \"caminh\\u00e3o\", \"camiseta\", \"canela\", \"caneta\", \"caneta\", \"caneta\", \"caneta\", \"caneta\", \"capacidade\", \"capacidade\", \"capacidade\", \"capacidade\", \"capacidade\", \"capacidade\", \"capacidade\", \"capacidade\", \"capacidade\", \"capacidade\", \"carbonato\", \"carbonato\", \"carbono\", \"carbono\", \"carbono\", \"carbono\", \"carga\", \"carga\", \"carga\", \"carga\", \"carga\", \"carga\", \"carga\", \"carga\", \"carne\", \"carne\", \"carregadeira\", \"cartolina\", \"carvedilol\", \"casca\", \"casca\", \"cateter\", \"cateter\", \"ca\\u00e7amba\", \"ca\\u00e7amba\", \"cebola\", \"cebola\", \"cebola\", \"cenoura\", \"cenoura\", \"centro\", \"centro\", \"centro\", \"centro\", \"centro\", \"centro\", \"cera\", \"cerdas\", \"cer\\u00e2micos\", \"cesar\", \"cetim\", \"chanfrada\", \"chato\", \"chocolate\", \"chocolate\", \"chuchu\", \"ch\\u00e1\", \"cimento\", \"cimento\", \"clips\", \"cloreto\", \"cloreto\", \"cloreto\", \"cloreto\", \"cloreto\", \"cloridrato\", \"cloridrato\", \"cloridrato\", \"cloridrato\", \"cloro\", \"clorpromazina\", \"cobre\", \"cobre\", \"cobre\", \"cobre\", \"cobre\", \"cola\", \"cola\", \"cola\", \"colheita\", \"colora\\u00e7\\u00e3o\", \"colora\\u00e7\\u00e3o\", \"combustivel\", \"combust\\u00edvel\", \"combust\\u00edvel\", \"companhia\", \"compressa\", \"comprimento\", \"comprimento\", \"comprimento\", \"comprimento\", \"comprimento\", \"comprimento\", \"comprimento\", \"comprimento\", \"comprimento\", \"comprimido\", \"comprimido\", \"comprimido\", \"comprimido\", \"computador\", \"computador\", \"concreto\", \"concreto\", \"concreto\", \"concreto\", \"concreto\", \"condicionador\", \"condicionador\", \"condicionador\", \"conector\", \"conector\", \"conector\", \"confeccionada\", \"confeccionada\", \"confeccionada\", \"confeccionada\", \"confeccionada\", \"confeccionado\", \"confeccionado\", \"confeccionado\", \"confeccionado\", \"conserto\", \"conserto\", \"conserto\", \"constru\\u00e7\\u00e3o\", \"constru\\u00e7\\u00e3o\", \"constru\\u00e7\\u00e3o\", \"constru\\u00e7\\u00e3o\", \"consultoria\", \"consumo\", \"consumo\", \"consumo\", \"consumo\", \"consumo\", \"contar\", \"contar\", \"contar\", \"contendo\", \"contendo\", \"contendo\", \"contendo\", \"contendo\", \"contendo\", \"contendo\", \"contendo\", \"contendo\", \"contratada\", \"contrata\\u00e7\\u00e3o\", \"contrato\", \"core\", \"correia\", \"corrugado\", \"costas\", \"costuras\", \"cota\\u00e7\\u00e3o\", \"cota\\u00e7\\u00e3o\", \"cota\\u00e7\\u00e3o\", \"couch\\u00ea\", \"couve\", \"covid\", \"covid\", \"covid\", \"coxim\", \"cp\", \"cp\", \"cubo\", \"cubo\", \"cubo\", \"curativo\", \"curativo\", \"curativo\", \"curativo\", \"cv\", \"cx\", \"cx\", \"cx\", \"cx\", \"cx\", \"cx\", \"cx\", \"c\\u00e2nula\", \"data\", \"ddr\", \"demoli\\u00e7\\u00e3o\", \"demoli\\u00e7\\u00e3o\", \"descart\\u00e1vel\", \"descart\\u00e1vel\", \"descart\\u00e1vel\", \"descart\\u00e1vel\", \"desinfetante\", \"desmontagem\", \"desmontagem\", \"desmontagem\", \"desmontagem\", \"destilada\", \"detergente\", \"detergente\", \"deve\", \"deve\", \"deve\", \"deve\", \"deve\", \"deve\", \"deve\", \"deve\", \"dexametasona\", \"diamantada\", \"dianteiro\", \"dianteiro\", \"dianteiro\", \"diesel\", \"diesel\", \"digital\", \"digital\", \"digital\", \"digital\", \"digital\", \"dimens\\u00f5es\", \"dimens\\u00f5es\", \"dimens\\u00f5es\", \"dimens\\u00f5es\", \"dimens\\u00f5es\", \"dimens\\u00f5es\", \"dipirona\", \"disjuntor\", \"disjuntor\", \"disjuntor\", \"display\", \"di\\u00e2metro\", \"di\\u00e2metro\", \"di\\u00e2metro\", \"di\\u00e2metro\", \"di\\u00e2metro\", \"dmt\", \"dobradi\\u00e7as\", \"doce\", \"doce\", \"documenta\\u00e7\\u00e3o\", \"duas\", \"duas\", \"duas\", \"duas\", \"duas\", \"duas\", \"duas\", \"duas\", \"duas\", \"duas\", \"dura\", \"dura\", \"editora\", \"educa\\u00e7\\u00e3o\", \"educa\\u00e7\\u00e3o\", \"educa\\u00e7\\u00e3o\", \"educa\\u00e7\\u00e3o\", \"elabora\\u00e7\\u00e3o\", \"eletroduto\", \"eletroduto\", \"el\\u00e1stico\", \"el\\u00e1stico\", \"el\\u00e1stico\", \"el\\u00e1stico\", \"embalagem\", \"embalagem\", \"embalagem\", \"embalagem\", \"embalagem\", \"embalagem\", \"embalagem\", \"embreagem\", \"empresa\", \"empresa\", \"empresa\", \"empresa\", \"empresa\", \"enalapril\", \"encosto\", \"encosto\", \"encosto\", \"endotraqueal\", \"endotraqueal\", \"enriquecida\", \"entrada\", \"entrada\", \"entrada\", \"entrada\", \"entrada\", \"entrada\", \"entrada\", \"entrega\", \"entrega\", \"entrega\", \"entrega\", \"envelope\", \"envelope\", \"envelope\", \"envelope\", \"epinefrina\", \"epson\", \"equipamentos\", \"equipamentos\", \"equipamentos\", \"equipamentos\", \"equipo\", \"escavadeira\", \"escavadeira\", \"escova\", \"esferogr\\u00e1fica\", \"esf\\u00e9rica\", \"esgoto\", \"esmaltada\", \"especializada\", \"especifica\\u00e7\\u00f5es\", \"especifica\\u00e7\\u00f5es\", \"especifica\\u00e7\\u00f5es\", \"especifica\\u00e7\\u00f5es\", \"especifica\\u00e7\\u00f5es\", \"especifica\\u00e7\\u00f5es\", \"especifica\\u00e7\\u00f5es\", \"espessura\", \"espessura\", \"espessura\", \"espessura\", \"espessura\", \"espessura\", \"espessura\", \"espessura\", \"espiral\", \"espiral\", \"espiral\", \"espiral\", \"espironolactona\", \"esponja\", \"esponja\", \"esponja\", \"espuma\", \"espuma\", \"espuma\", \"esp\\u00e9culo\", \"esquerdo\", \"estar\", \"estar\", \"estar\", \"estar\", \"estar\", \"estar\", \"estar\", \"estrutura\", \"estrutura\", \"estrutura\", \"estrutura\", \"estrutura\", \"estrutura\", \"est\\u00e9ril\", \"est\\u00e9ril\", \"est\\u00e9ril\", \"est\\u00e9ril\", \"et\\u00edlico\", \"et\\u00edlico\", \"eva\", \"eva\", \"exame\", \"exame\", \"execu\\u00e7\\u00e3o\", \"execu\\u00e7\\u00e3o\", \"execu\\u00e7\\u00e3o\", \"execu\\u00e7\\u00e3o\", \"execu\\u00e7\\u00e3o\", \"fabricante\", \"fabricante\", \"fabricante\", \"fabricante\", \"fabricante\", \"fabricante\", \"fabrica\\u00e7\\u00e3o\", \"fabrica\\u00e7\\u00e3o\", \"fabrica\\u00e7\\u00e3o\", \"fabrica\\u00e7\\u00e3o\", \"fabrica\\u00e7\\u00e3o\", \"fabrica\\u00e7\\u00e3o\", \"facial\", \"facial\", \"farinha\", \"fatiado\", \"fechado\", \"fechado\", \"fechado\", \"fechado\", \"fechado\", \"fechado\", \"fechado\", \"fechadura\", \"fechadura\", \"fechadura\", \"fechamento\", \"fechamento\", \"fechamento\", \"fechamento\", \"fechamento\", \"fechamento\", \"fechamento\", \"feij\\u00e3o\", \"fermento\", \"ferro\", \"ferro\", \"ferro\", \"ferro\", \"ferro\", \"ferro\", \"ferro\", \"ferro\", \"ferroso\", \"fiat\", \"fiat\", \"fibrocimento\", \"fic\\u00e7\\u00e3o\", \"filtro\", \"filtro\", \"filtro\", \"fio\", \"fio\", \"fio\", \"fio\", \"fio\", \"fios\", \"fios\", \"fios\", \"fios\", \"firme\", \"firme\", \"firme\", \"firme\", \"firmes\", \"fisiol\\u00f3gico\", \"fita\", \"fita\", \"fita\", \"fita\", \"fitas\", \"fitas\", \"fitas\", \"flex\\u00edvel\", \"flex\\u00edvel\", \"flex\\u00edvel\", \"flex\\u00edvel\", \"flex\\u00edvel\", \"flex\\u00edvel\", \"fls\", \"foley\", \"folha\", \"folha\", \"folha\", \"folhas\", \"folhas\", \"folhas\", \"folhas\", \"ford\", \"forma\", \"forma\", \"forma\", \"forma\", \"forma\", \"forma\", \"forma\", \"forma\", \"formosa\", \"fornecimento\", \"fornecimento\", \"fornecimento\", \"fornecimento\", \"fornecimento\", \"fornecimento\", \"fornecimento\", \"fornecimento\", \"fornecimento\", \"fralda\", \"fraldas\", \"frasco\", \"frasco\", \"frasco\", \"frasco\", \"frasco\", \"frequ\\u00eancia\", \"frequ\\u00eancia\", \"frequ\\u00eancia\", \"f\\u00f3lico\", \"f\\u00f4rma\", \"galvanizado\", \"galvanizado\", \"galvanizado\", \"galvanizado\", \"garantia\", \"garantia\", \"garantia\", \"garantia\", \"garantia\", \"garantia\", \"gavetas\", \"gaze\", \"gel\", \"gel\", \"geri\\u00e1trica\", \"ghz\", \"giz\", \"gliter\", \"glitter\", \"gola\", \"gr\", \"gr\", \"gr\", \"gr\", \"gr\", \"gramas\", \"gramas\", \"gramas\", \"gramas\", \"gramas\", \"grampeador\", \"grau\", \"grau\", \"grau\", \"grau\", \"grau\", \"grau\", \"guache\", \"haloperidol\", \"haste\", \"haste\", \"haste\", \"haste\", \"hd\", \"hdmi\", \"hidratado\", \"hidratado\", \"hidr\\u00e1ulica\", \"hidr\\u00e1ulica\", \"hidr\\u00e1ulica\", \"hidr\\u00f3xido\", \"higi\\u00eanico\", \"higi\\u00eanico\", \"hipoclorito\", \"hipod\\u00e9rmica\", \"horas\", \"horas\", \"horas\", \"horas\", \"horas\", \"horas\", \"hp\", \"hz\", \"hz\", \"hz\", \"identifica\\u00e7\\u00e3o\", \"identifica\\u00e7\\u00e3o\", \"identifica\\u00e7\\u00e3o\", \"identifica\\u00e7\\u00e3o\", \"identifica\\u00e7\\u00e3o\", \"identifica\\u00e7\\u00e3o\", \"igg\", \"igm\", \"implanta\\u00e7\\u00e3o\", \"impressora\", \"impressora\", \"impress\\u00e3o\", \"impress\\u00e3o\", \"im\\u00f3vel\", \"in\", \"in\", \"in\", \"in\", \"in\", \"infantil\", \"infantil\", \"infantil\", \"infantil\", \"infantil\", \"infantil\", \"infantil\", \"infantil\", \"infantil\", \"inglesa\", \"inglesa\", \"ingredientes\", \"inox\", \"inox\", \"inox\", \"inoxid\\u00e1vel\", \"instala\\u00e7\\u00e3o\", \"instala\\u00e7\\u00e3o\", \"instala\\u00e7\\u00e3o\", \"instala\\u00e7\\u00e3o\", \"instala\\u00e7\\u00e3o\", \"instala\\u00e7\\u00e3o\", \"instala\\u00e7\\u00e3o\", \"instala\\u00e7\\u00e3o\", \"integral\", \"integral\", \"integral\", \"interface\", \"interna\", \"interna\", \"interna\", \"interna\", \"interna\", \"interna\", \"interna\", \"interna\", \"interna\", \"interna\", \"internet\", \"internet\", \"intertravado\", \"intravenoso\", \"inverter\", \"jaleco\", \"jaqueta\", \"joelho\", \"joelho\", \"jur\\u00eddica\", \"kraft\", \"laboratorial\", \"lactose\", \"lado\", \"lado\", \"lado\", \"lado\", \"lado\", \"largura\", \"largura\", \"largura\", \"largura\", \"largura\", \"largura\", \"larvas\", \"larvas\", \"led\", \"led\", \"led\", \"led\", \"leite\", \"leite\", \"les\\u00f5es\", \"limpa\", \"limpa\", \"limpa\", \"limpa\", \"limpeza\", \"limpeza\", \"limpeza\", \"limpeza\", \"limpeza\", \"limpeza\", \"limpeza\", \"limpeza\", \"linha\", \"linha\", \"linha\", \"linha\", \"linha\", \"linha\", \"linha\", \"linha\", \"linha\", \"litro\", \"litro\", \"litro\", \"livre\", \"livre\", \"livre\", \"livre\", \"livre\", \"livre\", \"livre\", \"livre\", \"livro\", \"livro\", \"lixa\", \"lixeira\", \"lixo\", \"lixo\", \"lixo\", \"loca\\u00e7\\u00e3o\", \"loca\\u00e7\\u00e3o\", \"loca\\u00e7\\u00e3o\", \"loco\", \"lonas\", \"lote\", \"lote\", \"lote\", \"luer\", \"lumin\\u00e1ria\", \"lumin\\u00e1ria\", \"luva\", \"luva\", \"luvas\", \"l\\u00e1pis\", \"l\\u00e1pis\", \"l\\u00e1tex\", \"l\\u00e1tex\", \"l\\u00e1tex\", \"l\\u00e1tex\", \"l\\u00e2mina\", \"l\\u00e2mina\", \"l\\u00e2mina\", \"l\\u00e2mina\", \"l\\u00e2mpada\", \"l\\u00e2mpada\", \"l\\u00e2mpada\", \"l\\u00edquido\", \"l\\u00edquido\", \"l\\u00edquido\", \"l\\u00edquido\", \"l\\u00edquido\", \"l\\u00edquido\", \"l\\u00edquido\", \"macac\\u00e3o\", \"machucados\", \"machucados\", \"madeira\", \"madeira\", \"madeira\", \"madeira\", \"madeira\", \"manchas\", \"manchas\", \"manchas\", \"manga\", \"manga\", \"mangas\", \"mangueira\", \"mangueira\", \"mangueira\", \"manual\", \"manual\", \"manual\", \"manual\", \"manual\", \"manual\", \"manual\", \"manual\", \"manuten\\u00e7\\u00e3o\", \"manuten\\u00e7\\u00e3o\", \"manuten\\u00e7\\u00e3o\", \"marcador\", \"marrom\", \"marrom\", \"marrom\", \"marrom\", \"mascara\", \"material\", \"material\", \"material\", \"material\", \"material\", \"material\", \"material\", \"material\", \"material\", \"material\", \"matura\\u00e7\\u00e3o\", \"mdf\", \"mdf\", \"mdp\", \"medicinal\", \"medindo\", \"medindo\", \"medindo\", \"medindo\", \"medindo\", \"melam\\u00ednico\", \"memorial\", \"memorial\", \"mem\\u00f3ria\", \"mesa\", \"mesa\", \"mesa\", \"mesa\", \"meses\", \"meses\", \"meses\", \"meses\", \"meses\", \"metoprolol\", \"metros\", \"metros\", \"metros\", \"metros\", \"metros\", \"metros\", \"metros\", \"mhz\", \"microfone\", \"milho\", \"milho\", \"mmxm\", \"mm\\u00b2\", \"mm\\u00b2\", \"mm\\u00b2\", \"monitoramento\", \"monitoramento\", \"monitoramento\", \"monopolar\", \"morto\", \"motoniveladora\", \"motor\", \"motor\", \"mouse\", \"municipais\", \"municipal\", \"municipal\", \"municipal\", \"municipal\", \"munic\\u00edpio\", \"munic\\u00edpio\", \"munic\\u00edpio\", \"m\\u00e1scara\", \"m\\u00e1scara\", \"m\\u00e3o\", \"m\\u00e3o\", \"m\\u00e3o\", \"m\\u00e3o\", \"m\\u00e9dio\", \"m\\u00e9dio\", \"m\\u00e9dio\", \"m\\u00e9dio\", \"m\\u00e9dio\", \"m\\u00ednima\", \"m\\u00ednima\", \"m\\u00ednima\", \"m\\u00ednima\", \"m\\u00ednima\", \"m\\u00ednima\", \"m\\u00ednima\", \"m\\u00ednima\", \"m\\u00ednima\", \"m\\u00ednima\", \"m\\u00ednimo\", \"m\\u00ednimo\", \"m\\u00ednimo\", \"m\\u00ednimo\", \"m\\u00ednimo\", \"m\\u00ednimo\", \"m\\u00ednimo\", \"m\\u00ednimo\", \"m\\u00ednimo\", \"m\\u00ednimo\", \"narrativa\", \"nasog\\u00e1strica\", \"natura\", \"natura\", \"notebook\", \"novaamplia\\u00e7\\u00e3o\", \"novo\", \"novo\", \"novo\", \"novo\", \"novo\", \"nutricionais\", \"nutricional\", \"nylon\", \"nylon\", \"objeto\", \"obra\", \"obra\", \"obra\", \"obra\", \"obras\", \"obras\", \"offset\", \"oficio\", \"ondulada\", \"oral\", \"oral\", \"organizadora\", \"ovos\", \"pacote\", \"pacote\", \"pacote\", \"pacote\", \"pacote\", \"pacote\", \"padr\\u00e3o\", \"padr\\u00e3o\", \"padr\\u00e3o\", \"padr\\u00e3o\", \"padr\\u00e3o\", \"padr\\u00e3o\", \"padr\\u00e3o\", \"padr\\u00e3o\", \"padr\\u00e3o\", \"padr\\u00e3o\", \"painel\", \"painel\", \"painel\", \"pano\", \"pano\", \"papel\", \"papel\", \"papel\", \"papel\", \"papel\", \"parafuso\", \"parafuso\", \"parafuso\", \"parafuso\", \"parafuso\", \"pardo\", \"pardo\", \"parte\", \"parte\", \"parte\", \"parte\", \"parte\", \"parte\", \"parte\", \"parte\", \"partir\", \"partir\", \"partir\", \"partir\", \"partir\", \"partir\", \"pasta\", \"pasta\", \"pasta\", \"pasta\", \"pasta\", \"pavimentada\", \"pead\", \"pead\", \"pead\", \"pedal\", \"pedal\", \"pedra\", \"pedra\", \"pedra\", \"pedra\", \"pedreiro\", \"pen\", \"perfurador\", \"peso\", \"peso\", \"peso\", \"peso\", \"peso\", \"peso\", \"peso\", \"peso\", \"peso\", \"pessoa\", \"pilar\", \"pilha\", \"pilha\", \"piment\\u00e3o\", \"pincel\", \"pincel\", \"pincel\", \"pinh\\u00e3o\", \"pintura\", \"pintura\", \"pintura\", \"pintura\", \"pintura\", \"pintura\", \"pinus\", \"piso\", \"piso\", \"piso\", \"piso\", \"piso\", \"piso\", \"placa\", \"placa\", \"placa\", \"placa\", \"placa\", \"placa\", \"placa\", \"pl\\u00e1stica\", \"pl\\u00e1stica\", \"pl\\u00e1stica\", \"pl\\u00e1stica\", \"pl\\u00e1stica\", \"pl\\u00e1stica\", \"pl\\u00e1stica\", \"pl\\u00e1stica\", \"pl\\u00e1stico\", \"pl\\u00e1stico\", \"pl\\u00e1stico\", \"pl\\u00e1stico\", \"pl\\u00e1stico\", \"pl\\u00e1stico\", \"pl\\u00e1stico\", \"pl\\u00e1stico\", \"pn\", \"pn\", \"pneu\", \"pneus\", \"poli\\u00e9ster\", \"poli\\u00e9ster\", \"poli\\u00e9ster\", \"pomada\", \"ponta\", \"ponta\", \"ponta\", \"ponta\", \"porta\", \"porta\", \"porta\", \"porta\", \"porta\", \"porta\", \"portas\", \"portas\", \"portas\", \"portas\", \"possuir\", \"possuir\", \"possuir\", \"possuir\", \"possuir\", \"possuir\", \"possuir\", \"possuir\", \"possuir\", \"poste\", \"poste\", \"pot\\u00eancia\", \"pot\\u00eancia\", \"pot\\u00eancia\", \"prateleiras\", \"prazo\", \"prazo\", \"prazo\", \"prego\", \"prendedor\", \"preparo\", \"preparo\", \"preparo\", \"presta\\u00e7\\u00e3o\", \"preto\", \"preto\", \"preto\", \"preto\", \"preto\", \"preto\", \"preto\", \"primeira\", \"primeira\", \"primeira\", \"primeira\", \"primeira\", \"primeira\", \"primeira\", \"prim\\u00e1ria\", \"prim\\u00e1ria\", \"prim\\u00e1ria\", \"procedimento\", \"procedimento\", \"proced\\u00eancia\", \"proced\\u00eancia\", \"processador\", \"produto\", \"produto\", \"produto\", \"produto\", \"produto\", \"produto\", \"produto\", \"produto\", \"projeto\", \"projeto\", \"projetos\", \"pr\\u00e9dio\", \"punho\", \"pvc\", \"pvc\", \"pvc\", \"pvc\", \"pvc\", \"p\\u00e3o\", \"p\\u00f3\", \"p\\u00f3\", \"p\\u00f3\", \"p\\u00f3\", \"p\\u00f3\", \"p\\u00f3\", \"p\\u00fablico\", \"quadro\", \"quadro\", \"quadro\", \"quadro\", \"quadro\", \"quadro\", \"qualidade\", \"qualidade\", \"qualidade\", \"qualidade\", \"qualidade\", \"qualidade\", \"qualidade\", \"qualidade\", \"qualidade\", \"rachaduras\", \"rachaduras\", \"rachaduras\", \"radial\", \"ram\", \"ramal\", \"realiza\\u00e7\\u00e3o\", \"realiza\\u00e7\\u00e3o\", \"reator\", \"recapagem\", \"recarga\", \"recarga\", \"referencia\", \"referencia\", \"referencia\", \"referencia\", \"refinado\", \"refletor\", \"reforma\", \"reforma\", \"reforma\", \"registro\", \"registro\", \"registro\", \"registro\", \"registro\", \"registro\", \"registro\", \"registro\", \"registro\", \"renault\", \"repolho\", \"reposicion\\u00e1veis\", \"resistente\", \"resistente\", \"resistente\", \"resistente\", \"resistente\", \"resistente\", \"resistente\", \"resistente\", \"retentor\", \"retorna\", \"retro\", \"retroescavadeira\", \"roda\", \"roda\", \"roda\", \"roda\", \"rodo\", \"rolamento\", \"rolamento\", \"rolamento\", \"rolamento\", \"rolo\", \"rolo\", \"rolo\", \"rolo\", \"rolo\", \"rolo\", \"rolo\", \"rolos\", \"rolos\", \"rolos\", \"rosa\", \"rosa\", \"rosa\", \"rosa\", \"rota\\u00e7\\u00e3o\", \"rota\\u00e7\\u00e3o\", \"rua\", \"rua\", \"rupturas\", \"rural\", \"r\\u00e9\", \"r\\u00f3tulo\", \"sabonete\", \"sabonete\", \"sabores\", \"saco\", \"saco\", \"saco\", \"saco\", \"saco\", \"saco\", \"sae\", \"sae\", \"sae\", \"sae\", \"sal\", \"sanit\\u00e1rio\", \"sanit\\u00e1rio\", \"sanit\\u00e1rio\", \"sanit\\u00e1rio\", \"sanit\\u00e1rio\", \"sanit\\u00e1rio\", \"sanit\\u00e1rio\", \"sa\\u00fade\", \"sa\\u00fade\", \"sa\\u00fade\", \"sa\\u00fade\", \"sa\\u00fade\", \"sa\\u00fade\", \"secretaria\", \"secretaria\", \"secretaria\", \"secretaria\", \"secretaria\", \"semanais\", \"ser\", \"ser\", \"ser\", \"ser\", \"ser\", \"ser\", \"ser\", \"ser\", \"ser\", \"ser\", \"serie\", \"seringa\", \"seringa\", \"seringa\", \"serrada\", \"servicos\", \"servicos\", \"servidores\", \"servi\\u00e7o\", \"servi\\u00e7o\", \"servi\\u00e7o\", \"servi\\u00e7o\", \"servi\\u00e7o\", \"servi\\u00e7o\", \"servi\\u00e7os\", \"set\", \"sif\", \"sif\", \"sistema\", \"sistema\", \"sistema\", \"sistema\", \"sistema\", \"sistema\", \"sistema\", \"sistema\", \"sistema\", \"sobrado\", \"social\", \"social\", \"social\", \"soja\", \"solado\", \"soldavel\", \"sold\\u00e1vel\", \"solu\\u00e7\\u00e3o\", \"solu\\u00e7\\u00e3o\", \"solu\\u00e7\\u00e3o\", \"solu\\u00e7\\u00e3o\", \"solu\\u00e7\\u00e3o\", \"sonda\", \"sonda\", \"soro\", \"soro\", \"soro\", \"soro\", \"soro\", \"soro\", \"split\", \"spray\", \"spray\", \"spray\", \"ssd\", \"succinato\", \"suco\", \"sujidades\", \"sujidades\", \"sulco\", \"sulfato\", \"sulfite\", \"superior\", \"superior\", \"superior\", \"superior\", \"superior\", \"superior\", \"superior\", \"superior\", \"suspens\\u00e3o\", \"suspens\\u00e3o\", \"suspens\\u00e3o\", \"sutura\", \"s\\u00f3dio\", \"s\\u00f3dio\", \"s\\u00f3dio\", \"s\\u00f3dio\", \"tamanho\", \"tamanho\", \"tamanho\", \"tamanho\", \"tamanho\", \"tamanho\", \"tamanho\", \"tamanho\", \"tampa\", \"tampa\", \"tampa\", \"tampa\", \"tampa\", \"tampa\", \"tampa\", \"tampa\", \"tampo\", \"tecido\", \"tecido\", \"tecido\", \"teclado\", \"teclado\", \"telha\", \"temperatura\", \"temperatura\", \"temperatura\", \"temperatura\", \"temperatura\", \"temperatura\", \"temperatura\", \"tensoativo\", \"tens\\u00e3o\", \"tens\\u00e3o\", \"tens\\u00e3o\", \"tens\\u00e3o\", \"tens\\u00e3o\", \"terminal\", \"terminal\", \"terminal\", \"terminal\", \"termo\", \"termo\", \"tesoura\", \"tesoura\", \"teste\", \"teste\", \"teste\", \"teste\", \"teste\", \"teste\", \"teste\", \"tijolo\", \"tijolos\", \"tinta\", \"tinta\", \"tinta\", \"tinta\", \"tinta\", \"toalha\", \"tomada\", \"tomada\", \"tomada\", \"tomada\", \"tomada\", \"tomada\", \"tomada\", \"toner\", \"toner\", \"touca\", \"trajeto\", \"transparente\", \"transparente\", \"transparente\", \"transparente\", \"transparente\", \"transparente\", \"transparente\", \"transparente\", \"transporte\", \"transporte\", \"transporte\", \"transporte\", \"transporte\", \"transporte\", \"transporte\", \"transporte\", \"transporte\", \"traseiro\", \"traseiro\", \"traseiro\", \"traseiro\", \"traseiro\", \"trator\", \"tra\\u00e7o\", \"tra\\u00e7o\", \"treinamento\", \"trigo\", \"tubo\", \"tubo\", \"tubo\", \"tubo\", \"tubo\", \"tubo\", \"tubo\", \"t\\u00e9cnicaremo\\u00e7\\u00e3o\", \"t\\u00e9cnico\", \"t\\u00e9cnico\", \"t\\u00e9cnico\", \"t\\u00e9cnico\", \"t\\u00e9cnico\", \"t\\u00e9cnico\", \"t\\u00e9cnicos\", \"t\\u00e9cnicos\", \"t\\u00e9rrea\", \"ui\", \"ui\", \"uniforme\", \"uniforme\", \"uniforme\", \"uniforme\", \"uniforme\", \"urbana\", \"uretral\", \"usb\", \"usb\", \"usb\", \"usinado\", \"uso\", \"uso\", \"uso\", \"uso\", \"uso\", \"uso\", \"uso\", \"uso\", \"uso\", \"uso\", \"uva\", \"validade\", \"valor\", \"valor\", \"valor\", \"vapor\", \"vapor\", \"vapor\", \"vapor\", \"vaso\", \"vaso\", \"vaso\", \"vassoura\", \"velcro\", \"verde\", \"verde\", \"verde\", \"verde\", \"verde\", \"verde\", \"verde\", \"vereadores\", \"vermelho\", \"vermelho\", \"vermelho\", \"vermelho\", \"vermelho\", \"vermelho\", \"vermelho\", \"ve\\u00edculo\", \"ve\\u00edculo\", \"ve\\u00edculo\", \"ve\\u00edculo\", \"ve\\u00edculo\", \"ve\\u00edculo\", \"via\", \"via\", \"via\", \"via\", \"via\", \"via\", \"vias\", \"vias\", \"vias\", \"vias\", \"vias\", \"vias\", \"viscose\", \"voltagem\", \"vw\", \"vw\", \"watts\", \"watts\", \"windows\", \"windows\", \"xa0\", \"xa0\", \"xa0\", \"xa0\", \"xarope\", \"xcm\", \"xcm\", \"xcm\", \"xcm\", \"xcm\", \"xcm\", \"z\\u00edper\", \"\\u00e1gua\", \"\\u00e1gua\", \"\\u00e1gua\", \"\\u00e1gua\", \"\\u00e1gua\", \"\\u00e1gua\", \"\\u00e1gua\", \"\\u00e1gua\", \"\\u00e1gua\", \"\\u00e1gua\", \"\\u00e1lcool\", \"\\u00e1lcool\", \"\\u00e1lcool\", \"\\u00e1lcool\", \"\\u00e1rea\", \"\\u00e1rea\", \"\\u00e1rea\", \"\\u00e1rea\", \"\\u00f3culos\", \"\\u00f3leo\", \"\\u00f3leo\", \"\\u00f3leo\", \"\\u00f3leo\"]}, \"R\": 30, \"lambda.step\": 0.01, \"plot.opts\": {\"xlab\": \"PC1\", \"ylab\": \"PC2\"}, \"topic.order\": [7, 2, 5, 3, 4, 8, 9, 1, 10, 6]};\n",
              "\n",
              "function LDAvis_load_lib(url, callback){\n",
              "  var s = document.createElement('script');\n",
              "  s.src = url;\n",
              "  s.async = true;\n",
              "  s.onreadystatechange = s.onload = callback;\n",
              "  s.onerror = function(){console.warn(\"failed to load library \" + url);};\n",
              "  document.getElementsByTagName(\"head\")[0].appendChild(s);\n",
              "}\n",
              "\n",
              "if(typeof(LDAvis) !== \"undefined\"){\n",
              "   // already loaded: just create the visualization\n",
              "   !function(LDAvis){\n",
              "       new LDAvis(\"#\" + \"ldavis_el847891402976110720808842095343\", ldavis_el847891402976110720808842095343_data);\n",
              "   }(LDAvis);\n",
              "}else if(typeof define === \"function\" && define.amd){\n",
              "   // require.js is available: use it to load d3/LDAvis\n",
              "   require.config({paths: {d3: \"https://d3js.org/d3.v5\"}});\n",
              "   require([\"d3\"], function(d3){\n",
              "      window.d3 = d3;\n",
              "      LDAvis_load_lib(\"https://cdn.jsdelivr.net/gh/bmabey/pyLDAvis@3.3.1/pyLDAvis/js/ldavis.v3.0.0.js\", function(){\n",
              "        new LDAvis(\"#\" + \"ldavis_el847891402976110720808842095343\", ldavis_el847891402976110720808842095343_data);\n",
              "      });\n",
              "    });\n",
              "}else{\n",
              "    // require.js not available: dynamically load d3 & LDAvis\n",
              "    LDAvis_load_lib(\"https://d3js.org/d3.v5.js\", function(){\n",
              "         LDAvis_load_lib(\"https://cdn.jsdelivr.net/gh/bmabey/pyLDAvis@3.3.1/pyLDAvis/js/ldavis.v3.0.0.js\", function(){\n",
              "                 new LDAvis(\"#\" + \"ldavis_el847891402976110720808842095343\", ldavis_el847891402976110720808842095343_data);\n",
              "            })\n",
              "         });\n",
              "}\n",
              "</script>"
            ],
            "text/plain": [
              "<IPython.core.display.HTML object>"
            ]
          },
          "metadata": {},
          "output_type": "display_data"
        }
      ],
      "source": [
        "pyLDAvis.display(display_data)  "
      ]
    },
    {
      "cell_type": "code",
      "execution_count": null,
      "metadata": {},
      "outputs": [],
      "source": [
        "display_data_lda2 = pyLDAvis.sklearn.prepare(lda_model, cv.fit_transform(item_licitacao['DS_ITEM_TOKEN']), cv) #LDA -> lda_model"
      ]
    },
    {
      "cell_type": "code",
      "execution_count": null,
      "metadata": {},
      "outputs": [],
      "source": [
        "pyLDAvis.display(display_data_lda2)  "
      ]
    },
    {
      "cell_type": "code",
      "execution_count": null,
      "metadata": {},
      "outputs": [],
      "source": [
        "item_licitacao['Topic_lda_multicore'] = "
      ]
    },
    {
      "cell_type": "code",
      "execution_count": null,
      "metadata": {},
      "outputs": [],
      "source": [
        "item_licitacao.to_csv('lda_multicore.csv')"
      ]
    },
    {
      "cell_type": "markdown",
      "metadata": {},
      "source": [
        "Qual a diferença entre LDA e NMF?\n"
      ]
    },
    {
      "cell_type": "markdown",
      "metadata": {},
      "source": [
        "Desvendando o latent Dirichlet Allocation - https://web.icmc.usp.br"
      ]
    },
    {
      "cell_type": "markdown",
      "metadata": {},
      "source": [
        "O objetivo é esclarecer essa relação em termos de formulação matemática, demonstrando que o NMF com divergência KL aproxima a solução obtida pelo algoritmo de inferência variacional do LDA.\n",
        "\n",
        "As correspondências entre NMF com divergência KL e o algoritmo de inferência variacio- nal para o LDA seguem do fato de que ambos tentam minimizar a divergência entre as estatísticas que relacionam a frequência de palavras, documentos por tópicos e tópicos por palavras. "
      ]
    },
    {
      "cell_type": "markdown",
      "metadata": {},
      "source": [
        "NMF"
      ]
    },
    {
      "cell_type": "markdown",
      "metadata": {},
      "source": [
        "wordclouds"
      ]
    },
    {
      "cell_type": "code",
      "execution_count": 43,
      "metadata": {},
      "outputs": [],
      "source": [
        "from sklearn.decomposition import NMF"
      ]
    },
    {
      "cell_type": "code",
      "execution_count": 44,
      "metadata": {},
      "outputs": [],
      "source": [
        "nmf_model = NMF(n_components=20,random_state=42)"
      ]
    },
    {
      "cell_type": "code",
      "execution_count": 45,
      "metadata": {},
      "outputs": [
        {
          "data": {
            "text/plain": [
              "NMF(alpha=0.0, beta_loss='frobenius', init=None, l1_ratio=0.0, max_iter=200,\n",
              "  n_components=20, random_state=42, shuffle=False, solver='cd', tol=0.0001,\n",
              "  verbose=0)"
            ]
          },
          "execution_count": 45,
          "metadata": {},
          "output_type": "execute_result"
        }
      ],
      "source": [
        "nmf_model.fit(dtm)"
      ]
    },
    {
      "cell_type": "code",
      "execution_count": 105,
      "metadata": {},
      "outputs": [
        {
          "data": {
            "text/plain": [
              "20"
            ]
          },
          "execution_count": 105,
          "metadata": {},
          "output_type": "execute_result"
        }
      ],
      "source": [
        "len(nmf_model.components_)"
      ]
    },
    {
      "cell_type": "code",
      "execution_count": 102,
      "metadata": {},
      "outputs": [
        {
          "name": "stdout",
          "output_type": "stream",
          "text": [
            "Top 10 tópicos dos itens#0\n",
            "['partir', 'ingredientes', 'prazo', 'contar', 'mínima', 'fabricação', 'entrega', 'meses', 'validade', 'data']\n",
            "\n",
            "\n",
            "Top 10 tópicos dos itens#1\n",
            "['ré', 'cabine', 'índice', 'caçamba', 'operacional', 'potência', 'comprimento', 'peso', 'prazo', 'mínimo']\n",
            "\n",
            "\n",
            "Top 10 tópicos dos itens#2\n",
            "['tampo', 'mesa', 'acabamento', 'inox', 'pintura', 'chapa', 'tubo', 'espessura', 'estrutura', 'aço']\n",
            "\n",
            "\n",
            "Top 10 tópicos dos itens#3\n",
            "['instalação', 'novaampliação', 'memorial', 'obra', 'documentação', 'cotação', 'reforma', 'construção', 'especificações', 'termo']\n",
            "\n",
            "\n",
            "Top 10 tópicos dos itens#4\n",
            "['maturação', 'coloração', 'sujidades', 'primeira', 'boa', 'casca', 'grau', 'médio', 'qualidade', 'tamanho']\n",
            "\n",
            "\n",
            "Top 10 tópicos dos itens#5\n",
            "['obra', 'saúde', 'horas', 'municipal', 'município', 'empresa', 'prestação', 'serviço', 'contratação', 'serviços']\n",
            "\n",
            "\n",
            "Top 10 tópicos dos itens#6\n",
            "['litro', 'gramas', 'validade', 'leite', 'transparente', 'pó', 'registro', 'resistente', 'plástica', 'embalagem']\n",
            "\n",
            "\n",
            "Top 10 tópicos dos itens#7\n",
            "['registro', 'kit', 'procedimento', 'antígeno', 'estéril', 'rápido', 'luva', 'descartável', 'teste', 'covid']\n",
            "\n",
            "\n",
            "Top 10 tópicos dos itens#8\n",
            "['sabor', 'conter', 'ter', 'deverão', 'devem', 'apresentar', 'estar', 'possuir', 'deve', 'ser']\n",
            "\n",
            "\n",
            "Top 10 tópicos dos itens#9\n",
            "['azul', 'espessura', 'manga', 'lado', 'parte', 'comprimento', 'medindo', 'tecido', 'largura', 'altura']\n",
            "\n",
            "\n",
            "Top 10 tópicos dos itens#10\n",
            "['portas', 'suporte', 'padrão', 'processador', 'superior', 'placa', 'sistema', 'memória', 'possuir', 'usb']\n",
            "\n",
            "\n",
            "Top 10 tópicos dos itens#11\n",
            "['flexível', 'ramal', 'instalado', 'esgoto', 'água', 'soldável', 'fornecimento', 'instalação', 'tubo', 'pvc']\n",
            "\n",
            "\n",
            "Top 10 tópicos dos itens#12\n",
            "['capa', 'folha', 'páginas', 'formato', 'xcm', 'tinta', 'impressão', 'pacote', 'folhas', 'papel']\n",
            "\n",
            "\n",
            "Top 10 tópicos dos itens#13\n",
            "['parasitas', 'açúcar', 'parafuso', 'total', 'ma', 'número', 'sext', 'sabor', 'mín', 'xa0']\n",
            "\n",
            "\n",
            "Top 10 tópicos dos itens#14\n",
            "['carne', 'rótulo', 'validade', 'lote', 'peso', 'fabricante', 'identificação', 'registro', 'contendo', 'produto']\n",
            "\n",
            "\n",
            "Top 10 tópicos dos itens#15\n",
            "['tampa', 'ponta', 'madeira', 'descartável', 'transparente', 'resistente', 'uso', 'cabo', 'plástico', 'material']\n",
            "\n",
            "\n",
            "Top 10 tópicos dos itens#16\n",
            "['índice', 'uso', 'recapagem', 'carga', 'borrachudo', 'inmetro', 'novo', 'radial', 'lonas', 'pneu']\n",
            "\n",
            "\n",
            "Top 10 tópicos dos itens#17\n",
            "['estéril', 'látex', 'procedimento', 'pó', 'fio', 'tampa', 'descartável', 'agulha', 'luva', 'caixa']\n",
            "\n",
            "\n",
            "Top 10 tópicos dos itens#18\n",
            "['condicionado', 'filtro', 'garantia', 'potência', 'motor', 'veículo', 'ano', 'ar', 'capacidade', 'mínima']\n",
            "\n",
            "\n",
            "Top 10 tópicos dos itens#19\n",
            "['direção', 'transporte', 'seguindo', 'municipal', 'rua', 'alunos', 'segue', 'retorna', 'escola', 'linha']\n",
            "\n",
            "\n"
          ]
        }
      ],
      "source": [
        "for index,topic in enumerate(nmf_model.components_):\n",
        "    print(f\"Top 10 tópicos dos itens#{index}\")\n",
        "    print([cv.get_feature_names()[i] for i in topic.argsort()[-10:]])\n",
        "    print('\\n')"
      ]
    },
    {
      "cell_type": "code",
      "execution_count": 47,
      "metadata": {},
      "outputs": [],
      "source": [
        "topic_results_nfm = nmf_model.transform(dtm)"
      ]
    },
    {
      "cell_type": "code",
      "execution_count": 48,
      "metadata": {},
      "outputs": [],
      "source": [
        "topic_results_nfm.argmax(axis=1)\n",
        "\n",
        "item_licitacao['Topic_nfm'] = topic_results.argmax(axis=1)"
      ]
    },
    {
      "cell_type": "code",
      "execution_count": 49,
      "metadata": {},
      "outputs": [
        {
          "data": {
            "text/html": [
              "<div>\n",
              "<style scoped>\n",
              "    .dataframe tbody tr th:only-of-type {\n",
              "        vertical-align: middle;\n",
              "    }\n",
              "\n",
              "    .dataframe tbody tr th {\n",
              "        vertical-align: top;\n",
              "    }\n",
              "\n",
              "    .dataframe thead th {\n",
              "        text-align: right;\n",
              "    }\n",
              "</style>\n",
              "<table border=\"1\" class=\"dataframe\">\n",
              "  <thead>\n",
              "    <tr style=\"text-align: right;\">\n",
              "      <th></th>\n",
              "      <th>DS_ITEM</th>\n",
              "      <th>Topic_nfm</th>\n",
              "    </tr>\n",
              "  </thead>\n",
              "  <tbody>\n",
              "    <tr>\n",
              "      <th>0</th>\n",
              "      <td>Credenciamento de academias de ginástica e mus...</td>\n",
              "      <td>4</td>\n",
              "    </tr>\n",
              "    <tr>\n",
              "      <th>1</th>\n",
              "      <td>PLACA DE OBRA (PARA CONSTRUCAO CIVIL) EM CHAPA...</td>\n",
              "      <td>2</td>\n",
              "    </tr>\n",
              "    <tr>\n",
              "      <th>2</th>\n",
              "      <td>TAPUME COM COMPENSADO DE MADEIRA. AF_05/2018</td>\n",
              "      <td>2</td>\n",
              "    </tr>\n",
              "    <tr>\n",
              "      <th>3</th>\n",
              "      <td>PODA EM ALTURA DE ÁRVORE COM DIÂMETRO DE TRONC...</td>\n",
              "      <td>3</td>\n",
              "    </tr>\n",
              "    <tr>\n",
              "      <th>4</th>\n",
              "      <td>LOCACAO DE CONTAINER 2,30  X  6,00 M, ALT. 2,5...</td>\n",
              "      <td>9</td>\n",
              "    </tr>\n",
              "    <tr>\n",
              "      <th>5</th>\n",
              "      <td>LOCACAO CONVENCIONAL DE OBRA, UTILIZANDO GABAR...</td>\n",
              "      <td>4</td>\n",
              "    </tr>\n",
              "    <tr>\n",
              "      <th>6</th>\n",
              "      <td>RECOMPOSIÇÃO PARCIAL DE ARAME FARPADO Nº 14 CL...</td>\n",
              "      <td>3</td>\n",
              "    </tr>\n",
              "    <tr>\n",
              "      <th>7</th>\n",
              "      <td>LIMPEZA MECANIZADA DE CAMADA VEGETAL, VEGETAÇÃ...</td>\n",
              "      <td>7</td>\n",
              "    </tr>\n",
              "    <tr>\n",
              "      <th>8</th>\n",
              "      <td>ARQUITETO PLENO</td>\n",
              "      <td>4</td>\n",
              "    </tr>\n",
              "    <tr>\n",
              "      <th>9</th>\n",
              "      <td>ENCARREGADO GERAL DE OBRAS</td>\n",
              "      <td>4</td>\n",
              "    </tr>\n",
              "  </tbody>\n",
              "</table>\n",
              "</div>"
            ],
            "text/plain": [
              "                                             DS_ITEM  Topic_nfm\n",
              "0  Credenciamento de academias de ginástica e mus...          4\n",
              "1  PLACA DE OBRA (PARA CONSTRUCAO CIVIL) EM CHAPA...          2\n",
              "2       TAPUME COM COMPENSADO DE MADEIRA. AF_05/2018          2\n",
              "3  PODA EM ALTURA DE ÁRVORE COM DIÂMETRO DE TRONC...          3\n",
              "4  LOCACAO DE CONTAINER 2,30  X  6,00 M, ALT. 2,5...          9\n",
              "5  LOCACAO CONVENCIONAL DE OBRA, UTILIZANDO GABAR...          4\n",
              "6  RECOMPOSIÇÃO PARCIAL DE ARAME FARPADO Nº 14 CL...          3\n",
              "7  LIMPEZA MECANIZADA DE CAMADA VEGETAL, VEGETAÇÃ...          7\n",
              "8                                    ARQUITETO PLENO          4\n",
              "9                         ENCARREGADO GERAL DE OBRAS          4"
            ]
          },
          "execution_count": 49,
          "metadata": {},
          "output_type": "execute_result"
        }
      ],
      "source": [
        "item_licitacao[['DS_ITEM','Topic_nfm']].head(10)"
      ]
    },
    {
      "cell_type": "code",
      "execution_count": 50,
      "metadata": {},
      "outputs": [
        {
          "data": {
            "text/html": [
              "<div>\n",
              "<style scoped>\n",
              "    .dataframe tbody tr th:only-of-type {\n",
              "        vertical-align: middle;\n",
              "    }\n",
              "\n",
              "    .dataframe tbody tr th {\n",
              "        vertical-align: top;\n",
              "    }\n",
              "\n",
              "    .dataframe thead th {\n",
              "        text-align: right;\n",
              "    }\n",
              "</style>\n",
              "<table border=\"1\" class=\"dataframe\">\n",
              "  <thead>\n",
              "    <tr style=\"text-align: right;\">\n",
              "      <th></th>\n",
              "      <th>DS_ITEM_TOKEN</th>\n",
              "      <th>Topic_nfm</th>\n",
              "    </tr>\n",
              "  </thead>\n",
              "  <tbody>\n",
              "    <tr>\n",
              "      <th>0</th>\n",
              "      <td>['credenciamento', 'academias', 'ginástica', '...</td>\n",
              "      <td>4</td>\n",
              "    </tr>\n",
              "    <tr>\n",
              "      <th>1</th>\n",
              "      <td>['placa', 'obra', 'construcao', 'civil', 'chap...</td>\n",
              "      <td>2</td>\n",
              "    </tr>\n",
              "    <tr>\n",
              "      <th>2</th>\n",
              "      <td>['tapume', 'compensado', 'madeira', 'af', '_']</td>\n",
              "      <td>2</td>\n",
              "    </tr>\n",
              "    <tr>\n",
              "      <th>3</th>\n",
              "      <td>['poda', 'altura', 'árvore', 'diâmetro', 'tron...</td>\n",
              "      <td>3</td>\n",
              "    </tr>\n",
              "    <tr>\n",
              "      <th>4</th>\n",
              "      <td>['locacao', 'container', 'x', 'alt', 'escritor...</td>\n",
              "      <td>9</td>\n",
              "    </tr>\n",
              "    <tr>\n",
              "      <th>5</th>\n",
              "      <td>['locacao', 'convencional', 'obra', 'utilizand...</td>\n",
              "      <td>4</td>\n",
              "    </tr>\n",
              "    <tr>\n",
              "      <th>6</th>\n",
              "      <td>['recomposição', 'parcial', 'arame', 'farpado'...</td>\n",
              "      <td>3</td>\n",
              "    </tr>\n",
              "    <tr>\n",
              "      <th>7</th>\n",
              "      <td>['limpeza', 'mecanizada', 'camada', 'vegetal',...</td>\n",
              "      <td>7</td>\n",
              "    </tr>\n",
              "    <tr>\n",
              "      <th>8</th>\n",
              "      <td>['arquiteto', 'pleno']</td>\n",
              "      <td>4</td>\n",
              "    </tr>\n",
              "    <tr>\n",
              "      <th>9</th>\n",
              "      <td>['encarregado', 'geral', 'obras']</td>\n",
              "      <td>4</td>\n",
              "    </tr>\n",
              "  </tbody>\n",
              "</table>\n",
              "</div>"
            ],
            "text/plain": [
              "                                       DS_ITEM_TOKEN  Topic_nfm\n",
              "0  ['credenciamento', 'academias', 'ginástica', '...          4\n",
              "1  ['placa', 'obra', 'construcao', 'civil', 'chap...          2\n",
              "2     ['tapume', 'compensado', 'madeira', 'af', '_']          2\n",
              "3  ['poda', 'altura', 'árvore', 'diâmetro', 'tron...          3\n",
              "4  ['locacao', 'container', 'x', 'alt', 'escritor...          9\n",
              "5  ['locacao', 'convencional', 'obra', 'utilizand...          4\n",
              "6  ['recomposição', 'parcial', 'arame', 'farpado'...          3\n",
              "7  ['limpeza', 'mecanizada', 'camada', 'vegetal',...          7\n",
              "8                             ['arquiteto', 'pleno']          4\n",
              "9                  ['encarregado', 'geral', 'obras']          4"
            ]
          },
          "execution_count": 50,
          "metadata": {},
          "output_type": "execute_result"
        }
      ],
      "source": [
        "item_licitacao[['DS_ITEM_TOKEN','Topic_nfm']].head(10)"
      ]
    },
    {
      "cell_type": "code",
      "execution_count": 51,
      "metadata": {},
      "outputs": [],
      "source": [
        "item_licitacao.to_csv('nfm.csv')"
      ]
    },
    {
      "cell_type": "markdown",
      "metadata": {},
      "source": [
        "K-means"
      ]
    },
    {
      "cell_type": "markdown",
      "metadata": {
        "id": "FOSSM37b0A7l"
      },
      "source": [
        "### Análise dos dados"
      ]
    },
    {
      "cell_type": "code",
      "execution_count": null,
      "metadata": {},
      "outputs": [],
      "source": []
    },
    {
      "cell_type": "markdown",
      "metadata": {},
      "source": [
        "Comparar os tópicos entre os dois"
      ]
    },
    {
      "cell_type": "markdown",
      "metadata": {
        "id": "I4aiEJg60NcS"
      },
      "source": [
        "### Conclusão"
      ]
    },
    {
      "cell_type": "markdown",
      "metadata": {},
      "source": [
        "Counter Vectorizarion -> contar a ocorrência de cada palavra para mapear o texto para um número\n",
        "\n",
        "CounterVectorizer\n",
        "\n",
        "TfidfVectorizer -> cria a mais uma matriz de termos de documento a partir de nossas mensagens.\n",
        "No entanto, em vez de preencher o DTM com contagens de token, ele calcula o valor da frequência do documento inverso da frequência do termo para cada palavra (TF-IDF).\n",
        "Um fator de frequência de documento inverso é incorporado, o que diminui o peso dos termos que ocorrem com muita frequência no conjunto de documentos e aumenta o peso dos termos que ocorrem raramente.\n"
      ]
    },
    {
      "cell_type": "markdown",
      "metadata": {
        "id": "LQmt32LkNuEB"
      },
      "source": [
        "Quais foram as áreas com maiores investimentos?"
      ]
    },
    {
      "cell_type": "markdown",
      "metadata": {
        "id": "eLjYwovDN6Qm"
      },
      "source": [
        "E quais foram os principais itens licitados nelas?"
      ]
    },
    {
      "cell_type": "code",
      "execution_count": null,
      "metadata": {
        "id": "SIob_MW7NtkJ"
      },
      "outputs": [],
      "source": []
    }
  ],
  "metadata": {
    "colab": {
      "collapsed_sections": [],
      "name": "Maiores_investimentos_licitações.ipynb",
      "provenance": []
    },
    "kernelspec": {
      "display_name": "Python 3",
      "name": "python3"
    },
    "language_info": {
      "codemirror_mode": {
        "name": "ipython",
        "version": 3
      },
      "file_extension": ".py",
      "mimetype": "text/x-python",
      "name": "python",
      "nbconvert_exporter": "python",
      "pygments_lexer": "ipython3",
      "version": "3.7.11"
    }
  },
  "nbformat": 4,
  "nbformat_minor": 0
}
