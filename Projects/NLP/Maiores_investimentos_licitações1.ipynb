{
  "cells": [
    {
      "cell_type": "markdown",
      "metadata": {
        "id": "uu7G0Zsyq9Kk"
      },
      "source": [
        "### Situação:"
      ]
    },
    {
      "cell_type": "markdown",
      "metadata": {
        "id": "SfinOPAFqUe2"
      },
      "source": [
        "Usando os dados das licitações do ano de 2021, no Rio Grande do Sul, tentar fazer uma análise dos principais itens licitados e das áreas que receberam maior investimento por meio de licitações\n",
        "\n",
        "Link: http://dados.tce.rs.gov.br/dataset?groups=licitacoes&q=consolidado"
      ]
    },
    {
      "cell_type": "markdown",
      "metadata": {
        "id": "JTFTbZhEuQPx"
      },
      "source": [
        "### Imports"
      ]
    },
    {
      "cell_type": "code",
      "execution_count": 1,
      "metadata": {
        "id": "cJ4hoz1kuPFM"
      },
      "outputs": [],
      "source": [
        "import pandas as pd\n",
        "import numpy as np\n",
        "import os\n",
        "import matplotlib.pyplot as plt\n",
        "%matplotlib inline"
      ]
    },
    {
      "cell_type": "code",
      "execution_count": 2,
      "metadata": {
        "id": "a0tMrmZBIZet"
      },
      "outputs": [
        {
          "name": "stderr",
          "output_type": "stream",
          "text": [
            "/Users/ionasantana/opt/anaconda3/envs/nlp_course/lib/python3.7/site-packages/sklearn/feature_extraction/image.py:167: DeprecationWarning: `np.int` is a deprecated alias for the builtin `int`. To silence this warning, use `int` by itself. Doing this will not modify any behavior and is safe. When replacing `np.int`, you may wish to use e.g. `np.int64` or `np.int32` to specify the precision. If you wish to review your current use, check the release note link for additional information.\n",
            "Deprecated in NumPy 1.20; for more details and guidance: https://numpy.org/devdocs/release/1.20.0-notes.html#deprecations\n",
            "  dtype=np.int):\n",
            "/Users/ionasantana/opt/anaconda3/envs/nlp_course/lib/python3.7/site-packages/sklearn/linear_model/least_angle.py:35: DeprecationWarning: `np.float` is a deprecated alias for the builtin `float`. To silence this warning, use `float` by itself. Doing this will not modify any behavior and is safe. If you specifically wanted the numpy scalar type, use `np.float64` here.\n",
            "Deprecated in NumPy 1.20; for more details and guidance: https://numpy.org/devdocs/release/1.20.0-notes.html#deprecations\n",
            "  eps=np.finfo(np.float).eps,\n",
            "/Users/ionasantana/opt/anaconda3/envs/nlp_course/lib/python3.7/site-packages/sklearn/linear_model/least_angle.py:597: DeprecationWarning: `np.float` is a deprecated alias for the builtin `float`. To silence this warning, use `float` by itself. Doing this will not modify any behavior and is safe. If you specifically wanted the numpy scalar type, use `np.float64` here.\n",
            "Deprecated in NumPy 1.20; for more details and guidance: https://numpy.org/devdocs/release/1.20.0-notes.html#deprecations\n",
            "  eps=np.finfo(np.float).eps, copy_X=True, fit_path=True,\n",
            "/Users/ionasantana/opt/anaconda3/envs/nlp_course/lib/python3.7/site-packages/sklearn/linear_model/least_angle.py:836: DeprecationWarning: `np.float` is a deprecated alias for the builtin `float`. To silence this warning, use `float` by itself. Doing this will not modify any behavior and is safe. If you specifically wanted the numpy scalar type, use `np.float64` here.\n",
            "Deprecated in NumPy 1.20; for more details and guidance: https://numpy.org/devdocs/release/1.20.0-notes.html#deprecations\n",
            "  eps=np.finfo(np.float).eps, copy_X=True, fit_path=True,\n",
            "/Users/ionasantana/opt/anaconda3/envs/nlp_course/lib/python3.7/site-packages/sklearn/linear_model/least_angle.py:862: DeprecationWarning: `np.float` is a deprecated alias for the builtin `float`. To silence this warning, use `float` by itself. Doing this will not modify any behavior and is safe. If you specifically wanted the numpy scalar type, use `np.float64` here.\n",
            "Deprecated in NumPy 1.20; for more details and guidance: https://numpy.org/devdocs/release/1.20.0-notes.html#deprecations\n",
            "  eps=np.finfo(np.float).eps, positive=False):\n",
            "/Users/ionasantana/opt/anaconda3/envs/nlp_course/lib/python3.7/site-packages/sklearn/linear_model/least_angle.py:1097: DeprecationWarning: `np.float` is a deprecated alias for the builtin `float`. To silence this warning, use `float` by itself. Doing this will not modify any behavior and is safe. If you specifically wanted the numpy scalar type, use `np.float64` here.\n",
            "Deprecated in NumPy 1.20; for more details and guidance: https://numpy.org/devdocs/release/1.20.0-notes.html#deprecations\n",
            "  max_n_alphas=1000, n_jobs=None, eps=np.finfo(np.float).eps,\n",
            "/Users/ionasantana/opt/anaconda3/envs/nlp_course/lib/python3.7/site-packages/sklearn/linear_model/least_angle.py:1344: DeprecationWarning: `np.float` is a deprecated alias for the builtin `float`. To silence this warning, use `float` by itself. Doing this will not modify any behavior and is safe. If you specifically wanted the numpy scalar type, use `np.float64` here.\n",
            "Deprecated in NumPy 1.20; for more details and guidance: https://numpy.org/devdocs/release/1.20.0-notes.html#deprecations\n",
            "  max_n_alphas=1000, n_jobs=None, eps=np.finfo(np.float).eps,\n",
            "/Users/ionasantana/opt/anaconda3/envs/nlp_course/lib/python3.7/site-packages/sklearn/linear_model/least_angle.py:1480: DeprecationWarning: `np.float` is a deprecated alias for the builtin `float`. To silence this warning, use `float` by itself. Doing this will not modify any behavior and is safe. If you specifically wanted the numpy scalar type, use `np.float64` here.\n",
            "Deprecated in NumPy 1.20; for more details and guidance: https://numpy.org/devdocs/release/1.20.0-notes.html#deprecations\n",
            "  eps=np.finfo(np.float).eps, copy_X=True, positive=False):\n",
            "/Users/ionasantana/opt/anaconda3/envs/nlp_course/lib/python3.7/site-packages/sklearn/linear_model/randomized_l1.py:152: DeprecationWarning: `np.float` is a deprecated alias for the builtin `float`. To silence this warning, use `float` by itself. Doing this will not modify any behavior and is safe. If you specifically wanted the numpy scalar type, use `np.float64` here.\n",
            "Deprecated in NumPy 1.20; for more details and guidance: https://numpy.org/devdocs/release/1.20.0-notes.html#deprecations\n",
            "  precompute=False, eps=np.finfo(np.float).eps,\n",
            "/Users/ionasantana/opt/anaconda3/envs/nlp_course/lib/python3.7/site-packages/sklearn/linear_model/randomized_l1.py:320: DeprecationWarning: `np.float` is a deprecated alias for the builtin `float`. To silence this warning, use `float` by itself. Doing this will not modify any behavior and is safe. If you specifically wanted the numpy scalar type, use `np.float64` here.\n",
            "Deprecated in NumPy 1.20; for more details and guidance: https://numpy.org/devdocs/release/1.20.0-notes.html#deprecations\n",
            "  eps=np.finfo(np.float).eps, random_state=None,\n",
            "/Users/ionasantana/opt/anaconda3/envs/nlp_course/lib/python3.7/site-packages/sklearn/linear_model/randomized_l1.py:580: DeprecationWarning: `np.float` is a deprecated alias for the builtin `float`. To silence this warning, use `float` by itself. Doing this will not modify any behavior and is safe. If you specifically wanted the numpy scalar type, use `np.float64` here.\n",
            "Deprecated in NumPy 1.20; for more details and guidance: https://numpy.org/devdocs/release/1.20.0-notes.html#deprecations\n",
            "  eps=4 * np.finfo(np.float).eps, n_jobs=None,\n"
          ]
        }
      ],
      "source": [
        "import spacy \n",
        "import nltk"
      ]
    },
    {
      "cell_type": "code",
      "execution_count": 4,
      "metadata": {
        "id": "tYzY7cd_5jV5"
      },
      "outputs": [],
      "source": [
        "files = os.listdir('/Users/ionasantana/Documents/GitHub/Artificial-Intelligence/Projects/NLP/2021')"
      ]
    },
    {
      "cell_type": "code",
      "execution_count": 5,
      "metadata": {
        "colab": {
          "base_uri": "https://localhost:8080/"
        },
        "id": "Whx_M0EU5tlG",
        "outputId": "c76f7077-6706-464f-c821-0a3b54bfacfd"
      },
      "outputs": [
        {
          "data": {
            "text/plain": [
              "['memcomissao.csv',\n",
              " 'evento_lic.csv',\n",
              " 'documento_lic.csv',\n",
              " 'licitante.csv',\n",
              " 'licitacao.csv',\n",
              " 'item.csv',\n",
              " 'pessoas.csv',\n",
              " 'dotacao_lic.csv',\n",
              " 'comissao.csv',\n",
              " 'membrocons.csv',\n",
              " 'proposta.csv',\n",
              " 'item_prop.csv',\n",
              " 'lote_prop.csv',\n",
              " 'lote.csv']"
            ]
          },
          "execution_count": 5,
          "metadata": {},
          "output_type": "execute_result"
        }
      ],
      "source": [
        "files"
      ]
    },
    {
      "cell_type": "code",
      "execution_count": 7,
      "metadata": {
        "colab": {
          "base_uri": "https://localhost:8080/"
        },
        "id": "yOtGZh0fvKIE",
        "outputId": "9d363d41-9b09-4b5e-edbc-83270e61ff54"
      },
      "outputs": [
        {
          "name": "stderr",
          "output_type": "stream",
          "text": [
            "/Users/ionasantana/opt/anaconda3/envs/nlp_course/lib/python3.7/site-packages/IPython/core/interactiveshell.py:3173: DtypeWarning: Columns (52,53) have mixed types. Specify dtype option on import or set low_memory=False.\n",
            "  interactivity=interactivity, compiler=compiler, result=result)\n",
            "/Users/ionasantana/opt/anaconda3/envs/nlp_course/lib/python3.7/site-packages/IPython/core/interactiveshell.py:3173: DtypeWarning: Columns (8,19) have mixed types. Specify dtype option on import or set low_memory=False.\n",
            "  interactivity=interactivity, compiler=compiler, result=result)\n"
          ]
        }
      ],
      "source": [
        "licitacao = pd.read_csv('/Users/ionasantana/Documents/GitHub/Artificial-Intelligence/Projects/NLP/2021/' + files[4])\n",
        "item = pd.read_csv('/Users/ionasantana/Documents/GitHub/Artificial-Intelligence/Projects/NLP/2021/' + files[5])"
      ]
    },
    {
      "cell_type": "markdown",
      "metadata": {
        "id": "RBGu3lHxumUV"
      },
      "source": [
        "### Pré-processamento Dados"
      ]
    },
    {
      "cell_type": "code",
      "execution_count": 8,
      "metadata": {
        "id": "UIIZNLXs9M-a"
      },
      "outputs": [],
      "source": [
        "cols = ['CD_ORGAO', 'NM_ORGAO', 'NR_LICITACAO', 'CD_TIPO_MODALIDADE','DS_OBJETO', 'VL_LICITACAO', 'BL_COVID19']\n",
        "licitacao_21 = licitacao[cols]"
      ]
    },
    {
      "cell_type": "code",
      "execution_count": 9,
      "metadata": {
        "id": "pfVB-X1dxzRf"
      },
      "outputs": [],
      "source": [
        "licitacao_21 = licitacao_21.dropna()"
      ]
    },
    {
      "cell_type": "code",
      "execution_count": 10,
      "metadata": {
        "colab": {
          "base_uri": "https://localhost:8080/",
          "height": 143
        },
        "id": "LBRRVx8JHc77",
        "outputId": "7b9129f4-9450-4620-873b-51ba93be3293"
      },
      "outputs": [
        {
          "data": {
            "text/html": [
              "<div>\n",
              "<style scoped>\n",
              "    .dataframe tbody tr th:only-of-type {\n",
              "        vertical-align: middle;\n",
              "    }\n",
              "\n",
              "    .dataframe tbody tr th {\n",
              "        vertical-align: top;\n",
              "    }\n",
              "\n",
              "    .dataframe thead th {\n",
              "        text-align: right;\n",
              "    }\n",
              "</style>\n",
              "<table border=\"1\" class=\"dataframe\">\n",
              "  <thead>\n",
              "    <tr style=\"text-align: right;\">\n",
              "      <th></th>\n",
              "      <th>CD_ORGAO</th>\n",
              "      <th>NM_ORGAO</th>\n",
              "      <th>NR_LICITACAO</th>\n",
              "      <th>CD_TIPO_MODALIDADE</th>\n",
              "      <th>DS_OBJETO</th>\n",
              "      <th>VL_LICITACAO</th>\n",
              "      <th>BL_COVID19</th>\n",
              "    </tr>\n",
              "  </thead>\n",
              "  <tbody>\n",
              "    <tr>\n",
              "      <th>0</th>\n",
              "      <td>53100</td>\n",
              "      <td>PM DE NOVA PALMA</td>\n",
              "      <td>1.0</td>\n",
              "      <td>TMP</td>\n",
              "      <td>CONTRATAÇÃO GLOBAL DE EMPRESA PARA CONSTRUÇÃO ...</td>\n",
              "      <td>259765.0</td>\n",
              "      <td>N</td>\n",
              "    </tr>\n",
              "    <tr>\n",
              "      <th>1</th>\n",
              "      <td>86800</td>\n",
              "      <td>PM DE BOA VISTA DO SUL</td>\n",
              "      <td>2.0</td>\n",
              "      <td>PRP</td>\n",
              "      <td>Contratação de empresa para prestação de servi...</td>\n",
              "      <td>390625.0</td>\n",
              "      <td>N</td>\n",
              "    </tr>\n",
              "    <tr>\n",
              "      <th>2</th>\n",
              "      <td>45003</td>\n",
              "      <td>SERVIÇO AUTÔN. MUN. DE ÁGUA E ESGOTO - CX.SUL</td>\n",
              "      <td>46.0</td>\n",
              "      <td>PRP</td>\n",
              "      <td>Aquisição de 80.000 (oitenta mil) quilogramas ...</td>\n",
              "      <td>833800.0</td>\n",
              "      <td>N</td>\n",
              "    </tr>\n",
              "  </tbody>\n",
              "</table>\n",
              "</div>"
            ],
            "text/plain": [
              "   CD_ORGAO                                       NM_ORGAO  NR_LICITACAO  \\\n",
              "0     53100                               PM DE NOVA PALMA           1.0   \n",
              "1     86800                         PM DE BOA VISTA DO SUL           2.0   \n",
              "2     45003  SERVIÇO AUTÔN. MUN. DE ÁGUA E ESGOTO - CX.SUL          46.0   \n",
              "\n",
              "  CD_TIPO_MODALIDADE                                          DS_OBJETO  \\\n",
              "0                TMP  CONTRATAÇÃO GLOBAL DE EMPRESA PARA CONSTRUÇÃO ...   \n",
              "1                PRP  Contratação de empresa para prestação de servi...   \n",
              "2                PRP  Aquisição de 80.000 (oitenta mil) quilogramas ...   \n",
              "\n",
              "   VL_LICITACAO BL_COVID19  \n",
              "0      259765.0          N  \n",
              "1      390625.0          N  \n",
              "2      833800.0          N  "
            ]
          },
          "execution_count": 10,
          "metadata": {},
          "output_type": "execute_result"
        }
      ],
      "source": [
        "licitacao_21.head(3)"
      ]
    },
    {
      "cell_type": "code",
      "execution_count": 11,
      "metadata": {
        "id": "x8R4Y7eD9UTI"
      },
      "outputs": [],
      "source": [
        "item_licitacao = item.iloc[:, 0:12]\n",
        "item_licitacao['BL_COVID19'] = item['BL_COVID19'] "
      ]
    },
    {
      "cell_type": "code",
      "execution_count": 12,
      "metadata": {
        "colab": {
          "base_uri": "https://localhost:8080/"
        },
        "id": "Ap2LJwwzyBAv",
        "outputId": "00aa6cc2-5fe6-4919-d3f5-de4742c0809e"
      },
      "outputs": [
        {
          "data": {
            "text/plain": [
              "CD_ORGAO                    0\n",
              "NR_LICITACAO                0\n",
              "ANO_LICITACAO               0\n",
              "CD_TIPO_MODALIDADE          0\n",
              "NR_LOTE                     0\n",
              "NR_ITEM                     0\n",
              "NR_ITEM_ORIGINAL            0\n",
              "DS_ITEM                     1\n",
              "QT_ITENS                    0\n",
              "SG_UNIDADE_MEDIDA           0\n",
              "VL_UNITARIO_ESTIMADO    39446\n",
              "VL_TOTAL_ESTIMADO       39446\n",
              "BL_COVID19                  0\n",
              "dtype: int64"
            ]
          },
          "execution_count": 12,
          "metadata": {},
          "output_type": "execute_result"
        }
      ],
      "source": [
        "item_licitacao.isna().sum()"
      ]
    },
    {
      "cell_type": "code",
      "execution_count": 13,
      "metadata": {
        "id": "O2q1xeSWxKem"
      },
      "outputs": [],
      "source": [
        "item_licitacao = item_licitacao.dropna()"
      ]
    },
    {
      "cell_type": "code",
      "execution_count": 14,
      "metadata": {
        "colab": {
          "base_uri": "https://localhost:8080/"
        },
        "id": "qAmKnZLfx-Pw",
        "outputId": "39f6a6db-7540-4fc7-f283-f997f3feb4e1"
      },
      "outputs": [
        {
          "data": {
            "text/plain": [
              "(87469, 932800)"
            ]
          },
          "execution_count": 14,
          "metadata": {},
          "output_type": "execute_result"
        }
      ],
      "source": [
        "len(licitacao_21), len(item_licitacao)"
      ]
    },
    {
      "cell_type": "code",
      "execution_count": 15,
      "metadata": {
        "id": "VbNGsWkByJ4T"
      },
      "outputs": [],
      "source": [
        "licitacao_21['covid'] = np.where((licitacao_21['BL_COVID19'] == 'S'), ' covid19', '')\n",
        "licitacao_21['DS_OBJETO'] = licitacao_21['DS_OBJETO'] + licitacao_21['covid']"
      ]
    },
    {
      "cell_type": "code",
      "execution_count": 16,
      "metadata": {
        "id": "SPpubdTYGwtT"
      },
      "outputs": [],
      "source": [
        "licitacao_21 = licitacao_21.drop(['BL_COVID19', 'covid'], axis = 1)"
      ]
    },
    {
      "cell_type": "code",
      "execution_count": 18,
      "metadata": {
        "id": "jxrbDs0exJtm"
      },
      "outputs": [],
      "source": [
        "item_licitacao['covid'] = np.where((item_licitacao['BL_COVID19'] == 'S'), ' covid19', '')\n",
        "item_licitacao['DS_ITEM'] = item_licitacao['DS_ITEM'] + item_licitacao['covid']"
      ]
    },
    {
      "cell_type": "code",
      "execution_count": 19,
      "metadata": {
        "id": "evpu74VeEj2O"
      },
      "outputs": [],
      "source": [
        "item_licitacao = item_licitacao.drop(['BL_COVID19', 'covid'], axis = 1)"
      ]
    },
    {
      "cell_type": "code",
      "execution_count": 20,
      "metadata": {
        "colab": {
          "base_uri": "https://localhost:8080/",
          "height": 187
        },
        "id": "f4FM6DJGEeaZ",
        "outputId": "7399bdc8-b4b4-4927-d3db-06aa031db99d"
      },
      "outputs": [
        {
          "data": {
            "text/html": [
              "<div>\n",
              "<style scoped>\n",
              "    .dataframe tbody tr th:only-of-type {\n",
              "        vertical-align: middle;\n",
              "    }\n",
              "\n",
              "    .dataframe tbody tr th {\n",
              "        vertical-align: top;\n",
              "    }\n",
              "\n",
              "    .dataframe thead th {\n",
              "        text-align: right;\n",
              "    }\n",
              "</style>\n",
              "<table border=\"1\" class=\"dataframe\">\n",
              "  <thead>\n",
              "    <tr style=\"text-align: right;\">\n",
              "      <th></th>\n",
              "      <th>CD_ORGAO</th>\n",
              "      <th>NR_LICITACAO</th>\n",
              "      <th>CD_TIPO_MODALIDADE</th>\n",
              "      <th>NR_LOTE</th>\n",
              "      <th>NR_ITEM</th>\n",
              "      <th>NR_ITEM_ORIGINAL</th>\n",
              "      <th>DS_ITEM</th>\n",
              "      <th>QT_ITENS</th>\n",
              "      <th>SG_UNIDADE_MEDIDA</th>\n",
              "      <th>VL_UNITARIO_ESTIMADO</th>\n",
              "      <th>VL_TOTAL_ESTIMADO</th>\n",
              "    </tr>\n",
              "  </thead>\n",
              "  <tbody>\n",
              "    <tr>\n",
              "      <th>0</th>\n",
              "      <td>44500</td>\n",
              "      <td>274.0</td>\n",
              "      <td>CPC</td>\n",
              "      <td>1</td>\n",
              "      <td>1</td>\n",
              "      <td>1</td>\n",
              "      <td>Credenciamento de academias de ginástica e mus...</td>\n",
              "      <td>1</td>\n",
              "      <td>UN</td>\n",
              "      <td>50.00</td>\n",
              "      <td>50.00</td>\n",
              "    </tr>\n",
              "    <tr>\n",
              "      <th>1</th>\n",
              "      <td>56900</td>\n",
              "      <td>25.0</td>\n",
              "      <td>TMP</td>\n",
              "      <td>1</td>\n",
              "      <td>1</td>\n",
              "      <td>1.1</td>\n",
              "      <td>PLACA DE OBRA (PARA CONSTRUCAO CIVIL) EM CHAPA...</td>\n",
              "      <td>6</td>\n",
              "      <td>M2</td>\n",
              "      <td>272.49</td>\n",
              "      <td>1634.94</td>\n",
              "    </tr>\n",
              "    <tr>\n",
              "      <th>2</th>\n",
              "      <td>56900</td>\n",
              "      <td>25.0</td>\n",
              "      <td>TMP</td>\n",
              "      <td>1</td>\n",
              "      <td>2</td>\n",
              "      <td>1.2</td>\n",
              "      <td>TAPUME COM COMPENSADO DE MADEIRA. AF_05/2018</td>\n",
              "      <td>71</td>\n",
              "      <td>M2</td>\n",
              "      <td>128.69</td>\n",
              "      <td>9136.99</td>\n",
              "    </tr>\n",
              "  </tbody>\n",
              "</table>\n",
              "</div>"
            ],
            "text/plain": [
              "   CD_ORGAO  NR_LICITACAO CD_TIPO_MODALIDADE  NR_LOTE  NR_ITEM  \\\n",
              "0     44500         274.0                CPC        1        1   \n",
              "1     56900          25.0                TMP        1        1   \n",
              "2     56900          25.0                TMP        1        2   \n",
              "\n",
              "  NR_ITEM_ORIGINAL                                            DS_ITEM  \\\n",
              "0                1  Credenciamento de academias de ginástica e mus...   \n",
              "1             1.1   PLACA DE OBRA (PARA CONSTRUCAO CIVIL) EM CHAPA...   \n",
              "2             1.2        TAPUME COM COMPENSADO DE MADEIRA. AF_05/2018   \n",
              "\n",
              "  QT_ITENS SG_UNIDADE_MEDIDA  VL_UNITARIO_ESTIMADO  VL_TOTAL_ESTIMADO  \n",
              "0        1                UN                 50.00              50.00  \n",
              "1        6                M2                272.49            1634.94  \n",
              "2       71                M2                128.69            9136.99  "
            ]
          },
          "execution_count": 20,
          "metadata": {},
          "output_type": "execute_result"
        }
      ],
      "source": [
        "item_licitacao['ANO_LICITACAO'].unique()\n",
        "item_licitacao.drop(['ANO_LICITACAO'], axis = 1).head(3)"
      ]
    },
    {
      "cell_type": "markdown",
      "metadata": {
        "id": "wmZpI_COxX7Y"
      },
      "source": [
        "### Pré-processamento Texto"
      ]
    },
    {
      "cell_type": "code",
      "execution_count": 33,
      "metadata": {
        "id": "hBHXG3jEJQYd"
      },
      "outputs": [],
      "source": [
        "# Libs adicionais de NLP\n",
        "import spacy \n",
        "# import pt_core_news_lg\n",
        "import nltk\n",
        "from sklearn.feature_extraction.text import CountVectorizer, TfidfVectorizer\n",
        "import re"
      ]
    },
    {
      "cell_type": "code",
      "execution_count": 39,
      "metadata": {
        "colab": {
          "base_uri": "https://localhost:8080/",
          "height": 201
        },
        "id": "CmrMGEJoJSSW",
        "outputId": "f80775f6-e819-4c3f-b029-2d8303c3270b"
      },
      "outputs": [
        {
          "name": "stdout",
          "output_type": "stream",
          "text": [
            "[nltk_data] Downloading package stopwords to\n",
            "[nltk_data]     /Users/ionasantana/nltk_data...\n",
            "[nltk_data]   Package stopwords is already up-to-date!\n"
          ]
        },
        {
          "data": {
            "text/plain": [
              "True"
            ]
          },
          "execution_count": 39,
          "metadata": {},
          "output_type": "execute_result"
        }
      ],
      "source": [
        "nlp=spacy.load(\"pt_core_news_sm\")\n",
        "nltk.download('stopwords')"
      ]
    },
    {
      "cell_type": "code",
      "execution_count": 43,
      "metadata": {},
      "outputs": [],
      "source": [
        "stopwords = nltk.corpus.stopwords.words('portuguese')\n",
        "\n",
        "filter_out = stopwords + ['kg', 'm', 'cm', 'mm', 'mg', 'ml', 'm²', '-', '+', '=', 'mcg', 'nº', 'g', 'ª', 'º']"
      ]
    },
    {
      "cell_type": "markdown",
      "metadata": {},
      "source": [
        "<table ><tr><th>Character</th><th>Description</th><th>Example Pattern Code</th><th >Exammple Match</th></tr>\n",
        "\n",
        "<tr ><td><span >\\d</span></td><td>A digit</td><td>file_\\d\\d</td><td>file_25</td></tr>\n",
        "\n",
        "<tr ><td><span >\\w</span></td><td>Alphanumeric</td><td>\\w-\\w\\w\\w</td><td>A-b_1</td></tr>\n",
        "\n",
        "\n",
        "\n",
        "<tr ><td><span >\\s</span></td><td>White space</td><td>a\\sb\\sc</td><td>a b c</td></tr>\n",
        "\n",
        "\n",
        "\n",
        "<tr ><td><span >\\D</span></td><td>A non digit</td><td>\\D\\D\\D</td><td>ABC</td></tr>\n",
        "\n",
        "<tr ><td><span >\\W</span></td><td>Non-alphanumeric</td><td>\\W\\W\\W\\W\\W</td><td>*-+=)</td></tr>\n",
        "\n",
        "<tr ><td><span >\\S</span></td><td>Non-whitespace</td><td>\\S\\S\\S\\S</td><td>Yoyo</td></tr></table>"
      ]
    },
    {
      "cell_type": "markdown",
      "metadata": {},
      "source": [
        "<table ><tr><th>Character</th><th>Description</th><th>Example Pattern Code</th><th >Exammple Match</th></tr>\n",
        "\n",
        "<tr ><td><span >+</span></td><td>Occurs one or more times</td><td>\tVersion \\w-\\w+</td><td>Version A-b1_1</td></tr>\n",
        "\n",
        "<tr ><td><span >{3}</span></td><td>Occurs exactly 3 times</td><td>\\D{3}</td><td>abc</td></tr>\n",
        "\n",
        "\n",
        "\n",
        "<tr ><td><span >{2,4}</span></td><td>Occurs 2 to 4 times</td><td>\\d{2,4}</td><td>123</td></tr>\n",
        "\n",
        "\n",
        "\n",
        "<tr ><td><span >{3,}</span></td><td>Occurs 3 or more</td><td>\\w{3,}</td><td>anycharacters</td></tr>\n",
        "\n",
        "<tr ><td><span >\\*</span></td><td>Occurs zero or more times</td><td>A\\*B\\*C*</td><td>AAACC</td></tr>\n",
        "\n",
        "<tr ><td><span >?</span></td><td>Once or none</td><td>plurals?</td><td>plural</td></tr></table>"
      ]
    },
    {
      "cell_type": "code",
      "execution_count": 72,
      "metadata": {},
      "outputs": [],
      "source": [
        "def pre_processing(sentence):\n",
        "    sentence = sentence.lower()\n",
        "    sentence = re.sub(r\"[^\\w\\s]\", \"\", sentence)\n",
        "    sentence = re.sub(r\"[0-9]+\", \"\", sentence)\n",
        "    sentence = re.sub(r\"/+\", \"\", sentence)\n",
        "    sentence = re.sub(r\" {2,}\", \" \", sentence)\n",
        "\n",
        "    #Tokenização\n",
        "    doc = nlp(sentence)\n",
        "\n",
        "    tokens=[token.text for token in doc]\n",
        "    tokens=[token for token in tokens if token not in filter_out]\n",
        "\n",
        "    return tokens\n"
      ]
    },
    {
      "cell_type": "code",
      "execution_count": 75,
      "metadata": {},
      "outputs": [
        {
          "name": "stdout",
          "output_type": "stream",
          "text": [
            "['testando', 'aa']\n"
          ]
        }
      ],
      "source": [
        "print(pre_processing('testando 1 2 3 aa'))"
      ]
    },
    {
      "cell_type": "code",
      "execution_count": 76,
      "metadata": {},
      "outputs": [],
      "source": [
        "item_licitacao['DS_ITEM_TOKEN'] = item_licitacao['DS_ITEM'].apply(lambda sentece: pre_processing(sentece))\n"
      ]
    },
    {
      "cell_type": "code",
      "execution_count": 77,
      "metadata": {},
      "outputs": [],
      "source": [
        "item_licitacao.to_csv('item_licitacao_token.csv')"
      ]
    },
    {
      "cell_type": "code",
      "execution_count": 78,
      "metadata": {},
      "outputs": [],
      "source": [
        "licitacao_21['DS_OBJETO_TOKEN'] = licitacao_21['DS_OBJETO'].apply(lambda sentece: pre_processing(sentece))\n"
      ]
    },
    {
      "cell_type": "code",
      "execution_count": 79,
      "metadata": {},
      "outputs": [],
      "source": [
        "licitacao_21.to_csv('licitacao_21_token.csv')"
      ]
    },
    {
      "cell_type": "markdown",
      "metadata": {
        "id": "9SaqqMLSz83K"
      },
      "source": [
        "### Construção dos modelos"
      ]
    },
    {
      "cell_type": "markdown",
      "metadata": {
        "id": "kWWO7591yuQl"
      },
      "source": []
    },
    {
      "cell_type": "code",
      "execution_count": 80,
      "metadata": {
        "id": "Kfc14x1Mz_6k"
      },
      "outputs": [
        {
          "data": {
            "text/html": [
              "<div>\n",
              "<style scoped>\n",
              "    .dataframe tbody tr th:only-of-type {\n",
              "        vertical-align: middle;\n",
              "    }\n",
              "\n",
              "    .dataframe tbody tr th {\n",
              "        vertical-align: top;\n",
              "    }\n",
              "\n",
              "    .dataframe thead th {\n",
              "        text-align: right;\n",
              "    }\n",
              "</style>\n",
              "<table border=\"1\" class=\"dataframe\">\n",
              "  <thead>\n",
              "    <tr style=\"text-align: right;\">\n",
              "      <th></th>\n",
              "      <th>CD_ORGAO</th>\n",
              "      <th>NM_ORGAO</th>\n",
              "      <th>NR_LICITACAO</th>\n",
              "      <th>CD_TIPO_MODALIDADE</th>\n",
              "      <th>DS_OBJETO</th>\n",
              "      <th>VL_LICITACAO</th>\n",
              "      <th>DS_OBJETO_TOKEN</th>\n",
              "    </tr>\n",
              "  </thead>\n",
              "  <tbody>\n",
              "    <tr>\n",
              "      <th>0</th>\n",
              "      <td>53100</td>\n",
              "      <td>PM DE NOVA PALMA</td>\n",
              "      <td>1.0</td>\n",
              "      <td>TMP</td>\n",
              "      <td>CONTRATAÇÃO GLOBAL DE EMPRESA PARA CONSTRUÇÃO ...</td>\n",
              "      <td>259765.0</td>\n",
              "      <td>[contratação, global, empresa, construção, par...</td>\n",
              "    </tr>\n",
              "    <tr>\n",
              "      <th>1</th>\n",
              "      <td>86800</td>\n",
              "      <td>PM DE BOA VISTA DO SUL</td>\n",
              "      <td>2.0</td>\n",
              "      <td>PRP</td>\n",
              "      <td>Contratação de empresa para prestação de servi...</td>\n",
              "      <td>390625.0</td>\n",
              "      <td>[contratação, empresa, prestação, serviços, tr...</td>\n",
              "    </tr>\n",
              "    <tr>\n",
              "      <th>2</th>\n",
              "      <td>45003</td>\n",
              "      <td>SERVIÇO AUTÔN. MUN. DE ÁGUA E ESGOTO - CX.SUL</td>\n",
              "      <td>46.0</td>\n",
              "      <td>PRP</td>\n",
              "      <td>Aquisição de 80.000 (oitenta mil) quilogramas ...</td>\n",
              "      <td>833800.0</td>\n",
              "      <td>[aquisição, oitenta, mil, quilogramas, ortopol...</td>\n",
              "    </tr>\n",
              "  </tbody>\n",
              "</table>\n",
              "</div>"
            ],
            "text/plain": [
              "   CD_ORGAO                                       NM_ORGAO  NR_LICITACAO  \\\n",
              "0     53100                               PM DE NOVA PALMA           1.0   \n",
              "1     86800                         PM DE BOA VISTA DO SUL           2.0   \n",
              "2     45003  SERVIÇO AUTÔN. MUN. DE ÁGUA E ESGOTO - CX.SUL          46.0   \n",
              "\n",
              "  CD_TIPO_MODALIDADE                                          DS_OBJETO  \\\n",
              "0                TMP  CONTRATAÇÃO GLOBAL DE EMPRESA PARA CONSTRUÇÃO ...   \n",
              "1                PRP  Contratação de empresa para prestação de servi...   \n",
              "2                PRP  Aquisição de 80.000 (oitenta mil) quilogramas ...   \n",
              "\n",
              "   VL_LICITACAO                                    DS_OBJETO_TOKEN  \n",
              "0      259765.0  [contratação, global, empresa, construção, par...  \n",
              "1      390625.0  [contratação, empresa, prestação, serviços, tr...  \n",
              "2      833800.0  [aquisição, oitenta, mil, quilogramas, ortopol...  "
            ]
          },
          "execution_count": 80,
          "metadata": {},
          "output_type": "execute_result"
        }
      ],
      "source": [
        "licitacao_21.head(3) #retirar os (), depois?"
      ]
    },
    {
      "cell_type": "code",
      "execution_count": 81,
      "metadata": {},
      "outputs": [
        {
          "data": {
            "text/html": [
              "<div>\n",
              "<style scoped>\n",
              "    .dataframe tbody tr th:only-of-type {\n",
              "        vertical-align: middle;\n",
              "    }\n",
              "\n",
              "    .dataframe tbody tr th {\n",
              "        vertical-align: top;\n",
              "    }\n",
              "\n",
              "    .dataframe thead th {\n",
              "        text-align: right;\n",
              "    }\n",
              "</style>\n",
              "<table border=\"1\" class=\"dataframe\">\n",
              "  <thead>\n",
              "    <tr style=\"text-align: right;\">\n",
              "      <th></th>\n",
              "      <th>CD_ORGAO</th>\n",
              "      <th>NR_LICITACAO</th>\n",
              "      <th>ANO_LICITACAO</th>\n",
              "      <th>CD_TIPO_MODALIDADE</th>\n",
              "      <th>NR_LOTE</th>\n",
              "      <th>NR_ITEM</th>\n",
              "      <th>NR_ITEM_ORIGINAL</th>\n",
              "      <th>DS_ITEM</th>\n",
              "      <th>QT_ITENS</th>\n",
              "      <th>SG_UNIDADE_MEDIDA</th>\n",
              "      <th>VL_UNITARIO_ESTIMADO</th>\n",
              "      <th>VL_TOTAL_ESTIMADO</th>\n",
              "      <th>DS_ITEM_TOKEN</th>\n",
              "    </tr>\n",
              "  </thead>\n",
              "  <tbody>\n",
              "    <tr>\n",
              "      <th>0</th>\n",
              "      <td>44500</td>\n",
              "      <td>274.0</td>\n",
              "      <td>2021</td>\n",
              "      <td>CPC</td>\n",
              "      <td>1</td>\n",
              "      <td>1</td>\n",
              "      <td>1</td>\n",
              "      <td>Credenciamento de academias de ginástica e mus...</td>\n",
              "      <td>1</td>\n",
              "      <td>UN</td>\n",
              "      <td>50.00</td>\n",
              "      <td>50.00</td>\n",
              "      <td>[credenciamento, academias, ginástica, muscula...</td>\n",
              "    </tr>\n",
              "    <tr>\n",
              "      <th>1</th>\n",
              "      <td>56900</td>\n",
              "      <td>25.0</td>\n",
              "      <td>2021</td>\n",
              "      <td>TMP</td>\n",
              "      <td>1</td>\n",
              "      <td>1</td>\n",
              "      <td>1.1</td>\n",
              "      <td>PLACA DE OBRA (PARA CONSTRUCAO CIVIL) EM CHAPA...</td>\n",
              "      <td>6</td>\n",
              "      <td>M2</td>\n",
              "      <td>272.49</td>\n",
              "      <td>1634.94</td>\n",
              "      <td>[placa, obra, construcao, civil, chapa, galvan...</td>\n",
              "    </tr>\n",
              "    <tr>\n",
              "      <th>2</th>\n",
              "      <td>56900</td>\n",
              "      <td>25.0</td>\n",
              "      <td>2021</td>\n",
              "      <td>TMP</td>\n",
              "      <td>1</td>\n",
              "      <td>2</td>\n",
              "      <td>1.2</td>\n",
              "      <td>TAPUME COM COMPENSADO DE MADEIRA. AF_05/2018</td>\n",
              "      <td>71</td>\n",
              "      <td>M2</td>\n",
              "      <td>128.69</td>\n",
              "      <td>9136.99</td>\n",
              "      <td>[tapume, compensado, madeira, af, _]</td>\n",
              "    </tr>\n",
              "  </tbody>\n",
              "</table>\n",
              "</div>"
            ],
            "text/plain": [
              "   CD_ORGAO  NR_LICITACAO  ANO_LICITACAO CD_TIPO_MODALIDADE  NR_LOTE  NR_ITEM  \\\n",
              "0     44500         274.0           2021                CPC        1        1   \n",
              "1     56900          25.0           2021                TMP        1        1   \n",
              "2     56900          25.0           2021                TMP        1        2   \n",
              "\n",
              "  NR_ITEM_ORIGINAL                                            DS_ITEM  \\\n",
              "0                1  Credenciamento de academias de ginástica e mus...   \n",
              "1             1.1   PLACA DE OBRA (PARA CONSTRUCAO CIVIL) EM CHAPA...   \n",
              "2             1.2        TAPUME COM COMPENSADO DE MADEIRA. AF_05/2018   \n",
              "\n",
              "  QT_ITENS SG_UNIDADE_MEDIDA  VL_UNITARIO_ESTIMADO  VL_TOTAL_ESTIMADO  \\\n",
              "0        1                UN                 50.00              50.00   \n",
              "1        6                M2                272.49            1634.94   \n",
              "2       71                M2                128.69            9136.99   \n",
              "\n",
              "                                       DS_ITEM_TOKEN  \n",
              "0  [credenciamento, academias, ginástica, muscula...  \n",
              "1  [placa, obra, construcao, civil, chapa, galvan...  \n",
              "2               [tapume, compensado, madeira, af, _]  "
            ]
          },
          "execution_count": 81,
          "metadata": {},
          "output_type": "execute_result"
        }
      ],
      "source": [
        "item_licitacao.head(3)"
      ]
    },
    {
      "cell_type": "code",
      "execution_count": 6,
      "metadata": {},
      "outputs": [
        {
          "name": "stderr",
          "output_type": "stream",
          "text": [
            "/Users/ionasantana/opt/anaconda3/envs/nlp_course/lib/python3.7/site-packages/IPython/core/interactiveshell.py:3173: DtypeWarning: Columns (9) have mixed types. Specify dtype option on import or set low_memory=False.\n",
            "  interactivity=interactivity, compiler=compiler, result=result)\n"
          ]
        }
      ],
      "source": [
        "licitacao_21 = pd.read_csv('/Users/ionasantana/Documents/GitHub/Artificial-Intelligence/Projects/NLP/licitacao_21_token.csv')\n",
        "item_licitacao = pd.read_csv('/Users/ionasantana/Documents/GitHub/Artificial-Intelligence/Projects/NLP/item_licitacao_token.csv')"
      ]
    },
    {
      "cell_type": "code",
      "execution_count": 7,
      "metadata": {},
      "outputs": [],
      "source": [
        "from sklearn.feature_extraction.text import CountVectorizer"
      ]
    },
    {
      "cell_type": "code",
      "execution_count": 8,
      "metadata": {},
      "outputs": [],
      "source": [
        "import gensim\n",
        "import gensim.corpora as corpora\n",
        "from gensim.utils import simple_preprocess\n",
        "from gensim.models import CoherenceModel\n",
        "from gensim.models.doc2vec import Doc2Vec, TaggedDocument"
      ]
    },
    {
      "cell_type": "code",
      "execution_count": 10,
      "metadata": {},
      "outputs": [
        {
          "data": {
            "text/plain": [
              "Index(['Unnamed: 0', 'CD_ORGAO', 'NR_LICITACAO', 'ANO_LICITACAO',\n",
              "       'CD_TIPO_MODALIDADE', 'NR_LOTE', 'NR_ITEM', 'NR_ITEM_ORIGINAL',\n",
              "       'DS_ITEM', 'QT_ITENS', 'SG_UNIDADE_MEDIDA', 'VL_UNITARIO_ESTIMADO',\n",
              "       'VL_TOTAL_ESTIMADO', 'DS_ITEM_TOKEN'],\n",
              "      dtype='object')"
            ]
          },
          "execution_count": 10,
          "metadata": {},
          "output_type": "execute_result"
        }
      ],
      "source": [
        "item_licitacao.columns"
      ]
    },
    {
      "cell_type": "code",
      "execution_count": 17,
      "metadata": {},
      "outputs": [],
      "source": [
        "lic= [d.split() for d in item_licitacao['DS_ITEM_TOKEN']]\n"
      ]
    },
    {
      "cell_type": "code",
      "execution_count": 18,
      "metadata": {},
      "outputs": [],
      "source": [
        "id2word = corpora.Dictionary(lic)"
      ]
    },
    {
      "cell_type": "code",
      "execution_count": 19,
      "metadata": {},
      "outputs": [],
      "source": [
        "texts = item_licitacao['DS_ITEM_TOKEN']"
      ]
    },
    {
      "cell_type": "code",
      "execution_count": 21,
      "metadata": {},
      "outputs": [
        {
          "name": "stdout",
          "output_type": "stream",
          "text": [
            "[[(0, 1), (1, 1), (2, 1), (3, 1), (4, 1), (5, 1), (6, 2), (7, 1), (8, 1), (9, 1), (10, 1), (11, 1), (12, 3), (13, 1), (14, 1), (15, 1), (16, 1), (17, 1), (18, 1), (19, 1), (20, 1)]]\n"
          ]
        }
      ],
      "source": [
        "corpus = [id2word.doc2bow(text.split()) for text in texts]\n",
        "\n",
        "# Visualização\n",
        "print(corpus[:1])"
      ]
    },
    {
      "cell_type": "code",
      "execution_count": 22,
      "metadata": {},
      "outputs": [
        {
          "data": {
            "text/plain": [
              "[[(\"'academias',\", 1),\n",
              "  (\"'cada',\", 1),\n",
              "  (\"'canoas',\", 1),\n",
              "  (\"'credenciado',\", 1),\n",
              "  (\"'desembolsado',\", 1),\n",
              "  (\"'escolhido',\", 1),\n",
              "  (\"'estabelecimento',\", 2),\n",
              "  (\"'exercícios',\", 1),\n",
              "  (\"'físicos',\", 1),\n",
              "  (\"'ginástica',\", 1),\n",
              "  (\"'matriculado',\", 1),\n",
              "  (\"'ministrem',\", 1),\n",
              "  (\"'município',\", 3),\n",
              "  (\"'musculação',\", 1),\n",
              "  (\"'outro',\", 1),\n",
              "  (\"'r',\", 1),\n",
              "  (\"'servidor',\", 1),\n",
              "  (\"'servidor']\", 1),\n",
              "  (\"'valor',\", 1),\n",
              "  (\"'âmbito',\", 1),\n",
              "  (\"['credenciamento',\", 1)]]"
            ]
          },
          "execution_count": 22,
          "metadata": {},
          "output_type": "execute_result"
        }
      ],
      "source": [
        "# Corpus num formado simplificado (term-frequency)\n",
        "[[(id2word[id], freq) for id, freq in cp] for cp in corpus[:1]]"
      ]
    },
    {
      "cell_type": "code",
      "execution_count": 101,
      "metadata": {},
      "outputs": [],
      "source": [
        "from sklearn.decomposition import LatentDirichletAllocation"
      ]
    },
    {
      "cell_type": "code",
      "execution_count": 102,
      "metadata": {},
      "outputs": [],
      "source": [
        "LDA = LatentDirichletAllocation(n_components=7,random_state=42)"
      ]
    },
    {
      "cell_type": "markdown",
      "metadata": {
        "id": "FOSSM37b0A7l"
      },
      "source": [
        "### Análise dos dados"
      ]
    },
    {
      "cell_type": "code",
      "execution_count": null,
      "metadata": {
        "id": "Xg3Nzylk0NLC"
      },
      "outputs": [],
      "source": []
    },
    {
      "cell_type": "markdown",
      "metadata": {
        "id": "I4aiEJg60NcS"
      },
      "source": [
        "### Conclusão"
      ]
    },
    {
      "cell_type": "markdown",
      "metadata": {
        "id": "LQmt32LkNuEB"
      },
      "source": [
        "Quais foram as áreas com maiores investimentos?"
      ]
    },
    {
      "cell_type": "markdown",
      "metadata": {
        "id": "eLjYwovDN6Qm"
      },
      "source": [
        "E quais foram os principais itens licitados nelas?"
      ]
    },
    {
      "cell_type": "code",
      "execution_count": null,
      "metadata": {
        "id": "SIob_MW7NtkJ"
      },
      "outputs": [],
      "source": []
    }
  ],
  "metadata": {
    "colab": {
      "collapsed_sections": [],
      "name": "Maiores_investimentos_licitações.ipynb",
      "provenance": []
    },
    "kernelspec": {
      "display_name": "Python 3",
      "name": "python3"
    },
    "language_info": {
      "codemirror_mode": {
        "name": "ipython",
        "version": 3
      },
      "file_extension": ".py",
      "mimetype": "text/x-python",
      "name": "python",
      "nbconvert_exporter": "python",
      "pygments_lexer": "ipython3",
      "version": "3.7.11"
    }
  },
  "nbformat": 4,
  "nbformat_minor": 0
}
