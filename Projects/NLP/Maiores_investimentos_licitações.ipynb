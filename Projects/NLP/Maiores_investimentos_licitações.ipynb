{
  "nbformat": 4,
  "nbformat_minor": 0,
  "metadata": {
    "colab": {
      "name": "Maiores_investimentos_licitações.ipynb",
      "provenance": [],
      "collapsed_sections": [],
      "authorship_tag": "ABX9TyOsPN8O9X6/aJoq3UZnCX5F",
      "include_colab_link": true
    },
    "kernelspec": {
      "name": "python3",
      "display_name": "Python 3"
    },
    "language_info": {
      "name": "python"
    }
  },
  "cells": [
    {
      "cell_type": "markdown",
      "metadata": {
        "id": "view-in-github",
        "colab_type": "text"
      },
      "source": [
        "<a href=\"https://colab.research.google.com/github/IonaSantana/Artificial-Intelligence/blob/main/Projects/NLP/Maiores_investimentos_licita%C3%A7%C3%B5es.ipynb\" target=\"_parent\"><img src=\"https://colab.research.google.com/assets/colab-badge.svg\" alt=\"Open In Colab\"/></a>"
      ]
    },
    {
      "cell_type": "markdown",
      "source": [
        "### Situação:"
      ],
      "metadata": {
        "id": "uu7G0Zsyq9Kk"
      }
    },
    {
      "cell_type": "markdown",
      "source": [
        "Usando os dados das licitações do ano de 2021, no Rio Grande do Sul, tentar fazer uma análise dos principais itens licitados e das áreas que receberam maior investimento por meio de licitações\n",
        "\n",
        "Link: http://dados.tce.rs.gov.br/dataset?groups=licitacoes&q=consolidado"
      ],
      "metadata": {
        "id": "SfinOPAFqUe2"
      }
    },
    {
      "cell_type": "markdown",
      "source": [
        "### Imports"
      ],
      "metadata": {
        "id": "JTFTbZhEuQPx"
      }
    },
    {
      "cell_type": "code",
      "source": [
        "import pandas as pd\n",
        "import numpy as np\n",
        "import os\n",
        "import matplotlib.pyplot as plt\n",
        "%matplotlib inline"
      ],
      "metadata": {
        "id": "cJ4hoz1kuPFM"
      },
      "execution_count": 8,
      "outputs": []
    },
    {
      "cell_type": "code",
      "source": [
        "from google.colab import drive\n",
        "drive.mount('/content/drive')"
      ],
      "metadata": {
        "colab": {
          "base_uri": "https://localhost:8080/"
        },
        "id": "o1E347J4x2j4",
        "outputId": "fc5f4378-aa75-4164-8979-420ccc6f9d34"
      },
      "execution_count": 9,
      "outputs": [
        {
          "output_type": "stream",
          "name": "stdout",
          "text": [
            "Drive already mounted at /content/drive; to attempt to forcibly remount, call drive.mount(\"/content/drive\", force_remount=True).\n"
          ]
        }
      ]
    },
    {
      "cell_type": "code",
      "source": [
        "files = os.listdir('/content/drive/MyDrive/NLP/2021')"
      ],
      "metadata": {
        "id": "tYzY7cd_5jV5"
      },
      "execution_count": 10,
      "outputs": []
    },
    {
      "cell_type": "code",
      "source": [
        "files"
      ],
      "metadata": {
        "colab": {
          "base_uri": "https://localhost:8080/"
        },
        "id": "Whx_M0EU5tlG",
        "outputId": "7a9a1ab2-6b3c-4e6a-bc09-440eb4e8a1b7"
      },
      "execution_count": 11,
      "outputs": [
        {
          "output_type": "execute_result",
          "data": {
            "text/plain": [
              "['pessoas.csv',\n",
              " 'membrocons.csv',\n",
              " 'comissao.csv',\n",
              " 'memcomissao.csv',\n",
              " 'licitacao.csv',\n",
              " 'licitante.csv',\n",
              " 'dotacao_lic.csv',\n",
              " 'evento_lic.csv',\n",
              " 'documento_lic.csv',\n",
              " 'lote.csv',\n",
              " 'item.csv',\n",
              " 'proposta.csv',\n",
              " 'lote_prop.csv',\n",
              " 'item_prop.csv']"
            ]
          },
          "metadata": {},
          "execution_count": 11
        }
      ]
    },
    {
      "cell_type": "markdown",
      "source": [
        "licitacao = pd.read_csv('/content/drive/MyDrive/NLP/2021/' + files[4])\n",
        "item = pd.read_csv('/content/drive/MyDrive/NLP/2021/' + files[10])"
      ],
      "metadata": {
        "id": "Z_0eqBKqcOad"
      }
    },
    {
      "cell_type": "markdown",
      "source": [
        "### Testes"
      ],
      "metadata": {
        "id": "P2ujkyW0cEiA"
      }
    },
    {
      "cell_type": "code",
      "source": [
        "# pessoas = pd.read_csv('/content/drive/MyDrive/NLP/2021/' + files[0])\n",
        "# membrocons = pd.read_csv('/content/drive/MyDrive/NLP/2021/' + files[1])\n",
        "# comissao = pd.read_csv('/content/drive/MyDrive/NLP/2021/' + files[2])\n",
        "# memcomissao = pd.read_csv('/content/drive/MyDrive/NLP/2021/' + files[3])\n",
        "\n",
        "# licitante = pd.read_csv('/content/drive/MyDrive/NLP/2021/' + files[5])\n",
        "# dotacao_lic = pd.read_csv('/content/drive/MyDrive/NLP/2021/' + files[6])\n",
        "# evento_lic = pd.read_csv('/content/drive/MyDrive/NLP/2021/' + files[7])\n",
        "# documento_lic = pd.read_csv('/content/drive/MyDrive/NLP/2021/' + files[8])\n",
        "# lote = pd.read_csv('/content/drive/MyDrive/NLP/2021/' + files[9])\n",
        "\n",
        "# proposta = pd.read_csv('/content/drive/MyDrive/NLP/2021/' + files[11])\n",
        "# lote_prop = pd.read_csv('/content/drive/MyDrive/NLP/2021/' + files[12])\n",
        "# item_prop = pd.read_csv('/content/drive/MyDrive/NLP/2021/' + files[13])\n",
        "\n",
        "#Testes\n",
        "# pessoas.head(3)\n",
        "# # pessoas.shape # 727385\n",
        "# # pessoas.isna().sum()\n",
        "# membrocons.head(3)\n",
        "# # membrocons.shape # 377\n",
        "# # membrocons.isna().sum()\n",
        "# comissao.head(3)\n",
        "# # comissao.shape # 13243\n",
        "# # comissao.isna().sum()\n",
        "# memcomissao.head(3)\n",
        "# # memcomissao.shape # 68528\n",
        "# # memcomissao.isna().sum()\n",
        "# licitante.head(3) # que ou quem faz o lance ou oferta de compra pelo preço que indica;\n",
        "# # licitante.shape # 147454\n",
        "# # licitante.isna().sum()\n",
        "# licitante['TP_RESULTADO_HABILITACAO'].unique()\n",
        "# dotacao_lic.head(3)\n",
        "# # dotacao_lic.shape # 123371\n",
        "# # dotacao_lic.isna().sum()\n",
        "# # evento_lic.head(3)\n",
        "# # evento_lic.shape # 252892\n",
        "# # evento_lic.isna().sum()\n",
        "# proposta.head(3)\n",
        "# # proposta.shape # 147454\n",
        "# # proposta.isna().sum()\n",
        "# lote_prop.head(3)\n",
        "# # lote_prop.shape # 308350\n",
        "# # lote_prop.isna().sum()\n",
        "# item_prop.head(3)\n",
        "# # item_prop.shape # 2039001\n",
        "# # item_prop.isna().sum()\n",
        "# # aux = item_prop[item_prop['DT_HOMOLOGACAO'] == '0001-01-01'] #Hum?\n",
        "# # aux['VL_TOTAL_ITEM'].sum() #286.736.736"
      ],
      "metadata": {
        "id": "YZ9fAFKz8Ga9"
      },
      "execution_count": 102,
      "outputs": []
    },
    {
      "cell_type": "markdown",
      "source": [
        "### Pré-processamento"
      ],
      "metadata": {
        "id": "RBGu3lHxumUV"
      }
    },
    {
      "cell_type": "code",
      "source": [
        "# licitacao.shape # 92192, 63\n",
        "cols = ['CD_ORGAO', 'NM_ORGAO', 'NR_LICITACAO', 'CD_TIPO_MODALIDADE','DS_OBJETO', 'VL_LICITACAO']\n",
        "# como o valor homologado tem 59951 valores nulos, foi retirada essa coluna\n",
        "licitacao_21 = licitacao[cols]\n",
        "licitacao_21 = licitacao_21.dropna()"
      ],
      "metadata": {
        "id": "UIIZNLXs9M-a"
      },
      "execution_count": 114,
      "outputs": []
    },
    {
      "cell_type": "code",
      "source": [
        "len(licitacao_21[licitacao_21['CD_ORGAO'] == 44500])"
      ],
      "metadata": {
        "colab": {
          "base_uri": "https://localhost:8080/"
        },
        "id": "83l6z7n0hYqf",
        "outputId": "0827e475-3d96-4c10-ab8c-559daa82f1e4"
      },
      "execution_count": 118,
      "outputs": [
        {
          "output_type": "execute_result",
          "data": {
            "text/plain": [
              "264"
            ]
          },
          "metadata": {},
          "execution_count": 118
        }
      ]
    },
    {
      "cell_type": "code",
      "source": [
        "item.head(3)\n",
        "# item.shape # 972247\n",
        "# item.isna().sum()\n",
        "# len(item[item['BL_COVID19'] == 'S']) #11432"
      ],
      "metadata": {
        "colab": {
          "base_uri": "https://localhost:8080/",
          "height": 381
        },
        "id": "x8R4Y7eD9UTI",
        "outputId": "a960c49a-8c7b-47e6-81af-d223f8c8a53a"
      },
      "execution_count": 89,
      "outputs": [
        {
          "output_type": "execute_result",
          "data": {
            "text/html": [
              "\n",
              "  <div id=\"df-5f3f737e-34cd-420e-adef-b723b88a3451\">\n",
              "    <div class=\"colab-df-container\">\n",
              "      <div>\n",
              "<style scoped>\n",
              "    .dataframe tbody tr th:only-of-type {\n",
              "        vertical-align: middle;\n",
              "    }\n",
              "\n",
              "    .dataframe tbody tr th {\n",
              "        vertical-align: top;\n",
              "    }\n",
              "\n",
              "    .dataframe thead th {\n",
              "        text-align: right;\n",
              "    }\n",
              "</style>\n",
              "<table border=\"1\" class=\"dataframe\">\n",
              "  <thead>\n",
              "    <tr style=\"text-align: right;\">\n",
              "      <th></th>\n",
              "      <th>CD_ORGAO</th>\n",
              "      <th>NR_LICITACAO</th>\n",
              "      <th>ANO_LICITACAO</th>\n",
              "      <th>CD_TIPO_MODALIDADE</th>\n",
              "      <th>NR_LOTE</th>\n",
              "      <th>NR_ITEM</th>\n",
              "      <th>NR_ITEM_ORIGINAL</th>\n",
              "      <th>DS_ITEM</th>\n",
              "      <th>QT_ITENS</th>\n",
              "      <th>SG_UNIDADE_MEDIDA</th>\n",
              "      <th>VL_UNITARIO_ESTIMADO</th>\n",
              "      <th>VL_TOTAL_ESTIMADO</th>\n",
              "      <th>DT_REF_VALOR_ESTIMADO</th>\n",
              "      <th>PC_BDI_ESTIMADO</th>\n",
              "      <th>PC_ENCARGOS_SOCIAIS_ESTIMADO</th>\n",
              "      <th>CD_FONTE_REFERENCIA</th>\n",
              "      <th>DS_FONTE_REFERENCIA</th>\n",
              "      <th>TP_RESULTADO_ITEM</th>\n",
              "      <th>VL_UNITARIO_HOMOLOGADO</th>\n",
              "      <th>VL_TOTAL_HOMOLOGADO</th>\n",
              "      <th>PC_BDI_HOMOLOGADO</th>\n",
              "      <th>PC_ENCARGOS_SOCIAIS_HOMOLOGADO</th>\n",
              "      <th>TP_ORCAMENTO</th>\n",
              "      <th>CD_TIPO_FAMILIA</th>\n",
              "      <th>CD_TIPO_SUBFAMILIA</th>\n",
              "      <th>TP_DOCUMENTO</th>\n",
              "      <th>NR_DOCUMENTO</th>\n",
              "      <th>TP_DOCUMENTO.1</th>\n",
              "      <th>NR_DOCUMENTO.1</th>\n",
              "      <th>TP_BENEFICIO_MICRO_EPP</th>\n",
              "      <th>PC_TX_ESTIMADA</th>\n",
              "      <th>PC_TX_HOMOLOGADA</th>\n",
              "      <th>BL_COVID19</th>\n",
              "    </tr>\n",
              "  </thead>\n",
              "  <tbody>\n",
              "    <tr>\n",
              "      <th>0</th>\n",
              "      <td>44500</td>\n",
              "      <td>274.0</td>\n",
              "      <td>2021</td>\n",
              "      <td>CPC</td>\n",
              "      <td>1</td>\n",
              "      <td>1</td>\n",
              "      <td>1</td>\n",
              "      <td>Credenciamento de academias de ginástica e mus...</td>\n",
              "      <td>1</td>\n",
              "      <td>UN</td>\n",
              "      <td>50.00</td>\n",
              "      <td>50.00</td>\n",
              "      <td>NaN</td>\n",
              "      <td>NaN</td>\n",
              "      <td>NaN</td>\n",
              "      <td>NaN</td>\n",
              "      <td>NaN</td>\n",
              "      <td>NaN</td>\n",
              "      <td>NaN</td>\n",
              "      <td>NaN</td>\n",
              "      <td>NaN</td>\n",
              "      <td>NaN</td>\n",
              "      <td>NaN</td>\n",
              "      <td>NaN</td>\n",
              "      <td>NaN</td>\n",
              "      <td>NaN</td>\n",
              "      <td>NaN</td>\n",
              "      <td>NaN</td>\n",
              "      <td>NaN</td>\n",
              "      <td>NaN</td>\n",
              "      <td>NaN</td>\n",
              "      <td>NaN</td>\n",
              "      <td>N</td>\n",
              "    </tr>\n",
              "    <tr>\n",
              "      <th>1</th>\n",
              "      <td>56900</td>\n",
              "      <td>25.0</td>\n",
              "      <td>2021</td>\n",
              "      <td>TMP</td>\n",
              "      <td>1</td>\n",
              "      <td>1</td>\n",
              "      <td>1.1</td>\n",
              "      <td>PLACA DE OBRA (PARA CONSTRUCAO CIVIL) EM CHAPA...</td>\n",
              "      <td>6</td>\n",
              "      <td>M2</td>\n",
              "      <td>272.49</td>\n",
              "      <td>1634.94</td>\n",
              "      <td>2021-06-18</td>\n",
              "      <td>21.11</td>\n",
              "      <td>111.1</td>\n",
              "      <td>00004813</td>\n",
              "      <td>SINAPI</td>\n",
              "      <td>NaN</td>\n",
              "      <td>NaN</td>\n",
              "      <td>NaN</td>\n",
              "      <td>NaN</td>\n",
              "      <td>NaN</td>\n",
              "      <td>NaN</td>\n",
              "      <td>NaN</td>\n",
              "      <td>NaN</td>\n",
              "      <td>NaN</td>\n",
              "      <td>NaN</td>\n",
              "      <td>NaN</td>\n",
              "      <td>NaN</td>\n",
              "      <td>NaN</td>\n",
              "      <td>NaN</td>\n",
              "      <td>NaN</td>\n",
              "      <td>N</td>\n",
              "    </tr>\n",
              "    <tr>\n",
              "      <th>2</th>\n",
              "      <td>56900</td>\n",
              "      <td>25.0</td>\n",
              "      <td>2021</td>\n",
              "      <td>TMP</td>\n",
              "      <td>1</td>\n",
              "      <td>2</td>\n",
              "      <td>1.2</td>\n",
              "      <td>TAPUME COM COMPENSADO DE MADEIRA. AF_05/2018</td>\n",
              "      <td>71</td>\n",
              "      <td>M2</td>\n",
              "      <td>128.69</td>\n",
              "      <td>9136.99</td>\n",
              "      <td>2021-06-18</td>\n",
              "      <td>21.11</td>\n",
              "      <td>111.1</td>\n",
              "      <td>98458</td>\n",
              "      <td>SINAPI</td>\n",
              "      <td>NaN</td>\n",
              "      <td>NaN</td>\n",
              "      <td>NaN</td>\n",
              "      <td>NaN</td>\n",
              "      <td>NaN</td>\n",
              "      <td>NaN</td>\n",
              "      <td>NaN</td>\n",
              "      <td>NaN</td>\n",
              "      <td>NaN</td>\n",
              "      <td>NaN</td>\n",
              "      <td>NaN</td>\n",
              "      <td>NaN</td>\n",
              "      <td>NaN</td>\n",
              "      <td>NaN</td>\n",
              "      <td>NaN</td>\n",
              "      <td>N</td>\n",
              "    </tr>\n",
              "  </tbody>\n",
              "</table>\n",
              "</div>\n",
              "      <button class=\"colab-df-convert\" onclick=\"convertToInteractive('df-5f3f737e-34cd-420e-adef-b723b88a3451')\"\n",
              "              title=\"Convert this dataframe to an interactive table.\"\n",
              "              style=\"display:none;\">\n",
              "        \n",
              "  <svg xmlns=\"http://www.w3.org/2000/svg\" height=\"24px\"viewBox=\"0 0 24 24\"\n",
              "       width=\"24px\">\n",
              "    <path d=\"M0 0h24v24H0V0z\" fill=\"none\"/>\n",
              "    <path d=\"M18.56 5.44l.94 2.06.94-2.06 2.06-.94-2.06-.94-.94-2.06-.94 2.06-2.06.94zm-11 1L8.5 8.5l.94-2.06 2.06-.94-2.06-.94L8.5 2.5l-.94 2.06-2.06.94zm10 10l.94 2.06.94-2.06 2.06-.94-2.06-.94-.94-2.06-.94 2.06-2.06.94z\"/><path d=\"M17.41 7.96l-1.37-1.37c-.4-.4-.92-.59-1.43-.59-.52 0-1.04.2-1.43.59L10.3 9.45l-7.72 7.72c-.78.78-.78 2.05 0 2.83L4 21.41c.39.39.9.59 1.41.59.51 0 1.02-.2 1.41-.59l7.78-7.78 2.81-2.81c.8-.78.8-2.07 0-2.86zM5.41 20L4 18.59l7.72-7.72 1.47 1.35L5.41 20z\"/>\n",
              "  </svg>\n",
              "      </button>\n",
              "      \n",
              "  <style>\n",
              "    .colab-df-container {\n",
              "      display:flex;\n",
              "      flex-wrap:wrap;\n",
              "      gap: 12px;\n",
              "    }\n",
              "\n",
              "    .colab-df-convert {\n",
              "      background-color: #E8F0FE;\n",
              "      border: none;\n",
              "      border-radius: 50%;\n",
              "      cursor: pointer;\n",
              "      display: none;\n",
              "      fill: #1967D2;\n",
              "      height: 32px;\n",
              "      padding: 0 0 0 0;\n",
              "      width: 32px;\n",
              "    }\n",
              "\n",
              "    .colab-df-convert:hover {\n",
              "      background-color: #E2EBFA;\n",
              "      box-shadow: 0px 1px 2px rgba(60, 64, 67, 0.3), 0px 1px 3px 1px rgba(60, 64, 67, 0.15);\n",
              "      fill: #174EA6;\n",
              "    }\n",
              "\n",
              "    [theme=dark] .colab-df-convert {\n",
              "      background-color: #3B4455;\n",
              "      fill: #D2E3FC;\n",
              "    }\n",
              "\n",
              "    [theme=dark] .colab-df-convert:hover {\n",
              "      background-color: #434B5C;\n",
              "      box-shadow: 0px 1px 3px 1px rgba(0, 0, 0, 0.15);\n",
              "      filter: drop-shadow(0px 1px 2px rgba(0, 0, 0, 0.3));\n",
              "      fill: #FFFFFF;\n",
              "    }\n",
              "  </style>\n",
              "\n",
              "      <script>\n",
              "        const buttonEl =\n",
              "          document.querySelector('#df-5f3f737e-34cd-420e-adef-b723b88a3451 button.colab-df-convert');\n",
              "        buttonEl.style.display =\n",
              "          google.colab.kernel.accessAllowed ? 'block' : 'none';\n",
              "\n",
              "        async function convertToInteractive(key) {\n",
              "          const element = document.querySelector('#df-5f3f737e-34cd-420e-adef-b723b88a3451');\n",
              "          const dataTable =\n",
              "            await google.colab.kernel.invokeFunction('convertToInteractive',\n",
              "                                                     [key], {});\n",
              "          if (!dataTable) return;\n",
              "\n",
              "          const docLinkHtml = 'Like what you see? Visit the ' +\n",
              "            '<a target=\"_blank\" href=https://colab.research.google.com/notebooks/data_table.ipynb>data table notebook</a>'\n",
              "            + ' to learn more about interactive tables.';\n",
              "          element.innerHTML = '';\n",
              "          dataTable['output_type'] = 'display_data';\n",
              "          await google.colab.output.renderOutput(dataTable, element);\n",
              "          const docLink = document.createElement('div');\n",
              "          docLink.innerHTML = docLinkHtml;\n",
              "          element.appendChild(docLink);\n",
              "        }\n",
              "      </script>\n",
              "    </div>\n",
              "  </div>\n",
              "  "
            ],
            "text/plain": [
              "   CD_ORGAO  NR_LICITACAO  ...  PC_TX_HOMOLOGADA BL_COVID19\n",
              "0     44500         274.0  ...               NaN          N\n",
              "1     56900          25.0  ...               NaN          N\n",
              "2     56900          25.0  ...               NaN          N\n",
              "\n",
              "[3 rows x 33 columns]"
            ]
          },
          "metadata": {},
          "execution_count": 89
        }
      ]
    },
    {
      "cell_type": "code",
      "source": [
        ""
      ],
      "metadata": {
        "id": "cEl7FJnOz5Jz"
      },
      "execution_count": null,
      "outputs": []
    },
    {
      "cell_type": "markdown",
      "source": [
        "### Construção dos modelos"
      ],
      "metadata": {
        "id": "9SaqqMLSz83K"
      }
    },
    {
      "cell_type": "code",
      "source": [
        ""
      ],
      "metadata": {
        "id": "Kfc14x1Mz_6k"
      },
      "execution_count": null,
      "outputs": []
    },
    {
      "cell_type": "markdown",
      "source": [
        "### Análise dos dados"
      ],
      "metadata": {
        "id": "FOSSM37b0A7l"
      }
    },
    {
      "cell_type": "code",
      "source": [
        ""
      ],
      "metadata": {
        "id": "Xg3Nzylk0NLC"
      },
      "execution_count": null,
      "outputs": []
    },
    {
      "cell_type": "markdown",
      "source": [
        "### Conclusão"
      ],
      "metadata": {
        "id": "I4aiEJg60NcS"
      }
    },
    {
      "cell_type": "markdown",
      "source": [
        "Quais foram as áreas com maiores investimentos?"
      ],
      "metadata": {
        "id": "LQmt32LkNuEB"
      }
    },
    {
      "cell_type": "markdown",
      "source": [
        "E quais foram os principais itens licitados nelas?"
      ],
      "metadata": {
        "id": "eLjYwovDN6Qm"
      }
    },
    {
      "cell_type": "code",
      "source": [
        ""
      ],
      "metadata": {
        "id": "SIob_MW7NtkJ"
      },
      "execution_count": null,
      "outputs": []
    }
  ]
}