{
  "cells": [
    {
      "cell_type": "markdown",
      "metadata": {
        "id": "view-in-github",
        "colab_type": "text"
      },
      "source": [
        "<a href=\"https://colab.research.google.com/github/IonaSantana/Artificial-Intelligence/blob/main/Projects/NLP/Maiores_investimentos_licitac%CC%A7o%CC%83es.ipynb\" target=\"_parent\"><img src=\"https://colab.research.google.com/assets/colab-badge.svg\" alt=\"Open In Colab\"/></a>"
      ]
    },
    {
      "cell_type": "markdown",
      "metadata": {
        "id": "uu7G0Zsyq9Kk"
      },
      "source": [
        "### Situação:"
      ]
    },
    {
      "cell_type": "markdown",
      "metadata": {
        "id": "SfinOPAFqUe2"
      },
      "source": [
        "Usando os dados das licitações do ano de 2021, no Rio Grande do Sul, fazer uma análise dos principais itens licitados e das áreas que receberam maior investimento por meio de licitações\n",
        "\n",
        "Link: http://dados.tce.rs.gov.br/dataset?groups=licitacoes&q=consolidado"
      ]
    },
    {
      "cell_type": "markdown",
      "metadata": {
        "id": "virQsZRzPuKQ"
      },
      "source": [
        "Referências:\n",
        "\n",
        "https://github.com/PatrickLdA/licitacoes-RS/blob/main/notebook.ipynb\n",
        "\n",
        "https://medium.com/somos-tera/como-modelar-t%C3%B3picos-atrav%C3%A9s-de-latent-dirichlet-allocation-lda-atrav%C3%A9s-da-biblioteca-gensim-1fa17357ad4b"
      ]
    },
    {
      "cell_type": "markdown",
      "metadata": {
        "id": "JTFTbZhEuQPx"
      },
      "source": [
        "### Imports"
      ]
    },
    {
      "cell_type": "code",
      "execution_count": 1,
      "metadata": {
        "id": "cJ4hoz1kuPFM"
      },
      "outputs": [],
      "source": [
        "import pandas as pd\n",
        "import numpy as np\n",
        "import os\n",
        "import matplotlib.pyplot as plt\n",
        "%matplotlib inline\n",
        "import warnings\n",
        "warnings.filterwarnings(\"ignore\")\n",
        "#\n",
        "import spacy \n",
        "import nltk"
      ]
    },
    {
      "cell_type": "code",
      "source": [
        "# Libs adicionais de NLP\n",
        "import spacy \n",
        "import nltk\n",
        "from sklearn.feature_extraction.text import CountVectorizer, TfidfVectorizer\n",
        "import re"
      ],
      "metadata": {
        "id": "SHUrVXwgTk2M"
      },
      "execution_count": 2,
      "outputs": []
    },
    {
      "cell_type": "code",
      "source": [
        "#!pip install -U pyLDAvis"
      ],
      "metadata": {
        "id": "jD5zC4FWaiJF"
      },
      "execution_count": 3,
      "outputs": []
    },
    {
      "cell_type": "code",
      "source": [
        "from sklearn.decomposition import LatentDirichletAllocation\n",
        "\n",
        "#gráficos \n",
        "import pyLDAvis\n",
        "import pyLDAvis.gensim_models"
      ],
      "metadata": {
        "colab": {
          "base_uri": "https://localhost:8080/"
        },
        "id": "gS9q7ZpcTrDj",
        "outputId": "2f93ef92-f42e-41e0-92cd-f43be035cb6e"
      },
      "execution_count": 4,
      "outputs": [
        {
          "output_type": "stream",
          "name": "stderr",
          "text": [
            "/usr/local/lib/python3.7/dist-packages/past/types/oldstr.py:5: DeprecationWarning: Using or importing the ABCs from 'collections' instead of from 'collections.abc' is deprecated since Python 3.3,and in 3.9 it will stop working\n",
            "  from collections import Iterable\n",
            "/usr/local/lib/python3.7/dist-packages/past/builtins/misc.py:4: DeprecationWarning: Using or importing the ABCs from 'collections' instead of from 'collections.abc' is deprecated since Python 3.3,and in 3.9 it will stop working\n",
            "  from collections import Mapping\n"
          ]
        }
      ]
    },
    {
      "cell_type": "code",
      "source": [
        "from sklearn.feature_extraction.text import CountVectorizer\n",
        "import gensim\n",
        "import gensim.corpora as corpora\n",
        "from gensim.utils import simple_preprocess\n",
        "from gensim.models import CoherenceModel\n",
        "from gensim.models.doc2vec import Doc2Vec, TaggedDocument\n",
        "from gensim.models.ldamulticore import LdaMulticore\n",
        "from tqdm import tqdm"
      ],
      "metadata": {
        "colab": {
          "base_uri": "https://localhost:8080/"
        },
        "id": "YK4a0zoxTbBw",
        "outputId": "835f7f02-fbc7-49ee-a3a1-f283e3c50cbe"
      },
      "execution_count": 5,
      "outputs": [
        {
          "output_type": "stream",
          "name": "stderr",
          "text": [
            "/usr/local/lib/python3.7/dist-packages/scipy/sparse/sparsetools.py:21: DeprecationWarning: `scipy.sparse.sparsetools` is deprecated!\n",
            "scipy.sparse.sparsetools is a private module for scipy.sparse, and should not be used.\n",
            "  _deprecated()\n"
          ]
        }
      ]
    },
    {
      "cell_type": "code",
      "source": [
        "import matplotlib.colors as mcolors\n",
        "%matplotlib inline\n",
        "from wordcloud import WordCloud, STOPWORDS"
      ],
      "metadata": {
        "id": "JT_iCIggUWFJ"
      },
      "execution_count": 6,
      "outputs": []
    },
    {
      "cell_type": "code",
      "source": [
        "from google.colab import drive\n",
        "drive.mount('/content/drive')"
      ],
      "metadata": {
        "colab": {
          "base_uri": "https://localhost:8080/"
        },
        "id": "Vsss-f5kP5Zl",
        "outputId": "fcf7fadb-4086-47b0-8ee6-fb86c349bd18"
      },
      "execution_count": 7,
      "outputs": [
        {
          "output_type": "stream",
          "name": "stdout",
          "text": [
            "Drive already mounted at /content/drive; to attempt to forcibly remount, call drive.mount(\"/content/drive\", force_remount=True).\n"
          ]
        }
      ]
    },
    {
      "cell_type": "markdown",
      "source": [
        "### Não precisa importar depois do pre-processamento"
      ],
      "metadata": {
        "id": "ndGGL_5OpOoQ"
      }
    },
    {
      "cell_type": "code",
      "execution_count": 7,
      "metadata": {
        "id": "tYzY7cd_5jV5"
      },
      "outputs": [],
      "source": [
        "files = os.listdir('/content/drive/MyDrive/NLP/2021')"
      ]
    },
    {
      "cell_type": "code",
      "execution_count": 8,
      "metadata": {
        "colab": {
          "base_uri": "https://localhost:8080/"
        },
        "id": "Whx_M0EU5tlG",
        "outputId": "f6d37bcf-afa4-4107-e21d-1e59aeee26d3"
      },
      "outputs": [
        {
          "output_type": "execute_result",
          "data": {
            "text/plain": [
              "['pessoas.csv',\n",
              " 'membrocons.csv',\n",
              " 'comissao.csv',\n",
              " 'memcomissao.csv',\n",
              " 'licitacao.csv',\n",
              " 'licitante.csv',\n",
              " 'dotacao_lic.csv',\n",
              " 'evento_lic.csv',\n",
              " 'documento_lic.csv',\n",
              " 'lote.csv',\n",
              " 'item.csv',\n",
              " 'proposta.csv',\n",
              " 'lote_prop.csv',\n",
              " 'item_prop.csv']"
            ]
          },
          "metadata": {},
          "execution_count": 8
        }
      ],
      "source": [
        "files"
      ]
    },
    {
      "cell_type": "code",
      "execution_count": 9,
      "metadata": {
        "id": "yOtGZh0fvKIE"
      },
      "outputs": [],
      "source": [
        "licitacao = pd.read_csv('/content/drive/MyDrive/NLP/2021/' + files[4])\n",
        "item = pd.read_csv('/content/drive/MyDrive/NLP/2021/' + files[10])"
      ]
    },
    {
      "cell_type": "markdown",
      "metadata": {
        "id": "RBGu3lHxumUV"
      },
      "source": [
        "### Pré-processamento Dados"
      ]
    },
    {
      "cell_type": "code",
      "execution_count": 10,
      "metadata": {
        "id": "UIIZNLXs9M-a"
      },
      "outputs": [],
      "source": [
        "cols = ['CD_ORGAO', 'NM_ORGAO', 'NR_LICITACAO', 'CD_TIPO_MODALIDADE','DS_OBJETO', 'VL_LICITACAO', 'BL_COVID19']\n",
        "licitacao_21 = licitacao[cols]"
      ]
    },
    {
      "cell_type": "code",
      "execution_count": 11,
      "metadata": {
        "id": "pfVB-X1dxzRf"
      },
      "outputs": [],
      "source": [
        "licitacao_21 = licitacao_21.dropna()"
      ]
    },
    {
      "cell_type": "code",
      "execution_count": 12,
      "metadata": {
        "colab": {
          "base_uri": "https://localhost:8080/",
          "height": 0
        },
        "id": "LBRRVx8JHc77",
        "outputId": "075d5772-3073-4c13-c478-f97dd9a454ee"
      },
      "outputs": [
        {
          "output_type": "execute_result",
          "data": {
            "text/html": [
              "\n",
              "  <div id=\"df-e03450f6-afc9-4ab9-bb07-35a7775f2d01\">\n",
              "    <div class=\"colab-df-container\">\n",
              "      <div>\n",
              "<style scoped>\n",
              "    .dataframe tbody tr th:only-of-type {\n",
              "        vertical-align: middle;\n",
              "    }\n",
              "\n",
              "    .dataframe tbody tr th {\n",
              "        vertical-align: top;\n",
              "    }\n",
              "\n",
              "    .dataframe thead th {\n",
              "        text-align: right;\n",
              "    }\n",
              "</style>\n",
              "<table border=\"1\" class=\"dataframe\">\n",
              "  <thead>\n",
              "    <tr style=\"text-align: right;\">\n",
              "      <th></th>\n",
              "      <th>CD_ORGAO</th>\n",
              "      <th>NM_ORGAO</th>\n",
              "      <th>NR_LICITACAO</th>\n",
              "      <th>CD_TIPO_MODALIDADE</th>\n",
              "      <th>DS_OBJETO</th>\n",
              "      <th>VL_LICITACAO</th>\n",
              "      <th>BL_COVID19</th>\n",
              "    </tr>\n",
              "  </thead>\n",
              "  <tbody>\n",
              "    <tr>\n",
              "      <th>0</th>\n",
              "      <td>53100</td>\n",
              "      <td>PM DE NOVA PALMA</td>\n",
              "      <td>1.0</td>\n",
              "      <td>TMP</td>\n",
              "      <td>CONTRATAÇÃO GLOBAL DE EMPRESA PARA CONSTRUÇÃO ...</td>\n",
              "      <td>259765.0</td>\n",
              "      <td>N</td>\n",
              "    </tr>\n",
              "    <tr>\n",
              "      <th>1</th>\n",
              "      <td>86800</td>\n",
              "      <td>PM DE BOA VISTA DO SUL</td>\n",
              "      <td>2.0</td>\n",
              "      <td>PRP</td>\n",
              "      <td>Contratação de empresa para prestação de servi...</td>\n",
              "      <td>390625.0</td>\n",
              "      <td>N</td>\n",
              "    </tr>\n",
              "    <tr>\n",
              "      <th>2</th>\n",
              "      <td>45003</td>\n",
              "      <td>SERVIÇO AUTÔN. MUN. DE ÁGUA E ESGOTO - CX.SUL</td>\n",
              "      <td>46.0</td>\n",
              "      <td>PRP</td>\n",
              "      <td>Aquisição de 80.000 (oitenta mil) quilogramas ...</td>\n",
              "      <td>833800.0</td>\n",
              "      <td>N</td>\n",
              "    </tr>\n",
              "  </tbody>\n",
              "</table>\n",
              "</div>\n",
              "      <button class=\"colab-df-convert\" onclick=\"convertToInteractive('df-e03450f6-afc9-4ab9-bb07-35a7775f2d01')\"\n",
              "              title=\"Convert this dataframe to an interactive table.\"\n",
              "              style=\"display:none;\">\n",
              "        \n",
              "  <svg xmlns=\"http://www.w3.org/2000/svg\" height=\"24px\"viewBox=\"0 0 24 24\"\n",
              "       width=\"24px\">\n",
              "    <path d=\"M0 0h24v24H0V0z\" fill=\"none\"/>\n",
              "    <path d=\"M18.56 5.44l.94 2.06.94-2.06 2.06-.94-2.06-.94-.94-2.06-.94 2.06-2.06.94zm-11 1L8.5 8.5l.94-2.06 2.06-.94-2.06-.94L8.5 2.5l-.94 2.06-2.06.94zm10 10l.94 2.06.94-2.06 2.06-.94-2.06-.94-.94-2.06-.94 2.06-2.06.94z\"/><path d=\"M17.41 7.96l-1.37-1.37c-.4-.4-.92-.59-1.43-.59-.52 0-1.04.2-1.43.59L10.3 9.45l-7.72 7.72c-.78.78-.78 2.05 0 2.83L4 21.41c.39.39.9.59 1.41.59.51 0 1.02-.2 1.41-.59l7.78-7.78 2.81-2.81c.8-.78.8-2.07 0-2.86zM5.41 20L4 18.59l7.72-7.72 1.47 1.35L5.41 20z\"/>\n",
              "  </svg>\n",
              "      </button>\n",
              "      \n",
              "  <style>\n",
              "    .colab-df-container {\n",
              "      display:flex;\n",
              "      flex-wrap:wrap;\n",
              "      gap: 12px;\n",
              "    }\n",
              "\n",
              "    .colab-df-convert {\n",
              "      background-color: #E8F0FE;\n",
              "      border: none;\n",
              "      border-radius: 50%;\n",
              "      cursor: pointer;\n",
              "      display: none;\n",
              "      fill: #1967D2;\n",
              "      height: 32px;\n",
              "      padding: 0 0 0 0;\n",
              "      width: 32px;\n",
              "    }\n",
              "\n",
              "    .colab-df-convert:hover {\n",
              "      background-color: #E2EBFA;\n",
              "      box-shadow: 0px 1px 2px rgba(60, 64, 67, 0.3), 0px 1px 3px 1px rgba(60, 64, 67, 0.15);\n",
              "      fill: #174EA6;\n",
              "    }\n",
              "\n",
              "    [theme=dark] .colab-df-convert {\n",
              "      background-color: #3B4455;\n",
              "      fill: #D2E3FC;\n",
              "    }\n",
              "\n",
              "    [theme=dark] .colab-df-convert:hover {\n",
              "      background-color: #434B5C;\n",
              "      box-shadow: 0px 1px 3px 1px rgba(0, 0, 0, 0.15);\n",
              "      filter: drop-shadow(0px 1px 2px rgba(0, 0, 0, 0.3));\n",
              "      fill: #FFFFFF;\n",
              "    }\n",
              "  </style>\n",
              "\n",
              "      <script>\n",
              "        const buttonEl =\n",
              "          document.querySelector('#df-e03450f6-afc9-4ab9-bb07-35a7775f2d01 button.colab-df-convert');\n",
              "        buttonEl.style.display =\n",
              "          google.colab.kernel.accessAllowed ? 'block' : 'none';\n",
              "\n",
              "        async function convertToInteractive(key) {\n",
              "          const element = document.querySelector('#df-e03450f6-afc9-4ab9-bb07-35a7775f2d01');\n",
              "          const dataTable =\n",
              "            await google.colab.kernel.invokeFunction('convertToInteractive',\n",
              "                                                     [key], {});\n",
              "          if (!dataTable) return;\n",
              "\n",
              "          const docLinkHtml = 'Like what you see? Visit the ' +\n",
              "            '<a target=\"_blank\" href=https://colab.research.google.com/notebooks/data_table.ipynb>data table notebook</a>'\n",
              "            + ' to learn more about interactive tables.';\n",
              "          element.innerHTML = '';\n",
              "          dataTable['output_type'] = 'display_data';\n",
              "          await google.colab.output.renderOutput(dataTable, element);\n",
              "          const docLink = document.createElement('div');\n",
              "          docLink.innerHTML = docLinkHtml;\n",
              "          element.appendChild(docLink);\n",
              "        }\n",
              "      </script>\n",
              "    </div>\n",
              "  </div>\n",
              "  "
            ],
            "text/plain": [
              "   CD_ORGAO  ... BL_COVID19\n",
              "0     53100  ...          N\n",
              "1     86800  ...          N\n",
              "2     45003  ...          N\n",
              "\n",
              "[3 rows x 7 columns]"
            ]
          },
          "metadata": {},
          "execution_count": 12
        }
      ],
      "source": [
        "licitacao_21.head(3)"
      ]
    },
    {
      "cell_type": "code",
      "execution_count": 13,
      "metadata": {
        "id": "x8R4Y7eD9UTI"
      },
      "outputs": [],
      "source": [
        "item_licitacao = item.iloc[:, 0:12]\n",
        "item_licitacao['BL_COVID19'] = item['BL_COVID19'] "
      ]
    },
    {
      "cell_type": "code",
      "execution_count": 14,
      "metadata": {
        "colab": {
          "base_uri": "https://localhost:8080/"
        },
        "id": "Ap2LJwwzyBAv",
        "outputId": "21f9ed14-5fdd-4ff2-cb87-835930234469"
      },
      "outputs": [
        {
          "output_type": "execute_result",
          "data": {
            "text/plain": [
              "CD_ORGAO                    0\n",
              "NR_LICITACAO                0\n",
              "ANO_LICITACAO               0\n",
              "CD_TIPO_MODALIDADE          0\n",
              "NR_LOTE                     0\n",
              "NR_ITEM                     0\n",
              "NR_ITEM_ORIGINAL            0\n",
              "DS_ITEM                     1\n",
              "QT_ITENS                    0\n",
              "SG_UNIDADE_MEDIDA           0\n",
              "VL_UNITARIO_ESTIMADO    39446\n",
              "VL_TOTAL_ESTIMADO       39446\n",
              "BL_COVID19                  0\n",
              "dtype: int64"
            ]
          },
          "metadata": {},
          "execution_count": 14
        }
      ],
      "source": [
        "item_licitacao.isna().sum()"
      ]
    },
    {
      "cell_type": "code",
      "execution_count": 15,
      "metadata": {
        "id": "O2q1xeSWxKem"
      },
      "outputs": [],
      "source": [
        "item_licitacao = item_licitacao.dropna()"
      ]
    },
    {
      "cell_type": "code",
      "execution_count": 16,
      "metadata": {
        "colab": {
          "base_uri": "https://localhost:8080/"
        },
        "id": "qAmKnZLfx-Pw",
        "outputId": "2b3d30fa-deb6-4f97-faea-4c29e4690aba"
      },
      "outputs": [
        {
          "output_type": "execute_result",
          "data": {
            "text/plain": [
              "(87469, 932800)"
            ]
          },
          "metadata": {},
          "execution_count": 16
        }
      ],
      "source": [
        "len(licitacao_21), len(item_licitacao)"
      ]
    },
    {
      "cell_type": "code",
      "execution_count": 17,
      "metadata": {
        "id": "VbNGsWkByJ4T"
      },
      "outputs": [],
      "source": [
        "licitacao_21['covid'] = np.where((licitacao_21['BL_COVID19'] == 'S'), ' covid19', '')\n",
        "licitacao_21['DS_OBJETO'] = licitacao_21['DS_OBJETO'] + licitacao_21['covid']"
      ]
    },
    {
      "cell_type": "code",
      "execution_count": 18,
      "metadata": {
        "id": "SPpubdTYGwtT"
      },
      "outputs": [],
      "source": [
        "licitacao_21 = licitacao_21.drop(['BL_COVID19', 'covid'], axis = 1)"
      ]
    },
    {
      "cell_type": "code",
      "execution_count": 19,
      "metadata": {
        "id": "jxrbDs0exJtm"
      },
      "outputs": [],
      "source": [
        "item_licitacao['covid'] = np.where((item_licitacao['BL_COVID19'] == 'S'), ' covid19', '')\n",
        "item_licitacao['DS_ITEM'] = item_licitacao['DS_ITEM'] + item_licitacao['covid']"
      ]
    },
    {
      "cell_type": "code",
      "execution_count": 20,
      "metadata": {
        "id": "evpu74VeEj2O"
      },
      "outputs": [],
      "source": [
        "item_licitacao = item_licitacao.drop(['BL_COVID19', 'covid'], axis = 1)"
      ]
    },
    {
      "cell_type": "code",
      "execution_count": 21,
      "metadata": {
        "colab": {
          "base_uri": "https://localhost:8080/",
          "height": 0
        },
        "id": "f4FM6DJGEeaZ",
        "outputId": "cb0e9b2b-ed4c-4e76-ee4a-7592e641467c"
      },
      "outputs": [
        {
          "output_type": "execute_result",
          "data": {
            "text/html": [
              "\n",
              "  <div id=\"df-ed57d54b-ba7a-4755-bdd0-0976024e288c\">\n",
              "    <div class=\"colab-df-container\">\n",
              "      <div>\n",
              "<style scoped>\n",
              "    .dataframe tbody tr th:only-of-type {\n",
              "        vertical-align: middle;\n",
              "    }\n",
              "\n",
              "    .dataframe tbody tr th {\n",
              "        vertical-align: top;\n",
              "    }\n",
              "\n",
              "    .dataframe thead th {\n",
              "        text-align: right;\n",
              "    }\n",
              "</style>\n",
              "<table border=\"1\" class=\"dataframe\">\n",
              "  <thead>\n",
              "    <tr style=\"text-align: right;\">\n",
              "      <th></th>\n",
              "      <th>CD_ORGAO</th>\n",
              "      <th>NR_LICITACAO</th>\n",
              "      <th>CD_TIPO_MODALIDADE</th>\n",
              "      <th>NR_LOTE</th>\n",
              "      <th>NR_ITEM</th>\n",
              "      <th>NR_ITEM_ORIGINAL</th>\n",
              "      <th>DS_ITEM</th>\n",
              "      <th>QT_ITENS</th>\n",
              "      <th>SG_UNIDADE_MEDIDA</th>\n",
              "      <th>VL_UNITARIO_ESTIMADO</th>\n",
              "      <th>VL_TOTAL_ESTIMADO</th>\n",
              "    </tr>\n",
              "  </thead>\n",
              "  <tbody>\n",
              "    <tr>\n",
              "      <th>0</th>\n",
              "      <td>44500</td>\n",
              "      <td>274.0</td>\n",
              "      <td>CPC</td>\n",
              "      <td>1</td>\n",
              "      <td>1</td>\n",
              "      <td>1</td>\n",
              "      <td>Credenciamento de academias de ginástica e mus...</td>\n",
              "      <td>1.0</td>\n",
              "      <td>UN</td>\n",
              "      <td>50.00</td>\n",
              "      <td>50.00</td>\n",
              "    </tr>\n",
              "    <tr>\n",
              "      <th>1</th>\n",
              "      <td>56900</td>\n",
              "      <td>25.0</td>\n",
              "      <td>TMP</td>\n",
              "      <td>1</td>\n",
              "      <td>1</td>\n",
              "      <td>1.1</td>\n",
              "      <td>PLACA DE OBRA (PARA CONSTRUCAO CIVIL) EM CHAPA...</td>\n",
              "      <td>6.0</td>\n",
              "      <td>M2</td>\n",
              "      <td>272.49</td>\n",
              "      <td>1634.94</td>\n",
              "    </tr>\n",
              "    <tr>\n",
              "      <th>2</th>\n",
              "      <td>56900</td>\n",
              "      <td>25.0</td>\n",
              "      <td>TMP</td>\n",
              "      <td>1</td>\n",
              "      <td>2</td>\n",
              "      <td>1.2</td>\n",
              "      <td>TAPUME COM COMPENSADO DE MADEIRA. AF_05/2018</td>\n",
              "      <td>71.0</td>\n",
              "      <td>M2</td>\n",
              "      <td>128.69</td>\n",
              "      <td>9136.99</td>\n",
              "    </tr>\n",
              "  </tbody>\n",
              "</table>\n",
              "</div>\n",
              "      <button class=\"colab-df-convert\" onclick=\"convertToInteractive('df-ed57d54b-ba7a-4755-bdd0-0976024e288c')\"\n",
              "              title=\"Convert this dataframe to an interactive table.\"\n",
              "              style=\"display:none;\">\n",
              "        \n",
              "  <svg xmlns=\"http://www.w3.org/2000/svg\" height=\"24px\"viewBox=\"0 0 24 24\"\n",
              "       width=\"24px\">\n",
              "    <path d=\"M0 0h24v24H0V0z\" fill=\"none\"/>\n",
              "    <path d=\"M18.56 5.44l.94 2.06.94-2.06 2.06-.94-2.06-.94-.94-2.06-.94 2.06-2.06.94zm-11 1L8.5 8.5l.94-2.06 2.06-.94-2.06-.94L8.5 2.5l-.94 2.06-2.06.94zm10 10l.94 2.06.94-2.06 2.06-.94-2.06-.94-.94-2.06-.94 2.06-2.06.94z\"/><path d=\"M17.41 7.96l-1.37-1.37c-.4-.4-.92-.59-1.43-.59-.52 0-1.04.2-1.43.59L10.3 9.45l-7.72 7.72c-.78.78-.78 2.05 0 2.83L4 21.41c.39.39.9.59 1.41.59.51 0 1.02-.2 1.41-.59l7.78-7.78 2.81-2.81c.8-.78.8-2.07 0-2.86zM5.41 20L4 18.59l7.72-7.72 1.47 1.35L5.41 20z\"/>\n",
              "  </svg>\n",
              "      </button>\n",
              "      \n",
              "  <style>\n",
              "    .colab-df-container {\n",
              "      display:flex;\n",
              "      flex-wrap:wrap;\n",
              "      gap: 12px;\n",
              "    }\n",
              "\n",
              "    .colab-df-convert {\n",
              "      background-color: #E8F0FE;\n",
              "      border: none;\n",
              "      border-radius: 50%;\n",
              "      cursor: pointer;\n",
              "      display: none;\n",
              "      fill: #1967D2;\n",
              "      height: 32px;\n",
              "      padding: 0 0 0 0;\n",
              "      width: 32px;\n",
              "    }\n",
              "\n",
              "    .colab-df-convert:hover {\n",
              "      background-color: #E2EBFA;\n",
              "      box-shadow: 0px 1px 2px rgba(60, 64, 67, 0.3), 0px 1px 3px 1px rgba(60, 64, 67, 0.15);\n",
              "      fill: #174EA6;\n",
              "    }\n",
              "\n",
              "    [theme=dark] .colab-df-convert {\n",
              "      background-color: #3B4455;\n",
              "      fill: #D2E3FC;\n",
              "    }\n",
              "\n",
              "    [theme=dark] .colab-df-convert:hover {\n",
              "      background-color: #434B5C;\n",
              "      box-shadow: 0px 1px 3px 1px rgba(0, 0, 0, 0.15);\n",
              "      filter: drop-shadow(0px 1px 2px rgba(0, 0, 0, 0.3));\n",
              "      fill: #FFFFFF;\n",
              "    }\n",
              "  </style>\n",
              "\n",
              "      <script>\n",
              "        const buttonEl =\n",
              "          document.querySelector('#df-ed57d54b-ba7a-4755-bdd0-0976024e288c button.colab-df-convert');\n",
              "        buttonEl.style.display =\n",
              "          google.colab.kernel.accessAllowed ? 'block' : 'none';\n",
              "\n",
              "        async function convertToInteractive(key) {\n",
              "          const element = document.querySelector('#df-ed57d54b-ba7a-4755-bdd0-0976024e288c');\n",
              "          const dataTable =\n",
              "            await google.colab.kernel.invokeFunction('convertToInteractive',\n",
              "                                                     [key], {});\n",
              "          if (!dataTable) return;\n",
              "\n",
              "          const docLinkHtml = 'Like what you see? Visit the ' +\n",
              "            '<a target=\"_blank\" href=https://colab.research.google.com/notebooks/data_table.ipynb>data table notebook</a>'\n",
              "            + ' to learn more about interactive tables.';\n",
              "          element.innerHTML = '';\n",
              "          dataTable['output_type'] = 'display_data';\n",
              "          await google.colab.output.renderOutput(dataTable, element);\n",
              "          const docLink = document.createElement('div');\n",
              "          docLink.innerHTML = docLinkHtml;\n",
              "          element.appendChild(docLink);\n",
              "        }\n",
              "      </script>\n",
              "    </div>\n",
              "  </div>\n",
              "  "
            ],
            "text/plain": [
              "   CD_ORGAO  NR_LICITACAO  ... VL_UNITARIO_ESTIMADO  VL_TOTAL_ESTIMADO\n",
              "0     44500         274.0  ...                50.00              50.00\n",
              "1     56900          25.0  ...               272.49            1634.94\n",
              "2     56900          25.0  ...               128.69            9136.99\n",
              "\n",
              "[3 rows x 11 columns]"
            ]
          },
          "metadata": {},
          "execution_count": 21
        }
      ],
      "source": [
        "item_licitacao['ANO_LICITACAO'].unique()\n",
        "item_licitacao.drop(['ANO_LICITACAO'], axis = 1).head(3)"
      ]
    },
    {
      "cell_type": "markdown",
      "metadata": {
        "id": "wmZpI_COxX7Y"
      },
      "source": [
        "### Pré-processamento Texto"
      ]
    },
    {
      "cell_type": "code",
      "source": [
        "#!python -m spacy download pt_core_news_sm"
      ],
      "metadata": {
        "id": "A8cUJd_poo9P"
      },
      "execution_count": null,
      "outputs": []
    },
    {
      "cell_type": "code",
      "execution_count": 8,
      "metadata": {
        "colab": {
          "base_uri": "https://localhost:8080/"
        },
        "id": "CmrMGEJoJSSW",
        "outputId": "cff20b73-cf24-4099-e287-fe239e1bbab6"
      },
      "outputs": [
        {
          "output_type": "stream",
          "name": "stderr",
          "text": [
            "/usr/local/lib/python3.7/dist-packages/catalogue.py:138: DeprecationWarning: SelectableGroups dict interface is deprecated. Use select.\n",
            "  for entry_point in AVAILABLE_ENTRY_POINTS.get(self.entry_point_namespace, []):\n",
            "/usr/local/lib/python3.7/dist-packages/catalogue.py:138: DeprecationWarning: SelectableGroups dict interface is deprecated. Use select.\n",
            "  for entry_point in AVAILABLE_ENTRY_POINTS.get(self.entry_point_namespace, []):\n",
            "/usr/local/lib/python3.7/dist-packages/catalogue.py:126: DeprecationWarning: SelectableGroups dict interface is deprecated. Use select.\n",
            "  for entry_point in AVAILABLE_ENTRY_POINTS.get(self.entry_point_namespace, []):\n",
            "/usr/local/lib/python3.7/dist-packages/catalogue.py:138: DeprecationWarning: SelectableGroups dict interface is deprecated. Use select.\n",
            "  for entry_point in AVAILABLE_ENTRY_POINTS.get(self.entry_point_namespace, []):\n"
          ]
        },
        {
          "output_type": "stream",
          "name": "stdout",
          "text": [
            "[nltk_data] Downloading package stopwords to /root/nltk_data...\n",
            "[nltk_data]   Unzipping corpora/stopwords.zip.\n"
          ]
        },
        {
          "output_type": "execute_result",
          "data": {
            "text/plain": [
              "True"
            ]
          },
          "metadata": {},
          "execution_count": 8
        }
      ],
      "source": [
        "nlp=spacy.load(\"pt_core_news_sm\")\n",
        "nltk.download('stopwords')"
      ]
    },
    {
      "cell_type": "code",
      "execution_count": 9,
      "metadata": {
        "id": "H79BHICwPuKY"
      },
      "outputs": [],
      "source": [
        "stopwords = nltk.corpus.stopwords.words('portuguese')\n",
        "\n",
        "filter_out = stopwords + ['kg', 'm', 'cm', 'mm', 'mg', 'ml', 'm²', '-', '+', '=', 'mcg', 'nº', 'g', 'ª', 'º', '_']"
      ]
    },
    {
      "cell_type": "code",
      "source": [
        "filter_out = filter_out + ['cor', 'cores', 'un', 'branco', 'unidades', \n",
        "'litros', 'af', 'mgml', 'nbr', 'dn', 'eou', 'referência', 'conforme',\n",
        "'demais', 'deverá', 'tipo', 'r', 'gb', 'km']"
      ],
      "metadata": {
        "id": "h5fO918DS97O"
      },
      "execution_count": 10,
      "outputs": []
    },
    {
      "cell_type": "code",
      "source": [
        "filter_out = filter_out + ['ca', 'cx', 'ser', 'novo', 'ano', 'gr', 'deve', 'data', 'contar', 'resistente', 'partir', 'in', 'boa', 'limpa', 'qualidade', 'tamanho', 'apresentar', 'estar']"
      ],
      "metadata": {
        "id": "y-nbRu-vS_HC"
      },
      "execution_count": 11,
      "outputs": []
    },
    {
      "cell_type": "markdown",
      "metadata": {
        "id": "1J7bEz7hPuKY"
      },
      "source": [
        "Para o pré-processamento do texto foi usado linguagem regular, a tabela abaixo contém algumas informações utéis para entender a função de pre_processing"
      ]
    },
    {
      "cell_type": "markdown",
      "metadata": {
        "id": "HztMGmKEPuKY"
      },
      "source": [
        "<table ><tr><th>Character</th><th>Description</th><th>Example Pattern Code</th><th >Exammple Match</th></tr>\n",
        "\n",
        "<tr ><td><span >\\d</span></td><td>A digit</td><td>file_\\d\\d</td><td>file_25</td></tr>\n",
        "\n",
        "<tr ><td><span >\\w</span></td><td>Alphanumeric</td><td>\\w-\\w\\w\\w</td><td>A-b_1</td></tr>\n",
        "\n",
        "\n",
        "\n",
        "<tr ><td><span >\\s</span></td><td>White space</td><td>a\\sb\\sc</td><td>a b c</td></tr>\n",
        "\n",
        "\n",
        "\n",
        "<tr ><td><span >\\D</span></td><td>A non digit</td><td>\\D\\D\\D</td><td>ABC</td></tr>\n",
        "\n",
        "<tr ><td><span >\\W</span></td><td>Non-alphanumeric</td><td>\\W\\W\\W\\W\\W</td><td>*-+=)</td></tr>\n",
        "\n",
        "<tr ><td><span >\\S</span></td><td>Non-whitespace</td><td>\\S\\S\\S\\S</td><td>Yoyo</td></tr></table>\n",
        "<table ><tr><th>Character</th><th>Description</th><th>Example Pattern Code</th><th >Exammple Match</th></tr>\n",
        "</br>\n",
        "<tr ><td><span >+</span></td><td>Occurs one or more times</td><td>\tVersion \\w-\\w+</td><td>Version A-b1_1</td></tr>\n",
        "\n",
        "<tr ><td><span >{3}</span></td><td>Occurs exactly 3 times</td><td>\\D{3}</td><td>abc</td></tr>\n",
        "\n",
        "\n",
        "\n",
        "<tr ><td><span >{2,4}</span></td><td>Occurs 2 to 4 times</td><td>\\d{2,4}</td><td>123</td></tr>\n",
        "\n",
        "\n",
        "\n",
        "<tr ><td><span >{3,}</span></td><td>Occurs 3 or more</td><td>\\w{3,}</td><td>anycharacters</td></tr>\n",
        "\n",
        "<tr ><td><span >\\*</span></td><td>Occurs zero or more times</td><td>A\\*B\\*C*</td><td>AAACC</td></tr>\n",
        "\n",
        "<tr ><td><span >?</span></td><td>Once or none</td><td>plurals?</td><td>plural</td></tr></table>"
      ]
    },
    {
      "cell_type": "code",
      "execution_count": 26,
      "metadata": {
        "id": "3RSOJjOZPuKZ"
      },
      "outputs": [],
      "source": [
        "def pre_processing(sentence):\n",
        "    sentence = sentence.lower()\n",
        "    sentence = re.sub(r\"[^\\w\\s]\", \"\", sentence)\n",
        "    sentence = re.sub(r\"[0-9]+\", \"\", sentence)\n",
        "    sentence = re.sub(r\"/+\", \"\", sentence)\n",
        "    sentence = re.sub(r\" {2,}\", \" \", sentence)\n",
        "\n",
        "    #Tokenização\n",
        "    doc = nlp(sentence)\n",
        "\n",
        "    tokens=[token.text for token in doc]\n",
        "    tokens=[token for token in tokens if token not in filter_out]\n",
        "\n",
        "    return tokens\n"
      ]
    },
    {
      "cell_type": "code",
      "execution_count": 27,
      "metadata": {
        "colab": {
          "base_uri": "https://localhost:8080/"
        },
        "id": "1GOaH9opPuKZ",
        "outputId": "2d11d38e-8a5c-4acb-b195-81814821685f"
      },
      "outputs": [
        {
          "output_type": "stream",
          "name": "stdout",
          "text": [
            "['testando', 'aa']\n"
          ]
        }
      ],
      "source": [
        "print(pre_processing('testando 1 2 3 aa'))"
      ]
    },
    {
      "cell_type": "code",
      "execution_count": 28,
      "metadata": {
        "id": "GOlaJk0SPuKa"
      },
      "outputs": [],
      "source": [
        "item_licitacao['DS_ITEM_TOKEN'] = item_licitacao['DS_ITEM'].apply(lambda sentece: pre_processing(sentece))\n"
      ]
    },
    {
      "cell_type": "code",
      "execution_count": null,
      "metadata": {
        "id": "KxiYMCWwPuKa"
      },
      "outputs": [],
      "source": [
        "item_licitacao.to_csv('item_licitacao_token.csv')"
      ]
    },
    {
      "cell_type": "code",
      "execution_count": 30,
      "metadata": {
        "id": "XT0lHxIePuKa"
      },
      "outputs": [],
      "source": [
        "licitacao_21['DS_OBJETO_TOKEN'] = licitacao_21['DS_OBJETO'].apply(lambda sentece: pre_processing(sentece))\n"
      ]
    },
    {
      "cell_type": "code",
      "execution_count": 31,
      "metadata": {
        "id": "HFK55-MHPuKa"
      },
      "outputs": [],
      "source": [
        "licitacao_21.to_csv('licitacao_21_token.csv')"
      ]
    },
    {
      "cell_type": "markdown",
      "source": [
        "## Import arquivos"
      ],
      "metadata": {
        "id": "cOKxlmG8gvTN"
      }
    },
    {
      "cell_type": "code",
      "execution_count": 18,
      "metadata": {
        "id": "vnMRImsLPuKb"
      },
      "outputs": [],
      "source": [
        "licitacao_21 = pd.read_csv('/content/drive/MyDrive/NLP/licitacao_21_token.csv')\n",
        "item_licitacao = pd.read_csv('/content/drive/MyDrive/NLP/item_licitacao_token.csv')"
      ]
    },
    {
      "cell_type": "markdown",
      "source": [
        "## Arquivo Itens"
      ],
      "metadata": {
        "id": "BGyqggSjY2Rn"
      }
    },
    {
      "cell_type": "markdown",
      "metadata": {
        "id": "9SaqqMLSz83K"
      },
      "source": [
        "### Construção dos modelos"
      ]
    },
    {
      "cell_type": "markdown",
      "metadata": {
        "id": "Zckrjxy8PuKa"
      },
      "source": [
        "Counter Vectorizarion -> contar a ocorrência de cada palavra para mapear o texto para um número\n",
        "\n",
        "CounterVectorizer\n",
        "\n",
        "TfidfVectorizer -> cria a mais uma matriz de termos de documento a partir de nossas mensagens.\n",
        "No entanto, em vez de preencher o DTM com contagens de token, ele calcula o valor da frequência do documento inverso da frequência do termo para cada palavra (TF-IDF).\n",
        "Um fator de frequência de documento inverso é incorporado, o que diminui o peso dos termos que ocorrem com muita frequência no conjunto de documentos e aumenta o peso dos termos que ocorrem raramente.\n"
      ]
    },
    {
      "cell_type": "code",
      "execution_count": 32,
      "metadata": {
        "id": "Kfc14x1Mz_6k",
        "colab": {
          "base_uri": "https://localhost:8080/",
          "height": 433
        },
        "outputId": "673e6524-3855-4628-99a9-48c45765cd25"
      },
      "outputs": [
        {
          "output_type": "execute_result",
          "data": {
            "text/html": [
              "\n",
              "  <div id=\"df-90af3bca-2829-484d-a01e-900ce6cb9d69\">\n",
              "    <div class=\"colab-df-container\">\n",
              "      <div>\n",
              "<style scoped>\n",
              "    .dataframe tbody tr th:only-of-type {\n",
              "        vertical-align: middle;\n",
              "    }\n",
              "\n",
              "    .dataframe tbody tr th {\n",
              "        vertical-align: top;\n",
              "    }\n",
              "\n",
              "    .dataframe thead th {\n",
              "        text-align: right;\n",
              "    }\n",
              "</style>\n",
              "<table border=\"1\" class=\"dataframe\">\n",
              "  <thead>\n",
              "    <tr style=\"text-align: right;\">\n",
              "      <th></th>\n",
              "      <th>CD_ORGAO</th>\n",
              "      <th>NM_ORGAO</th>\n",
              "      <th>NR_LICITACAO</th>\n",
              "      <th>CD_TIPO_MODALIDADE</th>\n",
              "      <th>DS_OBJETO</th>\n",
              "      <th>VL_LICITACAO</th>\n",
              "      <th>DS_OBJETO_TOKEN</th>\n",
              "    </tr>\n",
              "  </thead>\n",
              "  <tbody>\n",
              "    <tr>\n",
              "      <th>0</th>\n",
              "      <td>53100</td>\n",
              "      <td>PM DE NOVA PALMA</td>\n",
              "      <td>1.0</td>\n",
              "      <td>TMP</td>\n",
              "      <td>CONTRATAÇÃO GLOBAL DE EMPRESA PARA CONSTRUÇÃO ...</td>\n",
              "      <td>259765.0</td>\n",
              "      <td>[contratação, global, empresa, construção, par...</td>\n",
              "    </tr>\n",
              "    <tr>\n",
              "      <th>1</th>\n",
              "      <td>86800</td>\n",
              "      <td>PM DE BOA VISTA DO SUL</td>\n",
              "      <td>2.0</td>\n",
              "      <td>PRP</td>\n",
              "      <td>Contratação de empresa para prestação de servi...</td>\n",
              "      <td>390625.0</td>\n",
              "      <td>[contratação, empresa, prestação, serviços, tr...</td>\n",
              "    </tr>\n",
              "    <tr>\n",
              "      <th>2</th>\n",
              "      <td>45003</td>\n",
              "      <td>SERVIÇO AUTÔN. MUN. DE ÁGUA E ESGOTO - CX.SUL</td>\n",
              "      <td>46.0</td>\n",
              "      <td>PRP</td>\n",
              "      <td>Aquisição de 80.000 (oitenta mil) quilogramas ...</td>\n",
              "      <td>833800.0</td>\n",
              "      <td>[aquisição, oitenta, mil, quilogramas, ortopol...</td>\n",
              "    </tr>\n",
              "  </tbody>\n",
              "</table>\n",
              "</div>\n",
              "      <button class=\"colab-df-convert\" onclick=\"convertToInteractive('df-90af3bca-2829-484d-a01e-900ce6cb9d69')\"\n",
              "              title=\"Convert this dataframe to an interactive table.\"\n",
              "              style=\"display:none;\">\n",
              "        \n",
              "  <svg xmlns=\"http://www.w3.org/2000/svg\" height=\"24px\"viewBox=\"0 0 24 24\"\n",
              "       width=\"24px\">\n",
              "    <path d=\"M0 0h24v24H0V0z\" fill=\"none\"/>\n",
              "    <path d=\"M18.56 5.44l.94 2.06.94-2.06 2.06-.94-2.06-.94-.94-2.06-.94 2.06-2.06.94zm-11 1L8.5 8.5l.94-2.06 2.06-.94-2.06-.94L8.5 2.5l-.94 2.06-2.06.94zm10 10l.94 2.06.94-2.06 2.06-.94-2.06-.94-.94-2.06-.94 2.06-2.06.94z\"/><path d=\"M17.41 7.96l-1.37-1.37c-.4-.4-.92-.59-1.43-.59-.52 0-1.04.2-1.43.59L10.3 9.45l-7.72 7.72c-.78.78-.78 2.05 0 2.83L4 21.41c.39.39.9.59 1.41.59.51 0 1.02-.2 1.41-.59l7.78-7.78 2.81-2.81c.8-.78.8-2.07 0-2.86zM5.41 20L4 18.59l7.72-7.72 1.47 1.35L5.41 20z\"/>\n",
              "  </svg>\n",
              "      </button>\n",
              "      \n",
              "  <style>\n",
              "    .colab-df-container {\n",
              "      display:flex;\n",
              "      flex-wrap:wrap;\n",
              "      gap: 12px;\n",
              "    }\n",
              "\n",
              "    .colab-df-convert {\n",
              "      background-color: #E8F0FE;\n",
              "      border: none;\n",
              "      border-radius: 50%;\n",
              "      cursor: pointer;\n",
              "      display: none;\n",
              "      fill: #1967D2;\n",
              "      height: 32px;\n",
              "      padding: 0 0 0 0;\n",
              "      width: 32px;\n",
              "    }\n",
              "\n",
              "    .colab-df-convert:hover {\n",
              "      background-color: #E2EBFA;\n",
              "      box-shadow: 0px 1px 2px rgba(60, 64, 67, 0.3), 0px 1px 3px 1px rgba(60, 64, 67, 0.15);\n",
              "      fill: #174EA6;\n",
              "    }\n",
              "\n",
              "    [theme=dark] .colab-df-convert {\n",
              "      background-color: #3B4455;\n",
              "      fill: #D2E3FC;\n",
              "    }\n",
              "\n",
              "    [theme=dark] .colab-df-convert:hover {\n",
              "      background-color: #434B5C;\n",
              "      box-shadow: 0px 1px 3px 1px rgba(0, 0, 0, 0.15);\n",
              "      filter: drop-shadow(0px 1px 2px rgba(0, 0, 0, 0.3));\n",
              "      fill: #FFFFFF;\n",
              "    }\n",
              "  </style>\n",
              "\n",
              "      <script>\n",
              "        const buttonEl =\n",
              "          document.querySelector('#df-90af3bca-2829-484d-a01e-900ce6cb9d69 button.colab-df-convert');\n",
              "        buttonEl.style.display =\n",
              "          google.colab.kernel.accessAllowed ? 'block' : 'none';\n",
              "\n",
              "        async function convertToInteractive(key) {\n",
              "          const element = document.querySelector('#df-90af3bca-2829-484d-a01e-900ce6cb9d69');\n",
              "          const dataTable =\n",
              "            await google.colab.kernel.invokeFunction('convertToInteractive',\n",
              "                                                     [key], {});\n",
              "          if (!dataTable) return;\n",
              "\n",
              "          const docLinkHtml = 'Like what you see? Visit the ' +\n",
              "            '<a target=\"_blank\" href=https://colab.research.google.com/notebooks/data_table.ipynb>data table notebook</a>'\n",
              "            + ' to learn more about interactive tables.';\n",
              "          element.innerHTML = '';\n",
              "          dataTable['output_type'] = 'display_data';\n",
              "          await google.colab.output.renderOutput(dataTable, element);\n",
              "          const docLink = document.createElement('div');\n",
              "          docLink.innerHTML = docLinkHtml;\n",
              "          element.appendChild(docLink);\n",
              "        }\n",
              "      </script>\n",
              "    </div>\n",
              "  </div>\n",
              "  "
            ],
            "text/plain": [
              "   CD_ORGAO  ...                                    DS_OBJETO_TOKEN\n",
              "0     53100  ...  [contratação, global, empresa, construção, par...\n",
              "1     86800  ...  [contratação, empresa, prestação, serviços, tr...\n",
              "2     45003  ...  [aquisição, oitenta, mil, quilogramas, ortopol...\n",
              "\n",
              "[3 rows x 7 columns]"
            ]
          },
          "metadata": {},
          "execution_count": 32
        }
      ],
      "source": [
        "licitacao_21.head(3)"
      ]
    },
    {
      "cell_type": "code",
      "execution_count": 33,
      "metadata": {
        "colab": {
          "base_uri": "https://localhost:8080/",
          "height": 381
        },
        "id": "TWTo-YGXPuKb",
        "outputId": "f1560e19-cd3e-4684-a031-5467ed38d939"
      },
      "outputs": [
        {
          "output_type": "execute_result",
          "data": {
            "text/html": [
              "\n",
              "  <div id=\"df-88a7ddad-5158-4849-a189-d0434542e7d4\">\n",
              "    <div class=\"colab-df-container\">\n",
              "      <div>\n",
              "<style scoped>\n",
              "    .dataframe tbody tr th:only-of-type {\n",
              "        vertical-align: middle;\n",
              "    }\n",
              "\n",
              "    .dataframe tbody tr th {\n",
              "        vertical-align: top;\n",
              "    }\n",
              "\n",
              "    .dataframe thead th {\n",
              "        text-align: right;\n",
              "    }\n",
              "</style>\n",
              "<table border=\"1\" class=\"dataframe\">\n",
              "  <thead>\n",
              "    <tr style=\"text-align: right;\">\n",
              "      <th></th>\n",
              "      <th>CD_ORGAO</th>\n",
              "      <th>NR_LICITACAO</th>\n",
              "      <th>ANO_LICITACAO</th>\n",
              "      <th>CD_TIPO_MODALIDADE</th>\n",
              "      <th>NR_LOTE</th>\n",
              "      <th>NR_ITEM</th>\n",
              "      <th>NR_ITEM_ORIGINAL</th>\n",
              "      <th>DS_ITEM</th>\n",
              "      <th>QT_ITENS</th>\n",
              "      <th>SG_UNIDADE_MEDIDA</th>\n",
              "      <th>VL_UNITARIO_ESTIMADO</th>\n",
              "      <th>VL_TOTAL_ESTIMADO</th>\n",
              "      <th>DS_ITEM_TOKEN</th>\n",
              "    </tr>\n",
              "  </thead>\n",
              "  <tbody>\n",
              "    <tr>\n",
              "      <th>0</th>\n",
              "      <td>44500</td>\n",
              "      <td>274.0</td>\n",
              "      <td>2021</td>\n",
              "      <td>CPC</td>\n",
              "      <td>1</td>\n",
              "      <td>1</td>\n",
              "      <td>1</td>\n",
              "      <td>Credenciamento de academias de ginástica e mus...</td>\n",
              "      <td>1.0</td>\n",
              "      <td>UN</td>\n",
              "      <td>50.00</td>\n",
              "      <td>50.00</td>\n",
              "      <td>[credenciamento, academias, ginástica, muscula...</td>\n",
              "    </tr>\n",
              "    <tr>\n",
              "      <th>1</th>\n",
              "      <td>56900</td>\n",
              "      <td>25.0</td>\n",
              "      <td>2021</td>\n",
              "      <td>TMP</td>\n",
              "      <td>1</td>\n",
              "      <td>1</td>\n",
              "      <td>1.1</td>\n",
              "      <td>PLACA DE OBRA (PARA CONSTRUCAO CIVIL) EM CHAPA...</td>\n",
              "      <td>6.0</td>\n",
              "      <td>M2</td>\n",
              "      <td>272.49</td>\n",
              "      <td>1634.94</td>\n",
              "      <td>[placa, obra, construcao, civil, chapa, galvan...</td>\n",
              "    </tr>\n",
              "    <tr>\n",
              "      <th>2</th>\n",
              "      <td>56900</td>\n",
              "      <td>25.0</td>\n",
              "      <td>2021</td>\n",
              "      <td>TMP</td>\n",
              "      <td>1</td>\n",
              "      <td>2</td>\n",
              "      <td>1.2</td>\n",
              "      <td>TAPUME COM COMPENSADO DE MADEIRA. AF_05/2018</td>\n",
              "      <td>71.0</td>\n",
              "      <td>M2</td>\n",
              "      <td>128.69</td>\n",
              "      <td>9136.99</td>\n",
              "      <td>[tapume, compensado, madeira]</td>\n",
              "    </tr>\n",
              "  </tbody>\n",
              "</table>\n",
              "</div>\n",
              "      <button class=\"colab-df-convert\" onclick=\"convertToInteractive('df-88a7ddad-5158-4849-a189-d0434542e7d4')\"\n",
              "              title=\"Convert this dataframe to an interactive table.\"\n",
              "              style=\"display:none;\">\n",
              "        \n",
              "  <svg xmlns=\"http://www.w3.org/2000/svg\" height=\"24px\"viewBox=\"0 0 24 24\"\n",
              "       width=\"24px\">\n",
              "    <path d=\"M0 0h24v24H0V0z\" fill=\"none\"/>\n",
              "    <path d=\"M18.56 5.44l.94 2.06.94-2.06 2.06-.94-2.06-.94-.94-2.06-.94 2.06-2.06.94zm-11 1L8.5 8.5l.94-2.06 2.06-.94-2.06-.94L8.5 2.5l-.94 2.06-2.06.94zm10 10l.94 2.06.94-2.06 2.06-.94-2.06-.94-.94-2.06-.94 2.06-2.06.94z\"/><path d=\"M17.41 7.96l-1.37-1.37c-.4-.4-.92-.59-1.43-.59-.52 0-1.04.2-1.43.59L10.3 9.45l-7.72 7.72c-.78.78-.78 2.05 0 2.83L4 21.41c.39.39.9.59 1.41.59.51 0 1.02-.2 1.41-.59l7.78-7.78 2.81-2.81c.8-.78.8-2.07 0-2.86zM5.41 20L4 18.59l7.72-7.72 1.47 1.35L5.41 20z\"/>\n",
              "  </svg>\n",
              "      </button>\n",
              "      \n",
              "  <style>\n",
              "    .colab-df-container {\n",
              "      display:flex;\n",
              "      flex-wrap:wrap;\n",
              "      gap: 12px;\n",
              "    }\n",
              "\n",
              "    .colab-df-convert {\n",
              "      background-color: #E8F0FE;\n",
              "      border: none;\n",
              "      border-radius: 50%;\n",
              "      cursor: pointer;\n",
              "      display: none;\n",
              "      fill: #1967D2;\n",
              "      height: 32px;\n",
              "      padding: 0 0 0 0;\n",
              "      width: 32px;\n",
              "    }\n",
              "\n",
              "    .colab-df-convert:hover {\n",
              "      background-color: #E2EBFA;\n",
              "      box-shadow: 0px 1px 2px rgba(60, 64, 67, 0.3), 0px 1px 3px 1px rgba(60, 64, 67, 0.15);\n",
              "      fill: #174EA6;\n",
              "    }\n",
              "\n",
              "    [theme=dark] .colab-df-convert {\n",
              "      background-color: #3B4455;\n",
              "      fill: #D2E3FC;\n",
              "    }\n",
              "\n",
              "    [theme=dark] .colab-df-convert:hover {\n",
              "      background-color: #434B5C;\n",
              "      box-shadow: 0px 1px 3px 1px rgba(0, 0, 0, 0.15);\n",
              "      filter: drop-shadow(0px 1px 2px rgba(0, 0, 0, 0.3));\n",
              "      fill: #FFFFFF;\n",
              "    }\n",
              "  </style>\n",
              "\n",
              "      <script>\n",
              "        const buttonEl =\n",
              "          document.querySelector('#df-88a7ddad-5158-4849-a189-d0434542e7d4 button.colab-df-convert');\n",
              "        buttonEl.style.display =\n",
              "          google.colab.kernel.accessAllowed ? 'block' : 'none';\n",
              "\n",
              "        async function convertToInteractive(key) {\n",
              "          const element = document.querySelector('#df-88a7ddad-5158-4849-a189-d0434542e7d4');\n",
              "          const dataTable =\n",
              "            await google.colab.kernel.invokeFunction('convertToInteractive',\n",
              "                                                     [key], {});\n",
              "          if (!dataTable) return;\n",
              "\n",
              "          const docLinkHtml = 'Like what you see? Visit the ' +\n",
              "            '<a target=\"_blank\" href=https://colab.research.google.com/notebooks/data_table.ipynb>data table notebook</a>'\n",
              "            + ' to learn more about interactive tables.';\n",
              "          element.innerHTML = '';\n",
              "          dataTable['output_type'] = 'display_data';\n",
              "          await google.colab.output.renderOutput(dataTable, element);\n",
              "          const docLink = document.createElement('div');\n",
              "          docLink.innerHTML = docLinkHtml;\n",
              "          element.appendChild(docLink);\n",
              "        }\n",
              "      </script>\n",
              "    </div>\n",
              "  </div>\n",
              "  "
            ],
            "text/plain": [
              "   CD_ORGAO  ...                                      DS_ITEM_TOKEN\n",
              "0     44500  ...  [credenciamento, academias, ginástica, muscula...\n",
              "1     56900  ...  [placa, obra, construcao, civil, chapa, galvan...\n",
              "2     56900  ...                      [tapume, compensado, madeira]\n",
              "\n",
              "[3 rows x 13 columns]"
            ]
          },
          "metadata": {},
          "execution_count": 33
        }
      ],
      "source": [
        "item_licitacao.head(3)"
      ]
    },
    {
      "cell_type": "code",
      "execution_count": 14,
      "metadata": {
        "colab": {
          "base_uri": "https://localhost:8080/"
        },
        "id": "-4pPMB50PuKb",
        "outputId": "c8a30bf5-a1c0-47ce-c054-e15cfa50536d"
      },
      "outputs": [
        {
          "output_type": "execute_result",
          "data": {
            "text/plain": [
              "Index(['Unnamed: 0', 'CD_ORGAO', 'NR_LICITACAO', 'ANO_LICITACAO',\n",
              "       'CD_TIPO_MODALIDADE', 'NR_LOTE', 'NR_ITEM', 'NR_ITEM_ORIGINAL',\n",
              "       'DS_ITEM', 'QT_ITENS', 'SG_UNIDADE_MEDIDA', 'VL_UNITARIO_ESTIMADO',\n",
              "       'VL_TOTAL_ESTIMADO', 'DS_ITEM_TOKEN'],\n",
              "      dtype='object')"
            ]
          },
          "metadata": {},
          "execution_count": 14
        }
      ],
      "source": [
        "item_licitacao.columns"
      ]
    },
    {
      "cell_type": "code",
      "execution_count": 12,
      "metadata": {
        "id": "ovmWxuViPuKb"
      },
      "outputs": [],
      "source": [
        "lic= [d.split() for d in item_licitacao['DS_ITEM_TOKEN']]\n"
      ]
    },
    {
      "cell_type": "code",
      "execution_count": 13,
      "metadata": {
        "id": "B50G5W3FPuKc"
      },
      "outputs": [],
      "source": [
        "id2word = corpora.Dictionary(lic)"
      ]
    },
    {
      "cell_type": "code",
      "execution_count": 14,
      "metadata": {
        "id": "q_isGWULPuKc"
      },
      "outputs": [],
      "source": [
        "texts = item_licitacao['DS_ITEM_TOKEN']"
      ]
    },
    {
      "cell_type": "markdown",
      "metadata": {
        "id": "CnJq0LOePuKc"
      },
      "source": [
        "Após o treinamento algumas vezes, foi notado outras stopwords."
      ]
    },
    {
      "cell_type": "code",
      "execution_count": 15,
      "metadata": {
        "colab": {
          "base_uri": "https://localhost:8080/"
        },
        "id": "0A8lQYf-PuKc",
        "outputId": "55c7f80b-d80c-4c43-94a1-59987da4bb38"
      },
      "outputs": [
        {
          "output_type": "stream",
          "name": "stdout",
          "text": [
            "[[(0, 1), (1, 1), (2, 1), (3, 1), (4, 1), (5, 1), (6, 2), (7, 1), (8, 1), (9, 1), (10, 1), (11, 1), (12, 3), (13, 1), (14, 1), (15, 1), (16, 1), (17, 1), (18, 1), (19, 1)]]\n"
          ]
        }
      ],
      "source": [
        "corpus = [id2word.doc2bow(text.split()) for text in texts]\n",
        "\n",
        "# Visualização\n",
        "print(corpus[:1])"
      ]
    },
    {
      "cell_type": "code",
      "execution_count": 16,
      "metadata": {
        "colab": {
          "base_uri": "https://localhost:8080/"
        },
        "id": "Bigp27wDPuKc",
        "outputId": "bb01e3de-463c-4688-e876-4da9b0d372e2"
      },
      "outputs": [
        {
          "output_type": "execute_result",
          "data": {
            "text/plain": [
              "[[(\"'academias',\", 1),\n",
              "  (\"'cada',\", 1),\n",
              "  (\"'canoas',\", 1),\n",
              "  (\"'credenciado',\", 1),\n",
              "  (\"'desembolsado',\", 1),\n",
              "  (\"'escolhido',\", 1),\n",
              "  (\"'estabelecimento',\", 2),\n",
              "  (\"'exercícios',\", 1),\n",
              "  (\"'físicos',\", 1),\n",
              "  (\"'ginástica',\", 1),\n",
              "  (\"'matriculado',\", 1),\n",
              "  (\"'ministrem',\", 1),\n",
              "  (\"'município',\", 3),\n",
              "  (\"'musculação',\", 1),\n",
              "  (\"'outro',\", 1),\n",
              "  (\"'servidor',\", 1),\n",
              "  (\"'servidor']\", 1),\n",
              "  (\"'valor',\", 1),\n",
              "  (\"'âmbito',\", 1),\n",
              "  (\"['credenciamento',\", 1)]]"
            ]
          },
          "metadata": {},
          "execution_count": 16
        }
      ],
      "source": [
        "# Corpus num formado simplificado (term-frequency)\n",
        "[[(id2word[id], freq) for id, freq in cp] for cp in corpus[:1]]"
      ]
    },
    {
      "cell_type": "markdown",
      "metadata": {
        "id": "6vTUhqJ7PuKc"
      },
      "source": [
        "### LDA"
      ]
    },
    {
      "cell_type": "code",
      "execution_count": 17,
      "metadata": {
        "id": "0Yej-70sPuKd"
      },
      "outputs": [],
      "source": [
        "cv = CountVectorizer(max_df=0.95, min_df=2, stop_words=filter_out)"
      ]
    },
    {
      "cell_type": "markdown",
      "metadata": {
        "id": "VrDOv5t5PuKd"
      },
      "source": [
        "Função de coerência"
      ]
    },
    {
      "cell_type": "code",
      "execution_count": 12,
      "metadata": {
        "id": "VqtDAQXMPuKd"
      },
      "outputs": [],
      "source": [
        "def compute_coherence_values(dictionary, corpus, texts, limit, start, step):\n",
        "    coherence_values = []\n",
        "    model_list = []\n",
        "    for num_topics in tqdm(range(start, limit, step)):\n",
        "        model = LdaMulticore(corpus, id2word=dictionary, num_topics = num_topics)\n",
        "        model_list.append(model)\n",
        "        coherencemodel = CoherenceModel(model=model, texts=texts, dictionary=dictionary, coherence='c_v')\n",
        "        coherence_values.append(coherencemodel.get_coherence())\n",
        "    return model_list, coherence_values"
      ]
    },
    {
      "cell_type": "code",
      "execution_count": null,
      "metadata": {
        "id": "Z2N-o7S4PuKd"
      },
      "outputs": [],
      "source": [
        "model_list, coherence_values = compute_coherence_values(dictionary=id2word, corpus=corpus, texts=lic, limit=20, start=1, step=3)"
      ]
    },
    {
      "cell_type": "code",
      "execution_count": 33,
      "metadata": {
        "colab": {
          "base_uri": "https://localhost:8080/",
          "height": 280
        },
        "id": "KmfN7U4uPuKd",
        "outputId": "75712257-3435-4b57-ff1b-62da9cc5fb08"
      },
      "outputs": [
        {
          "output_type": "display_data",
          "data": {
            "image/png": "[encoded data removed]",
            "text/plain": [
              "<Figure size 432x288 with 1 Axes>"
            ]
          },
          "metadata": {
            "needs_background": "light"
          }
        }
      ],
      "source": [
        "limit=20; start=1; step=3;\n",
        "x = range(start, limit, step)\n",
        "plt.plot(x, coherence_values)\n",
        "plt.xlabel(\"Num Tópicos\")\n",
        "plt.ylabel(\"Score de Coerência\")\n",
        "plt.legend((\"Valores de Coerência\"), loc='best')\n",
        "plt.show()"
      ]
    },
    {
      "cell_type": "code",
      "execution_count": 34,
      "metadata": {
        "colab": {
          "base_uri": "https://localhost:8080/"
        },
        "id": "eO7TqnnUPuKd",
        "outputId": "777a3897-f2ad-4a13-c514-85e714785cd9"
      },
      "outputs": [
        {
          "output_type": "stream",
          "name": "stdout",
          "text": [
            "A quantidade de tópicos = 1  tem um valor de coerência de  0.2493\n",
            "A quantidade de tópicos = 4  tem um valor de coerência de  0.5452\n",
            "A quantidade de tópicos = 7  tem um valor de coerência de  0.4871\n",
            "A quantidade de tópicos = 10  tem um valor de coerência de  0.542\n",
            "A quantidade de tópicos = 13  tem um valor de coerência de  0.5173\n",
            "A quantidade de tópicos = 16  tem um valor de coerência de  0.534\n",
            "A quantidade de tópicos = 19  tem um valor de coerência de  0.5397\n"
          ]
        }
      ],
      "source": [
        "for m, c in zip(x, coherence_values):\n",
        "    print(\"A quantidade de tópicos =\", m, \" tem um valor de coerência de \", round(c, 4))"
      ]
    },
    {
      "cell_type": "markdown",
      "metadata": {
        "id": "Z4pDLtz0PuKe"
      },
      "source": [
        "A quantida de tópicos a ser usada é 4: por ser o maior encontrado dentre os 20"
      ]
    },
    {
      "cell_type": "code",
      "execution_count": null,
      "metadata": {
        "id": "gT31luAuPuKe"
      },
      "outputs": [],
      "source": [
        "lda_model = LdaMulticore(corpus=corpus,\n",
        "                        id2word=id2word,\n",
        "                        num_topics=4, \n",
        "                        workers = 3,\n",
        "                        random_state=100,\n",
        "                        per_word_topics=True)"
      ]
    },
    {
      "cell_type": "markdown",
      "metadata": {
        "id": "8NbhkH6jPuKf"
      },
      "source": [
        "Salvar modelos"
      ]
    },
    {
      "cell_type": "code",
      "execution_count": 36,
      "metadata": {
        "colab": {
          "base_uri": "https://localhost:8080/"
        },
        "id": "6trWNo6MPuKg",
        "outputId": "df6b96c3-a76c-462d-e907-f1db98ea9b22"
      },
      "outputs": [
        {
          "output_type": "stream",
          "name": "stderr",
          "text": [
            "/usr/local/lib/python3.7/dist-packages/smart_open/smart_open_lib.py:494: DeprecationWarning: This function is deprecated.  See https://github.com/RaRe-Technologies/smart_open/blob/develop/MIGRATING_FROM_OLDER_VERSIONS.rst for more information\n",
            "  warnings.warn(message, category=DeprecationWarning)\n",
            "/usr/local/lib/python3.7/dist-packages/smart_open/smart_open_lib.py:494: DeprecationWarning: This function is deprecated.  See https://github.com/RaRe-Technologies/smart_open/blob/develop/MIGRATING_FROM_OLDER_VERSIONS.rst for more information\n",
            "  warnings.warn(message, category=DeprecationWarning)\n",
            "/usr/local/lib/python3.7/dist-packages/smart_open/smart_open_lib.py:494: DeprecationWarning: This function is deprecated.  See https://github.com/RaRe-Technologies/smart_open/blob/develop/MIGRATING_FROM_OLDER_VERSIONS.rst for more information\n",
            "  warnings.warn(message, category=DeprecationWarning)\n"
          ]
        }
      ],
      "source": [
        "lda_model.save('multicore_4topics')"
      ]
    },
    {
      "cell_type": "markdown",
      "metadata": {
        "id": "QQSP4D5kPuKg"
      },
      "source": [
        "Carregar Modelos"
      ]
    },
    {
      "cell_type": "code",
      "execution_count": 37,
      "metadata": {
        "id": "NQHfBGyFPuKg"
      },
      "outputs": [],
      "source": [
        "from gensim.test.utils import datapath"
      ]
    },
    {
      "cell_type": "code",
      "execution_count": 39,
      "metadata": {
        "colab": {
          "base_uri": "https://localhost:8080/"
        },
        "id": "3IR2czq2PuKg",
        "outputId": "ede610dc-0a94-4bd5-8fd6-917ba651ef7b"
      },
      "outputs": [
        {
          "output_type": "stream",
          "name": "stderr",
          "text": [
            "/usr/local/lib/python3.7/dist-packages/smart_open/smart_open_lib.py:494: DeprecationWarning: This function is deprecated.  See https://github.com/RaRe-Technologies/smart_open/blob/develop/MIGRATING_FROM_OLDER_VERSIONS.rst for more information\n",
            "  warnings.warn(message, category=DeprecationWarning)\n",
            "/usr/local/lib/python3.7/dist-packages/smart_open/smart_open_lib.py:494: DeprecationWarning: This function is deprecated.  See https://github.com/RaRe-Technologies/smart_open/blob/develop/MIGRATING_FROM_OLDER_VERSIONS.rst for more information\n",
            "  warnings.warn(message, category=DeprecationWarning)\n",
            "/usr/local/lib/python3.7/dist-packages/smart_open/smart_open_lib.py:494: DeprecationWarning: This function is deprecated.  See https://github.com/RaRe-Technologies/smart_open/blob/develop/MIGRATING_FROM_OLDER_VERSIONS.rst for more information\n",
            "  warnings.warn(message, category=DeprecationWarning)\n"
          ]
        }
      ],
      "source": [
        "lda_model = LdaMulticore.load(datapath(\"/content/multicore_4topics\")) "
      ]
    },
    {
      "cell_type": "code",
      "execution_count": 19,
      "metadata": {
        "id": "5_TCWknwPuKh"
      },
      "outputs": [],
      "source": [
        "#função Score de Coerência\n",
        "def score_coherence (lda_model,lic,id2word):\n",
        "    coherence_model_lda = CoherenceModel(model=lda_model, texts=lic, dictionary=id2word, coherence='c_v')\n",
        "    coherence_lda = coherence_model_lda.get_coherence()\n",
        "    print('\\nScore de Coerência: ', coherence_lda)"
      ]
    },
    {
      "cell_type": "code",
      "execution_count": 41,
      "metadata": {
        "colab": {
          "base_uri": "https://localhost:8080/"
        },
        "id": "sN9B2neRPuKh",
        "outputId": "b68693c6-e50e-49fe-d156-7cd517535717"
      },
      "outputs": [
        {
          "output_type": "stream",
          "name": "stdout",
          "text": [
            "\n",
            "Score de Coerência:  0.4947083265662168\n"
          ]
        }
      ],
      "source": [
        "score_coherence(lda_model,lic,id2word)"
      ]
    },
    {
      "cell_type": "code",
      "execution_count": 42,
      "metadata": {
        "id": "H3KEUCrCPuKh"
      },
      "outputs": [],
      "source": [
        "pyLDAvis.enable_notebook()"
      ]
    },
    {
      "cell_type": "code",
      "execution_count": 44,
      "metadata": {
        "id": "rEGWNFXOPuKh"
      },
      "outputs": [],
      "source": [
        "display_data = pyLDAvis.gensim_models.prepare(lda_model, corpus, id2word)"
      ]
    },
    {
      "cell_type": "code",
      "execution_count": 45,
      "metadata": {
        "colab": {
          "base_uri": "https://localhost:8080/",
          "height": 881
        },
        "id": "QlhiCxyMPuKi",
        "outputId": "c81516ec-b43a-4473-a568-5f4bbdc028f5"
      },
      "outputs": [
        {
          "output_type": "execute_result",
          "data": {
            "text/html": [
              "\n",
              "<link rel=\"stylesheet\" type=\"text/css\" href=\"https://cdn.jsdelivr.net/gh/bmabey/pyLDAvis@3.3.1/pyLDAvis/js/ldavis.v1.0.0.css\">\n",
              "\n",
              "\n",
              "<div id=\"ldavis_el3501140204754029520680048913\"></div>\n",
              "<script type=\"text/javascript\">\n",
              "\n",
              "var ldavis_el3501140204754029520680048913_data = {\"mdsDat\": {\"x\": [0.05005443361642298, 0.028111942058461455, -0.3271311548889727, 0.2489647792140882], \"y\": [0.016637291920220478, -0.30704548207416504, 0.11196492206920695, 0.17844326808473748], \"topics\": [1, 2, 3, 4], \"cluster\": [1, 1, 1, 1], \"Freq\": [29.92783949976305, 29.152952148778294, 22.13684616576225, 18.782362185696407]}, \"tinfo\": {\"Term\": [\"'embalagem',\", \"'validade',\", \"'x',\", \"'x']\", \"'produto',\", \"'pvc',\", \"'a\\u00e7o',\", \"'meses',\", \"'concreto',\", \"'prazo',\", \"'fornecimento',\", \"'contendo',\", \"'servi\\u00e7os',\", \"'fabrica\\u00e7\\u00e3o',\", \"'entrega']\", \"'m\\u00e9dio',\", \"'embalagem']\", \"'instala\\u00e7\\u00e3o']\", \"',\", \"['servi\\u00e7o',\", \"'w',\", \"['\", \"'madeira',\", \"['contrata\\u00e7\\u00e3o',\", \"['tubo',\", \"'identifica\\u00e7\\u00e3o',\", \"['livro',\", \"'entrega',\", \"'sabor',\", \"'empresa',\", \"'manga',\", \"['sonda',\", \"'inoxid\\u00e1vel',\", \"'vapor',\", \"['l\\u00e2mpada',\", \"'w']\", \"['prego',\", \"'sint\\u00e9tico',\", \"['broca',\", \"['material',\", \"'cir\\u00fargico',\", \"['camiseta',\", \"'confeccionada',\", \"'pilar',\", \"'nylon',\", \"'conector',\", \"'descartavel',\", \"['seringa',\", \"'autoclav\\u00e1vel',\", \"'gola',\", \"'cerdas',\", \"['pincel',\", \"'bolsos',\", \"'poliuretano',\", \"['cateter',\", \"'sobrado',\", \"'sutura',\", \"'antiderrapante',\", \"['arma\\u00e7\\u00e3o',\", \"'t\\u00e9rrea',\", \"'descart\\u00e1vel',\", \"'tecido',\", \"'inox',\", \"'est\\u00e9ril',\", \"'w',\", \"'acr\\u00edlica',\", \"'confeccionado',\", \"'adulto',\", \"'l\\u00e1tex',\", \"'resist\\u00eancia',\", \"'poli\\u00e9ster',\", \"'fios',\", \"'agulha',\", \"'montagem']\", \"'silicone',\", \"'haste',\", \"'rota\\u00e7\\u00e3o',\", \"'corpo',\", \"'esmalte',\", \"'resina',\", \"'alta',\", \"'ponta',\", \"'press\\u00e3o',\", \"'abnt',\", \"'cabo',\", \"'borracha',\", \"'a\\u00e7o',\", \"'caixa']\", \"'polipropileno',\", \"'altura',\", \"'led',\", \"'comprimento',\", \"'base',\", \"'largura',\", \"'mesa',\", \"'estrutura',\", \"'material',\", \"'tinta',\", \"'algod\\u00e3o',\", \"'c',\", \"'prote\\u00e7\\u00e3o',\", \"'pl\\u00e1stico',\", \"'tubo',\", \"',\", \"'x',\", \"['\", \"'v',\", \"'pintura',\", \"'p',\", \"'capacidade',\", \"'caixa',\", \"'uso',\", \"'m\\u00ednimo',\", \"'m\\u00ednima',\", \"'sistema',\", \"'servi\\u00e7os',\", \"['contrata\\u00e7\\u00e3o',\", \"['pneu',\", \"'presta\\u00e7\\u00e3o',\", \"'lonas',\", \"['presta\\u00e7\\u00e3o',\", \"['loca\\u00e7\\u00e3o',\", \"'fiat',\", \"'radial',\", \"['servi\\u00e7os',\", \"'especializada',\", \"'manuten\\u00e7\\u00e3o',\", \"'ampola']\", \"'combust\\u00edvel',\", \"'contrata\\u00e7\\u00e3o',\", \"'conserto',\", \"'trator',\", \"'ca\\u00e7amba',\", \"'renavam',\", \"'chassi',\", \"'borrachudo',\", \"'cv',\", \"['transporte',\", \"['recapagem',\", \"'motorista',\", \"'m\\u00b3',\", \"'descritivo',\", \"'anomodelo',\", \"'retroescavadeira',\", \"'loca\\u00e7\\u00e3o',\", \"['servi\\u00e7o',\", \"'pneu',\", \"['filtro',\", \"'municipal',\", \"'munic\\u00edpio',\", \"'caminh\\u00e3o',\", \"'comprimido']\", \"'memorial',\", \"'hp',\", \"'projeto',\", \"'velocidade',\", \"['jogo',\", \"'rua',\", \"'ve\\u00edculos',\", \"'secretaria',\", \"'equipamentos',\", \"'traseiro',\", \"'empresa',\", \"'termo',\", \"'placa',\", \"'\\\\t',\", \"'especifica\\u00e7\\u00f5es',\", \"'portas',\", \"'servi\\u00e7o',\", \"'usb',\", \"'ve\\u00edculo',\", \"['constru\\u00e7\\u00e3o',\", \"'motor',\", \"',\", \"['\", \"'ar',\", \"'m\\u00ednimo',\", \"'obra',\", \"'horas',\", \"'carga',\", \"'sistema',\", \"'capacidade',\", \"'x',\", \"'m\\u00ednima',\", \"'transporte',\", \"'r\\u00f3tulo',\", \"'sabor',\", \"'ingredientes',\", \"'entrega']\", \"'sujidades',\", \"'colora\\u00e7\\u00e3o',\", \"'nutricional',\", \"'leite',\", \"'parasitas',\", \"'gordura',\", \"'milho',\", \"'casca',\", \"'trigo',\", \"['carne',\", \"'aroma',\", \"'a\\u00e7\\u00facar',\", \"'larvas',\", \"'gramas']\", \"'ovos',\", \"'matura\\u00e7\\u00e3o',\", \"['farinha',\", \"['biscoito',\", \"'rachaduras',\", \"'doce',\", \"'farinha',\", \"'fresco',\", \"'frango',\", \"'sal',\", \"'acondicionado',\", \"'\\u00edntegra',\", \"'validade',\", \"'prazo',\", \"'lixo',\", \"'firme',\", \"'isento',\", \"'gramas',\", \"'embalagem',\", \"['saco',\", \"'embalagens',\", \"'saco',\", \"'m\\u00e9dio',\", \"['parafuso',\", \"'integral',\", \"'embalagem']\", \"'l\\u00edquido',\", \"'lote',\", \"'entrega',\", \"'produto',\", \"'identifica\\u00e7\\u00e3o',\", \"'meses',\", \"'diversos']\", \"'contendo',\", \"'fabrica\\u00e7\\u00e3o',\", \"'primeira',\", \"'pl\\u00e1stica',\", \"'p\\u00f3',\", \"'peso',\", \"'informa\\u00e7\\u00f5es',\", \"'registro',\", \"'m\\u00ednima',\", \"'conter',\", \"'m\\u00ednimo',\", \"'pacote',\", \"'transparente',\", \"'fabricante',\", \"'pl\\u00e1stico',\", \"'meses']\", \"['livro',\", \"'instala\\u00e7\\u00e3o']\", \"['cabo',\", \"['exame',\", \"'esgoto',\", \"['papel',\", \"'sold\\u00e1vel',\", \"'argamassa',\", \"'ramal',\", \"['joelho',\", \"'mm\\u00b2',\", \"'tra\\u00e7o',\", \"'mpa',\", \"'fck',\", \"'betoneira',\", \"['bucha',\", \"['registro',\", \"'cer\\u00e2mico',\", \"'areia',\", \"['concreto',\", \"'esgoto']\", \"'folhas']\", \"['eletroduto',\", \"['curva',\", \"'sold\\u00e1vel']\", \"'antichama',\", \"'isolado',\", \"['piso',\", \"'azul']\", \"['folha',\", \"'concreto',\", \"['caixa',\", \"'x']\", \"['tubo',\", \"'autor',\", \"['disjuntor',\", \"['livros',\", \"'brita',\", \"'cola',\", \"'xmm']\", \"'editora',\", \"'junta',\", \"'alvenaria',\", \"'metros']\", \"'pead',\", \"['fita',\", \"'pvc',\", \"'xcm',\", \"['placa',\", \"'fornecimento',\", \"'cobre',\", \"'x',\", \"'piso',\", \"'papel',\", \"'rolo',\", \"'simples',\", \"'instalado',\", \"'madeira',\", \"'frasco']\", \"'ferro',\", \"'l']\", \"'medindo',\", \"'dimens\\u00f5es',\", \"'folhas',\", \"'c',\", \"'espessura',\", \"'branca',\"], \"Freq\": [47565.0, 39279.0, 79966.0, 25397.0, 24387.0, 21909.0, 30324.0, 19940.0, 13149.0, 11676.0, 14613.0, 15277.0, 13041.0, 14836.0, 10460.0, 10504.0, 10855.0, 8806.0, 48871.0, 11536.0, 11972.0, 47698.0, 14047.0, 10242.0, 7689.0, 9564.0, 7386.0, 9062.0, 8028.0, 10831.0, 3924.5092704941558, 3326.111976256363, 3114.3268876329576, 2420.7430516487084, 2391.6647025789066, 3204.3994170198994, 2318.179114673155, 2394.292704245602, 3342.433342027155, 1871.8833697062512, 1964.9905909566687, 2091.019997177708, 4497.5769526699705, 1723.2715553889855, 4374.1473544346, 2208.904205125729, 1655.3649564578175, 1619.473962266948, 1446.1164226393316, 1623.6967329272686, 1706.210872417796, 2041.7134854180426, 1617.1419212104097, 1553.2915603158806, 1287.4819738389099, 1192.1321862968707, 1186.2475223090817, 1609.9069551989353, 3067.1604661688502, 1180.698918234257, 7521.655721254877, 7068.113762020337, 6921.825662128426, 4494.591928431101, 11839.857171169871, 4389.522405875383, 4282.369472548658, 3640.055480308532, 3723.148831950724, 4159.1721434989495, 3544.183817504999, 3019.851761568369, 3209.310960768517, 2328.5110031601125, 2288.2004668667305, 2269.32472437866, 2511.356958143864, 4999.650608720309, 2942.457039443564, 2818.570206899313, 10812.438531803422, 6504.517695857041, 4894.345895353952, 3857.717125410415, 9963.26589497589, 5799.006618067214, 26873.328580757523, 5102.664768104798, 5549.392329243283, 14088.413378319196, 7211.902703907033, 9356.662924828057, 11333.651753077242, 10956.369464663994, 4871.9241766314535, 7609.583777908795, 12192.146710880974, 7104.02579191104, 4249.20318581122, 14470.743066042485, 5900.573404438161, 9624.066988136155, 6813.528036135764, 18275.044706325763, 24307.354180971037, 17912.5563581454, 8371.18070605462, 6874.939424499601, 8029.892837356421, 8626.797181231033, 8162.519418856485, 7670.064920879996, 10846.253419285727, 9492.022394331485, 7064.395117749777, 13040.147949174843, 10241.494479691724, 8696.957374773128, 4502.881568699204, 4650.548872270471, 4698.7210457954425, 3958.0730240554076, 3338.9238165241804, 3485.301607155652, 6066.527428267265, 3025.2317931036337, 4695.227606966046, 2811.7108196658255, 3208.3062020275765, 2622.9712055819664, 2591.463091020553, 2356.820544512024, 2197.777010364179, 2123.3162471764617, 2142.409491242123, 1938.028662932209, 2221.308842778783, 3234.259535401848, 2116.674586731522, 1796.0642737383641, 2807.1176946745722, 1886.304708014906, 1777.689212392539, 1758.1976736106467, 1801.8780389853637, 11507.969791270942, 9093.704447798511, 7873.116558060158, 8762.264616733157, 7077.336521933817, 5123.720149174733, 5432.700654890948, 5115.084880664625, 4022.0557475378787, 3997.6295663231626, 4136.938230511996, 3569.1965050688827, 3603.505347249041, 2752.1996978849825, 4250.264532344024, 3352.763810843819, 3229.6672642041985, 10515.199079672402, 9390.199645046649, 9035.170635096294, 5113.676121218148, 8649.049308069638, 6736.40762875443, 9015.469063087836, 4825.8782348153345, 7102.634426418141, 4820.563085033027, 6982.198869844089, 27516.242409959363, 26636.113257722503, 8437.900457861404, 17326.82820171565, 7551.653589854546, 5358.863445631964, 5699.910731524428, 7345.255247258556, 7473.389745357074, 9292.271226263556, 7581.638252028688, 5224.585048759594, 7039.040473784401, 8027.457711081898, 5197.011876643057, 10459.159534278597, 4449.566428547329, 4461.452204487538, 4080.6673845860364, 4235.317753549459, 3374.532571558135, 3637.1520325323154, 3314.8834808446686, 3518.1056134502987, 3363.088730377884, 3091.2521743195966, 2996.05532102917, 2939.2665963219697, 2824.5355783263176, 3773.0868425952667, 2818.077063785425, 2822.218500333028, 2889.1246136255513, 3039.160276053933, 2651.535084046332, 3324.6581268728796, 2618.3054799877464, 2591.502190822506, 2490.780396665036, 2579.0530291027308, 3451.744949220922, 2588.824001345651, 39264.31072835368, 11659.89260330107, 4039.981725227649, 3722.8878081743355, 5252.987830380964, 5525.580105684032, 46285.57656448204, 3937.422174004805, 3104.237708691801, 3001.7332642483166, 10365.651757801783, 5336.211601304275, 5204.68057927968, 10515.113445304762, 4854.086494686378, 8112.393898160667, 8667.203766228202, 22149.654336840416, 9011.626755953346, 17721.354803025377, 4252.592324195942, 12927.733195491997, 12439.631488521329, 5264.7059088279075, 8691.621904319767, 8670.976959826674, 11029.680237088916, 5328.497948824096, 9701.897299676326, 14891.703370629377, 5085.80769252639, 14317.667935821028, 6430.458058733258, 6525.114649480948, 5661.585365982556, 5843.2946763464415, 5447.989328136311, 7385.860652151445, 8805.387887393194, 6024.260169659047, 4455.583858561835, 4098.573816139425, 4402.789289735903, 3880.3817394981265, 3233.440893744971, 2692.3616552867734, 2666.6790994530675, 2576.801888932242, 2969.966232670686, 2220.7304549236933, 1958.891345139044, 1663.8466936616696, 2741.09576634264, 1645.8382104877296, 1690.5445014562176, 2319.837712122653, 1505.4022957627005, 1559.4589161050628, 1922.108310036893, 1505.5471483993385, 1632.5667752473917, 1406.2928382705259, 1364.045466648412, 1537.195982642624, 1310.7422633743356, 1714.3166527062115, 1264.2741792930155, 13141.01799405063, 5645.0884072620765, 24889.643502214956, 7626.500120169686, 4449.599427733234, 2329.706760621906, 2331.1057803909553, 2323.025386917531, 3086.8903641761344, 2171.9583888098714, 5106.492199696731, 1973.1745485426338, 2815.0897935772123, 3357.578869912765, 2058.2694217611865, 4071.4680373113074, 19024.863151770187, 6090.413818738371, 3782.804236156726, 11428.23861287046, 3281.9463576642715, 46340.02628279021, 4133.844149656431, 8426.317705199639, 4072.6554622162043, 4533.484139683671, 3753.967926715203, 8187.769982597559, 4120.409159287129, 4669.335743495755, 4039.3855619469473, 5371.60259541842, 5253.64047558891, 4762.158779915603, 7336.638626075206, 4895.9219387513485, 4119.9096927273795], \"Total\": [47565.0, 39279.0, 79966.0, 25397.0, 24387.0, 21909.0, 30324.0, 19940.0, 13149.0, 11676.0, 14613.0, 15277.0, 13041.0, 14836.0, 10460.0, 10504.0, 10855.0, 8806.0, 48871.0, 11536.0, 11972.0, 47698.0, 14047.0, 10242.0, 7689.0, 9564.0, 7386.0, 9062.0, 8028.0, 10831.0, 3925.457113198692, 3327.0674777981326, 3115.234710829504, 2421.507405022092, 2392.4255987488104, 3205.4434428041504, 2318.9470234551536, 2395.184914856007, 3343.7228237191607, 1872.6528938770539, 1965.799050690612, 2091.888138847267, 4499.548146584917, 1724.0309300682275, 4376.111921834158, 2209.9580669187326, 1656.190805318267, 1620.2907582290777, 1446.8806099433696, 1624.6043044349874, 1707.1769208853464, 2042.8833815616683, 1618.0848063891003, 1554.2079765000612, 1288.2613885854983, 1192.883930801159, 1187.0030479705254, 1610.9520765229395, 3069.179200009621, 1181.4760454200073, 7533.008439626846, 7093.126736328743, 6951.042253561775, 4498.292100818403, 11972.197059875549, 4396.519484869519, 4290.558360363941, 3644.6198961480513, 3728.936939601391, 4172.9648588529235, 3553.3519205175116, 3023.315945369941, 3219.4034474037285, 2330.3134513105465, 2290.418992325149, 2271.6477651097653, 2516.5139325478513, 5067.7889452212585, 2953.805096805189, 2827.9048150079198, 11256.317972318298, 6677.326048864045, 4987.804135211141, 3909.0384806273737, 10423.253483730032, 5974.382781835972, 30324.82966188049, 5339.131200378519, 5917.547162219455, 17418.27533635183, 8121.937676632532, 10981.18718495328, 14541.131162708416, 14274.352394529586, 5311.013948364696, 9336.72017184644, 17048.93339428961, 8706.572125826378, 4486.659686351755, 26598.51519243476, 7235.650926991625, 15578.666620161943, 9065.180721878045, 48871.698342815704, 79966.5646930059, 47698.34065072436, 14582.54889774723, 10077.15945048173, 14070.615954340348, 17158.35554216302, 15674.025762603746, 15084.46076025748, 42561.71832413494, 31972.108581080927, 14474.548624408433, 13041.06322829162, 10242.298173490553, 8698.181044134444, 4503.655857151327, 4651.399970975379, 4699.597669601092, 3958.9237626978165, 3339.6974881427564, 3486.1218957615647, 6068.00720925239, 3026.0027821938943, 4696.542551090839, 2812.5141552819164, 3209.2446278670764, 2623.747030931054, 2592.2609074954057, 2357.595764218522, 2198.557918408423, 2124.083925696656, 2143.259035414182, 1938.7988279374629, 2222.206165818565, 3235.5853686392597, 2117.5618761393193, 1796.8292239724904, 2808.3296446891122, 1887.1214884148997, 1778.4637505661974, 1758.9671638349819, 1802.670092669847, 11536.993825098687, 9098.850170882904, 7878.36793263051, 8779.910037068332, 7091.378872535793, 5126.314493848398, 5441.193353705668, 5127.491898477101, 4024.427669759477, 4001.794048664371, 4143.835958928003, 3571.1963538939226, 3610.4931225911337, 2753.95823314777, 4273.246886858292, 3363.614298070489, 3238.29968140903, 10831.660861459413, 9666.208364912163, 9320.854407846788, 5195.827174183528, 9060.723886748621, 6985.932251797997, 9496.050001521611, 4926.338545826119, 7552.792438922102, 5005.696775001574, 7961.130306217212, 48871.698342815704, 47698.34065072436, 11134.921063052663, 42561.71832413494, 10797.697907434016, 6154.863537298373, 7493.5541558744535, 14474.548624408433, 17158.35554216302, 79966.5646930059, 31972.108581080927, 8827.051869661082, 7039.714524668564, 8028.240636463952, 5197.680319427914, 10460.634441589707, 4450.253751836424, 4462.174793959361, 4081.3337582973586, 4236.009695632208, 3375.2063262944694, 3637.88463561731, 3315.5617919095216, 3518.8268421379757, 3363.7971252890025, 3091.9198235953795, 2996.7494042204917, 2939.947792989658, 2825.2038533658433, 3773.987861982911, 2818.7522684276955, 2822.929827618798, 2889.8563525650943, 3039.9365333808996, 2652.212950799916, 3325.5093929849127, 2618.9771651612973, 2592.176090505988, 2491.446468724798, 2579.7528159313547, 3452.697192957598, 2589.544697870447, 39279.49911893384, 11676.301474126778, 4042.905580430621, 3725.1917077643134, 5277.6582341845915, 5557.321028519848, 47565.86975600904, 3947.729477807921, 3105.116343110994, 3003.355208615634, 10504.831759764807, 5371.285087962317, 5260.948401494434, 10855.438992545613, 4903.960989807904, 8329.137819428497, 9062.319608317019, 24387.990949370072, 9564.596420190477, 19940.95494550091, 4320.808980793533, 15277.392992022898, 14836.177715496151, 5607.02131509339, 10543.967460741045, 10686.353111425904, 15425.185951683246, 5881.465992956452, 13858.048288676147, 31972.108581080927, 5680.10230030628, 42561.71832413494, 9035.039011823686, 9554.255827787287, 7724.932272640901, 15578.666620161943, 9064.952482003255, 7386.770606875933, 8806.647085887185, 6025.143546204255, 4456.370452974373, 4099.3843927942235, 4403.74244273412, 3881.2344849937454, 3234.2243059482466, 2693.1324869766304, 2667.4609188305967, 2577.586995133876, 2970.8965668197543, 2221.5230919150667, 1959.658978572799, 1664.6142690855638, 2742.36302422304, 1646.6358813969455, 1691.3789130093098, 2320.9963147718317, 1506.1708530824951, 1560.2803609008402, 1923.140065840652, 1506.3603916540094, 1633.4521707991998, 1407.0625681789309, 1364.8232732816043, 1538.090259392327, 1311.514205123718, 1715.341497223458, 1265.0572434993767, 13149.414642280155, 5658.323417682704, 25397.188734247276, 7689.780113294052, 4482.003836389989, 2331.4020013453905, 2333.0647744595567, 2325.886701588879, 3099.863014340608, 2173.5931534282154, 5160.60747736988, 1976.5940717996843, 2830.8608072135958, 3394.1320241302337, 2063.4818906735404, 4244.3997299838575, 21909.317819887416, 6620.429814997946, 3991.4304240697816, 14613.113072729233, 3487.17925928276, 79966.5646930059, 4589.948849961409, 11700.176734942404, 4738.2148130812875, 5502.904525309162, 4298.248563244246, 14047.15820569071, 5040.9784220960355, 6510.275880462296, 5567.056753439149, 10738.941500141356, 10269.67645241668, 8354.163147682344, 26598.51519243476, 11350.899487112729, 13395.323677343968], \"Category\": [\"Default\", \"Default\", \"Default\", \"Default\", \"Default\", \"Default\", \"Default\", \"Default\", \"Default\", \"Default\", \"Default\", \"Default\", \"Default\", \"Default\", \"Default\", \"Default\", \"Default\", \"Default\", \"Default\", \"Default\", \"Default\", \"Default\", \"Default\", \"Default\", \"Default\", \"Default\", \"Default\", \"Default\", \"Default\", \"Default\", \"Topic1\", \"Topic1\", \"Topic1\", \"Topic1\", \"Topic1\", \"Topic1\", \"Topic1\", \"Topic1\", \"Topic1\", \"Topic1\", \"Topic1\", \"Topic1\", \"Topic1\", \"Topic1\", \"Topic1\", \"Topic1\", \"Topic1\", \"Topic1\", \"Topic1\", \"Topic1\", \"Topic1\", \"Topic1\", \"Topic1\", \"Topic1\", \"Topic1\", \"Topic1\", \"Topic1\", \"Topic1\", \"Topic1\", \"Topic1\", \"Topic1\", \"Topic1\", \"Topic1\", \"Topic1\", \"Topic1\", \"Topic1\", \"Topic1\", \"Topic1\", \"Topic1\", \"Topic1\", \"Topic1\", \"Topic1\", \"Topic1\", \"Topic1\", \"Topic1\", \"Topic1\", \"Topic1\", \"Topic1\", \"Topic1\", \"Topic1\", \"Topic1\", \"Topic1\", \"Topic1\", \"Topic1\", \"Topic1\", \"Topic1\", \"Topic1\", \"Topic1\", \"Topic1\", \"Topic1\", \"Topic1\", \"Topic1\", \"Topic1\", \"Topic1\", \"Topic1\", \"Topic1\", \"Topic1\", \"Topic1\", \"Topic1\", \"Topic1\", \"Topic1\", \"Topic1\", \"Topic1\", \"Topic1\", \"Topic1\", \"Topic1\", \"Topic1\", \"Topic1\", \"Topic1\", \"Topic1\", \"Topic1\", \"Topic1\", \"Topic1\", \"Topic1\", \"Topic1\", \"Topic2\", \"Topic2\", \"Topic2\", \"Topic2\", \"Topic2\", \"Topic2\", \"Topic2\", \"Topic2\", \"Topic2\", \"Topic2\", \"Topic2\", \"Topic2\", \"Topic2\", \"Topic2\", \"Topic2\", \"Topic2\", \"Topic2\", \"Topic2\", \"Topic2\", \"Topic2\", \"Topic2\", \"Topic2\", \"Topic2\", \"Topic2\", \"Topic2\", \"Topic2\", \"Topic2\", \"Topic2\", \"Topic2\", \"Topic2\", \"Topic2\", \"Topic2\", \"Topic2\", \"Topic2\", \"Topic2\", \"Topic2\", \"Topic2\", \"Topic2\", \"Topic2\", \"Topic2\", \"Topic2\", \"Topic2\", \"Topic2\", \"Topic2\", \"Topic2\", \"Topic2\", \"Topic2\", \"Topic2\", \"Topic2\", \"Topic2\", \"Topic2\", \"Topic2\", \"Topic2\", \"Topic2\", \"Topic2\", \"Topic2\", \"Topic2\", \"Topic2\", \"Topic2\", \"Topic2\", \"Topic2\", \"Topic2\", \"Topic2\", \"Topic2\", \"Topic2\", \"Topic2\", \"Topic2\", \"Topic2\", \"Topic2\", \"Topic2\", \"Topic3\", \"Topic3\", \"Topic3\", \"Topic3\", \"Topic3\", \"Topic3\", \"Topic3\", \"Topic3\", \"Topic3\", \"Topic3\", \"Topic3\", \"Topic3\", \"Topic3\", \"Topic3\", \"Topic3\", \"Topic3\", \"Topic3\", \"Topic3\", \"Topic3\", \"Topic3\", \"Topic3\", \"Topic3\", \"Topic3\", \"Topic3\", \"Topic3\", \"Topic3\", \"Topic3\", \"Topic3\", \"Topic3\", \"Topic3\", \"Topic3\", \"Topic3\", \"Topic3\", \"Topic3\", \"Topic3\", \"Topic3\", \"Topic3\", \"Topic3\", \"Topic3\", \"Topic3\", \"Topic3\", \"Topic3\", \"Topic3\", \"Topic3\", \"Topic3\", \"Topic3\", \"Topic3\", \"Topic3\", \"Topic3\", \"Topic3\", \"Topic3\", \"Topic3\", \"Topic3\", \"Topic3\", \"Topic3\", \"Topic3\", \"Topic3\", \"Topic3\", \"Topic3\", \"Topic3\", \"Topic3\", \"Topic3\", \"Topic3\", \"Topic3\", \"Topic3\", \"Topic3\", \"Topic3\", \"Topic4\", \"Topic4\", \"Topic4\", \"Topic4\", \"Topic4\", \"Topic4\", \"Topic4\", \"Topic4\", \"Topic4\", \"Topic4\", \"Topic4\", \"Topic4\", \"Topic4\", \"Topic4\", \"Topic4\", \"Topic4\", \"Topic4\", \"Topic4\", \"Topic4\", \"Topic4\", \"Topic4\", \"Topic4\", \"Topic4\", \"Topic4\", \"Topic4\", \"Topic4\", \"Topic4\", \"Topic4\", \"Topic4\", \"Topic4\", \"Topic4\", \"Topic4\", \"Topic4\", \"Topic4\", \"Topic4\", \"Topic4\", \"Topic4\", \"Topic4\", \"Topic4\", \"Topic4\", \"Topic4\", \"Topic4\", \"Topic4\", \"Topic4\", \"Topic4\", \"Topic4\", \"Topic4\", \"Topic4\", \"Topic4\", \"Topic4\", \"Topic4\", \"Topic4\", \"Topic4\", \"Topic4\", \"Topic4\", \"Topic4\", \"Topic4\", \"Topic4\", \"Topic4\", \"Topic4\", \"Topic4\", \"Topic4\", \"Topic4\", \"Topic4\", \"Topic4\", \"Topic4\", \"Topic4\"], \"logprob\": [30.0, 29.0, 28.0, 27.0, 26.0, 25.0, 24.0, 23.0, 22.0, 21.0, 20.0, 19.0, 18.0, 17.0, 16.0, 15.0, 14.0, 13.0, 12.0, 11.0, 10.0, 9.0, 8.0, 7.0, 6.0, 5.0, 4.0, 3.0, 2.0, 1.0, -6.4607, -6.6261, -6.6919, -6.9438, -6.9559, -6.6634, -6.9871, -6.9548, -6.6212, -7.201, -7.1524, -7.0902, -6.3244, -7.2837, -6.3522, -7.0354, -7.3239, -7.3458, -7.459, -7.3432, -7.2936, -7.1141, -7.3472, -7.3875, -7.5752, -7.6522, -7.6571, -7.3517, -6.7071, -7.6618, -5.8101, -5.8723, -5.8932, -6.325, -5.3564, -6.3487, -6.3734, -6.5359, -6.5133, -6.4026, -6.5626, -6.7227, -6.6618, -6.9827, -7.0001, -7.0084, -6.9071, -6.2185, -6.7487, -6.7917, -5.4472, -5.9554, -6.2398, -6.4778, -5.529, -6.0702, -4.5368, -6.1981, -6.1142, -5.1825, -5.8522, -5.5918, -5.4001, -5.434, -6.2444, -5.7985, -5.3271, -5.8672, -6.3812, -5.1558, -6.0529, -5.5636, -5.909, -4.9224, -4.6371, -4.9424, -5.7031, -5.9, -5.7447, -5.673, -5.7283, -5.7906, -5.4441, -5.5774, -5.8728, -5.2336, -5.4752, -5.6387, -6.297, -6.2647, -6.2544, -6.4259, -6.596, -6.5531, -5.9989, -6.6947, -6.2551, -6.7679, -6.6359, -6.8374, -6.8494, -6.9444, -7.0142, -7.0487, -7.0397, -7.14, -7.0036, -6.6279, -7.0518, -7.2161, -6.7695, -7.167, -7.2264, -7.2374, -7.2128, -5.3586, -5.5941, -5.7382, -5.6312, -5.8448, -6.1678, -6.1092, -6.1695, -6.4099, -6.416, -6.3817, -6.5293, -6.5198, -6.7893, -6.3547, -6.5919, -6.6293, -5.4488, -5.562, -5.6005, -6.1697, -5.6442, -5.8941, -5.6027, -6.2277, -5.8412, -6.2288, -5.8583, -4.4869, -4.5194, -5.6689, -4.9494, -5.7799, -6.1229, -6.0612, -5.8076, -5.7903, -5.5725, -5.7759, -6.1483, -5.5749, -5.4435, -5.8783, -5.1789, -6.0335, -6.0309, -6.1201, -6.0829, -6.3101, -6.2352, -6.3279, -6.2684, -6.3135, -6.3978, -6.4291, -6.4482, -6.488, -6.1985, -6.4903, -6.4888, -6.4654, -6.4148, -6.5512, -6.325, -6.5638, -6.5741, -6.6138, -6.5789, -6.2875, -6.5752, -3.856, -5.0702, -6.1301, -6.2119, -5.8676, -5.817, -3.6915, -6.1558, -6.3936, -6.4272, -5.1879, -5.8518, -5.8768, -5.1735, -5.9465, -5.433, -5.3668, -4.4285, -5.3278, -4.6516, -6.0788, -4.967, -5.0055, -5.8653, -5.364, -5.3664, -5.1258, -5.8533, -5.254, -4.8256, -5.8999, -4.8649, -5.6653, -5.6507, -5.7927, -5.7611, -5.8311, -5.3625, -5.1867, -5.5662, -5.8679, -5.9514, -5.8798, -6.0061, -6.1885, -6.3716, -6.3812, -6.4155, -6.2735, -6.5642, -6.6897, -6.8529, -6.3537, -6.8638, -6.837, -6.5205, -6.953, -6.9177, -6.7086, -6.9529, -6.8719, -7.0211, -7.0516, -6.9321, -7.0914, -6.823, -7.1275, -4.7863, -5.6312, -4.1476, -5.3304, -5.8692, -6.5163, -6.5157, -6.5192, -6.2349, -6.5864, -5.7315, -6.6824, -6.327, -6.1508, -6.6402, -5.958, -4.4163, -5.5553, -6.0316, -4.9259, -6.1736, -3.526, -5.9428, -5.2307, -5.9577, -5.8505, -6.0392, -5.2594, -5.9461, -5.821, -5.9659, -5.6809, -5.7031, -5.8013, -5.3691, -5.7736, -5.9462], \"loglift\": [30.0, 29.0, 28.0, 27.0, 26.0, 25.0, 24.0, 23.0, 22.0, 21.0, 20.0, 19.0, 18.0, 17.0, 16.0, 15.0, 14.0, 13.0, 12.0, 11.0, 10.0, 9.0, 8.0, 7.0, 6.0, 5.0, 4.0, 3.0, 2.0, 1.0, 1.2061, 1.2061, 1.2061, 1.2061, 1.2061, 1.2061, 1.206, 1.206, 1.206, 1.206, 1.206, 1.206, 1.2059, 1.2059, 1.2059, 1.2059, 1.2059, 1.2059, 1.2059, 1.2058, 1.2058, 1.2058, 1.2058, 1.2058, 1.2058, 1.2058, 1.2057, 1.2057, 1.2057, 1.2057, 1.2049, 1.2028, 1.2022, 1.2056, 1.1953, 1.2048, 1.2045, 1.2051, 1.2048, 1.2031, 1.2038, 1.2052, 1.2032, 1.2056, 1.2054, 1.2054, 1.2043, 1.1928, 1.2025, 1.2031, 1.1661, 1.1802, 1.1875, 1.1932, 1.1612, 1.1766, 1.0855, 1.1611, 1.1421, 0.9942, 1.0875, 1.0463, 0.9572, 0.9418, 1.1201, 1.0018, 0.8711, 1.003, 1.152, 0.5977, 1.0024, 0.7247, 0.9209, 0.2227, 0.0156, 0.227, 0.6514, 0.824, 0.6455, 0.5188, 0.5539, 0.53, -0.1608, -0.008, 0.4891, 1.2325, 1.2325, 1.2325, 1.2324, 1.2324, 1.2324, 1.2324, 1.2324, 1.2324, 1.2324, 1.2324, 1.2323, 1.2323, 1.2323, 1.2323, 1.2323, 1.2323, 1.2323, 1.2323, 1.2322, 1.2322, 1.2322, 1.2322, 1.2322, 1.2322, 1.2322, 1.2322, 1.2322, 1.2322, 1.2322, 1.2301, 1.232, 1.2319, 1.2306, 1.2306, 1.2321, 1.2311, 1.2302, 1.232, 1.2316, 1.2309, 1.2321, 1.2307, 1.232, 1.2272, 1.2294, 1.2299, 1.203, 1.2036, 1.2015, 1.2167, 1.1861, 1.1962, 1.1807, 1.212, 1.1712, 1.1949, 1.1014, 0.6582, 0.65, 0.9553, 0.3339, 0.875, 1.0941, 0.959, 0.5543, 0.4015, -0.9198, -0.2065, 0.7082, 1.5078, 1.5078, 1.5078, 1.5078, 1.5078, 1.5078, 1.5078, 1.5078, 1.5077, 1.5077, 1.5077, 1.5077, 1.5077, 1.5077, 1.5077, 1.5077, 1.5077, 1.5077, 1.5077, 1.5077, 1.5077, 1.5077, 1.5077, 1.5077, 1.5077, 1.5077, 1.5077, 1.5077, 1.5077, 1.5076, 1.5075, 1.5065, 1.5072, 1.5073, 1.5032, 1.5022, 1.4806, 1.5053, 1.5076, 1.5074, 1.4946, 1.5014, 1.4972, 1.4761, 1.4977, 1.4816, 1.4633, 1.4117, 1.4484, 1.3899, 1.492, 1.3409, 1.3317, 1.4449, 1.3147, 1.2989, 1.1725, 1.4092, 1.1514, 0.7439, 1.3974, 0.4185, 1.1679, 1.1266, 1.1972, 0.5273, 0.9988, 1.6721, 1.6721, 1.6721, 1.6721, 1.6721, 1.672, 1.672, 1.672, 1.672, 1.672, 1.6719, 1.6719, 1.6719, 1.6719, 1.6718, 1.6718, 1.6718, 1.6718, 1.6718, 1.6717, 1.6717, 1.6717, 1.6717, 1.6717, 1.6717, 1.6717, 1.6717, 1.6717, 1.6717, 1.6716, 1.6716, 1.6699, 1.6521, 1.664, 1.665, 1.6715, 1.6714, 1.671, 1.6681, 1.6715, 1.6617, 1.6705, 1.6667, 1.6614, 1.6697, 1.6307, 1.5311, 1.5888, 1.6186, 1.4264, 1.6116, 1.1266, 1.5676, 1.344, 1.5209, 1.4785, 1.5369, 1.1325, 1.4706, 1.3399, 1.3515, 0.9795, 1.002, 1.1102, 0.3843, 0.8314, 0.4932]}, \"token.table\": {\"Topic\": [1, 2, 3, 4, 1, 2, 3, 4, 1, 2, 3, 4, 3, 1, 3, 4, 1, 2, 1, 3, 1, 3, 4, 1, 2, 3, 4, 1, 2, 3, 4, 2, 4, 2, 2, 4, 1, 1, 2, 3, 4, 4, 4, 3, 1, 2, 3, 4, 4, 1, 2, 3, 4, 3, 1, 2, 3, 4, 4, 1, 1, 2, 3, 4, 2, 1, 2, 3, 4, 2, 4, 1, 2, 3, 4, 1, 2, 3, 4, 1, 2, 3, 4, 1, 2, 3, 4, 2, 3, 4, 1, 2, 3, 4, 1, 2, 3, 4, 3, 2, 1, 4, 2, 1, 1, 2, 4, 1, 3, 4, 3, 2, 1, 2, 3, 4, 2, 3, 4, 1, 4, 1, 1, 3, 4, 1, 3, 4, 2, 1, 2, 3, 4, 1, 2, 3, 2, 1, 2, 3, 4, 2, 1, 1, 3, 4, 2, 1, 2, 3, 4, 2, 3, 3, 2, 3, 4, 1, 3, 4, 1, 3, 4, 3, 1, 2, 3, 1, 2, 3, 1, 3, 1, 2, 4, 4, 4, 1, 2, 3, 4, 2, 1, 2, 3, 4, 1, 2, 3, 4, 1, 2, 4, 1, 3, 1, 2, 3, 1, 2, 3, 3, 4, 1, 2, 3, 4, 2, 1, 4, 1, 3, 1, 2, 3, 4, 4, 2, 3, 4, 3, 1, 2, 3, 4, 3, 1, 3, 1, 3, 3, 1, 2, 3, 4, 1, 2, 3, 2, 4, 1, 2, 3, 1, 2, 3, 3, 1, 2, 3, 4, 1, 1, 2, 4, 3, 4, 1, 2, 3, 1, 3, 4, 2, 4, 1, 3, 4, 1, 2, 3, 4, 3, 1, 2, 3, 3, 4, 2, 2, 1, 2, 3, 1, 3, 1, 2, 3, 1, 2, 3, 4, 1, 1, 2, 1, 2, 3, 4, 3, 1, 2, 3, 4, 2, 4, 1, 2, 3, 4, 1, 2, 3, 1, 2, 3, 4, 1, 2, 4, 3, 4, 1, 4, 1, 2, 4, 2, 4, 1, 2, 3, 4, 1, 2, 2, 1, 2, 3, 4, 1, 2, 3, 4, 1, 2, 3, 4, 3, 1, 4, 2, 3, 4, 3, 1, 2, 3, 4, 1, 3, 4, 1, 2, 3, 4, 3, 1, 3, 4, 1, 2, 3, 4, 1, 1, 2, 3, 4, 1, 2, 4, 1, 2, 3, 4, 1, 3, 4, 1, 2, 3, 4, 2, 4, 1, 3, 4, 1, 1, 4, 1, 2, 3, 4, 1, 2, 4, 1, 2, 3, 1, 2, 4, 2, 1, 2, 3, 4, 1, 2, 3, 2, 4, 1, 2, 3, 4, 1, 2, 3, 4, 1, 2, 3, 4, 3, 2, 4, 1, 2, 3, 4, 2, 1, 2, 3, 1, 2, 3, 4, 2, 1, 2, 3, 4, 1, 2, 2, 4, 3, 3, 3, 4, 3, 1, 2, 3, 1, 2, 3, 4, 2, 1, 4, 1, 2, 3, 4, 1, 1, 2, 3, 4, 1, 4, 4, 3, 1, 1, 4, 1, 2, 3, 4, 1, 2, 3, 4, 1, 3, 4, 1, 2, 3, 4, 1, 2, 3, 2, 4, 3, 1, 3, 4, 1, 1, 2, 1, 2, 3, 4, 1, 2, 4, 1, 3, 1, 1, 2, 3, 2, 3, 2, 3, 1, 2, 4, 1, 1, 2, 3, 4, 1, 2, 3, 4, 1, 2, 3, 4, 2, 3, 4, 3, 1, 2, 3, 4, 1, 4, 3, 1, 2, 1, 4, 4, 1, 2, 3, 4, 1, 3, 1, 4, 2, 4, 2, 4, 3, 4, 4, 4, 3, 2, 4, 1, 2, 3, 4, 4, 4, 1, 2, 3, 4, 3, 4, 2, 1, 1, 4, 2, 3, 4, 1, 3, 4, 1, 2, 3, 4, 2, 3, 1, 2, 2, 4, 3, 4, 1, 2, 4, 2, 4, 1, 2, 3, 1, 4], \"Freq\": [0.37393830416549223, 0.5630252463703247, 0.047594007961090826, 0.015428152193749992, 0.011547728203532559, 0.9842513672144251, 0.003849242734510853, 0.00038492427345108526, 0.986943469377364, 0.006651251996840711, 0.0030698086139264824, 0.0033256259984203555, 0.9997980729503242, 0.998517125901078, 0.000909810593076153, 0.0006823579448071148, 0.9987324065939128, 0.0010975081391141899, 0.9967685170331422, 0.0031061655251889753, 0.9470297051780623, 0.0006686488857458665, 0.052154613088177586, 0.9605272369338738, 0.03207087796273848, 0.001154906962647092, 0.006218729798868957, 0.8088056784013761, 0.023251440925082148, 5.7410965247116415e-05, 0.1678696623825684, 0.0052987416272029415, 0.9943971787050853, 0.9998171901531764, 0.9997392409229315, 0.9993967912932604, 0.9994089976127692, 0.039515322785716546, 0.7577961219679005, 0.0007184604142857554, 0.20197718396608297, 0.9995707383223787, 0.9996214529876624, 0.9997499276317745, 0.9993913734572724, 0.005131633269311355, 0.0020080304097305304, 0.9928594803667623, 0.9992179416019321, 0.8861715069674546, 0.0009892883269089286, 0.00019785766538178573, 0.1126139878797997, 0.9996776157073544, 0.7794441761908254, 0.013822858603701773, 0.10308689078084059, 0.10370582474817051, 0.9996309841282922, 0.9993295738364164, 0.9706442007081983, 0.02812005961699902, 0.0001673813072440418, 0.0010042878434642507, 0.9995879779139785, 0.4978603101080371, 0.07972931641856106, 0.11481618787616751, 0.3075700221390183, 0.000859887112572484, 0.9987588812529402, 0.544052925334565, 0.06955275460361725, 0.11057008177796666, 0.27584246514958904, 0.9558435871824037, 0.00978581209400835, 0.0002878180027649514, 0.034058463660519255, 0.5207979190308524, 0.07298699245023829, 0.21570718660337032, 0.190506258266094, 0.9557734785835984, 0.00018729639008105005, 0.04326546610872256, 0.0007491855603242002, 0.9995485072460584, 0.00019507191788564762, 0.00019507191788564762, 0.5027871102682875, 0.43553124783063785, 0.052219456450722804, 0.009441464224349435, 0.20510961394668684, 0.7606537407261647, 0.018816171481120914, 0.015479970863900894, 0.9997650233515119, 0.999746234382205, 0.9993106040323366, 0.9997759739072094, 0.9994125603142792, 0.9995935237173245, 0.058500003823135416, 0.00028676472462321284, 0.9411618262133845, 0.0038711388033876065, 0.0003225949002823005, 0.9958504571714617, 0.9997367216629544, 0.9996121741994147, 0.8520936618602781, 0.00045532417540893353, 0.00027319450524536013, 0.14725183832724908, 0.9984941991263574, 0.00018378321353328868, 0.0012864824947330206, 0.0006083921009135333, 0.9993600747630926, 0.9995664773313693, 0.9996559328771508, 0.00022224453821190546, 0.00022224453821190546, 0.9980053038217583, 0.0002330698981367955, 0.0016314892869575685, 0.999513587736574, 0.15140017679768628, 0.00216005440307983, 0.8462176764550315, 0.00019636858209816637, 0.10035030530511127, 0.0042252760128467905, 0.8954064083891156, 0.9997152808856009, 0.986623565828411, 0.012826106355769343, 0.0001973247131656822, 0.0001973247131656822, 0.9994572214598637, 0.999280997506783, 0.9985386396796084, 0.0013274908796591443, 0.00013274908796591443, 0.9994057147768257, 0.48560439300173375, 0.002531725329465626, 0.00029212215339987995, 0.511603264654323, 0.015737793617414567, 0.984306415512708, 0.9998468225692018, 0.007944801107193639, 0.0025190832778906663, 0.9894184013007494, 0.02688902792192553, 0.9730926867820524, 2.102347765592301e-05, 0.031228585065310576, 0.9686388553443679, 9.211971995666837e-05, 0.9996404826783799, 9.23219451559956e-05, 0.9707652533152937, 0.029081412724138615, 0.0006620821444537721, 0.04292499236541956, 0.9563776576634738, 9.559649613833839e-05, 0.9998437531108811, 0.0029729924759020147, 0.9968443771699455, 0.00029729924759020143, 0.9999062315807956, 0.9991794033092226, 0.9960034273019716, 0.0010156391168952804, 0.00033854637229842674, 0.002708370978387414, 0.999668611608755, 0.02880564547184961, 0.9545594930499128, 0.012802509098599826, 0.0037524595633827073, 0.5669154243948679, 0.00017619749009941502, 0.0015857774108947351, 0.43133145576336795, 0.8150613770076219, 0.04530498849858398, 0.13966360520603666, 0.9992681442768458, 0.0006669197848343799, 0.07469321149177437, 0.19236414606027158, 0.7329514098204964, 0.009706003983060563, 0.15179111784619714, 0.8384908996477319, 0.9996268905379184, 0.9996637279342966, 0.03348552411645569, 0.0012288265730809426, 0.24791576111908017, 0.7171739087143651, 0.9997911522989035, 0.9989032091154684, 0.0009922879560749687, 0.0005368851207929663, 0.9994116523561068, 0.001197007985506514, 0.0013167087840571653, 0.42745155162437615, 0.5700152026982019, 0.9994071852274818, 0.2176812007248704, 0.00027372675350502407, 0.7820373347638538, 0.999820799390875, 0.0029756128164030128, 0.022019534841382294, 0.15770747926935968, 0.8173016535720276, 0.9999320684630056, 0.9996280297711032, 0.9997568269184106, 0.005578227322285289, 0.9943640059015647, 0.9997382445256747, 0.9988344297252275, 0.00044020909198996366, 0.00044020909198996366, 0.00044020909198996366, 0.12900367249222877, 0.8706935527529648, 0.00032494627831795663, 0.9993967664575714, 0.0004969650753145556, 0.05760828536757298, 0.0002091044840928239, 0.9422248053222645, 0.0015302307300217757, 0.09249394634798289, 0.9058965921728912, 0.999869110952174, 0.995821885049412, 0.00043158995306966715, 0.00014386331768988906, 0.003596582942247226, 0.9996036539958894, 0.0004653058031828745, 0.12609787266255898, 0.8733789925742553, 0.00011355059311988537, 0.9998129724205908, 0.0003801595924095885, 0.01026430899505889, 0.989365339245954, 0.004547471422940301, 0.9953278076960583, 0.999291160329721, 0.0015177623179191805, 0.998181684418181, 0.00934066281395031, 0.2649514932803213, 0.7255180212604866, 0.7675304418152595, 0.05296212249108581, 7.005571758080134e-05, 0.17941269272443222, 0.9999278447232753, 0.8879654445945213, 0.11191910553749583, 0.9997616399147413, 0.9992813138044369, 0.0004946937197051667, 0.9996282777017427, 0.999914010625215, 0.007803928979105303, 0.01824918776652317, 0.9739303365923418, 0.998407873424101, 0.0013408647239109602, 0.009788006083196889, 0.00040783358679987033, 0.9898121151632853, 0.4163119624886754, 0.0004983214325274842, 0.0002847551043014196, 0.5828936985050058, 0.9998835516003589, 0.0002129225891433126, 0.9996715560278527, 0.7151180497944584, 0.1801872251450604, 0.06962312377838108, 0.03501685332408888, 0.9996706161061105, 0.49911809277752806, 0.00018623809431997317, 0.0005587142829599195, 0.500235521343448, 0.997563740962553, 0.0023403254919942594, 0.9173389577521497, 0.048013430670525076, 0.005083775012173244, 0.029561210255970343, 0.00255755053553775, 0.10872097178521259, 0.8886735890247935, 0.20529616715527885, 0.19327183495757577, 0.6009959799365713, 0.000441259897163415, 0.010311914725523666, 0.00029462613501496187, 0.9893545613802419, 0.9998305590591337, 0.9997722695160303, 0.9994363628164238, 0.0004291268195862704, 0.1228468775641362, 0.8770111443280153, 0.00012561030425780798, 0.9995385070760052, 0.9997645345587581, 0.00022779276684568544, 0.997960111550948, 0.001708445751342641, 0.00011389638342284272, 0.0018332118807454657, 0.9979723446181277, 0.9995265353938677, 0.007615543192839399, 0.003902965886330192, 0.986784009212165, 0.0017134972183888647, 0.29688376592142457, 0.23714419650402876, 0.4657809778868368, 0.00021894083032553434, 0.2548299370199463, 0.4071029244647436, 0.33640559084008764, 0.001668165731921094, 0.9999182232286982, 0.9995173976644379, 0.00022851335108926336, 0.6994083428469124, 9.26123335337543e-05, 0.3005270223170327, 0.9997331200630429, 0.5706928556686954, 0.12664690769634063, 0.017554313244105578, 0.28513321755203064, 0.1031539541534176, 0.7116737394919261, 0.18516798851788374, 0.20768917043302781, 0.0029914078045909357, 0.06914425468325906, 0.7201600617566636, 0.9999388700202231, 0.0009692355474693218, 0.0014538533212039826, 0.997343378345932, 0.18631866150607926, 0.0986049701290002, 0.7150643132957739, 6.48290401900067e-05, 0.9994020234496682, 0.6822359052452373, 0.06271608612581672, 9.923431349021632e-05, 0.25493295135636573, 0.0004357347032346157, 0.09869391028264045, 0.9006636315859505, 0.027358006985424805, 0.9693317376992671, 0.00010728630190362668, 0.003111302755205174, 0.17384348034313585, 0.8243576274645591, 0.0018968192072355249, 0.6177678895538209, 0.00012838069192722796, 0.3750641914653965, 0.006996747710033923, 0.9994669468348402, 0.0005495199839646142, 0.9377196071080867, 0.05813219406112485, 0.004055734469380803, 0.9992227703638599, 0.9973681412011255, 0.0022513953525984775, 0.9741923567004248, 0.0005990421870563718, 0.0002995210935281859, 0.025010011309603526, 0.012883033610415609, 0.9642234933306616, 0.022760026045067577, 0.00017128711556752362, 0.0012846533667564273, 0.9986038837586628, 0.9811933001641071, 0.00220537930155398, 0.016440100247947852, 0.9998543722761841, 0.014802868641960489, 0.0458353884455885, 0.9390012457821925, 0.0003566956299267588, 0.09160246141790958, 0.00016401515025588106, 0.9082338945419414, 0.9990519130624332, 0.0009995516889068866, 0.8155451471528444, 0.12908306514840817, 0.05500541748294053, 0.0005528182661602063, 0.13158784877286583, 4.564268080917997e-05, 4.564268080917997e-05, 0.8683520023946488, 0.18715458670943502, 9.357729335471751e-05, 0.8114087106787555, 0.0013100821069660451, 0.999919708257268, 0.9996781822910643, 0.9995794908040704, 0.24570559497778152, 0.05383153417134362, 0.7000985851613617, 0.00036080116736825484, 0.9994896973309091, 0.9968510909700139, 0.0003536186913692848, 0.0028289495309542782, 0.9966534923429089, 0.000479275543324313, 0.000479275543324313, 0.0026360154882837214, 0.9994501524219058, 0.12494157047620623, 0.009919347656050157, 0.0056983486534756215, 0.859606446874304, 0.9978089004489362, 0.0019868755484845407, 0.9982015967429752, 0.0016618228580626668, 0.9998985009028335, 0.9998454659594636, 0.9995487684534462, 0.0003329609488519141, 0.9997081829209739, 0.0014040845658723979, 0.9945599008262818, 0.0037442255089930607, 0.00010530694339643997, 0.9493420947189063, 0.005791881886804198, 0.044755450943486985, 0.9999184707356289, 0.9989438647106689, 0.0008732026789428924, 0.11757427319051125, 0.02907555442114652, 0.029438998851410852, 0.8237468011941074, 0.9995052929531004, 0.4880290351913272, 0.5074424212174827, 0.0005526942640898383, 0.003937946631640098, 0.9992589968073714, 0.9996819349620544, 0.9992448323173674, 0.9999429803668343, 0.9991549743935028, 0.9964575937717209, 0.003383557194471039, 0.00010345318063181301, 0.9714253661327242, 0.00020690636126362603, 0.028242718312484955, 0.8159353528959284, 0.14632624431157276, 0.0011485576476575568, 0.03652413319551031, 0.31525218230393176, 0.6829417295926808, 0.0017793117859119653, 0.00045315242949326654, 0.5919303610255794, 0.4060245768259668, 0.0016993216105997495, 0.002470432259845416, 0.9974370249125866, 0.000308804032480677, 0.9997473000980218, 0.9996982167505367, 0.9997630281318068, 0.7516673091309685, 0.0007721853777394745, 0.24754056966391152, 0.9995970756903175, 0.02029905153082218, 0.9796322268774784, 0.5084702809004542, 0.29155831752284195, 0.11985844431134567, 0.08008241190713804, 0.5740423062317442, 0.2004450676281673, 0.22547498541273145, 0.00038187859663336624, 0.9996054145474994, 0.9997904590252172, 0.0014479337646252245, 0.9983503307090923, 0.00024132229410420408, 0.940446868815808, 0.059448211192214245, 0.9992889386904276, 0.0003631137131869286, 0.9889579949933665, 0.010858491499082572, 0.0001670537153705011, 0.9995496901349513, 0.30396453934610446, 0.11619856418332179, 0.00033764111417883, 0.5794921937424808, 0.018899729612700627, 0.00011812331007937892, 0.0009449864806350313, 0.9800297292919138, 0.0791489396674712, 0.0004531427843557512, 0.0006041903791410016, 0.919879852242175, 0.00046006769869641375, 0.00046006769869641375, 0.9992670415686107, 0.9997896549648688, 0.375547655445074, 0.5584261346750958, 0.047926195519870436, 0.01809287258689772, 0.9992899730293968, 0.0003258200107692849, 0.9996919233771443, 0.9994847588122617, 0.00029906785123047925, 0.00036464902391371675, 0.9995029745474977, 0.999810204322024, 0.001237115569980403, 0.001060384774268917, 0.00017673079571148615, 0.9976453417913393, 0.9995754367402474, 0.9997025072938955, 0.9990208597442455, 0.9992226293052353, 0.9631026841410074, 0.036957891841129714, 0.9998732536908647, 0.9997231808758877, 0.0004289264568799917, 0.9993986445303806, 0.9997607533655252, 0.9999168711447395, 0.9997036695044257, 0.9993186491572351, 0.0006346492119631875, 0.02544529423961931, 0.0032984640680987993, 0.012015833390931341, 0.9591462300878723, 0.9991642722060132, 0.9998272069040102, 0.0002800182070385547, 0.9993849809206017, 0.0002800182070385547, 0.9998956774324066, 0.0004286207613895526, 0.9991149947990471, 0.9997666631758559, 0.9998221057536615, 0.9996513535000594, 0.9998314064131191, 0.0001861751859422092, 0.9934307921876283, 0.006329956322035113, 0.9995675810133651, 0.0004895042022592385, 0.9996079301911415, 0.03833212250860097, 0.013779521163222572, 0.0002505367484222286, 0.9477805192812907, 0.9998642194122597, 0.00011496656541477057, 0.9995916148814203, 0.999872825368657, 0.9997346589274908, 0.9996138299886882, 0.9972821142207853, 0.0025331016363240675, 0.9992033786389743, 0.9974868821516043, 0.0024269753823640008, 0.9998340131747283, 0.00016479874949311494, 0.9996791535473037, 0.9995100210754364, 0.000309063086294198, 0.008192691997926693, 0.9918359026696332], \"Term\": [\"',\", \"',\", \"',\", \"',\", \"'\\\\t',\", \"'\\\\t',\", \"'\\\\t',\", \"'\\\\t',\", \"'abnt',\", \"'abnt',\", \"'abnt',\", \"'abnt',\", \"'acondicionado',\", \"'acr\\u00edlica',\", \"'acr\\u00edlica',\", \"'acr\\u00edlica',\", \"'adulto',\", \"'adulto',\", \"'agulha',\", \"'agulha',\", \"'algod\\u00e3o',\", \"'algod\\u00e3o',\", \"'algod\\u00e3o',\", \"'alta',\", \"'alta',\", \"'alta',\", \"'alta',\", \"'altura',\", \"'altura',\", \"'altura',\", \"'altura',\", \"'alvenaria',\", \"'alvenaria',\", \"'ampola']\", \"'anomodelo',\", \"'antichama',\", \"'antiderrapante',\", \"'ar',\", \"'ar',\", \"'ar',\", \"'ar',\", \"'areia',\", \"'argamassa',\", \"'aroma',\", \"'autoclav\\u00e1vel',\", \"'autor',\", \"'autor',\", \"'autor',\", \"'azul']\", \"'a\\u00e7o',\", \"'a\\u00e7o',\", \"'a\\u00e7o',\", \"'a\\u00e7o',\", \"'a\\u00e7\\u00facar',\", \"'base',\", \"'base',\", \"'base',\", \"'base',\", \"'betoneira',\", \"'bolsos',\", \"'borracha',\", \"'borracha',\", \"'borracha',\", \"'borracha',\", \"'borrachudo',\", \"'branca',\", \"'branca',\", \"'branca',\", \"'branca',\", \"'brita',\", \"'brita',\", \"'c',\", \"'c',\", \"'c',\", \"'c',\", \"'cabo',\", \"'cabo',\", \"'cabo',\", \"'cabo',\", \"'caixa',\", \"'caixa',\", \"'caixa',\", \"'caixa',\", \"'caixa']\", \"'caixa']\", \"'caixa']\", \"'caixa']\", \"'caminh\\u00e3o',\", \"'caminh\\u00e3o',\", \"'caminh\\u00e3o',\", \"'capacidade',\", \"'capacidade',\", \"'capacidade',\", \"'capacidade',\", \"'carga',\", \"'carga',\", \"'carga',\", \"'carga',\", \"'casca',\", \"'ca\\u00e7amba',\", \"'cerdas',\", \"'cer\\u00e2mico',\", \"'chassi',\", \"'cir\\u00fargico',\", \"'cobre',\", \"'cobre',\", \"'cobre',\", \"'cola',\", \"'cola',\", \"'cola',\", \"'colora\\u00e7\\u00e3o',\", \"'combust\\u00edvel',\", \"'comprimento',\", \"'comprimento',\", \"'comprimento',\", \"'comprimento',\", \"'comprimido']\", \"'comprimido']\", \"'comprimido']\", \"'concreto',\", \"'concreto',\", \"'conector',\", \"'confeccionada',\", \"'confeccionada',\", \"'confeccionada',\", \"'confeccionado',\", \"'confeccionado',\", \"'confeccionado',\", \"'conserto',\", \"'contendo',\", \"'contendo',\", \"'contendo',\", \"'contendo',\", \"'conter',\", \"'conter',\", \"'conter',\", \"'contrata\\u00e7\\u00e3o',\", \"'corpo',\", \"'corpo',\", \"'corpo',\", \"'corpo',\", \"'cv',\", \"'descartavel',\", \"'descart\\u00e1vel',\", \"'descart\\u00e1vel',\", \"'descart\\u00e1vel',\", \"'descritivo',\", \"'dimens\\u00f5es',\", \"'dimens\\u00f5es',\", \"'dimens\\u00f5es',\", \"'dimens\\u00f5es',\", \"'diversos']\", \"'diversos']\", \"'doce',\", \"'editora',\", \"'editora',\", \"'editora',\", \"'embalagem',\", \"'embalagem',\", \"'embalagem',\", \"'embalagem']\", \"'embalagem']\", \"'embalagem']\", \"'embalagens',\", \"'empresa',\", \"'empresa',\", \"'empresa',\", \"'entrega',\", \"'entrega',\", \"'entrega',\", \"'entrega']\", \"'entrega']\", \"'equipamentos',\", \"'equipamentos',\", \"'equipamentos',\", \"'esgoto',\", \"'esgoto']\", \"'esmalte',\", \"'esmalte',\", \"'esmalte',\", \"'esmalte',\", \"'especializada',\", \"'especifica\\u00e7\\u00f5es',\", \"'especifica\\u00e7\\u00f5es',\", \"'especifica\\u00e7\\u00f5es',\", \"'especifica\\u00e7\\u00f5es',\", \"'espessura',\", \"'espessura',\", \"'espessura',\", \"'espessura',\", \"'estrutura',\", \"'estrutura',\", \"'estrutura',\", \"'est\\u00e9ril',\", \"'est\\u00e9ril',\", \"'fabricante',\", \"'fabricante',\", \"'fabricante',\", \"'fabrica\\u00e7\\u00e3o',\", \"'fabrica\\u00e7\\u00e3o',\", \"'fabrica\\u00e7\\u00e3o',\", \"'farinha',\", \"'fck',\", \"'ferro',\", \"'ferro',\", \"'ferro',\", \"'ferro',\", \"'fiat',\", \"'fios',\", \"'fios',\", \"'firme',\", \"'firme',\", \"'folhas',\", \"'folhas',\", \"'folhas',\", \"'folhas',\", \"'folhas']\", \"'fornecimento',\", \"'fornecimento',\", \"'fornecimento',\", \"'frango',\", \"'frasco']\", \"'frasco']\", \"'frasco']\", \"'frasco']\", \"'fresco',\", \"'gola',\", \"'gordura',\", \"'gramas',\", \"'gramas',\", \"'gramas']\", \"'haste',\", \"'haste',\", \"'haste',\", \"'haste',\", \"'horas',\", \"'horas',\", \"'horas',\", \"'hp',\", \"'hp',\", \"'identifica\\u00e7\\u00e3o',\", \"'identifica\\u00e7\\u00e3o',\", \"'identifica\\u00e7\\u00e3o',\", \"'informa\\u00e7\\u00f5es',\", \"'informa\\u00e7\\u00f5es',\", \"'informa\\u00e7\\u00f5es',\", \"'ingredientes',\", \"'inox',\", \"'inox',\", \"'inox',\", \"'inox',\", \"'inoxid\\u00e1vel',\", \"'instalado',\", \"'instalado',\", \"'instalado',\", \"'instala\\u00e7\\u00e3o']\", \"'instala\\u00e7\\u00e3o']\", \"'integral',\", \"'integral',\", \"'integral',\", \"'isento',\", \"'isento',\", \"'isolado',\", \"'junta',\", \"'junta',\", \"'l']\", \"'l']\", \"'l']\", \"'largura',\", \"'largura',\", \"'largura',\", \"'largura',\", \"'larvas',\", \"'led',\", \"'led',\", \"'leite',\", \"'lixo',\", \"'lixo',\", \"'loca\\u00e7\\u00e3o',\", \"'lonas',\", \"'lote',\", \"'lote',\", \"'lote',\", \"'l\\u00e1tex',\", \"'l\\u00e1tex',\", \"'l\\u00edquido',\", \"'l\\u00edquido',\", \"'l\\u00edquido',\", \"'madeira',\", \"'madeira',\", \"'madeira',\", \"'madeira',\", \"'manga',\", \"'manuten\\u00e7\\u00e3o',\", \"'manuten\\u00e7\\u00e3o',\", \"'material',\", \"'material',\", \"'material',\", \"'material',\", \"'matura\\u00e7\\u00e3o',\", \"'medindo',\", \"'medindo',\", \"'medindo',\", \"'medindo',\", \"'memorial',\", \"'memorial',\", \"'mesa',\", \"'mesa',\", \"'mesa',\", \"'mesa',\", \"'meses',\", \"'meses',\", \"'meses',\", \"'meses']\", \"'meses']\", \"'meses']\", \"'meses']\", \"'metros']\", \"'metros']\", \"'metros']\", \"'milho',\", \"'mm\\u00b2',\", \"'montagem']\", \"'montagem']\", \"'motor',\", \"'motor',\", \"'motor',\", \"'motorista',\", \"'mpa',\", \"'municipal',\", \"'municipal',\", \"'municipal',\", \"'municipal',\", \"'munic\\u00edpio',\", \"'munic\\u00edpio',\", \"'m\\u00b3',\", \"'m\\u00e9dio',\", \"'m\\u00e9dio',\", \"'m\\u00e9dio',\", \"'m\\u00e9dio',\", \"'m\\u00ednima',\", \"'m\\u00ednima',\", \"'m\\u00ednima',\", \"'m\\u00ednima',\", \"'m\\u00ednimo',\", \"'m\\u00ednimo',\", \"'m\\u00ednimo',\", \"'m\\u00ednimo',\", \"'nutricional',\", \"'nylon',\", \"'nylon',\", \"'obra',\", \"'obra',\", \"'obra',\", \"'ovos',\", \"'p',\", \"'p',\", \"'p',\", \"'p',\", \"'pacote',\", \"'pacote',\", \"'pacote',\", \"'papel',\", \"'papel',\", \"'papel',\", \"'papel',\", \"'parasitas',\", \"'pead',\", \"'pead',\", \"'pead',\", \"'peso',\", \"'peso',\", \"'peso',\", \"'peso',\", \"'pilar',\", \"'pintura',\", \"'pintura',\", \"'pintura',\", \"'pintura',\", \"'piso',\", \"'piso',\", \"'piso',\", \"'placa',\", \"'placa',\", \"'placa',\", \"'placa',\", \"'pl\\u00e1stica',\", \"'pl\\u00e1stica',\", \"'pl\\u00e1stica',\", \"'pl\\u00e1stico',\", \"'pl\\u00e1stico',\", \"'pl\\u00e1stico',\", \"'pl\\u00e1stico',\", \"'pneu',\", \"'pneu',\", \"'polipropileno',\", \"'polipropileno',\", \"'polipropileno',\", \"'poliuretano',\", \"'poli\\u00e9ster',\", \"'poli\\u00e9ster',\", \"'ponta',\", \"'ponta',\", \"'ponta',\", \"'ponta',\", \"'portas',\", \"'portas',\", \"'portas',\", \"'prazo',\", \"'prazo',\", \"'prazo',\", \"'press\\u00e3o',\", \"'press\\u00e3o',\", \"'press\\u00e3o',\", \"'presta\\u00e7\\u00e3o',\", \"'primeira',\", \"'primeira',\", \"'primeira',\", \"'primeira',\", \"'produto',\", \"'produto',\", \"'produto',\", \"'projeto',\", \"'projeto',\", \"'prote\\u00e7\\u00e3o',\", \"'prote\\u00e7\\u00e3o',\", \"'prote\\u00e7\\u00e3o',\", \"'prote\\u00e7\\u00e3o',\", \"'pvc',\", \"'pvc',\", \"'pvc',\", \"'pvc',\", \"'p\\u00f3',\", \"'p\\u00f3',\", \"'p\\u00f3',\", \"'p\\u00f3',\", \"'rachaduras',\", \"'radial',\", \"'ramal',\", \"'registro',\", \"'registro',\", \"'registro',\", \"'registro',\", \"'renavam',\", \"'resina',\", \"'resina',\", \"'resina',\", \"'resist\\u00eancia',\", \"'resist\\u00eancia',\", \"'resist\\u00eancia',\", \"'resist\\u00eancia',\", \"'retroescavadeira',\", \"'rolo',\", \"'rolo',\", \"'rolo',\", \"'rolo',\", \"'rota\\u00e7\\u00e3o',\", \"'rota\\u00e7\\u00e3o',\", \"'rua',\", \"'rua',\", \"'r\\u00f3tulo',\", \"'sabor',\", \"'saco',\", \"'saco',\", \"'sal',\", \"'secretaria',\", \"'secretaria',\", \"'secretaria',\", \"'servi\\u00e7o',\", \"'servi\\u00e7o',\", \"'servi\\u00e7o',\", \"'servi\\u00e7o',\", \"'servi\\u00e7os',\", \"'silicone',\", \"'silicone',\", \"'simples',\", \"'simples',\", \"'simples',\", \"'simples',\", \"'sint\\u00e9tico',\", \"'sistema',\", \"'sistema',\", \"'sistema',\", \"'sistema',\", \"'sobrado',\", \"'sold\\u00e1vel',\", \"'sold\\u00e1vel']\", \"'sujidades',\", \"'sutura',\", \"'tecido',\", \"'tecido',\", \"'termo',\", \"'termo',\", \"'termo',\", \"'termo',\", \"'tinta',\", \"'tinta',\", \"'tinta',\", \"'tinta',\", \"'transparente',\", \"'transparente',\", \"'transparente',\", \"'transporte',\", \"'transporte',\", \"'transporte',\", \"'transporte',\", \"'traseiro',\", \"'traseiro',\", \"'traseiro',\", \"'trator',\", \"'tra\\u00e7o',\", \"'trigo',\", \"'tubo',\", \"'tubo',\", \"'tubo',\", \"'t\\u00e9rrea',\", \"'usb',\", \"'usb',\", \"'uso',\", \"'uso',\", \"'uso',\", \"'uso',\", \"'v',\", \"'v',\", \"'v',\", \"'validade',\", \"'validade',\", \"'vapor',\", \"'velocidade',\", \"'velocidade',\", \"'velocidade',\", \"'ve\\u00edculo',\", \"'ve\\u00edculo',\", \"'ve\\u00edculos',\", \"'ve\\u00edculos',\", \"'w',\", \"'w',\", \"'w',\", \"'w']\", \"'x',\", \"'x',\", \"'x',\", \"'x',\", \"'x']\", \"'x']\", \"'x']\", \"'x']\", \"'xcm',\", \"'xcm',\", \"'xcm',\", \"'xcm',\", \"'xmm']\", \"'xmm']\", \"'xmm']\", \"'\\u00edntegra',\", \"['\", \"['\", \"['\", \"['\", \"['arma\\u00e7\\u00e3o',\", \"['arma\\u00e7\\u00e3o',\", \"['biscoito',\", \"['broca',\", \"['broca',\", \"['bucha',\", \"['bucha',\", \"['cabo',\", \"['caixa',\", \"['caixa',\", \"['caixa',\", \"['caixa',\", \"['camiseta',\", \"['carne',\", \"['cateter',\", \"['concreto',\", \"['constru\\u00e7\\u00e3o',\", \"['constru\\u00e7\\u00e3o',\", \"['contrata\\u00e7\\u00e3o',\", \"['curva',\", \"['disjuntor',\", \"['disjuntor',\", \"['eletroduto',\", \"['exame',\", \"['farinha',\", \"['filtro',\", \"['filtro',\", \"['fita',\", \"['fita',\", \"['fita',\", \"['fita',\", \"['folha',\", \"['joelho',\", \"['jogo',\", \"['jogo',\", \"['jogo',\", \"['livro',\", \"['livros',\", \"['livros',\", \"['loca\\u00e7\\u00e3o',\", \"['l\\u00e2mpada',\", \"['material',\", \"['papel',\", \"['parafuso',\", \"['parafuso',\", \"['parafuso',\", \"['pincel',\", \"['pincel',\", \"['piso',\", \"['placa',\", \"['placa',\", \"['placa',\", \"['placa',\", \"['pneu',\", \"['pneu',\", \"['prego',\", \"['presta\\u00e7\\u00e3o',\", \"['recapagem',\", \"['registro',\", \"['saco',\", \"['saco',\", \"['seringa',\", \"['servi\\u00e7o',\", \"['servi\\u00e7o',\", \"['servi\\u00e7os',\", \"['servi\\u00e7os',\", \"['sonda',\", \"['transporte',\", \"['transporte',\", \"['tubo',\", \"['tubo',\"]}, \"R\": 30, \"lambda.step\": 0.01, \"plot.opts\": {\"xlab\": \"PC1\", \"ylab\": \"PC2\"}, \"topic.order\": [3, 1, 4, 2]};\n",
              "\n",
              "function LDAvis_load_lib(url, callback){\n",
              "  var s = document.createElement('script');\n",
              "  s.src = url;\n",
              "  s.async = true;\n",
              "  s.onreadystatechange = s.onload = callback;\n",
              "  s.onerror = function(){console.warn(\"failed to load library \" + url);};\n",
              "  document.getElementsByTagName(\"head\")[0].appendChild(s);\n",
              "}\n",
              "\n",
              "if(typeof(LDAvis) !== \"undefined\"){\n",
              "   // already loaded: just create the visualization\n",
              "   !function(LDAvis){\n",
              "       new LDAvis(\"#\" + \"ldavis_el3501140204754029520680048913\", ldavis_el3501140204754029520680048913_data);\n",
              "   }(LDAvis);\n",
              "}else if(typeof define === \"function\" && define.amd){\n",
              "   // require.js is available: use it to load d3/LDAvis\n",
              "   require.config({paths: {d3: \"https://d3js.org/d3.v5\"}});\n",
              "   require([\"d3\"], function(d3){\n",
              "      window.d3 = d3;\n",
              "      LDAvis_load_lib(\"https://cdn.jsdelivr.net/gh/bmabey/pyLDAvis@3.3.1/pyLDAvis/js/ldavis.v3.0.0.js\", function(){\n",
              "        new LDAvis(\"#\" + \"ldavis_el3501140204754029520680048913\", ldavis_el3501140204754029520680048913_data);\n",
              "      });\n",
              "    });\n",
              "}else{\n",
              "    // require.js not available: dynamically load d3 & LDAvis\n",
              "    LDAvis_load_lib(\"https://d3js.org/d3.v5.js\", function(){\n",
              "         LDAvis_load_lib(\"https://cdn.jsdelivr.net/gh/bmabey/pyLDAvis@3.3.1/pyLDAvis/js/ldavis.v3.0.0.js\", function(){\n",
              "                 new LDAvis(\"#\" + \"ldavis_el3501140204754029520680048913\", ldavis_el3501140204754029520680048913_data);\n",
              "            })\n",
              "         });\n",
              "}\n",
              "</script>"
            ],
            "text/plain": [
              "<IPython.core.display.HTML object>"
            ]
          },
          "metadata": {},
          "execution_count": 45
        }
      ],
      "source": [
        "pyLDAvis.display(display_data)  "
      ]
    },
    {
      "cell_type": "markdown",
      "source": [
        "Salvar tópicos"
      ],
      "metadata": {
        "id": "r2ZozPYNaShp"
      }
    },
    {
      "cell_type": "code",
      "source": [
        "def topic_prediction(corpus, lda_model):\n",
        "    string_input = [corpus]\n",
        "    X = string_input\n",
        "\n",
        "    # Convert sparse matrix to gensim corpus.\n",
        "    output = list(lda_model[corpus])[0]\n",
        "    topics = sorted(output,key=lambda x:x[1],reverse=True)\n",
        "    return topics[0][0]"
      ],
      "metadata": {
        "id": "5QuvvDi-aPUc"
      },
      "execution_count": 41,
      "outputs": []
    },
    {
      "cell_type": "code",
      "source": [
        "topics = []\n",
        "for corp in tqdm(corpus):\n",
        "    topics.append(topic_prediction(corp, lda_model))\n",
        "\n",
        "item_licitacao['topic_lda'] = topics\n",
        "item_licitacao.to_csv('item_modeled_5_topics.csv')"
      ],
      "metadata": {
        "colab": {
          "base_uri": "https://localhost:8080/"
        },
        "id": "fch6MUg6a232",
        "outputId": "dcaf516f-0c8d-4ce2-e39f-90d3645fe573"
      },
      "execution_count": 47,
      "outputs": [
        {
          "output_type": "stream",
          "name": "stderr",
          "text": [
            "100%|██████████| 932800/932800 [15:19<00:00, 1014.29it/s]\n"
          ]
        }
      ]
    },
    {
      "cell_type": "markdown",
      "metadata": {
        "id": "Mg-1-4QdPuKj"
      },
      "source": [
        "Qual a diferença entre LDA e NMF?\n"
      ]
    },
    {
      "cell_type": "markdown",
      "metadata": {
        "id": "SSjguLf0PuKj"
      },
      "source": [
        "Desvendando o latent Dirichlet Allocation - https://web.icmc.usp.br"
      ]
    },
    {
      "cell_type": "markdown",
      "metadata": {
        "id": "E7xP-RV0PuKj"
      },
      "source": [
        "O objetivo é esclarecer essa relação em termos de formulação matemática, demonstrando que o NMF com divergência KL aproxima a solução obtida pelo algoritmo de inferência variacional do LDA.\n",
        "\n",
        "As correspondências entre NMF com divergência KL e o algoritmo de inferência variacional para o LDA seguem do fato de que ambos tentam minimizar a divergência entre as estatísticas que relacionam a frequência de palavras, documentos por tópicos e tópicos por palavras. "
      ]
    },
    {
      "cell_type": "markdown",
      "metadata": {
        "id": "d7EhNyabPuKj"
      },
      "source": [
        "\n",
        "\n",
        "### NMF"
      ]
    },
    {
      "cell_type": "markdown",
      "source": [
        "Foi notado a permanência de pontuações, por isso será adota o TfidfVectorizer"
      ],
      "metadata": {
        "id": "YeW_20n9jDid"
      }
    },
    {
      "cell_type": "code",
      "execution_count": 32,
      "metadata": {
        "id": "0WlpT1NVPuKj"
      },
      "outputs": [],
      "source": [
        "#!python -m pip install -U gensim\n",
        "from gensim.models.nmf import Nmf as GensimNmf\n",
        "from gensim.models import TfidfModel\n",
        "from gensim.corpora import Dictionary"
      ]
    },
    {
      "cell_type": "code",
      "source": [
        "corpus_nmf = [id2word.doc2bow(line) for line in lic]"
      ],
      "metadata": {
        "id": "wmUORREek7sM"
      },
      "execution_count": 22,
      "outputs": []
    },
    {
      "cell_type": "code",
      "source": [
        "model = TfidfModel(corpus_nmf)"
      ],
      "metadata": {
        "id": "6qmE8YaanB8L"
      },
      "execution_count": 23,
      "outputs": []
    },
    {
      "cell_type": "code",
      "source": [
        "vector = model[corpus_nmf[0]]"
      ],
      "metadata": {
        "id": "OXT0c2QQnJsc"
      },
      "execution_count": 24,
      "outputs": []
    },
    {
      "cell_type": "code",
      "execution_count": 25,
      "metadata": {
        "id": "KM_EEVP_PuKj"
      },
      "outputs": [],
      "source": [
        "nmf_model = GensimNmf(\n",
        "    corpus=corpus_nmf,\n",
        "    num_topics=5,\n",
        "    id2word=id2word,\n",
        "    minimum_probability=0,\n",
        "    random_state=0,\n",
        ")"
      ]
    },
    {
      "cell_type": "code",
      "execution_count": 26,
      "metadata": {
        "colab": {
          "base_uri": "https://localhost:8080/"
        },
        "id": "hAAi9pOSPuKk",
        "outputId": "54238b4b-48ca-412b-f7c0-ac783f6d40be"
      },
      "outputs": [
        {
          "output_type": "execute_result",
          "data": {
            "text/plain": [
              "[(0,\n",
              "  [(\"',\", 0.11686557639745737),\n",
              "   (\"['\", 0.09697739732635235),\n",
              "   (\"'\\\\t\", 0.015914157876242462),\n",
              "   (\"'\\\\t',\", 0.013495140205545599),\n",
              "   (\"'c',\", 0.009665612446567369),\n",
              "   (\"'papel',\", 0.0047421662891224264),\n",
              "   (\"'p',\", 0.00399079969139029),\n",
              "   (\"'caixa',\", 0.003917576600602734),\n",
              "   (\"'placa',\", 0.003811384720506053),\n",
              "   (\"'pacote',\", 0.0033429444873240228)]),\n",
              " (1,\n",
              "  [(\"'aço',\", 0.021321595160370584),\n",
              "   (\"'altura',\", 0.008315761092613097),\n",
              "   (\"'mínimo',\", 0.008004413799802363),\n",
              "   (\"'espessura',\", 0.007732272488401481),\n",
              "   (\"'estrutura',\", 0.006089116718750194),\n",
              "   (\"'largura',\", 0.005953386556848023),\n",
              "   (\"'tubo',\", 0.005559124047275249),\n",
              "   (\"'comprimento',\", 0.005280839878493175),\n",
              "   (\"'pvc',\", 0.005020370092425897),\n",
              "   (\"'material',\", 0.00487879929038923)]),\n",
              " (2,\n",
              "  [(\"'x',\", 0.12660233755957695),\n",
              "   (\"'dimensões',\", 0.0078075084713125666),\n",
              "   (\"'papel',\", 0.0074599862710071725),\n",
              "   (\"'altura',\", 0.006408339234332103),\n",
              "   (\"'mínimo',\", 0.006261456118000038),\n",
              "   (\"'medindo',\", 0.006230405678555663),\n",
              "   (\"'largura',\", 0.006142961986296623),\n",
              "   (\"'usb',\", 0.005293830365858256),\n",
              "   (\"'x']\", 0.004783818695426349),\n",
              "   (\"'impressão',\", 0.004343858773062609)]),\n",
              " (3,\n",
              "  [(\"'serviços',\", 0.014630591445039164),\n",
              "   (\"'\\\\t',\", 0.014051002901254986),\n",
              "   (\"'empresa',\", 0.009541588456720965),\n",
              "   (\"['contratação',\", 0.007180268068421723),\n",
              "   (\"'municipal',\", 0.006800626359265849),\n",
              "   (\"'município',\", 0.006332141680737048),\n",
              "   (\"'prestação',\", 0.005844655568108009),\n",
              "   (\"'serviço',\", 0.005375839879438575),\n",
              "   (\"'mínimo',\", 0.005071700037111085),\n",
              "   (\"'horas',\", 0.004568884071340469)]),\n",
              " (4,\n",
              "  [(\"'embalagem',\", 0.03348081018582427),\n",
              "   (\"'validade',\", 0.02962060920517439),\n",
              "   (\"'mínimo',\", 0.020342677277463438),\n",
              "   (\"'produto',\", 0.020058394363441926),\n",
              "   (\"'mínima',\", 0.014202364748302724),\n",
              "   (\"'meses',\", 0.012764580001834532),\n",
              "   (\"'fabricação',\", 0.011427675479758825),\n",
              "   (\"'contendo',\", 0.00933303730497744),\n",
              "   (\"'identificação',\", 0.008784154316646949),\n",
              "   (\"'peso',\", 0.008638874197607138)])]"
            ]
          },
          "metadata": {},
          "execution_count": 26
        }
      ],
      "source": [
        "nmf_model.show_topics(formatted=False)"
      ]
    },
    {
      "cell_type": "code",
      "execution_count": 27,
      "metadata": {
        "colab": {
          "base_uri": "https://localhost:8080/"
        },
        "id": "m5repb-bPuKk",
        "outputId": "ff82479c-8db6-4ead-8b9a-823e5de31848"
      },
      "outputs": [
        {
          "output_type": "execute_result",
          "data": {
            "text/plain": [
              "[(0,\n",
              "  '0.117*\"\\',\" + 0.097*\"[\\'\" + 0.016*\"\\'\\\\t\" + 0.013*\"\\'\\\\t\\',\" + 0.010*\"\\'c\\',\" + 0.005*\"\\'papel\\',\" + 0.004*\"\\'p\\',\" + 0.004*\"\\'caixa\\',\" + 0.004*\"\\'placa\\',\" + 0.003*\"\\'pacote\\',\"'),\n",
              " (1,\n",
              "  '0.021*\"\\'aço\\',\" + 0.008*\"\\'altura\\',\" + 0.008*\"\\'mínimo\\',\" + 0.008*\"\\'espessura\\',\" + 0.006*\"\\'estrutura\\',\" + 0.006*\"\\'largura\\',\" + 0.006*\"\\'tubo\\',\" + 0.005*\"\\'comprimento\\',\" + 0.005*\"\\'pvc\\',\" + 0.005*\"\\'material\\',\"'),\n",
              " (2,\n",
              "  '0.127*\"\\'x\\',\" + 0.008*\"\\'dimensões\\',\" + 0.007*\"\\'papel\\',\" + 0.006*\"\\'altura\\',\" + 0.006*\"\\'mínimo\\',\" + 0.006*\"\\'medindo\\',\" + 0.006*\"\\'largura\\',\" + 0.005*\"\\'usb\\',\" + 0.005*\"\\'x\\']\" + 0.004*\"\\'impressão\\',\"'),\n",
              " (3,\n",
              "  '0.015*\"\\'serviços\\',\" + 0.014*\"\\'\\\\t\\',\" + 0.010*\"\\'empresa\\',\" + 0.007*\"[\\'contratação\\',\" + 0.007*\"\\'municipal\\',\" + 0.006*\"\\'município\\',\" + 0.006*\"\\'prestação\\',\" + 0.005*\"\\'serviço\\',\" + 0.005*\"\\'mínimo\\',\" + 0.005*\"\\'horas\\',\"'),\n",
              " (4,\n",
              "  '0.033*\"\\'embalagem\\',\" + 0.030*\"\\'validade\\',\" + 0.020*\"\\'mínimo\\',\" + 0.020*\"\\'produto\\',\" + 0.014*\"\\'mínima\\',\" + 0.013*\"\\'meses\\',\" + 0.011*\"\\'fabricação\\',\" + 0.009*\"\\'contendo\\',\" + 0.009*\"\\'identificação\\',\" + 0.009*\"\\'peso\\',\"')]"
            ]
          },
          "metadata": {},
          "execution_count": 27
        }
      ],
      "source": [
        "nmf_model.show_topics()"
      ]
    },
    {
      "cell_type": "code",
      "execution_count": 28,
      "metadata": {
        "colab": {
          "base_uri": "https://localhost:8080/"
        },
        "id": "c44MYuySPuKk",
        "outputId": "368f4d74-f60e-4499-eff2-69a6942c0cc0"
      },
      "outputs": [
        {
          "output_type": "execute_result",
          "data": {
            "text/plain": [
              "[([(0.03348081018582427, \"'embalagem',\"),\n",
              "   (0.02962060920517439, \"'validade',\"),\n",
              "   (0.020342677277463438, \"'mínimo',\"),\n",
              "   (0.020058394363441926, \"'produto',\"),\n",
              "   (0.014202364748302724, \"'mínima',\"),\n",
              "   (0.012764580001834532, \"'meses',\"),\n",
              "   (0.011427675479758825, \"'fabricação',\"),\n",
              "   (0.00933303730497744, \"'contendo',\"),\n",
              "   (0.008784154316646949, \"'identificação',\"),\n",
              "   (0.008638874197607138, \"'peso',\"),\n",
              "   (0.008473605252326608, \"'prazo',\"),\n",
              "   (0.0075573549316007346, \"'registro',\"),\n",
              "   (0.007128849774699382, \"'entrega']\"),\n",
              "   (0.006616713864701782, \"'lote',\"),\n",
              "   (0.00636703090784535, \"'entrega',\"),\n",
              "   (0.006229343357380497, \"'fabricante',\"),\n",
              "   (0.006126636935579526, \"'ingredientes',\"),\n",
              "   (0.005991070416767276, \"'rótulo',\"),\n",
              "   (0.004994435431669884, \"'plástica',\"),\n",
              "   (0.004759248212029847, \"'nutricional',\")],\n",
              "  -1.8115344250090073),\n",
              " ([(0.021321595160370584, \"'aço',\"),\n",
              "   (0.008315761092613097, \"'altura',\"),\n",
              "   (0.008004413799802363, \"'mínimo',\"),\n",
              "   (0.007732272488401481, \"'espessura',\"),\n",
              "   (0.006089116718750194, \"'estrutura',\"),\n",
              "   (0.005953386556848023, \"'largura',\"),\n",
              "   (0.005559124047275249, \"'tubo',\"),\n",
              "   (0.005280839878493175, \"'comprimento',\"),\n",
              "   (0.005020370092425897, \"'pvc',\"),\n",
              "   (0.00487879929038923, \"'material',\"),\n",
              "   (0.00464708487370039, \"'alta',\"),\n",
              "   (0.004602015426151849, \"'sistema',\"),\n",
              "   (0.004439431449832978, \"'acabamento',\"),\n",
              "   (0.004357149478226601, \"'pintura',\"),\n",
              "   (0.00432884335235508, \"'chapa',\"),\n",
              "   (0.004144609302789976, \"'mínima',\"),\n",
              "   (0.003952813297405046, \"'inox',\"),\n",
              "   (0.0038632302179546917, \"'diâmetro',\"),\n",
              "   (0.0036823937437605305, \"'madeira',\"),\n",
              "   (0.0035766696100996372, \"'base',\")],\n",
              "  -2.847147822044424),\n",
              " ([(0.014630591445039164, \"'serviços',\"),\n",
              "   (0.014051002901254986, \"'\\\\t',\"),\n",
              "   (0.009541588456720965, \"'empresa',\"),\n",
              "   (0.007180268068421723, \"['contratação',\"),\n",
              "   (0.006800626359265849, \"'municipal',\"),\n",
              "   (0.006332141680737048, \"'município',\"),\n",
              "   (0.005844655568108009, \"'prestação',\"),\n",
              "   (0.005375839879438575, \"'serviço',\"),\n",
              "   (0.005071700037111085, \"'mínimo',\"),\n",
              "   (0.004568884071340469, \"'horas',\"),\n",
              "   (0.004414590040781071, \"'sistema',\"),\n",
              "   (0.0037035143663274907, \"'saúde',\"),\n",
              "   (0.003496020285203162, \"'termo',\"),\n",
              "   (0.0034621636659204523, \"'obra',\"),\n",
              "   (0.00328300329047909, \"'secretaria',\"),\n",
              "   (0.0030912923208306787, \"'capacidade',\"),\n",
              "   (0.003041157868451106, \"['prestação',\"),\n",
              "   (0.0030377605413909386, \"'linha',\"),\n",
              "   (0.002975658822365632, \"'manutenção',\"),\n",
              "   (0.0028119379727848557, \"'área',\")],\n",
              "  -3.243381421676703),\n",
              " ([(0.12660233755957695, \"'x',\"),\n",
              "   (0.0078075084713125666, \"'dimensões',\"),\n",
              "   (0.0074599862710071725, \"'papel',\"),\n",
              "   (0.006408339234332103, \"'altura',\"),\n",
              "   (0.006261456118000038, \"'mínimo',\"),\n",
              "   (0.006230405678555663, \"'medindo',\"),\n",
              "   (0.006142961986296623, \"'largura',\"),\n",
              "   (0.005293830365858256, \"'usb',\"),\n",
              "   (0.004783818695426349, \"'x']\"),\n",
              "   (0.004343858773062609, \"'impressão',\"),\n",
              "   (0.004128300309079058, \"'l',\"),\n",
              "   (0.003941756270681227, \"'portas',\"),\n",
              "   (0.003760218213537601, \"'comprimento',\"),\n",
              "   (0.003658815970880093, \"'tinta',\"),\n",
              "   (0.0036197352970225123, \"'xcm',\"),\n",
              "   (0.003528900874819912, \"'medidas',\"),\n",
              "   (0.0033731262536340414, \"'memória',\"),\n",
              "   (0.0031350493466813577, \"'madeira',\"),\n",
              "   (0.0030909538424416794, \"'folhas',\"),\n",
              "   (0.002973564834519788, \"'formato',\")],\n",
              "  -3.6162071196916163),\n",
              " ([(0.11686557639745737, \"',\"),\n",
              "   (0.09697739732635235, \"['\"),\n",
              "   (0.015914157876242462, \"'\\\\t\"),\n",
              "   (0.013495140205545599, \"'\\\\t',\"),\n",
              "   (0.009665612446567369, \"'c',\"),\n",
              "   (0.0047421662891224264, \"'papel',\"),\n",
              "   (0.00399079969139029, \"'p',\"),\n",
              "   (0.003917576600602734, \"'caixa',\"),\n",
              "   (0.003811384720506053, \"'placa',\"),\n",
              "   (0.0033429444873240228, \"'pacote',\"),\n",
              "   (0.0031676488587554395, \"'material',\"),\n",
              "   (0.002685750973987162, \"'renavam',\"),\n",
              "   (0.00266547694514469, \"'cabo',\"),\n",
              "   (0.002617494413546713, \"'chassis',\"),\n",
              "   (0.0025836668009142924, \"'\\\\xa0',\"),\n",
              "   (0.002516312691023608, \"'serviço',\"),\n",
              "   (0.002512637100029508, \"'filtro',\"),\n",
              "   (0.0024970732522292356, \"'\\\\xa0\"),\n",
              "   (0.002494415719350733, \"'fio',\"),\n",
              "   (0.0024938056887698445, \"'x']\")],\n",
              "  -5.878105507719217)]"
            ]
          },
          "metadata": {},
          "execution_count": 28
        }
      ],
      "source": [
        "nmf_model.top_topics(corpus_nmf)"
      ]
    },
    {
      "cell_type": "code",
      "execution_count": 29,
      "metadata": {
        "colab": {
          "base_uri": "https://localhost:8080/"
        },
        "id": "oUkqPcd-PuKk",
        "outputId": "bab3b826-7ce5-4e6c-d593-d53fd94c6d8e"
      },
      "outputs": [
        {
          "output_type": "stream",
          "name": "stderr",
          "text": [
            "/usr/local/lib/python3.7/dist-packages/smart_open/smart_open_lib.py:494: DeprecationWarning: This function is deprecated.  See https://github.com/RaRe-Technologies/smart_open/blob/develop/MIGRATING_FROM_OLDER_VERSIONS.rst for more information\n",
            "  warnings.warn(message, category=DeprecationWarning)\n"
          ]
        }
      ],
      "source": [
        "nmf_model.save('/content/drive/MyDrive/NLP/nmf_model')"
      ]
    },
    {
      "cell_type": "code",
      "execution_count": 32,
      "metadata": {
        "colab": {
          "base_uri": "https://localhost:8080/"
        },
        "id": "Pay_bwynPuKk",
        "outputId": "bce2d9e3-8f58-4f74-eb88-b8c7e1eedd7f"
      },
      "outputs": [
        {
          "output_type": "stream",
          "name": "stderr",
          "text": [
            "/usr/local/lib/python3.7/dist-packages/smart_open/smart_open_lib.py:494: DeprecationWarning: This function is deprecated.  See https://github.com/RaRe-Technologies/smart_open/blob/develop/MIGRATING_FROM_OLDER_VERSIONS.rst for more information\n",
            "  warnings.warn(message, category=DeprecationWarning)\n"
          ]
        }
      ],
      "source": [
        "nmf_model = GensimNmf.load('/content/drive/MyDrive/NLP/nmf_model')"
      ]
    },
    {
      "cell_type": "code",
      "source": [
        "def topic_prediction_nmf(corpus, nmf_model):\n",
        "    string_input = [corpus]\n",
        "    X = string_input\n",
        "\n",
        "    # Convert sparse matrix to gensim corpus.\n",
        "    output = list(nmf_model[corpus])[0]\n",
        "    print(output)\n",
        "    return output[0]"
      ],
      "metadata": {
        "id": "FPH7CX9aySuf"
      },
      "execution_count": 33,
      "outputs": []
    },
    {
      "cell_type": "markdown",
      "metadata": {
        "id": "yKEn0_XkPuKl"
      },
      "source": [
        "Coerência NFM "
      ]
    },
    {
      "cell_type": "code",
      "execution_count": 60,
      "metadata": {
        "id": "eOOyhJnxPuKl"
      },
      "outputs": [],
      "source": [
        "coerencia_nmf = CoherenceModel(\n",
        "    model=nmf_model,\n",
        "    corpus=corpus_nmf,\n",
        "    coherence='u_mass',\n",
        ").get_coherence()\n",
        "    "
      ]
    },
    {
      "cell_type": "code",
      "execution_count": 61,
      "metadata": {
        "colab": {
          "base_uri": "https://localhost:8080/"
        },
        "id": "ISDDnXYePuKl",
        "outputId": "72597de4-ed9e-4aff-ee0d-62503e7cef40"
      },
      "outputs": [
        {
          "output_type": "execute_result",
          "data": {
            "text/plain": [
              "-3.4792752592281935"
            ]
          },
          "metadata": {},
          "execution_count": 61
        }
      ],
      "source": [
        "coerencia_nmf"
      ]
    },
    {
      "cell_type": "markdown",
      "metadata": {
        "id": "0o5iFOeqPuKl"
      },
      "source": [
        "Wordclouds"
      ]
    },
    {
      "cell_type": "code",
      "execution_count": 62,
      "metadata": {
        "colab": {
          "base_uri": "https://localhost:8080/",
          "height": 132
        },
        "id": "U-_-fsqfPuKl",
        "outputId": "91a66096-bb29-45ad-f9c0-bb0511f33232"
      },
      "outputs": [
        {
          "output_type": "display_data",
          "data": {
            "image/png": "[encoded data removed]",
            "text/plain": [
              "<Figure size 1080x1080 with 5 Axes>"
            ]
          },
          "metadata": {
            "needs_background": "light"
          }
        }
      ],
      "source": [
        "cols = [color for name, color in mcolors.XKCD_COLORS.items()]\n",
        "cloud = WordCloud(stopwords=filter_out,\n",
        "                  background_color='white',\n",
        "                  width=2500,\n",
        "                  height=1800,\n",
        "                  max_words=20,\n",
        "                  colormap='tab10',\n",
        "                  color_func=lambda *args, **kwargs: cols[i],\n",
        "                  prefer_horizontal=1.0)\n",
        "topics = nmf_model.show_topics(formatted=False)\n",
        "fig, axes = plt.subplots(1, 5, figsize=(15,15), sharex=True, sharey=True)\n",
        "for i, ax in enumerate(axes.flatten()):\n",
        "    fig.add_subplot(ax)\n",
        "    topic_words = dict(topics[i][1])\n",
        "    cloud.generate_from_frequencies(topic_words, max_font_size=600)\n",
        "    plt.gca().imshow(cloud)\n",
        "    plt.gca().set_title('Topic ' + str(i), fontdict=dict(size=16))\n",
        "    plt.gca().axis('off')\n",
        "plt.subplots_adjust(wspace=0, hspace=0)\n",
        "plt.axis('off')\n",
        "plt.margins(x=0, y=0)\n",
        "plt.tight_layout()\n",
        "plt.show()"
      ]
    },
    {
      "cell_type": "markdown",
      "source": [
        "Usando os itens das licitações não foi possível obter um bom agrupamento"
      ],
      "metadata": {
        "id": "TaR3i6nD38ck"
      }
    },
    {
      "cell_type": "markdown",
      "source": [
        "Então, partirei a aplicação dos algoritmos para o arquivo de licitações"
      ],
      "metadata": {
        "id": "Yo3JhUOVYLeG"
      }
    },
    {
      "cell_type": "markdown",
      "source": [
        "## Arquivo Licitações"
      ],
      "metadata": {
        "id": "HWgPq4X0Ya8Z"
      }
    },
    {
      "cell_type": "markdown",
      "source": [
        "### LDA "
      ],
      "metadata": {
        "id": "PmqaWOr5YlDm"
      }
    },
    {
      "cell_type": "markdown",
      "source": [
        "licitacao_21"
      ],
      "metadata": {
        "id": "p4r186qmbyG5"
      }
    },
    {
      "cell_type": "code",
      "source": [
        "dataset = [d.split() for d in licitacao_21['DS_OBJETO_TOKEN']]"
      ],
      "metadata": {
        "id": "woChNuUXbx3y"
      },
      "execution_count": 8,
      "outputs": []
    },
    {
      "cell_type": "code",
      "source": [
        "dicionario = corpora.Dictionary(dataset)"
      ],
      "metadata": {
        "id": "98wDe1h1dRIV"
      },
      "execution_count": 9,
      "outputs": []
    },
    {
      "cell_type": "code",
      "source": [
        "corpus_lda = [dicionario.doc2bow(line) for line in dataset]"
      ],
      "metadata": {
        "id": "24ML6-FKdFzC"
      },
      "execution_count": 10,
      "outputs": []
    },
    {
      "cell_type": "code",
      "source": [
        "model_list, coherence_values = compute_coherence_values(dicionario,corpus_lda,dataset, 20, 1, 3)"
      ],
      "metadata": {
        "colab": {
          "base_uri": "https://localhost:8080/"
        },
        "id": "pXVj8Ld7ftzY",
        "outputId": "e2fda3b1-688f-441d-9330-6801432ea21e"
      },
      "execution_count": 15,
      "outputs": [
        {
          "output_type": "stream",
          "name": "stderr",
          "text": [
            "100%|██████████| 7/7 [05:45<00:00, 49.30s/it]\n"
          ]
        }
      ]
    },
    {
      "cell_type": "code",
      "source": [
        "#!pip install numpy==1.19"
      ],
      "metadata": {
        "id": "PcNZvQX5gEPV"
      },
      "execution_count": null,
      "outputs": []
    },
    {
      "cell_type": "code",
      "execution_count": 16,
      "metadata": {
        "colab": {
          "base_uri": "https://localhost:8080/",
          "height": 280
        },
        "outputId": "4c9b7583-c1b1-416a-9cdd-9dde5fba1112",
        "id": "gvhfCnPIgMUu"
      },
      "outputs": [
        {
          "output_type": "display_data",
          "data": {
            "image/png": "[encoded data removed]",
            "text/plain": [
              "<Figure size 432x288 with 1 Axes>"
            ]
          },
          "metadata": {
            "needs_background": "light"
          }
        }
      ],
      "source": [
        "limit=20; start=1; step=3;\n",
        "x = range(start, limit, step)\n",
        "plt.plot(x, coherence_values)\n",
        "plt.xlabel(\"Num Tópicos\")\n",
        "plt.ylabel(\"Score de Coerência\")\n",
        "plt.legend((\"Valores de Coerência\"), loc='best')\n",
        "plt.show()"
      ]
    },
    {
      "cell_type": "code",
      "execution_count": 17,
      "metadata": {
        "colab": {
          "base_uri": "https://localhost:8080/"
        },
        "outputId": "b1d6c8c6-bec4-4e91-a511-76078b8461d8",
        "id": "r9WoLb3ogMUv"
      },
      "outputs": [
        {
          "output_type": "stream",
          "name": "stdout",
          "text": [
            "A quantidade de tópicos = 1  tem um valor de coerência de  0.2726\n",
            "A quantidade de tópicos = 4  tem um valor de coerência de  0.3993\n",
            "A quantidade de tópicos = 7  tem um valor de coerência de  0.446\n",
            "A quantidade de tópicos = 10  tem um valor de coerência de  0.4695\n",
            "A quantidade de tópicos = 13  tem um valor de coerência de  0.4759\n",
            "A quantidade de tópicos = 16  tem um valor de coerência de  0.5009\n",
            "A quantidade de tópicos = 19  tem um valor de coerência de  0.4746\n"
          ]
        }
      ],
      "source": [
        "for m, c in zip(x, coherence_values):\n",
        "    print(\"A quantidade de tópicos =\", m, \" tem um valor de coerência de \", round(c, 4))"
      ]
    },
    {
      "cell_type": "code",
      "execution_count": 26,
      "metadata": {
        "id": "bMfP1-4-kXVA"
      },
      "outputs": [],
      "source": [
        "model_list[5].save('/content/drive/MyDrive/NLP/multicore_16topics_licitacao')"
      ]
    },
    {
      "cell_type": "code",
      "execution_count": 21,
      "metadata": {
        "id": "0n2RKTqpkXVB"
      },
      "outputs": [],
      "source": [
        "from gensim.test.utils import datapath"
      ]
    },
    {
      "cell_type": "code",
      "execution_count": 27,
      "metadata": {
        "id": "EZEvRifJkXVB"
      },
      "outputs": [],
      "source": [
        "lda_model_licitacao = LdaMulticore.load(datapath(\"/content/drive/MyDrive/NLP/multicore_16topics_licitacao\")) "
      ]
    },
    {
      "cell_type": "code",
      "execution_count": 28,
      "metadata": {
        "colab": {
          "base_uri": "https://localhost:8080/"
        },
        "outputId": "656a57ff-03c2-469f-c7fe-f2c33cd98c51",
        "id": "iXK2dqCSkXVB"
      },
      "outputs": [
        {
          "output_type": "stream",
          "name": "stdout",
          "text": [
            "\n",
            "Score de Coerência:  0.500939009007686\n"
          ]
        }
      ],
      "source": [
        "score_coherence(lda_model_licitacao,dataset,dicionario)"
      ]
    },
    {
      "cell_type": "code",
      "execution_count": 29,
      "metadata": {
        "id": "3mrZPA1ykXVB"
      },
      "outputs": [],
      "source": [
        "pyLDAvis.enable_notebook()"
      ]
    },
    {
      "cell_type": "code",
      "execution_count": 30,
      "metadata": {
        "id": "kSffZsuCkXVB"
      },
      "outputs": [],
      "source": [
        "display_data_lic = pyLDAvis.gensim_models.prepare(lda_model_licitacao, corpus_lda, dicionario)"
      ]
    },
    {
      "cell_type": "code",
      "execution_count": 31,
      "metadata": {
        "colab": {
          "base_uri": "https://localhost:8080/",
          "height": 861
        },
        "outputId": "28a8c9e9-b9a3-468b-b290-11b1357324a9",
        "id": "hmGcjDcrkXVB"
      },
      "outputs": [
        {
          "output_type": "execute_result",
          "data": {
            "text/html": [
              "\n",
              "<link rel=\"stylesheet\" type=\"text/css\" href=\"https://cdn.jsdelivr.net/gh/bmabey/pyLDAvis@3.3.1/pyLDAvis/js/ldavis.v1.0.0.css\">\n",
              "\n",
              "\n",
              "<div id=\"ldavis_el6981397916741151526327906569\"></div>\n",
              "<script type=\"text/javascript\">\n",
              "\n",
              "var ldavis_el6981397916741151526327906569_data = {\"mdsDat\": {\"x\": [-0.19476376971482692, 0.17662338989391105, -0.07114448283150392, -0.08432047036345004, 0.013987131258037385, 0.2353784499378236, -0.11513205749569672, -0.18195628180383847, 0.1736783371063116, -0.12704574509801764, 0.031458148258802936, 0.11335795892378861, -0.02019910968831544, -0.09950115745183324, 0.20957630733903404, -0.0599966482702271], \"y\": [0.12909259466138268, 0.09935585282492279, -0.1352582820038739, 0.16417415645539288, -0.08708238016716453, 0.08885448522022073, 0.16173987961408506, 0.11023312162645768, -0.04736967968943062, -0.07104483251689177, -0.0748342701951303, -0.018043750440985332, -0.12720195042214572, -0.027989184746024156, 0.07109907468770131, -0.23572483490851812], \"topics\": [1, 2, 3, 4, 5, 6, 7, 8, 9, 10, 11, 12, 13, 14, 15, 16], \"cluster\": [1, 1, 1, 1, 1, 1, 1, 1, 1, 1, 1, 1, 1, 1, 1, 1], \"Freq\": [12.933716957983272, 10.407329493419008, 8.813816929748333, 7.5994357696775, 7.575844379238765, 6.429866841469467, 6.133427195784404, 5.970399767781302, 5.417012965215943, 5.2762272212014585, 4.530866114574145, 4.418846466980068, 3.953497257514534, 3.8081285835994487, 3.671561159567169, 3.060022896245191]}, \"tinfo\": {\"Term\": [\"['aquisi\\u00e7\\u00e3o',\", \"'pre\\u00e7os',\", \"'servi\\u00e7os',\", \"['registro',\", \"'presta\\u00e7\\u00e3o',\", \"['contrata\\u00e7\\u00e3o',\", \"'secretaria',\", \"'empresa',\", \"'aquisi\\u00e7\\u00e3o',\", \"'covid']\", \"'municipal',\", \"'g\\u00eaneros',\", \"'covid',\", \"'aliment\\u00edcios',\", \"'pe\\u00e7as',\", \"'transporte',\", \"'escolar',\", \"'anexo',\", \"'manuten\\u00e7\\u00e3o',\", \"'escolas',\", \"'educa\\u00e7\\u00e3o',\", \"'obra',\", \"'material',\", \"['loca\\u00e7\\u00e3o',\", \"'ve\\u00edculo',\", \"'c\\u00e2mara',\", \"'registro',\", \"'lei',\", \"'horas',\", \"'familiar',\", \"'m\\u00e9dicos',\", \"['dispensa',\", \"'desinfec\\u00e7\\u00e3o',\", \"'cl\\u00ednico',\", \"'pesadas',\", \"'judiciais',\", \"'consertos',\", \"'cl\\u00ednicas',\", \"'solda',\", \"['aux\\u00edlio',\", \"'an\\u00e1lises',\", \"'desinsetiza\\u00e7\\u00e3o',\", \"'arquitetura',\", \"'link',\", \"'press\\u00e3o',\", \"'psicologia',\", \"'m\\u00e9dicas',\", \"'clinica',\", \"'radiodifus\\u00e3o',\", \"'visitas',\", \"'residente',\", \"'novars']\", \"'plant\\u00e3o',\", \"'homologa\\u00e7\\u00e3o',\", \"'se\\u00e7\\u00e3o',\", \"'m\\u00e9dicos']\", \"'clinico',\", \"'larga',\", \"'eletrico',\", \"'agendas',\", \"'consultoria',\", \"'t\\u00e9cnicos',\", \"'consultas',\", \"'especializados',\", \"'\\u00f3ptica',\", \"'reservat\\u00f3rios',\", \"'domiciliar',\", \"'desratiza\\u00e7\\u00e3o',\", \"'presta\\u00e7\\u00e3o',\", \"'jur\\u00eddica',\", \"'elabora\\u00e7\\u00e3o',\", \"'laboratoriais',\", \"'assessoria',\", \"'fibra',\", \"'prestados',\", \"'servi\\u00e7os',\", \"'exames',\", \"'cont\\u00e1bil',\", \"'especializada',\", \"['contrata\\u00e7\\u00e3o',\", \"'prestar',\", \"'pessoa',\", \"'empresa',\", \"'profissional',\", \"'t\\u00e9cnica',\", \"['presta\\u00e7\\u00e3o',\", \"'acompanhamento',\", \"'prestadora',\", \"'servi\\u00e7o',\", \"'projetos',\", \"'internet',\", \"'engenharia',\", \"'\\u00e1rea',\", \"'profissionais',\", \"'realiza\\u00e7\\u00e3o',\", \"'sa\\u00fade',\", \"'atendimento',\", \"'munic\\u00edpio',\", \"'t\\u00e9cnico',\", \"'junto',\", \"'fornecimento',\", \"'contrata\\u00e7\\u00e3o',\", \"'municipal',\", \"'horas',\", \"'sistema',\", \"'execu\\u00e7\\u00e3o',\", \"['registro',\", \"'aquisi\\u00e7\\u00f5es',\", \"'futura',\", \"'futuras',\", \"'\\u00f3leos',\", \"'pre\\u00e7os',\", \"'lubrificantes',\", \"'ford',\", \"'filtros',\", \"['repasse',\", \"'contados',\", \"'secretarias']\", \"'k',\", \"'fiat',\", \"'motoniveladora',\", \"'pe\\u00e7a',\", \"'caterpillar',\", \"'chassi',\", \"'combust\\u00edveis',\", \"'pe\\u00e7as',\", \"'reposi\\u00e7\\u00e3o',\", \"'esteira',\", \"'chevrolet',\", \"'pre\\u00e7os']\", \"'ambulancia',\", \"'inserv\\u00edveis',\", \"'renault',\", \"'entregues',\", \"'s']\", \"'funeral',\", \"'eventual',\", \"'\\u00f3leo',\", \"'randon',\", \"'case',\", \"'spin',\", \"'ve\\u00edculos']\", \"'holland',\", \"'parcelada',\", \"'placa',\", \"'comum',\", \"'frota',\", \"'ata',\", \"'eventuais',\", \"'registro',\", \"'conserto',\", \"'obras']\", \"'revis\\u00e3o',\", \"'diesel',\", \"'caminh\\u00e3o',\", \"'placas',\", \"['manuten\\u00e7\\u00e3o',\", \"'pre\\u00e7o',\", \"'aquisi\\u00e7\\u00e3o',\", \"'ve\\u00edculo',\", \"'secretarias',\", \"'ve\\u00edculos',\", \"'preg\\u00e3o',\", \"'diversas',\", \"'manuten\\u00e7\\u00e3o',\", \"'secretaria',\", \"'materiais',\", \"['aquisi\\u00e7\\u00e3o',\", \"'m\\u00e3o',\", \"'fornecimento',\", \"'municipal',\", \"'obra',\", \"'servi\\u00e7os',\", \"'munic\\u00edpio',\", \"'empenho',\", \"'tubos',\", \"'estimativo',\", \"'judicial']\", \"'concreto']\", \"'pavimenta\\u00e7\\u00e3o',\", \"'global',\", \"'trecho',\", \"'lubrificante',\", \"'empreitada',\", \"'drenagem',\", \"'uno',\", \"'bocas',\", \"'guapor\\u00e9rs',\", \"'bombeiros',\", \"'cal\\u00e7amento',\", \"'estrada',\", \"'comunit\\u00e1ria',\", \"'pvc',\", \"'irregulares',\", \"'canaliza\\u00e7\\u00e3o',\", \"'parede',\", \"'atractive',\", \"'pluvial',\", \"'quartel',\", \"'automotor',\", \"'medicos',\", \"'aparecida',\", \"'nova']\", \"'rinc\\u00e3o',\", \"'ruas',\", \"'memorial',\", \"'pedras',\", \"'sustent\\u00e1vel',\", \"'asf\\u00e1ltica',\", \"'artesiano',\", \"'paredes',\", \"'lobo',\", \"'passeios',\", \"'descritivo',\", \"'concreto',\", \"['execu\\u00e7\\u00e3o',\", \"'blocos',\", \"'reforma',\", \"'rua',\", \"'constru\\u00e7\\u00e3o',\", \"'amplia\\u00e7\\u00e3o',\", \"'obra',\", \"'corpo',\", \"'execu\\u00e7\\u00e3o',\", \"'taxa',\", \"'linha',\", \"'m\\u00e3o',\", \"'po\\u00e7o',\", \"'bairro',\", \"'regime',\", \"'projeto',\", \"'esgoto',\", \"'\\u00e1gua',\", \"'empresa',\", \"['contrata\\u00e7\\u00e3o',\", \"'material',\", \"'pagamento',\", \"'munic\\u00edpio',\", \"'fornecimento',\", \"'materiais',\", \"['aquisi\\u00e7\\u00e3o',\", \"'contrato',\", \"'obras',\", \"'vereadores']\", \"'desporto',\", \"'expediente']\", \"'semanal',\", \"'p\\u00e1gina',\", \"'assuntos',\", \"'emissora',\", \"'pertinente',\", \"'veicula\\u00e7\\u00e3o',\", \"'ordin\\u00e1rias',\", \"'educacionais',\", \"'plen\\u00e1rio',\", \"'presenciais',\", \"'m\\u00eddia',\", \"'arrecada\\u00e7\\u00e3o',\", \"'transpar\\u00eancia',\", \"'fundamental']\", \"'vereadores',\", \"'publica\\u00e7\\u00f5es',\", \"'equipamentos']\", \"'p\\u00fablicas']\", \"'p\\u00e1ginas',\", \"'inmetro',\", \"['eventual',\", \"'consoante',\", \"'alor',\", \"['assinatura',\", \"'sentinela',\", \"'lotados',\", \"'ramais',\", \"'c\\u00e2mara',\", \"'sess\\u00f5es',\", \"'informativos',\", \"'minutos',\", \"'legislativo']\", \"'jur\\u00eddico',\", \"'conte\\u00fado',\", \"'forma\\u00e7\\u00e3o',\", \"'tutelar',\", \"'notas',\", \"'carregadeira',\", \"'professores',\", \"'educa\\u00e7\\u00e3o',\", \"'mat\\u00e9rias',\", \"'cultura',\", \"'ministrar',\", \"'institui\\u00e7\\u00f5es',\", \"'escola',\", \"'turismo',\", \"'ensino',\", \"'infantil',\", \"'legislativo',\", \"'transmiss\\u00e3o',\", \"'poder',\", \"'fundamental',\", \"'municipal',\", \"'jornal',\", \"'digital',\", \"'divulga\\u00e7\\u00e3o',\", \"'rede',\", \"['contrata\\u00e7\\u00e3o',\", \"'empresa',\", \"'publica\\u00e7\\u00e3o',\", \"'secretaria',\", \"'informa\\u00e7\\u00f5es',\", \"'alunos',\", \"'municipais',\", \"'atividades',\", \"'escolas',\", \"'prefeitura',\", \"'servi\\u00e7os',\", \"'fornecimento',\", \"'munic\\u00edpio',\", \"'manuten\\u00e7\\u00e3o',\", \"'especializada',\", \"'prestacao',\", \"'servicos',\", \"'luvas',\", \"'justificase',\", \"['estimativa',\", \"'sr',\", \"'vulnerabilidade',\", \"'servico',\", \"'recapagens',\", \"'despesa',\", \"'osc',\", \"'decreto',\", \"'basica',\", \"'referido',\", \"'situa\\u00e7\\u00e3o',\", \"'esfs',\", \"'ppaldo']\", \"'exame',\", \"['medicamentos',\", \"'jovens',\", \"'diariamente',\", \"'compactador',\", \"'locacao',\", \"'casos',\", \"'extrema',\", \"'emergenciais',\", \"'graeff',\", \"'encontrase',\", \"'uso']\", \"'elaboracao',\", \"'defici\\u00eancia',\", \"'rolo',\", \"'farm\\u00e1cia',\", \"'assistencia',\", \"'mar\\u00e7o']\", \"'celebra\\u00e7\\u00e3o',\", \"'pessoas',\", \"'pandemia',\", \"'usados',\", \"'vez',\", \"'adolescentes',\", \"'devido',\", \"['contrato',\", \"'ref',\", \"['valor',\", \"'covid',\", \"'covid']\", \"'teste',\", \"'saude',\", \"'inciso',\", \"'a\\u00e7\\u00e3o',\", \"'crian\\u00e7as',\", \"'emerg\\u00eancia',\", \"'tendo',\", \"'urg\\u00eancia',\", \"'lei',\", \"'medicamentos',\", \"'sa\\u00fade',\", \"'atendimento',\", \"'pacientes',\", \"'dispensa',\", \"'social',\", \"'unidade',\", \"'referente',\", \"'b\\u00e1sica',\", \"'emergencial',\", \"'n',\", \"['contratacao',\", \"'processo',\", \"'serem',\", \"'municipal',\", \"'aquisi\\u00e7\\u00e3o',\", \"'sendo',\", \"'secretaria',\", \"'dias',\", \"'benef\\u00edcio',\", \"['revis\\u00e3o',\", \"'upa',\", \"'medicamentos']\", \"'s\\u00eamen',\", \"'ro\\u00e7adeira',\", \"'vales',\", \"'of\\u00edcio',\", \"'textos',\", \"'di\\u00e1rios',\", \"'pecas',\", \"'jcb',\", \"'dupla',\", \"'mini',\", \"'preta',\", \"'quil\\u00f4metro',\", \"'noturno',\", \"'odontol\\u00f3gico',\", \"'descart\\u00e1veis']\", \"'bovino',\", \"'correspondente',\", \"'protetor',\", \"'pp',\", \"'carregador',\", \"'patrimonio',\", \"'port\\u00e3o',\", \"'m\\u00eddias',\", \"'est\\u00e1gio',\", \"'glp',\", \"'resid\\u00eancia',\", \"'informativo',\", \"'m\\u00e9dio',\", \"'gr\\u00e1fico',\", \"'zero',\", \"'matriculados',\", \"'passagens',\", \"'cabo',\", \"'bens',\", \"'estoque',\", \"['aquisi\\u00e7\\u00e3o',\", \"'c\\u00e2maras',\", \"'sa\\u00fade']\", \"'p',\", \"'pneus',\", \"'cozinha',\", \"'novos',\", \"'medicamento',\", \"'expediente',\", \"'material',\", \"'medicamentos',\", \"'agricultura']\", \"'uso',\", \"'secretaria',\", \"'emergencial',\", \"'materiais',\", \"'transporte',\", \"'municipal',\", \"'m\\u00f3veis',\", \"'ve\\u00edculo',\", \"'manuten\\u00e7\\u00e3o',\", \"'equipamentos',\", \"'dois',\", \"'ar',\", \"'atender',\", \"'sa\\u00fade',\", \"'escolar',\", \"'ve\\u00edculos',\", \"'processo',\", \"'municipal']\", \"'limpeza',\", \"'direito',\", \"'p\\u00fablicos']\", \"'futuro',\", \"'fabricante',\", \"'conhecimento',\", \"'investimentos',\", \"'cess\\u00e3o',\", \"'ag',\", \"'rtpcr',\", \"'filtro',\", \"'rpps',\", \"'rpps']\", \"'l\\u00e2mpadas',\", \"'validade',\", \"'volare',\", \"'aposentadoria',\", \"'odontol\\u00f3gico']\", \"'ve\\u00edculo']\", \"'m\\u00f3dulo',\", \"'poss\\u00edveis',\", \"'solu\\u00e7\\u00f5es',\", \"'c\\u00f3pias',\", \"'bandeiras',\", \"'beneficente',\", \"'backup',\", \"'distribuidor',\", \"'atualiza\\u00e7\\u00f5es',\", \"'exemplares',\", \"'biol\\u00f3gico',\", \"'disponibilizar',\", \"'ilumina\\u00e7\\u00e3o',\", \"'p\\u00fablica']\", \"'licen\\u00e7as',\", \"'jornal\\u00edstica',\", \"['renova\\u00e7\\u00e3o',\", \"'bombas',\", \"'software',\", \"'relacionadas',\", \"'impresso',\", \"'combate',\", \"'pra\\u00e7as',\", \"'el\\u00e9trico',\", \"'softwares',\", \"'licen\\u00e7a',\", \"'suporte',\", \"'preventiva',\", \"'corretiva',\", \"'m\\u00e1quinas',\", \"'sistemas',\", \"'folha',\", \"'sistema',\", \"['\", \"'dados',\", \"'atualiza\\u00e7\\u00e3o',\", \"'p\\u00fablica',\", \"'gest\\u00e3o',\", \"'implanta\\u00e7\\u00e3o',\", \"'manuten\\u00e7\\u00e3o',\", \"'gerenciamento',\", \"'p\\u00fablicos',\", \"'assinatura',\", \"'treinamento',\", \"'inform\\u00e1tica',\", \"'t\\u00e9cnico',\", \"'instala\\u00e7\\u00e3o',\", \"',\", \"'loca\\u00e7\\u00e3o',\", \"'uso',\", \"'munic\\u00edpio',\", \"'administra\\u00e7\\u00e3o',\", \"'servidores',\", \"['contrata\\u00e7\\u00e3o',\", \"'equipamentos',\", \"'empresa',\", \"'servi\\u00e7os',\", \"'fornecimento',\", \"'envelopes',\", \"'semanais']\", \"'min',\", \"'imprensa',\", \"'hmin',\", \"'quisi\\u00e7\\u00e3o',\", \"['rp',\", \"'rodeio',\", \"'assunto',\", \"'ro\\u00e7ada',\", \"'jardinagem',\", \"'smov',\", \"['exerc\\u00edcio',\", \"'cadastramento',\", \"'imovel',\", \"'intelectual',\", \"'deere',\", \"'volta',\", \"'apresenta\\u00e7\\u00f5es',\", \"'ida',\", \"'veterin\\u00e1rios',\", \"'cont\\u00e1beis',\", \"'aderbal',\", \"'srp',\", \"'schneider',\", \"'logradouros',\", \"'iptu',\", \"'coqueiro',\", \"'enfermeiro',\", \"'carimbos',\", \"'hor\\u00e1rio',\", \"'relat\\u00f3rios',\", \"'leis',\", \"'contribui\\u00e7\\u00e3o',\", \"['pregao',\", \"'janeiro',\", \"'c\\u00e3es',\", \"'abertura',\", \"'corte',\", \"'h',\", \"'dia',\", \"'cons\\u00f3rcio',\", \"'horas']\", \"'oficiais',\", \"'semana',\", \"'dezembro']\", \"'administrativo']\", \"'horas',\", \"'animais',\", \"'hor\\u00e1ria',\", \"'carga',\", \"'processos',\", \"'segunda',\", \"'intermunicipal',\", \"'credenciamento',\", \"'atos',\", \"'divulga\\u00e7\\u00e3o',\", \"'semanais',\", \"'publicidade',\", \"'durante',\", \"'munic\\u00edpio',\", \"['presta\\u00e7\\u00e3o',\", \"'servi\\u00e7os',\", \"'processo',\", \"'dias',\", \"'vinte',\", \"'servi\\u00e7o',\", \"['contrata\\u00e7\\u00e3o',\", \"'contas',\", \"'atividades',\", \"'junto',\", \"'p\\u00fablico',\", \"'empresa',\", \"'presta\\u00e7\\u00e3o',\", \"'contrata\\u00e7\\u00e3o',\", \"'per\\u00edodo',\", \"'r\\u00e1pidos',\", \"'detec\\u00e7\\u00e3o',\", \"'ant\\u00edgeno',\", \"'imediata',\", \"'\\u00e1lcool',\", \"'smosua',\", \"'limpeza']\", \"'epis',\", \"'internet']\", \"'ensino']\", \"'gel',\", \"'seletivo',\", \"'farmacia',\", \"'lar',\", \"'prestador',\", \"'sa',\", \"'especificado',\", \"'parecer']\", \"'correio',\", \"'b\\u00e1sicas']\", \"'abril']\", \"'cart\\u00e3o',\", \"'emuls\\u00e3o',\", \"'hospitalar']\", \"'perante',\", \"'\\u00e1udio',\", \"'agr\\u00edcola']\", \"'embreagem',\", \"'basicas',\", \"'comunica\\u00e7\\u00f5es',\", \"'kits',\", \"'prefeito']\", \"'estabelecidas',\", \"'anexos']\", \"['constitui',\", \"'escrit\\u00f3rio',\", \"'especifica\\u00e7\\u00f5es',\", \"'constantes',\", \"'testes',\", \"'constante',\", \"'edital',\", \"'presente',\", \"'termo']\", \"['presente',\", \"'descrito',\", \"'objeto',\", \"'edital']\", \"'quantidades',\", \"'condi\\u00e7\\u00f5es',\", \"'i',\", \"'licita\\u00e7\\u00e3o',\", \"'cestas',\", \"'anexo',\", \"['objeto',\", \"'i']\", \"'termo',\", \"'entrega',\", \"'suprir',\", \"'deste',\", \"['aquisi\\u00e7\\u00e3o',\", \"'acordo',\", \"'aquisi\\u00e7\\u00e3o',\", \"'covid']\", \"'equipamentos',\", \"'covid',\", \"'contrato',\", \"'material',\", \"'coronav\\u00edrus',\", \"'secretaria']\", \"'humana',\", \"'v\\u00edrus',\", \"['material',\", \"'internacional',\", \"'eldorado',\", \"'conting\\u00eancia',\", \"'infec\\u00e7\\u00e3o',\", \"'residencial',\", \"'ms',\", \"'telef\\u00f4nicos',\", \"'lavra',\", \"'vigilancia',\", \"'familia',\", \"'p\\u00e1scoa',\", \"'lotes',\", \"'suspeitos',\", \"'caps',\", \"'utilidade',\", \"'dispon\\u00edvel',\", \"'desse',\", \"'digital']\", \"'maio']\", \"'credor',\", \"'borracharia',\", \"'canil',\", \"'madeiras',\", \"'sislam']\", \"'terap\\u00eautico',\", \"'im\\u00f3vel',\", \"'publico',\", \"'linhas',\", \"'autorizada',\", \"['loca\\u00e7\\u00e3o',\", \"'get\\u00falio',\", \"'sesc',\", \"'registrado',\", \"'vargas',\", \"'ordem',\", \"'rastreamento',\", \"'grande',\", \"'vargas']\", \"'comercial',\", \"'rio',\", \"'vaga',\", \"'comarca',\", \"'hospital',\", \"'procedimento',\", \"'im\\u00f3veis',\", \"'sul',\", \"'funcionamento',\", \"'paciente',\", \"'acolhimento',\", \"'sms',\", \"'estado',\", \"'localizado',\", \"'centro',\", \"'mar\\u00e7o',\", \"'m\\u00f3vel',\", \"'situado',\", \"'sul']\", \"'cidade',\", \"'rua',\", \"['compra',\", \"'meses',\", \"'munic\\u00edpio',\", \"'propriedade',\", \"'instala\\u00e7\\u00e3o',\", \"['contrata\\u00e7\\u00e3o',\", \"'per\\u00edodo',\", \"'servi\\u00e7o',\", \"'municipal',\", \"'uso',\", \"'licitacao',\", \"'fevereiro',\", \"'oxig\\u00eanio',\", \"['proveniente',\", \"['empenho',\", \"'subscrito',\", \"'respons\\u00e1vel']\", \"'cilindros',\", \"'combust\\u00edveis']\", \"'benz',\", \"'retro',\", \"'licitat\\u00f3rio']\", \"'cartuchos',\", \"'adquiridos',\", \"'refere',\", \"'altura',\", \"'hp',\", \"'novos']\", \"'x']\", \"'peso',\", \"'usada',\", \"'injetora',\", \"'palmitinhors']\", \"'toner',\", \"'cozinha']\", \"'frota']\", \"'liquefeito',\", \"'temperatura',\", \"['transporte',\", \"'scanner',\", \"'seguro',\", \"'protetores',\", \"'maquina',\", \"'cp',\", \"'realizada',\", \"'medicinal',\", \"['solicita\\u00e7\\u00e3o',\", \"'vacinas',\", \"'pedido',\", \"'largura',\", \"'m\\u00ednimo',\", \"'compra',\", \"['despesa',\", \"'campanhas',\", \"'el\\u00e9trica',\", \"'sec',\", \"'energia',\", \"'x',\", \"'patrim\\u00f4nio',\", \"'protocolo']\", \"['pagamento',\", \"'motor',\", \"'pois',\", \"'virtude',\", \"'m\\u00ednima',\", \"'impressora',\", \"'ar',\", \"'processo']\", \"'referente',\", \"'contrata\\u00e7\\u00e3o',\", \"'capacidade',\", \"'pneus',\", \"'instala\\u00e7\\u00e3o',\", \"'processo',\", \"'agricultores',\", \"'m\\u00e1scaras',\", \"'aparelho',\", \"'exerc\\u00edcio']\", \"'lotada',\", \"'coronavirus',\", \"'ambiente']\", \"'monitor',\", \"'aprende',\", \"'trabalho']\", \"'tecido',\", \"'\\u00edndice',\", \"'pedrisco',\", \"'jur\\u00eddica']\", \"'admitido',\", \"'produtor',\", \"'infraestrutura']\", \"'habita\\u00e7\\u00e3o',\", \"'l\\u00e2minas',\", \"'virus',\", \"'receitas',\", \"'ant\\u00edgenos',\", \"'decretos',\", \"'transfer\\u00eancias',\", \"'miragua\\u00edrs']\", \"'guia',\", \"'acionamento',\", \"'gestores',\", \"'registrada',\", \"'ppra',\", \"'\\\\t',\", \"['pe\\u00e7as',\", \"'\\u00e1guas',\", \"'brita',\", \"'calc\\u00e1rio',\", \"'tintas',\", \"'enfrentamento',\", \"'familiares',\", \"'via\\u00e7\\u00e3o']\", \"'p\\u00f3',\", \"'amostras',\", \"'pecu\\u00e1ria',\", \"'prote\\u00e7\\u00e3o',\", \"['aquisicao',\", \"'assist\\u00eancia',\", \"'ambiente',\", \"'individuais',\", \"'social',\", \"'estimativa',\", \"'meio',\", \"'individual',\", \"'extens\\u00e3o',\", \"'seguran\\u00e7a',\", \"'minist\\u00e9rio',\", \"'desenvolvimento',\", \"'preven\\u00e7\\u00e3o',\", \"'rural',\", \"'portaria',\", \"'agricultura',\", \"'secretaria',\", \"'trabalho',\", \"'obras',\", \"['aquisi\\u00e7\\u00e3o',\", \"'municipal',\", \"'covid']\", \"'recursos',\", \"'covid',\", \"'materiais',\", \"'munic\\u00edpio',\", \"'atividades',\", \"'material',\", \"'\\u00e1',\", \"'memorando',\", \"['aquisi\\u00e7ao',\", \"'ltda']\", \"'smed',\", \"'carentes',\", \"'radiof\\u00f4nico',\", \"'pre\\u00e7o']\", \"'pa',\", \"'futebol',\", \"'incentivo',\", \"'doen\\u00e7a',\", \"'integra',\", \"'ambul\\u00e2ncias',\", \"'el\\u00e9trica']\", \"'gas',\", \"'cunha',\", \"'futsal',\", \"'telef\\u00f4nicas',\", \"'c\\u00e9u',\", \"'microempresa',\", \"'gr\\u00e1ficos']\", \"'endere\\u00e7o',\", \"'modelos',\", \"'an\\u00fancios',\", \"'meepp']\", \"'l\\u00edquido']\", \"'disponibilizados',\", \"'defensoria',\", \"'progressors']\", \"'feita',\", \"'ana',\", \"'cpf',\", \"'aquisicao',\", \"'exclusivo',\", \"'sme',\", \"'solicita\\u00e7\\u00e3o',\", \"'porte',\", \"['inscri\\u00e7\\u00e3o',\", \"'esportes',\", \"'pequeno',\", \"'n']\", \"'protocolo',\", \"'n',\", \"'via',\", \"'licita\\u00e7\\u00f5es',\", \"['referente',\", \"'lei',\", \"'\\u00e1rea',\", \"'gin\\u00e1sio',\", \"'art',\", \"'curso',\", \"'lei']\", \"'anexo',\", \"'termos',\", \"'secretaria',\", \"'sa\\u00fade',\", \"'municipal',\", \"'contrata\\u00e7\\u00e3o',\", \"'presencial',\", \"'preg\\u00e3o',\", \"'servi\\u00e7os',\", \"'atrav\\u00e9s',\", \"'sms',\", \"'empresa',\", \"'materiais',\", \"'res\\u00edduos',\", \"'s\\u00f3lidos',\", \"'perec\\u00edveis',\", \"'destina\\u00e7\\u00e3o',\", \"'municipalidade']\", \"'saibro',\", \"'dias']\", \"'aterro',\", \"'consorciados',\", \"'residuos',\", \"'fundamento',\", \"'servico']\", \"'gr\\u00e1ficos',\", \"'destino',\", \"'continuidade',\", \"'adm']\", \"'extra\\u00e7\\u00e3o',\", \"'distribu\\u00eddas',\", \"'parafusos',\", \"'viaturas',\", \"'administrar',\", \"'riograndense',\", \"'tenente',\", \"'detona\\u00e7\\u00e3o',\", \"'el\\u00e9trico']\", \"'lixo',\", \"'topogr\\u00e1fico',\", \"'toners',\", \"'efetivo',\", \"['arrendamento',\", \"'coleta',\", \"'final',\", \"'classe',\", \"'mil',\", \"'reais',\", \"'benef\\u00edcios',\", \"'coordenadoria',\", \"'gratuita',\", \"'grupo',\", \"'esta\\u00e7\\u00e3o',\", \"'britador',\", \"'domiciliares',\", \"'alimentos',\", \"'transporte',\", \"'descart\\u00e1veis',\", \"'valor',\", \"'urbanos',\", \"'b',\", \"'sanit\\u00e1rio',\", \"'tratamento',\", \"'estradas',\", \"'fraldas',\", \"'cnpj',\", \"['contratacao',\", \"'empresa',\", \"['contrata\\u00e7\\u00e3o',\", \"'munic\\u00edpio',\", \"'total',\", \"'servi\\u00e7os',\", \"'ltda',\", \"'escolar']\", \"'munic\\u00edpio']\", \"'aliment\\u00edcios',\", \"'g\\u00eaneros',\", \"'merenda',\", \"'familiar',\", \"'empreendedor',\", \"'familiar']\", \"'letivo']\", \"'instala\\u00e7\\u00e3o']\", \"'alimenticios',\", \"'generos',\", \"'pnae']\", \"'semestre',\", \"'m\\u00e1quinas']\", \"'abrigamento',\", \"'letivo',\", \"'permanentes',\", \"'chamada',\", \"'perman\\u00eancia',\", \"'leve',\", \"'l\\u00edquido',\", \"'emeis',\", \"'qualitativos',\", \"'alimenta\\u00e7\\u00e3o',\", \"'combustivel',\", \"'lonas',\", \"'bandeirars']\", \"'gramado']\", \"'emefs',\", \"'cuidados',\", \"'durante']\", \"'humano',\", \"'folhas',\", \"'req']\", \"'primeiro',\", \"'morro',\", \"'exceto',\", \"'escolar',\", \"'escolas',\", \"'escolar']\", \"'agricultura',\", \"'alunos',\", \"'produtos',\", \"'nacional',\", \"'rede',\", \"'programa',\", \"'rural',\", \"['aquisi\\u00e7\\u00e3o',\", \"'ensino',\", \"'municipais',\", \"['fornecimento',\", \"'destinados',\", \"'municipais']\", \"'atendimento',\", \"'municipal',\", \"'aquisi\\u00e7\\u00e3o',\", \"'educa\\u00e7\\u00e3o',\", \"'p\\u00fablica',\", \"'infantil',\", \"'apae',\", \"'entidade',\", \"'pneus']\", \"'amigos',\", \"'multifuncional',\", \"'descart\\u00e1vel',\", \"'aluguel',\", \"'tecnicos',\", \"'excepcionais',\", \"'laborat\\u00f3rio',\", \"'uti',\", \"'hamburgo',\", \"'espec\\u00edficos',\", \"'tiras',\", \"'harmonia',\", \"'britagem',\", \"['celebra\\u00e7\\u00e3o',\", \"'direto',\", \"'salvador',\", \"['contra\\u00e7\\u00e3o',\", \"'laboratorial',\", \"'regionais',\", \"'did\\u00e1tico',\", \"'fomento',\", \"'pais',\", \"'contexto',\", \"'independente',\", \"'gestor',\", \"'compartilhada',\", \"'neves',\", \"['termo',\", \"'coopera\\u00e7\\u00e3o',\", \"'externa',\", \"['assessoria',\", \"'associa\\u00e7\\u00e3o',\", \"'emef',\", \"['chamamento',\", \"'colabora\\u00e7\\u00e3o',\", \"'parceria',\", \"'venda',\", \"'interna',\", \"'sociedade',\", \"'emei',\", \"'recapagem',\", \"'despesas',\", \"'p\\u00fablico',\", \"'termo',\", \"'recursos',\", \"'repasse',\", \"'projeto',\", \"'pintura',\", \"'atrav\\u00e9s',\", \"'financeiro',\", \"'plano',\", \"'execu\\u00e7\\u00e3o',\"], \"Freq\": [26311.0, 6610.0, 19418.0, 5772.0, 8890.0, 21704.0, 11848.0, 18601.0, 8919.0, 4720.0, 14772.0, 2383.0, 4297.0, 2283.0, 3334.0, 3660.0, 2618.0, 3716.0, 7128.0, 2530.0, 3336.0, 3738.0, 5578.0, 2044.0, 3216.0, 2058.0, 3226.0, 3400.0, 2659.0, 1516.0, 716.6059154245362, 315.03781355755785, 204.8987422369951, 194.79178305921351, 158.51374141718887, 156.08427780435383, 145.7531712055603, 131.7008090137693, 119.50793963471382, 117.18516449561722, 184.52866151294558, 178.77179591959282, 130.2515249770297, 183.10146929405659, 99.59136802955832, 99.14629293226847, 123.10766173621688, 94.77099226074787, 87.9484481470645, 88.58080031416424, 88.76700413572945, 85.83717889434564, 131.4802802439186, 78.93286371196726, 75.70154119377823, 75.49448976250449, 73.86555536693268, 75.01506122361293, 73.47327363573159, 72.09968684244393, 1932.8774626600573, 1460.2434019656994, 417.6643371208314, 1030.168781965203, 124.6338587312342, 166.19615682807117, 196.97431409582444, 225.2756993480282, 7887.182134087437, 1302.5313010051068, 1559.6750459622426, 185.38465771913718, 2264.947535905179, 272.8216603376393, 422.88666810170315, 13412.206047295585, 589.3728109068225, 235.4498077743926, 3492.1809557786564, 12033.153856044068, 525.4468402292484, 891.3065673255951, 9796.489013775645, 804.1997642511143, 1410.61640313189, 2524.2651309352473, 689.3066590996973, 275.33982364389936, 3187.058721291533, 815.6153264656342, 621.8684882903077, 590.1909869846044, 1607.5998920755405, 725.8737654348787, 1169.398142482211, 2148.296355151262, 1305.781818520663, 2071.477766736876, 731.3775343979295, 957.8983346785907, 1129.1372386131059, 893.9591051111975, 1162.3802766857686, 784.7045613041449, 788.4785200343965, 769.0609708719269, 5764.785929122671, 574.8153928839504, 1559.2600229886918, 704.3493460800254, 424.5817741514669, 6591.49349515893, 363.5527942203864, 308.2303151547592, 300.27754963318904, 235.4245944651475, 223.59223130372837, 288.33754894466443, 226.81270576211688, 210.1189996145749, 785.4752091676602, 202.48994149843514, 189.26507705976985, 366.3410983519669, 531.3267137771788, 3305.8077534927725, 333.4040761979922, 115.5041917764597, 114.5551259293269, 265.8208237735995, 111.03011155471425, 115.90199360288472, 111.02893460362263, 105.99134701280079, 106.2402110283601, 101.35521438231167, 1491.8012216784277, 967.5159770061716, 224.31041603087695, 228.332852735026, 178.07649086038293, 141.0704583662055, 131.66775024008686, 666.5486728929819, 2184.0768837680166, 513.660280480039, 1404.9828282876479, 635.0889230650077, 433.6069713936815, 2801.084658769422, 1906.1969579694528, 520.4927719833447, 946.5282794389798, 730.605137873585, 1029.0833585638873, 872.1472937811817, 708.686089865951, 1579.546624547182, 5628.13243063757, 2262.7263194782686, 1814.4696085711166, 1976.1045512340654, 981.5207778915973, 984.4984335832152, 2289.1330667131365, 2779.340716628093, 1713.958596750691, 2976.8863018757493, 1104.257700967906, 1307.5257752737664, 1573.9588887464276, 1071.0953156075066, 1097.6336368033692, 944.7730632344097, 909.9597552504578, 1396.7536458754125, 729.1976658092176, 598.6042080121765, 480.3804586651552, 997.5392276055993, 1000.7903180602335, 354.2749844994748, 288.87840008808934, 769.7259557620878, 319.44524180929795, 211.61533292834662, 199.12123873511734, 178.59096341268926, 546.4056383195689, 180.23883826921195, 295.3868980170982, 158.34954935154983, 194.17244922522866, 118.46351131348287, 107.39623511999719, 143.60003316142948, 98.04536956380464, 115.64377751625048, 96.3888088051388, 96.31730221283054, 92.8743517006481, 95.45761796077137, 90.69415142857657, 94.38612584907361, 1093.6785723821956, 671.7296660760414, 354.7657185534946, 347.71998916286793, 439.8272630852753, 261.85548410956653, 147.5770372082906, 209.18844526858172, 160.9308415430042, 582.7529932235461, 1304.1674693662862, 514.5596259903378, 209.85798463750987, 1214.8780522577867, 1911.1764203643233, 1510.143425313156, 479.8571816037018, 2498.0741552203804, 481.71961507128697, 2043.1431050510146, 589.375404623285, 792.7451756964035, 1692.6469928276063, 481.1895032015898, 651.0212326743342, 680.0345794384624, 1194.768803712119, 538.9195556962953, 890.6625026356938, 2517.3793817780956, 2353.8601155070037, 1265.2295668013578, 722.519126135719, 1579.770652469753, 1098.9288442481413, 932.448034853471, 910.8622606117414, 638.6862678328872, 656.8652008381845, 338.5420687847923, 230.21239710709594, 184.11705391862208, 409.0252387700951, 147.68175943901176, 143.60298787753814, 149.55102108130356, 150.06630999216, 197.00675467414084, 130.2080321032713, 181.4804171728598, 110.06490998690975, 105.99492226646984, 121.42996139461783, 128.28755185042849, 103.74647102407761, 102.4209592769319, 1119.8589695688465, 344.28321853569787, 96.2845255183394, 95.2195154862212, 94.47621502710867, 91.1953499504876, 91.00937695020285, 87.76504796459045, 85.3619921910688, 92.9344500246281, 81.8340188037918, 93.65880439713999, 80.96132131669422, 2031.343711081887, 458.2002836821139, 203.44936165666795, 183.52701865020182, 128.29078858981828, 135.52593911486417, 132.32064074182466, 417.9764080690811, 230.42012880889936, 166.64507888662024, 172.38004534917422, 457.48110251204054, 2700.83999398347, 241.91057596503646, 721.1769212587584, 220.590865596971, 158.26187922235226, 1215.1859894474903, 345.2588833994872, 1475.2300072029307, 871.938125714398, 398.6656637120735, 377.3133627267039, 570.173296183993, 649.6304712227354, 4662.479428511284, 513.4473624000384, 316.18021762257314, 549.9454607849812, 975.2910092286756, 2855.0141503857603, 2289.805699912955, 352.0344504146922, 1401.9129044643018, 322.51257456478146, 467.13404155541684, 582.1983410756224, 557.3970152411611, 579.1890216920501, 485.4610403613309, 962.6993340427655, 583.4873669570258, 563.0404601071758, 492.20591415818427, 427.5287626456268, 413.8332282390746, 583.8186237433298, 282.9158331430221, 284.4840274081792, 190.0700139030738, 220.3770798926463, 390.23098215978536, 201.74100114128748, 140.47237375793839, 638.8185352465841, 142.27004141303323, 595.321667258322, 147.87532729174967, 147.469709931869, 364.0133580698301, 98.04070335431969, 131.05429582286558, 145.8912236338525, 76.18878714223305, 79.4083631143563, 74.10389944796775, 191.70387690113492, 78.67887495180365, 327.86731585976156, 194.73202662533424, 68.65254343800096, 62.9611327156648, 61.81564614819598, 60.04586155725865, 61.71234751785359, 347.5861164679298, 296.63574715636423, 367.79906817161367, 262.8596318814175, 107.23808672532084, 105.57714177268696, 864.7764337960465, 913.6960125633602, 110.4107254643442, 247.45660888359726, 251.50657388312237, 611.4753744431242, 544.1863528979034, 318.69892820511893, 589.2088005720236, 3213.8316158459274, 3428.0059490074773, 443.4494484770357, 502.8037911281014, 418.27613748991075, 369.25757718279453, 422.60030449785444, 437.5054378887637, 507.8023588881254, 438.54647979412306, 1620.2327415621414, 894.0791531498492, 2049.6481298034, 1258.6257609135384, 719.1723634422325, 658.5080731018656, 1019.975482658373, 760.9029628205125, 957.5386038435223, 655.8392655325067, 899.1400294331302, 800.353693332821, 545.8446497382988, 880.254138009599, 649.072693425067, 1194.5366380862658, 973.2658981988069, 628.7554417040599, 621.3570611707947, 518.7012322579654, 554.5915014072765, 224.5824704979088, 192.89108776571678, 309.0427742022677, 137.284223288836, 135.08748956706526, 128.88227868792427, 114.58490591361041, 111.57222093874073, 112.63942443756848, 110.68859797276151, 107.77117845135766, 130.3298546292729, 99.96964795942274, 96.27494808420053, 98.77696943281937, 95.0550724416196, 190.63797668895089, 87.68529616582843, 106.62284633330657, 87.24396629843424, 81.88145994654654, 80.4709495191604, 80.21009329185203, 77.88843226200242, 113.18543487114711, 71.98424057345196, 70.3022453236072, 110.93612950192949, 67.58623555552605, 387.9334296314862, 254.02946789471108, 101.18220493364167, 395.2919870969367, 109.15137542656048, 266.27772684897684, 141.92767755673785, 1054.2796559578446, 186.02321160102812, 14350.017929521444, 331.2780218992401, 1466.2430596375307, 369.9190421260283, 1284.519032144655, 394.14729070445895, 507.59775580474155, 403.0662449253496, 511.544586165896, 2244.1727445998567, 878.6059291043545, 281.25421538662755, 1817.1774193718293, 3307.7014597737693, 1055.2518773064978, 1651.957659519758, 1149.9756548791158, 2504.685457223921, 276.19513630330755, 851.0101487350914, 993.8379186224838, 651.9864135066126, 412.0424264111097, 432.9731002248058, 546.5606841181419, 774.5326140816401, 490.16504661725367, 463.8877219925471, 452.9839071381053, 418.903503296804, 400.06032145570214, 633.5985971418523, 250.3039109439963, 176.03922779523293, 140.1222455935805, 133.58869469978114, 152.70051562493637, 155.96727305570232, 125.33072956690832, 121.90116033570871, 131.6702467005361, 119.4143843901784, 113.49951653641357, 105.83375072700586, 215.76546924624802, 113.63886232267606, 118.28147585342178, 89.5938006056602, 89.39740673197123, 199.0564780915517, 89.66659479395855, 100.07192992919809, 87.24567682524412, 81.11756100469464, 77.97612380008964, 78.00664313061245, 76.90892911107916, 76.03602040811234, 83.64776484055862, 73.57388602947846, 81.82407269661739, 1036.6387497039532, 437.05410857497304, 149.51952399874764, 152.6879944120005, 149.77040766887478, 170.12118009386643, 810.7025964561103, 100.21804978173955, 119.50042043676143, 473.94080917414027, 254.86006504901655, 393.2581846616631, 140.99472190933804, 487.6882001710313, 936.1255866438022, 576.3486929854262, 598.5054747191122, 1198.9441526509868, 512.2593239846237, 208.83032071568132, 1913.053104034679, 353.93595500933395, 578.9131454914931, 443.46482546906486, 1347.2433087918307, 690.3693802381111, 469.96879217274517, 2364.9654784117592, 383.51484335192254, 577.940670625519, 323.0119100586256, 370.0933281817709, 457.7973084246682, 593.0511622997155, 786.6148815425108, 359.81534008773593, 519.7120580208514, 847.1081581881335, 1108.397442700573, 541.4304711888462, 483.3238278094675, 1012.4890592903545, 572.5240479578661, 816.3111630124232, 594.9147872040487, 532.1430101267734, 394.0251715603704, 269.5811276591385, 244.90404273732105, 234.71203485711573, 320.50482985299993, 182.09547828562125, 143.75606820711195, 186.1116866895386, 243.30232951105765, 123.15601091433213, 114.05501364945407, 113.3836784858972, 147.9462024083563, 142.9264504840618, 107.14965529928651, 109.08814533915904, 103.5266761558243, 99.81303813570148, 107.01074264583282, 98.51121209212437, 92.72876463712657, 91.8075848684153, 94.91405656717127, 84.45948079812504, 97.59846774650504, 87.32829628891767, 127.38898864699766, 90.16614974339258, 76.19770290732176, 76.01709541311737, 539.0771995968718, 161.62135607230752, 242.43390182687975, 110.20003406507043, 138.99108885863473, 514.8885800375901, 111.39691713196947, 650.3697875563383, 257.50844132372293, 943.8367890183425, 1024.344326709682, 439.083799488636, 246.1473995489054, 621.5455434941638, 248.09757817399785, 251.60585485439807, 253.97985649375832, 1688.8967086101486, 199.44016375539962, 534.4070617620769, 671.8950932626472, 422.88129836512513, 195.4027703388106, 250.92825011962424, 319.373220475806, 490.756360313368, 576.781436346368, 390.24845200831055, 307.6910889683685, 420.62783032849023, 1625.2096500857995, 872.2302536543749, 1741.4784712535466, 758.692825991249, 453.09726447663405, 320.2399119710316, 743.6368058432314, 1042.6774999602856, 311.3565170548536, 423.46465785312967, 426.223795306465, 360.6763138646835, 490.5156789276846, 444.2750746053435, 332.3523377424686, 325.2608301232587, 487.8952105607922, 421.34951949270925, 342.2672698727929, 321.4853956942466, 263.94773462260747, 212.9086437492599, 183.23973260776236, 328.0518613783236, 164.1209239045683, 460.8650422786157, 173.99130772047084, 155.73978548276165, 128.6013933555957, 136.14803149622983, 120.1873732789084, 116.92743525552231, 112.4282574327583, 105.61248627146377, 101.1565884396387, 98.771582483078, 102.08948705315183, 243.5297146914145, 93.34980095641025, 89.98013542658481, 87.28562979952645, 146.09172079678524, 85.44179080319718, 81.14369786480488, 76.67546046203381, 75.30906182163062, 388.5158863078914, 145.37591429958673, 286.8038023669034, 698.9695623705476, 836.8969106707326, 134.35140269589905, 1654.767810030608, 946.5433944211735, 903.6779366895461, 283.52617046486876, 1446.1756929952928, 1464.834460853624, 397.58177146869326, 982.0834590982, 226.82460880642026, 1949.3431394175336, 1020.1881178265419, 346.7595101675976, 708.7461940884309, 1227.5347258284974, 1775.065945080445, 513.2876130682021, 2214.459179207311, 454.41323674700413, 447.8430158872427, 1110.7252126365224, 611.9655150561871, 421.67179630759074, 684.8392817994325, 2634.2473412033746, 625.0757244290982, 1010.0439244209049, 644.6889433817244, 564.8653011523191, 597.8637483614552, 507.97107988714674, 602.468548456224, 615.0823306109983, 267.47661910585305, 240.2598353199034, 228.35255150052112, 425.30201702991434, 256.66000714838043, 154.14413629312256, 149.34055543133078, 148.83703370282902, 141.4693805295312, 124.76110405140001, 109.35912619527097, 107.03889515666911, 105.2729115265649, 104.44393488908861, 102.64076327574269, 158.8255446723578, 101.25323847321548, 140.26802036742887, 99.53474914385902, 98.00940640385444, 98.92533581481588, 94.64443248368747, 94.63026710894985, 103.85645929302262, 88.42010638091104, 86.98663709981743, 86.44510598231783, 86.56541092914583, 84.91756249481573, 1263.5902341433546, 141.02129594045667, 179.6909711804359, 102.69647938316255, 1901.377893661475, 266.20861658995227, 155.48008301345413, 127.74401580741832, 201.10221406434505, 161.55696678300697, 119.41348136017481, 780.6492763096103, 139.37174270172707, 252.43858599257257, 707.1130034840454, 157.60699698226418, 142.45165782807663, 765.2909104496647, 245.24029738725372, 306.58278626499026, 887.4911038268086, 435.9373617850552, 404.4250133501415, 381.85389904392497, 367.8892882716757, 465.7990566074905, 420.34150117403817, 790.8220611365027, 252.42905458615724, 336.61524049536774, 215.9202654172034, 300.77901216023656, 388.71214116443184, 613.6970995452995, 412.02558929907576, 414.478647847731, 838.7526678247499, 294.4923754566586, 426.00135879103084, 660.6640887940648, 403.01021167722234, 474.5000063051898, 483.4337702909728, 383.739536695541, 476.04686823875767, 430.90789618931456, 456.22343134985044, 464.6376943966445, 402.42164069701073, 401.8859872357696, 402.22461689855584, 228.871942195821, 138.23000181972984, 159.5420836662414, 163.07888976024248, 128.80948537158625, 129.93603721350814, 197.5934426471113, 112.25516093427788, 131.32402755156951, 188.92105500081485, 108.5998797082959, 122.45037059265259, 146.65895780583045, 100.84894830502316, 100.39276847337365, 91.16514343450498, 107.99625809394018, 87.20753235729354, 83.71443243420075, 82.5899634228961, 81.4183146381841, 79.51608473321524, 75.38074764921058, 370.60786033407135, 191.94147880759286, 149.07345757207517, 112.65785926538086, 661.6487163825843, 312.6640182966109, 557.3111199553723, 244.70142826949456, 241.5882020480566, 150.00169465982415, 713.1560927686023, 678.7618915575932, 730.9017031572412, 166.25090104772846, 799.6927673436264, 449.75348070266955, 722.7061839061378, 713.9768744288502, 359.8481569975377, 510.48269944446866, 486.35039839805273, 440.7718891986655, 236.50274151879427, 253.53941758589193, 286.4710058948072, 235.34766887167856, 406.66529162752477, 269.9198356482739, 488.6723619260742, 503.2753868323056, 258.24751978082634, 281.4173268320884, 284.5919865751197, 272.9969417272499, 446.4657659996813, 194.84436727667963, 151.46592026619211, 830.1550909926598, 150.49181382004306, 117.73373341218151, 166.6576222163662, 111.91607969559976, 113.76944934354746, 163.13767491847918, 110.26359808553515, 107.67023177339084, 105.0733349613884, 104.58046679737107, 101.90003212843155, 90.28556373027624, 87.73245420235976, 256.7301358559393, 83.54678053508563, 82.84208237958083, 96.38081597798191, 81.470171670006, 82.59613503928054, 73.36620778059513, 74.00783070058318, 69.08520412726219, 67.41342158598789, 65.50979423417748, 63.59318061358746, 72.28058556411122, 302.7509283742131, 111.18103481704975, 122.63803902759904, 356.32971634244086, 148.18128337980488, 102.61255060071768, 677.0720979532155, 377.3825802280365, 165.3731692569533, 183.59454629677515, 139.16626881009336, 230.94757034055658, 749.6885612556674, 594.3673870635187, 1409.4119905825203, 470.74392322257836, 264.0568316460704, 1368.2430394133899, 243.3350559604051, 753.7308797549891, 251.54969842441238, 513.0004760244734, 518.6995854204513, 410.68825154771633, 693.542398982523, 350.54867858210827, 601.2444892724523, 386.257555963302, 688.48038905359, 1731.6898281168856, 379.00230087618235, 614.0005486936659, 1529.7763877014868, 849.1735822136844, 553.7990881423095, 421.2027550737141, 432.96344717095656, 462.60030610865806, 444.1972121643739, 346.04111288824754, 348.20941091140725, 207.4236802036456, 824.7436404077401, 194.27263125948275, 205.72604017504275, 155.95514250175623, 119.41714132931779, 115.42592326609368, 136.36684361125705, 149.89240783679048, 123.29212610723216, 223.59303199373187, 93.00995271110797, 92.6641270422219, 91.19884906834602, 96.6760682843485, 81.37978419561797, 143.8825117619096, 84.29241566781019, 73.89522113585383, 73.97632546841483, 71.56521350626637, 70.94995167301691, 71.80990262986697, 67.71297835428082, 65.48392146394778, 134.29132056697054, 64.08256076475915, 62.03320153222233, 62.01512608926254, 61.48837179762442, 168.913905429518, 92.80998477660995, 93.60201782266634, 506.11100932897205, 399.1807997372738, 95.83975533851333, 1125.4107792455993, 193.05271014963162, 212.43568176292416, 286.062482861147, 265.99224957756627, 583.7162891644139, 354.95636305875473, 1325.6989968896644, 634.7770406924947, 235.21259795257404, 524.4854606442606, 1059.639810689406, 1099.4983630559302, 240.4138894060027, 500.2271826461705, 363.8983712068976, 216.49591515381292, 731.4132245509868, 252.35541076517725, 1084.1993731668722, 802.758885005793, 941.3304216915593, 482.7328480485413, 293.14382941417904, 305.56651871655697, 551.6671178321524, 314.10804519048753, 236.8958844652769, 332.35415098981616, 224.77958930812943, 1092.9142780153559, 544.4866799004893, 311.9208488785887, 529.8858459298023, 255.0094850871503, 252.1959465338526, 249.9349231213419, 159.85378031049967, 151.84040917023165, 136.29595710328775, 141.6468437547434, 128.63065685494723, 121.16259715156153, 244.48167452201116, 213.47796201690892, 181.42585331853908, 207.67839870812432, 111.82315164142761, 107.98559091785651, 106.24476665144248, 102.1093372457639, 94.78394220014223, 93.85342276424625, 92.59755094982391, 90.25410441274566, 232.47039313103957, 86.8116344093059, 81.89513445906397, 71.61901728143847, 70.46275009654883, 1030.4958391910632, 767.6963089705648, 175.07239900626521, 741.9268703634926, 299.2628001587856, 147.05097517419003, 101.44500809219588, 236.91872503567012, 438.83335523702056, 148.91773002842808, 172.81532420785132, 230.02699520228416, 393.74420916668333, 1694.0047548710063, 253.04687846465285, 646.4849078436368, 238.25910614046467, 430.8427026101537, 169.94262355835525, 420.52167414188034, 347.133023371347, 299.3317498961588, 315.66288222429364, 385.2811993837823, 1105.0446889817695, 869.9901572348185, 709.6533372570595, 318.61814582180256, 464.0775498680877, 261.0487617106506, 267.25242596238513, 271.67722278469364, 2281.4939477236585, 2381.28545643472, 1004.6690869938262, 1514.8520644522648, 431.8929354816837, 304.2868182163015, 295.55248365437217, 345.3900004850419, 296.42593868001876, 320.7498115636254, 188.48389423957894, 127.50031909521806, 116.91067719266636, 111.67296676229816, 167.41366559214114, 131.36308470252558, 212.16120118050674, 91.97043560149388, 83.35353592997407, 72.07072188776444, 97.10564798810672, 65.72076101036595, 1511.636490301792, 62.95039656036525, 67.77039834366799, 81.47688561496281, 61.7845891599165, 79.00016231462, 65.35626959782392, 57.81618715334723, 138.24894944064027, 78.60691882035958, 218.87846828414885, 217.70722538137974, 102.67132196125691, 114.06025232307205, 1888.6199813432088, 1690.4588223058402, 635.237449926217, 1223.2837824292621, 754.4406472850361, 460.28778390870275, 482.33974623912127, 932.6202095702481, 690.2361487656968, 541.636762663508, 3069.9654985361312, 664.0999241084161, 688.5090394728563, 394.9775057784288, 338.5217903447416, 391.5841130520472, 438.67105001407873, 535.5750559647176, 467.2762437531142, 363.8939386758461, 332.49994399630066, 307.84288776212816, 229.69587673832586, 347.17482270116983, 370.5246724118126, 185.17910349405918, 174.56134194016204, 162.29133016037508, 172.77768110442284, 158.20577250247564, 156.6381392041591, 326.19582892340986, 261.20086036501976, 125.0251957392367, 115.97389000144747, 114.93210587604592, 118.01108702542342, 105.55004448700933, 102.33467314653373, 123.92495995885221, 93.99133982220451, 85.87511674952123, 82.67114271775213, 79.90598304801078, 79.11105671938782, 543.1033320577344, 205.77479535345964, 68.18655655593398, 69.3979205904137, 67.36937491472641, 65.67772847112315, 65.66207964268624, 363.412068659509, 206.12149645079955, 341.91462317339665, 158.6053254729971, 667.2029818389137, 990.2626093706547, 147.9803012807444, 318.8138244325012, 305.46394461801503, 135.8750381376147, 307.6859883719193, 264.5115628223259, 492.2524595577628, 275.96292784945484, 271.2382759930938, 460.4609792294042, 547.0399337220344, 439.9711349309877, 249.088217734155, 301.17801723954364, 225.42238932456252, 283.1388459886107, 196.87849481176156, 210.93360557349678, 231.97916754390684], \"Total\": [26311.0, 6610.0, 19418.0, 5772.0, 8890.0, 21704.0, 11848.0, 18601.0, 8919.0, 4720.0, 14772.0, 2383.0, 4297.0, 2283.0, 3334.0, 3660.0, 2618.0, 3716.0, 7128.0, 2530.0, 3336.0, 3738.0, 5578.0, 2044.0, 3216.0, 2058.0, 3226.0, 3400.0, 2659.0, 1516.0, 719.0052885303908, 316.113648570749, 206.05106536033492, 195.90727406917128, 159.58957645028127, 157.21565151239918, 146.85498051924594, 132.7829839196953, 120.58881542344639, 118.26100315310161, 186.2283612670431, 180.4294485830009, 131.46935370937365, 184.92057491673793, 100.66726890977732, 100.2320265057078, 124.46235486456992, 95.8468269438826, 89.02428420422854, 89.67325811913014, 89.86210219367544, 86.91895362816715, 133.21556070094667, 80.00870061867909, 76.77822973945972, 76.57070016777327, 74.9416631836145, 76.10950911935235, 74.54910915416792, 73.17552353489253, 1973.1434064852454, 1503.881955024513, 427.5262884933682, 1064.4742310230793, 126.57345653638889, 169.535851607042, 201.4139280461144, 232.62041398310063, 8890.463898541015, 1406.9809909802427, 1710.273204574867, 191.21954452281295, 2565.0417178630864, 291.62561635788984, 470.28557287751704, 19418.83014700602, 701.6353431975372, 255.4186866801682, 5112.3611740261495, 21704.205932744142, 631.4362770283693, 1169.4432699244883, 18601.1032800765, 1047.4280422068728, 2018.7719382243954, 4052.451691847199, 885.4474830115498, 305.2117843958851, 6505.144090050147, 1287.7400964086773, 915.9435073365049, 874.0265824480368, 3763.5423354205936, 1277.7464885979564, 2595.558117551957, 7333.069998048713, 3786.512712794973, 11369.474043717353, 1426.7124147284628, 2566.7516717679014, 5561.119430578814, 4212.486775307318, 14772.43746085484, 2659.7411132442767, 3743.5141255285794, 3294.4924877878743, 5772.378524372913, 575.9435019904191, 1562.9797968169962, 706.0952242372827, 425.6880045687402, 6610.279771963894, 364.71666710547163, 309.4106967457348, 301.49703539688056, 236.49600099601682, 224.66932550972984, 289.84267299201133, 228.02756210702233, 211.4382511821335, 790.4442203256965, 204.00321143096173, 190.69571952348298, 369.2736092741256, 535.5850971590513, 3334.7948305476184, 336.47786282006973, 116.58160777854158, 115.62653040993516, 268.3439072627267, 112.10151727120517, 117.02458336484464, 112.13764212485385, 107.06275328840913, 107.31599131231522, 102.42663670490867, 1520.6274002295863, 982.8552893670307, 226.9298754762819, 231.3969353248015, 180.35551134458822, 142.6155092956024, 133.0686086016422, 688.2258310483131, 2333.3347371642144, 533.1128072599498, 1510.6262016082617, 670.9783657539228, 451.00895102198893, 3226.7918228484355, 2194.094809996343, 553.4000975185743, 1047.0565644633873, 810.8173286663879, 1198.9981432484883, 1008.7356797877812, 804.0224191800412, 2019.9447310964822, 8919.500592731085, 3216.9223733522103, 2509.6573221023064, 2881.8927315985725, 1298.7705853924497, 1310.7405615202324, 7128.5110440779445, 11848.890797250086, 6027.8921007718045, 26311.57583607079, 2922.6748227992302, 5561.119430578814, 14772.43746085484, 3738.450871711757, 19418.83014700602, 11369.474043717353, 910.9968669790362, 1398.3677172733583, 730.2855270084054, 599.6743303436922, 481.44729481032175, 999.7865242503993, 1003.783654738355, 355.4766548101488, 289.93789208257306, 772.7276846887135, 320.742002565734, 212.6578927657204, 200.20285119672187, 179.64995197784052, 550.0450383226414, 181.4551720918883, 297.4350141419981, 159.69993543199953, 195.89322023257736, 119.52536239451373, 108.44037445155624, 145.04076538313538, 99.08275456255775, 116.88724514156905, 97.43546806439191, 97.38061974322666, 93.911301303901, 96.53113546070222, 91.73109939894645, 95.49695152277259, 1118.4623271696873, 684.0425042089033, 360.9802468852253, 354.95613127275175, 450.1117437508499, 266.7116390184184, 149.7392813245681, 213.38229885724107, 163.61872255310246, 618.6964961901972, 1433.1648293947658, 545.1296541618098, 216.32374784872013, 1435.8652048736044, 2559.212659317714, 1996.0169467582282, 549.5259975169213, 3738.450871711757, 563.5678495193681, 3294.4924877878743, 752.094630390309, 1096.4724811587619, 2922.6748227992302, 590.9276030933897, 912.2447117026462, 1069.114746191863, 2772.5471413569167, 731.0482181301201, 2108.2097305312186, 18601.1032800765, 21704.205932744142, 5578.400551868114, 1467.9052363328708, 11369.474043717353, 5561.119430578814, 6027.8921007718045, 26311.57583607079, 1794.418619129375, 2795.056691958343, 339.7035900141575, 231.4598284152852, 185.1912334610919, 411.98251199688934, 148.78088417785503, 144.67757707710464, 150.70695206605595, 151.28541368427744, 198.62812925454244, 131.28627014661728, 183.1900941605097, 111.15001696578626, 107.07105361746096, 122.71748778098268, 129.6524432169737, 104.85444429066655, 103.52687752112293, 1132.1679695986345, 348.08735375901597, 97.37866471474025, 96.31677429544389, 95.56611883661408, 92.27111351398779, 92.0835566686586, 88.83922840116922, 86.43692733092455, 94.14702095605477, 82.90820079727439, 94.9054294480543, 82.04266138887512, 2058.8590008552665, 464.594597752121, 206.7523484721397, 186.62216468621088, 130.45708431731288, 138.1847614706454, 134.88071291197818, 439.8015190405358, 238.6963339858605, 171.28751869104818, 178.1158854041301, 497.5399131386466, 3336.7280127076933, 256.78697378799336, 834.3458524290504, 234.28422115891127, 164.5911410436743, 1649.8974529710003, 399.73850140229683, 2151.7178109588745, 1193.6288561265922, 492.7661687428043, 474.5062410085249, 797.9617555493536, 943.7002004149423, 14772.43746085484, 793.319890261151, 444.0479104221151, 1130.9017457343255, 3087.0263626069946, 21704.205932744142, 18601.1032800765, 623.7299882677871, 11848.890797250086, 524.2952051624181, 1324.2972958918447, 2318.692149497397, 2244.4067128741826, 2530.094817383885, 1613.9896451552786, 19418.83014700602, 5561.119430578814, 11369.474043717353, 7128.5110440779445, 5112.3611740261495, 414.9909479497, 586.2151304809014, 284.09186457473385, 285.68763608090126, 191.13938773809312, 221.75246279315053, 392.70104887117594, 203.26601169214842, 141.54182751390596, 643.8296683664007, 143.40391753759494, 600.1027541215782, 149.14668739602806, 148.90736940437822, 367.81579230051295, 99.12799911055465, 132.58586079584109, 147.7259695330376, 77.25815728022961, 80.54854981055283, 75.17349081195515, 194.5449631904584, 79.91113323175024, 333.1226602884417, 197.93195308907312, 69.81100349364986, 64.03083654168232, 62.90315950313084, 61.12042000604223, 62.8503479923348, 354.5536669347572, 302.3544519303348, 378.95110251807733, 269.9569787436025, 109.23518945021661, 107.54699539515582, 910.2834192261, 969.9518655474197, 112.54023775737933, 258.07752964859117, 263.74294309459674, 665.7390732687874, 598.1309752715755, 341.12301255361115, 668.4308735688302, 4297.308285358205, 4720.917093327717, 504.5693316839621, 601.8368086388247, 494.10499931954496, 426.0954132153814, 506.70082213229625, 539.7451863920189, 660.9269815375408, 550.38972921852, 3400.831509320859, 1775.5810290369782, 7333.069998048713, 3786.512712794973, 1420.8983414556615, 1243.8722620213698, 2748.7799317206213, 1645.0578087915362, 2663.1946713636994, 1320.8458219676209, 2853.17319558269, 2430.8664401942415, 952.9875881781546, 3467.7404249599817, 1896.1883353596052, 14772.43746085484, 8919.500592731085, 1851.4865762063414, 11848.890797250086, 1361.9766549849655, 556.1521665622968, 225.73917755354222, 193.95669517236382, 310.96042801786496, 138.34983044864197, 136.1737921837856, 129.94788627811198, 115.6505165225218, 112.63819334523467, 113.73630642419732, 111.78349739281643, 108.8683325354961, 131.71467567197513, 101.05484257892748, 97.35097288980748, 99.910819120173, 96.14647101660896, 192.87679835644568, 88.75090306787052, 107.92080987264802, 88.32641901012684, 82.97736868229457, 81.5524301066506, 81.2973055625818, 78.9541016748577, 114.75678924634495, 73.07705263420922, 71.3757273660483, 112.68141258613971, 68.65184407913239, 397.9079814364577, 260.6706574080465, 103.08876604433584, 418.13378340639105, 111.552537457606, 281.492388976249, 146.5335500667918, 1229.0323349356818, 201.30651002383695, 26311.57583607079, 387.4645762477304, 2114.8017434363996, 455.6007860775344, 1910.0068880772255, 510.34865282511726, 691.1271895656115, 531.4853810745169, 786.0846469381951, 5578.400551868114, 1775.5810290369782, 388.52906428525, 4871.071321312349, 11848.890797250086, 2853.17319558269, 6027.8921007718045, 3660.6628951030293, 14772.43746085484, 424.4208909555751, 3216.9223733522103, 7128.5110440779445, 3008.441448085395, 1061.3094447367523, 1201.1304612781796, 2371.6666543011634, 7333.069998048713, 2618.3493546781915, 2881.8927315985725, 3467.7404249599817, 2441.328112911511, 2610.708878698144, 636.3379804871106, 251.54518309635824, 177.1544146576702, 141.18737953589175, 134.65557852669016, 153.93884864598274, 157.23923829831398, 126.41215453663064, 122.96629417061125, 132.86536050461544, 120.50604426550623, 114.56465651384853, 106.90243314511812, 218.02531198732012, 114.84387671198894, 119.63266319308177, 90.65893378314672, 90.47971074717402, 201.47872724053815, 90.76793044995465, 101.32042594723966, 88.3397875462627, 82.18269428998997, 79.04125808067236, 79.07333710948262, 77.98641597281583, 77.10854401939739, 84.84693996082991, 74.63960722697962, 83.02269121104447, 1070.0436319810551, 448.654184226036, 152.09276259733764, 155.38870612681052, 152.61569771219564, 173.70284669519626, 860.0404726231563, 101.96701020141859, 122.04709033013637, 516.4181979238042, 270.1296635199462, 433.0075127825951, 146.51918984977587, 558.7239527184444, 1161.160595678184, 684.6579961042688, 733.5435512355077, 1720.561413292539, 663.2365275326305, 235.53922696544382, 3743.5141255285794, 466.33352838233594, 871.6835889025404, 624.0175774058443, 2782.6966279762482, 1204.690211854057, 722.3479950685482, 7128.5110440779445, 566.3700383137138, 1020.237952251657, 463.12639518065856, 582.6884923783199, 867.4191178066679, 1426.7124147284628, 2550.6924308946213, 618.6692751338006, 1436.8736662726433, 4871.071321312349, 11369.474043717353, 1889.356611855541, 1462.7657647834187, 21704.205932744142, 3008.441448085395, 18601.1032800765, 19418.83014700602, 5561.119430578814, 395.1128628947084, 270.64978967514776, 246.07719457315721, 235.8640594442288, 322.27322895818367, 183.1605892753273, 144.8414144651661, 187.60900540974833, 245.41462578131095, 124.23123512904994, 115.12511945946792, 114.44913803635586, 149.346406794039, 144.31927615102384, 108.21476629803702, 110.18325750773232, 104.59178653235824, 100.90901511596826, 108.18975377773192, 99.60344634463104, 93.79387501506739, 92.87279703269458, 96.05492373479895, 85.52459164609867, 98.84159134119852, 88.4449489465691, 129.12643381504034, 91.4277708407382, 77.27877148237543, 77.10006679249507, 553.0991353549803, 164.2786001295051, 248.5378673553014, 112.18421598133541, 142.3053821345538, 555.1878346165474, 113.5307773178757, 714.0376632281931, 273.4036286337185, 1084.6279352950248, 1187.7448548167515, 491.4975283222848, 265.70250101738554, 749.787746267104, 277.96277428800863, 283.449931007945, 293.4607404172573, 2659.7411132442767, 221.58510149468384, 710.7155051054768, 1055.8104050001814, 601.2935555668522, 221.7032096792765, 317.68988171205996, 450.4403564646028, 884.4211769968944, 1130.9017457343255, 669.4177496477248, 454.3632550172466, 795.343148632296, 11369.474043717353, 4052.451691847199, 19418.83014700602, 3467.7404249599817, 1361.9766549849655, 553.9776096333011, 6505.144090050147, 21704.205932744142, 529.9004644110156, 2244.4067128741826, 2566.7516717679014, 1633.0594729314184, 18601.1032800765, 8890.463898541015, 4212.486775307318, 2382.2641817819367, 488.955590642771, 422.4344458377249, 343.3300921508505, 322.8494224366923, 265.0843205995344, 214.07084901630472, 184.30771574366327, 330.04261506735133, 165.20073927810841, 464.15427983002303, 175.37895947512283, 157.00731008548874, 129.66177391971286, 137.30855827617413, 121.24775454376542, 118.0748914544086, 113.55630828444953, 106.6765560652845, 102.21750480539156, 99.83386752449628, 103.21267650486647, 246.24383872550962, 94.4102694769882, 91.05912605744463, 88.35885950288488, 147.88892954358082, 86.51203673377603, 82.22233866019096, 77.73584062830051, 76.37109335057728, 396.2465366423214, 147.49519361371435, 293.17078777781774, 732.0623304496742, 883.9158634156806, 137.3438919018757, 1845.9463230488955, 1043.2838216296475, 1013.4047720953517, 301.07302657014594, 1689.4175104349495, 1720.2981039963647, 434.00399893657107, 1153.9958798485602, 242.47346215013755, 2619.657427761025, 1310.7636811482646, 396.4522077454779, 916.594880570855, 1772.7852213779875, 2751.698513777145, 635.7279253800573, 3716.8592469501655, 608.5128745692494, 622.0987016989566, 2389.177664148554, 994.593763861105, 589.4781644936082, 1545.3831352103718, 26311.57583607079, 1687.5170448790575, 8919.500592731085, 4720.917093327717, 3008.441448085395, 4297.308285358205, 1794.418619129375, 5578.400551868114, 616.1461687312155, 268.64787699863706, 241.32722219578312, 229.43388492839912, 427.31661716463276, 257.9665638017662, 155.20871857527442, 150.40439356202546, 149.91120436246774, 142.58747318235854, 125.84425314372562, 110.43359629506466, 108.10274638039182, 106.33674972047379, 105.50777386666068, 103.70460185157735, 160.4759784952524, 102.31707640402017, 141.75444768374567, 100.59901987203412, 99.0732468719902, 100.01474857131532, 95.71398260337769, 95.71478238744837, 105.09043017700661, 89.48394451104544, 88.05315020627324, 87.5204033439241, 87.69806588951326, 86.0571180073828, 1294.6537885549476, 143.2234120493689, 183.10025455089723, 104.11906203474233, 2044.6113246045013, 276.227793605226, 159.52313803227125, 130.34242254102986, 213.5156002524211, 169.2414020266289, 122.88667488930719, 1036.151307380961, 146.64081120796368, 296.8509252099738, 1007.7423815146576, 171.57873192826705, 152.23773037215696, 1207.9710468577641, 297.28294492921356, 391.7179181822331, 1537.3538219649563, 646.7132369457098, 623.8324668589613, 605.9107766915738, 606.0419998137336, 876.0202675000883, 753.7160050968758, 2016.8455674076479, 346.961517413537, 560.1714873734913, 275.9813308503167, 492.81052142756795, 934.8159783745076, 2559.212659317714, 1121.7933822354944, 1507.239202562956, 11369.474043717353, 601.2783636332658, 2550.6924308946213, 21704.205932744142, 2382.2641817819367, 6505.144090050147, 14772.43746085484, 4871.071321312349, 477.1091075972069, 431.9903833260898, 457.3992135586285, 465.9231991253819, 403.69556950413613, 403.17721467997814, 403.5484500264578, 229.9405854760936, 139.2970362856779, 160.78159965232672, 164.38137854034485, 129.87242729971825, 131.0086223464382, 199.28855773820445, 113.31740107730353, 132.58933565116976, 190.74359072736397, 109.66211856019872, 123.70133065917594, 148.25386199449022, 101.981728828239, 101.55407646762916, 92.22738273163344, 109.28124461504515, 88.26977120961473, 84.78326939564955, 83.65476802336342, 82.48060649348587, 80.57832374343197, 76.46549723502395, 377.9687252907803, 196.72222641430773, 152.65368043914583, 115.00839240601971, 726.3566688489634, 339.48235024645135, 644.8477079874684, 273.3034700969297, 269.82341916618304, 159.2361114585888, 979.5016094698632, 941.1568169769578, 1049.5087519778222, 181.26411049349528, 1306.2115977316873, 654.9363720591945, 1220.0024433212377, 1266.366853590292, 508.5428418786495, 817.2842006552034, 794.0621977038354, 701.3238471617119, 296.6392587120786, 332.8092843069935, 413.8824385837652, 305.550576274439, 1201.1304612781796, 450.2558071390454, 2663.1946713636994, 4212.486775307318, 512.629698959923, 1910.0068880772255, 2550.6924308946213, 3467.7404249599817, 447.6078728572469, 195.9587785233704, 152.61543055001016, 836.4566997812126, 151.76037850028152, 118.80891479957006, 168.24995874493578, 112.99558771969504, 114.86746642282831, 164.72192925879384, 111.34751828512711, 108.7473364530716, 106.14839801131181, 105.65633581092577, 102.97509597186003, 91.3623510942565, 88.81083662443139, 259.93369443468566, 84.62184400882872, 83.91716433778886, 97.6415476952279, 82.54523498481434, 83.69253342646078, 74.44138536051103, 75.15869068255621, 70.16026760911694, 68.48862711539078, 66.6089656476586, 64.66845759259864, 73.50665453673213, 309.82708525222523, 113.24088341548057, 125.2137632472938, 370.3777296360235, 151.77287059891668, 104.71061289049459, 746.3796149587981, 416.2524348592459, 173.97616674046873, 198.21466738804298, 147.0992430603931, 260.2174589985702, 1001.0027394337517, 807.9671007924068, 2386.062539832555, 653.6472065070989, 324.45333204345434, 2748.7799317206213, 314.80816884790937, 1491.00947946192, 339.17680944045514, 902.5597726509602, 946.2510889208381, 695.4747044309995, 1568.4966277996539, 605.6031033488317, 1495.9584923660252, 754.8912872544378, 2180.080009304782, 11848.890797250086, 846.6650660261068, 2795.056691958343, 26311.57583607079, 14772.43746085484, 4720.917093327717, 1941.377414297341, 4297.308285358205, 6027.8921007718045, 11369.474043717353, 2244.4067128741826, 5578.400551868114, 208.49442157413495, 829.1316968013464, 195.74154787511378, 207.3749258607609, 157.20852344722445, 120.47336969693066, 116.47935747225769, 137.6653246692049, 151.4052556441622, 124.60024167963402, 226.04801163992067, 94.0633897446007, 93.71752649914467, 92.25224616334806, 97.86589033417724, 82.43318108758248, 145.77050861385743, 85.4099285145244, 74.94931825531616, 75.05197754037205, 72.62457419894369, 72.00334835701135, 72.9191447178654, 68.77314444820453, 66.53783398363765, 136.47584457527685, 65.13643014964207, 63.0865988896022, 63.06852370981539, 62.541768882938634, 172.27977397661752, 94.56522967644203, 95.44305608990854, 526.7418899579557, 419.58994874639814, 97.95448063409334, 1248.9144269286878, 202.34430722714956, 224.26732383879684, 311.79196127352674, 312.5201022484288, 768.2895009752807, 462.5959637527169, 2430.8664401942415, 1133.672437810075, 336.58377620803293, 1052.6603771297646, 3400.831509320859, 3763.5423354205936, 392.5884015297506, 1215.0595970703093, 755.2126883651152, 340.1849216249064, 3716.8592469501655, 496.810287875578, 11848.890797250086, 7333.069998048713, 14772.43746085484, 4212.486775307318, 1085.707319889758, 1298.7705853924497, 19418.83014700602, 2821.201187616691, 606.0419998137336, 18601.1032800765, 6027.8921007718045, 1095.3403526271163, 545.893396725324, 312.98695196673225, 531.7110555193882, 256.2300303691408, 253.58378112201032, 251.4453852473454, 160.97206019074244, 152.93909387732515, 137.3810650918887, 142.80627894763626, 129.69553977000447, 122.22642727923295, 246.6663908841751, 215.38567305331813, 183.05017758231486, 209.60644215115155, 112.88698203326106, 109.04942140841324, 107.30859717255046, 103.17891271705372, 95.84815930658684, 94.93296854678469, 93.66886706549073, 91.32831384914266, 235.439942183994, 87.92434532765557, 82.95896439343475, 72.69115981553189, 71.5269417415071, 1054.0034183491584, 790.1221710181001, 178.86912572738711, 793.8147117471348, 313.5832644858484, 151.93297676431757, 103.13658170303437, 257.69837243613864, 504.46799974476653, 157.12492887809128, 185.91597150036426, 266.9938934147486, 514.0827209343943, 3660.6628951030293, 316.4216333793374, 1299.5087928541589, 323.17867505584564, 837.2169171913852, 192.453695625333, 890.482765378626, 666.3970052477496, 542.5398781209469, 633.5041937942104, 952.9875881781546, 18601.1032800765, 21704.205932744142, 11369.474043717353, 894.7408297051586, 19418.83014700602, 665.118511880086, 906.8809439250444, 2733.8628148220323, 2283.3135410069917, 2383.2887087786785, 1005.8476762643958, 1516.7047410485131, 433.01125436553116, 305.3970434626815, 296.65790586288426, 346.6830612412314, 297.5801179204166, 322.01504502620645, 189.56106443516427, 128.58545618224915, 118.00591351145407, 112.76422283627063, 169.17852101184215, 132.84601960913818, 214.59161035994612, 93.0476062876933, 84.4314532194172, 73.14809311557701, 98.70934703220765, 66.80854412272977, 1537.1637301193828, 64.02756725664332, 68.93994721521933, 82.92263906557545, 62.89100224597615, 80.41788584922719, 66.53368239394922, 58.89723613745375, 141.3325465571214, 80.20759559522119, 231.42864899017258, 231.9309277008956, 106.21387113076634, 120.45818595519738, 2618.3493546781915, 2530.094817383885, 906.8809439250444, 2180.080009304782, 1324.2972958918447, 766.4543292547557, 905.8861698216609, 3087.0263626069946, 2025.8635104320224, 1495.9584923660252, 26311.57583607079, 2151.7178109588745, 2318.692149497397, 1057.717643162254, 1004.5070225567026, 1496.7646734109294, 3786.512712794973, 14772.43746085484, 8919.500592731085, 3336.7280127076933, 2782.6966279762482, 1193.6288561265922, 230.78712619468797, 348.9127513276729, 372.4428954564144, 186.2628626322135, 175.61548593692356, 163.34545525680116, 173.92977668062034, 159.2696860418465, 157.70599657522774, 328.4380944955545, 263.35665994825837, 126.10027545861018, 117.02843534552967, 115.9862309234201, 119.09444849818087, 106.60622623839727, 103.39028083603728, 125.22689403604868, 95.05572512156313, 86.94908358006093, 83.72531791343239, 80.96010852412633, 80.16534217164461, 550.6563939875892, 208.63974265893125, 69.24251326499983, 70.47611280479862, 68.42349983545571, 66.73222983295932, 66.76488473054422, 371.22018101308385, 210.62140615499425, 351.4522026776717, 161.89445455459952, 694.1536328586487, 1056.5052857714022, 152.6730661432222, 344.10627574179244, 351.7584082768105, 144.92263419714718, 415.01087219744517, 366.9081540324338, 909.6507399320345, 418.63221332539797, 466.8583700390769, 1633.0594729314184, 2389.177664148554, 1941.377414297341, 650.3445248249461, 2772.5471413569167, 860.7329928562572, 2821.201187616691, 476.6631056745441, 968.6603903214425, 3294.4924877878743], \"Category\": [\"Default\", \"Default\", \"Default\", \"Default\", \"Default\", \"Default\", \"Default\", \"Default\", \"Default\", \"Default\", \"Default\", \"Default\", \"Default\", \"Default\", \"Default\", \"Default\", \"Default\", \"Default\", \"Default\", \"Default\", \"Default\", \"Default\", \"Default\", \"Default\", \"Default\", \"Default\", \"Default\", \"Default\", \"Default\", \"Default\", \"Topic1\", \"Topic1\", \"Topic1\", \"Topic1\", \"Topic1\", \"Topic1\", \"Topic1\", \"Topic1\", \"Topic1\", \"Topic1\", \"Topic1\", \"Topic1\", \"Topic1\", \"Topic1\", \"Topic1\", \"Topic1\", \"Topic1\", \"Topic1\", \"Topic1\", \"Topic1\", \"Topic1\", \"Topic1\", \"Topic1\", \"Topic1\", \"Topic1\", \"Topic1\", \"Topic1\", \"Topic1\", \"Topic1\", \"Topic1\", \"Topic1\", \"Topic1\", \"Topic1\", \"Topic1\", \"Topic1\", \"Topic1\", \"Topic1\", \"Topic1\", \"Topic1\", \"Topic1\", \"Topic1\", \"Topic1\", \"Topic1\", \"Topic1\", \"Topic1\", \"Topic1\", \"Topic1\", \"Topic1\", \"Topic1\", \"Topic1\", \"Topic1\", \"Topic1\", \"Topic1\", \"Topic1\", \"Topic1\", \"Topic1\", \"Topic1\", \"Topic1\", \"Topic1\", \"Topic1\", \"Topic1\", \"Topic1\", \"Topic1\", \"Topic1\", \"Topic1\", \"Topic1\", \"Topic1\", \"Topic1\", \"Topic1\", \"Topic1\", \"Topic1\", \"Topic1\", \"Topic1\", \"Topic1\", \"Topic1\", \"Topic1\", \"Topic2\", \"Topic2\", \"Topic2\", \"Topic2\", \"Topic2\", \"Topic2\", \"Topic2\", \"Topic2\", \"Topic2\", \"Topic2\", \"Topic2\", \"Topic2\", \"Topic2\", \"Topic2\", \"Topic2\", \"Topic2\", \"Topic2\", \"Topic2\", \"Topic2\", \"Topic2\", \"Topic2\", \"Topic2\", \"Topic2\", \"Topic2\", \"Topic2\", \"Topic2\", \"Topic2\", \"Topic2\", \"Topic2\", \"Topic2\", \"Topic2\", \"Topic2\", \"Topic2\", \"Topic2\", \"Topic2\", \"Topic2\", \"Topic2\", \"Topic2\", \"Topic2\", \"Topic2\", \"Topic2\", \"Topic2\", \"Topic2\", \"Topic2\", \"Topic2\", \"Topic2\", \"Topic2\", \"Topic2\", \"Topic2\", \"Topic2\", \"Topic2\", \"Topic2\", \"Topic2\", \"Topic2\", \"Topic2\", \"Topic2\", \"Topic2\", \"Topic2\", \"Topic2\", \"Topic2\", \"Topic2\", \"Topic2\", \"Topic2\", \"Topic2\", \"Topic2\", \"Topic2\", \"Topic2\", \"Topic2\", \"Topic3\", \"Topic3\", \"Topic3\", \"Topic3\", \"Topic3\", \"Topic3\", \"Topic3\", \"Topic3\", \"Topic3\", \"Topic3\", \"Topic3\", \"Topic3\", \"Topic3\", \"Topic3\", \"Topic3\", \"Topic3\", \"Topic3\", \"Topic3\", \"Topic3\", \"Topic3\", \"Topic3\", \"Topic3\", \"Topic3\", \"Topic3\", \"Topic3\", \"Topic3\", \"Topic3\", \"Topic3\", \"Topic3\", \"Topic3\", \"Topic3\", \"Topic3\", \"Topic3\", \"Topic3\", \"Topic3\", \"Topic3\", \"Topic3\", \"Topic3\", \"Topic3\", \"Topic3\", \"Topic3\", \"Topic3\", \"Topic3\", \"Topic3\", \"Topic3\", \"Topic3\", \"Topic3\", \"Topic3\", \"Topic3\", \"Topic3\", \"Topic3\", \"Topic3\", \"Topic3\", \"Topic3\", \"Topic3\", \"Topic3\", \"Topic3\", \"Topic3\", \"Topic3\", \"Topic3\", \"Topic3\", \"Topic3\", \"Topic3\", \"Topic3\", \"Topic3\", \"Topic3\", \"Topic3\", \"Topic3\", \"Topic3\", \"Topic4\", \"Topic4\", \"Topic4\", \"Topic4\", \"Topic4\", \"Topic4\", \"Topic4\", \"Topic4\", \"Topic4\", \"Topic4\", \"Topic4\", \"Topic4\", \"Topic4\", \"Topic4\", \"Topic4\", \"Topic4\", \"Topic4\", \"Topic4\", \"Topic4\", \"Topic4\", \"Topic4\", \"Topic4\", \"Topic4\", \"Topic4\", \"Topic4\", \"Topic4\", \"Topic4\", \"Topic4\", \"Topic4\", \"Topic4\", \"Topic4\", \"Topic4\", \"Topic4\", \"Topic4\", \"Topic4\", \"Topic4\", \"Topic4\", \"Topic4\", \"Topic4\", \"Topic4\", \"Topic4\", \"Topic4\", \"Topic4\", \"Topic4\", \"Topic4\", \"Topic4\", \"Topic4\", \"Topic4\", \"Topic4\", \"Topic4\", \"Topic4\", \"Topic4\", \"Topic4\", \"Topic4\", \"Topic4\", \"Topic4\", \"Topic4\", \"Topic4\", \"Topic4\", \"Topic4\", \"Topic4\", \"Topic4\", \"Topic4\", \"Topic4\", \"Topic4\", \"Topic4\", \"Topic4\", \"Topic4\", \"Topic4\", \"Topic4\", \"Topic4\", \"Topic4\", \"Topic4\", \"Topic4\", \"Topic4\", \"Topic5\", \"Topic5\", \"Topic5\", \"Topic5\", \"Topic5\", \"Topic5\", \"Topic5\", \"Topic5\", \"Topic5\", \"Topic5\", \"Topic5\", \"Topic5\", \"Topic5\", \"Topic5\", \"Topic5\", \"Topic5\", \"Topic5\", \"Topic5\", \"Topic5\", \"Topic5\", \"Topic5\", \"Topic5\", \"Topic5\", \"Topic5\", \"Topic5\", \"Topic5\", \"Topic5\", \"Topic5\", \"Topic5\", \"Topic5\", \"Topic5\", \"Topic5\", \"Topic5\", \"Topic5\", \"Topic5\", \"Topic5\", \"Topic5\", \"Topic5\", \"Topic5\", \"Topic5\", \"Topic5\", \"Topic5\", \"Topic5\", \"Topic5\", \"Topic5\", \"Topic5\", \"Topic5\", \"Topic5\", \"Topic5\", \"Topic5\", \"Topic5\", \"Topic5\", \"Topic5\", \"Topic5\", \"Topic5\", \"Topic5\", \"Topic5\", \"Topic5\", \"Topic5\", \"Topic5\", \"Topic5\", \"Topic5\", \"Topic5\", \"Topic5\", \"Topic5\", \"Topic5\", \"Topic5\", \"Topic5\", \"Topic5\", \"Topic5\", \"Topic5\", \"Topic5\", \"Topic5\", \"Topic5\", \"Topic5\", \"Topic6\", \"Topic6\", \"Topic6\", \"Topic6\", \"Topic6\", \"Topic6\", \"Topic6\", \"Topic6\", \"Topic6\", \"Topic6\", \"Topic6\", \"Topic6\", \"Topic6\", \"Topic6\", \"Topic6\", \"Topic6\", \"Topic6\", \"Topic6\", \"Topic6\", \"Topic6\", \"Topic6\", \"Topic6\", \"Topic6\", \"Topic6\", \"Topic6\", \"Topic6\", \"Topic6\", \"Topic6\", \"Topic6\", \"Topic6\", \"Topic6\", \"Topic6\", \"Topic6\", \"Topic6\", \"Topic6\", \"Topic6\", \"Topic6\", \"Topic6\", \"Topic6\", \"Topic6\", \"Topic6\", \"Topic6\", \"Topic6\", \"Topic6\", \"Topic6\", \"Topic6\", \"Topic6\", \"Topic6\", \"Topic6\", \"Topic6\", \"Topic6\", \"Topic6\", \"Topic6\", \"Topic6\", \"Topic6\", \"Topic6\", \"Topic6\", \"Topic6\", \"Topic6\", \"Topic6\", \"Topic6\", \"Topic6\", \"Topic6\", \"Topic6\", \"Topic6\", \"Topic6\", \"Topic6\", \"Topic6\", \"Topic6\", \"Topic6\", \"Topic7\", \"Topic7\", \"Topic7\", \"Topic7\", \"Topic7\", \"Topic7\", \"Topic7\", \"Topic7\", \"Topic7\", \"Topic7\", \"Topic7\", \"Topic7\", \"Topic7\", \"Topic7\", \"Topic7\", \"Topic7\", \"Topic7\", \"Topic7\", \"Topic7\", \"Topic7\", \"Topic7\", \"Topic7\", \"Topic7\", \"Topic7\", \"Topic7\", \"Topic7\", \"Topic7\", \"Topic7\", \"Topic7\", \"Topic7\", \"Topic7\", \"Topic7\", \"Topic7\", \"Topic7\", \"Topic7\", \"Topic7\", \"Topic7\", \"Topic7\", \"Topic7\", \"Topic7\", \"Topic7\", \"Topic7\", \"Topic7\", \"Topic7\", \"Topic7\", \"Topic7\", \"Topic7\", \"Topic7\", \"Topic7\", \"Topic7\", \"Topic7\", \"Topic7\", \"Topic7\", \"Topic7\", \"Topic7\", \"Topic7\", \"Topic7\", \"Topic7\", \"Topic7\", \"Topic7\", \"Topic7\", \"Topic7\", \"Topic7\", \"Topic7\", \"Topic7\", \"Topic7\", \"Topic7\", \"Topic7\", \"Topic7\", \"Topic7\", \"Topic7\", \"Topic7\", \"Topic7\", \"Topic7\", \"Topic7\", \"Topic7\", \"Topic8\", \"Topic8\", \"Topic8\", \"Topic8\", \"Topic8\", \"Topic8\", \"Topic8\", \"Topic8\", \"Topic8\", \"Topic8\", \"Topic8\", \"Topic8\", \"Topic8\", \"Topic8\", \"Topic8\", \"Topic8\", \"Topic8\", \"Topic8\", \"Topic8\", \"Topic8\", \"Topic8\", \"Topic8\", \"Topic8\", \"Topic8\", \"Topic8\", \"Topic8\", \"Topic8\", \"Topic8\", \"Topic8\", \"Topic8\", \"Topic8\", \"Topic8\", \"Topic8\", \"Topic8\", \"Topic8\", \"Topic8\", \"Topic8\", \"Topic8\", \"Topic8\", \"Topic8\", \"Topic8\", \"Topic8\", \"Topic8\", \"Topic8\", \"Topic8\", \"Topic8\", \"Topic8\", \"Topic8\", \"Topic8\", \"Topic8\", \"Topic8\", \"Topic8\", \"Topic8\", \"Topic8\", \"Topic8\", \"Topic8\", \"Topic8\", \"Topic8\", \"Topic8\", \"Topic8\", \"Topic8\", \"Topic8\", \"Topic8\", \"Topic8\", \"Topic8\", \"Topic8\", \"Topic8\", \"Topic8\", \"Topic8\", \"Topic8\", \"Topic8\", \"Topic8\", \"Topic8\", \"Topic8\", \"Topic8\", \"Topic8\", \"Topic9\", \"Topic9\", \"Topic9\", \"Topic9\", \"Topic9\", \"Topic9\", \"Topic9\", \"Topic9\", \"Topic9\", \"Topic9\", \"Topic9\", \"Topic9\", \"Topic9\", \"Topic9\", \"Topic9\", \"Topic9\", \"Topic9\", \"Topic9\", \"Topic9\", \"Topic9\", \"Topic9\", \"Topic9\", \"Topic9\", \"Topic9\", \"Topic9\", \"Topic9\", \"Topic9\", \"Topic9\", \"Topic9\", \"Topic9\", \"Topic9\", \"Topic9\", \"Topic9\", \"Topic9\", \"Topic9\", \"Topic9\", \"Topic9\", \"Topic9\", \"Topic9\", \"Topic9\", \"Topic9\", \"Topic9\", \"Topic9\", \"Topic9\", \"Topic9\", \"Topic9\", \"Topic9\", \"Topic9\", \"Topic9\", \"Topic9\", \"Topic9\", \"Topic9\", \"Topic9\", \"Topic9\", \"Topic9\", \"Topic9\", \"Topic9\", \"Topic9\", \"Topic9\", \"Topic9\", \"Topic9\", \"Topic9\", \"Topic9\", \"Topic9\", \"Topic9\", \"Topic9\", \"Topic9\", \"Topic10\", \"Topic10\", \"Topic10\", \"Topic10\", \"Topic10\", \"Topic10\", \"Topic10\", \"Topic10\", \"Topic10\", \"Topic10\", \"Topic10\", \"Topic10\", \"Topic10\", \"Topic10\", \"Topic10\", \"Topic10\", \"Topic10\", \"Topic10\", \"Topic10\", \"Topic10\", \"Topic10\", \"Topic10\", \"Topic10\", \"Topic10\", \"Topic10\", \"Topic10\", \"Topic10\", \"Topic10\", \"Topic10\", \"Topic10\", \"Topic10\", \"Topic10\", \"Topic10\", \"Topic10\", \"Topic10\", \"Topic10\", \"Topic10\", \"Topic10\", \"Topic10\", \"Topic10\", \"Topic10\", \"Topic10\", \"Topic10\", \"Topic10\", \"Topic10\", \"Topic10\", \"Topic10\", \"Topic10\", \"Topic10\", \"Topic10\", \"Topic10\", \"Topic10\", \"Topic10\", \"Topic10\", \"Topic10\", \"Topic10\", \"Topic10\", \"Topic10\", \"Topic10\", \"Topic10\", \"Topic10\", \"Topic10\", \"Topic10\", \"Topic10\", \"Topic10\", \"Topic10\", \"Topic10\", \"Topic10\", \"Topic10\", \"Topic10\", \"Topic10\", \"Topic10\", \"Topic10\", \"Topic10\", \"Topic11\", \"Topic11\", \"Topic11\", \"Topic11\", \"Topic11\", \"Topic11\", \"Topic11\", \"Topic11\", \"Topic11\", \"Topic11\", \"Topic11\", \"Topic11\", \"Topic11\", \"Topic11\", \"Topic11\", \"Topic11\", \"Topic11\", \"Topic11\", \"Topic11\", \"Topic11\", \"Topic11\", \"Topic11\", \"Topic11\", \"Topic11\", \"Topic11\", \"Topic11\", \"Topic11\", \"Topic11\", \"Topic11\", \"Topic11\", \"Topic11\", \"Topic11\", \"Topic11\", \"Topic11\", \"Topic11\", \"Topic11\", \"Topic11\", \"Topic11\", \"Topic11\", \"Topic11\", \"Topic11\", \"Topic11\", \"Topic11\", \"Topic11\", \"Topic11\", \"Topic11\", \"Topic11\", \"Topic11\", \"Topic11\", \"Topic11\", \"Topic11\", \"Topic11\", \"Topic11\", \"Topic11\", \"Topic11\", \"Topic11\", \"Topic11\", \"Topic11\", \"Topic11\", \"Topic11\", \"Topic11\", \"Topic11\", \"Topic11\", \"Topic11\", \"Topic12\", \"Topic12\", \"Topic12\", \"Topic12\", \"Topic12\", \"Topic12\", \"Topic12\", \"Topic12\", \"Topic12\", \"Topic12\", \"Topic12\", \"Topic12\", \"Topic12\", \"Topic12\", \"Topic12\", \"Topic12\", \"Topic12\", \"Topic12\", \"Topic12\", \"Topic12\", \"Topic12\", \"Topic12\", \"Topic12\", \"Topic12\", \"Topic12\", \"Topic12\", \"Topic12\", \"Topic12\", \"Topic12\", \"Topic12\", \"Topic12\", \"Topic12\", \"Topic12\", \"Topic12\", \"Topic12\", \"Topic12\", \"Topic12\", \"Topic12\", \"Topic12\", \"Topic12\", \"Topic12\", \"Topic12\", \"Topic12\", \"Topic12\", \"Topic12\", \"Topic12\", \"Topic12\", \"Topic12\", \"Topic12\", \"Topic12\", \"Topic12\", \"Topic12\", \"Topic12\", \"Topic12\", \"Topic12\", \"Topic12\", \"Topic12\", \"Topic12\", \"Topic12\", \"Topic12\", \"Topic12\", \"Topic12\", \"Topic12\", \"Topic12\", \"Topic12\", \"Topic12\", \"Topic12\", \"Topic12\", \"Topic12\", \"Topic12\", \"Topic12\", \"Topic13\", \"Topic13\", \"Topic13\", \"Topic13\", \"Topic13\", \"Topic13\", \"Topic13\", \"Topic13\", \"Topic13\", \"Topic13\", \"Topic13\", \"Topic13\", \"Topic13\", \"Topic13\", \"Topic13\", \"Topic13\", \"Topic13\", \"Topic13\", \"Topic13\", \"Topic13\", \"Topic13\", \"Topic13\", \"Topic13\", \"Topic13\", \"Topic13\", \"Topic13\", \"Topic13\", \"Topic13\", \"Topic13\", \"Topic13\", \"Topic13\", \"Topic13\", \"Topic13\", \"Topic13\", \"Topic13\", \"Topic13\", \"Topic13\", \"Topic13\", \"Topic13\", \"Topic13\", \"Topic13\", \"Topic13\", \"Topic13\", \"Topic13\", \"Topic13\", \"Topic13\", \"Topic13\", \"Topic13\", \"Topic13\", \"Topic13\", \"Topic13\", \"Topic13\", \"Topic13\", \"Topic13\", \"Topic13\", \"Topic13\", \"Topic13\", \"Topic13\", \"Topic13\", \"Topic13\", \"Topic13\", \"Topic13\", \"Topic13\", \"Topic13\", \"Topic13\", \"Topic13\", \"Topic14\", \"Topic14\", \"Topic14\", \"Topic14\", \"Topic14\", \"Topic14\", \"Topic14\", \"Topic14\", \"Topic14\", \"Topic14\", \"Topic14\", \"Topic14\", \"Topic14\", \"Topic14\", \"Topic14\", \"Topic14\", \"Topic14\", \"Topic14\", \"Topic14\", \"Topic14\", \"Topic14\", \"Topic14\", \"Topic14\", \"Topic14\", \"Topic14\", \"Topic14\", \"Topic14\", \"Topic14\", \"Topic14\", \"Topic14\", \"Topic14\", \"Topic14\", \"Topic14\", \"Topic14\", \"Topic14\", \"Topic14\", \"Topic14\", \"Topic14\", \"Topic14\", \"Topic14\", \"Topic14\", \"Topic14\", \"Topic14\", \"Topic14\", \"Topic14\", \"Topic14\", \"Topic14\", \"Topic14\", \"Topic14\", \"Topic14\", \"Topic14\", \"Topic14\", \"Topic14\", \"Topic14\", \"Topic14\", \"Topic14\", \"Topic14\", \"Topic14\", \"Topic14\", \"Topic14\", \"Topic14\", \"Topic14\", \"Topic15\", \"Topic15\", \"Topic15\", \"Topic15\", \"Topic15\", \"Topic15\", \"Topic15\", \"Topic15\", \"Topic15\", \"Topic15\", \"Topic15\", \"Topic15\", \"Topic15\", \"Topic15\", \"Topic15\", \"Topic15\", \"Topic15\", \"Topic15\", \"Topic15\", \"Topic15\", \"Topic15\", \"Topic15\", \"Topic15\", \"Topic15\", \"Topic15\", \"Topic15\", \"Topic15\", \"Topic15\", \"Topic15\", \"Topic15\", \"Topic15\", \"Topic15\", \"Topic15\", \"Topic15\", \"Topic15\", \"Topic15\", \"Topic15\", \"Topic15\", \"Topic15\", \"Topic15\", \"Topic15\", \"Topic15\", \"Topic15\", \"Topic15\", \"Topic15\", \"Topic15\", \"Topic15\", \"Topic15\", \"Topic15\", \"Topic15\", \"Topic15\", \"Topic15\", \"Topic15\", \"Topic15\", \"Topic15\", \"Topic15\", \"Topic15\", \"Topic15\", \"Topic16\", \"Topic16\", \"Topic16\", \"Topic16\", \"Topic16\", \"Topic16\", \"Topic16\", \"Topic16\", \"Topic16\", \"Topic16\", \"Topic16\", \"Topic16\", \"Topic16\", \"Topic16\", \"Topic16\", \"Topic16\", \"Topic16\", \"Topic16\", \"Topic16\", \"Topic16\", \"Topic16\", \"Topic16\", \"Topic16\", \"Topic16\", \"Topic16\", \"Topic16\", \"Topic16\", \"Topic16\", \"Topic16\", \"Topic16\", \"Topic16\", \"Topic16\", \"Topic16\", \"Topic16\", \"Topic16\", \"Topic16\", \"Topic16\", \"Topic16\", \"Topic16\", \"Topic16\", \"Topic16\", \"Topic16\", \"Topic16\", \"Topic16\", \"Topic16\", \"Topic16\", \"Topic16\", \"Topic16\", \"Topic16\", \"Topic16\", \"Topic16\", \"Topic16\", \"Topic16\", \"Topic16\", \"Topic16\"], \"logprob\": [30.0, 29.0, 28.0, 27.0, 26.0, 25.0, 24.0, 23.0, 22.0, 21.0, 20.0, 19.0, 18.0, 17.0, 16.0, 15.0, 14.0, 13.0, 12.0, 11.0, 10.0, 9.0, 8.0, 7.0, 6.0, 5.0, 4.0, 3.0, 2.0, 1.0, -5.428, -6.2499, -6.68, -6.7306, -6.9367, -6.9522, -7.0206, -7.122, -7.2192, -7.2388, -6.7847, -6.8164, -7.1331, -6.7925, -7.4015, -7.406, -7.1895, -7.4511, -7.5258, -7.5186, -7.5165, -7.5501, -7.1237, -7.634, -7.6758, -7.6785, -7.7003, -7.6849, -7.7056, -7.7245, -4.4358, -4.7162, -5.9679, -5.0651, -7.1772, -6.8894, -6.7195, -6.5852, -3.0296, -4.8305, -4.6503, -6.7801, -4.2772, -6.3937, -5.9554, -2.4986, -5.6235, -6.5411, -3.8443, -2.6071, -5.7383, -5.2099, -2.8128, -5.3127, -4.7508, -4.1688, -5.4669, -6.3845, -3.9357, -5.2986, -5.5698, -5.6221, -4.6201, -5.4152, -4.9383, -4.3301, -4.828, -4.3665, -5.4076, -5.1378, -4.9733, -5.2069, -4.9443, -5.3372, -5.3324, -5.3574, -3.1257, -5.4312, -4.4333, -5.2279, -5.7341, -2.9917, -5.8893, -6.0544, -6.0805, -6.3238, -6.3754, -6.1211, -6.3611, -6.4375, -5.1189, -6.4745, -6.5421, -5.8817, -5.5098, -3.6818, -5.9759, -7.0359, -7.0442, -6.2024, -7.0754, -7.0325, -7.0754, -7.1219, -7.1195, -7.1666, -4.4775, -4.9105, -6.3722, -6.3544, -6.603, -6.836, -6.9049, -5.2831, -4.0963, -5.5437, -4.5374, -5.3315, -5.7131, -3.8475, -4.2324, -5.5304, -4.9324, -5.1914, -4.8488, -5.0143, -5.2218, -4.4203, -3.1497, -4.0609, -4.2817, -4.1963, -4.8961, -4.8931, -4.0493, -3.8553, -4.3387, -3.7866, -4.7783, -4.6093, -4.4239, -4.8088, -4.7843, -4.9343, -4.8056, -4.3771, -5.0271, -5.2244, -5.4445, -4.7137, -4.7105, -5.749, -5.953, -4.973, -5.8524, -6.2643, -6.3251, -6.4339, -5.3157, -6.4248, -5.9307, -6.5542, -6.3503, -6.8444, -6.9425, -6.652, -7.0336, -6.8685, -7.0506, -7.0514, -7.0878, -7.0604, -7.1115, -7.0716, -4.6217, -5.1092, -5.7476, -5.7676, -5.5327, -6.0512, -6.6247, -6.2758, -6.5381, -5.2513, -4.4457, -5.3757, -6.2726, -4.5166, -4.0636, -4.2991, -5.4455, -3.7958, -5.4417, -3.9968, -5.24, -4.9435, -4.185, -5.4428, -5.1405, -5.0969, -4.5333, -5.3295, -4.8271, -3.7881, -3.8552, -4.476, -5.0363, -4.254, -4.6169, -4.7812, -4.8046, -5.1596, -5.1316, -5.6461, -6.0318, -6.2552, -5.457, -6.4757, -6.5037, -6.4631, -6.4597, -6.1875, -6.6017, -6.2696, -6.7697, -6.8074, -6.6714, -6.6165, -6.8288, -6.8417, -4.4498, -5.6293, -6.9035, -6.9146, -6.9224, -6.9578, -6.9598, -6.9961, -7.0239, -6.9389, -7.0661, -6.9311, -7.0768, -3.8543, -5.3435, -6.1554, -6.2584, -6.6165, -6.5616, -6.5856, -5.4354, -6.0309, -6.3549, -6.3211, -5.3451, -3.5695, -5.9822, -4.8899, -6.0745, -6.4065, -4.3681, -5.6265, -4.1742, -4.7001, -5.4827, -5.5377, -5.1248, -4.9944, -3.0235, -5.2296, -5.7145, -5.161, -4.5881, -3.514, -3.7346, -5.6071, -4.2252, -5.6946, -5.3242, -5.104, -5.1475, -5.1092, -5.2857, -4.601, -5.1018, -5.1374, -5.2719, -5.4128, -5.4422, -5.0981, -5.8225, -5.817, -6.2203, -6.0723, -5.5009, -6.1607, -6.5227, -5.0081, -6.51, -5.0786, -6.4713, -6.4741, -5.5705, -6.8823, -6.5921, -6.4848, -7.1345, -7.0931, -7.1622, -6.2117, -7.1023, -5.6751, -6.1961, -7.2386, -7.3252, -7.3435, -7.3726, -7.3452, -5.6167, -5.7752, -5.5601, -5.8961, -6.7926, -6.8082, -4.7052, -4.6502, -6.7635, -5.9564, -5.9402, -5.0518, -5.1684, -5.7034, -5.0889, -3.3925, -3.3279, -5.3731, -5.2475, -5.4315, -5.5562, -5.4213, -5.3866, -5.2376, -5.3842, -4.0774, -4.6719, -3.8423, -4.3299, -4.8896, -4.9777, -4.5401, -4.8332, -4.6033, -4.9818, -4.6662, -4.7826, -5.1653, -4.6875, -4.9921, -4.3822, -4.587, -5.0239, -5.0358, -5.2163, -4.9854, -5.8894, -6.0415, -5.5702, -6.3816, -6.3977, -6.4448, -6.5624, -6.589, -6.5795, -6.5969, -6.6237, -6.4336, -6.6988, -6.7365, -6.7108, -6.7492, -6.0533, -6.8299, -6.6344, -6.835, -6.8984, -6.9158, -6.919, -6.9484, -6.5746, -7.0272, -7.0509, -6.5947, -7.0903, -5.3428, -5.7662, -6.6867, -5.324, -6.6109, -5.7191, -6.3483, -4.3431, -6.0778, -1.7322, -5.5007, -4.0132, -5.3904, -4.1455, -5.3269, -5.074, -5.3046, -5.0662, -3.5876, -4.5253, -5.6644, -3.7986, -3.1997, -4.3421, -3.894, -4.2562, -3.4777, -5.6826, -4.5572, -4.4021, -4.8236, -5.2825, -5.233, -5.0, -4.6514, -5.1089, -5.164, -5.1878, -5.266, -5.3121, -4.8051, -5.7338, -6.0858, -6.314, -6.3617, -6.228, -6.2068, -6.4255, -6.4533, -6.3762, -6.4739, -6.5247, -6.5946, -5.8823, -6.5234, -6.4834, -6.7612, -6.7634, -5.9629, -6.7604, -6.6506, -6.7877, -6.8606, -6.9001, -6.8997, -6.9138, -6.9253, -6.8299, -6.9582, -6.8519, -4.3127, -5.1764, -6.249, -6.2281, -6.2474, -6.12, -4.5586, -6.6491, -6.4731, -5.0954, -5.7158, -5.282, -6.3077, -5.0668, -4.4147, -4.8998, -4.862, -4.1673, -5.0176, -5.9149, -3.7, -5.3874, -4.8953, -5.1618, -4.0507, -4.7192, -5.1038, -3.4879, -5.3071, -4.897, -5.4788, -5.3427, -5.13, -4.8712, -4.5887, -5.3709, -5.0032, -4.5146, -4.2458, -4.9623, -5.0758, -4.3363, -4.9064, -4.5517, -4.868, -4.9796, -5.2531, -5.6327, -5.7287, -5.7712, -5.4596, -6.025, -6.2614, -6.0032, -5.7352, -6.4161, -6.4928, -6.4987, -6.2327, -6.2672, -6.5553, -6.5374, -6.5897, -6.6262, -6.5566, -6.6394, -6.6998, -6.7098, -6.6766, -6.7933, -6.6487, -6.7599, -6.3823, -6.7279, -6.8962, -6.8986, -4.9397, -6.1443, -5.7388, -6.5272, -6.2951, -4.9856, -6.5164, -4.752, -5.6785, -4.3796, -4.2977, -5.1448, -5.7236, -4.7973, -5.7157, -5.7017, -5.6923, -3.7977, -5.934, -4.9484, -4.7194, -5.1824, -5.9545, -5.7044, -5.4632, -5.0336, -4.8721, -5.2627, -5.5004, -5.1878, -3.8361, -4.4585, -3.767, -4.5979, -5.1134, -5.4605, -4.618, -4.28, -5.4886, -5.1811, -5.1746, -5.3415, -5.0341, -5.1331, -5.4233, -5.4449, -4.9422, -5.0888, -5.2967, -5.3593, -5.5565, -5.7714, -5.9215, -5.3391, -6.0317, -4.9992, -5.9733, -6.0841, -6.2755, -6.2185, -6.3432, -6.3707, -6.4099, -6.4725, -6.5156, -6.5394, -6.5064, -5.637, -6.5959, -6.6327, -6.6631, -6.148, -6.6844, -6.736, -6.7927, -6.8107, -5.1699, -6.1529, -5.4735, -4.5827, -4.4026, -6.2318, -3.7208, -4.2794, -4.3258, -5.485, -3.8556, -3.8428, -5.1469, -4.2426, -5.7081, -3.557, -4.2045, -5.2836, -4.5688, -4.0195, -3.6507, -4.8914, -3.4295, -5.0133, -5.0278, -4.1195, -4.7156, -5.088, -4.6031, -3.2559, -4.6944, -4.2145, -4.6635, -4.7957, -4.7389, -4.9018, -4.7312, -4.6842, -5.5169, -5.6242, -5.675, -5.0531, -5.5582, -6.068, -6.0997, -6.1031, -6.1538, -6.2795, -6.4113, -6.4327, -6.4494, -6.4573, -6.4747, -6.0381, -6.4883, -6.1624, -6.5054, -6.5209, -6.5116, -6.5558, -6.5559, -6.4629, -6.6238, -6.6402, -6.6464, -6.645, -6.6642, -3.9642, -6.157, -5.9147, -6.4741, -3.5556, -5.5216, -6.0594, -6.2559, -5.8021, -6.0211, -6.3233, -4.4458, -6.1688, -5.5748, -4.5447, -6.0458, -6.1469, -4.4657, -5.6037, -5.3804, -4.3175, -5.0284, -5.1035, -5.1609, -5.1981, -4.9622, -5.0649, -4.4329, -5.5748, -5.287, -5.731, -5.3995, -5.1431, -4.6864, -5.0848, -5.0789, -4.374, -5.4207, -5.0515, -4.6127, -5.107, -4.9437, -4.925, -5.156, -4.7881, -4.8877, -4.8306, -4.8124, -4.9561, -4.9575, -4.9566, -5.5205, -6.0247, -5.8813, -5.8594, -6.0953, -6.0866, -5.6674, -6.2329, -6.076, -5.7123, -6.266, -6.1459, -5.9655, -6.34, -6.3445, -6.441, -6.2715, -6.4853, -6.5262, -6.5397, -6.554, -6.5777, -6.6311, -5.0385, -5.6964, -5.9492, -6.2293, -4.4589, -5.2085, -4.6305, -5.4536, -5.4664, -5.943, -4.3839, -4.4334, -4.3593, -5.8401, -4.2694, -4.8449, -4.3706, -4.3828, -5.0679, -4.7183, -4.7667, -4.8651, -5.4877, -5.4181, -5.296, -5.4926, -4.9456, -5.3555, -4.7619, -4.7325, -5.3997, -5.3138, -5.3026, -5.3442, -4.8272, -5.6564, -5.9082, -4.207, -5.9147, -6.1602, -5.8127, -6.2108, -6.1944, -5.834, -6.2257, -6.2495, -6.2739, -6.2786, -6.3046, -6.4256, -6.4543, -5.3806, -6.5032, -6.5117, -6.3603, -6.5284, -6.5146, -6.6331, -6.6244, -6.6933, -6.7177, -6.7464, -6.7761, -6.648, -5.2157, -6.2174, -6.1194, -5.0527, -5.9302, -6.2976, -4.4108, -4.9953, -5.8204, -5.7159, -5.9929, -5.4864, -4.3089, -4.5411, -3.6777, -4.7743, -5.3524, -3.7073, -5.4342, -4.3036, -5.401, -4.6883, -4.6773, -4.9108, -4.3868, -5.0691, -4.5296, -4.9721, -4.3941, -3.4717, -4.991, -4.5086, -3.5957, -4.1843, -4.6118, -4.8855, -4.8579, -4.7917, -4.8323, -5.082, -5.0758, -5.4826, -4.1022, -5.5481, -5.4908, -5.7677, -6.0347, -6.0687, -5.902, -5.8074, -6.0028, -5.4075, -6.2846, -6.2883, -6.3043, -6.2459, -6.4182, -5.8483, -6.383, -6.5147, -6.5136, -6.5467, -6.5553, -6.5433, -6.602, -6.6355, -5.9173, -6.6571, -6.6896, -6.6899, -6.6985, -5.6879, -6.2868, -6.2783, -4.5906, -4.8279, -6.2546, -3.7914, -5.5544, -5.4587, -5.1611, -5.2338, -4.4479, -4.9453, -3.6276, -4.364, -5.3568, -4.5549, -3.8516, -3.8147, -5.335, -4.6023, -4.9204, -5.4397, -4.2223, -5.2865, -3.8287, -4.1293, -3.97, -4.6379, -5.1367, -5.0951, -4.5044, -5.0676, -5.3497, -5.0111, -5.4022, -3.7832, -4.48, -5.0371, -4.5072, -5.2386, -5.2496, -5.2587, -5.7056, -5.757, -5.865, -5.8265, -5.9229, -5.9827, -5.2807, -5.4163, -5.579, -5.4439, -6.0629, -6.0979, -6.1141, -6.1538, -6.2283, -6.2381, -6.2516, -6.2772, -5.3311, -6.3161, -6.3744, -6.5085, -6.5248, -3.8421, -4.1365, -5.6147, -4.1706, -5.0785, -5.7891, -6.1603, -5.3121, -4.6957, -5.7765, -5.6276, -5.3417, -4.8041, -3.345, -5.2463, -4.3083, -5.3065, -4.7141, -5.6444, -4.7384, -4.9301, -5.0783, -5.0252, -4.8259, -3.7722, -4.0114, -4.2151, -5.0159, -4.6398, -5.2151, -5.1917, -5.1752, -3.0107, -2.9679, -3.8309, -3.4203, -4.6752, -5.0254, -5.0545, -4.8987, -5.0515, -4.9727, -5.5043, -5.8952, -5.9819, -6.0278, -5.6229, -5.8654, -5.386, -6.2219, -6.3202, -6.4657, -6.1675, -6.5579, -3.4224, -6.601, -6.5272, -6.343, -6.6197, -6.3739, -6.5635, -6.6861, -5.8143, -6.3789, -5.3548, -5.3602, -6.1118, -6.0066, -3.1997, -3.3106, -4.2893, -3.634, -4.1174, -4.6115, -4.5647, -3.9053, -4.2063, -4.4487, -2.7139, -4.2449, -4.2088, -4.7645, -4.9187, -4.7731, -4.6596, -4.46, -4.5964, -4.8465, -4.9367, -5.0137, -5.1244, -4.7113, -4.6462, -5.3398, -5.3989, -5.4717, -5.4091, -5.4972, -5.5072, -4.7736, -4.9958, -5.7326, -5.8078, -5.8168, -5.7904, -5.902, -5.9329, -5.7415, -6.0179, -6.1082, -6.1463, -6.1803, -6.1903, -4.2638, -5.2344, -6.3389, -6.3213, -6.3509, -6.3764, -6.3766, -4.6656, -5.2327, -4.7266, -5.4947, -4.058, -3.6632, -5.5641, -4.7965, -4.8393, -5.6494, -4.8321, -4.9833, -4.3621, -4.9409, -4.9581, -4.4289, -4.2566, -4.4744, -5.0433, -4.8534, -5.1432, -4.9152, -5.2785, -5.2096, -5.1145], \"loglift\": [30.0, 29.0, 28.0, 27.0, 26.0, 25.0, 24.0, 23.0, 22.0, 21.0, 20.0, 19.0, 18.0, 17.0, 16.0, 15.0, 14.0, 13.0, 12.0, 11.0, 10.0, 9.0, 8.0, 7.0, 6.0, 5.0, 4.0, 3.0, 2.0, 1.0, 2.042, 2.0419, 2.0397, 2.0396, 2.0386, 2.0381, 2.0378, 2.0371, 2.0363, 2.0362, 2.0362, 2.0361, 2.036, 2.0354, 2.0346, 2.0344, 2.0344, 2.034, 2.0332, 2.0331, 2.0331, 2.0328, 2.0322, 2.0318, 2.0312, 2.0312, 2.0309, 2.0308, 2.0308, 2.0305, 2.0247, 2.0159, 2.022, 2.0126, 2.0299, 2.0254, 2.023, 2.0132, 1.9256, 1.9682, 1.9532, 2.0143, 1.9209, 1.9787, 1.9391, 1.6753, 1.871, 1.9639, 1.6642, 1.4555, 1.8616, 1.7737, 1.4041, 1.7811, 1.6869, 1.572, 1.7949, 1.9423, 1.3318, 1.5886, 1.6581, 1.6527, 1.1947, 1.4799, 1.248, 0.8176, 0.9807, 0.3427, 1.3771, 1.0597, 0.451, 0.4952, -0.497, 0.8247, 0.4877, 0.5905, 2.2613, 2.2607, 2.2603, 2.2602, 2.2601, 2.2598, 2.2595, 2.2588, 2.2586, 2.2581, 2.2579, 2.2575, 2.2573, 2.2564, 2.2564, 2.2552, 2.2551, 2.2547, 2.2547, 2.2539, 2.2535, 2.2534, 2.2534, 2.2532, 2.2531, 2.253, 2.2527, 2.2526, 2.2526, 2.2521, 2.2435, 2.2469, 2.251, 2.2493, 2.2499, 2.2518, 2.2521, 2.2307, 2.1966, 2.2255, 2.1902, 2.2077, 2.2233, 2.1212, 2.122, 2.2014, 2.1617, 2.1585, 2.1098, 2.1172, 2.1364, 2.0167, 1.8022, 1.9108, 1.9383, 1.8853, 1.9826, 1.9764, 1.1267, 0.8126, 1.0051, 0.0835, 1.2893, 0.815, 0.0235, 1.0127, -0.6104, -0.2251, 2.4277, 2.4277, 2.4274, 2.4271, 2.4266, 2.4266, 2.4259, 2.4255, 2.4252, 2.425, 2.4248, 2.4239, 2.4234, 2.4229, 2.4222, 2.4221, 2.4219, 2.4204, 2.42, 2.4199, 2.4192, 2.4189, 2.4183, 2.4182, 2.418, 2.4179, 2.4177, 2.4177, 2.4175, 2.4171, 2.4064, 2.4107, 2.4115, 2.4083, 2.4057, 2.4105, 2.4143, 2.409, 2.4123, 2.369, 2.3345, 2.3711, 2.3985, 2.2617, 2.1369, 2.1499, 2.2933, 2.0257, 2.2719, 1.9511, 2.1851, 2.1045, 1.8826, 2.2234, 2.0915, 1.9764, 1.587, 2.1239, 1.5672, 0.4288, 0.2074, 0.9452, 1.72, 0.4552, 0.8074, 0.5625, -0.9345, 1.3958, 0.9807, 2.5737, 2.5717, 2.5713, 2.5699, 2.5697, 2.5696, 2.5694, 2.569, 2.5689, 2.5688, 2.5677, 2.5673, 2.567, 2.5665, 2.5665, 2.5665, 2.5664, 2.5662, 2.5661, 2.5658, 2.5656, 2.5656, 2.5654, 2.5654, 2.5649, 2.5646, 2.5641, 2.5641, 2.5639, 2.5638, 2.5636, 2.5632, 2.561, 2.5604, 2.5604, 2.5577, 2.5579, 2.5262, 2.5418, 2.5496, 2.5444, 2.4932, 2.3657, 2.5174, 2.4313, 2.5169, 2.5379, 2.2713, 2.4306, 2.1996, 2.2631, 2.3652, 2.3479, 2.241, 2.2037, 1.4239, 2.142, 2.2375, 1.8561, 1.4249, 0.5487, 0.4823, 2.0051, 0.4427, 2.0912, 1.5351, 1.1951, 1.1842, 1.1027, 1.3757, -0.4272, 0.3226, -0.4282, -0.0959, 0.0957, 2.5774, 2.5761, 2.5761, 2.576, 2.5746, 2.574, 2.5739, 2.5727, 2.5726, 2.5724, 2.5723, 2.5722, 2.5716, 2.5705, 2.5698, 2.5692, 2.5686, 2.5677, 2.5663, 2.5659, 2.5659, 2.5655, 2.5647, 2.5643, 2.5639, 2.5635, 2.5634, 2.5628, 2.5625, 2.5619, 2.5604, 2.5611, 2.5503, 2.5536, 2.5618, 2.5617, 2.5289, 2.5205, 2.5611, 2.5382, 2.5327, 2.4952, 2.4857, 2.5122, 2.4541, 2.2897, 2.2602, 2.4511, 2.4004, 2.4136, 2.437, 2.3987, 2.3702, 2.3167, 2.353, 1.8388, 1.8941, 1.3055, 1.4788, 1.8993, 1.9442, 1.5888, 1.8092, 1.5573, 1.8801, 1.4255, 1.4693, 2.0229, 1.2092, 1.5081, 0.0652, 0.3649, 1.5002, -0.3679, 1.6148, 2.7414, 2.7391, 2.7387, 2.738, 2.7365, 2.7362, 2.736, 2.735, 2.7347, 2.7345, 2.7344, 2.7341, 2.7336, 2.7334, 2.7331, 2.7328, 2.7328, 2.7325, 2.7321, 2.7321, 2.7319, 2.7309, 2.7309, 2.7308, 2.7306, 2.7304, 2.7291, 2.7291, 2.7286, 2.7286, 2.7188, 2.7184, 2.7255, 2.688, 2.7225, 2.6887, 2.7123, 2.5908, 2.6653, 2.138, 2.5875, 2.378, 2.5359, 2.3475, 2.4858, 2.4356, 2.4676, 2.3146, 1.8337, 2.0407, 2.4211, 1.7582, 1.4682, 1.7496, 1.4498, 1.5863, 0.9696, 2.3146, 1.4145, 0.7739, 1.2151, 1.7981, 1.7239, 1.2765, 0.4963, 1.0687, 0.9177, 0.7088, 0.9816, 0.8685, 2.7871, 2.7865, 2.7851, 2.7838, 2.7835, 2.7833, 2.7833, 2.7828, 2.7827, 2.7824, 2.7823, 2.7821, 2.7814, 2.781, 2.7809, 2.7801, 2.7796, 2.7794, 2.7793, 2.7792, 2.779, 2.779, 2.7784, 2.7778, 2.7778, 2.7775, 2.7774, 2.7772, 2.777, 2.7769, 2.7597, 2.7652, 2.7744, 2.7739, 2.7726, 2.7706, 2.7323, 2.7741, 2.7703, 2.7056, 2.7332, 2.6951, 2.753, 2.6554, 2.576, 2.6192, 2.588, 2.4302, 2.5331, 2.6711, 2.1201, 2.5156, 2.3821, 2.4499, 2.0661, 2.2347, 2.3616, 1.6881, 2.4015, 2.2231, 2.4311, 2.3375, 2.1523, 1.9136, 1.615, 2.2494, 1.7745, 1.0422, 0.4634, 1.5416, 1.684, -0.2737, 1.1323, -0.3348, -0.6942, 0.4448, 2.8156, 2.8144, 2.8136, 2.8135, 2.8129, 2.8125, 2.8108, 2.8103, 2.8097, 2.8097, 2.809, 2.809, 2.8089, 2.8087, 2.8085, 2.8084, 2.8081, 2.8074, 2.8074, 2.8073, 2.8069, 2.8068, 2.8064, 2.8058, 2.8057, 2.8057, 2.8048, 2.8045, 2.8043, 2.8042, 2.7927, 2.802, 2.7935, 2.8005, 2.7948, 2.743, 2.7994, 2.725, 2.7585, 2.6793, 2.6704, 2.7056, 2.7419, 2.6308, 2.7047, 2.6992, 2.6739, 2.3642, 2.7131, 2.5332, 2.3664, 2.4664, 2.6921, 2.5824, 2.4745, 2.2294, 2.145, 2.2787, 2.4286, 2.1813, 0.8731, 1.2823, 0.4068, 1.2987, 1.7178, 2.2703, 0.6496, -0.2174, 2.2866, 1.1506, 1.0229, 1.3081, -0.8172, -0.1779, 0.2787, 0.8272, 2.9135, 2.9131, 2.9125, 2.9114, 2.9113, 2.9102, 2.9098, 2.9096, 2.9091, 2.9085, 2.9077, 2.9075, 2.9074, 2.9071, 2.9068, 2.9059, 2.9056, 2.9056, 2.9052, 2.9049, 2.9047, 2.9045, 2.9043, 2.9037, 2.9034, 2.9034, 2.9032, 2.9024, 2.9019, 2.9016, 2.8959, 2.9012, 2.8937, 2.8694, 2.861, 2.8936, 2.8063, 2.8183, 2.801, 2.8556, 2.7602, 2.7549, 2.828, 2.7543, 2.8489, 2.6201, 2.665, 2.7817, 2.6585, 2.5481, 2.4772, 2.7017, 2.3978, 2.6236, 2.587, 2.1497, 2.43, 2.5806, 2.1018, 0.6142, 1.9225, 0.7374, 0.9246, 1.243, 0.9432, 1.6536, 0.69, 2.9402, 2.9376, 2.9375, 2.9372, 2.9372, 2.9369, 2.9351, 2.9349, 2.9348, 2.9341, 2.9333, 2.9322, 2.9321, 2.9319, 2.9318, 2.9316, 2.9316, 2.9315, 2.9314, 2.9313, 2.9312, 2.931, 2.9307, 2.9306, 2.9301, 2.93, 2.9298, 2.9296, 2.929, 2.9286, 2.9177, 2.9265, 2.9232, 2.9282, 2.8693, 2.905, 2.9163, 2.9218, 2.8821, 2.8955, 2.9133, 2.6588, 2.8911, 2.7799, 2.5877, 2.857, 2.8755, 2.4855, 2.7495, 2.6969, 2.3925, 2.5476, 2.5085, 2.4803, 2.4428, 2.3103, 2.358, 2.0057, 2.6239, 2.4327, 2.6965, 2.4482, 2.0644, 1.514, 1.9404, 1.6509, 0.3352, 2.2282, 1.1523, -0.5501, 1.1651, 0.3239, -0.4776, 0.4009, 3.092, 3.0917, 3.0917, 3.0915, 3.0911, 3.091, 3.091, 3.0896, 3.0866, 3.0865, 3.0863, 3.086, 3.086, 3.0857, 3.0848, 3.0847, 3.0847, 3.0845, 3.0841, 3.0834, 3.0831, 3.0828, 3.0827, 3.0824, 3.0822, 3.0816, 3.0814, 3.0813, 3.081, 3.08, 3.0746, 3.0697, 3.0705, 3.0736, 3.001, 3.012, 2.9484, 2.9837, 2.9837, 3.0345, 2.7769, 2.7674, 2.7325, 3.0078, 2.6036, 2.7184, 2.5707, 2.5212, 2.7484, 2.6236, 2.604, 2.6298, 2.8677, 2.8222, 2.7263, 2.8332, 2.0112, 2.5826, 1.3987, 0.9696, 2.4086, 1.1792, 0.9012, 0.5525, 3.1167, 3.1136, 3.1117, 3.1117, 3.1109, 3.1102, 3.1098, 3.1097, 3.1097, 3.1096, 3.1095, 3.1093, 3.1091, 3.1091, 3.1088, 3.1074, 3.1071, 3.1069, 3.1065, 3.1064, 3.1063, 3.1062, 3.1061, 3.1047, 3.1039, 3.1038, 3.1035, 3.1027, 3.1025, 3.1025, 3.0962, 3.1009, 3.0985, 3.0806, 3.0953, 3.0991, 3.0218, 3.0213, 3.0686, 3.0427, 3.0639, 3.0, 2.8302, 2.8123, 2.5928, 2.791, 2.9133, 2.4217, 2.8618, 2.4371, 2.8204, 2.5543, 2.5181, 2.5925, 2.3032, 2.5726, 2.2078, 2.4492, 1.9667, 1.1962, 2.3155, 1.6037, 0.2744, 0.263, 0.9763, 1.5913, 0.8242, 0.552, -0.1231, 1.2497, 0.3454, 3.2254, 3.2253, 3.223, 3.2226, 3.2226, 3.2218, 3.2215, 3.2211, 3.2205, 3.22, 3.2196, 3.2193, 3.2193, 3.2191, 3.2183, 3.2177, 3.2175, 3.2174, 3.2164, 3.2161, 3.2159, 3.2158, 3.2152, 3.215, 3.2146, 3.2144, 3.2143, 3.2137, 3.2137, 3.2136, 3.2108, 3.2118, 3.2111, 3.1906, 3.1807, 3.2087, 3.1264, 3.1836, 3.1764, 3.1444, 3.0694, 2.9558, 2.9657, 2.6243, 2.6506, 2.8722, 2.5339, 2.0645, 2.0001, 2.7402, 2.3431, 2.5004, 2.7787, 1.6049, 2.5532, 0.8392, 1.0185, 0.4773, 1.0642, 1.9212, 1.7836, -0.3305, 1.0354, 2.2912, -0.7942, -0.0585, 3.2658, 3.2655, 3.2646, 3.2646, 3.2633, 3.2625, 3.262, 3.2611, 3.2608, 3.2601, 3.2599, 3.2598, 3.2593, 3.2591, 3.2591, 3.2591, 3.2588, 3.2586, 3.2582, 3.2581, 3.2576, 3.2569, 3.2566, 3.2565, 3.2562, 3.2553, 3.2553, 3.2551, 3.2532, 3.253, 3.2455, 3.2392, 3.2466, 3.2004, 3.2213, 3.2354, 3.2515, 3.184, 3.1286, 3.2144, 3.195, 3.119, 3.0013, 2.4975, 3.0445, 2.5698, 2.9632, 2.6037, 3.1436, 2.5178, 2.6159, 2.6733, 2.5714, 2.3624, 0.4447, 0.0513, 0.4941, 2.2355, -0.4659, 2.3328, 2.0462, 0.9592, 3.3038, 3.3037, 3.3034, 3.3033, 3.302, 3.3009, 3.3008, 3.3008, 3.3007, 3.3006, 3.2989, 3.2961, 3.2952, 3.2948, 3.2941, 3.2933, 3.2932, 3.2929, 3.2917, 3.2897, 3.2882, 3.2881, 3.2878, 3.2876, 3.2874, 3.287, 3.2868, 3.2868, 3.2867, 3.286, 3.2825, 3.2844, 3.2488, 3.2413, 3.2706, 3.25, 2.9779, 2.9013, 2.9485, 2.7267, 2.7419, 2.7946, 2.6743, 2.1076, 2.2278, 2.2886, 1.1562, 2.129, 2.0903, 2.3195, 2.2169, 1.9637, 1.1491, -0.0126, 0.3555, 1.0887, 1.18, 1.9494, 3.482, 3.4818, 3.4816, 3.4809, 3.4807, 3.4803, 3.4801, 3.48, 3.48, 3.4799, 3.4785, 3.4782, 3.4777, 3.4776, 3.4776, 3.4768, 3.4765, 3.4763, 3.4755, 3.4743, 3.4741, 3.4736, 3.4735, 3.4729, 3.4729, 3.4714, 3.4713, 3.4712, 3.4708, 3.4701, 3.4655, 3.4652, 3.4592, 3.4662, 3.4471, 3.422, 3.4555, 3.4104, 3.3456, 3.4223, 3.1875, 3.1595, 2.8727, 3.07, 2.9437, 2.2208, 2.0126, 2.0023, 2.5271, 1.2669, 2.1469, 1.1878, 2.6025, 1.9624, 0.8334]}, \"token.table\": {\"Topic\": [7, 8, 11, 16, 3, 7, 11, 12, 3, 5, 8, 11, 15, 9, 12, 1, 5, 6, 9, 10, 12, 15, 16, 1, 4, 7, 8, 1, 2, 3, 4, 5, 6, 7, 8, 9, 10, 11, 12, 13, 14, 15, 16, 8, 2, 14, 14, 2, 3, 8, 12, 1, 2, 4, 5, 6, 7, 8, 9, 10, 11, 12, 13, 14, 15, 16, 12, 5, 13, 16, 1, 11, 7, 1, 12, 2, 3, 4, 5, 6, 8, 9, 11, 12, 13, 15, 2, 6, 9, 8, 9, 15, 15, 2, 12, 14, 15, 4, 11, 16, 1, 4, 5, 6, 8, 9, 12, 13, 14, 15, 16, 1, 4, 5, 7, 8, 10, 12, 12, 2, 13, 16, 12, 15, 1, 3, 4, 5, 7, 10, 11, 13, 14, 16, 13, 1, 2, 3, 4, 5, 6, 7, 9, 10, 11, 12, 13, 14, 15, 16, 1, 2, 3, 4, 9, 16, 2, 5, 8, 10, 13, 9, 12, 1, 13, 16, 3, 12, 7, 12, 8, 2, 12, 13, 2, 3, 4, 5, 6, 7, 8, 9, 10, 11, 12, 13, 14, 15, 16, 2, 2, 3, 4, 6, 7, 11, 12, 16, 1, 4, 1, 3, 5, 6, 7, 9, 11, 12, 13, 14, 16, 1, 3, 3, 12, 1, 4, 7, 8, 12, 2, 4, 7, 4, 5, 12, 13, 1, 2, 4, 5, 6, 7, 8, 9, 10, 11, 12, 13, 15, 16, 3, 5, 7, 11, 14, 16, 8, 13, 4, 2, 5, 13, 14, 16, 1, 2, 3, 4, 5, 6, 7, 8, 9, 10, 11, 12, 13, 14, 15, 16, 1, 2, 3, 4, 5, 6, 7, 8, 9, 10, 11, 12, 14, 15, 16, 14, 1, 2, 4, 5, 6, 7, 8, 10, 12, 13, 14, 16, 4, 7, 8, 3, 1, 2, 3, 4, 5, 6, 7, 8, 9, 10, 11, 12, 13, 14, 15, 16, 1, 4, 5, 7, 8, 14, 7, 3, 10, 2, 3, 5, 8, 10, 11, 12, 14, 1, 2, 3, 4, 5, 10, 11, 12, 14, 7, 1, 3, 5, 6, 10, 11, 13, 14, 16, 15, 7, 5, 9, 7, 6, 9, 7, 14, 16, 2, 6, 8, 9, 10, 11, 7, 3, 11, 3, 6, 7, 8, 3, 4, 10, 11, 10, 6, 2, 6, 12, 3, 6, 14, 16, 1, 3, 4, 5, 6, 9, 10, 11, 14, 15, 9, 6, 12, 8, 2, 7, 12, 3, 1, 2, 3, 8, 9, 11, 12, 5, 11, 3, 10, 1, 2, 3, 6, 7, 8, 11, 12, 16, 10, 13, 1, 3, 4, 6, 8, 11, 12, 13, 15, 8, 4, 11, 6, 11, 9, 15, 2, 11, 1, 5, 2, 5, 7, 1, 2, 3, 4, 5, 6, 7, 8, 9, 10, 11, 12, 13, 15, 16, 7, 5, 9, 8, 15, 2, 11, 2, 1, 3, 4, 5, 6, 7, 8, 10, 11, 12, 13, 14, 16, 11, 8, 14, 1, 1, 1, 1, 1, 4, 5, 7, 8, 10, 11, 13, 14, 16, 5, 7, 9, 16, 1, 8, 12, 14, 1, 3, 10, 13, 7, 10, 13, 15, 2, 7, 9, 11, 4, 5, 7, 10, 14, 5, 6, 16, 1, 2, 4, 9, 11, 16, 2, 7, 9, 15, 9, 3, 2, 3, 11, 12, 3, 1, 2, 3, 4, 5, 7, 9, 10, 12, 16, 7, 2, 3, 4, 5, 6, 7, 10, 11, 14, 1, 4, 14, 1, 2, 7, 9, 10, 15, 16, 1, 2, 3, 4, 7, 9, 13, 14, 15, 16, 1, 2, 3, 4, 5, 6, 9, 10, 11, 12, 13, 14, 16, 1, 3, 5, 1, 4, 8, 1, 3, 7, 8, 11, 14, 16, 2, 1, 4, 7, 8, 13, 16, 1, 4, 10, 14, 1, 2, 3, 4, 5, 6, 7, 8, 9, 10, 11, 12, 13, 14, 16, 1, 3, 4, 5, 8, 9, 10, 11, 12, 13, 14, 16, 7, 8, 8, 1, 8, 12, 13, 16, 14, 16, 8, 12, 10, 3, 4, 7, 8, 9, 10, 11, 9, 6, 1, 2, 4, 7, 8, 1, 4, 8, 10, 11, 16, 3, 5, 9, 10, 12, 1, 3, 4, 5, 7, 9, 10, 12, 13, 2, 4, 6, 8, 9, 11, 13, 11, 11, 14, 8, 13, 4, 5, 8, 11, 10, 1, 4, 5, 7, 8, 13, 14, 15, 16, 15, 4, 6, 7, 8, 10, 11, 13, 15, 16, 13, 1, 4, 5, 7, 8, 11, 12, 13, 16, 1, 2, 4, 6, 7, 8, 9, 10, 11, 6, 11, 8, 10, 13, 7, 1, 4, 7, 8, 9, 10, 15, 5, 7, 8, 10, 12, 8, 13, 3, 5, 8, 12, 5, 12, 14, 6, 16, 1, 3, 11, 13, 16, 1, 2, 7, 9, 13, 1, 2, 3, 4, 5, 6, 7, 8, 9, 10, 11, 12, 13, 14, 16, 1, 1, 15, 5, 11, 4, 5, 13, 16, 4, 1, 15, 10, 1, 2, 3, 4, 5, 7, 8, 9, 10, 11, 12, 13, 14, 15, 16, 2, 3, 4, 5, 6, 7, 9, 11, 12, 13, 14, 15, 16, 8, 14, 1, 14, 9, 14, 3, 4, 5, 11, 14, 1, 4, 8, 14, 4, 5, 7, 8, 10, 11, 13, 14, 5, 1, 3, 4, 5, 6, 7, 8, 9, 10, 11, 13, 14, 15, 16, 12, 14, 16, 2, 6, 9, 11, 1, 2, 4, 7, 8, 10, 11, 12, 10, 7, 13, 16, 1, 5, 6, 8, 9, 10, 11, 12, 14, 15, 13, 7, 10, 7, 14, 1, 2, 3, 4, 5, 7, 8, 9, 10, 12, 14, 15, 4, 6, 7, 8, 9, 6, 13, 1, 2, 3, 4, 5, 6, 7, 8, 9, 10, 11, 12, 13, 14, 16, 1, 6, 10, 1, 8, 14, 3, 6, 1, 2, 4, 5, 6, 7, 8, 10, 11, 14, 15, 15, 1, 2, 3, 4, 5, 7, 9, 10, 11, 12, 13, 14, 15, 16, 1, 2, 3, 4, 9, 11, 12, 13, 15, 16, 4, 15, 1, 2, 4, 5, 6, 8, 10, 11, 12, 13, 15, 16, 14, 5, 1, 4, 5, 7, 8, 10, 12, 13, 14, 15, 16, 10, 1, 1, 3, 4, 6, 7, 9, 10, 11, 13, 14, 13, 7, 9, 11, 14, 9, 1, 3, 4, 5, 6, 11, 13, 16, 15, 1, 3, 4, 5, 6, 9, 10, 11, 13, 14, 15, 16, 15, 5, 1, 3, 4, 5, 6, 7, 8, 9, 10, 11, 12, 13, 14, 1, 5, 9, 10, 16, 4, 3, 15, 3, 13, 1, 2, 3, 4, 5, 6, 7, 8, 9, 10, 11, 12, 13, 14, 15, 16, 9, 5, 13, 1, 3, 7, 10, 11, 13, 8, 3, 10, 12, 1, 3, 4, 10, 12, 13, 4, 6, 9, 13, 15, 16, 1, 9, 16, 2, 3, 4, 5, 6, 7, 8, 9, 10, 11, 12, 15, 16, 2, 8, 3, 9, 1, 2, 3, 4, 5, 6, 7, 8, 9, 10, 11, 12, 13, 14, 15, 16, 4, 1, 3, 4, 5, 6, 10, 11, 13, 14, 15, 16, 1, 2, 3, 4, 6, 8, 9, 11, 13, 14, 15, 2, 14, 15, 1, 2, 4, 5, 6, 7, 8, 9, 12, 13, 14, 15, 9, 15, 5, 1, 2, 3, 7, 9, 15, 16, 1, 2, 3, 4, 5, 6, 7, 8, 9, 10, 11, 12, 13, 14, 16, 1, 4, 5, 7, 8, 9, 1, 2, 3, 4, 7, 9, 11, 12, 13, 15, 16, 16, 3, 4, 6, 10, 13, 2, 3, 5, 9, 1, 2, 3, 4, 5, 6, 7, 8, 9, 10, 12, 13, 16, 1, 7, 14, 15, 16, 2, 4, 12, 3, 2, 6, 10, 3, 3, 4, 8, 12, 13, 14, 6, 2, 4, 2, 5, 5, 13, 1, 5, 14, 16, 4, 5, 7, 15, 4, 5, 7, 13, 1, 3, 4, 5, 7, 8, 9, 10, 11, 12, 13, 14, 16, 7, 11, 12, 2, 3, 4, 6, 4, 1, 3, 7, 10, 12, 13, 16, 10, 14, 5, 11, 7, 10, 12, 15, 15, 1, 5, 12, 9, 5, 10, 2, 5, 13, 11, 2, 1, 4, 7, 9, 12, 7, 2, 1, 8, 14, 1, 3, 5, 13, 16, 6, 7, 9, 9, 15, 3, 16, 2, 4, 5, 12, 15, 1, 2, 3, 4, 5, 6, 7, 8, 9, 10, 11, 12, 13, 14, 15, 16, 6, 14, 1, 2, 6, 7, 9, 10, 11, 11, 1, 2, 3, 4, 6, 7, 8, 10, 11, 13, 14, 16, 4, 13, 15, 4, 14, 2, 13, 13, 2, 5, 14, 2, 10, 7, 13, 9, 15, 1, 2, 4, 5, 7, 8, 9, 14, 16, 12, 1, 4, 5, 7, 8, 10, 12, 13, 16, 3, 10, 14, 1, 3, 4, 9, 10, 13, 16, 3, 11, 13, 6, 13, 5, 15, 1, 2, 3, 4, 5, 6, 8, 9, 10, 12, 13, 14, 13, 14, 1, 5, 7, 12, 14, 15, 6, 15, 14, 13, 3, 12, 2, 15, 2, 4, 5, 6, 7, 8, 10, 11, 13, 2, 5, 12, 16, 16, 7, 8, 2, 1, 1, 2, 4, 5, 6, 7, 8, 10, 11, 1, 5, 8, 1, 4, 8, 1, 4, 8, 1, 3, 5, 6, 8, 9, 10, 11, 12, 14, 16, 9, 6, 11, 10, 1, 15, 1, 2, 3, 4, 5, 6, 7, 9, 10, 11, 12, 13, 14, 15, 16, 1, 2, 4, 7, 9, 12, 15, 8, 1, 2, 6, 7, 8, 10, 11, 13, 15, 9, 8, 1, 3, 4, 7, 9, 10, 12, 13, 14, 8, 2, 7, 2, 4, 11, 16, 1, 4, 6, 7, 8, 10, 13, 14, 3, 10, 13, 14, 16, 5, 13, 5, 11, 14, 16, 7, 10, 12, 16, 1, 2, 4, 5, 9, 12, 3, 4, 5, 6, 10, 11, 15, 10, 6, 9, 4, 8, 1, 4, 7, 8, 1, 2, 4, 6, 7, 9, 15, 12, 11, 4, 2, 1, 2, 3, 4, 6, 7, 8, 9, 10, 11, 12, 13, 14, 15, 16, 15, 4, 15, 13, 8, 1, 7, 8, 11, 16, 3, 4, 5, 8, 11, 13, 16, 10, 1, 4, 7, 10, 9, 7, 6, 8, 3, 1, 3, 5, 8, 8, 6, 2, 4, 7, 8, 9, 2, 7, 5, 1, 3, 1, 2, 3, 4, 5, 6, 7, 8, 9, 10, 11, 12, 13, 14, 15, 16, 1, 3, 4, 5, 7, 8, 9, 10, 12, 13, 16, 12, 4, 8, 5, 2, 2, 9, 12, 1, 5, 16, 6, 16, 9, 1, 3, 11, 12, 16, 10, 4, 7, 8, 11, 14, 4, 15, 1, 2, 3, 4, 5, 6, 7, 8, 9, 10, 11, 12, 13, 14, 15, 16, 7, 11, 13, 14, 15, 8, 10, 13, 6, 15, 15, 15, 4, 7, 10, 14, 4, 7, 11, 11, 1, 2, 3, 4, 5, 7, 8, 9, 10, 11, 12, 13, 14, 15, 16, 4, 5, 8, 13, 1, 2, 3, 4, 5, 6, 7, 8, 9, 10, 11, 12, 13, 14, 15, 16, 9, 1, 3, 6, 7, 8, 10, 11, 12, 14, 1, 4, 10, 1, 10, 11, 6, 14, 3, 10, 5, 1, 3, 6, 10, 11, 13, 16, 1, 2, 4, 5, 6, 7, 8, 9, 10, 11, 12, 13, 14, 8, 15, 12, 4, 7, 10, 3, 4, 5, 7, 10, 11, 14, 16, 12, 13, 3, 2, 5, 12, 7, 15, 13, 10, 10, 1, 2, 3, 4, 5, 6, 7, 8, 9, 10, 11, 12, 13, 14, 15, 16, 4, 11, 4, 5, 10, 5, 10, 16, 1, 2, 3, 4, 5, 6, 7, 8, 9, 10, 11, 12, 13, 14, 15, 16, 1, 2, 3, 4, 5, 6, 7, 8, 9, 10, 11, 12, 13, 14, 15, 16, 1, 6, 8, 4, 8, 5, 6, 3, 5, 6, 14, 6, 12, 5, 11, 3, 8, 13, 1, 2, 3, 4, 5, 6, 7, 8, 10, 11, 12, 13, 14, 16, 10, 11, 13, 1, 3, 11, 13, 16, 15, 1, 2, 4, 5, 6, 7, 8, 9, 10, 11, 12, 13, 14, 15, 16, 13, 2, 5, 6, 9, 10, 12, 14, 15, 16, 8, 6, 4, 10, 12, 13, 1, 3, 5, 7, 10, 11, 12, 16, 4, 15, 12, 13, 12, 6, 9, 15, 2, 11, 2, 6, 9, 11, 10, 16, 1, 2, 4, 5, 6, 7, 8, 9, 11, 12, 13, 14, 15, 16, 1, 2, 4, 5, 6, 7, 12, 15, 1, 2, 3, 4, 5, 6, 7, 8, 9, 10, 11, 12, 13, 14, 15, 16, 1, 2, 3, 4, 5, 6, 7, 8, 9, 10, 11, 13, 14, 15, 14, 1, 2, 3, 4, 5, 6, 7, 8, 9, 10, 11, 12, 13, 14, 15, 16, 1, 2, 3, 4, 5, 6, 7, 8, 9, 10, 11, 12, 13, 14, 15, 1, 4, 5, 6, 7, 8, 9, 10, 11, 12, 14, 15, 12, 1, 2, 3, 4, 9, 10, 11, 12, 13, 14, 16, 1, 1, 8, 1, 5, 6, 8, 10, 4, 6, 4, 6, 7, 8, 10, 11, 12, 1, 2, 4, 6, 7, 8, 9, 11, 12, 16, 1, 4, 7, 1, 2, 4, 6, 8, 9, 10, 13, 1, 2, 3, 4, 10, 16, 2, 3, 5, 6, 7, 8, 9, 10, 11, 12, 13, 14, 15, 16, 1, 2, 4, 5, 6, 9, 10, 11, 12, 13, 16, 1, 4, 5, 6, 7, 8, 9, 10, 12, 13, 14, 15, 16, 16, 4, 11, 6, 3, 1, 2, 4, 6, 7, 8, 11, 12, 16, 11, 1, 2, 3, 4, 5, 7, 8, 9, 10, 11, 12, 13, 14, 15, 16, 1, 2, 3, 4, 5, 9, 10, 11, 12, 13, 14, 16, 1, 2, 3, 4, 5, 6, 7, 8, 9, 10, 11, 12, 13, 14, 16, 2, 4, 12, 6, 8, 7, 2, 4, 7, 8, 6, 1, 3, 10, 4, 5, 11, 6, 8, 10, 11, 12, 13, 5, 6, 10, 13, 1, 2, 5, 6, 8, 9, 10, 11, 13, 14, 15, 3, 4, 5, 7, 8, 9, 10, 11, 13, 15, 16, 3, 16, 11, 5, 12, 14, 2, 3, 15, 5, 7, 16, 9, 3, 3, 12, 1, 5, 6, 8, 3, 10, 6, 4, 5, 6, 7, 8, 11, 3, 6, 3, 9, 12, 2, 4, 11, 13, 3, 8, 14, 12, 2, 4, 6, 13, 9, 14, 15, 15, 4, 1, 2, 3, 4, 5, 6, 7, 8, 9, 10, 11, 12, 13, 14, 16, 1, 2, 11, 1, 3, 4, 5, 7, 8, 9, 10, 11, 12, 13, 16, 1, 4, 5, 6, 7, 8, 10, 16, 2, 2, 3, 4, 6, 9, 11, 1, 2, 3, 4, 6, 8, 9, 10, 11, 12, 13, 16, 2, 3, 6, 11, 2, 4, 6, 7, 8, 9, 10, 11, 12, 16, 1, 3, 4, 5, 7, 10, 12, 14, 16, 1, 10, 4, 3, 15, 4, 5, 6, 7, 11, 14, 5, 16, 1, 4, 5, 7, 8, 14, 1, 4, 6, 10, 11, 14, 1, 3, 5, 7, 8, 10, 11, 12, 13, 16, 1, 2, 4, 13, 2, 6, 7, 1, 3, 6, 5, 14, 12, 4, 7, 8, 4, 9, 1, 2, 4, 5, 6, 7, 8, 9, 10, 11, 12, 13, 15, 16, 2, 4, 5, 8, 9, 13, 4, 1, 2, 4, 5, 7, 8, 12, 13, 1, 2, 3, 4, 5, 7, 8, 9, 10, 11, 13, 14, 15, 16, 1, 5, 9, 1, 4, 5, 8, 1, 5, 8, 11, 1, 4, 5, 8, 10, 1, 2, 3, 4, 5, 6, 7, 8, 9, 10, 11, 12, 13, 14, 16, 6, 1, 2, 4, 7, 8, 1, 4, 5, 7, 8, 9, 10, 12, 16, 1, 2, 3, 4, 5, 7, 9, 10, 13, 14, 13, 2, 3, 4, 5, 7, 9, 13, 14, 15, 2, 3, 13, 7, 10, 15, 5, 10, 1, 2, 3, 4, 5, 6, 7, 8, 9, 10, 11, 12, 13, 14, 16, 1, 3, 4, 5, 6, 9, 10, 11, 1, 4, 5, 7, 8, 13, 16, 12, 1, 2, 3, 4, 5, 6, 7, 8, 12, 14, 15, 16, 4, 12, 15, 1, 4, 5, 6, 7, 8, 12, 1, 4, 5, 8, 10, 13, 14, 16, 1, 2, 3, 4, 5, 6, 7, 8, 9, 10, 11, 12, 13, 14, 15, 16, 13, 1, 3, 4, 5, 7, 8, 9, 10, 11, 12, 13, 14, 15, 16, 1, 3, 4, 5, 7, 8, 11, 12, 13, 14, 16, 1, 2, 3, 6, 7, 8, 9, 10, 11, 13, 14, 6, 11, 12, 1, 4, 5, 7, 8, 9, 10, 12, 13, 16, 5, 10, 11, 13, 3, 5, 11, 13, 14, 1, 2, 4, 7, 8, 4, 7, 9, 4, 8, 3, 10, 1, 3, 4, 4, 10, 3, 6, 12, 13, 15, 1, 2, 3, 4, 5, 7, 8, 9, 10, 11, 12, 13, 14, 15, 16, 6, 7, 8, 15, 4, 1, 2, 3, 4, 5, 7, 8, 10, 11, 12, 13, 15, 16, 1, 2, 4, 6, 7, 8, 9, 10, 12, 13, 15, 7, 15, 1, 2, 3, 5, 9, 11, 15, 16, 3, 6, 8, 1, 13, 4, 2, 6, 1, 10, 5, 14, 16, 4, 5, 8, 11, 16, 1, 2, 3, 4, 5, 7, 8, 9, 10, 11, 12, 13, 14, 15, 16, 4, 7, 16, 5, 12, 1, 3, 4, 5, 7, 8, 9, 10, 12, 13, 15, 16, 1, 2, 3, 4, 5, 6, 7, 8, 9, 10, 11, 12, 13, 14, 15, 16, 3, 5, 11, 11, 1, 2, 3, 4, 5, 6, 7, 8, 9, 10, 11, 12, 14, 15, 16, 5, 1, 2, 3, 4, 5, 6, 7, 9, 10, 11, 12, 13, 14, 16, 1, 3, 4, 5, 7, 8, 9, 10, 13, 16, 16, 12, 10, 13, 2, 3, 4, 5, 7, 8, 9, 10, 11, 12, 13, 14, 16, 6, 7, 4, 8, 2, 3, 5, 12, 16, 2, 6, 10, 3, 10, 15, 1, 6, 10, 1, 14, 6, 11, 8, 14, 11, 1, 2, 3, 4, 8, 10, 11, 14, 3, 1, 3, 4, 7, 8, 9, 10, 11, 12, 13, 16, 14, 8, 5, 6, 8, 6, 7, 7, 7, 3, 5, 6, 10, 11, 13, 14, 16, 3, 8, 10, 12, 14, 1, 2, 3, 4, 5, 6, 7, 8, 10, 12, 13, 14, 15, 9, 2, 9, 14, 16, 1, 3, 5, 7, 8, 14, 1, 5, 10, 12, 13, 14, 1, 2, 3, 4, 5, 6, 8, 9, 10, 11, 12, 13, 14, 16, 1, 2, 3, 4, 5, 6, 9, 10, 11, 13, 14, 11, 8, 3, 5, 6, 11, 13, 1, 2, 3, 4, 5, 6, 7, 8, 9, 10, 11, 12, 13, 14, 16, 10, 1, 2, 4, 6, 7, 8, 9, 12, 13, 14, 15, 2, 1, 4, 5, 8, 10, 1, 2, 4, 6, 7, 8, 9, 10, 11, 12, 13, 14, 4, 7, 10, 11, 9, 1, 4, 5, 7, 8, 10, 1, 4, 5, 8, 8, 4, 11, 15, 1, 2, 3, 4, 5, 6, 7, 8, 9, 10, 11, 12, 13, 14, 16, 4, 1, 2, 3, 4, 5, 6, 8, 9, 10, 11, 12, 13, 14, 15, 16, 5, 14, 5, 14, 1, 2, 4, 5, 6, 7, 8, 9, 10, 12, 13, 15, 16, 1, 2, 3, 4, 5, 6, 7, 8, 9, 10, 11, 12, 13, 14, 15, 16, 1, 2, 3, 4, 5, 6, 7, 8, 9, 10, 11, 12, 13, 14, 15, 16, 3, 10, 1, 4, 1, 10, 1, 2, 3, 4, 5, 6, 7, 8, 9, 10, 11, 12, 13, 16, 1, 4, 7, 8, 3, 10, 13, 16, 5, 9, 10, 4, 13, 13, 9, 8, 10, 13, 1, 2, 3, 4, 5, 6, 7, 8, 9, 10, 12, 13, 16, 5, 16, 4, 7, 4, 7, 1, 1, 2, 5, 6, 10, 11, 13, 7, 2, 6, 11, 5, 8, 11, 1, 2, 3, 4, 5, 7, 8, 9, 10, 12, 13, 14, 15, 16, 1, 3, 4, 6, 7, 8, 10, 12, 14, 1, 2, 4, 7, 8, 9, 10, 12, 1, 4, 9, 14, 15, 10, 3, 13, 6, 14, 3, 5, 7, 11, 13, 12, 16, 13, 10, 11, 1, 2, 4, 5, 6, 7, 8, 9, 10, 11, 12, 13, 14, 16, 14, 10, 1, 2, 3, 4, 5, 6, 7, 8, 9, 10, 11, 12, 13, 14, 15, 16, 1, 3, 7, 9, 14, 15, 1, 2, 3, 4, 5, 6, 7, 9, 10, 12, 13, 14, 16, 5, 7, 16, 7, 9, 12, 6, 11, 12, 16, 11, 14, 14, 1, 3, 4, 5, 6, 7, 8, 10, 11, 12, 13, 14, 16, 1, 2, 3, 4, 5, 7, 8, 9, 10, 12, 14, 16, 12, 12, 1, 2, 4, 8, 10, 11, 4, 1, 2, 3, 4, 5, 6, 7, 8, 9, 10, 11, 12, 13, 14, 15, 16, 1, 5, 6, 7, 8, 9, 10, 14, 15, 3, 1, 4, 7, 8, 10, 3, 11, 3, 4, 5, 8, 10, 11, 13, 16, 2, 4, 11, 1, 3, 4, 7, 8, 9, 10, 11, 12, 14, 16, 1, 3, 4, 5, 7, 8, 10, 11, 12, 14, 1, 3, 4, 7, 8, 16, 1, 3, 4, 5, 6, 8, 9, 10, 11, 13, 14, 3, 6, 1, 2, 6, 14, 1, 4, 5, 9, 11, 5, 14, 1, 2, 3, 4, 5, 6, 7, 8, 9, 10, 11, 12, 13, 14, 15, 16, 5, 3, 16, 10, 4, 11, 10, 15, 6, 7, 14, 1, 3, 4, 5, 6, 7, 8, 9, 10, 11, 14, 16, 3, 10, 14, 3, 10, 4, 7, 9, 16, 4, 7, 8, 11, 4, 8, 1, 5, 6, 2, 3, 6, 9, 10, 11, 7, 1, 2, 4, 5, 6, 7, 8, 9, 10, 11, 12, 13, 14, 2, 1, 3, 4, 5, 7, 8, 10, 11, 13, 14, 9, 12, 10, 1, 2, 3, 4, 5, 6, 7, 8, 9, 10, 2, 11, 12, 14, 15, 12, 1, 7, 8, 5, 9, 10, 2, 6, 8, 9, 10, 11, 12, 16, 11, 2, 6, 9, 11, 13, 1, 2, 3, 4, 5, 6, 7, 8, 9, 10, 11, 12, 15, 16, 8, 12, 9, 1, 3, 4, 5, 7, 8, 10, 11, 12, 13, 14, 16, 1, 9, 12, 2, 3, 9, 11, 2, 1, 12, 1, 7, 8, 11, 13, 16, 2, 5, 6, 8, 9, 12, 13, 1, 2, 3, 4, 5, 6, 7, 8, 9, 10, 11, 12, 13, 14, 15, 16, 14, 1, 5, 16, 4, 1, 16, 4, 16, 2, 5, 9, 10, 11, 12, 2, 4, 5, 7, 8, 9, 10, 11, 12, 13, 3, 4, 5, 14, 1, 2, 3, 4, 5, 6, 7, 8, 9, 10, 11, 12, 13, 14, 15, 16, 4, 5, 6, 7, 8, 16, 3, 4, 5, 10, 11, 12, 13, 14, 16, 1, 11, 5, 4, 1, 3, 5, 16, 8, 2, 4, 5, 6, 7, 8, 9, 11, 12, 15, 16, 7, 8, 13, 4, 5, 8, 10, 11, 13, 14, 15, 16, 2, 4, 6, 7, 10, 11, 10, 12, 5, 1, 2, 3, 4, 7, 8, 9, 10, 11, 13, 15, 16, 1, 3, 4, 7, 8, 10, 11, 13, 3, 12, 3, 8, 1, 2, 4, 5, 7, 8, 9, 11, 16, 1, 2, 3, 4, 5, 6, 7, 8, 9, 10, 11, 12, 13, 14, 15, 16, 11, 1, 3, 4, 5, 6, 8, 10, 11, 12, 13, 15, 16, 2, 5, 9, 14, 2, 7, 2, 6, 8, 8, 11, 13, 3, 9, 16, 11, 3, 5, 7, 10, 11], \"Freq\": [0.5818940983001656, 0.05657303733473833, 0.35236920397065585, 0.004849117485834714, 0.0032276067768120275, 0.006455213553624055, 0.01291042710724811, 0.9779648533740444, 0.0014004863489678677, 0.007002431744839339, 0.910316126829114, 0.07982772189116846, 0.993222825315967, 0.9882507018911646, 0.9782646086206003, 0.0033008160226502426, 0.32843119425369915, 0.0016504080113251213, 0.009902448067950728, 0.6304558603261964, 0.0033008160226502426, 0.019804896135901456, 0.0033008160226502426, 0.778137623314033, 0.027104938983362543, 0.06663297500076626, 0.12536034279805175, 0.08770281784656403, 0.018370184819212737, 0.07822143213342198, 0.01718501160506998, 0.2405901624709797, 0.0023703464282855144, 0.015999838390927223, 0.010073972320213436, 0.3703666294196116, 0.03022191696064031, 0.010666558927284815, 0.03555519642428272, 0.01244431874849895, 0.014814665176784465, 0.013629491962641708, 0.04266623570913926, 0.9890174944315033, 0.005462982954771051, 0.9887999148135602, 0.9885740924573742, 0.12267399022033879, 0.00681522167890771, 0.8655331532212792, 0.003407610839453855, 0.09950477258783075, 0.15507924663954473, 0.12014672009275308, 0.003175684231526513, 0.04022533359933583, 0.2863408615426406, 0.15349140452378146, 0.08309707072494377, 0.024876193146957687, 0.0021171228210176756, 0.004234245642035351, 0.014819859747123729, 0.0015878421157632565, 0.0005292807052544189, 0.011114894810342796, 0.9905307592806081, 0.9554758017150627, 0.0037915706417264395, 0.0379157064172644, 0.005017849551170172, 0.9935342111316939, 0.9888289655230784, 0.9839355637225882, 0.9964078539392455, 0.05733734517379569, 0.01651315541005316, 0.01421966160310133, 0.00045869876139036553, 0.020182745501176082, 0.0009173975227807311, 0.004586987613903655, 0.007797878943636214, 0.3155847478365715, 0.00045869876139036553, 0.560988585180417, 0.27282386246959633, 0.7232406165467601, 0.9825222386287237, 0.014312073313290697, 0.0013010975739355178, 0.9836297658952515, 0.9946901092335773, 0.00972606118896979, 0.22175419510851124, 0.7664136216908195, 0.9989867615789764, 0.9833760017240866, 0.9880130958997249, 0.9946542984279935, 0.0030204698087118046, 0.3526398501671032, 0.01359211413920312, 0.02642911082622829, 0.018877936304448777, 0.005285822165245658, 0.0007551174521779511, 0.0007551174521779511, 0.0037755872608897555, 0.5693585589421751, 0.004530704713067706, 0.0045896317924024035, 0.20194379886570574, 0.0015298772641341345, 0.06119509056536537, 0.006119509056536538, 0.003059754528268269, 0.7205721914071773, 0.992570822874134, 0.9901739307547436, 0.9864258463568383, 0.9932199977259712, 0.9449402805079842, 0.047586920601121505, 0.050953003363845055, 0.8734800576659153, 0.009098750600686618, 0.0018197501201373235, 0.003639500240274647, 0.0018197501201373235, 0.020017251321510558, 0.01091850072082394, 0.00545925036041197, 0.025476501681922527, 0.983448148100549, 0.008609419371007202, 0.11030818569102979, 0.014528395188574655, 0.0037666209748156514, 0.0024213991980957758, 0.0002690443553439751, 0.0018833104874078257, 0.5956642027315608, 0.004573754040847576, 0.048966072672603465, 0.0013452217767198754, 0.1966714237564458, 0.0005380887106879502, 0.009147508081695153, 0.0016142661320638506, 0.0027320078042691893, 0.023222066336288108, 0.013660039021345946, 0.0013660039021345946, 0.9548367275920817, 0.0013660039021345946, 0.00902587758161161, 0.07220702065289288, 0.8980748193703552, 0.00902587758161161, 0.004512938790805805, 0.9961259086189682, 0.9812801431227542, 0.9934040053905554, 0.9768878261950062, 0.9965893843055008, 0.9841384289805071, 0.9894150247836125, 0.9863526970853543, 0.9924481104194014, 0.9890030826747588, 0.007593852086302227, 0.028476945323633353, 0.9606222889172318, 0.6309770307753013, 0.005605695013995214, 0.024665058061578943, 0.10908682497234687, 0.007175289617913874, 0.0029149614072775114, 0.0024665058061578943, 0.11323503928270333, 0.0006726834016794257, 0.022647007856540665, 0.01805033794506459, 0.0029149614072775114, 0.006166264515394736, 0.0523571914307153, 0.0010090251025191386, 0.9983618150267197, 0.2131325515860936, 0.0008325490296331781, 0.011655686414864494, 0.3604937298311661, 0.00416274514816589, 0.33884745506070346, 0.06910156945955379, 0.0024976470888995344, 0.9888236028555993, 0.9872548239279354, 0.02222113225153815, 0.11192866615589586, 0.2510164939525606, 0.0016460097964102333, 0.00246901469461535, 0.0016460097964102333, 0.03374320082640978, 0.025513151844358616, 0.41150244910255834, 0.13579580820384424, 0.00246901469461535, 0.014997470731765742, 0.9823343329306562, 0.9775350368186638, 0.019995034844018125, 0.8830265738862725, 0.05574958060297438, 0.011305859003400398, 0.04912200808373966, 0.00038985720701380683, 0.27854167100469207, 0.02159237759726295, 0.6974337963915933, 0.003704293938441842, 0.9742293058102044, 0.014817175753767368, 0.003704293938441842, 0.1399795665135579, 0.0008382009970871729, 0.017602220938830633, 0.17225030490141405, 0.025565130411158776, 0.028079733402420294, 0.002514602991261519, 0.0033528039883486916, 0.015087617947569113, 0.00041910049854358645, 0.5905126024479134, 0.0020955024927179324, 0.0008382009970871729, 0.00041910049854358645, 0.025930859031699918, 0.0057624131181555375, 0.0028812065590777688, 0.0014406032795388844, 0.0014406032795388844, 0.9608823874524358, 0.990161035538841, 0.004074736771764778, 0.9953166406930942, 0.9463792462019295, 0.04769155256450668, 0.0014903610176408338, 0.0014903610176408338, 0.0029807220352816677, 0.16064652227117712, 0.23822909470660125, 0.00042164441540991376, 0.053127196341649134, 0.16528461084068619, 0.2306394952292228, 0.010962754800657757, 0.012649332462297411, 0.031623331155743534, 0.00337315532327931, 0.00042164441540991376, 0.04174279712558146, 0.0012649332462297412, 0.004638088569509051, 0.04427266361804094, 0.00042164441540991376, 0.34490838907972143, 0.02588133394319502, 0.0010563809772732662, 0.02429676247728512, 0.33249591259676053, 0.038029715181837585, 0.007394666840912863, 0.011356095505687612, 0.005810095375002964, 0.05070628690911678, 0.00026409524431831655, 0.019278952835237107, 0.00026409524431831655, 0.11593781225574096, 0.022448095767056905, 0.9939613111145462, 0.05613955762885982, 0.027178674725082928, 0.24817248888313426, 0.1461410706529049, 0.1336656134020472, 0.02405981041236849, 0.1884685148968865, 0.0071288327147758495, 0.15416100745702774, 0.0026733122680409438, 0.004901072491408397, 0.006683280670102359, 0.3934776880644752, 0.04975005251389916, 0.5551653587346475, 0.9890722198092087, 0.10988227332410964, 0.09641283336825104, 0.05777680823170927, 0.12547846695720907, 0.04147169670619622, 0.031192387266198867, 0.008152555762756522, 0.06486598715584538, 0.09428607969101022, 0.023748749395855955, 0.0028356715696544427, 0.1198071238179002, 0.11130010910893687, 0.0031901305158612476, 0.009215932601376937, 0.1003118817765259, 0.06890831533746036, 0.20992998393505366, 0.004807556884008862, 0.7099158998719753, 0.0016025189613362873, 0.0016025189613362873, 0.9856235903103225, 0.9858224383160933, 0.989252092624798, 0.002346892195937634, 0.016428245371563437, 0.8660032203009869, 0.07275365807406665, 0.002346892195937634, 0.014081353175625803, 0.02346892195937634, 0.002346892195937634, 0.0023888671608660365, 0.3535523398081734, 0.017916503706495276, 0.010749902223897165, 0.005972167902165091, 0.02149980444779433, 0.04777734321732073, 0.025083105189093385, 0.5148008731666309, 0.9864260552454425, 0.0010961970918237105, 0.7136243067772355, 0.0010961970918237105, 0.002192394183647421, 0.25541392239492455, 0.002192394183647421, 0.013154365101884526, 0.004384788367294842, 0.005480985459118553, 0.9768140632372418, 0.9856089618354843, 0.9923116804265102, 0.9905340879785557, 0.9868263979349922, 0.9979283249593028, 0.0017980690539807257, 0.00658184958457851, 0.967531888933041, 0.01974554875373553, 0.0699737489042553, 0.8575852481986639, 0.031732281479836706, 0.00406824121536368, 0.035800522695200385, 0.9951387493717139, 0.9914307262492075, 0.9707672046568717, 0.02311350487278266, 0.9939918378308212, 0.011513916081694877, 0.9786828669440646, 0.005756958040847439, 0.992645987072301, 0.0018180329433558626, 0.0018180329433558626, 0.0018180329433558626, 0.9834166394971305, 0.99146772644002, 0.01619967811211625, 0.018899624464135626, 0.9611809013188974, 0.03227264420361133, 0.03227264420361133, 0.9305279078707933, 0.9943134068263367, 0.22637009939175903, 0.014384722034927832, 0.0007570906334172543, 0.49665145552171885, 0.17791629885305477, 0.003028362533669017, 0.07646615397514268, 0.002271271900251763, 0.0007570906334172543, 0.0015141812668345086, 0.9916474484543867, 0.9690613510371833, 0.02047312713458838, 0.9908586282705348, 0.006588792819519471, 0.006588792819519471, 0.9751413372888816, 0.9919805422181551, 0.0008340296485286161, 0.858216508335946, 0.0033361185941144646, 0.01084238543087201, 0.01918268191615817, 0.08590505379844746, 0.020016711564686786, 0.0772353664599391, 0.9157907737392779, 0.9867173600345718, 0.9880396078526874, 0.023408710077365516, 0.007802903359121839, 0.019507258397804598, 0.32382048940355634, 0.009753629198902299, 0.027310161756926438, 0.5032872666633587, 0.07412758191165747, 0.011704355038682758, 0.9876233323721888, 0.987770162811606, 0.18374511094154888, 0.0009471397471213861, 0.00947139747121386, 0.027467052666520195, 0.6364779100655714, 0.13259956459699404, 0.0066299782298497026, 0.0009471397471213861, 0.0009471397471213861, 0.9857319605772099, 0.9656634477590044, 0.022457289482767543, 0.9840424531464558, 0.9923010995125878, 0.9908877365739459, 0.004061015313827647, 0.9853198776378203, 0.008643156821384388, 0.01200758902602576, 0.9846223001341123, 0.9911077210976718, 0.9856156335240073, 0.00929826069362271, 0.11403947020873317, 0.0004958237835162311, 0.16114272964277512, 0.01685800863955186, 0.1482513112713531, 0.013387242154938242, 0.0014874713505486936, 0.06544873942414252, 0.009420651886808393, 0.3921966127613388, 0.02132042269119794, 0.02132042269119794, 0.026774484309876483, 0.0019832951340649245, 0.00446241405164608, 0.9921187719317052, 0.190332994932797, 0.8069489785167344, 0.004660014426112214, 0.9879230583357892, 0.9911350034448428, 0.005416038270190398, 0.9945814303368449, 0.060974567528374615, 0.22571287278047447, 0.0010697292548837653, 0.01604593882325648, 0.0010697292548837653, 0.0032091877646512955, 0.12515832282140052, 0.41612468014978465, 0.0032091877646512955, 0.011767021803721417, 0.11553075952744664, 0.014976209568372712, 0.0032091877646512955, 0.9959094412404574, 0.016772039265022597, 0.9783689571263181, 0.9911647889566714, 0.9874347173039472, 0.9941032811842152, 0.995368859714464, 0.028413387277191695, 0.0015785215153995386, 0.13890989335515938, 0.014206693638595847, 0.004735564546198615, 0.10260389850097, 0.03157043030799077, 0.10418242001636954, 0.4988127988662542, 0.07419051122377832, 0.06102765767561241, 0.008718236810801772, 0.0029060789369339244, 0.9270391808819218, 0.01612897994830642, 0.00474381763185483, 0.000948763526370966, 0.9772264321620949, 0.04598071701993951, 0.006568673859991359, 0.932751688118773, 0.006568673859991359, 0.9178607607277565, 0.06196528342465866, 0.017427735963185247, 0.9839511744601431, 0.9914390874888558, 0.0018671169255910654, 0.003734233851182131, 0.9906887014952861, 0.060636496205184215, 0.05053041350432018, 0.003368694233621345, 0.848910946872579, 0.030318248102592107, 0.9869183804673118, 0.0051401998982672495, 0.9890273435371154, 0.0010625221875479257, 0.24544262532357086, 0.0031875665626437772, 0.023375488126054368, 0.7214525653450417, 0.004250088750191703, 0.9641486623474977, 0.01125465364607974, 0.0018757756076799568, 0.020633531684479525, 0.9820469592561238, 0.9893554407057142, 0.006279808027246074, 0.9098744075032089, 0.004186538684830716, 0.07814872211684003, 0.9969938665645801, 0.08509757326096086, 0.006545967173920066, 0.012000939818853454, 0.004363978115946711, 0.020728896050746876, 0.0021819890579733553, 0.7735151210515544, 0.005454972644933388, 0.03382083039858701, 0.05454972644933388, 0.995131441757831, 0.8686953687307509, 0.059705715269532195, 0.0013673064565541725, 0.00045576881885139083, 0.0013673064565541725, 0.0009115376377027817, 0.00045576881885139083, 0.06654224755230306, 0.00045576881885139083, 0.9941780624925153, 0.9905534028573556, 0.9938596871897357, 0.003321453307830662, 0.023250173154814632, 0.01660726653915331, 0.943292739423908, 0.003321453307830662, 0.003321453307830662, 0.003321453307830662, 0.010543631341678046, 0.06709583581067848, 0.0038340477606101987, 0.0019170238803050993, 0.0019170238803050993, 0.9077108073244645, 0.0009585119401525497, 0.0009585119401525497, 0.002875535820457649, 0.0019170238803050993, 0.021041905514987264, 0.10220354107279528, 0.7565066030388278, 0.006011973004282075, 0.018536916763203064, 0.004007982002854717, 0.0015029932510705188, 0.0030059865021410375, 0.003506984252497877, 0.02354689426677146, 0.01252494375892099, 0.03857682677747665, 0.009017959506423113, 0.9777176544466084, 0.002339037450829207, 0.018712299606633655, 0.979655099394548, 0.015204166053717764, 0.004054444280991404, 0.022380580503727536, 0.004069196455223189, 0.02441517873133913, 0.89318862192149, 0.04069196455223189, 0.0020345982276115944, 0.012207589365669565, 0.997020841593701, 0.22079618316629615, 0.13964886798552065, 0.04717867161672995, 0.5869026749121206, 0.003774293729338396, 0.9820556301842399, 0.007413958440837943, 0.9786425141906085, 0.99066254961863, 0.9889237152151361, 0.21222618554921852, 0.17044563895339923, 0.032997136231925475, 0.06338298830161225, 0.024451115337326072, 0.00023738946929442788, 0.049851788551829854, 0.07881330380575005, 0.10278964020448728, 0.009258189302482686, 0.11940690305509723, 0.0009495578771777115, 0.11465911366920867, 0.017566820727787664, 0.0028486736315331347, 0.024520476733209635, 0.35610419619365813, 0.04848366990430087, 0.0685458781405633, 0.04179626715888006, 0.2831000495561476, 0.031207879478630445, 0.07857698225869451, 0.005572835621184008, 0.013374805490841619, 0.02117677536049923, 0.027306894543801637, 0.008913909958299075, 0.9805300954128983, 0.9906022316482261, 0.9200579763933396, 0.07438766617648278, 0.004747855492257562, 0.014243566476772685, 0.9780582314050577, 0.979283958535815, 0.009695880777582327, 0.9843836196856938, 0.993191463780856, 0.9981397778816417, 0.8552652540613659, 0.01596968316712094, 0.005323227722373647, 0.026616138611868234, 0.07629959735402227, 0.014195273926329724, 0.005323227722373647, 0.9880890772308567, 0.9849827602546101, 0.001363245574602489, 0.17722192469832357, 0.002726491149204978, 0.8165840991868909, 0.001363245574602489, 0.0036575959324216204, 0.0036575959324216204, 0.943659750564778, 0.021945575594529722, 0.007315191864843241, 0.018287979662108104, 0.00023270380749903412, 0.7479100373018956, 0.1391568768844224, 0.011635190374951705, 0.10076074864708177, 0.00042364649928436344, 0.00021182324964218172, 0.00021182324964218172, 0.7261300997733989, 0.00021182324964218172, 0.13662599601920722, 0.01864044596851199, 0.11735008030176867, 0.00021182324964218172, 0.1332422445392479, 0.02547278204426798, 0.7720212404185834, 0.0019594447726359984, 0.05682389840644395, 0.0019594447726359984, 0.007837779090543994, 0.9856148804713746, 0.9825369926141617, 0.008695017633753644, 0.010477451592266573, 0.9848804496730578, 0.02664059697977573, 0.25974582055281337, 0.7081958697123715, 0.002220049748314644, 0.9896238870164489, 0.0019735511692911887, 0.05723298390944448, 0.834812144610173, 0.0019735511692911887, 0.04736522806298853, 0.0177619605236207, 0.0019735511692911887, 0.021709062862203077, 0.011841307015747133, 0.9769487823495442, 0.8641500379020715, 0.002397087483778284, 0.001198543741889142, 0.03236068103100684, 0.0035956312256674263, 0.005992718709445711, 0.08749369315790737, 0.001198543741889142, 0.001198543741889142, 0.9878541370906, 0.0013241302952216023, 0.23834345313988842, 0.19861954428324036, 0.014565433247437625, 0.04899282092319929, 0.0013241302952216023, 0.0013241302952216023, 0.48198342746066325, 0.010593042361772819, 0.00291423550496054, 0.0024285295874671166, 0.9864687184291427, 0.0038856473399473865, 0.0004857059174934233, 0.0009714118349868466, 0.0004857059174934233, 0.0009714118349868466, 0.0004857059174934233, 0.8542716425988087, 0.14194846025055732, 0.9777084471923436, 0.008808184208940032, 0.9859833468104665, 0.9848337019651415, 0.05621305783867236, 0.15716712089587986, 0.6642318467059448, 0.004588821048054886, 0.10898449989130356, 0.005736026310068608, 0.0011472052620137216, 0.9914968660174748, 0.0016663812874243274, 0.0033327625748486548, 0.0016663812874243274, 0.9917252663038417, 0.9943419406821667, 0.983057733922364, 0.0028204474900664724, 0.9815157265431325, 0.01128178996026589, 0.0028204474900664724, 0.13905496767109868, 0.060046463312519886, 0.7995660641088175, 0.9915392064540878, 0.9917631301422747, 0.04525643861314571, 0.9423037039808554, 0.0016163013790409183, 0.004848904137122755, 0.004848904137122755, 0.0041241626656067145, 0.037117463990460425, 0.008248325331213429, 0.9361849250927241, 0.008248325331213429, 0.1306984002175266, 0.01211351026406344, 0.024864573699919693, 0.16448871832254566, 0.04590382836908251, 0.009563297576892189, 0.024864573699919693, 0.007013084889720939, 0.0012751063435856253, 0.021676807840955627, 0.0012751063435856253, 0.442461901224212, 0.01211351026406344, 0.0019126595153784378, 0.10073340114326439, 0.9948990054552892, 0.9920775206363095, 0.0055423325175212815, 0.9924985308945841, 0.006212823354582686, 0.002141977233730003, 0.4091176516424306, 0.004283954467460006, 0.5804758303408308, 0.993692951276772, 0.9672409920839783, 0.025793093122239423, 0.989854010675318, 0.09965166339092739, 0.20965674635493814, 0.047237476802192854, 0.027177726379343833, 0.008412153403130234, 0.005823798509859392, 0.0038825323399062617, 0.44325577547263156, 0.028471903825979254, 0.01682430680626047, 0.011647597019718785, 0.03882532339906262, 0.013588863189671917, 0.029766081272614674, 0.014883040636307337, 0.20806225870680992, 0.04678912037904338, 0.017919237591974058, 0.09357824075808675, 0.16824173072464532, 0.030860909186177548, 0.005973079197324686, 0.002986539598662343, 0.05674425237458452, 0.001991026399108229, 0.011946158394649372, 0.3374789746488448, 0.017919237591974058, 0.001880720721564038, 0.9967819824289401, 0.004054058586642073, 0.9891902951406658, 0.9966043350587088, 0.9928592382245525, 0.0015020899931409873, 0.0030041799862819745, 0.9177769858091432, 0.06609195969820343, 0.009012539958845923, 0.010583879803152646, 0.00705591986876843, 0.8890459034648223, 0.0917269582939896, 0.012628974934447718, 0.02946760818037801, 0.0008419316622965146, 0.8621380221916309, 0.08503509789194798, 0.0016838633245930292, 0.0008419316622965146, 0.0058935216360756024, 0.9843895660653752, 0.009544950680629327, 0.008076496729763277, 0.017621447410392604, 0.38106380024974, 0.0022026809262990755, 0.013216085557794452, 0.33260481987116036, 0.0007342269754330251, 0.016887220434959577, 0.02129258228755773, 0.08443610217479788, 0.0014684539508660502, 0.0014684539508660502, 0.10866559236408771, 0.003977006772330722, 0.9942516930826805, 0.9854632670418912, 0.9015594193112899, 0.006166617095152462, 0.002466646838060985, 0.09003260958922595, 0.011260046230702819, 0.01801607396912451, 0.7116349217804182, 0.12836452703001214, 0.015764064722983948, 0.07656831436877917, 0.02927612019982733, 0.006756027738421691, 0.9925404566401096, 0.9963258825360056, 0.0015714919282902298, 0.990202631427595, 0.01045123393850281, 0.5297971665748732, 0.0008039410721925238, 0.067531050064172, 0.17927885909893282, 0.0024118232165775714, 0.1784749180267403, 0.008843351794117762, 0.016882762516043, 0.004823646433155143, 0.9827760743370604, 0.9876817867967592, 0.9891671373869789, 0.9873514385741271, 0.9921427429692493, 0.03967222921650414, 0.7507206451738475, 0.1083357028604536, 0.036620519276773046, 0.0022887824547983154, 0.02517660700278147, 0.0007629274849327718, 0.0015258549698655437, 0.0022887824547983154, 0.011443912273991578, 0.019073187123319294, 0.0015258549698655437, 0.4863375638728632, 0.0017685002322649572, 0.0008842501161324786, 0.5102123170084402, 0.0008842501161324786, 0.9935261971542213, 0.9886949667932657, 0.051822774472380415, 0.0009422322631341893, 0.04899607768297785, 0.03297812920969663, 0.010364554894476083, 0.388199692411286, 0.06501402615625906, 0.0716096519981984, 0.007537858105073515, 0.08291643915580867, 0.08480090368207704, 0.019786877525817977, 0.0037689290525367574, 0.10270331668162663, 0.02920920015715987, 0.9780852888927135, 0.004964899943617835, 0.00992979988723567, 0.1310891404756998, 0.003745404013591423, 0.8614429231260273, 0.9945688355382235, 0.9869818935268428, 0.022631740816468366, 0.010058551473985941, 0.14962095317554086, 0.060351308843915645, 0.0012573189342482427, 0.007543913605489456, 0.5293312713185101, 0.06412326564666038, 0.0025146378684964854, 0.003771956802744728, 0.14962095317554086, 0.9847660739909799, 0.011838399848744846, 0.09056375884289806, 0.017165679780680027, 0.004143439947060696, 0.0029595999621862116, 0.005327279931935181, 0.8559163090642523, 0.002367679969748969, 0.0005919199924372423, 0.0005919199924372423, 0.003551519954623454, 0.0005919199924372423, 0.0005919199924372423, 0.004143439947060696, 0.004577484169185888, 0.1289324707654025, 0.05950729419941654, 0.00381457014098824, 0.7781723087616009, 0.000762914028197648, 0.000762914028197648, 0.002288742084592944, 0.013732452507557663, 0.006866226253778832, 0.988044691114189, 0.005458810448144691, 0.0005993895793673146, 0.005993895793673146, 0.8094756269355584, 0.014085655115131894, 0.022776804015957955, 0.0002996947896836573, 0.0002996947896836573, 0.0011987791587346293, 0.0005993895793673146, 0.031168258127100362, 0.10908890344485127, 0.0044954218452548595, 0.9904918312311175, 0.9864702739205436, 0.912134971083628, 0.014032845708978892, 0.0005847019045407872, 0.05905489235861951, 0.0076011247590302335, 0.0011694038090815744, 0.002923509522703936, 0.0005847019045407872, 0.0011694038090815744, 0.0005847019045407872, 0.0005847019045407872, 0.9922123023347544, 0.9792202861745222, 0.18220631359674105, 0.13703752157065818, 0.002296718238614383, 0.0015311454924095886, 0.04210650104126369, 0.002296718238614383, 0.0030622909848191772, 0.6124581969638355, 0.016842600416505475, 0.0007655727462047943, 0.9911522765365898, 0.9076054996702052, 0.009237715009365956, 0.07621114882726915, 0.9854556183820848, 0.9851337400503452, 0.0018930335957001007, 0.02460943674410131, 0.0009465167978500504, 0.0009465167978500504, 0.002839550393550151, 0.0018930335957001007, 0.028395503935501512, 0.9370516298715499, 0.9823685261773042, 0.0010993230215749794, 0.2891219546742196, 0.030781044604099424, 0.0010993230215749794, 0.07035667338079868, 0.0010993230215749794, 0.0010993230215749794, 0.007695261151024856, 0.052767505035599016, 0.0021986460431499587, 0.0010993230215749794, 0.5408669266148899, 0.9826830276604919, 0.9883828701341668, 0.15386377549027308, 0.00035048696011451725, 0.004906817441603242, 0.315087777142951, 0.3697637429208157, 0.0035048696011451726, 0.010164121843321, 0.021029217606871035, 0.0182253219259549, 0.017524348005725863, 0.00385535656125969, 0.00035048696011451725, 0.081312974746568, 0.12783810164429155, 0.8114940365246333, 0.001852726110786834, 0.05558178332360502, 0.001852726110786834, 0.9953090945283926, 0.998905740496845, 0.9976646002723119, 0.9964700569906302, 0.0012941169571306886, 0.5266354286894596, 0.01886984845549207, 0.13531455430904143, 0.12311097710278303, 0.010859570906009681, 0.0003763217640696424, 0.04386836564011832, 0.026396283736884917, 0.003924498396726271, 0.01338630275047728, 0.013762624514546924, 0.00499970343692525, 0.01784840366730304, 0.05940507847099356, 0.00021504100803979568, 0.0008601640321591827, 0.9850623297147568, 0.9856420645597955, 0.9873950151030748, 0.17131113232120668, 0.08114737846794, 0.05655726378068546, 0.0016393409791503031, 0.5926217639628346, 0.09508177679071758, 0.9834524869139893, 0.0013398007929988848, 0.08976665313092527, 0.907045136860245, 0.6750366771997773, 0.30548269968193315, 0.0045765198454222195, 0.0011441299613555549, 0.011441299613555549, 0.0011441299613555549, 0.6854988105260386, 0.003253214694021878, 0.0009294899125776795, 0.00046474495628883974, 0.3085906509757896, 0.00046474495628883974, 0.004308912115886157, 0.9932042427117592, 0.9945179666825172, 0.03217393991670835, 0.016086969958354173, 0.005027178111985679, 0.008043484979177087, 0.004021742489588543, 0.005027178111985679, 0.2503534699768868, 0.615326600907047, 0.0020108712447942717, 0.037201118028694025, 0.008043484979177087, 0.016086969958354173, 0.0010054356223971358, 0.9900735479355155, 0.9971834303582139, 0.0030299117578980865, 0.9938110565905725, 0.03988776317264519, 0.18448090467348402, 0.03722857896113551, 0.0568400625210194, 0.004321174343703229, 0.21672351323803887, 0.1904640691493808, 0.0073127565816516185, 0.18780488493787112, 0.0036563782908258092, 0.0026591842115096793, 0.06049644081184521, 0.0019943881586322594, 0.0023267861850709694, 0.0036563782908258092, 0.0003323980264387099, 0.9858422302382263, 0.002424393099581509, 0.09758182225815573, 0.7364094039978832, 0.0012121965497907544, 0.020607341346442824, 0.015758555147279807, 0.00848537584853528, 0.0478817637167348, 0.0012121965497907544, 0.033335405119245744, 0.035153699943931874, 0.0007638400110461234, 0.04201120060753679, 0.0007638400110461234, 0.005346880077322864, 0.18714080270630024, 0.0061107200883689875, 0.0011457600165691853, 0.0007638400110461234, 0.0019096000276153087, 0.032463200469460246, 0.7214468904330636, 0.0033080417226717647, 0.29441571331778704, 0.7002021646321902, 0.005533389461852652, 0.0023714526265082793, 0.22884517845804897, 0.002766694730926326, 0.06679591564664987, 0.00039524210441804655, 0.00039524210441804655, 0.009090568401615071, 0.003557178939762419, 0.009881052610451165, 0.0015809684176721862, 0.6679591564664987, 0.975653144413115, 0.014561987230046492, 0.9886207820123896, 0.0013678988269170624, 0.0054715953076682495, 0.7372974677082966, 0.0041036964807511876, 0.0013678988269170624, 0.013678988269170625, 0.23391069940281767, 0.6830503325432967, 0.0029340650023337487, 0.09486810174212454, 0.08371865473325629, 0.008997799340490163, 0.00019560433348891657, 0.04674943570385106, 0.00743296467257883, 0.0013692303344224161, 0.01486592934515766, 0.009780216674445829, 0.0013692303344224161, 0.019169224681913823, 0.025232959020070236, 0.00039120866697783314, 0.967613841633399, 0.004697154571035918, 0.0009394309142071835, 0.017849187369936487, 0.007515447313657468, 0.986294831982816, 0.011376278788710885, 0.043338204909374796, 0.027628105629726434, 0.0032503653682031098, 0.0027086378068359247, 0.8965591140626912, 0.0016251826841015549, 0.000541727561367185, 0.000541727561367185, 0.0048755480523046645, 0.007042458297773405, 0.991212090100212, 0.03527993459186715, 0.03527993459186715, 0.003207266781078832, 0.006414533562157664, 0.917278299388546, 0.003410981044802661, 0.013643924179210645, 0.003410981044802661, 0.9789515598583638, 0.08218987924271141, 0.001141526100593214, 0.001141526100593214, 0.03881188742016928, 0.16437975848542283, 0.001141526100593214, 0.03082120471601678, 0.006849156603559284, 0.04223646572194892, 0.5319511628764377, 0.09588819244982998, 0.001141526100593214, 0.001141526100593214, 0.019093087401348095, 0.012728724934232064, 0.9482900076002887, 0.006364362467116032, 0.006364362467116032, 0.9950111532202712, 0.22235763530589486, 0.7718986482761778, 0.9982396926121875, 0.004967549235648607, 0.923964157830641, 0.0695456892990805, 0.9918132902105613, 0.39165842274901397, 0.0015006069837126973, 0.0015006069837126973, 0.08253338410419835, 0.0015006069837126973, 0.520710623348306, 0.9807255573173648, 0.9622868881350436, 0.03547601430912603, 0.9811739547602101, 0.01775582894003061, 0.988316410861994, 0.006769290485356123, 0.8394674038450968, 0.15535135317337104, 0.001425241772232762, 0.9955233371554709, 0.016603271783819408, 0.024904907675729112, 0.008301635891909704, 0.9463864916777063, 0.023832792062528745, 0.004766558412505749, 0.01668295444377012, 0.9509284032948969, 0.2334198675063163, 0.6201258638691862, 0.008499032887096043, 0.023675877328338975, 0.002731831999423728, 0.0036424426658983036, 0.0012141475552994345, 0.002731831999423728, 0.0006070737776497173, 0.016390991996542367, 0.00455305333237288, 0.01123086488651977, 0.0704205582073672, 0.9900180258566672, 0.005977595733655816, 0.9922808917868654, 0.27223531312248805, 0.007632765788480973, 0.06869489209632876, 0.6513293472837097, 0.9935675493983781, 0.015511438050113617, 0.40329738930295406, 0.003323879582167204, 0.00886367888577921, 0.5683834085505919, 0.022762697001324703, 0.973105296806631, 0.0047708457323028235, 0.9923359123189872, 0.9851870653357637, 0.010104482721392449, 0.9915900448057405, 0.9857093576008324, 0.0006593241076761519, 0.9988760231293702, 0.9954254846515821, 0.007207165048810917, 0.08408359223612737, 0.9057004078005719, 0.9948961525073486, 0.9711015420055285, 0.02638862885884588, 0.005804511910584024, 0.005804511910584024, 0.9809625128887001, 0.9977073949691556, 0.9931977720488494, 0.936131754848888, 0.0034290540470655237, 0.0034290540470655237, 0.030861486423589716, 0.024003378329458668, 0.9934869366904298, 0.99503465964463, 0.001265627059561517, 0.025312541191230338, 0.972001581743245, 0.029370848788869586, 0.13216881954991314, 0.02097917770633542, 0.40280021196164006, 0.41328980081480776, 0.004245577320106901, 0.8873256599023422, 0.10613943300267252, 0.012467647142131517, 0.9849441242283898, 0.01089608704359334, 0.9860958774451971, 0.9954406982028353, 0.950428731833174, 0.002273752946969316, 0.038653800098478366, 0.006821258840907948, 0.20301667930237044, 0.2352044433370244, 0.19762208197812675, 0.10483500800113549, 0.008811175629598008, 0.0005394597324243678, 0.09566419254992123, 0.003956038037778698, 0.06311678869365105, 0.007192796432324905, 0.027872086175259006, 0.014745232686266055, 0.008631355718789886, 0.00971027518363862, 0.018341630902428508, 0.0008990995540406131, 0.446050161028074, 0.5511115625925377, 0.0019859313950771557, 0.9300778700278013, 0.004633839921846697, 0.058253987588929905, 0.002647908526769541, 0.0006619771316923853, 0.0006619771316923853, 0.9907615098918355, 0.007731401979050166, 0.0015462803958100333, 0.0046388411874300995, 0.08659170216536187, 0.0030925607916200666, 0.13761895522709297, 0.0046388411874300995, 0.6741782525731745, 0.06649005701983143, 0.007731401979050166, 0.0015462803958100333, 0.0015462803958100333, 0.6887780671384799, 0.0010596585648284306, 0.3094203009299017, 0.9852513901927411, 0.994354037136337, 0.98607162403449, 0.9871569937741494, 0.9834922176022588, 0.9974537119257069, 0.0006398035355520891, 0.0006398035355520891, 0.9970326605175018, 0.0014162395745987242, 0.9934835682198438, 0.9826140266738005, 0.9921372582021822, 0.9968478335348466, 0.15890671100463258, 0.012359410855915865, 0.06179705427957933, 0.005296890366821086, 0.678001966953099, 0.022953191589558036, 0.05296890366821085, 0.00706252048909478, 0.9791957465069905, 0.9908576024002559, 0.24819658785126955, 0.13198413869014, 0.004150444612897484, 0.5727613565798528, 0.03818409043865686, 0.0008300889225794968, 0.0008300889225794968, 0.0008300889225794968, 0.0008300889225794968, 0.028961604100683977, 0.9629733363477422, 0.003620200512585497, 0.0025471970035370983, 0.32349401944921147, 0.005094394007074197, 0.005094394007074197, 0.03820795505305648, 0.6113272808489036, 0.012735985017685492, 0.997226837949378, 0.000996230607342036, 0.000996230607342036, 0.9850781726324708, 0.008874578131824061, 0.9839009359027932, 0.9858325958538344, 0.05501127064547808, 0.0019302200226483537, 0.012546430147214299, 0.023162640271780246, 0.01544176018118683, 0.0009651100113241769, 0.05308105062282973, 0.024127750283104422, 0.7537509188441821, 0.057906600679450616, 0.0019302200226483537, 0.0009651100113241769, 0.07761011375792172, 0.9196798480313725, 0.003964572581436071, 0.05946858872154106, 0.05946858872154106, 0.0019822862907180354, 0.8702236816252175, 0.0019822862907180354, 0.9797381797795744, 0.009700378017619549, 0.9899659402100406, 0.9860652541873958, 0.99638211994668, 0.9834626114087659, 0.0004195882757789979, 0.9990396846297941, 0.005531850881535673, 0.022127403526142692, 0.05070863308074367, 0.0009219751469226122, 0.0009219751469226122, 0.8703445386949459, 0.03134715499536882, 0.010141726616148735, 0.007375801175380898, 0.0038471349479136997, 0.0038471349479136997, 0.9887136816138209, 0.991274599087047, 0.9908102475641626, 0.0031029570877876248, 0.9960492251798275, 0.9919694914309863, 0.9873926134173013, 0.29514150685232643, 0.0007519528837001947, 0.031957997557258276, 0.02255858651100584, 0.0015039057674003894, 0.001127929325550292, 0.6350242102848145, 0.010527340371802725, 0.0015039057674003894, 0.06398133226035253, 0.0037636077800207368, 0.9258475138851013, 0.23919556950536827, 0.00703516380898142, 0.7513554947992156, 0.001807994148025919, 0.01988793562828511, 0.9745088457859703, 0.1663947165975968, 0.017384522629599667, 0.08775044755893165, 0.019868025862399618, 0.014073184985866396, 0.021523694684266254, 0.6332933243639879, 0.0008278344109333175, 0.0008278344109333175, 0.01655668821866635, 0.020695860273332936, 0.9883688093297043, 0.005242640112764431, 0.9908589813124775, 0.9945003212496832, 0.014151022172318065, 0.9764205298899465, 0.010153514245797121, 0.14609778831452525, 0.002256336499066027, 0.009025345996264108, 0.006769009497198082, 0.0005640841247665068, 0.0005640841247665068, 0.6926953052132703, 0.014102103119162669, 0.005640841247665068, 0.0011281682495330135, 0.053023907728051635, 0.0417422252327215, 0.009025345996264108, 0.006204925372431574, 0.003214923925316005, 0.23951183243604238, 0.00642984785063201, 0.004822385887974008, 0.7201429592707851, 0.0016074619626580025, 0.022504467477212034, 0.993941511395669, 0.0018690826618885104, 0.010279954640386807, 0.0009345413309442552, 0.9691193601891926, 0.011214495971331062, 0.0018690826618885104, 0.0018690826618885104, 0.0009345413309442552, 0.0009345413309442552, 0.9942715634343284, 0.9887744867027537, 0.15643429589539692, 0.10105932389702633, 0.08583120659747442, 0.6506559209808545, 0.001384374299959265, 0.001384374299959265, 0.001384374299959265, 0.001384374299959265, 0.001384374299959265, 0.9963366209914949, 0.016387117419923873, 0.9832270451954322, 0.006545561210801458, 0.13745678542683062, 0.7691034422691713, 0.08181951513501823, 0.053610006142814436, 0.010211429741488464, 0.005105714870744232, 0.002552857435372116, 0.007658572306116348, 0.7837272326592396, 0.08935001023802405, 0.043398576401325974, 0.002317221813677699, 0.9763227908295372, 0.007724072712258997, 0.0015448145424517994, 0.010813701797162597, 0.0044238389568006155, 0.9909399263233378, 0.8459740350242303, 0.016190890622473305, 0.13559870896321394, 0.979055133064914, 0.015410536758890012, 0.05239582498022605, 0.8136763408693927, 0.11712007936756409, 0.03832809212825101, 0.07960449903559824, 0.07960449903559824, 0.002948314779096231, 0.05896629558192462, 0.7429753243322502, 0.000837781354620622, 0.7305453412291825, 0.000837781354620622, 0.002513344063861866, 0.005026688127723732, 0.000837781354620622, 0.2580366572231516, 0.9939217060769884, 0.9750998172977339, 0.022618294731133002, 0.9818509995176895, 0.009673408862243247, 0.10490273315194995, 0.6160651419650879, 0.1754736627268981, 0.10108808831006086, 0.010375607149122043, 0.10836745244638579, 0.23402758347464164, 0.0876162381481417, 0.5280031193664328, 0.01959836905945275, 0.011528452387913382, 0.9908700710943609, 0.9846970547940089, 0.9862241446366083, 0.9912447168331262, 0.049006300597425584, 0.006272806476470475, 0.14858710341139436, 0.12035947426727724, 0.03175608278713178, 0.3085436685613915, 0.005880756071691071, 0.0168581674055144, 0.1670134724360264, 0.11173436536213033, 0.013721764167279164, 0.007056907286029284, 0.002744352833455833, 0.0031364032382352374, 0.007448957690808689, 0.99514524524156, 0.9599544604777644, 0.030378305711321663, 0.9923437320003189, 0.9892610044892775, 0.018886342768190945, 0.0031477237946984904, 0.7900786724693212, 0.18256798009251246, 0.0031477237946984904, 0.024095754280004524, 0.026505329708004975, 0.004819150856000905, 0.012047877140002262, 0.12288834682802308, 0.06505853655601221, 0.7421492318241394, 0.9962531430914088, 0.6790811824287388, 0.18341742547914489, 0.10590172780641104, 0.030569570913190815, 0.992731634959048, 0.9939011584519393, 0.007744347694387595, 0.9835321571872245, 0.9872381696741566, 0.021614306459521147, 0.04683099732896249, 0.0036023844099201912, 0.9276139855544493, 0.9902269855201841, 0.992024011801476, 0.0050421022453921455, 0.6466496129715427, 0.05420259913796556, 0.26218931676039153, 0.030252613472352873, 0.012870948280937666, 0.9846275434917314, 0.9807749510798772, 0.9922676177549453, 0.9988755057377465, 0.37323439214521226, 0.006233559785306259, 0.043634918497143814, 0.09856816410515522, 0.17648766142148345, 0.024934239141225036, 0.008181547218214465, 0.16596852928377914, 0.005064767325561335, 0.019090276842500416, 0.022596654221735187, 0.01012953465112267, 0.0011687924597449234, 0.010519132137704312, 0.0015583899463265647, 0.03272618887285786, 0.926096378240477, 0.002842966625450428, 0.009239641532713892, 0.000710741656362607, 0.04335524103811903, 0.009239641532713892, 0.003553708281813035, 0.000710741656362607, 0.000710741656362607, 0.000710741656362607, 0.002842966625450428, 0.9937880127501271, 0.9841895629634276, 0.01447337592593276, 0.9940927227231375, 0.995493693404747, 0.0025236813638138287, 0.9817120505235793, 0.015142088182882972, 0.9674743262341002, 0.02614795476308379, 0.9913369344959391, 0.0030447138037866532, 0.992576700034449, 0.9904699438068371, 0.9854222010864312, 0.0062799825419001245, 0.9419973812850186, 0.0062799825419001245, 0.04395987779330087, 0.9897990900572361, 0.8097146787044447, 0.04464592213407966, 0.14002584669324983, 0.002029360097003621, 0.004058720194007242, 0.9811655738730412, 0.007665356045883134, 0.007645189104117705, 0.0005880914695475158, 0.020289155699389293, 0.002940457347737579, 0.4763540903334878, 0.005880914695475158, 0.006763051899796432, 0.002058320143416305, 0.004998777491153884, 0.0014702286738687894, 0.006174960430248916, 0.0005880914695475158, 0.31168847886018336, 0.04293067727696865, 0.05528059813746648, 0.05381036946359769, 0.19107254868771076, 0.0029395776721186273, 0.6349487771776234, 0.16461634963864313, 0.0029395776721186273, 0.9736946831286877, 0.008047063496931304, 0.012070595245396954, 0.0059109158421476096, 0.9871229456386508, 0.997782274296818, 0.9830459720301487, 0.08948963035632787, 0.8734187922777601, 0.0017897926071265575, 0.03579585214253115, 0.006574934815586714, 0.9862402223380071, 0.9976753585719783, 0.9932824286274031, 0.0036341190540795858, 0.039248485784059525, 0.0003634119054079586, 0.029072952432636686, 0.12973805023064122, 0.0036341190540795858, 0.018897419081213847, 0.6450561320991265, 0.0007268238108159172, 0.049787431040890326, 0.0010902357162238757, 0.05560202152741767, 0.016716947648766096, 0.0036341190540795858, 0.0014536476216318343, 0.017826171147035826, 0.04456542786758957, 0.2347112534359717, 0.6981917032589031, 0.2777023535314778, 0.20262695864572658, 0.0022982263740536097, 0.02566352784359864, 0.022982263740536094, 0.15321509160357397, 0.0003830377290089349, 0.08580045129800142, 0.08618348902701035, 0.0022982263740536097, 0.0003830377290089349, 0.016853660076393138, 0.02336530146954503, 0.010342018683241243, 0.03485643333981308, 0.054774395248277694, 0.9929047151477801, 0.05928101353834929, 0.7232283651678614, 0.08664148132527973, 0.033744576937214214, 0.0009120155928976814, 0.0018240311857953629, 0.07478527861760988, 0.0072961247431814515, 0.010944187114772177, 0.010922977714616179, 0.0054614888573080896, 0.9830679943154561, 0.9896140550200934, 0.0054077270766125325, 0.9921729742507857, 0.0042473676756958675, 0.9853893007614413, 0.9794626879515768, 0.014059273032797753, 0.988598169054769, 0.002653519344786818, 0.3953743823732359, 0.001326759672393409, 0.5572390624052318, 0.001326759672393409, 0.037149270827015454, 0.001326759672393409, 0.17050907518929492, 0.022270573085948726, 0.08212273825443593, 0.0006959554089358977, 0.002087866226807693, 0.3618968126466668, 0.05010878944338463, 0.0006959554089358977, 0.19417155909311545, 0.09186611397953849, 0.0013919108178717954, 0.0034797770446794883, 0.019486751450205134, 0.9836627307293487, 0.9863657102567113, 0.9884002760293705, 0.9904596664983231, 0.0062314622373814315, 0.9908024957436475, 0.003006982912483692, 0.15485961999291015, 0.24657259882366275, 0.043601252231013535, 0.1112583677618966, 0.040594269318529844, 0.3924112700791218, 0.004510474368725538, 0.004822183761364846, 0.9933698548411583, 0.9967651965880129, 0.9980350031404943, 0.996156649623289, 0.9926514954133612, 0.9915583479386939, 0.9843045380039781, 0.982553079021505, 0.9826280126023933, 0.9925321630617623, 0.035771846101275644, 0.32110492441498023, 0.045030441562782283, 0.06901862071304948, 0.008416904965006035, 0.13944005892026665, 0.33176633737065453, 0.010240567707424009, 0.005751551726087456, 0.0063126787237545254, 0.004489015981336552, 0.008697468463839569, 0.0015430992435844395, 0.010240567707424009, 0.0019639444918347414, 0.0004208452482503017, 0.01965232670034396, 0.9760655594504166, 0.002882164014772043, 0.2680412533738, 0.7263053317225548, 0.9795378260296305, 0.009154559121772246, 0.009154559121772246, 0.006801714316477298, 0.2843448375229778, 0.15461457909650833, 0.01775081541129441, 0.039151331187527866, 0.27405931831269503, 0.010285519210282744, 0.0019907456536031117, 0.06187901073283005, 0.0013271637690687411, 0.007133505258744483, 0.0768096031348534, 0.037326481005058344, 0.008460669027813224, 0.01625775617109208, 0.0016589547113359264, 0.0008963142666988269, 0.14484438549853043, 0.2267675094748032, 0.017388496773957242, 0.006094937013552023, 0.4022658428944335, 0.0035852570667953077, 0.0026889428000964805, 0.10791623771053875, 0.0007170514133590615, 0.0030474685067760116, 0.062383472962238354, 0.012906925440463107, 0.002868205653436246, 0.0025096799467567155, 0.002868205653436246, 0.008964385954734881, 0.9771180690661021, 0.008964385954734881, 0.9424154053850033, 0.05451989948508284, 0.23895295058396718, 0.75825227626251, 0.0005631959249656829, 0.5034971569193205, 0.49504921804483526, 0.0005631959249656829, 0.9936955707503968, 0.003215843271036883, 0.07658719217987323, 0.9219919673961661, 0.9902961486929887, 0.007327303986372648, 0.9818587341739349, 0.012072357854153882, 0.05030149105897451, 0.08383581843162419, 0.1944990987613681, 0.03353432737264967, 0.0013413730949059868, 0.018779223328683817, 0.05633766998605145, 0.005365492379623947, 0.0013413730949059868, 0.505697656779557, 0.006036178927076941, 0.0006706865474529934, 0.030180894635384706, 0.0024121620337464733, 0.0012060810168732367, 0.9950168389204203, 0.0029237949216518416, 0.9823950936750188, 0.0014618974608259208, 0.005847589843303683, 0.005847589843303683, 0.9991572518539349, 0.018577011500489064, 0.27931863720378197, 0.02255779967916529, 0.025211658464949445, 0.000663464696446038, 0.17250082107596987, 0.000663464696446038, 0.038480952393870206, 0.2746743843286597, 0.000663464696446038, 0.001326929392892076, 0.004644252875122266, 0.05639449919791323, 0.020567405589827177, 0.08293308705575475, 0.9913999606079236, 0.0012597398173675375, 0.0201558370778806, 0.0201558370778806, 0.002519479634735075, 0.002519479634735075, 0.00503895926947015, 0.9347269444867129, 0.0012597398173675375, 0.011337658356307838, 0.9956225339165391, 0.9895616820331633, 0.9432986946658231, 0.00853663977073143, 0.004268319885365715, 0.04268319885365715, 0.0014378668176265978, 0.3292715012364909, 0.04026027089354474, 0.005751467270506391, 0.024443735899652163, 0.0014378668176265978, 0.5909632620445318, 0.0043136004528797935, 0.9859493394548293, 0.010716840646248145, 0.9845834104874164, 0.9887580471358727, 0.9911891451711835, 0.0094149661372274, 0.0094149661372274, 0.9697415121344222, 0.9931124547618891, 0.005060445629359945, 0.36217219908883613, 0.007129373997811735, 0.0014258747995623468, 0.628810786606995, 0.9932912856754658, 0.996495263879265, 0.07159208264710017, 0.15094716220774132, 0.25100356687115843, 0.003881498456770491, 0.01681982664600546, 0.05520353360740254, 0.037952429355089246, 0.021563880315391616, 0.0004312776063078323, 0.06253525291463569, 0.024151545953238613, 0.0056066088820018204, 0.2971502707460965, 0.0008625552126156646, 0.05745726200499998, 0.374808418427965, 0.02605620021156976, 0.000668107697732558, 0.23250147881093017, 0.04543132344581394, 0.000668107697732558, 0.2618982175111627, 0.07866000469314278, 0.10654978260499719, 0.0074462999279222945, 0.3155877296724885, 0.08089389467151947, 0.16957255744950317, 0.001895421799834766, 0.008190929920714523, 0.02592666247631126, 0.03269602604714971, 0.007310912656505525, 0.05747189671641843, 0.0636997112015898, 0.0016923408927096123, 0.03628378873969409, 0.006160120849462989, 0.15647220788541585, 0.24699670511755437, 0.009830714631544453, 0.11428205759170426, 0.0593939008989144, 0.17162789294238023, 0.13803961795127, 0.004096131096476855, 0.004096131096476855, 0.0282633045656903, 0.0024576786578861132, 0.022119107920975017, 0.017613363714850477, 0.024167173469213446, 0.9951995073826094, 0.1821544243855688, 0.08311730132513884, 0.13896860962298346, 0.04951856153021499, 0.04248217623284874, 0.021373020340749987, 0.09745393636852258, 0.14292657635275197, 0.02357189074617694, 0.07379409080612856, 0.006948430481149173, 0.039051938400382694, 0.01134617129200308, 0.062447919514125476, 0.013457086881212955, 0.01134617129200308, 0.19093862251240318, 0.1861834460896805, 0.09985870487717637, 0.022312750906621825, 0.05852524827966381, 0.10754014371388225, 0.11375845134359652, 0.05194115784820163, 0.0025604796122352916, 0.019020705690890736, 0.001828914008739494, 0.007315656034957976, 0.0007315656034957976, 0.09949292207542847, 0.03767562858003358, 0.10519822111646149, 0.016273757962767522, 0.0017436169245822345, 0.01104290718902082, 0.6968655641913664, 0.0354535441331721, 0.07788155596467314, 0.023829431302623872, 0.02324822566109646, 0.0005812056415274115, 0.006974467698328938, 0.9914757364142058, 0.9951072438265068, 0.0027372186387597834, 0.3777361721488501, 0.5792638944275391, 0.010264569895349188, 0.0027372186387597834, 0.0006843046596899458, 0.023950663089148103, 0.0003421523298449729, 0.0006843046596899458, 0.0003421523298449729, 0.0006843046596899458, 0.9882506251294929, 0.9972110239488092, 0.0013908103541824396, 0.9794869295392138, 0.007672516806789098, 0.9744096344622155, 0.003836258403394549, 0.007672516806789098, 0.9860045392711434, 0.9852614111354427, 0.00483229007455271, 0.2150369083175956, 0.012080725186381775, 0.06523591600646159, 0.002416145037276355, 0.6910174806610375, 0.00483229007455271, 0.018376692622018416, 0.004083709471559649, 0.03675338524403683, 0.11638571993944997, 0.017355765254128505, 0.03777431261192675, 0.0010209273678899121, 0.7279212133055073, 0.03573245787614692, 0.004083709471559649, 0.00496330314220288, 0.00496330314220288, 0.9876973252983732, 0.002356151691186831, 0.08010915750035227, 0.04712303382373663, 0.6502978667675655, 0.01884921352949465, 0.1507937082359572, 0.0376984270589893, 0.014136910147120988, 0.3766703674785876, 0.012496173328673523, 0.0035703352367638637, 0.0017851676183819319, 0.6016014873947111, 0.0017851676183819319, 0.005759263350923267, 0.044017227039199254, 0.329100762909901, 0.0004113759536373762, 0.0004113759536373762, 0.0012341278609121285, 0.0004113759536373762, 0.0037023835827363857, 0.032087324383715345, 0.021391549589143563, 0.5454845145231608, 0.007404767165472771, 0.0008227519072747524, 0.007816143119110148, 0.005206370768990501, 0.0013015926922476252, 0.0013015926922476252, 0.17571501345342938, 0.01822229769146675, 0.0013015926922476252, 0.007809556153485751, 0.020825483075962003, 0.0039047780767428753, 0.7601301322726131, 0.0026031853844952504, 0.06512959571025921, 0.00551945726358129, 0.14350588885311352, 0.003311674358148774, 0.0419478752032178, 0.0419478752032178, 0.006623348716297548, 0.019870046148892644, 0.07837629314285431, 0.002207782905432516, 0.03642841793963651, 0.5320756802092363, 0.023181720507041415, 0.9885436074123214, 0.9749688785043259, 0.023352547988127567, 0.9880757868230972, 0.9920299723459451, 0.9894274655894, 0.050641908650704746, 0.0028938233514688425, 0.7350311312730861, 0.1967799878998813, 0.0028938233514688425, 0.008681470054406528, 0.0014469116757344213, 0.0014469116757344213, 0.9939621943393766, 0.04847962128717902, 0.062221876140237636, 0.00725285672800316, 0.017941277169270974, 0.02252202878695718, 0.00763458602947701, 0.04542578687538821, 0.7439904085725346, 0.000763458602947701, 0.013360525551584767, 0.002290375808843103, 0.0064893981250554586, 0.0003817293014738505, 0.0003817293014738505, 0.02023165297811408, 0.004279847602403811, 0.2864822988859051, 0.668191206925295, 0.00588479045330524, 0.00026749047515023817, 0.0016049428509014292, 0.0008024714254507146, 0.02648155703987358, 0.00026749047515023817, 0.00294239522665262, 0.0005349809503004763, 0.0018724333260516674, 0.036850773115386634, 0.3033927728334744, 0.23505784404668947, 0.04221739055937498, 0.005366617443988344, 0.12378997570799781, 0.00035777449626588965, 0.006082166436520124, 0.006082166436520124, 0.001073323488797669, 0.012164332873040248, 0.21967354070725623, 0.0025044214738612273, 0.005724391940254234, 0.00035777449626588965, 0.9396456602224338, 0.043368261241035405, 0.014456087080345136, 0.9902694446795137, 0.005184656778426774, 0.9927317280752179, 0.004001132340366738, 0.09069233304831273, 0.07602151446696803, 0.8295681052360371, 0.9943751524672602, 0.011817439326609423, 0.029543598316523558, 0.9572125854553633, 0.9902025539671375, 0.9902100475237932, 0.9969409358014798, 0.8121144899364445, 0.05267769664452613, 0.02414394429540781, 0.07462673691307868, 0.03511846442968409, 0.9907185808168716, 0.2628910945045087, 0.08656170184904555, 0.6476097693891556, 0.0016029944786860287, 0.2301360980300672, 0.014779382442297893, 0.5060179036196278, 0.14216358349257974, 0.0007037801162998997, 0.009852921628198596, 0.07600825256038916, 0.0035189005814994984, 0.0007037801162998997, 0.015483162558597793, 0.0007037801162998997, 0.4925386067878623, 0.0013624857725805322, 0.17303569311772757, 0.15804834961934172, 0.004087457317741596, 0.011581129066934523, 0.0047687002040318624, 0.09946146139837884, 0.0068124288629026605, 0.0006812428862902661, 0.047005759154028354, 0.009585901394009345, 0.9873478435829625, 0.9866917753135755, 0.9423148018630371, 0.05670384475105803, 0.9903766439577617, 0.969158624842689, 0.0014530114315482595, 0.02906022863096519, 0.1250858514386241, 0.0028428602599687297, 0.8670723792904625, 0.9936578748861141, 0.9928243250758769, 0.9883846021619529, 0.006678274338932115, 0.007104987837410945, 0.0035524939187054727, 0.9449633823756557, 0.04262992702446567, 0.9839949700606386, 0.006111770000376638, 0.9879157427591692, 0.06882409330687589, 0.07865610663642958, 0.0019664026659107397, 0.11798415995464437, 0.023596831990928872, 0.7079049597278663, 0.9982130942885644, 0.9929909386350371, 0.10760231118909609, 0.0038429396853248603, 0.8877190673100427, 0.0037061275225487543, 0.007412255045097509, 0.8968828604567985, 0.0889470605411701, 0.983433312662322, 0.00831070405066751, 0.002770234683555837, 0.9891812026104301, 0.0063995883324335975, 0.02559835332973439, 0.11199279581758796, 0.8511452482136684, 0.9846211289900079, 0.9968466673753315, 0.9861040653339138, 0.9887411796016095, 0.9915033865263441, 0.05498970307399401, 0.17504355864011836, 0.0004197687257556795, 0.0860525887799143, 0.10158403163287444, 0.013432599224181744, 0.10536195016467555, 0.13642483587059584, 0.014272136675693103, 0.16916679647953883, 0.018469823933249897, 0.0020988436287783974, 0.02686519844836349, 0.07597813936177798, 0.019729130110516937, 0.9963056706873024, 0.006745186847389948, 0.9915424665663224, 0.7619010027374243, 0.020522585932321195, 0.012826616207700746, 0.059002434555423436, 0.08294545147646483, 0.011116400713340647, 0.016247047196420946, 0.012826616207700746, 0.003420430988720199, 0.0008551077471800497, 0.0025653232415401494, 0.013681723954880796, 0.013182707436549923, 0.0021971179060916537, 0.9502534943846402, 0.0021971179060916537, 0.0032956768591374808, 0.02416829696700819, 0.0010985589530458268, 0.0021971179060916537, 0.9901804907044827, 0.9913653366966237, 0.0002998685228967404, 0.0005997370457934808, 0.0014993426144837018, 0.0017992111373804423, 0.0035984222747608846, 0.02439780997625475, 0.018588807600956, 0.520486612826768, 0.0255596104513145, 0.009294403800478, 0.02207420902613525, 0.0023236009501195, 0.00116180047505975, 0.027883211401434002, 0.06622262707840575, 0.019750608076015752, 0.26140510688844376, 0.9359994368636082, 0.0008571423414501907, 0.0008571423414501907, 0.06171424858441373, 0.8644484551031765, 0.0029740199143457905, 0.008922059743037372, 0.01586143954317755, 0.0019826799428971937, 0.0009913399714485968, 0.0019826799428971937, 0.09814265717341109, 0.0019826799428971937, 0.0019826799428971937, 0.3437737346620486, 0.0030970606726310685, 0.01858236403578641, 0.19821188304838838, 0.022711778265961168, 0.002064707115087379, 0.18995305458803888, 0.0030970606726310685, 0.2178266006417185, 0.9833686043185275, 0.0075066305673170035, 0.9896534701731962, 0.9924093929966913, 0.9917648466481459, 0.0036649082491251074, 0.01465963299650043, 0.6727724428751091, 0.16073240464020114, 0.1471198882863079, 0.0005235583213035868, 0.0026849753672292193, 0.9961258612420403, 0.07143199483383583, 0.7143199483383583, 0.01879789337732522, 0.06391283748290574, 0.12531928918216814, 0.0050127715672867255, 0.006742195920672869, 0.02022658776201861, 0.006742195920672869, 0.08427744900841086, 0.798950216599735, 0.08090635104807443, 0.011922246490263876, 0.02384449298052775, 0.3748884174160752, 0.007948164326842583, 0.0039740821634212916, 0.02914326919842281, 0.001324694054473764, 0.5113319050268729, 0.007948164326842583, 0.026493881089475278, 0.004942071332293084, 0.009884142664586168, 0.024710356661465416, 0.9538197671325651, 0.008714081376512984, 0.9846911955459672, 0.9915396280806683, 0.18276350509714093, 0.8139744995530073, 0.9809640239460626, 0.9880389900829393, 0.007542282367045338, 0.9795031545616154, 0.022211555450136502, 0.9439911066308013, 0.029615407266848668, 0.006779881943943008, 0.9830828818717362, 0.16728731860855517, 0.19021187708454237, 0.30049759083388616, 0.0030979133075658364, 0.05762118752072456, 0.1418844294865153, 0.01796789718388185, 0.0006195826615131673, 0.03655537702927687, 0.010532905245723844, 0.005576243953618506, 0.06505617945888256, 0.0006195826615131673, 0.002478330646052669, 0.7560996615143304, 0.0007699589221123528, 0.0023098767663370583, 0.0007699589221123528, 0.0046197535326741165, 0.23560743016637994, 0.989996795760621, 0.0009210585409901623, 0.5461877148071662, 0.010131643950891785, 0.026710697688714705, 0.005526351245940974, 0.1390798396895145, 0.0009210585409901623, 0.26987015251011753, 0.003487767606126873, 0.009882008217359475, 0.0011625892020422912, 0.020926605636761242, 0.003487767606126873, 0.00930071361633833, 0.0017438838030634366, 0.8515965904959782, 0.0005812946010211456, 0.07498700353172778, 0.0011625892020422912, 0.0005812946010211456, 0.019182721833697805, 0.0023251784040845824, 0.993371540551325, 0.997612121530371, 0.9897090502957312, 0.9010137028107084, 0.019658480788597273, 0.003276413464766212, 0.07208109622485666, 0.8994534903799137, 0.02976914625370873, 0.06591739527606932, 0.0021263675895506237, 0.8314378174005557, 0.049094423503651854, 0.02533905729220741, 0.08710300944196298, 0.004751073242288889, 0.8871303106347814, 0.0015747209774168809, 0.00022496013963098298, 0.042629946460071275, 0.00022496013963098298, 0.00011248006981549149, 0.008885925515423828, 0.04994115099807822, 0.00044992027926196596, 0.00224960139630983, 0.0003374402094464745, 0.0003374402094464745, 0.00011248006981549149, 0.0056240034907745744, 0.00011248006981549149, 0.9861226565107196, 0.004381749745230639, 0.14897949133784175, 0.001460583248410213, 0.8412959510842828, 0.001460583248410213, 0.23282575538385739, 0.001651246492084095, 0.054491134238775135, 0.028071190365429613, 0.00330249298416819, 0.08751606408045703, 0.011558725444588665, 0.5795875187215174, 0.001651246492084095, 0.0029703783017583025, 0.7821996194630196, 0.19753015706692711, 0.0004950630502930504, 0.0009901261005861009, 0.0004950630502930504, 0.0019802522011722018, 0.0004950630502930504, 0.005940756603516605, 0.0064358196538096555, 0.9879030927126603, 0.9970833652085854, 0.00015127952741747616, 0.00015127952741747616, 0.0003025590548349523, 0.00015127952741747616, 0.000907677164504857, 0.0003025590548349523, 0.0004538385822524285, 0.00015127952741747616, 0.9912652860777201, 0.003726561225856091, 0.003726561225856091, 0.004311628509025872, 0.056051170617336346, 0.9399350149676402, 0.1715537364988889, 0.8241306949456427, 0.016437216462260953, 0.03143257183134112, 0.021051171960439465, 0.023934894146801035, 0.2537675523998182, 0.13063261504217913, 0.004037211060906198, 0.2188745139448432, 0.08218608231130475, 0.035181410673611156, 0.07872561568767088, 0.021916288616347937, 0.01845582199271405, 0.06344188809995455, 0.00028837221863615704, 0.13325758168727217, 0.011104798473939347, 0.013325758168727216, 0.004441919389575739, 0.08217550870715117, 0.06662879084363608, 0.0866174280967269, 0.5996591175927247, 0.2211897978427826, 0.01663081186787839, 0.03159854254896894, 0.01663081186787839, 0.703483342011256, 0.003326162373575678, 0.004989243560363517, 0.985088484721119, 0.03653185706084426, 0.15395568332784368, 0.001304709180744438, 0.010437673445955503, 0.09915789773657728, 0.0065235459037221895, 0.010437673445955503, 0.046969530506799764, 0.001304709180744438, 0.026094183614888758, 0.6001662231424414, 0.0065235459037221895, 0.9185192743976912, 0.00803955601223362, 0.07034611510704418, 0.5681878263634472, 0.1283509690407787, 0.23635361372143396, 0.0007826278600047482, 0.003913139300023741, 0.05947971736036086, 0.002347883580014245, 0.7675944958529243, 0.10788330600917966, 0.037234061366000056, 0.07160396416538473, 0.007637756177641038, 0.0009547195222051298, 0.0047735976110256486, 0.0019094390444102595, 0.15450201772638258, 0.0004936166700523405, 0.021719133482302984, 0.16881690115790046, 0.05577868371591448, 0.004442550030471065, 0.006417016710680427, 0.06417016710680427, 0.015795733441674897, 0.025668066842721708, 0.0004936166700523405, 0.10662120073130556, 0.0059234000406280865, 0.001974466680209362, 0.34059550233611496, 0.02616168351277405, 0.9753481727415736, 0.19981625983422088, 0.43101160740414074, 0.0346252002600816, 0.09557997988460025, 0.061315458793894495, 0.0039674708631343494, 0.0043281500325102, 0.009016979234396249, 0.009738337573147949, 0.01911599597692005, 0.011541733420027199, 0.0057708667100135995, 0.00468882920188605, 0.10856442998213084, 0.6336682396360159, 0.1685122647071268, 0.06756021672589875, 0.0054358795066815095, 0.012424867443843449, 0.04736980712965315, 0.0007765542152402156, 0.0054358795066815095, 0.003882771076201078, 0.0015531084304804311, 0.053582240851574876, 0.0049893696188771765, 0.20290103116767186, 0.08980865313978918, 0.018294355269216314, 0.05155681939506416, 0.03159934091955545, 0.0016631232062923923, 0.4889582226499633, 0.0033262464125847846, 0.08648240672720439, 0.016631232062923922, 0.9882212620402951, 0.9759954607042599, 0.020333238764672083, 0.029969947951361684, 0.001997996530090779, 0.1138858022151744, 0.0189809670358624, 0.001997996530090779, 0.06992987855317727, 0.0009989982650453896, 0.7492486987840421, 0.003995993060181558, 0.007991986120363117, 0.2248182175138773, 0.002161713629941128, 0.002161713629941128, 0.7674083386291003, 0.04404832489253969, 0.32424461379230607, 0.6240179359776455, 0.0012235645803483246, 0.003670693741044974, 0.9877082550492219, 0.004809773550140745, 0.5643467632165141, 0.2340756461068496, 0.19399419985567673, 0.988257678094661, 0.0028728420874844797, 0.0057456841749689595, 0.31912791890377695, 0.6778717173956089, 0.00698209870642728, 0.9844759176062465, 0.005104821896402203, 0.9903354479020274, 0.9947514481973265, 0.9836121958736065, 0.99320568384626, 0.015135105991560798, 0.04540531797468239, 0.9282865008157289, 0.0050450353305202655, 0.0050450353305202655, 0.043842364551512775, 0.04851409192175594, 0.0035936364386485883, 0.04312363726378306, 0.13224582094226806, 0.4840628282859648, 0.03198336430397244, 0.019046273124837518, 0.03449890981102645, 0.0007187272877297176, 0.003953000082513447, 0.032702091591702155, 0.0007187272877297176, 0.11930872976313313, 0.0017968182193242941, 0.0022288881618814705, 0.9740241267422025, 0.0022288881618814705, 0.020059993456933232, 0.9863287126767265, 0.06001006186509876, 0.002449390280208113, 0.01775807953150882, 0.031229726072653438, 0.151862197372903, 0.18186722830545238, 0.22105747278878218, 0.012246951401040564, 0.0006123475700520282, 0.009185213550780422, 0.025106250372133158, 0.005511128130468254, 0.281679882223933, 0.22739793151977716, 0.016662779464811258, 0.013722288971021037, 0.0029404904937902223, 0.5665345018035828, 0.13036174522469984, 0.01176196197516089, 0.004900817489650371, 0.0029404904937902223, 0.02156359695446163, 0.000980163497930074, 0.9938572344048173, 0.9878975940376062, 0.010089488523085733, 0.07062641966160013, 0.010089488523085733, 0.005044744261542867, 0.8752631293776874, 0.0075671163923143, 0.005044744261542867, 0.012611860653857167, 0.985267499680473, 0.9908836787828006, 0.9936635425780231, 0.9884943281107574, 0.9872994021914138, 0.987291229084671, 0.9870890711496992, 0.008813295278122314, 0.016275157593787472, 0.9683718768303545, 0.019133674145007735, 0.9534947615595522, 0.022322619835842356, 0.0013767341072047584, 0.07709711000346647, 0.005506936428819034, 0.9113979789695501, 0.0041302023216142755, 0.4503848294110099, 0.0057791038846579535, 0.016181490877042272, 0.11982008720857491, 0.06202904836199537, 0.021960594761700224, 0.12290227594705914, 0.003082188738484242, 0.09824476603918521, 0.01541094369242121, 0.02851024583097924, 0.0073201982539000746, 0.02889551942328977, 0.005008556700036893, 0.01386984932317909, 0.00955492643106957, 0.3296449618719002, 0.6592899237438004, 0.9891069124866677, 0.9831880205304434, 0.08808179117603028, 0.2498226240957584, 0.047389033849092314, 0.06026648869938914, 0.019573731372451175, 0.06593256883351974, 0.012362356656284951, 0.0010301963880237459, 0.21685633967899853, 0.009786865686225587, 0.0010301963880237459, 0.22664320536522412, 0.10009632691929765, 0.0051829813291545705, 0.07223780227509183, 0.31583792474535666, 0.01619681665360803, 0.04729470462853546, 0.0683505662782259, 0.0006478726661443213, 0.04535108663010249, 0.007450535660659695, 0.006802662994515374, 0.0045351086630102495, 0.0051829813291545705, 0.0016196816653608033, 0.3022325987563259, 0.0006478726661443213, 0.008794481432203339, 0.9351465256242885, 0.055698382403954486, 0.9883742385125404, 0.027786177554233394, 0.10325944361370518, 0.13404953225488273, 0.031165577527045563, 0.35971835266156205, 0.0033793999728121693, 0.04280573298895415, 0.020276399836873016, 0.0007509777717360376, 0.03416948861398971, 0.1836140651894612, 0.006758799945624339, 0.042054755217218104, 0.002252933315208113, 0.007885266603228394, 0.9871908998728028, 0.05362620372626003, 0.029250656577960013, 0.8461797081481289, 0.018107549310165724, 0.002785776816948573, 0.0006964442042371432, 0.0006964442042371432, 0.0020893326127114295, 0.007660886246608575, 0.011839551472031435, 0.0020893326127114295, 0.01532177249321715, 0.002785776816948573, 0.007660886246608575, 0.0664100839062399, 0.6360402402287765, 0.0018707065889081661, 0.05892725755060723, 0.16649288641282678, 0.006547473061178581, 0.0009353532944540831, 0.0028060598833622493, 0.006547473061178581, 0.05237978448942865, 0.9881409679207604, 0.9896633131903374, 0.9820287018196819, 0.01534419846593253, 0.8680448426100914, 0.000619810669482393, 0.000619810669482393, 0.0030990533474119647, 0.001859432008447179, 0.003718864016894358, 0.005578296025341537, 0.057952297596603745, 0.0003099053347411965, 0.0003099053347411965, 0.049894758893332634, 0.00805753870327111, 0.0003099053347411965, 0.009807093470963492, 0.9807093470963492, 0.012174440240075992, 0.9861296594461554, 0.9898549487638842, 0.5919939129242778, 0.019989404851988603, 0.0030752930541520927, 0.38287398524193555, 0.9896639178847569, 0.0029719637173716423, 0.0029719637173716423, 0.02592591723704348, 0.02592591723704348, 0.946295979152087, 0.9791439298913746, 0.011796914817968369, 0.9888666714759138, 0.9904063874243961, 0.9899471947537678, 0.9905050754589922, 0.9961629142018604, 0.0009129582395111734, 0.9978633557857125, 0.9915965022765287, 0.0038202329613873207, 0.9044401536084481, 0.007640465922774641, 0.04870797025768834, 0.006685407682427811, 0.0009550582403468302, 0.024831514249017583, 0.0028651747210404906, 0.9843246145672448, 0.12503195490361277, 0.07045451427108339, 0.00992317102409625, 0.0009923171024096252, 0.0029769513072288754, 0.011907805228915502, 0.7015681914036049, 0.0029769513072288754, 0.0674775629638545, 0.0019846342048192504, 0.003969268409638501, 0.991151011008215, 0.991423623795488, 0.9822908116743441, 0.016536882351419934, 0.990089166160419, 0.9913801902336582, 0.9875023342216095, 0.9863425897527184, 0.9921417964400021, 0.7467140305993455, 0.0015629807024580755, 0.0015629807024580755, 0.2399175378273146, 0.00039074517561451887, 0.006251922809832302, 0.0007814903512290377, 0.002735216229301632, 0.9781286087376853, 0.008940846514969701, 0.00089408465149697, 0.0044704232574848506, 0.0062585925604787904, 0.010027016174944685, 0.0006684677449963123, 0.06885217773462017, 0.0033423387249815616, 0.0006684677449963123, 0.0006684677449963123, 0.01403782264492256, 0.0006684677449963123, 0.0006684677449963123, 0.40174911474278374, 0.012032419409933623, 0.12500346831431042, 0.3623095177880013, 0.9980456494187645, 0.9877372300602865, 0.9908965281172954, 0.9937544068670217, 0.9888936187671705, 0.04156844052282749, 0.005196055065353436, 0.005196055065353436, 0.005196055065353436, 0.057156605718887796, 0.8833293611100841, 0.00166157999252605, 0.8357747362406031, 0.00166157999252605, 0.09138689958893274, 0.06480161970851595, 0.0033231599850521, 0.2929196094639176, 0.07882101223004859, 0.015136907192967808, 0.0040910559980994075, 0.2795554932034595, 0.1056856132842347, 0.0028637391986695853, 0.03654676691635471, 0.011864062394488282, 0.030273814385935616, 0.01554601279277775, 0.10950393221579414, 0.01595511839258769, 0.0012273167994298223, 0.17921301662261374, 0.10261009131162845, 0.0009457151272961147, 0.00047285756364805735, 0.010402866400257262, 0.6932091883080521, 0.00047285756364805735, 0.001418572690944172, 0.002837145381888344, 0.0009457151272961147, 0.00709286345472086, 0.9808345294542504, 0.991485453342274, 0.0015268658798959145, 0.29163138306011965, 0.004580597639687743, 0.6870896459531616, 0.015268658798959145, 0.03485558328344539, 0.23453672141572576, 0.0029538629901224907, 0.11832331177576377, 0.05240996905331619, 0.2791822506092914, 0.00016879217086414233, 0.0016879217086414233, 0.012743808900242745, 0.01156226370419375, 0.013250185412835172, 0.14617401996834725, 0.09148535660836514, 0.0002531882562962135, 0.0002531882562962135, 0.9938660337946932, 0.00956305858518386, 0.7228078447301468, 0.05817527305986849, 0.13547666329010472, 0.0183291956216024, 0.02311072491419433, 0.00039846077438266086, 0.0183291956216024, 0.0011953823231479826, 0.0019923038719133045, 0.010359980133949183, 0.9936425062155629, 0.04961588068983294, 0.04510534608166632, 0.004510534608166632, 0.8795542485924931, 0.013531603824499893, 0.0010568019542682486, 0.0021136039085364973, 0.0021136039085364973, 0.0021136039085364973, 0.3624830703140093, 0.010568019542682485, 0.012681623451218984, 0.05178329575914418, 0.003170405862804746, 0.548480214265221, 0.0021136039085364973, 0.0010568019542682486, 0.0026457215454285966, 0.005291443090857193, 0.00793716463628579, 0.9815626933540094, 0.9935843109155856, 0.025183228286342448, 0.014390416163624256, 0.021585624245436384, 0.003597604040906064, 0.8922058021447038, 0.0395736444499667, 0.36001435594861975, 0.043321229553983286, 0.010456848513030447, 0.5825958457259821, 0.9975991495285192, 0.9927605859228513, 0.004854574992287782, 0.9954469486703118, 0.029705859446571788, 0.0021604261415688573, 0.045368948972946, 0.057251292751574714, 0.3397270107617028, 0.023224581021865216, 0.00864170456627543, 0.12692503581717035, 0.0005401065353922143, 0.12206407699864043, 0.11288226589697278, 0.005941171889314357, 0.0005401065353922143, 0.12314429006942486, 0.0005401065353922143, 0.9890457061118103, 0.17772496208088379, 0.1619037488392621, 0.02162232476354966, 0.06433960051592826, 0.3422655797937495, 0.005273737747207234, 0.006328485296648681, 0.01529383946690098, 0.014766465692180257, 0.031642426483243405, 0.022149698538270386, 0.011602223043855915, 0.07435970223562201, 0.05062788237318945, 0.001054747549441447, 0.9937716508450718, 0.9946371342357809, 0.9962213010792058, 0.0017058583922589141, 0.027345458147171302, 0.0006836364536792826, 0.09707637642245813, 0.10049455869085454, 0.16612365824406566, 0.33019640712709347, 0.0786181921731175, 0.09160728479302387, 0.0020509093610378477, 0.02871273105452987, 0.06768000891424898, 0.00820363744415139, 0.0006836364536792826, 0.4899199703930666, 0.078092044229582, 0.012605408714223866, 0.057185512703552176, 0.018446939581791024, 0.025210817428447732, 0.052112604318559644, 0.11437102540710435, 0.0019984184546940277, 0.07301913584458947, 0.03996836909388055, 0.009377194287410438, 0.0009223469790895512, 0.025518266421477583, 0.0001537244965149252, 0.0013835204686343267, 0.6906698240041947, 0.05654305597648418, 0.005716101287240204, 0.049591040897408255, 0.003810734191493469, 0.0010814245678562547, 0.03064036275592722, 0.08965524631608283, 0.0036562449675140046, 0.004943655167342879, 0.0042227054554387095, 0.0012874101998288747, 0.028426017212221554, 0.023894333308823915, 0.00015448922397946497, 0.005767597695233359, 0.018806049310496294, 0.9716458810423085, 0.010762070898352743, 0.9858056942891112, 0.9898639270259216, 0.9920401221802004, 0.21049740259461033, 0.12501622387598685, 0.0024041581514612853, 0.09322791053999874, 0.011219404706819333, 0.0008013860504870952, 0.511017171527271, 0.004274058935931174, 0.00828098918836665, 0.001335643417478492, 0.01175366207381073, 0.012287919440802125, 0.0008013860504870952, 0.00667821708739246, 0.15680680373094094, 0.06332582458364923, 0.7719719568292478, 0.006031030912728498, 0.19928884258417542, 0.7826616363305798, 0.0072468670030609245, 0.0036234335015304622, 0.9896258062313014, 0.0027187522149211573, 0.0027187522149211573, 0.010208823460924431, 0.9800470522487454, 0.9923126086250015, 0.9949976887501242, 0.9873381480960082, 0.6072186417989256, 0.39106200572376454, 0.008367348631508294, 0.0007275955331746342, 0.0003637977665873171, 0.021827865995239025, 0.3710737219190634, 0.0010913932997619513, 0.013460517363730733, 0.03165040569309659, 0.005456966498809756, 0.02655723696087415, 0.49767534469144975, 0.01782609056277854, 0.003637977665873171, 0.27527324996727065, 0.7222515964487795, 0.05581132694092659, 0.9429788781060721, 0.027300178250378983, 0.962331283325859, 0.9951171638814199, 0.030426424085314673, 0.0024020861119985267, 0.01281112593065881, 0.0016013907413323513, 0.008006953706661756, 0.041636159274641135, 0.9007822919994476, 0.9869678208032087, 0.9869396209351886, 0.005544604611995441, 0.005544604611995441, 0.9920972115886477, 0.9821736460033923, 0.9970801557302474, 0.05919261961679653, 0.0006504683474373245, 0.15481146669008325, 0.022115923812869035, 0.0039028100846239472, 0.0039028100846239472, 0.03382435406674088, 0.0078056201692478944, 0.5769654241769069, 0.06179449300654583, 0.005854215126935921, 0.0032523417371866227, 0.0019514050423119736, 0.0637458980488578, 0.08928380804967657, 0.0933421629610255, 0.05072943639186169, 0.0020291774556744674, 0.0933421629610255, 0.03449601674646595, 0.6107824141580147, 0.00811670982269787, 0.014204242189721272, 0.07664745112024657, 0.003444829263831306, 0.10334487791493918, 0.8060900477365257, 0.0008612073159578265, 0.0025836219478734797, 0.001722414631915653, 0.003444829263831306, 0.14249891693979924, 0.028839066523530802, 0.7158874160547057, 0.04410680762422358, 0.06616021143633537, 0.9871275015832214, 0.980402842323615, 0.016903497281441637, 0.9902433530690661, 0.9965315632380204, 0.7831461310850352, 0.0013296199169525215, 0.021273918671240344, 0.18481716845640048, 0.007977719501715129, 0.9878980842511772, 0.9920280746863975, 0.9873338640375315, 0.9870184767755432, 0.9820490348406592, 0.007565132215314165, 0.001513026443062833, 0.024208423089005327, 0.7686174330759191, 0.003026052886125666, 0.028747502418193828, 0.034799608190445155, 0.001513026443062833, 0.06657316349476465, 0.013617237987565497, 0.003026052886125666, 0.027234475975130994, 0.018156317316753996, 0.003026052886125666, 0.9901723441174716, 0.9877160886645994, 0.0715727434447368, 0.0937561083720529, 0.007115418938950443, 0.007533972994182821, 0.021346256816851327, 0.0008371081104647579, 0.017160716264527538, 0.0008371081104647579, 0.465013555363173, 0.0012556621656971368, 0.0025113243313942737, 0.0079525270494152, 0.06738720289241301, 0.0012556621656971368, 0.005441202718020927, 0.22894906821211128, 0.05529902963753004, 0.002304126234897085, 0.016128883644279595, 0.9170422414890399, 0.002304126234897085, 0.002304126234897085, 0.07648794907708671, 0.030192611477797386, 0.0020128407651864924, 0.046295337599289325, 0.01811556688667843, 0.0020128407651864924, 0.012077044591118954, 0.19121987269271679, 0.004025681530372985, 0.046295337599289325, 0.5072358728269961, 0.05032101912966231, 0.014089885356305447, 0.8779764686084287, 0.10305818593146342, 0.015855105527917447, 0.030589948709145408, 0.8920423752602402, 0.07696825804236586, 0.9943341301357825, 0.009550130329633262, 0.9836634239522261, 0.9914969999838062, 0.9882757135539728, 0.988440497052412, 0.9894870377002986, 0.0055882103889767, 0.20005793192536586, 0.017882273244725442, 0.01899991532252078, 0.02905869402267884, 0.0167646311669301, 0.055882103889767006, 0.10841128154614799, 0.16988159582489168, 0.01005877870015806, 0.0055882103889767, 0.35652782281671347, 0.0055882103889767, 0.16063022493455098, 0.0011811045951069924, 0.0011811045951069924, 0.024803196497246844, 0.08740174003791745, 0.031889824067888796, 0.04133866082874474, 0.0059055229755349626, 0.0011811045951069924, 0.44763864154555016, 0.0011811045951069924, 0.19488225819265376, 0.9895464479651126, 0.9806373114426797, 0.0021074538405956057, 0.050578892174294544, 0.7945100979045434, 0.08851306130501545, 0.0042149076811912115, 0.05690125369608136, 0.9918511390103986, 0.10845030295771783, 0.054908087895469235, 0.00027317456664412555, 0.0021853965331530044, 0.0008195236999323766, 0.31415075164074435, 0.0019122219665088788, 0.043707930663060085, 0.0013658728332206277, 0.006829364166103138, 0.0005463491332882511, 0.0005463491332882511, 0.0008195236999323766, 0.46275771589514864, 0.00027317456664412555, 0.0005463491332882511, 0.30769826284453405, 0.15048017234002758, 0.0011229863607464747, 0.0033689590822394235, 0.0011229863607464747, 0.0011229863607464747, 0.0011229863607464747, 0.4727772578742658, 0.0617642498410561, 0.9958459865361977, 0.1321460797787757, 0.18363156540687015, 0.6349876560798313, 0.044620754211015176, 0.0017161828542698143, 0.9990219187296278, 0.0007151194837005209, 0.010006541741583205, 0.8630642252115515, 0.0025016354353958013, 0.030019625224749616, 0.0025016354353958013, 0.007504906306187404, 0.042527802401728626, 0.03752453153093702, 0.025136540221666823, 0.9635673751638949, 0.004189423370277804, 0.6989397728804575, 0.010402363735286753, 0.03764664970865682, 0.07975145530386511, 0.008420961119041658, 0.000495350654061274, 0.001486051962183822, 0.001981402616245096, 0.15256800145087238, 0.0054488571946740135, 0.0034674545784289176, 0.5123667478138029, 0.007009121037124526, 0.047662023052446774, 0.0007009121037124526, 0.4156408775014844, 0.006308208933412073, 0.0028036484148498105, 0.0007009121037124526, 0.006308208933412073, 0.0007009121037124526, 0.9708208780098051, 0.0006649458068560309, 0.005319566454848247, 0.013298916137120618, 0.00797934968227237, 0.0006649458068560309, 0.2674678042610704, 0.024923136306145198, 0.001215762746641229, 0.4625977250969877, 0.1878353443560699, 0.0006078813733206146, 0.0018236441199618438, 0.023099492186183353, 0.02127584806622151, 0.0006078813733206146, 0.008510339226488604, 0.9969063327151221, 0.995067480545007, 0.006188527134887219, 0.24754108539548875, 0.006188527134887219, 0.736434729051579, 0.1962245918966286, 0.0036337887388264555, 0.797616628172407, 0.0018168943694132278, 0.9903734831766535, 0.9774281820618176, 0.008885710746016523, 0.00020529364774946122, 0.14678495814086476, 0.0006158809432483837, 0.06158809432483837, 0.05091282464186638, 0.37301855796077105, 0.17388371964379365, 0.0016423491819956898, 0.028330523389425648, 0.07883276073579311, 0.006158809432483836, 0.04413813426613416, 0.01868172194520097, 0.004516460250488147, 0.010059388739723599, 0.00041058729549892244, 0.9816686468134305, 0.003797131996572518, 0.9910514511054273, 0.9940454700970636, 0.10245021766488926, 0.896439404567781, 0.9208600519676065, 0.07576696630113217, 0.9927056429676483, 0.9907106566257871, 0.00458662341030457, 0.004617129205276079, 0.07849119648969335, 0.00307808613685072, 0.34089803965621723, 0.004617129205276079, 0.013851387615828239, 0.00153904306842536, 0.00153904306842536, 0.0038476076710633996, 0.008464736876339479, 0.4971109111013912, 0.04155416284748471, 0.04683498530401461, 0.9413832046106936, 0.004683498530401461, 0.040916303930499234, 0.9478943743898989, 0.991803128486117, 0.048301633756377, 0.006900233393768143, 0.9384317415524674, 0.9892525049945122, 0.0008832611651736717, 0.007066089321389374, 0.0017665223303473434, 0.9979288119559521, 0.9915359610108885, 0.03487324143351327, 0.9570767371197532, 0.0038748046037236973, 0.7034673944095919, 0.010258251884894624, 0.26453855618319166, 0.004662841765861193, 0.0006217122354481591, 0.016164518121652136, 0.9836459385761217, 0.009368842810822882, 0.6856604960809635, 0.0038169359599648776, 0.0006939883563572504, 0.1610052986748821, 0.1155490613334822, 0.002081965069071751, 0.004857918494500753, 0.0027759534254290018, 0.009715836989001506, 0.0006939883563572504, 0.0003469941781786252, 0.0034699417817862523, 0.9886722748207286, 0.07497756597504941, 0.011467157149125204, 0.10849694841095385, 0.08820890114711695, 0.10937903742242502, 0.0008820890114711695, 0.037929827493260286, 0.007938801103240526, 0.5601265222841927, 0.987805290470378, 0.04598330995494404, 0.9484057678207208, 0.9874290899055341, 0.048738431897766284, 0.0018051271073246773, 0.0036102542146493545, 0.0018051271073246773, 0.061374321649039026, 0.2130049986643119, 0.005415381321974031, 0.5776406743438967, 0.0036102542146493545, 0.07942559272228579, 0.027042514810668935, 0.7631998624344344, 0.17727870820327413, 0.02403779094281683, 0.006009447735704208, 0.9890705990243304, 0.9924920970504303, 0.9926519659893992, 0.9909917353278734, 0.9931218699849665, 0.002546466333294786, 0.9937503349653579, 0.07896605925564838, 0.23610851717438866, 0.0007896605925564838, 0.0015793211851129676, 0.003158642370225935, 0.5638176630853294, 0.005527624147895387, 0.10897316177279477, 0.9862464643661476, 0.004783158116779498, 0.9446737280639509, 0.04065684399262574, 0.004783158116779498, 0.9928323186642019, 0.1940034684769915, 0.06498404689816097, 0.4226334728924191, 0.000948672217491401, 0.0004743361087457005, 0.01992211656731942, 0.03083184706847053, 0.006166369413694106, 0.05170263585328135, 0.004743361087457005, 0.04221591367836734, 0.006640705522439807, 0.14372384094994725, 0.01043539439240541, 0.015972685015864064, 0.9823201284756399, 0.9959095257045681, 0.42725705112077567, 0.12514805415291377, 0.008768335004344277, 0.004517021062844021, 0.004782728184187787, 0.012222527581813233, 0.07785218655372343, 0.00398560682015649, 0.0015942427280625957, 0.2920121263567988, 0.03773041123081477, 0.00398560682015649, 0.006761831349285099, 0.9872273769956245, 0.9931277723441613, 0.9848855782456056, 0.0010174437791793446, 0.002034887558358689, 0.01119188157097279, 0.9983837821095353, 0.9875688269922807, 0.007900550615938246, 0.002144387952264336, 0.759113335101575, 0.05789847471113707, 0.1736954241334112, 0.002144387952264336, 0.002144387952264336, 0.0012376741565581799, 0.14975857294353978, 0.0012376741565581799, 0.0680720786106999, 0.04208092132297812, 0.7351784489955588, 0.991102819539238, 3.8006085467107995e-05, 0.1131441164355805, 0.034623543860535386, 0.006651064956743899, 0.011895904751204802, 0.5453873264529997, 0.0038006085467107995, 0.00030404868373686396, 0.10010802912036246, 0.0007221156238750519, 0.005548888478197767, 0.058149310764675236, 0.0008741399657434839, 0.0014822373332172118, 0.11667868238402154, 0.0006080973674737279, 0.9786522154543479, 0.006176863826195765, 0.006176863826195765, 0.9821213483651267, 0.9878167047198427, 0.9893371177355134, 0.9865530799917057, 0.01964983134081887, 0.9693916794803976, 0.33161186889753574, 0.14530305008144712, 0.06507437212236589, 0.36726905910157187, 0.08914297551009026, 0.0008914297551009026, 0.015838611546013397, 0.016969940942157213, 0.004525317584575256, 0.001131329396143814, 0.001131329396143814, 0.9469227045723724, 0.001131329396143814, 0.010181964565294327, 0.001131329396143814, 0.001131329396143814, 0.0010493316097764925, 0.019937300585753357, 0.5729350589379648, 0.4039926697639496, 0.5544086725534779, 0.015250500341992951, 0.10845824110287434, 0.1315413247020842, 0.0023497749771650774, 0.0006911102874014933, 0.04662690739002075, 0.04805520198398384, 0.002165478900524679, 0.030454926664825806, 0.006542510720734137, 0.004330957801049358, 0.005436734260891747, 0.040084396669286614, 0.00046074019160099555, 0.00308695928372667, 0.005015623875085017, 0.9094997960154164, 0.003343749250056678, 0.05182811337587851, 0.0300937432505101, 0.9890846051392016, 0.0009528267373811587, 0.0019056534747623173, 0.26107452604243747, 0.03334893580834056, 0.696516345025627, 0.0009528267373811587, 0.0009528267373811587, 0.0019056534747623173, 0.0019056534747623173, 0.9964770626773499, 0.995799880820543, 0.9940389694056446, 0.9882328972961206, 0.003668851959769453, 0.9447293796406342, 0.003668851959769453, 0.04402622351723344, 0.9909846723269625, 0.015126910384292038, 0.019854069879383297, 0.00850888709116427, 0.1333058977615736, 0.23635797475456308, 0.0009454318990182524, 0.013236046586255533, 0.01701777418232854, 0.17963206081346794, 0.3734456001122097, 0.0018908637980365047, 0.017835857366698665, 0.031212750391722666, 0.9453004404350293, 0.02347634458558272, 0.00048909051219964, 0.006358176658595321, 0.9297610636915157, 0.00048909051219964, 0.0048909051219964, 0.0024454525609982, 0.0024454525609982, 0.0293454307319784, 0.881816206969767, 0.00746247847929281, 0.006218732066077342, 0.04477487087575686, 0.054724842181480604, 0.003731239239646405, 0.9945786869230497, 0.0023401851457012937, 0.9837148940057417, 0.024650259060859003, 0.014790155436515403, 0.001643350604057267, 0.019720207248687203, 0.001643350604057267, 0.001643350604057267, 0.7460811742419992, 0.001643350604057267, 0.10517443865966508, 0.008216753020286335, 0.04765716751766074, 0.02629360966491627, 0.002518694386640413, 0.16623382951826726, 0.02518694386640413, 0.022668249479763716, 0.03148367983300516, 0.08563560914577403, 0.6120427359536204, 0.052892582119448674, 0.008830732945900838, 0.980211356994993, 0.014054282206339481, 0.976772613340594, 0.11265204865121356, 0.005199325322363703, 0.0017331084407879009, 0.012998313305909257, 0.0017331084407879009, 0.004332771101969752, 0.8509562444268594, 0.0025996626611818514, 0.006065879542757653, 0.6228328409386921, 0.01061086060236282, 0.007649690201703428, 0.02492318420554988, 0.0007402926001648479, 0.0004935284001098986, 0.0690939760153858, 0.2151783824479158, 0.0002467642000549493, 0.021715249604835538, 0.0002467642000549493, 0.004688519801044037, 0.0004935284001098986, 0.01776702240395635, 0.0002467642000549493, 0.0029611704006593915, 0.9980185594383045, 0.03039916833124542, 0.009499740103514193, 0.01614955817597413, 0.16909537384255266, 0.002849922031054258, 0.058898388641788, 0.023749350258785485, 0.15864565972868702, 0.002849922031054258, 0.4977863814241438, 0.026599272289839743, 0.002849922031054258, 0.9987217532007373, 0.0003464776247010363, 0.00017323881235051816, 0.0003464776247010363, 0.013104811824610742, 0.9828608868458056, 0.9936743074313463, 0.9967255238476852, 0.9941907881231824, 0.049624119933480274, 0.8637698375921411, 0.08374070238774796, 0.016162914375036433, 0.0026938190625060724, 0.9778563196897042, 0.9928228372524428, 0.005984164044732905, 0.8811681555869203, 0.04338518932431356, 0.0014960410111832263, 0.06582580449206196], \"Term\": [\"',\", \"',\", \"',\", \"',\", \"'\\\\t',\", \"'\\\\t',\", \"'\\\\t',\", \"'\\\\t',\", \"'abertura',\", \"'abertura',\", \"'abertura',\", \"'abertura',\", \"'abrigamento',\", \"'abril']\", \"'acionamento',\", \"'acolhimento',\", \"'acolhimento',\", \"'acolhimento',\", \"'acolhimento',\", \"'acolhimento',\", \"'acolhimento',\", \"'acolhimento',\", \"'acolhimento',\", \"'acompanhamento',\", \"'acompanhamento',\", \"'acompanhamento',\", \"'acompanhamento',\", \"'acordo',\", \"'acordo',\", \"'acordo',\", \"'acordo',\", \"'acordo',\", \"'acordo',\", \"'acordo',\", \"'acordo',\", \"'acordo',\", \"'acordo',\", \"'acordo',\", \"'acordo',\", \"'acordo',\", \"'acordo',\", \"'acordo',\", \"'acordo',\", \"'aderbal',\", \"'adm']\", \"'adm']\", \"'administrar',\", \"'administrativo']\", \"'administrativo']\", \"'administrativo']\", \"'administrativo']\", \"'administra\\u00e7\\u00e3o',\", \"'administra\\u00e7\\u00e3o',\", \"'administra\\u00e7\\u00e3o',\", \"'administra\\u00e7\\u00e3o',\", \"'administra\\u00e7\\u00e3o',\", \"'administra\\u00e7\\u00e3o',\", \"'administra\\u00e7\\u00e3o',\", \"'administra\\u00e7\\u00e3o',\", \"'administra\\u00e7\\u00e3o',\", \"'administra\\u00e7\\u00e3o',\", \"'administra\\u00e7\\u00e3o',\", \"'administra\\u00e7\\u00e3o',\", \"'administra\\u00e7\\u00e3o',\", \"'administra\\u00e7\\u00e3o',\", \"'administra\\u00e7\\u00e3o',\", \"'admitido',\", \"'adolescentes',\", \"'adolescentes',\", \"'adolescentes',\", \"'adquiridos',\", \"'adquiridos',\", \"'ag',\", \"'agendas',\", \"'agricultores',\", \"'agricultura',\", \"'agricultura',\", \"'agricultura',\", \"'agricultura',\", \"'agricultura',\", \"'agricultura',\", \"'agricultura',\", \"'agricultura',\", \"'agricultura',\", \"'agricultura',\", \"'agricultura',\", \"'agricultura']\", \"'agricultura']\", \"'agr\\u00edcola']\", \"'alimenta\\u00e7\\u00e3o',\", \"'alimenta\\u00e7\\u00e3o',\", \"'alimenta\\u00e7\\u00e3o',\", \"'alimenticios',\", \"'alimentos',\", \"'alimentos',\", \"'alimentos',\", \"'aliment\\u00edcios',\", \"'alor',\", \"'altura',\", \"'aluguel',\", \"'alunos',\", \"'alunos',\", \"'alunos',\", \"'alunos',\", \"'alunos',\", \"'alunos',\", \"'alunos',\", \"'alunos',\", \"'alunos',\", \"'alunos',\", \"'alunos',\", \"'ambiente',\", \"'ambiente',\", \"'ambiente',\", \"'ambiente',\", \"'ambiente',\", \"'ambiente',\", \"'ambiente',\", \"'ambiente']\", \"'ambulancia',\", \"'ambul\\u00e2ncias',\", \"'amigos',\", \"'amostras',\", \"'amostras',\", \"'amplia\\u00e7\\u00e3o',\", \"'amplia\\u00e7\\u00e3o',\", \"'amplia\\u00e7\\u00e3o',\", \"'amplia\\u00e7\\u00e3o',\", \"'amplia\\u00e7\\u00e3o',\", \"'amplia\\u00e7\\u00e3o',\", \"'amplia\\u00e7\\u00e3o',\", \"'amplia\\u00e7\\u00e3o',\", \"'amplia\\u00e7\\u00e3o',\", \"'amplia\\u00e7\\u00e3o',\", \"'ana',\", \"'anexo',\", \"'anexo',\", \"'anexo',\", \"'anexo',\", \"'anexo',\", \"'anexo',\", \"'anexo',\", \"'anexo',\", \"'anexo',\", \"'anexo',\", \"'anexo',\", \"'anexo',\", \"'anexo',\", \"'anexo',\", \"'anexo',\", \"'anexos']\", \"'anexos']\", \"'anexos']\", \"'anexos']\", \"'anexos']\", \"'anexos']\", \"'animais',\", \"'animais',\", \"'animais',\", \"'animais',\", \"'animais',\", \"'ant\\u00edgeno',\", \"'ant\\u00edgenos',\", \"'an\\u00e1lises',\", \"'an\\u00fancios',\", \"'apae',\", \"'aparecida',\", \"'aparelho',\", \"'aposentadoria',\", \"'aprende',\", \"'apresenta\\u00e7\\u00f5es',\", \"'aquisicao',\", \"'aquisicao',\", \"'aquisicao',\", \"'aquisi\\u00e7\\u00e3o',\", \"'aquisi\\u00e7\\u00e3o',\", \"'aquisi\\u00e7\\u00e3o',\", \"'aquisi\\u00e7\\u00e3o',\", \"'aquisi\\u00e7\\u00e3o',\", \"'aquisi\\u00e7\\u00e3o',\", \"'aquisi\\u00e7\\u00e3o',\", \"'aquisi\\u00e7\\u00e3o',\", \"'aquisi\\u00e7\\u00e3o',\", \"'aquisi\\u00e7\\u00e3o',\", \"'aquisi\\u00e7\\u00e3o',\", \"'aquisi\\u00e7\\u00e3o',\", \"'aquisi\\u00e7\\u00e3o',\", \"'aquisi\\u00e7\\u00e3o',\", \"'aquisi\\u00e7\\u00e3o',\", \"'aquisi\\u00e7\\u00f5es',\", \"'ar',\", \"'ar',\", \"'ar',\", \"'ar',\", \"'ar',\", \"'ar',\", \"'ar',\", \"'ar',\", \"'arquitetura',\", \"'arrecada\\u00e7\\u00e3o',\", \"'art',\", \"'art',\", \"'art',\", \"'art',\", \"'art',\", \"'art',\", \"'art',\", \"'art',\", \"'art',\", \"'art',\", \"'art',\", \"'artesiano',\", \"'artesiano',\", \"'asf\\u00e1ltica',\", \"'asf\\u00e1ltica',\", \"'assessoria',\", \"'assessoria',\", \"'assessoria',\", \"'assessoria',\", \"'assessoria',\", \"'assinatura',\", \"'assinatura',\", \"'assinatura',\", \"'assistencia',\", \"'assistencia',\", \"'assistencia',\", \"'assistencia',\", \"'assist\\u00eancia',\", \"'assist\\u00eancia',\", \"'assist\\u00eancia',\", \"'assist\\u00eancia',\", \"'assist\\u00eancia',\", \"'assist\\u00eancia',\", \"'assist\\u00eancia',\", \"'assist\\u00eancia',\", \"'assist\\u00eancia',\", \"'assist\\u00eancia',\", \"'assist\\u00eancia',\", \"'assist\\u00eancia',\", \"'assist\\u00eancia',\", \"'assist\\u00eancia',\", \"'associa\\u00e7\\u00e3o',\", \"'associa\\u00e7\\u00e3o',\", \"'associa\\u00e7\\u00e3o',\", \"'associa\\u00e7\\u00e3o',\", \"'associa\\u00e7\\u00e3o',\", \"'associa\\u00e7\\u00e3o',\", \"'assunto',\", \"'assunto',\", \"'assuntos',\", \"'ata',\", \"'ata',\", \"'ata',\", \"'ata',\", \"'ata',\", \"'atender',\", \"'atender',\", \"'atender',\", \"'atender',\", \"'atender',\", \"'atender',\", \"'atender',\", \"'atender',\", \"'atender',\", \"'atender',\", \"'atender',\", \"'atender',\", \"'atender',\", \"'atender',\", \"'atender',\", \"'atender',\", \"'atendimento',\", \"'atendimento',\", \"'atendimento',\", \"'atendimento',\", \"'atendimento',\", \"'atendimento',\", \"'atendimento',\", \"'atendimento',\", \"'atendimento',\", \"'atendimento',\", \"'atendimento',\", \"'atendimento',\", \"'atendimento',\", \"'atendimento',\", \"'atendimento',\", \"'aterro',\", \"'atividades',\", \"'atividades',\", \"'atividades',\", \"'atividades',\", \"'atividades',\", \"'atividades',\", \"'atividades',\", \"'atividades',\", \"'atividades',\", \"'atividades',\", \"'atividades',\", \"'atividades',\", \"'atos',\", \"'atos',\", \"'atos',\", \"'atractive',\", \"'atrav\\u00e9s',\", \"'atrav\\u00e9s',\", \"'atrav\\u00e9s',\", \"'atrav\\u00e9s',\", \"'atrav\\u00e9s',\", \"'atrav\\u00e9s',\", \"'atrav\\u00e9s',\", \"'atrav\\u00e9s',\", \"'atrav\\u00e9s',\", \"'atrav\\u00e9s',\", \"'atrav\\u00e9s',\", \"'atrav\\u00e9s',\", \"'atrav\\u00e9s',\", \"'atrav\\u00e9s',\", \"'atrav\\u00e9s',\", \"'atrav\\u00e9s',\", \"'atualiza\\u00e7\\u00e3o',\", \"'atualiza\\u00e7\\u00e3o',\", \"'atualiza\\u00e7\\u00e3o',\", \"'atualiza\\u00e7\\u00e3o',\", \"'atualiza\\u00e7\\u00e3o',\", \"'atualiza\\u00e7\\u00e3o',\", \"'atualiza\\u00e7\\u00f5es',\", \"'automotor',\", \"'autorizada',\", \"'a\\u00e7\\u00e3o',\", \"'a\\u00e7\\u00e3o',\", \"'a\\u00e7\\u00e3o',\", \"'a\\u00e7\\u00e3o',\", \"'a\\u00e7\\u00e3o',\", \"'a\\u00e7\\u00e3o',\", \"'a\\u00e7\\u00e3o',\", \"'a\\u00e7\\u00e3o',\", \"'b',\", \"'b',\", \"'b',\", \"'b',\", \"'b',\", \"'b',\", \"'b',\", \"'b',\", \"'b',\", \"'backup',\", \"'bairro',\", \"'bairro',\", \"'bairro',\", \"'bairro',\", \"'bairro',\", \"'bairro',\", \"'bairro',\", \"'bairro',\", \"'bairro',\", \"'bandeirars']\", \"'bandeiras',\", \"'basica',\", \"'basicas',\", \"'beneficente',\", \"'benef\\u00edcio',\", \"'benef\\u00edcio',\", \"'benef\\u00edcios',\", \"'benef\\u00edcios',\", \"'benef\\u00edcios',\", \"'bens',\", \"'bens',\", \"'bens',\", \"'bens',\", \"'bens',\", \"'benz',\", \"'biol\\u00f3gico',\", \"'blocos',\", \"'blocos',\", \"'bocas',\", \"'bombas',\", \"'bombas',\", \"'bombas',\", \"'bombeiros',\", \"'bombeiros',\", \"'bombeiros',\", \"'bombeiros',\", \"'borracharia',\", \"'bovino',\", \"'brita',\", \"'brita',\", \"'brita',\", \"'britador',\", \"'britador',\", \"'britador',\", \"'britagem',\", \"'b\\u00e1sica',\", \"'b\\u00e1sica',\", \"'b\\u00e1sica',\", \"'b\\u00e1sica',\", \"'b\\u00e1sica',\", \"'b\\u00e1sica',\", \"'b\\u00e1sica',\", \"'b\\u00e1sica',\", \"'b\\u00e1sica',\", \"'b\\u00e1sica',\", \"'b\\u00e1sicas']\", \"'cabo',\", \"'cabo',\", \"'cadastramento',\", \"'calc\\u00e1rio',\", \"'calc\\u00e1rio',\", \"'calc\\u00e1rio',\", \"'cal\\u00e7amento',\", \"'caminh\\u00e3o',\", \"'caminh\\u00e3o',\", \"'caminh\\u00e3o',\", \"'caminh\\u00e3o',\", \"'caminh\\u00e3o',\", \"'caminh\\u00e3o',\", \"'caminh\\u00e3o',\", \"'campanhas',\", \"'campanhas',\", \"'canaliza\\u00e7\\u00e3o',\", \"'canil',\", \"'capacidade',\", \"'capacidade',\", \"'capacidade',\", \"'capacidade',\", \"'capacidade',\", \"'capacidade',\", \"'capacidade',\", \"'capacidade',\", \"'capacidade',\", \"'caps',\", \"'carentes',\", \"'carga',\", \"'carga',\", \"'carga',\", \"'carga',\", \"'carga',\", \"'carga',\", \"'carga',\", \"'carga',\", \"'carga',\", \"'carimbos',\", \"'carregadeira',\", \"'carregadeira',\", \"'carregador',\", \"'cartuchos',\", \"'cart\\u00e3o',\", \"'cart\\u00e3o',\", \"'case',\", \"'case',\", \"'casos',\", \"'casos',\", \"'caterpillar',\", \"'celebra\\u00e7\\u00e3o',\", \"'celebra\\u00e7\\u00e3o',\", \"'centro',\", \"'centro',\", \"'centro',\", \"'centro',\", \"'centro',\", \"'centro',\", \"'centro',\", \"'centro',\", \"'centro',\", \"'centro',\", \"'centro',\", \"'centro',\", \"'centro',\", \"'centro',\", \"'centro',\", \"'cess\\u00e3o',\", \"'cestas',\", \"'cestas',\", \"'chamada',\", \"'chamada',\", \"'chassi',\", \"'chassi',\", \"'chevrolet',\", \"'cidade',\", \"'cidade',\", \"'cidade',\", \"'cidade',\", \"'cidade',\", \"'cidade',\", \"'cidade',\", \"'cidade',\", \"'cidade',\", \"'cidade',\", \"'cidade',\", \"'cidade',\", \"'cidade',\", \"'cilindros',\", \"'classe',\", \"'classe',\", \"'clinica',\", \"'clinico',\", \"'cl\\u00ednicas',\", \"'cl\\u00ednico',\", \"'cnpj',\", \"'cnpj',\", \"'cnpj',\", \"'cnpj',\", \"'cnpj',\", \"'cnpj',\", \"'cnpj',\", \"'cnpj',\", \"'cnpj',\", \"'cnpj',\", \"'colabora\\u00e7\\u00e3o',\", \"'colabora\\u00e7\\u00e3o',\", \"'colabora\\u00e7\\u00e3o',\", \"'colabora\\u00e7\\u00e3o',\", \"'coleta',\", \"'coleta',\", \"'coleta',\", \"'coleta',\", \"'comarca',\", \"'comarca',\", \"'comarca',\", \"'comarca',\", \"'combate',\", \"'combate',\", \"'combate',\", \"'combustivel',\", \"'combust\\u00edveis',\", \"'combust\\u00edveis',\", \"'combust\\u00edveis',\", \"'combust\\u00edveis']\", \"'comercial',\", \"'comercial',\", \"'comercial',\", \"'comercial',\", \"'comercial',\", \"'compactador',\", \"'compactador',\", \"'compartilhada',\", \"'compra',\", \"'compra',\", \"'compra',\", \"'compra',\", \"'compra',\", \"'compra',\", \"'comum',\", \"'comum',\", \"'comum',\", \"'comum',\", \"'comunica\\u00e7\\u00f5es',\", \"'comunit\\u00e1ria',\", \"'concreto',\", \"'concreto',\", \"'concreto',\", \"'concreto',\", \"'concreto']\", \"'condi\\u00e7\\u00f5es',\", \"'condi\\u00e7\\u00f5es',\", \"'condi\\u00e7\\u00f5es',\", \"'condi\\u00e7\\u00f5es',\", \"'condi\\u00e7\\u00f5es',\", \"'condi\\u00e7\\u00f5es',\", \"'condi\\u00e7\\u00f5es',\", \"'condi\\u00e7\\u00f5es',\", \"'condi\\u00e7\\u00f5es',\", \"'condi\\u00e7\\u00f5es',\", \"'conhecimento',\", \"'conserto',\", \"'conserto',\", \"'conserto',\", \"'conserto',\", \"'conserto',\", \"'conserto',\", \"'conserto',\", \"'conserto',\", \"'conserto',\", \"'consertos',\", \"'consoante',\", \"'consorciados',\", \"'constante',\", \"'constante',\", \"'constante',\", \"'constante',\", \"'constante',\", \"'constante',\", \"'constante',\", \"'constantes',\", \"'constantes',\", \"'constantes',\", \"'constantes',\", \"'constantes',\", \"'constantes',\", \"'constantes',\", \"'constantes',\", \"'constantes',\", \"'constantes',\", \"'constru\\u00e7\\u00e3o',\", \"'constru\\u00e7\\u00e3o',\", \"'constru\\u00e7\\u00e3o',\", \"'constru\\u00e7\\u00e3o',\", \"'constru\\u00e7\\u00e3o',\", \"'constru\\u00e7\\u00e3o',\", \"'constru\\u00e7\\u00e3o',\", \"'constru\\u00e7\\u00e3o',\", \"'constru\\u00e7\\u00e3o',\", \"'constru\\u00e7\\u00e3o',\", \"'constru\\u00e7\\u00e3o',\", \"'constru\\u00e7\\u00e3o',\", \"'constru\\u00e7\\u00e3o',\", \"'consultas',\", \"'consultas',\", \"'consultas',\", \"'consultoria',\", \"'consultoria',\", \"'consultoria',\", \"'cons\\u00f3rcio',\", \"'cons\\u00f3rcio',\", \"'cons\\u00f3rcio',\", \"'cons\\u00f3rcio',\", \"'cons\\u00f3rcio',\", \"'cons\\u00f3rcio',\", \"'cons\\u00f3rcio',\", \"'contados',\", \"'contas',\", \"'contas',\", \"'contas',\", \"'contas',\", \"'contas',\", \"'contexto',\", \"'conte\\u00fado',\", \"'conte\\u00fado',\", \"'conting\\u00eancia',\", \"'continuidade',\", \"'contrata\\u00e7\\u00e3o',\", \"'contrata\\u00e7\\u00e3o',\", \"'contrata\\u00e7\\u00e3o',\", \"'contrata\\u00e7\\u00e3o',\", \"'contrata\\u00e7\\u00e3o',\", \"'contrata\\u00e7\\u00e3o',\", \"'contrata\\u00e7\\u00e3o',\", \"'contrata\\u00e7\\u00e3o',\", \"'contrata\\u00e7\\u00e3o',\", \"'contrata\\u00e7\\u00e3o',\", \"'contrata\\u00e7\\u00e3o',\", \"'contrata\\u00e7\\u00e3o',\", \"'contrata\\u00e7\\u00e3o',\", \"'contrata\\u00e7\\u00e3o',\", \"'contrata\\u00e7\\u00e3o',\", \"'contrato',\", \"'contrato',\", \"'contrato',\", \"'contrato',\", \"'contrato',\", \"'contrato',\", \"'contrato',\", \"'contrato',\", \"'contrato',\", \"'contrato',\", \"'contrato',\", \"'contrato',\", \"'contribui\\u00e7\\u00e3o',\", \"'contribui\\u00e7\\u00e3o',\", \"'cont\\u00e1beis',\", \"'cont\\u00e1bil',\", \"'cont\\u00e1bil',\", \"'coopera\\u00e7\\u00e3o',\", \"'coopera\\u00e7\\u00e3o',\", \"'coopera\\u00e7\\u00e3o',\", \"'coordenadoria',\", \"'coordenadoria',\", \"'coqueiro',\", \"'coronavirus',\", \"'coronav\\u00edrus',\", \"'corpo',\", \"'corpo',\", \"'corpo',\", \"'corpo',\", \"'corpo',\", \"'corpo',\", \"'corpo',\", \"'correio',\", \"'correspondente',\", \"'corretiva',\", \"'corretiva',\", \"'corretiva',\", \"'corretiva',\", \"'corretiva',\", \"'corte',\", \"'corte',\", \"'corte',\", \"'corte',\", \"'corte',\", \"'corte',\", \"'covid',\", \"'covid',\", \"'covid',\", \"'covid',\", \"'covid',\", \"'covid']\", \"'covid']\", \"'covid']\", \"'covid']\", \"'covid']\", \"'covid']\", \"'covid']\", \"'covid']\", \"'covid']\", \"'cozinha',\", \"'cozinha',\", \"'cozinha',\", \"'cozinha',\", \"'cozinha',\", \"'cozinha',\", \"'cozinha',\", \"'cozinha']\", \"'cp',\", \"'cp',\", \"'cpf',\", \"'cpf',\", \"'credenciamento',\", \"'credenciamento',\", \"'credenciamento',\", \"'credenciamento',\", \"'credor',\", \"'crian\\u00e7as',\", \"'crian\\u00e7as',\", \"'crian\\u00e7as',\", \"'crian\\u00e7as',\", \"'crian\\u00e7as',\", \"'crian\\u00e7as',\", \"'crian\\u00e7as',\", \"'crian\\u00e7as',\", \"'crian\\u00e7as',\", \"'cuidados',\", \"'cultura',\", \"'cultura',\", \"'cultura',\", \"'cultura',\", \"'cultura',\", \"'cultura',\", \"'cultura',\", \"'cultura',\", \"'cultura',\", \"'cunha',\", \"'curso',\", \"'curso',\", \"'curso',\", \"'curso',\", \"'curso',\", \"'curso',\", \"'curso',\", \"'curso',\", \"'curso',\", \"'c\\u00e2mara',\", \"'c\\u00e2mara',\", \"'c\\u00e2mara',\", \"'c\\u00e2mara',\", \"'c\\u00e2mara',\", \"'c\\u00e2mara',\", \"'c\\u00e2mara',\", \"'c\\u00e2mara',\", \"'c\\u00e2mara',\", \"'c\\u00e2maras',\", \"'c\\u00e2maras',\", \"'c\\u00e3es',\", \"'c\\u00e3es',\", \"'c\\u00e9u',\", \"'c\\u00f3pias',\", \"'dados',\", \"'dados',\", \"'dados',\", \"'dados',\", \"'dados',\", \"'dados',\", \"'dados',\", \"'decreto',\", \"'decreto',\", \"'decreto',\", \"'decreto',\", \"'decretos',\", \"'deere',\", \"'defensoria',\", \"'defici\\u00eancia',\", \"'defici\\u00eancia',\", \"'defici\\u00eancia',\", \"'defici\\u00eancia',\", \"'descart\\u00e1veis',\", \"'descart\\u00e1veis',\", \"'descart\\u00e1veis',\", \"'descart\\u00e1veis']\", \"'descart\\u00e1vel',\", \"'descritivo',\", \"'descritivo',\", \"'descritivo',\", \"'descritivo',\", \"'descritivo',\", \"'descrito',\", \"'descrito',\", \"'descrito',\", \"'descrito',\", \"'descrito',\", \"'desenvolvimento',\", \"'desenvolvimento',\", \"'desenvolvimento',\", \"'desenvolvimento',\", \"'desenvolvimento',\", \"'desenvolvimento',\", \"'desenvolvimento',\", \"'desenvolvimento',\", \"'desenvolvimento',\", \"'desenvolvimento',\", \"'desenvolvimento',\", \"'desenvolvimento',\", \"'desenvolvimento',\", \"'desenvolvimento',\", \"'desenvolvimento',\", \"'desinfec\\u00e7\\u00e3o',\", \"'desinsetiza\\u00e7\\u00e3o',\", \"'desinsetiza\\u00e7\\u00e3o',\", \"'despesa',\", \"'despesa',\", \"'despesas',\", \"'despesas',\", \"'despesas',\", \"'despesas',\", \"'desporto',\", \"'desratiza\\u00e7\\u00e3o',\", \"'desratiza\\u00e7\\u00e3o',\", \"'desse',\", \"'deste',\", \"'deste',\", \"'deste',\", \"'deste',\", \"'deste',\", \"'deste',\", \"'deste',\", \"'deste',\", \"'deste',\", \"'deste',\", \"'deste',\", \"'deste',\", \"'deste',\", \"'deste',\", \"'deste',\", \"'destinados',\", \"'destinados',\", \"'destinados',\", \"'destinados',\", \"'destinados',\", \"'destinados',\", \"'destinados',\", \"'destinados',\", \"'destinados',\", \"'destinados',\", \"'destinados',\", \"'destinados',\", \"'destinados',\", \"'destina\\u00e7\\u00e3o',\", \"'destina\\u00e7\\u00e3o',\", \"'destino',\", \"'destino',\", \"'detec\\u00e7\\u00e3o',\", \"'detona\\u00e7\\u00e3o',\", \"'devido',\", \"'devido',\", \"'devido',\", \"'devido',\", \"'devido',\", \"'dezembro']\", \"'dezembro']\", \"'dezembro']\", \"'dezembro']\", \"'dia',\", \"'dia',\", \"'dia',\", \"'dia',\", \"'dia',\", \"'dia',\", \"'dia',\", \"'dia',\", \"'diariamente',\", \"'dias',\", \"'dias',\", \"'dias',\", \"'dias',\", \"'dias',\", \"'dias',\", \"'dias',\", \"'dias',\", \"'dias',\", \"'dias',\", \"'dias',\", \"'dias',\", \"'dias',\", \"'dias',\", \"'dias']\", \"'dias']\", \"'did\\u00e1tico',\", \"'diesel',\", \"'diesel',\", \"'diesel',\", \"'diesel',\", \"'digital',\", \"'digital',\", \"'digital',\", \"'digital',\", \"'digital',\", \"'digital',\", \"'digital',\", \"'digital',\", \"'digital']\", \"'direito',\", \"'direito',\", \"'direto',\", \"'dispensa',\", \"'dispensa',\", \"'dispensa',\", \"'dispensa',\", \"'dispensa',\", \"'dispensa',\", \"'dispensa',\", \"'dispensa',\", \"'dispensa',\", \"'dispensa',\", \"'disponibilizados',\", \"'disponibilizar',\", \"'dispon\\u00edvel',\", \"'distribuidor',\", \"'distribu\\u00eddas',\", \"'diversas',\", \"'diversas',\", \"'diversas',\", \"'diversas',\", \"'diversas',\", \"'diversas',\", \"'diversas',\", \"'diversas',\", \"'diversas',\", \"'diversas',\", \"'diversas',\", \"'diversas',\", \"'divulga\\u00e7\\u00e3o',\", \"'divulga\\u00e7\\u00e3o',\", \"'divulga\\u00e7\\u00e3o',\", \"'divulga\\u00e7\\u00e3o',\", \"'divulga\\u00e7\\u00e3o',\", \"'di\\u00e1rios',\", \"'doen\\u00e7a',\", \"'dois',\", \"'dois',\", \"'dois',\", \"'dois',\", \"'dois',\", \"'dois',\", \"'dois',\", \"'dois',\", \"'dois',\", \"'dois',\", \"'dois',\", \"'dois',\", \"'dois',\", \"'dois',\", \"'dois',\", \"'domiciliar',\", \"'domiciliar',\", \"'domiciliar',\", \"'domiciliares',\", \"'domiciliares',\", \"'domiciliares',\", \"'drenagem',\", \"'dupla',\", \"'durante',\", \"'durante',\", \"'durante',\", \"'durante',\", \"'durante',\", \"'durante',\", \"'durante',\", \"'durante',\", \"'durante',\", \"'durante',\", \"'durante',\", \"'durante']\", \"'edital',\", \"'edital',\", \"'edital',\", \"'edital',\", \"'edital',\", \"'edital',\", \"'edital',\", \"'edital',\", \"'edital',\", \"'edital',\", \"'edital',\", \"'edital',\", \"'edital',\", \"'edital',\", \"'edital']\", \"'edital']\", \"'edital']\", \"'edital']\", \"'edital']\", \"'edital']\", \"'edital']\", \"'edital']\", \"'edital']\", \"'edital']\", \"'educacionais',\", \"'educacionais',\", \"'educa\\u00e7\\u00e3o',\", \"'educa\\u00e7\\u00e3o',\", \"'educa\\u00e7\\u00e3o',\", \"'educa\\u00e7\\u00e3o',\", \"'educa\\u00e7\\u00e3o',\", \"'educa\\u00e7\\u00e3o',\", \"'educa\\u00e7\\u00e3o',\", \"'educa\\u00e7\\u00e3o',\", \"'educa\\u00e7\\u00e3o',\", \"'educa\\u00e7\\u00e3o',\", \"'educa\\u00e7\\u00e3o',\", \"'educa\\u00e7\\u00e3o',\", \"'efetivo',\", \"'elaboracao',\", \"'elabora\\u00e7\\u00e3o',\", \"'elabora\\u00e7\\u00e3o',\", \"'elabora\\u00e7\\u00e3o',\", \"'elabora\\u00e7\\u00e3o',\", \"'elabora\\u00e7\\u00e3o',\", \"'elabora\\u00e7\\u00e3o',\", \"'elabora\\u00e7\\u00e3o',\", \"'elabora\\u00e7\\u00e3o',\", \"'elabora\\u00e7\\u00e3o',\", \"'elabora\\u00e7\\u00e3o',\", \"'elabora\\u00e7\\u00e3o',\", \"'eldorado',\", \"'eletrico',\", \"'el\\u00e9trica',\", \"'el\\u00e9trica',\", \"'el\\u00e9trica',\", \"'el\\u00e9trica',\", \"'el\\u00e9trica',\", \"'el\\u00e9trica',\", \"'el\\u00e9trica',\", \"'el\\u00e9trica',\", \"'el\\u00e9trica',\", \"'el\\u00e9trica',\", \"'el\\u00e9trica']\", \"'el\\u00e9trico',\", \"'el\\u00e9trico',\", \"'el\\u00e9trico',\", \"'el\\u00e9trico']\", \"'embreagem',\", \"'emef',\", \"'emef',\", \"'emef',\", \"'emef',\", \"'emef',\", \"'emef',\", \"'emef',\", \"'emef',\", \"'emefs',\", \"'emei',\", \"'emei',\", \"'emei',\", \"'emei',\", \"'emei',\", \"'emei',\", \"'emei',\", \"'emei',\", \"'emei',\", \"'emei',\", \"'emei',\", \"'emei',\", \"'emeis',\", \"'emergenciais',\", \"'emergencial',\", \"'emergencial',\", \"'emergencial',\", \"'emergencial',\", \"'emergencial',\", \"'emergencial',\", \"'emergencial',\", \"'emergencial',\", \"'emergencial',\", \"'emergencial',\", \"'emergencial',\", \"'emergencial',\", \"'emergencial',\", \"'emerg\\u00eancia',\", \"'emerg\\u00eancia',\", \"'emerg\\u00eancia',\", \"'emerg\\u00eancia',\", \"'emerg\\u00eancia',\", \"'emissora',\", \"'empenho',\", \"'empreendedor',\", \"'empreitada',\", \"'empreitada',\", \"'empresa',\", \"'empresa',\", \"'empresa',\", \"'empresa',\", \"'empresa',\", \"'empresa',\", \"'empresa',\", \"'empresa',\", \"'empresa',\", \"'empresa',\", \"'empresa',\", \"'empresa',\", \"'empresa',\", \"'empresa',\", \"'empresa',\", \"'empresa',\", \"'emuls\\u00e3o',\", \"'encontrase',\", \"'endere\\u00e7o',\", \"'energia',\", \"'energia',\", \"'energia',\", \"'energia',\", \"'energia',\", \"'energia',\", \"'enfermeiro',\", \"'enfrentamento',\", \"'enfrentamento',\", \"'enfrentamento',\", \"'engenharia',\", \"'engenharia',\", \"'engenharia',\", \"'engenharia',\", \"'engenharia',\", \"'engenharia',\", \"'ensino',\", \"'ensino',\", \"'ensino',\", \"'ensino',\", \"'ensino',\", \"'ensino',\", \"'ensino']\", \"'ensino']\", \"'entidade',\", \"'entrega',\", \"'entrega',\", \"'entrega',\", \"'entrega',\", \"'entrega',\", \"'entrega',\", \"'entrega',\", \"'entrega',\", \"'entrega',\", \"'entrega',\", \"'entrega',\", \"'entrega',\", \"'entrega',\", \"'entregues',\", \"'envelopes',\", \"'epis',\", \"'epis',\", \"'equipamentos',\", \"'equipamentos',\", \"'equipamentos',\", \"'equipamentos',\", \"'equipamentos',\", \"'equipamentos',\", \"'equipamentos',\", \"'equipamentos',\", \"'equipamentos',\", \"'equipamentos',\", \"'equipamentos',\", \"'equipamentos',\", \"'equipamentos',\", \"'equipamentos',\", \"'equipamentos',\", \"'equipamentos',\", \"'equipamentos']\", \"'escola',\", \"'escola',\", \"'escola',\", \"'escola',\", \"'escola',\", \"'escola',\", \"'escola',\", \"'escola',\", \"'escola',\", \"'escola',\", \"'escola',\", \"'escolar',\", \"'escolar',\", \"'escolar',\", \"'escolar',\", \"'escolar',\", \"'escolar',\", \"'escolar',\", \"'escolar',\", \"'escolar',\", \"'escolar',\", \"'escolar',\", \"'escolar']\", \"'escolar']\", \"'escolar']\", \"'escolas',\", \"'escolas',\", \"'escolas',\", \"'escolas',\", \"'escolas',\", \"'escolas',\", \"'escolas',\", \"'escolas',\", \"'escolas',\", \"'escolas',\", \"'escolas',\", \"'escolas',\", \"'escrit\\u00f3rio',\", \"'escrit\\u00f3rio',\", \"'esfs',\", \"'esgoto',\", \"'esgoto',\", \"'esgoto',\", \"'esgoto',\", \"'esgoto',\", \"'esgoto',\", \"'esgoto',\", \"'especializada',\", \"'especializada',\", \"'especializada',\", \"'especializada',\", \"'especializada',\", \"'especializada',\", \"'especializada',\", \"'especializada',\", \"'especializada',\", \"'especializada',\", \"'especializada',\", \"'especializada',\", \"'especializada',\", \"'especializada',\", \"'especializada',\", \"'especializados',\", \"'especializados',\", \"'especializados',\", \"'especializados',\", \"'especializados',\", \"'especificado',\", \"'especifica\\u00e7\\u00f5es',\", \"'especifica\\u00e7\\u00f5es',\", \"'especifica\\u00e7\\u00f5es',\", \"'especifica\\u00e7\\u00f5es',\", \"'especifica\\u00e7\\u00f5es',\", \"'especifica\\u00e7\\u00f5es',\", \"'especifica\\u00e7\\u00f5es',\", \"'especifica\\u00e7\\u00f5es',\", \"'especifica\\u00e7\\u00f5es',\", \"'especifica\\u00e7\\u00f5es',\", \"'especifica\\u00e7\\u00f5es',\", \"'espec\\u00edficos',\", \"'esportes',\", \"'esportes',\", \"'esportes',\", \"'esportes',\", \"'esportes',\", \"'estabelecidas',\", \"'estabelecidas',\", \"'estabelecidas',\", \"'estabelecidas',\", \"'estado',\", \"'estado',\", \"'estado',\", \"'estado',\", \"'estado',\", \"'estado',\", \"'estado',\", \"'estado',\", \"'estado',\", \"'estado',\", \"'estado',\", \"'estado',\", \"'estado',\", \"'esta\\u00e7\\u00e3o',\", \"'esta\\u00e7\\u00e3o',\", \"'esta\\u00e7\\u00e3o',\", \"'esta\\u00e7\\u00e3o',\", \"'esta\\u00e7\\u00e3o',\", \"'esteira',\", \"'estimativa',\", \"'estimativa',\", \"'estimativo',\", \"'estoque',\", \"'estoque',\", \"'estoque',\", \"'estrada',\", \"'estradas',\", \"'estradas',\", \"'estradas',\", \"'estradas',\", \"'estradas',\", \"'estradas',\", \"'est\\u00e1gio',\", \"'eventuais',\", \"'eventuais',\", \"'eventual',\", \"'eventual',\", \"'exame',\", \"'exame',\", \"'exames',\", \"'exames',\", \"'exames',\", \"'excepcionais',\", \"'exceto',\", \"'exceto',\", \"'exceto',\", \"'exceto',\", \"'exclusivo',\", \"'exclusivo',\", \"'exclusivo',\", \"'exclusivo',\", \"'execu\\u00e7\\u00e3o',\", \"'execu\\u00e7\\u00e3o',\", \"'execu\\u00e7\\u00e3o',\", \"'execu\\u00e7\\u00e3o',\", \"'execu\\u00e7\\u00e3o',\", \"'execu\\u00e7\\u00e3o',\", \"'execu\\u00e7\\u00e3o',\", \"'execu\\u00e7\\u00e3o',\", \"'execu\\u00e7\\u00e3o',\", \"'execu\\u00e7\\u00e3o',\", \"'execu\\u00e7\\u00e3o',\", \"'execu\\u00e7\\u00e3o',\", \"'execu\\u00e7\\u00e3o',\", \"'exemplares',\", \"'exerc\\u00edcio']\", \"'exerc\\u00edcio']\", \"'expediente',\", \"'expediente',\", \"'expediente',\", \"'expediente',\", \"'expediente']\", \"'extens\\u00e3o',\", \"'extens\\u00e3o',\", \"'extens\\u00e3o',\", \"'extens\\u00e3o',\", \"'extens\\u00e3o',\", \"'externa',\", \"'externa',\", \"'extra\\u00e7\\u00e3o',\", \"'extra\\u00e7\\u00e3o',\", \"'extrema',\", \"'extrema',\", \"'fabricante',\", \"'familia',\", \"'familiar',\", \"'familiar',\", \"'familiar']\", \"'familiares',\", \"'familiares',\", \"'familiares',\", \"'farmacia',\", \"'farm\\u00e1cia',\", \"'farm\\u00e1cia',\", \"'feita',\", \"'feita',\", \"'feita',\", \"'fevereiro',\", \"'fiat',\", \"'fibra',\", \"'fibra',\", \"'fibra',\", \"'fibra',\", \"'fibra',\", \"'filtro',\", \"'filtros',\", \"'final',\", \"'final',\", \"'final',\", \"'financeiro',\", \"'financeiro',\", \"'financeiro',\", \"'financeiro',\", \"'financeiro',\", \"'folha',\", \"'folha',\", \"'folha',\", \"'folhas',\", \"'folhas',\", \"'fomento',\", \"'fomento',\", \"'ford',\", \"'forma\\u00e7\\u00e3o',\", \"'forma\\u00e7\\u00e3o',\", \"'forma\\u00e7\\u00e3o',\", \"'forma\\u00e7\\u00e3o',\", \"'fornecimento',\", \"'fornecimento',\", \"'fornecimento',\", \"'fornecimento',\", \"'fornecimento',\", \"'fornecimento',\", \"'fornecimento',\", \"'fornecimento',\", \"'fornecimento',\", \"'fornecimento',\", \"'fornecimento',\", \"'fornecimento',\", \"'fornecimento',\", \"'fornecimento',\", \"'fornecimento',\", \"'fornecimento',\", \"'fraldas',\", \"'fraldas',\", \"'frota',\", \"'frota',\", \"'frota',\", \"'frota',\", \"'frota',\", \"'frota',\", \"'frota',\", \"'frota']\", \"'funcionamento',\", \"'funcionamento',\", \"'funcionamento',\", \"'funcionamento',\", \"'funcionamento',\", \"'funcionamento',\", \"'funcionamento',\", \"'funcionamento',\", \"'funcionamento',\", \"'funcionamento',\", \"'funcionamento',\", \"'funcionamento',\", \"'fundamental',\", \"'fundamental',\", \"'fundamental',\", \"'fundamental']\", \"'fundamento',\", \"'funeral',\", \"'futebol',\", \"'futsal',\", \"'futura',\", \"'futura',\", \"'futura',\", \"'futuras',\", \"'futuras',\", \"'futuro',\", \"'gas',\", \"'gel',\", \"'generos',\", \"'gerenciamento',\", \"'gerenciamento',\", \"'gerenciamento',\", \"'gerenciamento',\", \"'gerenciamento',\", \"'gerenciamento',\", \"'gerenciamento',\", \"'gerenciamento',\", \"'gestor',\", \"'gestores',\", \"'gest\\u00e3o',\", \"'gest\\u00e3o',\", \"'gest\\u00e3o',\", \"'gest\\u00e3o',\", \"'gest\\u00e3o',\", \"'gest\\u00e3o',\", \"'gest\\u00e3o',\", \"'gest\\u00e3o',\", \"'gest\\u00e3o',\", \"'get\\u00falio',\", \"'get\\u00falio',\", \"'get\\u00falio',\", \"'gin\\u00e1sio',\", \"'gin\\u00e1sio',\", \"'gin\\u00e1sio',\", \"'gin\\u00e1sio',\", \"'gin\\u00e1sio',\", \"'gin\\u00e1sio',\", \"'gin\\u00e1sio',\", \"'global',\", \"'global',\", \"'global',\", \"'glp',\", \"'glp',\", \"'graeff',\", \"'gramado']\", \"'grande',\", \"'grande',\", \"'grande',\", \"'grande',\", \"'grande',\", \"'grande',\", \"'grande',\", \"'grande',\", \"'grande',\", \"'grande',\", \"'grande',\", \"'grande',\", \"'gratuita',\", \"'gratuita',\", \"'grupo',\", \"'grupo',\", \"'grupo',\", \"'grupo',\", \"'grupo',\", \"'grupo',\", \"'gr\\u00e1fico',\", \"'gr\\u00e1fico',\", \"'gr\\u00e1ficos',\", \"'gr\\u00e1ficos']\", \"'guapor\\u00e9rs',\", \"'guia',\", \"'g\\u00eaneros',\", \"'g\\u00eaneros',\", \"'h',\", \"'h',\", \"'h',\", \"'h',\", \"'h',\", \"'h',\", \"'h',\", \"'h',\", \"'h',\", \"'habita\\u00e7\\u00e3o',\", \"'habita\\u00e7\\u00e3o',\", \"'habita\\u00e7\\u00e3o',\", \"'hamburgo',\", \"'harmonia',\", \"'hmin',\", \"'hmin',\", \"'holland',\", \"'homologa\\u00e7\\u00e3o',\", \"'horas',\", \"'horas',\", \"'horas',\", \"'horas',\", \"'horas',\", \"'horas',\", \"'horas',\", \"'horas',\", \"'horas',\", \"'horas']\", \"'horas']\", \"'horas']\", \"'hor\\u00e1ria',\", \"'hor\\u00e1ria',\", \"'hor\\u00e1ria',\", \"'hor\\u00e1rio',\", \"'hor\\u00e1rio',\", \"'hor\\u00e1rio',\", \"'hospital',\", \"'hospital',\", \"'hospital',\", \"'hospital',\", \"'hospital',\", \"'hospital',\", \"'hospital',\", \"'hospital',\", \"'hospital',\", \"'hospital',\", \"'hospital',\", \"'hospitalar']\", \"'hp',\", \"'hp',\", \"'humana',\", \"'humano',\", \"'humano',\", \"'i',\", \"'i',\", \"'i',\", \"'i',\", \"'i',\", \"'i',\", \"'i',\", \"'i',\", \"'i',\", \"'i',\", \"'i',\", \"'i',\", \"'i',\", \"'i',\", \"'i',\", \"'i']\", \"'i']\", \"'i']\", \"'i']\", \"'i']\", \"'i']\", \"'i']\", \"'ida',\", \"'ilumina\\u00e7\\u00e3o',\", \"'ilumina\\u00e7\\u00e3o',\", \"'ilumina\\u00e7\\u00e3o',\", \"'ilumina\\u00e7\\u00e3o',\", \"'ilumina\\u00e7\\u00e3o',\", \"'ilumina\\u00e7\\u00e3o',\", \"'ilumina\\u00e7\\u00e3o',\", \"'ilumina\\u00e7\\u00e3o',\", \"'ilumina\\u00e7\\u00e3o',\", \"'imediata',\", \"'imovel',\", \"'implanta\\u00e7\\u00e3o',\", \"'implanta\\u00e7\\u00e3o',\", \"'implanta\\u00e7\\u00e3o',\", \"'implanta\\u00e7\\u00e3o',\", \"'implanta\\u00e7\\u00e3o',\", \"'implanta\\u00e7\\u00e3o',\", \"'implanta\\u00e7\\u00e3o',\", \"'implanta\\u00e7\\u00e3o',\", \"'implanta\\u00e7\\u00e3o',\", \"'imprensa',\", \"'impresso',\", \"'impresso',\", \"'impressora',\", \"'impressora',\", \"'impressora',\", \"'impressora',\", \"'im\\u00f3veis',\", \"'im\\u00f3veis',\", \"'im\\u00f3veis',\", \"'im\\u00f3veis',\", \"'im\\u00f3veis',\", \"'im\\u00f3veis',\", \"'im\\u00f3veis',\", \"'im\\u00f3veis',\", \"'im\\u00f3vel',\", \"'im\\u00f3vel',\", \"'im\\u00f3vel',\", \"'im\\u00f3vel',\", \"'im\\u00f3vel',\", \"'incentivo',\", \"'incentivo',\", \"'inciso',\", \"'inciso',\", \"'inciso',\", \"'independente',\", \"'individuais',\", \"'individuais',\", \"'individuais',\", \"'individuais',\", \"'individual',\", \"'individual',\", \"'individual',\", \"'individual',\", \"'individual',\", \"'individual',\", \"'infantil',\", \"'infantil',\", \"'infantil',\", \"'infantil',\", \"'infantil',\", \"'infantil',\", \"'infantil',\", \"'infec\\u00e7\\u00e3o',\", \"'informativo',\", \"'informativo',\", \"'informativos',\", \"'informativos',\", \"'informa\\u00e7\\u00f5es',\", \"'informa\\u00e7\\u00f5es',\", \"'informa\\u00e7\\u00f5es',\", \"'informa\\u00e7\\u00f5es',\", \"'inform\\u00e1tica',\", \"'inform\\u00e1tica',\", \"'inform\\u00e1tica',\", \"'inform\\u00e1tica',\", \"'inform\\u00e1tica',\", \"'inform\\u00e1tica',\", \"'inform\\u00e1tica',\", \"'infraestrutura']\", \"'injetora',\", \"'inmetro',\", \"'inserv\\u00edveis',\", \"'instala\\u00e7\\u00e3o',\", \"'instala\\u00e7\\u00e3o',\", \"'instala\\u00e7\\u00e3o',\", \"'instala\\u00e7\\u00e3o',\", \"'instala\\u00e7\\u00e3o',\", \"'instala\\u00e7\\u00e3o',\", \"'instala\\u00e7\\u00e3o',\", \"'instala\\u00e7\\u00e3o',\", \"'instala\\u00e7\\u00e3o',\", \"'instala\\u00e7\\u00e3o',\", \"'instala\\u00e7\\u00e3o',\", \"'instala\\u00e7\\u00e3o',\", \"'instala\\u00e7\\u00e3o',\", \"'instala\\u00e7\\u00e3o',\", \"'instala\\u00e7\\u00e3o',\", \"'instala\\u00e7\\u00e3o']\", \"'institui\\u00e7\\u00f5es',\", \"'institui\\u00e7\\u00f5es',\", \"'integra',\", \"'intelectual',\", \"'intermunicipal',\", \"'intermunicipal',\", \"'intermunicipal',\", \"'intermunicipal',\", \"'intermunicipal',\", \"'interna',\", \"'interna',\", \"'interna',\", \"'interna',\", \"'interna',\", \"'interna',\", \"'interna',\", \"'internacional',\", \"'internet',\", \"'internet',\", \"'internet',\", \"'internet',\", \"'internet']\", \"'investimentos',\", \"'iptu',\", \"'iptu',\", \"'irregulares',\", \"'janeiro',\", \"'janeiro',\", \"'janeiro',\", \"'janeiro',\", \"'jardinagem',\", \"'jcb',\", \"'jornal',\", \"'jornal',\", \"'jornal',\", \"'jornal',\", \"'jornal',\", \"'jornal\\u00edstica',\", \"'jornal\\u00edstica',\", \"'jovens',\", \"'judiciais',\", \"'judicial']\", \"'junto',\", \"'junto',\", \"'junto',\", \"'junto',\", \"'junto',\", \"'junto',\", \"'junto',\", \"'junto',\", \"'junto',\", \"'junto',\", \"'junto',\", \"'junto',\", \"'junto',\", \"'junto',\", \"'junto',\", \"'junto',\", \"'jur\\u00eddica',\", \"'jur\\u00eddica',\", \"'jur\\u00eddica',\", \"'jur\\u00eddica',\", \"'jur\\u00eddica',\", \"'jur\\u00eddica',\", \"'jur\\u00eddica',\", \"'jur\\u00eddica',\", \"'jur\\u00eddica',\", \"'jur\\u00eddica',\", \"'jur\\u00eddica',\", \"'jur\\u00eddica']\", \"'jur\\u00eddico',\", \"'jur\\u00eddico',\", \"'justificase',\", \"'k',\", \"'kits',\", \"'kits',\", \"'kits',\", \"'laboratoriais',\", \"'laboratoriais',\", \"'laboratorial',\", \"'laborat\\u00f3rio',\", \"'laborat\\u00f3rio',\", \"'lar',\", \"'larga',\", \"'largura',\", \"'largura',\", \"'largura',\", \"'largura',\", \"'lavra',\", \"'legislativo',\", \"'legislativo',\", \"'legislativo',\", \"'legislativo',\", \"'legislativo',\", \"'legislativo']\", \"'legislativo']\", \"'lei',\", \"'lei',\", \"'lei',\", \"'lei',\", \"'lei',\", \"'lei',\", \"'lei',\", \"'lei',\", \"'lei',\", \"'lei',\", \"'lei',\", \"'lei',\", \"'lei',\", \"'lei',\", \"'lei',\", \"'lei',\", \"'lei']\", \"'lei']\", \"'lei']\", \"'lei']\", \"'lei']\", \"'leis',\", \"'leis',\", \"'leis',\", \"'letivo',\", \"'letivo',\", \"'letivo']\", \"'leve',\", \"'licen\\u00e7a',\", \"'licen\\u00e7a',\", \"'licen\\u00e7a',\", \"'licen\\u00e7a',\", \"'licen\\u00e7as',\", \"'licen\\u00e7as',\", \"'licitacao',\", \"'licitat\\u00f3rio']\", \"'licita\\u00e7\\u00e3o',\", \"'licita\\u00e7\\u00e3o',\", \"'licita\\u00e7\\u00e3o',\", \"'licita\\u00e7\\u00e3o',\", \"'licita\\u00e7\\u00e3o',\", \"'licita\\u00e7\\u00e3o',\", \"'licita\\u00e7\\u00e3o',\", \"'licita\\u00e7\\u00e3o',\", \"'licita\\u00e7\\u00e3o',\", \"'licita\\u00e7\\u00e3o',\", \"'licita\\u00e7\\u00e3o',\", \"'licita\\u00e7\\u00e3o',\", \"'licita\\u00e7\\u00e3o',\", \"'licita\\u00e7\\u00e3o',\", \"'licita\\u00e7\\u00e3o',\", \"'licita\\u00e7\\u00f5es',\", \"'licita\\u00e7\\u00f5es',\", \"'licita\\u00e7\\u00f5es',\", \"'licita\\u00e7\\u00f5es',\", \"'limpeza',\", \"'limpeza',\", \"'limpeza',\", \"'limpeza',\", \"'limpeza',\", \"'limpeza',\", \"'limpeza',\", \"'limpeza',\", \"'limpeza',\", \"'limpeza',\", \"'limpeza',\", \"'limpeza',\", \"'limpeza',\", \"'limpeza',\", \"'limpeza',\", \"'limpeza',\", \"'limpeza']\", \"'linha',\", \"'linha',\", \"'linha',\", \"'linha',\", \"'linha',\", \"'linha',\", \"'linha',\", \"'linha',\", \"'linha',\", \"'linhas',\", \"'linhas',\", \"'linhas',\", \"'link',\", \"'link',\", \"'liquefeito',\", \"'lixo',\", \"'lixo',\", \"'lobo',\", \"'lobo',\", \"'locacao',\", \"'localizado',\", \"'localizado',\", \"'localizado',\", \"'localizado',\", \"'localizado',\", \"'localizado',\", \"'localizado',\", \"'loca\\u00e7\\u00e3o',\", \"'loca\\u00e7\\u00e3o',\", \"'loca\\u00e7\\u00e3o',\", \"'loca\\u00e7\\u00e3o',\", \"'loca\\u00e7\\u00e3o',\", \"'loca\\u00e7\\u00e3o',\", \"'loca\\u00e7\\u00e3o',\", \"'loca\\u00e7\\u00e3o',\", \"'loca\\u00e7\\u00e3o',\", \"'loca\\u00e7\\u00e3o',\", \"'loca\\u00e7\\u00e3o',\", \"'loca\\u00e7\\u00e3o',\", \"'loca\\u00e7\\u00e3o',\", \"'logradouros',\", \"'lonas',\", \"'lotada',\", \"'lotados',\", \"'lotes',\", \"'lotes',\", \"'ltda',\", \"'ltda',\", \"'ltda',\", \"'ltda',\", \"'ltda',\", \"'ltda',\", \"'ltda',\", \"'ltda',\", \"'ltda']\", \"'ltda']\", \"'lubrificante',\", \"'lubrificantes',\", \"'luvas',\", \"'l\\u00e2minas',\", \"'l\\u00e2mpadas',\", \"'l\\u00edquido',\", \"'l\\u00edquido']\", \"'madeiras',\", \"'maio']\", \"'manuten\\u00e7\\u00e3o',\", \"'manuten\\u00e7\\u00e3o',\", \"'manuten\\u00e7\\u00e3o',\", \"'manuten\\u00e7\\u00e3o',\", \"'manuten\\u00e7\\u00e3o',\", \"'manuten\\u00e7\\u00e3o',\", \"'manuten\\u00e7\\u00e3o',\", \"'manuten\\u00e7\\u00e3o',\", \"'manuten\\u00e7\\u00e3o',\", \"'manuten\\u00e7\\u00e3o',\", \"'manuten\\u00e7\\u00e3o',\", \"'manuten\\u00e7\\u00e3o',\", \"'manuten\\u00e7\\u00e3o',\", \"'manuten\\u00e7\\u00e3o',\", \"'manuten\\u00e7\\u00e3o',\", \"'manuten\\u00e7\\u00e3o',\", \"'maquina',\", \"'maquina',\", \"'mar\\u00e7o',\", \"'mar\\u00e7o',\", \"'mar\\u00e7o',\", \"'mar\\u00e7o']\", \"'mar\\u00e7o']\", \"'mar\\u00e7o']\", \"'materiais',\", \"'materiais',\", \"'materiais',\", \"'materiais',\", \"'materiais',\", \"'materiais',\", \"'materiais',\", \"'materiais',\", \"'materiais',\", \"'materiais',\", \"'materiais',\", \"'materiais',\", \"'materiais',\", \"'materiais',\", \"'materiais',\", \"'materiais',\", \"'material',\", \"'material',\", \"'material',\", \"'material',\", \"'material',\", \"'material',\", \"'material',\", \"'material',\", \"'material',\", \"'material',\", \"'material',\", \"'material',\", \"'material',\", \"'material',\", \"'material',\", \"'material',\", \"'matriculados',\", \"'matriculados',\", \"'matriculados',\", \"'mat\\u00e9rias',\", \"'mat\\u00e9rias',\", \"'medicamento',\", \"'medicamento',\", \"'medicamentos',\", \"'medicamentos',\", \"'medicamentos',\", \"'medicamentos',\", \"'medicamentos']\", \"'medicamentos']\", \"'medicinal',\", \"'medicinal',\", \"'medicos',\", \"'meepp']\", \"'meepp']\", \"'meio',\", \"'meio',\", \"'meio',\", \"'meio',\", \"'meio',\", \"'meio',\", \"'meio',\", \"'meio',\", \"'meio',\", \"'meio',\", \"'meio',\", \"'meio',\", \"'meio',\", \"'meio',\", \"'memorando',\", \"'memorando',\", \"'memorando',\", \"'memorial',\", \"'memorial',\", \"'memorial',\", \"'memorial',\", \"'memorial',\", \"'merenda',\", \"'meses',\", \"'meses',\", \"'meses',\", \"'meses',\", \"'meses',\", \"'meses',\", \"'meses',\", \"'meses',\", \"'meses',\", \"'meses',\", \"'meses',\", \"'meses',\", \"'meses',\", \"'meses',\", \"'meses',\", \"'microempresa',\", \"'mil',\", \"'mil',\", \"'mil',\", \"'mil',\", \"'mil',\", \"'mil',\", \"'mil',\", \"'mil',\", \"'mil',\", \"'min',\", \"'mini',\", \"'ministrar',\", \"'ministrar',\", \"'ministrar',\", \"'ministrar',\", \"'minist\\u00e9rio',\", \"'minist\\u00e9rio',\", \"'minist\\u00e9rio',\", \"'minist\\u00e9rio',\", \"'minist\\u00e9rio',\", \"'minist\\u00e9rio',\", \"'minist\\u00e9rio',\", \"'minist\\u00e9rio',\", \"'minutos',\", \"'minutos',\", \"'miragua\\u00edrs']\", \"'modelos',\", \"'monitor',\", \"'morro',\", \"'morro',\", \"'morro',\", \"'motoniveladora',\", \"'motoniveladora',\", \"'motor',\", \"'motor',\", \"'motor',\", \"'motor',\", \"'ms',\", \"'multifuncional',\", \"'municipais',\", \"'municipais',\", \"'municipais',\", \"'municipais',\", \"'municipais',\", \"'municipais',\", \"'municipais',\", \"'municipais',\", \"'municipais',\", \"'municipais',\", \"'municipais',\", \"'municipais',\", \"'municipais',\", \"'municipais',\", \"'municipais']\", \"'municipais']\", \"'municipais']\", \"'municipais']\", \"'municipais']\", \"'municipais']\", \"'municipais']\", \"'municipais']\", \"'municipal',\", \"'municipal',\", \"'municipal',\", \"'municipal',\", \"'municipal',\", \"'municipal',\", \"'municipal',\", \"'municipal',\", \"'municipal',\", \"'municipal',\", \"'municipal',\", \"'municipal',\", \"'municipal',\", \"'municipal',\", \"'municipal',\", \"'municipal',\", \"'municipal']\", \"'municipal']\", \"'municipal']\", \"'municipal']\", \"'municipal']\", \"'municipal']\", \"'municipal']\", \"'municipal']\", \"'municipal']\", \"'municipal']\", \"'municipal']\", \"'municipal']\", \"'municipal']\", \"'municipal']\", \"'municipalidade']\", \"'munic\\u00edpio',\", \"'munic\\u00edpio',\", \"'munic\\u00edpio',\", \"'munic\\u00edpio',\", \"'munic\\u00edpio',\", \"'munic\\u00edpio',\", \"'munic\\u00edpio',\", \"'munic\\u00edpio',\", \"'munic\\u00edpio',\", \"'munic\\u00edpio',\", \"'munic\\u00edpio',\", \"'munic\\u00edpio',\", \"'munic\\u00edpio',\", \"'munic\\u00edpio',\", \"'munic\\u00edpio',\", \"'munic\\u00edpio',\", \"'munic\\u00edpio']\", \"'munic\\u00edpio']\", \"'munic\\u00edpio']\", \"'munic\\u00edpio']\", \"'munic\\u00edpio']\", \"'munic\\u00edpio']\", \"'munic\\u00edpio']\", \"'munic\\u00edpio']\", \"'munic\\u00edpio']\", \"'munic\\u00edpio']\", \"'munic\\u00edpio']\", \"'munic\\u00edpio']\", \"'munic\\u00edpio']\", \"'munic\\u00edpio']\", \"'munic\\u00edpio']\", \"'m\\u00e1quinas',\", \"'m\\u00e1quinas',\", \"'m\\u00e1quinas',\", \"'m\\u00e1quinas',\", \"'m\\u00e1quinas',\", \"'m\\u00e1quinas',\", \"'m\\u00e1quinas',\", \"'m\\u00e1quinas',\", \"'m\\u00e1quinas',\", \"'m\\u00e1quinas',\", \"'m\\u00e1quinas',\", \"'m\\u00e1quinas']\", \"'m\\u00e1scaras',\", \"'m\\u00e3o',\", \"'m\\u00e3o',\", \"'m\\u00e3o',\", \"'m\\u00e3o',\", \"'m\\u00e3o',\", \"'m\\u00e3o',\", \"'m\\u00e3o',\", \"'m\\u00e3o',\", \"'m\\u00e3o',\", \"'m\\u00e3o',\", \"'m\\u00e3o',\", \"'m\\u00e9dicas',\", \"'m\\u00e9dicos',\", \"'m\\u00e9dicos',\", \"'m\\u00e9dicos']\", \"'m\\u00e9dio',\", \"'m\\u00e9dio',\", \"'m\\u00e9dio',\", \"'m\\u00e9dio',\", \"'m\\u00eddia',\", \"'m\\u00eddias',\", \"'m\\u00ednima',\", \"'m\\u00ednima',\", \"'m\\u00ednima',\", \"'m\\u00ednima',\", \"'m\\u00ednima',\", \"'m\\u00ednima',\", \"'m\\u00ednima',\", \"'m\\u00ednimo',\", \"'m\\u00ednimo',\", \"'m\\u00ednimo',\", \"'m\\u00ednimo',\", \"'m\\u00ednimo',\", \"'m\\u00ednimo',\", \"'m\\u00ednimo',\", \"'m\\u00ednimo',\", \"'m\\u00ednimo',\", \"'m\\u00ednimo',\", \"'m\\u00f3dulo',\", \"'m\\u00f3dulo',\", \"'m\\u00f3dulo',\", \"'m\\u00f3veis',\", \"'m\\u00f3veis',\", \"'m\\u00f3veis',\", \"'m\\u00f3veis',\", \"'m\\u00f3veis',\", \"'m\\u00f3veis',\", \"'m\\u00f3veis',\", \"'m\\u00f3veis',\", \"'m\\u00f3vel',\", \"'m\\u00f3vel',\", \"'m\\u00f3vel',\", \"'m\\u00f3vel',\", \"'m\\u00f3vel',\", \"'m\\u00f3vel',\", \"'n',\", \"'n',\", \"'n',\", \"'n',\", \"'n',\", \"'n',\", \"'n',\", \"'n',\", \"'n',\", \"'n',\", \"'n',\", \"'n',\", \"'n',\", \"'n',\", \"'n']\", \"'n']\", \"'n']\", \"'n']\", \"'n']\", \"'n']\", \"'n']\", \"'n']\", \"'n']\", \"'n']\", \"'n']\", \"'nacional',\", \"'nacional',\", \"'nacional',\", \"'nacional',\", \"'nacional',\", \"'nacional',\", \"'nacional',\", \"'nacional',\", \"'nacional',\", \"'nacional',\", \"'nacional',\", \"'nacional',\", \"'nacional',\", \"'neves',\", \"'notas',\", \"'notas',\", \"'noturno',\", \"'nova']\", \"'novars']\", \"'novos',\", \"'novos',\", \"'novos',\", \"'novos',\", \"'novos',\", \"'novos',\", \"'novos',\", \"'novos',\", \"'novos']\", \"'objeto',\", \"'objeto',\", \"'objeto',\", \"'objeto',\", \"'objeto',\", \"'objeto',\", \"'objeto',\", \"'objeto',\", \"'objeto',\", \"'objeto',\", \"'objeto',\", \"'objeto',\", \"'objeto',\", \"'objeto',\", \"'objeto',\", \"'obra',\", \"'obra',\", \"'obra',\", \"'obra',\", \"'obra',\", \"'obra',\", \"'obra',\", \"'obra',\", \"'obra',\", \"'obra',\", \"'obra',\", \"'obra',\", \"'obras',\", \"'obras',\", \"'obras',\", \"'obras',\", \"'obras',\", \"'obras',\", \"'obras',\", \"'obras',\", \"'obras',\", \"'obras',\", \"'obras',\", \"'obras',\", \"'obras',\", \"'obras',\", \"'obras',\", \"'obras']\", \"'obras']\", \"'obras']\", \"'odontol\\u00f3gico',\", \"'odontol\\u00f3gico',\", \"'odontol\\u00f3gico']\", \"'oficiais',\", \"'oficiais',\", \"'oficiais',\", \"'oficiais',\", \"'of\\u00edcio',\", \"'ordem',\", \"'ordem',\", \"'ordem',\", \"'ordin\\u00e1rias',\", \"'osc',\", \"'oxig\\u00eanio',\", \"'p',\", \"'p',\", \"'p',\", \"'p',\", \"'p',\", \"'pa',\", \"'paciente',\", \"'paciente',\", \"'paciente',\", \"'paciente',\", \"'pacientes',\", \"'pacientes',\", \"'pacientes',\", \"'pacientes',\", \"'pacientes',\", \"'pacientes',\", \"'pacientes',\", \"'pacientes',\", \"'pacientes',\", \"'pacientes',\", \"'pacientes',\", \"'pagamento',\", \"'pagamento',\", \"'pagamento',\", \"'pagamento',\", \"'pagamento',\", \"'pagamento',\", \"'pagamento',\", \"'pagamento',\", \"'pagamento',\", \"'pagamento',\", \"'pagamento',\", \"'pais',\", \"'pais',\", \"'palmitinhors']\", \"'pandemia',\", \"'pandemia',\", \"'parafusos',\", \"'parcelada',\", \"'parcelada',\", \"'parcelada',\", \"'parceria',\", \"'parceria',\", \"'parceria',\", \"'parecer']\", \"'parede',\", \"'paredes',\", \"'paredes',\", \"'passagens',\", \"'passagens',\", \"'passagens',\", \"'passagens',\", \"'passeios',\", \"'passeios',\", \"'patrimonio',\", \"'patrim\\u00f4nio',\", \"'patrim\\u00f4nio',\", \"'patrim\\u00f4nio',\", \"'patrim\\u00f4nio',\", \"'patrim\\u00f4nio',\", \"'patrim\\u00f4nio',\", \"'pavimenta\\u00e7\\u00e3o',\", \"'pecas',\", \"'pecu\\u00e1ria',\", \"'pecu\\u00e1ria',\", \"'pecu\\u00e1ria',\", \"'pedido',\", \"'pedido',\", \"'pedido',\", \"'pedido',\", \"'pedras',\", \"'pedras',\", \"'pedras',\", \"'pedrisco',\", \"'pequeno',\", \"'pequeno',\", \"'pequeno',\", \"'pequeno',\", \"'perante',\", \"'perec\\u00edveis',\", \"'permanentes',\", \"'perman\\u00eancia',\", \"'pertinente',\", \"'per\\u00edodo',\", \"'per\\u00edodo',\", \"'per\\u00edodo',\", \"'per\\u00edodo',\", \"'per\\u00edodo',\", \"'per\\u00edodo',\", \"'per\\u00edodo',\", \"'per\\u00edodo',\", \"'per\\u00edodo',\", \"'per\\u00edodo',\", \"'per\\u00edodo',\", \"'per\\u00edodo',\", \"'per\\u00edodo',\", \"'per\\u00edodo',\", \"'per\\u00edodo',\", \"'pesadas',\", \"'peso',\", \"'peso',\", \"'pessoa',\", \"'pessoa',\", \"'pessoa',\", \"'pessoa',\", \"'pessoa',\", \"'pessoa',\", \"'pessoa',\", \"'pessoa',\", \"'pessoa',\", \"'pessoa',\", \"'pessoa',\", \"'pessoa',\", \"'pessoas',\", \"'pessoas',\", \"'pessoas',\", \"'pessoas',\", \"'pessoas',\", \"'pessoas',\", \"'pessoas',\", \"'pessoas',\", \"'pe\\u00e7a',\", \"'pe\\u00e7as',\", \"'pe\\u00e7as',\", \"'pe\\u00e7as',\", \"'pe\\u00e7as',\", \"'pe\\u00e7as',\", \"'pe\\u00e7as',\", \"'pintura',\", \"'pintura',\", \"'pintura',\", \"'pintura',\", \"'pintura',\", \"'pintura',\", \"'pintura',\", \"'pintura',\", \"'pintura',\", \"'pintura',\", \"'pintura',\", \"'pintura',\", \"'placa',\", \"'placa',\", \"'placa',\", \"'placa',\", \"'placas',\", \"'placas',\", \"'placas',\", \"'placas',\", \"'placas',\", \"'placas',\", \"'placas',\", \"'placas',\", \"'placas',\", \"'placas',\", \"'plano',\", \"'plano',\", \"'plano',\", \"'plano',\", \"'plano',\", \"'plano',\", \"'plano',\", \"'plano',\", \"'plano',\", \"'plant\\u00e3o',\", \"'plant\\u00e3o',\", \"'plen\\u00e1rio',\", \"'pluvial',\", \"'pnae']\", \"'pneus',\", \"'pneus',\", \"'pneus',\", \"'pneus',\", \"'pneus',\", \"'pneus',\", \"'pneus']\", \"'pneus']\", \"'poder',\", \"'poder',\", \"'poder',\", \"'poder',\", \"'poder',\", \"'poder',\", \"'pois',\", \"'pois',\", \"'pois',\", \"'pois',\", \"'pois',\", \"'pois',\", \"'portaria',\", \"'portaria',\", \"'portaria',\", \"'portaria',\", \"'portaria',\", \"'portaria',\", \"'portaria',\", \"'portaria',\", \"'portaria',\", \"'portaria',\", \"'porte',\", \"'porte',\", \"'porte',\", \"'porte',\", \"'port\\u00e3o',\", \"'port\\u00e3o',\", \"'poss\\u00edveis',\", \"'po\\u00e7o',\", \"'po\\u00e7o',\", \"'pp',\", \"'ppaldo']\", \"'ppaldo']\", \"'ppra',\", \"'pra\\u00e7as',\", \"'pra\\u00e7as',\", \"'pra\\u00e7as',\", \"'prefeito']\", \"'prefeito']\", \"'prefeitura',\", \"'prefeitura',\", \"'prefeitura',\", \"'prefeitura',\", \"'prefeitura',\", \"'prefeitura',\", \"'prefeitura',\", \"'prefeitura',\", \"'prefeitura',\", \"'prefeitura',\", \"'prefeitura',\", \"'prefeitura',\", \"'prefeitura',\", \"'prefeitura',\", \"'preg\\u00e3o',\", \"'preg\\u00e3o',\", \"'preg\\u00e3o',\", \"'preg\\u00e3o',\", \"'preg\\u00e3o',\", \"'preg\\u00e3o',\", \"'presenciais',\", \"'presencial',\", \"'presencial',\", \"'presencial',\", \"'presencial',\", \"'presencial',\", \"'presencial',\", \"'presencial',\", \"'presencial',\", \"'presente',\", \"'presente',\", \"'presente',\", \"'presente',\", \"'presente',\", \"'presente',\", \"'presente',\", \"'presente',\", \"'presente',\", \"'presente',\", \"'presente',\", \"'presente',\", \"'presente',\", \"'presente',\", \"'press\\u00e3o',\", \"'prestacao',\", \"'prestador',\", \"'prestadora',\", \"'prestadora',\", \"'prestadora',\", \"'prestadora',\", \"'prestados',\", \"'prestados',\", \"'prestados',\", \"'prestados',\", \"'prestar',\", \"'prestar',\", \"'prestar',\", \"'prestar',\", \"'prestar',\", \"'presta\\u00e7\\u00e3o',\", \"'presta\\u00e7\\u00e3o',\", \"'presta\\u00e7\\u00e3o',\", \"'presta\\u00e7\\u00e3o',\", \"'presta\\u00e7\\u00e3o',\", \"'presta\\u00e7\\u00e3o',\", \"'presta\\u00e7\\u00e3o',\", \"'presta\\u00e7\\u00e3o',\", \"'presta\\u00e7\\u00e3o',\", \"'presta\\u00e7\\u00e3o',\", \"'presta\\u00e7\\u00e3o',\", \"'presta\\u00e7\\u00e3o',\", \"'presta\\u00e7\\u00e3o',\", \"'presta\\u00e7\\u00e3o',\", \"'presta\\u00e7\\u00e3o',\", \"'preta',\", \"'preventiva',\", \"'preventiva',\", \"'preventiva',\", \"'preventiva',\", \"'preventiva',\", \"'preven\\u00e7\\u00e3o',\", \"'preven\\u00e7\\u00e3o',\", \"'preven\\u00e7\\u00e3o',\", \"'preven\\u00e7\\u00e3o',\", \"'preven\\u00e7\\u00e3o',\", \"'preven\\u00e7\\u00e3o',\", \"'preven\\u00e7\\u00e3o',\", \"'preven\\u00e7\\u00e3o',\", \"'preven\\u00e7\\u00e3o',\", \"'pre\\u00e7o',\", \"'pre\\u00e7o',\", \"'pre\\u00e7o',\", \"'pre\\u00e7o',\", \"'pre\\u00e7o',\", \"'pre\\u00e7o',\", \"'pre\\u00e7o',\", \"'pre\\u00e7o',\", \"'pre\\u00e7o',\", \"'pre\\u00e7o',\", \"'pre\\u00e7o']\", \"'pre\\u00e7os',\", \"'pre\\u00e7os',\", \"'pre\\u00e7os',\", \"'pre\\u00e7os',\", \"'pre\\u00e7os',\", \"'pre\\u00e7os',\", \"'pre\\u00e7os',\", \"'pre\\u00e7os',\", \"'pre\\u00e7os',\", \"'pre\\u00e7os']\", \"'pre\\u00e7os']\", \"'pre\\u00e7os']\", \"'primeiro',\", \"'primeiro',\", \"'primeiro',\", \"'procedimento',\", \"'procedimento',\", \"'processo',\", \"'processo',\", \"'processo',\", \"'processo',\", \"'processo',\", \"'processo',\", \"'processo',\", \"'processo',\", \"'processo',\", \"'processo',\", \"'processo',\", \"'processo',\", \"'processo',\", \"'processo',\", \"'processo',\", \"'processo']\", \"'processo']\", \"'processo']\", \"'processo']\", \"'processo']\", \"'processo']\", \"'processo']\", \"'processo']\", \"'processos',\", \"'processos',\", \"'processos',\", \"'processos',\", \"'processos',\", \"'processos',\", \"'processos',\", \"'produtor',\", \"'produtos',\", \"'produtos',\", \"'produtos',\", \"'produtos',\", \"'produtos',\", \"'produtos',\", \"'produtos',\", \"'produtos',\", \"'produtos',\", \"'produtos',\", \"'produtos',\", \"'produtos',\", \"'professores',\", \"'professores',\", \"'professores',\", \"'profissionais',\", \"'profissionais',\", \"'profissionais',\", \"'profissionais',\", \"'profissionais',\", \"'profissionais',\", \"'profissionais',\", \"'profissional',\", \"'profissional',\", \"'profissional',\", \"'profissional',\", \"'profissional',\", \"'profissional',\", \"'profissional',\", \"'profissional',\", \"'programa',\", \"'programa',\", \"'programa',\", \"'programa',\", \"'programa',\", \"'programa',\", \"'programa',\", \"'programa',\", \"'programa',\", \"'programa',\", \"'programa',\", \"'programa',\", \"'programa',\", \"'programa',\", \"'programa',\", \"'programa',\", \"'progressors']\", \"'projeto',\", \"'projeto',\", \"'projeto',\", \"'projeto',\", \"'projeto',\", \"'projeto',\", \"'projeto',\", \"'projeto',\", \"'projeto',\", \"'projeto',\", \"'projeto',\", \"'projeto',\", \"'projeto',\", \"'projeto',\", \"'projetos',\", \"'projetos',\", \"'projetos',\", \"'projetos',\", \"'projetos',\", \"'projetos',\", \"'projetos',\", \"'projetos',\", \"'projetos',\", \"'projetos',\", \"'projetos',\", \"'propriedade',\", \"'propriedade',\", \"'propriedade',\", \"'propriedade',\", \"'propriedade',\", \"'propriedade',\", \"'propriedade',\", \"'propriedade',\", \"'propriedade',\", \"'propriedade',\", \"'propriedade',\", \"'protetor',\", \"'protetores',\", \"'protetores',\", \"'prote\\u00e7\\u00e3o',\", \"'prote\\u00e7\\u00e3o',\", \"'prote\\u00e7\\u00e3o',\", \"'prote\\u00e7\\u00e3o',\", \"'prote\\u00e7\\u00e3o',\", \"'prote\\u00e7\\u00e3o',\", \"'prote\\u00e7\\u00e3o',\", \"'prote\\u00e7\\u00e3o',\", \"'prote\\u00e7\\u00e3o',\", \"'prote\\u00e7\\u00e3o',\", \"'protocolo',\", \"'protocolo',\", \"'protocolo',\", \"'protocolo',\", \"'protocolo']\", \"'protocolo']\", \"'protocolo']\", \"'protocolo']\", \"'protocolo']\", \"'psicologia',\", \"'publica\\u00e7\\u00e3o',\", \"'publica\\u00e7\\u00e3o',\", \"'publica\\u00e7\\u00e3o',\", \"'publica\\u00e7\\u00e3o',\", \"'publica\\u00e7\\u00f5es',\", \"'publica\\u00e7\\u00f5es',\", \"'publica\\u00e7\\u00f5es',\", \"'publicidade',\", \"'publicidade',\", \"'publico',\", \"'publico',\", \"'pvc',\", \"'pvc',\", \"'p\\u00e1gina',\", \"'p\\u00e1ginas',\", \"'p\\u00e1scoa',\", \"'p\\u00f3',\", \"'p\\u00f3',\", \"'p\\u00f3',\", \"'p\\u00f3',\", \"'p\\u00f3',\", \"'p\\u00fablica',\", \"'p\\u00fablica',\", \"'p\\u00fablica',\", \"'p\\u00fablica',\", \"'p\\u00fablica',\", \"'p\\u00fablica',\", \"'p\\u00fablica',\", \"'p\\u00fablica',\", \"'p\\u00fablica',\", \"'p\\u00fablica',\", \"'p\\u00fablica',\", \"'p\\u00fablica',\", \"'p\\u00fablica',\", \"'p\\u00fablica',\", \"'p\\u00fablica',\", \"'p\\u00fablica']\", \"'p\\u00fablica']\", \"'p\\u00fablica']\", \"'p\\u00fablica']\", \"'p\\u00fablicas']\", \"'p\\u00fablico',\", \"'p\\u00fablico',\", \"'p\\u00fablico',\", \"'p\\u00fablico',\", \"'p\\u00fablico',\", \"'p\\u00fablico',\", \"'p\\u00fablico',\", \"'p\\u00fablico',\", \"'p\\u00fablico',\", \"'p\\u00fablico',\", \"'p\\u00fablico',\", \"'p\\u00fablico',\", \"'p\\u00fablico',\", \"'p\\u00fablicos',\", \"'p\\u00fablicos',\", \"'p\\u00fablicos',\", \"'p\\u00fablicos',\", \"'p\\u00fablicos',\", \"'p\\u00fablicos',\", \"'p\\u00fablicos',\", \"'p\\u00fablicos',\", \"'p\\u00fablicos',\", \"'p\\u00fablicos',\", \"'p\\u00fablicos',\", \"'p\\u00fablicos']\", \"'qualitativos',\", \"'quantidades',\", \"'quantidades',\", \"'quantidades',\", \"'quantidades',\", \"'quantidades',\", \"'quantidades',\", \"'quantidades',\", \"'quantidades',\", \"'quartel',\", \"'quil\\u00f4metro',\", \"'quisi\\u00e7\\u00e3o',\", \"'radiodifus\\u00e3o',\", \"'radiof\\u00f4nico',\", \"'ramais',\", \"'randon',\", \"'randon',\", \"'rastreamento',\", \"'rastreamento',\", \"'reais',\", \"'reais',\", \"'reais',\", \"'realizada',\", \"'realizada',\", \"'realizada',\", \"'realizada',\", \"'realizada',\", \"'realiza\\u00e7\\u00e3o',\", \"'realiza\\u00e7\\u00e3o',\", \"'realiza\\u00e7\\u00e3o',\", \"'realiza\\u00e7\\u00e3o',\", \"'realiza\\u00e7\\u00e3o',\", \"'realiza\\u00e7\\u00e3o',\", \"'realiza\\u00e7\\u00e3o',\", \"'realiza\\u00e7\\u00e3o',\", \"'realiza\\u00e7\\u00e3o',\", \"'realiza\\u00e7\\u00e3o',\", \"'realiza\\u00e7\\u00e3o',\", \"'realiza\\u00e7\\u00e3o',\", \"'realiza\\u00e7\\u00e3o',\", \"'realiza\\u00e7\\u00e3o',\", \"'realiza\\u00e7\\u00e3o',\", \"'recapagem',\", \"'recapagem',\", \"'recapagem',\", \"'recapagens',\", \"'receitas',\", \"'recursos',\", \"'recursos',\", \"'recursos',\", \"'recursos',\", \"'recursos',\", \"'recursos',\", \"'recursos',\", \"'recursos',\", \"'recursos',\", \"'recursos',\", \"'recursos',\", \"'recursos',\", \"'rede',\", \"'rede',\", \"'rede',\", \"'rede',\", \"'rede',\", \"'rede',\", \"'rede',\", \"'rede',\", \"'rede',\", \"'rede',\", \"'rede',\", \"'rede',\", \"'rede',\", \"'rede',\", \"'rede',\", \"'rede',\", \"'ref',\", \"'ref',\", \"'ref',\", \"'refere',\", \"'referente',\", \"'referente',\", \"'referente',\", \"'referente',\", \"'referente',\", \"'referente',\", \"'referente',\", \"'referente',\", \"'referente',\", \"'referente',\", \"'referente',\", \"'referente',\", \"'referente',\", \"'referente',\", \"'referente',\", \"'referido',\", \"'reforma',\", \"'reforma',\", \"'reforma',\", \"'reforma',\", \"'reforma',\", \"'reforma',\", \"'reforma',\", \"'reforma',\", \"'reforma',\", \"'reforma',\", \"'reforma',\", \"'reforma',\", \"'reforma',\", \"'reforma',\", \"'regime',\", \"'regime',\", \"'regime',\", \"'regime',\", \"'regime',\", \"'regime',\", \"'regime',\", \"'regime',\", \"'regime',\", \"'regime',\", \"'regionais',\", \"'registrada',\", \"'registrado',\", \"'registrado',\", \"'registro',\", \"'registro',\", \"'registro',\", \"'registro',\", \"'registro',\", \"'registro',\", \"'registro',\", \"'registro',\", \"'registro',\", \"'registro',\", \"'registro',\", \"'registro',\", \"'registro',\", \"'relacionadas',\", \"'relacionadas',\", \"'relat\\u00f3rios',\", \"'relat\\u00f3rios',\", \"'renault',\", \"'repasse',\", \"'repasse',\", \"'repasse',\", \"'repasse',\", \"'reposi\\u00e7\\u00e3o',\", \"'reposi\\u00e7\\u00e3o',\", \"'reposi\\u00e7\\u00e3o',\", \"'req']\", \"'req']\", \"'req']\", \"'reservat\\u00f3rios',\", \"'reservat\\u00f3rios',\", \"'residencial',\", \"'residente',\", \"'residuos',\", \"'resid\\u00eancia',\", \"'respons\\u00e1vel']\", \"'res\\u00edduos',\", \"'res\\u00edduos',\", \"'retro',\", \"'revis\\u00e3o',\", \"'revis\\u00e3o',\", \"'revis\\u00e3o',\", \"'revis\\u00e3o',\", \"'revis\\u00e3o',\", \"'revis\\u00e3o',\", \"'revis\\u00e3o',\", \"'revis\\u00e3o',\", \"'rinc\\u00e3o',\", \"'rio',\", \"'rio',\", \"'rio',\", \"'rio',\", \"'rio',\", \"'rio',\", \"'rio',\", \"'rio',\", \"'rio',\", \"'rio',\", \"'rio',\", \"'riograndense',\", \"'rodeio',\", \"'rolo',\", \"'rolo',\", \"'ro\\u00e7ada',\", \"'ro\\u00e7adeira',\", \"'rpps',\", \"'rpps']\", \"'rtpcr',\", \"'rua',\", \"'rua',\", \"'rua',\", \"'rua',\", \"'rua',\", \"'rua',\", \"'rua',\", \"'rua',\", \"'ruas',\", \"'ruas',\", \"'ruas',\", \"'ruas',\", \"'ruas',\", \"'rural',\", \"'rural',\", \"'rural',\", \"'rural',\", \"'rural',\", \"'rural',\", \"'rural',\", \"'rural',\", \"'rural',\", \"'rural',\", \"'rural',\", \"'rural',\", \"'rural',\", \"'r\\u00e1pidos',\", \"'s']\", \"'sa',\", \"'saibro',\", \"'salvador',\", \"'sanit\\u00e1rio',\", \"'sanit\\u00e1rio',\", \"'sanit\\u00e1rio',\", \"'sanit\\u00e1rio',\", \"'sanit\\u00e1rio',\", \"'sanit\\u00e1rio',\", \"'saude',\", \"'saude',\", \"'saude',\", \"'saude',\", \"'saude',\", \"'saude',\", \"'sa\\u00fade',\", \"'sa\\u00fade',\", \"'sa\\u00fade',\", \"'sa\\u00fade',\", \"'sa\\u00fade',\", \"'sa\\u00fade',\", \"'sa\\u00fade',\", \"'sa\\u00fade',\", \"'sa\\u00fade',\", \"'sa\\u00fade',\", \"'sa\\u00fade',\", \"'sa\\u00fade',\", \"'sa\\u00fade',\", \"'sa\\u00fade',\", \"'sa\\u00fade']\", \"'sa\\u00fade']\", \"'sa\\u00fade']\", \"'sa\\u00fade']\", \"'sa\\u00fade']\", \"'sa\\u00fade']\", \"'sa\\u00fade']\", \"'sa\\u00fade']\", \"'sa\\u00fade']\", \"'sa\\u00fade']\", \"'sa\\u00fade']\", \"'scanner',\", \"'schneider',\", \"'sec',\", \"'sec',\", \"'sec',\", \"'sec',\", \"'sec',\", \"'secretaria',\", \"'secretaria',\", \"'secretaria',\", \"'secretaria',\", \"'secretaria',\", \"'secretaria',\", \"'secretaria',\", \"'secretaria',\", \"'secretaria',\", \"'secretaria',\", \"'secretaria',\", \"'secretaria',\", \"'secretaria',\", \"'secretaria',\", \"'secretaria',\", \"'secretaria']\", \"'secretarias',\", \"'secretarias',\", \"'secretarias',\", \"'secretarias',\", \"'secretarias',\", \"'secretarias',\", \"'secretarias',\", \"'secretarias',\", \"'secretarias',\", \"'secretarias',\", \"'secretarias',\", \"'secretarias']\", \"'segunda',\", \"'segunda',\", \"'segunda',\", \"'segunda',\", \"'segunda',\", \"'seguran\\u00e7a',\", \"'seguran\\u00e7a',\", \"'seguran\\u00e7a',\", \"'seguran\\u00e7a',\", \"'seguran\\u00e7a',\", \"'seguran\\u00e7a',\", \"'seguran\\u00e7a',\", \"'seguran\\u00e7a',\", \"'seguran\\u00e7a',\", \"'seguran\\u00e7a',\", \"'seguran\\u00e7a',\", \"'seguran\\u00e7a',\", \"'seguro',\", \"'seguro',\", \"'seguro',\", \"'seguro',\", \"'seletivo',\", \"'semana',\", \"'semana',\", \"'semana',\", \"'semana',\", \"'semana',\", \"'semana',\", \"'semanais',\", \"'semanais',\", \"'semanais',\", \"'semanais',\", \"'semanais']\", \"'semanal',\", \"'semanal',\", \"'semestre',\", \"'sendo',\", \"'sendo',\", \"'sendo',\", \"'sendo',\", \"'sendo',\", \"'sendo',\", \"'sendo',\", \"'sendo',\", \"'sendo',\", \"'sendo',\", \"'sendo',\", \"'sendo',\", \"'sendo',\", \"'sendo',\", \"'sendo',\", \"'sentinela',\", \"'serem',\", \"'serem',\", \"'serem',\", \"'serem',\", \"'serem',\", \"'serem',\", \"'serem',\", \"'serem',\", \"'serem',\", \"'serem',\", \"'serem',\", \"'serem',\", \"'serem',\", \"'serem',\", \"'serem',\", \"'servico',\", \"'servico']\", \"'servicos',\", \"'servicos',\", \"'servidores',\", \"'servidores',\", \"'servidores',\", \"'servidores',\", \"'servidores',\", \"'servidores',\", \"'servidores',\", \"'servidores',\", \"'servidores',\", \"'servidores',\", \"'servidores',\", \"'servidores',\", \"'servidores',\", \"'servi\\u00e7o',\", \"'servi\\u00e7o',\", \"'servi\\u00e7o',\", \"'servi\\u00e7o',\", \"'servi\\u00e7o',\", \"'servi\\u00e7o',\", \"'servi\\u00e7o',\", \"'servi\\u00e7o',\", \"'servi\\u00e7o',\", \"'servi\\u00e7o',\", \"'servi\\u00e7o',\", \"'servi\\u00e7o',\", \"'servi\\u00e7o',\", \"'servi\\u00e7o',\", \"'servi\\u00e7o',\", \"'servi\\u00e7o',\", \"'servi\\u00e7os',\", \"'servi\\u00e7os',\", \"'servi\\u00e7os',\", \"'servi\\u00e7os',\", \"'servi\\u00e7os',\", \"'servi\\u00e7os',\", \"'servi\\u00e7os',\", \"'servi\\u00e7os',\", \"'servi\\u00e7os',\", \"'servi\\u00e7os',\", \"'servi\\u00e7os',\", \"'servi\\u00e7os',\", \"'servi\\u00e7os',\", \"'servi\\u00e7os',\", \"'servi\\u00e7os',\", \"'servi\\u00e7os',\", \"'sesc',\", \"'sesc',\", \"'sess\\u00f5es',\", \"'sess\\u00f5es',\", \"'se\\u00e7\\u00e3o',\", \"'sislam']\", \"'sistema',\", \"'sistema',\", \"'sistema',\", \"'sistema',\", \"'sistema',\", \"'sistema',\", \"'sistema',\", \"'sistema',\", \"'sistema',\", \"'sistema',\", \"'sistema',\", \"'sistema',\", \"'sistema',\", \"'sistema',\", \"'sistemas',\", \"'sistemas',\", \"'sistemas',\", \"'sistemas',\", \"'situado',\", \"'situado',\", \"'situado',\", \"'situado',\", \"'situa\\u00e7\\u00e3o',\", \"'situa\\u00e7\\u00e3o',\", \"'situa\\u00e7\\u00e3o',\", \"'sme',\", \"'sme',\", \"'smed',\", \"'smosua',\", \"'smov',\", \"'sms',\", \"'sms',\", \"'social',\", \"'social',\", \"'social',\", \"'social',\", \"'social',\", \"'social',\", \"'social',\", \"'social',\", \"'social',\", \"'social',\", \"'social',\", \"'social',\", \"'social',\", \"'sociedade',\", \"'sociedade',\", \"'software',\", \"'software',\", \"'softwares',\", \"'softwares',\", \"'solda',\", \"'solicita\\u00e7\\u00e3o',\", \"'solicita\\u00e7\\u00e3o',\", \"'solicita\\u00e7\\u00e3o',\", \"'solicita\\u00e7\\u00e3o',\", \"'solicita\\u00e7\\u00e3o',\", \"'solicita\\u00e7\\u00e3o',\", \"'solicita\\u00e7\\u00e3o',\", \"'solu\\u00e7\\u00f5es',\", \"'spin',\", \"'spin',\", \"'spin',\", \"'sr',\", \"'srp',\", \"'subscrito',\", \"'sul',\", \"'sul',\", \"'sul',\", \"'sul',\", \"'sul',\", \"'sul',\", \"'sul',\", \"'sul',\", \"'sul',\", \"'sul',\", \"'sul',\", \"'sul',\", \"'sul',\", \"'sul',\", \"'sul']\", \"'sul']\", \"'sul']\", \"'sul']\", \"'sul']\", \"'sul']\", \"'sul']\", \"'sul']\", \"'sul']\", \"'suporte',\", \"'suporte',\", \"'suporte',\", \"'suporte',\", \"'suporte',\", \"'suporte',\", \"'suporte',\", \"'suporte',\", \"'suprir',\", \"'suprir',\", \"'suprir',\", \"'suprir',\", \"'suprir',\", \"'suspeitos',\", \"'sustent\\u00e1vel',\", \"'sustent\\u00e1vel',\", \"'s\\u00eamen',\", \"'s\\u00f3lidos',\", \"'taxa',\", \"'taxa',\", \"'taxa',\", \"'taxa',\", \"'taxa',\", \"'tecido',\", \"'tecnicos',\", \"'telef\\u00f4nicas',\", \"'telef\\u00f4nicos',\", \"'temperatura',\", \"'tendo',\", \"'tendo',\", \"'tendo',\", \"'tendo',\", \"'tendo',\", \"'tendo',\", \"'tendo',\", \"'tendo',\", \"'tendo',\", \"'tendo',\", \"'tendo',\", \"'tendo',\", \"'tendo',\", \"'tendo',\", \"'tenente',\", \"'terap\\u00eautico',\", \"'termo',\", \"'termo',\", \"'termo',\", \"'termo',\", \"'termo',\", \"'termo',\", \"'termo',\", \"'termo',\", \"'termo',\", \"'termo',\", \"'termo',\", \"'termo',\", \"'termo',\", \"'termo',\", \"'termo',\", \"'termo',\", \"'termo']\", \"'termo']\", \"'termo']\", \"'termo']\", \"'termo']\", \"'termo']\", \"'termos',\", \"'termos',\", \"'termos',\", \"'termos',\", \"'termos',\", \"'termos',\", \"'termos',\", \"'termos',\", \"'termos',\", \"'termos',\", \"'termos',\", \"'termos',\", \"'termos',\", \"'teste',\", \"'teste',\", \"'teste',\", \"'testes',\", \"'testes',\", \"'testes',\", \"'textos',\", \"'tintas',\", \"'tintas',\", \"'tiras',\", \"'toner',\", \"'toners',\", \"'topogr\\u00e1fico',\", \"'total',\", \"'total',\", \"'total',\", \"'total',\", \"'total',\", \"'total',\", \"'total',\", \"'total',\", \"'total',\", \"'total',\", \"'total',\", \"'total',\", \"'total',\", \"'trabalho',\", \"'trabalho',\", \"'trabalho',\", \"'trabalho',\", \"'trabalho',\", \"'trabalho',\", \"'trabalho',\", \"'trabalho',\", \"'trabalho',\", \"'trabalho',\", \"'trabalho',\", \"'trabalho',\", \"'trabalho']\", \"'transfer\\u00eancias',\", \"'transmiss\\u00e3o',\", \"'transmiss\\u00e3o',\", \"'transmiss\\u00e3o',\", \"'transmiss\\u00e3o',\", \"'transmiss\\u00e3o',\", \"'transmiss\\u00e3o',\", \"'transpar\\u00eancia',\", \"'transporte',\", \"'transporte',\", \"'transporte',\", \"'transporte',\", \"'transporte',\", \"'transporte',\", \"'transporte',\", \"'transporte',\", \"'transporte',\", \"'transporte',\", \"'transporte',\", \"'transporte',\", \"'transporte',\", \"'transporte',\", \"'transporte',\", \"'transporte',\", \"'tratamento',\", \"'tratamento',\", \"'tratamento',\", \"'tratamento',\", \"'tratamento',\", \"'tratamento',\", \"'tratamento',\", \"'tratamento',\", \"'tratamento',\", \"'trecho',\", \"'treinamento',\", \"'treinamento',\", \"'treinamento',\", \"'treinamento',\", \"'treinamento',\", \"'tubos',\", \"'tubos',\", \"'turismo',\", \"'turismo',\", \"'turismo',\", \"'turismo',\", \"'turismo',\", \"'turismo',\", \"'turismo',\", \"'turismo',\", \"'tutelar',\", \"'tutelar',\", \"'tutelar',\", \"'t\\u00e9cnica',\", \"'t\\u00e9cnica',\", \"'t\\u00e9cnica',\", \"'t\\u00e9cnica',\", \"'t\\u00e9cnica',\", \"'t\\u00e9cnica',\", \"'t\\u00e9cnica',\", \"'t\\u00e9cnica',\", \"'t\\u00e9cnica',\", \"'t\\u00e9cnica',\", \"'t\\u00e9cnica',\", \"'t\\u00e9cnico',\", \"'t\\u00e9cnico',\", \"'t\\u00e9cnico',\", \"'t\\u00e9cnico',\", \"'t\\u00e9cnico',\", \"'t\\u00e9cnico',\", \"'t\\u00e9cnico',\", \"'t\\u00e9cnico',\", \"'t\\u00e9cnico',\", \"'t\\u00e9cnico',\", \"'t\\u00e9cnicos',\", \"'t\\u00e9cnicos',\", \"'t\\u00e9cnicos',\", \"'t\\u00e9cnicos',\", \"'t\\u00e9cnicos',\", \"'t\\u00e9cnicos',\", \"'unidade',\", \"'unidade',\", \"'unidade',\", \"'unidade',\", \"'unidade',\", \"'unidade',\", \"'unidade',\", \"'unidade',\", \"'unidade',\", \"'unidade',\", \"'unidade',\", \"'uno',\", \"'upa',\", \"'urbanos',\", \"'urbanos',\", \"'urbanos',\", \"'urbanos',\", \"'urg\\u00eancia',\", \"'urg\\u00eancia',\", \"'urg\\u00eancia',\", \"'urg\\u00eancia',\", \"'usada',\", \"'usados',\", \"'usados',\", \"'uso',\", \"'uso',\", \"'uso',\", \"'uso',\", \"'uso',\", \"'uso',\", \"'uso',\", \"'uso',\", \"'uso',\", \"'uso',\", \"'uso',\", \"'uso',\", \"'uso',\", \"'uso',\", \"'uso',\", \"'uso',\", \"'uso']\", \"'uti',\", \"'uti',\", \"'utilidade',\", \"'vacinas',\", \"'vacinas',\", \"'vaga',\", \"'vaga',\", \"'vales',\", \"'validade',\", \"'validade',\", \"'valor',\", \"'valor',\", \"'valor',\", \"'valor',\", \"'valor',\", \"'valor',\", \"'valor',\", \"'valor',\", \"'valor',\", \"'valor',\", \"'valor',\", \"'valor',\", \"'vargas',\", \"'vargas',\", \"'vargas',\", \"'vargas']\", \"'vargas']\", \"'veicula\\u00e7\\u00e3o',\", \"'venda',\", \"'venda',\", \"'venda',\", \"'vereadores',\", \"'vereadores',\", \"'vereadores',\", \"'vereadores',\", \"'vereadores']\", \"'veterin\\u00e1rios',\", \"'vez',\", \"'vez',\", \"'vez',\", \"'ve\\u00edculo',\", \"'ve\\u00edculo',\", \"'ve\\u00edculo',\", \"'ve\\u00edculo',\", \"'ve\\u00edculo',\", \"'ve\\u00edculo',\", \"'ve\\u00edculo']\", \"'ve\\u00edculos',\", \"'ve\\u00edculos',\", \"'ve\\u00edculos',\", \"'ve\\u00edculos',\", \"'ve\\u00edculos',\", \"'ve\\u00edculos',\", \"'ve\\u00edculos',\", \"'ve\\u00edculos',\", \"'ve\\u00edculos',\", \"'ve\\u00edculos',\", \"'ve\\u00edculos',\", \"'ve\\u00edculos',\", \"'ve\\u00edculos',\", \"'ve\\u00edculos']\", \"'via',\", \"'via',\", \"'via',\", \"'via',\", \"'via',\", \"'via',\", \"'via',\", \"'via',\", \"'via',\", \"'viaturas',\", \"'via\\u00e7\\u00e3o']\", \"'via\\u00e7\\u00e3o']\", \"'vigilancia',\", \"'vinte',\", \"'vinte',\", \"'vinte',\", \"'vinte',\", \"'vinte',\", \"'vinte',\", \"'vinte',\", \"'vinte',\", \"'vinte',\", \"'vinte',\", \"'virtude',\", \"'virtude',\", \"'virtude',\", \"'virtude',\", \"'virtude',\", \"'virus',\", \"'visitas',\", \"'volare',\", \"'volta',\", \"'vulnerabilidade',\", \"'vulnerabilidade',\", \"'v\\u00edrus',\", \"'x',\", \"'x',\", \"'x',\", \"'x',\", \"'x',\", \"'x',\", \"'x',\", \"'x',\", \"'x']\", \"'zero',\", \"'zero',\", \"'zero',\", \"'zero',\", \"'\\u00e1',\", \"'\\u00e1gua',\", \"'\\u00e1gua',\", \"'\\u00e1gua',\", \"'\\u00e1gua',\", \"'\\u00e1gua',\", \"'\\u00e1gua',\", \"'\\u00e1gua',\", \"'\\u00e1gua',\", \"'\\u00e1gua',\", \"'\\u00e1gua',\", \"'\\u00e1gua',\", \"'\\u00e1gua',\", \"'\\u00e1gua',\", \"'\\u00e1gua',\", \"'\\u00e1guas',\", \"'\\u00e1guas',\", \"'\\u00e1lcool',\", \"'\\u00e1rea',\", \"'\\u00e1rea',\", \"'\\u00e1rea',\", \"'\\u00e1rea',\", \"'\\u00e1rea',\", \"'\\u00e1rea',\", \"'\\u00e1rea',\", \"'\\u00e1rea',\", \"'\\u00e1rea',\", \"'\\u00e1rea',\", \"'\\u00e1rea',\", \"'\\u00e1rea',\", \"'\\u00e1udio',\", \"'\\u00e1udio',\", \"'\\u00edndice',\", \"'\\u00f3leo',\", \"'\\u00f3leo',\", \"'\\u00f3leo',\", \"'\\u00f3leo',\", \"'\\u00f3leos',\", \"'\\u00f3ptica',\", \"'\\u00f3ptica',\", \"['\", \"['\", \"['\", \"['\", \"['\", \"['\", \"['aquisicao',\", \"['aquisicao',\", \"['aquisicao',\", \"['aquisicao',\", \"['aquisicao',\", \"['aquisicao',\", \"['aquisi\\u00e7ao',\", \"['aquisi\\u00e7\\u00e3o',\", \"['aquisi\\u00e7\\u00e3o',\", \"['aquisi\\u00e7\\u00e3o',\", \"['aquisi\\u00e7\\u00e3o',\", \"['aquisi\\u00e7\\u00e3o',\", \"['aquisi\\u00e7\\u00e3o',\", \"['aquisi\\u00e7\\u00e3o',\", \"['aquisi\\u00e7\\u00e3o',\", \"['aquisi\\u00e7\\u00e3o',\", \"['aquisi\\u00e7\\u00e3o',\", \"['aquisi\\u00e7\\u00e3o',\", \"['aquisi\\u00e7\\u00e3o',\", \"['aquisi\\u00e7\\u00e3o',\", \"['aquisi\\u00e7\\u00e3o',\", \"['aquisi\\u00e7\\u00e3o',\", \"['aquisi\\u00e7\\u00e3o',\", \"['arrendamento',\", \"['assessoria',\", \"['assessoria',\", \"['assessoria',\", \"['assinatura',\", \"['aux\\u00edlio',\", \"['celebra\\u00e7\\u00e3o',\", \"['chamamento',\", \"['chamamento',\", \"['compra',\", \"['compra',\", \"['compra',\", \"['compra',\", \"['compra',\", \"['compra',\", \"['constitui',\", \"['constitui',\", \"['constitui',\", \"['constitui',\", \"['constitui',\", \"['constitui',\", \"['constitui',\", \"['constitui',\", \"['constitui',\", \"['constitui',\", \"['contratacao',\", \"['contratacao',\", \"['contratacao',\", \"['contratacao',\", \"['contrata\\u00e7\\u00e3o',\", \"['contrata\\u00e7\\u00e3o',\", \"['contrata\\u00e7\\u00e3o',\", \"['contrata\\u00e7\\u00e3o',\", \"['contrata\\u00e7\\u00e3o',\", \"['contrata\\u00e7\\u00e3o',\", \"['contrata\\u00e7\\u00e3o',\", \"['contrata\\u00e7\\u00e3o',\", \"['contrata\\u00e7\\u00e3o',\", \"['contrata\\u00e7\\u00e3o',\", \"['contrata\\u00e7\\u00e3o',\", \"['contrata\\u00e7\\u00e3o',\", \"['contrata\\u00e7\\u00e3o',\", \"['contrata\\u00e7\\u00e3o',\", \"['contrata\\u00e7\\u00e3o',\", \"['contrata\\u00e7\\u00e3o',\", \"['contrato',\", \"['contrato',\", \"['contrato',\", \"['contrato',\", \"['contrato',\", \"['contra\\u00e7\\u00e3o',\", \"['despesa',\", \"['despesa',\", \"['despesa',\", \"['despesa',\", \"['despesa',\", \"['despesa',\", \"['despesa',\", \"['despesa',\", \"['despesa',\", \"['dispensa',\", \"['empenho',\", \"['estimativa',\", \"['eventual',\", \"['execu\\u00e7\\u00e3o',\", \"['execu\\u00e7\\u00e3o',\", \"['execu\\u00e7\\u00e3o',\", \"['execu\\u00e7\\u00e3o',\", \"['exerc\\u00edcio',\", \"['fornecimento',\", \"['fornecimento',\", \"['fornecimento',\", \"['fornecimento',\", \"['fornecimento',\", \"['fornecimento',\", \"['fornecimento',\", \"['fornecimento',\", \"['fornecimento',\", \"['fornecimento',\", \"['fornecimento',\", \"['inscri\\u00e7\\u00e3o',\", \"['inscri\\u00e7\\u00e3o',\", \"['inscri\\u00e7\\u00e3o',\", \"['loca\\u00e7\\u00e3o',\", \"['loca\\u00e7\\u00e3o',\", \"['loca\\u00e7\\u00e3o',\", \"['loca\\u00e7\\u00e3o',\", \"['loca\\u00e7\\u00e3o',\", \"['loca\\u00e7\\u00e3o',\", \"['loca\\u00e7\\u00e3o',\", \"['loca\\u00e7\\u00e3o',\", \"['loca\\u00e7\\u00e3o',\", \"['manuten\\u00e7\\u00e3o',\", \"['manuten\\u00e7\\u00e3o',\", \"['manuten\\u00e7\\u00e3o',\", \"['manuten\\u00e7\\u00e3o',\", \"['manuten\\u00e7\\u00e3o',\", \"['manuten\\u00e7\\u00e3o',\", \"['material',\", \"['material',\", \"['medicamentos',\", \"['objeto',\", \"['objeto',\", \"['objeto',\", \"['objeto',\", \"['objeto',\", \"['objeto',\", \"['objeto',\", \"['objeto',\", \"['objeto',\", \"['objeto',\", \"['objeto',\", \"['objeto',\", \"['pagamento',\", \"['pagamento',\", \"['pagamento',\", \"['pagamento',\", \"['pagamento',\", \"['pagamento',\", \"['pagamento',\", \"['pagamento',\", \"['pe\\u00e7as',\", \"['pe\\u00e7as',\", \"['pregao',\", \"['pregao',\", \"['presente',\", \"['presente',\", \"['presente',\", \"['presente',\", \"['presente',\", \"['presente',\", \"['presente',\", \"['presente',\", \"['presente',\", \"['presta\\u00e7\\u00e3o',\", \"['presta\\u00e7\\u00e3o',\", \"['presta\\u00e7\\u00e3o',\", \"['presta\\u00e7\\u00e3o',\", \"['presta\\u00e7\\u00e3o',\", \"['presta\\u00e7\\u00e3o',\", \"['presta\\u00e7\\u00e3o',\", \"['presta\\u00e7\\u00e3o',\", \"['presta\\u00e7\\u00e3o',\", \"['presta\\u00e7\\u00e3o',\", \"['presta\\u00e7\\u00e3o',\", \"['presta\\u00e7\\u00e3o',\", \"['presta\\u00e7\\u00e3o',\", \"['presta\\u00e7\\u00e3o',\", \"['presta\\u00e7\\u00e3o',\", \"['presta\\u00e7\\u00e3o',\", \"['proveniente',\", \"['referente',\", \"['referente',\", \"['referente',\", \"['referente',\", \"['referente',\", \"['referente',\", \"['referente',\", \"['referente',\", \"['referente',\", \"['referente',\", \"['referente',\", \"['referente',\", \"['registro',\", \"['registro',\", \"['registro',\", \"['registro',\", \"['renova\\u00e7\\u00e3o',\", \"['renova\\u00e7\\u00e3o',\", \"['repasse',\", \"['revis\\u00e3o',\", \"['rp',\", \"['solicita\\u00e7\\u00e3o',\", \"['solicita\\u00e7\\u00e3o',\", \"['solicita\\u00e7\\u00e3o',\", \"['termo',\", \"['termo',\", \"['termo',\", \"['transporte',\", \"['valor',\", \"['valor',\", \"['valor',\", \"['valor',\", \"['valor',\"]}, \"R\": 30, \"lambda.step\": 0.01, \"plot.opts\": {\"xlab\": \"PC1\", \"ylab\": \"PC2\"}, \"topic.order\": [10, 15, 12, 2, 9, 1, 16, 3, 4, 14, 7, 6, 8, 11, 13, 5]};\n",
              "\n",
              "function LDAvis_load_lib(url, callback){\n",
              "  var s = document.createElement('script');\n",
              "  s.src = url;\n",
              "  s.async = true;\n",
              "  s.onreadystatechange = s.onload = callback;\n",
              "  s.onerror = function(){console.warn(\"failed to load library \" + url);};\n",
              "  document.getElementsByTagName(\"head\")[0].appendChild(s);\n",
              "}\n",
              "\n",
              "if(typeof(LDAvis) !== \"undefined\"){\n",
              "   // already loaded: just create the visualization\n",
              "   !function(LDAvis){\n",
              "       new LDAvis(\"#\" + \"ldavis_el6981397916741151526327906569\", ldavis_el6981397916741151526327906569_data);\n",
              "   }(LDAvis);\n",
              "}else if(typeof define === \"function\" && define.amd){\n",
              "   // require.js is available: use it to load d3/LDAvis\n",
              "   require.config({paths: {d3: \"https://d3js.org/d3.v5\"}});\n",
              "   require([\"d3\"], function(d3){\n",
              "      window.d3 = d3;\n",
              "      LDAvis_load_lib(\"https://cdn.jsdelivr.net/gh/bmabey/pyLDAvis@3.3.1/pyLDAvis/js/ldavis.v3.0.0.js\", function(){\n",
              "        new LDAvis(\"#\" + \"ldavis_el6981397916741151526327906569\", ldavis_el6981397916741151526327906569_data);\n",
              "      });\n",
              "    });\n",
              "}else{\n",
              "    // require.js not available: dynamically load d3 & LDAvis\n",
              "    LDAvis_load_lib(\"https://d3js.org/d3.v5.js\", function(){\n",
              "         LDAvis_load_lib(\"https://cdn.jsdelivr.net/gh/bmabey/pyLDAvis@3.3.1/pyLDAvis/js/ldavis.v3.0.0.js\", function(){\n",
              "                 new LDAvis(\"#\" + \"ldavis_el6981397916741151526327906569\", ldavis_el6981397916741151526327906569_data);\n",
              "            })\n",
              "         });\n",
              "}\n",
              "</script>"
            ],
            "text/plain": [
              "<IPython.core.display.HTML object>"
            ]
          },
          "metadata": {},
          "execution_count": 31
        }
      ],
      "source": [
        "pyLDAvis.display(display_data_lic)  "
      ]
    },
    {
      "cell_type": "markdown",
      "source": [
        "### NMF + TfidfVectorizer"
      ],
      "metadata": {
        "id": "hEOdRN_XmLDc"
      }
    },
    {
      "cell_type": "code",
      "source": [
        "from sklearn.feature_extraction.text import TfidfVectorizer\n",
        "from sklearn.decomposition import NMF"
      ],
      "metadata": {
        "id": "1x_xRjUboEha"
      },
      "execution_count": 15,
      "outputs": []
    },
    {
      "cell_type": "markdown",
      "source": [
        "pre-processing"
      ],
      "metadata": {
        "id": "0xrHJ98CoaSJ"
      }
    },
    {
      "cell_type": "code",
      "source": [
        "filter_out = filter_out + ['x', '[', ']', ',', '\\t', '\\\\t']"
      ],
      "metadata": {
        "id": "6z88NuF8phMr"
      },
      "execution_count": 12,
      "outputs": []
    },
    {
      "cell_type": "code",
      "source": [
        "tfidf = TfidfVectorizer(max_df=0.95, min_df=2, stop_words=filter_out)"
      ],
      "metadata": {
        "id": "qHdaHBLZobzS"
      },
      "execution_count": 13,
      "outputs": []
    },
    {
      "cell_type": "code",
      "source": [
        "dtm = tfidf.fit_transform(licitacao_21['DS_OBJETO_TOKEN'])"
      ],
      "metadata": {
        "id": "lIt39EZ5pxbB"
      },
      "execution_count": 19,
      "outputs": []
    },
    {
      "cell_type": "code",
      "source": [
        "nmf_model_tv = NMF(n_components=7,random_state=42)"
      ],
      "metadata": {
        "id": "ikevzQ1RnkKS"
      },
      "execution_count": 16,
      "outputs": []
    },
    {
      "cell_type": "code",
      "source": [
        "nmf_model_tv.fit(dtm)"
      ],
      "metadata": {
        "colab": {
          "base_uri": "https://localhost:8080/"
        },
        "id": "1rDg76yEqJHC",
        "outputId": "73801739-6f45-4202-b951-066545193da4"
      },
      "execution_count": 20,
      "outputs": [
        {
          "output_type": "execute_result",
          "data": {
            "text/plain": [
              "NMF(n_components=7, random_state=42)"
            ]
          },
          "metadata": {},
          "execution_count": 20
        }
      ]
    },
    {
      "cell_type": "code",
      "source": [
        "topic_results = nmf_model_tv.transform(dtm)"
      ],
      "metadata": {
        "id": "aahDYpjPqXx3"
      },
      "execution_count": 22,
      "outputs": []
    },
    {
      "cell_type": "code",
      "source": [
        "licitacao_21['Topic_nfm_tv'] = topic_results.argmax(axis=1)"
      ],
      "metadata": {
        "id": "m92uR5WHqdrV"
      },
      "execution_count": 23,
      "outputs": []
    },
    {
      "cell_type": "code",
      "source": [
        "licitacao_21[['DS_OBJETO','Topic_nfm_tv']].head(10)"
      ],
      "metadata": {
        "colab": {
          "base_uri": "https://localhost:8080/",
          "height": 363
        },
        "id": "4v98X8JOqkim",
        "outputId": "ffce9a55-dc2f-4d36-814d-821e62b97d4c"
      },
      "execution_count": 24,
      "outputs": [
        {
          "output_type": "execute_result",
          "data": {
            "text/html": [
              "\n",
              "  <div id=\"df-126a5ea1-2e1f-4543-be34-ba5ad551c6dc\">\n",
              "    <div class=\"colab-df-container\">\n",
              "      <div>\n",
              "<style scoped>\n",
              "    .dataframe tbody tr th:only-of-type {\n",
              "        vertical-align: middle;\n",
              "    }\n",
              "\n",
              "    .dataframe tbody tr th {\n",
              "        vertical-align: top;\n",
              "    }\n",
              "\n",
              "    .dataframe thead th {\n",
              "        text-align: right;\n",
              "    }\n",
              "</style>\n",
              "<table border=\"1\" class=\"dataframe\">\n",
              "  <thead>\n",
              "    <tr style=\"text-align: right;\">\n",
              "      <th></th>\n",
              "      <th>DS_OBJETO</th>\n",
              "      <th>Topic_nfm_tv</th>\n",
              "    </tr>\n",
              "  </thead>\n",
              "  <tbody>\n",
              "    <tr>\n",
              "      <th>0</th>\n",
              "      <td>CONTRATAÇÃO GLOBAL DE EMPRESA PARA CONSTRUÇÃO ...</td>\n",
              "      <td>1</td>\n",
              "    </tr>\n",
              "    <tr>\n",
              "      <th>1</th>\n",
              "      <td>Contratação de empresa para prestação de servi...</td>\n",
              "      <td>1</td>\n",
              "    </tr>\n",
              "    <tr>\n",
              "      <th>2</th>\n",
              "      <td>Aquisição de 80.000 (oitenta mil) quilogramas ...</td>\n",
              "      <td>4</td>\n",
              "    </tr>\n",
              "    <tr>\n",
              "      <th>3</th>\n",
              "      <td>Aquisição de 65 (sessenta e cinco) toneladas d...</td>\n",
              "      <td>4</td>\n",
              "    </tr>\n",
              "    <tr>\n",
              "      <th>4</th>\n",
              "      <td>SERVIÇOS DE FORNECIMENTO DE LINK DEDICADO, DE ...</td>\n",
              "      <td>1</td>\n",
              "    </tr>\n",
              "    <tr>\n",
              "      <th>5</th>\n",
              "      <td>Contratação de empresa para prestação de servi...</td>\n",
              "      <td>1</td>\n",
              "    </tr>\n",
              "    <tr>\n",
              "      <th>6</th>\n",
              "      <td>Contratação de empresa especializada para pres...</td>\n",
              "      <td>1</td>\n",
              "    </tr>\n",
              "    <tr>\n",
              "      <th>7</th>\n",
              "      <td>Aquisição de areia média, lavada e peneirada, ...</td>\n",
              "      <td>2</td>\n",
              "    </tr>\n",
              "    <tr>\n",
              "      <th>8</th>\n",
              "      <td>CONTRATAÇÃO DE EMPRESA PARA INSTALAÇÃO, IMPLAN...</td>\n",
              "      <td>1</td>\n",
              "    </tr>\n",
              "    <tr>\n",
              "      <th>9</th>\n",
              "      <td>Contratação de empresa para divulgação em jorn...</td>\n",
              "      <td>1</td>\n",
              "    </tr>\n",
              "  </tbody>\n",
              "</table>\n",
              "</div>\n",
              "      <button class=\"colab-df-convert\" onclick=\"convertToInteractive('df-126a5ea1-2e1f-4543-be34-ba5ad551c6dc')\"\n",
              "              title=\"Convert this dataframe to an interactive table.\"\n",
              "              style=\"display:none;\">\n",
              "        \n",
              "  <svg xmlns=\"http://www.w3.org/2000/svg\" height=\"24px\"viewBox=\"0 0 24 24\"\n",
              "       width=\"24px\">\n",
              "    <path d=\"M0 0h24v24H0V0z\" fill=\"none\"/>\n",
              "    <path d=\"M18.56 5.44l.94 2.06.94-2.06 2.06-.94-2.06-.94-.94-2.06-.94 2.06-2.06.94zm-11 1L8.5 8.5l.94-2.06 2.06-.94-2.06-.94L8.5 2.5l-.94 2.06-2.06.94zm10 10l.94 2.06.94-2.06 2.06-.94-2.06-.94-.94-2.06-.94 2.06-2.06.94z\"/><path d=\"M17.41 7.96l-1.37-1.37c-.4-.4-.92-.59-1.43-.59-.52 0-1.04.2-1.43.59L10.3 9.45l-7.72 7.72c-.78.78-.78 2.05 0 2.83L4 21.41c.39.39.9.59 1.41.59.51 0 1.02-.2 1.41-.59l7.78-7.78 2.81-2.81c.8-.78.8-2.07 0-2.86zM5.41 20L4 18.59l7.72-7.72 1.47 1.35L5.41 20z\"/>\n",
              "  </svg>\n",
              "      </button>\n",
              "      \n",
              "  <style>\n",
              "    .colab-df-container {\n",
              "      display:flex;\n",
              "      flex-wrap:wrap;\n",
              "      gap: 12px;\n",
              "    }\n",
              "\n",
              "    .colab-df-convert {\n",
              "      background-color: #E8F0FE;\n",
              "      border: none;\n",
              "      border-radius: 50%;\n",
              "      cursor: pointer;\n",
              "      display: none;\n",
              "      fill: #1967D2;\n",
              "      height: 32px;\n",
              "      padding: 0 0 0 0;\n",
              "      width: 32px;\n",
              "    }\n",
              "\n",
              "    .colab-df-convert:hover {\n",
              "      background-color: #E2EBFA;\n",
              "      box-shadow: 0px 1px 2px rgba(60, 64, 67, 0.3), 0px 1px 3px 1px rgba(60, 64, 67, 0.15);\n",
              "      fill: #174EA6;\n",
              "    }\n",
              "\n",
              "    [theme=dark] .colab-df-convert {\n",
              "      background-color: #3B4455;\n",
              "      fill: #D2E3FC;\n",
              "    }\n",
              "\n",
              "    [theme=dark] .colab-df-convert:hover {\n",
              "      background-color: #434B5C;\n",
              "      box-shadow: 0px 1px 3px 1px rgba(0, 0, 0, 0.15);\n",
              "      filter: drop-shadow(0px 1px 2px rgba(0, 0, 0, 0.3));\n",
              "      fill: #FFFFFF;\n",
              "    }\n",
              "  </style>\n",
              "\n",
              "      <script>\n",
              "        const buttonEl =\n",
              "          document.querySelector('#df-126a5ea1-2e1f-4543-be34-ba5ad551c6dc button.colab-df-convert');\n",
              "        buttonEl.style.display =\n",
              "          google.colab.kernel.accessAllowed ? 'block' : 'none';\n",
              "\n",
              "        async function convertToInteractive(key) {\n",
              "          const element = document.querySelector('#df-126a5ea1-2e1f-4543-be34-ba5ad551c6dc');\n",
              "          const dataTable =\n",
              "            await google.colab.kernel.invokeFunction('convertToInteractive',\n",
              "                                                     [key], {});\n",
              "          if (!dataTable) return;\n",
              "\n",
              "          const docLinkHtml = 'Like what you see? Visit the ' +\n",
              "            '<a target=\"_blank\" href=https://colab.research.google.com/notebooks/data_table.ipynb>data table notebook</a>'\n",
              "            + ' to learn more about interactive tables.';\n",
              "          element.innerHTML = '';\n",
              "          dataTable['output_type'] = 'display_data';\n",
              "          await google.colab.output.renderOutput(dataTable, element);\n",
              "          const docLink = document.createElement('div');\n",
              "          docLink.innerHTML = docLinkHtml;\n",
              "          element.appendChild(docLink);\n",
              "        }\n",
              "      </script>\n",
              "    </div>\n",
              "  </div>\n",
              "  "
            ],
            "text/plain": [
              "                                           DS_OBJETO  Topic_nfm_tv\n",
              "0  CONTRATAÇÃO GLOBAL DE EMPRESA PARA CONSTRUÇÃO ...             1\n",
              "1  Contratação de empresa para prestação de servi...             1\n",
              "2  Aquisição de 80.000 (oitenta mil) quilogramas ...             4\n",
              "3  Aquisição de 65 (sessenta e cinco) toneladas d...             4\n",
              "4  SERVIÇOS DE FORNECIMENTO DE LINK DEDICADO, DE ...             1\n",
              "5  Contratação de empresa para prestação de servi...             1\n",
              "6  Contratação de empresa especializada para pres...             1\n",
              "7  Aquisição de areia média, lavada e peneirada, ...             2\n",
              "8  CONTRATAÇÃO DE EMPRESA PARA INSTALAÇÃO, IMPLAN...             1\n",
              "9  Contratação de empresa para divulgação em jorn...             1"
            ]
          },
          "metadata": {},
          "execution_count": 24
        }
      ]
    },
    {
      "cell_type": "code",
      "source": [
        ""
      ],
      "metadata": {
        "id": "eQWfn5-dsKaH"
      },
      "execution_count": null,
      "outputs": []
    },
    {
      "cell_type": "markdown",
      "metadata": {
        "id": "FOSSM37b0A7l"
      },
      "source": [
        "## Análise dos dados"
      ]
    },
    {
      "cell_type": "markdown",
      "metadata": {
        "id": "I4aiEJg60NcS"
      },
      "source": [
        "## Conclusão"
      ]
    },
    {
      "cell_type": "markdown",
      "metadata": {
        "id": "Xsqc4NvtPuKn"
      },
      "source": [
        "Counter Vectorizarion -> contar a ocorrência de cada palavra para mapear o texto para um número\n",
        "\n",
        "CounterVectorizer\n",
        "\n",
        "TfidfVectorizer -> cria a mais uma matriz de termos de documento a partir de nossas mensagens.\n",
        "No entanto, em vez de preencher o DTM com contagens de token, ele calcula o valor da frequência do documento inverso da frequência do termo para cada palavra (TF-IDF).\n",
        "Um fator de frequência de documento inverso é incorporado, o que diminui o peso dos termos que ocorrem com muita frequência no conjunto de documentos e aumenta o peso dos termos que ocorrem raramente.\n"
      ]
    },
    {
      "cell_type": "markdown",
      "metadata": {
        "id": "LQmt32LkNuEB"
      },
      "source": [
        "Quais foram as áreas com maiores investimentos?"
      ]
    },
    {
      "cell_type": "markdown",
      "metadata": {
        "id": "eLjYwovDN6Qm"
      },
      "source": [
        "E quais foram os principais itens licitados nelas?"
      ]
    },
    {
      "cell_type": "code",
      "execution_count": null,
      "metadata": {
        "id": "SIob_MW7NtkJ"
      },
      "outputs": [],
      "source": [
        ""
      ]
    }
  ],
  "metadata": {
    "colab": {
      "collapsed_sections": [
        "JTFTbZhEuQPx",
        "ndGGL_5OpOoQ",
        "RBGu3lHxumUV",
        "wmZpI_COxX7Y",
        "cOKxlmG8gvTN",
        "9SaqqMLSz83K",
        "PmqaWOr5YlDm"
      ],
      "name": "Maiores_investimentos_licitações.ipynb",
      "provenance": [],
      "include_colab_link": true
    },
    "kernelspec": {
      "display_name": "Python 3",
      "name": "python3"
    },
    "language_info": {
      "codemirror_mode": {
        "name": "ipython",
        "version": 3
      },
      "file_extension": ".py",
      "mimetype": "text/x-python",
      "name": "python",
      "nbconvert_exporter": "python",
      "pygments_lexer": "ipython3",
      "version": "3.7.11"
    },
    "accelerator": "GPU"
  },
  "nbformat": 4,
  "nbformat_minor": 0
}