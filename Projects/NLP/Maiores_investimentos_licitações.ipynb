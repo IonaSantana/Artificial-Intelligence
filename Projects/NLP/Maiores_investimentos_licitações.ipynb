{
  "cells": [
    {
      "cell_type": "markdown",
      "metadata": {
        "id": "view-in-github",
        "colab_type": "text"
      },
      "source": [
        "<a href=\"https://colab.research.google.com/github/IonaSantana/Artificial-Intelligence/blob/main/Projects/NLP/Maiores_investimentos_licitac%CC%A7o%CC%83es.ipynb\" target=\"_parent\"><img src=\"https://colab.research.google.com/assets/colab-badge.svg\" alt=\"Open In Colab\"/></a>"
      ]
    },
    {
      "cell_type": "markdown",
      "metadata": {
        "id": "uu7G0Zsyq9Kk"
      },
      "source": [
        "### Situação:"
      ]
    },
    {
      "cell_type": "markdown",
      "metadata": {
        "id": "SfinOPAFqUe2"
      },
      "source": [
        "Usando os dados das licitações do ano de 2021, no Rio Grande do Sul, fazer uma análise dos principais itens licitados e das áreas que receberam maior investimento por meio de licitações\n",
        "\n",
        "Link: http://dados.tce.rs.gov.br/dataset?groups=licitacoes&q=consolidado"
      ]
    },
    {
      "cell_type": "markdown",
      "metadata": {
        "id": "virQsZRzPuKQ"
      },
      "source": [
        "Referências:\n",
        "\n",
        "https://github.com/PatrickLdA/licitacoes-RS/blob/main/notebook.ipynb\n",
        "\n",
        "https://medium.com/somos-tera/como-modelar-t%C3%B3picos-atrav%C3%A9s-de-latent-dirichlet-allocation-lda-atrav%C3%A9s-da-biblioteca-gensim-1fa17357ad4b\n",
        "\n",
        "Obs: O link abaixo baixa um pdf\n",
        "\n",
        "https://www.google.com/url?sa=t&rct=j&q=&esrc=s&source=web&cd=&ved=2ahUKEwjbwsqY2MD1AhVVK7kGHcZQBvUQFnoECBcQAQ&url=https%3A%2F%2Fweb.icmc.usp.br%2FSCATUSU%2FRT%2Frt409.pdf&usg=AOvVaw31MH2rX3RhaXvEE7Am39PT "
      ]
    },
    {
      "cell_type": "markdown",
      "metadata": {
        "id": "JTFTbZhEuQPx"
      },
      "source": [
        "### Imports"
      ]
    },
    {
      "cell_type": "code",
      "execution_count": 5,
      "metadata": {
        "id": "cJ4hoz1kuPFM"
      },
      "outputs": [],
      "source": [
        "import pandas as pd\n",
        "import numpy as np\n",
        "import os\n",
        "import matplotlib.pyplot as plt\n",
        "%matplotlib inline\n",
        "import warnings\n",
        "warnings.filterwarnings(\"ignore\")\n",
        "#\n",
        "import spacy \n",
        "import nltk"
      ]
    },
    {
      "cell_type": "code",
      "source": [
        "# Libs adicionais de NLP\n",
        "import spacy \n",
        "import nltk\n",
        "from sklearn.feature_extraction.text import CountVectorizer, TfidfVectorizer\n",
        "import re"
      ],
      "metadata": {
        "id": "SHUrVXwgTk2M"
      },
      "execution_count": 6,
      "outputs": []
    },
    {
      "cell_type": "code",
      "source": [
        "#!pip install -U pyLDAvis"
      ],
      "metadata": {
        "id": "jD5zC4FWaiJF"
      },
      "execution_count": 7,
      "outputs": []
    },
    {
      "cell_type": "code",
      "source": [
        "from sklearn.decomposition import LatentDirichletAllocation\n",
        "\n",
        "#gráficos \n",
        "import pyLDAvis\n",
        "import pyLDAvis.gensim_models"
      ],
      "metadata": {
        "colab": {
          "base_uri": "https://localhost:8080/"
        },
        "id": "gS9q7ZpcTrDj",
        "outputId": "d43c4a39-450b-410e-b6b5-61ad5657314c"
      },
      "execution_count": 8,
      "outputs": [
        {
          "output_type": "stream",
          "name": "stderr",
          "text": [
            "/usr/local/lib/python3.7/dist-packages/past/types/oldstr.py:5: DeprecationWarning: Using or importing the ABCs from 'collections' instead of from 'collections.abc' is deprecated since Python 3.3,and in 3.9 it will stop working\n",
            "  from collections import Iterable\n",
            "/usr/local/lib/python3.7/dist-packages/past/builtins/misc.py:4: DeprecationWarning: Using or importing the ABCs from 'collections' instead of from 'collections.abc' is deprecated since Python 3.3,and in 3.9 it will stop working\n",
            "  from collections import Mapping\n"
          ]
        }
      ]
    },
    {
      "cell_type": "code",
      "source": [
        "from sklearn.feature_extraction.text import CountVectorizer\n",
        "import gensim\n",
        "import gensim.corpora as corpora\n",
        "from gensim.utils import simple_preprocess\n",
        "from gensim.models import CoherenceModel\n",
        "from gensim.models.doc2vec import Doc2Vec, TaggedDocument\n",
        "from gensim.models.ldamulticore import LdaMulticore\n",
        "from tqdm import tqdm"
      ],
      "metadata": {
        "id": "YK4a0zoxTbBw"
      },
      "execution_count": 9,
      "outputs": []
    },
    {
      "cell_type": "code",
      "source": [
        "import matplotlib.colors as mcolors\n",
        "%matplotlib inline\n",
        "from wordcloud import WordCloud, STOPWORDS"
      ],
      "metadata": {
        "id": "JT_iCIggUWFJ"
      },
      "execution_count": 10,
      "outputs": []
    },
    {
      "cell_type": "code",
      "source": [
        "from google.colab import drive\n",
        "drive.mount('/content/drive')"
      ],
      "metadata": {
        "colab": {
          "base_uri": "https://localhost:8080/"
        },
        "id": "Vsss-f5kP5Zl",
        "outputId": "79186456-ab2e-456f-9743-d55e8c2087dc"
      },
      "execution_count": 11,
      "outputs": [
        {
          "output_type": "stream",
          "name": "stdout",
          "text": [
            "Drive already mounted at /content/drive; to attempt to forcibly remount, call drive.mount(\"/content/drive\", force_remount=True).\n"
          ]
        }
      ]
    },
    {
      "cell_type": "code",
      "source": [
        "from sklearn.feature_extraction.text import TfidfVectorizer\n",
        "from sklearn.decomposition import NMF"
      ],
      "metadata": {
        "id": "1x_xRjUboEha"
      },
      "execution_count": 12,
      "outputs": []
    },
    {
      "cell_type": "markdown",
      "source": [
        "### Não precisa importar depois do pre-processamento"
      ],
      "metadata": {
        "id": "ndGGL_5OpOoQ"
      }
    },
    {
      "cell_type": "code",
      "execution_count": 7,
      "metadata": {
        "id": "tYzY7cd_5jV5"
      },
      "outputs": [],
      "source": [
        "files = os.listdir('/content/drive/MyDrive/NLP/2021')"
      ]
    },
    {
      "cell_type": "code",
      "execution_count": 8,
      "metadata": {
        "colab": {
          "base_uri": "https://localhost:8080/"
        },
        "id": "Whx_M0EU5tlG",
        "outputId": "f6d37bcf-afa4-4107-e21d-1e59aeee26d3"
      },
      "outputs": [
        {
          "output_type": "execute_result",
          "data": {
            "text/plain": [
              "['pessoas.csv',\n",
              " 'membrocons.csv',\n",
              " 'comissao.csv',\n",
              " 'memcomissao.csv',\n",
              " 'licitacao.csv',\n",
              " 'licitante.csv',\n",
              " 'dotacao_lic.csv',\n",
              " 'evento_lic.csv',\n",
              " 'documento_lic.csv',\n",
              " 'lote.csv',\n",
              " 'item.csv',\n",
              " 'proposta.csv',\n",
              " 'lote_prop.csv',\n",
              " 'item_prop.csv']"
            ]
          },
          "metadata": {},
          "execution_count": 8
        }
      ],
      "source": [
        "files"
      ]
    },
    {
      "cell_type": "code",
      "execution_count": 9,
      "metadata": {
        "id": "yOtGZh0fvKIE"
      },
      "outputs": [],
      "source": [
        "licitacao = pd.read_csv('/content/drive/MyDrive/NLP/2021/' + files[4])\n",
        "item = pd.read_csv('/content/drive/MyDrive/NLP/2021/' + files[10])"
      ]
    },
    {
      "cell_type": "markdown",
      "metadata": {
        "id": "RBGu3lHxumUV"
      },
      "source": [
        "### Pré-processamento Dados"
      ]
    },
    {
      "cell_type": "code",
      "execution_count": 10,
      "metadata": {
        "id": "UIIZNLXs9M-a"
      },
      "outputs": [],
      "source": [
        "cols = ['CD_ORGAO', 'NM_ORGAO', 'NR_LICITACAO', 'CD_TIPO_MODALIDADE','DS_OBJETO', 'VL_LICITACAO', 'BL_COVID19']\n",
        "licitacao_21 = licitacao[cols]"
      ]
    },
    {
      "cell_type": "code",
      "execution_count": 11,
      "metadata": {
        "id": "pfVB-X1dxzRf"
      },
      "outputs": [],
      "source": [
        "licitacao_21 = licitacao_21.dropna()"
      ]
    },
    {
      "cell_type": "code",
      "execution_count": 12,
      "metadata": {
        "colab": {
          "base_uri": "https://localhost:8080/",
          "height": 433
        },
        "id": "LBRRVx8JHc77",
        "outputId": "075d5772-3073-4c13-c478-f97dd9a454ee"
      },
      "outputs": [
        {
          "output_type": "execute_result",
          "data": {
            "text/html": [
              "\n",
              "  <div id=\"df-e03450f6-afc9-4ab9-bb07-35a7775f2d01\">\n",
              "    <div class=\"colab-df-container\">\n",
              "      <div>\n",
              "<style scoped>\n",
              "    .dataframe tbody tr th:only-of-type {\n",
              "        vertical-align: middle;\n",
              "    }\n",
              "\n",
              "    .dataframe tbody tr th {\n",
              "        vertical-align: top;\n",
              "    }\n",
              "\n",
              "    .dataframe thead th {\n",
              "        text-align: right;\n",
              "    }\n",
              "</style>\n",
              "<table border=\"1\" class=\"dataframe\">\n",
              "  <thead>\n",
              "    <tr style=\"text-align: right;\">\n",
              "      <th></th>\n",
              "      <th>CD_ORGAO</th>\n",
              "      <th>NM_ORGAO</th>\n",
              "      <th>NR_LICITACAO</th>\n",
              "      <th>CD_TIPO_MODALIDADE</th>\n",
              "      <th>DS_OBJETO</th>\n",
              "      <th>VL_LICITACAO</th>\n",
              "      <th>BL_COVID19</th>\n",
              "    </tr>\n",
              "  </thead>\n",
              "  <tbody>\n",
              "    <tr>\n",
              "      <th>0</th>\n",
              "      <td>53100</td>\n",
              "      <td>PM DE NOVA PALMA</td>\n",
              "      <td>1.0</td>\n",
              "      <td>TMP</td>\n",
              "      <td>CONTRATAÇÃO GLOBAL DE EMPRESA PARA CONSTRUÇÃO ...</td>\n",
              "      <td>259765.0</td>\n",
              "      <td>N</td>\n",
              "    </tr>\n",
              "    <tr>\n",
              "      <th>1</th>\n",
              "      <td>86800</td>\n",
              "      <td>PM DE BOA VISTA DO SUL</td>\n",
              "      <td>2.0</td>\n",
              "      <td>PRP</td>\n",
              "      <td>Contratação de empresa para prestação de servi...</td>\n",
              "      <td>390625.0</td>\n",
              "      <td>N</td>\n",
              "    </tr>\n",
              "    <tr>\n",
              "      <th>2</th>\n",
              "      <td>45003</td>\n",
              "      <td>SERVIÇO AUTÔN. MUN. DE ÁGUA E ESGOTO - CX.SUL</td>\n",
              "      <td>46.0</td>\n",
              "      <td>PRP</td>\n",
              "      <td>Aquisição de 80.000 (oitenta mil) quilogramas ...</td>\n",
              "      <td>833800.0</td>\n",
              "      <td>N</td>\n",
              "    </tr>\n",
              "  </tbody>\n",
              "</table>\n",
              "</div>\n",
              "      <button class=\"colab-df-convert\" onclick=\"convertToInteractive('df-e03450f6-afc9-4ab9-bb07-35a7775f2d01')\"\n",
              "              title=\"Convert this dataframe to an interactive table.\"\n",
              "              style=\"display:none;\">\n",
              "        \n",
              "  <svg xmlns=\"http://www.w3.org/2000/svg\" height=\"24px\"viewBox=\"0 0 24 24\"\n",
              "       width=\"24px\">\n",
              "    <path d=\"M0 0h24v24H0V0z\" fill=\"none\"/>\n",
              "    <path d=\"M18.56 5.44l.94 2.06.94-2.06 2.06-.94-2.06-.94-.94-2.06-.94 2.06-2.06.94zm-11 1L8.5 8.5l.94-2.06 2.06-.94-2.06-.94L8.5 2.5l-.94 2.06-2.06.94zm10 10l.94 2.06.94-2.06 2.06-.94-2.06-.94-.94-2.06-.94 2.06-2.06.94z\"/><path d=\"M17.41 7.96l-1.37-1.37c-.4-.4-.92-.59-1.43-.59-.52 0-1.04.2-1.43.59L10.3 9.45l-7.72 7.72c-.78.78-.78 2.05 0 2.83L4 21.41c.39.39.9.59 1.41.59.51 0 1.02-.2 1.41-.59l7.78-7.78 2.81-2.81c.8-.78.8-2.07 0-2.86zM5.41 20L4 18.59l7.72-7.72 1.47 1.35L5.41 20z\"/>\n",
              "  </svg>\n",
              "      </button>\n",
              "      \n",
              "  <style>\n",
              "    .colab-df-container {\n",
              "      display:flex;\n",
              "      flex-wrap:wrap;\n",
              "      gap: 12px;\n",
              "    }\n",
              "\n",
              "    .colab-df-convert {\n",
              "      background-color: #E8F0FE;\n",
              "      border: none;\n",
              "      border-radius: 50%;\n",
              "      cursor: pointer;\n",
              "      display: none;\n",
              "      fill: #1967D2;\n",
              "      height: 32px;\n",
              "      padding: 0 0 0 0;\n",
              "      width: 32px;\n",
              "    }\n",
              "\n",
              "    .colab-df-convert:hover {\n",
              "      background-color: #E2EBFA;\n",
              "      box-shadow: 0px 1px 2px rgba(60, 64, 67, 0.3), 0px 1px 3px 1px rgba(60, 64, 67, 0.15);\n",
              "      fill: #174EA6;\n",
              "    }\n",
              "\n",
              "    [theme=dark] .colab-df-convert {\n",
              "      background-color: #3B4455;\n",
              "      fill: #D2E3FC;\n",
              "    }\n",
              "\n",
              "    [theme=dark] .colab-df-convert:hover {\n",
              "      background-color: #434B5C;\n",
              "      box-shadow: 0px 1px 3px 1px rgba(0, 0, 0, 0.15);\n",
              "      filter: drop-shadow(0px 1px 2px rgba(0, 0, 0, 0.3));\n",
              "      fill: #FFFFFF;\n",
              "    }\n",
              "  </style>\n",
              "\n",
              "      <script>\n",
              "        const buttonEl =\n",
              "          document.querySelector('#df-e03450f6-afc9-4ab9-bb07-35a7775f2d01 button.colab-df-convert');\n",
              "        buttonEl.style.display =\n",
              "          google.colab.kernel.accessAllowed ? 'block' : 'none';\n",
              "\n",
              "        async function convertToInteractive(key) {\n",
              "          const element = document.querySelector('#df-e03450f6-afc9-4ab9-bb07-35a7775f2d01');\n",
              "          const dataTable =\n",
              "            await google.colab.kernel.invokeFunction('convertToInteractive',\n",
              "                                                     [key], {});\n",
              "          if (!dataTable) return;\n",
              "\n",
              "          const docLinkHtml = 'Like what you see? Visit the ' +\n",
              "            '<a target=\"_blank\" href=https://colab.research.google.com/notebooks/data_table.ipynb>data table notebook</a>'\n",
              "            + ' to learn more about interactive tables.';\n",
              "          element.innerHTML = '';\n",
              "          dataTable['output_type'] = 'display_data';\n",
              "          await google.colab.output.renderOutput(dataTable, element);\n",
              "          const docLink = document.createElement('div');\n",
              "          docLink.innerHTML = docLinkHtml;\n",
              "          element.appendChild(docLink);\n",
              "        }\n",
              "      </script>\n",
              "    </div>\n",
              "  </div>\n",
              "  "
            ],
            "text/plain": [
              "   CD_ORGAO  ... BL_COVID19\n",
              "0     53100  ...          N\n",
              "1     86800  ...          N\n",
              "2     45003  ...          N\n",
              "\n",
              "[3 rows x 7 columns]"
            ]
          },
          "metadata": {},
          "execution_count": 12
        }
      ],
      "source": [
        "licitacao_21.head(3)"
      ]
    },
    {
      "cell_type": "code",
      "execution_count": 13,
      "metadata": {
        "id": "x8R4Y7eD9UTI"
      },
      "outputs": [],
      "source": [
        "item_licitacao = item.iloc[:, 0:12]\n",
        "item_licitacao['BL_COVID19'] = item['BL_COVID19'] "
      ]
    },
    {
      "cell_type": "code",
      "execution_count": 14,
      "metadata": {
        "colab": {
          "base_uri": "https://localhost:8080/"
        },
        "id": "Ap2LJwwzyBAv",
        "outputId": "21f9ed14-5fdd-4ff2-cb87-835930234469"
      },
      "outputs": [
        {
          "output_type": "execute_result",
          "data": {
            "text/plain": [
              "CD_ORGAO                    0\n",
              "NR_LICITACAO                0\n",
              "ANO_LICITACAO               0\n",
              "CD_TIPO_MODALIDADE          0\n",
              "NR_LOTE                     0\n",
              "NR_ITEM                     0\n",
              "NR_ITEM_ORIGINAL            0\n",
              "DS_ITEM                     1\n",
              "QT_ITENS                    0\n",
              "SG_UNIDADE_MEDIDA           0\n",
              "VL_UNITARIO_ESTIMADO    39446\n",
              "VL_TOTAL_ESTIMADO       39446\n",
              "BL_COVID19                  0\n",
              "dtype: int64"
            ]
          },
          "metadata": {},
          "execution_count": 14
        }
      ],
      "source": [
        "item_licitacao.isna().sum()"
      ]
    },
    {
      "cell_type": "code",
      "execution_count": 15,
      "metadata": {
        "id": "O2q1xeSWxKem"
      },
      "outputs": [],
      "source": [
        "item_licitacao = item_licitacao.dropna()"
      ]
    },
    {
      "cell_type": "code",
      "execution_count": 16,
      "metadata": {
        "colab": {
          "base_uri": "https://localhost:8080/"
        },
        "id": "qAmKnZLfx-Pw",
        "outputId": "2b3d30fa-deb6-4f97-faea-4c29e4690aba"
      },
      "outputs": [
        {
          "output_type": "execute_result",
          "data": {
            "text/plain": [
              "(87469, 932800)"
            ]
          },
          "metadata": {},
          "execution_count": 16
        }
      ],
      "source": [
        "len(licitacao_21), len(item_licitacao)"
      ]
    },
    {
      "cell_type": "code",
      "execution_count": 17,
      "metadata": {
        "id": "VbNGsWkByJ4T"
      },
      "outputs": [],
      "source": [
        "licitacao_21['covid'] = np.where((licitacao_21['BL_COVID19'] == 'S'), ' covid19', '')\n",
        "licitacao_21['DS_OBJETO'] = licitacao_21['DS_OBJETO'] + licitacao_21['covid']"
      ]
    },
    {
      "cell_type": "code",
      "execution_count": 18,
      "metadata": {
        "id": "SPpubdTYGwtT"
      },
      "outputs": [],
      "source": [
        "licitacao_21 = licitacao_21.drop(['BL_COVID19', 'covid'], axis = 1)"
      ]
    },
    {
      "cell_type": "code",
      "execution_count": 19,
      "metadata": {
        "id": "jxrbDs0exJtm"
      },
      "outputs": [],
      "source": [
        "item_licitacao['covid'] = np.where((item_licitacao['BL_COVID19'] == 'S'), ' covid19', '')\n",
        "item_licitacao['DS_ITEM'] = item_licitacao['DS_ITEM'] + item_licitacao['covid']"
      ]
    },
    {
      "cell_type": "code",
      "execution_count": 20,
      "metadata": {
        "id": "evpu74VeEj2O"
      },
      "outputs": [],
      "source": [
        "item_licitacao = item_licitacao.drop(['BL_COVID19', 'covid'], axis = 1)"
      ]
    },
    {
      "cell_type": "code",
      "execution_count": 21,
      "metadata": {
        "colab": {
          "base_uri": "https://localhost:8080/",
          "height": 381
        },
        "id": "f4FM6DJGEeaZ",
        "outputId": "cb0e9b2b-ed4c-4e76-ee4a-7592e641467c"
      },
      "outputs": [
        {
          "output_type": "execute_result",
          "data": {
            "text/html": [
              "\n",
              "  <div id=\"df-ed57d54b-ba7a-4755-bdd0-0976024e288c\">\n",
              "    <div class=\"colab-df-container\">\n",
              "      <div>\n",
              "<style scoped>\n",
              "    .dataframe tbody tr th:only-of-type {\n",
              "        vertical-align: middle;\n",
              "    }\n",
              "\n",
              "    .dataframe tbody tr th {\n",
              "        vertical-align: top;\n",
              "    }\n",
              "\n",
              "    .dataframe thead th {\n",
              "        text-align: right;\n",
              "    }\n",
              "</style>\n",
              "<table border=\"1\" class=\"dataframe\">\n",
              "  <thead>\n",
              "    <tr style=\"text-align: right;\">\n",
              "      <th></th>\n",
              "      <th>CD_ORGAO</th>\n",
              "      <th>NR_LICITACAO</th>\n",
              "      <th>CD_TIPO_MODALIDADE</th>\n",
              "      <th>NR_LOTE</th>\n",
              "      <th>NR_ITEM</th>\n",
              "      <th>NR_ITEM_ORIGINAL</th>\n",
              "      <th>DS_ITEM</th>\n",
              "      <th>QT_ITENS</th>\n",
              "      <th>SG_UNIDADE_MEDIDA</th>\n",
              "      <th>VL_UNITARIO_ESTIMADO</th>\n",
              "      <th>VL_TOTAL_ESTIMADO</th>\n",
              "    </tr>\n",
              "  </thead>\n",
              "  <tbody>\n",
              "    <tr>\n",
              "      <th>0</th>\n",
              "      <td>44500</td>\n",
              "      <td>274.0</td>\n",
              "      <td>CPC</td>\n",
              "      <td>1</td>\n",
              "      <td>1</td>\n",
              "      <td>1</td>\n",
              "      <td>Credenciamento de academias de ginástica e mus...</td>\n",
              "      <td>1.0</td>\n",
              "      <td>UN</td>\n",
              "      <td>50.00</td>\n",
              "      <td>50.00</td>\n",
              "    </tr>\n",
              "    <tr>\n",
              "      <th>1</th>\n",
              "      <td>56900</td>\n",
              "      <td>25.0</td>\n",
              "      <td>TMP</td>\n",
              "      <td>1</td>\n",
              "      <td>1</td>\n",
              "      <td>1.1</td>\n",
              "      <td>PLACA DE OBRA (PARA CONSTRUCAO CIVIL) EM CHAPA...</td>\n",
              "      <td>6.0</td>\n",
              "      <td>M2</td>\n",
              "      <td>272.49</td>\n",
              "      <td>1634.94</td>\n",
              "    </tr>\n",
              "    <tr>\n",
              "      <th>2</th>\n",
              "      <td>56900</td>\n",
              "      <td>25.0</td>\n",
              "      <td>TMP</td>\n",
              "      <td>1</td>\n",
              "      <td>2</td>\n",
              "      <td>1.2</td>\n",
              "      <td>TAPUME COM COMPENSADO DE MADEIRA. AF_05/2018</td>\n",
              "      <td>71.0</td>\n",
              "      <td>M2</td>\n",
              "      <td>128.69</td>\n",
              "      <td>9136.99</td>\n",
              "    </tr>\n",
              "  </tbody>\n",
              "</table>\n",
              "</div>\n",
              "      <button class=\"colab-df-convert\" onclick=\"convertToInteractive('df-ed57d54b-ba7a-4755-bdd0-0976024e288c')\"\n",
              "              title=\"Convert this dataframe to an interactive table.\"\n",
              "              style=\"display:none;\">\n",
              "        \n",
              "  <svg xmlns=\"http://www.w3.org/2000/svg\" height=\"24px\"viewBox=\"0 0 24 24\"\n",
              "       width=\"24px\">\n",
              "    <path d=\"M0 0h24v24H0V0z\" fill=\"none\"/>\n",
              "    <path d=\"M18.56 5.44l.94 2.06.94-2.06 2.06-.94-2.06-.94-.94-2.06-.94 2.06-2.06.94zm-11 1L8.5 8.5l.94-2.06 2.06-.94-2.06-.94L8.5 2.5l-.94 2.06-2.06.94zm10 10l.94 2.06.94-2.06 2.06-.94-2.06-.94-.94-2.06-.94 2.06-2.06.94z\"/><path d=\"M17.41 7.96l-1.37-1.37c-.4-.4-.92-.59-1.43-.59-.52 0-1.04.2-1.43.59L10.3 9.45l-7.72 7.72c-.78.78-.78 2.05 0 2.83L4 21.41c.39.39.9.59 1.41.59.51 0 1.02-.2 1.41-.59l7.78-7.78 2.81-2.81c.8-.78.8-2.07 0-2.86zM5.41 20L4 18.59l7.72-7.72 1.47 1.35L5.41 20z\"/>\n",
              "  </svg>\n",
              "      </button>\n",
              "      \n",
              "  <style>\n",
              "    .colab-df-container {\n",
              "      display:flex;\n",
              "      flex-wrap:wrap;\n",
              "      gap: 12px;\n",
              "    }\n",
              "\n",
              "    .colab-df-convert {\n",
              "      background-color: #E8F0FE;\n",
              "      border: none;\n",
              "      border-radius: 50%;\n",
              "      cursor: pointer;\n",
              "      display: none;\n",
              "      fill: #1967D2;\n",
              "      height: 32px;\n",
              "      padding: 0 0 0 0;\n",
              "      width: 32px;\n",
              "    }\n",
              "\n",
              "    .colab-df-convert:hover {\n",
              "      background-color: #E2EBFA;\n",
              "      box-shadow: 0px 1px 2px rgba(60, 64, 67, 0.3), 0px 1px 3px 1px rgba(60, 64, 67, 0.15);\n",
              "      fill: #174EA6;\n",
              "    }\n",
              "\n",
              "    [theme=dark] .colab-df-convert {\n",
              "      background-color: #3B4455;\n",
              "      fill: #D2E3FC;\n",
              "    }\n",
              "\n",
              "    [theme=dark] .colab-df-convert:hover {\n",
              "      background-color: #434B5C;\n",
              "      box-shadow: 0px 1px 3px 1px rgba(0, 0, 0, 0.15);\n",
              "      filter: drop-shadow(0px 1px 2px rgba(0, 0, 0, 0.3));\n",
              "      fill: #FFFFFF;\n",
              "    }\n",
              "  </style>\n",
              "\n",
              "      <script>\n",
              "        const buttonEl =\n",
              "          document.querySelector('#df-ed57d54b-ba7a-4755-bdd0-0976024e288c button.colab-df-convert');\n",
              "        buttonEl.style.display =\n",
              "          google.colab.kernel.accessAllowed ? 'block' : 'none';\n",
              "\n",
              "        async function convertToInteractive(key) {\n",
              "          const element = document.querySelector('#df-ed57d54b-ba7a-4755-bdd0-0976024e288c');\n",
              "          const dataTable =\n",
              "            await google.colab.kernel.invokeFunction('convertToInteractive',\n",
              "                                                     [key], {});\n",
              "          if (!dataTable) return;\n",
              "\n",
              "          const docLinkHtml = 'Like what you see? Visit the ' +\n",
              "            '<a target=\"_blank\" href=https://colab.research.google.com/notebooks/data_table.ipynb>data table notebook</a>'\n",
              "            + ' to learn more about interactive tables.';\n",
              "          element.innerHTML = '';\n",
              "          dataTable['output_type'] = 'display_data';\n",
              "          await google.colab.output.renderOutput(dataTable, element);\n",
              "          const docLink = document.createElement('div');\n",
              "          docLink.innerHTML = docLinkHtml;\n",
              "          element.appendChild(docLink);\n",
              "        }\n",
              "      </script>\n",
              "    </div>\n",
              "  </div>\n",
              "  "
            ],
            "text/plain": [
              "   CD_ORGAO  NR_LICITACAO  ... VL_UNITARIO_ESTIMADO  VL_TOTAL_ESTIMADO\n",
              "0     44500         274.0  ...                50.00              50.00\n",
              "1     56900          25.0  ...               272.49            1634.94\n",
              "2     56900          25.0  ...               128.69            9136.99\n",
              "\n",
              "[3 rows x 11 columns]"
            ]
          },
          "metadata": {},
          "execution_count": 21
        }
      ],
      "source": [
        "item_licitacao['ANO_LICITACAO'].unique()\n",
        "item_licitacao.drop(['ANO_LICITACAO'], axis = 1).head(3)"
      ]
    },
    {
      "cell_type": "markdown",
      "metadata": {
        "id": "wmZpI_COxX7Y"
      },
      "source": [
        "### Pré-processamento Texto"
      ]
    },
    {
      "cell_type": "code",
      "source": [
        "#!python -m spacy download pt_core_news_sm"
      ],
      "metadata": {
        "id": "A8cUJd_poo9P"
      },
      "execution_count": null,
      "outputs": []
    },
    {
      "cell_type": "code",
      "execution_count": 20,
      "metadata": {
        "colab": {
          "base_uri": "https://localhost:8080/"
        },
        "id": "CmrMGEJoJSSW",
        "outputId": "8482a920-171f-40e7-e547-4611f9db8800"
      },
      "outputs": [
        {
          "output_type": "stream",
          "name": "stderr",
          "text": [
            "/usr/local/lib/python3.7/dist-packages/catalogue.py:138: DeprecationWarning: SelectableGroups dict interface is deprecated. Use select.\n",
            "  for entry_point in AVAILABLE_ENTRY_POINTS.get(self.entry_point_namespace, []):\n",
            "/usr/local/lib/python3.7/dist-packages/catalogue.py:138: DeprecationWarning: SelectableGroups dict interface is deprecated. Use select.\n",
            "  for entry_point in AVAILABLE_ENTRY_POINTS.get(self.entry_point_namespace, []):\n",
            "/usr/local/lib/python3.7/dist-packages/catalogue.py:126: DeprecationWarning: SelectableGroups dict interface is deprecated. Use select.\n",
            "  for entry_point in AVAILABLE_ENTRY_POINTS.get(self.entry_point_namespace, []):\n",
            "/usr/local/lib/python3.7/dist-packages/catalogue.py:138: DeprecationWarning: SelectableGroups dict interface is deprecated. Use select.\n",
            "  for entry_point in AVAILABLE_ENTRY_POINTS.get(self.entry_point_namespace, []):\n"
          ]
        },
        {
          "output_type": "stream",
          "name": "stdout",
          "text": [
            "[nltk_data] Downloading package stopwords to /root/nltk_data...\n",
            "[nltk_data]   Package stopwords is already up-to-date!\n"
          ]
        },
        {
          "output_type": "execute_result",
          "data": {
            "text/plain": [
              "True"
            ]
          },
          "metadata": {},
          "execution_count": 20
        }
      ],
      "source": [
        "nlp=spacy.load(\"pt_core_news_sm\")\n",
        "nltk.download('stopwords')"
      ]
    },
    {
      "cell_type": "code",
      "execution_count": 21,
      "metadata": {
        "id": "H79BHICwPuKY"
      },
      "outputs": [],
      "source": [
        "stopwords = nltk.corpus.stopwords.words('portuguese')\n",
        "\n",
        "filter_out = stopwords + ['kg', 'm', 'cm', 'mm', 'mg', 'ml', 'm²', '-', '+', '=', 'mcg', 'nº', 'g', 'ª', 'º', '_']"
      ]
    },
    {
      "cell_type": "code",
      "source": [
        "filter_out = filter_out + ['cor', 'cores', 'un', 'branco', 'unidades', \n",
        "'litros', 'af', 'mgml', 'nbr', 'dn', 'eou', 'referência', 'conforme',\n",
        "'demais', 'deverá', 'tipo', 'r', 'gb', 'km']"
      ],
      "metadata": {
        "id": "h5fO918DS97O"
      },
      "execution_count": 22,
      "outputs": []
    },
    {
      "cell_type": "code",
      "source": [
        "filter_out = filter_out + ['ca', 'cx', 'ser', 'novo', 'ano', 'gr', 'deve', 'data', 'contar', 'resistente', 'partir', 'in', 'boa', 'limpa', 'qualidade', 'tamanho', 'apresentar', 'estar']"
      ],
      "metadata": {
        "id": "y-nbRu-vS_HC"
      },
      "execution_count": 23,
      "outputs": []
    },
    {
      "cell_type": "markdown",
      "metadata": {
        "id": "1J7bEz7hPuKY"
      },
      "source": [
        "Para o pré-processamento do texto foi usado linguagem regular, a tabela abaixo contém algumas informações utéis para entender a função de pre_processing"
      ]
    },
    {
      "cell_type": "markdown",
      "metadata": {
        "id": "HztMGmKEPuKY"
      },
      "source": [
        "<table ><tr><th>Character</th><th>Description</th><th>Example Pattern Code</th><th >Exammple Match</th></tr>\n",
        "\n",
        "<tr ><td><span >\\d</span></td><td>A digit</td><td>file_\\d\\d</td><td>file_25</td></tr>\n",
        "\n",
        "<tr ><td><span >\\w</span></td><td>Alphanumeric</td><td>\\w-\\w\\w\\w</td><td>A-b_1</td></tr>\n",
        "\n",
        "\n",
        "\n",
        "<tr ><td><span >\\s</span></td><td>White space</td><td>a\\sb\\sc</td><td>a b c</td></tr>\n",
        "\n",
        "\n",
        "\n",
        "<tr ><td><span >\\D</span></td><td>A non digit</td><td>\\D\\D\\D</td><td>ABC</td></tr>\n",
        "\n",
        "<tr ><td><span >\\W</span></td><td>Non-alphanumeric</td><td>\\W\\W\\W\\W\\W</td><td>*-+=)</td></tr>\n",
        "\n",
        "<tr ><td><span >\\S</span></td><td>Non-whitespace</td><td>\\S\\S\\S\\S</td><td>Yoyo</td></tr></table>\n",
        "<table ><tr><th>Character</th><th>Description</th><th>Example Pattern Code</th><th >Exammple Match</th></tr>\n",
        "</br>\n",
        "<tr ><td><span >+</span></td><td>Occurs one or more times</td><td>\tVersion \\w-\\w+</td><td>Version A-b1_1</td></tr>\n",
        "\n",
        "<tr ><td><span >{3}</span></td><td>Occurs exactly 3 times</td><td>\\D{3}</td><td>abc</td></tr>\n",
        "\n",
        "\n",
        "\n",
        "<tr ><td><span >{2,4}</span></td><td>Occurs 2 to 4 times</td><td>\\d{2,4}</td><td>123</td></tr>\n",
        "\n",
        "\n",
        "\n",
        "<tr ><td><span >{3,}</span></td><td>Occurs 3 or more</td><td>\\w{3,}</td><td>anycharacters</td></tr>\n",
        "\n",
        "<tr ><td><span >\\*</span></td><td>Occurs zero or more times</td><td>A\\*B\\*C*</td><td>AAACC</td></tr>\n",
        "\n",
        "<tr ><td><span >?</span></td><td>Once or none</td><td>plurals?</td><td>plural</td></tr></table>"
      ]
    },
    {
      "cell_type": "code",
      "execution_count": 26,
      "metadata": {
        "id": "3RSOJjOZPuKZ"
      },
      "outputs": [],
      "source": [
        "def pre_processing(sentence):\n",
        "    sentence = sentence.lower()\n",
        "    sentence = re.sub(r\"[^\\w\\s]\", \"\", sentence)\n",
        "    sentence = re.sub(r\"[0-9]+\", \"\", sentence)\n",
        "    sentence = re.sub(r\"/+\", \"\", sentence)\n",
        "    sentence = re.sub(r\" {2,}\", \" \", sentence)\n",
        "\n",
        "    #Tokenização\n",
        "    doc = nlp(sentence)\n",
        "\n",
        "    tokens=[token.text for token in doc]\n",
        "    tokens=[token for token in tokens if token not in filter_out]\n",
        "\n",
        "    return tokens\n"
      ]
    },
    {
      "cell_type": "code",
      "execution_count": 28,
      "metadata": {
        "id": "GOlaJk0SPuKa"
      },
      "outputs": [],
      "source": [
        "item_licitacao['DS_ITEM_TOKEN'] = item_licitacao['DS_ITEM'].apply(lambda sentece: pre_processing(sentece))\n"
      ]
    },
    {
      "cell_type": "code",
      "execution_count": null,
      "metadata": {
        "id": "KxiYMCWwPuKa"
      },
      "outputs": [],
      "source": [
        "item_licitacao.to_csv('item_licitacao_token.csv')"
      ]
    },
    {
      "cell_type": "code",
      "execution_count": 30,
      "metadata": {
        "id": "XT0lHxIePuKa"
      },
      "outputs": [],
      "source": [
        "licitacao_21['DS_OBJETO_TOKEN'] = licitacao_21['DS_OBJETO'].apply(lambda sentece: pre_processing(sentece))\n"
      ]
    },
    {
      "cell_type": "code",
      "execution_count": 31,
      "metadata": {
        "id": "HFK55-MHPuKa"
      },
      "outputs": [],
      "source": [
        "licitacao_21.to_csv('licitacao_21_token.csv')"
      ]
    },
    {
      "cell_type": "markdown",
      "source": [
        "## Import arquivos"
      ],
      "metadata": {
        "id": "cOKxlmG8gvTN"
      }
    },
    {
      "cell_type": "code",
      "execution_count": 13,
      "metadata": {
        "id": "vnMRImsLPuKb"
      },
      "outputs": [],
      "source": [
        "licitacao_21 = pd.read_csv('/content/drive/MyDrive/NLP/licitacao_21_token.csv')\n",
        "item_licitacao = pd.read_csv('/content/drive/MyDrive/NLP/item_licitacao_token.csv')"
      ]
    },
    {
      "cell_type": "markdown",
      "source": [
        "##Explicação dos algoritmos LDA e NMF"
      ],
      "metadata": {
        "id": "ckAA1bJQJCNQ"
      }
    },
    {
      "cell_type": "markdown",
      "source": [
        "Os dois são algoritmos não supervisionados, usados para extração de \n",
        "\n"
      ],
      "metadata": {
        "id": "0X9uvz5fJNOm"
      }
    },
    {
      "cell_type": "markdown",
      "source": [
        "### LDA"
      ],
      "metadata": {
        "id": "uYrGHYJ-JKJf"
      }
    },
    {
      "cell_type": "markdown",
      "source": [
        "O LDA é um modelo probabilístico no qual é descrito como os documentos são gerados. Nesse modelo, as variáveis observáveis são os termos de cada documento e as variáveis não observáveis são as distribuições de tópicos. Os parâmetros das distribuições de tópicos, conhecidos como hiper-parâmetros, são dados a priori no modelo."
      ],
      "metadata": {
        "id": "su3dug-jLw0m"
      }
    },
    {
      "cell_type": "markdown",
      "source": [
        "### NMF"
      ],
      "metadata": {
        "id": "ClqXq-wkJLap"
      }
    },
    {
      "cell_type": "markdown",
      "source": [
        "O método NMF (Nonnegative Matrix Factorization) fatoriza aproximadamente a matriz com elementos não negativos em duas outras matrizes também com elementos não negativos"
      ],
      "metadata": {
        "id": "jEUpwQVeMNXU"
      }
    },
    {
      "cell_type": "markdown",
      "source": [
        "###TfidfVectorizer"
      ],
      "metadata": {
        "id": "GBZnkMcTLovZ"
      }
    },
    {
      "cell_type": "markdown",
      "source": [
        "A escolha do **TfidfVectorizer**, ocorreu por causa da análise dos dados. \n",
        "\n",
        "Muitas palavras, como, empresa, aparecem várias vezes e o custo não está ligada a empresa em si, mas sim no serviço que ela presta.\n",
        "\n",
        "E o **TfidfVectorizer**, cortar quantas vezes o token ocorre, ele calcula o valor da frequência do documento inverso da frequência do termo para cada palavra (TF-IDF).\n",
        "\n",
        "Um fator de frequência de documento inverso é incorporado, o que diminui o peso dos termos que ocorrem com muita frequência no conjunto de documentos e aumenta o peso dos termos que ocorrem raramente.\n"
      ],
      "metadata": {
        "id": "BWGuQvjEKvVN"
      }
    },
    {
      "cell_type": "markdown",
      "source": [
        "## Arquivo Itens"
      ],
      "metadata": {
        "id": "BGyqggSjY2Rn"
      }
    },
    {
      "cell_type": "markdown",
      "metadata": {
        "id": "9SaqqMLSz83K"
      },
      "source": [
        "### Construção dos modelos"
      ]
    },
    {
      "cell_type": "code",
      "execution_count": 32,
      "metadata": {
        "id": "Kfc14x1Mz_6k",
        "colab": {
          "base_uri": "https://localhost:8080/",
          "height": 433
        },
        "outputId": "673e6524-3855-4628-99a9-48c45765cd25"
      },
      "outputs": [
        {
          "output_type": "execute_result",
          "data": {
            "text/html": [
              "\n",
              "  <div id=\"df-90af3bca-2829-484d-a01e-900ce6cb9d69\">\n",
              "    <div class=\"colab-df-container\">\n",
              "      <div>\n",
              "<style scoped>\n",
              "    .dataframe tbody tr th:only-of-type {\n",
              "        vertical-align: middle;\n",
              "    }\n",
              "\n",
              "    .dataframe tbody tr th {\n",
              "        vertical-align: top;\n",
              "    }\n",
              "\n",
              "    .dataframe thead th {\n",
              "        text-align: right;\n",
              "    }\n",
              "</style>\n",
              "<table border=\"1\" class=\"dataframe\">\n",
              "  <thead>\n",
              "    <tr style=\"text-align: right;\">\n",
              "      <th></th>\n",
              "      <th>CD_ORGAO</th>\n",
              "      <th>NM_ORGAO</th>\n",
              "      <th>NR_LICITACAO</th>\n",
              "      <th>CD_TIPO_MODALIDADE</th>\n",
              "      <th>DS_OBJETO</th>\n",
              "      <th>VL_LICITACAO</th>\n",
              "      <th>DS_OBJETO_TOKEN</th>\n",
              "    </tr>\n",
              "  </thead>\n",
              "  <tbody>\n",
              "    <tr>\n",
              "      <th>0</th>\n",
              "      <td>53100</td>\n",
              "      <td>PM DE NOVA PALMA</td>\n",
              "      <td>1.0</td>\n",
              "      <td>TMP</td>\n",
              "      <td>CONTRATAÇÃO GLOBAL DE EMPRESA PARA CONSTRUÇÃO ...</td>\n",
              "      <td>259765.0</td>\n",
              "      <td>[contratação, global, empresa, construção, par...</td>\n",
              "    </tr>\n",
              "    <tr>\n",
              "      <th>1</th>\n",
              "      <td>86800</td>\n",
              "      <td>PM DE BOA VISTA DO SUL</td>\n",
              "      <td>2.0</td>\n",
              "      <td>PRP</td>\n",
              "      <td>Contratação de empresa para prestação de servi...</td>\n",
              "      <td>390625.0</td>\n",
              "      <td>[contratação, empresa, prestação, serviços, tr...</td>\n",
              "    </tr>\n",
              "    <tr>\n",
              "      <th>2</th>\n",
              "      <td>45003</td>\n",
              "      <td>SERVIÇO AUTÔN. MUN. DE ÁGUA E ESGOTO - CX.SUL</td>\n",
              "      <td>46.0</td>\n",
              "      <td>PRP</td>\n",
              "      <td>Aquisição de 80.000 (oitenta mil) quilogramas ...</td>\n",
              "      <td>833800.0</td>\n",
              "      <td>[aquisição, oitenta, mil, quilogramas, ortopol...</td>\n",
              "    </tr>\n",
              "  </tbody>\n",
              "</table>\n",
              "</div>\n",
              "      <button class=\"colab-df-convert\" onclick=\"convertToInteractive('df-90af3bca-2829-484d-a01e-900ce6cb9d69')\"\n",
              "              title=\"Convert this dataframe to an interactive table.\"\n",
              "              style=\"display:none;\">\n",
              "        \n",
              "  <svg xmlns=\"http://www.w3.org/2000/svg\" height=\"24px\"viewBox=\"0 0 24 24\"\n",
              "       width=\"24px\">\n",
              "    <path d=\"M0 0h24v24H0V0z\" fill=\"none\"/>\n",
              "    <path d=\"M18.56 5.44l.94 2.06.94-2.06 2.06-.94-2.06-.94-.94-2.06-.94 2.06-2.06.94zm-11 1L8.5 8.5l.94-2.06 2.06-.94-2.06-.94L8.5 2.5l-.94 2.06-2.06.94zm10 10l.94 2.06.94-2.06 2.06-.94-2.06-.94-.94-2.06-.94 2.06-2.06.94z\"/><path d=\"M17.41 7.96l-1.37-1.37c-.4-.4-.92-.59-1.43-.59-.52 0-1.04.2-1.43.59L10.3 9.45l-7.72 7.72c-.78.78-.78 2.05 0 2.83L4 21.41c.39.39.9.59 1.41.59.51 0 1.02-.2 1.41-.59l7.78-7.78 2.81-2.81c.8-.78.8-2.07 0-2.86zM5.41 20L4 18.59l7.72-7.72 1.47 1.35L5.41 20z\"/>\n",
              "  </svg>\n",
              "      </button>\n",
              "      \n",
              "  <style>\n",
              "    .colab-df-container {\n",
              "      display:flex;\n",
              "      flex-wrap:wrap;\n",
              "      gap: 12px;\n",
              "    }\n",
              "\n",
              "    .colab-df-convert {\n",
              "      background-color: #E8F0FE;\n",
              "      border: none;\n",
              "      border-radius: 50%;\n",
              "      cursor: pointer;\n",
              "      display: none;\n",
              "      fill: #1967D2;\n",
              "      height: 32px;\n",
              "      padding: 0 0 0 0;\n",
              "      width: 32px;\n",
              "    }\n",
              "\n",
              "    .colab-df-convert:hover {\n",
              "      background-color: #E2EBFA;\n",
              "      box-shadow: 0px 1px 2px rgba(60, 64, 67, 0.3), 0px 1px 3px 1px rgba(60, 64, 67, 0.15);\n",
              "      fill: #174EA6;\n",
              "    }\n",
              "\n",
              "    [theme=dark] .colab-df-convert {\n",
              "      background-color: #3B4455;\n",
              "      fill: #D2E3FC;\n",
              "    }\n",
              "\n",
              "    [theme=dark] .colab-df-convert:hover {\n",
              "      background-color: #434B5C;\n",
              "      box-shadow: 0px 1px 3px 1px rgba(0, 0, 0, 0.15);\n",
              "      filter: drop-shadow(0px 1px 2px rgba(0, 0, 0, 0.3));\n",
              "      fill: #FFFFFF;\n",
              "    }\n",
              "  </style>\n",
              "\n",
              "      <script>\n",
              "        const buttonEl =\n",
              "          document.querySelector('#df-90af3bca-2829-484d-a01e-900ce6cb9d69 button.colab-df-convert');\n",
              "        buttonEl.style.display =\n",
              "          google.colab.kernel.accessAllowed ? 'block' : 'none';\n",
              "\n",
              "        async function convertToInteractive(key) {\n",
              "          const element = document.querySelector('#df-90af3bca-2829-484d-a01e-900ce6cb9d69');\n",
              "          const dataTable =\n",
              "            await google.colab.kernel.invokeFunction('convertToInteractive',\n",
              "                                                     [key], {});\n",
              "          if (!dataTable) return;\n",
              "\n",
              "          const docLinkHtml = 'Like what you see? Visit the ' +\n",
              "            '<a target=\"_blank\" href=https://colab.research.google.com/notebooks/data_table.ipynb>data table notebook</a>'\n",
              "            + ' to learn more about interactive tables.';\n",
              "          element.innerHTML = '';\n",
              "          dataTable['output_type'] = 'display_data';\n",
              "          await google.colab.output.renderOutput(dataTable, element);\n",
              "          const docLink = document.createElement('div');\n",
              "          docLink.innerHTML = docLinkHtml;\n",
              "          element.appendChild(docLink);\n",
              "        }\n",
              "      </script>\n",
              "    </div>\n",
              "  </div>\n",
              "  "
            ],
            "text/plain": [
              "   CD_ORGAO  ...                                    DS_OBJETO_TOKEN\n",
              "0     53100  ...  [contratação, global, empresa, construção, par...\n",
              "1     86800  ...  [contratação, empresa, prestação, serviços, tr...\n",
              "2     45003  ...  [aquisição, oitenta, mil, quilogramas, ortopol...\n",
              "\n",
              "[3 rows x 7 columns]"
            ]
          },
          "metadata": {},
          "execution_count": 32
        }
      ],
      "source": [
        "licitacao_21.head(3)"
      ]
    },
    {
      "cell_type": "code",
      "execution_count": 33,
      "metadata": {
        "colab": {
          "base_uri": "https://localhost:8080/",
          "height": 381
        },
        "id": "TWTo-YGXPuKb",
        "outputId": "f1560e19-cd3e-4684-a031-5467ed38d939"
      },
      "outputs": [
        {
          "output_type": "execute_result",
          "data": {
            "text/html": [
              "\n",
              "  <div id=\"df-88a7ddad-5158-4849-a189-d0434542e7d4\">\n",
              "    <div class=\"colab-df-container\">\n",
              "      <div>\n",
              "<style scoped>\n",
              "    .dataframe tbody tr th:only-of-type {\n",
              "        vertical-align: middle;\n",
              "    }\n",
              "\n",
              "    .dataframe tbody tr th {\n",
              "        vertical-align: top;\n",
              "    }\n",
              "\n",
              "    .dataframe thead th {\n",
              "        text-align: right;\n",
              "    }\n",
              "</style>\n",
              "<table border=\"1\" class=\"dataframe\">\n",
              "  <thead>\n",
              "    <tr style=\"text-align: right;\">\n",
              "      <th></th>\n",
              "      <th>CD_ORGAO</th>\n",
              "      <th>NR_LICITACAO</th>\n",
              "      <th>ANO_LICITACAO</th>\n",
              "      <th>CD_TIPO_MODALIDADE</th>\n",
              "      <th>NR_LOTE</th>\n",
              "      <th>NR_ITEM</th>\n",
              "      <th>NR_ITEM_ORIGINAL</th>\n",
              "      <th>DS_ITEM</th>\n",
              "      <th>QT_ITENS</th>\n",
              "      <th>SG_UNIDADE_MEDIDA</th>\n",
              "      <th>VL_UNITARIO_ESTIMADO</th>\n",
              "      <th>VL_TOTAL_ESTIMADO</th>\n",
              "      <th>DS_ITEM_TOKEN</th>\n",
              "    </tr>\n",
              "  </thead>\n",
              "  <tbody>\n",
              "    <tr>\n",
              "      <th>0</th>\n",
              "      <td>44500</td>\n",
              "      <td>274.0</td>\n",
              "      <td>2021</td>\n",
              "      <td>CPC</td>\n",
              "      <td>1</td>\n",
              "      <td>1</td>\n",
              "      <td>1</td>\n",
              "      <td>Credenciamento de academias de ginástica e mus...</td>\n",
              "      <td>1.0</td>\n",
              "      <td>UN</td>\n",
              "      <td>50.00</td>\n",
              "      <td>50.00</td>\n",
              "      <td>[credenciamento, academias, ginástica, muscula...</td>\n",
              "    </tr>\n",
              "    <tr>\n",
              "      <th>1</th>\n",
              "      <td>56900</td>\n",
              "      <td>25.0</td>\n",
              "      <td>2021</td>\n",
              "      <td>TMP</td>\n",
              "      <td>1</td>\n",
              "      <td>1</td>\n",
              "      <td>1.1</td>\n",
              "      <td>PLACA DE OBRA (PARA CONSTRUCAO CIVIL) EM CHAPA...</td>\n",
              "      <td>6.0</td>\n",
              "      <td>M2</td>\n",
              "      <td>272.49</td>\n",
              "      <td>1634.94</td>\n",
              "      <td>[placa, obra, construcao, civil, chapa, galvan...</td>\n",
              "    </tr>\n",
              "    <tr>\n",
              "      <th>2</th>\n",
              "      <td>56900</td>\n",
              "      <td>25.0</td>\n",
              "      <td>2021</td>\n",
              "      <td>TMP</td>\n",
              "      <td>1</td>\n",
              "      <td>2</td>\n",
              "      <td>1.2</td>\n",
              "      <td>TAPUME COM COMPENSADO DE MADEIRA. AF_05/2018</td>\n",
              "      <td>71.0</td>\n",
              "      <td>M2</td>\n",
              "      <td>128.69</td>\n",
              "      <td>9136.99</td>\n",
              "      <td>[tapume, compensado, madeira]</td>\n",
              "    </tr>\n",
              "  </tbody>\n",
              "</table>\n",
              "</div>\n",
              "      <button class=\"colab-df-convert\" onclick=\"convertToInteractive('df-88a7ddad-5158-4849-a189-d0434542e7d4')\"\n",
              "              title=\"Convert this dataframe to an interactive table.\"\n",
              "              style=\"display:none;\">\n",
              "        \n",
              "  <svg xmlns=\"http://www.w3.org/2000/svg\" height=\"24px\"viewBox=\"0 0 24 24\"\n",
              "       width=\"24px\">\n",
              "    <path d=\"M0 0h24v24H0V0z\" fill=\"none\"/>\n",
              "    <path d=\"M18.56 5.44l.94 2.06.94-2.06 2.06-.94-2.06-.94-.94-2.06-.94 2.06-2.06.94zm-11 1L8.5 8.5l.94-2.06 2.06-.94-2.06-.94L8.5 2.5l-.94 2.06-2.06.94zm10 10l.94 2.06.94-2.06 2.06-.94-2.06-.94-.94-2.06-.94 2.06-2.06.94z\"/><path d=\"M17.41 7.96l-1.37-1.37c-.4-.4-.92-.59-1.43-.59-.52 0-1.04.2-1.43.59L10.3 9.45l-7.72 7.72c-.78.78-.78 2.05 0 2.83L4 21.41c.39.39.9.59 1.41.59.51 0 1.02-.2 1.41-.59l7.78-7.78 2.81-2.81c.8-.78.8-2.07 0-2.86zM5.41 20L4 18.59l7.72-7.72 1.47 1.35L5.41 20z\"/>\n",
              "  </svg>\n",
              "      </button>\n",
              "      \n",
              "  <style>\n",
              "    .colab-df-container {\n",
              "      display:flex;\n",
              "      flex-wrap:wrap;\n",
              "      gap: 12px;\n",
              "    }\n",
              "\n",
              "    .colab-df-convert {\n",
              "      background-color: #E8F0FE;\n",
              "      border: none;\n",
              "      border-radius: 50%;\n",
              "      cursor: pointer;\n",
              "      display: none;\n",
              "      fill: #1967D2;\n",
              "      height: 32px;\n",
              "      padding: 0 0 0 0;\n",
              "      width: 32px;\n",
              "    }\n",
              "\n",
              "    .colab-df-convert:hover {\n",
              "      background-color: #E2EBFA;\n",
              "      box-shadow: 0px 1px 2px rgba(60, 64, 67, 0.3), 0px 1px 3px 1px rgba(60, 64, 67, 0.15);\n",
              "      fill: #174EA6;\n",
              "    }\n",
              "\n",
              "    [theme=dark] .colab-df-convert {\n",
              "      background-color: #3B4455;\n",
              "      fill: #D2E3FC;\n",
              "    }\n",
              "\n",
              "    [theme=dark] .colab-df-convert:hover {\n",
              "      background-color: #434B5C;\n",
              "      box-shadow: 0px 1px 3px 1px rgba(0, 0, 0, 0.15);\n",
              "      filter: drop-shadow(0px 1px 2px rgba(0, 0, 0, 0.3));\n",
              "      fill: #FFFFFF;\n",
              "    }\n",
              "  </style>\n",
              "\n",
              "      <script>\n",
              "        const buttonEl =\n",
              "          document.querySelector('#df-88a7ddad-5158-4849-a189-d0434542e7d4 button.colab-df-convert');\n",
              "        buttonEl.style.display =\n",
              "          google.colab.kernel.accessAllowed ? 'block' : 'none';\n",
              "\n",
              "        async function convertToInteractive(key) {\n",
              "          const element = document.querySelector('#df-88a7ddad-5158-4849-a189-d0434542e7d4');\n",
              "          const dataTable =\n",
              "            await google.colab.kernel.invokeFunction('convertToInteractive',\n",
              "                                                     [key], {});\n",
              "          if (!dataTable) return;\n",
              "\n",
              "          const docLinkHtml = 'Like what you see? Visit the ' +\n",
              "            '<a target=\"_blank\" href=https://colab.research.google.com/notebooks/data_table.ipynb>data table notebook</a>'\n",
              "            + ' to learn more about interactive tables.';\n",
              "          element.innerHTML = '';\n",
              "          dataTable['output_type'] = 'display_data';\n",
              "          await google.colab.output.renderOutput(dataTable, element);\n",
              "          const docLink = document.createElement('div');\n",
              "          docLink.innerHTML = docLinkHtml;\n",
              "          element.appendChild(docLink);\n",
              "        }\n",
              "      </script>\n",
              "    </div>\n",
              "  </div>\n",
              "  "
            ],
            "text/plain": [
              "   CD_ORGAO  ...                                      DS_ITEM_TOKEN\n",
              "0     44500  ...  [credenciamento, academias, ginástica, muscula...\n",
              "1     56900  ...  [placa, obra, construcao, civil, chapa, galvan...\n",
              "2     56900  ...                      [tapume, compensado, madeira]\n",
              "\n",
              "[3 rows x 13 columns]"
            ]
          },
          "metadata": {},
          "execution_count": 33
        }
      ],
      "source": [
        "item_licitacao.head(3)"
      ]
    },
    {
      "cell_type": "code",
      "execution_count": 14,
      "metadata": {
        "colab": {
          "base_uri": "https://localhost:8080/"
        },
        "id": "-4pPMB50PuKb",
        "outputId": "c8a30bf5-a1c0-47ce-c054-e15cfa50536d"
      },
      "outputs": [
        {
          "output_type": "execute_result",
          "data": {
            "text/plain": [
              "Index(['Unnamed: 0', 'CD_ORGAO', 'NR_LICITACAO', 'ANO_LICITACAO',\n",
              "       'CD_TIPO_MODALIDADE', 'NR_LOTE', 'NR_ITEM', 'NR_ITEM_ORIGINAL',\n",
              "       'DS_ITEM', 'QT_ITENS', 'SG_UNIDADE_MEDIDA', 'VL_UNITARIO_ESTIMADO',\n",
              "       'VL_TOTAL_ESTIMADO', 'DS_ITEM_TOKEN'],\n",
              "      dtype='object')"
            ]
          },
          "metadata": {},
          "execution_count": 14
        }
      ],
      "source": [
        "item_licitacao.columns"
      ]
    },
    {
      "cell_type": "code",
      "execution_count": 12,
      "metadata": {
        "id": "ovmWxuViPuKb"
      },
      "outputs": [],
      "source": [
        "lic= [d.split() for d in item_licitacao['DS_ITEM_TOKEN']]\n"
      ]
    },
    {
      "cell_type": "code",
      "execution_count": 13,
      "metadata": {
        "id": "B50G5W3FPuKc"
      },
      "outputs": [],
      "source": [
        "id2word = corpora.Dictionary(lic)"
      ]
    },
    {
      "cell_type": "code",
      "execution_count": 14,
      "metadata": {
        "id": "q_isGWULPuKc"
      },
      "outputs": [],
      "source": [
        "texts = item_licitacao['DS_ITEM_TOKEN']"
      ]
    },
    {
      "cell_type": "markdown",
      "metadata": {
        "id": "CnJq0LOePuKc"
      },
      "source": [
        "Após o treinamento algumas vezes, foi notado outras stopwords."
      ]
    },
    {
      "cell_type": "code",
      "execution_count": 15,
      "metadata": {
        "colab": {
          "base_uri": "https://localhost:8080/"
        },
        "id": "0A8lQYf-PuKc",
        "outputId": "55c7f80b-d80c-4c43-94a1-59987da4bb38"
      },
      "outputs": [
        {
          "output_type": "stream",
          "name": "stdout",
          "text": [
            "[[(0, 1), (1, 1), (2, 1), (3, 1), (4, 1), (5, 1), (6, 2), (7, 1), (8, 1), (9, 1), (10, 1), (11, 1), (12, 3), (13, 1), (14, 1), (15, 1), (16, 1), (17, 1), (18, 1), (19, 1)]]\n"
          ]
        }
      ],
      "source": [
        "corpus = [id2word.doc2bow(text.split()) for text in texts]\n",
        "\n",
        "# Visualização\n",
        "print(corpus[:1])"
      ]
    },
    {
      "cell_type": "code",
      "execution_count": 16,
      "metadata": {
        "colab": {
          "base_uri": "https://localhost:8080/"
        },
        "id": "Bigp27wDPuKc",
        "outputId": "bb01e3de-463c-4688-e876-4da9b0d372e2"
      },
      "outputs": [
        {
          "output_type": "execute_result",
          "data": {
            "text/plain": [
              "[[(\"'academias',\", 1),\n",
              "  (\"'cada',\", 1),\n",
              "  (\"'canoas',\", 1),\n",
              "  (\"'credenciado',\", 1),\n",
              "  (\"'desembolsado',\", 1),\n",
              "  (\"'escolhido',\", 1),\n",
              "  (\"'estabelecimento',\", 2),\n",
              "  (\"'exercícios',\", 1),\n",
              "  (\"'físicos',\", 1),\n",
              "  (\"'ginástica',\", 1),\n",
              "  (\"'matriculado',\", 1),\n",
              "  (\"'ministrem',\", 1),\n",
              "  (\"'município',\", 3),\n",
              "  (\"'musculação',\", 1),\n",
              "  (\"'outro',\", 1),\n",
              "  (\"'servidor',\", 1),\n",
              "  (\"'servidor']\", 1),\n",
              "  (\"'valor',\", 1),\n",
              "  (\"'âmbito',\", 1),\n",
              "  (\"['credenciamento',\", 1)]]"
            ]
          },
          "metadata": {},
          "execution_count": 16
        }
      ],
      "source": [
        "# Corpus num formado simplificado (term-frequency)\n",
        "[[(id2word[id], freq) for id, freq in cp] for cp in corpus[:1]]"
      ]
    },
    {
      "cell_type": "markdown",
      "metadata": {
        "id": "6vTUhqJ7PuKc"
      },
      "source": [
        "### LDA"
      ]
    },
    {
      "cell_type": "code",
      "execution_count": 17,
      "metadata": {
        "id": "0Yej-70sPuKd"
      },
      "outputs": [],
      "source": [
        "cv = CountVectorizer(max_df=0.95, min_df=2, stop_words=filter_out)"
      ]
    },
    {
      "cell_type": "markdown",
      "metadata": {
        "id": "VrDOv5t5PuKd"
      },
      "source": [
        "Função de coerência"
      ]
    },
    {
      "cell_type": "code",
      "execution_count": 31,
      "metadata": {
        "id": "VqtDAQXMPuKd"
      },
      "outputs": [],
      "source": [
        "def compute_coherence_values(dictionary, corpus, texts, limit, start, step):\n",
        "    coherence_values = []\n",
        "    model_list = []\n",
        "    for num_topics in tqdm(range(start, limit, step)):\n",
        "        model = LdaMulticore(corpus, id2word=dictionary, num_topics = num_topics)\n",
        "        model_list.append(model)\n",
        "        coherencemodel = CoherenceModel(model=model, texts=texts, dictionary=dictionary, coherence='c_v')\n",
        "        coherence_values.append(coherencemodel.get_coherence())\n",
        "    return model_list, coherence_values"
      ]
    },
    {
      "cell_type": "code",
      "execution_count": null,
      "metadata": {
        "id": "Z2N-o7S4PuKd"
      },
      "outputs": [],
      "source": [
        "model_list, coherence_values = compute_coherence_values(dictionary=id2word, corpus=corpus, texts=lic, limit=20, start=1, step=3)"
      ]
    },
    {
      "cell_type": "code",
      "execution_count": 33,
      "metadata": {
        "colab": {
          "base_uri": "https://localhost:8080/",
          "height": 280
        },
        "id": "KmfN7U4uPuKd",
        "outputId": "75712257-3435-4b57-ff1b-62da9cc5fb08"
      },
      "outputs": [
        {
          "output_type": "display_data",
          "data": {
            "image/png": "[encoded data removed]",
            "text/plain": [
              "<Figure size 432x288 with 1 Axes>"
            ]
          },
          "metadata": {
            "needs_background": "light"
          }
        }
      ],
      "source": [
        "limit=20; start=1; step=3;\n",
        "x = range(start, limit, step)\n",
        "plt.plot(x, coherence_values)\n",
        "plt.xlabel(\"Num Tópicos\")\n",
        "plt.ylabel(\"Score de Coerência\")\n",
        "plt.legend((\"Valores de Coerência\"), loc='best')\n",
        "plt.show()"
      ]
    },
    {
      "cell_type": "code",
      "execution_count": 34,
      "metadata": {
        "colab": {
          "base_uri": "https://localhost:8080/"
        },
        "id": "eO7TqnnUPuKd",
        "outputId": "777a3897-f2ad-4a13-c514-85e714785cd9"
      },
      "outputs": [
        {
          "output_type": "stream",
          "name": "stdout",
          "text": [
            "A quantidade de tópicos = 1  tem um valor de coerência de  0.2493\n",
            "A quantidade de tópicos = 4  tem um valor de coerência de  0.5452\n",
            "A quantidade de tópicos = 7  tem um valor de coerência de  0.4871\n",
            "A quantidade de tópicos = 10  tem um valor de coerência de  0.542\n",
            "A quantidade de tópicos = 13  tem um valor de coerência de  0.5173\n",
            "A quantidade de tópicos = 16  tem um valor de coerência de  0.534\n",
            "A quantidade de tópicos = 19  tem um valor de coerência de  0.5397\n"
          ]
        }
      ],
      "source": [
        "for m, c in zip(x, coherence_values):\n",
        "    print(\"A quantidade de tópicos =\", m, \" tem um valor de coerência de \", round(c, 4))"
      ]
    },
    {
      "cell_type": "markdown",
      "metadata": {
        "id": "Z4pDLtz0PuKe"
      },
      "source": [
        "A quantida de tópicos a ser usada é 4: por ser o maior encontrado dentre os 20"
      ]
    },
    {
      "cell_type": "code",
      "execution_count": null,
      "metadata": {
        "id": "gT31luAuPuKe"
      },
      "outputs": [],
      "source": [
        "lda_model = LdaMulticore(corpus=corpus,\n",
        "                        id2word=id2word,\n",
        "                        num_topics=4, \n",
        "                        workers = 3,\n",
        "                        random_state=100,\n",
        "                        per_word_topics=True)"
      ]
    },
    {
      "cell_type": "markdown",
      "metadata": {
        "id": "8NbhkH6jPuKf"
      },
      "source": [
        "Salvar modelos"
      ]
    },
    {
      "cell_type": "code",
      "execution_count": 36,
      "metadata": {
        "colab": {
          "base_uri": "https://localhost:8080/"
        },
        "id": "6trWNo6MPuKg",
        "outputId": "df6b96c3-a76c-462d-e907-f1db98ea9b22"
      },
      "outputs": [
        {
          "output_type": "stream",
          "name": "stderr",
          "text": [
            "/usr/local/lib/python3.7/dist-packages/smart_open/smart_open_lib.py:494: DeprecationWarning: This function is deprecated.  See https://github.com/RaRe-Technologies/smart_open/blob/develop/MIGRATING_FROM_OLDER_VERSIONS.rst for more information\n",
            "  warnings.warn(message, category=DeprecationWarning)\n",
            "/usr/local/lib/python3.7/dist-packages/smart_open/smart_open_lib.py:494: DeprecationWarning: This function is deprecated.  See https://github.com/RaRe-Technologies/smart_open/blob/develop/MIGRATING_FROM_OLDER_VERSIONS.rst for more information\n",
            "  warnings.warn(message, category=DeprecationWarning)\n",
            "/usr/local/lib/python3.7/dist-packages/smart_open/smart_open_lib.py:494: DeprecationWarning: This function is deprecated.  See https://github.com/RaRe-Technologies/smart_open/blob/develop/MIGRATING_FROM_OLDER_VERSIONS.rst for more information\n",
            "  warnings.warn(message, category=DeprecationWarning)\n"
          ]
        }
      ],
      "source": [
        "lda_model.save('multicore_4topics')"
      ]
    },
    {
      "cell_type": "markdown",
      "metadata": {
        "id": "QQSP4D5kPuKg"
      },
      "source": [
        "Carregar Modelos"
      ]
    },
    {
      "cell_type": "code",
      "execution_count": 37,
      "metadata": {
        "id": "NQHfBGyFPuKg"
      },
      "outputs": [],
      "source": [
        "from gensim.test.utils import datapath"
      ]
    },
    {
      "cell_type": "code",
      "execution_count": 39,
      "metadata": {
        "colab": {
          "base_uri": "https://localhost:8080/"
        },
        "id": "3IR2czq2PuKg",
        "outputId": "ede610dc-0a94-4bd5-8fd6-917ba651ef7b"
      },
      "outputs": [
        {
          "output_type": "stream",
          "name": "stderr",
          "text": [
            "/usr/local/lib/python3.7/dist-packages/smart_open/smart_open_lib.py:494: DeprecationWarning: This function is deprecated.  See https://github.com/RaRe-Technologies/smart_open/blob/develop/MIGRATING_FROM_OLDER_VERSIONS.rst for more information\n",
            "  warnings.warn(message, category=DeprecationWarning)\n",
            "/usr/local/lib/python3.7/dist-packages/smart_open/smart_open_lib.py:494: DeprecationWarning: This function is deprecated.  See https://github.com/RaRe-Technologies/smart_open/blob/develop/MIGRATING_FROM_OLDER_VERSIONS.rst for more information\n",
            "  warnings.warn(message, category=DeprecationWarning)\n",
            "/usr/local/lib/python3.7/dist-packages/smart_open/smart_open_lib.py:494: DeprecationWarning: This function is deprecated.  See https://github.com/RaRe-Technologies/smart_open/blob/develop/MIGRATING_FROM_OLDER_VERSIONS.rst for more information\n",
            "  warnings.warn(message, category=DeprecationWarning)\n"
          ]
        }
      ],
      "source": [
        "lda_model = LdaMulticore.load(datapath(\"/content/multicore_4topics\")) "
      ]
    },
    {
      "cell_type": "code",
      "execution_count": 36,
      "metadata": {
        "id": "5_TCWknwPuKh"
      },
      "outputs": [],
      "source": [
        "#função Score de Coerência\n",
        "def score_coherence (lda_model,lic,id2word):\n",
        "    coherence_model_lda = CoherenceModel(model=lda_model, texts=lic, dictionary=id2word, coherence='c_v')\n",
        "    coherence_lda = coherence_model_lda.get_coherence()\n",
        "    print('\\nScore de Coerência: ', coherence_lda)"
      ]
    },
    {
      "cell_type": "code",
      "execution_count": 41,
      "metadata": {
        "colab": {
          "base_uri": "https://localhost:8080/"
        },
        "id": "sN9B2neRPuKh",
        "outputId": "b68693c6-e50e-49fe-d156-7cd517535717"
      },
      "outputs": [
        {
          "output_type": "stream",
          "name": "stdout",
          "text": [
            "\n",
            "Score de Coerência:  0.4947083265662168\n"
          ]
        }
      ],
      "source": [
        "score_coherence(lda_model,lic,id2word)"
      ]
    },
    {
      "cell_type": "code",
      "execution_count": 42,
      "metadata": {
        "id": "H3KEUCrCPuKh"
      },
      "outputs": [],
      "source": [
        "pyLDAvis.enable_notebook()"
      ]
    },
    {
      "cell_type": "code",
      "execution_count": 44,
      "metadata": {
        "id": "rEGWNFXOPuKh"
      },
      "outputs": [],
      "source": [
        "display_data = pyLDAvis.gensim_models.prepare(lda_model, corpus, id2word)"
      ]
    },
    {
      "cell_type": "code",
      "execution_count": 45,
      "metadata": {
        "colab": {
          "base_uri": "https://localhost:8080/",
          "height": 881
        },
        "id": "QlhiCxyMPuKi",
        "outputId": "c81516ec-b43a-4473-a568-5f4bbdc028f5"
      },
      "outputs": [
        {
          "output_type": "execute_result",
          "data": {
            "text/html": [
              "\n",
              "<link rel=\"stylesheet\" type=\"text/css\" href=\"https://cdn.jsdelivr.net/gh/bmabey/pyLDAvis@3.3.1/pyLDAvis/js/ldavis.v1.0.0.css\">\n",
              "\n",
              "\n",
              "<div id=\"ldavis_el3501140204754029520680048913\"></div>\n",
              "<script type=\"text/javascript\">\n",
              "\n",
              "var ldavis_el3501140204754029520680048913_data = {\"mdsDat\": {\"x\": [0.05005443361642298, 0.028111942058461455, -0.3271311548889727, 0.2489647792140882], \"y\": [0.016637291920220478, -0.30704548207416504, 0.11196492206920695, 0.17844326808473748], \"topics\": [1, 2, 3, 4], \"cluster\": [1, 1, 1, 1], \"Freq\": [29.92783949976305, 29.152952148778294, 22.13684616576225, 18.782362185696407]}, \"tinfo\": {\"Term\": [\"'embalagem',\", \"'validade',\", \"'x',\", \"'x']\", \"'produto',\", \"'pvc',\", \"'a\\u00e7o',\", \"'meses',\", \"'concreto',\", \"'prazo',\", \"'fornecimento',\", \"'contendo',\", \"'servi\\u00e7os',\", \"'fabrica\\u00e7\\u00e3o',\", \"'entrega']\", \"'m\\u00e9dio',\", \"'embalagem']\", \"'instala\\u00e7\\u00e3o']\", \"',\", \"['servi\\u00e7o',\", \"'w',\", \"['\", \"'madeira',\", \"['contrata\\u00e7\\u00e3o',\", \"['tubo',\", \"'identifica\\u00e7\\u00e3o',\", \"['livro',\", \"'entrega',\", \"'sabor',\", \"'empresa',\", \"'manga',\", \"['sonda',\", \"'inoxid\\u00e1vel',\", \"'vapor',\", \"['l\\u00e2mpada',\", \"'w']\", \"['prego',\", \"'sint\\u00e9tico',\", \"['broca',\", \"['material',\", \"'cir\\u00fargico',\", \"['camiseta',\", \"'confeccionada',\", \"'pilar',\", \"'nylon',\", \"'conector',\", \"'descartavel',\", \"['seringa',\", \"'autoclav\\u00e1vel',\", \"'gola',\", \"'cerdas',\", \"['pincel',\", \"'bolsos',\", \"'poliuretano',\", \"['cateter',\", \"'sobrado',\", \"'sutura',\", \"'antiderrapante',\", \"['arma\\u00e7\\u00e3o',\", \"'t\\u00e9rrea',\", \"'descart\\u00e1vel',\", \"'tecido',\", \"'inox',\", \"'est\\u00e9ril',\", \"'w',\", \"'acr\\u00edlica',\", \"'confeccionado',\", \"'adulto',\", \"'l\\u00e1tex',\", \"'resist\\u00eancia',\", \"'poli\\u00e9ster',\", \"'fios',\", \"'agulha',\", \"'montagem']\", \"'silicone',\", \"'haste',\", \"'rota\\u00e7\\u00e3o',\", \"'corpo',\", \"'esmalte',\", \"'resina',\", \"'alta',\", \"'ponta',\", \"'press\\u00e3o',\", \"'abnt',\", \"'cabo',\", \"'borracha',\", \"'a\\u00e7o',\", \"'caixa']\", \"'polipropileno',\", \"'altura',\", \"'led',\", \"'comprimento',\", \"'base',\", \"'largura',\", \"'mesa',\", \"'estrutura',\", \"'material',\", \"'tinta',\", \"'algod\\u00e3o',\", \"'c',\", \"'prote\\u00e7\\u00e3o',\", \"'pl\\u00e1stico',\", \"'tubo',\", \"',\", \"'x',\", \"['\", \"'v',\", \"'pintura',\", \"'p',\", \"'capacidade',\", \"'caixa',\", \"'uso',\", \"'m\\u00ednimo',\", \"'m\\u00ednima',\", \"'sistema',\", \"'servi\\u00e7os',\", \"['contrata\\u00e7\\u00e3o',\", \"['pneu',\", \"'presta\\u00e7\\u00e3o',\", \"'lonas',\", \"['presta\\u00e7\\u00e3o',\", \"['loca\\u00e7\\u00e3o',\", \"'fiat',\", \"'radial',\", \"['servi\\u00e7os',\", \"'especializada',\", \"'manuten\\u00e7\\u00e3o',\", \"'ampola']\", \"'combust\\u00edvel',\", \"'contrata\\u00e7\\u00e3o',\", \"'conserto',\", \"'trator',\", \"'ca\\u00e7amba',\", \"'renavam',\", \"'chassi',\", \"'borrachudo',\", \"'cv',\", \"['transporte',\", \"['recapagem',\", \"'motorista',\", \"'m\\u00b3',\", \"'descritivo',\", \"'anomodelo',\", \"'retroescavadeira',\", \"'loca\\u00e7\\u00e3o',\", \"['servi\\u00e7o',\", \"'pneu',\", \"['filtro',\", \"'municipal',\", \"'munic\\u00edpio',\", \"'caminh\\u00e3o',\", \"'comprimido']\", \"'memorial',\", \"'hp',\", \"'projeto',\", \"'velocidade',\", \"['jogo',\", \"'rua',\", \"'ve\\u00edculos',\", \"'secretaria',\", \"'equipamentos',\", \"'traseiro',\", \"'empresa',\", \"'termo',\", \"'placa',\", \"'\\\\t',\", \"'especifica\\u00e7\\u00f5es',\", \"'portas',\", \"'servi\\u00e7o',\", \"'usb',\", \"'ve\\u00edculo',\", \"['constru\\u00e7\\u00e3o',\", \"'motor',\", \"',\", \"['\", \"'ar',\", \"'m\\u00ednimo',\", \"'obra',\", \"'horas',\", \"'carga',\", \"'sistema',\", \"'capacidade',\", \"'x',\", \"'m\\u00ednima',\", \"'transporte',\", \"'r\\u00f3tulo',\", \"'sabor',\", \"'ingredientes',\", \"'entrega']\", \"'sujidades',\", \"'colora\\u00e7\\u00e3o',\", \"'nutricional',\", \"'leite',\", \"'parasitas',\", \"'gordura',\", \"'milho',\", \"'casca',\", \"'trigo',\", \"['carne',\", \"'aroma',\", \"'a\\u00e7\\u00facar',\", \"'larvas',\", \"'gramas']\", \"'ovos',\", \"'matura\\u00e7\\u00e3o',\", \"['farinha',\", \"['biscoito',\", \"'rachaduras',\", \"'doce',\", \"'farinha',\", \"'fresco',\", \"'frango',\", \"'sal',\", \"'acondicionado',\", \"'\\u00edntegra',\", \"'validade',\", \"'prazo',\", \"'lixo',\", \"'firme',\", \"'isento',\", \"'gramas',\", \"'embalagem',\", \"['saco',\", \"'embalagens',\", \"'saco',\", \"'m\\u00e9dio',\", \"['parafuso',\", \"'integral',\", \"'embalagem']\", \"'l\\u00edquido',\", \"'lote',\", \"'entrega',\", \"'produto',\", \"'identifica\\u00e7\\u00e3o',\", \"'meses',\", \"'diversos']\", \"'contendo',\", \"'fabrica\\u00e7\\u00e3o',\", \"'primeira',\", \"'pl\\u00e1stica',\", \"'p\\u00f3',\", \"'peso',\", \"'informa\\u00e7\\u00f5es',\", \"'registro',\", \"'m\\u00ednima',\", \"'conter',\", \"'m\\u00ednimo',\", \"'pacote',\", \"'transparente',\", \"'fabricante',\", \"'pl\\u00e1stico',\", \"'meses']\", \"['livro',\", \"'instala\\u00e7\\u00e3o']\", \"['cabo',\", \"['exame',\", \"'esgoto',\", \"['papel',\", \"'sold\\u00e1vel',\", \"'argamassa',\", \"'ramal',\", \"['joelho',\", \"'mm\\u00b2',\", \"'tra\\u00e7o',\", \"'mpa',\", \"'fck',\", \"'betoneira',\", \"['bucha',\", \"['registro',\", \"'cer\\u00e2mico',\", \"'areia',\", \"['concreto',\", \"'esgoto']\", \"'folhas']\", \"['eletroduto',\", \"['curva',\", \"'sold\\u00e1vel']\", \"'antichama',\", \"'isolado',\", \"['piso',\", \"'azul']\", \"['folha',\", \"'concreto',\", \"['caixa',\", \"'x']\", \"['tubo',\", \"'autor',\", \"['disjuntor',\", \"['livros',\", \"'brita',\", \"'cola',\", \"'xmm']\", \"'editora',\", \"'junta',\", \"'alvenaria',\", \"'metros']\", \"'pead',\", \"['fita',\", \"'pvc',\", \"'xcm',\", \"['placa',\", \"'fornecimento',\", \"'cobre',\", \"'x',\", \"'piso',\", \"'papel',\", \"'rolo',\", \"'simples',\", \"'instalado',\", \"'madeira',\", \"'frasco']\", \"'ferro',\", \"'l']\", \"'medindo',\", \"'dimens\\u00f5es',\", \"'folhas',\", \"'c',\", \"'espessura',\", \"'branca',\"], \"Freq\": [47565.0, 39279.0, 79966.0, 25397.0, 24387.0, 21909.0, 30324.0, 19940.0, 13149.0, 11676.0, 14613.0, 15277.0, 13041.0, 14836.0, 10460.0, 10504.0, 10855.0, 8806.0, 48871.0, 11536.0, 11972.0, 47698.0, 14047.0, 10242.0, 7689.0, 9564.0, 7386.0, 9062.0, 8028.0, 10831.0, 3924.5092704941558, 3326.111976256363, 3114.3268876329576, 2420.7430516487084, 2391.6647025789066, 3204.3994170198994, 2318.179114673155, 2394.292704245602, 3342.433342027155, 1871.8833697062512, 1964.9905909566687, 2091.019997177708, 4497.5769526699705, 1723.2715553889855, 4374.1473544346, 2208.904205125729, 1655.3649564578175, 1619.473962266948, 1446.1164226393316, 1623.6967329272686, 1706.210872417796, 2041.7134854180426, 1617.1419212104097, 1553.2915603158806, 1287.4819738389099, 1192.1321862968707, 1186.2475223090817, 1609.9069551989353, 3067.1604661688502, 1180.698918234257, 7521.655721254877, 7068.113762020337, 6921.825662128426, 4494.591928431101, 11839.857171169871, 4389.522405875383, 4282.369472548658, 3640.055480308532, 3723.148831950724, 4159.1721434989495, 3544.183817504999, 3019.851761568369, 3209.310960768517, 2328.5110031601125, 2288.2004668667305, 2269.32472437866, 2511.356958143864, 4999.650608720309, 2942.457039443564, 2818.570206899313, 10812.438531803422, 6504.517695857041, 4894.345895353952, 3857.717125410415, 9963.26589497589, 5799.006618067214, 26873.328580757523, 5102.664768104798, 5549.392329243283, 14088.413378319196, 7211.902703907033, 9356.662924828057, 11333.651753077242, 10956.369464663994, 4871.9241766314535, 7609.583777908795, 12192.146710880974, 7104.02579191104, 4249.20318581122, 14470.743066042485, 5900.573404438161, 9624.066988136155, 6813.528036135764, 18275.044706325763, 24307.354180971037, 17912.5563581454, 8371.18070605462, 6874.939424499601, 8029.892837356421, 8626.797181231033, 8162.519418856485, 7670.064920879996, 10846.253419285727, 9492.022394331485, 7064.395117749777, 13040.147949174843, 10241.494479691724, 8696.957374773128, 4502.881568699204, 4650.548872270471, 4698.7210457954425, 3958.0730240554076, 3338.9238165241804, 3485.301607155652, 6066.527428267265, 3025.2317931036337, 4695.227606966046, 2811.7108196658255, 3208.3062020275765, 2622.9712055819664, 2591.463091020553, 2356.820544512024, 2197.777010364179, 2123.3162471764617, 2142.409491242123, 1938.028662932209, 2221.308842778783, 3234.259535401848, 2116.674586731522, 1796.0642737383641, 2807.1176946745722, 1886.304708014906, 1777.689212392539, 1758.1976736106467, 1801.8780389853637, 11507.969791270942, 9093.704447798511, 7873.116558060158, 8762.264616733157, 7077.336521933817, 5123.720149174733, 5432.700654890948, 5115.084880664625, 4022.0557475378787, 3997.6295663231626, 4136.938230511996, 3569.1965050688827, 3603.505347249041, 2752.1996978849825, 4250.264532344024, 3352.763810843819, 3229.6672642041985, 10515.199079672402, 9390.199645046649, 9035.170635096294, 5113.676121218148, 8649.049308069638, 6736.40762875443, 9015.469063087836, 4825.8782348153345, 7102.634426418141, 4820.563085033027, 6982.198869844089, 27516.242409959363, 26636.113257722503, 8437.900457861404, 17326.82820171565, 7551.653589854546, 5358.863445631964, 5699.910731524428, 7345.255247258556, 7473.389745357074, 9292.271226263556, 7581.638252028688, 5224.585048759594, 7039.040473784401, 8027.457711081898, 5197.011876643057, 10459.159534278597, 4449.566428547329, 4461.452204487538, 4080.6673845860364, 4235.317753549459, 3374.532571558135, 3637.1520325323154, 3314.8834808446686, 3518.1056134502987, 3363.088730377884, 3091.2521743195966, 2996.05532102917, 2939.2665963219697, 2824.5355783263176, 3773.0868425952667, 2818.077063785425, 2822.218500333028, 2889.1246136255513, 3039.160276053933, 2651.535084046332, 3324.6581268728796, 2618.3054799877464, 2591.502190822506, 2490.780396665036, 2579.0530291027308, 3451.744949220922, 2588.824001345651, 39264.31072835368, 11659.89260330107, 4039.981725227649, 3722.8878081743355, 5252.987830380964, 5525.580105684032, 46285.57656448204, 3937.422174004805, 3104.237708691801, 3001.7332642483166, 10365.651757801783, 5336.211601304275, 5204.68057927968, 10515.113445304762, 4854.086494686378, 8112.393898160667, 8667.203766228202, 22149.654336840416, 9011.626755953346, 17721.354803025377, 4252.592324195942, 12927.733195491997, 12439.631488521329, 5264.7059088279075, 8691.621904319767, 8670.976959826674, 11029.680237088916, 5328.497948824096, 9701.897299676326, 14891.703370629377, 5085.80769252639, 14317.667935821028, 6430.458058733258, 6525.114649480948, 5661.585365982556, 5843.2946763464415, 5447.989328136311, 7385.860652151445, 8805.387887393194, 6024.260169659047, 4455.583858561835, 4098.573816139425, 4402.789289735903, 3880.3817394981265, 3233.440893744971, 2692.3616552867734, 2666.6790994530675, 2576.801888932242, 2969.966232670686, 2220.7304549236933, 1958.891345139044, 1663.8466936616696, 2741.09576634264, 1645.8382104877296, 1690.5445014562176, 2319.837712122653, 1505.4022957627005, 1559.4589161050628, 1922.108310036893, 1505.5471483993385, 1632.5667752473917, 1406.2928382705259, 1364.045466648412, 1537.195982642624, 1310.7422633743356, 1714.3166527062115, 1264.2741792930155, 13141.01799405063, 5645.0884072620765, 24889.643502214956, 7626.500120169686, 4449.599427733234, 2329.706760621906, 2331.1057803909553, 2323.025386917531, 3086.8903641761344, 2171.9583888098714, 5106.492199696731, 1973.1745485426338, 2815.0897935772123, 3357.578869912765, 2058.2694217611865, 4071.4680373113074, 19024.863151770187, 6090.413818738371, 3782.804236156726, 11428.23861287046, 3281.9463576642715, 46340.02628279021, 4133.844149656431, 8426.317705199639, 4072.6554622162043, 4533.484139683671, 3753.967926715203, 8187.769982597559, 4120.409159287129, 4669.335743495755, 4039.3855619469473, 5371.60259541842, 5253.64047558891, 4762.158779915603, 7336.638626075206, 4895.9219387513485, 4119.9096927273795], \"Total\": [47565.0, 39279.0, 79966.0, 25397.0, 24387.0, 21909.0, 30324.0, 19940.0, 13149.0, 11676.0, 14613.0, 15277.0, 13041.0, 14836.0, 10460.0, 10504.0, 10855.0, 8806.0, 48871.0, 11536.0, 11972.0, 47698.0, 14047.0, 10242.0, 7689.0, 9564.0, 7386.0, 9062.0, 8028.0, 10831.0, 3925.457113198692, 3327.0674777981326, 3115.234710829504, 2421.507405022092, 2392.4255987488104, 3205.4434428041504, 2318.9470234551536, 2395.184914856007, 3343.7228237191607, 1872.6528938770539, 1965.799050690612, 2091.888138847267, 4499.548146584917, 1724.0309300682275, 4376.111921834158, 2209.9580669187326, 1656.190805318267, 1620.2907582290777, 1446.8806099433696, 1624.6043044349874, 1707.1769208853464, 2042.8833815616683, 1618.0848063891003, 1554.2079765000612, 1288.2613885854983, 1192.883930801159, 1187.0030479705254, 1610.9520765229395, 3069.179200009621, 1181.4760454200073, 7533.008439626846, 7093.126736328743, 6951.042253561775, 4498.292100818403, 11972.197059875549, 4396.519484869519, 4290.558360363941, 3644.6198961480513, 3728.936939601391, 4172.9648588529235, 3553.3519205175116, 3023.315945369941, 3219.4034474037285, 2330.3134513105465, 2290.418992325149, 2271.6477651097653, 2516.5139325478513, 5067.7889452212585, 2953.805096805189, 2827.9048150079198, 11256.317972318298, 6677.326048864045, 4987.804135211141, 3909.0384806273737, 10423.253483730032, 5974.382781835972, 30324.82966188049, 5339.131200378519, 5917.547162219455, 17418.27533635183, 8121.937676632532, 10981.18718495328, 14541.131162708416, 14274.352394529586, 5311.013948364696, 9336.72017184644, 17048.93339428961, 8706.572125826378, 4486.659686351755, 26598.51519243476, 7235.650926991625, 15578.666620161943, 9065.180721878045, 48871.698342815704, 79966.5646930059, 47698.34065072436, 14582.54889774723, 10077.15945048173, 14070.615954340348, 17158.35554216302, 15674.025762603746, 15084.46076025748, 42561.71832413494, 31972.108581080927, 14474.548624408433, 13041.06322829162, 10242.298173490553, 8698.181044134444, 4503.655857151327, 4651.399970975379, 4699.597669601092, 3958.9237626978165, 3339.6974881427564, 3486.1218957615647, 6068.00720925239, 3026.0027821938943, 4696.542551090839, 2812.5141552819164, 3209.2446278670764, 2623.747030931054, 2592.2609074954057, 2357.595764218522, 2198.557918408423, 2124.083925696656, 2143.259035414182, 1938.7988279374629, 2222.206165818565, 3235.5853686392597, 2117.5618761393193, 1796.8292239724904, 2808.3296446891122, 1887.1214884148997, 1778.4637505661974, 1758.9671638349819, 1802.670092669847, 11536.993825098687, 9098.850170882904, 7878.36793263051, 8779.910037068332, 7091.378872535793, 5126.314493848398, 5441.193353705668, 5127.491898477101, 4024.427669759477, 4001.794048664371, 4143.835958928003, 3571.1963538939226, 3610.4931225911337, 2753.95823314777, 4273.246886858292, 3363.614298070489, 3238.29968140903, 10831.660861459413, 9666.208364912163, 9320.854407846788, 5195.827174183528, 9060.723886748621, 6985.932251797997, 9496.050001521611, 4926.338545826119, 7552.792438922102, 5005.696775001574, 7961.130306217212, 48871.698342815704, 47698.34065072436, 11134.921063052663, 42561.71832413494, 10797.697907434016, 6154.863537298373, 7493.5541558744535, 14474.548624408433, 17158.35554216302, 79966.5646930059, 31972.108581080927, 8827.051869661082, 7039.714524668564, 8028.240636463952, 5197.680319427914, 10460.634441589707, 4450.253751836424, 4462.174793959361, 4081.3337582973586, 4236.009695632208, 3375.2063262944694, 3637.88463561731, 3315.5617919095216, 3518.8268421379757, 3363.7971252890025, 3091.9198235953795, 2996.7494042204917, 2939.947792989658, 2825.2038533658433, 3773.987861982911, 2818.7522684276955, 2822.929827618798, 2889.8563525650943, 3039.9365333808996, 2652.212950799916, 3325.5093929849127, 2618.9771651612973, 2592.176090505988, 2491.446468724798, 2579.7528159313547, 3452.697192957598, 2589.544697870447, 39279.49911893384, 11676.301474126778, 4042.905580430621, 3725.1917077643134, 5277.6582341845915, 5557.321028519848, 47565.86975600904, 3947.729477807921, 3105.116343110994, 3003.355208615634, 10504.831759764807, 5371.285087962317, 5260.948401494434, 10855.438992545613, 4903.960989807904, 8329.137819428497, 9062.319608317019, 24387.990949370072, 9564.596420190477, 19940.95494550091, 4320.808980793533, 15277.392992022898, 14836.177715496151, 5607.02131509339, 10543.967460741045, 10686.353111425904, 15425.185951683246, 5881.465992956452, 13858.048288676147, 31972.108581080927, 5680.10230030628, 42561.71832413494, 9035.039011823686, 9554.255827787287, 7724.932272640901, 15578.666620161943, 9064.952482003255, 7386.770606875933, 8806.647085887185, 6025.143546204255, 4456.370452974373, 4099.3843927942235, 4403.74244273412, 3881.2344849937454, 3234.2243059482466, 2693.1324869766304, 2667.4609188305967, 2577.586995133876, 2970.8965668197543, 2221.5230919150667, 1959.658978572799, 1664.6142690855638, 2742.36302422304, 1646.6358813969455, 1691.3789130093098, 2320.9963147718317, 1506.1708530824951, 1560.2803609008402, 1923.140065840652, 1506.3603916540094, 1633.4521707991998, 1407.0625681789309, 1364.8232732816043, 1538.090259392327, 1311.514205123718, 1715.341497223458, 1265.0572434993767, 13149.414642280155, 5658.323417682704, 25397.188734247276, 7689.780113294052, 4482.003836389989, 2331.4020013453905, 2333.0647744595567, 2325.886701588879, 3099.863014340608, 2173.5931534282154, 5160.60747736988, 1976.5940717996843, 2830.8608072135958, 3394.1320241302337, 2063.4818906735404, 4244.3997299838575, 21909.317819887416, 6620.429814997946, 3991.4304240697816, 14613.113072729233, 3487.17925928276, 79966.5646930059, 4589.948849961409, 11700.176734942404, 4738.2148130812875, 5502.904525309162, 4298.248563244246, 14047.15820569071, 5040.9784220960355, 6510.275880462296, 5567.056753439149, 10738.941500141356, 10269.67645241668, 8354.163147682344, 26598.51519243476, 11350.899487112729, 13395.323677343968], \"Category\": [\"Default\", \"Default\", \"Default\", \"Default\", \"Default\", \"Default\", \"Default\", \"Default\", \"Default\", \"Default\", \"Default\", \"Default\", \"Default\", \"Default\", \"Default\", \"Default\", \"Default\", \"Default\", \"Default\", \"Default\", \"Default\", \"Default\", \"Default\", \"Default\", \"Default\", \"Default\", \"Default\", \"Default\", \"Default\", \"Default\", \"Topic1\", \"Topic1\", \"Topic1\", \"Topic1\", \"Topic1\", \"Topic1\", \"Topic1\", \"Topic1\", \"Topic1\", \"Topic1\", \"Topic1\", \"Topic1\", \"Topic1\", \"Topic1\", \"Topic1\", \"Topic1\", \"Topic1\", \"Topic1\", \"Topic1\", \"Topic1\", \"Topic1\", \"Topic1\", \"Topic1\", \"Topic1\", \"Topic1\", \"Topic1\", \"Topic1\", \"Topic1\", \"Topic1\", \"Topic1\", \"Topic1\", \"Topic1\", \"Topic1\", \"Topic1\", \"Topic1\", \"Topic1\", \"Topic1\", \"Topic1\", \"Topic1\", \"Topic1\", \"Topic1\", \"Topic1\", \"Topic1\", \"Topic1\", \"Topic1\", \"Topic1\", \"Topic1\", \"Topic1\", \"Topic1\", \"Topic1\", \"Topic1\", \"Topic1\", \"Topic1\", \"Topic1\", \"Topic1\", \"Topic1\", \"Topic1\", \"Topic1\", \"Topic1\", \"Topic1\", \"Topic1\", \"Topic1\", \"Topic1\", \"Topic1\", \"Topic1\", \"Topic1\", \"Topic1\", \"Topic1\", \"Topic1\", \"Topic1\", \"Topic1\", \"Topic1\", \"Topic1\", \"Topic1\", \"Topic1\", \"Topic1\", \"Topic1\", \"Topic1\", \"Topic1\", \"Topic1\", \"Topic1\", \"Topic1\", \"Topic1\", \"Topic1\", \"Topic1\", \"Topic2\", \"Topic2\", \"Topic2\", \"Topic2\", \"Topic2\", \"Topic2\", \"Topic2\", \"Topic2\", \"Topic2\", \"Topic2\", \"Topic2\", \"Topic2\", \"Topic2\", \"Topic2\", \"Topic2\", \"Topic2\", \"Topic2\", \"Topic2\", \"Topic2\", \"Topic2\", \"Topic2\", \"Topic2\", \"Topic2\", \"Topic2\", \"Topic2\", \"Topic2\", \"Topic2\", \"Topic2\", \"Topic2\", \"Topic2\", \"Topic2\", \"Topic2\", \"Topic2\", \"Topic2\", \"Topic2\", \"Topic2\", \"Topic2\", \"Topic2\", \"Topic2\", \"Topic2\", \"Topic2\", \"Topic2\", \"Topic2\", \"Topic2\", \"Topic2\", \"Topic2\", \"Topic2\", \"Topic2\", \"Topic2\", \"Topic2\", \"Topic2\", \"Topic2\", \"Topic2\", \"Topic2\", \"Topic2\", \"Topic2\", \"Topic2\", \"Topic2\", \"Topic2\", \"Topic2\", \"Topic2\", \"Topic2\", \"Topic2\", \"Topic2\", \"Topic2\", \"Topic2\", \"Topic2\", \"Topic2\", \"Topic2\", \"Topic2\", \"Topic3\", \"Topic3\", \"Topic3\", \"Topic3\", \"Topic3\", \"Topic3\", \"Topic3\", \"Topic3\", \"Topic3\", \"Topic3\", \"Topic3\", \"Topic3\", \"Topic3\", \"Topic3\", \"Topic3\", \"Topic3\", \"Topic3\", \"Topic3\", \"Topic3\", \"Topic3\", \"Topic3\", \"Topic3\", \"Topic3\", \"Topic3\", \"Topic3\", \"Topic3\", \"Topic3\", \"Topic3\", \"Topic3\", \"Topic3\", \"Topic3\", \"Topic3\", \"Topic3\", \"Topic3\", \"Topic3\", \"Topic3\", \"Topic3\", \"Topic3\", \"Topic3\", \"Topic3\", \"Topic3\", \"Topic3\", \"Topic3\", \"Topic3\", \"Topic3\", \"Topic3\", \"Topic3\", \"Topic3\", \"Topic3\", \"Topic3\", \"Topic3\", \"Topic3\", \"Topic3\", \"Topic3\", \"Topic3\", \"Topic3\", \"Topic3\", \"Topic3\", \"Topic3\", \"Topic3\", \"Topic3\", \"Topic3\", \"Topic3\", \"Topic3\", \"Topic3\", \"Topic3\", \"Topic3\", \"Topic4\", \"Topic4\", \"Topic4\", \"Topic4\", \"Topic4\", \"Topic4\", \"Topic4\", \"Topic4\", \"Topic4\", \"Topic4\", \"Topic4\", \"Topic4\", \"Topic4\", \"Topic4\", \"Topic4\", \"Topic4\", \"Topic4\", \"Topic4\", \"Topic4\", \"Topic4\", \"Topic4\", \"Topic4\", \"Topic4\", \"Topic4\", \"Topic4\", \"Topic4\", \"Topic4\", \"Topic4\", \"Topic4\", \"Topic4\", \"Topic4\", \"Topic4\", \"Topic4\", \"Topic4\", \"Topic4\", \"Topic4\", \"Topic4\", \"Topic4\", \"Topic4\", \"Topic4\", \"Topic4\", \"Topic4\", \"Topic4\", \"Topic4\", \"Topic4\", \"Topic4\", \"Topic4\", \"Topic4\", \"Topic4\", \"Topic4\", \"Topic4\", \"Topic4\", \"Topic4\", \"Topic4\", \"Topic4\", \"Topic4\", \"Topic4\", \"Topic4\", \"Topic4\", \"Topic4\", \"Topic4\", \"Topic4\", \"Topic4\", \"Topic4\", \"Topic4\", \"Topic4\", \"Topic4\"], \"logprob\": [30.0, 29.0, 28.0, 27.0, 26.0, 25.0, 24.0, 23.0, 22.0, 21.0, 20.0, 19.0, 18.0, 17.0, 16.0, 15.0, 14.0, 13.0, 12.0, 11.0, 10.0, 9.0, 8.0, 7.0, 6.0, 5.0, 4.0, 3.0, 2.0, 1.0, -6.4607, -6.6261, -6.6919, -6.9438, -6.9559, -6.6634, -6.9871, -6.9548, -6.6212, -7.201, -7.1524, -7.0902, -6.3244, -7.2837, -6.3522, -7.0354, -7.3239, -7.3458, -7.459, -7.3432, -7.2936, -7.1141, -7.3472, -7.3875, -7.5752, -7.6522, -7.6571, -7.3517, -6.7071, -7.6618, -5.8101, -5.8723, -5.8932, -6.325, -5.3564, -6.3487, -6.3734, -6.5359, -6.5133, -6.4026, -6.5626, -6.7227, -6.6618, -6.9827, -7.0001, -7.0084, -6.9071, -6.2185, -6.7487, -6.7917, -5.4472, -5.9554, -6.2398, -6.4778, -5.529, -6.0702, -4.5368, -6.1981, -6.1142, -5.1825, -5.8522, -5.5918, -5.4001, -5.434, -6.2444, -5.7985, -5.3271, -5.8672, -6.3812, -5.1558, -6.0529, -5.5636, -5.909, -4.9224, -4.6371, -4.9424, -5.7031, -5.9, -5.7447, -5.673, -5.7283, -5.7906, -5.4441, -5.5774, -5.8728, -5.2336, -5.4752, -5.6387, -6.297, -6.2647, -6.2544, -6.4259, -6.596, -6.5531, -5.9989, -6.6947, -6.2551, -6.7679, -6.6359, -6.8374, -6.8494, -6.9444, -7.0142, -7.0487, -7.0397, -7.14, -7.0036, -6.6279, -7.0518, -7.2161, -6.7695, -7.167, -7.2264, -7.2374, -7.2128, -5.3586, -5.5941, -5.7382, -5.6312, -5.8448, -6.1678, -6.1092, -6.1695, -6.4099, -6.416, -6.3817, -6.5293, -6.5198, -6.7893, -6.3547, -6.5919, -6.6293, -5.4488, -5.562, -5.6005, -6.1697, -5.6442, -5.8941, -5.6027, -6.2277, -5.8412, -6.2288, -5.8583, -4.4869, -4.5194, -5.6689, -4.9494, -5.7799, -6.1229, -6.0612, -5.8076, -5.7903, -5.5725, -5.7759, -6.1483, -5.5749, -5.4435, -5.8783, -5.1789, -6.0335, -6.0309, -6.1201, -6.0829, -6.3101, -6.2352, -6.3279, -6.2684, -6.3135, -6.3978, -6.4291, -6.4482, -6.488, -6.1985, -6.4903, -6.4888, -6.4654, -6.4148, -6.5512, -6.325, -6.5638, -6.5741, -6.6138, -6.5789, -6.2875, -6.5752, -3.856, -5.0702, -6.1301, -6.2119, -5.8676, -5.817, -3.6915, -6.1558, -6.3936, -6.4272, -5.1879, -5.8518, -5.8768, -5.1735, -5.9465, -5.433, -5.3668, -4.4285, -5.3278, -4.6516, -6.0788, -4.967, -5.0055, -5.8653, -5.364, -5.3664, -5.1258, -5.8533, -5.254, -4.8256, -5.8999, -4.8649, -5.6653, -5.6507, -5.7927, -5.7611, -5.8311, -5.3625, -5.1867, -5.5662, -5.8679, -5.9514, -5.8798, -6.0061, -6.1885, -6.3716, -6.3812, -6.4155, -6.2735, -6.5642, -6.6897, -6.8529, -6.3537, -6.8638, -6.837, -6.5205, -6.953, -6.9177, -6.7086, -6.9529, -6.8719, -7.0211, -7.0516, -6.9321, -7.0914, -6.823, -7.1275, -4.7863, -5.6312, -4.1476, -5.3304, -5.8692, -6.5163, -6.5157, -6.5192, -6.2349, -6.5864, -5.7315, -6.6824, -6.327, -6.1508, -6.6402, -5.958, -4.4163, -5.5553, -6.0316, -4.9259, -6.1736, -3.526, -5.9428, -5.2307, -5.9577, -5.8505, -6.0392, -5.2594, -5.9461, -5.821, -5.9659, -5.6809, -5.7031, -5.8013, -5.3691, -5.7736, -5.9462], \"loglift\": [30.0, 29.0, 28.0, 27.0, 26.0, 25.0, 24.0, 23.0, 22.0, 21.0, 20.0, 19.0, 18.0, 17.0, 16.0, 15.0, 14.0, 13.0, 12.0, 11.0, 10.0, 9.0, 8.0, 7.0, 6.0, 5.0, 4.0, 3.0, 2.0, 1.0, 1.2061, 1.2061, 1.2061, 1.2061, 1.2061, 1.2061, 1.206, 1.206, 1.206, 1.206, 1.206, 1.206, 1.2059, 1.2059, 1.2059, 1.2059, 1.2059, 1.2059, 1.2059, 1.2058, 1.2058, 1.2058, 1.2058, 1.2058, 1.2058, 1.2058, 1.2057, 1.2057, 1.2057, 1.2057, 1.2049, 1.2028, 1.2022, 1.2056, 1.1953, 1.2048, 1.2045, 1.2051, 1.2048, 1.2031, 1.2038, 1.2052, 1.2032, 1.2056, 1.2054, 1.2054, 1.2043, 1.1928, 1.2025, 1.2031, 1.1661, 1.1802, 1.1875, 1.1932, 1.1612, 1.1766, 1.0855, 1.1611, 1.1421, 0.9942, 1.0875, 1.0463, 0.9572, 0.9418, 1.1201, 1.0018, 0.8711, 1.003, 1.152, 0.5977, 1.0024, 0.7247, 0.9209, 0.2227, 0.0156, 0.227, 0.6514, 0.824, 0.6455, 0.5188, 0.5539, 0.53, -0.1608, -0.008, 0.4891, 1.2325, 1.2325, 1.2325, 1.2324, 1.2324, 1.2324, 1.2324, 1.2324, 1.2324, 1.2324, 1.2324, 1.2323, 1.2323, 1.2323, 1.2323, 1.2323, 1.2323, 1.2323, 1.2323, 1.2322, 1.2322, 1.2322, 1.2322, 1.2322, 1.2322, 1.2322, 1.2322, 1.2322, 1.2322, 1.2322, 1.2301, 1.232, 1.2319, 1.2306, 1.2306, 1.2321, 1.2311, 1.2302, 1.232, 1.2316, 1.2309, 1.2321, 1.2307, 1.232, 1.2272, 1.2294, 1.2299, 1.203, 1.2036, 1.2015, 1.2167, 1.1861, 1.1962, 1.1807, 1.212, 1.1712, 1.1949, 1.1014, 0.6582, 0.65, 0.9553, 0.3339, 0.875, 1.0941, 0.959, 0.5543, 0.4015, -0.9198, -0.2065, 0.7082, 1.5078, 1.5078, 1.5078, 1.5078, 1.5078, 1.5078, 1.5078, 1.5078, 1.5077, 1.5077, 1.5077, 1.5077, 1.5077, 1.5077, 1.5077, 1.5077, 1.5077, 1.5077, 1.5077, 1.5077, 1.5077, 1.5077, 1.5077, 1.5077, 1.5077, 1.5077, 1.5077, 1.5077, 1.5077, 1.5076, 1.5075, 1.5065, 1.5072, 1.5073, 1.5032, 1.5022, 1.4806, 1.5053, 1.5076, 1.5074, 1.4946, 1.5014, 1.4972, 1.4761, 1.4977, 1.4816, 1.4633, 1.4117, 1.4484, 1.3899, 1.492, 1.3409, 1.3317, 1.4449, 1.3147, 1.2989, 1.1725, 1.4092, 1.1514, 0.7439, 1.3974, 0.4185, 1.1679, 1.1266, 1.1972, 0.5273, 0.9988, 1.6721, 1.6721, 1.6721, 1.6721, 1.6721, 1.672, 1.672, 1.672, 1.672, 1.672, 1.6719, 1.6719, 1.6719, 1.6719, 1.6718, 1.6718, 1.6718, 1.6718, 1.6718, 1.6717, 1.6717, 1.6717, 1.6717, 1.6717, 1.6717, 1.6717, 1.6717, 1.6717, 1.6717, 1.6716, 1.6716, 1.6699, 1.6521, 1.664, 1.665, 1.6715, 1.6714, 1.671, 1.6681, 1.6715, 1.6617, 1.6705, 1.6667, 1.6614, 1.6697, 1.6307, 1.5311, 1.5888, 1.6186, 1.4264, 1.6116, 1.1266, 1.5676, 1.344, 1.5209, 1.4785, 1.5369, 1.1325, 1.4706, 1.3399, 1.3515, 0.9795, 1.002, 1.1102, 0.3843, 0.8314, 0.4932]}, \"token.table\": {\"Topic\": [1, 2, 3, 4, 1, 2, 3, 4, 1, 2, 3, 4, 3, 1, 3, 4, 1, 2, 1, 3, 1, 3, 4, 1, 2, 3, 4, 1, 2, 3, 4, 2, 4, 2, 2, 4, 1, 1, 2, 3, 4, 4, 4, 3, 1, 2, 3, 4, 4, 1, 2, 3, 4, 3, 1, 2, 3, 4, 4, 1, 1, 2, 3, 4, 2, 1, 2, 3, 4, 2, 4, 1, 2, 3, 4, 1, 2, 3, 4, 1, 2, 3, 4, 1, 2, 3, 4, 2, 3, 4, 1, 2, 3, 4, 1, 2, 3, 4, 3, 2, 1, 4, 2, 1, 1, 2, 4, 1, 3, 4, 3, 2, 1, 2, 3, 4, 2, 3, 4, 1, 4, 1, 1, 3, 4, 1, 3, 4, 2, 1, 2, 3, 4, 1, 2, 3, 2, 1, 2, 3, 4, 2, 1, 1, 3, 4, 2, 1, 2, 3, 4, 2, 3, 3, 2, 3, 4, 1, 3, 4, 1, 3, 4, 3, 1, 2, 3, 1, 2, 3, 1, 3, 1, 2, 4, 4, 4, 1, 2, 3, 4, 2, 1, 2, 3, 4, 1, 2, 3, 4, 1, 2, 4, 1, 3, 1, 2, 3, 1, 2, 3, 3, 4, 1, 2, 3, 4, 2, 1, 4, 1, 3, 1, 2, 3, 4, 4, 2, 3, 4, 3, 1, 2, 3, 4, 3, 1, 3, 1, 3, 3, 1, 2, 3, 4, 1, 2, 3, 2, 4, 1, 2, 3, 1, 2, 3, 3, 1, 2, 3, 4, 1, 1, 2, 4, 3, 4, 1, 2, 3, 1, 3, 4, 2, 4, 1, 3, 4, 1, 2, 3, 4, 3, 1, 2, 3, 3, 4, 2, 2, 1, 2, 3, 1, 3, 1, 2, 3, 1, 2, 3, 4, 1, 1, 2, 1, 2, 3, 4, 3, 1, 2, 3, 4, 2, 4, 1, 2, 3, 4, 1, 2, 3, 1, 2, 3, 4, 1, 2, 4, 3, 4, 1, 4, 1, 2, 4, 2, 4, 1, 2, 3, 4, 1, 2, 2, 1, 2, 3, 4, 1, 2, 3, 4, 1, 2, 3, 4, 3, 1, 4, 2, 3, 4, 3, 1, 2, 3, 4, 1, 3, 4, 1, 2, 3, 4, 3, 1, 3, 4, 1, 2, 3, 4, 1, 1, 2, 3, 4, 1, 2, 4, 1, 2, 3, 4, 1, 3, 4, 1, 2, 3, 4, 2, 4, 1, 3, 4, 1, 1, 4, 1, 2, 3, 4, 1, 2, 4, 1, 2, 3, 1, 2, 4, 2, 1, 2, 3, 4, 1, 2, 3, 2, 4, 1, 2, 3, 4, 1, 2, 3, 4, 1, 2, 3, 4, 3, 2, 4, 1, 2, 3, 4, 2, 1, 2, 3, 1, 2, 3, 4, 2, 1, 2, 3, 4, 1, 2, 2, 4, 3, 3, 3, 4, 3, 1, 2, 3, 1, 2, 3, 4, 2, 1, 4, 1, 2, 3, 4, 1, 1, 2, 3, 4, 1, 4, 4, 3, 1, 1, 4, 1, 2, 3, 4, 1, 2, 3, 4, 1, 3, 4, 1, 2, 3, 4, 1, 2, 3, 2, 4, 3, 1, 3, 4, 1, 1, 2, 1, 2, 3, 4, 1, 2, 4, 1, 3, 1, 1, 2, 3, 2, 3, 2, 3, 1, 2, 4, 1, 1, 2, 3, 4, 1, 2, 3, 4, 1, 2, 3, 4, 2, 3, 4, 3, 1, 2, 3, 4, 1, 4, 3, 1, 2, 1, 4, 4, 1, 2, 3, 4, 1, 3, 1, 4, 2, 4, 2, 4, 3, 4, 4, 4, 3, 2, 4, 1, 2, 3, 4, 4, 4, 1, 2, 3, 4, 3, 4, 2, 1, 1, 4, 2, 3, 4, 1, 3, 4, 1, 2, 3, 4, 2, 3, 1, 2, 2, 4, 3, 4, 1, 2, 4, 2, 4, 1, 2, 3, 1, 4], \"Freq\": [0.37393830416549223, 0.5630252463703247, 0.047594007961090826, 0.015428152193749992, 0.011547728203532559, 0.9842513672144251, 0.003849242734510853, 0.00038492427345108526, 0.986943469377364, 0.006651251996840711, 0.0030698086139264824, 0.0033256259984203555, 0.9997980729503242, 0.998517125901078, 0.000909810593076153, 0.0006823579448071148, 0.9987324065939128, 0.0010975081391141899, 0.9967685170331422, 0.0031061655251889753, 0.9470297051780623, 0.0006686488857458665, 0.052154613088177586, 0.9605272369338738, 0.03207087796273848, 0.001154906962647092, 0.006218729798868957, 0.8088056784013761, 0.023251440925082148, 5.7410965247116415e-05, 0.1678696623825684, 0.0052987416272029415, 0.9943971787050853, 0.9998171901531764, 0.9997392409229315, 0.9993967912932604, 0.9994089976127692, 0.039515322785716546, 0.7577961219679005, 0.0007184604142857554, 0.20197718396608297, 0.9995707383223787, 0.9996214529876624, 0.9997499276317745, 0.9993913734572724, 0.005131633269311355, 0.0020080304097305304, 0.9928594803667623, 0.9992179416019321, 0.8861715069674546, 0.0009892883269089286, 0.00019785766538178573, 0.1126139878797997, 0.9996776157073544, 0.7794441761908254, 0.013822858603701773, 0.10308689078084059, 0.10370582474817051, 0.9996309841282922, 0.9993295738364164, 0.9706442007081983, 0.02812005961699902, 0.0001673813072440418, 0.0010042878434642507, 0.9995879779139785, 0.4978603101080371, 0.07972931641856106, 0.11481618787616751, 0.3075700221390183, 0.000859887112572484, 0.9987588812529402, 0.544052925334565, 0.06955275460361725, 0.11057008177796666, 0.27584246514958904, 0.9558435871824037, 0.00978581209400835, 0.0002878180027649514, 0.034058463660519255, 0.5207979190308524, 0.07298699245023829, 0.21570718660337032, 0.190506258266094, 0.9557734785835984, 0.00018729639008105005, 0.04326546610872256, 0.0007491855603242002, 0.9995485072460584, 0.00019507191788564762, 0.00019507191788564762, 0.5027871102682875, 0.43553124783063785, 0.052219456450722804, 0.009441464224349435, 0.20510961394668684, 0.7606537407261647, 0.018816171481120914, 0.015479970863900894, 0.9997650233515119, 0.999746234382205, 0.9993106040323366, 0.9997759739072094, 0.9994125603142792, 0.9995935237173245, 0.058500003823135416, 0.00028676472462321284, 0.9411618262133845, 0.0038711388033876065, 0.0003225949002823005, 0.9958504571714617, 0.9997367216629544, 0.9996121741994147, 0.8520936618602781, 0.00045532417540893353, 0.00027319450524536013, 0.14725183832724908, 0.9984941991263574, 0.00018378321353328868, 0.0012864824947330206, 0.0006083921009135333, 0.9993600747630926, 0.9995664773313693, 0.9996559328771508, 0.00022224453821190546, 0.00022224453821190546, 0.9980053038217583, 0.0002330698981367955, 0.0016314892869575685, 0.999513587736574, 0.15140017679768628, 0.00216005440307983, 0.8462176764550315, 0.00019636858209816637, 0.10035030530511127, 0.0042252760128467905, 0.8954064083891156, 0.9997152808856009, 0.986623565828411, 0.012826106355769343, 0.0001973247131656822, 0.0001973247131656822, 0.9994572214598637, 0.999280997506783, 0.9985386396796084, 0.0013274908796591443, 0.00013274908796591443, 0.9994057147768257, 0.48560439300173375, 0.002531725329465626, 0.00029212215339987995, 0.511603264654323, 0.015737793617414567, 0.984306415512708, 0.9998468225692018, 0.007944801107193639, 0.0025190832778906663, 0.9894184013007494, 0.02688902792192553, 0.9730926867820524, 2.102347765592301e-05, 0.031228585065310576, 0.9686388553443679, 9.211971995666837e-05, 0.9996404826783799, 9.23219451559956e-05, 0.9707652533152937, 0.029081412724138615, 0.0006620821444537721, 0.04292499236541956, 0.9563776576634738, 9.559649613833839e-05, 0.9998437531108811, 0.0029729924759020147, 0.9968443771699455, 0.00029729924759020143, 0.9999062315807956, 0.9991794033092226, 0.9960034273019716, 0.0010156391168952804, 0.00033854637229842674, 0.002708370978387414, 0.999668611608755, 0.02880564547184961, 0.9545594930499128, 0.012802509098599826, 0.0037524595633827073, 0.5669154243948679, 0.00017619749009941502, 0.0015857774108947351, 0.43133145576336795, 0.8150613770076219, 0.04530498849858398, 0.13966360520603666, 0.9992681442768458, 0.0006669197848343799, 0.07469321149177437, 0.19236414606027158, 0.7329514098204964, 0.009706003983060563, 0.15179111784619714, 0.8384908996477319, 0.9996268905379184, 0.9996637279342966, 0.03348552411645569, 0.0012288265730809426, 0.24791576111908017, 0.7171739087143651, 0.9997911522989035, 0.9989032091154684, 0.0009922879560749687, 0.0005368851207929663, 0.9994116523561068, 0.001197007985506514, 0.0013167087840571653, 0.42745155162437615, 0.5700152026982019, 0.9994071852274818, 0.2176812007248704, 0.00027372675350502407, 0.7820373347638538, 0.999820799390875, 0.0029756128164030128, 0.022019534841382294, 0.15770747926935968, 0.8173016535720276, 0.9999320684630056, 0.9996280297711032, 0.9997568269184106, 0.005578227322285289, 0.9943640059015647, 0.9997382445256747, 0.9988344297252275, 0.00044020909198996366, 0.00044020909198996366, 0.00044020909198996366, 0.12900367249222877, 0.8706935527529648, 0.00032494627831795663, 0.9993967664575714, 0.0004969650753145556, 0.05760828536757298, 0.0002091044840928239, 0.9422248053222645, 0.0015302307300217757, 0.09249394634798289, 0.9058965921728912, 0.999869110952174, 0.995821885049412, 0.00043158995306966715, 0.00014386331768988906, 0.003596582942247226, 0.9996036539958894, 0.0004653058031828745, 0.12609787266255898, 0.8733789925742553, 0.00011355059311988537, 0.9998129724205908, 0.0003801595924095885, 0.01026430899505889, 0.989365339245954, 0.004547471422940301, 0.9953278076960583, 0.999291160329721, 0.0015177623179191805, 0.998181684418181, 0.00934066281395031, 0.2649514932803213, 0.7255180212604866, 0.7675304418152595, 0.05296212249108581, 7.005571758080134e-05, 0.17941269272443222, 0.9999278447232753, 0.8879654445945213, 0.11191910553749583, 0.9997616399147413, 0.9992813138044369, 0.0004946937197051667, 0.9996282777017427, 0.999914010625215, 0.007803928979105303, 0.01824918776652317, 0.9739303365923418, 0.998407873424101, 0.0013408647239109602, 0.009788006083196889, 0.00040783358679987033, 0.9898121151632853, 0.4163119624886754, 0.0004983214325274842, 0.0002847551043014196, 0.5828936985050058, 0.9998835516003589, 0.0002129225891433126, 0.9996715560278527, 0.7151180497944584, 0.1801872251450604, 0.06962312377838108, 0.03501685332408888, 0.9996706161061105, 0.49911809277752806, 0.00018623809431997317, 0.0005587142829599195, 0.500235521343448, 0.997563740962553, 0.0023403254919942594, 0.9173389577521497, 0.048013430670525076, 0.005083775012173244, 0.029561210255970343, 0.00255755053553775, 0.10872097178521259, 0.8886735890247935, 0.20529616715527885, 0.19327183495757577, 0.6009959799365713, 0.000441259897163415, 0.010311914725523666, 0.00029462613501496187, 0.9893545613802419, 0.9998305590591337, 0.9997722695160303, 0.9994363628164238, 0.0004291268195862704, 0.1228468775641362, 0.8770111443280153, 0.00012561030425780798, 0.9995385070760052, 0.9997645345587581, 0.00022779276684568544, 0.997960111550948, 0.001708445751342641, 0.00011389638342284272, 0.0018332118807454657, 0.9979723446181277, 0.9995265353938677, 0.007615543192839399, 0.003902965886330192, 0.986784009212165, 0.0017134972183888647, 0.29688376592142457, 0.23714419650402876, 0.4657809778868368, 0.00021894083032553434, 0.2548299370199463, 0.4071029244647436, 0.33640559084008764, 0.001668165731921094, 0.9999182232286982, 0.9995173976644379, 0.00022851335108926336, 0.6994083428469124, 9.26123335337543e-05, 0.3005270223170327, 0.9997331200630429, 0.5706928556686954, 0.12664690769634063, 0.017554313244105578, 0.28513321755203064, 0.1031539541534176, 0.7116737394919261, 0.18516798851788374, 0.20768917043302781, 0.0029914078045909357, 0.06914425468325906, 0.7201600617566636, 0.9999388700202231, 0.0009692355474693218, 0.0014538533212039826, 0.997343378345932, 0.18631866150607926, 0.0986049701290002, 0.7150643132957739, 6.48290401900067e-05, 0.9994020234496682, 0.6822359052452373, 0.06271608612581672, 9.923431349021632e-05, 0.25493295135636573, 0.0004357347032346157, 0.09869391028264045, 0.9006636315859505, 0.027358006985424805, 0.9693317376992671, 0.00010728630190362668, 0.003111302755205174, 0.17384348034313585, 0.8243576274645591, 0.0018968192072355249, 0.6177678895538209, 0.00012838069192722796, 0.3750641914653965, 0.006996747710033923, 0.9994669468348402, 0.0005495199839646142, 0.9377196071080867, 0.05813219406112485, 0.004055734469380803, 0.9992227703638599, 0.9973681412011255, 0.0022513953525984775, 0.9741923567004248, 0.0005990421870563718, 0.0002995210935281859, 0.025010011309603526, 0.012883033610415609, 0.9642234933306616, 0.022760026045067577, 0.00017128711556752362, 0.0012846533667564273, 0.9986038837586628, 0.9811933001641071, 0.00220537930155398, 0.016440100247947852, 0.9998543722761841, 0.014802868641960489, 0.0458353884455885, 0.9390012457821925, 0.0003566956299267588, 0.09160246141790958, 0.00016401515025588106, 0.9082338945419414, 0.9990519130624332, 0.0009995516889068866, 0.8155451471528444, 0.12908306514840817, 0.05500541748294053, 0.0005528182661602063, 0.13158784877286583, 4.564268080917997e-05, 4.564268080917997e-05, 0.8683520023946488, 0.18715458670943502, 9.357729335471751e-05, 0.8114087106787555, 0.0013100821069660451, 0.999919708257268, 0.9996781822910643, 0.9995794908040704, 0.24570559497778152, 0.05383153417134362, 0.7000985851613617, 0.00036080116736825484, 0.9994896973309091, 0.9968510909700139, 0.0003536186913692848, 0.0028289495309542782, 0.9966534923429089, 0.000479275543324313, 0.000479275543324313, 0.0026360154882837214, 0.9994501524219058, 0.12494157047620623, 0.009919347656050157, 0.0056983486534756215, 0.859606446874304, 0.9978089004489362, 0.0019868755484845407, 0.9982015967429752, 0.0016618228580626668, 0.9998985009028335, 0.9998454659594636, 0.9995487684534462, 0.0003329609488519141, 0.9997081829209739, 0.0014040845658723979, 0.9945599008262818, 0.0037442255089930607, 0.00010530694339643997, 0.9493420947189063, 0.005791881886804198, 0.044755450943486985, 0.9999184707356289, 0.9989438647106689, 0.0008732026789428924, 0.11757427319051125, 0.02907555442114652, 0.029438998851410852, 0.8237468011941074, 0.9995052929531004, 0.4880290351913272, 0.5074424212174827, 0.0005526942640898383, 0.003937946631640098, 0.9992589968073714, 0.9996819349620544, 0.9992448323173674, 0.9999429803668343, 0.9991549743935028, 0.9964575937717209, 0.003383557194471039, 0.00010345318063181301, 0.9714253661327242, 0.00020690636126362603, 0.028242718312484955, 0.8159353528959284, 0.14632624431157276, 0.0011485576476575568, 0.03652413319551031, 0.31525218230393176, 0.6829417295926808, 0.0017793117859119653, 0.00045315242949326654, 0.5919303610255794, 0.4060245768259668, 0.0016993216105997495, 0.002470432259845416, 0.9974370249125866, 0.000308804032480677, 0.9997473000980218, 0.9996982167505367, 0.9997630281318068, 0.7516673091309685, 0.0007721853777394745, 0.24754056966391152, 0.9995970756903175, 0.02029905153082218, 0.9796322268774784, 0.5084702809004542, 0.29155831752284195, 0.11985844431134567, 0.08008241190713804, 0.5740423062317442, 0.2004450676281673, 0.22547498541273145, 0.00038187859663336624, 0.9996054145474994, 0.9997904590252172, 0.0014479337646252245, 0.9983503307090923, 0.00024132229410420408, 0.940446868815808, 0.059448211192214245, 0.9992889386904276, 0.0003631137131869286, 0.9889579949933665, 0.010858491499082572, 0.0001670537153705011, 0.9995496901349513, 0.30396453934610446, 0.11619856418332179, 0.00033764111417883, 0.5794921937424808, 0.018899729612700627, 0.00011812331007937892, 0.0009449864806350313, 0.9800297292919138, 0.0791489396674712, 0.0004531427843557512, 0.0006041903791410016, 0.919879852242175, 0.00046006769869641375, 0.00046006769869641375, 0.9992670415686107, 0.9997896549648688, 0.375547655445074, 0.5584261346750958, 0.047926195519870436, 0.01809287258689772, 0.9992899730293968, 0.0003258200107692849, 0.9996919233771443, 0.9994847588122617, 0.00029906785123047925, 0.00036464902391371675, 0.9995029745474977, 0.999810204322024, 0.001237115569980403, 0.001060384774268917, 0.00017673079571148615, 0.9976453417913393, 0.9995754367402474, 0.9997025072938955, 0.9990208597442455, 0.9992226293052353, 0.9631026841410074, 0.036957891841129714, 0.9998732536908647, 0.9997231808758877, 0.0004289264568799917, 0.9993986445303806, 0.9997607533655252, 0.9999168711447395, 0.9997036695044257, 0.9993186491572351, 0.0006346492119631875, 0.02544529423961931, 0.0032984640680987993, 0.012015833390931341, 0.9591462300878723, 0.9991642722060132, 0.9998272069040102, 0.0002800182070385547, 0.9993849809206017, 0.0002800182070385547, 0.9998956774324066, 0.0004286207613895526, 0.9991149947990471, 0.9997666631758559, 0.9998221057536615, 0.9996513535000594, 0.9998314064131191, 0.0001861751859422092, 0.9934307921876283, 0.006329956322035113, 0.9995675810133651, 0.0004895042022592385, 0.9996079301911415, 0.03833212250860097, 0.013779521163222572, 0.0002505367484222286, 0.9477805192812907, 0.9998642194122597, 0.00011496656541477057, 0.9995916148814203, 0.999872825368657, 0.9997346589274908, 0.9996138299886882, 0.9972821142207853, 0.0025331016363240675, 0.9992033786389743, 0.9974868821516043, 0.0024269753823640008, 0.9998340131747283, 0.00016479874949311494, 0.9996791535473037, 0.9995100210754364, 0.000309063086294198, 0.008192691997926693, 0.9918359026696332], \"Term\": [\"',\", \"',\", \"',\", \"',\", \"'\\\\t',\", \"'\\\\t',\", \"'\\\\t',\", \"'\\\\t',\", \"'abnt',\", \"'abnt',\", \"'abnt',\", \"'abnt',\", \"'acondicionado',\", \"'acr\\u00edlica',\", \"'acr\\u00edlica',\", \"'acr\\u00edlica',\", \"'adulto',\", \"'adulto',\", \"'agulha',\", \"'agulha',\", \"'algod\\u00e3o',\", \"'algod\\u00e3o',\", \"'algod\\u00e3o',\", \"'alta',\", \"'alta',\", \"'alta',\", \"'alta',\", \"'altura',\", \"'altura',\", \"'altura',\", \"'altura',\", \"'alvenaria',\", \"'alvenaria',\", \"'ampola']\", \"'anomodelo',\", \"'antichama',\", \"'antiderrapante',\", \"'ar',\", \"'ar',\", \"'ar',\", \"'ar',\", \"'areia',\", \"'argamassa',\", \"'aroma',\", \"'autoclav\\u00e1vel',\", \"'autor',\", \"'autor',\", \"'autor',\", \"'azul']\", \"'a\\u00e7o',\", \"'a\\u00e7o',\", \"'a\\u00e7o',\", \"'a\\u00e7o',\", \"'a\\u00e7\\u00facar',\", \"'base',\", \"'base',\", \"'base',\", \"'base',\", \"'betoneira',\", \"'bolsos',\", \"'borracha',\", \"'borracha',\", \"'borracha',\", \"'borracha',\", \"'borrachudo',\", \"'branca',\", \"'branca',\", \"'branca',\", \"'branca',\", \"'brita',\", \"'brita',\", \"'c',\", \"'c',\", \"'c',\", \"'c',\", \"'cabo',\", \"'cabo',\", \"'cabo',\", \"'cabo',\", \"'caixa',\", \"'caixa',\", \"'caixa',\", \"'caixa',\", \"'caixa']\", \"'caixa']\", \"'caixa']\", \"'caixa']\", \"'caminh\\u00e3o',\", \"'caminh\\u00e3o',\", \"'caminh\\u00e3o',\", \"'capacidade',\", \"'capacidade',\", \"'capacidade',\", \"'capacidade',\", \"'carga',\", \"'carga',\", \"'carga',\", \"'carga',\", \"'casca',\", \"'ca\\u00e7amba',\", \"'cerdas',\", \"'cer\\u00e2mico',\", \"'chassi',\", \"'cir\\u00fargico',\", \"'cobre',\", \"'cobre',\", \"'cobre',\", \"'cola',\", \"'cola',\", \"'cola',\", \"'colora\\u00e7\\u00e3o',\", \"'combust\\u00edvel',\", \"'comprimento',\", \"'comprimento',\", \"'comprimento',\", \"'comprimento',\", \"'comprimido']\", \"'comprimido']\", \"'comprimido']\", \"'concreto',\", \"'concreto',\", \"'conector',\", \"'confeccionada',\", \"'confeccionada',\", \"'confeccionada',\", \"'confeccionado',\", \"'confeccionado',\", \"'confeccionado',\", \"'conserto',\", \"'contendo',\", \"'contendo',\", \"'contendo',\", \"'contendo',\", \"'conter',\", \"'conter',\", \"'conter',\", \"'contrata\\u00e7\\u00e3o',\", \"'corpo',\", \"'corpo',\", \"'corpo',\", \"'corpo',\", \"'cv',\", \"'descartavel',\", \"'descart\\u00e1vel',\", \"'descart\\u00e1vel',\", \"'descart\\u00e1vel',\", \"'descritivo',\", \"'dimens\\u00f5es',\", \"'dimens\\u00f5es',\", \"'dimens\\u00f5es',\", \"'dimens\\u00f5es',\", \"'diversos']\", \"'diversos']\", \"'doce',\", \"'editora',\", \"'editora',\", \"'editora',\", \"'embalagem',\", \"'embalagem',\", \"'embalagem',\", \"'embalagem']\", \"'embalagem']\", \"'embalagem']\", \"'embalagens',\", \"'empresa',\", \"'empresa',\", \"'empresa',\", \"'entrega',\", \"'entrega',\", \"'entrega',\", \"'entrega']\", \"'entrega']\", \"'equipamentos',\", \"'equipamentos',\", \"'equipamentos',\", \"'esgoto',\", \"'esgoto']\", \"'esmalte',\", \"'esmalte',\", \"'esmalte',\", \"'esmalte',\", \"'especializada',\", \"'especifica\\u00e7\\u00f5es',\", \"'especifica\\u00e7\\u00f5es',\", \"'especifica\\u00e7\\u00f5es',\", \"'especifica\\u00e7\\u00f5es',\", \"'espessura',\", \"'espessura',\", \"'espessura',\", \"'espessura',\", \"'estrutura',\", \"'estrutura',\", \"'estrutura',\", \"'est\\u00e9ril',\", \"'est\\u00e9ril',\", \"'fabricante',\", \"'fabricante',\", \"'fabricante',\", \"'fabrica\\u00e7\\u00e3o',\", \"'fabrica\\u00e7\\u00e3o',\", \"'fabrica\\u00e7\\u00e3o',\", \"'farinha',\", \"'fck',\", \"'ferro',\", \"'ferro',\", \"'ferro',\", \"'ferro',\", \"'fiat',\", \"'fios',\", \"'fios',\", \"'firme',\", \"'firme',\", \"'folhas',\", \"'folhas',\", \"'folhas',\", \"'folhas',\", \"'folhas']\", \"'fornecimento',\", \"'fornecimento',\", \"'fornecimento',\", \"'frango',\", \"'frasco']\", \"'frasco']\", \"'frasco']\", \"'frasco']\", \"'fresco',\", \"'gola',\", \"'gordura',\", \"'gramas',\", \"'gramas',\", \"'gramas']\", \"'haste',\", \"'haste',\", \"'haste',\", \"'haste',\", \"'horas',\", \"'horas',\", \"'horas',\", \"'hp',\", \"'hp',\", \"'identifica\\u00e7\\u00e3o',\", \"'identifica\\u00e7\\u00e3o',\", \"'identifica\\u00e7\\u00e3o',\", \"'informa\\u00e7\\u00f5es',\", \"'informa\\u00e7\\u00f5es',\", \"'informa\\u00e7\\u00f5es',\", \"'ingredientes',\", \"'inox',\", \"'inox',\", \"'inox',\", \"'inox',\", \"'inoxid\\u00e1vel',\", \"'instalado',\", \"'instalado',\", \"'instalado',\", \"'instala\\u00e7\\u00e3o']\", \"'instala\\u00e7\\u00e3o']\", \"'integral',\", \"'integral',\", \"'integral',\", \"'isento',\", \"'isento',\", \"'isolado',\", \"'junta',\", \"'junta',\", \"'l']\", \"'l']\", \"'l']\", \"'largura',\", \"'largura',\", \"'largura',\", \"'largura',\", \"'larvas',\", \"'led',\", \"'led',\", \"'leite',\", \"'lixo',\", \"'lixo',\", \"'loca\\u00e7\\u00e3o',\", \"'lonas',\", \"'lote',\", \"'lote',\", \"'lote',\", \"'l\\u00e1tex',\", \"'l\\u00e1tex',\", \"'l\\u00edquido',\", \"'l\\u00edquido',\", \"'l\\u00edquido',\", \"'madeira',\", \"'madeira',\", \"'madeira',\", \"'madeira',\", \"'manga',\", \"'manuten\\u00e7\\u00e3o',\", \"'manuten\\u00e7\\u00e3o',\", \"'material',\", \"'material',\", \"'material',\", \"'material',\", \"'matura\\u00e7\\u00e3o',\", \"'medindo',\", \"'medindo',\", \"'medindo',\", \"'medindo',\", \"'memorial',\", \"'memorial',\", \"'mesa',\", \"'mesa',\", \"'mesa',\", \"'mesa',\", \"'meses',\", \"'meses',\", \"'meses',\", \"'meses']\", \"'meses']\", \"'meses']\", \"'meses']\", \"'metros']\", \"'metros']\", \"'metros']\", \"'milho',\", \"'mm\\u00b2',\", \"'montagem']\", \"'montagem']\", \"'motor',\", \"'motor',\", \"'motor',\", \"'motorista',\", \"'mpa',\", \"'municipal',\", \"'municipal',\", \"'municipal',\", \"'municipal',\", \"'munic\\u00edpio',\", \"'munic\\u00edpio',\", \"'m\\u00b3',\", \"'m\\u00e9dio',\", \"'m\\u00e9dio',\", \"'m\\u00e9dio',\", \"'m\\u00e9dio',\", \"'m\\u00ednima',\", \"'m\\u00ednima',\", \"'m\\u00ednima',\", \"'m\\u00ednima',\", \"'m\\u00ednimo',\", \"'m\\u00ednimo',\", \"'m\\u00ednimo',\", \"'m\\u00ednimo',\", \"'nutricional',\", \"'nylon',\", \"'nylon',\", \"'obra',\", \"'obra',\", \"'obra',\", \"'ovos',\", \"'p',\", \"'p',\", \"'p',\", \"'p',\", \"'pacote',\", \"'pacote',\", \"'pacote',\", \"'papel',\", \"'papel',\", \"'papel',\", \"'papel',\", \"'parasitas',\", \"'pead',\", \"'pead',\", \"'pead',\", \"'peso',\", \"'peso',\", \"'peso',\", \"'peso',\", \"'pilar',\", \"'pintura',\", \"'pintura',\", \"'pintura',\", \"'pintura',\", \"'piso',\", \"'piso',\", \"'piso',\", \"'placa',\", \"'placa',\", \"'placa',\", \"'placa',\", \"'pl\\u00e1stica',\", \"'pl\\u00e1stica',\", \"'pl\\u00e1stica',\", \"'pl\\u00e1stico',\", \"'pl\\u00e1stico',\", \"'pl\\u00e1stico',\", \"'pl\\u00e1stico',\", \"'pneu',\", \"'pneu',\", \"'polipropileno',\", \"'polipropileno',\", \"'polipropileno',\", \"'poliuretano',\", \"'poli\\u00e9ster',\", \"'poli\\u00e9ster',\", \"'ponta',\", \"'ponta',\", \"'ponta',\", \"'ponta',\", \"'portas',\", \"'portas',\", \"'portas',\", \"'prazo',\", \"'prazo',\", \"'prazo',\", \"'press\\u00e3o',\", \"'press\\u00e3o',\", \"'press\\u00e3o',\", \"'presta\\u00e7\\u00e3o',\", \"'primeira',\", \"'primeira',\", \"'primeira',\", \"'primeira',\", \"'produto',\", \"'produto',\", \"'produto',\", \"'projeto',\", \"'projeto',\", \"'prote\\u00e7\\u00e3o',\", \"'prote\\u00e7\\u00e3o',\", \"'prote\\u00e7\\u00e3o',\", \"'prote\\u00e7\\u00e3o',\", \"'pvc',\", \"'pvc',\", \"'pvc',\", \"'pvc',\", \"'p\\u00f3',\", \"'p\\u00f3',\", \"'p\\u00f3',\", \"'p\\u00f3',\", \"'rachaduras',\", \"'radial',\", \"'ramal',\", \"'registro',\", \"'registro',\", \"'registro',\", \"'registro',\", \"'renavam',\", \"'resina',\", \"'resina',\", \"'resina',\", \"'resist\\u00eancia',\", \"'resist\\u00eancia',\", \"'resist\\u00eancia',\", \"'resist\\u00eancia',\", \"'retroescavadeira',\", \"'rolo',\", \"'rolo',\", \"'rolo',\", \"'rolo',\", \"'rota\\u00e7\\u00e3o',\", \"'rota\\u00e7\\u00e3o',\", \"'rua',\", \"'rua',\", \"'r\\u00f3tulo',\", \"'sabor',\", \"'saco',\", \"'saco',\", \"'sal',\", \"'secretaria',\", \"'secretaria',\", \"'secretaria',\", \"'servi\\u00e7o',\", \"'servi\\u00e7o',\", \"'servi\\u00e7o',\", \"'servi\\u00e7o',\", \"'servi\\u00e7os',\", \"'silicone',\", \"'silicone',\", \"'simples',\", \"'simples',\", \"'simples',\", \"'simples',\", \"'sint\\u00e9tico',\", \"'sistema',\", \"'sistema',\", \"'sistema',\", \"'sistema',\", \"'sobrado',\", \"'sold\\u00e1vel',\", \"'sold\\u00e1vel']\", \"'sujidades',\", \"'sutura',\", \"'tecido',\", \"'tecido',\", \"'termo',\", \"'termo',\", \"'termo',\", \"'termo',\", \"'tinta',\", \"'tinta',\", \"'tinta',\", \"'tinta',\", \"'transparente',\", \"'transparente',\", \"'transparente',\", \"'transporte',\", \"'transporte',\", \"'transporte',\", \"'transporte',\", \"'traseiro',\", \"'traseiro',\", \"'traseiro',\", \"'trator',\", \"'tra\\u00e7o',\", \"'trigo',\", \"'tubo',\", \"'tubo',\", \"'tubo',\", \"'t\\u00e9rrea',\", \"'usb',\", \"'usb',\", \"'uso',\", \"'uso',\", \"'uso',\", \"'uso',\", \"'v',\", \"'v',\", \"'v',\", \"'validade',\", \"'validade',\", \"'vapor',\", \"'velocidade',\", \"'velocidade',\", \"'velocidade',\", \"'ve\\u00edculo',\", \"'ve\\u00edculo',\", \"'ve\\u00edculos',\", \"'ve\\u00edculos',\", \"'w',\", \"'w',\", \"'w',\", \"'w']\", \"'x',\", \"'x',\", \"'x',\", \"'x',\", \"'x']\", \"'x']\", \"'x']\", \"'x']\", \"'xcm',\", \"'xcm',\", \"'xcm',\", \"'xcm',\", \"'xmm']\", \"'xmm']\", \"'xmm']\", \"'\\u00edntegra',\", \"['\", \"['\", \"['\", \"['\", \"['arma\\u00e7\\u00e3o',\", \"['arma\\u00e7\\u00e3o',\", \"['biscoito',\", \"['broca',\", \"['broca',\", \"['bucha',\", \"['bucha',\", \"['cabo',\", \"['caixa',\", \"['caixa',\", \"['caixa',\", \"['caixa',\", \"['camiseta',\", \"['carne',\", \"['cateter',\", \"['concreto',\", \"['constru\\u00e7\\u00e3o',\", \"['constru\\u00e7\\u00e3o',\", \"['contrata\\u00e7\\u00e3o',\", \"['curva',\", \"['disjuntor',\", \"['disjuntor',\", \"['eletroduto',\", \"['exame',\", \"['farinha',\", \"['filtro',\", \"['filtro',\", \"['fita',\", \"['fita',\", \"['fita',\", \"['fita',\", \"['folha',\", \"['joelho',\", \"['jogo',\", \"['jogo',\", \"['jogo',\", \"['livro',\", \"['livros',\", \"['livros',\", \"['loca\\u00e7\\u00e3o',\", \"['l\\u00e2mpada',\", \"['material',\", \"['papel',\", \"['parafuso',\", \"['parafuso',\", \"['parafuso',\", \"['pincel',\", \"['pincel',\", \"['piso',\", \"['placa',\", \"['placa',\", \"['placa',\", \"['placa',\", \"['pneu',\", \"['pneu',\", \"['prego',\", \"['presta\\u00e7\\u00e3o',\", \"['recapagem',\", \"['registro',\", \"['saco',\", \"['saco',\", \"['seringa',\", \"['servi\\u00e7o',\", \"['servi\\u00e7o',\", \"['servi\\u00e7os',\", \"['servi\\u00e7os',\", \"['sonda',\", \"['transporte',\", \"['transporte',\", \"['tubo',\", \"['tubo',\"]}, \"R\": 30, \"lambda.step\": 0.01, \"plot.opts\": {\"xlab\": \"PC1\", \"ylab\": \"PC2\"}, \"topic.order\": [3, 1, 4, 2]};\n",
              "\n",
              "function LDAvis_load_lib(url, callback){\n",
              "  var s = document.createElement('script');\n",
              "  s.src = url;\n",
              "  s.async = true;\n",
              "  s.onreadystatechange = s.onload = callback;\n",
              "  s.onerror = function(){console.warn(\"failed to load library \" + url);};\n",
              "  document.getElementsByTagName(\"head\")[0].appendChild(s);\n",
              "}\n",
              "\n",
              "if(typeof(LDAvis) !== \"undefined\"){\n",
              "   // already loaded: just create the visualization\n",
              "   !function(LDAvis){\n",
              "       new LDAvis(\"#\" + \"ldavis_el3501140204754029520680048913\", ldavis_el3501140204754029520680048913_data);\n",
              "   }(LDAvis);\n",
              "}else if(typeof define === \"function\" && define.amd){\n",
              "   // require.js is available: use it to load d3/LDAvis\n",
              "   require.config({paths: {d3: \"https://d3js.org/d3.v5\"}});\n",
              "   require([\"d3\"], function(d3){\n",
              "      window.d3 = d3;\n",
              "      LDAvis_load_lib(\"https://cdn.jsdelivr.net/gh/bmabey/pyLDAvis@3.3.1/pyLDAvis/js/ldavis.v3.0.0.js\", function(){\n",
              "        new LDAvis(\"#\" + \"ldavis_el3501140204754029520680048913\", ldavis_el3501140204754029520680048913_data);\n",
              "      });\n",
              "    });\n",
              "}else{\n",
              "    // require.js not available: dynamically load d3 & LDAvis\n",
              "    LDAvis_load_lib(\"https://d3js.org/d3.v5.js\", function(){\n",
              "         LDAvis_load_lib(\"https://cdn.jsdelivr.net/gh/bmabey/pyLDAvis@3.3.1/pyLDAvis/js/ldavis.v3.0.0.js\", function(){\n",
              "                 new LDAvis(\"#\" + \"ldavis_el3501140204754029520680048913\", ldavis_el3501140204754029520680048913_data);\n",
              "            })\n",
              "         });\n",
              "}\n",
              "</script>"
            ],
            "text/plain": [
              "<IPython.core.display.HTML object>"
            ]
          },
          "metadata": {},
          "execution_count": 45
        }
      ],
      "source": [
        "pyLDAvis.display(display_data)  "
      ]
    },
    {
      "cell_type": "markdown",
      "source": [
        "Salvar tópicos"
      ],
      "metadata": {
        "id": "r2ZozPYNaShp"
      }
    },
    {
      "cell_type": "code",
      "source": [
        "def topic_prediction(corpus, lda_model):\n",
        "    string_input = [corpus]\n",
        "    X = string_input\n",
        "\n",
        "    # Convert sparse matrix to gensim corpus.\n",
        "    output = list(lda_model[corpus])[0]\n",
        "    topics = sorted(output,key=lambda x:x[1],reverse=True)\n",
        "    return topics[0][0]"
      ],
      "metadata": {
        "id": "5QuvvDi-aPUc"
      },
      "execution_count": 41,
      "outputs": []
    },
    {
      "cell_type": "code",
      "source": [
        "topics = []\n",
        "for corp in tqdm(corpus):\n",
        "    topics.append(topic_prediction(corp, lda_model))\n",
        "\n",
        "item_licitacao['topic_lda'] = topics\n",
        "item_licitacao.to_csv('item_modeled_5_topics.csv')"
      ],
      "metadata": {
        "colab": {
          "base_uri": "https://localhost:8080/"
        },
        "id": "fch6MUg6a232",
        "outputId": "dcaf516f-0c8d-4ce2-e39f-90d3645fe573"
      },
      "execution_count": 47,
      "outputs": [
        {
          "output_type": "stream",
          "name": "stderr",
          "text": [
            "100%|██████████| 932800/932800 [15:19<00:00, 1014.29it/s]\n"
          ]
        }
      ]
    },
    {
      "cell_type": "markdown",
      "metadata": {
        "id": "Mg-1-4QdPuKj"
      },
      "source": [
        "Qual a diferença entre LDA e NMF?\n"
      ]
    },
    {
      "cell_type": "markdown",
      "metadata": {
        "id": "SSjguLf0PuKj"
      },
      "source": [
        "Desvendando o latent Dirichlet Allocation - https://web.icmc.usp.br"
      ]
    },
    {
      "cell_type": "markdown",
      "metadata": {
        "id": "E7xP-RV0PuKj"
      },
      "source": [
        "O objetivo é esclarecer essa relação em termos de formulação matemática, demonstrando que o NMF com divergência KL aproxima a solução obtida pelo algoritmo de inferência variacional do LDA.\n",
        "\n",
        "As correspondências entre NMF com divergência KL e o algoritmo de inferência variacional para o LDA seguem do fato de que ambos tentam minimizar a divergência entre as estatísticas que relacionam a frequência de palavras, documentos por tópicos e tópicos por palavras. "
      ]
    },
    {
      "cell_type": "markdown",
      "metadata": {
        "id": "d7EhNyabPuKj"
      },
      "source": [
        "\n",
        "\n",
        "### NMF"
      ]
    },
    {
      "cell_type": "markdown",
      "source": [
        "Foi notado a permanência de pontuações, por isso será adota o TfidfVectorizer"
      ],
      "metadata": {
        "id": "YeW_20n9jDid"
      }
    },
    {
      "cell_type": "code",
      "execution_count": 53,
      "metadata": {
        "id": "0WlpT1NVPuKj"
      },
      "outputs": [],
      "source": [
        "from gensim.models.nmf import Nmf as GensimNmf\n",
        "from gensim.models import TfidfModel\n",
        "from gensim.corpora import Dictionary"
      ]
    },
    {
      "cell_type": "code",
      "source": [
        "corpus_nmf = [id2word.doc2bow(line) for line in lic]"
      ],
      "metadata": {
        "id": "wmUORREek7sM"
      },
      "execution_count": 22,
      "outputs": []
    },
    {
      "cell_type": "code",
      "execution_count": 25,
      "metadata": {
        "id": "KM_EEVP_PuKj"
      },
      "outputs": [],
      "source": [
        "nmf_model = GensimNmf(\n",
        "    corpus=corpus_nmf,\n",
        "    num_topics=5,\n",
        "    id2word=id2word,\n",
        "    minimum_probability=0,\n",
        "    random_state=0,\n",
        ")"
      ]
    },
    {
      "cell_type": "code",
      "execution_count": 26,
      "metadata": {
        "colab": {
          "base_uri": "https://localhost:8080/"
        },
        "id": "hAAi9pOSPuKk",
        "outputId": "54238b4b-48ca-412b-f7c0-ac783f6d40be"
      },
      "outputs": [
        {
          "output_type": "execute_result",
          "data": {
            "text/plain": [
              "[(0,\n",
              "  [(\"',\", 0.11686557639745737),\n",
              "   (\"['\", 0.09697739732635235),\n",
              "   (\"'\\\\t\", 0.015914157876242462),\n",
              "   (\"'\\\\t',\", 0.013495140205545599),\n",
              "   (\"'c',\", 0.009665612446567369),\n",
              "   (\"'papel',\", 0.0047421662891224264),\n",
              "   (\"'p',\", 0.00399079969139029),\n",
              "   (\"'caixa',\", 0.003917576600602734),\n",
              "   (\"'placa',\", 0.003811384720506053),\n",
              "   (\"'pacote',\", 0.0033429444873240228)]),\n",
              " (1,\n",
              "  [(\"'aço',\", 0.021321595160370584),\n",
              "   (\"'altura',\", 0.008315761092613097),\n",
              "   (\"'mínimo',\", 0.008004413799802363),\n",
              "   (\"'espessura',\", 0.007732272488401481),\n",
              "   (\"'estrutura',\", 0.006089116718750194),\n",
              "   (\"'largura',\", 0.005953386556848023),\n",
              "   (\"'tubo',\", 0.005559124047275249),\n",
              "   (\"'comprimento',\", 0.005280839878493175),\n",
              "   (\"'pvc',\", 0.005020370092425897),\n",
              "   (\"'material',\", 0.00487879929038923)]),\n",
              " (2,\n",
              "  [(\"'x',\", 0.12660233755957695),\n",
              "   (\"'dimensões',\", 0.0078075084713125666),\n",
              "   (\"'papel',\", 0.0074599862710071725),\n",
              "   (\"'altura',\", 0.006408339234332103),\n",
              "   (\"'mínimo',\", 0.006261456118000038),\n",
              "   (\"'medindo',\", 0.006230405678555663),\n",
              "   (\"'largura',\", 0.006142961986296623),\n",
              "   (\"'usb',\", 0.005293830365858256),\n",
              "   (\"'x']\", 0.004783818695426349),\n",
              "   (\"'impressão',\", 0.004343858773062609)]),\n",
              " (3,\n",
              "  [(\"'serviços',\", 0.014630591445039164),\n",
              "   (\"'\\\\t',\", 0.014051002901254986),\n",
              "   (\"'empresa',\", 0.009541588456720965),\n",
              "   (\"['contratação',\", 0.007180268068421723),\n",
              "   (\"'municipal',\", 0.006800626359265849),\n",
              "   (\"'município',\", 0.006332141680737048),\n",
              "   (\"'prestação',\", 0.005844655568108009),\n",
              "   (\"'serviço',\", 0.005375839879438575),\n",
              "   (\"'mínimo',\", 0.005071700037111085),\n",
              "   (\"'horas',\", 0.004568884071340469)]),\n",
              " (4,\n",
              "  [(\"'embalagem',\", 0.03348081018582427),\n",
              "   (\"'validade',\", 0.02962060920517439),\n",
              "   (\"'mínimo',\", 0.020342677277463438),\n",
              "   (\"'produto',\", 0.020058394363441926),\n",
              "   (\"'mínima',\", 0.014202364748302724),\n",
              "   (\"'meses',\", 0.012764580001834532),\n",
              "   (\"'fabricação',\", 0.011427675479758825),\n",
              "   (\"'contendo',\", 0.00933303730497744),\n",
              "   (\"'identificação',\", 0.008784154316646949),\n",
              "   (\"'peso',\", 0.008638874197607138)])]"
            ]
          },
          "metadata": {},
          "execution_count": 26
        }
      ],
      "source": [
        "nmf_model.show_topics(formatted=False)"
      ]
    },
    {
      "cell_type": "code",
      "execution_count": 27,
      "metadata": {
        "colab": {
          "base_uri": "https://localhost:8080/"
        },
        "id": "m5repb-bPuKk",
        "outputId": "ff82479c-8db6-4ead-8b9a-823e5de31848"
      },
      "outputs": [
        {
          "output_type": "execute_result",
          "data": {
            "text/plain": [
              "[(0,\n",
              "  '0.117*\"\\',\" + 0.097*\"[\\'\" + 0.016*\"\\'\\\\t\" + 0.013*\"\\'\\\\t\\',\" + 0.010*\"\\'c\\',\" + 0.005*\"\\'papel\\',\" + 0.004*\"\\'p\\',\" + 0.004*\"\\'caixa\\',\" + 0.004*\"\\'placa\\',\" + 0.003*\"\\'pacote\\',\"'),\n",
              " (1,\n",
              "  '0.021*\"\\'aço\\',\" + 0.008*\"\\'altura\\',\" + 0.008*\"\\'mínimo\\',\" + 0.008*\"\\'espessura\\',\" + 0.006*\"\\'estrutura\\',\" + 0.006*\"\\'largura\\',\" + 0.006*\"\\'tubo\\',\" + 0.005*\"\\'comprimento\\',\" + 0.005*\"\\'pvc\\',\" + 0.005*\"\\'material\\',\"'),\n",
              " (2,\n",
              "  '0.127*\"\\'x\\',\" + 0.008*\"\\'dimensões\\',\" + 0.007*\"\\'papel\\',\" + 0.006*\"\\'altura\\',\" + 0.006*\"\\'mínimo\\',\" + 0.006*\"\\'medindo\\',\" + 0.006*\"\\'largura\\',\" + 0.005*\"\\'usb\\',\" + 0.005*\"\\'x\\']\" + 0.004*\"\\'impressão\\',\"'),\n",
              " (3,\n",
              "  '0.015*\"\\'serviços\\',\" + 0.014*\"\\'\\\\t\\',\" + 0.010*\"\\'empresa\\',\" + 0.007*\"[\\'contratação\\',\" + 0.007*\"\\'municipal\\',\" + 0.006*\"\\'município\\',\" + 0.006*\"\\'prestação\\',\" + 0.005*\"\\'serviço\\',\" + 0.005*\"\\'mínimo\\',\" + 0.005*\"\\'horas\\',\"'),\n",
              " (4,\n",
              "  '0.033*\"\\'embalagem\\',\" + 0.030*\"\\'validade\\',\" + 0.020*\"\\'mínimo\\',\" + 0.020*\"\\'produto\\',\" + 0.014*\"\\'mínima\\',\" + 0.013*\"\\'meses\\',\" + 0.011*\"\\'fabricação\\',\" + 0.009*\"\\'contendo\\',\" + 0.009*\"\\'identificação\\',\" + 0.009*\"\\'peso\\',\"')]"
            ]
          },
          "metadata": {},
          "execution_count": 27
        }
      ],
      "source": [
        "nmf_model.show_topics()"
      ]
    },
    {
      "cell_type": "code",
      "execution_count": 28,
      "metadata": {
        "colab": {
          "base_uri": "https://localhost:8080/"
        },
        "id": "c44MYuySPuKk",
        "outputId": "368f4d74-f60e-4499-eff2-69a6942c0cc0"
      },
      "outputs": [
        {
          "output_type": "execute_result",
          "data": {
            "text/plain": [
              "[([(0.03348081018582427, \"'embalagem',\"),\n",
              "   (0.02962060920517439, \"'validade',\"),\n",
              "   (0.020342677277463438, \"'mínimo',\"),\n",
              "   (0.020058394363441926, \"'produto',\"),\n",
              "   (0.014202364748302724, \"'mínima',\"),\n",
              "   (0.012764580001834532, \"'meses',\"),\n",
              "   (0.011427675479758825, \"'fabricação',\"),\n",
              "   (0.00933303730497744, \"'contendo',\"),\n",
              "   (0.008784154316646949, \"'identificação',\"),\n",
              "   (0.008638874197607138, \"'peso',\"),\n",
              "   (0.008473605252326608, \"'prazo',\"),\n",
              "   (0.0075573549316007346, \"'registro',\"),\n",
              "   (0.007128849774699382, \"'entrega']\"),\n",
              "   (0.006616713864701782, \"'lote',\"),\n",
              "   (0.00636703090784535, \"'entrega',\"),\n",
              "   (0.006229343357380497, \"'fabricante',\"),\n",
              "   (0.006126636935579526, \"'ingredientes',\"),\n",
              "   (0.005991070416767276, \"'rótulo',\"),\n",
              "   (0.004994435431669884, \"'plástica',\"),\n",
              "   (0.004759248212029847, \"'nutricional',\")],\n",
              "  -1.8115344250090073),\n",
              " ([(0.021321595160370584, \"'aço',\"),\n",
              "   (0.008315761092613097, \"'altura',\"),\n",
              "   (0.008004413799802363, \"'mínimo',\"),\n",
              "   (0.007732272488401481, \"'espessura',\"),\n",
              "   (0.006089116718750194, \"'estrutura',\"),\n",
              "   (0.005953386556848023, \"'largura',\"),\n",
              "   (0.005559124047275249, \"'tubo',\"),\n",
              "   (0.005280839878493175, \"'comprimento',\"),\n",
              "   (0.005020370092425897, \"'pvc',\"),\n",
              "   (0.00487879929038923, \"'material',\"),\n",
              "   (0.00464708487370039, \"'alta',\"),\n",
              "   (0.004602015426151849, \"'sistema',\"),\n",
              "   (0.004439431449832978, \"'acabamento',\"),\n",
              "   (0.004357149478226601, \"'pintura',\"),\n",
              "   (0.00432884335235508, \"'chapa',\"),\n",
              "   (0.004144609302789976, \"'mínima',\"),\n",
              "   (0.003952813297405046, \"'inox',\"),\n",
              "   (0.0038632302179546917, \"'diâmetro',\"),\n",
              "   (0.0036823937437605305, \"'madeira',\"),\n",
              "   (0.0035766696100996372, \"'base',\")],\n",
              "  -2.847147822044424),\n",
              " ([(0.014630591445039164, \"'serviços',\"),\n",
              "   (0.014051002901254986, \"'\\\\t',\"),\n",
              "   (0.009541588456720965, \"'empresa',\"),\n",
              "   (0.007180268068421723, \"['contratação',\"),\n",
              "   (0.006800626359265849, \"'municipal',\"),\n",
              "   (0.006332141680737048, \"'município',\"),\n",
              "   (0.005844655568108009, \"'prestação',\"),\n",
              "   (0.005375839879438575, \"'serviço',\"),\n",
              "   (0.005071700037111085, \"'mínimo',\"),\n",
              "   (0.004568884071340469, \"'horas',\"),\n",
              "   (0.004414590040781071, \"'sistema',\"),\n",
              "   (0.0037035143663274907, \"'saúde',\"),\n",
              "   (0.003496020285203162, \"'termo',\"),\n",
              "   (0.0034621636659204523, \"'obra',\"),\n",
              "   (0.00328300329047909, \"'secretaria',\"),\n",
              "   (0.0030912923208306787, \"'capacidade',\"),\n",
              "   (0.003041157868451106, \"['prestação',\"),\n",
              "   (0.0030377605413909386, \"'linha',\"),\n",
              "   (0.002975658822365632, \"'manutenção',\"),\n",
              "   (0.0028119379727848557, \"'área',\")],\n",
              "  -3.243381421676703),\n",
              " ([(0.12660233755957695, \"'x',\"),\n",
              "   (0.0078075084713125666, \"'dimensões',\"),\n",
              "   (0.0074599862710071725, \"'papel',\"),\n",
              "   (0.006408339234332103, \"'altura',\"),\n",
              "   (0.006261456118000038, \"'mínimo',\"),\n",
              "   (0.006230405678555663, \"'medindo',\"),\n",
              "   (0.006142961986296623, \"'largura',\"),\n",
              "   (0.005293830365858256, \"'usb',\"),\n",
              "   (0.004783818695426349, \"'x']\"),\n",
              "   (0.004343858773062609, \"'impressão',\"),\n",
              "   (0.004128300309079058, \"'l',\"),\n",
              "   (0.003941756270681227, \"'portas',\"),\n",
              "   (0.003760218213537601, \"'comprimento',\"),\n",
              "   (0.003658815970880093, \"'tinta',\"),\n",
              "   (0.0036197352970225123, \"'xcm',\"),\n",
              "   (0.003528900874819912, \"'medidas',\"),\n",
              "   (0.0033731262536340414, \"'memória',\"),\n",
              "   (0.0031350493466813577, \"'madeira',\"),\n",
              "   (0.0030909538424416794, \"'folhas',\"),\n",
              "   (0.002973564834519788, \"'formato',\")],\n",
              "  -3.6162071196916163),\n",
              " ([(0.11686557639745737, \"',\"),\n",
              "   (0.09697739732635235, \"['\"),\n",
              "   (0.015914157876242462, \"'\\\\t\"),\n",
              "   (0.013495140205545599, \"'\\\\t',\"),\n",
              "   (0.009665612446567369, \"'c',\"),\n",
              "   (0.0047421662891224264, \"'papel',\"),\n",
              "   (0.00399079969139029, \"'p',\"),\n",
              "   (0.003917576600602734, \"'caixa',\"),\n",
              "   (0.003811384720506053, \"'placa',\"),\n",
              "   (0.0033429444873240228, \"'pacote',\"),\n",
              "   (0.0031676488587554395, \"'material',\"),\n",
              "   (0.002685750973987162, \"'renavam',\"),\n",
              "   (0.00266547694514469, \"'cabo',\"),\n",
              "   (0.002617494413546713, \"'chassis',\"),\n",
              "   (0.0025836668009142924, \"'\\\\xa0',\"),\n",
              "   (0.002516312691023608, \"'serviço',\"),\n",
              "   (0.002512637100029508, \"'filtro',\"),\n",
              "   (0.0024970732522292356, \"'\\\\xa0\"),\n",
              "   (0.002494415719350733, \"'fio',\"),\n",
              "   (0.0024938056887698445, \"'x']\")],\n",
              "  -5.878105507719217)]"
            ]
          },
          "metadata": {},
          "execution_count": 28
        }
      ],
      "source": [
        "nmf_model.top_topics(corpus_nmf)"
      ]
    },
    {
      "cell_type": "code",
      "execution_count": 29,
      "metadata": {
        "colab": {
          "base_uri": "https://localhost:8080/"
        },
        "id": "oUkqPcd-PuKk",
        "outputId": "bab3b826-7ce5-4e6c-d593-d53fd94c6d8e"
      },
      "outputs": [
        {
          "output_type": "stream",
          "name": "stderr",
          "text": [
            "/usr/local/lib/python3.7/dist-packages/smart_open/smart_open_lib.py:494: DeprecationWarning: This function is deprecated.  See https://github.com/RaRe-Technologies/smart_open/blob/develop/MIGRATING_FROM_OLDER_VERSIONS.rst for more information\n",
            "  warnings.warn(message, category=DeprecationWarning)\n"
          ]
        }
      ],
      "source": [
        "nmf_model.save('/content/drive/MyDrive/NLP/nmf_model')"
      ]
    },
    {
      "cell_type": "code",
      "execution_count": 32,
      "metadata": {
        "colab": {
          "base_uri": "https://localhost:8080/"
        },
        "id": "Pay_bwynPuKk",
        "outputId": "bce2d9e3-8f58-4f74-eb88-b8c7e1eedd7f"
      },
      "outputs": [
        {
          "output_type": "stream",
          "name": "stderr",
          "text": [
            "/usr/local/lib/python3.7/dist-packages/smart_open/smart_open_lib.py:494: DeprecationWarning: This function is deprecated.  See https://github.com/RaRe-Technologies/smart_open/blob/develop/MIGRATING_FROM_OLDER_VERSIONS.rst for more information\n",
            "  warnings.warn(message, category=DeprecationWarning)\n"
          ]
        }
      ],
      "source": [
        "nmf_model = GensimNmf.load('/content/drive/MyDrive/NLP/nmf_model')"
      ]
    },
    {
      "cell_type": "code",
      "source": [
        "def topic_prediction_nmf(corpus, nmf_model):\n",
        "    string_input = [corpus]\n",
        "    X = string_input\n",
        "\n",
        "    # Convert sparse matrix to gensim corpus.\n",
        "    output = list(nmf_model[corpus])[0]\n",
        "    print(output)\n",
        "    return output[0]"
      ],
      "metadata": {
        "id": "FPH7CX9aySuf"
      },
      "execution_count": 33,
      "outputs": []
    },
    {
      "cell_type": "markdown",
      "metadata": {
        "id": "yKEn0_XkPuKl"
      },
      "source": [
        "Coerência NFM "
      ]
    },
    {
      "cell_type": "code",
      "execution_count": 60,
      "metadata": {
        "id": "eOOyhJnxPuKl"
      },
      "outputs": [],
      "source": [
        "coerencia_nmf = CoherenceModel(\n",
        "    model=nmf_model,\n",
        "    corpus=corpus_nmf,\n",
        "    coherence='u_mass',\n",
        ").get_coherence()\n",
        "    "
      ]
    },
    {
      "cell_type": "code",
      "execution_count": 61,
      "metadata": {
        "colab": {
          "base_uri": "https://localhost:8080/"
        },
        "id": "ISDDnXYePuKl",
        "outputId": "72597de4-ed9e-4aff-ee0d-62503e7cef40"
      },
      "outputs": [
        {
          "output_type": "execute_result",
          "data": {
            "text/plain": [
              "-3.4792752592281935"
            ]
          },
          "metadata": {},
          "execution_count": 61
        }
      ],
      "source": [
        "coerencia_nmf"
      ]
    },
    {
      "cell_type": "markdown",
      "metadata": {
        "id": "0o5iFOeqPuKl"
      },
      "source": [
        "Wordclouds"
      ]
    },
    {
      "cell_type": "code",
      "execution_count": 62,
      "metadata": {
        "colab": {
          "base_uri": "https://localhost:8080/",
          "height": 132
        },
        "id": "U-_-fsqfPuKl",
        "outputId": "91a66096-bb29-45ad-f9c0-bb0511f33232"
      },
      "outputs": [
        {
          "output_type": "display_data",
          "data": {
            "image/png": "[encoded data removed]",
            "text/plain": [
              "<Figure size 1080x1080 with 5 Axes>"
            ]
          },
          "metadata": {
            "needs_background": "light"
          }
        }
      ],
      "source": [
        "cols = [color for name, color in mcolors.XKCD_COLORS.items()]\n",
        "cloud = WordCloud(stopwords=filter_out,\n",
        "                  background_color='white',\n",
        "                  width=2500,\n",
        "                  height=1800,\n",
        "                  max_words=20,\n",
        "                  colormap='tab10',\n",
        "                  color_func=lambda *args, **kwargs: cols[i],\n",
        "                  prefer_horizontal=1.0)\n",
        "topics = nmf_model.show_topics(formatted=False)\n",
        "fig, axes = plt.subplots(1, 5, figsize=(15,15), sharex=True, sharey=True)\n",
        "for i, ax in enumerate(axes.flatten()):\n",
        "    fig.add_subplot(ax)\n",
        "    topic_words = dict(topics[i][1])\n",
        "    cloud.generate_from_frequencies(topic_words, max_font_size=600)\n",
        "    plt.gca().imshow(cloud)\n",
        "    plt.gca().set_title('Topic ' + str(i), fontdict=dict(size=16))\n",
        "    plt.gca().axis('off')\n",
        "plt.subplots_adjust(wspace=0, hspace=0)\n",
        "plt.axis('off')\n",
        "plt.margins(x=0, y=0)\n",
        "plt.tight_layout()\n",
        "plt.show()"
      ]
    },
    {
      "cell_type": "markdown",
      "source": [
        "Usando os itens das licitações não foi possível obter um bom agrupamento"
      ],
      "metadata": {
        "id": "TaR3i6nD38ck"
      }
    },
    {
      "cell_type": "markdown",
      "source": [
        "Então, partirei a aplicação dos algoritmos para o arquivo de licitações"
      ],
      "metadata": {
        "id": "Yo3JhUOVYLeG"
      }
    },
    {
      "cell_type": "markdown",
      "source": [
        "## Arquivo Licitações"
      ],
      "metadata": {
        "id": "HWgPq4X0Ya8Z"
      }
    },
    {
      "cell_type": "markdown",
      "source": [
        "### LDA"
      ],
      "metadata": {
        "id": "PmqaWOr5YlDm"
      }
    },
    {
      "cell_type": "code",
      "source": [
        "dataset = [d.split() for d in licitacao_21['DS_OBJETO_TOKEN']]"
      ],
      "metadata": {
        "id": "woChNuUXbx3y"
      },
      "execution_count": 14,
      "outputs": []
    },
    {
      "cell_type": "code",
      "source": [
        "dicionario = corpora.Dictionary(dataset)"
      ],
      "metadata": {
        "id": "98wDe1h1dRIV"
      },
      "execution_count": 15,
      "outputs": []
    },
    {
      "cell_type": "code",
      "source": [
        "corpus_lda = [dicionario.doc2bow(line) for line in dataset]"
      ],
      "metadata": {
        "id": "24ML6-FKdFzC"
      },
      "execution_count": 16,
      "outputs": []
    },
    {
      "cell_type": "code",
      "source": [
        "from gensim.matutils import Sparse2Corpus"
      ],
      "metadata": {
        "id": "5nIFWfB9Dirn"
      },
      "execution_count": 1,
      "outputs": []
    },
    {
      "cell_type": "code",
      "source": [
        "model_list, coherence_values = compute_coherence_values(dicionario,corpus_lda,dataset, 20, 1, 3)"
      ],
      "metadata": {
        "colab": {
          "base_uri": "https://localhost:8080/"
        },
        "id": "pXVj8Ld7ftzY",
        "outputId": "f8198d57-d8a2-48bd-dade-858f75bbec99"
      },
      "execution_count": 32,
      "outputs": [
        {
          "output_type": "stream",
          "name": "stderr",
          "text": [
            "100%|██████████| 7/7 [05:58<00:00, 51.24s/it]\n"
          ]
        }
      ]
    },
    {
      "cell_type": "code",
      "source": [
        "#!pip install numpy==1.19"
      ],
      "metadata": {
        "id": "PcNZvQX5gEPV"
      },
      "execution_count": null,
      "outputs": []
    },
    {
      "cell_type": "code",
      "execution_count": 33,
      "metadata": {
        "colab": {
          "base_uri": "https://localhost:8080/",
          "height": 280
        },
        "outputId": "a369f246-fbfe-4585-ab97-ecf0dd15b5ab",
        "id": "gvhfCnPIgMUu"
      },
      "outputs": [
        {
          "output_type": "display_data",
          "data": {
            "image/png": "[encoded data removed]",
            "text/plain": [
              "<Figure size 432x288 with 1 Axes>"
            ]
          },
          "metadata": {
            "needs_background": "light"
          }
        }
      ],
      "source": [
        "limit=20; start=1; step=3;\n",
        "x = range(start, limit, step)\n",
        "plt.plot(x, coherence_values)\n",
        "plt.xlabel(\"Num Tópicos\")\n",
        "plt.ylabel(\"Score de Coerência\")\n",
        "plt.legend((\"Valores de Coerência\"), loc='best')\n",
        "plt.show()"
      ]
    },
    {
      "cell_type": "code",
      "execution_count": 34,
      "metadata": {
        "colab": {
          "base_uri": "https://localhost:8080/"
        },
        "outputId": "b3da78a0-ba72-4d02-b689-fbca3fab4510",
        "id": "r9WoLb3ogMUv"
      },
      "outputs": [
        {
          "output_type": "stream",
          "name": "stdout",
          "text": [
            "A quantidade de tópicos = 1  tem um valor de coerência de  0.2726\n",
            "A quantidade de tópicos = 4  tem um valor de coerência de  0.4347\n",
            "A quantidade de tópicos = 7  tem um valor de coerência de  0.4424\n",
            "A quantidade de tópicos = 10  tem um valor de coerência de  0.4908\n",
            "A quantidade de tópicos = 13  tem um valor de coerência de  0.4627\n",
            "A quantidade de tópicos = 16  tem um valor de coerência de  0.5024\n",
            "A quantidade de tópicos = 19  tem um valor de coerência de  0.4731\n"
          ]
        }
      ],
      "source": [
        "for m, c in zip(x, coherence_values):\n",
        "    print(\"A quantidade de tópicos =\", m, \" tem um valor de coerência de \", round(c, 4))"
      ]
    },
    {
      "cell_type": "code",
      "execution_count": 38,
      "metadata": {
        "id": "bMfP1-4-kXVA"
      },
      "outputs": [],
      "source": [
        "model_list[5].save('/content/drive/MyDrive/NLP/multicore_16topics_licitacao')"
      ]
    },
    {
      "cell_type": "code",
      "execution_count": 39,
      "metadata": {
        "id": "0n2RKTqpkXVB"
      },
      "outputs": [],
      "source": [
        "from gensim.test.utils import datapath"
      ]
    },
    {
      "cell_type": "code",
      "execution_count": 40,
      "metadata": {
        "id": "EZEvRifJkXVB"
      },
      "outputs": [],
      "source": [
        "lda_model_licitacao = LdaMulticore.load(datapath(\"/content/drive/MyDrive/NLP/multicore_16topics_licitacao\")) "
      ]
    },
    {
      "cell_type": "code",
      "execution_count": 41,
      "metadata": {
        "colab": {
          "base_uri": "https://localhost:8080/"
        },
        "outputId": "896d8198-46e0-4c26-848d-05ce4c559eb3",
        "id": "iXK2dqCSkXVB"
      },
      "outputs": [
        {
          "output_type": "stream",
          "name": "stdout",
          "text": [
            "\n",
            "Score de Coerência:  0.5024179432763424\n"
          ]
        }
      ],
      "source": [
        "score_coherence(lda_model_licitacao,dataset,dicionario)"
      ]
    },
    {
      "cell_type": "code",
      "execution_count": 42,
      "metadata": {
        "id": "3mrZPA1ykXVB"
      },
      "outputs": [],
      "source": [
        "pyLDAvis.enable_notebook()"
      ]
    },
    {
      "cell_type": "code",
      "execution_count": 43,
      "metadata": {
        "id": "kSffZsuCkXVB"
      },
      "outputs": [],
      "source": [
        "display_data_lic = pyLDAvis.gensim_models.prepare(lda_model_licitacao, corpus_lda, dicionario)"
      ]
    },
    {
      "cell_type": "code",
      "execution_count": 44,
      "metadata": {
        "colab": {
          "base_uri": "https://localhost:8080/",
          "height": 881
        },
        "outputId": "f9e054c7-4231-4ca4-c957-54f26ec13c1b",
        "id": "hmGcjDcrkXVB"
      },
      "outputs": [
        {
          "output_type": "execute_result",
          "data": {
            "text/html": [
              "\n",
              "<link rel=\"stylesheet\" type=\"text/css\" href=\"https://cdn.jsdelivr.net/gh/bmabey/pyLDAvis@3.3.1/pyLDAvis/js/ldavis.v1.0.0.css\">\n",
              "\n",
              "\n",
              "<div id=\"ldavis_el46601402348479267365153499356\"></div>\n",
              "<script type=\"text/javascript\">\n",
              "\n",
              "var ldavis_el46601402348479267365153499356_data = {\"mdsDat\": {\"x\": [-0.17778086736250384, 0.012703517795547768, -0.21952413041894753, 0.07546151282814703, -0.1467020425952987, -0.0005897258179969273, -0.15327869120504037, 0.23669083933500693, -0.07759279046708899, 0.1947662545891364, 0.1176596035358846, 0.030114145915401118, 0.004814746943639729, -0.10608054223202018, -0.0027490459777624672, 0.21208721513389595], \"y\": [0.1721787065816802, 0.07542677762960441, 0.14893897077303553, 0.0058443070411460735, -0.04131970194745181, 0.14678455345715546, -0.22435785284036705, 0.037129003071648785, 0.017439242169692504, -0.019984301110657264, 0.1536436971158705, -0.21526886916225255, -0.09271303166652586, -0.07467272243084182, -0.0829464347573686, -0.006122343924366625], \"topics\": [1, 2, 3, 4, 5, 6, 7, 8, 9, 10, 11, 12, 13, 14, 15, 16], \"cluster\": [1, 1, 1, 1, 1, 1, 1, 1, 1, 1, 1, 1, 1, 1, 1, 1], \"Freq\": [11.874233259931625, 9.954237635401183, 9.683389675861292, 9.457046606399262, 7.621910285691672, 6.977762945223567, 6.59383286781086, 6.146258884156707, 4.902128607379232, 4.447274857102032, 4.21678507993776, 4.10334669221766, 3.904941329629262, 3.813612588866727, 3.618391536398512, 2.684847147992634]}, \"tinfo\": {\"Term\": [\"['aquisi\\u00e7\\u00e3o',\", \"['contrata\\u00e7\\u00e3o',\", \"'empresa',\", \"'secretaria',\", \"['registro',\", \"'pre\\u00e7os',\", \"'servi\\u00e7os',\", \"'presta\\u00e7\\u00e3o',\", \"'aquisi\\u00e7\\u00e3o',\", \"'covid']\", \"'covid',\", \"'municipal',\", \"'pe\\u00e7as',\", \"'educa\\u00e7\\u00e3o',\", \"'escolas',\", \"'ensino',\", \"'g\\u00eaneros',\", \"'ve\\u00edculos',\", \"'aliment\\u00edcios',\", \"'transporte',\", \"'sa\\u00fade',\", \"'placa',\", \"'manuten\\u00e7\\u00e3o',\", \"'rua',\", \"'ve\\u00edculo',\", \"'conserto',\", \"'obra',\", \"'m\\u00e3o',\", \"'rede',\", \"'materiais',\", \"'software',\", \"'respons\\u00e1vel']\", \"'subscrito',\", \"'cont\\u00e1bil',\", \"'vacinas',\", \"'hor\\u00e1ria',\", \"'secretaria']\", \"'mat\\u00e9rias',\", \"'tribut\\u00e1ria',\", \"'fraldas',\", \"'informa\\u00e7\\u00e3o',\", \"'configura\\u00e7\\u00e3o',\", \"'efici\\u00eancia',\", \"'orientar',\", \"'conv\\u00eanios',\", \"'solda',\", \"'softwares',\", \"'icms',\", \"'contabilidade',\", \"'transpar\\u00eancia',\", \"'rpps']\", \"'textos',\", \"'suporte',\", \"'p\\u00e1gina',\", \"'investimentos',\", \"'aposentadoria',\", \"'licen\\u00e7a',\", \"'respectiva',\", \"'vigilancia',\", \"'rpps',\", \"'gest\\u00e3o',\", \"['proveniente',\", \"'sistemas',\", \"'treinamento',\", \"'semanais']\", \"'web',\", \"'not\\u00edcias',\", \"'especializados',\", \"'jur\\u00eddicas',\", \"'orienta\\u00e7\\u00e3o',\", \"'contas',\", \"'t\\u00e9cnicos',\", \"'pareceres',\", \"'informa\\u00e7\\u00f5es',\", \"'disponibiliza\\u00e7\\u00e3o',\", \"'t\\u00e9cnico',\", \"'acompanhamento',\", \"'semanais',\", \"'assessoria',\", \"'via',\", \"'consultoria',\", \"'dados',\", \"'gerenciamento',\", \"['presta\\u00e7\\u00e3o',\", \"'carga',\", \"'atos',\", \"'horas',\", \"'implanta\\u00e7\\u00e3o',\", \"'servi\\u00e7os',\", \"'sistema',\", \"'t\\u00e9cnica',\", \"'\\u00e1rea',\", \"'presta\\u00e7\\u00e3o',\", \"'controle',\", \"'profissionais',\", \"['contrata\\u00e7\\u00e3o',\", \"'empresa',\", \"'munic\\u00edpio',\", \"'servi\\u00e7o',\", \"'administra\\u00e7\\u00e3o',\", \"'especializada',\", \"'contrata\\u00e7\\u00e3o',\", \"'manuten\\u00e7\\u00e3o',\", \"'municipal',\", \"'bem',\", \"'jur\\u00eddica',\", \"'sa\\u00fade',\", \"'elabora\\u00e7\\u00e3o',\", \"'atendimento',\", \"'benef\\u00edcio',\", \"['dispensa',\", \"'desporto',\", \"'habita\\u00e7\\u00e3o',\", \"'expediente']\", \"'pesadas',\", \"'cl\\u00ednicas',\", \"'cultura']\", \"'imediata',\", \"'residentes',\", \"'encaminhados',\", \"'ms',\", \"'entregues',\", \"'desenvolvidas',\", \"'sustent\\u00e1vel',\", \"'especializadas',\", \"'tiras',\", \"'funeral',\", \"'laborat\\u00f3rios',\", \"'srp',\", \"'turismo']\", \"'atendidos',\", \"'ambiente']\", \"'habita\\u00e7\\u00e3o']\", \"'osc',\", \"'sa\\u00fade']\", \"'desporto']\", \"'schneider',\", \"['consultoria',\", \"'vaga',\", \"'interna\\u00e7\\u00e3o',\", \"'determina\\u00e7\\u00e3o',\", \"'social']\", \"'turismo',\", \"'social',\", \"'sr',\", \"'econ\\u00f4mico',\", \"'cultura',\", \"'assist\\u00eancia',\", \"'portaria',\", \"'exames',\", \"'idosos',\", \"'secretaria',\", \"'conselho',\", \"'acolhimento',\", \"'cras',\", \"'sa\\u00fade',\", \"'b\\u00e1sica',\", \"'unidade',\", \"'medicamento',\", \"'municipal',\", \"'pacientes',\", \"'desenvolvimento',\", \"'atividades',\", \"'atendimento',\", \"'ambiente',\", \"'ambulatorial',\", \"'emerg\\u00eancia',\", \"'atendimentos',\", \"'atrav\\u00e9s',\", \"'atender',\", \"['aquisi\\u00e7\\u00e3o',\", \"'junto',\", \"'meio',\", \"'recursos',\", \"'educa\\u00e7\\u00e3o',\", \"'necessidades',\", \"'medicamentos',\", \"'obras',\", \"'munic\\u00edpio',\", \"'servi\\u00e7os',\", \"'processo',\", \"['contrata\\u00e7\\u00e3o',\", \"'res\\u00edduos',\", \"'destina\\u00e7\\u00e3o',\", \"'final',\", \"'s\\u00f3lidos',\", \"'via\\u00e7\\u00e3o']\", \"'quisi\\u00e7\\u00e3o',\", \"'veicula\\u00e7\\u00e3o',\", \"'internet']\", \"['rp',\", \"'m\\u00eddia',\", \"'ppaldo']\", \"'\\u00edndice',\", \"'jur\\u00eddica']\", \"'gr\\u00e1ficos',\", \"'inscrito',\", \"'clinica',\", \"['materiais',\", \"'familia',\", \"'carentes',\", \"'ambiental']\", \"'escolares']\", \"'residente',\", \"'cont\\u00e1beis',\", \"'cozinha']\", \"'guia',\", \"'tecnica',\", \"['contrata\\u00e7ao',\", \"'sintomas',\", \"'smadsch',\", \"'cia',\", \"'coleta',\", \"'press\\u00e3o',\", \"'leve',\", \"'juridica',\", \"'publicidade',\", \"'janeiro',\", \"'recolhimento',\", \"'apresenta\\u00e7\\u00e3o',\", \"'iptu',\", \"'ambiental',\", \"'grupo',\", \"'po\\u00e7os',\", \"'presta\\u00e7\\u00e3o',\", \"['contrata\\u00e7\\u00e3o',\", \"'empresa',\", \"'cria\\u00e7\\u00e3o',\", \"'divulga\\u00e7\\u00e3o',\", \"'pessoa',\", \"'periodo',\", \"'especializada',\", \"'servi\\u00e7os',\", \"'transporte',\", \"'servi\\u00e7o',\", \"'informativos',\", \"'lixo',\", \"'institucional',\", \"'realiza\\u00e7\\u00e3o',\", \"'jur\\u00eddica',\", \"'cnpj',\", \"'munic\\u00edpio',\", \"'jornal',\", \"'prestar',\", \"'fornecimento',\", \"'tratamento',\", \"'loca\\u00e7\\u00e3o',\", \"'contrata\\u00e7\\u00e3o',\", \"'emergencial',\", \"'elabora\\u00e7\\u00e3o',\", \"'assessoria',\", \"'t\\u00e9cnica',\", \"'munic\\u00edpio']\", \"['presta\\u00e7\\u00e3o',\", \"'coronav\\u00edrus',\", \"'aquisi\\u00e7\\u00f5es',\", \"'comum',\", \"'justificase',\", \"'expediente',\", \"'apae',\", \"'eventuais',\", \"'amigos',\", \"'obrigat\\u00f3ria',\", \"'s\\u00eamen',\", \"'necessitando',\", \"'excepcionais',\", \"'pedrisco',\", \"'contados',\", \"'cujo',\", \"'distribu\\u00eddas',\", \"'prestador',\", \"['eventual',\", \"'novos']\", \"'necessita',\", \"'visto',\", \"'parceladas',\", \"'formaliza\\u00e7\\u00e3o',\", \"['celebra\\u00e7\\u00e3o',\", \"['renova\\u00e7\\u00e3o',\", \"'decorrente',\", \"'persianas',\", \"'parcelado',\", \"'i']\", \"'licitat\\u00f3rio']\", \"'preg\\u00e3o',\", \"'limpeza']\", \"['edital',\", \"'ata',\", \"'quantidades',\", \"'b\\u00e1sicas',\", \"'rodeio',\", \"'constante',\", \"'i',\", \"'constantes',\", \"'smosua',\", \"'termo',\", \"'assunto',\", \"'edital']\", \"'anexo',\", \"'especifica\\u00e7\\u00f5es',\", \"'licita\\u00e7\\u00e3o',\", \"'licitat\\u00f3rio',\", \"'registro',\", \"'gasolina',\", \"'diesel',\", \"'compra',\", \"'cestas',\", \"'objeto',\", \"'presente',\", \"'s',\", \"'futuras',\", \"'lei',\", \"'acordo',\", \"'edital',\", \"'deste',\", \"'presencial',\", \"'processo',\", \"'aquisi\\u00e7\\u00e3o',\", \"'dispensa',\", \"'pre\\u00e7os',\", \"'n',\", \"'munic\\u00edpio',\", \"'municipal',\", \"['presente',\", \"'sa\\u00fade',\", \"'secretaria',\", \"['aquisi\\u00e7\\u00e3o',\", \"'atrav\\u00e9s',\", \"'exerc\\u00edcio']\", \"'sementes',\", \"['assinatura',\", \"'adubo',\", \"'maquin\\u00e1rio',\", \"'esportivos',\", \"'agr\\u00edcola']\", \"'madeiras',\", \"'distribuidor',\", \"'aprovado',\", \"'edifica\\u00e7\\u00f5es',\", \"'graeff',\", \"'cristo',\", \"'ala',\", \"'terapia',\", \"'previamente',\", \"'m\\u00e9todo',\", \"'l\\u00e2mina',\", \"'armado',\", \"'grande']\", \"'hidr\\u00e1ulica']\", \"'unit\\u00e1rios',\", \"'ambulatoriais']\", \"'d']\", \"'crea',\", \"'territorial',\", \"'especificados',\", \"'saldo',\", \"'blocos',\", \"'comprimido',\", \"'basalto',\", \"'instrumento',\", \"'empreitada',\", \"'mapa',\", \"'prnt',\", \"'calc\\u00e1rio',\", \"'fio',\", \"'descritivo',\", \"'global',\", \"'visa',\", \"'pavimenta\\u00e7\\u00e3o',\", \"'taxas',\", \"'contrapartida',\", \"'fornecedores',\", \"'explora\\u00e7\\u00e3o',\", \"'pedras',\", \"'memorial',\", \"'conv\\u00eanio',\", \"'regime',\", \"'execu\\u00e7\\u00e3o',\", \"'asf\\u00e1ltica',\", \"',\", \"'econ\\u00f4mica',\", \"'popular',\", \"['\", \"'el\\u00e9trica',\", \"'repasse',\", \"'constru\\u00e7\\u00e3o',\", \"'contrato',\", \"'propostas',\", \"'vias',\", \"'concreto',\", \"'energia',\", \"'reforma',\", \"'parte',\", \"'obra',\", \"'ruas',\", \"'projeto',\", \"'objeto',\", \"['presente',\", \"'empresa',\", \"'fornecimento',\", \"'contrata\\u00e7\\u00e3o',\", \"'recursos',\", \"'munic\\u00edpio',\", \"['contrata\\u00e7\\u00e3o',\", \"'m\\u00e3o',\", \"'presente',\", \"'obras',\", \"'material',\", \"'especializada',\", \"'servi\\u00e7os',\", \"'chassi',\", \"'\\\\t',\", \"['revis\\u00e3o',\", \"'k',\", \"'caterpillar',\", \"'ford',\", \"'spin',\", \"'sprinter',\", \"'benz',\", \"'sesc',\", \"'multifuncional',\", \"'lotada',\", \"'presta\\u00e7\\u00f5es',\", \"'mercedes',\", \"'monitor',\", \"'maquina',\", \"'master',\", \"'renault',\", \"'admitido',\", \"'volare',\", \"'conserto',\", \"'imovel',\", \"'garantia']\", \"'consoante',\", \"'tribut\\u00e1rio',\", \"'alor',\", \"'utilidade',\", \"'presencial']\", \"'case',\", \"'injetora',\", \"'placa',\", \"'motoniveladora',\", \"'troca',\", \"'marca',\", \"'caminh\\u00e3o',\", \"'pe\\u00e7as',\", \"'escavadeira',\", \"'revis\\u00e3o',\", \"'ambul\\u00e2ncia',\", \"'m\\u00e1quina',\", \"['manuten\\u00e7\\u00e3o',\", \"'veiculo',\", \"'ca\\u00e7amba',\", \"'hidr\\u00e1ulica',\", \"'pertencente',\", \"'rolo',\", \"'compactador',\", \"'carregadeira',\", \"'c',\", \"'ve\\u00edculo',\", \"'modelo',\", \"'m\\u00e3o',\", \"'placas',\", \"'mec\\u00e2nica',\", \"'motor',\", \"'obra',\", \"'corretiva',\", \"'preventiva',\", \"'manuten\\u00e7\\u00e3o',\", \"['aquisi\\u00e7\\u00e3o',\", \"'empresa',\", \"['contrata\\u00e7\\u00e3o',\", \"'secretaria',\", \"'servi\\u00e7os',\", \"'servi\\u00e7o',\", \"'fornecimento',\", \"'aquisi\\u00e7\\u00e3o',\", \"['aliena\\u00e7\\u00e3o',\", \"'situado',\", \"'of\\u00edcio',\", \"'terreno',\", \"'terras',\", \"'quadrados',\", \"'quinhentos',\", \"'correspondente',\", \"'eletrico',\", \"'tenente',\", \"'luis',\", \"'emitida',\", \"'viatura',\", \"'trezentos',\", \"'tribut\\u00e1ria']\", \"'solicitacao',\", \"'doen\\u00e7a',\", \"'inserv\\u00edveis',\", \"'oitenta',\", \"'sito',\", \"'situada',\", \"['leil\\u00e3o',\", \"'ers',\", \"'victor',\", \"'engenharia']\", \"'nova']\", \"'dezoito',\", \"'j\\u00falio',\", \"'barbosa',\", \"'barro',\", \"'cento',\", \"'inexigibilidade']\", \"'cinquenta',\", \"['elabora\\u00e7\\u00e3o',\", \"'jur\\u00eddico',\", \"'rua',\", \"'metros',\", \"'licitacao',\", \"'im\\u00f3veis',\", \"'bairro',\", \"'localizado',\", \"'avenida',\", \"'esquina',\", \"'propriedade',\", \"'localizada',\", \"'av',\", \"'quadra',\", \"'matr\\u00edcula',\", \"'jo\\u00e3o',\", \"'solo',\", \"'venda',\", \"'mil',\", \"'lote',\", \"'publico',\", \"'reais',\", \"'processo']\", \"'or\\u00e7amentos',\", \"'pedro',\", \"'cidade',\", \"'im\\u00f3vel',\", \"'cinco',\", \"'\\u00e1rea',\", \"'centro',\", \"'projeto',\", \"'pra\\u00e7a',\", \"'vinte',\", \"['loca\\u00e7\\u00e3o',\", \"'rs',\", \"'n',\", \"'munic\\u00edpio',\", \"'total',\", \"'art',\", \"'bens',\", \"'ruas',\", \"'empresa',\", \"'tubos',\", \"'concreto']\", \"'brita',\", \"'m\\u00e1scaras',\", \"'consorciados',\", \"'infec\\u00e7\\u00e3o',\", \"'combust\\u00edveis']\", \"'ag',\", \"'rtpcr',\", \"'vacina\\u00e7\\u00e3o',\", \"'fracionada',\", \"'direto',\", \"'viaturas',\", \"'radiof\\u00f4nico',\", \"'ant\\u00edgenos',\", \"'epp',\", \"'petr\\u00f3leo',\", \"'graxas',\", \"'dedica\\u00e7\\u00e3o',\", \"'canaliza\\u00e7\\u00e3o',\", \"'manuten\\u00e7\\u00f5es',\", \"'futura',\", \"'liquefeito',\", \"'contrata\\u00e7\\u00f5es',\", \"'durante']\", \"['arrendamento',\", \"'quest\\u00f5es',\", \"'escolas']\", \"'proc']\", \"'ducato',\", \"'covid',\", \"['preg\\u00e3o',\", \"'covid']\", \"'pandemia',\", \"'testes',\", \"'copa',\", \"['registro',\", \"'lubrificantes',\", \"'adm']\", \"'eventual',\", \"'g\\u00e1s',\", \"'pre\\u00e7os',\", \"'\\u00f3leos',\", \"'p\\u00f3',\", \"'combate',\", \"'higiene',\", \"'parcelada',\", \"'aquisi\\u00e7\\u00e3o',\", \"'materiais',\", \"'cozinha',\", \"['compra',\", \"'pre\\u00e7o',\", \"'material',\", \"'hospitalar',\", \"'medicamentos',\", \"'individual',\", \"['aquisi\\u00e7\\u00e3o',\", \"'limpeza',\", \"'teste',\", \"'uso',\", \"'registro',\", \"'prote\\u00e7\\u00e3o',\", \"'concreto',\", \"'secretarias',\", \"'serem',\", \"'emergencial',\", \"'manuten\\u00e7\\u00e3o',\", \"'fornecimento',\", \"'munic\\u00edpio',\", \"'ensino',\", \"'fundamental',\", \"'ensino']\", \"'professores',\", \"'educacionais',\", \"'institui\\u00e7\\u00f5es',\", \"'infantil',\", \"'infantil']\", \"'amostras',\", \"'vagas',\", \"'fabricante',\", \"['aquisi\\u00e7ao',\", \"'livros',\", \"'abrigamento',\", \"'aprende',\", \"'editora',\", \"'pedag\\u00f3gica',\", \"'dispositivos',\", \"'servico']\", \"'psicologia',\", \"'fundamental']\", \"'telef\\u00f4nicos',\", \"'tribunal',\", \"'editais',\", \"'decretos',\", \"'aprendizagem',\", \"'sentinela',\", \"'intelectual',\", \"'pedag\\u00f3gico',\", \"'impressos',\", \"'sra',\", \"'paredes',\", \"'alunos',\", \"'escolas',\", \"'assessoramento',\", \"'escola',\", \"'conte\\u00fado',\", \"'educa\\u00e7\\u00e3o',\", \"'educacional',\", \"'rede',\", \"'leis',\", \"'aulas',\", \"'municipais',\", \"'atuar',\", \"'interna',\", \"'anos',\", \"'externa',\", \"'biblioteca',\", \"'digital',\", \"'municipal',\", \"'emei',\", \"'emef',\", \"['contratacao',\", \"'escolares',\", \"['contrata\\u00e7\\u00e3o',\", \"'empresa',\", \"'escolar',\", \"'realiza\\u00e7\\u00e3o',\", \"'per\\u00edodo',\", \"'junto',\", \"'servi\\u00e7os',\", \"['aquisi\\u00e7\\u00e3o',\", \"'fornecimento',\", \"'familiar',\", \"'aliment\\u00edcios',\", \"'g\\u00eaneros',\", \"'empreendedor',\", \"'familiar']\", \"'alimenta\\u00e7\\u00e3o',\", \"'pnae']\", \"'ministrar',\", \"'infantis',\", \"'escolar']\", \"'rural']\", \"'auxilio',\", \"'vargas']\", \"'tecido',\", \"'chevrolet',\", \"'geral']\", \"'jcb',\", \"'deere',\", \"'usada',\", \"'magn\\u00e9tico',\", \"'perec\\u00edveis',\", \"'liberato',\", \"'el\\u00e9trico']\", \"'palmitinhors']\", \"'internados',\", \"'oleo',\", \"'sinal',\", \"'furg\\u00e3o',\", \"'clinico',\", \"'el\\u00e9trica']\", \"'cart\\u00e3o',\", \"'maquinas',\", \"'chamada',\", \"'epis',\", \"'\\u00e1gua']\", \"'cart\\u00f5es',\", \"'individuais',\", \"'bombeiros',\", \"'c\\u00e2maras',\", \"'agricultura',\", \"'generos',\", \"'corpo',\", \"'bens',\", \"'rural',\", \"'escolar',\", \"['aquisi\\u00e7\\u00e3o',\", \"'ilumina\\u00e7\\u00e3o',\", \"'nacional',\", \"['aquisicao',\", \"'programa',\", \"['fornecimento',\", \"'destinados',\", \"'p\\u00fablica',\", \"'produtos',\", \"'uso',\", \"'material',\", \"'atendimento',\", \"'equipamentos',\", \"'destinado',\", \"'rede',\", \"'municipal',\", \"'aquisi\\u00e7\\u00e3o',\", \"'alimenticios',\", \"'avisos',\", \"'secretarias']\", \"'p\\u00fablicos']\", \"['estimativa',\", \"['processo',\", \"'campanhas',\", \"'emissora',\", \"'assuntos',\", \"'baterias',\", \"'holland',\", \"'ve\\u00edculos']\", \"'m\\u00e1quinas']\", \"'favor',\", \"'s']\", \"'glp',\", \"'extintores',\", \"'parafusos',\", \"'est\\u00e1gios',\", \"'fm',\", \"'noturno',\", \"'aparelho',\", \"['formaliza\\u00e7\\u00e3o',\", \"'odontol\\u00f3gico']\", \"'novars']\", \"'faixas',\", \"'transfer\\u00eancias',\", \"'estagi\\u00e1rios',\", \"'recapagens',\", \"'corrente',\", \"'campanha',\", \"'bombas',\", \"'recarga',\", \"'lavagem',\", \"'randon',\", \"'iniciais',\", \"'consertos',\", \"'passagens',\", \"'pe\\u00e7a',\", \"'per\\u00edodo']\", \"'ve\\u00edculos',\", \"'frota',\", \"'pneus',\", \"'cabine',\", \"'municipais']\", \"'m\\u00e1quinas',\", \"'diversas',\", \"'novos',\", \"'municipal']\", \"'secretarias',\", \"'despesa',\", \"'transporte',\", \"'executivo',\", \"['servi\\u00e7o',\", \"'manuten\\u00e7\\u00e3o',\", \"'escolar',\", \"['aquisi\\u00e7\\u00e3o',\", \"'\\u00f4nibus',\", \"['servi\\u00e7os',\", \"'emergencial',\", \"'munic\\u00edpio']\", \"'caminh\\u00f5es',\", \"'servi\\u00e7o',\", \"'ve\\u00edculo',\", \"'prefeitura',\", \"'uso',\", \"'servi\\u00e7os',\", \"'equipamentos',\", \"'munic\\u00edpio',\", \"'merenda',\", \"'ltda']\", \"'semestre',\", \"'tecnicos',\", \"'refere',\", \"'sa',\", \"'inmetro',\", \"'l\\u00e2minas',\", \"'conselheiros',\", \"'tecnico',\", \"'folhas',\", \"'vidros',\", \"'gabinetes',\", \"'outros']\", \"'consolida\\u00e7\\u00e3o',\", \"'alegre']\", \"'dispon\\u00edvel',\", \"'combustivel',\", \"'smed']\", \"'dezesseis',\", \"'ramais',\", \"'t\\u00e9cnica']\", \"'gas',\", \"'regionais',\", \"'bocas',\", \"'did\\u00e1tico',\", \"'elaboracao',\", \"'c\\u00e2mera',\", \"'m\\u00e1quina']\", \"'inox',\", \"'empenho',\", \"'pinto',\", \"'telef\\u00f4nica',\", \"'nome',\", \"'m\\u00ednima',\", \"'portas',\", \"'lobo',\", \"'esperan\\u00e7a',\", \"'caracter\\u00edsticas',\", \"'divis\\u00f3rias',\", \"'capacidade',\", \"'m\\u00ednimo',\", \"'computador',\", \"'condicionado',\", \"'ar',\", \"'ri',\", \"['termo',\", \"'aparelhos',\", \"'porta',\", \"'taxa',\", \"'pagamento',\", \"'porto',\", \"'ferro',\", \"'x',\", \"'valor',\", \"'zero',\", \"'nova',\", \"'instala\\u00e7\\u00e3o',\", \"['aquisi\\u00e7\\u00e3o',\", \"'alto',\", \"'lei',\", \"'servicos',\", \"'emef',\", \"'total',\", \"'alegre',\", \"'central',\", \"'emei',\", \"'municipal',\", \"'dois',\", \"'ve\\u00edculo',\", \"'v\\u00edrus',\", \"'som',\", \"'gratuita',\", \"'judicial']\", \"'descart\\u00e1vel',\", \"'artesiano',\", \"'\\u00e1udio',\", \"'smed',\", \"'inform\\u00e1tica']\", \"['pregao',\", \"'submersa',\", \"'aratiba',\", \"'s\\u00e1bados',\", \"'\\u00eanfase',\", \"'b\\u00e1sicas']\", \"'informatica',\", \"'cabos',\", \"'descart\\u00e1veis']\", \"'emuls\\u00e3o',\", \"'ppra',\", \"'caf\\u00e9',\", \"'coronavirus',\", \"'salvador',\", \"'toners',\", \"'po\\u00e7o',\", \"'integra',\", \"'analise',\", \"'bacia',\", \"'mdf',\", \"'cimento',\", \"'in\\u00edcio',\", \"['concess\\u00e3o',\", \"'decis\\u00e3o',\", \"'mesa',\", \"'c\\u00e2mara']\", \"'smov',\", \"'computadores',\", \"'creas',\", \"'notebook',\", \"'vereadores',\", \"'sess\\u00f5es',\", \"'c\\u00e2mara',\", \"'eletronico',\", \"'risco',\", \"'vereadores']\", \"'v\\u00eddeo',\", \"'laborat\\u00f3rio',\", \"'transmiss\\u00e3o',\", \"'fevereiro',\", \"'cadeiras',\", \"['referente',\", \"'protocolo',\", \"'retorno',\", \"['aquisi\\u00e7\\u00e3o',\", \"'prefeito',\", \"'equipamentos',\", \"'saude',\", \"'localidade',\", \"'material',\", \"'uso',\", \"'processo',\", \"'municipal',\", \"'x',\", \"['aquisicao',\", \"'linha',\", \"'dia',\", \"'gabinete',\", \"['contrata\\u00e7\\u00e3o',\", \"'instala\\u00e7\\u00e3o',\", \"'aumento',\", \"'domiciliar',\", \"'medicinal',\", \"'d\\u00e1gua',\", \"'upa',\", \"'estimativo',\", \"'reservat\\u00f3rios',\", \"'dedetiza\\u00e7\\u00e3o',\", \"'\\u00e1guas',\", \"['aux\\u00edlio',\", \"'exame',\", \"'reservat\\u00f3rio',\", \"'radiodifus\\u00e3o',\", \"'cp',\", \"'espec\\u00edficos',\", \"'esfs',\", \"'correio',\", \"'fundars']\", \"'riograndense',\", \"'descart\\u00e1veis',\", \"'residencial',\", \"'taquari',\", \"'pluviais',\", \"'gases',\", \"'oxig\\u00eanio',\", \"'baixo',\", \"'funda',\", \"'diretoria',\", \"'bombonas',\", \"'passos',\", \"'prefeitura']\", \"'desratiza\\u00e7\\u00e3o',\", \"'\\u00e1gua',\", \"'esgoto',\", \"'lixeiras',\", \"'comercial',\", \"'desinfec\\u00e7\\u00e3o',\", \"'caixas',\", \"'pr\\u00e9dio',\", \"'posto',\", \"'barra',\", \"'dep\\u00f3sito',\", \"['loca\\u00e7\\u00e3o',\", \"'sala',\", \"'federal']\", \"'paciente',\", \"'higieniza\\u00e7\\u00e3o',\", \"'funcionamento',\", \"'im\\u00f3vel',\", \"'limpeza',\", \"'tratamento',\", \"'instala\\u00e7\\u00e3o',\", \"'sede',\", \"'c\\u00e2mara',\", \"['pagamento',\", \"['contrata\\u00e7\\u00e3o',\", \"'abastecimento',\", \"'municipal',\", \"'servi\\u00e7o',\", \"'empresa',\", \"'centro',\", \"['servi\\u00e7o',\", \"'munic\\u00edpio',\", \"'r\\u00e1pidos',\", \"'detec\\u00e7\\u00e3o',\", \"'envelopes',\", \"'ant\\u00edgeno',\", \"'r\\u00e1pido',\", \"'min',\", \"['material',\", \"'conting\\u00eancia',\", \"'email',\", \"'servidora',\", \"['pe\\u00e7as',\", \"'\\u00f3ptica',\", \"'velocidade',\", \"'civil']\", \"'farmacia',\", \"'solicita\\u00e7\\u00e3o']\", \"'mudas',\", \"'link',\", \"'digital']\", \"'pneu',\", \"'website',\", \"'suspeitos',\", \"'line',\", \"'mbps',\", \"'m\\u00e9dicos']\", \"'casas',\", \"'ranger',\", \"'emails',\", \"'lonas',\", \"'bandeiras',\", \"'ip',\", \"'usinado',\", \"'inscri\\u00e7\\u00e3o',\", \"'fibra',\", \"'dpm',\", \"'incluso',\", \"'certificado',\", \"'h',\", \"['curso',\", \"['contrato',\", \"['solicita\\u00e7\\u00e3o',\", \"'sms',\", \"'curso',\", \"'quente',\", \"'abertura',\", \"'site',\", \"'ponto',\", \"'internet',\", \"'pedra',\", \"'hor\\u00e1rio',\", \"'online',\", \"'servidor',\", \"'dia',\", \"'oficial',\", \"'horas']\", \"'banda',\", \"'dias',\", \"'realizado',\", \"'referente',\", \"'luvas',\", \"'kit',\", \"'credenciamento',\", \"['valor',\", \"'aten\\u00e7\\u00e3o',\", \"['aquisi\\u00e7\\u00e3o',\", \"'acesso',\", \"'covid']\", \"'enfrentamento',\", \"'precos',\", \"'medicamentos']\", \"'folha',\", \"'\\u00e1lcool',\", \"'pneus']\", \"'vales',\", \"'prefeito']\", \"'ambulancia',\", \"'gel',\", \"'lavra',\", \"'pregao',\", \"'tra\\u00e7\\u00e3o',\", \"'credor',\", \"'veterin\\u00e1rios',\", \"'minimo',\", \"'lajeadors']\", \"'agendas',\", \"'leite',\", \"'usado',\", \"'brita']\", \"'hp',\", \"'p']\", \"'aquisicoes',\", \"'carros',\", \"'ativos',\", \"'turbo',\", \"'l\\u00edquido']\", \"'case']\", \"'n\\u00e3ometoquers']\", \"'gravata\\u00ed']\", \"'tintas',\", \"'recapagem',\", \"'extra\\u00e7\\u00e3o',\", \"['solicitamos',\", \"'saibro',\", \"'urbanos']\", \"'req']\", \"'sec',\", \"'realizada',\", \"'protocolo']\", \"['despesa',\", \"'lotado',\", \"'dias']\", \"'aquisicao',\", \"'tr\\u00e2nsito']\", \"'preco',\", \"'gabinete',\", \"'suprir',\", \"'p\\u00fablicos',\", \"['aquisi\\u00e7\\u00e3o',\", \"'aquisi\\u00e7\\u00e3o',\", \"['registro',\", \"'pagamento',\", \"'servidores',\", \"'obras',\", \"'m\\u00f3veis',\", \"'jornal',\", \"'municipais',\", \"'pre\\u00e7os',\", \"'necessidades',\", \"'uso',\", \"'secretaria',\", \"'munic\\u00edpio',\"], \"Freq\": [24676.0, 23253.0, 20139.0, 11858.0, 5496.0, 6406.0, 20222.0, 9686.0, 8760.0, 4272.0, 3864.0, 15225.0, 3688.0, 3771.0, 2972.0, 2544.0, 2389.0, 2660.0, 2288.0, 3504.0, 7235.0, 2585.0, 6700.0, 2555.0, 3422.0, 2385.0, 3600.0, 2805.0, 3377.0, 5589.0, 688.1128960498567, 307.70723402974943, 307.1358463399796, 235.93888930977397, 212.13891086331964, 587.7315680981213, 208.9950403652767, 231.5966114357817, 216.75258219440502, 426.18960917943286, 168.24932909897777, 131.88603270972342, 117.7044514933056, 116.40836549293918, 115.66089119885955, 112.13096254892933, 116.18049230137596, 236.41633042755046, 176.44657297371, 94.74060102549154, 90.34023218596933, 89.97190128309471, 942.4561751737384, 134.31718583181976, 121.39702089512183, 94.29147293159313, 445.82027468618674, 87.23573135309717, 82.02784403026696, 94.91002574183003, 1007.3872603374813, 352.2627081197683, 538.358607271989, 478.79166732694796, 212.93715153406026, 170.49197869468168, 180.0837370925816, 961.201332765227, 216.66548934485334, 417.79782771223995, 429.6799850494706, 1314.0298479356268, 241.2838859604326, 440.8923261741301, 335.7041844586333, 1134.0658853105504, 736.5505417564146, 517.7620726463787, 1950.6955293496446, 754.3868225062463, 1527.9799726707702, 629.6420285105669, 427.61410219847147, 2599.5574185683995, 730.5988598734366, 622.6047030412273, 1605.7265073096303, 517.0900241781522, 7904.184004732726, 1912.8158250707947, 1206.0716862258594, 1736.6870869355066, 3313.137561325761, 645.2578427052694, 784.4263566177269, 4341.783289848641, 3392.5815868745053, 1927.5213672640557, 1451.202934566206, 779.0104160920231, 1199.7468688584986, 1082.5077554718384, 1246.078172080305, 1337.2146132355786, 708.6552287178365, 713.10927633007, 816.2519742854116, 719.6149064055109, 713.8652436593383, 526.1805528742367, 349.81588244747155, 248.75824349772125, 283.18747287021716, 198.91340342674937, 175.92597918014926, 146.22957734650151, 153.51741919554655, 282.84917462491796, 139.07299053835084, 129.25881809377086, 115.491154052922, 109.51766813716364, 150.00670503256438, 237.81939751327002, 148.33819586491077, 93.52376334227223, 104.70578494743148, 80.06634247616381, 79.47662313866358, 113.28740560010642, 80.83879257286866, 181.69068946531144, 75.27373526899116, 141.58872190191335, 2051.793535848321, 63.84604539615657, 91.45491021829743, 60.92145048671157, 158.66197938272495, 202.15228018380708, 208.543807118373, 731.7302158468877, 402.4138328192973, 2569.092429397096, 216.0295549028811, 102.72726651912235, 801.1699510928776, 2172.0134458730504, 702.0415477976723, 657.5192765324942, 182.75412137382753, 8343.24383789734, 577.5764480029774, 511.4015685971003, 565.2104629472377, 4630.47106270272, 1031.7885958948402, 1249.5744216061064, 423.8424097451751, 6782.718768400987, 937.6700475131664, 984.3191241168553, 1238.7889940220948, 1646.2928265682656, 480.2319612370674, 297.0728176252205, 402.71833047932716, 340.51472744998716, 1015.7908607568083, 927.15268547046, 3517.9106467614465, 917.2115707759261, 712.9124709797181, 750.6173162402328, 1023.2340069386024, 698.5278073712166, 685.5914812979483, 863.8248328705276, 1232.1270039268531, 955.4505588493297, 658.8484933199878, 656.6066607302231, 1104.171956002353, 535.6905854949229, 796.6455957608217, 549.842681811995, 205.09985632126245, 187.0186353188305, 232.39126904771177, 158.12591449263928, 147.75918849996782, 143.4376690210561, 143.8426074776834, 128.72632728095317, 125.20441654665612, 122.2987665928379, 116.1758163895072, 114.89750050303624, 117.28359818988194, 105.28337296212719, 104.94943704280583, 101.55822502014452, 97.44492039299595, 107.4741692281309, 94.11060995306094, 86.05777025351041, 82.63404710410272, 115.10979702294296, 116.50466800094938, 73.94641556626472, 73.01519080132002, 79.21408563143362, 1043.2607245313634, 119.69117796638226, 102.54704112706627, 152.9748208517662, 443.0503716023647, 512.4271250215327, 214.55122201175632, 231.275139027127, 128.2427562697411, 544.3787645736094, 429.3458081533833, 273.5224238144481, 5707.219474807612, 11740.52822458749, 10225.729758517564, 257.1060114283471, 836.4301129206629, 924.8071879884186, 380.20562406589886, 3008.0618803522625, 7649.185588869954, 1784.217917424146, 2649.748646031358, 209.7125964223902, 202.2137613977488, 398.4841588795642, 998.1002379930665, 662.5939999618024, 375.27920705684534, 2016.522461690187, 424.1767949938311, 371.93010590307995, 1052.7026611417905, 426.190408463435, 503.56572392894805, 781.7980514569173, 648.5100547030718, 539.9037203295064, 550.7236963700376, 512.4776978853604, 502.6488134461863, 512.4426552710546, 587.9293840856761, 614.1888208549226, 568.427702687035, 294.82083550698104, 792.239660376305, 193.41247558186632, 479.6605149069626, 155.90632214080202, 147.50128229830594, 134.59703076724261, 134.59258615483955, 131.87287226774095, 118.93007761349469, 237.81259787427643, 108.59767327064505, 106.91599861028537, 109.49463077712062, 101.67797428030956, 101.4983424921564, 88.8128770066346, 90.82808510431089, 237.44500064971436, 122.64541245771031, 86.04233480988268, 146.94269174513533, 239.83142416423712, 80.16570995877397, 82.11196406184064, 588.6966908594126, 120.11438625653615, 1282.8525891669328, 165.9201727790748, 526.8225749043005, 684.7694324887696, 357.6092915698888, 712.2207476315564, 178.26127802925433, 267.41854999476556, 1534.065637878835, 898.8210768985349, 190.80001574781951, 1954.8567614881315, 227.42870547461987, 1097.0665684498533, 2742.6103078930446, 1467.8745810119233, 2125.849000936875, 421.6716846628289, 2256.4063790486152, 460.224724887197, 682.3729530386847, 716.0813935225252, 498.33849851200335, 1751.7923100540856, 1131.0488526153783, 516.7385271688867, 554.2230547927272, 1742.4464013235129, 1017.3521116547157, 964.2722169156442, 961.2603253206983, 718.3137556596263, 1417.1006623028788, 2453.0631438964533, 761.2697678246212, 1588.2582413330172, 997.8602639610162, 1421.3987136119656, 1176.668465435883, 652.8742271924199, 809.0977418752503, 849.883116457892, 802.9618988951459, 687.2974169083303, 1363.2393877964396, 152.6394603211217, 150.39168051917363, 137.46931142813128, 118.92456555460174, 116.37356904592025, 112.81966371789137, 119.5065061060192, 108.395511777164, 156.14026046744928, 103.4075314654561, 94.68010232093451, 94.64173987201157, 91.79536258138393, 94.35622116111915, 98.04573276468126, 91.77409364267555, 90.7128799458216, 128.94316480303868, 88.50776115725121, 88.1848986676582, 125.30288519549731, 84.51212236060609, 83.28101462018536, 81.50321119862258, 100.6579726226646, 83.85177778460265, 78.93974997244015, 215.6351798714892, 75.59236044218038, 324.04280374953873, 371.56271736932, 755.0816231092309, 212.40751767489016, 93.24906655665512, 236.1686834560337, 361.1686094108977, 587.1650982984853, 862.9913523262959, 323.55077483796634, 854.6416595332348, 124.25096826369456, 183.20950742186605, 142.57620749557546, 195.84398463622327, 322.51723874687895, 577.0801287671, 649.4000279112545, 830.8880610166002, 2274.3306912836288, 372.551342417198, 597.0618713048364, 182.2815772085548, 214.18045162890655, 457.706172925947, 1022.9217712541109, 468.61843700801813, 1055.4813372699923, 1057.1681656047747, 312.42680645649904, 511.955892190047, 698.3175122993844, 782.7986771599915, 705.4427410968264, 586.5419855593998, 1332.8602686002268, 567.2537447536954, 1040.5191090441435, 971.5721949188576, 607.1511394006765, 2412.2517437757474, 1267.475431553105, 1061.6958077235856, 710.7154229444131, 1327.2027309038012, 1666.849144517207, 721.3773404237086, 631.4300583150513, 684.0426066191638, 735.147343887349, 699.3578096741453, 716.5925456417352, 411.83743297275095, 365.46132737948346, 231.16211360433837, 254.4702334841535, 212.73728883705562, 345.02877109971934, 200.88803277787903, 196.79941860578856, 156.81350330925233, 158.1170653594975, 154.2938572406873, 179.08815058720447, 149.76017706010546, 151.210666540495, 133.11784017085174, 149.1452995486852, 126.40265094881052, 124.58408965555459, 121.23490875871049, 116.2813012308736, 2361.7981498260483, 109.37646012752863, 104.54105452333583, 102.89863807693222, 111.63447145440533, 100.24704734329713, 99.71955563063817, 102.13979484474272, 256.2763228040199, 98.59116485495937, 2529.5828187294524, 866.1782034665395, 584.2970525194934, 524.7646444528334, 1265.306275382056, 3451.7637695602507, 802.0494274122116, 1106.4005037415134, 512.2703711338893, 595.4219298054032, 846.0021783600595, 603.558042654729, 352.0826814922378, 618.1177649505175, 392.0861313380505, 310.481589277046, 206.05138876862762, 202.17181593852536, 495.95989941659377, 2617.290572721677, 773.7881201778619, 2060.4869146098904, 833.9463610061915, 300.0350766637299, 591.2411849506735, 2020.422795838469, 520.0927272557755, 490.98381774114534, 2143.7377981508307, 2150.6332314714546, 1719.2571660437725, 1754.7184810023095, 1326.1241677988303, 1523.9456938310595, 1026.2119252131997, 948.7393469113339, 637.2074473559426, 202.53766190365175, 323.4990330910783, 147.21537345333533, 160.03997396675584, 130.77422577529333, 122.73245722157192, 123.2040708695154, 111.91551946472671, 110.44639825853515, 117.31882179186125, 109.60187291340364, 128.26011509714158, 103.62306422563877, 111.54062249478507, 98.90603679452911, 99.04314650987406, 101.41230322423975, 161.0789882519405, 199.7812704755, 94.91931857754528, 212.67659512023596, 86.7454277010063, 97.89126220545323, 81.16484051697374, 89.74012933365083, 82.37077750370831, 78.3557957816931, 95.59239383082294, 87.98276589214869, 70.16649725173458, 289.69171684289654, 152.25054810640518, 283.47825859991144, 253.86482620161783, 196.1820775000223, 2404.6829088167206, 576.3902621658075, 549.4461403537118, 462.64958945823554, 869.9964914030002, 781.0035896810389, 444.7308468488341, 137.2467669547542, 668.1647150164761, 595.398057618042, 461.1546112849603, 303.26726372282315, 273.6191035777273, 501.18406287069905, 190.96909988228703, 154.5496973244982, 760.6683537074197, 394.19901186873915, 167.57975904153207, 316.588269582964, 419.81797864418115, 324.1027109562953, 312.6767786769563, 657.966184880254, 786.3468205599262, 377.8901801986614, 1394.4929246371578, 863.9157849595593, 1079.4455947127797, 338.1135652034175, 375.1040193634627, 688.2621056299546, 490.3986280029637, 637.8662376228391, 1062.9850688358108, 428.61690117336025, 449.29166720913474, 390.69350439871755, 366.545188942126, 388.1400368987575, 843.9051842610461, 290.1518335117923, 361.23635064592395, 191.44794284980105, 126.0731013622983, 123.61153452467886, 112.31225019527463, 106.2434027251157, 103.15866297947161, 153.6021245224253, 105.12343368479387, 90.65901592655777, 88.20404776201381, 83.4174912736861, 80.22168439600267, 117.21354776905032, 79.70176131374735, 67.80531512483695, 71.22016003559372, 64.67683547442232, 180.84911985369135, 1429.8482163093922, 67.04095679104334, 77.11667020476688, 58.91307508123831, 58.287600310512914, 55.07560817862382, 52.544037634163914, 51.17658224586122, 47.73141142238614, 3675.417068357093, 222.11261754236517, 3916.6560345913294, 835.5535569832718, 763.7622325963216, 165.05705990496298, 4715.856409345342, 311.6341522182503, 145.69941463277266, 1185.6873468050364, 520.5757641404746, 4485.066708220054, 350.2026832183612, 177.41011892494552, 365.0309397139166, 563.9451322045704, 494.25043463458894, 4143.331196760133, 2731.440037052106, 350.0317496022772, 635.1347226008069, 1031.1478315755653, 1844.608417272064, 364.29975979720774, 734.2461783645192, 251.31197157419456, 4008.4099066874896, 930.5858592877034, 314.33085207402326, 1072.258052289107, 836.9756928943581, 466.4202104833406, 459.60236397109526, 524.100340200213, 499.3225845822356, 486.0464876461648, 532.0817196327561, 503.83939886968557, 544.7800219502009, 2537.896250898233, 1113.703825364552, 440.5032694386472, 578.5885476093811, 212.0507116422242, 190.79285531712284, 1397.617549241534, 165.41095130760465, 172.7631907148245, 226.54819970767738, 142.18281663992394, 169.28948996452786, 162.73246941668407, 136.78071087560812, 134.60619206112443, 134.03669751347795, 140.71298793080737, 122.58019513760527, 128.18520223367548, 118.61954415051888, 119.39043529717058, 108.97679911260057, 149.12705028209797, 171.55443673752535, 97.76348746783286, 105.5915320099492, 95.55045757452031, 110.35195205305025, 82.10826954466545, 81.93902670861583, 214.6438485474583, 107.53935455614284, 1493.0386285983402, 2747.426009609113, 331.0494124471389, 1558.0040323071132, 151.1663447401481, 2609.4315625788736, 345.811661479661, 2118.9194433799285, 221.9633006200387, 392.64683548068024, 1316.0904665219537, 189.97386312024577, 288.319350976803, 315.9341199931453, 243.83536149456762, 212.0668389214496, 318.8141640756703, 2702.548399318927, 394.49335135456124, 390.9789868216463, 390.85520995359144, 222.13790721636641, 1275.9231737140963, 818.0549139669398, 428.95705907208327, 349.17869179736687, 309.59848955073926, 305.899064488713, 356.54583453851376, 358.44392890720303, 306.12075698063626, 1518.7225034339206, 2283.2820014398385, 2382.9908049382993, 432.7942123424481, 304.95096284995424, 1528.8874101213971, 188.88884867325345, 219.44053771516224, 170.85518170784275, 853.3694995481258, 141.4639563951344, 115.3781467775802, 117.36976192144597, 106.63994006930938, 104.42844373704835, 120.05805503930809, 90.1491383319046, 86.00430216360998, 80.407403651134, 80.50497331582768, 252.10352770464863, 116.78169208672709, 73.63593959488577, 72.7749973621278, 72.52132799087941, 85.3884989779546, 68.83281191125091, 69.61849003594453, 72.21526178938785, 68.94865710960458, 189.13485642871086, 223.476386908957, 209.96729270080604, 247.36171254226693, 127.55240854795777, 153.81646666929365, 283.2593282934525, 302.65464661772586, 294.2431722254928, 1559.1444829298293, 277.67741336718666, 302.5607216091374, 771.3574217429585, 915.1443565320083, 1300.8048833128123, 6430.631022954497, 543.822978058204, 492.9295749900452, 423.3940563994483, 687.9594863145455, 453.49131299716123, 370.0300990233236, 555.1462322229489, 308.17947499496086, 557.5372311342106, 473.2966094117742, 430.2531424299813, 395.5399484699922, 296.5467777699315, 318.7511723315954, 328.20627244512696, 297.2839127330236, 301.8075589292928, 263.75766717195916, 267.7240665285507, 211.44666806668573, 170.9063225266098, 177.05869686352366, 147.4973005483524, 144.94321859833195, 139.06090167453186, 144.43127010505958, 122.28654984348152, 131.09817778086526, 119.09720189319607, 100.66813373915782, 98.48505094825722, 94.80544902192494, 103.75829879096561, 89.55091680326896, 87.9192450987784, 83.53362071791278, 80.87696822998495, 148.064157288762, 76.91357253906696, 75.68473884983571, 85.57515963465123, 80.02512864497041, 71.91835885460122, 69.80401355918632, 125.6150325422652, 67.48457053983233, 160.93641917425995, 144.6108459604613, 153.38935306480982, 269.39437714054054, 204.68100093736192, 128.74435672408075, 142.9675126014073, 232.26300015304886, 183.81485135269378, 140.24372663739467, 2230.3696791996895, 1202.9553939580956, 1361.4639222993742, 208.27873594299632, 1104.993135665161, 1139.0552246255572, 880.6687309903888, 470.63128211975067, 1373.492061233732, 1254.2654849571957, 419.9354995855769, 1465.147538194758, 323.80048569466805, 699.6998188011814, 1458.5927345888415, 804.4332437185287, 2712.8446442158174, 274.65038332297036, 394.1964257646691, 574.6896564011901, 515.3095765816901, 222.39009352601636, 503.6557996733812, 383.0263319266758, 314.0281554192607, 380.46255154274866, 402.47326496341134, 287.8253403908594, 308.4963074448737, 1322.2043982867117, 193.17784296297515, 167.65439800427632, 149.3166861566919, 117.71382045951667, 119.66020560660128, 114.34569488580013, 106.1501580924691, 106.42004976174809, 101.53879761293258, 103.92692667208736, 101.71181900059335, 95.60767145077695, 95.4688746698917, 142.68728520790825, 176.60092355420642, 104.71691906577945, 82.88035437380145, 83.1996213210012, 81.58171767011436, 101.17541051320534, 93.6651914886176, 76.10932417975775, 75.4159549803661, 153.7699228058751, 74.65002648081993, 71.69849012491733, 76.29370555751747, 69.07688162999963, 70.09971464834032, 688.9782769587252, 135.24538883995268, 113.75004570733913, 127.72638917580306, 423.5445450144715, 288.32751697738655, 162.5596383068002, 211.36856798906717, 143.25686366108116, 169.3592763910294, 484.459740813679, 853.8456384955556, 181.35384698728353, 503.76750541791364, 1007.235131203295, 191.66007596751749, 277.02371815042716, 324.70583323919845, 234.43336155219862, 431.6050395488439, 664.8998227406115, 441.40184679800973, 166.05817777215657, 589.19559520513, 604.6362142780074, 252.00490986595898, 398.3121568631034, 514.241838145532, 1288.9209410781673, 192.83857399607334, 411.4633974326676, 247.5788166626143, 243.3308914949646, 237.6011173907377, 201.99593131980785, 218.70633814538905, 205.75108000448137, 242.37764067592488, 207.2187063539851, 206.05481660977927, 234.0046222391192, 208.17260918283756, 260.1751223817362, 444.52739394630197, 146.5433901936573, 199.45338371524346, 143.86780519806769, 139.7242116881593, 201.59877933124378, 146.68123966175554, 119.96875872224146, 107.55560796722648, 102.6819215555108, 95.98887565743017, 96.59385680409673, 95.86239320737866, 98.27602636175565, 92.16931098335476, 91.23843135005643, 87.98539380851882, 88.03281755838171, 142.32639855208305, 84.84587733419441, 83.95623898584758, 486.87248402461717, 82.941603584863, 82.02553777982634, 79.29566408956966, 80.17223208770032, 75.83170585040148, 105.88690448341904, 215.0679042693224, 107.97912401903132, 171.90791025848617, 139.3249781562383, 116.46060560866968, 433.9403070389519, 94.19676375065147, 144.1078431260833, 949.4381312347637, 426.9455648823713, 1382.8207088231575, 249.47959572805556, 186.45557136196732, 284.3143100178307, 195.69251804707525, 219.57172098988354, 342.80912252919495, 287.09109703181196, 165.5588629020098, 457.520755842462, 236.63984342390518, 194.54829175820802, 1264.9138767054876, 192.7259442716401, 476.9879270076049, 246.29059085881437, 217.06437015543526, 427.0858231030324, 375.9061168391111, 305.0435069424158, 336.9722791998384, 232.81453788955494, 217.46846707348323, 220.304004709498, 216.7445336960867, 208.7962696321167, 230.9382802265798, 212.3019451716238, 229.00939876421702, 219.33899468230433, 304.490944523472, 198.71932319828065, 180.82762610999123, 482.5937551972635, 184.5501014578985, 152.00308372837654, 134.4096954783976, 129.04145822294007, 144.89274750155084, 106.0508755884374, 96.70241653142308, 101.84011695276759, 93.30940834078089, 97.0879328164571, 88.2254998473961, 127.41316020870282, 86.54491097107723, 292.26662247577883, 128.77567994664435, 82.59399916108784, 82.07266441904686, 118.08060796920262, 403.4874489979714, 73.85069369262816, 72.7200998348361, 67.92702845632384, 66.7658867877142, 67.73295408066745, 105.81434569279617, 248.70613877289702, 1667.3990328520217, 466.0645106350106, 83.79784839432605, 254.78010103074138, 207.2897148391714, 287.77836828837684, 923.6605004731257, 279.34280372889447, 297.6009401231851, 135.4043980662856, 1298.5957497284987, 601.6274727871499, 141.84239120353578, 398.9005053300769, 359.25408451027414, 378.2228075680792, 601.1451601569472, 691.5936545549173, 346.81860506107313, 552.4465055493861, 334.62054046426243, 429.3143404170668, 278.6467796447944, 835.4327770318729, 273.52619585525383, 599.7611774173458, 459.88921522841076, 451.5216019048725, 314.20772481982726, 296.4646108495007, 327.76895886966105, 458.1387176219366, 395.5032384062959, 394.675997253485, 321.3438622392246, 271.02166223962644, 245.19667124219103, 418.32634480311316, 146.9228519743366, 149.7085200217166, 160.20696402751625, 130.44633859651603, 148.16938934821846, 143.3218573765238, 127.81602803616752, 120.78957994034447, 107.95961511733312, 105.6089203994164, 215.971288863077, 93.15734251598289, 92.47539361518815, 106.27056877341151, 99.56165917950771, 92.94112596274472, 89.10722799123545, 89.22679915694009, 98.49550952334486, 86.03932947860024, 92.02719837193492, 82.10588452593633, 81.3262114399797, 162.30726078162536, 127.86184770686553, 111.52553550653919, 329.36818219845617, 148.90977400626159, 121.0392551628838, 123.48341733246332, 973.6094390330284, 153.98411919361283, 570.0858557444764, 552.773651518135, 511.1417137851808, 650.5977025176229, 146.3840164732052, 597.1463091687124, 463.18613006849716, 236.43156274009, 665.5385926428061, 512.7124006178769, 374.207922022194, 359.5917127832283, 303.12663714534995, 615.3471875556667, 305.3388843962028, 212.90131778356957, 196.10277002799924, 450.8198994260066, 272.16129767709435, 575.8848765958342, 209.2529411184936, 231.79955646600945, 243.9034107710258, 272.12673363879463, 257.96179129347223, 469.4104203849371, 274.3121544343374, 296.563296145712, 248.33778982242973, 408.6609625819571, 324.706140856269, 242.21421191110937, 257.05307527197414, 333.521920004759, 135.03050203006654, 142.84284915941154, 126.95109037577319, 169.36054892745412, 109.38191338024419, 140.96704105886036, 98.85679193537872, 106.14732854742711, 96.43727282775468, 91.00716586646867, 154.10701946920616, 88.87501872389876, 163.08631491406638, 240.22059699879117, 75.73888098280793, 187.75473637903963, 73.13318799612485, 71.09440775973447, 69.04293044428766, 88.71390777480327, 57.68707697140581, 57.20809740836723, 56.541070949949166, 78.21015054556753, 53.52062511565331, 123.79865801036655, 382.8556399264407, 205.3974460237128, 227.4309160154816, 243.65119003214764, 168.64602671834206, 269.64425595724003, 591.7862808459473, 607.7762724350061, 652.3758588281531, 728.3543597178247, 185.38498824403987, 208.38897248602115, 324.6074348677781, 167.9399587134216, 146.78025280673216, 302.4870096004341, 293.5015154573512, 353.5985414087817, 1347.3682253468364, 804.3138071025271, 643.8231063757437, 357.40056737965347, 349.4358237560933, 461.6155424496135, 212.33415210846576, 235.62520074650536, 288.7980441917802, 312.85463994669277, 248.38817843187388, 262.04924181214164, 279.41709518397346, 257.5756113366454], \"Total\": [24676.0, 23253.0, 20139.0, 11858.0, 5496.0, 6406.0, 20222.0, 9686.0, 8760.0, 4272.0, 3864.0, 15225.0, 3688.0, 3771.0, 2972.0, 2544.0, 2389.0, 2660.0, 2288.0, 3504.0, 7235.0, 2585.0, 6700.0, 2555.0, 3422.0, 2385.0, 3600.0, 2805.0, 3377.0, 5589.0, 690.5336448198783, 308.8252804146369, 308.5874920979152, 237.1153115371191, 213.216240049894, 590.8899283821354, 210.14239959227172, 233.03331098288038, 218.28917530597664, 429.3890859287037, 169.64547624376257, 133.04383814462184, 118.781873785552, 117.48736730046598, 116.74225295676642, 113.21294100498494, 117.38542558302575, 239.01638646760165, 178.52142616626776, 95.8638057283374, 91.41754493123197, 91.04919246753268, 954.0512470250981, 135.97097523209683, 122.90837656500155, 95.48614737265132, 451.5129893066055, 88.36965278424715, 83.10513780845446, 96.16762874738417, 1023.9358268844313, 357.0374696965739, 549.5180024149349, 489.576303047731, 215.9850001096386, 173.31701716339973, 183.1828382679194, 1004.316061131261, 221.03409835986298, 438.53125680143944, 451.60423479836976, 1436.463260411103, 249.91045183782987, 469.5644567118807, 354.63123298290196, 1297.3295599164608, 825.0562564282412, 581.8477350017954, 2506.8783278541937, 886.2350493420282, 1943.31327818181, 732.3478844882409, 475.8321290526296, 3836.181469366756, 892.3530097157457, 757.4173114805922, 2401.665797982623, 619.3428476857849, 20222.437708185542, 3517.2309274075183, 2047.64551622177, 3678.22357508269, 9686.473919457934, 890.4322089496162, 1229.4033080113927, 23253.394202617394, 20139.036038599024, 11391.462346137887, 6761.9752614121535, 1676.8204014355078, 5629.652185752541, 4349.399561787898, 6700.370109028014, 15225.430040825484, 1434.1837069190533, 1505.425231740092, 7235.318328854254, 1918.1371706761656, 3804.284650349645, 527.2739836513722, 350.8829114426815, 249.9355489247596, 284.6429826084389, 199.98043201046585, 176.99300914475901, 147.29800264210937, 154.65364249726164, 284.9825512832111, 140.20082003774897, 130.33909952529217, 116.59996298575672, 110.60100848282596, 151.52120900727743, 240.29401321028172, 149.97920065287528, 94.59086970715678, 105.96888521739007, 81.13529863451907, 80.54385842209732, 114.88508167436837, 81.99678911587466, 184.33019427289318, 76.37485535748917, 143.7381678485252, 2086.0215634705714, 64.91992290548501, 93.05010364441141, 61.98847943644286, 161.4439520457983, 205.85646829288768, 213.15673036731545, 769.0298276191137, 421.2823699913967, 2846.745896913617, 224.53546519796052, 104.75676265740033, 883.2831162593668, 2507.2889662071775, 786.4636559599495, 755.5556007454746, 191.65416247547012, 11858.683069736457, 665.9282138112363, 585.2493319319997, 655.1434418577285, 7235.318328854254, 1332.6913324204734, 1657.6654210931847, 506.46365485762476, 15225.430040825484, 1400.926333040532, 1669.9249493083605, 2267.203438472762, 3804.284650349645, 685.6945009715687, 352.85843571395395, 552.1916497090583, 438.50876689685913, 2779.7389076183103, 2394.6608640868017, 24676.81723616911, 2589.4621198703226, 1672.0005338952105, 1938.884841528238, 3771.7997669707383, 1708.6839677769733, 1655.777671450739, 2966.549221595663, 11391.462346137887, 20222.437708185542, 3459.808288775878, 23253.394202617394, 1105.9550915373436, 536.8009081182113, 798.3299449609991, 551.1095732482061, 206.1609503125105, 188.07956166522857, 233.939641933639, 159.18700498681258, 148.82942553079872, 144.50268015799935, 144.9186071601636, 129.81357300492462, 126.26580375924983, 123.35969169946135, 117.23820249112228, 115.9584258247034, 118.42967186158646, 106.34429946741746, 106.01043631899044, 102.62056720819567, 98.51470106832882, 108.67079899346284, 95.17172364806828, 87.11869529053911, 83.69497253835407, 116.62752366405635, 118.1043237376174, 75.01172471932271, 74.07611568260323, 80.43248330904713, 1063.742428470475, 121.7485917406463, 104.2531337668424, 156.37081454548434, 479.0277787423958, 564.7367643339809, 226.76243481116347, 247.31589120232064, 132.3630544717215, 655.7872889741545, 509.275804000581, 310.12762813277243, 9686.473919457934, 23253.394202617394, 20139.036038599024, 292.12306355898176, 1162.995542494452, 1339.2952713741481, 474.49070755940056, 5629.652185752541, 20222.437708185542, 3504.7631174845646, 6761.9752614121535, 245.27589844333235, 233.90593303456518, 629.8200043371058, 2764.259028774334, 1505.425231740092, 655.9924341557644, 11391.462346137887, 856.9320014076002, 667.4829862105797, 5816.567255746381, 920.0007053553551, 1375.5392197234787, 4349.399561787898, 2744.5631108475413, 1918.1371706761656, 2506.8783278541937, 2047.64551622177, 2627.8805765581023, 3836.181469366756, 589.1356589531789, 615.5243732449851, 570.2053167493958, 295.89612298306963, 795.2869353919897, 194.48213394045348, 482.67477518148576, 156.99750214327125, 148.58839859995632, 135.66179864610132, 135.65812742635742, 132.95471091744875, 119.99484653013705, 240.02049535943027, 109.66540420889434, 107.98076677255229, 110.58661603458306, 102.74274250750291, 102.563110585396, 89.87951524654748, 91.93884926916915, 240.43027847958612, 124.19440902388612, 87.15136576217311, 148.8401799148372, 242.99013936607307, 81.23069946152935, 83.21249842554704, 596.6582542169909, 121.75000305655999, 1315.7909102005042, 168.21883055387835, 542.3728231391194, 711.6782048118283, 367.62619391745267, 745.4851372661938, 181.9953795304755, 276.9746750492206, 1684.4051673734543, 970.2501319684815, 196.82843562255061, 2254.6177066134037, 236.91667455141587, 1256.2645906826756, 3377.0853277300025, 1756.4158220412785, 2735.474154947622, 474.41248538970933, 3297.870912414315, 537.7499299152507, 860.8269951123459, 912.1591945962622, 601.8721812396678, 2762.049557107673, 1785.0475439554364, 664.1103209933501, 728.3472460109041, 3333.329443027426, 1716.983965608324, 1592.3317951882648, 1606.1952875721045, 1060.6873519878984, 3459.808288775878, 8760.404447296183, 1284.5751400218182, 6406.812328245937, 2366.900973263053, 11391.462346137887, 15225.430040825484, 1272.6943717087934, 7235.318328854254, 11858.683069736457, 24676.81723616911, 2779.7389076183103, 1368.2956499705326, 153.69145410154124, 151.4876368530569, 138.6134214033323, 119.96016468899901, 117.40763390695321, 113.86220321072062, 120.63444560263588, 109.4422268539734, 157.72305124079364, 104.47313335311495, 95.71441139454606, 95.67580635992606, 92.82951371844361, 95.42434924888899, 99.15771655068711, 92.81939289151802, 91.74694672340752, 130.43320942375348, 89.5430913979584, 89.21929835447776, 126.82075025188095, 85.54618737741738, 84.32007513122404, 82.54121102514101, 101.95115107810274, 84.94966745740706, 79.97381515172835, 218.49854017014138, 76.62642597282031, 329.8586008434334, 378.99367405082, 776.0999874166579, 215.55327656961782, 94.54204422785035, 244.35522013153496, 381.68962677836436, 637.4712223547428, 982.3466542658615, 352.5707839136348, 991.8249780407751, 127.86264956821827, 193.298281461745, 148.41724685675285, 208.84405377975702, 360.28110104953817, 679.5521053353518, 796.4850585812184, 1090.6299376905654, 3440.15711466081, 444.7174856264011, 780.0180237381832, 197.28719460848174, 239.31003333126867, 592.7251726451707, 1579.9576543216722, 642.4905265592221, 1870.6229856518796, 1876.6615419897291, 394.4508822015072, 759.6940950085931, 1198.6808989330025, 1413.9995333911334, 1344.7862406007412, 1046.4173313572035, 3600.2457968772933, 1041.757639599232, 3056.4696675669816, 2762.049557107673, 1272.6943717087934, 20139.036038599024, 5816.567255746381, 4349.399561787898, 1938.884841528238, 11391.462346137887, 23253.394202617394, 2805.0697664175113, 1785.0475439554364, 2966.549221595663, 5104.597712846522, 5629.652185752541, 20222.437708185542, 413.7090371509451, 367.13964583929715, 232.24286071839265, 255.68638445337862, 213.82472484395305, 346.8489898641139, 202.04138438003935, 198.01799400522145, 157.8803284504081, 159.19276155824807, 155.3552265572072, 180.3270322088541, 150.82157505898508, 152.30418825488692, 134.18121182402857, 150.34158564536583, 127.4791803620185, 125.66637430872429, 122.29627848906995, 117.42544294085755, 2385.1114761423514, 110.45817140805197, 105.6024233827212, 103.96000806516616, 112.79871706243048, 101.30853772023237, 100.78122899492894, 103.23001657632655, 259.0616773960429, 99.72283304520441, 2585.528926570897, 883.059654623572, 599.7750386623953, 538.2799881566854, 1322.300298821169, 3688.2080598979596, 832.3918519867003, 1157.990096489353, 532.0328096577052, 620.5481742567722, 892.1143391221786, 639.8010198355535, 367.8061026379114, 667.9288877118928, 414.10604170323677, 326.6598034758786, 211.35586113747615, 207.90434474819676, 551.5123694956686, 3422.213898784837, 904.9793476910357, 2805.0697664175113, 1095.24688182672, 325.4967777076158, 731.778699155438, 3600.2457968772933, 710.6902932021251, 663.9603918120669, 6700.370109028014, 24676.81723616911, 20139.036038599024, 23253.394202617394, 11858.683069736457, 20222.437708185542, 6761.9752614121535, 5816.567255746381, 8760.404447296183, 203.58449455078758, 325.2056917456342, 148.2590821399589, 161.22884340920126, 131.83430445826923, 123.79795860251579, 124.32462255939683, 112.96336509245462, 111.49010698157517, 118.42995069942191, 110.67969081908859, 129.53212986719151, 104.66677326990906, 112.66475182246428, 99.94987622005445, 100.10146507727627, 102.49989230944048, 162.84274471524793, 201.98429723823816, 95.98657123057058, 215.21756791348662, 87.7987793637562, 99.08175495401221, 82.20932167360591, 90.89819222965387, 83.4515624923402, 79.39953641261181, 96.96240978529136, 89.24681672122465, 71.21098459599348, 295.48893737017823, 154.82865290203048, 290.2254657270887, 259.74898914030695, 200.33425484708624, 2555.748627540229, 596.3363736157314, 571.7158536063257, 480.68792360290905, 918.9696906951879, 823.4103169574543, 465.0242130983052, 139.99796177750721, 729.0433269681622, 647.0504211637917, 496.4997208355378, 323.6998383947431, 294.55586182180446, 565.1454330058772, 201.93842357603572, 159.66730745416365, 949.9210005351368, 465.59072166831766, 175.97897330512245, 377.00609652214314, 536.4201559369637, 393.51136391846774, 387.15152962558943, 1017.6239391465559, 1391.4145078762597, 541.4219340042459, 3678.22357508269, 2104.250262789699, 3056.4696675669816, 493.65295668652914, 599.8775679408757, 2051.0308779424945, 1066.5392163334488, 2366.900973263053, 11391.462346137887, 940.5641664539602, 1217.873585847451, 1170.1193174091004, 1041.757639599232, 20139.036038599024, 845.1772364441141, 291.24563069876456, 363.4762966165553, 192.95413300623682, 127.15902251145019, 124.68569009948365, 113.39192906974141, 107.32274534163236, 104.23245246671236, 155.28449440723236, 106.35770012056005, 91.73280785461927, 89.27783770536426, 84.49131145731496, 81.29547372854671, 118.79275018101777, 80.80393843393465, 68.88084366198656, 72.37769190658567, 65.75338422618304, 183.8778092083934, 1453.9137483490933, 68.18068550194906, 78.44832755582247, 59.99537314503692, 59.36155441586805, 56.15590603673652, 53.61782728131815, 52.25037186074366, 48.810743830162046, 3864.0161108392494, 230.08383365603385, 4272.585488611374, 883.2075285502666, 828.3115743399497, 171.95480763009206, 5496.439105636205, 338.31904854085303, 153.33169658400644, 1445.0003971609253, 606.3568500535006, 6406.812328245937, 404.1074955555581, 194.86855469893095, 445.4268477774355, 731.0365905555644, 662.5431580234775, 8760.404447296183, 5589.0037034764655, 457.67425338071746, 992.669303512629, 1974.308958802845, 5104.597712846522, 554.5140068023952, 1655.777671450739, 330.7842539427668, 24676.81723616911, 2522.9423411530674, 474.63783960063785, 4531.242820326552, 3297.870912414315, 1034.2219232048133, 1198.6808989330025, 2367.9057528379826, 1980.4071551321422, 2744.5631108475413, 6700.370109028014, 5816.567255746381, 11391.462346137887, 2544.431281882212, 1116.6052544080098, 442.2325754204606, 581.447510477824, 213.24155888766936, 191.89434070226602, 1406.6305655417796, 166.5350362896099, 173.9420614597764, 228.156118437228, 143.24464833008682, 170.5713431962611, 163.97854511153366, 137.84914003567525, 135.66802197236504, 135.09892864689067, 141.8498875716716, 123.64202590722394, 129.31477995064503, 119.68178937498499, 120.463494566047, 110.04093021044507, 150.59760294366765, 173.2943570199517, 98.82533188743746, 106.74581281262414, 96.61230643896512, 111.77910803994517, 83.1995604090587, 83.0451263258052, 219.37969203145707, 109.23290091564535, 1560.5127705990808, 2972.0243553015084, 347.6508172214335, 1839.6965885085278, 156.9609727140697, 3771.7997669707383, 408.4343780300949, 3377.3108645128846, 253.57616766853369, 519.1302817462038, 2508.733548552315, 212.5281475860816, 370.6930141563445, 429.11642567414265, 301.53096424854743, 249.10371484679783, 479.41174072917835, 15225.430040825484, 795.3749343396502, 979.7307277146981, 1043.7555748690677, 306.4409325294774, 23253.394202617394, 20139.036038599024, 2618.0897089697564, 2764.259028774334, 2318.188363311106, 2589.4621198703226, 20222.437708185542, 24676.81723616911, 5816.567255746381, 1519.9968797196466, 2288.994672269102, 2389.130149194236, 433.94324958601476, 306.1154436637776, 1537.3501447080273, 189.96367534990912, 220.72585205402424, 172.0103279406491, 859.7666276772217, 142.71754504723245, 116.4647753257636, 118.48234991088327, 107.7165663004413, 105.50327106626229, 121.46025227054352, 91.27254618337274, 87.07912911770845, 81.4971284958536, 81.62873662951772, 255.62618069101612, 118.41395832317194, 74.72229031585252, 73.84982437734101, 73.59763732697338, 86.7102390686994, 69.90790763222732, 70.71218175979465, 73.35403110794967, 70.04112112120875, 192.65873925405032, 228.86043928552294, 215.70840705808834, 262.6334192743412, 131.9595455314317, 161.0270682579976, 304.33150341438613, 333.1196168666195, 326.59592614481846, 2230.7018424541657, 323.38722539796, 363.97850370880593, 1170.1193174091004, 1560.9656211413246, 2618.0897089697564, 24676.81723616911, 993.2147404133966, 897.5899968173196, 805.4110457195317, 2031.2580493249889, 1032.5626813079793, 997.5061565252641, 2658.653602054663, 757.221208164086, 4531.242820326552, 5104.597712846522, 3804.284650349645, 2830.9145713229514, 956.1492124427908, 3377.3108645128846, 15225.430040825484, 8760.404447296183, 303.0261682620185, 264.8317919484006, 268.8184542421932, 212.6417665073165, 171.98019564448123, 178.2174905395972, 148.57117067440083, 146.01969491588162, 140.1349080773018, 145.69372873405717, 123.38059700114881, 132.28614090075027, 120.1867318592114, 101.74782126393612, 99.57119073217854, 95.88274847575659, 104.94933402336596, 90.62478720332615, 89.00075989095463, 84.61461119681478, 81.9791048559085, 150.10909719327614, 77.98768347421804, 76.7586085231003, 86.80208745562358, 81.17745233750014, 72.99340607549605, 70.87828999375753, 127.57891546330252, 68.56477295122956, 163.5358285361794, 147.0314933783588, 156.17061039668715, 276.4073240635646, 210.29180341780892, 131.32620477270856, 146.60925841905396, 240.78624743081372, 189.9696569807981, 144.36449196516074, 2660.3938396796725, 1421.3890638398882, 1646.7252798232917, 224.6822949819815, 1433.214568103723, 1530.6725428821378, 1229.7666290982634, 606.760555183692, 2266.6828613947755, 2367.9057528379826, 602.9306870835313, 3504.7631174845646, 477.93902035568726, 1551.74514888908, 6700.370109028014, 2618.0897089697564, 24676.81723616911, 486.4748917619774, 1175.2758614169618, 2744.5631108475413, 2627.8805765581023, 366.02155334391995, 6761.9752614121535, 3422.213898784837, 1538.9814197432065, 4531.242820326552, 20222.437708185542, 2830.9145713229514, 11391.462346137887, 1323.3205750321158, 194.23434192246782, 168.75143824179557, 150.37703236882413, 118.77031219441048, 120.76663173312802, 115.4059684629318, 107.20664919656642, 107.50206036231343, 102.5984111038821, 105.0518289303316, 102.81926184863337, 96.66416240614623, 96.55421422854975, 144.31717042291666, 178.82470637144635, 106.03869562406507, 83.93684536207819, 84.2706857750205, 82.64826578001777, 102.50436979521935, 94.94771533848674, 77.16582897725955, 76.47244635781004, 155.92740175412055, 75.70651762636335, 72.76722912148438, 77.45106539526174, 70.13362064076627, 71.17506597507065, 706.8320915690296, 137.4054826272871, 115.68098245291743, 130.20497019861725, 438.377007452954, 298.48826620335996, 166.93179306752475, 218.3518411337056, 147.6528167773346, 176.02491050944374, 546.4306507346867, 1013.5799307469945, 192.28949519889773, 579.2562889741599, 1286.2064194771622, 210.28722248612644, 341.2306494380621, 417.75497399270785, 282.6730382037796, 657.6178854076315, 1316.464861383933, 782.1808229372436, 196.5658619819383, 1281.9674964484243, 1340.8465400359325, 432.2872911069229, 1330.1121485582955, 2547.1313677662433, 24676.81723616911, 294.4795642881987, 3333.329443027426, 688.5545783470851, 979.7307277146981, 940.5641664539602, 426.94000120220284, 737.0934399646981, 795.3749343396502, 15225.430040825484, 1114.6652437065866, 3422.213898784837, 235.1981847228652, 209.26692117672945, 261.6071900528565, 447.5865208694567, 147.60320011260663, 200.94141334085919, 144.95782802159133, 140.78591035731074, 203.1712715991506, 147.82664474952463, 121.05540555583426, 108.61693471253366, 103.74303191477911, 97.04868685814989, 97.66758457232834, 96.92935591510096, 99.4007387933047, 93.22912061085943, 92.31146103817801, 89.06781242615575, 89.11681492034903, 144.08380838177095, 85.90593065614053, 85.01604866577124, 493.03955832716576, 84.00141600099367, 83.08653695064872, 80.35547449508164, 81.25322430542232, 76.89151566245502, 107.85937948150348, 223.5257719008558, 110.2577858459412, 178.2866271619416, 143.6075759343614, 119.33268168060029, 469.8212907044907, 95.86667581940283, 153.03299476927907, 1293.1644041705044, 525.9463268301243, 2296.0422328504337, 308.0422769820591, 217.07728402955118, 390.076719516783, 244.24142032104956, 285.6414329809424, 524.4861617002474, 429.2315495276978, 201.2866896818289, 1013.3174681728683, 441.29699087298326, 310.30518364621673, 24676.81723616911, 306.2433555109638, 2830.9145713229514, 637.9477849328713, 475.3661481304629, 5104.597712846522, 4531.242820326552, 3459.808288775878, 15225.430040825484, 1281.9674964484243, 805.4110457195317, 925.2744017288705, 1208.3588463754159, 599.9926200084647, 23253.394202617394, 2547.1313677662433, 230.0811549367452, 220.42240624442945, 306.22806984177544, 199.85479179363966, 181.89540995674096, 485.50673112807056, 185.66494524655567, 153.0838800289718, 135.48930994269492, 130.10924246587425, 146.2493944385187, 107.16813465097957, 97.77020080991751, 102.98770841109273, 94.37719273962891, 98.2031843709512, 89.2996120386077, 128.98967952127833, 87.6595161607299, 296.0388259753763, 130.44682654045909, 83.67095965545167, 83.14862901546988, 119.7936743232075, 409.342571300995, 74.93559690578525, 73.79088379398684, 68.99481284596303, 67.83410427915018, 68.85959358569453, 107.84560024433743, 255.8220742745605, 1865.3236059661215, 516.7218628447602, 85.5471907404196, 278.26406044712917, 223.80237356857066, 322.73687560682055, 1175.1034218566158, 318.1697286313398, 344.23101528911417, 143.1283421237128, 2051.0308779424945, 851.0660167687837, 153.34692960862247, 585.1327448740452, 532.7679266846261, 598.5263882422071, 1391.4145078762597, 2522.9423411530674, 920.0007053553551, 2547.1313677662433, 1019.9581214345395, 2296.0422328504337, 781.3043258918914, 23253.394202617394, 777.0886456441431, 15225.430040825484, 6761.9752614121535, 20139.036038599024, 2104.250262789699, 1551.74514888908, 11391.462346137887, 459.2014638833694, 396.7638817660736, 395.9479712065479, 322.4775391036971, 272.51110501398676, 246.59390524383352, 420.89921614789637, 147.9858984023404, 150.9095615538897, 161.50316935115345, 131.51189065313272, 149.38977014906035, 144.51202798366867, 128.8834170666678, 121.85232638601298, 109.05795312412357, 106.68820438425978, 218.24922807009176, 94.22649302049385, 93.53814005623035, 107.4986695024853, 100.71859798510327, 94.04432754373019, 90.17571856307761, 90.29915969941719, 99.70238882840637, 87.10217856526643, 93.21828575176765, 83.1693926012192, 82.38895776305921, 164.50219859664097, 129.75193973490053, 113.18231975904123, 340.6846191967447, 152.2009760639385, 123.47659749728173, 126.14539783364016, 1091.4889032308236, 159.7924557907933, 636.2919166078944, 615.8282225896977, 566.8667024767087, 743.5556223102203, 151.66070646184832, 713.7010205802654, 549.8888846630164, 268.0954822501904, 995.9697642166224, 747.6162711342998, 522.9269718698969, 508.4823009484979, 415.7701981034465, 1208.3588463754159, 448.89266056263756, 260.539456274365, 236.08095248996344, 1348.5208509392191, 491.8668859426041, 2609.953793296109, 296.1202184789147, 387.3745740140038, 451.90430845748443, 656.2838303580767, 588.8459554452211, 24676.81723616911, 979.6950708792812, 4272.585488611374, 828.4059528378289, 409.7434999067629, 325.795392146011, 243.3746368452561, 258.3811886916003, 335.4002469767366, 136.09057667074876, 143.99912789340357, 128.01116482540053, 170.85488943518507, 110.44210655178085, 142.41036006572452, 99.9253156922619, 107.30760158178299, 97.49734716503035, 92.07338744457614, 155.9246093506858, 89.9455049163376, 165.0586101823563, 243.4958107106821, 76.79895526861289, 190.50055127565997, 74.2149209814061, 72.15703370533161, 70.10300566878189, 90.19996650351413, 58.75010453198861, 58.27123451839538, 57.60114529330634, 79.7062434093963, 54.58069950154684, 126.37367542541894, 395.6641494889207, 212.64510524462486, 236.41735871566863, 256.32644528208203, 175.5373732514742, 284.79941824805957, 671.9743457736255, 730.7024888572444, 831.2709341191369, 1046.5028951825561, 218.50753546501943, 259.17202595210864, 483.03601746307834, 211.58939034181603, 175.64508832287734, 599.9926200084647, 578.3484441247286, 950.1368350687576, 24676.81723616911, 8760.404447296183, 5496.439105636205, 1316.464861383933, 1373.8981194943317, 2966.549221595663, 471.39176732586714, 856.9320014076002, 2508.733548552315, 6406.812328245937, 1708.6839677769733, 4531.242820326552, 11858.683069736457, 11391.462346137887], \"Category\": [\"Default\", \"Default\", \"Default\", \"Default\", \"Default\", \"Default\", \"Default\", \"Default\", \"Default\", \"Default\", \"Default\", \"Default\", \"Default\", \"Default\", \"Default\", \"Default\", \"Default\", \"Default\", \"Default\", \"Default\", \"Default\", \"Default\", \"Default\", \"Default\", \"Default\", \"Default\", \"Default\", \"Default\", \"Default\", \"Default\", \"Topic1\", \"Topic1\", \"Topic1\", \"Topic1\", \"Topic1\", \"Topic1\", \"Topic1\", \"Topic1\", \"Topic1\", \"Topic1\", \"Topic1\", \"Topic1\", \"Topic1\", \"Topic1\", \"Topic1\", \"Topic1\", \"Topic1\", \"Topic1\", \"Topic1\", \"Topic1\", \"Topic1\", \"Topic1\", \"Topic1\", \"Topic1\", \"Topic1\", \"Topic1\", \"Topic1\", \"Topic1\", \"Topic1\", \"Topic1\", \"Topic1\", \"Topic1\", \"Topic1\", \"Topic1\", \"Topic1\", \"Topic1\", \"Topic1\", \"Topic1\", \"Topic1\", \"Topic1\", \"Topic1\", \"Topic1\", \"Topic1\", \"Topic1\", \"Topic1\", \"Topic1\", \"Topic1\", \"Topic1\", \"Topic1\", \"Topic1\", \"Topic1\", \"Topic1\", \"Topic1\", \"Topic1\", \"Topic1\", \"Topic1\", \"Topic1\", \"Topic1\", \"Topic1\", \"Topic1\", \"Topic1\", \"Topic1\", \"Topic1\", \"Topic1\", \"Topic1\", \"Topic1\", \"Topic1\", \"Topic1\", \"Topic1\", \"Topic1\", \"Topic1\", \"Topic1\", \"Topic1\", \"Topic1\", \"Topic1\", \"Topic1\", \"Topic1\", \"Topic1\", \"Topic1\", \"Topic2\", \"Topic2\", \"Topic2\", \"Topic2\", \"Topic2\", \"Topic2\", \"Topic2\", \"Topic2\", \"Topic2\", \"Topic2\", \"Topic2\", \"Topic2\", \"Topic2\", \"Topic2\", \"Topic2\", \"Topic2\", \"Topic2\", \"Topic2\", \"Topic2\", \"Topic2\", \"Topic2\", \"Topic2\", \"Topic2\", \"Topic2\", \"Topic2\", \"Topic2\", \"Topic2\", \"Topic2\", \"Topic2\", \"Topic2\", \"Topic2\", \"Topic2\", \"Topic2\", \"Topic2\", \"Topic2\", \"Topic2\", \"Topic2\", \"Topic2\", \"Topic2\", \"Topic2\", \"Topic2\", \"Topic2\", \"Topic2\", \"Topic2\", \"Topic2\", \"Topic2\", \"Topic2\", \"Topic2\", \"Topic2\", \"Topic2\", \"Topic2\", \"Topic2\", \"Topic2\", \"Topic2\", \"Topic2\", \"Topic2\", \"Topic2\", \"Topic2\", \"Topic2\", \"Topic2\", \"Topic2\", \"Topic2\", \"Topic2\", \"Topic2\", \"Topic2\", \"Topic2\", \"Topic2\", \"Topic2\", \"Topic2\", \"Topic2\", \"Topic2\", \"Topic2\", \"Topic2\", \"Topic3\", \"Topic3\", \"Topic3\", \"Topic3\", \"Topic3\", \"Topic3\", \"Topic3\", \"Topic3\", \"Topic3\", \"Topic3\", \"Topic3\", \"Topic3\", \"Topic3\", \"Topic3\", \"Topic3\", \"Topic3\", \"Topic3\", \"Topic3\", \"Topic3\", \"Topic3\", \"Topic3\", \"Topic3\", \"Topic3\", \"Topic3\", \"Topic3\", \"Topic3\", \"Topic3\", \"Topic3\", \"Topic3\", \"Topic3\", \"Topic3\", \"Topic3\", \"Topic3\", \"Topic3\", \"Topic3\", \"Topic3\", \"Topic3\", \"Topic3\", \"Topic3\", \"Topic3\", \"Topic3\", \"Topic3\", \"Topic3\", \"Topic3\", \"Topic3\", \"Topic3\", \"Topic3\", \"Topic3\", \"Topic3\", \"Topic3\", \"Topic3\", \"Topic3\", \"Topic3\", \"Topic3\", \"Topic3\", \"Topic3\", \"Topic3\", \"Topic3\", \"Topic3\", \"Topic3\", \"Topic3\", \"Topic3\", \"Topic3\", \"Topic3\", \"Topic3\", \"Topic3\", \"Topic3\", \"Topic3\", \"Topic3\", \"Topic3\", \"Topic3\", \"Topic3\", \"Topic4\", \"Topic4\", \"Topic4\", \"Topic4\", \"Topic4\", \"Topic4\", \"Topic4\", \"Topic4\", \"Topic4\", \"Topic4\", \"Topic4\", \"Topic4\", \"Topic4\", \"Topic4\", \"Topic4\", \"Topic4\", \"Topic4\", \"Topic4\", \"Topic4\", \"Topic4\", \"Topic4\", \"Topic4\", \"Topic4\", \"Topic4\", \"Topic4\", \"Topic4\", \"Topic4\", \"Topic4\", \"Topic4\", \"Topic4\", \"Topic4\", \"Topic4\", \"Topic4\", \"Topic4\", \"Topic4\", \"Topic4\", \"Topic4\", \"Topic4\", \"Topic4\", \"Topic4\", \"Topic4\", \"Topic4\", \"Topic4\", \"Topic4\", \"Topic4\", \"Topic4\", \"Topic4\", \"Topic4\", \"Topic4\", \"Topic4\", \"Topic4\", \"Topic4\", \"Topic4\", \"Topic4\", \"Topic4\", \"Topic4\", \"Topic4\", \"Topic4\", \"Topic4\", \"Topic4\", \"Topic4\", \"Topic4\", \"Topic4\", \"Topic4\", \"Topic4\", \"Topic4\", \"Topic4\", \"Topic4\", \"Topic4\", \"Topic4\", \"Topic4\", \"Topic4\", \"Topic4\", \"Topic4\", \"Topic5\", \"Topic5\", \"Topic5\", \"Topic5\", \"Topic5\", \"Topic5\", \"Topic5\", \"Topic5\", \"Topic5\", \"Topic5\", \"Topic5\", \"Topic5\", \"Topic5\", \"Topic5\", \"Topic5\", \"Topic5\", \"Topic5\", \"Topic5\", \"Topic5\", \"Topic5\", \"Topic5\", \"Topic5\", \"Topic5\", \"Topic5\", \"Topic5\", \"Topic5\", \"Topic5\", \"Topic5\", \"Topic5\", \"Topic5\", \"Topic5\", \"Topic5\", \"Topic5\", \"Topic5\", \"Topic5\", \"Topic5\", \"Topic5\", \"Topic5\", \"Topic5\", \"Topic5\", \"Topic5\", \"Topic5\", \"Topic5\", \"Topic5\", \"Topic5\", \"Topic5\", \"Topic5\", \"Topic5\", \"Topic5\", \"Topic5\", \"Topic5\", \"Topic5\", \"Topic5\", \"Topic5\", \"Topic5\", \"Topic5\", \"Topic5\", \"Topic5\", \"Topic5\", \"Topic5\", \"Topic5\", \"Topic5\", \"Topic5\", \"Topic5\", \"Topic5\", \"Topic5\", \"Topic5\", \"Topic5\", \"Topic5\", \"Topic5\", \"Topic5\", \"Topic5\", \"Topic5\", \"Topic5\", \"Topic5\", \"Topic5\", \"Topic5\", \"Topic5\", \"Topic5\", \"Topic5\", \"Topic5\", \"Topic5\", \"Topic6\", \"Topic6\", \"Topic6\", \"Topic6\", \"Topic6\", \"Topic6\", \"Topic6\", \"Topic6\", \"Topic6\", \"Topic6\", \"Topic6\", \"Topic6\", \"Topic6\", \"Topic6\", \"Topic6\", \"Topic6\", \"Topic6\", \"Topic6\", \"Topic6\", \"Topic6\", \"Topic6\", \"Topic6\", \"Topic6\", \"Topic6\", \"Topic6\", \"Topic6\", \"Topic6\", \"Topic6\", \"Topic6\", \"Topic6\", \"Topic6\", \"Topic6\", \"Topic6\", \"Topic6\", \"Topic6\", \"Topic6\", \"Topic6\", \"Topic6\", \"Topic6\", \"Topic6\", \"Topic6\", \"Topic6\", \"Topic6\", \"Topic6\", \"Topic6\", \"Topic6\", \"Topic6\", \"Topic6\", \"Topic6\", \"Topic6\", \"Topic6\", \"Topic6\", \"Topic6\", \"Topic6\", \"Topic6\", \"Topic6\", \"Topic6\", \"Topic6\", \"Topic6\", \"Topic6\", \"Topic6\", \"Topic6\", \"Topic6\", \"Topic6\", \"Topic6\", \"Topic6\", \"Topic6\", \"Topic7\", \"Topic7\", \"Topic7\", \"Topic7\", \"Topic7\", \"Topic7\", \"Topic7\", \"Topic7\", \"Topic7\", \"Topic7\", \"Topic7\", \"Topic7\", \"Topic7\", \"Topic7\", \"Topic7\", \"Topic7\", \"Topic7\", \"Topic7\", \"Topic7\", \"Topic7\", \"Topic7\", \"Topic7\", \"Topic7\", \"Topic7\", \"Topic7\", \"Topic7\", \"Topic7\", \"Topic7\", \"Topic7\", \"Topic7\", \"Topic7\", \"Topic7\", \"Topic7\", \"Topic7\", \"Topic7\", \"Topic7\", \"Topic7\", \"Topic7\", \"Topic7\", \"Topic7\", \"Topic7\", \"Topic7\", \"Topic7\", \"Topic7\", \"Topic7\", \"Topic7\", \"Topic7\", \"Topic7\", \"Topic7\", \"Topic7\", \"Topic7\", \"Topic7\", \"Topic7\", \"Topic7\", \"Topic7\", \"Topic7\", \"Topic7\", \"Topic7\", \"Topic7\", \"Topic7\", \"Topic7\", \"Topic7\", \"Topic7\", \"Topic7\", \"Topic7\", \"Topic7\", \"Topic7\", \"Topic7\", \"Topic7\", \"Topic7\", \"Topic7\", \"Topic7\", \"Topic7\", \"Topic7\", \"Topic7\", \"Topic8\", \"Topic8\", \"Topic8\", \"Topic8\", \"Topic8\", \"Topic8\", \"Topic8\", \"Topic8\", \"Topic8\", \"Topic8\", \"Topic8\", \"Topic8\", \"Topic8\", \"Topic8\", \"Topic8\", \"Topic8\", \"Topic8\", \"Topic8\", \"Topic8\", \"Topic8\", \"Topic8\", \"Topic8\", \"Topic8\", \"Topic8\", \"Topic8\", \"Topic8\", \"Topic8\", \"Topic8\", \"Topic8\", \"Topic8\", \"Topic8\", \"Topic8\", \"Topic8\", \"Topic8\", \"Topic8\", \"Topic8\", \"Topic8\", \"Topic8\", \"Topic8\", \"Topic8\", \"Topic8\", \"Topic8\", \"Topic8\", \"Topic8\", \"Topic8\", \"Topic8\", \"Topic8\", \"Topic8\", \"Topic8\", \"Topic8\", \"Topic8\", \"Topic8\", \"Topic8\", \"Topic8\", \"Topic8\", \"Topic8\", \"Topic8\", \"Topic8\", \"Topic8\", \"Topic8\", \"Topic8\", \"Topic8\", \"Topic8\", \"Topic8\", \"Topic8\", \"Topic8\", \"Topic8\", \"Topic8\", \"Topic8\", \"Topic9\", \"Topic9\", \"Topic9\", \"Topic9\", \"Topic9\", \"Topic9\", \"Topic9\", \"Topic9\", \"Topic9\", \"Topic9\", \"Topic9\", \"Topic9\", \"Topic9\", \"Topic9\", \"Topic9\", \"Topic9\", \"Topic9\", \"Topic9\", \"Topic9\", \"Topic9\", \"Topic9\", \"Topic9\", \"Topic9\", \"Topic9\", \"Topic9\", \"Topic9\", \"Topic9\", \"Topic9\", \"Topic9\", \"Topic9\", \"Topic9\", \"Topic9\", \"Topic9\", \"Topic9\", \"Topic9\", \"Topic9\", \"Topic9\", \"Topic9\", \"Topic9\", \"Topic9\", \"Topic9\", \"Topic9\", \"Topic9\", \"Topic9\", \"Topic9\", \"Topic9\", \"Topic9\", \"Topic9\", \"Topic9\", \"Topic9\", \"Topic9\", \"Topic9\", \"Topic9\", \"Topic9\", \"Topic9\", \"Topic9\", \"Topic9\", \"Topic9\", \"Topic9\", \"Topic9\", \"Topic9\", \"Topic9\", \"Topic9\", \"Topic10\", \"Topic10\", \"Topic10\", \"Topic10\", \"Topic10\", \"Topic10\", \"Topic10\", \"Topic10\", \"Topic10\", \"Topic10\", \"Topic10\", \"Topic10\", \"Topic10\", \"Topic10\", \"Topic10\", \"Topic10\", \"Topic10\", \"Topic10\", \"Topic10\", \"Topic10\", \"Topic10\", \"Topic10\", \"Topic10\", \"Topic10\", \"Topic10\", \"Topic10\", \"Topic10\", \"Topic10\", \"Topic10\", \"Topic10\", \"Topic10\", \"Topic10\", \"Topic10\", \"Topic10\", \"Topic10\", \"Topic10\", \"Topic10\", \"Topic10\", \"Topic10\", \"Topic10\", \"Topic10\", \"Topic10\", \"Topic10\", \"Topic10\", \"Topic10\", \"Topic10\", \"Topic10\", \"Topic10\", \"Topic10\", \"Topic10\", \"Topic10\", \"Topic10\", \"Topic10\", \"Topic10\", \"Topic10\", \"Topic10\", \"Topic10\", \"Topic10\", \"Topic10\", \"Topic10\", \"Topic10\", \"Topic10\", \"Topic11\", \"Topic11\", \"Topic11\", \"Topic11\", \"Topic11\", \"Topic11\", \"Topic11\", \"Topic11\", \"Topic11\", \"Topic11\", \"Topic11\", \"Topic11\", \"Topic11\", \"Topic11\", \"Topic11\", \"Topic11\", \"Topic11\", \"Topic11\", \"Topic11\", \"Topic11\", \"Topic11\", \"Topic11\", \"Topic11\", \"Topic11\", \"Topic11\", \"Topic11\", \"Topic11\", \"Topic11\", \"Topic11\", \"Topic11\", \"Topic11\", \"Topic11\", \"Topic11\", \"Topic11\", \"Topic11\", \"Topic11\", \"Topic11\", \"Topic11\", \"Topic11\", \"Topic11\", \"Topic11\", \"Topic11\", \"Topic11\", \"Topic11\", \"Topic11\", \"Topic11\", \"Topic11\", \"Topic11\", \"Topic11\", \"Topic11\", \"Topic11\", \"Topic11\", \"Topic11\", \"Topic11\", \"Topic11\", \"Topic11\", \"Topic11\", \"Topic11\", \"Topic11\", \"Topic11\", \"Topic11\", \"Topic11\", \"Topic11\", \"Topic11\", \"Topic11\", \"Topic11\", \"Topic11\", \"Topic11\", \"Topic11\", \"Topic12\", \"Topic12\", \"Topic12\", \"Topic12\", \"Topic12\", \"Topic12\", \"Topic12\", \"Topic12\", \"Topic12\", \"Topic12\", \"Topic12\", \"Topic12\", \"Topic12\", \"Topic12\", \"Topic12\", \"Topic12\", \"Topic12\", \"Topic12\", \"Topic12\", \"Topic12\", \"Topic12\", \"Topic12\", \"Topic12\", \"Topic12\", \"Topic12\", \"Topic12\", \"Topic12\", \"Topic12\", \"Topic12\", \"Topic12\", \"Topic12\", \"Topic12\", \"Topic12\", \"Topic12\", \"Topic12\", \"Topic12\", \"Topic12\", \"Topic12\", \"Topic12\", \"Topic12\", \"Topic12\", \"Topic12\", \"Topic12\", \"Topic12\", \"Topic12\", \"Topic12\", \"Topic12\", \"Topic12\", \"Topic12\", \"Topic12\", \"Topic12\", \"Topic12\", \"Topic12\", \"Topic12\", \"Topic12\", \"Topic12\", \"Topic12\", \"Topic12\", \"Topic12\", \"Topic12\", \"Topic12\", \"Topic12\", \"Topic12\", \"Topic12\", \"Topic12\", \"Topic12\", \"Topic12\", \"Topic12\", \"Topic12\", \"Topic12\", \"Topic13\", \"Topic13\", \"Topic13\", \"Topic13\", \"Topic13\", \"Topic13\", \"Topic13\", \"Topic13\", \"Topic13\", \"Topic13\", \"Topic13\", \"Topic13\", \"Topic13\", \"Topic13\", \"Topic13\", \"Topic13\", \"Topic13\", \"Topic13\", \"Topic13\", \"Topic13\", \"Topic13\", \"Topic13\", \"Topic13\", \"Topic13\", \"Topic13\", \"Topic13\", \"Topic13\", \"Topic13\", \"Topic13\", \"Topic13\", \"Topic13\", \"Topic13\", \"Topic13\", \"Topic13\", \"Topic13\", \"Topic13\", \"Topic13\", \"Topic13\", \"Topic13\", \"Topic13\", \"Topic13\", \"Topic13\", \"Topic13\", \"Topic13\", \"Topic13\", \"Topic13\", \"Topic13\", \"Topic13\", \"Topic13\", \"Topic13\", \"Topic13\", \"Topic13\", \"Topic13\", \"Topic13\", \"Topic13\", \"Topic13\", \"Topic13\", \"Topic13\", \"Topic13\", \"Topic13\", \"Topic13\", \"Topic13\", \"Topic13\", \"Topic13\", \"Topic13\", \"Topic13\", \"Topic13\", \"Topic13\", \"Topic13\", \"Topic14\", \"Topic14\", \"Topic14\", \"Topic14\", \"Topic14\", \"Topic14\", \"Topic14\", \"Topic14\", \"Topic14\", \"Topic14\", \"Topic14\", \"Topic14\", \"Topic14\", \"Topic14\", \"Topic14\", \"Topic14\", \"Topic14\", \"Topic14\", \"Topic14\", \"Topic14\", \"Topic14\", \"Topic14\", \"Topic14\", \"Topic14\", \"Topic14\", \"Topic14\", \"Topic14\", \"Topic14\", \"Topic14\", \"Topic14\", \"Topic14\", \"Topic14\", \"Topic14\", \"Topic14\", \"Topic14\", \"Topic14\", \"Topic14\", \"Topic14\", \"Topic14\", \"Topic14\", \"Topic14\", \"Topic14\", \"Topic14\", \"Topic14\", \"Topic14\", \"Topic14\", \"Topic14\", \"Topic14\", \"Topic14\", \"Topic14\", \"Topic14\", \"Topic14\", \"Topic14\", \"Topic14\", \"Topic14\", \"Topic14\", \"Topic14\", \"Topic14\", \"Topic14\", \"Topic14\", \"Topic14\", \"Topic14\", \"Topic14\", \"Topic15\", \"Topic15\", \"Topic15\", \"Topic15\", \"Topic15\", \"Topic15\", \"Topic15\", \"Topic15\", \"Topic15\", \"Topic15\", \"Topic15\", \"Topic15\", \"Topic15\", \"Topic15\", \"Topic15\", \"Topic15\", \"Topic15\", \"Topic15\", \"Topic15\", \"Topic15\", \"Topic15\", \"Topic15\", \"Topic15\", \"Topic15\", \"Topic15\", \"Topic15\", \"Topic15\", \"Topic15\", \"Topic15\", \"Topic15\", \"Topic15\", \"Topic15\", \"Topic15\", \"Topic15\", \"Topic15\", \"Topic15\", \"Topic15\", \"Topic15\", \"Topic15\", \"Topic15\", \"Topic15\", \"Topic15\", \"Topic15\", \"Topic15\", \"Topic15\", \"Topic15\", \"Topic15\", \"Topic15\", \"Topic15\", \"Topic15\", \"Topic15\", \"Topic15\", \"Topic15\", \"Topic15\", \"Topic15\", \"Topic15\", \"Topic15\", \"Topic15\", \"Topic15\", \"Topic15\", \"Topic15\", \"Topic15\", \"Topic15\", \"Topic15\", \"Topic15\", \"Topic15\", \"Topic15\", \"Topic15\", \"Topic16\", \"Topic16\", \"Topic16\", \"Topic16\", \"Topic16\", \"Topic16\", \"Topic16\", \"Topic16\", \"Topic16\", \"Topic16\", \"Topic16\", \"Topic16\", \"Topic16\", \"Topic16\", \"Topic16\", \"Topic16\", \"Topic16\", \"Topic16\", \"Topic16\", \"Topic16\", \"Topic16\", \"Topic16\", \"Topic16\", \"Topic16\", \"Topic16\", \"Topic16\", \"Topic16\", \"Topic16\", \"Topic16\", \"Topic16\", \"Topic16\", \"Topic16\", \"Topic16\", \"Topic16\", \"Topic16\", \"Topic16\", \"Topic16\", \"Topic16\", \"Topic16\", \"Topic16\", \"Topic16\", \"Topic16\", \"Topic16\", \"Topic16\", \"Topic16\", \"Topic16\", \"Topic16\", \"Topic16\", \"Topic16\", \"Topic16\", \"Topic16\", \"Topic16\", \"Topic16\", \"Topic16\", \"Topic16\", \"Topic16\", \"Topic16\", \"Topic16\", \"Topic16\", \"Topic16\", \"Topic16\", \"Topic16\", \"Topic16\"], \"logprob\": [30.0, 29.0, 28.0, 27.0, 26.0, 25.0, 24.0, 23.0, 22.0, 21.0, 20.0, 19.0, 18.0, 17.0, 16.0, 15.0, 14.0, 13.0, 12.0, 11.0, 10.0, 9.0, 8.0, 7.0, 6.0, 5.0, 4.0, 3.0, 2.0, 1.0, -5.3831, -6.1879, -6.1898, -6.4535, -6.5598, -5.5408, -6.5748, -6.4721, -6.5383, -5.8622, -6.7916, -7.0351, -7.1489, -7.16, -7.1664, -7.1974, -7.1619, -6.4515, -6.7441, -7.3659, -7.4135, -7.4176, -5.0686, -7.0169, -7.118, -7.3707, -5.8172, -7.4485, -7.51, -7.3642, -5.002, -6.0527, -5.6286, -5.7458, -6.5561, -6.7784, -6.7237, -5.0489, -6.5387, -5.8821, -5.854, -4.7362, -6.4311, -5.8283, -6.1009, -4.8835, -5.3151, -5.6676, -4.3411, -5.2912, -4.5854, -5.4719, -5.8589, -4.054, -5.3232, -5.4832, -4.5358, -5.6689, -2.9419, -4.3608, -4.822, -4.4573, -3.8114, -5.4474, -5.2521, -3.541, -3.7877, -4.3531, -4.6369, -5.2591, -4.8272, -4.93, -4.7893, -4.7187, -5.3537, -5.3474, -5.2124, -5.3384, -5.3464, -5.4751, -5.8833, -6.2242, -6.0946, -6.4478, -6.5706, -6.7555, -6.7069, -6.0958, -6.8057, -6.8789, -6.9915, -7.0446, -6.73, -6.2692, -6.7412, -7.2025, -7.0896, -7.3579, -7.3652, -7.0108, -7.3483, -6.5384, -7.4196, -6.7878, -4.1142, -7.5842, -7.2249, -7.6311, -6.6739, -6.4317, -6.4006, -5.1453, -5.7432, -3.8894, -6.3653, -7.1086, -5.0546, -4.0573, -5.1867, -5.2522, -6.5326, -2.7115, -5.3819, -5.5036, -5.4035, -3.3003, -4.8017, -4.6102, -5.6913, -2.9186, -4.8973, -4.8488, -4.6188, -4.3344, -5.5664, -6.0467, -5.7425, -5.9103, -4.8173, -4.9086, -3.5751, -4.9194, -5.1714, -5.1198, -4.81, -5.1917, -5.2104, -4.9793, -4.6242, -4.8785, -5.2502, -5.2536, -4.7063, -5.4296, -5.0327, -5.4035, -6.3896, -6.4819, -6.2647, -6.6497, -6.7175, -6.7472, -6.7444, -6.8554, -6.8832, -6.9067, -6.958, -6.9691, -6.9485, -7.0565, -7.0596, -7.0925, -7.1338, -7.0359, -7.1687, -7.2581, -7.2987, -6.9672, -6.9552, -7.4098, -7.4225, -7.341, -4.763, -6.9282, -7.0828, -6.6829, -5.6194, -5.474, -6.3446, -6.2695, -6.8592, -5.4135, -5.6509, -6.1017, -3.0636, -2.3423, -2.4805, -6.1636, -4.984, -4.8835, -5.7724, -3.7041, -2.7708, -4.2264, -3.8309, -6.3674, -6.4038, -5.7255, -4.8073, -5.217, -5.7855, -4.104, -5.663, -5.7944, -4.754, -5.6582, -5.4914, -5.0515, -5.2384, -5.4217, -5.4019, -5.4739, -5.4932, -5.4739, -5.3129, -5.2692, -5.3466, -6.0031, -5.0146, -6.4246, -5.5164, -6.6402, -6.6956, -6.7872, -6.7872, -6.8076, -6.9109, -6.218, -7.0018, -7.0174, -6.9936, -7.0677, -7.0694, -7.2029, -7.1805, -6.2195, -6.8802, -7.2346, -6.6994, -6.2095, -7.3054, -7.2814, -5.3116, -6.901, -4.5326, -6.578, -5.4226, -5.1604, -5.81, -5.1211, -6.5062, -6.1007, -4.3538, -4.8884, -6.4382, -4.1114, -6.2626, -4.6891, -3.7728, -4.3979, -4.0275, -5.6452, -3.9679, -5.5578, -5.1639, -5.1157, -5.4782, -4.2211, -4.6586, -5.4419, -5.3719, -4.2264, -4.7645, -4.8181, -4.8212, -5.1126, -4.4331, -3.8844, -5.0545, -4.3191, -4.7839, -4.4301, -4.619, -5.2081, -4.9936, -4.9444, -5.0012, -5.1567, -4.2561, -6.4457, -6.4605, -6.5503, -6.6953, -6.7169, -6.7479, -6.6904, -6.788, -6.423, -6.8351, -6.9232, -6.9236, -6.9542, -6.9267, -6.8883, -6.9544, -6.966, -6.6144, -6.9907, -6.9943, -6.643, -7.0368, -7.0515, -7.0731, -6.862, -7.0447, -7.1051, -6.1002, -7.1484, -5.6929, -5.556, -4.8469, -6.1152, -6.9385, -6.0092, -5.5844, -5.0984, -4.7133, -5.6944, -4.7231, -6.6514, -6.2631, -6.5139, -6.1964, -5.6976, -5.1158, -4.9977, -4.7512, -3.7443, -5.5534, -5.0817, -6.2682, -6.1069, -5.3475, -4.5433, -5.324, -4.512, -4.5104, -5.7294, -5.2355, -4.9251, -4.8109, -4.9149, -5.0995, -4.2787, -5.1329, -4.5263, -4.5948, -5.065, -3.6854, -4.329, -4.5061, -4.9075, -4.2829, -4.055, -4.8926, -5.0258, -4.9457, -4.8737, -4.9236, -4.8992, -5.3648, -5.4843, -5.9423, -5.8463, -6.0254, -5.5418, -6.0827, -6.1033, -6.3304, -6.3221, -6.3466, -6.1976, -6.3764, -6.3668, -6.4942, -6.3805, -6.546, -6.5605, -6.5877, -6.6294, -3.6183, -6.6906, -6.7359, -6.7517, -6.6702, -6.7778, -6.7831, -6.7591, -5.8392, -6.7945, -3.5496, -4.6214, -5.015, -5.1225, -4.2424, -3.2388, -4.6983, -4.3766, -5.1466, -4.9962, -4.6449, -4.9826, -5.5216, -4.9588, -5.414, -5.6473, -6.0573, -6.0763, -5.1789, -3.5155, -4.7341, -3.7547, -4.6593, -5.6815, -5.0032, -3.7744, -5.1314, -5.189, -3.7151, -3.7119, -3.9358, -3.9154, -4.1954, -4.0564, -4.4518, -4.5303, -4.9283, -6.0179, -5.5497, -6.337, -6.2534, -6.4554, -6.5188, -6.515, -6.6111, -6.6243, -6.564, -6.632, -6.4748, -6.6881, -6.6145, -6.7347, -6.7333, -6.7097, -6.247, -6.0316, -6.7758, -5.9691, -6.8659, -6.745, -6.9324, -6.8319, -6.9176, -6.9676, -6.7688, -6.8517, -7.078, -5.66, -6.3033, -5.6817, -5.792, -6.0498, -3.5437, -4.9721, -5.0199, -5.1919, -4.5604, -4.6683, -5.2314, -6.4071, -4.8243, -4.9396, -5.1951, -5.6142, -5.7171, -5.1119, -6.0767, -6.2883, -4.6947, -5.352, -6.2074, -5.5712, -5.289, -5.5478, -5.5837, -4.8397, -4.6615, -5.3942, -4.0886, -4.5674, -4.3446, -5.5055, -5.4016, -4.7947, -5.1336, -4.8707, -4.36, -5.2683, -5.2212, -5.3609, -5.4247, -5.3675, -4.5205, -5.5882, -5.369, -6.0039, -6.4217, -6.4414, -6.5373, -6.5928, -6.6223, -6.2242, -6.6034, -6.7515, -6.7789, -6.8347, -6.8738, -6.4946, -6.8803, -7.0419, -6.9928, -7.0892, -6.0609, -3.9932, -7.0533, -6.9132, -7.1825, -7.1932, -7.2498, -7.2969, -7.3233, -7.393, -3.0491, -5.8554, -2.9856, -4.5305, -4.6203, -6.1523, -2.7999, -5.5167, -6.277, -4.1805, -5.0036, -2.85, -5.4, -6.0801, -5.3586, -4.9236, -5.0555, -2.9293, -3.346, -5.4005, -4.8047, -4.3201, -3.7385, -5.3606, -4.6597, -5.7319, -2.9624, -4.4227, -5.5081, -4.281, -4.5288, -5.1135, -5.1282, -4.9969, -5.0453, -5.0723, -4.9818, -5.0363, -4.9582, -3.1933, -4.0169, -4.9445, -4.6718, -5.6756, -5.7812, -3.7899, -5.9239, -5.8805, -5.6094, -6.0753, -5.9008, -5.9403, -6.114, -6.13, -6.1343, -6.0857, -6.2236, -6.1789, -6.2565, -6.25, -6.3412, -6.0276, -5.8875, -6.4498, -6.3728, -6.4727, -6.3287, -6.6243, -6.6264, -5.6634, -6.3545, -3.7238, -3.114, -5.2301, -3.6812, -6.014, -3.1655, -5.1865, -3.3737, -5.6299, -5.0595, -3.85, -5.7855, -5.3683, -5.2768, -5.5359, -5.6755, -5.2678, -3.1304, -5.0548, -5.0637, -5.064, -5.6291, -3.881, -4.3255, -4.971, -5.1768, -5.2971, -5.3091, -5.1559, -5.1506, -5.3084, -3.6094, -3.2016, -3.1589, -4.8647, -5.2149, -3.6027, -5.6938, -5.5439, -5.7942, -4.1858, -5.983, -6.1868, -6.1697, -6.2655, -6.2865, -6.147, -6.4335, -6.4806, -6.5479, -6.5467, -5.4052, -6.1747, -6.6359, -6.6476, -6.6511, -6.4878, -6.7033, -6.692, -6.6554, -6.7016, -5.6925, -5.5257, -5.5881, -5.4242, -6.0865, -5.8992, -5.2886, -5.2224, -5.2506, -3.5831, -5.3085, -5.2227, -4.2869, -4.1159, -3.7643, -2.1662, -4.6364, -4.7346, -4.8867, -4.4013, -4.818, -5.0214, -4.6158, -5.2043, -4.6115, -4.7753, -4.8706, -4.9548, -5.2428, -5.1706, -5.1414, -5.2403, -5.172, -5.3068, -5.2918, -5.5278, -5.7407, -5.7053, -5.888, -5.9054, -5.9469, -5.909, -6.0754, -6.0058, -6.1018, -6.27, -6.2919, -6.33, -6.2397, -6.387, -6.4054, -6.4565, -6.4889, -5.8841, -6.5391, -6.5552, -6.4324, -6.4994, -6.6063, -6.6361, -6.0486, -6.6699, -5.8008, -5.9077, -5.8488, -5.2856, -5.5603, -6.024, -5.9192, -5.4339, -5.6679, -5.9384, -3.1719, -3.7892, -3.6655, -5.5429, -3.8742, -3.8438, -4.1011, -4.7277, -3.6567, -3.7475, -4.8417, -3.5921, -5.1017, -4.3311, -3.5966, -4.1916, -2.976, -5.2663, -4.9049, -4.528, -4.637, -5.4774, -4.6599, -4.9337, -5.1323, -4.9404, -4.8842, -5.2194, -5.1501, -3.6675, -5.5909, -5.7326, -5.8484, -6.0863, -6.0699, -6.1153, -6.1897, -6.1871, -6.2341, -6.2108, -6.2324, -6.2943, -6.2957, -5.8939, -5.6806, -6.2033, -6.4371, -6.4333, -6.4529, -6.2377, -6.3148, -6.5223, -6.5315, -5.8191, -6.5417, -6.582, -6.5199, -6.6193, -6.6046, -4.3193, -5.9474, -6.1205, -6.0046, -4.8059, -5.1904, -5.7635, -5.5009, -5.8899, -5.7225, -4.6715, -4.1048, -5.6541, -4.6324, -3.9396, -5.5988, -5.2304, -5.0716, -5.3973, -4.787, -4.3549, -4.7646, -5.7422, -4.4758, -4.4499, -5.3251, -4.8673, -4.6118, -3.693, -5.5927, -4.8348, -5.3428, -5.3601, -5.3839, -5.5463, -5.4668, -5.5278, -5.364, -5.5207, -5.5264, -5.3496, -5.4666, -5.2436, -4.7079, -5.8176, -5.5094, -5.8361, -5.8653, -5.4987, -5.8167, -6.0177, -6.1269, -6.1733, -6.2407, -6.2344, -6.242, -6.2172, -6.2813, -6.2915, -6.3278, -6.3272, -5.8468, -6.3641, -6.3747, -4.617, -6.3868, -6.3979, -6.4318, -6.4208, -6.4764, -6.1426, -5.434, -6.123, -5.658, -5.8681, -6.0474, -4.732, -6.2596, -5.8344, -3.9491, -4.7483, -3.5731, -5.2856, -5.5768, -5.1549, -5.5284, -5.4133, -4.9678, -5.1452, -5.6956, -4.6791, -5.3384, -5.5343, -3.6622, -5.5437, -4.6375, -5.2984, -5.4248, -4.748, -4.8756, -5.0845, -4.985, -5.3547, -5.4229, -5.4099, -5.4262, -5.4636, -5.3628, -5.4469, -5.3475, -5.3907, -5.0626, -5.4894, -5.5837, -4.6021, -5.5634, -5.7574, -5.8804, -5.9212, -5.8053, -6.1174, -6.2097, -6.1579, -6.2454, -6.2057, -6.3014, -5.9339, -6.3206, -5.1036, -5.9232, -6.3674, -6.3737, -6.0099, -4.7811, -6.4792, -6.4947, -6.5629, -6.5801, -6.5657, -6.1196, -5.265, -3.3623, -4.637, -6.3529, -5.2409, -5.4472, -5.1191, -3.9529, -5.1489, -5.0855, -5.873, -3.6123, -4.3817, -5.8266, -4.7926, -4.8973, -4.8458, -4.3825, -4.2423, -4.9325, -4.4669, -4.9683, -4.7191, -5.1513, -4.0533, -5.1699, -4.3848, -4.6503, -4.6687, -5.0312, -5.0894, -4.989, -4.6016, -4.7486, -4.7507, -4.9562, -5.1265, -5.2267, -4.6925, -5.7388, -5.7201, -5.6523, -5.8578, -5.7304, -5.7636, -5.8782, -5.9347, -6.047, -6.069, -5.3536, -6.1945, -6.2018, -6.0628, -6.128, -6.1968, -6.2389, -6.2376, -6.1387, -6.2739, -6.2067, -6.3207, -6.3303, -5.6393, -5.8778, -6.0145, -4.9316, -5.7254, -5.9326, -5.9126, -3.8477, -5.6919, -4.383, -4.4138, -4.4921, -4.2509, -5.7425, -4.3366, -4.5906, -5.2631, -4.2281, -4.489, -4.8039, -4.8438, -5.0146, -4.3066, -5.0073, -5.3679, -5.4501, -4.6177, -5.1223, -4.3728, -5.3852, -5.2829, -5.232, -5.1225, -5.1759, -4.5773, -5.1145, -5.0365, -5.214, -4.4175, -4.6474, -4.9405, -4.8811, -4.6206, -5.5248, -5.4686, -5.5865, -5.2983, -5.7355, -5.4818, -5.8367, -5.7655, -5.8614, -5.9194, -5.3927, -5.9431, -5.3361, -4.9488, -6.103, -5.1952, -6.1381, -6.1663, -6.1956, -5.9449, -6.3753, -6.3836, -6.3954, -6.0709, -6.4503, -5.6117, -4.4827, -5.1054, -5.0035, -4.9346, -5.3025, -4.8332, -4.0472, -4.0205, -3.9497, -3.8395, -5.2079, -5.0909, -4.6477, -5.3067, -5.4414, -4.7183, -4.7485, -4.5622, -3.2244, -3.7403, -3.9629, -4.5515, -4.574, -4.2956, -5.0722, -4.9681, -4.7646, -4.6846, -4.9153, -4.8618, -4.7976, -4.879], \"loglift\": [30.0, 29.0, 28.0, 27.0, 26.0, 25.0, 24.0, 23.0, 22.0, 21.0, 20.0, 19.0, 18.0, 17.0, 16.0, 15.0, 14.0, 13.0, 12.0, 11.0, 10.0, 9.0, 8.0, 7.0, 6.0, 5.0, 4.0, 3.0, 2.0, 1.0, 2.1273, 2.1272, 2.1261, 2.1258, 2.1257, 2.1254, 2.1253, 2.1246, 2.1237, 2.1233, 2.1225, 2.1221, 2.1217, 2.1216, 2.1215, 2.1212, 2.1205, 2.1199, 2.1191, 2.119, 2.1189, 2.1189, 2.1186, 2.1186, 2.1184, 2.1182, 2.1181, 2.1179, 2.1178, 2.1176, 2.1145, 2.1173, 2.1103, 2.1085, 2.1166, 2.1144, 2.1137, 2.0869, 2.1108, 2.0824, 2.081, 2.0417, 2.0957, 2.0678, 2.076, 1.9963, 2.0173, 2.0141, 1.8799, 1.9697, 1.8904, 1.9797, 2.024, 1.7417, 1.9308, 1.9348, 1.7282, 1.9504, 1.1914, 1.5217, 1.6015, 1.3803, 1.058, 1.8087, 1.6815, 0.4526, 0.3497, 0.3542, 0.5919, 1.3642, 0.5849, 0.74, 0.4486, -0.3016, 1.4258, 1.3836, -0.0512, 1.1504, 0.4576, 2.3051, 2.3041, 2.3025, 2.302, 2.3018, 2.3011, 2.2999, 2.2998, 2.2997, 2.2991, 2.2988, 2.2976, 2.2973, 2.2971, 2.2968, 2.2962, 2.2958, 2.2952, 2.2939, 2.2938, 2.2932, 2.2929, 2.2927, 2.2926, 2.2921, 2.2906, 2.2905, 2.2899, 2.2898, 2.2898, 2.289, 2.2853, 2.2575, 2.2613, 2.2045, 2.2686, 2.2876, 2.2096, 2.1636, 2.1936, 2.1682, 2.2596, 1.9556, 2.1648, 2.1723, 2.1595, 1.8609, 2.0513, 2.0246, 2.1291, 1.4986, 1.9057, 1.7786, 1.7028, 1.4696, 1.951, 2.1351, 1.9915, 2.0543, 1.3005, 1.3583, 0.3592, 1.2693, 1.4548, 1.3582, 1.0026, 1.4127, 1.4254, 1.0734, 0.083, -0.7452, 0.6487, -1.2599, 2.3331, 2.3327, 2.3326, 2.3325, 2.3296, 2.3291, 2.3281, 2.3281, 2.3275, 2.3274, 2.3273, 2.3263, 2.3263, 2.3261, 2.3257, 2.3256, 2.325, 2.3247, 2.3247, 2.3244, 2.3238, 2.3237, 2.3235, 2.3225, 2.322, 2.3217, 2.3211, 2.3205, 2.3203, 2.3195, 2.3153, 2.3177, 2.3183, 2.3128, 2.2567, 2.2376, 2.2794, 2.2677, 2.3031, 2.1486, 2.164, 2.2092, 1.8058, 1.6514, 1.657, 2.2071, 2.0051, 1.9644, 2.1132, 1.708, 1.3626, 1.6596, 1.3979, 2.1781, 2.1892, 1.877, 1.3161, 1.5141, 1.7763, 0.6033, 1.6315, 1.75, 0.6254, 1.5653, 1.3299, 0.6186, 0.8921, 1.067, 0.8192, 0.9496, 0.6807, 0.3217, 2.3564, 2.3562, 2.3553, 2.3548, 2.3546, 2.3529, 2.3521, 2.3514, 2.3511, 2.3505, 2.3505, 2.3502, 2.3495, 2.3492, 2.3486, 2.3485, 2.3485, 2.348, 2.348, 2.3465, 2.3463, 2.3459, 2.3459, 2.3456, 2.3456, 2.3453, 2.3452, 2.3451, 2.345, 2.3449, 2.3331, 2.3447, 2.3293, 2.3199, 2.3308, 2.3128, 2.3377, 2.3233, 2.2649, 2.2819, 2.3273, 2.2157, 2.3175, 2.2229, 2.1503, 2.179, 2.1063, 2.2406, 1.9789, 2.2027, 2.1261, 2.1164, 2.1696, 1.9031, 1.9021, 2.1075, 2.0852, 1.7097, 1.835, 1.8568, 1.845, 1.9686, 1.4658, 1.0855, 1.8352, 0.9637, 1.4947, 0.2772, -0.2019, 1.6909, 0.1676, -0.2773, -1.0669, 0.9611, 2.5704, 2.5673, 2.5669, 2.5659, 2.5655, 2.5653, 2.5649, 2.5647, 2.5645, 2.5641, 2.5639, 2.5633, 2.5633, 2.5629, 2.5629, 2.5629, 2.5628, 2.5628, 2.5627, 2.5625, 2.5625, 2.5621, 2.562, 2.5617, 2.5615, 2.5614, 2.5611, 2.5611, 2.561, 2.5606, 2.5564, 2.5543, 2.5467, 2.5594, 2.5604, 2.5401, 2.5189, 2.4919, 2.4446, 2.4882, 2.4253, 2.5455, 2.5205, 2.534, 2.5099, 2.4634, 2.4107, 2.37, 2.3021, 2.1603, 2.3971, 2.3068, 2.495, 2.4632, 2.3156, 2.1394, 2.2586, 2.0019, 2.0002, 2.341, 2.1795, 2.0338, 1.9828, 1.929, 1.9953, 1.5805, 1.9663, 1.4966, 1.5293, 1.834, 0.452, 1.0505, 1.164, 1.5705, 0.4244, -0.0614, 1.2161, 1.5349, 1.107, 0.6363, 0.4885, -0.7659, 2.6579, 2.6579, 2.6578, 2.6577, 2.6573, 2.6572, 2.6567, 2.6563, 2.6557, 2.6557, 2.6556, 2.6555, 2.6554, 2.6552, 2.6545, 2.6545, 2.654, 2.6538, 2.6537, 2.6527, 2.6526, 2.6526, 2.6523, 2.6522, 2.6521, 2.6519, 2.6519, 2.6518, 2.6516, 2.651, 2.6406, 2.6431, 2.6363, 2.637, 2.6184, 2.5962, 2.6253, 2.6169, 2.6246, 2.6211, 2.6094, 2.6041, 2.6188, 2.5849, 2.6078, 2.6116, 2.637, 2.6345, 2.5563, 2.3943, 2.5058, 2.354, 2.3899, 2.581, 2.4492, 2.0847, 2.3502, 2.3606, 1.5228, 0.2223, 0.2017, 0.0783, 0.4716, 0.077, 0.777, 0.8491, 0.0415, 2.7139, 2.7138, 2.712, 2.7116, 2.711, 2.7104, 2.71, 2.7097, 2.7096, 2.7096, 2.7092, 2.7092, 2.709, 2.709, 2.7085, 2.7084, 2.7084, 2.7081, 2.7081, 2.7079, 2.7072, 2.707, 2.7069, 2.7062, 2.7062, 2.706, 2.7058, 2.7048, 2.7048, 2.7043, 2.6992, 2.7022, 2.6955, 2.6961, 2.6981, 2.6581, 2.685, 2.6793, 2.6808, 2.6643, 2.6662, 2.6744, 2.6992, 2.6318, 2.6358, 2.6452, 2.6538, 2.6453, 2.5989, 2.6632, 2.6865, 2.4969, 2.5526, 2.6701, 2.5444, 2.4739, 2.525, 2.5054, 2.283, 2.1484, 2.3594, 1.7491, 1.8288, 1.6782, 2.3406, 2.2495, 1.6271, 1.9421, 1.4078, 0.3473, 1.9331, 1.7218, 1.6221, 1.6745, -1.23, 2.7878, 2.7856, 2.7831, 2.7815, 2.7808, 2.7807, 2.7798, 2.7792, 2.779, 2.7784, 2.7777, 2.7776, 2.7772, 2.7765, 2.776, 2.7759, 2.7756, 2.7736, 2.7732, 2.7728, 2.7727, 2.7726, 2.7725, 2.7722, 2.7711, 2.7711, 2.7699, 2.7691, 2.7686, 2.767, 2.7393, 2.7541, 2.7023, 2.7339, 2.7082, 2.7484, 2.6362, 2.7072, 2.7383, 2.5915, 2.6368, 2.4327, 2.6462, 2.6955, 2.5903, 2.5298, 2.4963, 2.0406, 2.0734, 2.5212, 2.3428, 2.1398, 1.7715, 2.3692, 1.9761, 2.5146, 0.9719, 1.792, 2.3772, 1.3481, 1.4181, 1.993, 1.8307, 1.2812, 1.4115, 1.0583, 0.2562, 0.3431, -0.2509, 3.0129, 3.0129, 3.0116, 3.0106, 3.0099, 3.0097, 3.0091, 3.0087, 3.0087, 3.0084, 3.0081, 3.008, 3.0079, 3.0077, 3.0076, 3.0076, 3.0075, 3.0069, 3.0067, 3.0066, 3.0066, 3.0058, 3.0057, 3.0054, 3.0047, 3.0046, 3.0044, 3.0027, 3.0023, 3.0021, 2.9937, 2.9999, 2.9713, 2.9369, 2.9666, 2.8493, 2.9779, 2.6471, 2.8491, 2.5493, 2.8823, 2.7363, 2.3704, 2.9033, 2.7642, 2.7093, 2.8031, 2.8545, 2.6075, 1.2867, 2.3143, 2.0969, 2.0333, 2.6938, 0.1127, -0.188, 1.2067, 0.9466, 1.0022, 0.8796, -1.0226, -1.2163, 0.071, 3.112, 3.1104, 3.1103, 3.1102, 3.1091, 3.1074, 3.1072, 3.107, 3.1061, 3.1054, 3.1041, 3.1035, 3.1034, 3.1028, 3.1026, 3.1013, 3.1005, 3.1005, 3.0994, 3.099, 3.099, 3.099, 3.0982, 3.0982, 3.0981, 3.0975, 3.0974, 3.0973, 3.0972, 3.0972, 3.0944, 3.0891, 3.0859, 3.053, 3.0789, 3.0671, 3.0411, 3.017, 3.0086, 2.7547, 2.9605, 2.9281, 2.6962, 2.5789, 2.4134, 1.7681, 2.5106, 2.5135, 2.4698, 2.0302, 2.2901, 2.1212, 1.5465, 2.2139, 1.0177, 0.7347, 0.9334, 1.1448, 1.9422, 0.7525, -0.7242, -0.2704, 3.1621, 3.162, 3.162, 3.1605, 3.1598, 3.1596, 3.1588, 3.1587, 3.1584, 3.1574, 3.1572, 3.1571, 3.157, 3.1554, 3.1551, 3.1548, 3.1547, 3.1542, 3.1539, 3.1532, 3.1526, 3.1524, 3.1522, 3.152, 3.1519, 3.1518, 3.1513, 3.1508, 3.1506, 3.1502, 3.1501, 3.1495, 3.1481, 3.1404, 3.1391, 3.1462, 3.1409, 3.1301, 3.1332, 3.1371, 2.9898, 2.9992, 2.9759, 3.0903, 2.906, 2.8706, 2.8322, 2.912, 2.6651, 2.5306, 2.8044, 2.2939, 2.7767, 2.3696, 1.6414, 1.986, 0.9582, 2.5944, 2.0737, 1.6026, 1.5369, 2.6678, 0.5689, 0.9762, 1.5767, 0.6887, -0.7508, 0.8801, -0.4428, 3.1925, 3.1879, 3.1868, 3.1863, 3.1844, 3.1842, 3.1841, 3.1835, 3.1833, 3.183, 3.1826, 3.1825, 3.1824, 3.1821, 3.182, 3.1809, 3.1808, 3.1807, 3.1806, 3.1804, 3.1803, 3.1798, 3.1796, 3.1795, 3.1794, 3.1793, 3.1786, 3.1783, 3.1782, 3.1781, 3.1678, 3.1775, 3.1765, 3.1741, 3.1589, 3.1587, 3.1668, 3.1609, 3.1631, 3.1548, 3.073, 3.0219, 3.1348, 3.0537, 2.9489, 3.1006, 2.9849, 2.9414, 3.0062, 2.7723, 2.5103, 2.6212, 3.0247, 2.416, 2.3969, 2.6537, 1.9876, 1.5933, 0.2413, 2.77, 1.1014, 2.1705, 1.8005, 1.8175, 2.445, 1.9784, 1.8412, -0.9469, 1.5108, 0.3835, 3.2378, 3.2377, 3.2374, 3.2361, 3.2357, 3.2355, 3.2354, 3.2354, 3.2352, 3.2351, 3.2339, 3.2331, 3.2326, 3.2319, 3.2319, 3.2319, 3.2315, 3.2315, 3.2312, 3.2307, 3.2307, 3.2307, 3.2305, 3.2304, 3.2303, 3.2302, 3.2301, 3.2297, 3.2295, 3.229, 3.2245, 3.2044, 3.222, 3.2065, 3.2127, 3.2186, 3.1635, 3.2254, 3.1828, 2.934, 3.0344, 2.7359, 3.0321, 3.0909, 2.9267, 3.0213, 2.9799, 2.8177, 2.8407, 3.0475, 2.4478, 2.6197, 2.7761, 0.2721, 2.7798, 1.4621, 2.2912, 2.459, 0.762, 0.7535, 0.8144, -0.5678, 1.537, 1.9336, 1.8078, 1.5246, 2.1874, -1.3691, 0.7582, 3.2619, 3.2617, 3.2609, 3.2609, 3.2607, 3.2606, 3.2606, 3.2595, 3.2586, 3.2584, 3.2573, 3.2561, 3.2556, 3.2554, 3.2552, 3.2552, 3.2545, 3.2543, 3.2538, 3.2538, 3.2537, 3.2536, 3.2536, 3.2522, 3.2522, 3.252, 3.252, 3.251, 3.2507, 3.2501, 3.2476, 3.2384, 3.1544, 3.1634, 3.2459, 3.1784, 3.1899, 3.1519, 3.0258, 3.1364, 3.121, 3.2111, 2.8095, 2.9197, 3.1886, 2.8835, 2.8725, 2.8076, 2.4274, 1.9724, 2.291, 1.7382, 2.1521, 1.5898, 2.2356, -0.0597, 2.2224, 0.0324, 0.5785, -0.5312, 1.3649, 1.6114, -0.2817, 3.3168, 3.316, 3.3159, 3.3156, 3.3137, 3.3135, 3.313, 3.3119, 3.3112, 3.3111, 3.311, 3.3109, 3.3109, 3.3108, 3.3104, 3.309, 3.309, 3.3086, 3.3077, 3.3077, 3.3077, 3.3076, 3.3073, 3.3072, 3.3072, 3.307, 3.3069, 3.3063, 3.3063, 3.3062, 3.3057, 3.3045, 3.3044, 3.2854, 3.2973, 3.2992, 3.2978, 3.2049, 3.2821, 3.2093, 3.2111, 3.2157, 3.1856, 3.2837, 3.1408, 3.1476, 3.1935, 2.916, 2.942, 2.9845, 2.9727, 3.0032, 2.6443, 2.9338, 3.1172, 3.1336, 2.2234, 2.7273, 1.808, 2.9719, 2.8056, 2.7024, 2.4388, 2.4938, -0.643, 2.0462, 0.6514, 2.1144, 3.6149, 3.6142, 3.6128, 3.6124, 3.6119, 3.6097, 3.6095, 3.6092, 3.6088, 3.6079, 3.6074, 3.6068, 3.6067, 3.6066, 3.6059, 3.6058, 3.6056, 3.6055, 3.604, 3.6036, 3.603, 3.6029, 3.6027, 3.6023, 3.6009, 3.5993, 3.5991, 3.599, 3.5986, 3.5979, 3.597, 3.5846, 3.5829, 3.5788, 3.5668, 3.5775, 3.5629, 3.4905, 3.4333, 3.3752, 3.2551, 3.4532, 3.3995, 3.2201, 3.3865, 3.438, 2.9327, 2.9393, 2.6291, 0.7098, 1.2295, 1.4731, 2.3137, 2.2485, 1.7571, 2.82, 2.3264, 1.4557, 0.5982, 1.6891, 0.7673, -0.1306, -0.1718]}, \"token.table\": {\"Topic\": [1, 2, 3, 4, 5, 6, 11, 13, 15, 6, 1, 2, 3, 4, 5, 6, 10, 13, 14, 2, 3, 4, 6, 11, 12, 14, 15, 16, 9, 1, 2, 3, 5, 7, 9, 10, 12, 13, 14, 15, 2, 4, 5, 9, 11, 13, 1, 2, 3, 4, 7, 9, 1, 2, 3, 4, 5, 6, 7, 8, 9, 12, 13, 14, 15, 16, 3, 8, 1, 2, 3, 4, 6, 7, 8, 9, 10, 11, 12, 13, 15, 16, 6, 5, 8, 16, 2, 3, 4, 5, 6, 7, 8, 10, 11, 13, 16, 5, 5, 1, 2, 3, 4, 5, 7, 9, 11, 12, 13, 15, 12, 14, 4, 8, 9, 10, 13, 11, 4, 10, 12, 16, 6, 2, 3, 4, 7, 10, 12, 13, 3, 9, 10, 11, 12, 1, 2, 3, 5, 6, 7, 9, 11, 12, 3, 1, 2, 3, 4, 5, 6, 7, 9, 13, 16, 2, 3, 4, 16, 5, 2, 4, 2, 6, 10, 11, 4, 9, 13, 1, 2, 3, 4, 5, 6, 7, 8, 9, 10, 13, 14, 2, 3, 4, 5, 7, 9, 10, 12, 13, 15, 15, 8, 4, 11, 14, 1, 2, 4, 6, 8, 10, 12, 13, 14, 16, 1, 9, 9, 1, 3, 13, 5, 7, 10, 13, 16, 16, 1, 2, 3, 4, 5, 6, 7, 8, 9, 10, 11, 12, 13, 14, 15, 16, 4, 2, 4, 6, 8, 10, 11, 12, 13, 14, 13, 5, 1, 2, 3, 4, 5, 6, 7, 10, 11, 12, 13, 14, 13, 5, 7, 13, 14, 15, 9, 10, 15, 1, 2, 3, 9, 1, 2, 3, 4, 6, 7, 10, 12, 13, 16, 1, 4, 11, 4, 8, 14, 1, 2, 3, 4, 5, 6, 7, 8, 9, 10, 11, 13, 14, 15, 16, 2, 1, 2, 3, 4, 5, 6, 7, 8, 9, 10, 11, 12, 13, 14, 15, 1, 2, 4, 1, 4, 5, 8, 11, 13, 14, 15, 16, 1, 2, 3, 4, 5, 6, 7, 8, 9, 10, 11, 12, 13, 14, 16, 16, 1, 3, 11, 12, 1, 2, 3, 4, 5, 6, 7, 8, 9, 10, 11, 12, 13, 14, 15, 16, 3, 9, 2, 3, 9, 10, 12, 15, 14, 10, 5, 7, 12, 14, 15, 5, 7, 11, 13, 5, 7, 12, 14, 14, 3, 5, 10, 13, 15, 15, 7, 1, 5, 9, 12, 13, 14, 7, 5, 7, 11, 1, 2, 3, 4, 5, 6, 7, 8, 9, 10, 11, 12, 13, 14, 15, 16, 2, 3, 6, 7, 10, 14, 15, 6, 7, 9, 14, 5, 8, 10, 12, 11, 14, 6, 10, 14, 4, 8, 16, 1, 2, 4, 6, 8, 9, 12, 15, 1, 2, 4, 10, 13, 1, 4, 6, 8, 9, 11, 12, 13, 4, 10, 11, 13, 2, 10, 13, 14, 15, 13, 4, 5, 12, 14, 2, 5, 3, 4, 6, 8, 10, 11, 16, 2, 3, 4, 6, 8, 11, 1, 11, 11, 8, 1, 4, 5, 8, 10, 12, 13, 14, 15, 16, 3, 12, 16, 3, 1, 2, 4, 6, 8, 9, 10, 11, 12, 14, 16, 6, 16, 16, 3, 4, 10, 1, 6, 8, 10, 15, 6, 16, 16, 6, 4, 6, 8, 12, 4, 7, 16, 1, 2, 3, 4, 5, 6, 7, 9, 10, 11, 12, 13, 14, 15, 16, 1, 2, 3, 4, 5, 6, 7, 8, 9, 10, 11, 12, 13, 14, 15, 16, 11, 14, 15, 4, 13, 16, 3, 10, 6, 10, 10, 3, 1, 2, 3, 4, 5, 6, 7, 10, 12, 13, 14, 15, 13, 1, 2, 3, 4, 5, 7, 10, 12, 13, 2, 4, 7, 12, 16, 15, 3, 10, 2, 1, 2, 3, 4, 6, 7, 9, 10, 13, 14, 3, 4, 8, 14, 1, 5, 8, 10, 11, 15, 12, 8, 3, 12, 13, 14, 3, 6, 8, 4, 6, 7, 10, 11, 15, 5, 1, 12, 2, 3, 4, 13, 4, 10, 2, 5, 7, 8, 14, 15, 8, 2, 6, 12, 1, 12, 2, 5, 7, 14, 6, 11, 12, 2, 4, 11, 6, 4, 12, 8, 1, 4, 7, 1, 3, 4, 5, 6, 7, 8, 9, 14, 1, 2, 3, 4, 5, 6, 7, 8, 9, 10, 11, 12, 13, 14, 15, 16, 1, 2, 3, 9, 1, 13, 4, 14, 1, 3, 9, 15, 3, 9, 15, 5, 10, 13, 1, 2, 3, 4, 5, 6, 7, 8, 9, 11, 12, 13, 14, 15, 16, 8, 1, 2, 3, 4, 5, 6, 7, 9, 10, 12, 13, 14, 15, 16, 1, 2, 3, 4, 5, 6, 8, 9, 10, 12, 13, 14, 15, 3, 1, 2, 4, 5, 10, 13, 1, 3, 8, 12, 13, 15, 4, 6, 10, 14, 14, 11, 7, 1, 3, 6, 8, 11, 2, 4, 8, 9, 15, 2, 3, 4, 8, 9, 13, 15, 8, 12, 13, 14, 3, 14, 2, 3, 4, 6, 8, 9, 12, 13, 5, 3, 13, 2, 3, 4, 5, 9, 15, 16, 3, 5, 9, 13, 14, 15, 5, 4, 2, 3, 4, 7, 9, 12, 13, 15, 16, 2, 1, 7, 9, 10, 12, 15, 1, 2, 3, 5, 6, 7, 9, 12, 13, 14, 15, 3, 13, 4, 8, 10, 12, 5, 1, 4, 8, 12, 13, 15, 4, 13, 4, 14, 15, 9, 14, 8, 10, 14, 15, 3, 14, 15, 13, 13, 5, 7, 2, 14, 1, 2, 3, 4, 5, 7, 9, 11, 12, 13, 15, 16, 1, 8, 14, 1, 2, 4, 6, 7, 11, 12, 2, 2, 1, 12, 14, 1, 2, 3, 4, 5, 6, 7, 8, 9, 10, 11, 12, 13, 14, 16, 1, 2, 3, 4, 6, 8, 9, 10, 11, 12, 13, 14, 15, 1, 2, 3, 4, 5, 7, 8, 10, 11, 12, 13, 14, 16, 3, 15, 2, 7, 16, 12, 7, 1, 2, 3, 4, 9, 11, 12, 13, 14, 15, 1, 2, 3, 4, 5, 6, 7, 8, 9, 10, 11, 12, 13, 15, 12, 16, 12, 4, 6, 10, 15, 16, 1, 3, 4, 5, 6, 8, 9, 13, 16, 15, 8, 14, 1, 2, 3, 4, 5, 6, 7, 9, 10, 11, 13, 14, 1, 3, 9, 12, 9, 5, 4, 1, 4, 5, 7, 11, 14, 6, 8, 12, 1, 3, 4, 11, 7, 1, 2, 3, 4, 5, 6, 7, 8, 9, 10, 11, 12, 13, 14, 15, 16, 14, 7, 12, 15, 8, 8, 14, 1, 2, 5, 16, 2, 16, 5, 5, 9, 1, 2, 3, 4, 5, 6, 7, 8, 9, 13, 14, 16, 1, 4, 5, 6, 7, 9, 12, 13, 16, 9, 9, 1, 4, 9, 1, 2, 3, 4, 5, 6, 8, 9, 10, 11, 12, 13, 14, 15, 16, 1, 12, 1, 2, 3, 5, 6, 7, 9, 11, 13, 14, 15, 7, 4, 13, 1, 2, 3, 5, 6, 7, 10, 11, 12, 13, 14, 15, 10, 10, 15, 15, 3, 5, 6, 7, 9, 10, 12, 14, 15, 3, 5, 6, 7, 9, 10, 12, 13, 14, 15, 16, 1, 2, 3, 4, 6, 7, 8, 9, 10, 11, 12, 13, 14, 16, 2, 3, 4, 6, 11, 14, 15, 16, 11, 7, 2, 8, 12, 10, 5, 7, 1, 2, 3, 4, 5, 6, 7, 8, 9, 10, 11, 12, 13, 14, 15, 16, 13, 2, 1, 3, 5, 6, 7, 10, 11, 12, 13, 14, 2, 4, 9, 10, 13, 15, 7, 9, 10, 12, 9, 12, 2, 15, 5, 10, 5, 8, 1, 2, 3, 4, 5, 6, 7, 8, 9, 10, 11, 12, 13, 14, 15, 16, 7, 5, 6, 10, 11, 1, 2, 5, 7, 9, 12, 13, 14, 15, 2, 3, 4, 6, 9, 10, 11, 12, 3, 10, 2, 3, 6, 8, 9, 10, 11, 12, 15, 3, 4, 8, 9, 10, 11, 12, 16, 8, 14, 4, 8, 12, 13, 14, 1, 2, 3, 4, 5, 6, 7, 8, 9, 10, 11, 12, 13, 14, 15, 16, 2, 1, 2, 3, 6, 9, 5, 1, 3, 4, 5, 6, 7, 8, 9, 12, 13, 14, 14, 7, 12, 13, 5, 5, 7, 11, 11, 14, 11, 4, 11, 16, 4, 6, 8, 14, 16, 14, 1, 2, 4, 8, 9, 10, 11, 13, 4, 2, 3, 4, 6, 7, 9, 11, 1, 2, 3, 4, 5, 6, 7, 8, 9, 11, 12, 13, 14, 15, 4, 5, 8, 1, 4, 9, 2, 5, 12, 1, 5, 7, 9, 12, 11, 8, 11, 16, 9, 11, 3, 10, 10, 15, 11, 2, 11, 14, 2, 9, 10, 12, 13, 14, 15, 16, 9, 13, 10, 14, 15, 3, 1, 5, 9, 12, 15, 11, 16, 12, 6, 11, 2, 4, 3, 5, 1, 2, 3, 4, 5, 6, 7, 8, 9, 10, 11, 12, 13, 14, 15, 16, 8, 1, 3, 1, 3, 4, 6, 8, 10, 11, 1, 2, 6, 8, 11, 13, 14, 15, 14, 5, 9, 12, 9, 12, 14, 2, 10, 4, 6, 8, 14, 4, 8, 1, 2, 4, 8, 9, 10, 11, 12, 13, 16, 12, 6, 12, 10, 14, 4, 10, 11, 16, 10, 11, 10, 1, 3, 10, 11, 1, 3, 4, 9, 15, 5, 6, 7, 12, 15, 11, 5, 5, 13, 16, 8, 2, 3, 4, 8, 10, 13, 3, 3, 4, 6, 8, 9, 11, 12, 14, 4, 8, 10, 16, 1, 2, 3, 6, 7, 11, 12, 15, 2, 2, 4, 6, 11, 12, 13, 16, 5, 4, 8, 9, 1, 3, 4, 6, 10, 11, 12, 14, 11, 1, 2, 3, 4, 6, 7, 8, 9, 10, 11, 12, 13, 14, 15, 16, 1, 3, 6, 10, 15, 1, 2, 8, 9, 1, 2, 3, 15, 2, 3, 4, 8, 14, 15, 16, 4, 16, 1, 2, 3, 4, 5, 6, 7, 8, 9, 10, 11, 12, 13, 14, 15, 1, 4, 5, 6, 9, 14, 1, 3, 2, 9, 1, 3, 4, 5, 6, 7, 10, 11, 13, 14, 15, 2, 3, 6, 1, 3, 4, 5, 7, 9, 9, 1, 7, 9, 2, 7, 12, 13, 14, 7, 15, 4, 10, 13, 1, 2, 4, 5, 8, 6, 7, 10, 2, 5, 9, 10, 12, 14, 9, 10, 8, 13, 3, 12, 1, 1, 3, 7, 9, 1, 13, 1, 11, 6, 12, 12, 3, 2, 15, 7, 14, 1, 2, 3, 4, 5, 6, 7, 8, 9, 10, 11, 12, 13, 14, 15, 16, 1, 3, 4, 5, 9, 11, 13, 14, 9, 1, 2, 3, 5, 7, 13, 9, 1, 6, 9, 12, 13, 10, 2, 3, 11, 1, 3, 9, 10, 13, 15, 3, 1, 3, 13, 13, 15, 3, 14, 3, 9, 10, 1, 3, 4, 11, 13, 16, 2, 3, 5, 7, 9, 12, 14, 12, 13, 1, 2, 3, 4, 5, 6, 7, 8, 9, 10, 11, 12, 13, 14, 15, 1, 3, 1, 2, 3, 4, 5, 6, 7, 8, 9, 10, 13, 14, 3, 1, 2, 4, 5, 7, 8, 4, 7, 6, 4, 6, 8, 9, 10, 12, 15, 1, 4, 11, 13, 2, 2, 16, 4, 6, 7, 10, 11, 16, 1, 2, 3, 4, 5, 6, 7, 8, 9, 10, 11, 12, 13, 14, 15, 16, 3, 9, 12, 1, 16, 3, 14, 6, 10, 1, 7, 11, 13, 7, 10, 2, 3, 4, 5, 7, 8, 9, 11, 15, 4, 7, 1, 2, 3, 4, 5, 6, 7, 9, 10, 11, 12, 13, 14, 15, 16, 1, 2, 3, 4, 6, 8, 9, 10, 11, 12, 14, 3, 4, 15, 1, 2, 3, 4, 5, 6, 7, 10, 11, 12, 13, 14, 15, 3, 15, 8, 9, 11, 14, 2, 3, 4, 5, 6, 8, 11, 14, 2, 12, 2, 5, 7, 12, 13, 14, 2, 5, 7, 9, 13, 14, 5, 7, 12, 13, 14, 1, 2, 3, 4, 5, 6, 7, 11, 12, 13, 14, 15, 16, 15, 6, 2, 16, 5, 6, 7, 16, 12, 6, 8, 10, 7, 2, 11, 14, 15, 5, 12, 16, 5, 10, 1, 2, 3, 4, 5, 6, 7, 8, 9, 10, 11, 12, 13, 14, 15, 16, 4, 8, 2, 5, 7, 6, 1, 4, 10, 5, 2, 3, 6, 8, 10, 11, 12, 6, 1, 2, 3, 4, 5, 6, 7, 8, 9, 10, 11, 12, 13, 14, 15, 16, 1, 2, 3, 4, 5, 6, 7, 8, 9, 10, 11, 12, 13, 14, 15, 16, 7, 12, 15, 1, 15, 13, 6, 11, 2, 4, 8, 11, 2, 4, 8, 16, 6, 14, 1, 2, 3, 4, 5, 6, 8, 9, 10, 11, 12, 13, 14, 15, 16, 5, 7, 14, 6, 12, 6, 9, 11, 13, 15, 5, 7, 12, 13, 14, 16, 2, 4, 6, 7, 12, 13, 15, 16, 10, 1, 4, 6, 8, 10, 12, 13, 15, 6, 2, 6, 11, 16, 6, 10, 11, 12, 16, 2, 15, 6, 1, 2, 3, 4, 5, 6, 7, 8, 9, 10, 11, 12, 14, 16, 3, 4, 9, 10, 11, 12, 1, 2, 3, 4, 5, 6, 7, 8, 9, 10, 11, 12, 13, 14, 15, 16, 1, 2, 3, 4, 5, 6, 7, 8, 9, 10, 11, 12, 13, 15, 1, 2, 3, 4, 5, 6, 7, 8, 9, 10, 11, 12, 13, 14, 15, 16, 1, 2, 3, 4, 5, 6, 7, 8, 9, 10, 11, 12, 13, 14, 15, 16, 6, 10, 11, 12, 1, 2, 3, 4, 6, 10, 11, 14, 11, 8, 2, 3, 5, 6, 7, 8, 9, 12, 13, 14, 15, 15, 5, 3, 1, 4, 10, 12, 15, 16, 1, 3, 6, 10, 11, 12, 13, 15, 16, 2, 7, 8, 9, 12, 13, 14, 16, 1, 2, 4, 5, 6, 7, 8, 9, 10, 12, 13, 14, 15, 16, 1, 2, 3, 4, 5, 7, 9, 10, 12, 13, 15, 1, 2, 3, 4, 6, 8, 9, 10, 11, 13, 14, 16, 4, 4, 1, 12, 2, 9, 13, 16, 11, 1, 9, 1, 2, 3, 4, 5, 6, 7, 8, 9, 10, 11, 12, 13, 14, 15, 16, 7, 11, 4, 7, 8, 10, 11, 12, 4, 16, 1, 2, 4, 5, 6, 7, 9, 13, 15, 16, 2, 3, 5, 6, 7, 8, 9, 12, 13, 14, 15, 1, 2, 3, 4, 5, 6, 7, 8, 9, 10, 11, 12, 13, 14, 15, 16, 4, 11, 1, 4, 6, 14, 15, 7, 6, 7, 10, 3, 7, 9, 12, 15, 1, 1, 2, 3, 8, 9, 1, 3, 5, 7, 11, 13, 14, 2, 3, 12, 12, 4, 14, 16, 2, 9, 11, 13, 14, 1, 2, 3, 4, 6, 8, 10, 11, 14, 15, 16, 1, 2, 3, 4, 7, 11, 12, 16, 10, 2, 3, 4, 8, 12, 15, 11, 4, 8, 2, 4, 4, 1, 3, 9, 8, 9, 1, 2, 3, 4, 5, 6, 7, 9, 10, 11, 12, 13, 14, 15, 2, 6, 11, 14, 5, 7, 14, 15, 9, 9, 4, 5, 7, 8, 14, 15, 16, 5, 7, 14, 15, 4, 2, 4, 7, 9, 12, 13, 8, 10, 1, 2, 3, 4, 1, 3, 4, 6, 15, 1, 2, 3, 4, 5, 6, 7, 8, 9, 10, 11, 12, 13, 14, 15, 16, 6, 7, 11, 2, 1, 2, 3, 4, 5, 6, 7, 8, 9, 13, 14, 8, 2, 3, 11, 2, 6, 8, 10, 11, 11, 12, 6, 8, 10, 11, 15, 16, 6, 11, 16, 14, 10, 15, 4, 8, 10, 11, 16, 6, 16, 1, 4, 5, 15, 4, 5, 13, 5, 8, 12, 13, 16, 2, 5, 9, 12, 14, 12, 14, 15, 1, 2, 3, 4, 5, 6, 7, 11, 12, 13, 14, 15, 1, 2, 3, 4, 14, 2, 13, 14, 3, 5, 6, 8, 13, 14, 3, 13, 1, 2, 3, 5, 7, 9, 10, 12, 13, 14, 7, 16, 16, 1, 2, 4, 8, 10, 13, 16, 1, 2, 3, 4, 5, 6, 7, 8, 9, 10, 11, 12, 13, 14, 15, 16, 10, 14, 16, 3, 4, 5, 8, 15, 1, 3, 4, 6, 7, 8, 9, 12, 13, 15, 16, 6, 1, 4, 5, 6, 7, 16, 2, 3, 4, 1, 3, 6, 13, 14, 1, 2, 3, 4, 5, 6, 7, 8, 9, 10, 11, 12, 13, 14, 15, 6, 1, 3, 6, 8, 11, 5, 1, 2, 4, 5, 6, 7, 8, 9, 11, 12, 13, 14, 15, 16, 1, 4, 5, 6, 8, 11, 14, 16, 5, 8, 1, 2, 3, 4, 5, 6, 7, 8, 9, 10, 11, 12, 13, 14, 15, 16, 1, 2, 4, 5, 6, 7, 8, 10, 13, 14, 1, 2, 3, 4, 6, 8, 9, 10, 12, 13, 9, 12, 1, 2, 3, 4, 8, 9, 10, 12, 15, 1, 2, 3, 4, 5, 7, 8, 9, 10, 11, 13, 15, 16, 1, 2, 3, 4, 5, 6, 7, 9, 10, 11, 12, 13, 14, 15, 1, 2, 5, 8, 9, 1, 3, 6, 7, 11, 1, 2, 3, 4, 5, 8, 9, 10, 11, 12, 14, 15, 3, 6, 9, 10, 12, 13, 16, 2, 4, 6, 9, 10, 12, 15, 16, 2, 5, 6, 7, 9, 12, 14, 15, 9, 1, 3, 2, 3, 7, 1, 11, 4, 8, 1, 2, 3, 4, 5, 6, 7, 8, 9, 10, 11, 12, 13, 14, 15, 16, 1, 2, 3, 5, 6, 7, 8, 9, 11, 14, 16, 11, 5, 7, 7, 1, 4, 7, 8, 13, 12, 15, 8, 7, 3, 14, 8, 12, 10, 11, 14, 15, 2, 6, 7, 12, 2, 3, 5, 6, 13, 15, 16, 1, 2, 3, 4, 5, 6, 7, 9, 11, 12, 13, 15, 1, 2, 3, 4, 5, 6, 7, 8, 9, 10, 11, 12, 13, 14, 15, 4, 6, 11, 16, 4, 11, 6, 11, 3, 5, 6, 10, 1, 2, 3, 4, 5, 6, 7, 9, 10, 12, 13, 15, 1, 2, 3, 4, 5, 6, 7, 8, 9, 10, 11, 12, 13, 14, 15, 16, 12, 1, 2, 3, 4, 5, 6, 7, 8, 9, 10, 11, 13, 14, 15, 16, 2, 3, 5, 6, 7, 9, 10, 12, 13, 14, 15, 1, 2, 3, 4, 5, 7, 9, 12, 13, 14, 15, 12, 1, 3, 4, 5, 6, 7, 8, 13, 14, 16, 6, 1, 2, 4, 5, 7, 12, 16, 3, 12, 14, 16, 14, 14, 2, 14, 3, 2, 1, 1, 3, 5, 3, 6, 13, 1, 2, 6, 11, 15, 16, 12, 14, 14, 6, 13, 14, 1, 4, 3, 6, 8, 12, 1, 1, 1, 2, 3, 4, 5, 6, 7, 9, 10, 11, 12, 13, 14, 15, 16, 8, 2, 5, 7, 12, 14, 1, 3, 5, 7, 10, 11, 12, 15, 16, 1, 2, 3, 4, 5, 6, 7, 9, 10, 13, 14, 10, 15, 15, 2, 4, 6, 10, 11, 11, 12, 8, 16, 1, 2, 4, 7, 9, 12, 13, 14, 15, 5, 13, 1, 2, 3, 4, 6, 7, 9, 10, 12, 13, 15, 1, 2, 3, 4, 5, 6, 8, 9, 10, 11, 12, 13, 14, 15, 16, 1, 2, 3, 4, 6, 8, 11, 14, 1, 2, 2, 6, 10, 12, 13, 16, 1, 2, 3, 4, 5, 6, 7, 8, 9, 10, 11, 12, 13, 14, 15, 16, 1, 1, 2, 3, 4, 6, 8, 10, 11, 13, 14, 16, 11, 1, 2, 3, 4, 5, 6, 7, 9, 12, 13, 14, 15, 1, 2, 9, 1, 3, 5, 12, 9, 1, 2, 3, 4, 5, 6, 7, 8, 9, 10, 11, 12, 13, 14, 15, 16, 9, 3, 5, 7, 9, 11, 12, 16, 1, 3, 7, 13, 15, 15, 1, 2, 3, 4, 7, 8, 9, 10, 11, 12, 13, 14, 15, 16, 1, 2, 3, 4, 5, 6, 7, 8, 9, 10, 11, 12, 13, 14, 15, 16, 1, 2, 3, 4, 5, 6, 7, 8, 9, 10, 11, 12, 13, 14, 15, 16, 6, 1, 13, 10, 3, 1, 2, 3, 4, 5, 6, 7, 8, 9, 10, 11, 12, 13, 14, 15, 16, 1, 3, 14, 3, 15, 7, 5, 7, 7, 3, 13, 12, 4, 5, 4, 13, 4, 11, 14, 15, 16, 1, 2, 3, 4, 7, 9, 12, 13, 16, 2, 3, 10, 13, 1, 11, 1, 1, 7, 15, 5, 7, 13, 6, 6, 2, 5, 3, 9, 2, 13, 1, 1, 3, 4, 13, 15, 2, 3, 8, 9, 16, 15, 2, 15, 13, 4, 3, 14, 3, 6, 7, 12, 5, 10, 10, 2, 3, 12, 12, 9, 12, 9, 7, 5, 1, 2, 3, 4, 5, 6, 7, 8, 9, 10, 12, 13, 14, 7, 7, 5, 2, 3, 8, 9, 14, 15, 1, 8, 15, 1, 13, 16, 2, 13, 1, 2, 3, 4, 5, 6, 7, 8, 9, 11, 12, 14, 15, 16, 11, 1, 3, 6, 11, 12, 13, 1, 2, 3, 4, 5, 6, 8, 9, 10, 11, 12, 14, 16, 1, 2, 3, 4, 5, 8, 14, 16, 1, 9, 15, 7, 9, 1, 7, 6, 2, 6, 8, 11, 12, 15, 2, 16, 8, 16, 2, 3, 7, 2, 1, 2, 3, 4, 5, 6, 7, 9, 10, 11, 13, 12, 1, 2, 3, 5, 6, 7, 9, 13, 1, 2, 3, 5, 7, 9, 1, 2, 3, 4, 5, 6, 7, 8, 9, 10, 12, 13, 14, 15, 5, 14, 10, 14, 16, 10, 8, 15, 16, 5, 15, 1, 2, 3, 4, 5, 6, 7, 8, 9, 10, 11, 12, 13, 14, 15, 16, 6, 1, 8, 2, 4, 9, 16, 1, 2, 3, 4, 5, 6, 7, 11, 12, 13, 15, 10, 1, 3, 4, 6, 11, 12, 15, 16, 15, 6, 7, 15, 1, 3, 5, 9, 12, 13, 14, 15, 1, 12, 13, 14, 16, 2, 4, 6, 8, 10, 11, 12, 15, 16, 1, 2, 3, 4, 6, 8, 10, 11, 12, 11, 1, 3, 4, 5, 7, 14, 15, 1, 3, 5, 6, 8, 9, 11, 15, 16, 7, 8, 3, 7, 12, 1, 1, 2, 3, 4, 6, 7, 12, 13, 14, 16, 1, 5, 6, 7, 8, 9, 12, 4, 6, 3, 9, 13, 13, 1, 3, 15, 1, 4, 7, 8, 10, 11, 12, 13, 14, 15, 16, 2, 4, 10, 11, 12, 16, 1, 2, 3, 4, 5, 7, 8, 10, 11, 12, 13, 14, 10, 16, 14, 16, 1, 2, 3, 4, 5, 6, 7, 8, 9, 12, 13, 14, 15, 13, 13, 3, 6, 8, 10, 15, 6, 11, 1, 3, 4, 5, 6, 11, 13, 15, 7, 2, 8, 10, 13, 16, 9, 1, 2, 3, 4, 5, 6, 7, 8, 9, 10, 11, 12, 13, 14, 15, 16, 8, 5, 14, 4, 6, 8, 10, 11, 12, 14, 15, 5, 9, 11, 12, 13, 2, 3, 5, 6, 7, 9, 11, 12, 16, 3, 1, 2, 3, 4, 5, 6, 7, 8, 9, 10, 11, 12, 13, 14, 15, 16, 3, 4, 6, 13, 15, 7, 9, 15, 1, 3, 4, 9, 11, 13, 14, 15, 16, 2, 3, 4, 8, 16, 2, 4, 7, 12, 13, 11, 4, 11, 1, 2, 5, 6, 7, 8, 9, 10, 11, 12, 13, 14, 15, 16, 7, 1, 2, 7, 9, 10, 12, 13, 14, 16, 2, 6, 12, 16, 3, 2, 7, 15, 1, 3, 5, 6, 11, 13, 14, 16, 15, 13, 3, 6, 8, 13, 15, 1, 2, 4, 5, 6, 9, 13, 1, 2, 3, 4, 5, 6, 7, 9, 10, 11, 12, 13, 14, 15, 16, 11, 1, 14, 1, 5, 6, 7, 8, 9, 10, 11, 12, 13, 15, 16, 4, 6, 8, 11, 15, 16, 3, 4, 6, 3, 1, 2, 3, 5, 6, 7, 10, 11, 12, 13, 14, 15, 16, 1, 2, 3, 7, 8, 9, 10, 11, 12, 13, 14, 15, 3, 16, 2, 3, 4, 6, 11, 15, 2, 4, 12, 1, 2, 6, 11, 13, 15, 16], \"Freq\": [0.006410108289598029, 0.0012820216579196059, 0.0012820216579196059, 0.1282021657919606, 0.7653669297780047, 0.023076389842552905, 0.0012820216579196059, 0.01794830321087448, 0.05512693129054305, 0.9941721198907685, 0.0012868544735601967, 0.025737089471203935, 0.0012868544735601967, 0.301123946813086, 0.12482488393533908, 0.005147417894240787, 0.16729108156282557, 0.021876526050523346, 0.35259812575549393, 0.0028022938770270018, 0.07846422855675605, 0.06725505304864804, 0.0014011469385135009, 0.0014011469385135009, 0.008406881631081005, 0.0014011469385135009, 0.83648472229256, 0.0014011469385135009, 0.9938400773812917, 0.31234208387448914, 0.001020725764295716, 0.04593265939330722, 0.13065289782985165, 0.151067413115766, 0.03674612751464578, 0.001020725764295716, 0.004082903057182864, 0.024497418343097186, 0.013269434935844308, 0.2796788594170262, 0.8731321372262126, 0.020504081500419866, 0.005126020375104966, 0.005126020375104966, 0.0017086734583683222, 0.09397704021025771, 0.8932724214353014, 0.007272231382105574, 0.06060192818421312, 0.0024240771273685248, 0.0012120385636842624, 0.033937079783159345, 0.038439497002883384, 0.03145049754781368, 0.014560415531395221, 0.5923177038171576, 0.09726357574972008, 0.003494499727534853, 0.1316261564038128, 0.023296664850232355, 0.02038458174395331, 0.016890082016418458, 0.02562633133525559, 0.0017472498637674265, 0.0011648332425116177, 0.0005824166212558088, 0.045652661230190475, 0.95218407708683, 0.4645697293121592, 0.07752768268367227, 0.016101903326608855, 0.16042266647621414, 0.0011927335797488042, 0.0017891003696232062, 0.10138235427864835, 0.0017891003696232062, 0.014909169746860051, 0.14312802956985649, 0.0005963667898744021, 0.0017891003696232062, 0.0041745675291208146, 0.011330969007613639, 0.9894005074799901, 0.9883602800724641, 0.9876750698333167, 0.9894880248077205, 0.20038536369711388, 0.0008965788084882053, 0.04124262519045744, 0.04213920399894565, 0.00851749868063795, 0.00044828940424410265, 0.0008965788084882053, 0.698883181216556, 0.0008965788084882053, 0.00044828940424410265, 0.005379472850929231, 0.9924276609233973, 0.991064116516224, 0.0163957464287464, 0.08900548061319473, 0.07495198367426925, 0.014053496938925485, 0.002342249489820914, 0.3044924336767188, 0.002342249489820914, 0.009368997959283656, 0.47313439694382464, 0.002342249489820914, 0.01171124744910457, 0.9897961170552342, 0.0055920684579391765, 0.002601879613287237, 0.0006504699033218093, 0.0006504699033218093, 0.9945684821790464, 0.0006504699033218093, 0.9966135985287872, 0.0008737460266857594, 0.9973810894617944, 0.0004368730133428797, 0.0008737460266857594, 0.9870836382630855, 0.003395821378699572, 0.14941614066278117, 0.10187464136098716, 0.05093732068049358, 0.006791642757399144, 0.6553935260890174, 0.03395821378699572, 0.0019224450171261977, 0.9567368035231377, 0.037167270331106485, 0.0006408150057087325, 0.003204075028543663, 0.016773731642782, 0.04727142553874927, 0.8295372739703099, 0.0015248846947983638, 0.0030497693895967276, 0.09301796638270018, 0.0015248846947983638, 0.0015248846947983638, 0.004574654084395091, 0.9939527988874134, 0.21146443466375736, 0.7000201975076106, 0.017500504937690266, 0.02187563117211283, 0.005833501645896755, 0.0014583754114741887, 0.0014583754114741887, 0.017500504937690266, 0.005833501645896755, 0.016042129526216076, 0.9873585861389403, 0.005425047176587584, 0.005425047176587584, 0.9921009637965588, 0.9936152925786431, 0.8416973209073686, 0.1558698742421053, 0.0018795833299141299, 0.9623466649160345, 0.015036666639313039, 0.018795833299141296, 0.9936463820783533, 0.9945840502758774, 0.9869228278066987, 0.10689691404470841, 0.0011844533412156057, 0.0008883400059117042, 0.8122388787386016, 0.02487352016552772, 0.005626153370774127, 0.02724242684795893, 0.0017766800118234085, 0.0005922266706078029, 0.00029611333530390143, 0.0008883400059117042, 0.017766800118234085, 0.004660739790740932, 0.11185775497778234, 0.030294808639816054, 0.002330369895370466, 0.009321479581481863, 0.7363968869370672, 0.002330369895370466, 0.09321479581481863, 0.004660739790740932, 0.0069911096861113966, 0.9954181642919882, 0.984064626612886, 0.9923790740546519, 0.9859495711271881, 0.006661821426535055, 0.0119687384023518, 0.00239374768047036, 0.02872497216564432, 0.02633122448517396, 0.00478749536094072, 0.0718124304141108, 0.777967996152867, 0.06702493505317009, 0.00239374768047036, 0.00478749536094072, 0.9844359897896878, 0.9950760543077638, 0.9930131890612581, 0.004043411829051997, 0.9340281325110114, 0.05256435377767596, 0.9890754634326527, 0.08280955985452465, 0.0020702389963631164, 0.24014772357812147, 0.6728276738180128, 0.9839650600098584, 0.00011414998086174441, 0.004565999234469776, 0.0006848998851704665, 0.28000990305385903, 0.00799049866032211, 0.0727135378089312, 0.00022829996172348883, 0.4729233707102071, 0.009474448411524786, 0.033902544315938095, 0.011529148067036187, 0.0009131998468939553, 0.006392398928257687, 0.0006848998851704665, 0.005935799004810709, 0.09177658461284251, 0.9975234559162154, 0.0023324405434234172, 0.0007774801811411391, 0.09796250282378353, 0.0007774801811411391, 0.0971850226426424, 0.012439682898258225, 0.7829225424091271, 0.0023324405434234172, 0.0015549603622822782, 0.9943200872482136, 0.9890119285564979, 0.0024633098499401854, 0.0008211032833133951, 0.018064272232894692, 0.4844509371549031, 0.01149544596638753, 0.018064272232894692, 0.3686753742077144, 0.013137652533014322, 0.0008211032833133951, 0.06897267579832518, 0.010674342683074135, 0.0016422065666267902, 0.990338411039411, 0.8387347294757606, 0.1101823103064672, 0.0022486185776830043, 0.0022486185776830043, 0.04497237155366009, 0.9521047660566035, 0.028764494442797692, 0.014382247221398846, 0.7782587524580791, 0.0003989024871645715, 0.2197952704276789, 0.0011967074614937145, 0.10409649765851263, 0.8662743023535994, 0.007976743115594837, 0.015554649075409932, 0.0003988371557797419, 0.0003988371557797419, 0.0003988371557797419, 0.0011965114673392256, 0.003190697246237935, 0.0003988371557797419, 0.033767146255734876, 0.958142775006477, 0.9919013178595318, 0.9625136689146154, 0.03512823609177428, 0.0014051294436709715, 0.08143115500171787, 0.3871111830081665, 0.0029231696667283338, 0.25222778267198764, 0.001670382666701905, 0.0037583610000792864, 0.0008351913333509525, 0.11483880833575598, 0.058880989001242154, 0.02004459200042286, 0.011275083000237858, 0.002087978333377381, 0.0058463393334566675, 0.00041759566667547626, 0.05721060633454025, 0.9878435591610052, 0.18768311670221038, 0.43267004214543175, 0.008411568255561249, 0.1198648476417478, 0.001051446031945156, 0.000525723015972578, 0.000525723015972578, 0.025760427782656328, 0.06098386985281906, 0.11303044843410429, 0.001051446031945156, 0.000525723015972578, 0.005257230159725781, 0.03180624246634097, 0.01077732182743785, 0.15051010374787727, 0.7776355360306992, 0.07069413963915448, 0.07132595479618126, 0.17152193891462636, 0.1443501466113192, 0.008491185094783483, 0.0016982370189566965, 0.0016982370189566965, 0.15963427978192948, 0.43814515089082773, 0.003396474037913393, 0.11688408525814066, 0.5464882325842878, 0.08027510761125133, 0.03528576158736322, 0.0008821440396840804, 0.0008821440396840804, 0.0004410720198420402, 0.002205360099210201, 0.12438230959545535, 0.014996448674629369, 0.05557507450009707, 0.019848240892891812, 0.0013232160595261207, 0.0008821440396840804, 0.0008821440396840804, 0.9866965970162818, 0.8225320316248984, 0.03564745562419303, 0.13862899409408402, 0.0013202761342293715, 0.11907593158941748, 0.36550195315664097, 0.04532799812769366, 0.2471455136009964, 0.10900304311659667, 0.004316952202637492, 0.003237714151978119, 0.027340697283370782, 0.014389840675458307, 0.016908062793663508, 0.0007194920337729153, 0.0028779681350916612, 0.007914412371502068, 0.009713142455934357, 0.025541967198938493, 0.001079238050659373, 0.10351570015491338, 0.8939992286106155, 0.09631493626573756, 0.0057788961759442535, 0.7570353990486972, 0.13676720949734733, 0.0038525974506295026, 0.0019262987253147513, 0.9953009843981249, 0.9874230184906425, 0.04632429593574453, 0.928500018538184, 0.004028199646586481, 0.014098698763052685, 0.004028199646586481, 0.04085808752496816, 0.9569394183479385, 0.9968591688245545, 0.9831315227294862, 0.04787970750886747, 0.9467123984707886, 0.0010881751706560787, 0.0021763503413121574, 0.9875146533234191, 0.029650846144809555, 0.004235835163544222, 0.07200919778025178, 0.06353752745316334, 0.8302236920546675, 0.983141457292691, 0.9860295664648829, 0.005810051712859842, 0.002905025856429921, 0.002905025856429921, 0.055195491272168495, 0.06391056884145825, 0.8656977052161163, 0.9829944129706414, 0.9822390538598865, 0.015158010090430349, 0.9883747313712532, 0.4943578682281158, 0.06972607450326034, 0.06763429226816253, 0.08715759312907542, 0.05787264183770608, 0.03346851576156496, 0.05368907736751046, 0.00418356447019562, 0.041138383956923597, 0.010458911175489052, 0.0006972607450326034, 0.01673425788078248, 0.036257558741695374, 0.010458911175489052, 0.0013945214900652069, 0.014642475645684671, 0.9975838298666855, 0.0008546137006046685, 0.001709227401209337, 0.33415395693642536, 0.6589071631661995, 0.001709227401209337, 0.001709227401209337, 0.9944240776602855, 0.024086352962219296, 0.8510511379984151, 0.1164173726507266, 0.9885649571471012, 0.00915337923284353, 0.006413240961821991, 0.9876391081205865, 0.986183277257947, 0.00680126398108929, 0.08705581578406879, 0.9095831787094084, 0.9877037621707558, 0.0027512110399180644, 0.9931871854104213, 0.9895967950889638, 0.013506503390629749, 0.7743728610627723, 0.07578649124742247, 0.0007503612994794305, 0.029264090679697787, 0.0007503612994794305, 0.0007503612994794305, 0.1035498593281614, 0.0013414083661911094, 0.04024225098573329, 0.95508275672807, 0.0013414083661911094, 0.9931647273222576, 0.0018131959595293421, 0.029011135352469474, 0.8993451959265537, 0.0018131959595293421, 0.0018131959595293421, 0.005439587878588027, 0.052582682826350924, 0.0036263919190586843, 0.0044507289730158555, 0.06676093459523783, 0.9257516263872979, 0.9859081651674902, 0.01490411514413625, 0.059616460576545, 0.8246943713088725, 0.08445665248343875, 0.0099360767627575, 0.9874679663838164, 0.006196998704407527, 0.006196998704407527, 0.08675798186170537, 0.8923678134346839, 0.02864681997066378, 0.9658070732966646, 0.0007562578643380026, 0.0015125157286760053, 0.9566661983875734, 0.0007562578643380026, 0.002268773593014008, 0.009831352236394034, 0.02646902525183009, 0.0027320795479505093, 0.013660397739752545, 0.05737367050696069, 0.3032608298225065, 0.013660397739752545, 0.606521659645013, 0.012229735941671862, 0.9844937433045848, 0.9894247944115342, 0.9885422745148523, 0.012810408769325739, 0.010980350373707776, 0.0036601167912359255, 0.0018300583956179627, 0.005490175186853888, 0.885748263479094, 0.012810408769325739, 0.036601167912359255, 0.010980350373707776, 0.018300583956179627, 0.01354528849264059, 0.9684881272238023, 0.006772644246320295, 0.9904685203261498, 0.8191825343121285, 0.004482530967508227, 0.0011206327418770568, 0.030257084030680535, 0.05827290257760696, 0.0022412654837541137, 0.0033618982256311703, 0.016809491128155853, 0.06275543354511519, 0.0011206327418770568, 0.0011206327418770568, 0.9716006668578869, 0.019239617165502713, 0.9842659289960648, 0.0051905249866778455, 0.010381049973355691, 0.9810092224821128, 0.01863040811991559, 0.01863040811991559, 0.006210136039971862, 0.9563609501556668, 0.9829252954877914, 0.9881816661313346, 0.003860084633325526, 0.9895636572806792, 0.9961429865299491, 0.0054376476780998665, 0.9570259913455764, 0.0027188238390499333, 0.032625886068599196, 0.013536885798837672, 0.9814242204157312, 0.003384221449709418, 0.13159796945777413, 0.06376396458263282, 0.08004412575266673, 0.005426720390011304, 0.04205708302258761, 0.05019716360760456, 0.07190404516764978, 0.008140080585016956, 0.001356680097502826, 0.004070040292508478, 0.2971129413531189, 0.005426720390011304, 0.23063561657548043, 0.002713360195005652, 0.005426720390011304, 0.019959603067516655, 0.2537720961441403, 0.02281097493430475, 0.007603658311434916, 0.042295349357356724, 0.001900914577858729, 0.4105975488174855, 0.03801829155717458, 0.001900914577858729, 0.005227515089111505, 0.00047522864446468226, 0.026137575445557525, 0.006653201022505551, 0.14922179436191024, 0.012831173400546422, 0.00047522864446468226, 0.007927360150853813, 0.007927360150853813, 0.9750652985550191, 0.8274182052645734, 0.16780971632875885, 0.0016614823398887015, 0.023179439634235233, 0.9735364646378798, 0.9958689876278396, 0.002417157736960776, 0.9857514269361549, 0.982190238941858, 0.002948043854506794, 0.02358435083605435, 0.2437049586392283, 0.001965362569671196, 0.022601669551218756, 0.000982681284835598, 0.6466042854218235, 0.000982681284835598, 0.007861450278684784, 0.01572290055736957, 0.002948043854506794, 0.02948043854506794, 0.988405539222706, 0.05540965024842295, 0.018469883416140982, 0.009234941708070491, 0.007387953366456393, 0.0018469883416140983, 0.6981615931301292, 0.0018469883416140983, 0.19393377586948032, 0.012928918391298689, 0.003445597020560361, 0.010336791061681084, 0.9751039568185822, 0.003445597020560361, 0.003445597020560361, 0.9931456110741476, 0.9917347461567625, 0.9815411493070225, 0.9911879141683738, 0.003048815650707799, 0.10518413994941908, 0.5716529345077124, 0.0015244078253538996, 0.048781050411324786, 0.22713676597773105, 0.025914933031016295, 0.009146446952123398, 0.0015244078253538996, 0.006097631301415598, 0.9805005159939892, 0.0009400771965426551, 0.01692138953776779, 0.0009400771965426551, 0.022450375521586557, 0.006735112656475967, 0.8194387065379094, 0.008980150208634623, 0.0022450375521586557, 0.13919232823383665, 0.9888386874913285, 0.9877246195460234, 0.007187417580216058, 0.04671821427140438, 0.025155961530756204, 0.9163957414775474, 0.018925427373874457, 0.9746595097545346, 0.004731356843468614, 0.7849507018529965, 0.08989658875970072, 0.02411859698430995, 0.002192599725846359, 0.06029649246077487, 0.037274195339388104, 0.9918249355249518, 0.05200492096386409, 0.94128906944594, 0.038312439976930894, 0.0021284688876072716, 0.034055502201716346, 0.9237554972215559, 0.9961324163689532, 0.0017537542541706923, 0.0008342503838095218, 0.5823067678990462, 0.0016685007676190437, 0.38375517655238006, 0.0008342503838095218, 0.030033013817142788, 0.9957230922373805, 0.0017263515632621972, 0.1277500156814026, 0.8700811878841473, 0.9921541789595159, 0.9860276132638663, 0.8679614228867011, 0.010511643529769736, 0.1156280788274671, 0.00450499008418703, 0.9903101065197457, 0.007966084684113112, 0.001257802844859965, 0.013641703270085374, 0.006820851635042687, 0.9753817838111042, 0.9907656022442362, 0.006929182418623739, 0.9908730858631947, 0.9908852514862182, 0.010831315171565329, 0.9639870502693143, 0.018052191952608883, 0.0010306620602783746, 0.0020613241205567493, 0.9265651921902588, 0.023705227386402617, 0.0010306620602783746, 0.011337282663062121, 0.03298118592890799, 0.0010306620602783746, 0.0010306620602783746, 0.0010691625278532728, 0.03474778215523137, 0.029401969515965, 0.0032074875835598183, 0.5639832334426014, 0.0021383250557065457, 0.09675920877072118, 0.16946226066474374, 0.0005345812639266364, 0.0016037437917799091, 0.002672906319633182, 0.004276650111413091, 0.0021383250557065457, 0.07003014557438937, 0.013899112862092547, 0.004276650111413091, 0.7862859875221032, 0.0005145850703678686, 0.2109798788508261, 0.0015437552111036057, 0.9858760585750677, 0.0056015685146310655, 0.9915819882114459, 0.004166310874838008, 0.9521611332807464, 0.017714625735455746, 0.02214328216931968, 0.0044286564338639365, 0.03185505233271155, 0.9620225804478888, 0.9933378895355287, 0.94672336772025, 0.04138681388940984, 0.00517335173617623, 0.24899988713725202, 0.01724375949703961, 0.17979493235579969, 0.12208581723904045, 0.2441716344780809, 0.06460661891557508, 0.0020692511396447535, 0.015404425150688721, 0.01241550683786852, 0.022301928949504567, 0.0002299167932938615, 0.006667587005521984, 0.006437670212228123, 0.009656505318342183, 0.04805260979841706, 0.9815378147508388, 0.1193608943264773, 0.06341047511094107, 0.03996458515395445, 0.07353483668327619, 0.5632342201030648, 0.002664305676930297, 0.1023093379941234, 0.0005328611353860594, 0.0005328611353860594, 0.007460055895404831, 0.010657222707721188, 0.001598583406158178, 0.010657222707721188, 0.0037300279477024156, 0.7243673280427083, 0.001123050120996447, 0.0381837041138792, 0.010107451088968022, 0.002246100241992894, 0.001123050120996447, 0.06176775665480458, 0.002246100241992894, 0.060644706533808136, 0.013476601451957363, 0.005615250604982235, 0.06738300725978681, 0.01123050120996447, 0.9876883216657801, 0.9952963327003683, 0.007533097997704842, 0.022599293993114528, 0.8148301000850737, 0.13559576395868717, 0.01632171232836049, 0.9936419510676969, 0.02326192593931291, 0.9595544449966575, 0.011630962969656456, 0.9855375256583335, 0.006940405110269955, 0.9980723303098019, 0.1648448998735427, 0.8324667443613906, 0.002747414997892378, 0.9854466104730014, 0.9771781793495825, 0.9914718803599188, 0.24483238573023994, 0.0014070826766105742, 0.7316829918374986, 0.0014070826766105742, 0.018292074795937467, 0.0020703847423302877, 0.0033643752062867175, 0.9510829910079759, 0.00025879809279128596, 0.04270168531056218, 0.0063193586347116545, 0.00023405031980413537, 0.005851257995103384, 0.9167751026727982, 0.0009362012792165415, 0.00023405031980413537, 0.06951294498182821, 0.7647360484332327, 0.14202240899474322, 0.002184960138380665, 0.0873984055352266, 0.9871589526586885, 0.9904094534548713, 0.8624065569486322, 0.018316599439616967, 0.030527665732694945, 0.0015263832866347473, 0.03205404901932969, 0.0015263832866347473, 0.04426511531240767, 0.007631916433173736, 0.9934431416934728, 0.010431153385185033, 0.9805284182073931, 0.37618583584713433, 0.006638573573772959, 0.033192867868864794, 0.019915720721318877, 0.022128578579243198, 0.539937317333534, 0.987814455243542, 0.8797662083538633, 0.0034232148184975227, 0.010269644455492569, 0.0034232148184975227, 0.0034232148184975227, 0.09585001491793063, 0.9929364968466143, 0.9939324145687106, 0.9068440064745841, 0.002264279666603206, 0.001132139833301603, 0.005660699166508016, 0.06226769083158817, 0.009057118666412824, 0.007924978833111222, 0.001132139833301603, 0.001132139833301603, 0.9957735072597904, 0.001344889299462237, 0.012104003695160135, 0.09145247236343212, 0.002689778598924474, 0.01479378229408461, 0.8755229339499164, 0.15853366928190615, 0.0008710641169335503, 0.0008710641169335503, 0.0013065961754003253, 0.0008710641169335503, 0.0013065961754003253, 0.0004355320584667751, 0.009581705286269053, 0.60234083685955, 0.18684325308224653, 0.036149160852742335, 0.020890262790670654, 0.9679155093010735, 0.09185662648681497, 0.0061237750991209984, 0.9001949395707868, 0.9812647458384671, 0.9843444739681545, 0.8602469036149933, 0.09148657546381675, 0.0013654712755793545, 0.006827356377896773, 0.010923770204634836, 0.02730942551158709, 0.009069654286340014, 0.9795226629247216, 0.9876944003823616, 0.004115393334926506, 0.004115393334926506, 0.9916485796538734, 0.9929196984766346, 0.9809652412187475, 0.9876074884000074, 0.9432094160869475, 0.04192041849275322, 0.003377935298538095, 0.9863571071731237, 0.003377935298538095, 0.9868161299516081, 0.9959133669720815, 0.9208258810989017, 0.07686621494692707, 0.9899604219287587, 0.006599736146191725, 0.12635298375977358, 0.5892480380076645, 0.06407473584026432, 0.05269697900881552, 0.11257990970065135, 0.0035929758415101493, 0.03233678257359134, 0.0005988293069183582, 0.0005988293069183582, 0.0017964879207550747, 0.014970732672958955, 0.0005988293069183582, 0.04468227856813193, 0.026809367140879156, 0.9249231663603309, 0.0016585654394821968, 0.08790396829255644, 0.17580793658511287, 0.01658565439482197, 0.013268523515857574, 0.6965974845825227, 0.008292827197410984, 0.9962568392980335, 0.9858298829648289, 0.003908966819363493, 0.019544834096817464, 0.9733327380215098, 0.018055089704462943, 0.03112946500769473, 0.003112946500769473, 0.5983083174478927, 0.2179062550538631, 0.004980714401231157, 0.019300268304770732, 0.025526161306309678, 0.015564732503847364, 0.0006225893001538946, 0.026148750606463572, 0.0024903572006155783, 0.009961428802462313, 0.0006225893001538946, 0.026771339906617467, 0.019871375463938714, 0.394289923679205, 0.016733789864369443, 0.05647654079224688, 0.0020917237330461804, 0.005229309332615451, 0.02823827039612344, 0.3106209743573578, 0.0010458618665230902, 0.006275171199138542, 0.0020917237330461804, 0.15269583251237118, 0.004183447466092361, 0.009022500704507736, 0.2566400200393312, 0.00401000031311455, 0.1724300134639256, 0.021052501643851383, 0.003007500234835912, 0.01904750148729411, 0.3709250289630958, 0.04611500360081732, 0.010025000782786373, 0.011027500861065012, 0.00401000031311455, 0.07117750555778325, 0.9985079978329043, 0.9980747194964587, 0.9804991831121049, 0.014074150953762271, 0.00469138365125409, 0.9921563293083095, 0.9823734939038069, 0.005792981133871902, 0.003310274933641087, 0.28799391922677453, 0.0008275687334102717, 0.005792981133871902, 0.0008275687334102717, 0.004965412400461631, 0.17958241515002896, 0.0008275687334102717, 0.5089547710473171, 0.07712153648018566, 0.10678366589564169, 0.1557261794311441, 0.031886789121615224, 0.0014831064707728013, 0.0014831064707728013, 0.017055724413887214, 0.0007415532353864006, 0.1275471564864609, 0.0007415532353864006, 0.003707766176932003, 0.060807365301684846, 0.08008774942173126, 0.33444050915926665, 0.19292205559730932, 0.8025557512848068, 0.9906676776516092, 0.7922613996451083, 0.16495765212552108, 0.020910124917319573, 0.0011616736065177542, 0.018586777704284067, 0.15852761529036627, 0.06883435927081694, 0.014601227724112683, 0.008343558699492961, 0.006257669024619721, 0.010429448374366202, 0.6653988062845636, 0.047975462522084525, 0.016687117398985922, 0.9869835650125799, 0.9920114965217173, 0.9855813385828869, 0.01012007752211303, 0.0007784675017010023, 0.015569350034020045, 0.5924137687944627, 0.05527119262077116, 0.08718836019051225, 0.12221939776705736, 0.0023354025051030066, 0.04048031008845212, 0.0015569350034020045, 0.003892337508505011, 0.0677266726479872, 0.9474630792494234, 0.03947762830205931, 0.011279322372016946, 0.9902045605337554, 0.9948073812078614, 0.9868220256894286, 0.9909172086671866, 0.022768547574372897, 0.20085111610250378, 0.05692136893593225, 0.0016263248267409213, 0.7163960861793758, 0.0008131624133704607, 0.011362028216413722, 0.01704304232462058, 0.9600913842869595, 0.14101515784681726, 0.7188333656093855, 0.0008598485234562027, 0.13843561227644866, 0.9853668889240156, 0.027811040287679528, 0.10047859716839055, 0.10316998816397245, 0.0448565165930315, 0.01614834597349134, 0.03767947393814646, 0.25299075358469764, 0.01076556398232756, 0.00717704265488504, 0.02870817061954016, 0.03947373460186772, 0.1857059786951504, 0.11214129148257874, 0.015251215641630709, 0.00089713033186063, 0.01704547630535197, 0.9935469071921295, 0.006570260098594292, 0.006570260098594292, 0.9789687546905494, 0.9833900537762128, 0.9834091681931765, 0.9957229357076298, 0.005068752698240295, 0.05575627968064324, 0.9225129910797337, 0.01013750539648059, 0.9832300787764348, 0.009545923094916841, 0.9858994048916307, 0.005770528349546132, 0.9925308761219347, 0.004396068722079606, 0.001884029452319831, 0.010676166896479043, 0.6054014640121057, 0.15323439545534626, 0.0006280098174399438, 0.006280098174399437, 0.21101129865982107, 0.002512039269759775, 0.0012560196348798875, 0.0006280098174399438, 0.0012560196348798875, 0.0007960106552526351, 0.8732236888121406, 0.10825744911435838, 0.003980053276263175, 0.005572074586768445, 0.0007960106552526351, 0.0015920213105052703, 0.0031840426210105405, 0.0007960106552526351, 0.9918657486191993, 0.9941776879978477, 0.10283169649569825, 0.046519100795673014, 0.8471373092264665, 0.002916379627658357, 0.2712233053722272, 0.0002651254206962143, 0.006097884676012928, 0.0005302508413924286, 0.0005302508413924286, 0.0002651254206962143, 0.6917122225964231, 0.0015907525241772857, 0.0007953762620886429, 0.004507132151835643, 0.0002651254206962143, 0.0002651254206962143, 0.01802852860734257, 0.0005302508413924286, 0.9934175664970264, 0.9894563922421247, 0.3753641871953254, 0.001564017446647189, 0.281523140396494, 0.03284436637959097, 0.0005213391488823963, 0.17516995402448518, 0.12303603913624554, 0.0005213391488823963, 0.007298748084353549, 0.0010426782977647926, 0.0010426782977647926, 0.986634625959939, 0.18503953599628722, 0.8083306046153599, 0.01202563875558888, 0.0006329283555573094, 0.02468420586673507, 0.6474857077351276, 0.019620779022276595, 0.11582588906698764, 0.031013489422308166, 0.06076112213350171, 0.08544532800023678, 0.001265856711114619, 0.0006329283555573094, 0.0006329283555573094, 0.9851355731527048, 0.9903336700093187, 0.9939728036810651, 0.9869308286250635, 0.0010206886154653756, 0.007144820308257628, 0.0010206886154653756, 0.23067562709517486, 0.3990892486469618, 0.0030620658463961265, 0.24802733355808623, 0.10513092739293367, 0.0030620658463961265, 0.0037718060633765275, 0.0037718060633765275, 0.0025145373755843517, 0.08675153945766013, 0.4953638629901173, 0.00628634343896088, 0.2589973496851882, 0.0012572686877921758, 0.13578501828155498, 0.0025145373755843517, 0.0012572686877921758, 0.03242774766163644, 0.2036754038523008, 0.23646750822923654, 0.07578619678225146, 0.013116841750774292, 0.0007287134305985717, 0.17707736363545293, 0.007651491021285003, 0.0010930701458978576, 0.20950511129708937, 0.0003643567152992859, 0.00619406416008786, 0.03242774766163644, 0.0036435671529928587, 0.7298190767867185, 0.0018109654510836688, 0.13220047792910783, 0.0036219309021673376, 0.0018109654510836688, 0.009054827255418344, 0.11771275432043847, 0.0036219309021673376, 0.9930167302673174, 0.988171815990655, 0.015562394706191314, 0.008488578930649807, 0.9747718138696196, 0.9978263296250959, 0.9728127976307644, 0.024481381662231155, 0.1684787689687274, 0.012513012018897525, 0.5077700829573257, 0.0022841212415447864, 0.11976740075230488, 0.08535661770033669, 0.019266066124334284, 0.000496548095987997, 0.040617634251818156, 0.000496548095987997, 0.003177907814323181, 0.0017875731455567893, 0.009484068633370743, 0.022443973938657467, 0.005561338675065567, 0.0005462029055867967, 0.9857930854584176, 0.9897260336294381, 0.02475248341564939, 0.06859973975194258, 0.5537484146986705, 0.0021216414356270905, 0.15700146623640468, 0.09193779554384059, 0.026166911039400782, 0.007072138118756967, 0.004243282871254181, 0.06506367069256411, 0.4587123000483676, 0.21969904897053394, 0.0036214128951186915, 0.0012071376317062306, 0.014485651580474766, 0.29937013266314516, 0.9901187008495769, 0.9974724088923108, 0.0003930151335273092, 0.0011790454005819275, 0.9972128344021498, 0.002261253592748639, 0.994565976467391, 0.9976058187552794, 0.053306239695931096, 0.9404743717782128, 0.00841802213077977, 0.984908589301233, 0.1024403925634804, 0.1190428010134238, 0.013423223853145708, 0.10138066436454786, 0.03355805963286427, 0.024020505842471267, 0.00035324273297751866, 0.1310530539346594, 0.012363495654213153, 0.13988412225909738, 0.10173390709752538, 0.020488078512696083, 0.1684967836302764, 0.0035324273297751866, 0.0024726991308426306, 0.025786719507358863, 0.989082198286513, 0.0012013572665485169, 0.9634885277719106, 0.0012013572665485169, 0.03123528893026144, 0.0005435678938833694, 0.0021742715755334774, 0.02446055522475162, 0.052726085706686826, 0.8468787786702894, 0.05816176464552052, 0.0005435678938833694, 0.011414925771550755, 0.0027178394694168466, 0.0007639157639052098, 0.008785031284909914, 0.0003819578819526049, 0.010694820694672938, 0.16385993135766752, 0.496927204420339, 0.30709413708989436, 0.010312862812720333, 0.0058155316094417285, 0.9921296925707588, 0.003263271625450387, 0.003263271625450387, 0.003263271625450387, 0.0489490743817558, 0.7244463008499858, 0.11747777851621392, 0.08810833388716045, 0.006526543250900774, 0.003263271625450387, 0.984624618946179, 0.0003364709976942807, 0.0010094129930828422, 0.9242858306661892, 0.057200069608027725, 0.0043741229700256495, 0.010094129930828422, 0.0020188259861656844, 0.9884772040822062, 0.9877480106306297, 0.04257609670100122, 0.05031720519209236, 0.0019352771227727828, 0.0019352771227727828, 0.9018391392121169, 0.21315704068484836, 0.007993389025681814, 0.53431364865002, 0.0008881543361868682, 0.12416397619892418, 0.05790766271938381, 0.0051512951498838356, 0.0003552617344747473, 0.01900650279439898, 0.00017763086723737365, 0.0007105234689494946, 0.0007105234689494946, 0.007993389025681814, 0.023092012740858574, 0.003374986477510099, 0.0008881543361868682, 0.9868034991234811, 0.9568700901960386, 0.0009957024871967103, 0.032858182077491443, 0.0019914049743934206, 0.0059742149231802625, 0.9888208219545626, 0.003985388831139492, 0.0011386825231827118, 0.8357929720161105, 0.12297771250373288, 0.0005693412615913559, 0.007970777662278983, 0.022773650463654236, 0.0011386825231827118, 0.0011386825231827118, 0.0017080237847740677, 0.0005693412615913559, 0.985407568294298, 0.004579764451757748, 0.9663302993208848, 0.02289882225878874, 0.9880107122500333, 0.007142961135314651, 0.9785856755381072, 0.9876084765330133, 0.004119407356831115, 0.9948368766747143, 0.9887556028490007, 0.9944584318074629, 0.002071788399598881, 0.002071788399598881, 0.17439441573519202, 0.001384082664565016, 0.8207610200870545, 0.000692041332282508, 0.0020761239968475243, 0.9914570966716453, 0.019852939989062533, 0.8708823008535432, 0.009264705328229183, 0.07808823062364596, 0.001323529332604169, 0.018529410656458366, 0.001323529332604169, 0.001323529332604169, 0.9928192772496679, 0.002092317131285471, 0.12553902787712828, 0.002092317131285471, 0.002092317131285471, 0.18412390755312147, 0.004184634262570942, 0.6779107505364926, 0.09214695417515992, 0.07092699311905054, 0.05261387604323011, 0.0072671099507223905, 0.6610163211177087, 0.0026161595822600608, 0.06046235479001029, 0.00029068439802889563, 0.007557794348751286, 0.0005813687960577913, 0.004069581572404539, 0.0043602659704334345, 0.027615017812745085, 0.008429847542837973, 0.002192508614687628, 0.996129747273079, 0.000730836204895876, 0.001257407805281133, 0.9958669817826573, 0.001257407805281133, 0.9950973602736565, 0.9384993082287987, 0.05745914132013053, 0.12602354154473228, 0.0033164089880192704, 0.049746134820289056, 0.809203793076702, 0.009949226964057811, 0.9909543587655868, 0.018810684569477577, 0.009405342284738789, 0.9640475841857258, 0.9913110308510884, 0.9854953277838184, 0.9873589889241846, 0.9993441567328543, 0.9963561339786476, 0.9930052514277576, 0.9926502478908491, 0.058690448012034685, 0.006521160890226077, 0.9260048464121028, 0.0050873533680628955, 0.0050873533680628955, 0.025436766840314477, 0.8445006590984406, 0.0050873533680628955, 0.04578618031256606, 0.0050873533680628955, 0.06613559378481763, 0.3284940264879142, 0.6686367773193714, 0.014676330301581681, 0.014676330301581681, 0.9657025338440747, 0.9983340910993085, 0.028819227006101917, 0.9457946317457084, 0.002619929727827447, 0.002619929727827447, 0.01833950809479213, 0.992736346735847, 0.9943517662190487, 0.9899875238628244, 0.9946691790429077, 0.002883099069689588, 0.008051892253923214, 0.9903827472325554, 0.03368880710222193, 0.9634998831235471, 0.09404172185228331, 0.023897256558441278, 0.1810346126333717, 0.07255138322059151, 0.21782607237082804, 0.16315465089180411, 0.008596135452676719, 0.08664904536298132, 0.05260834897038152, 0.011174976088479735, 0.0025788406358030155, 0.002406917926749481, 0.01684842548724637, 0.04366836809959773, 0.013238048597122147, 0.009627671706997925, 0.9872345855634237, 0.992107191263668, 0.004657780240674497, 0.00070353714225048, 0.00070353714225048, 0.08442445707005759, 0.05417235995328696, 0.00281414856900192, 0.010553057133757199, 0.8463551821273274, 0.11027082731278279, 0.048452333213192436, 0.11862467786678148, 0.0016707701107997392, 0.008353850553998695, 0.010024620664798435, 0.6315511018823013, 0.06683080443198956, 0.9892820934873898, 0.0008955716409647111, 0.9976668080346881, 0.0008955716409647111, 0.9878511363851843, 0.007752558217923462, 0.9845748936762796, 0.9908568895916717, 0.9899284431328411, 0.014443772901828132, 0.0006877987096108634, 0.9835521547435346, 0.0006877987096108634, 0.7606262027270795, 0.23752406691657899, 0.0033333743337906124, 0.061667425175126335, 0.0016666871668953062, 0.005000061500685919, 0.0016666871668953062, 0.0033333743337906124, 0.0016666871668953062, 0.06833417384270755, 0.348337617881119, 0.5033395244023825, 0.9931291764226367, 0.99429536403215, 0.9848919010822379, 0.00834768618334525, 0.9850269696347397, 0.8554161970276702, 0.0669456154195568, 0.07624361756116192, 0.989143480521295, 0.859650530901131, 0.13605979625773296, 0.9879775297412448, 0.8994768824293933, 0.07565693403611719, 0.02101581501003255, 0.0021015815010032553, 0.9834600700163382, 0.009766237040877241, 0.0029298711122631724, 0.0019532474081754483, 0.0009766237040877241, 0.8785086163345739, 0.003053911760143362, 0.03359302936157699, 0.08245561752387078, 0.0010179705867144541, 0.9907934587838835, 0.9925360101562849, 0.9939348598593192, 0.9938564759916126, 0.9893607171243677, 0.9872120662994627, 0.07657933028358738, 0.8423726331194611, 0.01178143542824421, 0.001963572571374035, 0.001963572571374035, 0.06283432228396912, 0.9889778283268255, 0.9916963645810913, 0.003298387739535777, 0.003298387739535777, 0.85923000614907, 0.006596775479071554, 0.003298387739535777, 0.0857580812279302, 0.03793145900466144, 0.0008371247588477024, 0.0004185623794238512, 0.9974341501670374, 0.0008371247588477024, 0.00732943777652698, 0.0009161797220658725, 0.03847954832676665, 0.04947370499155712, 0.0027485391661976177, 0.00732943777652698, 0.0009161797220658725, 0.8923590492921599, 0.9942279180980231, 0.981998586431963, 0.0014971653695435676, 0.9252481983779247, 0.03443480349950205, 0.03593196886904562, 0.0014971653695435676, 0.0014971653695435676, 0.9863336926319084, 0.05334890278250128, 0.7715072094700185, 0.17372591418917083, 0.1576671488517065, 0.0018769898672822203, 0.061940665620313265, 0.0037539797345644407, 0.0018769898672822203, 0.07883357442585325, 0.016892908805539984, 0.6738393623543171, 0.9888102583817457, 0.6687025319463786, 0.04330327728668953, 0.09201946423421524, 0.003331021329745348, 0.1349063638546866, 0.0004163776662181685, 0.0029146436635271796, 0.008327553324363371, 0.0004163776662181685, 0.020818883310908424, 0.0004163776662181685, 0.013324085318981393, 0.0004163776662181685, 0.01124219698789055, 0.0004163776662181685, 0.12666027814707975, 0.03838190246881205, 0.003838190246881205, 0.011514570740643614, 0.8175345225856967, 0.9951091933652549, 0.0016923625737504334, 0.0016923625737504334, 0.0016923625737504334, 0.237126801007409, 0.03633394531565138, 0.009561564556750363, 0.7152050288449271, 0.254276714871598, 0.02705071434804234, 0.034264238174186966, 0.6564306681791607, 0.010820285739216937, 0.003606761913072312, 0.012623666695753093, 0.010498657282655002, 0.9868737845695701, 0.003562088336119265, 0.0005936813893532108, 0.0011873627787064216, 0.9107072512678254, 0.016623078901889903, 0.008311539450944951, 0.02018516723800917, 0.004749451114825686, 0.023747255574128434, 0.0005936813893532108, 0.0005936813893532108, 0.0005936813893532108, 0.00712417667223853, 0.0011873627787064216, 0.0005936813893532108, 0.0016760012837035568, 0.987164756101395, 0.0033520025674071137, 0.0016760012837035568, 0.0033520025674071137, 0.0016760012837035568, 0.9873800013790665, 0.004183813565165536, 0.9548449020689662, 0.041741853642359175, 0.054368907148442114, 0.14498375239584566, 0.051348412306862, 0.07349870781178286, 0.008054652910880313, 0.10370365622758404, 0.5477163979398613, 0.002013663227720078, 0.01208197936632047, 0.002013663227720078, 0.001006831613860039, 0.993043253791209, 0.003508986762513106, 0.9867988815180977, 0.8347557446280429, 0.011302302151636946, 0.0016146145930909922, 0.02906306267563786, 0.11786686529564243, 0.0016146145930909922, 0.987414958926007, 0.03120527740237413, 0.9632028958199481, 0.004160703653649884, 0.0007186930956515018, 0.5648927731820804, 0.0007186930956515018, 0.0007186930956515018, 0.4319345504865526, 0.00809870064667124, 0.9799427782472201, 0.0591460292413129, 0.9299070152939751, 0.009857671540218818, 0.12092474028984738, 0.048369896115938955, 0.06650860715941606, 0.0030231185072461847, 0.7588027453187923, 0.006458752829379462, 0.9817304300656782, 0.006458752829379462, 0.0007109187191697621, 0.0007109187191697621, 0.9938643693993274, 0.0007109187191697621, 0.0028436748766790484, 0.0007109187191697621, 0.9907825024462694, 0.9941263530350474, 0.9945006512059519, 0.9904120283651223, 0.8561787005277962, 0.14269645008796603, 0.9903005003127923, 0.939168188086673, 0.051111193909478804, 0.0021296330795616165, 0.004259266159123233, 0.004921955708250736, 0.9942350530666487, 0.007614626507563661, 0.9822868194757123, 0.9927515793210894, 0.9878171945380504, 0.9834904828120254, 0.9894385749285431, 0.008835302210883675, 0.9895538476189715, 0.988683900418958, 0.0061408937914221, 0.11856475241983487, 0.0031407881435717845, 0.028659691810092536, 0.0007851970358929461, 0.11306837316858424, 0.052608201404827394, 0.08990506060974233, 0.00039259851794647306, 0.026304100702413697, 0.0306226843998249, 0.0031407881435717845, 0.20179563822448715, 0.0832308858046523, 0.21671438190645315, 0.029837487363931953, 0.0011777955538394191, 0.039693880517994724, 0.6319265778464761, 0.057159187945912404, 0.022228573090077048, 0.03493061485583536, 0.04128163573871452, 0.1317836833197425, 0.03810612529727494, 0.9953394107455538, 0.0026385664681725218, 0.0026385664681725218, 0.007915699404517565, 0.981546726160178, 0.0026385664681725218, 0.9880785819017405, 0.9840837159005653, 0.05125534950595673, 0.013488249869988611, 0.776923192511344, 0.14837074856987473, 0.008092949921993168, 0.991879666947483, 0.981266227265685, 0.009715507200650347, 0.0048577536003251735, 0.23394284482447678, 0.01004046544311059, 0.002008093088622118, 0.005020232721555295, 0.07831563045626261, 0.6686949985111653, 0.9925433298596772, 0.9844731773509979, 0.009271330920010413, 0.9827610775211039, 0.006078946108507631, 0.9847892695782361, 0.9670372182847016, 0.022664934803547695, 0.9066170866418167, 0.09030756136471221, 0.9860577332770348, 0.0023339074707383915, 0.494788383796539, 0.0070017224122151745, 0.20071604248350167, 0.018671259765907132, 0.2754010815471302, 0.012386192281106524, 0.008847280200790375, 0.031850208722845344, 0.8864974761191955, 0.0495447691244261, 0.0017694560401580748, 0.005308368120474224, 0.004468409808487778, 0.9942211823885306, 0.26221661818864667, 0.3541275977599249, 0.09731750778135341, 0.00926833407441461, 0.04093514216199786, 0.05058965682284641, 0.03128062750114931, 0.0007723611728678841, 0.11817125944878627, 0.0019309029321697103, 0.0027032641050375944, 0.0015447223457357682, 0.009654514660848552, 0.01815048756239528, 0.0007723611728678841, 0.012790110519110012, 0.9784434547119158, 0.4736203332900546, 0.0006642641420617876, 0.4404071261869652, 0.0026570565682471504, 0.06376935763793161, 0.0006642641420617876, 0.007306905562679664, 0.0013285282841235752, 0.006642641420617876, 0.0013285282841235752, 0.0006642641420617876, 0.0006642641420617876, 0.9899750865114411, 0.9817489772401763, 0.009048377670416372, 0.004524188835208186, 0.009983315142617952, 0.9783648839765593, 0.009983315142617952, 0.9969714946784859, 0.990074403189623, 0.9934044808174519, 0.05421109543250724, 0.09551478719060799, 0.020651845879050376, 0.005162961469762594, 0.19102957438121598, 0.03355924955345686, 0.5989035304924609, 0.09102320951363763, 0.13303392159685498, 0.003500892673601447, 0.7701963881923184, 0.9860073401635813, 0.006413355814481645, 0.9876567954301734, 0.003617849141255146, 0.003617849141255146, 0.007235698282510292, 0.007235698282510292, 0.9732014189976342, 0.9869424208138884, 0.016500019257036716, 0.10410012149439528, 0.009300010853966149, 0.522600609922872, 0.026100030461130807, 0.02730003186164257, 0.06630007737827481, 0.0003000003501279403, 0.026100030461130807, 0.06450007527750716, 0.0021000024508955823, 0.12330014390258347, 0.004500005251919104, 0.0015000017506397016, 0.004500005251919104, 0.0003000003501279403, 0.019717941342720476, 0.8754765956167891, 0.10253329498214649, 0.006058454017607459, 0.9875280048700159, 0.9879798935383086, 0.009592037801342802, 0.00844495036025085, 0.9880591921493495, 0.9877899652121374, 0.002214775706753671, 0.002214775706753671, 0.004429551413507342, 0.9602672315923436, 0.03673153344888746, 0.0021078703255006945, 0.016862962604005556, 0.889521277361293, 0.04426527683551458, 0.006323610976502083, 0.01475509227850486, 0.0021078703255006945, 0.023186573580507637, 0.0021078703255006945, 0.9856262586231969, 0.008213552155193307, 0.005849077378801396, 0.0007311346723501745, 0.0007311346723501745, 0.7771961567082354, 0.16669870529583977, 0.040212406979259596, 0.0036556733617508722, 0.0007311346723501745, 0.00036556733617508724, 0.0007311346723501745, 0.0007311346723501745, 0.0007311346723501745, 0.00036556733617508724, 0.0007311346723501745, 0.0007311346723501745, 0.08918158624947711, 0.001981813027766158, 0.08918158624947711, 0.032501733655364996, 0.015061779011022802, 0.36901358577005866, 0.10979244173824516, 0.0003963626055532316, 0.0007927252111064632, 0.01743995464434219, 0.2742829230428363, 0.005944637688345555, 0.9868098562653621, 0.988895369120008, 0.0021615209458545597, 0.008646083783418239, 0.10807604729272798, 0.0010807604729272799, 0.09834920303638246, 0.012969125675127358, 0.21074829222081956, 0.0021615209458545597, 0.18481004087056485, 0.04106889797123663, 0.23776730404400157, 0.08321855641540055, 0.010807604729272799, 0.004581917694933818, 0.9896942221057047, 0.9826829916235543, 0.9940324808293177, 0.01168945457290764, 0.9819141841242418, 0.004275222894206049, 0.8635950246296219, 0.004275222894206049, 0.021376114471030244, 0.004275222894206049, 0.09405490367253308, 0.004275222894206049, 0.004275222894206049, 0.017971411825586064, 0.9764467091901762, 0.0021036415906619268, 0.09256022998912478, 0.3386862960965702, 0.0021036415906619268, 0.4564902251736381, 0.10518207953309633, 0.0015454746141751819, 0.02318211921262773, 0.9195573954342332, 0.0030909492283503637, 0.0015454746141751819, 0.04790971303943064, 0.004857845375049729, 0.9484943094784595, 0.0024289226875248643, 0.0012144613437624322, 0.04007722434416026, 0.30606179305060643, 0.011631802111186943, 0.3664017665023887, 0.002907950527796736, 0.001453975263898368, 0.015993727902882046, 0.031260468173814907, 0.050889134236442875, 0.000726987631949184, 0.026898542382119806, 0.1802929327233976, 0.002907950527796736, 0.002180962895847552, 0.985939627973163, 0.992640969062713, 0.1464480386541307, 0.8466527234691931, 0.1439032113009549, 0.004295618247789699, 0.8462367948145707, 0.0021478091238948493, 0.993645089172951, 0.002955789821214418, 0.9222064242188984, 0.07389474553036045, 0.9938589382202053, 0.2566525190018783, 0.033770068289720824, 0.0033770068289720825, 0.7057944272551653, 0.9918586203673964, 0.9887446421876875, 0.9781841842050889, 0.9947407591632185, 0.9922976067561683, 0.18595987680160408, 0.06447405038386274, 0.038057599184918973, 0.009999447628978711, 0.009402465680979981, 0.31998232412731875, 0.00014924548699968225, 0.07939859908383096, 0.0002984909739993645, 0.03372948006192819, 0.2177491655325364, 0.002984909739993645, 0.0008954729219980936, 0.017610967465962506, 0.017163231004963458, 0.0020894368179955516, 0.010876788279184625, 0.9843493392662086, 0.004639224306465262, 0.9835155529706355, 0.004639224306465262, 0.9910764168170314, 0.008738950280108609, 0.008738950280108609, 0.9743929562321099, 0.9919959705666604, 0.0018577692316306487, 0.0018577692316306487, 0.9753288466060905, 0.0018577692316306487, 0.0018577692316306487, 0.0018577692316306487, 0.01300438462141454, 0.9883966906767216, 0.004294146376226509, 0.09715506176212475, 0.00751475615839639, 0.10216489920105569, 0.1066379683429583, 0.02683841485141568, 0.010735365940566271, 0.48863807306144147, 0.01663981720787772, 0.04938268332660485, 0.0028627642508176725, 0.0025049187194654634, 0.008230447221100808, 0.037573780791981946, 0.0028627642508176725, 0.03578455313522091, 0.0007836072938585095, 0.07130826374112437, 0.0011754109407877643, 0.05504841239356029, 0.14398784024650113, 0.04544922304379355, 0.021941004228038265, 0.3614388642922375, 0.017239360464887207, 0.09266156249876875, 0.041531186574501, 0.005681152880474194, 0.08365007861939588, 0.006268858350868076, 0.007836072938585095, 0.04388200845607653, 0.9302140460058472, 0.003394941773743968, 0.06450389370113539, 0.9955658228494367, 0.9869619163361011, 0.984576312926222, 0.9216681102431102, 0.07373344881944882, 0.8371775465688517, 0.06713216175316264, 0.09280034124701894, 0.001974475345681254, 0.41430683106080834, 0.14132332138225825, 0.4432962303187075, 0.9975586145010469, 0.0032655399634549786, 0.9927241488903135, 0.11244015548369589, 0.42643527053125085, 0.056220077741847944, 0.07894734321195668, 0.2864831621100549, 0.0011961718668478285, 0.005980859334239142, 0.008971289001358714, 0.0035885156005434856, 0.0005980859334239143, 0.0011961718668478285, 0.0017942578002717428, 0.0005980859334239143, 0.0005980859334239143, 0.016148320202445686, 0.8490886798375182, 0.14274107789296234, 0.005886230016204632, 0.9914369508164522, 0.9990020747375716, 0.005608945639493637, 0.005608945639493637, 0.005608945639493637, 0.9647386499929055, 0.011217891278987273, 0.0016769059280029466, 0.9658978145296973, 0.018445965208032412, 0.00503071778400884, 0.0033538118560058933, 0.0033538118560058933, 0.016843505924162557, 0.010527191202601597, 0.10211375466523549, 0.8011192505179816, 0.06737402369665023, 0.0010527191202601598, 0.9935363153348926, 0.9883420445976068, 0.9921810153275483, 0.0011049975919908007, 0.008839980735926406, 0.8552681362008797, 0.0011049975919908007, 0.007734983143935605, 0.12375973030296968, 0.0011049975919908007, 0.0011049975919908007, 0.9911968910701324, 0.0011324263256328668, 0.9806811979980626, 0.015853968558860135, 0.0011324263256328668, 0.8076212120988029, 0.001366533353805081, 0.002733066707610162, 0.1653505358104148, 0.021864533660881296, 0.9862781861607266, 0.993549386380325, 0.9912765950187832, 0.09566579923902001, 0.02112619733195025, 0.0007972149936585001, 0.06018973202121675, 0.00119582249048775, 0.00039860749682925004, 0.0015944299873170001, 0.1044351641692635, 0.524567465827293, 0.014349869885853, 0.0534134045751195, 0.0059791124524387505, 0.00039860749682925004, 0.11519756658365325, 0.002790928929289614, 0.0006977322323224035, 0.1381509819998359, 0.079541474484754, 0.7709941167162558, 0.0069773223232240346, 0.08781361159684599, 0.4455046577871401, 0.02154290546280141, 0.07730487722474774, 0.02705999100815299, 0.025483680852338254, 0.009063783395934739, 0.01103417109070316, 0.1775319312986348, 0.02154290546280141, 0.01083713232122632, 0.0158944607377986, 0.022134021771231936, 0.03940775389536843, 0.00486028964709544, 0.0030212611319782464, 0.10411690317135071, 0.007941119733408105, 0.07323477087476363, 0.03970559866704052, 0.00352938654818138, 0.0022058665926133624, 0.000882346637045345, 0.014999892829770866, 0.057793704726470094, 0.08117589060817174, 0.6057309663316294, 0.0030882132296587077, 0.006176426459317415, 0.0004411733185226725, 0.16924956089186047, 0.10815117169023448, 0.17706242962597643, 0.12474254461998638, 0.1164907506760886, 0.022736325866697025, 0.09331549959960979, 0.047842847866215746, 0.009568569573243148, 0.017644793433228192, 0.02703779292255862, 0.011060915286501254, 0.01685472805562096, 0.028793493761685805, 0.006759448230639655, 0.022648540824740663, 0.1255764827913989, 0.05327487148726014, 0.19140900255779894, 0.039195084022769965, 0.03272599248503123, 0.010274439501114457, 0.05555808026528558, 0.10122225582579428, 0.027017970539967646, 0.06925733293343819, 0.19597542011384983, 0.0015221391853502898, 0.012557648279139891, 0.05061112791289714, 0.009893904704776885, 0.024354226965604638, 0.9588296681601374, 0.001611478433882584, 0.03545252554541684, 0.9838362738097777, 0.0071863835613643744, 0.005879768368389033, 0.024825688666531474, 0.07578368119256976, 0.12478175092914504, 0.01567938231570409, 0.7441173523994565, 0.0013066151929753407, 0.9901259328641904, 0.9898725517002859, 0.000356497371998397, 0.000356497371998397, 0.2570346052108442, 0.7343845863166978, 0.004277968463980764, 0.000712994743996794, 0.000356497371998397, 0.000356497371998397, 0.000712994743996794, 0.000356497371998397, 0.001069492115995191, 0.9856127155142776, 0.9911721800154879, 0.9896010222346304, 0.0068434246071218865, 0.0022811415357072953, 0.004562283071414591, 0.9672040111398933, 0.004562283071414591, 0.013686849214243773, 0.09175398720795534, 0.0009866020129887672, 0.0009866020129887672, 0.0019732040259775345, 0.004933010064943836, 0.8425581190924072, 0.003946408051955069, 0.037490876493573154, 0.014799030194831508, 0.019092399621350228, 0.33729905997718734, 0.002121377735705581, 0.002121377735705581, 0.07636959848540091, 0.05727719886405068, 0.05091306565693394, 0.44973207996958314, 0.000844986766490177, 0.1508301378184966, 0.4216483964785983, 0.023659629461724955, 0.04267183170775394, 0.26955077851036646, 0.006759894131921416, 0.001689973532980354, 0.019012202246028984, 0.009717347814637036, 0.04816424568994009, 0.000844986766490177, 0.002534960299470531, 0.0012674801497352655, 0.1258926685910896, 0.1782551059696844, 0.02228188824621055, 0.020053699421589497, 0.0011140944123105275, 0.007798660886173693, 0.05681881502783691, 0.5492485452690901, 0.02228188824621055, 0.012255038535415803, 0.0033422832369315826, 0.046819658584425855, 0.4090867668814209, 0.0011704914646106465, 0.27330975698658594, 0.002340982929221293, 0.07491145373508137, 0.02575081222143422, 0.0017557371969159695, 0.015216389039938404, 0.0005852457323053232, 0.002926228661526616, 0.14514094161172014, 0.990214508343365, 0.9951486325305892, 0.007680198370880775, 0.9830653914727392, 0.03920723115329429, 0.006534538525549048, 0.9409735476790628, 0.006534538525549048, 0.9880566534895759, 0.9826248010020227, 0.010918053344466917, 0.036838998916828895, 0.16915866849564287, 0.09698430327083525, 0.03383173369912858, 0.08946614022658446, 0.002255448913275238, 0.07518163044250795, 0.036838998916828895, 0.005262714130975556, 0.023306305437177464, 0.0037590815221253972, 0.2992228891611816, 0.03984626413452921, 0.04661261087435493, 0.03608718261240381, 0.004510897826550476, 0.982605927930068, 0.9907595833333659, 0.1648096586794865, 0.0016480965867948648, 0.0032961931735897296, 0.026369545388717837, 0.7762534923803813, 0.028017641975512705, 0.984759524389673, 0.9785933530873799, 0.007240999694785831, 0.0010861499542178746, 0.6343115732632387, 0.35191258516659135, 0.0007240999694785831, 0.003258449862653624, 0.00036204998473929155, 0.0007240999694785831, 0.00036204998473929155, 0.00036204998473929155, 0.0005555176265283661, 0.0005555176265283661, 0.370252498081156, 0.5610728027936498, 0.054996245026308246, 0.0005555176265283661, 0.00027775881326418307, 0.0005555176265283661, 0.0022220705061134645, 0.005832935078547844, 0.0027775881326418304, 0.011124035886466698, 0.2912474850274917, 0.013483679862383875, 0.027978635714446542, 0.23057092564676426, 0.14764629449310343, 0.03505756764219808, 0.024607715748850574, 0.00033709199655959686, 0.0006741839931191937, 0.05629436342545268, 0.0010112759896787906, 0.00033709199655959686, 0.002696735972476775, 0.0013483679862383875, 0.15573650241053377, 0.9960400771157076, 0.9901169583751378, 0.17153321220152937, 0.006683112163695949, 0.02450474460021848, 0.11361290678283113, 0.6794497366424215, 0.9915075547360376, 0.004950879913305892, 0.9901759826611783, 0.9802763884972755, 0.003933273579570613, 0.0019666367897853065, 0.269429240200587, 0.013766457528497146, 0.7079892443227104, 0.987340193804308, 0.9531817710071788, 0.022803391650889446, 0.002280339165088945, 0.002280339165088945, 0.01824271332071156, 0.08894279354852813, 0.020329781382520718, 0.017788558709705627, 0.8233561459920891, 0.0025412226728150898, 0.04320078543785652, 0.0025412226728150898, 0.9879074022262694, 0.006957094381875136, 0.006957094381875136, 0.9839031963444823, 0.012214708047855188, 0.9845054686571282, 0.9836296937955309, 0.2512250447232158, 0.0017090139096817398, 0.037598306012998274, 0.025635208645226098, 0.6818965499630142, 0.00642432067107101, 0.6695569766071786, 0.007138134078967789, 0.06210176648701977, 0.0021414402236903367, 0.2334169843822467, 0.0042828804473806735, 0.001427626815793558, 0.009993387710554904, 0.000713813407896779, 0.0021414402236903367, 0.009115321154402105, 0.10026853269842315, 0.07520139952381737, 0.015192201924003508, 0.002278830288600526, 0.02126908269360491, 0.5051407139731167, 0.2711808043434626, 0.9884925335367248, 0.018115787606864112, 0.001132236725429007, 0.028305918135725174, 0.9465499024586498, 0.001132236725429007, 0.004528946901716028, 0.9931057801887647, 0.25205905151628216, 0.7456118050840922, 0.00831841984565106, 0.9857327517096506, 0.9854288905093758, 0.9643454214407488, 0.024008599703919057, 0.008002866567973018, 0.009154750918610555, 0.98871309920994, 0.03153617491904401, 0.0019112833284269093, 0.0019112833284269093, 0.1643703662447142, 0.5609616568932979, 0.004778208321067273, 0.1452575329604451, 0.0028669249926403643, 0.0009556416642134547, 0.022935399941122914, 0.01815719162005564, 0.01242334163477491, 0.03058053325483055, 0.0009556416642134547, 0.01661224443953901, 0.01245918332965426, 0.9635101774932627, 0.987516720025006, 0.8620472552414887, 0.13510448210802278, 0.0010082424037912148, 0.0010082424037912148, 0.9940085425077114, 0.9855821304444284, 0.006687922926575542, 0.21401353365041734, 0.0040127537559453245, 0.07490473677764606, 0.0013375845853151082, 0.6861808922666506, 0.013375845853151084, 0.8965221852022373, 0.09159514585657533, 0.005551220961004565, 0.005551220961004565, 0.9917092561980385, 0.025829679685550784, 0.0025829679685550784, 0.8084689741577396, 0.06974013515098712, 0.09040387889942775, 0.0025829679685550784, 0.007823924742737782, 0.9858145175849605, 0.012645136995119913, 0.18546200926175874, 0.8008586763575946, 0.9848493307371776, 0.04105228682508044, 0.00482968080295064, 0.00241484040147532, 0.9466174373783256, 0.00241484040147532, 0.15788190717911993, 0.044862618433411126, 0.12596042867842355, 0.25450908534339006, 0.0004313713310904916, 0.0060391986352668825, 0.0030195993176334412, 0.10698009011044192, 0.1337251126380524, 0.0012941139932714748, 0.0017254853243619664, 0.05305867372413047, 0.01682348191252917, 0.06384295700139275, 0.005607827304176391, 0.023725423209977038, 0.006926911087259105, 0.01385382217451821, 0.9697675522162748, 0.994389557251118, 0.1441056383346874, 0.020906517478607497, 0.6906617381325691, 0.008959936062260357, 0.08138608589886491, 0.0014933226770433928, 0.034346421571998034, 0.0029866453540867855, 0.010453258739303748, 0.0029866453540867855, 0.0014933226770433928, 0.990050751862894, 0.010527997111676405, 0.01579199566751461, 0.9685757342742293, 0.00027113437847312407, 0.9359558744892242, 0.0005422687569462481, 0.0005422687569462481, 0.06236090704881853, 0.007277729977576686, 0.9824935469728526, 0.9785231849467091, 0.0003867680572911893, 0.0003867680572911893, 0.019725170921850655, 0.0003867680572911893, 0.0003867680572911893, 0.7614721519307168, 0.09404272379959693, 0.1424336399294866, 0.986185833379692, 0.9949270546164468, 0.9835560119614769, 0.06558471004440362, 0.010323519173656126, 0.03339962085594629, 0.8264887997262346, 0.06315564670942571, 0.002981512413940948, 0.9958251462562766, 0.04103015801562314, 0.03357012928550984, 0.03730014365056649, 0.8802833901533691, 0.037608118116558904, 0.8942374752159561, 0.0626801968609315, 0.0035376561074038407, 0.0035376561074038407, 0.8278115291324987, 0.08136609047028834, 0.08136609047028834, 0.892603230524551, 0.003814543720190389, 0.050860582935871854, 0.022887262321142333, 0.02797332061472952, 0.9648620485596767, 0.006700430892775533, 0.023451508124714363, 0.0012784767545754986, 0.020455628073207978, 0.1035566171206154, 0.011506290791179487, 0.0012784767545754986, 0.0012784767545754986, 0.2608092579334017, 0.0012784767545754986, 0.5638082487677949, 0.0012784767545754986, 0.020455628073207978, 0.012784767545754987, 0.012571906250184981, 0.0031429765625462453, 0.0031429765625462453, 0.10057525000147985, 0.8768904609504024, 0.002028234820331457, 0.9877503575014196, 0.008112939281325829, 0.8835072245891443, 0.022571352453007336, 0.0064489578437163814, 0.025795831374865526, 0.03869374706229829, 0.022571352453007336, 0.9936612200588683, 0.9880112422538607, 0.002025714596570324, 0.002025714596570324, 0.06887429628339102, 0.06887429628339102, 0.6846915336407695, 0.004051429193140648, 0.002025714596570324, 0.08305429845938328, 0.07697715466967231, 0.004051429193140648, 0.15941237109078368, 0.8369149482266144, 0.9981854503929114, 0.013061507876068176, 0.32980307387072144, 0.003265376969017044, 0.009796130907051132, 0.009796130907051132, 0.6302177550202894, 0.9930615698301786, 0.3495818683046676, 0.025341436549966612, 0.042235727583277684, 0.0961675028050015, 0.012345828062804246, 0.006497804243581182, 0.005848023819223064, 0.022742314852534137, 0.0038986825461487093, 0.002599121697432473, 0.2040310532484491, 0.020792973579459785, 0.0071475846679393005, 0.131905426144698, 0.042885508007635804, 0.02599121697432473, 0.009272515501182963, 0.9828866431253941, 0.9900965065668423, 0.002279997510807284, 0.9750789354552484, 0.0007599991702690946, 0.0037999958513454733, 0.017479980916189176, 0.06599494174113489, 0.008485063938145916, 0.6769195452876408, 0.004713924410081064, 0.0009427848820162128, 0.058452662685005194, 0.00659949417411349, 0.0028283546460486386, 0.0009427848820162128, 0.10464912190379962, 0.06788051150516733, 0.9880847003892798, 0.010083765029649748, 0.6335965693629925, 0.353491985206055, 0.0005602091683138749, 0.0005602091683138749, 0.0005602091683138749, 0.00821364736711074, 0.9856376840532889, 0.9856527300366358, 0.4314716718624208, 0.5573175761556268, 0.0014981655273000722, 0.005992662109200289, 0.0014981655273000722, 0.342023323197612, 0.010220437366907208, 0.5891720813428226, 0.0014453143751181911, 0.008465412768549405, 0.037887883976312584, 0.0002064734821597416, 0.0003097102232396124, 0.005368310536153282, 0.0002064734821597416, 0.0025809185269967698, 0.0003097102232396124, 0.0003097102232396124, 0.0011356041518785789, 0.0003097102232396124, 0.9945526688826598, 0.23344766029940014, 0.006024455749661939, 0.739501943271003, 0.006024455749661939, 0.013555025436739363, 0.9883244936353963, 0.0005065063375928591, 0.0005065063375928591, 0.24008400401901522, 0.1934854209604722, 0.0015195190127785774, 0.00607807605111431, 0.5222080340582378, 0.0005065063375928591, 0.0010130126751857183, 0.0005065063375928591, 0.0005065063375928591, 0.0005065063375928591, 0.0015195190127785774, 0.031909899268350125, 0.0003121677204719311, 0.2478611700547133, 0.0017169224625956212, 0.0004682515807078967, 0.7000361131583055, 0.00015608386023596555, 0.0003121677204719311, 0.04885424825385722, 0.9836893284840132, 0.9760696083833409, 0.03497303604726933, 0.19047298144752473, 0.04364403672014602, 0.4095602651155425, 0.02543493530710497, 0.00578066711525113, 0.07457060578673957, 0.04306597000862091, 0.0424879032970958, 0.005491633759488573, 0.013295534365077598, 0.004335500336438347, 0.08815517350757972, 0.00028903335576255647, 0.01474070114389038, 0.003468400269150678, 0.009321051688049477, 0.009321051688049477, 0.11371683059420364, 0.011185262025659374, 0.06524736181634634, 0.7829683417961562, 0.0018642103376098956, 0.0018642103376098956, 0.0018642103376098956, 0.0018642103376098956, 0.08584017364964616, 0.01056494444918722, 0.03697730557215527, 0.12942056950254344, 0.0013206180561484025, 0.3195895695879134, 0.009244326393038817, 0.40675036129370795, 0.0013206180561484025, 0.0013206180561484025, 0.9957906596318338, 0.0017198456988459997, 0.6377077358512645, 0.2147383192152217, 0.016268054486001646, 0.02440208172900247, 0.026028887177602635, 0.07483305063560756, 0.0008134027243000823, 0.0032536108972003293, 0.0008134027243000823, 0.2358144501429434, 0.1703377865333161, 0.05956899471251805, 0.034953707641229605, 0.027076815778417297, 0.001969222965703076, 0.0029538344485546143, 0.06892280379960766, 0.3387063501009291, 0.0014769172242773071, 0.043322905245467676, 0.014276866501347303, 0.000492305741425769, 0.0019630490901537834, 0.07132411694225413, 0.11222097298712462, 0.03402618422933225, 0.34058901714168144, 0.0003271748483589639, 0.35302166137932206, 0.049076227253844584, 0.0009815245450768917, 0.0003271748483589639, 0.012432644237640629, 0.017013092114666124, 0.004580447877025494, 0.002290223938512747, 0.08112543650910796, 0.08366060640001759, 0.7909730059638027, 0.0050703397818192475, 0.03295720858182511, 0.0013716605899935363, 0.0013716605899935363, 0.07406967185965097, 0.9162692741156823, 0.004114981769980609, 0.015470567429493005, 0.2320585114423951, 0.0009669104643433128, 0.05124625461019558, 0.004834552321716564, 0.4505802763839838, 0.05414698600322552, 0.0029007313930299386, 0.0009669104643433128, 0.0821873894691816, 0.0009669104643433128, 0.10345941968473447, 0.0022660476293341098, 0.0022660476293341098, 0.0022660476293341098, 0.011330238146670548, 0.31271457284810716, 0.537053288152184, 0.1359628577600466, 0.0012029772231356294, 0.013232749454491924, 0.1852584923628869, 0.0024059544462712587, 0.006014886115678147, 0.006014886115678147, 0.0012029772231356294, 0.7843411494844303, 0.005105933561592599, 0.06637713630070378, 0.0017019778538641995, 0.10211867123185196, 0.017870767465574096, 0.018721756392506193, 0.7863137684852601, 0.0008509889269320998, 0.9943033156627629, 0.07097709466716333, 0.9247897922809811, 0.039777479482523165, 0.005682497068931881, 0.954659507580556, 0.9855044414535348, 0.0073545107571159314, 0.08210662836146018, 0.9083045762486534, 0.23395300520508025, 0.06619892108696805, 0.03610850241107348, 0.24598917267543807, 0.04701627918108526, 0.0030090418675894565, 0.04099819544590635, 0.021063293073126196, 0.05641953501730231, 0.20875227956401857, 0.004137432567935503, 0.007898734902422324, 0.003385172101038139, 0.012788427937255192, 0.010155516303114417, 0.0022567814006920926, 0.5241350315230772, 0.0031574399489341996, 0.009472319846802598, 0.03367935945529813, 0.0021049599659561332, 0.0042099199319122664, 0.0042099199319122664, 0.0010524799829780666, 0.043151679302100725, 0.0010524799829780666, 0.37257791397423556, 0.9922791907992355, 0.05869635306036211, 0.9360523672257748, 0.9935543476522272, 0.002720154375682331, 0.9738152664942745, 0.013600771878411655, 0.002720154375682331, 0.002720154375682331, 0.026374662846544484, 0.9626751938988737, 0.9794161270235701, 0.9893454527982662, 0.9942600798530671, 0.9921223358084851, 0.9823495288261873, 0.9853238471859811, 0.01902118834395451, 0.9748359026276686, 0.004755297085988627, 0.9873461423879248, 0.03713467800427923, 0.05039706300580752, 0.8408352090968939, 0.06896440200794714, 0.0013685460433615242, 0.14506588059632156, 0.0027370920867230484, 0.0013685460433615242, 0.00957982230353067, 0.008211276260169145, 0.8320759943638067, 0.04472754850703078, 0.03659526696029791, 0.1890755459615392, 0.09758737856079443, 0.0040661407733664345, 0.0040661407733664345, 0.026429915026881825, 0.0040661407733664345, 0.008132281546732869, 0.006099211160049652, 0.026429915026881825, 0.5529951451778351, 0.14108663332210405, 0.1776244537465464, 0.3610370770652817, 0.01229986034090138, 0.031111411450515256, 0.04522007478272566, 0.010491057349592353, 0.03943190521053678, 0.12625444879337006, 0.0028940847860944425, 0.003617605982618053, 0.0014470423930472212, 0.036537820424442334, 0.009044014956545133, 0.0018088029913090266, 0.01263698014201817, 0.005054792056807268, 0.01263698014201817, 0.9679926788785919, 0.007838285788592123, 0.9876240093626075, 0.00640325345120898, 0.9796977780349739, 0.9481288211561203, 0.039689113443744574, 0.004409901493749396, 0.008819802987498793, 0.15266507512983155, 0.38733605210305233, 0.0030945623337128017, 0.05106027850626123, 0.366705636544967, 0.0005157603889521336, 0.0015472811668564008, 0.009799447390090539, 0.013409770112755475, 0.004641843500569203, 0.008767926612186271, 0.0005157603889521336, 0.040564817837625895, 0.05063199890681772, 0.004441403412878748, 0.004441403412878748, 0.05092809246767631, 0.001480467804292916, 0.008586713264898913, 0.007994526143181746, 0.6274222554593378, 0.09445384591388804, 0.0011843742434343328, 0.02427967199040382, 0.021614829942676574, 0.05921871217171664, 0.0026648420477272485, 0.0002960935608585832, 0.9935142698526415, 0.0341002205589249, 0.18314500479961912, 0.1547920124247827, 0.04751041965513132, 0.004980931092876671, 0.16705276588417142, 0.06245321293376133, 0.001532594182423591, 0.01379334764181232, 0.009195565094541546, 0.09042305676299187, 0.0026820398192412844, 0.0019157427280294887, 0.2206935622689971, 0.004980931092876671, 0.001487225210682229, 0.0022308378160233434, 0.5242468867654857, 0.10633660256377937, 0.16656922359640966, 0.018590315133527862, 0.0007436126053411145, 0.002974450421364458, 0.0007436126053411145, 0.17251812443913855, 0.0022308378160233434, 0.14853800945812914, 0.03117464396034809, 0.0009169012929514145, 0.0027507038788542435, 0.7619449744426254, 0.04217745947576507, 0.003667605171805658, 0.0009169012929514145, 0.0009169012929514145, 0.004584506464757073, 0.001833802585902829, 0.9807454001024035, 0.002122581564260021, 0.0003032259377514316, 0.6840777155672296, 0.0012129037510057263, 0.0006064518755028632, 0.05518712067076055, 0.2538001098979482, 0.0003032259377514316, 0.0012129037510057263, 0.0009096778132542948, 0.9946972743314197, 0.0015564431826806465, 0.03735463638433551, 0.18210385237363563, 0.7299718526772232, 0.012451545461445172, 0.03424175001897422, 0.0015564431826806465, 0.017556215636806576, 0.0035112431273613158, 0.028089945018890526, 0.9480356443875552, 0.9890999814937165, 0.996418574084232, 0.007665958816482533, 0.9889086873262467, 0.9846251338083624, 0.991434999899247, 0.9845008694603437, 0.9973276785711038, 0.9982322143527311, 0.0009041958463339956, 0.36093499529705814, 0.006445267773161753, 0.6284136078832708, 0.03195191402082962, 0.005181391462837236, 0.9551031596496637, 0.001727130487612412, 0.003454260975224824, 0.000863565243806206, 0.9130369298242411, 0.08084181149485468, 0.992476388307681, 0.023033271410007782, 0.8568376964522895, 0.11516635705003891, 0.016483934964390917, 0.9780468078871943, 0.018367732840576006, 0.948999530096427, 0.02755159926086401, 0.0030612888067626676, 0.9878584013914773, 0.9844937322228647, 0.06375761805906263, 0.048755825574577305, 0.07594657445270696, 0.16783255342017955, 0.07969702257382828, 0.005625672181681997, 0.4594298948373631, 0.005625672181681997, 0.004688060151401664, 0.0009376120302803327, 0.02062746466616732, 0.03937970527177397, 0.019689852635886986, 0.008438508272522995, 0.0009376120302803327, 0.9881759237402002, 0.00039127478705229567, 0.05634356933553058, 0.9410158628607711, 0.00039127478705229567, 0.0011738243611568871, 0.003839664666667397, 0.011518994000002192, 0.5442724665001035, 0.35228923316673366, 0.0009599161666668493, 0.03935656283334082, 0.0009599161666668493, 0.04319622750000822, 0.002879748500000548, 0.003203145496788181, 0.03203145496788181, 0.1659229367336278, 0.008968807391006908, 0.05317221524668381, 0.004484403695503454, 0.1396571436599647, 0.0012812581987152725, 0.5861756259122372, 0.0012812581987152725, 0.0038437745961458175, 0.9879654246668549, 0.9944548864755101, 0.9973835800234414, 0.004517321753880768, 0.7784851155854523, 0.15509471354990637, 0.001505773917960256, 0.05872518280044998, 0.9842204284128263, 0.993651957315311, 0.046815302208846395, 0.95191114491321, 0.001174996980606357, 0.012924966786669927, 0.001174996980606357, 0.08812477354547678, 0.052874864127286064, 0.12219968598306112, 0.007049981883638142, 0.7073481823250268, 0.007049981883638142, 0.98782332504857, 0.989454387500128, 0.006270105633207746, 0.47025792249058096, 0.006270105633207746, 0.0015675264083019366, 0.0015675264083019366, 0.0815113732317007, 0.003135052816603873, 0.020377843307925175, 0.018810316899623238, 0.3856114964422764, 0.0015675264083019366, 0.11278011041280853, 0.6399165578569895, 0.012991826444612746, 0.11181263397544373, 0.022390168979013456, 0.024877965532237173, 0.03565841726287328, 0.00013821091962353986, 0.00013821091962353986, 0.0006910545981176992, 0.00041463275887061957, 0.00013821091962353986, 0.0190731069080485, 0.016308888515577703, 0.0024877965532237173, 0.0004793814299485344, 0.9836906942543926, 0.003355670009639741, 0.005752577159382413, 0.0038350514395882754, 0.0009587628598970689, 0.0004793814299485344, 0.0014381442898456032, 0.010746898292789383, 0.9779677446438337, 0.0029763040993736976, 0.06547869018622135, 0.005952608198747395, 0.0014881520496868488, 0.04018010534154492, 0.8809860134146145, 0.04359674653245368, 0.703535118607855, 0.0009275903517543336, 0.07167743627192577, 0.0013492223298244852, 0.1118168005842042, 0.0003373055824561213, 0.01855180703508667, 0.0027827710552630006, 0.0014335487254385154, 0.01526307760613949, 0.000758937560526273, 0.0009275903517543336, 0.003120076637719122, 0.0003373055824561213, 0.02352706437631446, 0.9945636882681065, 0.04434298108113272, 0.010557852638364933, 0.00042231410553459736, 0.13767439840427872, 0.00042231410553459736, 0.22129259130012902, 0.0008446282110691947, 0.5295818883403851, 0.00042231410553459736, 0.00042231410553459736, 0.053211577297359265, 0.9969553643759301, 0.0951019438558639, 0.05686507983134131, 0.03529556679186702, 0.004902162054425975, 0.0058825944653111695, 0.003921729643540779, 0.26471675093900265, 0.0009804324108851948, 0.08627805215789715, 0.0784345928708156, 0.3284448576465403, 0.0392172964354078, 0.8902672792881141, 0.08077714696243507, 0.02749860322125449, 0.9861795953046584, 0.009259902303330125, 0.9955010244025383, 0.9955470705931474, 0.9936622314326804, 0.06513812054541507, 0.16713734806614255, 0.01918797349399824, 0.17572144147135227, 0.16006809467361688, 0.004544520038052214, 0.012118720101472571, 0.25196838877645056, 0.035851213633523026, 0.0318116402663655, 0.02272260019026107, 0.021207760177577, 0.014643453455946023, 0.0015148400126840714, 0.005554413379841595, 0.0106038800887885, 0.9898327171020448, 0.2701310917814296, 0.0014523176977496214, 0.2439893732219364, 0.004356953093248865, 0.0014523176977496214, 0.36017478904190614, 0.11618541581996972, 0.21646573133557634, 0.002405174792617515, 0.03367244709664521, 0.014431048755705089, 0.728767962163107, 0.9906926324901704, 0.2139896662120826, 0.06769060869974042, 0.006550704067716814, 0.005094992052668633, 0.014557120150481809, 0.04731064048906588, 0.09607699299317994, 0.01965211220315044, 0.15576118561015537, 0.026202816270867256, 0.0058228480601927235, 0.0007278560075240904, 0.08515915288031858, 0.25402174662590754, 0.21458226981105177, 0.025584240301386597, 0.39189732253569065, 0.004584459244757136, 0.01242240569547095, 0.15173081242325231, 0.00044365734626681966, 0.001035200474622579, 0.009612575835781092, 0.0028098298596898577, 0.0745344341728257, 0.002366172513423038, 0.011239319438759431, 0.06802745976091235, 0.027802527032720698, 0.0014788578208893989, 0.3908529779671744, 0.04722477150286583, 0.37824322222557144, 0.009346054255540987, 0.03545566614403644, 0.07536183431452097, 0.0012362505629022469, 0.002373601080772314, 0.017653658038244084, 0.0008406503827735279, 0.019878909051468132, 0.0013846006304505166, 0.006329602882059505, 0.006972453174768673, 0.001186800540386157, 0.0055878525443181564, 0.9925074384879513, 0.18633080031311458, 0.8118699156499992, 0.9870128049461349, 0.9865124455795629, 0.5438937731080498, 0.029284400747584486, 0.003127460274013877, 0.0801767088429012, 0.09609832478333549, 0.033264804732693054, 0.0002843145703648979, 0.0824512254058204, 0.03155891731050367, 0.005970605977662856, 0.004833347696203264, 0.018480447073718365, 0.015921615940434283, 0.042647185554734686, 0.01222552652569061, 0.0002843145703648979, 0.9790398087700177, 0.003639553192453597, 0.014558212769814389, 0.1545766833459269, 0.841988286931343, 0.989721778599626, 0.004646460833541159, 0.9896961575442669, 0.9932175487649231, 0.9854728386783386, 0.9944176916900553, 0.9849213784920076, 0.9703882439337802, 0.025402833610831944, 0.016759868058216415, 0.9720723473765521, 0.008820415766448089, 0.001764083153289618, 0.02469716414605465, 0.9014464913309947, 0.06174291036513663, 0.04566617629657193, 0.9024338992761022, 0.0017563913960219973, 0.040397002108505935, 0.0010538348376131982, 0.0014051131168175976, 0.0003512782792043994, 0.005971730746474791, 0.0003512782792043994, 0.9518486458012213, 0.0026006793601126266, 0.0039010190401689397, 0.0390101904016894, 0.9963308886701108, 0.0014481553614391145, 0.9881976354718257, 0.9892861982542125, 0.9889965139228885, 0.9902991657754711, 0.04456804129012742, 0.9458328762682596, 0.9939459080794737, 0.9948456877622631, 0.9948590833356558, 0.9619861156880706, 0.031175475971372657, 0.018233228258094356, 0.9800360188725715, 0.9808320776736745, 0.991281632150268, 0.994855617487531, 0.987368344140133, 0.0010481617241402685, 0.002096323448280537, 0.0010481617241402685, 0.006288970344841611, 0.43226536275782584, 0.0017290614510313033, 0.053600904981970406, 0.0017290614510313033, 0.5083440666032032, 0.9928652900310472, 0.9904533068484139, 0.004161568516169807, 0.9928377655726364, 0.9951217022573338, 0.9979866558265967, 0.9919809733482846, 0.02585087841621334, 0.007603199534180394, 0.3102105409945601, 0.656916439753186, 0.9697906340806942, 0.023462676630984537, 0.9933476685615593, 0.008574305349057084, 0.9860451151415646, 0.9941674427757345, 0.9908428012766821, 0.008644463236703608, 0.9854688089842114, 0.9905405178922573, 0.9879257680090473, 0.9850735241046921, 0.015080161882996306, 0.0022176708651465158, 0.051449964071399165, 0.8671093082722876, 0.036369802188402856, 0.0013306025190879093, 0.016410764402084214, 0.0004435341730293031, 0.0017741366921172124, 0.0004435341730293031, 0.0008870683460586062, 0.0044353417302930315, 0.0013306025190879093, 0.9936715677933938, 0.9923782656799042, 0.9906705214404683, 0.00421373905140561, 0.002106869525702805, 0.6615570310706809, 0.002106869525702805, 0.006320608577108416, 0.3223510374325292, 0.0072436510437285315, 0.922358232901433, 0.0700219600893758, 0.9884766417021567, 0.015826080813644814, 0.9812170104459785, 0.9937534171216942, 0.9880487427760176, 0.05103320082984424, 0.03508532557051792, 0.024453408730967033, 0.0021263833679101766, 0.057412350933574774, 0.0637915010373053, 0.4561092324167329, 0.0010631916839550883, 0.0010631916839550883, 0.048906817461934066, 0.25303962078131104, 0.005315958419775442, 0.0010631916839550883, 0.0010631916839550883, 0.9863904682777977, 0.16968989174373106, 0.06291872390497893, 0.09723802785314925, 0.009533139985602868, 0.00571988399136172, 0.6539734030123567, 0.9909892401853387, 0.011127713540877207, 0.5090215629980752, 0.003423911858731448, 0.0002853259882276207, 0.04508150613996407, 0.0005706519764552414, 0.000855977964682862, 0.006277171741007654, 0.41800257275346425, 0.003138585870503827, 0.0005706519764552414, 0.0011413039529104827, 0.002173911376760836, 0.016304335325706267, 0.46304312325005803, 0.048913005977118805, 0.001086955688380418, 0.0913042778239551, 0.377173623868005, 0.9907399272561562, 0.9783970282428072, 0.0020425825224275724, 0.01838324270184815, 0.9940997356164083, 0.9893915778708294, 0.9940941858240584, 0.9904964742731331, 0.9929190944433489, 0.0016672917936534626, 0.9736984074936221, 0.0033345835873069252, 0.011671042555574239, 0.0016672917936534626, 0.0033345835873069252, 0.2032238002601872, 0.7939906614816615, 0.9986071129304582, 0.9872322860024838, 0.9542293450547421, 0.028484458061335583, 0.01186852419222316, 0.9835915886824065, 0.5889691308607267, 0.09083603510787328, 0.25004327943672644, 0.0004883657801498563, 0.035162336170789656, 0.0009767315602997127, 0.021976460106743534, 0.002930194680899138, 0.002930194680899138, 0.0024418289007492816, 0.0024418289007492816, 0.9900185556323482, 0.8741032618365853, 0.0015416283277541185, 0.03699907986609884, 0.005395699147139415, 0.0007708141638770593, 0.06551920392955005, 0.008478955802647653, 0.006937327474893533, 0.9147466811117362, 0.0006961542474214126, 0.06265388226792713, 0.007657696721635538, 0.0048730797319498885, 0.00835385096905695, 0.03800525678966823, 0.7540725553505601, 0.006635838487084929, 0.07601051357933646, 0.006032580442804481, 0.0006032580442804481, 0.004222806309963137, 0.01930425741697434, 0.0012065160885608962, 0.0006032580442804481, 0.004222806309963137, 0.0006032580442804481, 0.044641095276753154, 0.04403783723247271, 0.9856431203232536, 0.9950773361628317, 0.028483962744714302, 0.00569679254894286, 0.9627579407713434, 0.9816296779593925, 0.0041068468368360735, 0.0041068468368360735, 0.9856432408406576, 0.007707013876194262, 0.9864977761528655, 0.12888296283312248, 0.10284154226067649, 0.0011034500242561856, 0.07238632159120577, 0.005517250121280928, 0.02515866055304103, 0.024275900533636083, 0.23657968520052616, 0.018979340417206392, 0.1231450227069903, 0.0838622018434701, 0.028689700630660824, 0.08297944182406515, 0.004634490101875979, 0.0028689700630660825, 0.05782078127102412, 0.9922482688222799, 0.9942957438438583, 0.9917281219085289, 0.9848619163813271, 0.012388200206054429, 0.9949327747809398, 0.9919863909946737, 0.0007457975019074156, 0.10292005526322336, 0.08203772520981571, 0.2058401105264467, 0.005220582513351909, 0.048476837623982014, 0.08278352271172314, 0.015661747540055726, 0.4512074886539864, 0.0007457975019074156, 0.0029831900076296622, 0.987488854567805, 0.004274606867542642, 0.991708793269893, 0.003125971884999582, 0.9440435092698738, 0.021881803194997072, 0.006251943769999164, 0.001562985942499791, 0.025007775079996655, 0.9895370094464417, 0.0187890686442572, 0.9707685466199553, 0.006263022881419066, 0.10903486018117235, 0.0007732968807175344, 0.0007732968807175344, 0.0007732968807175344, 0.003866484403587672, 0.7338587398009402, 0.09434221944753919, 0.055677375411662476, 0.053835563491239004, 0.002563598261487572, 0.7280619062624704, 0.21277865570346846, 0.9846421753148232, 0.04996765399752448, 0.004967544549461498, 0.7647096521141612, 0.00029220850290949987, 0.002629876526185499, 0.11191585661433845, 0.06019495159935698, 0.0005844170058189997, 0.004967544549461498, 0.0011276525885961374, 0.009772989101166524, 0.0018794209809935623, 0.08081510218272318, 0.053375555860217166, 0.009772989101166524, 0.0037588419619871247, 0.8382217575231288, 0.0007517683923974249, 0.9902775839404431, 0.8507900929440738, 0.002256737647066509, 0.041749646470730414, 0.024824114117731597, 0.002256737647066509, 0.0643170229413955, 0.010155319411799289, 0.10267290546613729, 0.0013163193008479141, 0.673955482034132, 0.003948957902543742, 0.09214235105935398, 0.0026326386016958282, 0.02369374741526245, 0.007897915805087485, 0.09082603175850607, 0.9936295612343985, 0.9856869550360147, 0.9943687186601019, 0.9852897256784667, 0.992032019741209, 0.9867019315821166, 0.2650540851957164, 0.028339116027214957, 0.028339116027214957, 0.0016670068251302917, 0.0016670068251302917, 0.6251275594238593, 0.011669047775912041, 0.0200040819015635, 0.011669047775912041, 0.005001020475390875, 0.0028363098862013436, 0.9189644031292353, 0.011345239544805374, 0.005672619772402687, 0.03403571863441612, 0.02269047908961075, 0.005672619772402687, 0.9897883291271083, 0.9878608680950389, 0.18424393348535464, 0.008188619266015761, 0.8024846880695446, 0.994905637880339, 0.9808615609840983, 0.011539547776283509, 0.9860587158015881, 0.0015601019569847288, 0.009360611741908373, 0.0787851488277288, 0.007020458806431279, 0.006240407827938915, 0.13416876830068666, 0.4594500263320026, 0.1817518779887209, 0.0039002548924618216, 0.010140662720400737, 0.10608693307496156, 0.19662849625383946, 0.06708501636895699, 0.03932569925076789, 0.009253105706063034, 0.5829456594819711, 0.10178416276669337, 0.0005361000079565617, 0.0010722000159131234, 0.0016083000238696849, 0.010185900151174671, 0.0032166000477393698, 0.0005361000079565617, 0.025732800381914958, 0.0005361000079565617, 0.0005361000079565617, 0.0005361000079565617, 0.06111540090704803, 0.8936787132635883, 0.9699942469831516, 0.022734240163667617, 0.9890079155076897, 0.9946544533733496, 0.4722388306591588, 0.020934018399974223, 0.05056788860253514, 0.0005437407376616681, 0.06579262925706185, 0.00027187036883083405, 0.3789872941501827, 0.00027187036883083405, 0.0016312222129850045, 0.00027187036883083405, 0.00027187036883083405, 0.007884240696094188, 0.0005437407376616681, 0.9933923677343686, 0.989194218983275, 0.9937327585545022, 0.1286786327200181, 0.8661061817693525, 0.0024745890907695786, 0.990697019296076, 0.43167695508270726, 0.5652912507035452, 0.008435612710164417, 0.0016871225420328833, 0.14340541607279508, 0.7727021242510606, 0.023619715588460367, 0.0016871225420328833, 0.00506136762609865, 0.042178063550822084, 0.9971289829705485, 0.0012416020432233184, 0.1961731228292843, 0.5251976642834637, 0.26942764337946007, 0.004966408172893274, 0.9907877655952261, 0.00032419091665817837, 0.14256295560043394, 8.104772916454459e-05, 0.03254066325956466, 0.0024314318749363377, 0.08716683271646772, 0.0004457625104049953, 0.16241964924574737, 0.014507543520453484, 0.26060897312859316, 0.10994124461170475, 0.05223526144654899, 0.05126268869657446, 0.00984729909349217, 0.019005692489085707, 0.054585645592320785, 0.9770633631604484, 0.990179813455669, 0.9914745298270015, 0.9867888959386469, 0.10275325291017456, 0.6396893686074593, 0.05036924162263459, 0.199462196825633, 0.0030221544973580753, 0.002014769664905384, 0.002014769664905384, 0.0044737570594031864, 0.008947514118806373, 0.0044737570594031864, 0.013421271178209558, 0.9618577677716851, 0.9840538202351559, 0.2950882442363353, 0.0009580787150530366, 0.00287423614515911, 0.12838254781710692, 0.37460877758573735, 0.0009580787150530366, 0.19448997915576643, 0.0019161574301060733, 0.9906495909491781, 0.18672542864779998, 0.028253939802304142, 0.5049155361017549, 0.00236524610217158, 0.07168845913309134, 0.07547285289656586, 0.00885892176449719, 0.00047304922043431595, 0.05487370957038065, 0.0007310760679439428, 0.01002004257829051, 0.0011181163392083831, 0.009934033629120634, 0.03590873627842307, 0.0086438993915725, 8.600894916987563e-05, 0.08800991893553974, 0.007858028476387476, 0.0015716056952774953, 0.004714817085832486, 0.8958152463081723, 0.0062581177255905006, 0.0187743531767715, 0.9637501297409371, 0.015289016469666714, 0.07740064587768775, 0.10606755175831283, 0.006688944705479188, 0.07453395528962524, 0.0019111270587083393, 0.0009555635293541696, 0.02102239764579173, 0.6956502493698355, 0.9974837433973306, 0.012906251385321513, 0.9716563542949196, 0.0018437501979030734, 0.011062501187418439, 0.0038498706128162695, 0.007699741225632539, 0.9778671356553325, 0.0038498706128162695, 0.0038498706128162695, 0.9943005318675907, 0.9927708518443659, 0.9873353915616103, 0.03970703255328192, 0.061013245142847825, 0.0009684642086166322, 0.047454746222214975, 0.03099085467573223, 0.05520245989114803, 0.004842321043083161, 0.4387142865033344, 0.084256386149647, 0.0009684642086166322, 0.0019369284172332643, 0.22662062481629194, 0.0038738568344665286, 0.004842321043083161, 0.9909021586684389, 0.018039708908291426, 0.002437798501120463, 0.3354410737541757, 0.00048755970022409256, 0.00048755970022409256, 0.005850716402689111, 0.0029253582013445555, 0.6333400505910962, 0.00048755970022409256, 0.020176785878939705, 0.9483089363101661, 0.017934920781279735, 0.012330258037129819, 0.9879280940400023, 0.0023758656743342998, 0.0023758656743342998, 0.9931118518717373, 0.006399554993238124, 0.2687813097160012, 0.2930996186903061, 0.04223706295537162, 0.02431830897430487, 0.007679465991885749, 0.3570951686226873, 0.0012799109986476249, 0.9885037722017062, 0.9944080125005523, 0.004346241907177886, 0.017384967628711542, 0.9648657033934906, 0.004346241907177886, 0.004346241907177886, 0.006285876780659237, 0.0007857345975824046, 0.5130846922213101, 0.4769409007325196, 0.0007857345975824046, 0.0007857345975824046, 0.0007857345975824046, 0.6777573013064957, 0.02971705090343866, 0.1334660531803561, 0.000260675885117883, 0.0046921659321218934, 0.07064316486694629, 0.0028674347362967127, 0.008862980094008021, 0.002085407080943064, 0.03623394803138573, 0.001042703540471532, 0.00703824889818284, 0.01955069138384122, 0.005474193587475543, 0.000260675885117883, 0.9931685126083251, 0.9858909214742784, 0.011203305925844073, 0.053290308019034165, 0.00888171800317236, 0.07500117424901105, 0.13223891249167738, 0.09769889803489597, 0.07006688646947085, 0.02861886912133316, 0.00296057266772412, 0.050329735351310044, 0.4519807606058824, 0.00888171800317236, 0.019737151118160802, 0.02383361254119397, 0.000363871947193801, 0.8580100514829828, 0.0001819359735969005, 0.0001819359735969005, 0.11716676699640394, 0.00671861590446999, 0.9876365379570886, 0.9946484438120159, 0.9944270057628686, 0.005799921466771299, 0.005799921466771299, 0.0045110500297110105, 0.0006444357185301443, 0.27259630893825104, 0.005799921466771299, 0.002577742874120577, 0.451105002971101, 0.018688635837374186, 0.001933307155590433, 0.19075297268492272, 0.03995501454886895, 0.0006444357185301443, 0.4364932666799654, 0.0008508640676022718, 0.05190270812373858, 0.0008508640676022718, 0.0059560484732159025, 0.02212246575765907, 0.0008508640676022718, 0.33524044263529507, 0.0059560484732159025, 0.026376786095670426, 0.11061232878829533, 0.0025525922028068154, 0.0338384628077219, 0.960166382169109, 0.0016238294435334136, 0.0016238294435334136, 0.037348077201268516, 0.053586371636602646, 0.006495317774133654, 0.8979776822739778, 0.049819674838692145, 0.137736748083443, 0.811767642959866, 0.06704416285251619, 0.21332233634891515, 0.05333058408722879, 0.2361783009577275, 0.010666116817445757, 0.41445482490646374, 0.0015237309739208225], \"Term\": [\"',\", \"',\", \"',\", \"',\", \"',\", \"',\", \"',\", \"',\", \"',\", \"'\\\\t',\", \"'abastecimento',\", \"'abastecimento',\", \"'abastecimento',\", \"'abastecimento',\", \"'abastecimento',\", \"'abastecimento',\", \"'abastecimento',\", \"'abastecimento',\", \"'abastecimento',\", \"'abertura',\", \"'abertura',\", \"'abertura',\", \"'abertura',\", \"'abertura',\", \"'abertura',\", \"'abertura',\", \"'abertura',\", \"'abertura',\", \"'abrigamento',\", \"'acesso',\", \"'acesso',\", \"'acesso',\", \"'acesso',\", \"'acesso',\", \"'acesso',\", \"'acesso',\", \"'acesso',\", \"'acesso',\", \"'acesso',\", \"'acesso',\", \"'acolhimento',\", \"'acolhimento',\", \"'acolhimento',\", \"'acolhimento',\", \"'acolhimento',\", \"'acolhimento',\", \"'acompanhamento',\", \"'acompanhamento',\", \"'acompanhamento',\", \"'acompanhamento',\", \"'acompanhamento',\", \"'acompanhamento',\", \"'acordo',\", \"'acordo',\", \"'acordo',\", \"'acordo',\", \"'acordo',\", \"'acordo',\", \"'acordo',\", \"'acordo',\", \"'acordo',\", \"'acordo',\", \"'acordo',\", \"'acordo',\", \"'acordo',\", \"'acordo',\", \"'adm']\", \"'adm']\", \"'administra\\u00e7\\u00e3o',\", \"'administra\\u00e7\\u00e3o',\", \"'administra\\u00e7\\u00e3o',\", \"'administra\\u00e7\\u00e3o',\", \"'administra\\u00e7\\u00e3o',\", \"'administra\\u00e7\\u00e3o',\", \"'administra\\u00e7\\u00e3o',\", \"'administra\\u00e7\\u00e3o',\", \"'administra\\u00e7\\u00e3o',\", \"'administra\\u00e7\\u00e3o',\", \"'administra\\u00e7\\u00e3o',\", \"'administra\\u00e7\\u00e3o',\", \"'administra\\u00e7\\u00e3o',\", \"'administra\\u00e7\\u00e3o',\", \"'admitido',\", \"'adubo',\", \"'ag',\", \"'agendas',\", \"'agricultura',\", \"'agricultura',\", \"'agricultura',\", \"'agricultura',\", \"'agricultura',\", \"'agricultura',\", \"'agricultura',\", \"'agricultura',\", \"'agricultura',\", \"'agricultura',\", \"'agricultura',\", \"'agr\\u00edcola']\", \"'ala',\", \"'alegre',\", \"'alegre',\", \"'alegre',\", \"'alegre',\", \"'alegre',\", \"'alegre',\", \"'alegre',\", \"'alegre',\", \"'alegre',\", \"'alegre',\", \"'alegre',\", \"'alegre']\", \"'alegre']\", \"'alimenta\\u00e7\\u00e3o',\", \"'alimenta\\u00e7\\u00e3o',\", \"'alimenta\\u00e7\\u00e3o',\", \"'alimenta\\u00e7\\u00e3o',\", \"'alimenta\\u00e7\\u00e3o',\", \"'alimenticios',\", \"'aliment\\u00edcios',\", \"'aliment\\u00edcios',\", \"'aliment\\u00edcios',\", \"'aliment\\u00edcios',\", \"'alor',\", \"'alto',\", \"'alto',\", \"'alto',\", \"'alto',\", \"'alto',\", \"'alto',\", \"'alto',\", \"'alunos',\", \"'alunos',\", \"'alunos',\", \"'alunos',\", \"'alunos',\", \"'ambiental',\", \"'ambiental',\", \"'ambiental',\", \"'ambiental',\", \"'ambiental',\", \"'ambiental',\", \"'ambiental',\", \"'ambiental',\", \"'ambiental',\", \"'ambiental']\", \"'ambiente',\", \"'ambiente',\", \"'ambiente',\", \"'ambiente',\", \"'ambiente',\", \"'ambiente',\", \"'ambiente',\", \"'ambiente',\", \"'ambiente',\", \"'ambiente',\", \"'ambiente']\", \"'ambiente']\", \"'ambiente']\", \"'ambulancia',\", \"'ambulatoriais']\", \"'ambulatorial',\", \"'ambulatorial',\", \"'ambul\\u00e2ncia',\", \"'ambul\\u00e2ncia',\", \"'ambul\\u00e2ncia',\", \"'ambul\\u00e2ncia',\", \"'amigos',\", \"'amostras',\", \"'analise',\", \"'anexo',\", \"'anexo',\", \"'anexo',\", \"'anexo',\", \"'anexo',\", \"'anexo',\", \"'anexo',\", \"'anexo',\", \"'anexo',\", \"'anexo',\", \"'anexo',\", \"'anexo',\", \"'anos',\", \"'anos',\", \"'anos',\", \"'anos',\", \"'anos',\", \"'anos',\", \"'anos',\", \"'anos',\", \"'anos',\", \"'anos',\", \"'ant\\u00edgeno',\", \"'ant\\u00edgenos',\", \"'apae',\", \"'aparelho',\", \"'aparelho',\", \"'aparelhos',\", \"'aparelhos',\", \"'aparelhos',\", \"'aparelhos',\", \"'aparelhos',\", \"'aparelhos',\", \"'aparelhos',\", \"'aparelhos',\", \"'aparelhos',\", \"'aparelhos',\", \"'aposentadoria',\", \"'aprende',\", \"'aprendizagem',\", \"'apresenta\\u00e7\\u00e3o',\", \"'apresenta\\u00e7\\u00e3o',\", \"'apresenta\\u00e7\\u00e3o',\", \"'aprovado',\", \"'aquisicao',\", \"'aquisicao',\", \"'aquisicao',\", \"'aquisicao',\", \"'aquisicoes',\", \"'aquisi\\u00e7\\u00e3o',\", \"'aquisi\\u00e7\\u00e3o',\", \"'aquisi\\u00e7\\u00e3o',\", \"'aquisi\\u00e7\\u00e3o',\", \"'aquisi\\u00e7\\u00e3o',\", \"'aquisi\\u00e7\\u00e3o',\", \"'aquisi\\u00e7\\u00e3o',\", \"'aquisi\\u00e7\\u00e3o',\", \"'aquisi\\u00e7\\u00e3o',\", \"'aquisi\\u00e7\\u00e3o',\", \"'aquisi\\u00e7\\u00e3o',\", \"'aquisi\\u00e7\\u00e3o',\", \"'aquisi\\u00e7\\u00e3o',\", \"'aquisi\\u00e7\\u00e3o',\", \"'aquisi\\u00e7\\u00e3o',\", \"'aquisi\\u00e7\\u00e3o',\", \"'aquisi\\u00e7\\u00f5es',\", \"'ar',\", \"'ar',\", \"'ar',\", \"'ar',\", \"'ar',\", \"'ar',\", \"'ar',\", \"'ar',\", \"'ar',\", \"'aratiba',\", \"'armado',\", \"'art',\", \"'art',\", \"'art',\", \"'art',\", \"'art',\", \"'art',\", \"'art',\", \"'art',\", \"'art',\", \"'art',\", \"'art',\", \"'art',\", \"'artesiano',\", \"'asf\\u00e1ltica',\", \"'asf\\u00e1ltica',\", \"'asf\\u00e1ltica',\", \"'asf\\u00e1ltica',\", \"'asf\\u00e1ltica',\", \"'assessoramento',\", \"'assessoramento',\", \"'assessoramento',\", \"'assessoria',\", \"'assessoria',\", \"'assessoria',\", \"'assessoria',\", \"'assist\\u00eancia',\", \"'assist\\u00eancia',\", \"'assist\\u00eancia',\", \"'assist\\u00eancia',\", \"'assist\\u00eancia',\", \"'assist\\u00eancia',\", \"'assist\\u00eancia',\", \"'assist\\u00eancia',\", \"'assist\\u00eancia',\", \"'assist\\u00eancia',\", \"'assunto',\", \"'assunto',\", \"'assuntos',\", \"'ata',\", \"'ata',\", \"'ata',\", \"'atender',\", \"'atender',\", \"'atender',\", \"'atender',\", \"'atender',\", \"'atender',\", \"'atender',\", \"'atender',\", \"'atender',\", \"'atender',\", \"'atender',\", \"'atender',\", \"'atender',\", \"'atender',\", \"'atender',\", \"'atendidos',\", \"'atendimento',\", \"'atendimento',\", \"'atendimento',\", \"'atendimento',\", \"'atendimento',\", \"'atendimento',\", \"'atendimento',\", \"'atendimento',\", \"'atendimento',\", \"'atendimento',\", \"'atendimento',\", \"'atendimento',\", \"'atendimento',\", \"'atendimento',\", \"'atendimento',\", \"'atendimentos',\", \"'atendimentos',\", \"'atendimentos',\", \"'aten\\u00e7\\u00e3o',\", \"'aten\\u00e7\\u00e3o',\", \"'aten\\u00e7\\u00e3o',\", \"'aten\\u00e7\\u00e3o',\", \"'aten\\u00e7\\u00e3o',\", \"'aten\\u00e7\\u00e3o',\", \"'aten\\u00e7\\u00e3o',\", \"'aten\\u00e7\\u00e3o',\", \"'aten\\u00e7\\u00e3o',\", \"'atividades',\", \"'atividades',\", \"'atividades',\", \"'atividades',\", \"'atividades',\", \"'atividades',\", \"'atividades',\", \"'atividades',\", \"'atividades',\", \"'atividades',\", \"'atividades',\", \"'atividades',\", \"'atividades',\", \"'atividades',\", \"'atividades',\", \"'ativos',\", \"'atos',\", \"'atos',\", \"'atos',\", \"'atos',\", \"'atrav\\u00e9s',\", \"'atrav\\u00e9s',\", \"'atrav\\u00e9s',\", \"'atrav\\u00e9s',\", \"'atrav\\u00e9s',\", \"'atrav\\u00e9s',\", \"'atrav\\u00e9s',\", \"'atrav\\u00e9s',\", \"'atrav\\u00e9s',\", \"'atrav\\u00e9s',\", \"'atrav\\u00e9s',\", \"'atrav\\u00e9s',\", \"'atrav\\u00e9s',\", \"'atrav\\u00e9s',\", \"'atrav\\u00e9s',\", \"'atrav\\u00e9s',\", \"'atuar',\", \"'atuar',\", \"'aulas',\", \"'aulas',\", \"'aulas',\", \"'aulas',\", \"'aulas',\", \"'aulas',\", \"'aumento',\", \"'auxilio',\", \"'av',\", \"'av',\", \"'av',\", \"'av',\", \"'av',\", \"'avenida',\", \"'avenida',\", \"'avisos',\", \"'bacia',\", \"'bairro',\", \"'bairro',\", \"'bairro',\", \"'bairro',\", \"'baixo',\", \"'banda',\", \"'banda',\", \"'banda',\", \"'banda',\", \"'banda',\", \"'bandeiras',\", \"'barbosa',\", \"'barra',\", \"'barra',\", \"'barra',\", \"'barra',\", \"'barra',\", \"'barra',\", \"'barro',\", \"'basalto',\", \"'basalto',\", \"'baterias',\", \"'bem',\", \"'bem',\", \"'bem',\", \"'bem',\", \"'bem',\", \"'bem',\", \"'bem',\", \"'bem',\", \"'bem',\", \"'bem',\", \"'bem',\", \"'bem',\", \"'bem',\", \"'bem',\", \"'bem',\", \"'bem',\", \"'benef\\u00edcio',\", \"'bens',\", \"'bens',\", \"'bens',\", \"'bens',\", \"'bens',\", \"'bens',\", \"'benz',\", \"'biblioteca',\", \"'biblioteca',\", \"'biblioteca',\", \"'blocos',\", \"'blocos',\", \"'bocas',\", \"'bocas',\", \"'bombas',\", \"'bombas',\", \"'bombeiros',\", \"'bombeiros',\", \"'bombonas',\", \"'brita',\", \"'brita',\", \"'brita']\", \"'b\\u00e1sica',\", \"'b\\u00e1sica',\", \"'b\\u00e1sica',\", \"'b\\u00e1sica',\", \"'b\\u00e1sica',\", \"'b\\u00e1sica',\", \"'b\\u00e1sica',\", \"'b\\u00e1sica',\", \"'b\\u00e1sicas',\", \"'b\\u00e1sicas',\", \"'b\\u00e1sicas',\", \"'b\\u00e1sicas',\", \"'b\\u00e1sicas']\", \"'c',\", \"'c',\", \"'c',\", \"'c',\", \"'c',\", \"'c',\", \"'c',\", \"'c',\", \"'cabine',\", \"'cabine',\", \"'cabine',\", \"'cabos',\", \"'cadeiras',\", \"'cadeiras',\", \"'cadeiras',\", \"'cadeiras',\", \"'cadeiras',\", \"'caf\\u00e9',\", \"'caixas',\", \"'caixas',\", \"'caixas',\", \"'caixas',\", \"'calc\\u00e1rio',\", \"'calc\\u00e1rio',\", \"'caminh\\u00e3o',\", \"'caminh\\u00e3o',\", \"'caminh\\u00e3o',\", \"'caminh\\u00e3o',\", \"'caminh\\u00e3o',\", \"'caminh\\u00e3o',\", \"'caminh\\u00e3o',\", \"'caminh\\u00f5es',\", \"'caminh\\u00f5es',\", \"'caminh\\u00f5es',\", \"'caminh\\u00f5es',\", \"'caminh\\u00f5es',\", \"'caminh\\u00f5es',\", \"'campanha',\", \"'campanha',\", \"'campanhas',\", \"'canaliza\\u00e7\\u00e3o',\", \"'capacidade',\", \"'capacidade',\", \"'capacidade',\", \"'capacidade',\", \"'capacidade',\", \"'capacidade',\", \"'capacidade',\", \"'capacidade',\", \"'capacidade',\", \"'capacidade',\", \"'caracter\\u00edsticas',\", \"'caracter\\u00edsticas',\", \"'caracter\\u00edsticas',\", \"'carentes',\", \"'carga',\", \"'carga',\", \"'carga',\", \"'carga',\", \"'carga',\", \"'carga',\", \"'carga',\", \"'carga',\", \"'carga',\", \"'carga',\", \"'carga',\", \"'carregadeira',\", \"'carregadeira',\", \"'carros',\", \"'cart\\u00e3o',\", \"'cart\\u00e3o',\", \"'cart\\u00e3o',\", \"'cart\\u00f5es',\", \"'cart\\u00f5es',\", \"'cart\\u00f5es',\", \"'cart\\u00f5es',\", \"'casas',\", \"'case',\", \"'case',\", \"'case']\", \"'caterpillar',\", \"'ca\\u00e7amba',\", \"'ca\\u00e7amba',\", \"'ca\\u00e7amba',\", \"'ca\\u00e7amba',\", \"'cento',\", \"'cento',\", \"'cento',\", \"'central',\", \"'central',\", \"'central',\", \"'central',\", \"'central',\", \"'central',\", \"'central',\", \"'central',\", \"'central',\", \"'central',\", \"'central',\", \"'central',\", \"'central',\", \"'central',\", \"'central',\", \"'centro',\", \"'centro',\", \"'centro',\", \"'centro',\", \"'centro',\", \"'centro',\", \"'centro',\", \"'centro',\", \"'centro',\", \"'centro',\", \"'centro',\", \"'centro',\", \"'centro',\", \"'centro',\", \"'centro',\", \"'centro',\", \"'certificado',\", \"'certificado',\", \"'certificado',\", \"'cestas',\", \"'cestas',\", \"'cestas',\", \"'chamada',\", \"'chamada',\", \"'chassi',\", \"'chassi',\", \"'chevrolet',\", \"'cia',\", \"'cidade',\", \"'cidade',\", \"'cidade',\", \"'cidade',\", \"'cidade',\", \"'cidade',\", \"'cidade',\", \"'cidade',\", \"'cidade',\", \"'cidade',\", \"'cidade',\", \"'cidade',\", \"'cimento',\", \"'cinco',\", \"'cinco',\", \"'cinco',\", \"'cinco',\", \"'cinco',\", \"'cinco',\", \"'cinco',\", \"'cinco',\", \"'cinco',\", \"'cinquenta',\", \"'cinquenta',\", \"'cinquenta',\", \"'cinquenta',\", \"'cinquenta',\", \"'civil']\", \"'clinica',\", \"'clinico',\", \"'cl\\u00ednicas',\", \"'cnpj',\", \"'cnpj',\", \"'cnpj',\", \"'cnpj',\", \"'cnpj',\", \"'cnpj',\", \"'cnpj',\", \"'cnpj',\", \"'cnpj',\", \"'cnpj',\", \"'coleta',\", \"'coleta',\", \"'coleta',\", \"'coleta',\", \"'combate',\", \"'combate',\", \"'combate',\", \"'combate',\", \"'combate',\", \"'combate',\", \"'combustivel',\", \"'combust\\u00edveis']\", \"'comercial',\", \"'comercial',\", \"'comercial',\", \"'comercial',\", \"'compactador',\", \"'compactador',\", \"'compactador',\", \"'compra',\", \"'compra',\", \"'compra',\", \"'compra',\", \"'compra',\", \"'compra',\", \"'comprimido',\", \"'computador',\", \"'computador',\", \"'computadores',\", \"'computadores',\", \"'computadores',\", \"'computadores',\", \"'comum',\", \"'comum',\", \"'concreto',\", \"'concreto',\", \"'concreto',\", \"'concreto',\", \"'concreto',\", \"'concreto',\", \"'concreto']\", \"'condicionado',\", \"'condicionado',\", \"'condicionado',\", \"'configura\\u00e7\\u00e3o',\", \"'conselheiros',\", \"'conselho',\", \"'conselho',\", \"'conselho',\", \"'conselho',\", \"'conserto',\", \"'conserto',\", \"'conserto',\", \"'consertos',\", \"'consertos',\", \"'consertos',\", \"'consoante',\", \"'consolida\\u00e7\\u00e3o',\", \"'consolida\\u00e7\\u00e3o',\", \"'consorciados',\", \"'constante',\", \"'constante',\", \"'constante',\", \"'constantes',\", \"'constantes',\", \"'constantes',\", \"'constantes',\", \"'constantes',\", \"'constantes',\", \"'constantes',\", \"'constantes',\", \"'constantes',\", \"'constru\\u00e7\\u00e3o',\", \"'constru\\u00e7\\u00e3o',\", \"'constru\\u00e7\\u00e3o',\", \"'constru\\u00e7\\u00e3o',\", \"'constru\\u00e7\\u00e3o',\", \"'constru\\u00e7\\u00e3o',\", \"'constru\\u00e7\\u00e3o',\", \"'constru\\u00e7\\u00e3o',\", \"'constru\\u00e7\\u00e3o',\", \"'constru\\u00e7\\u00e3o',\", \"'constru\\u00e7\\u00e3o',\", \"'constru\\u00e7\\u00e3o',\", \"'constru\\u00e7\\u00e3o',\", \"'constru\\u00e7\\u00e3o',\", \"'constru\\u00e7\\u00e3o',\", \"'constru\\u00e7\\u00e3o',\", \"'consultoria',\", \"'consultoria',\", \"'consultoria',\", \"'consultoria',\", \"'contabilidade',\", \"'contabilidade',\", \"'contados',\", \"'contados',\", \"'contas',\", \"'contas',\", \"'contas',\", \"'contas',\", \"'conte\\u00fado',\", \"'conte\\u00fado',\", \"'conting\\u00eancia',\", \"'contrapartida',\", \"'contrapartida',\", \"'contrapartida',\", \"'contrata\\u00e7\\u00e3o',\", \"'contrata\\u00e7\\u00e3o',\", \"'contrata\\u00e7\\u00e3o',\", \"'contrata\\u00e7\\u00e3o',\", \"'contrata\\u00e7\\u00e3o',\", \"'contrata\\u00e7\\u00e3o',\", \"'contrata\\u00e7\\u00e3o',\", \"'contrata\\u00e7\\u00e3o',\", \"'contrata\\u00e7\\u00e3o',\", \"'contrata\\u00e7\\u00e3o',\", \"'contrata\\u00e7\\u00e3o',\", \"'contrata\\u00e7\\u00e3o',\", \"'contrata\\u00e7\\u00e3o',\", \"'contrata\\u00e7\\u00e3o',\", \"'contrata\\u00e7\\u00e3o',\", \"'contrata\\u00e7\\u00f5es',\", \"'contrato',\", \"'contrato',\", \"'contrato',\", \"'contrato',\", \"'contrato',\", \"'contrato',\", \"'contrato',\", \"'contrato',\", \"'contrato',\", \"'contrato',\", \"'contrato',\", \"'contrato',\", \"'contrato',\", \"'contrato',\", \"'controle',\", \"'controle',\", \"'controle',\", \"'controle',\", \"'controle',\", \"'controle',\", \"'controle',\", \"'controle',\", \"'controle',\", \"'controle',\", \"'controle',\", \"'controle',\", \"'controle',\", \"'cont\\u00e1beis',\", \"'cont\\u00e1bil',\", \"'conv\\u00eanio',\", \"'conv\\u00eanio',\", \"'conv\\u00eanio',\", \"'conv\\u00eanio',\", \"'conv\\u00eanio',\", \"'conv\\u00eanios',\", \"'copa',\", \"'copa',\", \"'copa',\", \"'coronavirus',\", \"'coronavirus',\", \"'coronav\\u00edrus',\", \"'corpo',\", \"'corpo',\", \"'corpo',\", \"'correio',\", \"'corrente',\", \"'correspondente',\", \"'corretiva',\", \"'corretiva',\", \"'corretiva',\", \"'corretiva',\", \"'corretiva',\", \"'covid',\", \"'covid',\", \"'covid',\", \"'covid',\", \"'covid',\", \"'covid']\", \"'covid']\", \"'covid']\", \"'covid']\", \"'covid']\", \"'covid']\", \"'covid']\", \"'cozinha',\", \"'cozinha',\", \"'cozinha',\", \"'cozinha',\", \"'cozinha']\", \"'cp',\", \"'cras',\", \"'cras',\", \"'cras',\", \"'cras',\", \"'cras',\", \"'cras',\", \"'cras',\", \"'cras',\", \"'crea',\", \"'creas',\", \"'creas',\", \"'credenciamento',\", \"'credenciamento',\", \"'credenciamento',\", \"'credenciamento',\", \"'credenciamento',\", \"'credenciamento',\", \"'credor',\", \"'cria\\u00e7\\u00e3o',\", \"'cria\\u00e7\\u00e3o',\", \"'cria\\u00e7\\u00e3o',\", \"'cria\\u00e7\\u00e3o',\", \"'cria\\u00e7\\u00e3o',\", \"'cria\\u00e7\\u00e3o',\", \"'cristo',\", \"'cujo',\", \"'cultura',\", \"'cultura',\", \"'cultura',\", \"'cultura',\", \"'cultura',\", \"'cultura',\", \"'cultura',\", \"'cultura',\", \"'cultura',\", \"'cultura']\", \"'curso',\", \"'curso',\", \"'curso',\", \"'curso',\", \"'curso',\", \"'curso',\", \"'c\\u00e2mara',\", \"'c\\u00e2mara',\", \"'c\\u00e2mara',\", \"'c\\u00e2mara',\", \"'c\\u00e2mara',\", \"'c\\u00e2mara',\", \"'c\\u00e2mara',\", \"'c\\u00e2mara',\", \"'c\\u00e2mara',\", \"'c\\u00e2mara',\", \"'c\\u00e2mara',\", \"'c\\u00e2mara']\", \"'c\\u00e2mara']\", \"'c\\u00e2maras',\", \"'c\\u00e2maras',\", \"'c\\u00e2maras',\", \"'c\\u00e2mera',\", \"'d']\", \"'dados',\", \"'dados',\", \"'dados',\", \"'dados',\", \"'dados',\", \"'dados',\", \"'decis\\u00e3o',\", \"'decis\\u00e3o',\", \"'decorrente',\", \"'decorrente',\", \"'decorrente',\", \"'decretos',\", \"'dedetiza\\u00e7\\u00e3o',\", \"'dedica\\u00e7\\u00e3o',\", \"'deere',\", \"'dep\\u00f3sito',\", \"'dep\\u00f3sito',\", \"'descart\\u00e1veis',\", \"'descart\\u00e1veis',\", \"'descart\\u00e1veis',\", \"'descart\\u00e1veis']\", \"'descart\\u00e1vel',\", \"'descritivo',\", \"'descritivo',\", \"'desenvolvidas',\", \"'desenvolvidas',\", \"'desenvolvimento',\", \"'desenvolvimento',\", \"'desenvolvimento',\", \"'desenvolvimento',\", \"'desenvolvimento',\", \"'desenvolvimento',\", \"'desenvolvimento',\", \"'desenvolvimento',\", \"'desenvolvimento',\", \"'desenvolvimento',\", \"'desenvolvimento',\", \"'desenvolvimento',\", \"'desinfec\\u00e7\\u00e3o',\", \"'desinfec\\u00e7\\u00e3o',\", \"'desinfec\\u00e7\\u00e3o',\", \"'despesa',\", \"'despesa',\", \"'despesa',\", \"'despesa',\", \"'despesa',\", \"'despesa',\", \"'despesa',\", \"'desporto',\", \"'desporto']\", \"'desratiza\\u00e7\\u00e3o',\", \"'desratiza\\u00e7\\u00e3o',\", \"'desratiza\\u00e7\\u00e3o',\", \"'deste',\", \"'deste',\", \"'deste',\", \"'deste',\", \"'deste',\", \"'deste',\", \"'deste',\", \"'deste',\", \"'deste',\", \"'deste',\", \"'deste',\", \"'deste',\", \"'deste',\", \"'deste',\", \"'deste',\", \"'destinado',\", \"'destinado',\", \"'destinado',\", \"'destinado',\", \"'destinado',\", \"'destinado',\", \"'destinado',\", \"'destinado',\", \"'destinado',\", \"'destinado',\", \"'destinado',\", \"'destinado',\", \"'destinado',\", \"'destinados',\", \"'destinados',\", \"'destinados',\", \"'destinados',\", \"'destinados',\", \"'destinados',\", \"'destinados',\", \"'destinados',\", \"'destinados',\", \"'destinados',\", \"'destinados',\", \"'destinados',\", \"'destinados',\", \"'destina\\u00e7\\u00e3o',\", \"'detec\\u00e7\\u00e3o',\", \"'determina\\u00e7\\u00e3o',\", \"'determina\\u00e7\\u00e3o',\", \"'determina\\u00e7\\u00e3o',\", \"'dezesseis',\", \"'dezoito',\", \"'dia',\", \"'dia',\", \"'dia',\", \"'dia',\", \"'dia',\", \"'dia',\", \"'dia',\", \"'dia',\", \"'dia',\", \"'dia',\", \"'dias',\", \"'dias',\", \"'dias',\", \"'dias',\", \"'dias',\", \"'dias',\", \"'dias',\", \"'dias',\", \"'dias',\", \"'dias',\", \"'dias',\", \"'dias',\", \"'dias',\", \"'dias',\", \"'dias']\", \"'dias']\", \"'did\\u00e1tico',\", \"'diesel',\", \"'diesel',\", \"'diesel',\", \"'diesel',\", \"'diesel',\", \"'digital',\", \"'digital',\", \"'digital',\", \"'digital',\", \"'digital',\", \"'digital',\", \"'digital',\", \"'digital',\", \"'digital',\", \"'digital']\", \"'direto',\", \"'diretoria',\", \"'dispensa',\", \"'dispensa',\", \"'dispensa',\", \"'dispensa',\", \"'dispensa',\", \"'dispensa',\", \"'dispensa',\", \"'dispensa',\", \"'dispensa',\", \"'dispensa',\", \"'dispensa',\", \"'dispensa',\", \"'disponibiliza\\u00e7\\u00e3o',\", \"'disponibiliza\\u00e7\\u00e3o',\", \"'disponibiliza\\u00e7\\u00e3o',\", \"'dispon\\u00edvel',\", \"'dispositivos',\", \"'distribuidor',\", \"'distribu\\u00eddas',\", \"'diversas',\", \"'diversas',\", \"'diversas',\", \"'diversas',\", \"'diversas',\", \"'diversas',\", \"'divis\\u00f3rias',\", \"'divis\\u00f3rias',\", \"'divis\\u00f3rias',\", \"'divulga\\u00e7\\u00e3o',\", \"'divulga\\u00e7\\u00e3o',\", \"'divulga\\u00e7\\u00e3o',\", \"'divulga\\u00e7\\u00e3o',\", \"'doen\\u00e7a',\", \"'dois',\", \"'dois',\", \"'dois',\", \"'dois',\", \"'dois',\", \"'dois',\", \"'dois',\", \"'dois',\", \"'dois',\", \"'dois',\", \"'dois',\", \"'dois',\", \"'dois',\", \"'dois',\", \"'dois',\", \"'dois',\", \"'domiciliar',\", \"'dpm',\", \"'dpm',\", \"'dpm',\", \"'ducato',\", \"'durante']\", \"'d\\u00e1gua',\", \"'econ\\u00f4mica',\", \"'econ\\u00f4mica',\", \"'econ\\u00f4mica',\", \"'econ\\u00f4mica',\", \"'econ\\u00f4mico',\", \"'econ\\u00f4mico',\", \"'edifica\\u00e7\\u00f5es',\", \"'editais',\", \"'editais',\", \"'edital',\", \"'edital',\", \"'edital',\", \"'edital',\", \"'edital',\", \"'edital',\", \"'edital',\", \"'edital',\", \"'edital',\", \"'edital',\", \"'edital',\", \"'edital',\", \"'edital']\", \"'edital']\", \"'edital']\", \"'edital']\", \"'edital']\", \"'edital']\", \"'edital']\", \"'edital']\", \"'edital']\", \"'editora',\", \"'educacionais',\", \"'educacional',\", \"'educacional',\", \"'educacional',\", \"'educa\\u00e7\\u00e3o',\", \"'educa\\u00e7\\u00e3o',\", \"'educa\\u00e7\\u00e3o',\", \"'educa\\u00e7\\u00e3o',\", \"'educa\\u00e7\\u00e3o',\", \"'educa\\u00e7\\u00e3o',\", \"'educa\\u00e7\\u00e3o',\", \"'educa\\u00e7\\u00e3o',\", \"'educa\\u00e7\\u00e3o',\", \"'educa\\u00e7\\u00e3o',\", \"'educa\\u00e7\\u00e3o',\", \"'educa\\u00e7\\u00e3o',\", \"'educa\\u00e7\\u00e3o',\", \"'educa\\u00e7\\u00e3o',\", \"'educa\\u00e7\\u00e3o',\", \"'efici\\u00eancia',\", \"'elaboracao',\", \"'elabora\\u00e7\\u00e3o',\", \"'elabora\\u00e7\\u00e3o',\", \"'elabora\\u00e7\\u00e3o',\", \"'elabora\\u00e7\\u00e3o',\", \"'elabora\\u00e7\\u00e3o',\", \"'elabora\\u00e7\\u00e3o',\", \"'elabora\\u00e7\\u00e3o',\", \"'elabora\\u00e7\\u00e3o',\", \"'elabora\\u00e7\\u00e3o',\", \"'elabora\\u00e7\\u00e3o',\", \"'elabora\\u00e7\\u00e3o',\", \"'eletrico',\", \"'eletronico',\", \"'eletronico',\", \"'el\\u00e9trica',\", \"'el\\u00e9trica',\", \"'el\\u00e9trica',\", \"'el\\u00e9trica',\", \"'el\\u00e9trica',\", \"'el\\u00e9trica',\", \"'el\\u00e9trica',\", \"'el\\u00e9trica',\", \"'el\\u00e9trica',\", \"'el\\u00e9trica',\", \"'el\\u00e9trica',\", \"'el\\u00e9trica',\", \"'el\\u00e9trica']\", \"'el\\u00e9trico']\", \"'email',\", \"'emails',\", \"'emef',\", \"'emef',\", \"'emef',\", \"'emef',\", \"'emef',\", \"'emef',\", \"'emef',\", \"'emef',\", \"'emef',\", \"'emei',\", \"'emei',\", \"'emei',\", \"'emei',\", \"'emei',\", \"'emei',\", \"'emei',\", \"'emei',\", \"'emei',\", \"'emei',\", \"'emei',\", \"'emergencial',\", \"'emergencial',\", \"'emergencial',\", \"'emergencial',\", \"'emergencial',\", \"'emergencial',\", \"'emergencial',\", \"'emergencial',\", \"'emergencial',\", \"'emergencial',\", \"'emergencial',\", \"'emergencial',\", \"'emergencial',\", \"'emergencial',\", \"'emerg\\u00eancia',\", \"'emerg\\u00eancia',\", \"'emerg\\u00eancia',\", \"'emerg\\u00eancia',\", \"'emerg\\u00eancia',\", \"'emerg\\u00eancia',\", \"'emerg\\u00eancia',\", \"'emerg\\u00eancia',\", \"'emissora',\", \"'emitida',\", \"'empenho',\", \"'empenho',\", \"'empenho',\", \"'empreendedor',\", \"'empreitada',\", \"'empreitada',\", \"'empresa',\", \"'empresa',\", \"'empresa',\", \"'empresa',\", \"'empresa',\", \"'empresa',\", \"'empresa',\", \"'empresa',\", \"'empresa',\", \"'empresa',\", \"'empresa',\", \"'empresa',\", \"'empresa',\", \"'empresa',\", \"'empresa',\", \"'empresa',\", \"'emuls\\u00e3o',\", \"'encaminhados',\", \"'energia',\", \"'energia',\", \"'energia',\", \"'energia',\", \"'energia',\", \"'energia',\", \"'energia',\", \"'energia',\", \"'energia',\", \"'energia',\", \"'enfrentamento',\", \"'enfrentamento',\", \"'enfrentamento',\", \"'enfrentamento',\", \"'enfrentamento',\", \"'enfrentamento',\", \"'engenharia']\", \"'ensino',\", \"'ensino',\", \"'ensino',\", \"'ensino']\", \"'ensino']\", \"'entregues',\", \"'envelopes',\", \"'epis',\", \"'epis',\", \"'epp',\", \"'epp',\", \"'equipamentos',\", \"'equipamentos',\", \"'equipamentos',\", \"'equipamentos',\", \"'equipamentos',\", \"'equipamentos',\", \"'equipamentos',\", \"'equipamentos',\", \"'equipamentos',\", \"'equipamentos',\", \"'equipamentos',\", \"'equipamentos',\", \"'equipamentos',\", \"'equipamentos',\", \"'equipamentos',\", \"'equipamentos',\", \"'ers',\", \"'escavadeira',\", \"'escavadeira',\", \"'escavadeira',\", \"'escavadeira',\", \"'escola',\", \"'escola',\", \"'escola',\", \"'escola',\", \"'escola',\", \"'escola',\", \"'escola',\", \"'escola',\", \"'escola',\", \"'escolar',\", \"'escolar',\", \"'escolar',\", \"'escolar',\", \"'escolar',\", \"'escolar',\", \"'escolar',\", \"'escolar',\", \"'escolar']\", \"'escolar']\", \"'escolares',\", \"'escolares',\", \"'escolares',\", \"'escolares',\", \"'escolares',\", \"'escolares',\", \"'escolares',\", \"'escolares',\", \"'escolares',\", \"'escolares']\", \"'escolas',\", \"'escolas',\", \"'escolas',\", \"'escolas',\", \"'escolas',\", \"'escolas',\", \"'escolas',\", \"'escolas']\", \"'esfs',\", \"'esgoto',\", \"'esgoto',\", \"'esgoto',\", \"'esgoto',\", \"'esgoto',\", \"'especializada',\", \"'especializada',\", \"'especializada',\", \"'especializada',\", \"'especializada',\", \"'especializada',\", \"'especializada',\", \"'especializada',\", \"'especializada',\", \"'especializada',\", \"'especializada',\", \"'especializada',\", \"'especializada',\", \"'especializada',\", \"'especializada',\", \"'especializada',\", \"'especializadas',\", \"'especializados',\", \"'especializados',\", \"'especializados',\", \"'especializados',\", \"'especializados',\", \"'especificados',\", \"'especifica\\u00e7\\u00f5es',\", \"'especifica\\u00e7\\u00f5es',\", \"'especifica\\u00e7\\u00f5es',\", \"'especifica\\u00e7\\u00f5es',\", \"'especifica\\u00e7\\u00f5es',\", \"'especifica\\u00e7\\u00f5es',\", \"'especifica\\u00e7\\u00f5es',\", \"'especifica\\u00e7\\u00f5es',\", \"'especifica\\u00e7\\u00f5es',\", \"'especifica\\u00e7\\u00f5es',\", \"'especifica\\u00e7\\u00f5es',\", \"'espec\\u00edficos',\", \"'esperan\\u00e7a',\", \"'esperan\\u00e7a',\", \"'esperan\\u00e7a',\", \"'esportivos',\", \"'esquina',\", \"'esquina',\", \"'estagi\\u00e1rios',\", \"'estimativo',\", \"'estimativo',\", \"'est\\u00e1gios',\", \"'eventuais',\", \"'eventuais',\", \"'eventuais',\", \"'eventual',\", \"'eventual',\", \"'eventual',\", \"'eventual',\", \"'eventual',\", \"'exame',\", \"'exames',\", \"'exames',\", \"'exames',\", \"'exames',\", \"'exames',\", \"'exames',\", \"'exames',\", \"'exames',\", \"'excepcionais',\", \"'executivo',\", \"'executivo',\", \"'executivo',\", \"'executivo',\", \"'executivo',\", \"'executivo',\", \"'executivo',\", \"'execu\\u00e7\\u00e3o',\", \"'execu\\u00e7\\u00e3o',\", \"'execu\\u00e7\\u00e3o',\", \"'execu\\u00e7\\u00e3o',\", \"'execu\\u00e7\\u00e3o',\", \"'execu\\u00e7\\u00e3o',\", \"'execu\\u00e7\\u00e3o',\", \"'execu\\u00e7\\u00e3o',\", \"'execu\\u00e7\\u00e3o',\", \"'execu\\u00e7\\u00e3o',\", \"'execu\\u00e7\\u00e3o',\", \"'execu\\u00e7\\u00e3o',\", \"'execu\\u00e7\\u00e3o',\", \"'execu\\u00e7\\u00e3o',\", \"'exerc\\u00edcio']\", \"'exerc\\u00edcio']\", \"'exerc\\u00edcio']\", \"'expediente',\", \"'expediente',\", \"'expediente',\", \"'expediente']\", \"'explora\\u00e7\\u00e3o',\", \"'explora\\u00e7\\u00e3o',\", \"'externa',\", \"'externa',\", \"'externa',\", \"'externa',\", \"'externa',\", \"'extintores',\", \"'extra\\u00e7\\u00e3o',\", \"'extra\\u00e7\\u00e3o',\", \"'extra\\u00e7\\u00e3o',\", \"'fabricante',\", \"'faixas',\", \"'familia',\", \"'familiar',\", \"'familiar']\", \"'farmacia',\", \"'favor',\", \"'federal']\", \"'federal']\", \"'federal']\", \"'ferro',\", \"'ferro',\", \"'ferro',\", \"'ferro',\", \"'ferro',\", \"'ferro',\", \"'ferro',\", \"'ferro',\", \"'fevereiro',\", \"'fevereiro',\", \"'fibra',\", \"'fibra',\", \"'fibra',\", \"'final',\", \"'fio',\", \"'fio',\", \"'fio',\", \"'fio',\", \"'fio',\", \"'fm',\", \"'folha',\", \"'folhas',\", \"'ford',\", \"'ford',\", \"'formaliza\\u00e7\\u00e3o',\", \"'formaliza\\u00e7\\u00e3o',\", \"'fornecedores',\", \"'fornecedores',\", \"'fornecimento',\", \"'fornecimento',\", \"'fornecimento',\", \"'fornecimento',\", \"'fornecimento',\", \"'fornecimento',\", \"'fornecimento',\", \"'fornecimento',\", \"'fornecimento',\", \"'fornecimento',\", \"'fornecimento',\", \"'fornecimento',\", \"'fornecimento',\", \"'fornecimento',\", \"'fornecimento',\", \"'fornecimento',\", \"'fracionada',\", \"'fraldas',\", \"'fraldas',\", \"'frota',\", \"'frota',\", \"'frota',\", \"'frota',\", \"'frota',\", \"'frota',\", \"'frota',\", \"'funcionamento',\", \"'funcionamento',\", \"'funcionamento',\", \"'funcionamento',\", \"'funcionamento',\", \"'funcionamento',\", \"'funcionamento',\", \"'funcionamento',\", \"'funda',\", \"'fundamental',\", \"'fundamental',\", \"'fundamental',\", \"'fundamental']\", \"'fundars']\", \"'fundars']\", \"'funeral',\", \"'furg\\u00e3o',\", \"'futura',\", \"'futura',\", \"'futura',\", \"'futura',\", \"'futuras',\", \"'futuras',\", \"'gabinete',\", \"'gabinete',\", \"'gabinete',\", \"'gabinete',\", \"'gabinete',\", \"'gabinete',\", \"'gabinete',\", \"'gabinete',\", \"'gabinete',\", \"'gabinete',\", \"'gabinetes',\", \"'garantia']\", \"'gas',\", \"'gases',\", \"'gases',\", \"'gasolina',\", \"'gasolina',\", \"'gasolina',\", \"'gel',\", \"'generos',\", \"'generos',\", \"'geral']\", \"'gerenciamento',\", \"'gerenciamento',\", \"'gerenciamento',\", \"'gerenciamento',\", \"'gest\\u00e3o',\", \"'gest\\u00e3o',\", \"'gest\\u00e3o',\", \"'gest\\u00e3o',\", \"'gest\\u00e3o',\", \"'global',\", \"'global',\", \"'global',\", \"'global',\", \"'global',\", \"'glp',\", \"'graeff',\", \"'grande']\", \"'gratuita',\", \"'gravata\\u00ed']\", \"'graxas',\", \"'grupo',\", \"'grupo',\", \"'grupo',\", \"'grupo',\", \"'grupo',\", \"'grupo',\", \"'gr\\u00e1ficos',\", \"'guia',\", \"'g\\u00e1s',\", \"'g\\u00e1s',\", \"'g\\u00e1s',\", \"'g\\u00e1s',\", \"'g\\u00e1s',\", \"'g\\u00e1s',\", \"'g\\u00e1s',\", \"'g\\u00eaneros',\", \"'g\\u00eaneros',\", \"'g\\u00eaneros',\", \"'g\\u00eaneros',\", \"'h',\", \"'h',\", \"'h',\", \"'h',\", \"'h',\", \"'h',\", \"'h',\", \"'h',\", \"'habita\\u00e7\\u00e3o',\", \"'habita\\u00e7\\u00e3o']\", \"'hidr\\u00e1ulica',\", \"'hidr\\u00e1ulica',\", \"'hidr\\u00e1ulica',\", \"'hidr\\u00e1ulica',\", \"'hidr\\u00e1ulica',\", \"'hidr\\u00e1ulica',\", \"'hidr\\u00e1ulica']\", \"'higiene',\", \"'higiene',\", \"'higiene',\", \"'higieniza\\u00e7\\u00e3o',\", \"'higieniza\\u00e7\\u00e3o',\", \"'higieniza\\u00e7\\u00e3o',\", \"'higieniza\\u00e7\\u00e3o',\", \"'higieniza\\u00e7\\u00e3o',\", \"'higieniza\\u00e7\\u00e3o',\", \"'higieniza\\u00e7\\u00e3o',\", \"'higieniza\\u00e7\\u00e3o',\", \"'holland',\", \"'horas',\", \"'horas',\", \"'horas',\", \"'horas',\", \"'horas',\", \"'horas',\", \"'horas',\", \"'horas',\", \"'horas',\", \"'horas',\", \"'horas',\", \"'horas',\", \"'horas',\", \"'horas',\", \"'horas',\", \"'horas']\", \"'horas']\", \"'horas']\", \"'horas']\", \"'horas']\", \"'hor\\u00e1ria',\", \"'hor\\u00e1ria',\", \"'hor\\u00e1ria',\", \"'hor\\u00e1ria',\", \"'hor\\u00e1rio',\", \"'hor\\u00e1rio',\", \"'hor\\u00e1rio',\", \"'hor\\u00e1rio',\", \"'hospitalar',\", \"'hospitalar',\", \"'hospitalar',\", \"'hospitalar',\", \"'hospitalar',\", \"'hospitalar',\", \"'hospitalar',\", \"'hp',\", \"'hp',\", \"'i',\", \"'i',\", \"'i',\", \"'i',\", \"'i',\", \"'i',\", \"'i',\", \"'i',\", \"'i',\", \"'i',\", \"'i',\", \"'i',\", \"'i',\", \"'i',\", \"'i',\", \"'i']\", \"'i']\", \"'i']\", \"'i']\", \"'i']\", \"'i']\", \"'icms',\", \"'icms',\", \"'idosos',\", \"'idosos',\", \"'ilumina\\u00e7\\u00e3o',\", \"'ilumina\\u00e7\\u00e3o',\", \"'ilumina\\u00e7\\u00e3o',\", \"'ilumina\\u00e7\\u00e3o',\", \"'ilumina\\u00e7\\u00e3o',\", \"'ilumina\\u00e7\\u00e3o',\", \"'ilumina\\u00e7\\u00e3o',\", \"'ilumina\\u00e7\\u00e3o',\", \"'ilumina\\u00e7\\u00e3o',\", \"'ilumina\\u00e7\\u00e3o',\", \"'ilumina\\u00e7\\u00e3o',\", \"'imediata',\", \"'imediata',\", \"'imovel',\", \"'implanta\\u00e7\\u00e3o',\", \"'implanta\\u00e7\\u00e3o',\", \"'implanta\\u00e7\\u00e3o',\", \"'implanta\\u00e7\\u00e3o',\", \"'implanta\\u00e7\\u00e3o',\", \"'implanta\\u00e7\\u00e3o',\", \"'impressos',\", \"'im\\u00f3veis',\", \"'im\\u00f3veis',\", \"'im\\u00f3veis',\", \"'im\\u00f3vel',\", \"'im\\u00f3vel',\", \"'im\\u00f3vel',\", \"'im\\u00f3vel',\", \"'im\\u00f3vel',\", \"'incluso',\", \"'incluso',\", \"'individuais',\", \"'individuais',\", \"'individuais',\", \"'individual',\", \"'individual',\", \"'individual',\", \"'individual',\", \"'individual',\", \"'inexigibilidade']\", \"'inexigibilidade']\", \"'inexigibilidade']\", \"'infantil',\", \"'infantil',\", \"'infantil',\", \"'infantil',\", \"'infantil',\", \"'infantil',\", \"'infantil']\", \"'infantis',\", \"'infec\\u00e7\\u00e3o',\", \"'informatica',\", \"'informativos',\", \"'informativos',\", \"'informa\\u00e7\\u00e3o',\", \"'informa\\u00e7\\u00f5es',\", \"'informa\\u00e7\\u00f5es',\", \"'informa\\u00e7\\u00f5es',\", \"'informa\\u00e7\\u00f5es',\", \"'inform\\u00e1tica']\", \"'inform\\u00e1tica']\", \"'iniciais',\", \"'iniciais',\", \"'injetora',\", \"'inmetro',\", \"'inox',\", \"'inscrito',\", \"'inscri\\u00e7\\u00e3o',\", \"'inscri\\u00e7\\u00e3o',\", \"'inserv\\u00edveis',\", \"'inserv\\u00edveis',\", \"'instala\\u00e7\\u00e3o',\", \"'instala\\u00e7\\u00e3o',\", \"'instala\\u00e7\\u00e3o',\", \"'instala\\u00e7\\u00e3o',\", \"'instala\\u00e7\\u00e3o',\", \"'instala\\u00e7\\u00e3o',\", \"'instala\\u00e7\\u00e3o',\", \"'instala\\u00e7\\u00e3o',\", \"'instala\\u00e7\\u00e3o',\", \"'instala\\u00e7\\u00e3o',\", \"'instala\\u00e7\\u00e3o',\", \"'instala\\u00e7\\u00e3o',\", \"'instala\\u00e7\\u00e3o',\", \"'instala\\u00e7\\u00e3o',\", \"'instala\\u00e7\\u00e3o',\", \"'instala\\u00e7\\u00e3o',\", \"'institucional',\", \"'institucional',\", \"'institucional',\", \"'institucional',\", \"'institucional',\", \"'institucional',\", \"'institucional',\", \"'institucional',\", \"'institui\\u00e7\\u00f5es',\", \"'instrumento',\", \"'instrumento',\", \"'instrumento',\", \"'instrumento',\", \"'instrumento',\", \"'integra',\", \"'intelectual',\", \"'interna',\", \"'interna',\", \"'interna',\", \"'interna',\", \"'interna',\", \"'internados',\", \"'interna\\u00e7\\u00e3o',\", \"'interna\\u00e7\\u00e3o',\", \"'interna\\u00e7\\u00e3o',\", \"'internet',\", \"'internet',\", \"'internet',\", \"'internet',\", \"'internet',\", \"'internet',\", \"'internet']\", \"'investimentos',\", \"'in\\u00edcio',\", \"'in\\u00edcio',\", \"'ip',\", \"'ip',\", \"'iptu',\", \"'iptu',\", \"'janeiro',\", \"'janeiro',\", \"'jcb',\", \"'jornal',\", \"'jornal',\", \"'jornal',\", \"'jornal',\", \"'jornal',\", \"'jornal',\", \"'jo\\u00e3o',\", \"'jo\\u00e3o',\", \"'jo\\u00e3o',\", \"'jo\\u00e3o',\", \"'jo\\u00e3o',\", \"'jo\\u00e3o',\", \"'jo\\u00e3o',\", \"'judicial']\", \"'judicial']\", \"'junto',\", \"'junto',\", \"'junto',\", \"'junto',\", \"'junto',\", \"'junto',\", \"'junto',\", \"'junto',\", \"'junto',\", \"'junto',\", \"'junto',\", \"'junto',\", \"'junto',\", \"'junto',\", \"'junto',\", \"'juridica',\", \"'juridica',\", \"'jur\\u00eddica',\", \"'jur\\u00eddica',\", \"'jur\\u00eddica',\", \"'jur\\u00eddica',\", \"'jur\\u00eddica',\", \"'jur\\u00eddica',\", \"'jur\\u00eddica',\", \"'jur\\u00eddica',\", \"'jur\\u00eddica',\", \"'jur\\u00eddica',\", \"'jur\\u00eddica',\", \"'jur\\u00eddica',\", \"'jur\\u00eddica']\", \"'jur\\u00eddicas',\", \"'jur\\u00eddicas',\", \"'jur\\u00eddicas',\", \"'jur\\u00eddico',\", \"'jur\\u00eddico',\", \"'jur\\u00eddico',\", \"'justificase',\", \"'j\\u00falio',\", \"'k',\", \"'kit',\", \"'kit',\", \"'kit',\", \"'kit',\", \"'kit',\", \"'kit',\", \"'kit',\", \"'laborat\\u00f3rio',\", \"'laborat\\u00f3rio',\", \"'laborat\\u00f3rio',\", \"'laborat\\u00f3rio',\", \"'laborat\\u00f3rios',\", \"'lajeadors']\", \"'lajeadors']\", \"'lavagem',\", \"'lavagem',\", \"'lavagem',\", \"'lavagem',\", \"'lavagem',\", \"'lavra',\", \"'lei',\", \"'lei',\", \"'lei',\", \"'lei',\", \"'lei',\", \"'lei',\", \"'lei',\", \"'lei',\", \"'lei',\", \"'lei',\", \"'lei',\", \"'lei',\", \"'lei',\", \"'lei',\", \"'lei',\", \"'lei',\", \"'leis',\", \"'leis',\", \"'leis',\", \"'leite',\", \"'leite',\", \"'leve',\", \"'leve',\", \"'liberato',\", \"'liberato',\", \"'licen\\u00e7a',\", \"'licen\\u00e7a',\", \"'licen\\u00e7a',\", \"'licen\\u00e7a',\", \"'licitacao',\", \"'licitacao',\", \"'licitat\\u00f3rio',\", \"'licitat\\u00f3rio',\", \"'licitat\\u00f3rio',\", \"'licitat\\u00f3rio',\", \"'licitat\\u00f3rio',\", \"'licitat\\u00f3rio',\", \"'licitat\\u00f3rio',\", \"'licitat\\u00f3rio',\", \"'licitat\\u00f3rio',\", \"'licitat\\u00f3rio']\", \"'licitat\\u00f3rio']\", \"'licita\\u00e7\\u00e3o',\", \"'licita\\u00e7\\u00e3o',\", \"'licita\\u00e7\\u00e3o',\", \"'licita\\u00e7\\u00e3o',\", \"'licita\\u00e7\\u00e3o',\", \"'licita\\u00e7\\u00e3o',\", \"'licita\\u00e7\\u00e3o',\", \"'licita\\u00e7\\u00e3o',\", \"'licita\\u00e7\\u00e3o',\", \"'licita\\u00e7\\u00e3o',\", \"'licita\\u00e7\\u00e3o',\", \"'licita\\u00e7\\u00e3o',\", \"'licita\\u00e7\\u00e3o',\", \"'licita\\u00e7\\u00e3o',\", \"'licita\\u00e7\\u00e3o',\", \"'limpeza',\", \"'limpeza',\", \"'limpeza',\", \"'limpeza',\", \"'limpeza',\", \"'limpeza',\", \"'limpeza',\", \"'limpeza',\", \"'limpeza',\", \"'limpeza',\", \"'limpeza',\", \"'limpeza']\", \"'limpeza']\", \"'line',\", \"'linha',\", \"'linha',\", \"'linha',\", \"'linha',\", \"'linha',\", \"'linha',\", \"'linha',\", \"'linha',\", \"'linha',\", \"'linha',\", \"'linha',\", \"'linha',\", \"'linha',\", \"'link',\", \"'link',\", \"'liquefeito',\", \"'livros',\", \"'lixeiras',\", \"'lixeiras',\", \"'lixo',\", \"'lixo',\", \"'lixo',\", \"'lixo',\", \"'lixo',\", \"'lixo',\", \"'lixo',\", \"'lixo',\", \"'lobo',\", \"'lobo',\", \"'localidade',\", \"'localidade',\", \"'localidade',\", \"'localidade',\", \"'localidade',\", \"'localidade',\", \"'localizada',\", \"'localizada',\", \"'localizada',\", \"'localizada',\", \"'localizada',\", \"'localizada',\", \"'localizado',\", \"'localizado',\", \"'localizado',\", \"'localizado',\", \"'localizado',\", \"'loca\\u00e7\\u00e3o',\", \"'loca\\u00e7\\u00e3o',\", \"'loca\\u00e7\\u00e3o',\", \"'loca\\u00e7\\u00e3o',\", \"'loca\\u00e7\\u00e3o',\", \"'loca\\u00e7\\u00e3o',\", \"'loca\\u00e7\\u00e3o',\", \"'loca\\u00e7\\u00e3o',\", \"'loca\\u00e7\\u00e3o',\", \"'loca\\u00e7\\u00e3o',\", \"'loca\\u00e7\\u00e3o',\", \"'loca\\u00e7\\u00e3o',\", \"'loca\\u00e7\\u00e3o',\", \"'lonas',\", \"'lotada',\", \"'lotado',\", \"'lotado',\", \"'lote',\", \"'lote',\", \"'lote',\", \"'lote',\", \"'ltda']\", \"'lubrificantes',\", \"'lubrificantes',\", \"'lubrificantes',\", \"'luis',\", \"'luvas',\", \"'luvas',\", \"'luvas',\", \"'luvas',\", \"'l\\u00e2mina',\", \"'l\\u00e2minas',\", \"'l\\u00edquido']\", \"'madeiras',\", \"'magn\\u00e9tico',\", \"'manuten\\u00e7\\u00e3o',\", \"'manuten\\u00e7\\u00e3o',\", \"'manuten\\u00e7\\u00e3o',\", \"'manuten\\u00e7\\u00e3o',\", \"'manuten\\u00e7\\u00e3o',\", \"'manuten\\u00e7\\u00e3o',\", \"'manuten\\u00e7\\u00e3o',\", \"'manuten\\u00e7\\u00e3o',\", \"'manuten\\u00e7\\u00e3o',\", \"'manuten\\u00e7\\u00e3o',\", \"'manuten\\u00e7\\u00e3o',\", \"'manuten\\u00e7\\u00e3o',\", \"'manuten\\u00e7\\u00e3o',\", \"'manuten\\u00e7\\u00e3o',\", \"'manuten\\u00e7\\u00e3o',\", \"'manuten\\u00e7\\u00e3o',\", \"'manuten\\u00e7\\u00f5es',\", \"'manuten\\u00e7\\u00f5es',\", \"'mapa',\", \"'mapa',\", \"'mapa',\", \"'maquina',\", \"'maquinas',\", \"'maquinas',\", \"'maquinas',\", \"'maquin\\u00e1rio',\", \"'marca',\", \"'marca',\", \"'marca',\", \"'marca',\", \"'marca',\", \"'marca',\", \"'marca',\", \"'master',\", \"'materiais',\", \"'materiais',\", \"'materiais',\", \"'materiais',\", \"'materiais',\", \"'materiais',\", \"'materiais',\", \"'materiais',\", \"'materiais',\", \"'materiais',\", \"'materiais',\", \"'materiais',\", \"'materiais',\", \"'materiais',\", \"'materiais',\", \"'materiais',\", \"'material',\", \"'material',\", \"'material',\", \"'material',\", \"'material',\", \"'material',\", \"'material',\", \"'material',\", \"'material',\", \"'material',\", \"'material',\", \"'material',\", \"'material',\", \"'material',\", \"'material',\", \"'material',\", \"'matr\\u00edcula',\", \"'matr\\u00edcula',\", \"'matr\\u00edcula',\", \"'mat\\u00e9rias',\", \"'mbps',\", \"'mdf',\", \"'mec\\u00e2nica',\", \"'mec\\u00e2nica',\", \"'medicamento',\", \"'medicamento',\", \"'medicamento',\", \"'medicamento',\", \"'medicamentos',\", \"'medicamentos',\", \"'medicamentos',\", \"'medicamentos']\", \"'medicinal',\", \"'medicinal',\", \"'meio',\", \"'meio',\", \"'meio',\", \"'meio',\", \"'meio',\", \"'meio',\", \"'meio',\", \"'meio',\", \"'meio',\", \"'meio',\", \"'meio',\", \"'meio',\", \"'meio',\", \"'meio',\", \"'meio',\", \"'memorial',\", \"'memorial',\", \"'memorial',\", \"'mercedes',\", \"'merenda',\", \"'mesa',\", \"'mesa',\", \"'mesa',\", \"'mesa',\", \"'mesa',\", \"'metros',\", \"'metros',\", \"'metros',\", \"'metros',\", \"'metros',\", \"'metros',\", \"'mil',\", \"'mil',\", \"'mil',\", \"'mil',\", \"'mil',\", \"'mil',\", \"'min',\", \"'minimo',\", \"'ministrar',\", \"'modelo',\", \"'modelo',\", \"'modelo',\", \"'modelo',\", \"'modelo',\", \"'modelo',\", \"'modelo',\", \"'modelo',\", \"'monitor',\", \"'motoniveladora',\", \"'motoniveladora',\", \"'motoniveladora',\", \"'motoniveladora',\", \"'motor',\", \"'motor',\", \"'motor',\", \"'motor',\", \"'motor',\", \"'ms',\", \"'mudas',\", \"'multifuncional',\", \"'municipais',\", \"'municipais',\", \"'municipais',\", \"'municipais',\", \"'municipais',\", \"'municipais',\", \"'municipais',\", \"'municipais',\", \"'municipais',\", \"'municipais',\", \"'municipais',\", \"'municipais',\", \"'municipais',\", \"'municipais',\", \"'municipais']\", \"'municipais']\", \"'municipais']\", \"'municipais']\", \"'municipais']\", \"'municipais']\", \"'municipal',\", \"'municipal',\", \"'municipal',\", \"'municipal',\", \"'municipal',\", \"'municipal',\", \"'municipal',\", \"'municipal',\", \"'municipal',\", \"'municipal',\", \"'municipal',\", \"'municipal',\", \"'municipal',\", \"'municipal',\", \"'municipal',\", \"'municipal',\", \"'municipal']\", \"'municipal']\", \"'municipal']\", \"'municipal']\", \"'municipal']\", \"'municipal']\", \"'municipal']\", \"'municipal']\", \"'municipal']\", \"'municipal']\", \"'municipal']\", \"'municipal']\", \"'municipal']\", \"'municipal']\", \"'munic\\u00edpio',\", \"'munic\\u00edpio',\", \"'munic\\u00edpio',\", \"'munic\\u00edpio',\", \"'munic\\u00edpio',\", \"'munic\\u00edpio',\", \"'munic\\u00edpio',\", \"'munic\\u00edpio',\", \"'munic\\u00edpio',\", \"'munic\\u00edpio',\", \"'munic\\u00edpio',\", \"'munic\\u00edpio',\", \"'munic\\u00edpio',\", \"'munic\\u00edpio',\", \"'munic\\u00edpio',\", \"'munic\\u00edpio',\", \"'munic\\u00edpio']\", \"'munic\\u00edpio']\", \"'munic\\u00edpio']\", \"'munic\\u00edpio']\", \"'munic\\u00edpio']\", \"'munic\\u00edpio']\", \"'munic\\u00edpio']\", \"'munic\\u00edpio']\", \"'munic\\u00edpio']\", \"'munic\\u00edpio']\", \"'munic\\u00edpio']\", \"'munic\\u00edpio']\", \"'munic\\u00edpio']\", \"'munic\\u00edpio']\", \"'munic\\u00edpio']\", \"'munic\\u00edpio']\", \"'m\\u00e1quina',\", \"'m\\u00e1quina',\", \"'m\\u00e1quina',\", \"'m\\u00e1quina']\", \"'m\\u00e1quinas',\", \"'m\\u00e1quinas',\", \"'m\\u00e1quinas',\", \"'m\\u00e1quinas',\", \"'m\\u00e1quinas',\", \"'m\\u00e1quinas',\", \"'m\\u00e1quinas',\", \"'m\\u00e1quinas',\", \"'m\\u00e1quinas']\", \"'m\\u00e1scaras',\", \"'m\\u00e3o',\", \"'m\\u00e3o',\", \"'m\\u00e3o',\", \"'m\\u00e3o',\", \"'m\\u00e3o',\", \"'m\\u00e3o',\", \"'m\\u00e3o',\", \"'m\\u00e3o',\", \"'m\\u00e3o',\", \"'m\\u00e3o',\", \"'m\\u00e3o',\", \"'m\\u00e9dicos']\", \"'m\\u00e9todo',\", \"'m\\u00eddia',\", \"'m\\u00ednima',\", \"'m\\u00ednima',\", \"'m\\u00ednima',\", \"'m\\u00ednima',\", \"'m\\u00ednima',\", \"'m\\u00ednima',\", \"'m\\u00ednimo',\", \"'m\\u00ednimo',\", \"'m\\u00ednimo',\", \"'m\\u00ednimo',\", \"'m\\u00ednimo',\", \"'m\\u00ednimo',\", \"'m\\u00ednimo',\", \"'m\\u00ednimo',\", \"'m\\u00ednimo',\", \"'m\\u00f3veis',\", \"'m\\u00f3veis',\", \"'m\\u00f3veis',\", \"'m\\u00f3veis',\", \"'m\\u00f3veis',\", \"'m\\u00f3veis',\", \"'m\\u00f3veis',\", \"'m\\u00f3veis',\", \"'n',\", \"'n',\", \"'n',\", \"'n',\", \"'n',\", \"'n',\", \"'n',\", \"'n',\", \"'n',\", \"'n',\", \"'n',\", \"'n',\", \"'n',\", \"'n',\", \"'nacional',\", \"'nacional',\", \"'nacional',\", \"'nacional',\", \"'nacional',\", \"'nacional',\", \"'nacional',\", \"'nacional',\", \"'nacional',\", \"'nacional',\", \"'nacional',\", \"'necessidades',\", \"'necessidades',\", \"'necessidades',\", \"'necessidades',\", \"'necessidades',\", \"'necessidades',\", \"'necessidades',\", \"'necessidades',\", \"'necessidades',\", \"'necessidades',\", \"'necessidades',\", \"'necessidades',\", \"'necessita',\", \"'necessitando',\", \"'nome',\", \"'nome',\", \"'notebook',\", \"'notebook',\", \"'notebook',\", \"'notebook',\", \"'noturno',\", \"'not\\u00edcias',\", \"'not\\u00edcias',\", \"'nova',\", \"'nova',\", \"'nova',\", \"'nova',\", \"'nova',\", \"'nova',\", \"'nova',\", \"'nova',\", \"'nova',\", \"'nova',\", \"'nova',\", \"'nova',\", \"'nova',\", \"'nova',\", \"'nova',\", \"'nova',\", \"'nova']\", \"'novars']\", \"'novos',\", \"'novos',\", \"'novos',\", \"'novos',\", \"'novos',\", \"'novos',\", \"'novos']\", \"'n\\u00e3ometoquers']\", \"'objeto',\", \"'objeto',\", \"'objeto',\", \"'objeto',\", \"'objeto',\", \"'objeto',\", \"'objeto',\", \"'objeto',\", \"'objeto',\", \"'objeto',\", \"'obra',\", \"'obra',\", \"'obra',\", \"'obra',\", \"'obra',\", \"'obra',\", \"'obra',\", \"'obra',\", \"'obra',\", \"'obra',\", \"'obra',\", \"'obras',\", \"'obras',\", \"'obras',\", \"'obras',\", \"'obras',\", \"'obras',\", \"'obras',\", \"'obras',\", \"'obras',\", \"'obras',\", \"'obras',\", \"'obras',\", \"'obras',\", \"'obras',\", \"'obras',\", \"'obras',\", \"'obrigat\\u00f3ria',\", \"'odontol\\u00f3gico']\", \"'oficial',\", \"'oficial',\", \"'oficial',\", \"'oficial',\", \"'oficial',\", \"'of\\u00edcio',\", \"'oitenta',\", \"'oitenta',\", \"'oleo',\", \"'online',\", \"'online',\", \"'online',\", \"'online',\", \"'online',\", \"'orientar',\", \"'orienta\\u00e7\\u00e3o',\", \"'orienta\\u00e7\\u00e3o',\", \"'orienta\\u00e7\\u00e3o',\", \"'orienta\\u00e7\\u00e3o',\", \"'orienta\\u00e7\\u00e3o',\", \"'or\\u00e7amentos',\", \"'or\\u00e7amentos',\", \"'or\\u00e7amentos',\", \"'or\\u00e7amentos',\", \"'or\\u00e7amentos',\", \"'or\\u00e7amentos',\", \"'or\\u00e7amentos',\", \"'osc',\", \"'osc',\", \"'osc',\", \"'outros']\", \"'oxig\\u00eanio',\", \"'oxig\\u00eanio',\", \"'p']\", \"'paciente',\", \"'paciente',\", \"'paciente',\", \"'paciente',\", \"'paciente',\", \"'pacientes',\", \"'pacientes',\", \"'pacientes',\", \"'pacientes',\", \"'pacientes',\", \"'pacientes',\", \"'pacientes',\", \"'pacientes',\", \"'pacientes',\", \"'pacientes',\", \"'pacientes',\", \"'pagamento',\", \"'pagamento',\", \"'pagamento',\", \"'pagamento',\", \"'pagamento',\", \"'pagamento',\", \"'pagamento',\", \"'pagamento',\", \"'palmitinhors']\", \"'pandemia',\", \"'pandemia',\", \"'pandemia',\", \"'pandemia',\", \"'pandemia',\", \"'pandemia',\", \"'parafusos',\", \"'parcelada',\", \"'parcelada',\", \"'parceladas',\", \"'parceladas',\", \"'parcelado',\", \"'pareceres',\", \"'pareceres',\", \"'pareceres',\", \"'paredes',\", \"'paredes',\", \"'parte',\", \"'parte',\", \"'parte',\", \"'parte',\", \"'parte',\", \"'parte',\", \"'parte',\", \"'parte',\", \"'parte',\", \"'parte',\", \"'parte',\", \"'parte',\", \"'parte',\", \"'parte',\", \"'passagens',\", \"'passagens',\", \"'passagens',\", \"'passos',\", \"'pavimenta\\u00e7\\u00e3o',\", \"'pavimenta\\u00e7\\u00e3o',\", \"'pavimenta\\u00e7\\u00e3o',\", \"'pavimenta\\u00e7\\u00e3o',\", \"'pedag\\u00f3gica',\", \"'pedag\\u00f3gico',\", \"'pedra',\", \"'pedra',\", \"'pedra',\", \"'pedra',\", \"'pedra',\", \"'pedra',\", \"'pedra',\", \"'pedras',\", \"'pedras',\", \"'pedras',\", \"'pedras',\", \"'pedrisco',\", \"'pedro',\", \"'pedro',\", \"'pedro',\", \"'pedro',\", \"'pedro',\", \"'pedro',\", \"'perec\\u00edveis',\", \"'perec\\u00edveis',\", \"'periodo',\", \"'periodo',\", \"'periodo',\", \"'persianas',\", \"'pertencente',\", \"'pertencente',\", \"'pertencente',\", \"'pertencente',\", \"'pertencente',\", \"'per\\u00edodo',\", \"'per\\u00edodo',\", \"'per\\u00edodo',\", \"'per\\u00edodo',\", \"'per\\u00edodo',\", \"'per\\u00edodo',\", \"'per\\u00edodo',\", \"'per\\u00edodo',\", \"'per\\u00edodo',\", \"'per\\u00edodo',\", \"'per\\u00edodo',\", \"'per\\u00edodo',\", \"'per\\u00edodo',\", \"'per\\u00edodo',\", \"'per\\u00edodo',\", \"'per\\u00edodo',\", \"'per\\u00edodo']\", \"'per\\u00edodo']\", \"'per\\u00edodo']\", \"'pesadas',\", \"'pessoa',\", \"'pessoa',\", \"'pessoa',\", \"'pessoa',\", \"'pessoa',\", \"'pessoa',\", \"'pessoa',\", \"'pessoa',\", \"'pessoa',\", \"'pessoa',\", \"'pessoa',\", \"'petr\\u00f3leo',\", \"'pe\\u00e7a',\", \"'pe\\u00e7a',\", \"'pe\\u00e7a',\", \"'pe\\u00e7as',\", \"'pe\\u00e7as',\", \"'pe\\u00e7as',\", \"'pe\\u00e7as',\", \"'pe\\u00e7as',\", \"'pinto',\", \"'pinto',\", \"'placa',\", \"'placa',\", \"'placa',\", \"'placa',\", \"'placa',\", \"'placa',\", \"'placas',\", \"'placas',\", \"'placas',\", \"'pluviais',\", \"'pnae']\", \"'pneu',\", \"'pneus',\", \"'pneus',\", \"'pneus',\", \"'pneus',\", \"'pneus',\", \"'pneus']\", \"'pneus']\", \"'ponto',\", \"'ponto',\", \"'ponto',\", \"'ponto',\", \"'popular',\", \"'popular',\", \"'popular',\", \"'porta',\", \"'porta',\", \"'porta',\", \"'porta',\", \"'porta',\", \"'portaria',\", \"'portaria',\", \"'portaria',\", \"'portaria',\", \"'portaria',\", \"'portas',\", \"'portas',\", \"'portas',\", \"'porto',\", \"'porto',\", \"'porto',\", \"'porto',\", \"'porto',\", \"'porto',\", \"'porto',\", \"'porto',\", \"'porto',\", \"'porto',\", \"'porto',\", \"'porto',\", \"'posto',\", \"'posto',\", \"'posto',\", \"'posto',\", \"'posto',\", \"'po\\u00e7o',\", \"'po\\u00e7o',\", \"'po\\u00e7o',\", \"'po\\u00e7os',\", \"'po\\u00e7os',\", \"'po\\u00e7os',\", \"'po\\u00e7os',\", \"'po\\u00e7os',\", \"'po\\u00e7os',\", \"'ppaldo']\", \"'ppra',\", \"'pra\\u00e7a',\", \"'pra\\u00e7a',\", \"'pra\\u00e7a',\", \"'pra\\u00e7a',\", \"'pra\\u00e7a',\", \"'pra\\u00e7a',\", \"'pra\\u00e7a',\", \"'pra\\u00e7a',\", \"'pra\\u00e7a',\", \"'pra\\u00e7a',\", \"'preco',\", \"'preco',\", \"'precos',\", \"'prefeito',\", \"'prefeito',\", \"'prefeito',\", \"'prefeito',\", \"'prefeito',\", \"'prefeito',\", \"'prefeito']\", \"'prefeitura',\", \"'prefeitura',\", \"'prefeitura',\", \"'prefeitura',\", \"'prefeitura',\", \"'prefeitura',\", \"'prefeitura',\", \"'prefeitura',\", \"'prefeitura',\", \"'prefeitura',\", \"'prefeitura',\", \"'prefeitura',\", \"'prefeitura',\", \"'prefeitura',\", \"'prefeitura',\", \"'prefeitura',\", \"'prefeitura']\", \"'prefeitura']\", \"'pregao',\", \"'preg\\u00e3o',\", \"'preg\\u00e3o',\", \"'preg\\u00e3o',\", \"'preg\\u00e3o',\", \"'preg\\u00e3o',\", \"'presencial',\", \"'presencial',\", \"'presencial',\", \"'presencial',\", \"'presencial',\", \"'presencial',\", \"'presencial',\", \"'presencial',\", \"'presencial',\", \"'presencial',\", \"'presencial',\", \"'presencial']\", \"'presente',\", \"'presente',\", \"'presente',\", \"'presente',\", \"'presente',\", \"'presente',\", \"'press\\u00e3o',\", \"'press\\u00e3o',\", \"'prestador',\", \"'prestar',\", \"'prestar',\", \"'prestar',\", \"'prestar',\", \"'prestar',\", \"'presta\\u00e7\\u00e3o',\", \"'presta\\u00e7\\u00e3o',\", \"'presta\\u00e7\\u00e3o',\", \"'presta\\u00e7\\u00e3o',\", \"'presta\\u00e7\\u00e3o',\", \"'presta\\u00e7\\u00e3o',\", \"'presta\\u00e7\\u00e3o',\", \"'presta\\u00e7\\u00e3o',\", \"'presta\\u00e7\\u00e3o',\", \"'presta\\u00e7\\u00e3o',\", \"'presta\\u00e7\\u00e3o',\", \"'presta\\u00e7\\u00e3o',\", \"'presta\\u00e7\\u00e3o',\", \"'presta\\u00e7\\u00e3o',\", \"'presta\\u00e7\\u00e3o',\", \"'presta\\u00e7\\u00f5es',\", \"'preventiva',\", \"'preventiva',\", \"'preventiva',\", \"'preventiva',\", \"'preventiva',\", \"'previamente',\", \"'pre\\u00e7o',\", \"'pre\\u00e7o',\", \"'pre\\u00e7o',\", \"'pre\\u00e7o',\", \"'pre\\u00e7o',\", \"'pre\\u00e7o',\", \"'pre\\u00e7o',\", \"'pre\\u00e7o',\", \"'pre\\u00e7o',\", \"'pre\\u00e7o',\", \"'pre\\u00e7o',\", \"'pre\\u00e7o',\", \"'pre\\u00e7o',\", \"'pre\\u00e7o',\", \"'pre\\u00e7os',\", \"'pre\\u00e7os',\", \"'pre\\u00e7os',\", \"'pre\\u00e7os',\", \"'pre\\u00e7os',\", \"'pre\\u00e7os',\", \"'pre\\u00e7os',\", \"'pre\\u00e7os',\", \"'prnt',\", \"'proc']\", \"'processo',\", \"'processo',\", \"'processo',\", \"'processo',\", \"'processo',\", \"'processo',\", \"'processo',\", \"'processo',\", \"'processo',\", \"'processo',\", \"'processo',\", \"'processo',\", \"'processo',\", \"'processo',\", \"'processo',\", \"'processo',\", \"'processo']\", \"'processo']\", \"'processo']\", \"'processo']\", \"'processo']\", \"'processo']\", \"'processo']\", \"'processo']\", \"'processo']\", \"'processo']\", \"'produtos',\", \"'produtos',\", \"'produtos',\", \"'produtos',\", \"'produtos',\", \"'produtos',\", \"'produtos',\", \"'produtos',\", \"'produtos',\", \"'produtos',\", \"'professores',\", \"'professores',\", \"'profissionais',\", \"'profissionais',\", \"'profissionais',\", \"'profissionais',\", \"'profissionais',\", \"'profissionais',\", \"'profissionais',\", \"'profissionais',\", \"'profissionais',\", \"'programa',\", \"'programa',\", \"'programa',\", \"'programa',\", \"'programa',\", \"'programa',\", \"'programa',\", \"'programa',\", \"'programa',\", \"'programa',\", \"'programa',\", \"'programa',\", \"'programa',\", \"'projeto',\", \"'projeto',\", \"'projeto',\", \"'projeto',\", \"'projeto',\", \"'projeto',\", \"'projeto',\", \"'projeto',\", \"'projeto',\", \"'projeto',\", \"'projeto',\", \"'projeto',\", \"'projeto',\", \"'projeto',\", \"'propostas',\", \"'propostas',\", \"'propostas',\", \"'propostas',\", \"'propostas',\", \"'propriedade',\", \"'propriedade',\", \"'propriedade',\", \"'propriedade',\", \"'propriedade',\", \"'prote\\u00e7\\u00e3o',\", \"'prote\\u00e7\\u00e3o',\", \"'prote\\u00e7\\u00e3o',\", \"'prote\\u00e7\\u00e3o',\", \"'prote\\u00e7\\u00e3o',\", \"'prote\\u00e7\\u00e3o',\", \"'prote\\u00e7\\u00e3o',\", \"'prote\\u00e7\\u00e3o',\", \"'prote\\u00e7\\u00e3o',\", \"'prote\\u00e7\\u00e3o',\", \"'prote\\u00e7\\u00e3o',\", \"'prote\\u00e7\\u00e3o',\", \"'protocolo',\", \"'protocolo',\", \"'protocolo',\", \"'protocolo',\", \"'protocolo',\", \"'protocolo',\", \"'protocolo',\", \"'protocolo']\", \"'protocolo']\", \"'protocolo']\", \"'protocolo']\", \"'protocolo']\", \"'protocolo']\", \"'protocolo']\", \"'protocolo']\", \"'pr\\u00e9dio',\", \"'pr\\u00e9dio',\", \"'pr\\u00e9dio',\", \"'pr\\u00e9dio',\", \"'pr\\u00e9dio',\", \"'pr\\u00e9dio',\", \"'pr\\u00e9dio',\", \"'pr\\u00e9dio',\", \"'psicologia',\", \"'publicidade',\", \"'publicidade',\", \"'publico',\", \"'publico',\", \"'publico',\", \"'p\\u00e1gina',\", \"'p\\u00e1gina',\", \"'p\\u00f3',\", \"'p\\u00f3',\", \"'p\\u00fablica',\", \"'p\\u00fablica',\", \"'p\\u00fablica',\", \"'p\\u00fablica',\", \"'p\\u00fablica',\", \"'p\\u00fablica',\", \"'p\\u00fablica',\", \"'p\\u00fablica',\", \"'p\\u00fablica',\", \"'p\\u00fablica',\", \"'p\\u00fablica',\", \"'p\\u00fablica',\", \"'p\\u00fablica',\", \"'p\\u00fablica',\", \"'p\\u00fablica',\", \"'p\\u00fablica',\", \"'p\\u00fablicos',\", \"'p\\u00fablicos',\", \"'p\\u00fablicos',\", \"'p\\u00fablicos',\", \"'p\\u00fablicos',\", \"'p\\u00fablicos',\", \"'p\\u00fablicos',\", \"'p\\u00fablicos',\", \"'p\\u00fablicos',\", \"'p\\u00fablicos',\", \"'p\\u00fablicos',\", \"'p\\u00fablicos']\", \"'quadra',\", \"'quadra',\", \"'quadrados',\", \"'quantidades',\", \"'quantidades',\", \"'quantidades',\", \"'quantidades',\", \"'quantidades',\", \"'quente',\", \"'quente',\", \"'quest\\u00f5es',\", \"'quinhentos',\", \"'quisi\\u00e7\\u00e3o',\", \"'radiodifus\\u00e3o',\", \"'radiof\\u00f4nico',\", \"'ramais',\", \"'randon',\", \"'randon',\", \"'randon',\", \"'ranger',\", \"'reais',\", \"'reais',\", \"'reais',\", \"'reais',\", \"'realizada',\", \"'realizada',\", \"'realizada',\", \"'realizada',\", \"'realizada',\", \"'realizada',\", \"'realizada',\", \"'realizado',\", \"'realizado',\", \"'realizado',\", \"'realizado',\", \"'realizado',\", \"'realizado',\", \"'realizado',\", \"'realizado',\", \"'realizado',\", \"'realizado',\", \"'realizado',\", \"'realizado',\", \"'realiza\\u00e7\\u00e3o',\", \"'realiza\\u00e7\\u00e3o',\", \"'realiza\\u00e7\\u00e3o',\", \"'realiza\\u00e7\\u00e3o',\", \"'realiza\\u00e7\\u00e3o',\", \"'realiza\\u00e7\\u00e3o',\", \"'realiza\\u00e7\\u00e3o',\", \"'realiza\\u00e7\\u00e3o',\", \"'realiza\\u00e7\\u00e3o',\", \"'realiza\\u00e7\\u00e3o',\", \"'realiza\\u00e7\\u00e3o',\", \"'realiza\\u00e7\\u00e3o',\", \"'realiza\\u00e7\\u00e3o',\", \"'realiza\\u00e7\\u00e3o',\", \"'realiza\\u00e7\\u00e3o',\", \"'recapagem',\", \"'recapagem',\", \"'recapagem',\", \"'recapagem',\", \"'recapagens',\", \"'recapagens',\", \"'recarga',\", \"'recarga',\", \"'recolhimento',\", \"'recolhimento',\", \"'recolhimento',\", \"'recolhimento',\", \"'recursos',\", \"'recursos',\", \"'recursos',\", \"'recursos',\", \"'recursos',\", \"'recursos',\", \"'recursos',\", \"'recursos',\", \"'recursos',\", \"'recursos',\", \"'recursos',\", \"'recursos',\", \"'rede',\", \"'rede',\", \"'rede',\", \"'rede',\", \"'rede',\", \"'rede',\", \"'rede',\", \"'rede',\", \"'rede',\", \"'rede',\", \"'rede',\", \"'rede',\", \"'rede',\", \"'rede',\", \"'rede',\", \"'rede',\", \"'refere',\", \"'referente',\", \"'referente',\", \"'referente',\", \"'referente',\", \"'referente',\", \"'referente',\", \"'referente',\", \"'referente',\", \"'referente',\", \"'referente',\", \"'referente',\", \"'referente',\", \"'referente',\", \"'referente',\", \"'referente',\", \"'reforma',\", \"'reforma',\", \"'reforma',\", \"'reforma',\", \"'reforma',\", \"'reforma',\", \"'reforma',\", \"'reforma',\", \"'reforma',\", \"'reforma',\", \"'reforma',\", \"'regime',\", \"'regime',\", \"'regime',\", \"'regime',\", \"'regime',\", \"'regime',\", \"'regime',\", \"'regime',\", \"'regime',\", \"'regime',\", \"'regime',\", \"'regionais',\", \"'registro',\", \"'registro',\", \"'registro',\", \"'registro',\", \"'registro',\", \"'registro',\", \"'registro',\", \"'registro',\", \"'registro',\", \"'registro',\", \"'renault',\", \"'repasse',\", \"'repasse',\", \"'repasse',\", \"'repasse',\", \"'repasse',\", \"'repasse',\", \"'repasse',\", \"'req']\", \"'req']\", \"'req']\", \"'req']\", \"'reservat\\u00f3rio',\", \"'reservat\\u00f3rios',\", \"'residencial',\", \"'residencial',\", \"'residente',\", \"'residentes',\", \"'respectiva',\", \"'respons\\u00e1vel']\", \"'res\\u00edduos',\", \"'res\\u00edduos',\", \"'retorno',\", \"'retorno',\", \"'retorno',\", \"'revis\\u00e3o',\", \"'revis\\u00e3o',\", \"'revis\\u00e3o',\", \"'revis\\u00e3o',\", \"'revis\\u00e3o',\", \"'revis\\u00e3o',\", \"'ri',\", \"'ri',\", \"'riograndense',\", \"'risco',\", \"'risco',\", \"'risco',\", \"'rodeio',\", \"'rodeio',\", \"'rolo',\", \"'rolo',\", \"'rolo',\", \"'rolo',\", \"'rpps',\", \"'rpps']\", \"'rs',\", \"'rs',\", \"'rs',\", \"'rs',\", \"'rs',\", \"'rs',\", \"'rs',\", \"'rs',\", \"'rs',\", \"'rs',\", \"'rs',\", \"'rs',\", \"'rs',\", \"'rs',\", \"'rs',\", \"'rtpcr',\", \"'rua',\", \"'rua',\", \"'rua',\", \"'rua',\", \"'rua',\", \"'ruas',\", \"'ruas',\", \"'ruas',\", \"'ruas',\", \"'ruas',\", \"'ruas',\", \"'ruas',\", \"'ruas',\", \"'ruas',\", \"'rural',\", \"'rural',\", \"'rural',\", \"'rural',\", \"'rural',\", \"'rural',\", \"'rural',\", \"'rural',\", \"'rural',\", \"'rural',\", \"'rural',\", \"'rural']\", \"'r\\u00e1pido',\", \"'r\\u00e1pidos',\", \"'s',\", \"'s',\", \"'s',\", \"'s',\", \"'s',\", \"'s']\", \"'sa',\", \"'saibro',\", \"'saibro',\", \"'sala',\", \"'sala',\", \"'sala',\", \"'sala',\", \"'sala',\", \"'sala',\", \"'sala',\", \"'sala',\", \"'sala',\", \"'saldo',\", \"'salvador',\", \"'saude',\", \"'saude',\", \"'saude',\", \"'saude',\", \"'saude',\", \"'saude',\", \"'saude',\", \"'saude',\", \"'saude',\", \"'saude',\", \"'saude',\", \"'sa\\u00fade',\", \"'sa\\u00fade',\", \"'sa\\u00fade',\", \"'sa\\u00fade',\", \"'sa\\u00fade',\", \"'sa\\u00fade',\", \"'sa\\u00fade',\", \"'sa\\u00fade',\", \"'sa\\u00fade',\", \"'sa\\u00fade',\", \"'sa\\u00fade',\", \"'sa\\u00fade',\", \"'sa\\u00fade',\", \"'sa\\u00fade',\", \"'sa\\u00fade',\", \"'sa\\u00fade']\", \"'sa\\u00fade']\", \"'sa\\u00fade']\", \"'sa\\u00fade']\", \"'sa\\u00fade']\", \"'sa\\u00fade']\", \"'sa\\u00fade']\", \"'sa\\u00fade']\", \"'schneider',\", \"'schneider',\", \"'sec',\", \"'sec',\", \"'sec',\", \"'sec',\", \"'sec',\", \"'sec',\", \"'secretaria',\", \"'secretaria',\", \"'secretaria',\", \"'secretaria',\", \"'secretaria',\", \"'secretaria',\", \"'secretaria',\", \"'secretaria',\", \"'secretaria',\", \"'secretaria',\", \"'secretaria',\", \"'secretaria',\", \"'secretaria',\", \"'secretaria',\", \"'secretaria',\", \"'secretaria',\", \"'secretaria']\", \"'secretarias',\", \"'secretarias',\", \"'secretarias',\", \"'secretarias',\", \"'secretarias',\", \"'secretarias',\", \"'secretarias',\", \"'secretarias',\", \"'secretarias',\", \"'secretarias',\", \"'secretarias',\", \"'secretarias']\", \"'sede',\", \"'sede',\", \"'sede',\", \"'sede',\", \"'sede',\", \"'sede',\", \"'sede',\", \"'sede',\", \"'sede',\", \"'sede',\", \"'sede',\", \"'sede',\", \"'semanais',\", \"'semanais',\", \"'semanais',\", \"'semanais']\", \"'semanais']\", \"'sementes',\", \"'semestre',\", \"'sentinela',\", \"'serem',\", \"'serem',\", \"'serem',\", \"'serem',\", \"'serem',\", \"'serem',\", \"'serem',\", \"'serem',\", \"'serem',\", \"'serem',\", \"'serem',\", \"'serem',\", \"'serem',\", \"'serem',\", \"'serem',\", \"'serem',\", \"'servico']\", \"'servicos',\", \"'servicos',\", \"'servicos',\", \"'servicos',\", \"'servicos',\", \"'servicos',\", \"'servicos',\", \"'servidor',\", \"'servidor',\", \"'servidor',\", \"'servidor',\", \"'servidor',\", \"'servidora',\", \"'servidores',\", \"'servidores',\", \"'servidores',\", \"'servidores',\", \"'servidores',\", \"'servidores',\", \"'servidores',\", \"'servidores',\", \"'servidores',\", \"'servidores',\", \"'servidores',\", \"'servidores',\", \"'servidores',\", \"'servidores',\", \"'servi\\u00e7o',\", \"'servi\\u00e7o',\", \"'servi\\u00e7o',\", \"'servi\\u00e7o',\", \"'servi\\u00e7o',\", \"'servi\\u00e7o',\", \"'servi\\u00e7o',\", \"'servi\\u00e7o',\", \"'servi\\u00e7o',\", \"'servi\\u00e7o',\", \"'servi\\u00e7o',\", \"'servi\\u00e7o',\", \"'servi\\u00e7o',\", \"'servi\\u00e7o',\", \"'servi\\u00e7o',\", \"'servi\\u00e7o',\", \"'servi\\u00e7os',\", \"'servi\\u00e7os',\", \"'servi\\u00e7os',\", \"'servi\\u00e7os',\", \"'servi\\u00e7os',\", \"'servi\\u00e7os',\", \"'servi\\u00e7os',\", \"'servi\\u00e7os',\", \"'servi\\u00e7os',\", \"'servi\\u00e7os',\", \"'servi\\u00e7os',\", \"'servi\\u00e7os',\", \"'servi\\u00e7os',\", \"'servi\\u00e7os',\", \"'servi\\u00e7os',\", \"'servi\\u00e7os',\", \"'sesc',\", \"'sess\\u00f5es',\", \"'sess\\u00f5es',\", \"'sinal',\", \"'sintomas',\", \"'sistema',\", \"'sistema',\", \"'sistema',\", \"'sistema',\", \"'sistema',\", \"'sistema',\", \"'sistema',\", \"'sistema',\", \"'sistema',\", \"'sistema',\", \"'sistema',\", \"'sistema',\", \"'sistema',\", \"'sistema',\", \"'sistema',\", \"'sistema',\", \"'sistemas',\", \"'sistemas',\", \"'sistemas',\", \"'site',\", \"'site',\", \"'sito',\", \"'situada',\", \"'situada',\", \"'situado',\", \"'smadsch',\", \"'smed',\", \"'smed']\", \"'smosua',\", \"'smosua',\", \"'smov',\", \"'smov',\", \"'sms',\", \"'sms',\", \"'sms',\", \"'sms',\", \"'sms',\", \"'social',\", \"'social',\", \"'social',\", \"'social',\", \"'social',\", \"'social',\", \"'social',\", \"'social',\", \"'social',\", \"'social']\", \"'social']\", \"'social']\", \"'social']\", \"'software',\", \"'software',\", \"'softwares',\", \"'solda',\", \"'solicitacao',\", \"'solicita\\u00e7\\u00e3o']\", \"'solo',\", \"'solo',\", \"'som',\", \"'spin',\", \"'sprinter',\", \"'sr',\", \"'sr',\", \"'sra',\", \"'sra',\", \"'srp',\", \"'submersa',\", \"'subscrito',\", \"'suporte',\", \"'suporte',\", \"'suporte',\", \"'suporte',\", \"'suporte',\", \"'suprir',\", \"'suprir',\", \"'suprir',\", \"'suprir',\", \"'suprir',\", \"'suspeitos',\", \"'sustent\\u00e1vel',\", \"'sustent\\u00e1vel',\", \"'s\\u00e1bados',\", \"'s\\u00eamen',\", \"'s\\u00f3lidos',\", \"'taquari',\", \"'taxa',\", \"'taxa',\", \"'taxa',\", \"'taxa',\", \"'taxas',\", \"'taxas',\", \"'tecido',\", \"'tecnica',\", \"'tecnica',\", \"'tecnico',\", \"'tecnicos',\", \"'telef\\u00f4nica',\", \"'telef\\u00f4nica',\", \"'telef\\u00f4nicos',\", \"'tenente',\", \"'terapia',\", \"'termo',\", \"'termo',\", \"'termo',\", \"'termo',\", \"'termo',\", \"'termo',\", \"'termo',\", \"'termo',\", \"'termo',\", \"'termo',\", \"'termo',\", \"'termo',\", \"'termo',\", \"'terras',\", \"'terreno',\", \"'territorial',\", \"'teste',\", \"'teste',\", \"'teste',\", \"'teste',\", \"'teste',\", \"'teste',\", \"'testes',\", \"'testes',\", \"'testes',\", \"'textos',\", \"'tintas',\", \"'tintas',\", \"'tiras',\", \"'toners',\", \"'total',\", \"'total',\", \"'total',\", \"'total',\", \"'total',\", \"'total',\", \"'total',\", \"'total',\", \"'total',\", \"'total',\", \"'total',\", \"'total',\", \"'total',\", \"'total',\", \"'transfer\\u00eancias',\", \"'transmiss\\u00e3o',\", \"'transmiss\\u00e3o',\", \"'transmiss\\u00e3o',\", \"'transmiss\\u00e3o',\", \"'transmiss\\u00e3o',\", \"'transmiss\\u00e3o',\", \"'transpar\\u00eancia',\", \"'transporte',\", \"'transporte',\", \"'transporte',\", \"'transporte',\", \"'transporte',\", \"'transporte',\", \"'transporte',\", \"'transporte',\", \"'transporte',\", \"'transporte',\", \"'transporte',\", \"'transporte',\", \"'tratamento',\", \"'tratamento',\", \"'tratamento',\", \"'tratamento',\", \"'tratamento',\", \"'tratamento',\", \"'tratamento',\", \"'tra\\u00e7\\u00e3o',\", \"'treinamento',\", \"'treinamento',\", \"'treinamento',\", \"'trezentos',\", \"'tribunal',\", \"'tribut\\u00e1ria',\", \"'tribut\\u00e1ria']\", \"'tribut\\u00e1rio',\", \"'troca',\", \"'troca',\", \"'troca',\", \"'troca',\", \"'troca',\", \"'troca',\", \"'tr\\u00e2nsito']\", \"'tr\\u00e2nsito']\", \"'tubos',\", \"'turbo',\", \"'turismo',\", \"'turismo',\", \"'turismo',\", \"'turismo']\", \"'t\\u00e9cnica',\", \"'t\\u00e9cnica',\", \"'t\\u00e9cnica',\", \"'t\\u00e9cnica',\", \"'t\\u00e9cnica',\", \"'t\\u00e9cnica',\", \"'t\\u00e9cnica',\", \"'t\\u00e9cnica',\", \"'t\\u00e9cnica',\", \"'t\\u00e9cnica',\", \"'t\\u00e9cnica',\", \"'t\\u00e9cnica']\", \"'t\\u00e9cnico',\", \"'t\\u00e9cnico',\", \"'t\\u00e9cnico',\", \"'t\\u00e9cnico',\", \"'t\\u00e9cnico',\", \"'t\\u00e9cnico',\", \"'t\\u00e9cnico',\", \"'t\\u00e9cnico',\", \"'t\\u00e9cnicos',\", \"'t\\u00e9cnicos',\", \"'t\\u00e9cnicos',\", \"'t\\u00e9cnicos',\", \"'t\\u00e9cnicos',\", \"'t\\u00e9cnicos',\", \"'unidade',\", \"'unidade',\", \"'unidade',\", \"'unidade',\", \"'unidade',\", \"'unidade',\", \"'unidade',\", \"'unidade',\", \"'unidade',\", \"'unidade',\", \"'unidade',\", \"'unidade',\", \"'unidade',\", \"'unidade',\", \"'unit\\u00e1rios',\", \"'upa',\", \"'urbanos']\", \"'urbanos']\", \"'urbanos']\", \"'usada',\", \"'usado',\", \"'usado',\", \"'usado',\", \"'usinado',\", \"'usinado',\", \"'uso',\", \"'uso',\", \"'uso',\", \"'uso',\", \"'uso',\", \"'uso',\", \"'uso',\", \"'uso',\", \"'uso',\", \"'uso',\", \"'uso',\", \"'uso',\", \"'uso',\", \"'uso',\", \"'uso',\", \"'uso',\", \"'utilidade',\", \"'vacinas',\", \"'vacina\\u00e7\\u00e3o',\", \"'vaga',\", \"'vaga',\", \"'vagas',\", \"'vales',\", \"'valor',\", \"'valor',\", \"'valor',\", \"'valor',\", \"'valor',\", \"'valor',\", \"'valor',\", \"'valor',\", \"'valor',\", \"'valor',\", \"'valor',\", \"'vargas']\", \"'veicula\\u00e7\\u00e3o',\", \"'veicula\\u00e7\\u00e3o',\", \"'veiculo',\", \"'veiculo',\", \"'veiculo',\", \"'veiculo',\", \"'veiculo',\", \"'veiculo',\", \"'velocidade',\", \"'venda',\", \"'venda',\", \"'venda',\", \"'vereadores',\", \"'vereadores',\", \"'vereadores',\", \"'vereadores',\", \"'vereadores',\", \"'vereadores',\", \"'vereadores',\", \"'vereadores',\", \"'vereadores']\", \"'vereadores']\", \"'vereadores']\", \"'vereadores']\", \"'veterin\\u00e1rios',\", \"'ve\\u00edculo',\", \"'ve\\u00edculo',\", \"'ve\\u00edculo',\", \"'ve\\u00edculo',\", \"'ve\\u00edculo',\", \"'ve\\u00edculo',\", \"'ve\\u00edculo',\", \"'ve\\u00edculo',\", \"'ve\\u00edculo',\", \"'ve\\u00edculos',\", \"'ve\\u00edculos',\", \"'ve\\u00edculos',\", \"'ve\\u00edculos',\", \"'ve\\u00edculos',\", \"'ve\\u00edculos',\", \"'ve\\u00edculos',\", \"'ve\\u00edculos',\", \"'ve\\u00edculos',\", \"'ve\\u00edculos']\", \"'via',\", \"'via',\", \"'via',\", \"'via',\", \"'via',\", \"'via',\", \"'via',\", \"'vias',\", \"'vias',\", \"'vias',\", \"'vias',\", \"'vias',\", \"'vias',\", \"'vias',\", \"'vias',\", \"'vias',\", \"'viatura',\", \"'viaturas',\", \"'via\\u00e7\\u00e3o']\", \"'victor',\", \"'vidros',\", \"'vigilancia',\", \"'vinte',\", \"'vinte',\", \"'vinte',\", \"'vinte',\", \"'vinte',\", \"'vinte',\", \"'vinte',\", \"'vinte',\", \"'vinte',\", \"'vinte',\", \"'visa',\", \"'visa',\", \"'visa',\", \"'visa',\", \"'visa',\", \"'visa',\", \"'visa',\", \"'visto',\", \"'volare',\", \"'v\\u00eddeo',\", \"'v\\u00eddeo',\", \"'v\\u00eddeo',\", \"'v\\u00edrus',\", \"'web',\", \"'web',\", \"'website',\", \"'x',\", \"'x',\", \"'x',\", \"'x',\", \"'x',\", \"'x',\", \"'x',\", \"'x',\", \"'x',\", \"'x',\", \"'x',\", \"'zero',\", \"'zero',\", \"'zero',\", \"'zero',\", \"'zero',\", \"'zero',\", \"'\\u00e1gua',\", \"'\\u00e1gua',\", \"'\\u00e1gua',\", \"'\\u00e1gua',\", \"'\\u00e1gua',\", \"'\\u00e1gua',\", \"'\\u00e1gua',\", \"'\\u00e1gua',\", \"'\\u00e1gua',\", \"'\\u00e1gua',\", \"'\\u00e1gua',\", \"'\\u00e1gua',\", \"'\\u00e1gua']\", \"'\\u00e1gua']\", \"'\\u00e1guas',\", \"'\\u00e1lcool',\", \"'\\u00e1rea',\", \"'\\u00e1rea',\", \"'\\u00e1rea',\", \"'\\u00e1rea',\", \"'\\u00e1rea',\", \"'\\u00e1rea',\", \"'\\u00e1rea',\", \"'\\u00e1rea',\", \"'\\u00e1rea',\", \"'\\u00e1rea',\", \"'\\u00e1rea',\", \"'\\u00e1rea',\", \"'\\u00e1rea',\", \"'\\u00e1udio',\", \"'\\u00eanfase',\", \"'\\u00edndice',\", \"'\\u00f3leos',\", \"'\\u00f3leos',\", \"'\\u00f3leos',\", \"'\\u00f3ptica',\", \"'\\u00f4nibus',\", \"'\\u00f4nibus',\", \"['\", \"['\", \"['\", \"['\", \"['\", \"['\", \"['\", \"['\", \"['aliena\\u00e7\\u00e3o',\", \"['aquisicao',\", \"['aquisicao',\", \"['aquisicao',\", \"['aquisicao',\", \"['aquisicao',\", \"['aquisi\\u00e7ao',\", \"['aquisi\\u00e7\\u00e3o',\", \"['aquisi\\u00e7\\u00e3o',\", \"['aquisi\\u00e7\\u00e3o',\", \"['aquisi\\u00e7\\u00e3o',\", \"['aquisi\\u00e7\\u00e3o',\", \"['aquisi\\u00e7\\u00e3o',\", \"['aquisi\\u00e7\\u00e3o',\", \"['aquisi\\u00e7\\u00e3o',\", \"['aquisi\\u00e7\\u00e3o',\", \"['aquisi\\u00e7\\u00e3o',\", \"['aquisi\\u00e7\\u00e3o',\", \"['aquisi\\u00e7\\u00e3o',\", \"['aquisi\\u00e7\\u00e3o',\", \"['aquisi\\u00e7\\u00e3o',\", \"['aquisi\\u00e7\\u00e3o',\", \"['aquisi\\u00e7\\u00e3o',\", \"['arrendamento',\", \"['assinatura',\", \"['aux\\u00edlio',\", \"['celebra\\u00e7\\u00e3o',\", \"['compra',\", \"['compra',\", \"['compra',\", \"['compra',\", \"['compra',\", \"['compra',\", \"['compra',\", \"['concess\\u00e3o',\", \"['concess\\u00e3o',\", \"['concess\\u00e3o',\", \"['concess\\u00e3o',\", \"['concess\\u00e3o',\", \"['consultoria',\", \"['contratacao',\", \"['contratacao',\", \"['contratacao',\", \"['contratacao',\", \"['contratacao',\", \"['contratacao',\", \"['contratacao',\", \"['contratacao',\", \"['contrata\\u00e7ao',\", \"['contrata\\u00e7\\u00e3o',\", \"['contrata\\u00e7\\u00e3o',\", \"['contrata\\u00e7\\u00e3o',\", \"['contrata\\u00e7\\u00e3o',\", \"['contrata\\u00e7\\u00e3o',\", \"['contrata\\u00e7\\u00e3o',\", \"['contrata\\u00e7\\u00e3o',\", \"['contrata\\u00e7\\u00e3o',\", \"['contrata\\u00e7\\u00e3o',\", \"['contrata\\u00e7\\u00e3o',\", \"['contrata\\u00e7\\u00e3o',\", \"['contrata\\u00e7\\u00e3o',\", \"['contrata\\u00e7\\u00e3o',\", \"['contrata\\u00e7\\u00e3o',\", \"['contrata\\u00e7\\u00e3o',\", \"['contrata\\u00e7\\u00e3o',\", \"['contrato',\", \"['contrato',\", \"['contrato',\", \"['contrato',\", \"['contrato',\", \"['curso',\", \"['curso',\", \"['curso',\", \"['despesa',\", \"['despesa',\", \"['despesa',\", \"['despesa',\", \"['despesa',\", \"['despesa',\", \"['despesa',\", \"['despesa',\", \"['despesa',\", \"['dispensa',\", \"['edital',\", \"['edital',\", \"['edital',\", \"['edital',\", \"['elabora\\u00e7\\u00e3o',\", \"['elabora\\u00e7\\u00e3o',\", \"['elabora\\u00e7\\u00e3o',\", \"['elabora\\u00e7\\u00e3o',\", \"['elabora\\u00e7\\u00e3o',\", \"['estimativa',\", \"['eventual',\", \"['formaliza\\u00e7\\u00e3o',\", \"['fornecimento',\", \"['fornecimento',\", \"['fornecimento',\", \"['fornecimento',\", \"['fornecimento',\", \"['fornecimento',\", \"['fornecimento',\", \"['fornecimento',\", \"['fornecimento',\", \"['fornecimento',\", \"['fornecimento',\", \"['fornecimento',\", \"['fornecimento',\", \"['fornecimento',\", \"['leil\\u00e3o',\", \"['loca\\u00e7\\u00e3o',\", \"['loca\\u00e7\\u00e3o',\", \"['loca\\u00e7\\u00e3o',\", \"['loca\\u00e7\\u00e3o',\", \"['loca\\u00e7\\u00e3o',\", \"['loca\\u00e7\\u00e3o',\", \"['loca\\u00e7\\u00e3o',\", \"['loca\\u00e7\\u00e3o',\", \"['loca\\u00e7\\u00e3o',\", \"['manuten\\u00e7\\u00e3o',\", \"['manuten\\u00e7\\u00e3o',\", \"['manuten\\u00e7\\u00e3o',\", \"['manuten\\u00e7\\u00e3o',\", \"['materiais',\", \"['material',\", \"['material',\", \"['material',\", \"['pagamento',\", \"['pagamento',\", \"['pagamento',\", \"['pagamento',\", \"['pagamento',\", \"['pagamento',\", \"['pagamento',\", \"['pagamento',\", \"['pe\\u00e7as',\", \"['pregao',\", \"['preg\\u00e3o',\", \"['preg\\u00e3o',\", \"['preg\\u00e3o',\", \"['preg\\u00e3o',\", \"['preg\\u00e3o',\", \"['presente',\", \"['presente',\", \"['presente',\", \"['presente',\", \"['presente',\", \"['presente',\", \"['presente',\", \"['presta\\u00e7\\u00e3o',\", \"['presta\\u00e7\\u00e3o',\", \"['presta\\u00e7\\u00e3o',\", \"['presta\\u00e7\\u00e3o',\", \"['presta\\u00e7\\u00e3o',\", \"['presta\\u00e7\\u00e3o',\", \"['presta\\u00e7\\u00e3o',\", \"['presta\\u00e7\\u00e3o',\", \"['presta\\u00e7\\u00e3o',\", \"['presta\\u00e7\\u00e3o',\", \"['presta\\u00e7\\u00e3o',\", \"['presta\\u00e7\\u00e3o',\", \"['presta\\u00e7\\u00e3o',\", \"['presta\\u00e7\\u00e3o',\", \"['presta\\u00e7\\u00e3o',\", \"['processo',\", \"['proveniente',\", \"['proveniente',\", \"['referente',\", \"['referente',\", \"['referente',\", \"['referente',\", \"['referente',\", \"['referente',\", \"['referente',\", \"['referente',\", \"['referente',\", \"['referente',\", \"['referente',\", \"['referente',\", \"['registro',\", \"['registro',\", \"['registro',\", \"['registro',\", \"['registro',\", \"['registro',\", \"['renova\\u00e7\\u00e3o',\", \"['renova\\u00e7\\u00e3o',\", \"['revis\\u00e3o',\", \"['rp',\", \"['servi\\u00e7o',\", \"['servi\\u00e7o',\", \"['servi\\u00e7o',\", \"['servi\\u00e7o',\", \"['servi\\u00e7o',\", \"['servi\\u00e7o',\", \"['servi\\u00e7o',\", \"['servi\\u00e7o',\", \"['servi\\u00e7o',\", \"['servi\\u00e7o',\", \"['servi\\u00e7o',\", \"['servi\\u00e7o',\", \"['servi\\u00e7o',\", \"['servi\\u00e7os',\", \"['servi\\u00e7os',\", \"['servi\\u00e7os',\", \"['servi\\u00e7os',\", \"['servi\\u00e7os',\", \"['servi\\u00e7os',\", \"['servi\\u00e7os',\", \"['servi\\u00e7os',\", \"['servi\\u00e7os',\", \"['servi\\u00e7os',\", \"['servi\\u00e7os',\", \"['servi\\u00e7os',\", \"['solicitamos',\", \"['solicitamos',\", \"['solicita\\u00e7\\u00e3o',\", \"['solicita\\u00e7\\u00e3o',\", \"['solicita\\u00e7\\u00e3o',\", \"['solicita\\u00e7\\u00e3o',\", \"['solicita\\u00e7\\u00e3o',\", \"['solicita\\u00e7\\u00e3o',\", \"['termo',\", \"['termo',\", \"['termo',\", \"['valor',\", \"['valor',\", \"['valor',\", \"['valor',\", \"['valor',\", \"['valor',\", \"['valor',\"]}, \"R\": 30, \"lambda.step\": 0.01, \"plot.opts\": {\"xlab\": \"PC1\", \"ylab\": \"PC2\"}, \"topic.order\": [6, 13, 12, 8, 10, 11, 5, 1, 2, 3, 7, 9, 14, 4, 15, 16]};\n",
              "\n",
              "function LDAvis_load_lib(url, callback){\n",
              "  var s = document.createElement('script');\n",
              "  s.src = url;\n",
              "  s.async = true;\n",
              "  s.onreadystatechange = s.onload = callback;\n",
              "  s.onerror = function(){console.warn(\"failed to load library \" + url);};\n",
              "  document.getElementsByTagName(\"head\")[0].appendChild(s);\n",
              "}\n",
              "\n",
              "if(typeof(LDAvis) !== \"undefined\"){\n",
              "   // already loaded: just create the visualization\n",
              "   !function(LDAvis){\n",
              "       new LDAvis(\"#\" + \"ldavis_el46601402348479267365153499356\", ldavis_el46601402348479267365153499356_data);\n",
              "   }(LDAvis);\n",
              "}else if(typeof define === \"function\" && define.amd){\n",
              "   // require.js is available: use it to load d3/LDAvis\n",
              "   require.config({paths: {d3: \"https://d3js.org/d3.v5\"}});\n",
              "   require([\"d3\"], function(d3){\n",
              "      window.d3 = d3;\n",
              "      LDAvis_load_lib(\"https://cdn.jsdelivr.net/gh/bmabey/pyLDAvis@3.3.1/pyLDAvis/js/ldavis.v3.0.0.js\", function(){\n",
              "        new LDAvis(\"#\" + \"ldavis_el46601402348479267365153499356\", ldavis_el46601402348479267365153499356_data);\n",
              "      });\n",
              "    });\n",
              "}else{\n",
              "    // require.js not available: dynamically load d3 & LDAvis\n",
              "    LDAvis_load_lib(\"https://d3js.org/d3.v5.js\", function(){\n",
              "         LDAvis_load_lib(\"https://cdn.jsdelivr.net/gh/bmabey/pyLDAvis@3.3.1/pyLDAvis/js/ldavis.v3.0.0.js\", function(){\n",
              "                 new LDAvis(\"#\" + \"ldavis_el46601402348479267365153499356\", ldavis_el46601402348479267365153499356_data);\n",
              "            })\n",
              "         });\n",
              "}\n",
              "</script>"
            ],
            "text/plain": [
              "<IPython.core.display.HTML object>"
            ]
          },
          "metadata": {},
          "execution_count": 44
        }
      ],
      "source": [
        "pyLDAvis.display(display_data_lic)  "
      ]
    },
    {
      "cell_type": "markdown",
      "source": [
        "### NMF + TfidfVectorizer"
      ],
      "metadata": {
        "id": "hEOdRN_XmLDc"
      }
    },
    {
      "cell_type": "markdown",
      "source": [
        "pre-processing"
      ],
      "metadata": {
        "id": "0xrHJ98CoaSJ"
      }
    },
    {
      "cell_type": "code",
      "source": [
        "filter_out = filter_out + ['x', '[', ']', ',', '\\t', '\\\\t']"
      ],
      "metadata": {
        "id": "6z88NuF8phMr"
      },
      "execution_count": 25,
      "outputs": []
    },
    {
      "cell_type": "code",
      "source": [
        "tfidf = TfidfVectorizer(max_df=0.95, min_df=2, stop_words=filter_out)"
      ],
      "metadata": {
        "id": "qHdaHBLZobzS"
      },
      "execution_count": 26,
      "outputs": []
    },
    {
      "cell_type": "code",
      "source": [
        "dtm = tfidf.fit_transform(licitacao_21['DS_OBJETO_TOKEN'])"
      ],
      "metadata": {
        "id": "lIt39EZ5pxbB"
      },
      "execution_count": 27,
      "outputs": []
    },
    {
      "cell_type": "code",
      "source": [
        "nmf_model_tv = NMF(n_components=7,random_state=42)"
      ],
      "metadata": {
        "id": "ikevzQ1RnkKS"
      },
      "execution_count": 16,
      "outputs": []
    },
    {
      "cell_type": "code",
      "source": [
        "nmf_model_tv.fit(dtm)"
      ],
      "metadata": {
        "colab": {
          "base_uri": "https://localhost:8080/"
        },
        "id": "1rDg76yEqJHC",
        "outputId": "73801739-6f45-4202-b951-066545193da4"
      },
      "execution_count": 20,
      "outputs": [
        {
          "output_type": "execute_result",
          "data": {
            "text/plain": [
              "NMF(n_components=7, random_state=42)"
            ]
          },
          "metadata": {},
          "execution_count": 20
        }
      ]
    },
    {
      "cell_type": "code",
      "source": [
        "topic_results = nmf_model_tv.transform(dtm)"
      ],
      "metadata": {
        "id": "aahDYpjPqXx3"
      },
      "execution_count": 22,
      "outputs": []
    },
    {
      "cell_type": "code",
      "source": [
        "licitacao_21['Topic_nfm_tv'] = topic_results.argmax(axis=1)"
      ],
      "metadata": {
        "id": "m92uR5WHqdrV"
      },
      "execution_count": 23,
      "outputs": []
    },
    {
      "cell_type": "code",
      "source": [
        "licitacao_21[['DS_OBJETO','Topic_nfm_tv']].head(10)"
      ],
      "metadata": {
        "colab": {
          "base_uri": "https://localhost:8080/",
          "height": 363
        },
        "id": "4v98X8JOqkim",
        "outputId": "ffce9a55-dc2f-4d36-814d-821e62b97d4c"
      },
      "execution_count": 24,
      "outputs": [
        {
          "output_type": "execute_result",
          "data": {
            "text/html": [
              "\n",
              "  <div id=\"df-126a5ea1-2e1f-4543-be34-ba5ad551c6dc\">\n",
              "    <div class=\"colab-df-container\">\n",
              "      <div>\n",
              "<style scoped>\n",
              "    .dataframe tbody tr th:only-of-type {\n",
              "        vertical-align: middle;\n",
              "    }\n",
              "\n",
              "    .dataframe tbody tr th {\n",
              "        vertical-align: top;\n",
              "    }\n",
              "\n",
              "    .dataframe thead th {\n",
              "        text-align: right;\n",
              "    }\n",
              "</style>\n",
              "<table border=\"1\" class=\"dataframe\">\n",
              "  <thead>\n",
              "    <tr style=\"text-align: right;\">\n",
              "      <th></th>\n",
              "      <th>DS_OBJETO</th>\n",
              "      <th>Topic_nfm_tv</th>\n",
              "    </tr>\n",
              "  </thead>\n",
              "  <tbody>\n",
              "    <tr>\n",
              "      <th>0</th>\n",
              "      <td>CONTRATAÇÃO GLOBAL DE EMPRESA PARA CONSTRUÇÃO ...</td>\n",
              "      <td>1</td>\n",
              "    </tr>\n",
              "    <tr>\n",
              "      <th>1</th>\n",
              "      <td>Contratação de empresa para prestação de servi...</td>\n",
              "      <td>1</td>\n",
              "    </tr>\n",
              "    <tr>\n",
              "      <th>2</th>\n",
              "      <td>Aquisição de 80.000 (oitenta mil) quilogramas ...</td>\n",
              "      <td>4</td>\n",
              "    </tr>\n",
              "    <tr>\n",
              "      <th>3</th>\n",
              "      <td>Aquisição de 65 (sessenta e cinco) toneladas d...</td>\n",
              "      <td>4</td>\n",
              "    </tr>\n",
              "    <tr>\n",
              "      <th>4</th>\n",
              "      <td>SERVIÇOS DE FORNECIMENTO DE LINK DEDICADO, DE ...</td>\n",
              "      <td>1</td>\n",
              "    </tr>\n",
              "    <tr>\n",
              "      <th>5</th>\n",
              "      <td>Contratação de empresa para prestação de servi...</td>\n",
              "      <td>1</td>\n",
              "    </tr>\n",
              "    <tr>\n",
              "      <th>6</th>\n",
              "      <td>Contratação de empresa especializada para pres...</td>\n",
              "      <td>1</td>\n",
              "    </tr>\n",
              "    <tr>\n",
              "      <th>7</th>\n",
              "      <td>Aquisição de areia média, lavada e peneirada, ...</td>\n",
              "      <td>2</td>\n",
              "    </tr>\n",
              "    <tr>\n",
              "      <th>8</th>\n",
              "      <td>CONTRATAÇÃO DE EMPRESA PARA INSTALAÇÃO, IMPLAN...</td>\n",
              "      <td>1</td>\n",
              "    </tr>\n",
              "    <tr>\n",
              "      <th>9</th>\n",
              "      <td>Contratação de empresa para divulgação em jorn...</td>\n",
              "      <td>1</td>\n",
              "    </tr>\n",
              "  </tbody>\n",
              "</table>\n",
              "</div>\n",
              "      <button class=\"colab-df-convert\" onclick=\"convertToInteractive('df-126a5ea1-2e1f-4543-be34-ba5ad551c6dc')\"\n",
              "              title=\"Convert this dataframe to an interactive table.\"\n",
              "              style=\"display:none;\">\n",
              "        \n",
              "  <svg xmlns=\"http://www.w3.org/2000/svg\" height=\"24px\"viewBox=\"0 0 24 24\"\n",
              "       width=\"24px\">\n",
              "    <path d=\"M0 0h24v24H0V0z\" fill=\"none\"/>\n",
              "    <path d=\"M18.56 5.44l.94 2.06.94-2.06 2.06-.94-2.06-.94-.94-2.06-.94 2.06-2.06.94zm-11 1L8.5 8.5l.94-2.06 2.06-.94-2.06-.94L8.5 2.5l-.94 2.06-2.06.94zm10 10l.94 2.06.94-2.06 2.06-.94-2.06-.94-.94-2.06-.94 2.06-2.06.94z\"/><path d=\"M17.41 7.96l-1.37-1.37c-.4-.4-.92-.59-1.43-.59-.52 0-1.04.2-1.43.59L10.3 9.45l-7.72 7.72c-.78.78-.78 2.05 0 2.83L4 21.41c.39.39.9.59 1.41.59.51 0 1.02-.2 1.41-.59l7.78-7.78 2.81-2.81c.8-.78.8-2.07 0-2.86zM5.41 20L4 18.59l7.72-7.72 1.47 1.35L5.41 20z\"/>\n",
              "  </svg>\n",
              "      </button>\n",
              "      \n",
              "  <style>\n",
              "    .colab-df-container {\n",
              "      display:flex;\n",
              "      flex-wrap:wrap;\n",
              "      gap: 12px;\n",
              "    }\n",
              "\n",
              "    .colab-df-convert {\n",
              "      background-color: #E8F0FE;\n",
              "      border: none;\n",
              "      border-radius: 50%;\n",
              "      cursor: pointer;\n",
              "      display: none;\n",
              "      fill: #1967D2;\n",
              "      height: 32px;\n",
              "      padding: 0 0 0 0;\n",
              "      width: 32px;\n",
              "    }\n",
              "\n",
              "    .colab-df-convert:hover {\n",
              "      background-color: #E2EBFA;\n",
              "      box-shadow: 0px 1px 2px rgba(60, 64, 67, 0.3), 0px 1px 3px 1px rgba(60, 64, 67, 0.15);\n",
              "      fill: #174EA6;\n",
              "    }\n",
              "\n",
              "    [theme=dark] .colab-df-convert {\n",
              "      background-color: #3B4455;\n",
              "      fill: #D2E3FC;\n",
              "    }\n",
              "\n",
              "    [theme=dark] .colab-df-convert:hover {\n",
              "      background-color: #434B5C;\n",
              "      box-shadow: 0px 1px 3px 1px rgba(0, 0, 0, 0.15);\n",
              "      filter: drop-shadow(0px 1px 2px rgba(0, 0, 0, 0.3));\n",
              "      fill: #FFFFFF;\n",
              "    }\n",
              "  </style>\n",
              "\n",
              "      <script>\n",
              "        const buttonEl =\n",
              "          document.querySelector('#df-126a5ea1-2e1f-4543-be34-ba5ad551c6dc button.colab-df-convert');\n",
              "        buttonEl.style.display =\n",
              "          google.colab.kernel.accessAllowed ? 'block' : 'none';\n",
              "\n",
              "        async function convertToInteractive(key) {\n",
              "          const element = document.querySelector('#df-126a5ea1-2e1f-4543-be34-ba5ad551c6dc');\n",
              "          const dataTable =\n",
              "            await google.colab.kernel.invokeFunction('convertToInteractive',\n",
              "                                                     [key], {});\n",
              "          if (!dataTable) return;\n",
              "\n",
              "          const docLinkHtml = 'Like what you see? Visit the ' +\n",
              "            '<a target=\"_blank\" href=https://colab.research.google.com/notebooks/data_table.ipynb>data table notebook</a>'\n",
              "            + ' to learn more about interactive tables.';\n",
              "          element.innerHTML = '';\n",
              "          dataTable['output_type'] = 'display_data';\n",
              "          await google.colab.output.renderOutput(dataTable, element);\n",
              "          const docLink = document.createElement('div');\n",
              "          docLink.innerHTML = docLinkHtml;\n",
              "          element.appendChild(docLink);\n",
              "        }\n",
              "      </script>\n",
              "    </div>\n",
              "  </div>\n",
              "  "
            ],
            "text/plain": [
              "                                           DS_OBJETO  Topic_nfm_tv\n",
              "0  CONTRATAÇÃO GLOBAL DE EMPRESA PARA CONSTRUÇÃO ...             1\n",
              "1  Contratação de empresa para prestação de servi...             1\n",
              "2  Aquisição de 80.000 (oitenta mil) quilogramas ...             4\n",
              "3  Aquisição de 65 (sessenta e cinco) toneladas d...             4\n",
              "4  SERVIÇOS DE FORNECIMENTO DE LINK DEDICADO, DE ...             1\n",
              "5  Contratação de empresa para prestação de servi...             1\n",
              "6  Contratação de empresa especializada para pres...             1\n",
              "7  Aquisição de areia média, lavada e peneirada, ...             2\n",
              "8  CONTRATAÇÃO DE EMPRESA PARA INSTALAÇÃO, IMPLAN...             1\n",
              "9  Contratação de empresa para divulgação em jorn...             1"
            ]
          },
          "metadata": {},
          "execution_count": 24
        }
      ]
    },
    {
      "cell_type": "code",
      "source": [
        "licitacao_21.to_csv('/content/drive/MyDrive/NLP/nmf_model_tv.csv')"
      ],
      "metadata": {
        "id": "eQWfn5-dsKaH"
      },
      "execution_count": 31,
      "outputs": []
    },
    {
      "cell_type": "code",
      "source": [
        "from joblib import dump, load\n",
        "dump(nmf_model_tv, '/content/drive/MyDrive/NLP/nmf_model_tv.joblib') "
      ],
      "metadata": {
        "colab": {
          "base_uri": "https://localhost:8080/"
        },
        "id": "OjNVnDqXtYZ1",
        "outputId": "05c06320-3ef3-4d31-f395-67b55d431acd"
      },
      "execution_count": 34,
      "outputs": [
        {
          "output_type": "execute_result",
          "data": {
            "text/plain": [
              "['/content/drive/MyDrive/NLP/nmf_model_tv.joblib']"
            ]
          },
          "metadata": {},
          "execution_count": 34
        }
      ]
    },
    {
      "cell_type": "code",
      "source": [
        "nmf_model_tv = load('/content/drive/MyDrive/NLP/nmf_model_tv.joblib')"
      ],
      "metadata": {
        "id": "o_Kv0v7MtdJ6"
      },
      "execution_count": 38,
      "outputs": []
    },
    {
      "cell_type": "code",
      "source": [
        "licitacao_21 = pd.read_csv('/content/drive/MyDrive/NLP/nmf_model_tv.csv')"
      ],
      "metadata": {
        "id": "wGdFOmFUF7kN"
      },
      "execution_count": 45,
      "outputs": []
    },
    {
      "cell_type": "code",
      "source": [
        "licitacao_21[['DS_OBJETO_TOKEN','Topic_nfm_tv']].head(100)"
      ],
      "metadata": {
        "colab": {
          "base_uri": "https://localhost:8080/",
          "height": 424
        },
        "id": "81B3i6C0x73C",
        "outputId": "8c8c4386-9d18-427d-d1c8-528b7e09968f"
      },
      "execution_count": 46,
      "outputs": [
        {
          "output_type": "execute_result",
          "data": {
            "text/html": [
              "\n",
              "  <div id=\"df-0b4f8637-14d2-4b80-81c5-0093e4d3ef2b\">\n",
              "    <div class=\"colab-df-container\">\n",
              "      <div>\n",
              "<style scoped>\n",
              "    .dataframe tbody tr th:only-of-type {\n",
              "        vertical-align: middle;\n",
              "    }\n",
              "\n",
              "    .dataframe tbody tr th {\n",
              "        vertical-align: top;\n",
              "    }\n",
              "\n",
              "    .dataframe thead th {\n",
              "        text-align: right;\n",
              "    }\n",
              "</style>\n",
              "<table border=\"1\" class=\"dataframe\">\n",
              "  <thead>\n",
              "    <tr style=\"text-align: right;\">\n",
              "      <th></th>\n",
              "      <th>DS_OBJETO_TOKEN</th>\n",
              "      <th>Topic_nfm_tv</th>\n",
              "    </tr>\n",
              "  </thead>\n",
              "  <tbody>\n",
              "    <tr>\n",
              "      <th>0</th>\n",
              "      <td>['contratação', 'global', 'empresa', 'construç...</td>\n",
              "      <td>1</td>\n",
              "    </tr>\n",
              "    <tr>\n",
              "      <th>1</th>\n",
              "      <td>['contratação', 'empresa', 'prestação', 'servi...</td>\n",
              "      <td>1</td>\n",
              "    </tr>\n",
              "    <tr>\n",
              "      <th>2</th>\n",
              "      <td>['aquisição', 'oitenta', 'mil', 'quilogramas',...</td>\n",
              "      <td>4</td>\n",
              "    </tr>\n",
              "    <tr>\n",
              "      <th>3</th>\n",
              "      <td>['aquisição', 'sessenta', 'cinco', 'toneladas'...</td>\n",
              "      <td>4</td>\n",
              "    </tr>\n",
              "    <tr>\n",
              "      <th>4</th>\n",
              "      <td>['serviços', 'fornecimento', 'link', 'dedicado...</td>\n",
              "      <td>1</td>\n",
              "    </tr>\n",
              "    <tr>\n",
              "      <th>...</th>\n",
              "      <td>...</td>\n",
              "      <td>...</td>\n",
              "    </tr>\n",
              "    <tr>\n",
              "      <th>95</th>\n",
              "      <td>['contratação', 'empresa', 'prestação', 'servi...</td>\n",
              "      <td>1</td>\n",
              "    </tr>\n",
              "    <tr>\n",
              "      <th>96</th>\n",
              "      <td>['contratação', 'empresa', 'especializada', 's...</td>\n",
              "      <td>1</td>\n",
              "    </tr>\n",
              "    <tr>\n",
              "      <th>97</th>\n",
              "      <td>['contratação', 'empresa', 'execução', 'serviç...</td>\n",
              "      <td>1</td>\n",
              "    </tr>\n",
              "    <tr>\n",
              "      <th>98</th>\n",
              "      <td>['contratação', 'empresa', 'execução', 'serviç...</td>\n",
              "      <td>1</td>\n",
              "    </tr>\n",
              "    <tr>\n",
              "      <th>99</th>\n",
              "      <td>['contratação', 'empresa', 'prestação', 'servi...</td>\n",
              "      <td>1</td>\n",
              "    </tr>\n",
              "  </tbody>\n",
              "</table>\n",
              "<p>100 rows × 2 columns</p>\n",
              "</div>\n",
              "      <button class=\"colab-df-convert\" onclick=\"convertToInteractive('df-0b4f8637-14d2-4b80-81c5-0093e4d3ef2b')\"\n",
              "              title=\"Convert this dataframe to an interactive table.\"\n",
              "              style=\"display:none;\">\n",
              "        \n",
              "  <svg xmlns=\"http://www.w3.org/2000/svg\" height=\"24px\"viewBox=\"0 0 24 24\"\n",
              "       width=\"24px\">\n",
              "    <path d=\"M0 0h24v24H0V0z\" fill=\"none\"/>\n",
              "    <path d=\"M18.56 5.44l.94 2.06.94-2.06 2.06-.94-2.06-.94-.94-2.06-.94 2.06-2.06.94zm-11 1L8.5 8.5l.94-2.06 2.06-.94-2.06-.94L8.5 2.5l-.94 2.06-2.06.94zm10 10l.94 2.06.94-2.06 2.06-.94-2.06-.94-.94-2.06-.94 2.06-2.06.94z\"/><path d=\"M17.41 7.96l-1.37-1.37c-.4-.4-.92-.59-1.43-.59-.52 0-1.04.2-1.43.59L10.3 9.45l-7.72 7.72c-.78.78-.78 2.05 0 2.83L4 21.41c.39.39.9.59 1.41.59.51 0 1.02-.2 1.41-.59l7.78-7.78 2.81-2.81c.8-.78.8-2.07 0-2.86zM5.41 20L4 18.59l7.72-7.72 1.47 1.35L5.41 20z\"/>\n",
              "  </svg>\n",
              "      </button>\n",
              "      \n",
              "  <style>\n",
              "    .colab-df-container {\n",
              "      display:flex;\n",
              "      flex-wrap:wrap;\n",
              "      gap: 12px;\n",
              "    }\n",
              "\n",
              "    .colab-df-convert {\n",
              "      background-color: #E8F0FE;\n",
              "      border: none;\n",
              "      border-radius: 50%;\n",
              "      cursor: pointer;\n",
              "      display: none;\n",
              "      fill: #1967D2;\n",
              "      height: 32px;\n",
              "      padding: 0 0 0 0;\n",
              "      width: 32px;\n",
              "    }\n",
              "\n",
              "    .colab-df-convert:hover {\n",
              "      background-color: #E2EBFA;\n",
              "      box-shadow: 0px 1px 2px rgba(60, 64, 67, 0.3), 0px 1px 3px 1px rgba(60, 64, 67, 0.15);\n",
              "      fill: #174EA6;\n",
              "    }\n",
              "\n",
              "    [theme=dark] .colab-df-convert {\n",
              "      background-color: #3B4455;\n",
              "      fill: #D2E3FC;\n",
              "    }\n",
              "\n",
              "    [theme=dark] .colab-df-convert:hover {\n",
              "      background-color: #434B5C;\n",
              "      box-shadow: 0px 1px 3px 1px rgba(0, 0, 0, 0.15);\n",
              "      filter: drop-shadow(0px 1px 2px rgba(0, 0, 0, 0.3));\n",
              "      fill: #FFFFFF;\n",
              "    }\n",
              "  </style>\n",
              "\n",
              "      <script>\n",
              "        const buttonEl =\n",
              "          document.querySelector('#df-0b4f8637-14d2-4b80-81c5-0093e4d3ef2b button.colab-df-convert');\n",
              "        buttonEl.style.display =\n",
              "          google.colab.kernel.accessAllowed ? 'block' : 'none';\n",
              "\n",
              "        async function convertToInteractive(key) {\n",
              "          const element = document.querySelector('#df-0b4f8637-14d2-4b80-81c5-0093e4d3ef2b');\n",
              "          const dataTable =\n",
              "            await google.colab.kernel.invokeFunction('convertToInteractive',\n",
              "                                                     [key], {});\n",
              "          if (!dataTable) return;\n",
              "\n",
              "          const docLinkHtml = 'Like what you see? Visit the ' +\n",
              "            '<a target=\"_blank\" href=https://colab.research.google.com/notebooks/data_table.ipynb>data table notebook</a>'\n",
              "            + ' to learn more about interactive tables.';\n",
              "          element.innerHTML = '';\n",
              "          dataTable['output_type'] = 'display_data';\n",
              "          await google.colab.output.renderOutput(dataTable, element);\n",
              "          const docLink = document.createElement('div');\n",
              "          docLink.innerHTML = docLinkHtml;\n",
              "          element.appendChild(docLink);\n",
              "        }\n",
              "      </script>\n",
              "    </div>\n",
              "  </div>\n",
              "  "
            ],
            "text/plain": [
              "                                      DS_OBJETO_TOKEN  Topic_nfm_tv\n",
              "0   ['contratação', 'global', 'empresa', 'construç...             1\n",
              "1   ['contratação', 'empresa', 'prestação', 'servi...             1\n",
              "2   ['aquisição', 'oitenta', 'mil', 'quilogramas',...             4\n",
              "3   ['aquisição', 'sessenta', 'cinco', 'toneladas'...             4\n",
              "4   ['serviços', 'fornecimento', 'link', 'dedicado...             1\n",
              "..                                                ...           ...\n",
              "95  ['contratação', 'empresa', 'prestação', 'servi...             1\n",
              "96  ['contratação', 'empresa', 'especializada', 's...             1\n",
              "97  ['contratação', 'empresa', 'execução', 'serviç...             1\n",
              "98  ['contratação', 'empresa', 'execução', 'serviç...             1\n",
              "99  ['contratação', 'empresa', 'prestação', 'servi...             1\n",
              "\n",
              "[100 rows x 2 columns]"
            ]
          },
          "metadata": {},
          "execution_count": 46
        }
      ]
    },
    {
      "cell_type": "markdown",
      "metadata": {
        "id": "FOSSM37b0A7l"
      },
      "source": [
        "## Análise dos dados"
      ]
    },
    {
      "cell_type": "markdown",
      "source": [
        "Sem o processamento dos dados pelo o TfidfVectorizer, algumas palavras ficaram com símbolos. Então palavras como [covid e covid, que possuem o mesmo significado, foram classificadas diferentes no lda.\n",
        "\n"
      ],
      "metadata": {
        "id": "P3UQto7lHgrs"
      }
    },
    {
      "cell_type": "markdown",
      "metadata": {
        "id": "I4aiEJg60NcS"
      },
      "source": [
        "## Conclusão"
      ]
    },
    {
      "cell_type": "markdown",
      "source": [
        "O nível de coerência pelo lda, chegou a 50% apenas, então foi testada outro algoritmo o nmf.\n",
        "\n",
        "Pontos de melhoria: o pré-processamento do texto, pois o mesmo ficou com símbolos \n",
        "\n",
        "Testar outras técnicas para cluster, como, k-means"
      ],
      "metadata": {
        "id": "EjmcjcORIQdx"
      }
    }
  ],
  "metadata": {
    "colab": {
      "collapsed_sections": [
        "JTFTbZhEuQPx",
        "ndGGL_5OpOoQ",
        "RBGu3lHxumUV",
        "wmZpI_COxX7Y",
        "9SaqqMLSz83K",
        "6vTUhqJ7PuKc",
        "d7EhNyabPuKj",
        "PmqaWOr5YlDm",
        "hEOdRN_XmLDc"
      ],
      "name": "Maiores_investimentos_licitações.ipynb",
      "provenance": [],
      "include_colab_link": true
    },
    "kernelspec": {
      "display_name": "Python 3",
      "name": "python3"
    },
    "language_info": {
      "codemirror_mode": {
        "name": "ipython",
        "version": 3
      },
      "file_extension": ".py",
      "mimetype": "text/x-python",
      "name": "python",
      "nbconvert_exporter": "python",
      "pygments_lexer": "ipython3",
      "version": "3.7.11"
    },
    "accelerator": "GPU"
  },
  "nbformat": 4,
  "nbformat_minor": 0
}