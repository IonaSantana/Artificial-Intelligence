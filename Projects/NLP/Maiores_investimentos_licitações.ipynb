{
  "cells": [
    {
      "cell_type": "markdown",
      "metadata": {
        "id": "view-in-github",
        "colab_type": "text"
      },
      "source": [
        "<a href=\"https://colab.research.google.com/github/IonaSantana/Artificial-Intelligence/blob/main/Projects/NLP/Maiores_investimentos_licitac%CC%A7o%CC%83es.ipynb\" target=\"_parent\"><img src=\"https://colab.research.google.com/assets/colab-badge.svg\" alt=\"Open In Colab\"/></a>"
      ]
    },
    {
      "cell_type": "markdown",
      "metadata": {
        "id": "uu7G0Zsyq9Kk"
      },
      "source": [
        "### Situação:"
      ]
    },
    {
      "cell_type": "markdown",
      "metadata": {
        "id": "SfinOPAFqUe2"
      },
      "source": [
        "Usando os dados das licitações do ano de 2021, no Rio Grande do Sul, fazer uma análise dos principais itens licitados e das áreas que receberam maior investimento por meio de licitações\n",
        "\n",
        "Link: http://dados.tce.rs.gov.br/dataset?groups=licitacoes&q=consolidado"
      ]
    },
    {
      "cell_type": "markdown",
      "metadata": {
        "id": "virQsZRzPuKQ"
      },
      "source": [
        "Referências:\n",
        "\n",
        "https://github.com/PatrickLdA/licitacoes-RS/blob/main/notebook.ipynb\n",
        "\n",
        "https://medium.com/somos-tera/como-modelar-t%C3%B3picos-atrav%C3%A9s-de-latent-dirichlet-allocation-lda-atrav%C3%A9s-da-biblioteca-gensim-1fa17357ad4b"
      ]
    },
    {
      "cell_type": "markdown",
      "metadata": {
        "id": "JTFTbZhEuQPx"
      },
      "source": [
        "### Imports"
      ]
    },
    {
      "cell_type": "code",
      "execution_count": 1,
      "metadata": {
        "id": "cJ4hoz1kuPFM"
      },
      "outputs": [],
      "source": [
        "import pandas as pd\n",
        "import numpy as np\n",
        "import os\n",
        "import matplotlib.pyplot as plt\n",
        "%matplotlib inline\n",
        "import warnings\n",
        "warnings.filterwarnings(\"ignore\")\n",
        "#\n",
        "import spacy \n",
        "import nltk"
      ]
    },
    {
      "cell_type": "code",
      "source": [
        "# Libs adicionais de NLP\n",
        "import spacy \n",
        "import nltk\n",
        "from sklearn.feature_extraction.text import CountVectorizer, TfidfVectorizer\n",
        "import re"
      ],
      "metadata": {
        "id": "SHUrVXwgTk2M"
      },
      "execution_count": 2,
      "outputs": []
    },
    {
      "cell_type": "code",
      "source": [
        "from sklearn.decomposition import LatentDirichletAllocation\n",
        "\n",
        "#gráficos \n",
        "import pyLDAvis\n",
        "import pyLDAvis.gensim_models"
      ],
      "metadata": {
        "colab": {
          "base_uri": "https://localhost:8080/"
        },
        "id": "gS9q7ZpcTrDj",
        "outputId": "972c92a8-4408-4ab0-d645-1d1ba0750084"
      },
      "execution_count": 3,
      "outputs": [
        {
          "output_type": "stream",
          "name": "stderr",
          "text": [
            "/usr/local/lib/python3.7/dist-packages/past/types/oldstr.py:5: DeprecationWarning: Using or importing the ABCs from 'collections' instead of from 'collections.abc' is deprecated since Python 3.3,and in 3.9 it will stop working\n",
            "  from collections import Iterable\n",
            "/usr/local/lib/python3.7/dist-packages/past/builtins/misc.py:4: DeprecationWarning: Using or importing the ABCs from 'collections' instead of from 'collections.abc' is deprecated since Python 3.3,and in 3.9 it will stop working\n",
            "  from collections import Mapping\n"
          ]
        }
      ]
    },
    {
      "cell_type": "code",
      "source": [
        "from sklearn.feature_extraction.text import CountVectorizer\n",
        "import gensim\n",
        "import gensim.corpora as corpora\n",
        "from gensim.utils import simple_preprocess\n",
        "from gensim.models import CoherenceModel\n",
        "from gensim.models.doc2vec import Doc2Vec, TaggedDocument\n",
        "from gensim.models.ldamulticore import LdaMulticore\n",
        "from tqdm import tqdm"
      ],
      "metadata": {
        "colab": {
          "base_uri": "https://localhost:8080/"
        },
        "id": "YK4a0zoxTbBw",
        "outputId": "1b0f7687-a476-4f9a-becb-a17f1aef1332"
      },
      "execution_count": 4,
      "outputs": [
        {
          "output_type": "stream",
          "name": "stderr",
          "text": [
            "/usr/local/lib/python3.7/dist-packages/scipy/sparse/sparsetools.py:21: DeprecationWarning: `scipy.sparse.sparsetools` is deprecated!\n",
            "scipy.sparse.sparsetools is a private module for scipy.sparse, and should not be used.\n",
            "  _deprecated()\n"
          ]
        }
      ]
    },
    {
      "cell_type": "code",
      "source": [
        "import matplotlib.colors as mcolors\n",
        "%matplotlib inline\n",
        "from wordcloud import WordCloud, STOPWORDS"
      ],
      "metadata": {
        "id": "JT_iCIggUWFJ"
      },
      "execution_count": 5,
      "outputs": []
    },
    {
      "cell_type": "code",
      "source": [
        "from google.colab import drive\n",
        "drive.mount('/content/drive')"
      ],
      "metadata": {
        "colab": {
          "base_uri": "https://localhost:8080/"
        },
        "id": "Vsss-f5kP5Zl",
        "outputId": "924ab505-f3e0-4d39-ccc1-9876aed0fa2b"
      },
      "execution_count": 6,
      "outputs": [
        {
          "output_type": "stream",
          "name": "stdout",
          "text": [
            "Drive already mounted at /content/drive; to attempt to forcibly remount, call drive.mount(\"/content/drive\", force_remount=True).\n"
          ]
        }
      ]
    },
    {
      "cell_type": "code",
      "execution_count": 7,
      "metadata": {
        "id": "tYzY7cd_5jV5"
      },
      "outputs": [],
      "source": [
        "files = os.listdir('/content/drive/MyDrive/NLP/2021')"
      ]
    },
    {
      "cell_type": "code",
      "execution_count": 8,
      "metadata": {
        "colab": {
          "base_uri": "https://localhost:8080/"
        },
        "id": "Whx_M0EU5tlG",
        "outputId": "f6d37bcf-afa4-4107-e21d-1e59aeee26d3"
      },
      "outputs": [
        {
          "output_type": "execute_result",
          "data": {
            "text/plain": [
              "['pessoas.csv',\n",
              " 'membrocons.csv',\n",
              " 'comissao.csv',\n",
              " 'memcomissao.csv',\n",
              " 'licitacao.csv',\n",
              " 'licitante.csv',\n",
              " 'dotacao_lic.csv',\n",
              " 'evento_lic.csv',\n",
              " 'documento_lic.csv',\n",
              " 'lote.csv',\n",
              " 'item.csv',\n",
              " 'proposta.csv',\n",
              " 'lote_prop.csv',\n",
              " 'item_prop.csv']"
            ]
          },
          "metadata": {},
          "execution_count": 8
        }
      ],
      "source": [
        "files"
      ]
    },
    {
      "cell_type": "code",
      "execution_count": 9,
      "metadata": {
        "id": "yOtGZh0fvKIE"
      },
      "outputs": [],
      "source": [
        "licitacao = pd.read_csv('/content/drive/MyDrive/NLP/2021/' + files[4])\n",
        "item = pd.read_csv('/content/drive/MyDrive/NLP/2021/' + files[10])"
      ]
    },
    {
      "cell_type": "markdown",
      "metadata": {
        "id": "RBGu3lHxumUV"
      },
      "source": [
        "### Pré-processamento Dados"
      ]
    },
    {
      "cell_type": "code",
      "execution_count": 10,
      "metadata": {
        "id": "UIIZNLXs9M-a"
      },
      "outputs": [],
      "source": [
        "cols = ['CD_ORGAO', 'NM_ORGAO', 'NR_LICITACAO', 'CD_TIPO_MODALIDADE','DS_OBJETO', 'VL_LICITACAO', 'BL_COVID19']\n",
        "licitacao_21 = licitacao[cols]"
      ]
    },
    {
      "cell_type": "code",
      "execution_count": 11,
      "metadata": {
        "id": "pfVB-X1dxzRf"
      },
      "outputs": [],
      "source": [
        "licitacao_21 = licitacao_21.dropna()"
      ]
    },
    {
      "cell_type": "code",
      "execution_count": 12,
      "metadata": {
        "colab": {
          "base_uri": "https://localhost:8080/",
          "height": 433
        },
        "id": "LBRRVx8JHc77",
        "outputId": "075d5772-3073-4c13-c478-f97dd9a454ee"
      },
      "outputs": [
        {
          "output_type": "execute_result",
          "data": {
            "text/html": [
              "\n",
              "  <div id=\"df-e03450f6-afc9-4ab9-bb07-35a7775f2d01\">\n",
              "    <div class=\"colab-df-container\">\n",
              "      <div>\n",
              "<style scoped>\n",
              "    .dataframe tbody tr th:only-of-type {\n",
              "        vertical-align: middle;\n",
              "    }\n",
              "\n",
              "    .dataframe tbody tr th {\n",
              "        vertical-align: top;\n",
              "    }\n",
              "\n",
              "    .dataframe thead th {\n",
              "        text-align: right;\n",
              "    }\n",
              "</style>\n",
              "<table border=\"1\" class=\"dataframe\">\n",
              "  <thead>\n",
              "    <tr style=\"text-align: right;\">\n",
              "      <th></th>\n",
              "      <th>CD_ORGAO</th>\n",
              "      <th>NM_ORGAO</th>\n",
              "      <th>NR_LICITACAO</th>\n",
              "      <th>CD_TIPO_MODALIDADE</th>\n",
              "      <th>DS_OBJETO</th>\n",
              "      <th>VL_LICITACAO</th>\n",
              "      <th>BL_COVID19</th>\n",
              "    </tr>\n",
              "  </thead>\n",
              "  <tbody>\n",
              "    <tr>\n",
              "      <th>0</th>\n",
              "      <td>53100</td>\n",
              "      <td>PM DE NOVA PALMA</td>\n",
              "      <td>1.0</td>\n",
              "      <td>TMP</td>\n",
              "      <td>CONTRATAÇÃO GLOBAL DE EMPRESA PARA CONSTRUÇÃO ...</td>\n",
              "      <td>259765.0</td>\n",
              "      <td>N</td>\n",
              "    </tr>\n",
              "    <tr>\n",
              "      <th>1</th>\n",
              "      <td>86800</td>\n",
              "      <td>PM DE BOA VISTA DO SUL</td>\n",
              "      <td>2.0</td>\n",
              "      <td>PRP</td>\n",
              "      <td>Contratação de empresa para prestação de servi...</td>\n",
              "      <td>390625.0</td>\n",
              "      <td>N</td>\n",
              "    </tr>\n",
              "    <tr>\n",
              "      <th>2</th>\n",
              "      <td>45003</td>\n",
              "      <td>SERVIÇO AUTÔN. MUN. DE ÁGUA E ESGOTO - CX.SUL</td>\n",
              "      <td>46.0</td>\n",
              "      <td>PRP</td>\n",
              "      <td>Aquisição de 80.000 (oitenta mil) quilogramas ...</td>\n",
              "      <td>833800.0</td>\n",
              "      <td>N</td>\n",
              "    </tr>\n",
              "  </tbody>\n",
              "</table>\n",
              "</div>\n",
              "      <button class=\"colab-df-convert\" onclick=\"convertToInteractive('df-e03450f6-afc9-4ab9-bb07-35a7775f2d01')\"\n",
              "              title=\"Convert this dataframe to an interactive table.\"\n",
              "              style=\"display:none;\">\n",
              "        \n",
              "  <svg xmlns=\"http://www.w3.org/2000/svg\" height=\"24px\"viewBox=\"0 0 24 24\"\n",
              "       width=\"24px\">\n",
              "    <path d=\"M0 0h24v24H0V0z\" fill=\"none\"/>\n",
              "    <path d=\"M18.56 5.44l.94 2.06.94-2.06 2.06-.94-2.06-.94-.94-2.06-.94 2.06-2.06.94zm-11 1L8.5 8.5l.94-2.06 2.06-.94-2.06-.94L8.5 2.5l-.94 2.06-2.06.94zm10 10l.94 2.06.94-2.06 2.06-.94-2.06-.94-.94-2.06-.94 2.06-2.06.94z\"/><path d=\"M17.41 7.96l-1.37-1.37c-.4-.4-.92-.59-1.43-.59-.52 0-1.04.2-1.43.59L10.3 9.45l-7.72 7.72c-.78.78-.78 2.05 0 2.83L4 21.41c.39.39.9.59 1.41.59.51 0 1.02-.2 1.41-.59l7.78-7.78 2.81-2.81c.8-.78.8-2.07 0-2.86zM5.41 20L4 18.59l7.72-7.72 1.47 1.35L5.41 20z\"/>\n",
              "  </svg>\n",
              "      </button>\n",
              "      \n",
              "  <style>\n",
              "    .colab-df-container {\n",
              "      display:flex;\n",
              "      flex-wrap:wrap;\n",
              "      gap: 12px;\n",
              "    }\n",
              "\n",
              "    .colab-df-convert {\n",
              "      background-color: #E8F0FE;\n",
              "      border: none;\n",
              "      border-radius: 50%;\n",
              "      cursor: pointer;\n",
              "      display: none;\n",
              "      fill: #1967D2;\n",
              "      height: 32px;\n",
              "      padding: 0 0 0 0;\n",
              "      width: 32px;\n",
              "    }\n",
              "\n",
              "    .colab-df-convert:hover {\n",
              "      background-color: #E2EBFA;\n",
              "      box-shadow: 0px 1px 2px rgba(60, 64, 67, 0.3), 0px 1px 3px 1px rgba(60, 64, 67, 0.15);\n",
              "      fill: #174EA6;\n",
              "    }\n",
              "\n",
              "    [theme=dark] .colab-df-convert {\n",
              "      background-color: #3B4455;\n",
              "      fill: #D2E3FC;\n",
              "    }\n",
              "\n",
              "    [theme=dark] .colab-df-convert:hover {\n",
              "      background-color: #434B5C;\n",
              "      box-shadow: 0px 1px 3px 1px rgba(0, 0, 0, 0.15);\n",
              "      filter: drop-shadow(0px 1px 2px rgba(0, 0, 0, 0.3));\n",
              "      fill: #FFFFFF;\n",
              "    }\n",
              "  </style>\n",
              "\n",
              "      <script>\n",
              "        const buttonEl =\n",
              "          document.querySelector('#df-e03450f6-afc9-4ab9-bb07-35a7775f2d01 button.colab-df-convert');\n",
              "        buttonEl.style.display =\n",
              "          google.colab.kernel.accessAllowed ? 'block' : 'none';\n",
              "\n",
              "        async function convertToInteractive(key) {\n",
              "          const element = document.querySelector('#df-e03450f6-afc9-4ab9-bb07-35a7775f2d01');\n",
              "          const dataTable =\n",
              "            await google.colab.kernel.invokeFunction('convertToInteractive',\n",
              "                                                     [key], {});\n",
              "          if (!dataTable) return;\n",
              "\n",
              "          const docLinkHtml = 'Like what you see? Visit the ' +\n",
              "            '<a target=\"_blank\" href=https://colab.research.google.com/notebooks/data_table.ipynb>data table notebook</a>'\n",
              "            + ' to learn more about interactive tables.';\n",
              "          element.innerHTML = '';\n",
              "          dataTable['output_type'] = 'display_data';\n",
              "          await google.colab.output.renderOutput(dataTable, element);\n",
              "          const docLink = document.createElement('div');\n",
              "          docLink.innerHTML = docLinkHtml;\n",
              "          element.appendChild(docLink);\n",
              "        }\n",
              "      </script>\n",
              "    </div>\n",
              "  </div>\n",
              "  "
            ],
            "text/plain": [
              "   CD_ORGAO  ... BL_COVID19\n",
              "0     53100  ...          N\n",
              "1     86800  ...          N\n",
              "2     45003  ...          N\n",
              "\n",
              "[3 rows x 7 columns]"
            ]
          },
          "metadata": {},
          "execution_count": 12
        }
      ],
      "source": [
        "licitacao_21.head(3)"
      ]
    },
    {
      "cell_type": "code",
      "execution_count": 13,
      "metadata": {
        "id": "x8R4Y7eD9UTI"
      },
      "outputs": [],
      "source": [
        "item_licitacao = item.iloc[:, 0:12]\n",
        "item_licitacao['BL_COVID19'] = item['BL_COVID19'] "
      ]
    },
    {
      "cell_type": "code",
      "execution_count": 14,
      "metadata": {
        "colab": {
          "base_uri": "https://localhost:8080/"
        },
        "id": "Ap2LJwwzyBAv",
        "outputId": "21f9ed14-5fdd-4ff2-cb87-835930234469"
      },
      "outputs": [
        {
          "output_type": "execute_result",
          "data": {
            "text/plain": [
              "CD_ORGAO                    0\n",
              "NR_LICITACAO                0\n",
              "ANO_LICITACAO               0\n",
              "CD_TIPO_MODALIDADE          0\n",
              "NR_LOTE                     0\n",
              "NR_ITEM                     0\n",
              "NR_ITEM_ORIGINAL            0\n",
              "DS_ITEM                     1\n",
              "QT_ITENS                    0\n",
              "SG_UNIDADE_MEDIDA           0\n",
              "VL_UNITARIO_ESTIMADO    39446\n",
              "VL_TOTAL_ESTIMADO       39446\n",
              "BL_COVID19                  0\n",
              "dtype: int64"
            ]
          },
          "metadata": {},
          "execution_count": 14
        }
      ],
      "source": [
        "item_licitacao.isna().sum()"
      ]
    },
    {
      "cell_type": "code",
      "execution_count": 15,
      "metadata": {
        "id": "O2q1xeSWxKem"
      },
      "outputs": [],
      "source": [
        "item_licitacao = item_licitacao.dropna()"
      ]
    },
    {
      "cell_type": "code",
      "execution_count": 16,
      "metadata": {
        "colab": {
          "base_uri": "https://localhost:8080/"
        },
        "id": "qAmKnZLfx-Pw",
        "outputId": "2b3d30fa-deb6-4f97-faea-4c29e4690aba"
      },
      "outputs": [
        {
          "output_type": "execute_result",
          "data": {
            "text/plain": [
              "(87469, 932800)"
            ]
          },
          "metadata": {},
          "execution_count": 16
        }
      ],
      "source": [
        "len(licitacao_21), len(item_licitacao)"
      ]
    },
    {
      "cell_type": "code",
      "execution_count": 17,
      "metadata": {
        "id": "VbNGsWkByJ4T"
      },
      "outputs": [],
      "source": [
        "licitacao_21['covid'] = np.where((licitacao_21['BL_COVID19'] == 'S'), ' covid19', '')\n",
        "licitacao_21['DS_OBJETO'] = licitacao_21['DS_OBJETO'] + licitacao_21['covid']"
      ]
    },
    {
      "cell_type": "code",
      "execution_count": 18,
      "metadata": {
        "id": "SPpubdTYGwtT"
      },
      "outputs": [],
      "source": [
        "licitacao_21 = licitacao_21.drop(['BL_COVID19', 'covid'], axis = 1)"
      ]
    },
    {
      "cell_type": "code",
      "execution_count": 19,
      "metadata": {
        "id": "jxrbDs0exJtm"
      },
      "outputs": [],
      "source": [
        "item_licitacao['covid'] = np.where((item_licitacao['BL_COVID19'] == 'S'), ' covid19', '')\n",
        "item_licitacao['DS_ITEM'] = item_licitacao['DS_ITEM'] + item_licitacao['covid']"
      ]
    },
    {
      "cell_type": "code",
      "execution_count": 20,
      "metadata": {
        "id": "evpu74VeEj2O"
      },
      "outputs": [],
      "source": [
        "item_licitacao = item_licitacao.drop(['BL_COVID19', 'covid'], axis = 1)"
      ]
    },
    {
      "cell_type": "code",
      "execution_count": 21,
      "metadata": {
        "colab": {
          "base_uri": "https://localhost:8080/",
          "height": 381
        },
        "id": "f4FM6DJGEeaZ",
        "outputId": "cb0e9b2b-ed4c-4e76-ee4a-7592e641467c"
      },
      "outputs": [
        {
          "output_type": "execute_result",
          "data": {
            "text/html": [
              "\n",
              "  <div id=\"df-ed57d54b-ba7a-4755-bdd0-0976024e288c\">\n",
              "    <div class=\"colab-df-container\">\n",
              "      <div>\n",
              "<style scoped>\n",
              "    .dataframe tbody tr th:only-of-type {\n",
              "        vertical-align: middle;\n",
              "    }\n",
              "\n",
              "    .dataframe tbody tr th {\n",
              "        vertical-align: top;\n",
              "    }\n",
              "\n",
              "    .dataframe thead th {\n",
              "        text-align: right;\n",
              "    }\n",
              "</style>\n",
              "<table border=\"1\" class=\"dataframe\">\n",
              "  <thead>\n",
              "    <tr style=\"text-align: right;\">\n",
              "      <th></th>\n",
              "      <th>CD_ORGAO</th>\n",
              "      <th>NR_LICITACAO</th>\n",
              "      <th>CD_TIPO_MODALIDADE</th>\n",
              "      <th>NR_LOTE</th>\n",
              "      <th>NR_ITEM</th>\n",
              "      <th>NR_ITEM_ORIGINAL</th>\n",
              "      <th>DS_ITEM</th>\n",
              "      <th>QT_ITENS</th>\n",
              "      <th>SG_UNIDADE_MEDIDA</th>\n",
              "      <th>VL_UNITARIO_ESTIMADO</th>\n",
              "      <th>VL_TOTAL_ESTIMADO</th>\n",
              "    </tr>\n",
              "  </thead>\n",
              "  <tbody>\n",
              "    <tr>\n",
              "      <th>0</th>\n",
              "      <td>44500</td>\n",
              "      <td>274.0</td>\n",
              "      <td>CPC</td>\n",
              "      <td>1</td>\n",
              "      <td>1</td>\n",
              "      <td>1</td>\n",
              "      <td>Credenciamento de academias de ginástica e mus...</td>\n",
              "      <td>1.0</td>\n",
              "      <td>UN</td>\n",
              "      <td>50.00</td>\n",
              "      <td>50.00</td>\n",
              "    </tr>\n",
              "    <tr>\n",
              "      <th>1</th>\n",
              "      <td>56900</td>\n",
              "      <td>25.0</td>\n",
              "      <td>TMP</td>\n",
              "      <td>1</td>\n",
              "      <td>1</td>\n",
              "      <td>1.1</td>\n",
              "      <td>PLACA DE OBRA (PARA CONSTRUCAO CIVIL) EM CHAPA...</td>\n",
              "      <td>6.0</td>\n",
              "      <td>M2</td>\n",
              "      <td>272.49</td>\n",
              "      <td>1634.94</td>\n",
              "    </tr>\n",
              "    <tr>\n",
              "      <th>2</th>\n",
              "      <td>56900</td>\n",
              "      <td>25.0</td>\n",
              "      <td>TMP</td>\n",
              "      <td>1</td>\n",
              "      <td>2</td>\n",
              "      <td>1.2</td>\n",
              "      <td>TAPUME COM COMPENSADO DE MADEIRA. AF_05/2018</td>\n",
              "      <td>71.0</td>\n",
              "      <td>M2</td>\n",
              "      <td>128.69</td>\n",
              "      <td>9136.99</td>\n",
              "    </tr>\n",
              "  </tbody>\n",
              "</table>\n",
              "</div>\n",
              "      <button class=\"colab-df-convert\" onclick=\"convertToInteractive('df-ed57d54b-ba7a-4755-bdd0-0976024e288c')\"\n",
              "              title=\"Convert this dataframe to an interactive table.\"\n",
              "              style=\"display:none;\">\n",
              "        \n",
              "  <svg xmlns=\"http://www.w3.org/2000/svg\" height=\"24px\"viewBox=\"0 0 24 24\"\n",
              "       width=\"24px\">\n",
              "    <path d=\"M0 0h24v24H0V0z\" fill=\"none\"/>\n",
              "    <path d=\"M18.56 5.44l.94 2.06.94-2.06 2.06-.94-2.06-.94-.94-2.06-.94 2.06-2.06.94zm-11 1L8.5 8.5l.94-2.06 2.06-.94-2.06-.94L8.5 2.5l-.94 2.06-2.06.94zm10 10l.94 2.06.94-2.06 2.06-.94-2.06-.94-.94-2.06-.94 2.06-2.06.94z\"/><path d=\"M17.41 7.96l-1.37-1.37c-.4-.4-.92-.59-1.43-.59-.52 0-1.04.2-1.43.59L10.3 9.45l-7.72 7.72c-.78.78-.78 2.05 0 2.83L4 21.41c.39.39.9.59 1.41.59.51 0 1.02-.2 1.41-.59l7.78-7.78 2.81-2.81c.8-.78.8-2.07 0-2.86zM5.41 20L4 18.59l7.72-7.72 1.47 1.35L5.41 20z\"/>\n",
              "  </svg>\n",
              "      </button>\n",
              "      \n",
              "  <style>\n",
              "    .colab-df-container {\n",
              "      display:flex;\n",
              "      flex-wrap:wrap;\n",
              "      gap: 12px;\n",
              "    }\n",
              "\n",
              "    .colab-df-convert {\n",
              "      background-color: #E8F0FE;\n",
              "      border: none;\n",
              "      border-radius: 50%;\n",
              "      cursor: pointer;\n",
              "      display: none;\n",
              "      fill: #1967D2;\n",
              "      height: 32px;\n",
              "      padding: 0 0 0 0;\n",
              "      width: 32px;\n",
              "    }\n",
              "\n",
              "    .colab-df-convert:hover {\n",
              "      background-color: #E2EBFA;\n",
              "      box-shadow: 0px 1px 2px rgba(60, 64, 67, 0.3), 0px 1px 3px 1px rgba(60, 64, 67, 0.15);\n",
              "      fill: #174EA6;\n",
              "    }\n",
              "\n",
              "    [theme=dark] .colab-df-convert {\n",
              "      background-color: #3B4455;\n",
              "      fill: #D2E3FC;\n",
              "    }\n",
              "\n",
              "    [theme=dark] .colab-df-convert:hover {\n",
              "      background-color: #434B5C;\n",
              "      box-shadow: 0px 1px 3px 1px rgba(0, 0, 0, 0.15);\n",
              "      filter: drop-shadow(0px 1px 2px rgba(0, 0, 0, 0.3));\n",
              "      fill: #FFFFFF;\n",
              "    }\n",
              "  </style>\n",
              "\n",
              "      <script>\n",
              "        const buttonEl =\n",
              "          document.querySelector('#df-ed57d54b-ba7a-4755-bdd0-0976024e288c button.colab-df-convert');\n",
              "        buttonEl.style.display =\n",
              "          google.colab.kernel.accessAllowed ? 'block' : 'none';\n",
              "\n",
              "        async function convertToInteractive(key) {\n",
              "          const element = document.querySelector('#df-ed57d54b-ba7a-4755-bdd0-0976024e288c');\n",
              "          const dataTable =\n",
              "            await google.colab.kernel.invokeFunction('convertToInteractive',\n",
              "                                                     [key], {});\n",
              "          if (!dataTable) return;\n",
              "\n",
              "          const docLinkHtml = 'Like what you see? Visit the ' +\n",
              "            '<a target=\"_blank\" href=https://colab.research.google.com/notebooks/data_table.ipynb>data table notebook</a>'\n",
              "            + ' to learn more about interactive tables.';\n",
              "          element.innerHTML = '';\n",
              "          dataTable['output_type'] = 'display_data';\n",
              "          await google.colab.output.renderOutput(dataTable, element);\n",
              "          const docLink = document.createElement('div');\n",
              "          docLink.innerHTML = docLinkHtml;\n",
              "          element.appendChild(docLink);\n",
              "        }\n",
              "      </script>\n",
              "    </div>\n",
              "  </div>\n",
              "  "
            ],
            "text/plain": [
              "   CD_ORGAO  NR_LICITACAO  ... VL_UNITARIO_ESTIMADO  VL_TOTAL_ESTIMADO\n",
              "0     44500         274.0  ...                50.00              50.00\n",
              "1     56900          25.0  ...               272.49            1634.94\n",
              "2     56900          25.0  ...               128.69            9136.99\n",
              "\n",
              "[3 rows x 11 columns]"
            ]
          },
          "metadata": {},
          "execution_count": 21
        }
      ],
      "source": [
        "item_licitacao['ANO_LICITACAO'].unique()\n",
        "item_licitacao.drop(['ANO_LICITACAO'], axis = 1).head(3)"
      ]
    },
    {
      "cell_type": "markdown",
      "metadata": {
        "id": "wmZpI_COxX7Y"
      },
      "source": [
        "### Pré-processamento Texto"
      ]
    },
    {
      "cell_type": "code",
      "execution_count": 7,
      "metadata": {
        "colab": {
          "base_uri": "https://localhost:8080/"
        },
        "id": "CmrMGEJoJSSW",
        "outputId": "e3a540bc-bf7b-4b0d-8239-3b68f8ecbcbf"
      },
      "outputs": [
        {
          "output_type": "stream",
          "name": "stderr",
          "text": [
            "/usr/local/lib/python3.7/dist-packages/catalogue.py:138: DeprecationWarning: SelectableGroups dict interface is deprecated. Use select.\n",
            "  for entry_point in AVAILABLE_ENTRY_POINTS.get(self.entry_point_namespace, []):\n",
            "/usr/local/lib/python3.7/dist-packages/catalogue.py:138: DeprecationWarning: SelectableGroups dict interface is deprecated. Use select.\n",
            "  for entry_point in AVAILABLE_ENTRY_POINTS.get(self.entry_point_namespace, []):\n",
            "/usr/local/lib/python3.7/dist-packages/catalogue.py:126: DeprecationWarning: SelectableGroups dict interface is deprecated. Use select.\n",
            "  for entry_point in AVAILABLE_ENTRY_POINTS.get(self.entry_point_namespace, []):\n",
            "/usr/local/lib/python3.7/dist-packages/catalogue.py:138: DeprecationWarning: SelectableGroups dict interface is deprecated. Use select.\n",
            "  for entry_point in AVAILABLE_ENTRY_POINTS.get(self.entry_point_namespace, []):\n"
          ]
        },
        {
          "output_type": "stream",
          "name": "stdout",
          "text": [
            "[nltk_data] Downloading package stopwords to /root/nltk_data...\n",
            "[nltk_data]   Unzipping corpora/stopwords.zip.\n"
          ]
        },
        {
          "output_type": "execute_result",
          "data": {
            "text/plain": [
              "True"
            ]
          },
          "metadata": {},
          "execution_count": 7
        }
      ],
      "source": [
        "nlp=spacy.load(\"pt_core_news_sm\")\n",
        "nltk.download('stopwords')"
      ]
    },
    {
      "cell_type": "code",
      "execution_count": 8,
      "metadata": {
        "id": "H79BHICwPuKY"
      },
      "outputs": [],
      "source": [
        "stopwords = nltk.corpus.stopwords.words('portuguese')\n",
        "\n",
        "filter_out = stopwords + ['kg', 'm', 'cm', 'mm', 'mg', 'ml', 'm²', '-', '+', '=', 'mcg', 'nº', 'g', 'ª', 'º', '_']"
      ]
    },
    {
      "cell_type": "code",
      "source": [
        "filter_out = filter_out + ['cor', 'cores', 'un', 'branco', 'unidades', \n",
        "'litros', 'af', 'mgml', 'nbr', 'dn', 'eou', 'referência', 'conforme',\n",
        "'demais', 'deverá', 'tipo', 'r', 'gb', 'km']"
      ],
      "metadata": {
        "id": "h5fO918DS97O"
      },
      "execution_count": 9,
      "outputs": []
    },
    {
      "cell_type": "code",
      "source": [
        "filter_out = filter_out + ['ca', 'cx', 'ser', 'novo', 'ano', 'gr', 'deve', 'data', 'contar', 'resistente', 'partir', 'in', 'boa', 'limpa', 'qualidade', 'tamanho', 'apresentar', 'estar']"
      ],
      "metadata": {
        "id": "y-nbRu-vS_HC"
      },
      "execution_count": 10,
      "outputs": []
    },
    {
      "cell_type": "markdown",
      "metadata": {
        "id": "1J7bEz7hPuKY"
      },
      "source": [
        "Para o pré-processamento do texto foi usado linguagem regular, a tabela abaixo contém algumas informações utéis para entender a função de pre_processing"
      ]
    },
    {
      "cell_type": "markdown",
      "metadata": {
        "id": "HztMGmKEPuKY"
      },
      "source": [
        "<table ><tr><th>Character</th><th>Description</th><th>Example Pattern Code</th><th >Exammple Match</th></tr>\n",
        "\n",
        "<tr ><td><span >\\d</span></td><td>A digit</td><td>file_\\d\\d</td><td>file_25</td></tr>\n",
        "\n",
        "<tr ><td><span >\\w</span></td><td>Alphanumeric</td><td>\\w-\\w\\w\\w</td><td>A-b_1</td></tr>\n",
        "\n",
        "\n",
        "\n",
        "<tr ><td><span >\\s</span></td><td>White space</td><td>a\\sb\\sc</td><td>a b c</td></tr>\n",
        "\n",
        "\n",
        "\n",
        "<tr ><td><span >\\D</span></td><td>A non digit</td><td>\\D\\D\\D</td><td>ABC</td></tr>\n",
        "\n",
        "<tr ><td><span >\\W</span></td><td>Non-alphanumeric</td><td>\\W\\W\\W\\W\\W</td><td>*-+=)</td></tr>\n",
        "\n",
        "<tr ><td><span >\\S</span></td><td>Non-whitespace</td><td>\\S\\S\\S\\S</td><td>Yoyo</td></tr></table>\n",
        "<table ><tr><th>Character</th><th>Description</th><th>Example Pattern Code</th><th >Exammple Match</th></tr>\n",
        "</br>\n",
        "<tr ><td><span >+</span></td><td>Occurs one or more times</td><td>\tVersion \\w-\\w+</td><td>Version A-b1_1</td></tr>\n",
        "\n",
        "<tr ><td><span >{3}</span></td><td>Occurs exactly 3 times</td><td>\\D{3}</td><td>abc</td></tr>\n",
        "\n",
        "\n",
        "\n",
        "<tr ><td><span >{2,4}</span></td><td>Occurs 2 to 4 times</td><td>\\d{2,4}</td><td>123</td></tr>\n",
        "\n",
        "\n",
        "\n",
        "<tr ><td><span >{3,}</span></td><td>Occurs 3 or more</td><td>\\w{3,}</td><td>anycharacters</td></tr>\n",
        "\n",
        "<tr ><td><span >\\*</span></td><td>Occurs zero or more times</td><td>A\\*B\\*C*</td><td>AAACC</td></tr>\n",
        "\n",
        "<tr ><td><span >?</span></td><td>Once or none</td><td>plurals?</td><td>plural</td></tr></table>"
      ]
    },
    {
      "cell_type": "code",
      "execution_count": 26,
      "metadata": {
        "id": "3RSOJjOZPuKZ"
      },
      "outputs": [],
      "source": [
        "def pre_processing(sentence):\n",
        "    sentence = sentence.lower()\n",
        "    sentence = re.sub(r\"[^\\w\\s]\", \"\", sentence)\n",
        "    sentence = re.sub(r\"[0-9]+\", \"\", sentence)\n",
        "    sentence = re.sub(r\"/+\", \"\", sentence)\n",
        "    sentence = re.sub(r\" {2,}\", \" \", sentence)\n",
        "\n",
        "    #Tokenização\n",
        "    doc = nlp(sentence)\n",
        "\n",
        "    tokens=[token.text for token in doc]\n",
        "    tokens=[token for token in tokens if token not in filter_out]\n",
        "\n",
        "    return tokens\n"
      ]
    },
    {
      "cell_type": "code",
      "execution_count": 27,
      "metadata": {
        "colab": {
          "base_uri": "https://localhost:8080/"
        },
        "id": "1GOaH9opPuKZ",
        "outputId": "2d11d38e-8a5c-4acb-b195-81814821685f"
      },
      "outputs": [
        {
          "output_type": "stream",
          "name": "stdout",
          "text": [
            "['testando', 'aa']\n"
          ]
        }
      ],
      "source": [
        "print(pre_processing('testando 1 2 3 aa'))"
      ]
    },
    {
      "cell_type": "code",
      "execution_count": 28,
      "metadata": {
        "id": "GOlaJk0SPuKa"
      },
      "outputs": [],
      "source": [
        "item_licitacao['DS_ITEM_TOKEN'] = item_licitacao['DS_ITEM'].apply(lambda sentece: pre_processing(sentece))\n"
      ]
    },
    {
      "cell_type": "code",
      "execution_count": null,
      "metadata": {
        "id": "KxiYMCWwPuKa"
      },
      "outputs": [],
      "source": [
        "item_licitacao.to_csv('item_licitacao_token.csv')"
      ]
    },
    {
      "cell_type": "code",
      "execution_count": 30,
      "metadata": {
        "id": "XT0lHxIePuKa"
      },
      "outputs": [],
      "source": [
        "licitacao_21['DS_OBJETO_TOKEN'] = licitacao_21['DS_OBJETO'].apply(lambda sentece: pre_processing(sentece))\n"
      ]
    },
    {
      "cell_type": "code",
      "execution_count": 31,
      "metadata": {
        "id": "HFK55-MHPuKa"
      },
      "outputs": [],
      "source": [
        "licitacao_21.to_csv('licitacao_21_token.csv')"
      ]
    },
    {
      "cell_type": "markdown",
      "metadata": {
        "id": "9SaqqMLSz83K"
      },
      "source": [
        "### Construção dos modelos"
      ]
    },
    {
      "cell_type": "markdown",
      "metadata": {
        "id": "Zckrjxy8PuKa"
      },
      "source": [
        "Counter Vectorizarion -> contar a ocorrência de cada palavra para mapear o texto para um número\n",
        "\n",
        "CounterVectorizer\n",
        "\n",
        "TfidfVectorizer -> cria a mais uma matriz de termos de documento a partir de nossas mensagens.\n",
        "No entanto, em vez de preencher o DTM com contagens de token, ele calcula o valor da frequência do documento inverso da frequência do termo para cada palavra (TF-IDF).\n",
        "Um fator de frequência de documento inverso é incorporado, o que diminui o peso dos termos que ocorrem com muita frequência no conjunto de documentos e aumenta o peso dos termos que ocorrem raramente.\n"
      ]
    },
    {
      "cell_type": "code",
      "execution_count": 32,
      "metadata": {
        "id": "Kfc14x1Mz_6k",
        "colab": {
          "base_uri": "https://localhost:8080/",
          "height": 433
        },
        "outputId": "673e6524-3855-4628-99a9-48c45765cd25"
      },
      "outputs": [
        {
          "output_type": "execute_result",
          "data": {
            "text/html": [
              "\n",
              "  <div id=\"df-90af3bca-2829-484d-a01e-900ce6cb9d69\">\n",
              "    <div class=\"colab-df-container\">\n",
              "      <div>\n",
              "<style scoped>\n",
              "    .dataframe tbody tr th:only-of-type {\n",
              "        vertical-align: middle;\n",
              "    }\n",
              "\n",
              "    .dataframe tbody tr th {\n",
              "        vertical-align: top;\n",
              "    }\n",
              "\n",
              "    .dataframe thead th {\n",
              "        text-align: right;\n",
              "    }\n",
              "</style>\n",
              "<table border=\"1\" class=\"dataframe\">\n",
              "  <thead>\n",
              "    <tr style=\"text-align: right;\">\n",
              "      <th></th>\n",
              "      <th>CD_ORGAO</th>\n",
              "      <th>NM_ORGAO</th>\n",
              "      <th>NR_LICITACAO</th>\n",
              "      <th>CD_TIPO_MODALIDADE</th>\n",
              "      <th>DS_OBJETO</th>\n",
              "      <th>VL_LICITACAO</th>\n",
              "      <th>DS_OBJETO_TOKEN</th>\n",
              "    </tr>\n",
              "  </thead>\n",
              "  <tbody>\n",
              "    <tr>\n",
              "      <th>0</th>\n",
              "      <td>53100</td>\n",
              "      <td>PM DE NOVA PALMA</td>\n",
              "      <td>1.0</td>\n",
              "      <td>TMP</td>\n",
              "      <td>CONTRATAÇÃO GLOBAL DE EMPRESA PARA CONSTRUÇÃO ...</td>\n",
              "      <td>259765.0</td>\n",
              "      <td>[contratação, global, empresa, construção, par...</td>\n",
              "    </tr>\n",
              "    <tr>\n",
              "      <th>1</th>\n",
              "      <td>86800</td>\n",
              "      <td>PM DE BOA VISTA DO SUL</td>\n",
              "      <td>2.0</td>\n",
              "      <td>PRP</td>\n",
              "      <td>Contratação de empresa para prestação de servi...</td>\n",
              "      <td>390625.0</td>\n",
              "      <td>[contratação, empresa, prestação, serviços, tr...</td>\n",
              "    </tr>\n",
              "    <tr>\n",
              "      <th>2</th>\n",
              "      <td>45003</td>\n",
              "      <td>SERVIÇO AUTÔN. MUN. DE ÁGUA E ESGOTO - CX.SUL</td>\n",
              "      <td>46.0</td>\n",
              "      <td>PRP</td>\n",
              "      <td>Aquisição de 80.000 (oitenta mil) quilogramas ...</td>\n",
              "      <td>833800.0</td>\n",
              "      <td>[aquisição, oitenta, mil, quilogramas, ortopol...</td>\n",
              "    </tr>\n",
              "  </tbody>\n",
              "</table>\n",
              "</div>\n",
              "      <button class=\"colab-df-convert\" onclick=\"convertToInteractive('df-90af3bca-2829-484d-a01e-900ce6cb9d69')\"\n",
              "              title=\"Convert this dataframe to an interactive table.\"\n",
              "              style=\"display:none;\">\n",
              "        \n",
              "  <svg xmlns=\"http://www.w3.org/2000/svg\" height=\"24px\"viewBox=\"0 0 24 24\"\n",
              "       width=\"24px\">\n",
              "    <path d=\"M0 0h24v24H0V0z\" fill=\"none\"/>\n",
              "    <path d=\"M18.56 5.44l.94 2.06.94-2.06 2.06-.94-2.06-.94-.94-2.06-.94 2.06-2.06.94zm-11 1L8.5 8.5l.94-2.06 2.06-.94-2.06-.94L8.5 2.5l-.94 2.06-2.06.94zm10 10l.94 2.06.94-2.06 2.06-.94-2.06-.94-.94-2.06-.94 2.06-2.06.94z\"/><path d=\"M17.41 7.96l-1.37-1.37c-.4-.4-.92-.59-1.43-.59-.52 0-1.04.2-1.43.59L10.3 9.45l-7.72 7.72c-.78.78-.78 2.05 0 2.83L4 21.41c.39.39.9.59 1.41.59.51 0 1.02-.2 1.41-.59l7.78-7.78 2.81-2.81c.8-.78.8-2.07 0-2.86zM5.41 20L4 18.59l7.72-7.72 1.47 1.35L5.41 20z\"/>\n",
              "  </svg>\n",
              "      </button>\n",
              "      \n",
              "  <style>\n",
              "    .colab-df-container {\n",
              "      display:flex;\n",
              "      flex-wrap:wrap;\n",
              "      gap: 12px;\n",
              "    }\n",
              "\n",
              "    .colab-df-convert {\n",
              "      background-color: #E8F0FE;\n",
              "      border: none;\n",
              "      border-radius: 50%;\n",
              "      cursor: pointer;\n",
              "      display: none;\n",
              "      fill: #1967D2;\n",
              "      height: 32px;\n",
              "      padding: 0 0 0 0;\n",
              "      width: 32px;\n",
              "    }\n",
              "\n",
              "    .colab-df-convert:hover {\n",
              "      background-color: #E2EBFA;\n",
              "      box-shadow: 0px 1px 2px rgba(60, 64, 67, 0.3), 0px 1px 3px 1px rgba(60, 64, 67, 0.15);\n",
              "      fill: #174EA6;\n",
              "    }\n",
              "\n",
              "    [theme=dark] .colab-df-convert {\n",
              "      background-color: #3B4455;\n",
              "      fill: #D2E3FC;\n",
              "    }\n",
              "\n",
              "    [theme=dark] .colab-df-convert:hover {\n",
              "      background-color: #434B5C;\n",
              "      box-shadow: 0px 1px 3px 1px rgba(0, 0, 0, 0.15);\n",
              "      filter: drop-shadow(0px 1px 2px rgba(0, 0, 0, 0.3));\n",
              "      fill: #FFFFFF;\n",
              "    }\n",
              "  </style>\n",
              "\n",
              "      <script>\n",
              "        const buttonEl =\n",
              "          document.querySelector('#df-90af3bca-2829-484d-a01e-900ce6cb9d69 button.colab-df-convert');\n",
              "        buttonEl.style.display =\n",
              "          google.colab.kernel.accessAllowed ? 'block' : 'none';\n",
              "\n",
              "        async function convertToInteractive(key) {\n",
              "          const element = document.querySelector('#df-90af3bca-2829-484d-a01e-900ce6cb9d69');\n",
              "          const dataTable =\n",
              "            await google.colab.kernel.invokeFunction('convertToInteractive',\n",
              "                                                     [key], {});\n",
              "          if (!dataTable) return;\n",
              "\n",
              "          const docLinkHtml = 'Like what you see? Visit the ' +\n",
              "            '<a target=\"_blank\" href=https://colab.research.google.com/notebooks/data_table.ipynb>data table notebook</a>'\n",
              "            + ' to learn more about interactive tables.';\n",
              "          element.innerHTML = '';\n",
              "          dataTable['output_type'] = 'display_data';\n",
              "          await google.colab.output.renderOutput(dataTable, element);\n",
              "          const docLink = document.createElement('div');\n",
              "          docLink.innerHTML = docLinkHtml;\n",
              "          element.appendChild(docLink);\n",
              "        }\n",
              "      </script>\n",
              "    </div>\n",
              "  </div>\n",
              "  "
            ],
            "text/plain": [
              "   CD_ORGAO  ...                                    DS_OBJETO_TOKEN\n",
              "0     53100  ...  [contratação, global, empresa, construção, par...\n",
              "1     86800  ...  [contratação, empresa, prestação, serviços, tr...\n",
              "2     45003  ...  [aquisição, oitenta, mil, quilogramas, ortopol...\n",
              "\n",
              "[3 rows x 7 columns]"
            ]
          },
          "metadata": {},
          "execution_count": 32
        }
      ],
      "source": [
        "licitacao_21.head(3)"
      ]
    },
    {
      "cell_type": "code",
      "execution_count": 33,
      "metadata": {
        "colab": {
          "base_uri": "https://localhost:8080/",
          "height": 381
        },
        "id": "TWTo-YGXPuKb",
        "outputId": "f1560e19-cd3e-4684-a031-5467ed38d939"
      },
      "outputs": [
        {
          "output_type": "execute_result",
          "data": {
            "text/html": [
              "\n",
              "  <div id=\"df-88a7ddad-5158-4849-a189-d0434542e7d4\">\n",
              "    <div class=\"colab-df-container\">\n",
              "      <div>\n",
              "<style scoped>\n",
              "    .dataframe tbody tr th:only-of-type {\n",
              "        vertical-align: middle;\n",
              "    }\n",
              "\n",
              "    .dataframe tbody tr th {\n",
              "        vertical-align: top;\n",
              "    }\n",
              "\n",
              "    .dataframe thead th {\n",
              "        text-align: right;\n",
              "    }\n",
              "</style>\n",
              "<table border=\"1\" class=\"dataframe\">\n",
              "  <thead>\n",
              "    <tr style=\"text-align: right;\">\n",
              "      <th></th>\n",
              "      <th>CD_ORGAO</th>\n",
              "      <th>NR_LICITACAO</th>\n",
              "      <th>ANO_LICITACAO</th>\n",
              "      <th>CD_TIPO_MODALIDADE</th>\n",
              "      <th>NR_LOTE</th>\n",
              "      <th>NR_ITEM</th>\n",
              "      <th>NR_ITEM_ORIGINAL</th>\n",
              "      <th>DS_ITEM</th>\n",
              "      <th>QT_ITENS</th>\n",
              "      <th>SG_UNIDADE_MEDIDA</th>\n",
              "      <th>VL_UNITARIO_ESTIMADO</th>\n",
              "      <th>VL_TOTAL_ESTIMADO</th>\n",
              "      <th>DS_ITEM_TOKEN</th>\n",
              "    </tr>\n",
              "  </thead>\n",
              "  <tbody>\n",
              "    <tr>\n",
              "      <th>0</th>\n",
              "      <td>44500</td>\n",
              "      <td>274.0</td>\n",
              "      <td>2021</td>\n",
              "      <td>CPC</td>\n",
              "      <td>1</td>\n",
              "      <td>1</td>\n",
              "      <td>1</td>\n",
              "      <td>Credenciamento de academias de ginástica e mus...</td>\n",
              "      <td>1.0</td>\n",
              "      <td>UN</td>\n",
              "      <td>50.00</td>\n",
              "      <td>50.00</td>\n",
              "      <td>[credenciamento, academias, ginástica, muscula...</td>\n",
              "    </tr>\n",
              "    <tr>\n",
              "      <th>1</th>\n",
              "      <td>56900</td>\n",
              "      <td>25.0</td>\n",
              "      <td>2021</td>\n",
              "      <td>TMP</td>\n",
              "      <td>1</td>\n",
              "      <td>1</td>\n",
              "      <td>1.1</td>\n",
              "      <td>PLACA DE OBRA (PARA CONSTRUCAO CIVIL) EM CHAPA...</td>\n",
              "      <td>6.0</td>\n",
              "      <td>M2</td>\n",
              "      <td>272.49</td>\n",
              "      <td>1634.94</td>\n",
              "      <td>[placa, obra, construcao, civil, chapa, galvan...</td>\n",
              "    </tr>\n",
              "    <tr>\n",
              "      <th>2</th>\n",
              "      <td>56900</td>\n",
              "      <td>25.0</td>\n",
              "      <td>2021</td>\n",
              "      <td>TMP</td>\n",
              "      <td>1</td>\n",
              "      <td>2</td>\n",
              "      <td>1.2</td>\n",
              "      <td>TAPUME COM COMPENSADO DE MADEIRA. AF_05/2018</td>\n",
              "      <td>71.0</td>\n",
              "      <td>M2</td>\n",
              "      <td>128.69</td>\n",
              "      <td>9136.99</td>\n",
              "      <td>[tapume, compensado, madeira]</td>\n",
              "    </tr>\n",
              "  </tbody>\n",
              "</table>\n",
              "</div>\n",
              "      <button class=\"colab-df-convert\" onclick=\"convertToInteractive('df-88a7ddad-5158-4849-a189-d0434542e7d4')\"\n",
              "              title=\"Convert this dataframe to an interactive table.\"\n",
              "              style=\"display:none;\">\n",
              "        \n",
              "  <svg xmlns=\"http://www.w3.org/2000/svg\" height=\"24px\"viewBox=\"0 0 24 24\"\n",
              "       width=\"24px\">\n",
              "    <path d=\"M0 0h24v24H0V0z\" fill=\"none\"/>\n",
              "    <path d=\"M18.56 5.44l.94 2.06.94-2.06 2.06-.94-2.06-.94-.94-2.06-.94 2.06-2.06.94zm-11 1L8.5 8.5l.94-2.06 2.06-.94-2.06-.94L8.5 2.5l-.94 2.06-2.06.94zm10 10l.94 2.06.94-2.06 2.06-.94-2.06-.94-.94-2.06-.94 2.06-2.06.94z\"/><path d=\"M17.41 7.96l-1.37-1.37c-.4-.4-.92-.59-1.43-.59-.52 0-1.04.2-1.43.59L10.3 9.45l-7.72 7.72c-.78.78-.78 2.05 0 2.83L4 21.41c.39.39.9.59 1.41.59.51 0 1.02-.2 1.41-.59l7.78-7.78 2.81-2.81c.8-.78.8-2.07 0-2.86zM5.41 20L4 18.59l7.72-7.72 1.47 1.35L5.41 20z\"/>\n",
              "  </svg>\n",
              "      </button>\n",
              "      \n",
              "  <style>\n",
              "    .colab-df-container {\n",
              "      display:flex;\n",
              "      flex-wrap:wrap;\n",
              "      gap: 12px;\n",
              "    }\n",
              "\n",
              "    .colab-df-convert {\n",
              "      background-color: #E8F0FE;\n",
              "      border: none;\n",
              "      border-radius: 50%;\n",
              "      cursor: pointer;\n",
              "      display: none;\n",
              "      fill: #1967D2;\n",
              "      height: 32px;\n",
              "      padding: 0 0 0 0;\n",
              "      width: 32px;\n",
              "    }\n",
              "\n",
              "    .colab-df-convert:hover {\n",
              "      background-color: #E2EBFA;\n",
              "      box-shadow: 0px 1px 2px rgba(60, 64, 67, 0.3), 0px 1px 3px 1px rgba(60, 64, 67, 0.15);\n",
              "      fill: #174EA6;\n",
              "    }\n",
              "\n",
              "    [theme=dark] .colab-df-convert {\n",
              "      background-color: #3B4455;\n",
              "      fill: #D2E3FC;\n",
              "    }\n",
              "\n",
              "    [theme=dark] .colab-df-convert:hover {\n",
              "      background-color: #434B5C;\n",
              "      box-shadow: 0px 1px 3px 1px rgba(0, 0, 0, 0.15);\n",
              "      filter: drop-shadow(0px 1px 2px rgba(0, 0, 0, 0.3));\n",
              "      fill: #FFFFFF;\n",
              "    }\n",
              "  </style>\n",
              "\n",
              "      <script>\n",
              "        const buttonEl =\n",
              "          document.querySelector('#df-88a7ddad-5158-4849-a189-d0434542e7d4 button.colab-df-convert');\n",
              "        buttonEl.style.display =\n",
              "          google.colab.kernel.accessAllowed ? 'block' : 'none';\n",
              "\n",
              "        async function convertToInteractive(key) {\n",
              "          const element = document.querySelector('#df-88a7ddad-5158-4849-a189-d0434542e7d4');\n",
              "          const dataTable =\n",
              "            await google.colab.kernel.invokeFunction('convertToInteractive',\n",
              "                                                     [key], {});\n",
              "          if (!dataTable) return;\n",
              "\n",
              "          const docLinkHtml = 'Like what you see? Visit the ' +\n",
              "            '<a target=\"_blank\" href=https://colab.research.google.com/notebooks/data_table.ipynb>data table notebook</a>'\n",
              "            + ' to learn more about interactive tables.';\n",
              "          element.innerHTML = '';\n",
              "          dataTable['output_type'] = 'display_data';\n",
              "          await google.colab.output.renderOutput(dataTable, element);\n",
              "          const docLink = document.createElement('div');\n",
              "          docLink.innerHTML = docLinkHtml;\n",
              "          element.appendChild(docLink);\n",
              "        }\n",
              "      </script>\n",
              "    </div>\n",
              "  </div>\n",
              "  "
            ],
            "text/plain": [
              "   CD_ORGAO  ...                                      DS_ITEM_TOKEN\n",
              "0     44500  ...  [credenciamento, academias, ginástica, muscula...\n",
              "1     56900  ...  [placa, obra, construcao, civil, chapa, galvan...\n",
              "2     56900  ...                      [tapume, compensado, madeira]\n",
              "\n",
              "[3 rows x 13 columns]"
            ]
          },
          "metadata": {},
          "execution_count": 33
        }
      ],
      "source": [
        "item_licitacao.head(3)"
      ]
    },
    {
      "cell_type": "code",
      "execution_count": 11,
      "metadata": {
        "id": "vnMRImsLPuKb"
      },
      "outputs": [],
      "source": [
        "licitacao_21 = pd.read_csv('/content/drive/MyDrive/NLP/licitacao_21_token.csv')\n",
        "item_licitacao = pd.read_csv('/content/drive/MyDrive/NLP/item_licitacao_token.csv')"
      ]
    },
    {
      "cell_type": "code",
      "execution_count": 14,
      "metadata": {
        "colab": {
          "base_uri": "https://localhost:8080/"
        },
        "id": "-4pPMB50PuKb",
        "outputId": "c8a30bf5-a1c0-47ce-c054-e15cfa50536d"
      },
      "outputs": [
        {
          "output_type": "execute_result",
          "data": {
            "text/plain": [
              "Index(['Unnamed: 0', 'CD_ORGAO', 'NR_LICITACAO', 'ANO_LICITACAO',\n",
              "       'CD_TIPO_MODALIDADE', 'NR_LOTE', 'NR_ITEM', 'NR_ITEM_ORIGINAL',\n",
              "       'DS_ITEM', 'QT_ITENS', 'SG_UNIDADE_MEDIDA', 'VL_UNITARIO_ESTIMADO',\n",
              "       'VL_TOTAL_ESTIMADO', 'DS_ITEM_TOKEN'],\n",
              "      dtype='object')"
            ]
          },
          "metadata": {},
          "execution_count": 14
        }
      ],
      "source": [
        "item_licitacao.columns"
      ]
    },
    {
      "cell_type": "code",
      "execution_count": 12,
      "metadata": {
        "id": "ovmWxuViPuKb"
      },
      "outputs": [],
      "source": [
        "lic= [d.split() for d in item_licitacao['DS_ITEM_TOKEN']]\n"
      ]
    },
    {
      "cell_type": "code",
      "execution_count": 13,
      "metadata": {
        "id": "B50G5W3FPuKc"
      },
      "outputs": [],
      "source": [
        "id2word = corpora.Dictionary(lic)"
      ]
    },
    {
      "cell_type": "code",
      "execution_count": 14,
      "metadata": {
        "id": "q_isGWULPuKc"
      },
      "outputs": [],
      "source": [
        "texts = item_licitacao['DS_ITEM_TOKEN']"
      ]
    },
    {
      "cell_type": "markdown",
      "metadata": {
        "id": "CnJq0LOePuKc"
      },
      "source": [
        "Após o treinamento algumas vezes, foi notado outras stopwords."
      ]
    },
    {
      "cell_type": "code",
      "execution_count": 15,
      "metadata": {
        "colab": {
          "base_uri": "https://localhost:8080/"
        },
        "id": "0A8lQYf-PuKc",
        "outputId": "55c7f80b-d80c-4c43-94a1-59987da4bb38"
      },
      "outputs": [
        {
          "output_type": "stream",
          "name": "stdout",
          "text": [
            "[[(0, 1), (1, 1), (2, 1), (3, 1), (4, 1), (5, 1), (6, 2), (7, 1), (8, 1), (9, 1), (10, 1), (11, 1), (12, 3), (13, 1), (14, 1), (15, 1), (16, 1), (17, 1), (18, 1), (19, 1)]]\n"
          ]
        }
      ],
      "source": [
        "corpus = [id2word.doc2bow(text.split()) for text in texts]\n",
        "\n",
        "# Visualização\n",
        "print(corpus[:1])"
      ]
    },
    {
      "cell_type": "code",
      "execution_count": 16,
      "metadata": {
        "colab": {
          "base_uri": "https://localhost:8080/"
        },
        "id": "Bigp27wDPuKc",
        "outputId": "bb01e3de-463c-4688-e876-4da9b0d372e2"
      },
      "outputs": [
        {
          "output_type": "execute_result",
          "data": {
            "text/plain": [
              "[[(\"'academias',\", 1),\n",
              "  (\"'cada',\", 1),\n",
              "  (\"'canoas',\", 1),\n",
              "  (\"'credenciado',\", 1),\n",
              "  (\"'desembolsado',\", 1),\n",
              "  (\"'escolhido',\", 1),\n",
              "  (\"'estabelecimento',\", 2),\n",
              "  (\"'exercícios',\", 1),\n",
              "  (\"'físicos',\", 1),\n",
              "  (\"'ginástica',\", 1),\n",
              "  (\"'matriculado',\", 1),\n",
              "  (\"'ministrem',\", 1),\n",
              "  (\"'município',\", 3),\n",
              "  (\"'musculação',\", 1),\n",
              "  (\"'outro',\", 1),\n",
              "  (\"'servidor',\", 1),\n",
              "  (\"'servidor']\", 1),\n",
              "  (\"'valor',\", 1),\n",
              "  (\"'âmbito',\", 1),\n",
              "  (\"['credenciamento',\", 1)]]"
            ]
          },
          "metadata": {},
          "execution_count": 16
        }
      ],
      "source": [
        "# Corpus num formado simplificado (term-frequency)\n",
        "[[(id2word[id], freq) for id, freq in cp] for cp in corpus[:1]]"
      ]
    },
    {
      "cell_type": "markdown",
      "metadata": {
        "id": "6vTUhqJ7PuKc"
      },
      "source": [
        "## **LDA + CountVectorizer**"
      ]
    },
    {
      "cell_type": "code",
      "execution_count": 17,
      "metadata": {
        "id": "0Yej-70sPuKd"
      },
      "outputs": [],
      "source": [
        "cv = CountVectorizer(max_df=0.95, min_df=2, stop_words=filter_out)"
      ]
    },
    {
      "cell_type": "markdown",
      "metadata": {
        "id": "VrDOv5t5PuKd"
      },
      "source": [
        "Função de coerência"
      ]
    },
    {
      "cell_type": "code",
      "execution_count": 31,
      "metadata": {
        "id": "VqtDAQXMPuKd"
      },
      "outputs": [],
      "source": [
        "def compute_coherence_values(dictionary, corpus, texts, limit, start, step):\n",
        "    coherence_values = []\n",
        "    model_list = []\n",
        "    for num_topics in tqdm(range(start, limit, step)):\n",
        "        model = LdaMulticore(corpus, id2word=id2word, num_topics = num_topics)\n",
        "        model_list.append(model)\n",
        "        coherencemodel = CoherenceModel(model=model, texts=texts, dictionary=dictionary, coherence='c_v')\n",
        "        coherence_values.append(coherencemodel.get_coherence())\n",
        "    return model_list, coherence_values"
      ]
    },
    {
      "cell_type": "code",
      "execution_count": null,
      "metadata": {
        "id": "Z2N-o7S4PuKd"
      },
      "outputs": [],
      "source": [
        "model_list, coherence_values = compute_coherence_values(dictionary=id2word, corpus=corpus, texts=lic, limit=20, start=1, step=3)"
      ]
    },
    {
      "cell_type": "code",
      "execution_count": 33,
      "metadata": {
        "colab": {
          "base_uri": "https://localhost:8080/",
          "height": 280
        },
        "id": "KmfN7U4uPuKd",
        "outputId": "75712257-3435-4b57-ff1b-62da9cc5fb08"
      },
      "outputs": [
        {
          "output_type": "display_data",
          "data": {
            "image/png": "[encoded data removed]",
            "text/plain": [
              "<Figure size 432x288 with 1 Axes>"
            ]
          },
          "metadata": {
            "needs_background": "light"
          }
        }
      ],
      "source": [
        "limit=20; start=1; step=3;\n",
        "x = range(start, limit, step)\n",
        "plt.plot(x, coherence_values)\n",
        "plt.xlabel(\"Num Tópicos\")\n",
        "plt.ylabel(\"Score de Coerência\")\n",
        "plt.legend((\"Valores de Coerência\"), loc='best')\n",
        "plt.show()"
      ]
    },
    {
      "cell_type": "code",
      "execution_count": 34,
      "metadata": {
        "colab": {
          "base_uri": "https://localhost:8080/"
        },
        "id": "eO7TqnnUPuKd",
        "outputId": "777a3897-f2ad-4a13-c514-85e714785cd9"
      },
      "outputs": [
        {
          "output_type": "stream",
          "name": "stdout",
          "text": [
            "A quantidade de tópicos = 1  tem um valor de coerência de  0.2493\n",
            "A quantidade de tópicos = 4  tem um valor de coerência de  0.5452\n",
            "A quantidade de tópicos = 7  tem um valor de coerência de  0.4871\n",
            "A quantidade de tópicos = 10  tem um valor de coerência de  0.542\n",
            "A quantidade de tópicos = 13  tem um valor de coerência de  0.5173\n",
            "A quantidade de tópicos = 16  tem um valor de coerência de  0.534\n",
            "A quantidade de tópicos = 19  tem um valor de coerência de  0.5397\n"
          ]
        }
      ],
      "source": [
        "for m, c in zip(x, coherence_values):\n",
        "    print(\"A quantidade de tópicos =\", m, \" tem um valor de coerência de \", round(c, 4))"
      ]
    },
    {
      "cell_type": "markdown",
      "metadata": {
        "id": "Z4pDLtz0PuKe"
      },
      "source": [
        "A quantida de tópicos a ser usada é 4: por ser o maior encontrado dentre os 20"
      ]
    },
    {
      "cell_type": "code",
      "execution_count": null,
      "metadata": {
        "id": "gT31luAuPuKe"
      },
      "outputs": [],
      "source": [
        "lda_model = LdaMulticore(corpus=corpus,\n",
        "                        id2word=id2word,\n",
        "                        num_topics=4, \n",
        "                        workers = 3,\n",
        "                        random_state=100,\n",
        "                        per_word_topics=True)"
      ]
    },
    {
      "cell_type": "markdown",
      "metadata": {
        "id": "8NbhkH6jPuKf"
      },
      "source": [
        "Salvar modelos"
      ]
    },
    {
      "cell_type": "code",
      "execution_count": 36,
      "metadata": {
        "colab": {
          "base_uri": "https://localhost:8080/"
        },
        "id": "6trWNo6MPuKg",
        "outputId": "df6b96c3-a76c-462d-e907-f1db98ea9b22"
      },
      "outputs": [
        {
          "output_type": "stream",
          "name": "stderr",
          "text": [
            "/usr/local/lib/python3.7/dist-packages/smart_open/smart_open_lib.py:494: DeprecationWarning: This function is deprecated.  See https://github.com/RaRe-Technologies/smart_open/blob/develop/MIGRATING_FROM_OLDER_VERSIONS.rst for more information\n",
            "  warnings.warn(message, category=DeprecationWarning)\n",
            "/usr/local/lib/python3.7/dist-packages/smart_open/smart_open_lib.py:494: DeprecationWarning: This function is deprecated.  See https://github.com/RaRe-Technologies/smart_open/blob/develop/MIGRATING_FROM_OLDER_VERSIONS.rst for more information\n",
            "  warnings.warn(message, category=DeprecationWarning)\n",
            "/usr/local/lib/python3.7/dist-packages/smart_open/smart_open_lib.py:494: DeprecationWarning: This function is deprecated.  See https://github.com/RaRe-Technologies/smart_open/blob/develop/MIGRATING_FROM_OLDER_VERSIONS.rst for more information\n",
            "  warnings.warn(message, category=DeprecationWarning)\n"
          ]
        }
      ],
      "source": [
        "lda_model.save('multicore_4topics')"
      ]
    },
    {
      "cell_type": "markdown",
      "metadata": {
        "id": "QQSP4D5kPuKg"
      },
      "source": [
        "Carregar Modelos"
      ]
    },
    {
      "cell_type": "code",
      "execution_count": 37,
      "metadata": {
        "id": "NQHfBGyFPuKg"
      },
      "outputs": [],
      "source": [
        "from gensim.test.utils import datapath"
      ]
    },
    {
      "cell_type": "code",
      "execution_count": 39,
      "metadata": {
        "colab": {
          "base_uri": "https://localhost:8080/"
        },
        "id": "3IR2czq2PuKg",
        "outputId": "ede610dc-0a94-4bd5-8fd6-917ba651ef7b"
      },
      "outputs": [
        {
          "output_type": "stream",
          "name": "stderr",
          "text": [
            "/usr/local/lib/python3.7/dist-packages/smart_open/smart_open_lib.py:494: DeprecationWarning: This function is deprecated.  See https://github.com/RaRe-Technologies/smart_open/blob/develop/MIGRATING_FROM_OLDER_VERSIONS.rst for more information\n",
            "  warnings.warn(message, category=DeprecationWarning)\n",
            "/usr/local/lib/python3.7/dist-packages/smart_open/smart_open_lib.py:494: DeprecationWarning: This function is deprecated.  See https://github.com/RaRe-Technologies/smart_open/blob/develop/MIGRATING_FROM_OLDER_VERSIONS.rst for more information\n",
            "  warnings.warn(message, category=DeprecationWarning)\n",
            "/usr/local/lib/python3.7/dist-packages/smart_open/smart_open_lib.py:494: DeprecationWarning: This function is deprecated.  See https://github.com/RaRe-Technologies/smart_open/blob/develop/MIGRATING_FROM_OLDER_VERSIONS.rst for more information\n",
            "  warnings.warn(message, category=DeprecationWarning)\n"
          ]
        }
      ],
      "source": [
        "lda_model = LdaMulticore.load(datapath(\"/content/multicore_4topics\")) "
      ]
    },
    {
      "cell_type": "code",
      "execution_count": 40,
      "metadata": {
        "id": "5_TCWknwPuKh"
      },
      "outputs": [],
      "source": [
        "#função Score de Coerência\n",
        "def score_coherence (lda_model,lic,id2word):\n",
        "    coherence_model_lda = CoherenceModel(model=lda_model, texts=lic, dictionary=id2word, coherence='c_v')\n",
        "    coherence_lda = coherence_model_lda.get_coherence()\n",
        "    print('\\nScore de Coerência: ', coherence_lda)"
      ]
    },
    {
      "cell_type": "code",
      "execution_count": 41,
      "metadata": {
        "colab": {
          "base_uri": "https://localhost:8080/"
        },
        "id": "sN9B2neRPuKh",
        "outputId": "b68693c6-e50e-49fe-d156-7cd517535717"
      },
      "outputs": [
        {
          "output_type": "stream",
          "name": "stdout",
          "text": [
            "\n",
            "Score de Coerência:  0.4947083265662168\n"
          ]
        }
      ],
      "source": [
        "score_coherence(lda_model,lic,id2word)"
      ]
    },
    {
      "cell_type": "code",
      "execution_count": 42,
      "metadata": {
        "id": "H3KEUCrCPuKh"
      },
      "outputs": [],
      "source": [
        "pyLDAvis.enable_notebook()"
      ]
    },
    {
      "cell_type": "code",
      "execution_count": 44,
      "metadata": {
        "id": "rEGWNFXOPuKh"
      },
      "outputs": [],
      "source": [
        "display_data = pyLDAvis.gensim_models.prepare(lda_model, corpus, id2word)"
      ]
    },
    {
      "cell_type": "code",
      "execution_count": 45,
      "metadata": {
        "colab": {
          "base_uri": "https://localhost:8080/",
          "height": 881
        },
        "id": "QlhiCxyMPuKi",
        "outputId": "c81516ec-b43a-4473-a568-5f4bbdc028f5"
      },
      "outputs": [
        {
          "output_type": "execute_result",
          "data": {
            "text/html": [
              "\n",
              "<link rel=\"stylesheet\" type=\"text/css\" href=\"https://cdn.jsdelivr.net/gh/bmabey/pyLDAvis@3.3.1/pyLDAvis/js/ldavis.v1.0.0.css\">\n",
              "\n",
              "\n",
              "<div id=\"ldavis_el3501140204754029520680048913\"></div>\n",
              "<script type=\"text/javascript\">\n",
              "\n",
              "var ldavis_el3501140204754029520680048913_data = {\"mdsDat\": {\"x\": [0.05005443361642298, 0.028111942058461455, -0.3271311548889727, 0.2489647792140882], \"y\": [0.016637291920220478, -0.30704548207416504, 0.11196492206920695, 0.17844326808473748], \"topics\": [1, 2, 3, 4], \"cluster\": [1, 1, 1, 1], \"Freq\": [29.92783949976305, 29.152952148778294, 22.13684616576225, 18.782362185696407]}, \"tinfo\": {\"Term\": [\"'embalagem',\", \"'validade',\", \"'x',\", \"'x']\", \"'produto',\", \"'pvc',\", \"'a\\u00e7o',\", \"'meses',\", \"'concreto',\", \"'prazo',\", \"'fornecimento',\", \"'contendo',\", \"'servi\\u00e7os',\", \"'fabrica\\u00e7\\u00e3o',\", \"'entrega']\", \"'m\\u00e9dio',\", \"'embalagem']\", \"'instala\\u00e7\\u00e3o']\", \"',\", \"['servi\\u00e7o',\", \"'w',\", \"['\", \"'madeira',\", \"['contrata\\u00e7\\u00e3o',\", \"['tubo',\", \"'identifica\\u00e7\\u00e3o',\", \"['livro',\", \"'entrega',\", \"'sabor',\", \"'empresa',\", \"'manga',\", \"['sonda',\", \"'inoxid\\u00e1vel',\", \"'vapor',\", \"['l\\u00e2mpada',\", \"'w']\", \"['prego',\", \"'sint\\u00e9tico',\", \"['broca',\", \"['material',\", \"'cir\\u00fargico',\", \"['camiseta',\", \"'confeccionada',\", \"'pilar',\", \"'nylon',\", \"'conector',\", \"'descartavel',\", \"['seringa',\", \"'autoclav\\u00e1vel',\", \"'gola',\", \"'cerdas',\", \"['pincel',\", \"'bolsos',\", \"'poliuretano',\", \"['cateter',\", \"'sobrado',\", \"'sutura',\", \"'antiderrapante',\", \"['arma\\u00e7\\u00e3o',\", \"'t\\u00e9rrea',\", \"'descart\\u00e1vel',\", \"'tecido',\", \"'inox',\", \"'est\\u00e9ril',\", \"'w',\", \"'acr\\u00edlica',\", \"'confeccionado',\", \"'adulto',\", \"'l\\u00e1tex',\", \"'resist\\u00eancia',\", \"'poli\\u00e9ster',\", \"'fios',\", \"'agulha',\", \"'montagem']\", \"'silicone',\", \"'haste',\", \"'rota\\u00e7\\u00e3o',\", \"'corpo',\", \"'esmalte',\", \"'resina',\", \"'alta',\", \"'ponta',\", \"'press\\u00e3o',\", \"'abnt',\", \"'cabo',\", \"'borracha',\", \"'a\\u00e7o',\", \"'caixa']\", \"'polipropileno',\", \"'altura',\", \"'led',\", \"'comprimento',\", \"'base',\", \"'largura',\", \"'mesa',\", \"'estrutura',\", \"'material',\", \"'tinta',\", \"'algod\\u00e3o',\", \"'c',\", \"'prote\\u00e7\\u00e3o',\", \"'pl\\u00e1stico',\", \"'tubo',\", \"',\", \"'x',\", \"['\", \"'v',\", \"'pintura',\", \"'p',\", \"'capacidade',\", \"'caixa',\", \"'uso',\", \"'m\\u00ednimo',\", \"'m\\u00ednima',\", \"'sistema',\", \"'servi\\u00e7os',\", \"['contrata\\u00e7\\u00e3o',\", \"['pneu',\", \"'presta\\u00e7\\u00e3o',\", \"'lonas',\", \"['presta\\u00e7\\u00e3o',\", \"['loca\\u00e7\\u00e3o',\", \"'fiat',\", \"'radial',\", \"['servi\\u00e7os',\", \"'especializada',\", \"'manuten\\u00e7\\u00e3o',\", \"'ampola']\", \"'combust\\u00edvel',\", \"'contrata\\u00e7\\u00e3o',\", \"'conserto',\", \"'trator',\", \"'ca\\u00e7amba',\", \"'renavam',\", \"'chassi',\", \"'borrachudo',\", \"'cv',\", \"['transporte',\", \"['recapagem',\", \"'motorista',\", \"'m\\u00b3',\", \"'descritivo',\", \"'anomodelo',\", \"'retroescavadeira',\", \"'loca\\u00e7\\u00e3o',\", \"['servi\\u00e7o',\", \"'pneu',\", \"['filtro',\", \"'municipal',\", \"'munic\\u00edpio',\", \"'caminh\\u00e3o',\", \"'comprimido']\", \"'memorial',\", \"'hp',\", \"'projeto',\", \"'velocidade',\", \"['jogo',\", \"'rua',\", \"'ve\\u00edculos',\", \"'secretaria',\", \"'equipamentos',\", \"'traseiro',\", \"'empresa',\", \"'termo',\", \"'placa',\", \"'\\\\t',\", \"'especifica\\u00e7\\u00f5es',\", \"'portas',\", \"'servi\\u00e7o',\", \"'usb',\", \"'ve\\u00edculo',\", \"['constru\\u00e7\\u00e3o',\", \"'motor',\", \"',\", \"['\", \"'ar',\", \"'m\\u00ednimo',\", \"'obra',\", \"'horas',\", \"'carga',\", \"'sistema',\", \"'capacidade',\", \"'x',\", \"'m\\u00ednima',\", \"'transporte',\", \"'r\\u00f3tulo',\", \"'sabor',\", \"'ingredientes',\", \"'entrega']\", \"'sujidades',\", \"'colora\\u00e7\\u00e3o',\", \"'nutricional',\", \"'leite',\", \"'parasitas',\", \"'gordura',\", \"'milho',\", \"'casca',\", \"'trigo',\", \"['carne',\", \"'aroma',\", \"'a\\u00e7\\u00facar',\", \"'larvas',\", \"'gramas']\", \"'ovos',\", \"'matura\\u00e7\\u00e3o',\", \"['farinha',\", \"['biscoito',\", \"'rachaduras',\", \"'doce',\", \"'farinha',\", \"'fresco',\", \"'frango',\", \"'sal',\", \"'acondicionado',\", \"'\\u00edntegra',\", \"'validade',\", \"'prazo',\", \"'lixo',\", \"'firme',\", \"'isento',\", \"'gramas',\", \"'embalagem',\", \"['saco',\", \"'embalagens',\", \"'saco',\", \"'m\\u00e9dio',\", \"['parafuso',\", \"'integral',\", \"'embalagem']\", \"'l\\u00edquido',\", \"'lote',\", \"'entrega',\", \"'produto',\", \"'identifica\\u00e7\\u00e3o',\", \"'meses',\", \"'diversos']\", \"'contendo',\", \"'fabrica\\u00e7\\u00e3o',\", \"'primeira',\", \"'pl\\u00e1stica',\", \"'p\\u00f3',\", \"'peso',\", \"'informa\\u00e7\\u00f5es',\", \"'registro',\", \"'m\\u00ednima',\", \"'conter',\", \"'m\\u00ednimo',\", \"'pacote',\", \"'transparente',\", \"'fabricante',\", \"'pl\\u00e1stico',\", \"'meses']\", \"['livro',\", \"'instala\\u00e7\\u00e3o']\", \"['cabo',\", \"['exame',\", \"'esgoto',\", \"['papel',\", \"'sold\\u00e1vel',\", \"'argamassa',\", \"'ramal',\", \"['joelho',\", \"'mm\\u00b2',\", \"'tra\\u00e7o',\", \"'mpa',\", \"'fck',\", \"'betoneira',\", \"['bucha',\", \"['registro',\", \"'cer\\u00e2mico',\", \"'areia',\", \"['concreto',\", \"'esgoto']\", \"'folhas']\", \"['eletroduto',\", \"['curva',\", \"'sold\\u00e1vel']\", \"'antichama',\", \"'isolado',\", \"['piso',\", \"'azul']\", \"['folha',\", \"'concreto',\", \"['caixa',\", \"'x']\", \"['tubo',\", \"'autor',\", \"['disjuntor',\", \"['livros',\", \"'brita',\", \"'cola',\", \"'xmm']\", \"'editora',\", \"'junta',\", \"'alvenaria',\", \"'metros']\", \"'pead',\", \"['fita',\", \"'pvc',\", \"'xcm',\", \"['placa',\", \"'fornecimento',\", \"'cobre',\", \"'x',\", \"'piso',\", \"'papel',\", \"'rolo',\", \"'simples',\", \"'instalado',\", \"'madeira',\", \"'frasco']\", \"'ferro',\", \"'l']\", \"'medindo',\", \"'dimens\\u00f5es',\", \"'folhas',\", \"'c',\", \"'espessura',\", \"'branca',\"], \"Freq\": [47565.0, 39279.0, 79966.0, 25397.0, 24387.0, 21909.0, 30324.0, 19940.0, 13149.0, 11676.0, 14613.0, 15277.0, 13041.0, 14836.0, 10460.0, 10504.0, 10855.0, 8806.0, 48871.0, 11536.0, 11972.0, 47698.0, 14047.0, 10242.0, 7689.0, 9564.0, 7386.0, 9062.0, 8028.0, 10831.0, 3924.5092704941558, 3326.111976256363, 3114.3268876329576, 2420.7430516487084, 2391.6647025789066, 3204.3994170198994, 2318.179114673155, 2394.292704245602, 3342.433342027155, 1871.8833697062512, 1964.9905909566687, 2091.019997177708, 4497.5769526699705, 1723.2715553889855, 4374.1473544346, 2208.904205125729, 1655.3649564578175, 1619.473962266948, 1446.1164226393316, 1623.6967329272686, 1706.210872417796, 2041.7134854180426, 1617.1419212104097, 1553.2915603158806, 1287.4819738389099, 1192.1321862968707, 1186.2475223090817, 1609.9069551989353, 3067.1604661688502, 1180.698918234257, 7521.655721254877, 7068.113762020337, 6921.825662128426, 4494.591928431101, 11839.857171169871, 4389.522405875383, 4282.369472548658, 3640.055480308532, 3723.148831950724, 4159.1721434989495, 3544.183817504999, 3019.851761568369, 3209.310960768517, 2328.5110031601125, 2288.2004668667305, 2269.32472437866, 2511.356958143864, 4999.650608720309, 2942.457039443564, 2818.570206899313, 10812.438531803422, 6504.517695857041, 4894.345895353952, 3857.717125410415, 9963.26589497589, 5799.006618067214, 26873.328580757523, 5102.664768104798, 5549.392329243283, 14088.413378319196, 7211.902703907033, 9356.662924828057, 11333.651753077242, 10956.369464663994, 4871.9241766314535, 7609.583777908795, 12192.146710880974, 7104.02579191104, 4249.20318581122, 14470.743066042485, 5900.573404438161, 9624.066988136155, 6813.528036135764, 18275.044706325763, 24307.354180971037, 17912.5563581454, 8371.18070605462, 6874.939424499601, 8029.892837356421, 8626.797181231033, 8162.519418856485, 7670.064920879996, 10846.253419285727, 9492.022394331485, 7064.395117749777, 13040.147949174843, 10241.494479691724, 8696.957374773128, 4502.881568699204, 4650.548872270471, 4698.7210457954425, 3958.0730240554076, 3338.9238165241804, 3485.301607155652, 6066.527428267265, 3025.2317931036337, 4695.227606966046, 2811.7108196658255, 3208.3062020275765, 2622.9712055819664, 2591.463091020553, 2356.820544512024, 2197.777010364179, 2123.3162471764617, 2142.409491242123, 1938.028662932209, 2221.308842778783, 3234.259535401848, 2116.674586731522, 1796.0642737383641, 2807.1176946745722, 1886.304708014906, 1777.689212392539, 1758.1976736106467, 1801.8780389853637, 11507.969791270942, 9093.704447798511, 7873.116558060158, 8762.264616733157, 7077.336521933817, 5123.720149174733, 5432.700654890948, 5115.084880664625, 4022.0557475378787, 3997.6295663231626, 4136.938230511996, 3569.1965050688827, 3603.505347249041, 2752.1996978849825, 4250.264532344024, 3352.763810843819, 3229.6672642041985, 10515.199079672402, 9390.199645046649, 9035.170635096294, 5113.676121218148, 8649.049308069638, 6736.40762875443, 9015.469063087836, 4825.8782348153345, 7102.634426418141, 4820.563085033027, 6982.198869844089, 27516.242409959363, 26636.113257722503, 8437.900457861404, 17326.82820171565, 7551.653589854546, 5358.863445631964, 5699.910731524428, 7345.255247258556, 7473.389745357074, 9292.271226263556, 7581.638252028688, 5224.585048759594, 7039.040473784401, 8027.457711081898, 5197.011876643057, 10459.159534278597, 4449.566428547329, 4461.452204487538, 4080.6673845860364, 4235.317753549459, 3374.532571558135, 3637.1520325323154, 3314.8834808446686, 3518.1056134502987, 3363.088730377884, 3091.2521743195966, 2996.05532102917, 2939.2665963219697, 2824.5355783263176, 3773.0868425952667, 2818.077063785425, 2822.218500333028, 2889.1246136255513, 3039.160276053933, 2651.535084046332, 3324.6581268728796, 2618.3054799877464, 2591.502190822506, 2490.780396665036, 2579.0530291027308, 3451.744949220922, 2588.824001345651, 39264.31072835368, 11659.89260330107, 4039.981725227649, 3722.8878081743355, 5252.987830380964, 5525.580105684032, 46285.57656448204, 3937.422174004805, 3104.237708691801, 3001.7332642483166, 10365.651757801783, 5336.211601304275, 5204.68057927968, 10515.113445304762, 4854.086494686378, 8112.393898160667, 8667.203766228202, 22149.654336840416, 9011.626755953346, 17721.354803025377, 4252.592324195942, 12927.733195491997, 12439.631488521329, 5264.7059088279075, 8691.621904319767, 8670.976959826674, 11029.680237088916, 5328.497948824096, 9701.897299676326, 14891.703370629377, 5085.80769252639, 14317.667935821028, 6430.458058733258, 6525.114649480948, 5661.585365982556, 5843.2946763464415, 5447.989328136311, 7385.860652151445, 8805.387887393194, 6024.260169659047, 4455.583858561835, 4098.573816139425, 4402.789289735903, 3880.3817394981265, 3233.440893744971, 2692.3616552867734, 2666.6790994530675, 2576.801888932242, 2969.966232670686, 2220.7304549236933, 1958.891345139044, 1663.8466936616696, 2741.09576634264, 1645.8382104877296, 1690.5445014562176, 2319.837712122653, 1505.4022957627005, 1559.4589161050628, 1922.108310036893, 1505.5471483993385, 1632.5667752473917, 1406.2928382705259, 1364.045466648412, 1537.195982642624, 1310.7422633743356, 1714.3166527062115, 1264.2741792930155, 13141.01799405063, 5645.0884072620765, 24889.643502214956, 7626.500120169686, 4449.599427733234, 2329.706760621906, 2331.1057803909553, 2323.025386917531, 3086.8903641761344, 2171.9583888098714, 5106.492199696731, 1973.1745485426338, 2815.0897935772123, 3357.578869912765, 2058.2694217611865, 4071.4680373113074, 19024.863151770187, 6090.413818738371, 3782.804236156726, 11428.23861287046, 3281.9463576642715, 46340.02628279021, 4133.844149656431, 8426.317705199639, 4072.6554622162043, 4533.484139683671, 3753.967926715203, 8187.769982597559, 4120.409159287129, 4669.335743495755, 4039.3855619469473, 5371.60259541842, 5253.64047558891, 4762.158779915603, 7336.638626075206, 4895.9219387513485, 4119.9096927273795], \"Total\": [47565.0, 39279.0, 79966.0, 25397.0, 24387.0, 21909.0, 30324.0, 19940.0, 13149.0, 11676.0, 14613.0, 15277.0, 13041.0, 14836.0, 10460.0, 10504.0, 10855.0, 8806.0, 48871.0, 11536.0, 11972.0, 47698.0, 14047.0, 10242.0, 7689.0, 9564.0, 7386.0, 9062.0, 8028.0, 10831.0, 3925.457113198692, 3327.0674777981326, 3115.234710829504, 2421.507405022092, 2392.4255987488104, 3205.4434428041504, 2318.9470234551536, 2395.184914856007, 3343.7228237191607, 1872.6528938770539, 1965.799050690612, 2091.888138847267, 4499.548146584917, 1724.0309300682275, 4376.111921834158, 2209.9580669187326, 1656.190805318267, 1620.2907582290777, 1446.8806099433696, 1624.6043044349874, 1707.1769208853464, 2042.8833815616683, 1618.0848063891003, 1554.2079765000612, 1288.2613885854983, 1192.883930801159, 1187.0030479705254, 1610.9520765229395, 3069.179200009621, 1181.4760454200073, 7533.008439626846, 7093.126736328743, 6951.042253561775, 4498.292100818403, 11972.197059875549, 4396.519484869519, 4290.558360363941, 3644.6198961480513, 3728.936939601391, 4172.9648588529235, 3553.3519205175116, 3023.315945369941, 3219.4034474037285, 2330.3134513105465, 2290.418992325149, 2271.6477651097653, 2516.5139325478513, 5067.7889452212585, 2953.805096805189, 2827.9048150079198, 11256.317972318298, 6677.326048864045, 4987.804135211141, 3909.0384806273737, 10423.253483730032, 5974.382781835972, 30324.82966188049, 5339.131200378519, 5917.547162219455, 17418.27533635183, 8121.937676632532, 10981.18718495328, 14541.131162708416, 14274.352394529586, 5311.013948364696, 9336.72017184644, 17048.93339428961, 8706.572125826378, 4486.659686351755, 26598.51519243476, 7235.650926991625, 15578.666620161943, 9065.180721878045, 48871.698342815704, 79966.5646930059, 47698.34065072436, 14582.54889774723, 10077.15945048173, 14070.615954340348, 17158.35554216302, 15674.025762603746, 15084.46076025748, 42561.71832413494, 31972.108581080927, 14474.548624408433, 13041.06322829162, 10242.298173490553, 8698.181044134444, 4503.655857151327, 4651.399970975379, 4699.597669601092, 3958.9237626978165, 3339.6974881427564, 3486.1218957615647, 6068.00720925239, 3026.0027821938943, 4696.542551090839, 2812.5141552819164, 3209.2446278670764, 2623.747030931054, 2592.2609074954057, 2357.595764218522, 2198.557918408423, 2124.083925696656, 2143.259035414182, 1938.7988279374629, 2222.206165818565, 3235.5853686392597, 2117.5618761393193, 1796.8292239724904, 2808.3296446891122, 1887.1214884148997, 1778.4637505661974, 1758.9671638349819, 1802.670092669847, 11536.993825098687, 9098.850170882904, 7878.36793263051, 8779.910037068332, 7091.378872535793, 5126.314493848398, 5441.193353705668, 5127.491898477101, 4024.427669759477, 4001.794048664371, 4143.835958928003, 3571.1963538939226, 3610.4931225911337, 2753.95823314777, 4273.246886858292, 3363.614298070489, 3238.29968140903, 10831.660861459413, 9666.208364912163, 9320.854407846788, 5195.827174183528, 9060.723886748621, 6985.932251797997, 9496.050001521611, 4926.338545826119, 7552.792438922102, 5005.696775001574, 7961.130306217212, 48871.698342815704, 47698.34065072436, 11134.921063052663, 42561.71832413494, 10797.697907434016, 6154.863537298373, 7493.5541558744535, 14474.548624408433, 17158.35554216302, 79966.5646930059, 31972.108581080927, 8827.051869661082, 7039.714524668564, 8028.240636463952, 5197.680319427914, 10460.634441589707, 4450.253751836424, 4462.174793959361, 4081.3337582973586, 4236.009695632208, 3375.2063262944694, 3637.88463561731, 3315.5617919095216, 3518.8268421379757, 3363.7971252890025, 3091.9198235953795, 2996.7494042204917, 2939.947792989658, 2825.2038533658433, 3773.987861982911, 2818.7522684276955, 2822.929827618798, 2889.8563525650943, 3039.9365333808996, 2652.212950799916, 3325.5093929849127, 2618.9771651612973, 2592.176090505988, 2491.446468724798, 2579.7528159313547, 3452.697192957598, 2589.544697870447, 39279.49911893384, 11676.301474126778, 4042.905580430621, 3725.1917077643134, 5277.6582341845915, 5557.321028519848, 47565.86975600904, 3947.729477807921, 3105.116343110994, 3003.355208615634, 10504.831759764807, 5371.285087962317, 5260.948401494434, 10855.438992545613, 4903.960989807904, 8329.137819428497, 9062.319608317019, 24387.990949370072, 9564.596420190477, 19940.95494550091, 4320.808980793533, 15277.392992022898, 14836.177715496151, 5607.02131509339, 10543.967460741045, 10686.353111425904, 15425.185951683246, 5881.465992956452, 13858.048288676147, 31972.108581080927, 5680.10230030628, 42561.71832413494, 9035.039011823686, 9554.255827787287, 7724.932272640901, 15578.666620161943, 9064.952482003255, 7386.770606875933, 8806.647085887185, 6025.143546204255, 4456.370452974373, 4099.3843927942235, 4403.74244273412, 3881.2344849937454, 3234.2243059482466, 2693.1324869766304, 2667.4609188305967, 2577.586995133876, 2970.8965668197543, 2221.5230919150667, 1959.658978572799, 1664.6142690855638, 2742.36302422304, 1646.6358813969455, 1691.3789130093098, 2320.9963147718317, 1506.1708530824951, 1560.2803609008402, 1923.140065840652, 1506.3603916540094, 1633.4521707991998, 1407.0625681789309, 1364.8232732816043, 1538.090259392327, 1311.514205123718, 1715.341497223458, 1265.0572434993767, 13149.414642280155, 5658.323417682704, 25397.188734247276, 7689.780113294052, 4482.003836389989, 2331.4020013453905, 2333.0647744595567, 2325.886701588879, 3099.863014340608, 2173.5931534282154, 5160.60747736988, 1976.5940717996843, 2830.8608072135958, 3394.1320241302337, 2063.4818906735404, 4244.3997299838575, 21909.317819887416, 6620.429814997946, 3991.4304240697816, 14613.113072729233, 3487.17925928276, 79966.5646930059, 4589.948849961409, 11700.176734942404, 4738.2148130812875, 5502.904525309162, 4298.248563244246, 14047.15820569071, 5040.9784220960355, 6510.275880462296, 5567.056753439149, 10738.941500141356, 10269.67645241668, 8354.163147682344, 26598.51519243476, 11350.899487112729, 13395.323677343968], \"Category\": [\"Default\", \"Default\", \"Default\", \"Default\", \"Default\", \"Default\", \"Default\", \"Default\", \"Default\", \"Default\", \"Default\", \"Default\", \"Default\", \"Default\", \"Default\", \"Default\", \"Default\", \"Default\", \"Default\", \"Default\", \"Default\", \"Default\", \"Default\", \"Default\", \"Default\", \"Default\", \"Default\", \"Default\", \"Default\", \"Default\", \"Topic1\", \"Topic1\", \"Topic1\", \"Topic1\", \"Topic1\", \"Topic1\", \"Topic1\", \"Topic1\", \"Topic1\", \"Topic1\", \"Topic1\", \"Topic1\", \"Topic1\", \"Topic1\", \"Topic1\", \"Topic1\", \"Topic1\", \"Topic1\", \"Topic1\", \"Topic1\", \"Topic1\", \"Topic1\", \"Topic1\", \"Topic1\", \"Topic1\", \"Topic1\", \"Topic1\", \"Topic1\", \"Topic1\", \"Topic1\", \"Topic1\", \"Topic1\", \"Topic1\", \"Topic1\", \"Topic1\", \"Topic1\", \"Topic1\", \"Topic1\", \"Topic1\", \"Topic1\", \"Topic1\", \"Topic1\", \"Topic1\", \"Topic1\", \"Topic1\", \"Topic1\", \"Topic1\", \"Topic1\", \"Topic1\", \"Topic1\", \"Topic1\", \"Topic1\", \"Topic1\", \"Topic1\", \"Topic1\", \"Topic1\", \"Topic1\", \"Topic1\", \"Topic1\", \"Topic1\", \"Topic1\", \"Topic1\", \"Topic1\", \"Topic1\", \"Topic1\", \"Topic1\", \"Topic1\", \"Topic1\", \"Topic1\", \"Topic1\", \"Topic1\", \"Topic1\", \"Topic1\", \"Topic1\", \"Topic1\", \"Topic1\", \"Topic1\", \"Topic1\", \"Topic1\", \"Topic1\", \"Topic1\", \"Topic1\", \"Topic1\", \"Topic1\", \"Topic1\", \"Topic2\", \"Topic2\", \"Topic2\", \"Topic2\", \"Topic2\", \"Topic2\", \"Topic2\", \"Topic2\", \"Topic2\", \"Topic2\", \"Topic2\", \"Topic2\", \"Topic2\", \"Topic2\", \"Topic2\", \"Topic2\", \"Topic2\", \"Topic2\", \"Topic2\", \"Topic2\", \"Topic2\", \"Topic2\", \"Topic2\", \"Topic2\", \"Topic2\", \"Topic2\", \"Topic2\", \"Topic2\", \"Topic2\", \"Topic2\", \"Topic2\", \"Topic2\", \"Topic2\", \"Topic2\", \"Topic2\", \"Topic2\", \"Topic2\", \"Topic2\", \"Topic2\", \"Topic2\", \"Topic2\", \"Topic2\", \"Topic2\", \"Topic2\", \"Topic2\", \"Topic2\", \"Topic2\", \"Topic2\", \"Topic2\", \"Topic2\", \"Topic2\", \"Topic2\", \"Topic2\", \"Topic2\", \"Topic2\", \"Topic2\", \"Topic2\", \"Topic2\", \"Topic2\", \"Topic2\", \"Topic2\", \"Topic2\", \"Topic2\", \"Topic2\", \"Topic2\", \"Topic2\", \"Topic2\", \"Topic2\", \"Topic2\", \"Topic2\", \"Topic3\", \"Topic3\", \"Topic3\", \"Topic3\", \"Topic3\", \"Topic3\", \"Topic3\", \"Topic3\", \"Topic3\", \"Topic3\", \"Topic3\", \"Topic3\", \"Topic3\", \"Topic3\", \"Topic3\", \"Topic3\", \"Topic3\", \"Topic3\", \"Topic3\", \"Topic3\", \"Topic3\", \"Topic3\", \"Topic3\", \"Topic3\", \"Topic3\", \"Topic3\", \"Topic3\", \"Topic3\", \"Topic3\", \"Topic3\", \"Topic3\", \"Topic3\", \"Topic3\", \"Topic3\", \"Topic3\", \"Topic3\", \"Topic3\", \"Topic3\", \"Topic3\", \"Topic3\", \"Topic3\", \"Topic3\", \"Topic3\", \"Topic3\", \"Topic3\", \"Topic3\", \"Topic3\", \"Topic3\", \"Topic3\", \"Topic3\", \"Topic3\", \"Topic3\", \"Topic3\", \"Topic3\", \"Topic3\", \"Topic3\", \"Topic3\", \"Topic3\", \"Topic3\", \"Topic3\", \"Topic3\", \"Topic3\", \"Topic3\", \"Topic3\", \"Topic3\", \"Topic3\", \"Topic3\", \"Topic4\", \"Topic4\", \"Topic4\", \"Topic4\", \"Topic4\", \"Topic4\", \"Topic4\", \"Topic4\", \"Topic4\", \"Topic4\", \"Topic4\", \"Topic4\", \"Topic4\", \"Topic4\", \"Topic4\", \"Topic4\", \"Topic4\", \"Topic4\", \"Topic4\", \"Topic4\", \"Topic4\", \"Topic4\", \"Topic4\", \"Topic4\", \"Topic4\", \"Topic4\", \"Topic4\", \"Topic4\", \"Topic4\", \"Topic4\", \"Topic4\", \"Topic4\", \"Topic4\", \"Topic4\", \"Topic4\", \"Topic4\", \"Topic4\", \"Topic4\", \"Topic4\", \"Topic4\", \"Topic4\", \"Topic4\", \"Topic4\", \"Topic4\", \"Topic4\", \"Topic4\", \"Topic4\", \"Topic4\", \"Topic4\", \"Topic4\", \"Topic4\", \"Topic4\", \"Topic4\", \"Topic4\", \"Topic4\", \"Topic4\", \"Topic4\", \"Topic4\", \"Topic4\", \"Topic4\", \"Topic4\", \"Topic4\", \"Topic4\", \"Topic4\", \"Topic4\", \"Topic4\", \"Topic4\"], \"logprob\": [30.0, 29.0, 28.0, 27.0, 26.0, 25.0, 24.0, 23.0, 22.0, 21.0, 20.0, 19.0, 18.0, 17.0, 16.0, 15.0, 14.0, 13.0, 12.0, 11.0, 10.0, 9.0, 8.0, 7.0, 6.0, 5.0, 4.0, 3.0, 2.0, 1.0, -6.4607, -6.6261, -6.6919, -6.9438, -6.9559, -6.6634, -6.9871, -6.9548, -6.6212, -7.201, -7.1524, -7.0902, -6.3244, -7.2837, -6.3522, -7.0354, -7.3239, -7.3458, -7.459, -7.3432, -7.2936, -7.1141, -7.3472, -7.3875, -7.5752, -7.6522, -7.6571, -7.3517, -6.7071, -7.6618, -5.8101, -5.8723, -5.8932, -6.325, -5.3564, -6.3487, -6.3734, -6.5359, -6.5133, -6.4026, -6.5626, -6.7227, -6.6618, -6.9827, -7.0001, -7.0084, -6.9071, -6.2185, -6.7487, -6.7917, -5.4472, -5.9554, -6.2398, -6.4778, -5.529, -6.0702, -4.5368, -6.1981, -6.1142, -5.1825, -5.8522, -5.5918, -5.4001, -5.434, -6.2444, -5.7985, -5.3271, -5.8672, -6.3812, -5.1558, -6.0529, -5.5636, -5.909, -4.9224, -4.6371, -4.9424, -5.7031, -5.9, -5.7447, -5.673, -5.7283, -5.7906, -5.4441, -5.5774, -5.8728, -5.2336, -5.4752, -5.6387, -6.297, -6.2647, -6.2544, -6.4259, -6.596, -6.5531, -5.9989, -6.6947, -6.2551, -6.7679, -6.6359, -6.8374, -6.8494, -6.9444, -7.0142, -7.0487, -7.0397, -7.14, -7.0036, -6.6279, -7.0518, -7.2161, -6.7695, -7.167, -7.2264, -7.2374, -7.2128, -5.3586, -5.5941, -5.7382, -5.6312, -5.8448, -6.1678, -6.1092, -6.1695, -6.4099, -6.416, -6.3817, -6.5293, -6.5198, -6.7893, -6.3547, -6.5919, -6.6293, -5.4488, -5.562, -5.6005, -6.1697, -5.6442, -5.8941, -5.6027, -6.2277, -5.8412, -6.2288, -5.8583, -4.4869, -4.5194, -5.6689, -4.9494, -5.7799, -6.1229, -6.0612, -5.8076, -5.7903, -5.5725, -5.7759, -6.1483, -5.5749, -5.4435, -5.8783, -5.1789, -6.0335, -6.0309, -6.1201, -6.0829, -6.3101, -6.2352, -6.3279, -6.2684, -6.3135, -6.3978, -6.4291, -6.4482, -6.488, -6.1985, -6.4903, -6.4888, -6.4654, -6.4148, -6.5512, -6.325, -6.5638, -6.5741, -6.6138, -6.5789, -6.2875, -6.5752, -3.856, -5.0702, -6.1301, -6.2119, -5.8676, -5.817, -3.6915, -6.1558, -6.3936, -6.4272, -5.1879, -5.8518, -5.8768, -5.1735, -5.9465, -5.433, -5.3668, -4.4285, -5.3278, -4.6516, -6.0788, -4.967, -5.0055, -5.8653, -5.364, -5.3664, -5.1258, -5.8533, -5.254, -4.8256, -5.8999, -4.8649, -5.6653, -5.6507, -5.7927, -5.7611, -5.8311, -5.3625, -5.1867, -5.5662, -5.8679, -5.9514, -5.8798, -6.0061, -6.1885, -6.3716, -6.3812, -6.4155, -6.2735, -6.5642, -6.6897, -6.8529, -6.3537, -6.8638, -6.837, -6.5205, -6.953, -6.9177, -6.7086, -6.9529, -6.8719, -7.0211, -7.0516, -6.9321, -7.0914, -6.823, -7.1275, -4.7863, -5.6312, -4.1476, -5.3304, -5.8692, -6.5163, -6.5157, -6.5192, -6.2349, -6.5864, -5.7315, -6.6824, -6.327, -6.1508, -6.6402, -5.958, -4.4163, -5.5553, -6.0316, -4.9259, -6.1736, -3.526, -5.9428, -5.2307, -5.9577, -5.8505, -6.0392, -5.2594, -5.9461, -5.821, -5.9659, -5.6809, -5.7031, -5.8013, -5.3691, -5.7736, -5.9462], \"loglift\": [30.0, 29.0, 28.0, 27.0, 26.0, 25.0, 24.0, 23.0, 22.0, 21.0, 20.0, 19.0, 18.0, 17.0, 16.0, 15.0, 14.0, 13.0, 12.0, 11.0, 10.0, 9.0, 8.0, 7.0, 6.0, 5.0, 4.0, 3.0, 2.0, 1.0, 1.2061, 1.2061, 1.2061, 1.2061, 1.2061, 1.2061, 1.206, 1.206, 1.206, 1.206, 1.206, 1.206, 1.2059, 1.2059, 1.2059, 1.2059, 1.2059, 1.2059, 1.2059, 1.2058, 1.2058, 1.2058, 1.2058, 1.2058, 1.2058, 1.2058, 1.2057, 1.2057, 1.2057, 1.2057, 1.2049, 1.2028, 1.2022, 1.2056, 1.1953, 1.2048, 1.2045, 1.2051, 1.2048, 1.2031, 1.2038, 1.2052, 1.2032, 1.2056, 1.2054, 1.2054, 1.2043, 1.1928, 1.2025, 1.2031, 1.1661, 1.1802, 1.1875, 1.1932, 1.1612, 1.1766, 1.0855, 1.1611, 1.1421, 0.9942, 1.0875, 1.0463, 0.9572, 0.9418, 1.1201, 1.0018, 0.8711, 1.003, 1.152, 0.5977, 1.0024, 0.7247, 0.9209, 0.2227, 0.0156, 0.227, 0.6514, 0.824, 0.6455, 0.5188, 0.5539, 0.53, -0.1608, -0.008, 0.4891, 1.2325, 1.2325, 1.2325, 1.2324, 1.2324, 1.2324, 1.2324, 1.2324, 1.2324, 1.2324, 1.2324, 1.2323, 1.2323, 1.2323, 1.2323, 1.2323, 1.2323, 1.2323, 1.2323, 1.2322, 1.2322, 1.2322, 1.2322, 1.2322, 1.2322, 1.2322, 1.2322, 1.2322, 1.2322, 1.2322, 1.2301, 1.232, 1.2319, 1.2306, 1.2306, 1.2321, 1.2311, 1.2302, 1.232, 1.2316, 1.2309, 1.2321, 1.2307, 1.232, 1.2272, 1.2294, 1.2299, 1.203, 1.2036, 1.2015, 1.2167, 1.1861, 1.1962, 1.1807, 1.212, 1.1712, 1.1949, 1.1014, 0.6582, 0.65, 0.9553, 0.3339, 0.875, 1.0941, 0.959, 0.5543, 0.4015, -0.9198, -0.2065, 0.7082, 1.5078, 1.5078, 1.5078, 1.5078, 1.5078, 1.5078, 1.5078, 1.5078, 1.5077, 1.5077, 1.5077, 1.5077, 1.5077, 1.5077, 1.5077, 1.5077, 1.5077, 1.5077, 1.5077, 1.5077, 1.5077, 1.5077, 1.5077, 1.5077, 1.5077, 1.5077, 1.5077, 1.5077, 1.5077, 1.5076, 1.5075, 1.5065, 1.5072, 1.5073, 1.5032, 1.5022, 1.4806, 1.5053, 1.5076, 1.5074, 1.4946, 1.5014, 1.4972, 1.4761, 1.4977, 1.4816, 1.4633, 1.4117, 1.4484, 1.3899, 1.492, 1.3409, 1.3317, 1.4449, 1.3147, 1.2989, 1.1725, 1.4092, 1.1514, 0.7439, 1.3974, 0.4185, 1.1679, 1.1266, 1.1972, 0.5273, 0.9988, 1.6721, 1.6721, 1.6721, 1.6721, 1.6721, 1.672, 1.672, 1.672, 1.672, 1.672, 1.6719, 1.6719, 1.6719, 1.6719, 1.6718, 1.6718, 1.6718, 1.6718, 1.6718, 1.6717, 1.6717, 1.6717, 1.6717, 1.6717, 1.6717, 1.6717, 1.6717, 1.6717, 1.6717, 1.6716, 1.6716, 1.6699, 1.6521, 1.664, 1.665, 1.6715, 1.6714, 1.671, 1.6681, 1.6715, 1.6617, 1.6705, 1.6667, 1.6614, 1.6697, 1.6307, 1.5311, 1.5888, 1.6186, 1.4264, 1.6116, 1.1266, 1.5676, 1.344, 1.5209, 1.4785, 1.5369, 1.1325, 1.4706, 1.3399, 1.3515, 0.9795, 1.002, 1.1102, 0.3843, 0.8314, 0.4932]}, \"token.table\": {\"Topic\": [1, 2, 3, 4, 1, 2, 3, 4, 1, 2, 3, 4, 3, 1, 3, 4, 1, 2, 1, 3, 1, 3, 4, 1, 2, 3, 4, 1, 2, 3, 4, 2, 4, 2, 2, 4, 1, 1, 2, 3, 4, 4, 4, 3, 1, 2, 3, 4, 4, 1, 2, 3, 4, 3, 1, 2, 3, 4, 4, 1, 1, 2, 3, 4, 2, 1, 2, 3, 4, 2, 4, 1, 2, 3, 4, 1, 2, 3, 4, 1, 2, 3, 4, 1, 2, 3, 4, 2, 3, 4, 1, 2, 3, 4, 1, 2, 3, 4, 3, 2, 1, 4, 2, 1, 1, 2, 4, 1, 3, 4, 3, 2, 1, 2, 3, 4, 2, 3, 4, 1, 4, 1, 1, 3, 4, 1, 3, 4, 2, 1, 2, 3, 4, 1, 2, 3, 2, 1, 2, 3, 4, 2, 1, 1, 3, 4, 2, 1, 2, 3, 4, 2, 3, 3, 2, 3, 4, 1, 3, 4, 1, 3, 4, 3, 1, 2, 3, 1, 2, 3, 1, 3, 1, 2, 4, 4, 4, 1, 2, 3, 4, 2, 1, 2, 3, 4, 1, 2, 3, 4, 1, 2, 4, 1, 3, 1, 2, 3, 1, 2, 3, 3, 4, 1, 2, 3, 4, 2, 1, 4, 1, 3, 1, 2, 3, 4, 4, 2, 3, 4, 3, 1, 2, 3, 4, 3, 1, 3, 1, 3, 3, 1, 2, 3, 4, 1, 2, 3, 2, 4, 1, 2, 3, 1, 2, 3, 3, 1, 2, 3, 4, 1, 1, 2, 4, 3, 4, 1, 2, 3, 1, 3, 4, 2, 4, 1, 3, 4, 1, 2, 3, 4, 3, 1, 2, 3, 3, 4, 2, 2, 1, 2, 3, 1, 3, 1, 2, 3, 1, 2, 3, 4, 1, 1, 2, 1, 2, 3, 4, 3, 1, 2, 3, 4, 2, 4, 1, 2, 3, 4, 1, 2, 3, 1, 2, 3, 4, 1, 2, 4, 3, 4, 1, 4, 1, 2, 4, 2, 4, 1, 2, 3, 4, 1, 2, 2, 1, 2, 3, 4, 1, 2, 3, 4, 1, 2, 3, 4, 3, 1, 4, 2, 3, 4, 3, 1, 2, 3, 4, 1, 3, 4, 1, 2, 3, 4, 3, 1, 3, 4, 1, 2, 3, 4, 1, 1, 2, 3, 4, 1, 2, 4, 1, 2, 3, 4, 1, 3, 4, 1, 2, 3, 4, 2, 4, 1, 3, 4, 1, 1, 4, 1, 2, 3, 4, 1, 2, 4, 1, 2, 3, 1, 2, 4, 2, 1, 2, 3, 4, 1, 2, 3, 2, 4, 1, 2, 3, 4, 1, 2, 3, 4, 1, 2, 3, 4, 3, 2, 4, 1, 2, 3, 4, 2, 1, 2, 3, 1, 2, 3, 4, 2, 1, 2, 3, 4, 1, 2, 2, 4, 3, 3, 3, 4, 3, 1, 2, 3, 1, 2, 3, 4, 2, 1, 4, 1, 2, 3, 4, 1, 1, 2, 3, 4, 1, 4, 4, 3, 1, 1, 4, 1, 2, 3, 4, 1, 2, 3, 4, 1, 3, 4, 1, 2, 3, 4, 1, 2, 3, 2, 4, 3, 1, 3, 4, 1, 1, 2, 1, 2, 3, 4, 1, 2, 4, 1, 3, 1, 1, 2, 3, 2, 3, 2, 3, 1, 2, 4, 1, 1, 2, 3, 4, 1, 2, 3, 4, 1, 2, 3, 4, 2, 3, 4, 3, 1, 2, 3, 4, 1, 4, 3, 1, 2, 1, 4, 4, 1, 2, 3, 4, 1, 3, 1, 4, 2, 4, 2, 4, 3, 4, 4, 4, 3, 2, 4, 1, 2, 3, 4, 4, 4, 1, 2, 3, 4, 3, 4, 2, 1, 1, 4, 2, 3, 4, 1, 3, 4, 1, 2, 3, 4, 2, 3, 1, 2, 2, 4, 3, 4, 1, 2, 4, 2, 4, 1, 2, 3, 1, 4], \"Freq\": [0.37393830416549223, 0.5630252463703247, 0.047594007961090826, 0.015428152193749992, 0.011547728203532559, 0.9842513672144251, 0.003849242734510853, 0.00038492427345108526, 0.986943469377364, 0.006651251996840711, 0.0030698086139264824, 0.0033256259984203555, 0.9997980729503242, 0.998517125901078, 0.000909810593076153, 0.0006823579448071148, 0.9987324065939128, 0.0010975081391141899, 0.9967685170331422, 0.0031061655251889753, 0.9470297051780623, 0.0006686488857458665, 0.052154613088177586, 0.9605272369338738, 0.03207087796273848, 0.001154906962647092, 0.006218729798868957, 0.8088056784013761, 0.023251440925082148, 5.7410965247116415e-05, 0.1678696623825684, 0.0052987416272029415, 0.9943971787050853, 0.9998171901531764, 0.9997392409229315, 0.9993967912932604, 0.9994089976127692, 0.039515322785716546, 0.7577961219679005, 0.0007184604142857554, 0.20197718396608297, 0.9995707383223787, 0.9996214529876624, 0.9997499276317745, 0.9993913734572724, 0.005131633269311355, 0.0020080304097305304, 0.9928594803667623, 0.9992179416019321, 0.8861715069674546, 0.0009892883269089286, 0.00019785766538178573, 0.1126139878797997, 0.9996776157073544, 0.7794441761908254, 0.013822858603701773, 0.10308689078084059, 0.10370582474817051, 0.9996309841282922, 0.9993295738364164, 0.9706442007081983, 0.02812005961699902, 0.0001673813072440418, 0.0010042878434642507, 0.9995879779139785, 0.4978603101080371, 0.07972931641856106, 0.11481618787616751, 0.3075700221390183, 0.000859887112572484, 0.9987588812529402, 0.544052925334565, 0.06955275460361725, 0.11057008177796666, 0.27584246514958904, 0.9558435871824037, 0.00978581209400835, 0.0002878180027649514, 0.034058463660519255, 0.5207979190308524, 0.07298699245023829, 0.21570718660337032, 0.190506258266094, 0.9557734785835984, 0.00018729639008105005, 0.04326546610872256, 0.0007491855603242002, 0.9995485072460584, 0.00019507191788564762, 0.00019507191788564762, 0.5027871102682875, 0.43553124783063785, 0.052219456450722804, 0.009441464224349435, 0.20510961394668684, 0.7606537407261647, 0.018816171481120914, 0.015479970863900894, 0.9997650233515119, 0.999746234382205, 0.9993106040323366, 0.9997759739072094, 0.9994125603142792, 0.9995935237173245, 0.058500003823135416, 0.00028676472462321284, 0.9411618262133845, 0.0038711388033876065, 0.0003225949002823005, 0.9958504571714617, 0.9997367216629544, 0.9996121741994147, 0.8520936618602781, 0.00045532417540893353, 0.00027319450524536013, 0.14725183832724908, 0.9984941991263574, 0.00018378321353328868, 0.0012864824947330206, 0.0006083921009135333, 0.9993600747630926, 0.9995664773313693, 0.9996559328771508, 0.00022224453821190546, 0.00022224453821190546, 0.9980053038217583, 0.0002330698981367955, 0.0016314892869575685, 0.999513587736574, 0.15140017679768628, 0.00216005440307983, 0.8462176764550315, 0.00019636858209816637, 0.10035030530511127, 0.0042252760128467905, 0.8954064083891156, 0.9997152808856009, 0.986623565828411, 0.012826106355769343, 0.0001973247131656822, 0.0001973247131656822, 0.9994572214598637, 0.999280997506783, 0.9985386396796084, 0.0013274908796591443, 0.00013274908796591443, 0.9994057147768257, 0.48560439300173375, 0.002531725329465626, 0.00029212215339987995, 0.511603264654323, 0.015737793617414567, 0.984306415512708, 0.9998468225692018, 0.007944801107193639, 0.0025190832778906663, 0.9894184013007494, 0.02688902792192553, 0.9730926867820524, 2.102347765592301e-05, 0.031228585065310576, 0.9686388553443679, 9.211971995666837e-05, 0.9996404826783799, 9.23219451559956e-05, 0.9707652533152937, 0.029081412724138615, 0.0006620821444537721, 0.04292499236541956, 0.9563776576634738, 9.559649613833839e-05, 0.9998437531108811, 0.0029729924759020147, 0.9968443771699455, 0.00029729924759020143, 0.9999062315807956, 0.9991794033092226, 0.9960034273019716, 0.0010156391168952804, 0.00033854637229842674, 0.002708370978387414, 0.999668611608755, 0.02880564547184961, 0.9545594930499128, 0.012802509098599826, 0.0037524595633827073, 0.5669154243948679, 0.00017619749009941502, 0.0015857774108947351, 0.43133145576336795, 0.8150613770076219, 0.04530498849858398, 0.13966360520603666, 0.9992681442768458, 0.0006669197848343799, 0.07469321149177437, 0.19236414606027158, 0.7329514098204964, 0.009706003983060563, 0.15179111784619714, 0.8384908996477319, 0.9996268905379184, 0.9996637279342966, 0.03348552411645569, 0.0012288265730809426, 0.24791576111908017, 0.7171739087143651, 0.9997911522989035, 0.9989032091154684, 0.0009922879560749687, 0.0005368851207929663, 0.9994116523561068, 0.001197007985506514, 0.0013167087840571653, 0.42745155162437615, 0.5700152026982019, 0.9994071852274818, 0.2176812007248704, 0.00027372675350502407, 0.7820373347638538, 0.999820799390875, 0.0029756128164030128, 0.022019534841382294, 0.15770747926935968, 0.8173016535720276, 0.9999320684630056, 0.9996280297711032, 0.9997568269184106, 0.005578227322285289, 0.9943640059015647, 0.9997382445256747, 0.9988344297252275, 0.00044020909198996366, 0.00044020909198996366, 0.00044020909198996366, 0.12900367249222877, 0.8706935527529648, 0.00032494627831795663, 0.9993967664575714, 0.0004969650753145556, 0.05760828536757298, 0.0002091044840928239, 0.9422248053222645, 0.0015302307300217757, 0.09249394634798289, 0.9058965921728912, 0.999869110952174, 0.995821885049412, 0.00043158995306966715, 0.00014386331768988906, 0.003596582942247226, 0.9996036539958894, 0.0004653058031828745, 0.12609787266255898, 0.8733789925742553, 0.00011355059311988537, 0.9998129724205908, 0.0003801595924095885, 0.01026430899505889, 0.989365339245954, 0.004547471422940301, 0.9953278076960583, 0.999291160329721, 0.0015177623179191805, 0.998181684418181, 0.00934066281395031, 0.2649514932803213, 0.7255180212604866, 0.7675304418152595, 0.05296212249108581, 7.005571758080134e-05, 0.17941269272443222, 0.9999278447232753, 0.8879654445945213, 0.11191910553749583, 0.9997616399147413, 0.9992813138044369, 0.0004946937197051667, 0.9996282777017427, 0.999914010625215, 0.007803928979105303, 0.01824918776652317, 0.9739303365923418, 0.998407873424101, 0.0013408647239109602, 0.009788006083196889, 0.00040783358679987033, 0.9898121151632853, 0.4163119624886754, 0.0004983214325274842, 0.0002847551043014196, 0.5828936985050058, 0.9998835516003589, 0.0002129225891433126, 0.9996715560278527, 0.7151180497944584, 0.1801872251450604, 0.06962312377838108, 0.03501685332408888, 0.9996706161061105, 0.49911809277752806, 0.00018623809431997317, 0.0005587142829599195, 0.500235521343448, 0.997563740962553, 0.0023403254919942594, 0.9173389577521497, 0.048013430670525076, 0.005083775012173244, 0.029561210255970343, 0.00255755053553775, 0.10872097178521259, 0.8886735890247935, 0.20529616715527885, 0.19327183495757577, 0.6009959799365713, 0.000441259897163415, 0.010311914725523666, 0.00029462613501496187, 0.9893545613802419, 0.9998305590591337, 0.9997722695160303, 0.9994363628164238, 0.0004291268195862704, 0.1228468775641362, 0.8770111443280153, 0.00012561030425780798, 0.9995385070760052, 0.9997645345587581, 0.00022779276684568544, 0.997960111550948, 0.001708445751342641, 0.00011389638342284272, 0.0018332118807454657, 0.9979723446181277, 0.9995265353938677, 0.007615543192839399, 0.003902965886330192, 0.986784009212165, 0.0017134972183888647, 0.29688376592142457, 0.23714419650402876, 0.4657809778868368, 0.00021894083032553434, 0.2548299370199463, 0.4071029244647436, 0.33640559084008764, 0.001668165731921094, 0.9999182232286982, 0.9995173976644379, 0.00022851335108926336, 0.6994083428469124, 9.26123335337543e-05, 0.3005270223170327, 0.9997331200630429, 0.5706928556686954, 0.12664690769634063, 0.017554313244105578, 0.28513321755203064, 0.1031539541534176, 0.7116737394919261, 0.18516798851788374, 0.20768917043302781, 0.0029914078045909357, 0.06914425468325906, 0.7201600617566636, 0.9999388700202231, 0.0009692355474693218, 0.0014538533212039826, 0.997343378345932, 0.18631866150607926, 0.0986049701290002, 0.7150643132957739, 6.48290401900067e-05, 0.9994020234496682, 0.6822359052452373, 0.06271608612581672, 9.923431349021632e-05, 0.25493295135636573, 0.0004357347032346157, 0.09869391028264045, 0.9006636315859505, 0.027358006985424805, 0.9693317376992671, 0.00010728630190362668, 0.003111302755205174, 0.17384348034313585, 0.8243576274645591, 0.0018968192072355249, 0.6177678895538209, 0.00012838069192722796, 0.3750641914653965, 0.006996747710033923, 0.9994669468348402, 0.0005495199839646142, 0.9377196071080867, 0.05813219406112485, 0.004055734469380803, 0.9992227703638599, 0.9973681412011255, 0.0022513953525984775, 0.9741923567004248, 0.0005990421870563718, 0.0002995210935281859, 0.025010011309603526, 0.012883033610415609, 0.9642234933306616, 0.022760026045067577, 0.00017128711556752362, 0.0012846533667564273, 0.9986038837586628, 0.9811933001641071, 0.00220537930155398, 0.016440100247947852, 0.9998543722761841, 0.014802868641960489, 0.0458353884455885, 0.9390012457821925, 0.0003566956299267588, 0.09160246141790958, 0.00016401515025588106, 0.9082338945419414, 0.9990519130624332, 0.0009995516889068866, 0.8155451471528444, 0.12908306514840817, 0.05500541748294053, 0.0005528182661602063, 0.13158784877286583, 4.564268080917997e-05, 4.564268080917997e-05, 0.8683520023946488, 0.18715458670943502, 9.357729335471751e-05, 0.8114087106787555, 0.0013100821069660451, 0.999919708257268, 0.9996781822910643, 0.9995794908040704, 0.24570559497778152, 0.05383153417134362, 0.7000985851613617, 0.00036080116736825484, 0.9994896973309091, 0.9968510909700139, 0.0003536186913692848, 0.0028289495309542782, 0.9966534923429089, 0.000479275543324313, 0.000479275543324313, 0.0026360154882837214, 0.9994501524219058, 0.12494157047620623, 0.009919347656050157, 0.0056983486534756215, 0.859606446874304, 0.9978089004489362, 0.0019868755484845407, 0.9982015967429752, 0.0016618228580626668, 0.9998985009028335, 0.9998454659594636, 0.9995487684534462, 0.0003329609488519141, 0.9997081829209739, 0.0014040845658723979, 0.9945599008262818, 0.0037442255089930607, 0.00010530694339643997, 0.9493420947189063, 0.005791881886804198, 0.044755450943486985, 0.9999184707356289, 0.9989438647106689, 0.0008732026789428924, 0.11757427319051125, 0.02907555442114652, 0.029438998851410852, 0.8237468011941074, 0.9995052929531004, 0.4880290351913272, 0.5074424212174827, 0.0005526942640898383, 0.003937946631640098, 0.9992589968073714, 0.9996819349620544, 0.9992448323173674, 0.9999429803668343, 0.9991549743935028, 0.9964575937717209, 0.003383557194471039, 0.00010345318063181301, 0.9714253661327242, 0.00020690636126362603, 0.028242718312484955, 0.8159353528959284, 0.14632624431157276, 0.0011485576476575568, 0.03652413319551031, 0.31525218230393176, 0.6829417295926808, 0.0017793117859119653, 0.00045315242949326654, 0.5919303610255794, 0.4060245768259668, 0.0016993216105997495, 0.002470432259845416, 0.9974370249125866, 0.000308804032480677, 0.9997473000980218, 0.9996982167505367, 0.9997630281318068, 0.7516673091309685, 0.0007721853777394745, 0.24754056966391152, 0.9995970756903175, 0.02029905153082218, 0.9796322268774784, 0.5084702809004542, 0.29155831752284195, 0.11985844431134567, 0.08008241190713804, 0.5740423062317442, 0.2004450676281673, 0.22547498541273145, 0.00038187859663336624, 0.9996054145474994, 0.9997904590252172, 0.0014479337646252245, 0.9983503307090923, 0.00024132229410420408, 0.940446868815808, 0.059448211192214245, 0.9992889386904276, 0.0003631137131869286, 0.9889579949933665, 0.010858491499082572, 0.0001670537153705011, 0.9995496901349513, 0.30396453934610446, 0.11619856418332179, 0.00033764111417883, 0.5794921937424808, 0.018899729612700627, 0.00011812331007937892, 0.0009449864806350313, 0.9800297292919138, 0.0791489396674712, 0.0004531427843557512, 0.0006041903791410016, 0.919879852242175, 0.00046006769869641375, 0.00046006769869641375, 0.9992670415686107, 0.9997896549648688, 0.375547655445074, 0.5584261346750958, 0.047926195519870436, 0.01809287258689772, 0.9992899730293968, 0.0003258200107692849, 0.9996919233771443, 0.9994847588122617, 0.00029906785123047925, 0.00036464902391371675, 0.9995029745474977, 0.999810204322024, 0.001237115569980403, 0.001060384774268917, 0.00017673079571148615, 0.9976453417913393, 0.9995754367402474, 0.9997025072938955, 0.9990208597442455, 0.9992226293052353, 0.9631026841410074, 0.036957891841129714, 0.9998732536908647, 0.9997231808758877, 0.0004289264568799917, 0.9993986445303806, 0.9997607533655252, 0.9999168711447395, 0.9997036695044257, 0.9993186491572351, 0.0006346492119631875, 0.02544529423961931, 0.0032984640680987993, 0.012015833390931341, 0.9591462300878723, 0.9991642722060132, 0.9998272069040102, 0.0002800182070385547, 0.9993849809206017, 0.0002800182070385547, 0.9998956774324066, 0.0004286207613895526, 0.9991149947990471, 0.9997666631758559, 0.9998221057536615, 0.9996513535000594, 0.9998314064131191, 0.0001861751859422092, 0.9934307921876283, 0.006329956322035113, 0.9995675810133651, 0.0004895042022592385, 0.9996079301911415, 0.03833212250860097, 0.013779521163222572, 0.0002505367484222286, 0.9477805192812907, 0.9998642194122597, 0.00011496656541477057, 0.9995916148814203, 0.999872825368657, 0.9997346589274908, 0.9996138299886882, 0.9972821142207853, 0.0025331016363240675, 0.9992033786389743, 0.9974868821516043, 0.0024269753823640008, 0.9998340131747283, 0.00016479874949311494, 0.9996791535473037, 0.9995100210754364, 0.000309063086294198, 0.008192691997926693, 0.9918359026696332], \"Term\": [\"',\", \"',\", \"',\", \"',\", \"'\\\\t',\", \"'\\\\t',\", \"'\\\\t',\", \"'\\\\t',\", \"'abnt',\", \"'abnt',\", \"'abnt',\", \"'abnt',\", \"'acondicionado',\", \"'acr\\u00edlica',\", \"'acr\\u00edlica',\", \"'acr\\u00edlica',\", \"'adulto',\", \"'adulto',\", \"'agulha',\", \"'agulha',\", \"'algod\\u00e3o',\", \"'algod\\u00e3o',\", \"'algod\\u00e3o',\", \"'alta',\", \"'alta',\", \"'alta',\", \"'alta',\", \"'altura',\", \"'altura',\", \"'altura',\", \"'altura',\", \"'alvenaria',\", \"'alvenaria',\", \"'ampola']\", \"'anomodelo',\", \"'antichama',\", \"'antiderrapante',\", \"'ar',\", \"'ar',\", \"'ar',\", \"'ar',\", \"'areia',\", \"'argamassa',\", \"'aroma',\", \"'autoclav\\u00e1vel',\", \"'autor',\", \"'autor',\", \"'autor',\", \"'azul']\", \"'a\\u00e7o',\", \"'a\\u00e7o',\", \"'a\\u00e7o',\", \"'a\\u00e7o',\", \"'a\\u00e7\\u00facar',\", \"'base',\", \"'base',\", \"'base',\", \"'base',\", \"'betoneira',\", \"'bolsos',\", \"'borracha',\", \"'borracha',\", \"'borracha',\", \"'borracha',\", \"'borrachudo',\", \"'branca',\", \"'branca',\", \"'branca',\", \"'branca',\", \"'brita',\", \"'brita',\", \"'c',\", \"'c',\", \"'c',\", \"'c',\", \"'cabo',\", \"'cabo',\", \"'cabo',\", \"'cabo',\", \"'caixa',\", \"'caixa',\", \"'caixa',\", \"'caixa',\", \"'caixa']\", \"'caixa']\", \"'caixa']\", \"'caixa']\", \"'caminh\\u00e3o',\", \"'caminh\\u00e3o',\", \"'caminh\\u00e3o',\", \"'capacidade',\", \"'capacidade',\", \"'capacidade',\", \"'capacidade',\", \"'carga',\", \"'carga',\", \"'carga',\", \"'carga',\", \"'casca',\", \"'ca\\u00e7amba',\", \"'cerdas',\", \"'cer\\u00e2mico',\", \"'chassi',\", \"'cir\\u00fargico',\", \"'cobre',\", \"'cobre',\", \"'cobre',\", \"'cola',\", \"'cola',\", \"'cola',\", \"'colora\\u00e7\\u00e3o',\", \"'combust\\u00edvel',\", \"'comprimento',\", \"'comprimento',\", \"'comprimento',\", \"'comprimento',\", \"'comprimido']\", \"'comprimido']\", \"'comprimido']\", \"'concreto',\", \"'concreto',\", \"'conector',\", \"'confeccionada',\", \"'confeccionada',\", \"'confeccionada',\", \"'confeccionado',\", \"'confeccionado',\", \"'confeccionado',\", \"'conserto',\", \"'contendo',\", \"'contendo',\", \"'contendo',\", \"'contendo',\", \"'conter',\", \"'conter',\", \"'conter',\", \"'contrata\\u00e7\\u00e3o',\", \"'corpo',\", \"'corpo',\", \"'corpo',\", \"'corpo',\", \"'cv',\", \"'descartavel',\", \"'descart\\u00e1vel',\", \"'descart\\u00e1vel',\", \"'descart\\u00e1vel',\", \"'descritivo',\", \"'dimens\\u00f5es',\", \"'dimens\\u00f5es',\", \"'dimens\\u00f5es',\", \"'dimens\\u00f5es',\", \"'diversos']\", \"'diversos']\", \"'doce',\", \"'editora',\", \"'editora',\", \"'editora',\", \"'embalagem',\", \"'embalagem',\", \"'embalagem',\", \"'embalagem']\", \"'embalagem']\", \"'embalagem']\", \"'embalagens',\", \"'empresa',\", \"'empresa',\", \"'empresa',\", \"'entrega',\", \"'entrega',\", \"'entrega',\", \"'entrega']\", \"'entrega']\", \"'equipamentos',\", \"'equipamentos',\", \"'equipamentos',\", \"'esgoto',\", \"'esgoto']\", \"'esmalte',\", \"'esmalte',\", \"'esmalte',\", \"'esmalte',\", \"'especializada',\", \"'especifica\\u00e7\\u00f5es',\", \"'especifica\\u00e7\\u00f5es',\", \"'especifica\\u00e7\\u00f5es',\", \"'especifica\\u00e7\\u00f5es',\", \"'espessura',\", \"'espessura',\", \"'espessura',\", \"'espessura',\", \"'estrutura',\", \"'estrutura',\", \"'estrutura',\", \"'est\\u00e9ril',\", \"'est\\u00e9ril',\", \"'fabricante',\", \"'fabricante',\", \"'fabricante',\", \"'fabrica\\u00e7\\u00e3o',\", \"'fabrica\\u00e7\\u00e3o',\", \"'fabrica\\u00e7\\u00e3o',\", \"'farinha',\", \"'fck',\", \"'ferro',\", \"'ferro',\", \"'ferro',\", \"'ferro',\", \"'fiat',\", \"'fios',\", \"'fios',\", \"'firme',\", \"'firme',\", \"'folhas',\", \"'folhas',\", \"'folhas',\", \"'folhas',\", \"'folhas']\", \"'fornecimento',\", \"'fornecimento',\", \"'fornecimento',\", \"'frango',\", \"'frasco']\", \"'frasco']\", \"'frasco']\", \"'frasco']\", \"'fresco',\", \"'gola',\", \"'gordura',\", \"'gramas',\", \"'gramas',\", \"'gramas']\", \"'haste',\", \"'haste',\", \"'haste',\", \"'haste',\", \"'horas',\", \"'horas',\", \"'horas',\", \"'hp',\", \"'hp',\", \"'identifica\\u00e7\\u00e3o',\", \"'identifica\\u00e7\\u00e3o',\", \"'identifica\\u00e7\\u00e3o',\", \"'informa\\u00e7\\u00f5es',\", \"'informa\\u00e7\\u00f5es',\", \"'informa\\u00e7\\u00f5es',\", \"'ingredientes',\", \"'inox',\", \"'inox',\", \"'inox',\", \"'inox',\", \"'inoxid\\u00e1vel',\", \"'instalado',\", \"'instalado',\", \"'instalado',\", \"'instala\\u00e7\\u00e3o']\", \"'instala\\u00e7\\u00e3o']\", \"'integral',\", \"'integral',\", \"'integral',\", \"'isento',\", \"'isento',\", \"'isolado',\", \"'junta',\", \"'junta',\", \"'l']\", \"'l']\", \"'l']\", \"'largura',\", \"'largura',\", \"'largura',\", \"'largura',\", \"'larvas',\", \"'led',\", \"'led',\", \"'leite',\", \"'lixo',\", \"'lixo',\", \"'loca\\u00e7\\u00e3o',\", \"'lonas',\", \"'lote',\", \"'lote',\", \"'lote',\", \"'l\\u00e1tex',\", \"'l\\u00e1tex',\", \"'l\\u00edquido',\", \"'l\\u00edquido',\", \"'l\\u00edquido',\", \"'madeira',\", \"'madeira',\", \"'madeira',\", \"'madeira',\", \"'manga',\", \"'manuten\\u00e7\\u00e3o',\", \"'manuten\\u00e7\\u00e3o',\", \"'material',\", \"'material',\", \"'material',\", \"'material',\", \"'matura\\u00e7\\u00e3o',\", \"'medindo',\", \"'medindo',\", \"'medindo',\", \"'medindo',\", \"'memorial',\", \"'memorial',\", \"'mesa',\", \"'mesa',\", \"'mesa',\", \"'mesa',\", \"'meses',\", \"'meses',\", \"'meses',\", \"'meses']\", \"'meses']\", \"'meses']\", \"'meses']\", \"'metros']\", \"'metros']\", \"'metros']\", \"'milho',\", \"'mm\\u00b2',\", \"'montagem']\", \"'montagem']\", \"'motor',\", \"'motor',\", \"'motor',\", \"'motorista',\", \"'mpa',\", \"'municipal',\", \"'municipal',\", \"'municipal',\", \"'municipal',\", \"'munic\\u00edpio',\", \"'munic\\u00edpio',\", \"'m\\u00b3',\", \"'m\\u00e9dio',\", \"'m\\u00e9dio',\", \"'m\\u00e9dio',\", \"'m\\u00e9dio',\", \"'m\\u00ednima',\", \"'m\\u00ednima',\", \"'m\\u00ednima',\", \"'m\\u00ednima',\", \"'m\\u00ednimo',\", \"'m\\u00ednimo',\", \"'m\\u00ednimo',\", \"'m\\u00ednimo',\", \"'nutricional',\", \"'nylon',\", \"'nylon',\", \"'obra',\", \"'obra',\", \"'obra',\", \"'ovos',\", \"'p',\", \"'p',\", \"'p',\", \"'p',\", \"'pacote',\", \"'pacote',\", \"'pacote',\", \"'papel',\", \"'papel',\", \"'papel',\", \"'papel',\", \"'parasitas',\", \"'pead',\", \"'pead',\", \"'pead',\", \"'peso',\", \"'peso',\", \"'peso',\", \"'peso',\", \"'pilar',\", \"'pintura',\", \"'pintura',\", \"'pintura',\", \"'pintura',\", \"'piso',\", \"'piso',\", \"'piso',\", \"'placa',\", \"'placa',\", \"'placa',\", \"'placa',\", \"'pl\\u00e1stica',\", \"'pl\\u00e1stica',\", \"'pl\\u00e1stica',\", \"'pl\\u00e1stico',\", \"'pl\\u00e1stico',\", \"'pl\\u00e1stico',\", \"'pl\\u00e1stico',\", \"'pneu',\", \"'pneu',\", \"'polipropileno',\", \"'polipropileno',\", \"'polipropileno',\", \"'poliuretano',\", \"'poli\\u00e9ster',\", \"'poli\\u00e9ster',\", \"'ponta',\", \"'ponta',\", \"'ponta',\", \"'ponta',\", \"'portas',\", \"'portas',\", \"'portas',\", \"'prazo',\", \"'prazo',\", \"'prazo',\", \"'press\\u00e3o',\", \"'press\\u00e3o',\", \"'press\\u00e3o',\", \"'presta\\u00e7\\u00e3o',\", \"'primeira',\", \"'primeira',\", \"'primeira',\", \"'primeira',\", \"'produto',\", \"'produto',\", \"'produto',\", \"'projeto',\", \"'projeto',\", \"'prote\\u00e7\\u00e3o',\", \"'prote\\u00e7\\u00e3o',\", \"'prote\\u00e7\\u00e3o',\", \"'prote\\u00e7\\u00e3o',\", \"'pvc',\", \"'pvc',\", \"'pvc',\", \"'pvc',\", \"'p\\u00f3',\", \"'p\\u00f3',\", \"'p\\u00f3',\", \"'p\\u00f3',\", \"'rachaduras',\", \"'radial',\", \"'ramal',\", \"'registro',\", \"'registro',\", \"'registro',\", \"'registro',\", \"'renavam',\", \"'resina',\", \"'resina',\", \"'resina',\", \"'resist\\u00eancia',\", \"'resist\\u00eancia',\", \"'resist\\u00eancia',\", \"'resist\\u00eancia',\", \"'retroescavadeira',\", \"'rolo',\", \"'rolo',\", \"'rolo',\", \"'rolo',\", \"'rota\\u00e7\\u00e3o',\", \"'rota\\u00e7\\u00e3o',\", \"'rua',\", \"'rua',\", \"'r\\u00f3tulo',\", \"'sabor',\", \"'saco',\", \"'saco',\", \"'sal',\", \"'secretaria',\", \"'secretaria',\", \"'secretaria',\", \"'servi\\u00e7o',\", \"'servi\\u00e7o',\", \"'servi\\u00e7o',\", \"'servi\\u00e7o',\", \"'servi\\u00e7os',\", \"'silicone',\", \"'silicone',\", \"'simples',\", \"'simples',\", \"'simples',\", \"'simples',\", \"'sint\\u00e9tico',\", \"'sistema',\", \"'sistema',\", \"'sistema',\", \"'sistema',\", \"'sobrado',\", \"'sold\\u00e1vel',\", \"'sold\\u00e1vel']\", \"'sujidades',\", \"'sutura',\", \"'tecido',\", \"'tecido',\", \"'termo',\", \"'termo',\", \"'termo',\", \"'termo',\", \"'tinta',\", \"'tinta',\", \"'tinta',\", \"'tinta',\", \"'transparente',\", \"'transparente',\", \"'transparente',\", \"'transporte',\", \"'transporte',\", \"'transporte',\", \"'transporte',\", \"'traseiro',\", \"'traseiro',\", \"'traseiro',\", \"'trator',\", \"'tra\\u00e7o',\", \"'trigo',\", \"'tubo',\", \"'tubo',\", \"'tubo',\", \"'t\\u00e9rrea',\", \"'usb',\", \"'usb',\", \"'uso',\", \"'uso',\", \"'uso',\", \"'uso',\", \"'v',\", \"'v',\", \"'v',\", \"'validade',\", \"'validade',\", \"'vapor',\", \"'velocidade',\", \"'velocidade',\", \"'velocidade',\", \"'ve\\u00edculo',\", \"'ve\\u00edculo',\", \"'ve\\u00edculos',\", \"'ve\\u00edculos',\", \"'w',\", \"'w',\", \"'w',\", \"'w']\", \"'x',\", \"'x',\", \"'x',\", \"'x',\", \"'x']\", \"'x']\", \"'x']\", \"'x']\", \"'xcm',\", \"'xcm',\", \"'xcm',\", \"'xcm',\", \"'xmm']\", \"'xmm']\", \"'xmm']\", \"'\\u00edntegra',\", \"['\", \"['\", \"['\", \"['\", \"['arma\\u00e7\\u00e3o',\", \"['arma\\u00e7\\u00e3o',\", \"['biscoito',\", \"['broca',\", \"['broca',\", \"['bucha',\", \"['bucha',\", \"['cabo',\", \"['caixa',\", \"['caixa',\", \"['caixa',\", \"['caixa',\", \"['camiseta',\", \"['carne',\", \"['cateter',\", \"['concreto',\", \"['constru\\u00e7\\u00e3o',\", \"['constru\\u00e7\\u00e3o',\", \"['contrata\\u00e7\\u00e3o',\", \"['curva',\", \"['disjuntor',\", \"['disjuntor',\", \"['eletroduto',\", \"['exame',\", \"['farinha',\", \"['filtro',\", \"['filtro',\", \"['fita',\", \"['fita',\", \"['fita',\", \"['fita',\", \"['folha',\", \"['joelho',\", \"['jogo',\", \"['jogo',\", \"['jogo',\", \"['livro',\", \"['livros',\", \"['livros',\", \"['loca\\u00e7\\u00e3o',\", \"['l\\u00e2mpada',\", \"['material',\", \"['papel',\", \"['parafuso',\", \"['parafuso',\", \"['parafuso',\", \"['pincel',\", \"['pincel',\", \"['piso',\", \"['placa',\", \"['placa',\", \"['placa',\", \"['placa',\", \"['pneu',\", \"['pneu',\", \"['prego',\", \"['presta\\u00e7\\u00e3o',\", \"['recapagem',\", \"['registro',\", \"['saco',\", \"['saco',\", \"['seringa',\", \"['servi\\u00e7o',\", \"['servi\\u00e7o',\", \"['servi\\u00e7os',\", \"['servi\\u00e7os',\", \"['sonda',\", \"['transporte',\", \"['transporte',\", \"['tubo',\", \"['tubo',\"]}, \"R\": 30, \"lambda.step\": 0.01, \"plot.opts\": {\"xlab\": \"PC1\", \"ylab\": \"PC2\"}, \"topic.order\": [3, 1, 4, 2]};\n",
              "\n",
              "function LDAvis_load_lib(url, callback){\n",
              "  var s = document.createElement('script');\n",
              "  s.src = url;\n",
              "  s.async = true;\n",
              "  s.onreadystatechange = s.onload = callback;\n",
              "  s.onerror = function(){console.warn(\"failed to load library \" + url);};\n",
              "  document.getElementsByTagName(\"head\")[0].appendChild(s);\n",
              "}\n",
              "\n",
              "if(typeof(LDAvis) !== \"undefined\"){\n",
              "   // already loaded: just create the visualization\n",
              "   !function(LDAvis){\n",
              "       new LDAvis(\"#\" + \"ldavis_el3501140204754029520680048913\", ldavis_el3501140204754029520680048913_data);\n",
              "   }(LDAvis);\n",
              "}else if(typeof define === \"function\" && define.amd){\n",
              "   // require.js is available: use it to load d3/LDAvis\n",
              "   require.config({paths: {d3: \"https://d3js.org/d3.v5\"}});\n",
              "   require([\"d3\"], function(d3){\n",
              "      window.d3 = d3;\n",
              "      LDAvis_load_lib(\"https://cdn.jsdelivr.net/gh/bmabey/pyLDAvis@3.3.1/pyLDAvis/js/ldavis.v3.0.0.js\", function(){\n",
              "        new LDAvis(\"#\" + \"ldavis_el3501140204754029520680048913\", ldavis_el3501140204754029520680048913_data);\n",
              "      });\n",
              "    });\n",
              "}else{\n",
              "    // require.js not available: dynamically load d3 & LDAvis\n",
              "    LDAvis_load_lib(\"https://d3js.org/d3.v5.js\", function(){\n",
              "         LDAvis_load_lib(\"https://cdn.jsdelivr.net/gh/bmabey/pyLDAvis@3.3.1/pyLDAvis/js/ldavis.v3.0.0.js\", function(){\n",
              "                 new LDAvis(\"#\" + \"ldavis_el3501140204754029520680048913\", ldavis_el3501140204754029520680048913_data);\n",
              "            })\n",
              "         });\n",
              "}\n",
              "</script>"
            ],
            "text/plain": [
              "<IPython.core.display.HTML object>"
            ]
          },
          "metadata": {},
          "execution_count": 45
        }
      ],
      "source": [
        "pyLDAvis.display(display_data)  "
      ]
    },
    {
      "cell_type": "markdown",
      "source": [
        "Salvar tópicos"
      ],
      "metadata": {
        "id": "r2ZozPYNaShp"
      }
    },
    {
      "cell_type": "code",
      "source": [
        "def topic_prediction(corpus, lda_model):\n",
        "    string_input = [corpus]\n",
        "    X = string_input\n",
        "\n",
        "    # Convert sparse matrix to gensim corpus.\n",
        "    output = list(lda_model[corpus])[0]\n",
        "    topics = sorted(output,key=lambda x:x[1],reverse=True)\n",
        "    return topics[0][0]"
      ],
      "metadata": {
        "id": "5QuvvDi-aPUc"
      },
      "execution_count": 41,
      "outputs": []
    },
    {
      "cell_type": "code",
      "source": [
        "topics = []\n",
        "for corp in tqdm(corpus):\n",
        "    topics.append(topic_prediction(corp, lda_model))\n",
        "\n",
        "item_licitacao['topic_lda'] = topics\n",
        "item_licitacao.to_csv('item_modeled_5_topics.csv')"
      ],
      "metadata": {
        "colab": {
          "base_uri": "https://localhost:8080/"
        },
        "id": "fch6MUg6a232",
        "outputId": "dcaf516f-0c8d-4ce2-e39f-90d3645fe573"
      },
      "execution_count": 47,
      "outputs": [
        {
          "output_type": "stream",
          "name": "stderr",
          "text": [
            "100%|██████████| 932800/932800 [15:19<00:00, 1014.29it/s]\n"
          ]
        }
      ]
    },
    {
      "cell_type": "markdown",
      "metadata": {
        "id": "Mg-1-4QdPuKj"
      },
      "source": [
        "Qual a diferença entre LDA e NMF?\n"
      ]
    },
    {
      "cell_type": "markdown",
      "metadata": {
        "id": "SSjguLf0PuKj"
      },
      "source": [
        "Desvendando o latent Dirichlet Allocation - https://web.icmc.usp.br"
      ]
    },
    {
      "cell_type": "markdown",
      "metadata": {
        "id": "E7xP-RV0PuKj"
      },
      "source": [
        "O objetivo é esclarecer essa relação em termos de formulação matemática, demonstrando que o NMF com divergência KL aproxima a solução obtida pelo algoritmo de inferência variacional do LDA.\n",
        "\n",
        "As correspondências entre NMF com divergência KL e o algoritmo de inferência variacional para o LDA seguem do fato de que ambos tentam minimizar a divergência entre as estatísticas que relacionam a frequência de palavras, documentos por tópicos e tópicos por palavras. "
      ]
    },
    {
      "cell_type": "markdown",
      "metadata": {
        "id": "d7EhNyabPuKj"
      },
      "source": [
        "\n",
        "\n",
        "### NMF + TfidfVectorizer"
      ]
    },
    {
      "cell_type": "markdown",
      "source": [
        "Foi notado a permanência de pontuações, por isso será adota o TfidfVectorizer"
      ],
      "metadata": {
        "id": "YeW_20n9jDid"
      }
    },
    {
      "cell_type": "code",
      "execution_count": 21,
      "metadata": {
        "id": "0WlpT1NVPuKj"
      },
      "outputs": [],
      "source": [
        "#!python -m pip install -U gensim\n",
        "from gensim.models.nmf import Nmf as GensimNmf\n",
        "from gensim.models import TfidfModel\n",
        "from gensim.corpora import Dictionary"
      ]
    },
    {
      "cell_type": "code",
      "source": [
        "corpus_nmf = [id2word.doc2bow(line) for line in lic]"
      ],
      "metadata": {
        "id": "wmUORREek7sM"
      },
      "execution_count": 22,
      "outputs": []
    },
    {
      "cell_type": "code",
      "source": [
        "model = TfidfModel(corpus_nmf)"
      ],
      "metadata": {
        "id": "6qmE8YaanB8L"
      },
      "execution_count": 23,
      "outputs": []
    },
    {
      "cell_type": "code",
      "source": [
        "vector = model[corpus_nmf[0]]"
      ],
      "metadata": {
        "id": "OXT0c2QQnJsc"
      },
      "execution_count": 24,
      "outputs": []
    },
    {
      "cell_type": "code",
      "execution_count": 25,
      "metadata": {
        "id": "KM_EEVP_PuKj"
      },
      "outputs": [],
      "source": [
        "nmf_model = GensimNmf(\n",
        "    corpus=corpus_nmf,\n",
        "    num_topics=5,\n",
        "    id2word=id2word,\n",
        "    minimum_probability=0,\n",
        "    random_state=0,\n",
        ")"
      ]
    },
    {
      "cell_type": "code",
      "execution_count": 26,
      "metadata": {
        "colab": {
          "base_uri": "https://localhost:8080/"
        },
        "id": "hAAi9pOSPuKk",
        "outputId": "54238b4b-48ca-412b-f7c0-ac783f6d40be"
      },
      "outputs": [
        {
          "output_type": "execute_result",
          "data": {
            "text/plain": [
              "[(0,\n",
              "  [(\"',\", 0.11686557639745737),\n",
              "   (\"['\", 0.09697739732635235),\n",
              "   (\"'\\\\t\", 0.015914157876242462),\n",
              "   (\"'\\\\t',\", 0.013495140205545599),\n",
              "   (\"'c',\", 0.009665612446567369),\n",
              "   (\"'papel',\", 0.0047421662891224264),\n",
              "   (\"'p',\", 0.00399079969139029),\n",
              "   (\"'caixa',\", 0.003917576600602734),\n",
              "   (\"'placa',\", 0.003811384720506053),\n",
              "   (\"'pacote',\", 0.0033429444873240228)]),\n",
              " (1,\n",
              "  [(\"'aço',\", 0.021321595160370584),\n",
              "   (\"'altura',\", 0.008315761092613097),\n",
              "   (\"'mínimo',\", 0.008004413799802363),\n",
              "   (\"'espessura',\", 0.007732272488401481),\n",
              "   (\"'estrutura',\", 0.006089116718750194),\n",
              "   (\"'largura',\", 0.005953386556848023),\n",
              "   (\"'tubo',\", 0.005559124047275249),\n",
              "   (\"'comprimento',\", 0.005280839878493175),\n",
              "   (\"'pvc',\", 0.005020370092425897),\n",
              "   (\"'material',\", 0.00487879929038923)]),\n",
              " (2,\n",
              "  [(\"'x',\", 0.12660233755957695),\n",
              "   (\"'dimensões',\", 0.0078075084713125666),\n",
              "   (\"'papel',\", 0.0074599862710071725),\n",
              "   (\"'altura',\", 0.006408339234332103),\n",
              "   (\"'mínimo',\", 0.006261456118000038),\n",
              "   (\"'medindo',\", 0.006230405678555663),\n",
              "   (\"'largura',\", 0.006142961986296623),\n",
              "   (\"'usb',\", 0.005293830365858256),\n",
              "   (\"'x']\", 0.004783818695426349),\n",
              "   (\"'impressão',\", 0.004343858773062609)]),\n",
              " (3,\n",
              "  [(\"'serviços',\", 0.014630591445039164),\n",
              "   (\"'\\\\t',\", 0.014051002901254986),\n",
              "   (\"'empresa',\", 0.009541588456720965),\n",
              "   (\"['contratação',\", 0.007180268068421723),\n",
              "   (\"'municipal',\", 0.006800626359265849),\n",
              "   (\"'município',\", 0.006332141680737048),\n",
              "   (\"'prestação',\", 0.005844655568108009),\n",
              "   (\"'serviço',\", 0.005375839879438575),\n",
              "   (\"'mínimo',\", 0.005071700037111085),\n",
              "   (\"'horas',\", 0.004568884071340469)]),\n",
              " (4,\n",
              "  [(\"'embalagem',\", 0.03348081018582427),\n",
              "   (\"'validade',\", 0.02962060920517439),\n",
              "   (\"'mínimo',\", 0.020342677277463438),\n",
              "   (\"'produto',\", 0.020058394363441926),\n",
              "   (\"'mínima',\", 0.014202364748302724),\n",
              "   (\"'meses',\", 0.012764580001834532),\n",
              "   (\"'fabricação',\", 0.011427675479758825),\n",
              "   (\"'contendo',\", 0.00933303730497744),\n",
              "   (\"'identificação',\", 0.008784154316646949),\n",
              "   (\"'peso',\", 0.008638874197607138)])]"
            ]
          },
          "metadata": {},
          "execution_count": 26
        }
      ],
      "source": [
        "nmf_model.show_topics(formatted=False)"
      ]
    },
    {
      "cell_type": "code",
      "execution_count": 27,
      "metadata": {
        "colab": {
          "base_uri": "https://localhost:8080/"
        },
        "id": "m5repb-bPuKk",
        "outputId": "ff82479c-8db6-4ead-8b9a-823e5de31848"
      },
      "outputs": [
        {
          "output_type": "execute_result",
          "data": {
            "text/plain": [
              "[(0,\n",
              "  '0.117*\"\\',\" + 0.097*\"[\\'\" + 0.016*\"\\'\\\\t\" + 0.013*\"\\'\\\\t\\',\" + 0.010*\"\\'c\\',\" + 0.005*\"\\'papel\\',\" + 0.004*\"\\'p\\',\" + 0.004*\"\\'caixa\\',\" + 0.004*\"\\'placa\\',\" + 0.003*\"\\'pacote\\',\"'),\n",
              " (1,\n",
              "  '0.021*\"\\'aço\\',\" + 0.008*\"\\'altura\\',\" + 0.008*\"\\'mínimo\\',\" + 0.008*\"\\'espessura\\',\" + 0.006*\"\\'estrutura\\',\" + 0.006*\"\\'largura\\',\" + 0.006*\"\\'tubo\\',\" + 0.005*\"\\'comprimento\\',\" + 0.005*\"\\'pvc\\',\" + 0.005*\"\\'material\\',\"'),\n",
              " (2,\n",
              "  '0.127*\"\\'x\\',\" + 0.008*\"\\'dimensões\\',\" + 0.007*\"\\'papel\\',\" + 0.006*\"\\'altura\\',\" + 0.006*\"\\'mínimo\\',\" + 0.006*\"\\'medindo\\',\" + 0.006*\"\\'largura\\',\" + 0.005*\"\\'usb\\',\" + 0.005*\"\\'x\\']\" + 0.004*\"\\'impressão\\',\"'),\n",
              " (3,\n",
              "  '0.015*\"\\'serviços\\',\" + 0.014*\"\\'\\\\t\\',\" + 0.010*\"\\'empresa\\',\" + 0.007*\"[\\'contratação\\',\" + 0.007*\"\\'municipal\\',\" + 0.006*\"\\'município\\',\" + 0.006*\"\\'prestação\\',\" + 0.005*\"\\'serviço\\',\" + 0.005*\"\\'mínimo\\',\" + 0.005*\"\\'horas\\',\"'),\n",
              " (4,\n",
              "  '0.033*\"\\'embalagem\\',\" + 0.030*\"\\'validade\\',\" + 0.020*\"\\'mínimo\\',\" + 0.020*\"\\'produto\\',\" + 0.014*\"\\'mínima\\',\" + 0.013*\"\\'meses\\',\" + 0.011*\"\\'fabricação\\',\" + 0.009*\"\\'contendo\\',\" + 0.009*\"\\'identificação\\',\" + 0.009*\"\\'peso\\',\"')]"
            ]
          },
          "metadata": {},
          "execution_count": 27
        }
      ],
      "source": [
        "nmf_model.show_topics()"
      ]
    },
    {
      "cell_type": "code",
      "execution_count": 28,
      "metadata": {
        "colab": {
          "base_uri": "https://localhost:8080/"
        },
        "id": "c44MYuySPuKk",
        "outputId": "368f4d74-f60e-4499-eff2-69a6942c0cc0"
      },
      "outputs": [
        {
          "output_type": "execute_result",
          "data": {
            "text/plain": [
              "[([(0.03348081018582427, \"'embalagem',\"),\n",
              "   (0.02962060920517439, \"'validade',\"),\n",
              "   (0.020342677277463438, \"'mínimo',\"),\n",
              "   (0.020058394363441926, \"'produto',\"),\n",
              "   (0.014202364748302724, \"'mínima',\"),\n",
              "   (0.012764580001834532, \"'meses',\"),\n",
              "   (0.011427675479758825, \"'fabricação',\"),\n",
              "   (0.00933303730497744, \"'contendo',\"),\n",
              "   (0.008784154316646949, \"'identificação',\"),\n",
              "   (0.008638874197607138, \"'peso',\"),\n",
              "   (0.008473605252326608, \"'prazo',\"),\n",
              "   (0.0075573549316007346, \"'registro',\"),\n",
              "   (0.007128849774699382, \"'entrega']\"),\n",
              "   (0.006616713864701782, \"'lote',\"),\n",
              "   (0.00636703090784535, \"'entrega',\"),\n",
              "   (0.006229343357380497, \"'fabricante',\"),\n",
              "   (0.006126636935579526, \"'ingredientes',\"),\n",
              "   (0.005991070416767276, \"'rótulo',\"),\n",
              "   (0.004994435431669884, \"'plástica',\"),\n",
              "   (0.004759248212029847, \"'nutricional',\")],\n",
              "  -1.8115344250090073),\n",
              " ([(0.021321595160370584, \"'aço',\"),\n",
              "   (0.008315761092613097, \"'altura',\"),\n",
              "   (0.008004413799802363, \"'mínimo',\"),\n",
              "   (0.007732272488401481, \"'espessura',\"),\n",
              "   (0.006089116718750194, \"'estrutura',\"),\n",
              "   (0.005953386556848023, \"'largura',\"),\n",
              "   (0.005559124047275249, \"'tubo',\"),\n",
              "   (0.005280839878493175, \"'comprimento',\"),\n",
              "   (0.005020370092425897, \"'pvc',\"),\n",
              "   (0.00487879929038923, \"'material',\"),\n",
              "   (0.00464708487370039, \"'alta',\"),\n",
              "   (0.004602015426151849, \"'sistema',\"),\n",
              "   (0.004439431449832978, \"'acabamento',\"),\n",
              "   (0.004357149478226601, \"'pintura',\"),\n",
              "   (0.00432884335235508, \"'chapa',\"),\n",
              "   (0.004144609302789976, \"'mínima',\"),\n",
              "   (0.003952813297405046, \"'inox',\"),\n",
              "   (0.0038632302179546917, \"'diâmetro',\"),\n",
              "   (0.0036823937437605305, \"'madeira',\"),\n",
              "   (0.0035766696100996372, \"'base',\")],\n",
              "  -2.847147822044424),\n",
              " ([(0.014630591445039164, \"'serviços',\"),\n",
              "   (0.014051002901254986, \"'\\\\t',\"),\n",
              "   (0.009541588456720965, \"'empresa',\"),\n",
              "   (0.007180268068421723, \"['contratação',\"),\n",
              "   (0.006800626359265849, \"'municipal',\"),\n",
              "   (0.006332141680737048, \"'município',\"),\n",
              "   (0.005844655568108009, \"'prestação',\"),\n",
              "   (0.005375839879438575, \"'serviço',\"),\n",
              "   (0.005071700037111085, \"'mínimo',\"),\n",
              "   (0.004568884071340469, \"'horas',\"),\n",
              "   (0.004414590040781071, \"'sistema',\"),\n",
              "   (0.0037035143663274907, \"'saúde',\"),\n",
              "   (0.003496020285203162, \"'termo',\"),\n",
              "   (0.0034621636659204523, \"'obra',\"),\n",
              "   (0.00328300329047909, \"'secretaria',\"),\n",
              "   (0.0030912923208306787, \"'capacidade',\"),\n",
              "   (0.003041157868451106, \"['prestação',\"),\n",
              "   (0.0030377605413909386, \"'linha',\"),\n",
              "   (0.002975658822365632, \"'manutenção',\"),\n",
              "   (0.0028119379727848557, \"'área',\")],\n",
              "  -3.243381421676703),\n",
              " ([(0.12660233755957695, \"'x',\"),\n",
              "   (0.0078075084713125666, \"'dimensões',\"),\n",
              "   (0.0074599862710071725, \"'papel',\"),\n",
              "   (0.006408339234332103, \"'altura',\"),\n",
              "   (0.006261456118000038, \"'mínimo',\"),\n",
              "   (0.006230405678555663, \"'medindo',\"),\n",
              "   (0.006142961986296623, \"'largura',\"),\n",
              "   (0.005293830365858256, \"'usb',\"),\n",
              "   (0.004783818695426349, \"'x']\"),\n",
              "   (0.004343858773062609, \"'impressão',\"),\n",
              "   (0.004128300309079058, \"'l',\"),\n",
              "   (0.003941756270681227, \"'portas',\"),\n",
              "   (0.003760218213537601, \"'comprimento',\"),\n",
              "   (0.003658815970880093, \"'tinta',\"),\n",
              "   (0.0036197352970225123, \"'xcm',\"),\n",
              "   (0.003528900874819912, \"'medidas',\"),\n",
              "   (0.0033731262536340414, \"'memória',\"),\n",
              "   (0.0031350493466813577, \"'madeira',\"),\n",
              "   (0.0030909538424416794, \"'folhas',\"),\n",
              "   (0.002973564834519788, \"'formato',\")],\n",
              "  -3.6162071196916163),\n",
              " ([(0.11686557639745737, \"',\"),\n",
              "   (0.09697739732635235, \"['\"),\n",
              "   (0.015914157876242462, \"'\\\\t\"),\n",
              "   (0.013495140205545599, \"'\\\\t',\"),\n",
              "   (0.009665612446567369, \"'c',\"),\n",
              "   (0.0047421662891224264, \"'papel',\"),\n",
              "   (0.00399079969139029, \"'p',\"),\n",
              "   (0.003917576600602734, \"'caixa',\"),\n",
              "   (0.003811384720506053, \"'placa',\"),\n",
              "   (0.0033429444873240228, \"'pacote',\"),\n",
              "   (0.0031676488587554395, \"'material',\"),\n",
              "   (0.002685750973987162, \"'renavam',\"),\n",
              "   (0.00266547694514469, \"'cabo',\"),\n",
              "   (0.002617494413546713, \"'chassis',\"),\n",
              "   (0.0025836668009142924, \"'\\\\xa0',\"),\n",
              "   (0.002516312691023608, \"'serviço',\"),\n",
              "   (0.002512637100029508, \"'filtro',\"),\n",
              "   (0.0024970732522292356, \"'\\\\xa0\"),\n",
              "   (0.002494415719350733, \"'fio',\"),\n",
              "   (0.0024938056887698445, \"'x']\")],\n",
              "  -5.878105507719217)]"
            ]
          },
          "metadata": {},
          "execution_count": 28
        }
      ],
      "source": [
        "nmf_model.top_topics(corpus_nmf)"
      ]
    },
    {
      "cell_type": "code",
      "execution_count": 29,
      "metadata": {
        "colab": {
          "base_uri": "https://localhost:8080/"
        },
        "id": "oUkqPcd-PuKk",
        "outputId": "bab3b826-7ce5-4e6c-d593-d53fd94c6d8e"
      },
      "outputs": [
        {
          "output_type": "stream",
          "name": "stderr",
          "text": [
            "/usr/local/lib/python3.7/dist-packages/smart_open/smart_open_lib.py:494: DeprecationWarning: This function is deprecated.  See https://github.com/RaRe-Technologies/smart_open/blob/develop/MIGRATING_FROM_OLDER_VERSIONS.rst for more information\n",
            "  warnings.warn(message, category=DeprecationWarning)\n"
          ]
        }
      ],
      "source": [
        "nmf_model.save('/content/drive/MyDrive/NLP/nmf_model')"
      ]
    },
    {
      "cell_type": "code",
      "execution_count": 32,
      "metadata": {
        "colab": {
          "base_uri": "https://localhost:8080/"
        },
        "id": "Pay_bwynPuKk",
        "outputId": "bce2d9e3-8f58-4f74-eb88-b8c7e1eedd7f"
      },
      "outputs": [
        {
          "output_type": "stream",
          "name": "stderr",
          "text": [
            "/usr/local/lib/python3.7/dist-packages/smart_open/smart_open_lib.py:494: DeprecationWarning: This function is deprecated.  See https://github.com/RaRe-Technologies/smart_open/blob/develop/MIGRATING_FROM_OLDER_VERSIONS.rst for more information\n",
            "  warnings.warn(message, category=DeprecationWarning)\n"
          ]
        }
      ],
      "source": [
        "nmf_model = GensimNmf.load('/content/drive/MyDrive/NLP/nmf_model')"
      ]
    },
    {
      "cell_type": "code",
      "source": [
        "def topic_prediction_nmf(corpus, nmf_model):\n",
        "    string_input = [corpus]\n",
        "    X = string_input\n",
        "\n",
        "    # Convert sparse matrix to gensim corpus.\n",
        "    output = list(nmf_model[corpus])[0]\n",
        "    print(output)\n",
        "    return output[0]"
      ],
      "metadata": {
        "id": "FPH7CX9aySuf"
      },
      "execution_count": 56,
      "outputs": []
    },
    {
      "cell_type": "markdown",
      "metadata": {
        "id": "yKEn0_XkPuKl"
      },
      "source": [
        "Coerência NFM "
      ]
    },
    {
      "cell_type": "code",
      "execution_count": 60,
      "metadata": {
        "id": "eOOyhJnxPuKl"
      },
      "outputs": [],
      "source": [
        "coerencia_nmf = CoherenceModel(\n",
        "    model=nmf_model,\n",
        "    corpus=corpus_nmf,\n",
        "    coherence='u_mass',\n",
        ").get_coherence()\n",
        "    "
      ]
    },
    {
      "cell_type": "code",
      "execution_count": 61,
      "metadata": {
        "colab": {
          "base_uri": "https://localhost:8080/"
        },
        "id": "ISDDnXYePuKl",
        "outputId": "72597de4-ed9e-4aff-ee0d-62503e7cef40"
      },
      "outputs": [
        {
          "output_type": "execute_result",
          "data": {
            "text/plain": [
              "-3.4792752592281935"
            ]
          },
          "metadata": {},
          "execution_count": 61
        }
      ],
      "source": [
        "coerencia_nmf"
      ]
    },
    {
      "cell_type": "markdown",
      "metadata": {
        "id": "0o5iFOeqPuKl"
      },
      "source": [
        "Wordclouds"
      ]
    },
    {
      "cell_type": "code",
      "execution_count": 62,
      "metadata": {
        "colab": {
          "base_uri": "https://localhost:8080/",
          "height": 138
        },
        "id": "U-_-fsqfPuKl",
        "outputId": "91a66096-bb29-45ad-f9c0-bb0511f33232"
      },
      "outputs": [
        {
          "output_type": "display_data",
          "data": {
            "image/png": "[encoded data removed]",
            "text/plain": [
              "<Figure size 1080x1080 with 5 Axes>"
            ]
          },
          "metadata": {
            "needs_background": "light"
          }
        }
      ],
      "source": [
        "cols = [color for name, color in mcolors.XKCD_COLORS.items()]\n",
        "cloud = WordCloud(stopwords=filter_out,\n",
        "                  background_color='white',\n",
        "                  width=2500,\n",
        "                  height=1800,\n",
        "                  max_words=20,\n",
        "                  colormap='tab10',\n",
        "                  color_func=lambda *args, **kwargs: cols[i],\n",
        "                  prefer_horizontal=1.0)\n",
        "topics = nmf_model.show_topics(formatted=False)\n",
        "fig, axes = plt.subplots(1, 5, figsize=(15,15), sharex=True, sharey=True)\n",
        "for i, ax in enumerate(axes.flatten()):\n",
        "    fig.add_subplot(ax)\n",
        "    topic_words = dict(topics[i][1])\n",
        "    cloud.generate_from_frequencies(topic_words, max_font_size=600)\n",
        "    plt.gca().imshow(cloud)\n",
        "    plt.gca().set_title('Topic ' + str(i), fontdict=dict(size=16))\n",
        "    plt.gca().axis('off')\n",
        "plt.subplots_adjust(wspace=0, hspace=0)\n",
        "plt.axis('off')\n",
        "plt.margins(x=0, y=0)\n",
        "plt.tight_layout()\n",
        "plt.show()"
      ]
    },
    {
      "cell_type": "markdown",
      "metadata": {
        "id": "6bJNBmqvPuKn"
      },
      "source": [
        "### K-means + TfidfVectorizer"
      ]
    },
    {
      "cell_type": "code",
      "source": [
        ""
      ],
      "metadata": {
        "id": "4ZN00fAD3UlA"
      },
      "execution_count": null,
      "outputs": []
    },
    {
      "cell_type": "markdown",
      "metadata": {
        "id": "FOSSM37b0A7l"
      },
      "source": [
        "### Análise dos dados"
      ]
    },
    {
      "cell_type": "markdown",
      "metadata": {
        "id": "I4aiEJg60NcS"
      },
      "source": [
        "### Conclusão"
      ]
    },
    {
      "cell_type": "markdown",
      "metadata": {
        "id": "Xsqc4NvtPuKn"
      },
      "source": [
        "Counter Vectorizarion -> contar a ocorrência de cada palavra para mapear o texto para um número\n",
        "\n",
        "CounterVectorizer\n",
        "\n",
        "TfidfVectorizer -> cria a mais uma matriz de termos de documento a partir de nossas mensagens.\n",
        "No entanto, em vez de preencher o DTM com contagens de token, ele calcula o valor da frequência do documento inverso da frequência do termo para cada palavra (TF-IDF).\n",
        "Um fator de frequência de documento inverso é incorporado, o que diminui o peso dos termos que ocorrem com muita frequência no conjunto de documentos e aumenta o peso dos termos que ocorrem raramente.\n"
      ]
    },
    {
      "cell_type": "markdown",
      "metadata": {
        "id": "LQmt32LkNuEB"
      },
      "source": [
        "Quais foram as áreas com maiores investimentos?"
      ]
    },
    {
      "cell_type": "markdown",
      "metadata": {
        "id": "eLjYwovDN6Qm"
      },
      "source": [
        "E quais foram os principais itens licitados nelas?"
      ]
    },
    {
      "cell_type": "code",
      "execution_count": null,
      "metadata": {
        "id": "SIob_MW7NtkJ"
      },
      "outputs": [],
      "source": [
        ""
      ]
    }
  ],
  "metadata": {
    "colab": {
      "collapsed_sections": [],
      "name": "Maiores_investimentos_licitações.ipynb",
      "provenance": [],
      "include_colab_link": true
    },
    "kernelspec": {
      "display_name": "Python 3",
      "name": "python3"
    },
    "language_info": {
      "codemirror_mode": {
        "name": "ipython",
        "version": 3
      },
      "file_extension": ".py",
      "mimetype": "text/x-python",
      "name": "python",
      "nbconvert_exporter": "python",
      "pygments_lexer": "ipython3",
      "version": "3.7.11"
    },
    "accelerator": "GPU"
  },
  "nbformat": 4,
  "nbformat_minor": 0
}