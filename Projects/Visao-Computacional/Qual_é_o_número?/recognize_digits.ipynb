{
  "nbformat": 4,
  "nbformat_minor": 0,
  "metadata": {
    "colab": {
      "name": "recognize_digits.ipynb",
      "provenance": [],
      "authorship_tag": "ABX9TyOyzhWnfNMWLcBf8aPzDmyC",
      "include_colab_link": true
    },
    "kernelspec": {
      "name": "python3",
      "display_name": "Python 3"
    },
    "language_info": {
      "name": "python"
    }
  },
  "cells": [
    {
      "cell_type": "markdown",
      "metadata": {
        "id": "view-in-github",
        "colab_type": "text"
      },
      "source": [
        "<a href=\"https://colab.research.google.com/github/IonaSantana/Artificial-Intelligence/blob/main/Projects/Visao-Computacional/Qual_%C3%A9_o_n%C3%BAmero%3F/recognize_digits.ipynb\" target=\"_parent\"><img src=\"https://colab.research.google.com/assets/colab-badge.svg\" alt=\"Open In Colab\"/></a>"
      ]
    },
    {
      "cell_type": "code",
      "source": [
        "import cv2\n",
        "import tensorflow as tf\n",
        "import matplotlib.pyplot as plt\n",
        "import numpy as np"
      ],
      "metadata": {
        "id": "9Tdr5iaton90"
      },
      "execution_count": 99,
      "outputs": []
    },
    {
      "cell_type": "code",
      "execution_count": 3,
      "metadata": {
        "colab": {
          "base_uri": "https://localhost:8080/"
        },
        "id": "hAQUbkdjnzAj",
        "outputId": "f4a67a10-2860-4f34-daac-36e38dc458f4"
      },
      "outputs": [
        {
          "output_type": "stream",
          "name": "stdout",
          "text": [
            "Downloading data from https://storage.googleapis.com/tensorflow/tf-keras-datasets/mnist.npz\n",
            "11493376/11490434 [==============================] - 0s 0us/step\n",
            "11501568/11490434 [==============================] - 0s 0us/step\n"
          ]
        }
      ],
      "source": [
        "from keras.datasets import mnist\n",
        "(train_X, train_y), (test_X, test_y) = mnist.load_data()"
      ]
    },
    {
      "cell_type": "code",
      "source": [
        "from google.colab.patches import cv2_imshow\n",
        "cv2_imshow(train_X[0])"
      ],
      "metadata": {
        "colab": {
          "base_uri": "https://localhost:8080/",
          "height": 45
        },
        "id": "aF4ODyACoxe3",
        "outputId": "8c0cb26d-3642-433e-e75d-52f16efa0dbe"
      },
      "execution_count": 7,
      "outputs": [
        {
          "output_type": "display_data",
          "data": {
            "image/png": "[encoded data removed]",
            "text/plain": [
              "<PIL.Image.Image image mode=L size=28x28 at 0x7F9ED33D0990>"
            ]
          },
          "metadata": {}
        }
      ]
    },
    {
      "cell_type": "code",
      "source": [
        "train_X[0].shape"
      ],
      "metadata": {
        "colab": {
          "base_uri": "https://localhost:8080/"
        },
        "id": "7q7Cl0Gkp5nl",
        "outputId": "8c4b5176-64d4-4e85-ba73-6a6e1258853e"
      },
      "execution_count": 17,
      "outputs": [
        {
          "output_type": "execute_result",
          "data": {
            "text/plain": [
              "(28, 28)"
            ]
          },
          "metadata": {},
          "execution_count": 17
        }
      ]
    },
    {
      "cell_type": "code",
      "source": [
        "network = tf.keras.models.Sequential([\n",
        "                                      tf.keras.layers.Flatten(input_shape=(28,28)),\n",
        "                                      tf.keras.layers.Dense(128, activation = 'relu'),\n",
        "                                      tf.keras.layers.Dense(10)\n",
        "])"
      ],
      "metadata": {
        "id": "Tov5qHW5prm3"
      },
      "execution_count": 22,
      "outputs": []
    },
    {
      "cell_type": "code",
      "source": [
        "network.compile(optimizer='adam',\n",
        "                loss = tf.keras.losses.SparseCategoricalCrossentropy(from_logits=True),\n",
        "                metrics=['accuracy'])"
      ],
      "metadata": {
        "id": "al88JIJGurfM"
      },
      "execution_count": 26,
      "outputs": []
    },
    {
      "cell_type": "code",
      "source": [
        "network.fit(x=train_X, y=train_y, epochs=10)"
      ],
      "metadata": {
        "colab": {
          "base_uri": "https://localhost:8080/"
        },
        "id": "hSCo6SNdvlty",
        "outputId": "e985c961-8c27-49ca-e1c1-f32310c4c1a7"
      },
      "execution_count": 28,
      "outputs": [
        {
          "output_type": "stream",
          "name": "stdout",
          "text": [
            "Epoch 1/10\n",
            "1875/1875 [==============================] - 4s 2ms/step - loss: 2.4439 - accuracy: 0.8594\n",
            "Epoch 2/10\n",
            "1875/1875 [==============================] - 4s 2ms/step - loss: 0.3728 - accuracy: 0.9128\n",
            "Epoch 3/10\n",
            "1875/1875 [==============================] - 4s 2ms/step - loss: 0.2781 - accuracy: 0.9303\n",
            "Epoch 4/10\n",
            "1875/1875 [==============================] - 4s 2ms/step - loss: 0.2444 - accuracy: 0.9374\n",
            "Epoch 5/10\n",
            "1875/1875 [==============================] - 4s 2ms/step - loss: 0.2265 - accuracy: 0.9430\n",
            "Epoch 6/10\n",
            "1875/1875 [==============================] - 4s 2ms/step - loss: 0.2060 - accuracy: 0.9480\n",
            "Epoch 7/10\n",
            "1875/1875 [==============================] - 4s 2ms/step - loss: 0.2024 - accuracy: 0.9494\n",
            "Epoch 8/10\n",
            "1875/1875 [==============================] - 4s 2ms/step - loss: 0.1916 - accuracy: 0.9527\n",
            "Epoch 9/10\n",
            "1875/1875 [==============================] - 4s 2ms/step - loss: 0.1869 - accuracy: 0.9543\n",
            "Epoch 10/10\n",
            "1875/1875 [==============================] - 4s 2ms/step - loss: 0.1793 - accuracy: 0.9562\n"
          ]
        },
        {
          "output_type": "execute_result",
          "data": {
            "text/plain": [
              "<keras.callbacks.History at 0x7f9ecd765190>"
            ]
          },
          "metadata": {},
          "execution_count": 28
        }
      ]
    },
    {
      "cell_type": "markdown",
      "source": [
        "### Testando o conjunto de Teste"
      ],
      "metadata": {
        "id": "smfZzyhq437j"
      }
    },
    {
      "cell_type": "code",
      "source": [
        "test_loss, test_acc = network.evaluate(test_X, test_y)"
      ],
      "metadata": {
        "colab": {
          "base_uri": "https://localhost:8080/"
        },
        "id": "g2iA326_wLtB",
        "outputId": "c9395c86-49e9-4d90-bcf3-a4549de49529"
      },
      "execution_count": 29,
      "outputs": [
        {
          "output_type": "stream",
          "name": "stdout",
          "text": [
            "313/313 [==============================] - 1s 1ms/step - loss: 0.3245 - accuracy: 0.9447\n"
          ]
        }
      ]
    },
    {
      "cell_type": "markdown",
      "source": [
        "### Fazendo predições"
      ],
      "metadata": {
        "id": "2WakO80y48k6"
      }
    },
    {
      "cell_type": "code",
      "source": [
        "probability_model = tf.keras.Sequential([network,\n",
        "                                        tf.keras.layers.Softmax()])"
      ],
      "metadata": {
        "id": "GCZs_fuY40to"
      },
      "execution_count": 39,
      "outputs": []
    },
    {
      "cell_type": "code",
      "source": [
        "predictions = probability_model.predict(test_X) #assim pega a probabilidade"
      ],
      "metadata": {
        "id": "1MYeZl4s4odX"
      },
      "execution_count": 40,
      "outputs": []
    },
    {
      "cell_type": "code",
      "source": [
        "def plot_image(i, predictions, true_labels, images):\n",
        "  true_label, img = true_labels[i], images[i]\n",
        "  plt.axis('off')\n",
        "  plt.imshow(img, 'gray')\n",
        "  predicted_label = np.argmax(predictions[i])"
      ],
      "metadata": {
        "id": "sHKO9yu07ade"
      },
      "execution_count": 93,
      "outputs": []
    },
    {
      "cell_type": "code",
      "source": [
        "plot_image(0, predictions, test_y, test_X)"
      ],
      "metadata": {
        "colab": {
          "base_uri": "https://localhost:8080/",
          "height": 248
        },
        "id": "UzyVROFp8g3F",
        "outputId": "28402838-656e-40d6-d280-fcd4e1ebff67"
      },
      "execution_count": 94,
      "outputs": [
        {
          "output_type": "display_data",
          "data": {
            "image/png": "[encoded data removed]",
            "text/plain": [
              "<Figure size 432x288 with 1 Axes>"
            ]
          },
          "metadata": {
            "needs_background": "light"
          }
        }
      ]
    },
    {
      "cell_type": "code",
      "source": [
        "def plot_value_array(i, predictions, true_labels):\n",
        "  true_label = true_labels[i]\n",
        "  this_plot = plt.bar(range(10), predictions[i])\n",
        "  plt.xticks(range(10))\n",
        "  plt.ylim([0,1])\n",
        "  predicted_label = np.argmax(predictions[i])\n",
        "  this_plot[predicted_label].set_color('blue')\n",
        "  this_plot[true_label].set_color('green')"
      ],
      "metadata": {
        "id": "AjOFbC8H0UWf"
      },
      "execution_count": 102,
      "outputs": []
    },
    {
      "cell_type": "code",
      "source": [
        "plot_value_array(0,predictions, test_y)"
      ],
      "metadata": {
        "colab": {
          "base_uri": "https://localhost:8080/",
          "height": 269
        },
        "id": "Qe7Pwons-8EP",
        "outputId": "55a5d904-1535-4683-982f-0685247f7b12"
      },
      "execution_count": 103,
      "outputs": [
        {
          "output_type": "display_data",
          "data": {
            "image/png": "[encoded data removed]",
            "text/plain": [
              "<Figure size 432x288 with 1 Axes>"
            ]
          },
          "metadata": {
            "needs_background": "light"
          }
        }
      ]
    },
    {
      "cell_type": "code",
      "source": [
        "def show_images(X,y, predictions):\n",
        "  \n",
        "  num_rows = 5\n",
        "  num_cols = 4\n",
        "  num_images = num_rows * num_cols\n",
        "  plt.figure(figsize=(2*(2.5)*num_cols, 2*num_rows))\n",
        "  for i in range(num_images):\n",
        "    plt.subplot(num_rows, 2*num_cols, 2*i+1)\n",
        "    plot_image(i, predictions, y, X )\n",
        "    plt.axis('off')\n",
        "    plt.subplot(num_rows, 2*num_cols, 2*i+2)\n",
        "    plot_value_array(i, predictions, y)\n",
        "  plt.show()"
      ],
      "metadata": {
        "id": "Bj1gl72WxB3X"
      },
      "execution_count": 127,
      "outputs": []
    },
    {
      "cell_type": "code",
      "source": [
        "show_images(test_X, test_y, predictions)"
      ],
      "metadata": {
        "colab": {
          "base_uri": "https://localhost:8080/",
          "height": 482
        },
        "id": "f7X85fw7y-kj",
        "outputId": "459c2b21-4398-4f84-e336-ba81fc5d3077"
      },
      "execution_count": 128,
      "outputs": [
        {
          "output_type": "display_data",
          "data": {
            "image/png": "[encoded data removed]",
            "text/plain": [
              "<Figure size 1440x720 with 40 Axes>"
            ]
          },
          "metadata": {
            "needs_background": "light"
          }
        }
      ]
    }
  ]
}