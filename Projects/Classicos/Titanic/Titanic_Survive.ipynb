{
  "nbformat": 4,
  "nbformat_minor": 0,
  "metadata": {
    "colab": {
      "name": "Titanic_Survive.ipynb",
      "provenance": [],
      "collapsed_sections": [],
      "authorship_tag": "ABX9TyMduapRLSFtiAxRmn0JkIjb",
      "include_colab_link": true
    },
    "kernelspec": {
      "name": "python3",
      "display_name": "Python 3"
    },
    "language_info": {
      "name": "python"
    }
  },
  "cells": [
    {
      "cell_type": "markdown",
      "metadata": {
        "id": "view-in-github",
        "colab_type": "text"
      },
      "source": [
        "<a href=\"https://colab.research.google.com/github/IonaSantana/Artificial-Intelligence/blob/main/Projects/Classicos/Titanic/Titanic_Survive.ipynb\" target=\"_parent\"><img src=\"https://colab.research.google.com/assets/colab-badge.svg\" alt=\"Open In Colab\"/></a>"
      ]
    },
    {
      "cell_type": "markdown",
      "source": [
        "# Análise Exploratória"
      ],
      "metadata": {
        "id": "pSg9w7yeW7qr"
      }
    },
    {
      "cell_type": "code",
      "source": [
        "import pandas as pd\n",
        "import numpy as np\n",
        "import seaborn as sn\n",
        "import matplotlib.pyplot as plt\n",
        "%matplotlib inline"
      ],
      "metadata": {
        "id": "dCO22eUteMCh"
      },
      "execution_count": 1,
      "outputs": []
    },
    {
      "cell_type": "code",
      "source": [
        "from google.colab import drive\n",
        "drive.mount('/content/drive')"
      ],
      "metadata": {
        "colab": {
          "base_uri": "https://localhost:8080/"
        },
        "id": "Rf7hYuoOeUMv",
        "outputId": "321c6188-db11-4625-cd20-6a46ee21ed3c"
      },
      "execution_count": 2,
      "outputs": [
        {
          "output_type": "stream",
          "name": "stdout",
          "text": [
            "Drive already mounted at /content/drive; to attempt to forcibly remount, call drive.mount(\"/content/drive\", force_remount=True).\n"
          ]
        }
      ]
    },
    {
      "cell_type": "code",
      "source": [
        "people = pd.read_csv(\"/content/drive/MyDrive/Titanic/train.csv\")"
      ],
      "metadata": {
        "id": "ex1Wo2f_efGc"
      },
      "execution_count": 3,
      "outputs": []
    },
    {
      "cell_type": "code",
      "source": [
        "people.head(3)"
      ],
      "metadata": {
        "colab": {
          "base_uri": "https://localhost:8080/",
          "height": 364
        },
        "id": "UiNvPIsje6Sz",
        "outputId": "93f1054b-3bd1-433e-9abd-5e0d4f7e421f"
      },
      "execution_count": 4,
      "outputs": [
        {
          "output_type": "execute_result",
          "data": {
            "text/html": [
              "\n",
              "  <div id=\"df-79a440e2-3510-44f5-8482-375fe433103d\">\n",
              "    <div class=\"colab-df-container\">\n",
              "      <div>\n",
              "<style scoped>\n",
              "    .dataframe tbody tr th:only-of-type {\n",
              "        vertical-align: middle;\n",
              "    }\n",
              "\n",
              "    .dataframe tbody tr th {\n",
              "        vertical-align: top;\n",
              "    }\n",
              "\n",
              "    .dataframe thead th {\n",
              "        text-align: right;\n",
              "    }\n",
              "</style>\n",
              "<table border=\"1\" class=\"dataframe\">\n",
              "  <thead>\n",
              "    <tr style=\"text-align: right;\">\n",
              "      <th></th>\n",
              "      <th>PassengerId</th>\n",
              "      <th>Survived</th>\n",
              "      <th>Pclass</th>\n",
              "      <th>Name</th>\n",
              "      <th>Sex</th>\n",
              "      <th>Age</th>\n",
              "      <th>SibSp</th>\n",
              "      <th>Parch</th>\n",
              "      <th>Ticket</th>\n",
              "      <th>Fare</th>\n",
              "      <th>Cabin</th>\n",
              "      <th>Embarked</th>\n",
              "    </tr>\n",
              "  </thead>\n",
              "  <tbody>\n",
              "    <tr>\n",
              "      <th>0</th>\n",
              "      <td>1</td>\n",
              "      <td>0</td>\n",
              "      <td>3</td>\n",
              "      <td>Braund, Mr. Owen Harris</td>\n",
              "      <td>male</td>\n",
              "      <td>22.0</td>\n",
              "      <td>1</td>\n",
              "      <td>0</td>\n",
              "      <td>A/5 21171</td>\n",
              "      <td>7.2500</td>\n",
              "      <td>NaN</td>\n",
              "      <td>S</td>\n",
              "    </tr>\n",
              "    <tr>\n",
              "      <th>1</th>\n",
              "      <td>2</td>\n",
              "      <td>1</td>\n",
              "      <td>1</td>\n",
              "      <td>Cumings, Mrs. John Bradley (Florence Briggs Th...</td>\n",
              "      <td>female</td>\n",
              "      <td>38.0</td>\n",
              "      <td>1</td>\n",
              "      <td>0</td>\n",
              "      <td>PC 17599</td>\n",
              "      <td>71.2833</td>\n",
              "      <td>C85</td>\n",
              "      <td>C</td>\n",
              "    </tr>\n",
              "    <tr>\n",
              "      <th>2</th>\n",
              "      <td>3</td>\n",
              "      <td>1</td>\n",
              "      <td>3</td>\n",
              "      <td>Heikkinen, Miss. Laina</td>\n",
              "      <td>female</td>\n",
              "      <td>26.0</td>\n",
              "      <td>0</td>\n",
              "      <td>0</td>\n",
              "      <td>STON/O2. 3101282</td>\n",
              "      <td>7.9250</td>\n",
              "      <td>NaN</td>\n",
              "      <td>S</td>\n",
              "    </tr>\n",
              "  </tbody>\n",
              "</table>\n",
              "</div>\n",
              "      <button class=\"colab-df-convert\" onclick=\"convertToInteractive('df-79a440e2-3510-44f5-8482-375fe433103d')\"\n",
              "              title=\"Convert this dataframe to an interactive table.\"\n",
              "              style=\"display:none;\">\n",
              "        \n",
              "  <svg xmlns=\"http://www.w3.org/2000/svg\" height=\"24px\"viewBox=\"0 0 24 24\"\n",
              "       width=\"24px\">\n",
              "    <path d=\"M0 0h24v24H0V0z\" fill=\"none\"/>\n",
              "    <path d=\"M18.56 5.44l.94 2.06.94-2.06 2.06-.94-2.06-.94-.94-2.06-.94 2.06-2.06.94zm-11 1L8.5 8.5l.94-2.06 2.06-.94-2.06-.94L8.5 2.5l-.94 2.06-2.06.94zm10 10l.94 2.06.94-2.06 2.06-.94-2.06-.94-.94-2.06-.94 2.06-2.06.94z\"/><path d=\"M17.41 7.96l-1.37-1.37c-.4-.4-.92-.59-1.43-.59-.52 0-1.04.2-1.43.59L10.3 9.45l-7.72 7.72c-.78.78-.78 2.05 0 2.83L4 21.41c.39.39.9.59 1.41.59.51 0 1.02-.2 1.41-.59l7.78-7.78 2.81-2.81c.8-.78.8-2.07 0-2.86zM5.41 20L4 18.59l7.72-7.72 1.47 1.35L5.41 20z\"/>\n",
              "  </svg>\n",
              "      </button>\n",
              "      \n",
              "  <style>\n",
              "    .colab-df-container {\n",
              "      display:flex;\n",
              "      flex-wrap:wrap;\n",
              "      gap: 12px;\n",
              "    }\n",
              "\n",
              "    .colab-df-convert {\n",
              "      background-color: #E8F0FE;\n",
              "      border: none;\n",
              "      border-radius: 50%;\n",
              "      cursor: pointer;\n",
              "      display: none;\n",
              "      fill: #1967D2;\n",
              "      height: 32px;\n",
              "      padding: 0 0 0 0;\n",
              "      width: 32px;\n",
              "    }\n",
              "\n",
              "    .colab-df-convert:hover {\n",
              "      background-color: #E2EBFA;\n",
              "      box-shadow: 0px 1px 2px rgba(60, 64, 67, 0.3), 0px 1px 3px 1px rgba(60, 64, 67, 0.15);\n",
              "      fill: #174EA6;\n",
              "    }\n",
              "\n",
              "    [theme=dark] .colab-df-convert {\n",
              "      background-color: #3B4455;\n",
              "      fill: #D2E3FC;\n",
              "    }\n",
              "\n",
              "    [theme=dark] .colab-df-convert:hover {\n",
              "      background-color: #434B5C;\n",
              "      box-shadow: 0px 1px 3px 1px rgba(0, 0, 0, 0.15);\n",
              "      filter: drop-shadow(0px 1px 2px rgba(0, 0, 0, 0.3));\n",
              "      fill: #FFFFFF;\n",
              "    }\n",
              "  </style>\n",
              "\n",
              "      <script>\n",
              "        const buttonEl =\n",
              "          document.querySelector('#df-79a440e2-3510-44f5-8482-375fe433103d button.colab-df-convert');\n",
              "        buttonEl.style.display =\n",
              "          google.colab.kernel.accessAllowed ? 'block' : 'none';\n",
              "\n",
              "        async function convertToInteractive(key) {\n",
              "          const element = document.querySelector('#df-79a440e2-3510-44f5-8482-375fe433103d');\n",
              "          const dataTable =\n",
              "            await google.colab.kernel.invokeFunction('convertToInteractive',\n",
              "                                                     [key], {});\n",
              "          if (!dataTable) return;\n",
              "\n",
              "          const docLinkHtml = 'Like what you see? Visit the ' +\n",
              "            '<a target=\"_blank\" href=https://colab.research.google.com/notebooks/data_table.ipynb>data table notebook</a>'\n",
              "            + ' to learn more about interactive tables.';\n",
              "          element.innerHTML = '';\n",
              "          dataTable['output_type'] = 'display_data';\n",
              "          await google.colab.output.renderOutput(dataTable, element);\n",
              "          const docLink = document.createElement('div');\n",
              "          docLink.innerHTML = docLinkHtml;\n",
              "          element.appendChild(docLink);\n",
              "        }\n",
              "      </script>\n",
              "    </div>\n",
              "  </div>\n",
              "  "
            ],
            "text/plain": [
              "   PassengerId  Survived  Pclass  ...     Fare Cabin  Embarked\n",
              "0            1         0       3  ...   7.2500   NaN         S\n",
              "1            2         1       1  ...  71.2833   C85         C\n",
              "2            3         1       3  ...   7.9250   NaN         S\n",
              "\n",
              "[3 rows x 12 columns]"
            ]
          },
          "metadata": {},
          "execution_count": 4
        }
      ]
    },
    {
      "cell_type": "code",
      "source": [
        "people.isna().sum()"
      ],
      "metadata": {
        "colab": {
          "base_uri": "https://localhost:8080/"
        },
        "id": "UJPxMlY0e_jW",
        "outputId": "6b99799a-60bb-4920-bf22-50e17236fe63"
      },
      "execution_count": 5,
      "outputs": [
        {
          "output_type": "execute_result",
          "data": {
            "text/plain": [
              "PassengerId      0\n",
              "Survived         0\n",
              "Pclass           0\n",
              "Name             0\n",
              "Sex              0\n",
              "Age            177\n",
              "SibSp            0\n",
              "Parch            0\n",
              "Ticket           0\n",
              "Fare             0\n",
              "Cabin          687\n",
              "Embarked         2\n",
              "dtype: int64"
            ]
          },
          "metadata": {},
          "execution_count": 5
        }
      ]
    },
    {
      "cell_type": "code",
      "source": [
        "len(people)"
      ],
      "metadata": {
        "colab": {
          "base_uri": "https://localhost:8080/"
        },
        "id": "W-5sthDnfSN-",
        "outputId": "a9dca80a-a421-4de0-8abf-a67d0fcbc819"
      },
      "execution_count": 6,
      "outputs": [
        {
          "output_type": "execute_result",
          "data": {
            "text/plain": [
              "891"
            ]
          },
          "metadata": {},
          "execution_count": 6
        }
      ]
    },
    {
      "cell_type": "code",
      "source": [
        "people = people.drop(['Cabin'],axis = 1)"
      ],
      "metadata": {
        "id": "cQCi0H7ogZ81"
      },
      "execution_count": 7,
      "outputs": []
    },
    {
      "cell_type": "code",
      "source": [
        "def pre_process(df):\n",
        "  df['Sex'] = np.where(df['Sex'] == 'male', 0, 1)\n",
        "  df['Embarked'] = np.where(df['Embarked']== 'S', 0, df['Embarked'])\n",
        "  df['Embarked'] = np.where(df['Embarked']== 'C', 1, df['Embarked'])\n",
        "  df['Embarked'] = np.where(df['Embarked']== 'Q', 2, df['Embarked'])\n",
        "  df['Fare'] = df['Fare'].fillna(0)\n",
        "  df['Age'] = df['Age'].fillna(0)\n",
        "  df['Embarked'] = df['Embarked'].fillna(0)\n",
        "  df['Fare'] = (df['Fare'] - df['Fare'].min()) / ( df['Fare'].max() - df['Fare'].min())\n",
        "  return df"
      ],
      "metadata": {
        "id": "OwCr_uGiOHNd"
      },
      "execution_count": 8,
      "outputs": []
    },
    {
      "cell_type": "code",
      "source": [
        "# people = people.dropna(subset=['Embarked'])"
      ],
      "metadata": {
        "id": "fuURAUguhvrh"
      },
      "execution_count": 9,
      "outputs": []
    },
    {
      "cell_type": "code",
      "source": [
        "people['Embarked'].unique()"
      ],
      "metadata": {
        "colab": {
          "base_uri": "https://localhost:8080/"
        },
        "id": "hMe90wCQGz4f",
        "outputId": "abe2abc7-3ba5-4b80-e5f1-275f72b0e299"
      },
      "execution_count": 10,
      "outputs": [
        {
          "output_type": "execute_result",
          "data": {
            "text/plain": [
              "array(['S', 'C', 'Q', nan], dtype=object)"
            ]
          },
          "metadata": {},
          "execution_count": 10
        }
      ]
    },
    {
      "cell_type": "code",
      "source": [
        "people = pre_process(people)"
      ],
      "metadata": {
        "id": "30uRIFSAOP4W"
      },
      "execution_count": 11,
      "outputs": []
    },
    {
      "cell_type": "code",
      "source": [
        "people['Embarked'].unique()"
      ],
      "metadata": {
        "colab": {
          "base_uri": "https://localhost:8080/"
        },
        "id": "-MsCZmWjI3VS",
        "outputId": "8f8b69ba-433a-4e68-af33-89d052aa0e93"
      },
      "execution_count": 12,
      "outputs": [
        {
          "output_type": "execute_result",
          "data": {
            "text/plain": [
              "array([0, 1, 2])"
            ]
          },
          "metadata": {},
          "execution_count": 12
        }
      ]
    },
    {
      "cell_type": "code",
      "source": [
        "people.hist(figsize=[10,10])"
      ],
      "metadata": {
        "colab": {
          "base_uri": "https://localhost:8080/",
          "height": 801
        },
        "id": "-z-o4pYomg_i",
        "outputId": "eac9110f-ed4a-4f54-d355-04911bad4ded"
      },
      "execution_count": 13,
      "outputs": [
        {
          "output_type": "execute_result",
          "data": {
            "text/plain": [
              "array([[<matplotlib.axes._subplots.AxesSubplot object at 0x7fce58fcef10>,\n",
              "        <matplotlib.axes._subplots.AxesSubplot object at 0x7fce6d6a3790>,\n",
              "        <matplotlib.axes._subplots.AxesSubplot object at 0x7fce58f69990>],\n",
              "       [<matplotlib.axes._subplots.AxesSubplot object at 0x7fce58f20f90>,\n",
              "        <matplotlib.axes._subplots.AxesSubplot object at 0x7fce58ee25d0>,\n",
              "        <matplotlib.axes._subplots.AxesSubplot object at 0x7fce58e96bd0>],\n",
              "       [<matplotlib.axes._subplots.AxesSubplot object at 0x7fce58e5a290>,\n",
              "        <matplotlib.axes._subplots.AxesSubplot object at 0x7fce58e107d0>,\n",
              "        <matplotlib.axes._subplots.AxesSubplot object at 0x7fce58e10810>]],\n",
              "      dtype=object)"
            ]
          },
          "metadata": {},
          "execution_count": 13
        },
        {
          "output_type": "display_data",
          "data": {
            "image/png": "[encoded data removed]",
            "text/plain": [
              "<Figure size 720x720 with 9 Axes>"
            ]
          },
          "metadata": {
            "needs_background": "light"
          }
        }
      ]
    },
    {
      "cell_type": "code",
      "source": [
        "people_1 = people[people['Survived'] == 1]\n",
        "people_1.hist(figsize=[10,10])"
      ],
      "metadata": {
        "colab": {
          "base_uri": "https://localhost:8080/",
          "height": 801
        },
        "id": "ZYW7m0BGmuiN",
        "outputId": "aeb6124d-84cc-4993-9022-3235dff75f02"
      },
      "execution_count": 14,
      "outputs": [
        {
          "output_type": "execute_result",
          "data": {
            "text/plain": [
              "array([[<matplotlib.axes._subplots.AxesSubplot object at 0x7fce58b69b10>,\n",
              "        <matplotlib.axes._subplots.AxesSubplot object at 0x7fce58642f90>,\n",
              "        <matplotlib.axes._subplots.AxesSubplot object at 0x7fce586733d0>],\n",
              "       [<matplotlib.axes._subplots.AxesSubplot object at 0x7fce586268d0>,\n",
              "        <matplotlib.axes._subplots.AxesSubplot object at 0x7fce585dcdd0>,\n",
              "        <matplotlib.axes._subplots.AxesSubplot object at 0x7fce585a0310>],\n",
              "       [<matplotlib.axes._subplots.AxesSubplot object at 0x7fce58555890>,\n",
              "        <matplotlib.axes._subplots.AxesSubplot object at 0x7fce5850bcd0>,\n",
              "        <matplotlib.axes._subplots.AxesSubplot object at 0x7fce5850bd10>]],\n",
              "      dtype=object)"
            ]
          },
          "metadata": {},
          "execution_count": 14
        },
        {
          "output_type": "display_data",
          "data": {
            "image/png": "[encoded data removed]",
            "text/plain": [
              "<Figure size 720x720 with 9 Axes>"
            ]
          },
          "metadata": {
            "needs_background": "light"
          }
        }
      ]
    },
    {
      "cell_type": "code",
      "source": [
        "people_1['Embarked'].hist()"
      ],
      "metadata": {
        "colab": {
          "base_uri": "https://localhost:8080/",
          "height": 282
        },
        "id": "vyZA8HJmJb4l",
        "outputId": "8683af95-3466-43e1-cf2f-38ed4cf4ace7"
      },
      "execution_count": 15,
      "outputs": [
        {
          "output_type": "execute_result",
          "data": {
            "text/plain": [
              "<matplotlib.axes._subplots.AxesSubplot at 0x7fce582d3fd0>"
            ]
          },
          "metadata": {},
          "execution_count": 15
        },
        {
          "output_type": "display_data",
          "data": {
            "image/png": "[encoded data removed]",
            "text/plain": [
              "<Figure size 432x288 with 1 Axes>"
            ]
          },
          "metadata": {
            "needs_background": "light"
          }
        }
      ]
    },
    {
      "cell_type": "code",
      "source": [
        "people_0 = people[people['Survived'] == 0]\n",
        "people_0.hist(figsize=[10,10])"
      ],
      "metadata": {
        "colab": {
          "base_uri": "https://localhost:8080/",
          "height": 801
        },
        "id": "wXhHi4dtnMiD",
        "outputId": "57b0e345-ed80-4031-d2dc-a0e4c638eaa8"
      },
      "execution_count": 16,
      "outputs": [
        {
          "output_type": "execute_result",
          "data": {
            "text/plain": [
              "array([[<matplotlib.axes._subplots.AxesSubplot object at 0x7fce58ba9e50>,\n",
              "        <matplotlib.axes._subplots.AxesSubplot object at 0x7fce58bd8f10>,\n",
              "        <matplotlib.axes._subplots.AxesSubplot object at 0x7fce586885d0>],\n",
              "       [<matplotlib.axes._subplots.AxesSubplot object at 0x7fce581503d0>,\n",
              "        <matplotlib.axes._subplots.AxesSubplot object at 0x7fce581049d0>,\n",
              "        <matplotlib.axes._subplots.AxesSubplot object at 0x7fce5812fb10>],\n",
              "       [<matplotlib.axes._subplots.AxesSubplot object at 0x7fce5807c690>,\n",
              "        <matplotlib.axes._subplots.AxesSubplot object at 0x7fce580b3bd0>,\n",
              "        <matplotlib.axes._subplots.AxesSubplot object at 0x7fce580b3c10>]],\n",
              "      dtype=object)"
            ]
          },
          "metadata": {},
          "execution_count": 16
        },
        {
          "output_type": "display_data",
          "data": {
            "image/png": "[encoded data removed]",
            "text/plain": [
              "<Figure size 720x720 with 9 Axes>"
            ]
          },
          "metadata": {
            "needs_background": "light"
          }
        }
      ]
    },
    {
      "cell_type": "code",
      "source": [
        "people_0['Embarked'].hist()"
      ],
      "metadata": {
        "colab": {
          "base_uri": "https://localhost:8080/",
          "height": 282
        },
        "id": "uYUvHmjHJV_7",
        "outputId": "0bd8ec14-2b1a-46a1-c649-ad93cf306485"
      },
      "execution_count": 17,
      "outputs": [
        {
          "output_type": "execute_result",
          "data": {
            "text/plain": [
              "<matplotlib.axes._subplots.AxesSubplot at 0x7fce57ddf2d0>"
            ]
          },
          "metadata": {},
          "execution_count": 17
        },
        {
          "output_type": "display_data",
          "data": {
            "image/png": "[encoded data removed]",
            "text/plain": [
              "<Figure size 432x288 with 1 Axes>"
            ]
          },
          "metadata": {
            "needs_background": "light"
          }
        }
      ]
    },
    {
      "cell_type": "markdown",
      "source": [
        "muita gente P3 não sobreviveu, junto com SibSp perto de 0, mas tem bastante sobrevivente com 0, e sobrevivendo com 1. E sex == 0 (homens) e Parch == 0"
      ],
      "metadata": {
        "id": "3ptdxqf2Bbsu"
      }
    },
    {
      "cell_type": "markdown",
      "source": [
        "# Separação em Train e Test"
      ],
      "metadata": {
        "id": "--9H8m6lWwIF"
      }
    },
    {
      "cell_type": "code",
      "source": [
        "from sklearn import tree\n",
        "from sklearn.model_selection import train_test_split\n",
        "from sklearn import metrics"
      ],
      "metadata": {
        "id": "1IR61GwNFiOM"
      },
      "execution_count": 18,
      "outputs": []
    },
    {
      "cell_type": "code",
      "source": [
        "# X_train, X_test, y_train, y_test = train_test_split(people[['Sex', 'SibSp', 'Parch']], people['Survived'], test_size=0.2, random_state=3)"
      ],
      "metadata": {
        "id": "rr0D20EfSbHk"
      },
      "execution_count": 19,
      "outputs": []
    },
    {
      "cell_type": "code",
      "source": [
        "colunas_escolhidas = [ 'Sex','Pclass', 'Embarked', 'SibSp']#['Pclass', 'Sex','Embarked'] #[ 'Sex', 'SibSp', 'Parch']"
      ],
      "metadata": {
        "id": "sQPZygKO2E6Z"
      },
      "execution_count": 20,
      "outputs": []
    },
    {
      "cell_type": "code",
      "source": [
        "X_train, X_test, y_train, y_test = train_test_split(people[colunas_escolhidas], people['Survived'], test_size=0.1,random_state=42)"
      ],
      "metadata": {
        "id": "U6lra0uXawbG"
      },
      "execution_count": 21,
      "outputs": []
    },
    {
      "cell_type": "markdown",
      "source": [
        "Função saída"
      ],
      "metadata": {
        "id": "opp8BiGScPxZ"
      }
    },
    {
      "cell_type": "code",
      "source": [
        "def csv(y_k, r, title):\n",
        "  y_k = np.array(y_k)\n",
        "  df = []\n",
        "  df = pd.DataFrame(y_k, columns = ['Survived'])\n",
        "  r['Survived'] = df['Survived']\n",
        "  r[['PassengerId','Survived']].to_csv(title, index = False, sep = ',')\n"
      ],
      "metadata": {
        "id": "QU56JQ-ZcSVQ"
      },
      "execution_count": 22,
      "outputs": []
    },
    {
      "cell_type": "markdown",
      "source": [
        "### Import test"
      ],
      "metadata": {
        "id": "syGyBJrsdETA"
      }
    },
    {
      "cell_type": "code",
      "source": [
        "resp = pd.read_csv(\"/content/drive/MyDrive/Titanic/test.csv\")"
      ],
      "metadata": {
        "id": "0St30OjXn6tW"
      },
      "execution_count": 23,
      "outputs": []
    },
    {
      "cell_type": "code",
      "source": [
        "resp.isna().sum()"
      ],
      "metadata": {
        "colab": {
          "base_uri": "https://localhost:8080/"
        },
        "id": "_JCtej2utuU_",
        "outputId": "3c1b1a4e-7334-4835-f689-c45173228ddb"
      },
      "execution_count": 24,
      "outputs": [
        {
          "output_type": "execute_result",
          "data": {
            "text/plain": [
              "PassengerId      0\n",
              "Pclass           0\n",
              "Name             0\n",
              "Sex              0\n",
              "Age             86\n",
              "SibSp            0\n",
              "Parch            0\n",
              "Ticket           0\n",
              "Fare             1\n",
              "Cabin          327\n",
              "Embarked         0\n",
              "dtype: int64"
            ]
          },
          "metadata": {},
          "execution_count": 24
        }
      ]
    },
    {
      "cell_type": "code",
      "source": [
        "# resp = resp.drop(['Age', 'Cabin'], axis = 1)\n",
        "resp = resp.drop(['Cabin'], axis = 1)"
      ],
      "metadata": {
        "id": "ubcoSWNfuGIu"
      },
      "execution_count": 25,
      "outputs": []
    },
    {
      "cell_type": "code",
      "source": [
        "resp = pre_process(resp)"
      ],
      "metadata": {
        "id": "Sm79yyiJOur4"
      },
      "execution_count": 26,
      "outputs": []
    },
    {
      "cell_type": "markdown",
      "source": [
        "# Árvore de decisão\n"
      ],
      "metadata": {
        "id": "42PzUuILEd7o"
      }
    },
    {
      "cell_type": "code",
      "source": [
        "people.keys()"
      ],
      "metadata": {
        "colab": {
          "base_uri": "https://localhost:8080/"
        },
        "id": "VApniF2mKhdg",
        "outputId": "d4689400-f9da-431f-a3e9-727c099b6fd2"
      },
      "execution_count": 27,
      "outputs": [
        {
          "output_type": "execute_result",
          "data": {
            "text/plain": [
              "Index(['PassengerId', 'Survived', 'Pclass', 'Name', 'Sex', 'Age', 'SibSp',\n",
              "       'Parch', 'Ticket', 'Fare', 'Embarked'],\n",
              "      dtype='object')"
            ]
          },
          "metadata": {},
          "execution_count": 27
        }
      ]
    },
    {
      "cell_type": "code",
      "source": [
        "clf = tree.DecisionTreeClassifier(random_state=0, max_depth=10)\n",
        "clf = clf.fit(X_train,y_train)"
      ],
      "metadata": {
        "id": "YgseMRTrE_df"
      },
      "execution_count": 28,
      "outputs": []
    },
    {
      "cell_type": "code",
      "source": [
        "y = clf.predict(X_test)"
      ],
      "metadata": {
        "id": "j1lMxiO_SsFN"
      },
      "execution_count": 29,
      "outputs": []
    },
    {
      "cell_type": "code",
      "source": [
        "print(\"DecisionTrees's Accuracy: \", metrics.accuracy_score(y_test, y)) #0.77751 -> 'Pclass', 'Sex','Embarked',  e aqui 0.80"
      ],
      "metadata": {
        "colab": {
          "base_uri": "https://localhost:8080/"
        },
        "id": "tL_LibIJS_a3",
        "outputId": "ce3d06a2-42df-49e2-c591-19492e020803"
      },
      "execution_count": 30,
      "outputs": [
        {
          "output_type": "stream",
          "name": "stdout",
          "text": [
            "DecisionTrees's Accuracy:  0.7888888888888889\n"
          ]
        }
      ]
    },
    {
      "cell_type": "code",
      "source": [
        "from sklearn.metrics import confusion_matrix\n",
        "print(confusion_matrix(y, y_test))"
      ],
      "metadata": {
        "colab": {
          "base_uri": "https://localhost:8080/"
        },
        "id": "jUdKE3fSVCE2",
        "outputId": "8b1f39e5-97f3-4816-9c08-c02ba9900359"
      },
      "execution_count": 31,
      "outputs": [
        {
          "output_type": "stream",
          "name": "stdout",
          "text": [
            "[[44  9]\n",
            " [10 27]]\n"
          ]
        }
      ]
    },
    {
      "cell_type": "code",
      "source": [
        "y_resp = resp"
      ],
      "metadata": {
        "id": "nq10LwHcl7mi"
      },
      "execution_count": 32,
      "outputs": []
    },
    {
      "cell_type": "code",
      "source": [
        "resp = resp[colunas_escolhidas] "
      ],
      "metadata": {
        "id": "wQhlODkPgsQM"
      },
      "execution_count": 33,
      "outputs": []
    },
    {
      "cell_type": "code",
      "source": [
        "X_test_k = resp"
      ],
      "metadata": {
        "id": "RQRJqG3eNz4h"
      },
      "execution_count": 34,
      "outputs": []
    },
    {
      "cell_type": "code",
      "source": [
        "y_k = clf.predict(X_test_k)"
      ],
      "metadata": {
        "id": "m1Z93sEmNi6Q"
      },
      "execution_count": 35,
      "outputs": []
    },
    {
      "cell_type": "code",
      "source": [
        "type(y_k)"
      ],
      "metadata": {
        "colab": {
          "base_uri": "https://localhost:8080/"
        },
        "id": "0P4721jCgHUp",
        "outputId": "b0d268db-4e0f-42c4-8eba-e76ef300ef48"
      },
      "execution_count": 36,
      "outputs": [
        {
          "output_type": "execute_result",
          "data": {
            "text/plain": [
              "numpy.ndarray"
            ]
          },
          "metadata": {},
          "execution_count": 36
        }
      ]
    },
    {
      "cell_type": "code",
      "source": [
        "csv(y_k,y_resp, 'tree.csv')"
      ],
      "metadata": {
        "id": "61jdpEMpnbxd"
      },
      "execution_count": 37,
      "outputs": []
    },
    {
      "cell_type": "markdown",
      "source": [
        "# K Nearest Neighbor(KNN)"
      ],
      "metadata": {
        "id": "FhRRmb8EXgmS"
      }
    },
    {
      "cell_type": "code",
      "source": [
        "from sklearn.neighbors import KNeighborsClassifier\n",
        "# from sklearn.metrics import jaccard_similarity_score\n",
        "from sklearn.metrics import f1_score"
      ],
      "metadata": {
        "id": "MgvAel0mYs4Z"
      },
      "execution_count": 38,
      "outputs": []
    },
    {
      "cell_type": "code",
      "source": [
        "Ks=15\n",
        "mean_acc=np.zeros((Ks-1))\n",
        "std_acc=np.zeros((Ks-1))\n",
        "ConfustionMx=[];\n",
        "for n in range(1,Ks):\n",
        "    \n",
        "    #Train Model and Predict  \n",
        "    kNN_model = KNeighborsClassifier(n_neighbors=n).fit(X_train,y_train)\n",
        "    yhat = kNN_model.predict(X_test)\n",
        "    \n",
        "    \n",
        "    mean_acc[n-1]=np.mean(yhat==y_test);\n",
        "    \n",
        "    std_acc[n-1]=np.std(yhat==y_test)/np.sqrt(yhat.shape[0])\n",
        "mean_acc"
      ],
      "metadata": {
        "id": "Xfcu7qG5YMJb",
        "colab": {
          "base_uri": "https://localhost:8080/"
        },
        "outputId": "7d66629e-9850-423f-fb96-932b573922fa"
      },
      "execution_count": 39,
      "outputs": [
        {
          "output_type": "execute_result",
          "data": {
            "text/plain": [
              "array([0.81111111, 0.76666667, 0.81111111, 0.81111111, 0.81111111,\n",
              "       0.83333333, 0.81111111, 0.8       , 0.8       , 0.78888889,\n",
              "       0.78888889, 0.81111111, 0.78888889, 0.78888889])"
            ]
          },
          "metadata": {},
          "execution_count": 39
        }
      ]
    },
    {
      "cell_type": "code",
      "source": [
        "# Building the model again, using k=1\n",
        "from sklearn.neighbors import KNeighborsClassifier\n",
        "k = 6\n",
        "#Train Model and Predict  \n",
        "kNN_model = KNeighborsClassifier(n_neighbors=k).fit(X_train,y_train)\n",
        "kNN_model"
      ],
      "metadata": {
        "id": "uWXALCM9YUN4",
        "colab": {
          "base_uri": "https://localhost:8080/"
        },
        "outputId": "f05f8b7b-44b7-46f7-80e7-ad3b725c65e4"
      },
      "execution_count": 65,
      "outputs": [
        {
          "output_type": "execute_result",
          "data": {
            "text/plain": [
              "KNeighborsClassifier(n_neighbors=6)"
            ]
          },
          "metadata": {},
          "execution_count": 65
        }
      ]
    },
    {
      "cell_type": "code",
      "source": [
        "knn_yhat = kNN_model.predict(X_test)\n",
        "print(\"KNN F1-score: %.2f\" % f1_score(y_test, knn_yhat, average='weighted') )"
      ],
      "metadata": {
        "id": "xcwDaQzPYd8J",
        "colab": {
          "base_uri": "https://localhost:8080/"
        },
        "outputId": "67ba71ce-a42a-43e9-902b-cac8f4893bdc"
      },
      "execution_count": 66,
      "outputs": [
        {
          "output_type": "stream",
          "name": "stdout",
          "text": [
            "KNN F1-score: 0.83\n"
          ]
        }
      ]
    },
    {
      "cell_type": "code",
      "source": [
        "from sklearn.metrics import confusion_matrix\n",
        "print(confusion_matrix(knn_yhat, y_test))"
      ],
      "metadata": {
        "colab": {
          "base_uri": "https://localhost:8080/"
        },
        "id": "wu92Mk-8U5UO",
        "outputId": "7e2b309b-3800-403e-fffe-ec153d111f0a"
      },
      "execution_count": 67,
      "outputs": [
        {
          "output_type": "stream",
          "name": "stdout",
          "text": [
            "[[48  9]\n",
            " [ 6 27]]\n"
          ]
        }
      ]
    },
    {
      "cell_type": "code",
      "source": [
        "y_resp_knn = kNN_model.predict(resp)"
      ],
      "metadata": {
        "id": "f6URsL5vzOIP"
      },
      "execution_count": 68,
      "outputs": []
    },
    {
      "cell_type": "code",
      "source": [
        "csv(y_resp_knn,y_resp, 'knn.csv')"
      ],
      "metadata": {
        "id": "_ZQ9Js8JcJeX"
      },
      "execution_count": 69,
      "outputs": []
    },
    {
      "cell_type": "markdown",
      "source": [
        "# Support Vector Machine"
      ],
      "metadata": {
        "id": "rEZLnKDHa9yl"
      }
    },
    {
      "cell_type": "code",
      "source": [
        "resp.head()"
      ],
      "metadata": {
        "colab": {
          "base_uri": "https://localhost:8080/",
          "height": 206
        },
        "id": "99ahAjWjNPES",
        "outputId": "74ded46a-4a7f-41d6-d407-004d2398c517"
      },
      "execution_count": 45,
      "outputs": [
        {
          "output_type": "execute_result",
          "data": {
            "text/html": [
              "\n",
              "  <div id=\"df-4adb955f-5932-4f25-8a68-680003487bab\">\n",
              "    <div class=\"colab-df-container\">\n",
              "      <div>\n",
              "<style scoped>\n",
              "    .dataframe tbody tr th:only-of-type {\n",
              "        vertical-align: middle;\n",
              "    }\n",
              "\n",
              "    .dataframe tbody tr th {\n",
              "        vertical-align: top;\n",
              "    }\n",
              "\n",
              "    .dataframe thead th {\n",
              "        text-align: right;\n",
              "    }\n",
              "</style>\n",
              "<table border=\"1\" class=\"dataframe\">\n",
              "  <thead>\n",
              "    <tr style=\"text-align: right;\">\n",
              "      <th></th>\n",
              "      <th>Sex</th>\n",
              "      <th>Pclass</th>\n",
              "      <th>Embarked</th>\n",
              "      <th>SibSp</th>\n",
              "    </tr>\n",
              "  </thead>\n",
              "  <tbody>\n",
              "    <tr>\n",
              "      <th>0</th>\n",
              "      <td>0</td>\n",
              "      <td>3</td>\n",
              "      <td>2</td>\n",
              "      <td>0</td>\n",
              "    </tr>\n",
              "    <tr>\n",
              "      <th>1</th>\n",
              "      <td>1</td>\n",
              "      <td>3</td>\n",
              "      <td>0</td>\n",
              "      <td>1</td>\n",
              "    </tr>\n",
              "    <tr>\n",
              "      <th>2</th>\n",
              "      <td>0</td>\n",
              "      <td>2</td>\n",
              "      <td>2</td>\n",
              "      <td>0</td>\n",
              "    </tr>\n",
              "    <tr>\n",
              "      <th>3</th>\n",
              "      <td>0</td>\n",
              "      <td>3</td>\n",
              "      <td>0</td>\n",
              "      <td>0</td>\n",
              "    </tr>\n",
              "    <tr>\n",
              "      <th>4</th>\n",
              "      <td>1</td>\n",
              "      <td>3</td>\n",
              "      <td>0</td>\n",
              "      <td>1</td>\n",
              "    </tr>\n",
              "  </tbody>\n",
              "</table>\n",
              "</div>\n",
              "      <button class=\"colab-df-convert\" onclick=\"convertToInteractive('df-4adb955f-5932-4f25-8a68-680003487bab')\"\n",
              "              title=\"Convert this dataframe to an interactive table.\"\n",
              "              style=\"display:none;\">\n",
              "        \n",
              "  <svg xmlns=\"http://www.w3.org/2000/svg\" height=\"24px\"viewBox=\"0 0 24 24\"\n",
              "       width=\"24px\">\n",
              "    <path d=\"M0 0h24v24H0V0z\" fill=\"none\"/>\n",
              "    <path d=\"M18.56 5.44l.94 2.06.94-2.06 2.06-.94-2.06-.94-.94-2.06-.94 2.06-2.06.94zm-11 1L8.5 8.5l.94-2.06 2.06-.94-2.06-.94L8.5 2.5l-.94 2.06-2.06.94zm10 10l.94 2.06.94-2.06 2.06-.94-2.06-.94-.94-2.06-.94 2.06-2.06.94z\"/><path d=\"M17.41 7.96l-1.37-1.37c-.4-.4-.92-.59-1.43-.59-.52 0-1.04.2-1.43.59L10.3 9.45l-7.72 7.72c-.78.78-.78 2.05 0 2.83L4 21.41c.39.39.9.59 1.41.59.51 0 1.02-.2 1.41-.59l7.78-7.78 2.81-2.81c.8-.78.8-2.07 0-2.86zM5.41 20L4 18.59l7.72-7.72 1.47 1.35L5.41 20z\"/>\n",
              "  </svg>\n",
              "      </button>\n",
              "      \n",
              "  <style>\n",
              "    .colab-df-container {\n",
              "      display:flex;\n",
              "      flex-wrap:wrap;\n",
              "      gap: 12px;\n",
              "    }\n",
              "\n",
              "    .colab-df-convert {\n",
              "      background-color: #E8F0FE;\n",
              "      border: none;\n",
              "      border-radius: 50%;\n",
              "      cursor: pointer;\n",
              "      display: none;\n",
              "      fill: #1967D2;\n",
              "      height: 32px;\n",
              "      padding: 0 0 0 0;\n",
              "      width: 32px;\n",
              "    }\n",
              "\n",
              "    .colab-df-convert:hover {\n",
              "      background-color: #E2EBFA;\n",
              "      box-shadow: 0px 1px 2px rgba(60, 64, 67, 0.3), 0px 1px 3px 1px rgba(60, 64, 67, 0.15);\n",
              "      fill: #174EA6;\n",
              "    }\n",
              "\n",
              "    [theme=dark] .colab-df-convert {\n",
              "      background-color: #3B4455;\n",
              "      fill: #D2E3FC;\n",
              "    }\n",
              "\n",
              "    [theme=dark] .colab-df-convert:hover {\n",
              "      background-color: #434B5C;\n",
              "      box-shadow: 0px 1px 3px 1px rgba(0, 0, 0, 0.15);\n",
              "      filter: drop-shadow(0px 1px 2px rgba(0, 0, 0, 0.3));\n",
              "      fill: #FFFFFF;\n",
              "    }\n",
              "  </style>\n",
              "\n",
              "      <script>\n",
              "        const buttonEl =\n",
              "          document.querySelector('#df-4adb955f-5932-4f25-8a68-680003487bab button.colab-df-convert');\n",
              "        buttonEl.style.display =\n",
              "          google.colab.kernel.accessAllowed ? 'block' : 'none';\n",
              "\n",
              "        async function convertToInteractive(key) {\n",
              "          const element = document.querySelector('#df-4adb955f-5932-4f25-8a68-680003487bab');\n",
              "          const dataTable =\n",
              "            await google.colab.kernel.invokeFunction('convertToInteractive',\n",
              "                                                     [key], {});\n",
              "          if (!dataTable) return;\n",
              "\n",
              "          const docLinkHtml = 'Like what you see? Visit the ' +\n",
              "            '<a target=\"_blank\" href=https://colab.research.google.com/notebooks/data_table.ipynb>data table notebook</a>'\n",
              "            + ' to learn more about interactive tables.';\n",
              "          element.innerHTML = '';\n",
              "          dataTable['output_type'] = 'display_data';\n",
              "          await google.colab.output.renderOutput(dataTable, element);\n",
              "          const docLink = document.createElement('div');\n",
              "          docLink.innerHTML = docLinkHtml;\n",
              "          element.appendChild(docLink);\n",
              "        }\n",
              "      </script>\n",
              "    </div>\n",
              "  </div>\n",
              "  "
            ],
            "text/plain": [
              "   Sex  Pclass  Embarked  SibSp\n",
              "0    0       3         2      0\n",
              "1    1       3         0      1\n",
              "2    0       2         2      0\n",
              "3    0       3         0      0\n",
              "4    1       3         0      1"
            ]
          },
          "metadata": {},
          "execution_count": 45
        }
      ]
    },
    {
      "cell_type": "code",
      "source": [
        "from sklearn import svm\n",
        "SVM_model = svm.SVC(kernel = 'poly', degree=4, random_state = 42,coef0=0.15)\n",
        "SVM_model.fit(X_train, y_train) "
      ],
      "metadata": {
        "id": "y0hue60EbDTv",
        "colab": {
          "base_uri": "https://localhost:8080/"
        },
        "outputId": "d3a9d991-41e8-4234-aa46-32f1662de510"
      },
      "execution_count": 70,
      "outputs": [
        {
          "output_type": "execute_result",
          "data": {
            "text/plain": [
              "SVC(coef0=0.15, degree=4, kernel='poly', random_state=42)"
            ]
          },
          "metadata": {},
          "execution_count": 70
        }
      ]
    },
    {
      "cell_type": "code",
      "source": [
        "yhat = SVM_model.predict(X_test)"
      ],
      "metadata": {
        "id": "ngISuebIbFWR"
      },
      "execution_count": 47,
      "outputs": []
    },
    {
      "cell_type": "code",
      "source": [
        "SVM_yhat = SVM_model.predict(X_test)\n",
        "print(\"SVM F1-score: %.2f\" % f1_score(y_test, yhat, average='weighted') )"
      ],
      "metadata": {
        "id": "pZBWi3eDbJLa",
        "colab": {
          "base_uri": "https://localhost:8080/"
        },
        "outputId": "a39db312-250c-4978-dd37-2db44b65b446"
      },
      "execution_count": 48,
      "outputs": [
        {
          "output_type": "stream",
          "name": "stdout",
          "text": [
            "SVM F1-score: 0.81\n"
          ]
        }
      ]
    },
    {
      "cell_type": "code",
      "source": [
        "from sklearn.metrics import confusion_matrix\n",
        "print(confusion_matrix(yhat, y_test))"
      ],
      "metadata": {
        "colab": {
          "base_uri": "https://localhost:8080/"
        },
        "id": "HXJL785mOVed",
        "outputId": "9543a278-a82e-47d8-fd3c-08dd8d832f88"
      },
      "execution_count": 49,
      "outputs": [
        {
          "output_type": "stream",
          "name": "stdout",
          "text": [
            "[[46  9]\n",
            " [ 8 27]]\n"
          ]
        }
      ]
    },
    {
      "cell_type": "code",
      "source": [
        "yhat = SVM_model.predict(resp)"
      ],
      "metadata": {
        "id": "t3rU6mHJ0bpR"
      },
      "execution_count": 50,
      "outputs": []
    },
    {
      "cell_type": "code",
      "source": [
        "csv(yhat,y_resp[['PassengerId']], 'svm.csv')"
      ],
      "metadata": {
        "id": "uk8hGNKJdUl-",
        "colab": {
          "base_uri": "https://localhost:8080/"
        },
        "outputId": "1e3160c9-75da-42a8-c194-86d3b78922b1"
      },
      "execution_count": 51,
      "outputs": [
        {
          "output_type": "stream",
          "name": "stderr",
          "text": [
            "/usr/local/lib/python3.7/dist-packages/ipykernel_launcher.py:5: SettingWithCopyWarning: \n",
            "A value is trying to be set on a copy of a slice from a DataFrame.\n",
            "Try using .loc[row_indexer,col_indexer] = value instead\n",
            "\n",
            "See the caveats in the documentation: https://pandas.pydata.org/pandas-docs/stable/user_guide/indexing.html#returning-a-view-versus-a-copy\n",
            "  \"\"\"\n"
          ]
        }
      ]
    },
    {
      "cell_type": "markdown",
      "source": [
        "# Logistic Regression"
      ],
      "metadata": {
        "id": "VAC4RFN7bZJ9"
      }
    },
    {
      "cell_type": "code",
      "source": [
        "from sklearn.linear_model import LogisticRegression\n",
        "from sklearn.metrics import log_loss\n",
        "LR_model = LogisticRegression().fit(X_train,y_train)\n",
        "LR_model"
      ],
      "metadata": {
        "id": "yPaIPMtMbd6L",
        "colab": {
          "base_uri": "https://localhost:8080/"
        },
        "outputId": "65034da4-c745-4eed-c725-8ca2ec9c8ff2"
      },
      "execution_count": 71,
      "outputs": [
        {
          "output_type": "execute_result",
          "data": {
            "text/plain": [
              "LogisticRegression()"
            ]
          },
          "metadata": {},
          "execution_count": 71
        }
      ]
    },
    {
      "cell_type": "code",
      "source": [
        "yhat = LR_model.predict(X_test)"
      ],
      "metadata": {
        "id": "kYoWmq8Wbfqg"
      },
      "execution_count": 72,
      "outputs": []
    },
    {
      "cell_type": "code",
      "source": [
        "LR_yhat_prob = LR_model.predict_proba(X_test)\n",
        "print(\"LR F1-score: %.2f\" % f1_score(y_test, yhat, average='weighted') )\n",
        "print(\"LR LogLoss: %.2f\" % log_loss(y_test, LR_yhat_prob))"
      ],
      "metadata": {
        "id": "O0c6iz-6bjbL",
        "colab": {
          "base_uri": "https://localhost:8080/"
        },
        "outputId": "99617671-e436-4b9d-a19a-7f6727c03a95"
      },
      "execution_count": 73,
      "outputs": [
        {
          "output_type": "stream",
          "name": "stdout",
          "text": [
            "LR F1-score: 0.82\n",
            "LR LogLoss: 0.42\n"
          ]
        }
      ]
    },
    {
      "cell_type": "code",
      "source": [
        "from sklearn.metrics import confusion_matrix\n",
        "print(confusion_matrix(yhat, y_test))"
      ],
      "metadata": {
        "colab": {
          "base_uri": "https://localhost:8080/"
        },
        "id": "KTbIXBztVHoY",
        "outputId": "605c63e4-35ff-4505-e24b-2557c0f8ab27"
      },
      "execution_count": 74,
      "outputs": [
        {
          "output_type": "stream",
          "name": "stdout",
          "text": [
            "[[46  8]\n",
            " [ 8 28]]\n"
          ]
        }
      ]
    },
    {
      "cell_type": "code",
      "source": [
        "yhat = LR_model.predict(resp)"
      ],
      "metadata": {
        "id": "AfHROB_Z0l2M"
      },
      "execution_count": 56,
      "outputs": []
    },
    {
      "cell_type": "code",
      "source": [
        "csv(yhat,y_resp[['PassengerId']], 'logist.csv')"
      ],
      "metadata": {
        "id": "5EF5hUjgdcIi",
        "colab": {
          "base_uri": "https://localhost:8080/"
        },
        "outputId": "dbb80c90-fad3-4540-c558-1e963ef3eac0"
      },
      "execution_count": 57,
      "outputs": [
        {
          "output_type": "stream",
          "name": "stderr",
          "text": [
            "/usr/local/lib/python3.7/dist-packages/ipykernel_launcher.py:5: SettingWithCopyWarning: \n",
            "A value is trying to be set on a copy of a slice from a DataFrame.\n",
            "Try using .loc[row_indexer,col_indexer] = value instead\n",
            "\n",
            "See the caveats in the documentation: https://pandas.pydata.org/pandas-docs/stable/user_guide/indexing.html#returning-a-view-versus-a-copy\n",
            "  \"\"\"\n"
          ]
        }
      ]
    },
    {
      "cell_type": "markdown",
      "source": [
        "Foram várias tentativas com as mesma labels com os algoritmos clássicos, próxima hipótese redes neurais"
      ],
      "metadata": {
        "id": "oquwekGn8JN6"
      }
    },
    {
      "cell_type": "code",
      "source": [
        "from sklearn.neural_network import MLPClassifier"
      ],
      "metadata": {
        "id": "J0n-Ssm387AM"
      },
      "execution_count": 58,
      "outputs": []
    },
    {
      "cell_type": "code",
      "source": [
        "network = MLPClassifier(max_iter=1000,solver='adam', hidden_layer_sizes = (5,5,5))\n",
        "network.fit(X_train, y_train)"
      ],
      "metadata": {
        "colab": {
          "base_uri": "https://localhost:8080/"
        },
        "id": "uebyzUGO8WWO",
        "outputId": "eca0bacc-9221-432b-95cd-c7ea115c9e56"
      },
      "execution_count": 59,
      "outputs": [
        {
          "output_type": "execute_result",
          "data": {
            "text/plain": [
              "MLPClassifier(hidden_layer_sizes=(5, 5, 5), max_iter=1000)"
            ]
          },
          "metadata": {},
          "execution_count": 59
        }
      ]
    },
    {
      "cell_type": "code",
      "source": [
        "previsoes = network.predict(X_test)"
      ],
      "metadata": {
        "id": "vtyal9UZ-BxY"
      },
      "execution_count": 60,
      "outputs": []
    },
    {
      "cell_type": "code",
      "source": [
        "from sklearn.metrics import accuracy_score, classification_report\n",
        "accuracy_score(y_test, previsoes)"
      ],
      "metadata": {
        "colab": {
          "base_uri": "https://localhost:8080/"
        },
        "id": "7tQn5o479NpS",
        "outputId": "f7959d90-a8c1-4833-c4d3-c6dd2aaa34cd"
      },
      "execution_count": 61,
      "outputs": [
        {
          "output_type": "execute_result",
          "data": {
            "text/plain": [
              "0.8111111111111111"
            ]
          },
          "metadata": {},
          "execution_count": 61
        }
      ]
    },
    {
      "cell_type": "code",
      "source": [
        "from sklearn.metrics import confusion_matrix\n",
        "print(confusion_matrix(previsoes, y_test))"
      ],
      "metadata": {
        "colab": {
          "base_uri": "https://localhost:8080/"
        },
        "outputId": "3d59af2b-5561-4487-feca-5b6c08d45214",
        "id": "r2cGxnw-AKY_"
      },
      "execution_count": 62,
      "outputs": [
        {
          "output_type": "stream",
          "name": "stdout",
          "text": [
            "[[46  9]\n",
            " [ 8 27]]\n"
          ]
        }
      ]
    },
    {
      "cell_type": "code",
      "source": [
        "yhat = network.predict(resp)"
      ],
      "metadata": {
        "id": "Li5h3L3EAKY_"
      },
      "execution_count": 63,
      "outputs": []
    },
    {
      "cell_type": "code",
      "source": [
        "csv(yhat,y_resp[['PassengerId']], 'rnn.csv')"
      ],
      "metadata": {
        "colab": {
          "base_uri": "https://localhost:8080/"
        },
        "outputId": "a2b118a3-3553-45c8-89dd-10de4251186b",
        "id": "7uM-H4RpAKZA"
      },
      "execution_count": 64,
      "outputs": [
        {
          "output_type": "stream",
          "name": "stderr",
          "text": [
            "/usr/local/lib/python3.7/dist-packages/ipykernel_launcher.py:5: SettingWithCopyWarning: \n",
            "A value is trying to be set on a copy of a slice from a DataFrame.\n",
            "Try using .loc[row_indexer,col_indexer] = value instead\n",
            "\n",
            "See the caveats in the documentation: https://pandas.pydata.org/pandas-docs/stable/user_guide/indexing.html#returning-a-view-versus-a-copy\n",
            "  \"\"\"\n"
          ]
        }
      ]
    }
  ]
}