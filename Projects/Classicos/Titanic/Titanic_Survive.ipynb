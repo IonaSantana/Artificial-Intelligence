{
  "nbformat": 4,
  "nbformat_minor": 0,
  "metadata": {
    "colab": {
      "name": "Titanic_Survive.ipynb",
      "provenance": [],
      "collapsed_sections": [],
      "authorship_tag": "ABX9TyOz1xT6mOpZ8TXA78JMKAAd",
      "include_colab_link": true
    },
    "kernelspec": {
      "name": "python3",
      "display_name": "Python 3"
    },
    "language_info": {
      "name": "python"
    }
  },
  "cells": [
    {
      "cell_type": "markdown",
      "metadata": {
        "id": "view-in-github",
        "colab_type": "text"
      },
      "source": [
        "<a href=\"https://colab.research.google.com/github/IonaSantana/Artificial-Intelligence/blob/main/Projects/Classicos/Titanic/Titanic_Survive.ipynb\" target=\"_parent\"><img src=\"https://colab.research.google.com/assets/colab-badge.svg\" alt=\"Open In Colab\"/></a>"
      ]
    },
    {
      "cell_type": "markdown",
      "source": [
        "# Análise Exploratória"
      ],
      "metadata": {
        "id": "pSg9w7yeW7qr"
      }
    },
    {
      "cell_type": "code",
      "source": [
        "import pandas as pd\n",
        "import numpy as np\n",
        "import seaborn as sn\n",
        "import matplotlib.pyplot as plt\n",
        "%matplotlib inline"
      ],
      "metadata": {
        "id": "dCO22eUteMCh"
      },
      "execution_count": 1,
      "outputs": []
    },
    {
      "cell_type": "code",
      "source": [
        "from google.colab import drive\n",
        "drive.mount('/content/drive')"
      ],
      "metadata": {
        "colab": {
          "base_uri": "https://localhost:8080/"
        },
        "id": "Rf7hYuoOeUMv",
        "outputId": "b789c8ce-aac3-41d1-8086-2959e429a90f"
      },
      "execution_count": 2,
      "outputs": [
        {
          "output_type": "stream",
          "name": "stdout",
          "text": [
            "Drive already mounted at /content/drive; to attempt to forcibly remount, call drive.mount(\"/content/drive\", force_remount=True).\n"
          ]
        }
      ]
    },
    {
      "cell_type": "code",
      "source": [
        "people = pd.read_csv(\"/content/drive/MyDrive/Titanic/train.csv\")"
      ],
      "metadata": {
        "id": "ex1Wo2f_efGc"
      },
      "execution_count": 3,
      "outputs": []
    },
    {
      "cell_type": "code",
      "source": [
        "people.head(3)"
      ],
      "metadata": {
        "colab": {
          "base_uri": "https://localhost:8080/",
          "height": 364
        },
        "id": "UiNvPIsje6Sz",
        "outputId": "07072ad5-2cb5-4fdb-8ad8-e3353d1b1192"
      },
      "execution_count": 4,
      "outputs": [
        {
          "output_type": "execute_result",
          "data": {
            "text/html": [
              "\n",
              "  <div id=\"df-9df12f04-7e31-45fe-8ae3-bc3bfa2b8caf\">\n",
              "    <div class=\"colab-df-container\">\n",
              "      <div>\n",
              "<style scoped>\n",
              "    .dataframe tbody tr th:only-of-type {\n",
              "        vertical-align: middle;\n",
              "    }\n",
              "\n",
              "    .dataframe tbody tr th {\n",
              "        vertical-align: top;\n",
              "    }\n",
              "\n",
              "    .dataframe thead th {\n",
              "        text-align: right;\n",
              "    }\n",
              "</style>\n",
              "<table border=\"1\" class=\"dataframe\">\n",
              "  <thead>\n",
              "    <tr style=\"text-align: right;\">\n",
              "      <th></th>\n",
              "      <th>PassengerId</th>\n",
              "      <th>Survived</th>\n",
              "      <th>Pclass</th>\n",
              "      <th>Name</th>\n",
              "      <th>Sex</th>\n",
              "      <th>Age</th>\n",
              "      <th>SibSp</th>\n",
              "      <th>Parch</th>\n",
              "      <th>Ticket</th>\n",
              "      <th>Fare</th>\n",
              "      <th>Cabin</th>\n",
              "      <th>Embarked</th>\n",
              "    </tr>\n",
              "  </thead>\n",
              "  <tbody>\n",
              "    <tr>\n",
              "      <th>0</th>\n",
              "      <td>1</td>\n",
              "      <td>0</td>\n",
              "      <td>3</td>\n",
              "      <td>Braund, Mr. Owen Harris</td>\n",
              "      <td>male</td>\n",
              "      <td>22.0</td>\n",
              "      <td>1</td>\n",
              "      <td>0</td>\n",
              "      <td>A/5 21171</td>\n",
              "      <td>7.2500</td>\n",
              "      <td>NaN</td>\n",
              "      <td>S</td>\n",
              "    </tr>\n",
              "    <tr>\n",
              "      <th>1</th>\n",
              "      <td>2</td>\n",
              "      <td>1</td>\n",
              "      <td>1</td>\n",
              "      <td>Cumings, Mrs. John Bradley (Florence Briggs Th...</td>\n",
              "      <td>female</td>\n",
              "      <td>38.0</td>\n",
              "      <td>1</td>\n",
              "      <td>0</td>\n",
              "      <td>PC 17599</td>\n",
              "      <td>71.2833</td>\n",
              "      <td>C85</td>\n",
              "      <td>C</td>\n",
              "    </tr>\n",
              "    <tr>\n",
              "      <th>2</th>\n",
              "      <td>3</td>\n",
              "      <td>1</td>\n",
              "      <td>3</td>\n",
              "      <td>Heikkinen, Miss. Laina</td>\n",
              "      <td>female</td>\n",
              "      <td>26.0</td>\n",
              "      <td>0</td>\n",
              "      <td>0</td>\n",
              "      <td>STON/O2. 3101282</td>\n",
              "      <td>7.9250</td>\n",
              "      <td>NaN</td>\n",
              "      <td>S</td>\n",
              "    </tr>\n",
              "  </tbody>\n",
              "</table>\n",
              "</div>\n",
              "      <button class=\"colab-df-convert\" onclick=\"convertToInteractive('df-9df12f04-7e31-45fe-8ae3-bc3bfa2b8caf')\"\n",
              "              title=\"Convert this dataframe to an interactive table.\"\n",
              "              style=\"display:none;\">\n",
              "        \n",
              "  <svg xmlns=\"http://www.w3.org/2000/svg\" height=\"24px\"viewBox=\"0 0 24 24\"\n",
              "       width=\"24px\">\n",
              "    <path d=\"M0 0h24v24H0V0z\" fill=\"none\"/>\n",
              "    <path d=\"M18.56 5.44l.94 2.06.94-2.06 2.06-.94-2.06-.94-.94-2.06-.94 2.06-2.06.94zm-11 1L8.5 8.5l.94-2.06 2.06-.94-2.06-.94L8.5 2.5l-.94 2.06-2.06.94zm10 10l.94 2.06.94-2.06 2.06-.94-2.06-.94-.94-2.06-.94 2.06-2.06.94z\"/><path d=\"M17.41 7.96l-1.37-1.37c-.4-.4-.92-.59-1.43-.59-.52 0-1.04.2-1.43.59L10.3 9.45l-7.72 7.72c-.78.78-.78 2.05 0 2.83L4 21.41c.39.39.9.59 1.41.59.51 0 1.02-.2 1.41-.59l7.78-7.78 2.81-2.81c.8-.78.8-2.07 0-2.86zM5.41 20L4 18.59l7.72-7.72 1.47 1.35L5.41 20z\"/>\n",
              "  </svg>\n",
              "      </button>\n",
              "      \n",
              "  <style>\n",
              "    .colab-df-container {\n",
              "      display:flex;\n",
              "      flex-wrap:wrap;\n",
              "      gap: 12px;\n",
              "    }\n",
              "\n",
              "    .colab-df-convert {\n",
              "      background-color: #E8F0FE;\n",
              "      border: none;\n",
              "      border-radius: 50%;\n",
              "      cursor: pointer;\n",
              "      display: none;\n",
              "      fill: #1967D2;\n",
              "      height: 32px;\n",
              "      padding: 0 0 0 0;\n",
              "      width: 32px;\n",
              "    }\n",
              "\n",
              "    .colab-df-convert:hover {\n",
              "      background-color: #E2EBFA;\n",
              "      box-shadow: 0px 1px 2px rgba(60, 64, 67, 0.3), 0px 1px 3px 1px rgba(60, 64, 67, 0.15);\n",
              "      fill: #174EA6;\n",
              "    }\n",
              "\n",
              "    [theme=dark] .colab-df-convert {\n",
              "      background-color: #3B4455;\n",
              "      fill: #D2E3FC;\n",
              "    }\n",
              "\n",
              "    [theme=dark] .colab-df-convert:hover {\n",
              "      background-color: #434B5C;\n",
              "      box-shadow: 0px 1px 3px 1px rgba(0, 0, 0, 0.15);\n",
              "      filter: drop-shadow(0px 1px 2px rgba(0, 0, 0, 0.3));\n",
              "      fill: #FFFFFF;\n",
              "    }\n",
              "  </style>\n",
              "\n",
              "      <script>\n",
              "        const buttonEl =\n",
              "          document.querySelector('#df-9df12f04-7e31-45fe-8ae3-bc3bfa2b8caf button.colab-df-convert');\n",
              "        buttonEl.style.display =\n",
              "          google.colab.kernel.accessAllowed ? 'block' : 'none';\n",
              "\n",
              "        async function convertToInteractive(key) {\n",
              "          const element = document.querySelector('#df-9df12f04-7e31-45fe-8ae3-bc3bfa2b8caf');\n",
              "          const dataTable =\n",
              "            await google.colab.kernel.invokeFunction('convertToInteractive',\n",
              "                                                     [key], {});\n",
              "          if (!dataTable) return;\n",
              "\n",
              "          const docLinkHtml = 'Like what you see? Visit the ' +\n",
              "            '<a target=\"_blank\" href=https://colab.research.google.com/notebooks/data_table.ipynb>data table notebook</a>'\n",
              "            + ' to learn more about interactive tables.';\n",
              "          element.innerHTML = '';\n",
              "          dataTable['output_type'] = 'display_data';\n",
              "          await google.colab.output.renderOutput(dataTable, element);\n",
              "          const docLink = document.createElement('div');\n",
              "          docLink.innerHTML = docLinkHtml;\n",
              "          element.appendChild(docLink);\n",
              "        }\n",
              "      </script>\n",
              "    </div>\n",
              "  </div>\n",
              "  "
            ],
            "text/plain": [
              "   PassengerId  Survived  Pclass  ...     Fare Cabin  Embarked\n",
              "0            1         0       3  ...   7.2500   NaN         S\n",
              "1            2         1       1  ...  71.2833   C85         C\n",
              "2            3         1       3  ...   7.9250   NaN         S\n",
              "\n",
              "[3 rows x 12 columns]"
            ]
          },
          "metadata": {},
          "execution_count": 4
        }
      ]
    },
    {
      "cell_type": "code",
      "source": [
        "people.isna().sum()"
      ],
      "metadata": {
        "colab": {
          "base_uri": "https://localhost:8080/"
        },
        "id": "UJPxMlY0e_jW",
        "outputId": "07ed9ecc-db36-4be6-e990-023701da3210"
      },
      "execution_count": 5,
      "outputs": [
        {
          "output_type": "execute_result",
          "data": {
            "text/plain": [
              "PassengerId      0\n",
              "Survived         0\n",
              "Pclass           0\n",
              "Name             0\n",
              "Sex              0\n",
              "Age            177\n",
              "SibSp            0\n",
              "Parch            0\n",
              "Ticket           0\n",
              "Fare             0\n",
              "Cabin          687\n",
              "Embarked         2\n",
              "dtype: int64"
            ]
          },
          "metadata": {},
          "execution_count": 5
        }
      ]
    },
    {
      "cell_type": "code",
      "source": [
        "len(people)"
      ],
      "metadata": {
        "colab": {
          "base_uri": "https://localhost:8080/"
        },
        "id": "W-5sthDnfSN-",
        "outputId": "9855b222-ac5f-4953-c4b3-50eb95a2dac4"
      },
      "execution_count": 6,
      "outputs": [
        {
          "output_type": "execute_result",
          "data": {
            "text/plain": [
              "891"
            ]
          },
          "metadata": {},
          "execution_count": 6
        }
      ]
    },
    {
      "cell_type": "code",
      "source": [
        "people.info()"
      ],
      "metadata": {
        "id": "cQCi0H7ogZ81",
        "colab": {
          "base_uri": "https://localhost:8080/"
        },
        "outputId": "11cd2bd1-988a-4972-ca52-81a9242e0a6d"
      },
      "execution_count": 7,
      "outputs": [
        {
          "output_type": "stream",
          "name": "stdout",
          "text": [
            "<class 'pandas.core.frame.DataFrame'>\n",
            "RangeIndex: 891 entries, 0 to 890\n",
            "Data columns (total 12 columns):\n",
            " #   Column       Non-Null Count  Dtype  \n",
            "---  ------       --------------  -----  \n",
            " 0   PassengerId  891 non-null    int64  \n",
            " 1   Survived     891 non-null    int64  \n",
            " 2   Pclass       891 non-null    int64  \n",
            " 3   Name         891 non-null    object \n",
            " 4   Sex          891 non-null    object \n",
            " 5   Age          714 non-null    float64\n",
            " 6   SibSp        891 non-null    int64  \n",
            " 7   Parch        891 non-null    int64  \n",
            " 8   Ticket       891 non-null    object \n",
            " 9   Fare         891 non-null    float64\n",
            " 10  Cabin        204 non-null    object \n",
            " 11  Embarked     889 non-null    object \n",
            "dtypes: float64(2), int64(5), object(5)\n",
            "memory usage: 83.7+ KB\n"
          ]
        }
      ]
    },
    {
      "cell_type": "code",
      "source": [
        "def tranforma_miss(lista,s):\n",
        "  cont = 0\n",
        "  for i in lista:\n",
        "    cont = cont + 1\n",
        "    if i == s:\n",
        "      return cont\n",
        "    "
      ],
      "metadata": {
        "id": "G8h6OMRYXCq_"
      },
      "execution_count": 8,
      "outputs": []
    },
    {
      "cell_type": "code",
      "source": [
        "def pre_process(df):\n",
        "  df = df.drop(['Cabin'],axis = 1)\n",
        "  df['Sex'] = np.where(df['Sex'] == 'male', 0, 1)\n",
        "  df['Embarked'] = np.where(df['Embarked']== 'S', 0, df['Embarked'])\n",
        "  df['Embarked'] = np.where(df['Embarked']== 'C', 1, df['Embarked'])\n",
        "  df['Embarked'] = np.where(df['Embarked']== 'Q', 2, df['Embarked'])\n",
        "  df['Fare'] = df['Fare'].fillna(0)\n",
        "  df['Age'] = df['Age'].fillna(0)\n",
        "  df['Embarked'] = df['Embarked'].fillna(0)\n",
        "  df['Fare'] = (df['Fare'] - df['Fare'].min()) / ( df['Fare'].max() - df['Fare'].min())\n",
        "  df['Name'] = (df['Name'].astype(str))\n",
        "  df['Name'] = df['Name'].apply(lambda s: s.split()[1])\n",
        "  df['Name'] = df['Name'].apply(lambda s: tranforma_miss(df['Name'].unique(),s))  \n",
        "  return df"
      ],
      "metadata": {
        "id": "OwCr_uGiOHNd"
      },
      "execution_count": 9,
      "outputs": []
    },
    {
      "cell_type": "code",
      "source": [
        "people['Embarked'].unique()"
      ],
      "metadata": {
        "colab": {
          "base_uri": "https://localhost:8080/"
        },
        "id": "hMe90wCQGz4f",
        "outputId": "12aa3c46-08f6-4baa-8226-c6272c5ff9cd"
      },
      "execution_count": 10,
      "outputs": [
        {
          "output_type": "execute_result",
          "data": {
            "text/plain": [
              "array(['S', 'C', 'Q', nan], dtype=object)"
            ]
          },
          "metadata": {},
          "execution_count": 10
        }
      ]
    },
    {
      "cell_type": "code",
      "source": [
        "people = pre_process(people)"
      ],
      "metadata": {
        "id": "30uRIFSAOP4W"
      },
      "execution_count": 11,
      "outputs": []
    },
    {
      "cell_type": "code",
      "source": [
        "people.hist(figsize=[10,10])"
      ],
      "metadata": {
        "colab": {
          "base_uri": "https://localhost:8080/",
          "height": 833
        },
        "id": "-z-o4pYomg_i",
        "outputId": "f913824d-08bf-495b-868d-10b5d806cb63"
      },
      "execution_count": 12,
      "outputs": [
        {
          "output_type": "execute_result",
          "data": {
            "text/plain": [
              "array([[<matplotlib.axes._subplots.AxesSubplot object at 0x7f3d0d6abfd0>,\n",
              "        <matplotlib.axes._subplots.AxesSubplot object at 0x7f3d0d6850d0>,\n",
              "        <matplotlib.axes._subplots.AxesSubplot object at 0x7f3d0d631290>],\n",
              "       [<matplotlib.axes._subplots.AxesSubplot object at 0x7f3d0d5e7810>,\n",
              "        <matplotlib.axes._subplots.AxesSubplot object at 0x7f3d0d5a1e10>,\n",
              "        <matplotlib.axes._subplots.AxesSubplot object at 0x7f3d0d561450>],\n",
              "       [<matplotlib.axes._subplots.AxesSubplot object at 0x7f3d0d517a50>,\n",
              "        <matplotlib.axes._subplots.AxesSubplot object at 0x7f3d0d4da090>,\n",
              "        <matplotlib.axes._subplots.AxesSubplot object at 0x7f3d0d4ec9d0>],\n",
              "       [<matplotlib.axes._subplots.AxesSubplot object at 0x7f3d0d4ae050>,\n",
              "        <matplotlib.axes._subplots.AxesSubplot object at 0x7f3d0d4882d0>,\n",
              "        <matplotlib.axes._subplots.AxesSubplot object at 0x7f3d0d43c8d0>]],\n",
              "      dtype=object)"
            ]
          },
          "metadata": {},
          "execution_count": 12
        },
        {
          "output_type": "display_data",
          "data": {
            "image/png": "[encoded data removed]",
            "text/plain": [
              "<Figure size 720x720 with 12 Axes>"
            ]
          },
          "metadata": {
            "needs_background": "light"
          }
        }
      ]
    },
    {
      "cell_type": "code",
      "source": [
        "people_1 = people[people['Survived'] == 1]\n",
        "people_1.hist(figsize=[10,10])"
      ],
      "metadata": {
        "colab": {
          "base_uri": "https://localhost:8080/",
          "height": 833
        },
        "id": "ZYW7m0BGmuiN",
        "outputId": "7d111fee-4d66-4eac-a2be-cccc6aaea832"
      },
      "execution_count": 13,
      "outputs": [
        {
          "output_type": "execute_result",
          "data": {
            "text/plain": [
              "array([[<matplotlib.axes._subplots.AxesSubplot object at 0x7f3d0d72a210>,\n",
              "        <matplotlib.axes._subplots.AxesSubplot object at 0x7f3d0d0f3450>,\n",
              "        <matplotlib.axes._subplots.AxesSubplot object at 0x7f3d0cc04590>],\n",
              "       [<matplotlib.axes._subplots.AxesSubplot object at 0x7f3d0cc38a90>,\n",
              "        <matplotlib.axes._subplots.AxesSubplot object at 0x7f3d0cbf1f90>,\n",
              "        <matplotlib.axes._subplots.AxesSubplot object at 0x7f3d0cbb14d0>],\n",
              "       [<matplotlib.axes._subplots.AxesSubplot object at 0x7f3d0cb669d0>,\n",
              "        <matplotlib.axes._subplots.AxesSubplot object at 0x7f3d0cb1eed0>,\n",
              "        <matplotlib.axes._subplots.AxesSubplot object at 0x7f3d0cb3a850>],\n",
              "       [<matplotlib.axes._subplots.AxesSubplot object at 0x7f3d0caf1d10>,\n",
              "        <matplotlib.axes._subplots.AxesSubplot object at 0x7f3d0ca4de10>,\n",
              "        <matplotlib.axes._subplots.AxesSubplot object at 0x7f3d0ca0c350>]],\n",
              "      dtype=object)"
            ]
          },
          "metadata": {},
          "execution_count": 13
        },
        {
          "output_type": "display_data",
          "data": {
            "image/png": "[encoded data removed]",
            "text/plain": [
              "<Figure size 720x720 with 12 Axes>"
            ]
          },
          "metadata": {
            "needs_background": "light"
          }
        }
      ]
    },
    {
      "cell_type": "code",
      "source": [
        "people_1['Embarked'].hist()"
      ],
      "metadata": {
        "colab": {
          "base_uri": "https://localhost:8080/",
          "height": 282
        },
        "id": "vyZA8HJmJb4l",
        "outputId": "b28a5be8-2a63-440b-bf45-b82fd8a6a2f3"
      },
      "execution_count": 14,
      "outputs": [
        {
          "output_type": "execute_result",
          "data": {
            "text/plain": [
              "<matplotlib.axes._subplots.AxesSubplot at 0x7f3d0c9e4150>"
            ]
          },
          "metadata": {},
          "execution_count": 14
        },
        {
          "output_type": "display_data",
          "data": {
            "image/png": "[encoded data removed]",
            "text/plain": [
              "<Figure size 432x288 with 1 Axes>"
            ]
          },
          "metadata": {
            "needs_background": "light"
          }
        }
      ]
    },
    {
      "cell_type": "code",
      "source": [
        "people_0 = people[people['Survived'] == 0]\n",
        "people_0.hist(figsize=[10,10])"
      ],
      "metadata": {
        "colab": {
          "base_uri": "https://localhost:8080/",
          "height": 833
        },
        "id": "wXhHi4dtnMiD",
        "outputId": "ca9d95d6-161c-4dd3-8006-823e3cbc8025"
      },
      "execution_count": 15,
      "outputs": [
        {
          "output_type": "execute_result",
          "data": {
            "text/plain": [
              "array([[<matplotlib.axes._subplots.AxesSubplot object at 0x7f3d0c6e5a90>,\n",
              "        <matplotlib.axes._subplots.AxesSubplot object at 0x7f3d0c686c90>,\n",
              "        <matplotlib.axes._subplots.AxesSubplot object at 0x7f3d0c6422d0>],\n",
              "       [<matplotlib.axes._subplots.AxesSubplot object at 0x7f3d0c6768d0>,\n",
              "        <matplotlib.axes._subplots.AxesSubplot object at 0x7f3d0c62eed0>,\n",
              "        <matplotlib.axes._subplots.AxesSubplot object at 0x7f3d0c5f3550>],\n",
              "       [<matplotlib.axes._subplots.AxesSubplot object at 0x7f3d0c5a7910>,\n",
              "        <matplotlib.axes._subplots.AxesSubplot object at 0x7f3d0c55fe50>,\n",
              "        <matplotlib.axes._subplots.AxesSubplot object at 0x7f3d0c4fd7d0>],\n",
              "       [<matplotlib.axes._subplots.AxesSubplot object at 0x7f3d0c533c90>,\n",
              "        <matplotlib.axes._subplots.AxesSubplot object at 0x7f3d0c48dd90>,\n",
              "        <matplotlib.axes._subplots.AxesSubplot object at 0x7f3d0c44e2d0>]],\n",
              "      dtype=object)"
            ]
          },
          "metadata": {},
          "execution_count": 15
        },
        {
          "output_type": "display_data",
          "data": {
            "image/png": "[encoded data removed]",
            "text/plain": [
              "<Figure size 720x720 with 12 Axes>"
            ]
          },
          "metadata": {
            "needs_background": "light"
          }
        }
      ]
    },
    {
      "cell_type": "code",
      "source": [
        "people_0['Embarked'].hist()"
      ],
      "metadata": {
        "colab": {
          "base_uri": "https://localhost:8080/",
          "height": 282
        },
        "id": "uYUvHmjHJV_7",
        "outputId": "470dfdca-e480-478b-811b-c2e8d4eeff89"
      },
      "execution_count": 16,
      "outputs": [
        {
          "output_type": "execute_result",
          "data": {
            "text/plain": [
              "<matplotlib.axes._subplots.AxesSubplot at 0x7f3d0c43a8d0>"
            ]
          },
          "metadata": {},
          "execution_count": 16
        },
        {
          "output_type": "display_data",
          "data": {
            "image/png": "[encoded data removed]",
            "text/plain": [
              "<Figure size 432x288 with 1 Axes>"
            ]
          },
          "metadata": {
            "needs_background": "light"
          }
        }
      ]
    },
    {
      "cell_type": "code",
      "source": [
        "people['Survived'].value_counts().plot.pie()"
      ],
      "metadata": {
        "colab": {
          "base_uri": "https://localhost:8080/",
          "height": 265
        },
        "id": "XJMQ2frDmpYr",
        "outputId": "ba10fffc-abcc-4d62-a0f8-577d3696c0d8"
      },
      "execution_count": 17,
      "outputs": [
        {
          "output_type": "execute_result",
          "data": {
            "text/plain": [
              "<matplotlib.axes._subplots.AxesSubplot at 0x7f3d0d4fe8d0>"
            ]
          },
          "metadata": {},
          "execution_count": 17
        },
        {
          "output_type": "display_data",
          "data": {
            "image/png": "[encoded data removed]",
            "text/plain": [
              "<Figure size 432x288 with 1 Axes>"
            ]
          },
          "metadata": {}
        }
      ]
    },
    {
      "cell_type": "markdown",
      "source": [
        "muita gente P3 não sobreviveu, junto com SibSp perto de 0, mas tem bastante sobrevivente com 0, e sobrevivendo com 1. E sex == 0 (homens) e Parch == 0"
      ],
      "metadata": {
        "id": "3ptdxqf2Bbsu"
      }
    },
    {
      "cell_type": "markdown",
      "source": [
        "# Separação em Train e Test"
      ],
      "metadata": {
        "id": "--9H8m6lWwIF"
      }
    },
    {
      "cell_type": "code",
      "source": [
        "from sklearn import tree\n",
        "from sklearn.model_selection import train_test_split\n",
        "from sklearn import metrics"
      ],
      "metadata": {
        "id": "1IR61GwNFiOM"
      },
      "execution_count": 18,
      "outputs": []
    },
    {
      "cell_type": "code",
      "source": [
        "# X_train, X_test, y_train, y_test = train_test_split(people[['Sex', 'SibSp', 'Parch']], people['Survived'], test_size=0.2, random_state=3)"
      ],
      "metadata": {
        "id": "rr0D20EfSbHk"
      },
      "execution_count": 19,
      "outputs": []
    },
    {
      "cell_type": "code",
      "source": [
        "colunas_escolhidas = ['Pclass', 'Sex','Embarked', 'SibSp', 'Name', 'Fare']#['Pclass', 'Sex','Embarked'] #[ 'Sex', 'SibSp', 'Parch']"
      ],
      "metadata": {
        "id": "sQPZygKO2E6Z"
      },
      "execution_count": 20,
      "outputs": []
    },
    {
      "cell_type": "code",
      "source": [
        "X_train, X_test, y_train, y_test = train_test_split(people[colunas_escolhidas], people['Survived'], test_size=0.10,random_state=42)"
      ],
      "metadata": {
        "id": "U6lra0uXawbG"
      },
      "execution_count": 21,
      "outputs": []
    },
    {
      "cell_type": "markdown",
      "source": [
        "Função saída"
      ],
      "metadata": {
        "id": "opp8BiGScPxZ"
      }
    },
    {
      "cell_type": "code",
      "source": [
        "def csv(y_k, r, title):\n",
        "  y_k = np.array(y_k)\n",
        "  df = []\n",
        "  df = pd.DataFrame(y_k, columns = ['Survived'])\n",
        "  r['Survived'] = df['Survived']\n",
        "  r[['PassengerId','Survived']].to_csv(title, index = False, sep = ',')\n"
      ],
      "metadata": {
        "id": "QU56JQ-ZcSVQ"
      },
      "execution_count": 22,
      "outputs": []
    },
    {
      "cell_type": "markdown",
      "source": [
        "### Import test"
      ],
      "metadata": {
        "id": "syGyBJrsdETA"
      }
    },
    {
      "cell_type": "code",
      "source": [
        "resp = pd.read_csv(\"/content/drive/MyDrive/Titanic/test.csv\")"
      ],
      "metadata": {
        "id": "0St30OjXn6tW"
      },
      "execution_count": 23,
      "outputs": []
    },
    {
      "cell_type": "code",
      "source": [
        "resp.isna().sum()"
      ],
      "metadata": {
        "colab": {
          "base_uri": "https://localhost:8080/"
        },
        "id": "_JCtej2utuU_",
        "outputId": "80e4e65a-a9f2-459f-e34d-26f717f53e9c"
      },
      "execution_count": 24,
      "outputs": [
        {
          "output_type": "execute_result",
          "data": {
            "text/plain": [
              "PassengerId      0\n",
              "Pclass           0\n",
              "Name             0\n",
              "Sex              0\n",
              "Age             86\n",
              "SibSp            0\n",
              "Parch            0\n",
              "Ticket           0\n",
              "Fare             1\n",
              "Cabin          327\n",
              "Embarked         0\n",
              "dtype: int64"
            ]
          },
          "metadata": {},
          "execution_count": 24
        }
      ]
    },
    {
      "cell_type": "code",
      "source": [
        "resp = pre_process(resp)"
      ],
      "metadata": {
        "id": "Sm79yyiJOur4"
      },
      "execution_count": 25,
      "outputs": []
    },
    {
      "cell_type": "markdown",
      "source": [
        "# Árvore de decisão\n"
      ],
      "metadata": {
        "id": "42PzUuILEd7o"
      }
    },
    {
      "cell_type": "code",
      "source": [
        "people.keys()"
      ],
      "metadata": {
        "colab": {
          "base_uri": "https://localhost:8080/"
        },
        "id": "VApniF2mKhdg",
        "outputId": "7ef2e5ea-6f8a-4800-e117-4f2a72a68e18"
      },
      "execution_count": 26,
      "outputs": [
        {
          "output_type": "execute_result",
          "data": {
            "text/plain": [
              "Index(['PassengerId', 'Survived', 'Pclass', 'Name', 'Sex', 'Age', 'SibSp',\n",
              "       'Parch', 'Ticket', 'Fare', 'Embarked'],\n",
              "      dtype='object')"
            ]
          },
          "metadata": {},
          "execution_count": 26
        }
      ]
    },
    {
      "cell_type": "code",
      "source": [
        "clf = tree.DecisionTreeClassifier(random_state=0, max_depth=10)\n",
        "clf = clf.fit(X_train,y_train)"
      ],
      "metadata": {
        "id": "YgseMRTrE_df"
      },
      "execution_count": 27,
      "outputs": []
    },
    {
      "cell_type": "code",
      "source": [
        "y = clf.predict(X_test)"
      ],
      "metadata": {
        "id": "j1lMxiO_SsFN"
      },
      "execution_count": 28,
      "outputs": []
    },
    {
      "cell_type": "code",
      "source": [
        "print(\"DecisionTrees's Accuracy: \", metrics.accuracy_score(y_test, y)) #0.77751 -> 'Pclass', 'Sex','Embarked',  e aqui 0.80"
      ],
      "metadata": {
        "colab": {
          "base_uri": "https://localhost:8080/"
        },
        "id": "tL_LibIJS_a3",
        "outputId": "34964e54-c26f-4092-9b91-d92c158cf872"
      },
      "execution_count": 29,
      "outputs": [
        {
          "output_type": "stream",
          "name": "stdout",
          "text": [
            "DecisionTrees's Accuracy:  0.8111111111111111\n"
          ]
        }
      ]
    },
    {
      "cell_type": "code",
      "source": [
        "from sklearn.metrics import confusion_matrix\n",
        "print(confusion_matrix(y, y_test))"
      ],
      "metadata": {
        "colab": {
          "base_uri": "https://localhost:8080/"
        },
        "id": "jUdKE3fSVCE2",
        "outputId": "8621d6d8-7c2c-4c4c-fd23-5532c4a5faff"
      },
      "execution_count": 30,
      "outputs": [
        {
          "output_type": "stream",
          "name": "stdout",
          "text": [
            "[[44  7]\n",
            " [10 29]]\n"
          ]
        }
      ]
    },
    {
      "cell_type": "code",
      "source": [
        "y_resp = resp"
      ],
      "metadata": {
        "id": "nq10LwHcl7mi"
      },
      "execution_count": 31,
      "outputs": []
    },
    {
      "cell_type": "code",
      "source": [
        "resp = resp[colunas_escolhidas] "
      ],
      "metadata": {
        "id": "wQhlODkPgsQM"
      },
      "execution_count": 32,
      "outputs": []
    },
    {
      "cell_type": "code",
      "source": [
        "X_test_k = resp"
      ],
      "metadata": {
        "id": "RQRJqG3eNz4h"
      },
      "execution_count": 33,
      "outputs": []
    },
    {
      "cell_type": "code",
      "source": [
        "y_k = clf.predict(X_test_k)"
      ],
      "metadata": {
        "id": "m1Z93sEmNi6Q"
      },
      "execution_count": 34,
      "outputs": []
    },
    {
      "cell_type": "code",
      "source": [
        "type(y_k)"
      ],
      "metadata": {
        "colab": {
          "base_uri": "https://localhost:8080/"
        },
        "id": "0P4721jCgHUp",
        "outputId": "226bf229-379e-4224-d85d-25e2526128f4"
      },
      "execution_count": 35,
      "outputs": [
        {
          "output_type": "execute_result",
          "data": {
            "text/plain": [
              "numpy.ndarray"
            ]
          },
          "metadata": {},
          "execution_count": 35
        }
      ]
    },
    {
      "cell_type": "code",
      "source": [
        "csv(y_k,y_resp, 'tree.csv')"
      ],
      "metadata": {
        "id": "61jdpEMpnbxd"
      },
      "execution_count": 36,
      "outputs": []
    },
    {
      "cell_type": "markdown",
      "source": [
        "# K Nearest Neighbor(KNN)"
      ],
      "metadata": {
        "id": "FhRRmb8EXgmS"
      }
    },
    {
      "cell_type": "code",
      "source": [
        "from sklearn.neighbors import KNeighborsClassifier\n",
        "# from sklearn.metrics import jaccard_similarity_score\n",
        "from sklearn.metrics import f1_score"
      ],
      "metadata": {
        "id": "MgvAel0mYs4Z"
      },
      "execution_count": 37,
      "outputs": []
    },
    {
      "cell_type": "code",
      "source": [
        "Ks=15\n",
        "mean_acc=np.zeros((Ks-1))\n",
        "std_acc=np.zeros((Ks-1))\n",
        "ConfustionMx=[];\n",
        "for n in range(1,Ks):\n",
        "    \n",
        "    #Train Model and Predict  \n",
        "    kNN_model = KNeighborsClassifier(n_neighbors=n).fit(X_train,y_train)\n",
        "    yhat = kNN_model.predict(X_test)\n",
        "    \n",
        "    \n",
        "    mean_acc[n-1]=np.mean(yhat==y_test);\n",
        "    \n",
        "    std_acc[n-1]=np.std(yhat==y_test)/np.sqrt(yhat.shape[0])\n",
        "mean_acc"
      ],
      "metadata": {
        "id": "Xfcu7qG5YMJb",
        "colab": {
          "base_uri": "https://localhost:8080/"
        },
        "outputId": "f7edcaea-24d6-4d2a-d5ee-2fd6a8aa763a"
      },
      "execution_count": 38,
      "outputs": [
        {
          "output_type": "execute_result",
          "data": {
            "text/plain": [
              "array([0.77777778, 0.82222222, 0.78888889, 0.8       , 0.81111111,\n",
              "       0.8       , 0.81111111, 0.81111111, 0.8       , 0.78888889,\n",
              "       0.78888889, 0.8       , 0.78888889, 0.78888889])"
            ]
          },
          "metadata": {},
          "execution_count": 38
        }
      ]
    },
    {
      "cell_type": "code",
      "source": [
        "# Building the model again, using k=1\n",
        "from sklearn.neighbors import KNeighborsClassifier\n",
        "k = 2\n",
        "#Train Model and Predict  \n",
        "kNN_model = KNeighborsClassifier(n_neighbors=k).fit(X_train,y_train)\n",
        "kNN_model"
      ],
      "metadata": {
        "id": "uWXALCM9YUN4",
        "colab": {
          "base_uri": "https://localhost:8080/"
        },
        "outputId": "9df7ae6f-0b4a-482e-af21-cede531c30d6"
      },
      "execution_count": 39,
      "outputs": [
        {
          "output_type": "execute_result",
          "data": {
            "text/plain": [
              "KNeighborsClassifier(n_neighbors=2)"
            ]
          },
          "metadata": {},
          "execution_count": 39
        }
      ]
    },
    {
      "cell_type": "code",
      "source": [
        "knn_yhat = kNN_model.predict(X_test)\n",
        "print(\"KNN F1-score: %.2f\" % f1_score(y_test, knn_yhat, average='weighted') )"
      ],
      "metadata": {
        "id": "xcwDaQzPYd8J",
        "colab": {
          "base_uri": "https://localhost:8080/"
        },
        "outputId": "c362ca2e-933f-440f-df86-62fe5fe0e9a0"
      },
      "execution_count": 40,
      "outputs": [
        {
          "output_type": "stream",
          "name": "stdout",
          "text": [
            "KNN F1-score: 0.81\n"
          ]
        }
      ]
    },
    {
      "cell_type": "code",
      "source": [
        "from sklearn.metrics import confusion_matrix\n",
        "print(confusion_matrix(knn_yhat, y_test))"
      ],
      "metadata": {
        "colab": {
          "base_uri": "https://localhost:8080/"
        },
        "id": "wu92Mk-8U5UO",
        "outputId": "f38d9832-a1be-48fd-ab52-7be904c29f85"
      },
      "execution_count": 41,
      "outputs": [
        {
          "output_type": "stream",
          "name": "stdout",
          "text": [
            "[[52 14]\n",
            " [ 2 22]]\n"
          ]
        }
      ]
    },
    {
      "cell_type": "code",
      "source": [
        "y_resp_knn = kNN_model.predict(resp)"
      ],
      "metadata": {
        "id": "f6URsL5vzOIP"
      },
      "execution_count": 42,
      "outputs": []
    },
    {
      "cell_type": "code",
      "source": [
        "csv(y_resp_knn,y_resp, 'knn.csv')"
      ],
      "metadata": {
        "id": "_ZQ9Js8JcJeX"
      },
      "execution_count": 43,
      "outputs": []
    },
    {
      "cell_type": "markdown",
      "source": [
        "# Support Vector Machine"
      ],
      "metadata": {
        "id": "rEZLnKDHa9yl"
      }
    },
    {
      "cell_type": "code",
      "source": [
        "resp.head()"
      ],
      "metadata": {
        "colab": {
          "base_uri": "https://localhost:8080/",
          "height": 206
        },
        "id": "99ahAjWjNPES",
        "outputId": "e9183384-a5cd-471c-e2ca-ea51eab8b2bd"
      },
      "execution_count": 44,
      "outputs": [
        {
          "output_type": "execute_result",
          "data": {
            "text/html": [
              "\n",
              "  <div id=\"df-214cd940-08c2-41af-ad02-ab1547062fdd\">\n",
              "    <div class=\"colab-df-container\">\n",
              "      <div>\n",
              "<style scoped>\n",
              "    .dataframe tbody tr th:only-of-type {\n",
              "        vertical-align: middle;\n",
              "    }\n",
              "\n",
              "    .dataframe tbody tr th {\n",
              "        vertical-align: top;\n",
              "    }\n",
              "\n",
              "    .dataframe thead th {\n",
              "        text-align: right;\n",
              "    }\n",
              "</style>\n",
              "<table border=\"1\" class=\"dataframe\">\n",
              "  <thead>\n",
              "    <tr style=\"text-align: right;\">\n",
              "      <th></th>\n",
              "      <th>Pclass</th>\n",
              "      <th>Sex</th>\n",
              "      <th>Embarked</th>\n",
              "      <th>SibSp</th>\n",
              "      <th>Name</th>\n",
              "      <th>Fare</th>\n",
              "    </tr>\n",
              "  </thead>\n",
              "  <tbody>\n",
              "    <tr>\n",
              "      <th>0</th>\n",
              "      <td>3</td>\n",
              "      <td>0</td>\n",
              "      <td>2</td>\n",
              "      <td>0</td>\n",
              "      <td>1</td>\n",
              "      <td>0.015282</td>\n",
              "    </tr>\n",
              "    <tr>\n",
              "      <th>1</th>\n",
              "      <td>3</td>\n",
              "      <td>1</td>\n",
              "      <td>0</td>\n",
              "      <td>1</td>\n",
              "      <td>2</td>\n",
              "      <td>0.013663</td>\n",
              "    </tr>\n",
              "    <tr>\n",
              "      <th>2</th>\n",
              "      <td>2</td>\n",
              "      <td>0</td>\n",
              "      <td>2</td>\n",
              "      <td>0</td>\n",
              "      <td>1</td>\n",
              "      <td>0.018909</td>\n",
              "    </tr>\n",
              "    <tr>\n",
              "      <th>3</th>\n",
              "      <td>3</td>\n",
              "      <td>0</td>\n",
              "      <td>0</td>\n",
              "      <td>0</td>\n",
              "      <td>1</td>\n",
              "      <td>0.016908</td>\n",
              "    </tr>\n",
              "    <tr>\n",
              "      <th>4</th>\n",
              "      <td>3</td>\n",
              "      <td>1</td>\n",
              "      <td>0</td>\n",
              "      <td>1</td>\n",
              "      <td>2</td>\n",
              "      <td>0.023984</td>\n",
              "    </tr>\n",
              "  </tbody>\n",
              "</table>\n",
              "</div>\n",
              "      <button class=\"colab-df-convert\" onclick=\"convertToInteractive('df-214cd940-08c2-41af-ad02-ab1547062fdd')\"\n",
              "              title=\"Convert this dataframe to an interactive table.\"\n",
              "              style=\"display:none;\">\n",
              "        \n",
              "  <svg xmlns=\"http://www.w3.org/2000/svg\" height=\"24px\"viewBox=\"0 0 24 24\"\n",
              "       width=\"24px\">\n",
              "    <path d=\"M0 0h24v24H0V0z\" fill=\"none\"/>\n",
              "    <path d=\"M18.56 5.44l.94 2.06.94-2.06 2.06-.94-2.06-.94-.94-2.06-.94 2.06-2.06.94zm-11 1L8.5 8.5l.94-2.06 2.06-.94-2.06-.94L8.5 2.5l-.94 2.06-2.06.94zm10 10l.94 2.06.94-2.06 2.06-.94-2.06-.94-.94-2.06-.94 2.06-2.06.94z\"/><path d=\"M17.41 7.96l-1.37-1.37c-.4-.4-.92-.59-1.43-.59-.52 0-1.04.2-1.43.59L10.3 9.45l-7.72 7.72c-.78.78-.78 2.05 0 2.83L4 21.41c.39.39.9.59 1.41.59.51 0 1.02-.2 1.41-.59l7.78-7.78 2.81-2.81c.8-.78.8-2.07 0-2.86zM5.41 20L4 18.59l7.72-7.72 1.47 1.35L5.41 20z\"/>\n",
              "  </svg>\n",
              "      </button>\n",
              "      \n",
              "  <style>\n",
              "    .colab-df-container {\n",
              "      display:flex;\n",
              "      flex-wrap:wrap;\n",
              "      gap: 12px;\n",
              "    }\n",
              "\n",
              "    .colab-df-convert {\n",
              "      background-color: #E8F0FE;\n",
              "      border: none;\n",
              "      border-radius: 50%;\n",
              "      cursor: pointer;\n",
              "      display: none;\n",
              "      fill: #1967D2;\n",
              "      height: 32px;\n",
              "      padding: 0 0 0 0;\n",
              "      width: 32px;\n",
              "    }\n",
              "\n",
              "    .colab-df-convert:hover {\n",
              "      background-color: #E2EBFA;\n",
              "      box-shadow: 0px 1px 2px rgba(60, 64, 67, 0.3), 0px 1px 3px 1px rgba(60, 64, 67, 0.15);\n",
              "      fill: #174EA6;\n",
              "    }\n",
              "\n",
              "    [theme=dark] .colab-df-convert {\n",
              "      background-color: #3B4455;\n",
              "      fill: #D2E3FC;\n",
              "    }\n",
              "\n",
              "    [theme=dark] .colab-df-convert:hover {\n",
              "      background-color: #434B5C;\n",
              "      box-shadow: 0px 1px 3px 1px rgba(0, 0, 0, 0.15);\n",
              "      filter: drop-shadow(0px 1px 2px rgba(0, 0, 0, 0.3));\n",
              "      fill: #FFFFFF;\n",
              "    }\n",
              "  </style>\n",
              "\n",
              "      <script>\n",
              "        const buttonEl =\n",
              "          document.querySelector('#df-214cd940-08c2-41af-ad02-ab1547062fdd button.colab-df-convert');\n",
              "        buttonEl.style.display =\n",
              "          google.colab.kernel.accessAllowed ? 'block' : 'none';\n",
              "\n",
              "        async function convertToInteractive(key) {\n",
              "          const element = document.querySelector('#df-214cd940-08c2-41af-ad02-ab1547062fdd');\n",
              "          const dataTable =\n",
              "            await google.colab.kernel.invokeFunction('convertToInteractive',\n",
              "                                                     [key], {});\n",
              "          if (!dataTable) return;\n",
              "\n",
              "          const docLinkHtml = 'Like what you see? Visit the ' +\n",
              "            '<a target=\"_blank\" href=https://colab.research.google.com/notebooks/data_table.ipynb>data table notebook</a>'\n",
              "            + ' to learn more about interactive tables.';\n",
              "          element.innerHTML = '';\n",
              "          dataTable['output_type'] = 'display_data';\n",
              "          await google.colab.output.renderOutput(dataTable, element);\n",
              "          const docLink = document.createElement('div');\n",
              "          docLink.innerHTML = docLinkHtml;\n",
              "          element.appendChild(docLink);\n",
              "        }\n",
              "      </script>\n",
              "    </div>\n",
              "  </div>\n",
              "  "
            ],
            "text/plain": [
              "   Pclass  Sex  Embarked  SibSp  Name      Fare\n",
              "0       3    0         2      0     1  0.015282\n",
              "1       3    1         0      1     2  0.013663\n",
              "2       2    0         2      0     1  0.018909\n",
              "3       3    0         0      0     1  0.016908\n",
              "4       3    1         0      1     2  0.023984"
            ]
          },
          "metadata": {},
          "execution_count": 44
        }
      ]
    },
    {
      "cell_type": "code",
      "source": [
        "from sklearn import svm\n",
        "SVM_model = svm.SVC(kernel = 'poly', degree=4, random_state = 42,coef0=0.15)\n",
        "SVM_model.fit(X_train, y_train) "
      ],
      "metadata": {
        "id": "y0hue60EbDTv",
        "colab": {
          "base_uri": "https://localhost:8080/"
        },
        "outputId": "7767e844-4d15-4ab4-f7a5-36e0898f86ac"
      },
      "execution_count": 45,
      "outputs": [
        {
          "output_type": "execute_result",
          "data": {
            "text/plain": [
              "SVC(coef0=0.15, degree=4, kernel='poly', random_state=42)"
            ]
          },
          "metadata": {},
          "execution_count": 45
        }
      ]
    },
    {
      "cell_type": "code",
      "source": [
        "yhat = SVM_model.predict(X_test)"
      ],
      "metadata": {
        "id": "ngISuebIbFWR"
      },
      "execution_count": 46,
      "outputs": []
    },
    {
      "cell_type": "code",
      "source": [
        "SVM_yhat = SVM_model.predict(X_test)\n",
        "print(\"SVM F1-score: %.2f\" % f1_score(y_test, yhat, average='weighted') )"
      ],
      "metadata": {
        "id": "pZBWi3eDbJLa",
        "colab": {
          "base_uri": "https://localhost:8080/"
        },
        "outputId": "66d419be-b30b-4851-8c8c-09884b29b235"
      },
      "execution_count": 47,
      "outputs": [
        {
          "output_type": "stream",
          "name": "stdout",
          "text": [
            "SVM F1-score: 0.80\n"
          ]
        }
      ]
    },
    {
      "cell_type": "code",
      "source": [
        "from sklearn.metrics import confusion_matrix\n",
        "print(confusion_matrix(yhat, y_test))"
      ],
      "metadata": {
        "id": "HXJL785mOVed",
        "colab": {
          "base_uri": "https://localhost:8080/"
        },
        "outputId": "1d93b524-cfd0-4271-fc12-f19c78e6332f"
      },
      "execution_count": 48,
      "outputs": [
        {
          "output_type": "stream",
          "name": "stdout",
          "text": [
            "[[43  7]\n",
            " [11 29]]\n"
          ]
        }
      ]
    },
    {
      "cell_type": "code",
      "source": [
        "yhat = SVM_model.predict(resp)"
      ],
      "metadata": {
        "id": "t3rU6mHJ0bpR"
      },
      "execution_count": 49,
      "outputs": []
    },
    {
      "cell_type": "code",
      "source": [
        "csv(yhat,y_resp[['PassengerId']], 'svm.csv')"
      ],
      "metadata": {
        "id": "uk8hGNKJdUl-",
        "colab": {
          "base_uri": "https://localhost:8080/"
        },
        "outputId": "c5bc8bcd-2a16-42fc-cb5d-02fc8186686d"
      },
      "execution_count": 50,
      "outputs": [
        {
          "output_type": "stream",
          "name": "stderr",
          "text": [
            "/usr/local/lib/python3.7/dist-packages/ipykernel_launcher.py:5: SettingWithCopyWarning: \n",
            "A value is trying to be set on a copy of a slice from a DataFrame.\n",
            "Try using .loc[row_indexer,col_indexer] = value instead\n",
            "\n",
            "See the caveats in the documentation: https://pandas.pydata.org/pandas-docs/stable/user_guide/indexing.html#returning-a-view-versus-a-copy\n",
            "  \"\"\"\n"
          ]
        }
      ]
    },
    {
      "cell_type": "markdown",
      "source": [
        "# Logistic Regression"
      ],
      "metadata": {
        "id": "VAC4RFN7bZJ9"
      }
    },
    {
      "cell_type": "code",
      "source": [
        "from sklearn.linear_model import LogisticRegression\n",
        "from sklearn.metrics import log_loss\n",
        "LR_model = LogisticRegression().fit(X_train,y_train)\n",
        "LR_model"
      ],
      "metadata": {
        "id": "yPaIPMtMbd6L",
        "colab": {
          "base_uri": "https://localhost:8080/"
        },
        "outputId": "61952880-1a3b-4e02-8441-5e1cee9b309e"
      },
      "execution_count": 51,
      "outputs": [
        {
          "output_type": "execute_result",
          "data": {
            "text/plain": [
              "LogisticRegression()"
            ]
          },
          "metadata": {},
          "execution_count": 51
        }
      ]
    },
    {
      "cell_type": "code",
      "source": [
        "yhat = LR_model.predict(X_test)"
      ],
      "metadata": {
        "id": "kYoWmq8Wbfqg"
      },
      "execution_count": 52,
      "outputs": []
    },
    {
      "cell_type": "code",
      "source": [
        "LR_yhat_prob = LR_model.predict_proba(X_test)\n",
        "print(\"LR F1-score: %.2f\" % f1_score(y_test, yhat, average='weighted') )\n",
        "print(\"LR LogLoss: %.2f\" % log_loss(y_test, LR_yhat_prob))"
      ],
      "metadata": {
        "id": "O0c6iz-6bjbL",
        "colab": {
          "base_uri": "https://localhost:8080/"
        },
        "outputId": "7349a2c9-b397-440f-994f-9e64dfdfb5fa"
      },
      "execution_count": 53,
      "outputs": [
        {
          "output_type": "stream",
          "name": "stdout",
          "text": [
            "LR F1-score: 0.81\n",
            "LR LogLoss: 0.42\n"
          ]
        }
      ]
    },
    {
      "cell_type": "code",
      "source": [
        "from sklearn.metrics import confusion_matrix\n",
        "print(confusion_matrix(yhat, y_test))"
      ],
      "metadata": {
        "id": "KTbIXBztVHoY",
        "colab": {
          "base_uri": "https://localhost:8080/"
        },
        "outputId": "703b3c66-1fad-4447-87c3-e67840ad68dd"
      },
      "execution_count": 54,
      "outputs": [
        {
          "output_type": "stream",
          "name": "stdout",
          "text": [
            "[[45  8]\n",
            " [ 9 28]]\n"
          ]
        }
      ]
    },
    {
      "cell_type": "code",
      "source": [
        "yhat = LR_model.predict(resp)"
      ],
      "metadata": {
        "id": "AfHROB_Z0l2M"
      },
      "execution_count": 55,
      "outputs": []
    },
    {
      "cell_type": "code",
      "source": [
        "csv(yhat,y_resp[['PassengerId']], 'logist.csv')"
      ],
      "metadata": {
        "id": "5EF5hUjgdcIi",
        "colab": {
          "base_uri": "https://localhost:8080/"
        },
        "outputId": "7799bf49-1f33-48b9-ac43-8a71a725c98c"
      },
      "execution_count": 56,
      "outputs": [
        {
          "output_type": "stream",
          "name": "stderr",
          "text": [
            "/usr/local/lib/python3.7/dist-packages/ipykernel_launcher.py:5: SettingWithCopyWarning: \n",
            "A value is trying to be set on a copy of a slice from a DataFrame.\n",
            "Try using .loc[row_indexer,col_indexer] = value instead\n",
            "\n",
            "See the caveats in the documentation: https://pandas.pydata.org/pandas-docs/stable/user_guide/indexing.html#returning-a-view-versus-a-copy\n",
            "  \"\"\"\n"
          ]
        }
      ]
    },
    {
      "cell_type": "markdown",
      "source": [
        "Foram várias tentativas com as mesma labels com os algoritmos clássicos, próxima hipótese redes neurais"
      ],
      "metadata": {
        "id": "oquwekGn8JN6"
      }
    },
    {
      "cell_type": "markdown",
      "source": [
        "# Rede Neural"
      ],
      "metadata": {
        "id": "UmzODD1FMtHm"
      }
    },
    {
      "cell_type": "code",
      "source": [
        "from sklearn.neural_network import MLPClassifier"
      ],
      "metadata": {
        "id": "J0n-Ssm387AM"
      },
      "execution_count": 57,
      "outputs": []
    },
    {
      "cell_type": "code",
      "source": [
        "network = MLPClassifier(max_iter=1000,solver='adam', hidden_layer_sizes = (10,10), warm_start=True)\n",
        "network.fit(X_train, y_train)"
      ],
      "metadata": {
        "id": "uebyzUGO8WWO",
        "colab": {
          "base_uri": "https://localhost:8080/"
        },
        "outputId": "eabd253a-f40e-46ac-97f4-c45f59fbd67b"
      },
      "execution_count": 58,
      "outputs": [
        {
          "output_type": "execute_result",
          "data": {
            "text/plain": [
              "MLPClassifier(hidden_layer_sizes=(10, 10), max_iter=1000, warm_start=True)"
            ]
          },
          "metadata": {},
          "execution_count": 58
        }
      ]
    },
    {
      "cell_type": "code",
      "source": [
        "previsoes = network.predict(X_test)"
      ],
      "metadata": {
        "id": "vtyal9UZ-BxY"
      },
      "execution_count": 59,
      "outputs": []
    },
    {
      "cell_type": "code",
      "source": [
        "from sklearn.metrics import accuracy_score, classification_report\n",
        "accuracy_score(y_test, previsoes)"
      ],
      "metadata": {
        "id": "7tQn5o479NpS",
        "colab": {
          "base_uri": "https://localhost:8080/"
        },
        "outputId": "71d3fc92-1e4a-4c3d-aae5-8453e81c0837"
      },
      "execution_count": 60,
      "outputs": [
        {
          "output_type": "execute_result",
          "data": {
            "text/plain": [
              "0.8222222222222222"
            ]
          },
          "metadata": {},
          "execution_count": 60
        }
      ]
    },
    {
      "cell_type": "code",
      "source": [
        "from sklearn.metrics import confusion_matrix\n",
        "print(confusion_matrix(previsoes, y_test))"
      ],
      "metadata": {
        "id": "r2cGxnw-AKY_",
        "colab": {
          "base_uri": "https://localhost:8080/"
        },
        "outputId": "6cb9d88a-204a-4941-b663-9875ec18ce8d"
      },
      "execution_count": 61,
      "outputs": [
        {
          "output_type": "stream",
          "name": "stdout",
          "text": [
            "[[44  6]\n",
            " [10 30]]\n"
          ]
        }
      ]
    },
    {
      "cell_type": "code",
      "source": [
        "yhat = network.predict(resp)"
      ],
      "metadata": {
        "id": "Li5h3L3EAKY_"
      },
      "execution_count": 62,
      "outputs": []
    },
    {
      "cell_type": "code",
      "source": [
        "csv(yhat,y_resp[['PassengerId']], 'rnn.csv')"
      ],
      "metadata": {
        "id": "7uM-H4RpAKZA",
        "colab": {
          "base_uri": "https://localhost:8080/"
        },
        "outputId": "32fac270-1070-4464-f6a7-c134da8fdba2"
      },
      "execution_count": 63,
      "outputs": [
        {
          "output_type": "stream",
          "name": "stderr",
          "text": [
            "/usr/local/lib/python3.7/dist-packages/ipykernel_launcher.py:5: SettingWithCopyWarning: \n",
            "A value is trying to be set on a copy of a slice from a DataFrame.\n",
            "Try using .loc[row_indexer,col_indexer] = value instead\n",
            "\n",
            "See the caveats in the documentation: https://pandas.pydata.org/pandas-docs/stable/user_guide/indexing.html#returning-a-view-versus-a-copy\n",
            "  \"\"\"\n"
          ]
        }
      ]
    },
    {
      "cell_type": "markdown",
      "source": [
        "# Ramdom Florest"
      ],
      "metadata": {
        "id": "JasnCkPMMwMi"
      }
    },
    {
      "cell_type": "code",
      "source": [
        "from sklearn.ensemble import RandomForestClassifier"
      ],
      "metadata": {
        "id": "XV86q97pMyR9"
      },
      "execution_count": 64,
      "outputs": []
    },
    {
      "cell_type": "code",
      "source": [
        "clf = RandomForestClassifier(max_depth=10, random_state=42, min_samples_split = 2, min_samples_leaf = 2)"
      ],
      "metadata": {
        "id": "WcT9PxkVNFZ8"
      },
      "execution_count": 65,
      "outputs": []
    },
    {
      "cell_type": "code",
      "source": [
        "clf.fit(X_train,y_train)"
      ],
      "metadata": {
        "id": "Kw7nksDWNOKk",
        "colab": {
          "base_uri": "https://localhost:8080/"
        },
        "outputId": "b84fcc96-3b01-4c46-ad19-967908af82ce"
      },
      "execution_count": 66,
      "outputs": [
        {
          "output_type": "execute_result",
          "data": {
            "text/plain": [
              "RandomForestClassifier(max_depth=10, min_samples_leaf=2, random_state=42)"
            ]
          },
          "metadata": {},
          "execution_count": 66
        }
      ]
    },
    {
      "cell_type": "code",
      "source": [
        "previsoes = clf.predict(X_test)"
      ],
      "metadata": {
        "id": "vztmfJjsNSPN"
      },
      "execution_count": 67,
      "outputs": []
    },
    {
      "cell_type": "code",
      "source": [
        "clf.score(X_test,y_test)"
      ],
      "metadata": {
        "id": "KX63y98yN2Ur",
        "colab": {
          "base_uri": "https://localhost:8080/"
        },
        "outputId": "6e4a54e3-0e07-4311-9b5b-9d3d82d88680"
      },
      "execution_count": 68,
      "outputs": [
        {
          "output_type": "execute_result",
          "data": {
            "text/plain": [
              "0.8222222222222222"
            ]
          },
          "metadata": {},
          "execution_count": 68
        }
      ]
    },
    {
      "cell_type": "code",
      "source": [
        "from sklearn.metrics import confusion_matrix\n",
        "print(confusion_matrix(previsoes, y_test))"
      ],
      "metadata": {
        "id": "Z4eiTzBNOK9X",
        "colab": {
          "base_uri": "https://localhost:8080/"
        },
        "outputId": "6ab570b3-91a8-44fb-f8f1-19fd9767de00"
      },
      "execution_count": 69,
      "outputs": [
        {
          "output_type": "stream",
          "name": "stdout",
          "text": [
            "[[45  7]\n",
            " [ 9 29]]\n"
          ]
        }
      ]
    },
    {
      "cell_type": "code",
      "source": [
        "yhat = clf.predict(resp)"
      ],
      "metadata": {
        "id": "1JPHtzW3OToG"
      },
      "execution_count": 70,
      "outputs": []
    },
    {
      "cell_type": "code",
      "source": [
        "csv(yhat,y_resp[['PassengerId']], 'random_florest.csv')"
      ],
      "metadata": {
        "id": "cSOhJHzEOSJW",
        "colab": {
          "base_uri": "https://localhost:8080/"
        },
        "outputId": "95f68c08-a832-4ecf-c693-e68953143617"
      },
      "execution_count": 71,
      "outputs": [
        {
          "output_type": "stream",
          "name": "stderr",
          "text": [
            "/usr/local/lib/python3.7/dist-packages/ipykernel_launcher.py:5: SettingWithCopyWarning: \n",
            "A value is trying to be set on a copy of a slice from a DataFrame.\n",
            "Try using .loc[row_indexer,col_indexer] = value instead\n",
            "\n",
            "See the caveats in the documentation: https://pandas.pydata.org/pandas-docs/stable/user_guide/indexing.html#returning-a-view-versus-a-copy\n",
            "  \"\"\"\n"
          ]
        }
      ]
    }
  ]
}